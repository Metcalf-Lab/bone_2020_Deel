{
 "cells": [
  {
   "cell_type": "markdown",
   "metadata": {},
   "source": [
    "## Description"
   ]
  },
  {
   "cell_type": "markdown",
   "metadata": {},
   "source": [
    "Bone models of 16S rRNA data at all levels, using the ml_new environment, rarefied data and no normalization during import, n = 1000 estimators, k fold = 6 (for regular, non-nested cross-validation), and hyperparameter tuning. Incorporates metadata features season, accumulated humidity, and accumulated precipitation in all combinations. "
   ]
  },
  {
   "cell_type": "code",
   "execution_count": 1,
   "metadata": {},
   "outputs": [
    {
     "name": "stderr",
     "output_type": "stream",
     "text": [
      "/Users/heatherdeel/miniconda3/envs/ml_new/lib/python3.7/site-packages/sklearn/externals/joblib/__init__.py:15: FutureWarning: sklearn.externals.joblib is deprecated in 0.21 and will be removed in 0.23. Please import this functionality directly from joblib, which can be installed with: pip install joblib. If this warning is raised when loading pickled models, you may need to re-serialize those models with scikit-learn 0.21+.\n",
      "  warnings.warn(msg, category=FutureWarning)\n"
     ]
    }
   ],
   "source": [
    "from sklearn.ensemble import RandomForestRegressor\n",
    "from sklearn import preprocessing, svm, metrics\n",
    "from sklearn.ensemble import RandomForestClassifier, ExtraTreesClassifier\n",
    "from sklearn.model_selection import StratifiedKFold, KFold, GridSearchCV, GroupKFold, cross_val_score, train_test_split\n",
    "from sklearn.pipeline import Pipeline\n",
    "from sklearn.svm import LinearSVC, SVR\n",
    "from sklearn.metrics import r2_score, mean_squared_error, mean_absolute_error, mean_absolute_error, roc_auc_score, precision_score, make_scorer\n",
    "from sklearn.linear_model import LassoCV, Lasso, LassoLarsIC, ElasticNet, LassoLarsCV\n",
    "from sklearn.externals import joblib\n",
    "from scipy.stats import randint as sp_randint\n",
    "from matplotlib import pyplot as plt\n",
    "from sklearn.feature_selection import RFECV\n",
    "from sklearn.gaussian_process import GaussianProcessClassifier\n",
    "from sklearn.gaussian_process.kernels import RBF\n",
    "from sklearn.neighbors import KNeighborsClassifier, RadiusNeighborsClassifier"
   ]
  },
  {
   "cell_type": "code",
   "execution_count": 2,
   "metadata": {},
   "outputs": [
    {
     "name": "stderr",
     "output_type": "stream",
     "text": [
      "/Users/heatherdeel/miniconda3/envs/ml_new/lib/python3.7/site-packages/skbio/util/_testing.py:15: FutureWarning: pandas.util.testing is deprecated. Use the functions in the public API at pandas.testing instead.\n",
      "  import pandas.util.testing as pdt\n"
     ]
    }
   ],
   "source": [
    "import pandas as pd\n",
    "import numpy as np\n",
    "import matplotlib\n",
    "import seaborn as sns\n",
    "%matplotlib inline\n",
    "import biom\n",
    "import calour as ca\n",
    "from scipy import stats\n",
    "import scipy\n",
    "import pickle\n",
    "import time\n",
    "import math\n",
    "import inspect\n",
    "pd.set_option('display.max_rows', 10000)"
   ]
  },
  {
   "cell_type": "markdown",
   "metadata": {},
   "source": [
    "## Import rarefied data"
   ]
  },
  {
   "cell_type": "code",
   "execution_count": 3,
   "metadata": {},
   "outputs": [
    {
     "name": "stdout",
     "output_type": "stream",
     "text": [
      "2020-06-26 11:04:56 WARNING These have metadata but do not have data - dropped (51): {'11553.BLANKrib.10B', '11553.BLANKrib.9D', '11553.CSU.extraction.blank7', '11553.BLANKrib.12F', '11553.CSU.extraction.blank6', '11553.CSU.extraction.blank4', '11553.CSU.extraction.blank10', '11553.BLANKrib.12G', '11553.BLANKrib.10A', '11553.CSU.extraction.blank15', '11553.BLANKrib.10H', '11553.BLANKrib.12D', '11553.SHSU.STAFS2016.011.L09', '11553.BLANKrib.12E', '11553.BLANKrib.9G', '11553.BLANKrib.12A', '11553.CSU.extraction.blank12', '11553.BLANKrib.9C', '11553.BLANKrib.9B', '11553.CSU.extraction.blank2', '11553.BLANKrib.9F', '11553.BLANKrib.11C', '11553.CSU.extraction.blank8', '11553.BLANKrib.10G', '11553.SHSU.STAFS2016.007.R11', '11553.CSU.extraction.blank1', '11553.BLANKrib.9H', '11553.CSU.extraction.blank13', '11553.BLANKrib.11F', '11553.BLANKrib.11G', '11553.BLANKrib.11D', '11553.BLANKrib.12C', '11553.BLANKrib.10D', '11553.BLANKrib.11A', '11553.CSU.extraction.blank9', '11553.BLANKrib.10C', '11553.BLANKrib.11H', '11553.BLANKrib.12H', '11553.BLANKrib.5B', '11553.BLANKrib.12B', '11553.CSU.extraction.blank5', '11553.BLANKrib.11E', '11553.STAFS.2016.064.L12', '11553.BLANKrib.9A', '11553.BLANKrib.10F', '11553.CSU.extraction.blank11', '11553.CSU.extraction.blank14', '11553.CSU.extraction.blank3', '11553.BLANKrib.11B', '11553.BLANKrib.9E', '11553.BLANKrib.10E'}\n"
     ]
    }
   ],
   "source": [
    "exp_ASV = ca.read_amplicon('../01_qiime2_analysis/feature_tables/exported-feature-tables/frag_ins_filtered_noChloMito_17098_table.biom', '../02_metadata/maps/map3.txt', min_reads=0, normalize = None)\n"
   ]
  },
  {
   "cell_type": "code",
   "execution_count": 4,
   "metadata": {},
   "outputs": [
    {
     "data": {
      "text/plain": [
       "STAFS2016.065    8\n",
       "STAFS2016.067    8\n",
       "STAFS2016.011    8\n",
       "STAFS2016.024    7\n",
       "STAFS2016.064    7\n",
       "STAFS2016.007    7\n",
       "Name: host_subject_id, dtype: int64"
      ]
     },
     "execution_count": 4,
     "metadata": {},
     "output_type": "execute_result"
    }
   ],
   "source": [
    "exp_ASV.sample_metadata['host_subject_id'].value_counts()"
   ]
  },
  {
   "cell_type": "code",
   "execution_count": 5,
   "metadata": {},
   "outputs": [
    {
     "data": {
      "text/plain": [
       "#SampleID\n",
       "11553.SHSU.STAFS2016.024.R09      708.0555556\n",
       "11553.STAFS.2016.065.L12          2268.055556\n",
       "11553.STAFS.2016.067.R12          2414.444444\n",
       "11553.SHSU.STAFS2016.007.L09      1911.111111\n",
       "11553.SHSU.STAFS2016.011.L08      1301.666667\n",
       "11553.STAFS.2016.065.R11          4756.388889\n",
       "11553.STAFS.2016.065.R09          3456.111111\n",
       "11553.SHSU.STAFS2016.024.L12      4285.833333\n",
       "11553.SHSU.STAFS2016.007.L11      2584.444444\n",
       "11553.SHSU.STAFS2016.011.L10      3777.222222\n",
       "11553.STAFS.2016.064.R10          3456.111111\n",
       "11553.SHSU.STAFS2016.024.R11      2584.444444\n",
       "11553.STAFS.2016.067.L11.june     5201.388889\n",
       "11553.SHSU.STAFS2016.007.R12      1301.666667\n",
       "11553.STAFS.2016.065.R10          2804.722222\n",
       "11553.STAFS.2016.064.R09          592.7777778\n",
       "11553.STAFS.2016.067.L10          3623.055556\n",
       "11553.SHSU.STAFS2016.011.R12      708.0555556\n",
       "11553.STAFS.2016.064.R11          1300.555556\n",
       "11553.SHSU.STAFS2016.011.L11      4285.833333\n",
       "11553.SHSU.STAFS2016.007.L10      4821.388889\n",
       "11553.STAFS.2016.065.R08          4013.333333\n",
       "11553.SHSU.STAFS2016.007.R10      708.0555556\n",
       "11553.STAFS.2016.064.R12          2035.277778\n",
       "11553.SHSU.STAFS2016.011.L12      3305.555556\n",
       "11553.SHSU.STAFS2016.024.L10      3305.555556\n",
       "11553.STAFS.2016.064.L11          2804.722222\n",
       "11553.STAFS.2016.064.L09          4013.333333\n",
       "11553.STAFS.2016.067.L11.march    3065.833333\n",
       "11553.STAFS.2016.067.R10                 1645\n",
       "11553.STAFS.2016.065.L10          1300.555556\n",
       "11553.SHSU.STAFS2016.011.R09      1911.111111\n",
       "11553.STAFS.2016.064.L10          4756.388889\n",
       "11553.STAFS.2016.067.R09          1877.777778\n",
       "11553.SHSU.STAFS2016.024.L11      4821.388889\n",
       "11553.SHSU.STAFS2016.007.L12      3305.555556\n",
       "11553.STAFS.2016.065.L09                877.5\n",
       "11553.SHSU.STAFS2016.024.R12      1911.111111\n",
       "11553.SHSU.STAFS2016.011.R10      2584.444444\n",
       "11553.STAFS.2016.067.L12          4366.111111\n",
       "11553.SHSU.STAFS2016.011.R08      1301.666667\n",
       "11553.SHSU.STAFS2016.007.R09      3777.222222\n",
       "11553.STAFS.2016.065.L11          2035.277778\n",
       "11553.SHSU.STAFS2016.024.L09      3777.222222\n",
       "11553.STAFS.2016.067.R11          1151.666667\n",
       "Name: ADD_0, dtype: object"
      ]
     },
     "execution_count": 5,
     "metadata": {},
     "output_type": "execute_result"
    }
   ],
   "source": [
    "exp_ASV.sample_metadata['ADD_0']"
   ]
  },
  {
   "cell_type": "markdown",
   "metadata": {},
   "source": [
    "## Running the ASV no metadata model"
   ]
  },
  {
   "cell_type": "markdown",
   "metadata": {},
   "source": [
    "Testing the param grid to expand hyperparameter tuning - which parameters give the best model?"
   ]
  },
  {
   "cell_type": "code",
   "execution_count": 6,
   "metadata": {},
   "outputs": [],
   "source": [
    "# groupKfold = 6, will leave out one body for each model\n",
    "gkf = GroupKFold(6)\n",
    "\n",
    "X = exp_ASV.data\n",
    "y = exp_ASV.sample_metadata['ADD_0']\n",
    "y = (y.astype(float))\n",
    "\n",
    "groups = exp_ASV.sample_metadata['host_subject_id']\n",
    "\n",
    "# used to test the param grid for parameter tuning\n",
    "# use the output of this estimator below for input into new estimator (not commented out)\n",
    "param_grid = {\"max_depth\": [4, 8, 16, None],\n",
    "              \"max_features\": ['sqrt', 'log2', 0.1],\n",
    "              \"min_samples_split\": [0.001, 0.01, 0.1],\n",
    "              \"min_weight_fraction_leaf\": [0.0001, 0.001, 0.01],\n",
    "              \"bootstrap\": [True, False]}\n",
    "\n",
    "#param_grid = {\"max_depth\": [8],\n",
    "#          \"max_features\": [0.1],\n",
    "#          \"min_samples_split\": [0.001],\n",
    "#          \"min_weight_fraction_leaf\": [0.0001],\n",
    "#          \"bootstrap\": [False]}\n",
    "\n",
    "rf = RandomForestRegressor(n_estimators=1000, random_state=999, criterion='mae')\n",
    "gs = GridSearchCV(rf, param_grid=param_grid, cv=gkf.split(X, y, groups), scoring='neg_mean_absolute_error', n_jobs=1)"
   ]
  },
  {
   "cell_type": "code",
   "execution_count": null,
   "metadata": {},
   "outputs": [],
   "source": [
    "gs.fit(X, y)"
   ]
  },
  {
   "cell_type": "code",
   "execution_count": 12,
   "metadata": {},
   "outputs": [
    {
     "name": "stdout",
     "output_type": "stream",
     "text": [
      "{'bootstrap': False, 'max_depth': 16, 'max_features': 0.1, 'min_samples_split': 0.001, 'min_weight_fraction_leaf': 0.0001}\n"
     ]
    }
   ],
   "source": [
    "# this line is used when run with the first param grid to determine what the best parameters are for tuning\n",
    "print(gs.best_params_)"
   ]
  },
  {
   "cell_type": "code",
   "execution_count": 13,
   "metadata": {},
   "outputs": [
    {
     "name": "stdout",
     "output_type": "stream",
     "text": [
      "The best mean absolute error is 804.88\n"
     ]
    }
   ],
   "source": [
    "print('The best mean absolute error is', round(-gs.best_score_,2))"
   ]
  },
  {
   "cell_type": "code",
   "execution_count": 14,
   "metadata": {},
   "outputs": [
    {
     "data": {
      "text/plain": [
       "['models/bone_ASV_no_metadata.pkl']"
      ]
     },
     "execution_count": 14,
     "metadata": {},
     "output_type": "execute_result"
    }
   ],
   "source": [
    "joblib.dump(gs.best_estimator_, 'models/bone_ASV_no_metadata.pkl')"
   ]
  },
  {
   "cell_type": "code",
   "execution_count": 4,
   "metadata": {},
   "outputs": [
    {
     "data": {
      "text/plain": [
       "RandomForestRegressor(bootstrap=False, ccp_alpha=0.0, criterion='mae',\n",
       "                      max_depth=16, max_features=0.1, max_leaf_nodes=None,\n",
       "                      max_samples=None, min_impurity_decrease=0.0,\n",
       "                      min_impurity_split=None, min_samples_leaf=1,\n",
       "                      min_samples_split=0.001, min_weight_fraction_leaf=0.0001,\n",
       "                      n_estimators=1000, n_jobs=None, oob_score=False,\n",
       "                      random_state=999, verbose=0, warm_start=False)"
      ]
     },
     "execution_count": 4,
     "metadata": {},
     "output_type": "execute_result"
    }
   ],
   "source": [
    "bone_ASV = joblib.load('models/bone_ASV_no_metadata.pkl')\n",
    "bone_ASV"
   ]
  },
  {
   "cell_type": "markdown",
   "metadata": {},
   "source": [
    "## Determine important features of ASV no metadata model"
   ]
  },
  {
   "cell_type": "code",
   "execution_count": 26,
   "metadata": {},
   "outputs": [
    {
     "name": "stdout",
     "output_type": "stream",
     "text": [
      "Feature:\t\t\t\tImportance:\n",
      "1. TACGAAGGGGGCTAGCGTTGTTCGGAATTACTGGGCGTAAAGCGCACGTAGGCGGATTGGTCAGTTAGGGGTGAAATCCCAGGGCTCAACCCTGGAACTGCCTTTAATACTGCCGGTCTAGAGTTCGAGAGAGGTGAGTGGAATTCCGAG\t0.04195649140072618\n",
      "2. TACGAAGGGGGCTAGCGTTGTTCGGAATTACTGGGCGTAAAGCGCACGTAGGCGGATCGATCAGTTAGGGGTGAAATCCCAGGGCTCAACCCTGGAACTGCCTCTAATACTGTCGATCTCGAGTTCGAGAGAGGTGAGTGGAATTCCGAG\t0.03894779833031093\n",
      "3. TACGTAGGGGGCGAGCGTTGTCCGGAATTATTGGGCGTAAAGGGTACGTAGGCGGTTTAGAAAGTCAGATGTTAAAGCGTGAGGCTCAACCTCATAAAGCATTTGAAACTTCTAGACTTGAGTAGTGGAGAGGAAAGTGGAATTCCTAGT\t0.03468390673507264\n",
      "4. TACGAAGGGGGCTAGCGTTGTTCGGAATTACTGGGCGTAAAGCGCACGTAGGCGGATCGATCAGTTAGGGGTGAAATCCCGGGGCTCAACCCCGGAACTGCCTCTAATACTGTCGATCTCGAGTTCGAGAGAGGTGAGTGGAATTCCGAG\t0.031517240074916145\n",
      "5. TACGAAGGGGGCTAGCGTTGTTCGGAATTACTGGGCGTAAAGCGCACGTAGGCGGATATTTAAGTCAGGGGTGAAATCCCGGGGCTCAACCCCGGAACTGCCTTTGATACTGGGTATCTGGAGTATGGAAGAGGTAAGTGGAATTCCGAG\t0.029463431785990393\n",
      "6. TACGTAGGGTGCAAGCGTTAATCGGAATTACTGGGCGTAAAGCGTGCGCAGGCGGTCATGCAAGACAGATGTGAAATCCCCGGGCTCAACCTGGGAACTGCATTTGTGACTGCATGGCTGGAGTGCGGCAGAGGGGGATGGAATTCCGCG\t0.022775911506917563\n",
      "7. TACGAAGGGGGCTAGCGTTGCTCGGAATCACTGGGCGTAAAGCGCACGTAGGCGGACTCTTAAGTCGGTGGTGAAATCCTGGAGCTCAACTCCAGAACTGCCTTCGATACTGGGAGTCTCGAGTTCGGGAGAGGTGAGTGGAACTGCGAG\t0.02208244076645401\n",
      "8. TACGTAGGGTGCGAGCGTTGTCCGGAATTACTGGGCGTAAAGAGCTCGTAGGTGGTTTGTCGCGTCGTCTGTGAAATTCCGGGGCTTAACTCCGGGCGTGCAGGCGATACGGGCAAACTGGAGTGCTGTAGGGGAGACTGGAATTCCTGG\t0.01739640268060431\n",
      "9. TACGAAGGGGGCTAGCGTTGTTCGGATTTACTGGGCGTAAAGCGCACGTAGGCGGATTGGTCAGTTAGGGGTGAAATCCCAGAGCTCAACTCTGGAACTGCCCTTAATACTGCCAGTCTAGAGTCCGGAAGAGGTGAGTGGAACTCCTAG\t0.01714294601414941\n",
      "10. TACGAAGGGGGCTAGCGTTGCTCGGAATCACTGGGCGTAAAGGGCGCGTAGGCGGACTTTTAAGTCGGAGGTGAAAGCCCAGGGCTCAACCCTGGAATTGCCTTCGATACTGGGAGTCTTGAGTTCGGAAGAGGTTGGTGGAACTGCGAG\t0.016175208264721633\n",
      "11. TACGAAGGGGGCTAGCGTTGCTCGGAATTACTGGGCGTAAAGGGCGCGTAGGCGGATCGTTAAGTCAGAGGTGAAATCCCAGGGCTCAACCCTGGAACTGCCTTTGATACTGGCGATCTTGAGTATGAGAGAGGTATGTGGAACTCCGAG\t0.016026419997469694\n",
      "12. TACGGAGGGTGCAAGCGTTAATCGGAATTACTGGGCGTAAAGGGCGCGTAGGTGGTATCTTAAGTTGGGTGTGAAATCCCCGGGCTCAACCTGGGAATTGCATCCAAAACTGGGGTGCTAGAGTGTGGTAGAGGGTAGCGGAATTTCTGG\t0.01561362111814596\n",
      "13. TACGTAGGTGGCAAGCGTTGTCCGGAATTATTGGGCGTAAAGCGCGCGCAGGCGGCCTTTTAAGTCTGATGTGAAAGCCCACGGCTTAACCGTGGAGGTGCATTGGAAACTGGAAGGCTTGAGGATATAAGAGGAAAGCGGAATTCCACG\t0.01373709834528757\n",
      "14. TACGTAGGTGGCAAGCGTTGTCCGGAATTATTGGGCGTAAAGCGCACGCAGGCGGCCTTTTAAGTCTGATGTGAAATCCCACGGCTTAACCGTGGAAGGTCATTGGAAACTGGAAGGCTTGAGGATAGAAGAGGAAAGTGGAATTCCACG\t0.013666704533852644\n",
      "15. TACGTAGGGTGCAAGCGTTAATCGGAATTACTGGGCGTAAAGCGTGCGCAGGCGGTTTTGTAAGACAGTGGTGAAATCCCCGGGCTCAACCTGGGAACTGCCATTGTGACTGCAAGGCTAGAGTGCGGCAGAGGGGGATGGAATTCCGCG\t0.012137071300088731\n",
      "16. TACGTAGGTGGCAAGCGTTATCCGGAATTATTGGGCGTAAAGGGAGCGTAGGCGGTCATGCAAGTCTATGGTAAAAGTTCGGGGCTTAACCCCGTCCGGCCATAGAAACTGTATGACTTGAGTACAGGAGAGGTTAGCGGAATTCCATGT\t0.009255079521021677\n",
      "17. TACGAAGGGGGCTAGCGTTGTTCGGATTTACTGGGCGTAAAGCGCACGTAGGCGGTTTGTTAAGTCAGGGGTGAAATCCCGGAGCTCAACTCCGGAACTGCCCTTGATACTGGCAAGCTAGAGTCCGGAAGAGGTGAGTGGAACTCCTAG\t0.00873599480570036\n",
      "18. TACGTAGGTGGCAAGCGTTGTCCGGAATTATTGGGCGTAAAGCGCACGCAGGCGGCCTTCTAAGTCTGATGTGAAATCCCACGGCTTAACCGTGGAAGGTCATTGGAAACTGGAAGGCTTGAGGATAGAAGAGGAAAGTGGAATTCCACG\t0.008339797687347291\n",
      "19. TACGTAGGTGGCAAGCGTTGTCCGGAATTATTGGGCGTAAAGCGCGCGCAGGCGGTCCTTTAAGTCTGATGTGAAAGCCCACGGCTCAACCGTGGAAGGTCATTGGAAACTGGAGGACTTGAGTATAAGAGAGGAAAGTGGAATTCCACG\t0.007881174944539257\n",
      "20. TACGTAGGGTGCAAGCGTTAATCGGAATTACTGGGCGTAAAGCGTGCGCAGGCGGTTCGGAAAGAAGGATGTGAAATCCCAGGGCTCAACCTTGGAACTGCATTCTTAACTACCGGGCTAGAGTGTGTCAGAGGGAGGTGGAATTCCGCG\t0.00786659634345576\n",
      "21. TACGTAGGTGGCAAGCGTTGTCCGGATTTATTGGGCGTAAAGCGAGCGCAGGCGGTTCCTTAAGTCTGATGTGAAAGCCCCCGGCTCAACCGGGGAAGGTCATTGGAAACTGGGGAACTTGAGTGCAGAAGAGGAGAGTGGAATTCCATG\t0.0069691333975018446\n",
      "22. TACGGAGGATCCGAGCGTTATCCGGATTTATTGGGTTTAAAGGGTGCGTAGGCGGCTTATTAAGTCAGGGGTGAAAGACGGTGGCTCAACCATCGCAGTGCCTTTGATACTGATGAGCTTGAATGGACTAGAGGTAGGCGGAATGTGACA\t0.006544709511879576\n",
      "23. TACGGAGGATCCAAGCGTTATCCGGAATCATTGGGTTTAAAGGGTCCGTAGGCGGCCTTATAAGTCAGTGGTGAAAGTTTTTGGCTTAACCAAAAAATTGCCATTGATACTGTAGGGCTTGAATGTCTGTGAAGTAACTAGAATATGTAG\t0.00605206101950799\n",
      "24. TACGTATGGGGCAAGCGTTGTCCGGAATTATTGGGCGTAAAGGGTACGTAGGCGGTTTATCAAGTCTATATTAAAAGGCAATGGCTTAACCATTGTATGGTATAGAAACTGGTAAACTTGAGTAGATGAGGGGAAAGTGGAATTCCTAGT\t0.005796835443534015\n",
      "25. TACGTAGGGCGCAAGCGTTGTCCGGAATTATTGGGCGTAAAGAGCTCGTAGGCGGTTTGTCGCGTCTGGTGTGAAAACTCGAGGCTCAACCTCGAGCTTGCATCGGGTACGGGCAGACTAGAGTGCGGTAGGGGAGACTGGAATTCCTGG\t0.005578686574946533\n"
     ]
    }
   ],
   "source": [
    "importances = bone_ASV.feature_importances_\n",
    "std = np.std([tree.feature_importances_ for tree in bone_ASV.estimators_],\n",
    "             axis=0)\n",
    "indices = np.argsort(importances)[::-1]\n",
    "\n",
    "feature_metadata = exp_ASV.feature_metadata\n",
    "np.savetxt(\"importances/bone_ASV_no_metadata_features.csv\", feature_metadata, delimiter=\",\", fmt='%s')\n",
    "\n",
    "\n",
    "#print the important ids in order\n",
    "general_importances = []\n",
    "count = 0\n",
    "print(\"Feature:\\t\\t\\t\\tImportance:\")\n",
    "for i in indices:\n",
    "    general_importances += (exp_ASV.feature_metadata.index.values[i], importances[indices[count]])\n",
    "    if count < 25:\n",
    "        print(str(count+1)+\". \"+str(exp_ASV.feature_metadata.index.values[i])+\"\\t\"+str(importances[indices[count]]))\n",
    "    count += 1\n",
    "    \n",
    "general_importances_df = pd.DataFrame(np.array(general_importances).reshape(10870,1))\n",
    "\n",
    "np.savetxt(\"importances/bone_ASV_no_features_importances.csv\", general_importances_df, delimiter=\",\", fmt='%s')"
   ]
  },
  {
   "cell_type": "markdown",
   "metadata": {},
   "source": [
    "## Run the ASV model with season"
   ]
  },
  {
   "cell_type": "code",
   "execution_count": 6,
   "metadata": {},
   "outputs": [],
   "source": [
    "exp_ASV_season = exp_ASV.add_sample_metadata_as_features(['season'])"
   ]
  },
  {
   "cell_type": "code",
   "execution_count": 18,
   "metadata": {},
   "outputs": [],
   "source": [
    "# groupKfold = 6, will leave out one body for each model\n",
    "gkf = GroupKFold(6)\n",
    "\n",
    "X = exp_ASV_season.data\n",
    "y = exp_ASV_season.sample_metadata['ADD_0']\n",
    "y = (y.astype(float))\n",
    "\n",
    "groups = exp_ASV_season.sample_metadata['host_subject_id']\n",
    "\n",
    "# used to test the param grid for parameter tuning\n",
    "# use the output of this estimator below for input into new estimator (not commented out)\n",
    "param_grid = {\"max_depth\": [4, 8, 16, None],\n",
    "              \"max_features\": ['sqrt', 'log2', 0.1],\n",
    "              \"min_samples_split\": [0.001, 0.01, 0.1],\n",
    "              \"min_weight_fraction_leaf\": [0.0001, 0.001, 0.01],\n",
    "              \"bootstrap\": [True, False]}\n",
    "\n",
    "#param_grid = {\"max_depth\": [8],\n",
    "#          \"max_features\": [0.1],\n",
    "#          \"min_samples_split\": [0.001],\n",
    "#          \"min_weight_fraction_leaf\": [0.0001],\n",
    "#          \"bootstrap\": [False]}\n",
    "\n",
    "rf = RandomForestRegressor(n_estimators=1000, random_state=999, criterion='mae')\n",
    "gs = GridSearchCV(rf, param_grid=param_grid, cv=gkf.split(X, y, groups), scoring='neg_mean_absolute_error', n_jobs=1)"
   ]
  },
  {
   "cell_type": "code",
   "execution_count": 19,
   "metadata": {},
   "outputs": [
    {
     "data": {
      "text/plain": [
       "GridSearchCV(cv=<generator object _BaseKFold.split at 0x11151aed0>,\n",
       "             error_score=nan,\n",
       "             estimator=RandomForestRegressor(bootstrap=True, ccp_alpha=0.0,\n",
       "                                             criterion='mae', max_depth=None,\n",
       "                                             max_features='auto',\n",
       "                                             max_leaf_nodes=None,\n",
       "                                             max_samples=None,\n",
       "                                             min_impurity_decrease=0.0,\n",
       "                                             min_impurity_split=None,\n",
       "                                             min_samples_leaf=1,\n",
       "                                             min_samples_split=2,\n",
       "                                             min_weight_fraction_leaf=0.0,\n",
       "                                             n_es...\n",
       "                                             oob_score=False, random_state=999,\n",
       "                                             verbose=0, warm_start=False),\n",
       "             iid='deprecated', n_jobs=1,\n",
       "             param_grid={'bootstrap': [True, False],\n",
       "                         'max_depth': [4, 8, 16, None],\n",
       "                         'max_features': ['sqrt', 'log2', 0.1],\n",
       "                         'min_samples_split': [0.001, 0.01, 0.1],\n",
       "                         'min_weight_fraction_leaf': [0.0001, 0.001, 0.01]},\n",
       "             pre_dispatch='2*n_jobs', refit=True, return_train_score=False,\n",
       "             scoring='neg_mean_absolute_error', verbose=0)"
      ]
     },
     "execution_count": 19,
     "metadata": {},
     "output_type": "execute_result"
    }
   ],
   "source": [
    "gs.fit(X, y)"
   ]
  },
  {
   "cell_type": "code",
   "execution_count": 20,
   "metadata": {},
   "outputs": [
    {
     "name": "stdout",
     "output_type": "stream",
     "text": [
      "{'bootstrap': False, 'max_depth': 8, 'max_features': 0.1, 'min_samples_split': 0.001, 'min_weight_fraction_leaf': 0.0001}\n"
     ]
    }
   ],
   "source": [
    "# this line is used when run with the first param grid to determine what the best parameters are for tuning\n",
    "print(gs.best_params_)"
   ]
  },
  {
   "cell_type": "code",
   "execution_count": 21,
   "metadata": {},
   "outputs": [
    {
     "name": "stdout",
     "output_type": "stream",
     "text": [
      "The best mean absolute error is 804.3\n"
     ]
    }
   ],
   "source": [
    "print('The best mean absolute error is', round(-gs.best_score_,2))"
   ]
  },
  {
   "cell_type": "code",
   "execution_count": 22,
   "metadata": {},
   "outputs": [
    {
     "data": {
      "text/plain": [
       "['models/bone_ASV_season.pkl']"
      ]
     },
     "execution_count": 22,
     "metadata": {},
     "output_type": "execute_result"
    }
   ],
   "source": [
    "joblib.dump(gs.best_estimator_, 'models/bone_ASV_season.pkl')"
   ]
  },
  {
   "cell_type": "code",
   "execution_count": 5,
   "metadata": {},
   "outputs": [
    {
     "data": {
      "text/plain": [
       "RandomForestRegressor(bootstrap=False, ccp_alpha=0.0, criterion='mae',\n",
       "                      max_depth=8, max_features=0.1, max_leaf_nodes=None,\n",
       "                      max_samples=None, min_impurity_decrease=0.0,\n",
       "                      min_impurity_split=None, min_samples_leaf=1,\n",
       "                      min_samples_split=0.001, min_weight_fraction_leaf=0.0001,\n",
       "                      n_estimators=1000, n_jobs=None, oob_score=False,\n",
       "                      random_state=999, verbose=0, warm_start=False)"
      ]
     },
     "execution_count": 5,
     "metadata": {},
     "output_type": "execute_result"
    }
   ],
   "source": [
    "bone_ASV_season = joblib.load('models/bone_ASV_season.pkl')\n",
    "bone_ASV_season"
   ]
  },
  {
   "cell_type": "markdown",
   "metadata": {},
   "source": [
    "## Determine important features for ASV season model"
   ]
  },
  {
   "cell_type": "code",
   "execution_count": 11,
   "metadata": {},
   "outputs": [
    {
     "name": "stdout",
     "output_type": "stream",
     "text": [
      "Feature:\t\t\t\tImportance:\n",
      "1. TACGTAGGGGGCGAGCGTTGTCCGGAATTATTGGGCGTAAAGGGTACGTAGGCGGTTTAGAAAGTCAGATGTTAAAGCGTGAGGCTCAACCTCATAAAGCATTTGAAACTTCTAGACTTGAGTAGTGGAGAGGAAAGTGGAATTCCTAGT\t0.037859251293875816\n",
      "2. TACGAAGGGGGCTAGCGTTGTTCGGAATTACTGGGCGTAAAGCGCACGTAGGCGGATTGGTCAGTTAGGGGTGAAATCCCAGGGCTCAACCCTGGAACTGCCTTTAATACTGCCGGTCTAGAGTTCGAGAGAGGTGAGTGGAATTCCGAG\t0.03732798395045147\n",
      "3. TACGAAGGGGGCTAGCGTTGTTCGGAATTACTGGGCGTAAAGCGCACGTAGGCGGATATTTAAGTCAGGGGTGAAATCCCGGGGCTCAACCCCGGAACTGCCTTTGATACTGGGTATCTGGAGTATGGAAGAGGTAAGTGGAATTCCGAG\t0.034523517412016244\n",
      "4. TACGAAGGGGGCTAGCGTTGTTCGGAATTACTGGGCGTAAAGCGCACGTAGGCGGATCGATCAGTTAGGGGTGAAATCCCAGGGCTCAACCCTGGAACTGCCTCTAATACTGTCGATCTCGAGTTCGAGAGAGGTGAGTGGAATTCCGAG\t0.03269390452558569\n",
      "5. TACGAAGGGGGCTAGCGTTGTTCGGAATTACTGGGCGTAAAGCGCACGTAGGCGGATCGATCAGTTAGGGGTGAAATCCCGGGGCTCAACCCCGGAACTGCCTCTAATACTGTCGATCTCGAGTTCGAGAGAGGTGAGTGGAATTCCGAG\t0.02960124401244732\n",
      "6. TACGTAGGGTGCAAGCGTTAATCGGAATTACTGGGCGTAAAGCGTGCGCAGGCGGTCATGCAAGACAGATGTGAAATCCCCGGGCTCAACCTGGGAACTGCATTTGTGACTGCATGGCTGGAGTGCGGCAGAGGGGGATGGAATTCCGCG\t0.021770814944556297\n",
      "7. TACGAAGGGGGCTAGCGTTGCTCGGAATCACTGGGCGTAAAGCGCACGTAGGCGGACTCTTAAGTCGGTGGTGAAATCCTGGAGCTCAACTCCAGAACTGCCTTCGATACTGGGAGTCTCGAGTTCGGGAGAGGTGAGTGGAACTGCGAG\t0.019631337507758216\n",
      "8. TACGTAGGGTGCGAGCGTTGTCCGGAATTACTGGGCGTAAAGAGCTCGTAGGTGGTTTGTCGCGTCGTCTGTGAAATTCCGGGGCTTAACTCCGGGCGTGCAGGCGATACGGGCAAACTGGAGTGCTGTAGGGGAGACTGGAATTCCTGG\t0.016894575504603496\n",
      "9. TACGAAGGGGGCTAGCGTTGTTCGGATTTACTGGGCGTAAAGCGCACGTAGGCGGATTGGTCAGTTAGGGGTGAAATCCCAGAGCTCAACTCTGGAACTGCCCTTAATACTGCCAGTCTAGAGTCCGGAAGAGGTGAGTGGAACTCCTAG\t0.016866725945651598\n",
      "10. TACGAAGGGGGCTAGCGTTGCTCGGAATCACTGGGCGTAAAGGGCGCGTAGGCGGACTTTTAAGTCGGAGGTGAAAGCCCAGGGCTCAACCCTGGAATTGCCTTCGATACTGGGAGTCTTGAGTTCGGAAGAGGTTGGTGGAACTGCGAG\t0.016411569159025897\n",
      "11. TACGAAGGGGGCTAGCGTTGCTCGGAATTACTGGGCGTAAAGGGCGCGTAGGCGGATCGTTAAGTCAGAGGTGAAATCCCAGGGCTCAACCCTGGAACTGCCTTTGATACTGGCGATCTTGAGTATGAGAGAGGTATGTGGAACTCCGAG\t0.014973685461480531\n",
      "12. TACGTAGGTGGCAAGCGTTGTCCGGAATTATTGGGCGTAAAGCGCGCGCAGGCGGCCTTTTAAGTCTGATGTGAAAGCCCACGGCTTAACCGTGGAGGTGCATTGGAAACTGGAAGGCTTGAGGATATAAGAGGAAAGCGGAATTCCACG\t0.013964935042323677\n",
      "13. TACGTAGGTGGCAAGCGTTGTCCGGAATTATTGGGCGTAAAGCGCACGCAGGCGGCCTTTTAAGTCTGATGTGAAATCCCACGGCTTAACCGTGGAAGGTCATTGGAAACTGGAAGGCTTGAGGATAGAAGAGGAAAGTGGAATTCCACG\t0.013511633227016538\n",
      "14. TACGGAGGGTGCAAGCGTTAATCGGAATTACTGGGCGTAAAGGGCGCGTAGGTGGTATCTTAAGTTGGGTGTGAAATCCCCGGGCTCAACCTGGGAATTGCATCCAAAACTGGGGTGCTAGAGTGTGGTAGAGGGTAGCGGAATTTCTGG\t0.013400500096569942\n",
      "15. TACGTAGGGTGCAAGCGTTAATCGGAATTACTGGGCGTAAAGCGTGCGCAGGCGGTTCGGAAAGAAGGATGTGAAATCCCAGGGCTCAACCTTGGAACTGCATTCTTAACTACCGGGCTAGAGTGTGTCAGAGGGAGGTGGAATTCCGCG\t0.012210890416788004\n",
      "16. TACGTAGGGTGCAAGCGTTAATCGGAATTACTGGGCGTAAAGCGTGCGCAGGCGGTTTTGTAAGACAGTGGTGAAATCCCCGGGCTCAACCTGGGAACTGCCATTGTGACTGCAAGGCTAGAGTGCGGCAGAGGGGGATGGAATTCCGCG\t0.011706435540353456\n",
      "17. TACGTAGGTGGCAAGCGTTGTCCGGATTTATTGGGCGTAAAGCGAGCGCAGGCGGTTCCTTAAGTCTGATGTGAAAGCCCCCGGCTCAACCGGGGAAGGTCATTGGAAACTGGGGAACTTGAGTGCAGAAGAGGAGAGTGGAATTCCATG\t0.010388692586227757\n",
      "18. TACGTAGGTGGCAAGCGTTGTCCGGAATTATTGGGCGTAAAGCGCGCGCAGGCGGTCCTTTAAGTCTGATGTGAAAGCCCACGGCTCAACCGTGGAAGGTCATTGGAAACTGGAGGACTTGAGTATAAGAGAGGAAAGTGGAATTCCACG\t0.00945878985893788\n",
      "19. TACGTAGGTGGCAAGCGTTGTCCGGAATTATTGGGCGTAAAGCGCACGCAGGCGGCCTTCTAAGTCTGATGTGAAATCCCACGGCTTAACCGTGGAAGGTCATTGGAAACTGGAAGGCTTGAGGATAGAAGAGGAAAGTGGAATTCCACG\t0.008792326204427029\n",
      "20. TACGTAGGTGGCAAGCGTTATCCGGAATTATTGGGCGTAAAGGGAGCGTAGGCGGTCATGCAAGTCTATGGTAAAAGTTCGGGGCTTAACCCCGTCCGGCCATAGAAACTGTATGACTTGAGTACAGGAGAGGTTAGCGGAATTCCATGT\t0.008090708236776548\n",
      "21. TACGAAGGGGGCTAGCGTTGTTCGGATTTACTGGGCGTAAAGCGCACGTAGGCGGTTTGTTAAGTCAGGGGTGAAATCCCGGAGCTCAACTCCGGAACTGCCCTTGATACTGGCAAGCTAGAGTCCGGAAGAGGTGAGTGGAACTCCTAG\t0.006611007193653105\n",
      "22. TACGTATGGGGCAAGCGTTGTCCGGAATTATTGGGCGTAAAGGGTACGTAGGCGGTTTATCAAGTCTATATTAAAAGGCAATGGCTTAACCATTGTATGGTATAGAAACTGGTAAACTTGAGTAGATGAGGGGAAAGTGGAATTCCTAGT\t0.006566014361278065\n",
      "23. TACGTAGGGCGCAAGCGTTGTCCGGAATTATTGGGCGTAAAGAGCTCGTAGGCGGTTTGTCGCGTCTGGTGTGAAAACTCGAGGCTCAACCTCGAGCTTGCATCGGGTACGGGCAGACTAGAGTGCGGTAGGGGAGACTGGAATTCCTGG\t0.0065544424737725\n",
      "24. TACGGAGGATCCAAGCGTTATCCGGAATCATTGGGTTTAAAGGGTCCGTAGGCGGCCTTATAAGTCAGTGGTGAAAGTTTTTGGCTTAACCAAAAAATTGCCATTGATACTGTAGGGCTTGAATGTCTGTGAAGTAACTAGAATATGTAG\t0.006539135669789291\n",
      "25. TACGGAGGGGACTAGCGTTGTTCGGAATTACTGGGCGTAAAGCGCACGTAGGCGGATCAGAAAGTTGGGGGTGAAATCCCGGGGCTCAACCCCGGAACTGCCTTCAAAACTATTGGTCTGGAGTTCGAGAGAGGTGAGTGGAATTCCGAG\t0.0064855740298386\n"
     ]
    }
   ],
   "source": [
    "importances = bone_ASV_season.feature_importances_\n",
    "std = np.std([tree.feature_importances_ for tree in bone_ASV_season.estimators_],\n",
    "             axis=0)\n",
    "indices = np.argsort(importances)[::-1]\n",
    "\n",
    "feature_metadata = exp_ASV_season.feature_metadata\n",
    "np.savetxt(\"importances/bone_ASV_season_features.csv\", feature_metadata, delimiter=\",\", fmt='%s')\n",
    "\n",
    "\n",
    "#print the important ids in order\n",
    "general_importances = []\n",
    "count = 0\n",
    "print(\"Feature:\\t\\t\\t\\tImportance:\")\n",
    "for i in indices:\n",
    "    general_importances += (exp_ASV_season.feature_metadata.index.values[i], importances[indices[count]])\n",
    "    if count < 25:\n",
    "        print(str(count+1)+\". \"+str(exp_ASV_season.feature_metadata.index.values[i])+\"\\t\"+str(importances[indices[count]]))\n",
    "    count += 1\n",
    "    \n",
    "general_importances_df = pd.DataFrame(np.array(general_importances).reshape(10874,1))\n",
    "\n",
    "np.savetxt(\"importances/bone_ASV_season_importances.csv\", general_importances_df, delimiter=\",\", fmt='%s')"
   ]
  },
  {
   "cell_type": "markdown",
   "metadata": {},
   "source": [
    "## Run the ASV model with precipitation"
   ]
  },
  {
   "cell_type": "code",
   "execution_count": 12,
   "metadata": {},
   "outputs": [],
   "source": [
    "exp_ASV_precip = exp_ASV.add_sample_metadata_as_features(['accumulated_precipitation_inches_base0'])"
   ]
  },
  {
   "cell_type": "code",
   "execution_count": 13,
   "metadata": {},
   "outputs": [],
   "source": [
    "# groupKfold = 6, will leave out one body for each model\n",
    "gkf = GroupKFold(6)\n",
    "\n",
    "X = exp_ASV_precip.data\n",
    "y = exp_ASV_precip.sample_metadata['ADD_0']\n",
    "y = (y.astype(float))\n",
    "\n",
    "groups = exp_ASV_precip.sample_metadata['host_subject_id']\n",
    "\n",
    "# used to test the param grid for parameter tuning\n",
    "# use the output of this estimator below for input into new estimator (not commented out)\n",
    "param_grid = {\"max_depth\": [4, 8, 16, None],\n",
    "              \"max_features\": ['sqrt', 'log2', 0.1],\n",
    "              \"min_samples_split\": [0.001, 0.01, 0.1],\n",
    "              \"min_weight_fraction_leaf\": [0.0001, 0.001, 0.01],\n",
    "              \"bootstrap\": [True, False]}\n",
    "\n",
    "#param_grid = {\"max_depth\": [8],\n",
    "#          \"max_features\": [0.1],\n",
    "#          \"min_samples_split\": [0.001],\n",
    "#          \"min_weight_fraction_leaf\": [0.0001],\n",
    "#          \"bootstrap\": [False]}\n",
    "\n",
    "rf = RandomForestRegressor(n_estimators=1000, random_state=999, criterion='mae')\n",
    "gs = GridSearchCV(rf, param_grid=param_grid, cv=gkf.split(X, y, groups), scoring='neg_mean_absolute_error', n_jobs=1)"
   ]
  },
  {
   "cell_type": "code",
   "execution_count": 14,
   "metadata": {},
   "outputs": [
    {
     "data": {
      "text/plain": [
       "GridSearchCV(cv=<generator object _BaseKFold.split at 0x11a417250>,\n",
       "             error_score=nan,\n",
       "             estimator=RandomForestRegressor(bootstrap=True, ccp_alpha=0.0,\n",
       "                                             criterion='mae', max_depth=None,\n",
       "                                             max_features='auto',\n",
       "                                             max_leaf_nodes=None,\n",
       "                                             max_samples=None,\n",
       "                                             min_impurity_decrease=0.0,\n",
       "                                             min_impurity_split=None,\n",
       "                                             min_samples_leaf=1,\n",
       "                                             min_samples_split=2,\n",
       "                                             min_weight_fraction_leaf=0.0,\n",
       "                                             n_es...\n",
       "                                             oob_score=False, random_state=999,\n",
       "                                             verbose=0, warm_start=False),\n",
       "             iid='deprecated', n_jobs=1,\n",
       "             param_grid={'bootstrap': [True, False],\n",
       "                         'max_depth': [4, 8, 16, None],\n",
       "                         'max_features': ['sqrt', 'log2', 0.1],\n",
       "                         'min_samples_split': [0.001, 0.01, 0.1],\n",
       "                         'min_weight_fraction_leaf': [0.0001, 0.001, 0.01]},\n",
       "             pre_dispatch='2*n_jobs', refit=True, return_train_score=False,\n",
       "             scoring='neg_mean_absolute_error', verbose=0)"
      ]
     },
     "execution_count": 14,
     "metadata": {},
     "output_type": "execute_result"
    }
   ],
   "source": [
    "gs.fit(X, y)"
   ]
  },
  {
   "cell_type": "code",
   "execution_count": 15,
   "metadata": {},
   "outputs": [
    {
     "name": "stdout",
     "output_type": "stream",
     "text": [
      "{'bootstrap': False, 'max_depth': 16, 'max_features': 0.1, 'min_samples_split': 0.001, 'min_weight_fraction_leaf': 0.0001}\n"
     ]
    }
   ],
   "source": [
    "# this line is used when run with the first param grid to determine what the best parameters are for tuning\n",
    "print(gs.best_params_)"
   ]
  },
  {
   "cell_type": "code",
   "execution_count": 16,
   "metadata": {},
   "outputs": [
    {
     "name": "stdout",
     "output_type": "stream",
     "text": [
      "The best mean absolute error is 689.63\n"
     ]
    }
   ],
   "source": [
    "print('The best mean absolute error is', round(-gs.best_score_,2))"
   ]
  },
  {
   "cell_type": "code",
   "execution_count": 17,
   "metadata": {},
   "outputs": [
    {
     "data": {
      "text/plain": [
       "['models/bone_ASV_precip.pkl']"
      ]
     },
     "execution_count": 17,
     "metadata": {},
     "output_type": "execute_result"
    }
   ],
   "source": [
    "joblib.dump(gs.best_estimator_, 'models/bone_ASV_precip.pkl')"
   ]
  },
  {
   "cell_type": "code",
   "execution_count": 18,
   "metadata": {},
   "outputs": [
    {
     "data": {
      "text/plain": [
       "RandomForestRegressor(bootstrap=False, ccp_alpha=0.0, criterion='mae',\n",
       "                      max_depth=16, max_features=0.1, max_leaf_nodes=None,\n",
       "                      max_samples=None, min_impurity_decrease=0.0,\n",
       "                      min_impurity_split=None, min_samples_leaf=1,\n",
       "                      min_samples_split=0.001, min_weight_fraction_leaf=0.0001,\n",
       "                      n_estimators=1000, n_jobs=None, oob_score=False,\n",
       "                      random_state=999, verbose=0, warm_start=False)"
      ]
     },
     "execution_count": 18,
     "metadata": {},
     "output_type": "execute_result"
    }
   ],
   "source": [
    "bone_ASV_precip = joblib.load('models/bone_ASV_precip.pkl')\n",
    "bone_ASV_precip"
   ]
  },
  {
   "cell_type": "markdown",
   "metadata": {},
   "source": [
    "## Determine important features for ASV precipitation model"
   ]
  },
  {
   "cell_type": "code",
   "execution_count": 21,
   "metadata": {},
   "outputs": [
    {
     "name": "stdout",
     "output_type": "stream",
     "text": [
      "Feature:\t\t\t\tImportance:\n",
      "1. accumulated_precipitation_inches_base0\t0.086767526783665\n",
      "2. TACGAAGGGGGCTAGCGTTGTTCGGAATTACTGGGCGTAAAGCGCACGTAGGCGGATTGGTCAGTTAGGGGTGAAATCCCAGGGCTCAACCCTGGAACTGCCTTTAATACTGCCGGTCTAGAGTTCGAGAGAGGTGAGTGGAATTCCGAG\t0.036484539652717855\n",
      "3. TACGAAGGGGGCTAGCGTTGTTCGGAATTACTGGGCGTAAAGCGCACGTAGGCGGATCGATCAGTTAGGGGTGAAATCCCGGGGCTCAACCCCGGAACTGCCTCTAATACTGTCGATCTCGAGTTCGAGAGAGGTGAGTGGAATTCCGAG\t0.03457456453679246\n",
      "4. TACGAAGGGGGCTAGCGTTGTTCGGAATTACTGGGCGTAAAGCGCACGTAGGCGGATCGATCAGTTAGGGGTGAAATCCCAGGGCTCAACCCTGGAACTGCCTCTAATACTGTCGATCTCGAGTTCGAGAGAGGTGAGTGGAATTCCGAG\t0.03445563128574849\n",
      "5. TACGTAGGGGGCGAGCGTTGTCCGGAATTATTGGGCGTAAAGGGTACGTAGGCGGTTTAGAAAGTCAGATGTTAAAGCGTGAGGCTCAACCTCATAAAGCATTTGAAACTTCTAGACTTGAGTAGTGGAGAGGAAAGTGGAATTCCTAGT\t0.03164648922991007\n",
      "6. TACGAAGGGGGCTAGCGTTGTTCGGAATTACTGGGCGTAAAGCGCACGTAGGCGGATATTTAAGTCAGGGGTGAAATCCCGGGGCTCAACCCCGGAACTGCCTTTGATACTGGGTATCTGGAGTATGGAAGAGGTAAGTGGAATTCCGAG\t0.025034826354821654\n",
      "7. TACGTAGGGTGCAAGCGTTAATCGGAATTACTGGGCGTAAAGCGTGCGCAGGCGGTCATGCAAGACAGATGTGAAATCCCCGGGCTCAACCTGGGAACTGCATTTGTGACTGCATGGCTGGAGTGCGGCAGAGGGGGATGGAATTCCGCG\t0.02110243427993897\n",
      "8. TACGAAGGGGGCTAGCGTTGCTCGGAATCACTGGGCGTAAAGCGCACGTAGGCGGACTCTTAAGTCGGTGGTGAAATCCTGGAGCTCAACTCCAGAACTGCCTTCGATACTGGGAGTCTCGAGTTCGGGAGAGGTGAGTGGAACTGCGAG\t0.018946326950715867\n",
      "9. TACGAAGGGGGCTAGCGTTGTTCGGATTTACTGGGCGTAAAGCGCACGTAGGCGGATTGGTCAGTTAGGGGTGAAATCCCAGAGCTCAACTCTGGAACTGCCCTTAATACTGCCAGTCTAGAGTCCGGAAGAGGTGAGTGGAACTCCTAG\t0.017687893541752462\n",
      "10. TACGTAGGGTGCGAGCGTTGTCCGGAATTACTGGGCGTAAAGAGCTCGTAGGTGGTTTGTCGCGTCGTCTGTGAAATTCCGGGGCTTAACTCCGGGCGTGCAGGCGATACGGGCAAACTGGAGTGCTGTAGGGGAGACTGGAATTCCTGG\t0.016292048034538643\n",
      "11. TACGTAGGTGGCAAGCGTTGTCCGGAATTATTGGGCGTAAAGCGCACGCAGGCGGCCTTTTAAGTCTGATGTGAAATCCCACGGCTTAACCGTGGAAGGTCATTGGAAACTGGAAGGCTTGAGGATAGAAGAGGAAAGTGGAATTCCACG\t0.013416623390985063\n",
      "12. TACGAAGGGGGCTAGCGTTGCTCGGAATCACTGGGCGTAAAGGGCGCGTAGGCGGACTTTTAAGTCGGAGGTGAAAGCCCAGGGCTCAACCCTGGAATTGCCTTCGATACTGGGAGTCTTGAGTTCGGAAGAGGTTGGTGGAACTGCGAG\t0.012088726603065834\n",
      "13. TACGTAGGTGGCAAGCGTTGTCCGGAATTATTGGGCGTAAAGCGCGCGCAGGCGGCCTTTTAAGTCTGATGTGAAAGCCCACGGCTTAACCGTGGAGGTGCATTGGAAACTGGAAGGCTTGAGGATATAAGAGGAAAGCGGAATTCCACG\t0.011462950341725495\n",
      "14. TACGAAGGGGGCTAGCGTTGCTCGGAATTACTGGGCGTAAAGGGCGCGTAGGCGGATCGTTAAGTCAGAGGTGAAATCCCAGGGCTCAACCCTGGAACTGCCTTTGATACTGGCGATCTTGAGTATGAGAGAGGTATGTGGAACTCCGAG\t0.011459666777394262\n",
      "15. TACGGAGGGTGCAAGCGTTAATCGGAATTACTGGGCGTAAAGGGCGCGTAGGTGGTATCTTAAGTTGGGTGTGAAATCCCCGGGCTCAACCTGGGAATTGCATCCAAAACTGGGGTGCTAGAGTGTGGTAGAGGGTAGCGGAATTTCTGG\t0.010499848533505348\n",
      "16. TACGTAGGGTGCAAGCGTTAATCGGAATTACTGGGCGTAAAGCGTGCGCAGGCGGTTCGGAAAGAAGGATGTGAAATCCCAGGGCTCAACCTTGGAACTGCATTCTTAACTACCGGGCTAGAGTGTGTCAGAGGGAGGTGGAATTCCGCG\t0.010116980417922188\n",
      "17. TACGTAGGGTGCAAGCGTTAATCGGAATTACTGGGCGTAAAGCGTGCGCAGGCGGTTTTGTAAGACAGTGGTGAAATCCCCGGGCTCAACCTGGGAACTGCCATTGTGACTGCAAGGCTAGAGTGCGGCAGAGGGGGATGGAATTCCGCG\t0.009244238884951015\n",
      "18. TACGTAGGTGGCAAGCGTTGTCCGGAATTATTGGGCGTAAAGCGCGCGCAGGCGGTCCTTTAAGTCTGATGTGAAAGCCCACGGCTCAACCGTGGAAGGTCATTGGAAACTGGAGGACTTGAGTATAAGAGAGGAAAGTGGAATTCCACG\t0.008872325004488174\n",
      "19. TACGTAGGTGGCAAGCGTTATCCGGAATTATTGGGCGTAAAGGGAGCGTAGGCGGTCATGCAAGTCTATGGTAAAAGTTCGGGGCTTAACCCCGTCCGGCCATAGAAACTGTATGACTTGAGTACAGGAGAGGTTAGCGGAATTCCATGT\t0.00862139456984256\n",
      "20. TACGTAGGTGGCAAGCGTTGTCCGGATTTATTGGGCGTAAAGCGAGCGCAGGCGGTTCCTTAAGTCTGATGTGAAAGCCCCCGGCTCAACCGGGGAAGGTCATTGGAAACTGGGGAACTTGAGTGCAGAAGAGGAGAGTGGAATTCCATG\t0.00821815968703734\n",
      "21. TACGTAGGTGGCAAGCGTTGTCCGGAATTATTGGGCGTAAAGCGCACGCAGGCGGCCTTCTAAGTCTGATGTGAAATCCCACGGCTTAACCGTGGAAGGTCATTGGAAACTGGAAGGCTTGAGGATAGAAGAGGAAAGTGGAATTCCACG\t0.007760651305409498\n",
      "22. TACGAAGGGGGCTAGCGTTGTTCGGATTTACTGGGCGTAAAGCGCACGTAGGCGGTTTGTTAAGTCAGGGGTGAAATCCCGGAGCTCAACTCCGGAACTGCCCTTGATACTGGCAAGCTAGAGTCCGGAAGAGGTGAGTGGAACTCCTAG\t0.007630633992265618\n",
      "23. TACGGAGGATCCAAGCGTTATCCGGATTTATTGGGTTTAAAGGGTGCGTAGGCGGCCTGTTAAGTCAGGGGTGAAAGACGGTAGCTCAACTATCGCAGTGCCCTTGATACTGACGGGCTTGAATACACTAGAGGTAGGCGGAATGTGACA\t0.006662782647581753\n",
      "24. TACGGAGGGTGCGAGCGTTAATCGGAATAACTGGGCGTAAAGGGCACGCAGGCGGTGACTTAAGTGAGGTGTGAAAGCCCCGGGCTTAACCTGGGAATTGCATTTCATACTGGGTCGCTAGAGTACTTTAGGGAGGGGTAGAATTCCACG\t0.006107156766198218\n",
      "25. TACGTAGGTGGCAAGCGTTGTCCGGAATTATTGGGCGTAAAGCGCGCGCAGGTGGTTTAATAAGTCTGATGTGAAAGCCCACGGCTCAACCGTGGAGGGTCATTGGAAACTGTTAAACTTGAGTGCAGGAGAGAAAAGTGGAATTCCTAG\t0.005257557070244782\n"
     ]
    }
   ],
   "source": [
    "importances = bone_ASV_precip.feature_importances_\n",
    "std = np.std([tree.feature_importances_ for tree in bone_ASV_precip.estimators_],\n",
    "             axis=0)\n",
    "indices = np.argsort(importances)[::-1]\n",
    "\n",
    "feature_metadata = exp_ASV_precip.feature_metadata\n",
    "np.savetxt(\"importances/bone_ASV_precip_features.csv\", feature_metadata, delimiter=\",\", fmt='%s')\n",
    "\n",
    "\n",
    "#print the important ids in order\n",
    "general_importances = []\n",
    "count = 0\n",
    "print(\"Feature:\\t\\t\\t\\tImportance:\")\n",
    "for i in indices:\n",
    "    general_importances += (exp_ASV_precip.feature_metadata.index.values[i], importances[indices[count]])\n",
    "    if count < 25:\n",
    "        print(str(count+1)+\". \"+str(exp_ASV_precip.feature_metadata.index.values[i])+\"\\t\"+str(importances[indices[count]]))\n",
    "    count += 1\n",
    "    \n",
    "general_importances_df = pd.DataFrame(np.array(general_importances).reshape(10872,1))\n",
    "\n",
    "np.savetxt(\"importances/bone_ASV_precip_importances.csv\", general_importances_df, delimiter=\",\", fmt='%s')"
   ]
  },
  {
   "cell_type": "markdown",
   "metadata": {},
   "source": [
    "## Run the ASV model with humidity"
   ]
  },
  {
   "cell_type": "code",
   "execution_count": 22,
   "metadata": {},
   "outputs": [],
   "source": [
    "exp_ASV_hum = exp_ASV.add_sample_metadata_as_features(['accumulated_percent_humidity_days_base0'])"
   ]
  },
  {
   "cell_type": "code",
   "execution_count": 23,
   "metadata": {},
   "outputs": [],
   "source": [
    "# groupKfold = 6, will leave out one body for each model\n",
    "gkf = GroupKFold(6)\n",
    "\n",
    "X = exp_ASV_hum.data\n",
    "y = exp_ASV_hum.sample_metadata['ADD_0']\n",
    "y = (y.astype(float))\n",
    "\n",
    "groups = exp_ASV_hum.sample_metadata['host_subject_id']\n",
    "\n",
    "# used to test the param grid for parameter tuning\n",
    "# use the output of this estimator below for input into new estimator (not commented out)\n",
    "param_grid = {\"max_depth\": [4, 8, 16, None],\n",
    "              \"max_features\": ['sqrt', 'log2', 0.1],\n",
    "              \"min_samples_split\": [0.001, 0.01, 0.1],\n",
    "              \"min_weight_fraction_leaf\": [0.0001, 0.001, 0.01],\n",
    "              \"bootstrap\": [True, False]}\n",
    "\n",
    "#param_grid = {\"max_depth\": [8],\n",
    "#          \"max_features\": [0.1],\n",
    "#          \"min_samples_split\": [0.001],\n",
    "#          \"min_weight_fraction_leaf\": [0.0001],\n",
    "#          \"bootstrap\": [False]}\n",
    "\n",
    "rf = RandomForestRegressor(n_estimators=1000, random_state=999, criterion='mae')\n",
    "gs = GridSearchCV(rf, param_grid=param_grid, cv=gkf.split(X, y, groups), scoring='neg_mean_absolute_error', n_jobs=1)"
   ]
  },
  {
   "cell_type": "code",
   "execution_count": 24,
   "metadata": {},
   "outputs": [
    {
     "data": {
      "text/plain": [
       "GridSearchCV(cv=<generator object _BaseKFold.split at 0x11a4178d0>,\n",
       "             error_score=nan,\n",
       "             estimator=RandomForestRegressor(bootstrap=True, ccp_alpha=0.0,\n",
       "                                             criterion='mae', max_depth=None,\n",
       "                                             max_features='auto',\n",
       "                                             max_leaf_nodes=None,\n",
       "                                             max_samples=None,\n",
       "                                             min_impurity_decrease=0.0,\n",
       "                                             min_impurity_split=None,\n",
       "                                             min_samples_leaf=1,\n",
       "                                             min_samples_split=2,\n",
       "                                             min_weight_fraction_leaf=0.0,\n",
       "                                             n_es...\n",
       "                                             oob_score=False, random_state=999,\n",
       "                                             verbose=0, warm_start=False),\n",
       "             iid='deprecated', n_jobs=1,\n",
       "             param_grid={'bootstrap': [True, False],\n",
       "                         'max_depth': [4, 8, 16, None],\n",
       "                         'max_features': ['sqrt', 'log2', 0.1],\n",
       "                         'min_samples_split': [0.001, 0.01, 0.1],\n",
       "                         'min_weight_fraction_leaf': [0.0001, 0.001, 0.01]},\n",
       "             pre_dispatch='2*n_jobs', refit=True, return_train_score=False,\n",
       "             scoring='neg_mean_absolute_error', verbose=0)"
      ]
     },
     "execution_count": 24,
     "metadata": {},
     "output_type": "execute_result"
    }
   ],
   "source": [
    "gs.fit(X, y)"
   ]
  },
  {
   "cell_type": "code",
   "execution_count": 25,
   "metadata": {},
   "outputs": [
    {
     "name": "stdout",
     "output_type": "stream",
     "text": [
      "{'bootstrap': False, 'max_depth': 8, 'max_features': 0.1, 'min_samples_split': 0.001, 'min_weight_fraction_leaf': 0.0001}\n"
     ]
    }
   ],
   "source": [
    "# this line is used when run with the first param grid to determine what the best parameters are for tuning\n",
    "print(gs.best_params_)"
   ]
  },
  {
   "cell_type": "code",
   "execution_count": 26,
   "metadata": {},
   "outputs": [
    {
     "name": "stdout",
     "output_type": "stream",
     "text": [
      "The best mean absolute error is 673.81\n"
     ]
    }
   ],
   "source": [
    "print('The best mean absolute error is', round(-gs.best_score_,2))"
   ]
  },
  {
   "cell_type": "code",
   "execution_count": 27,
   "metadata": {},
   "outputs": [
    {
     "data": {
      "text/plain": [
       "['models/bone_ASV_hum.pkl']"
      ]
     },
     "execution_count": 27,
     "metadata": {},
     "output_type": "execute_result"
    }
   ],
   "source": [
    "joblib.dump(gs.best_estimator_, 'models/bone_ASV_hum.pkl')"
   ]
  },
  {
   "cell_type": "code",
   "execution_count": 28,
   "metadata": {},
   "outputs": [
    {
     "data": {
      "text/plain": [
       "RandomForestRegressor(bootstrap=False, ccp_alpha=0.0, criterion='mae',\n",
       "                      max_depth=8, max_features=0.1, max_leaf_nodes=None,\n",
       "                      max_samples=None, min_impurity_decrease=0.0,\n",
       "                      min_impurity_split=None, min_samples_leaf=1,\n",
       "                      min_samples_split=0.001, min_weight_fraction_leaf=0.0001,\n",
       "                      n_estimators=1000, n_jobs=None, oob_score=False,\n",
       "                      random_state=999, verbose=0, warm_start=False)"
      ]
     },
     "execution_count": 28,
     "metadata": {},
     "output_type": "execute_result"
    }
   ],
   "source": [
    "bone_ASV_hum = joblib.load('models/bone_ASV_hum.pkl')\n",
    "bone_ASV_hum"
   ]
  },
  {
   "cell_type": "markdown",
   "metadata": {},
   "source": [
    "## Determine important features for ASV humidity model"
   ]
  },
  {
   "cell_type": "code",
   "execution_count": 30,
   "metadata": {},
   "outputs": [
    {
     "name": "stdout",
     "output_type": "stream",
     "text": [
      "Feature:\t\t\t\tImportance:\n",
      "1. accumulated_percent_humidity_days_base0\t0.10477181189981431\n",
      "2. TACGAAGGGGGCTAGCGTTGTTCGGAATTACTGGGCGTAAAGCGCACGTAGGCGGATTGGTCAGTTAGGGGTGAAATCCCAGGGCTCAACCCTGGAACTGCCTTTAATACTGCCGGTCTAGAGTTCGAGAGAGGTGAGTGGAATTCCGAG\t0.03547648392613599\n",
      "3. TACGAAGGGGGCTAGCGTTGTTCGGAATTACTGGGCGTAAAGCGCACGTAGGCGGATCGATCAGTTAGGGGTGAAATCCCAGGGCTCAACCCTGGAACTGCCTCTAATACTGTCGATCTCGAGTTCGAGAGAGGTGAGTGGAATTCCGAG\t0.03539385746620913\n",
      "4. TACGAAGGGGGCTAGCGTTGTTCGGAATTACTGGGCGTAAAGCGCACGTAGGCGGATCGATCAGTTAGGGGTGAAATCCCGGGGCTCAACCCCGGAACTGCCTCTAATACTGTCGATCTCGAGTTCGAGAGAGGTGAGTGGAATTCCGAG\t0.03464028381333024\n",
      "5. TACGTAGGGGGCGAGCGTTGTCCGGAATTATTGGGCGTAAAGGGTACGTAGGCGGTTTAGAAAGTCAGATGTTAAAGCGTGAGGCTCAACCTCATAAAGCATTTGAAACTTCTAGACTTGAGTAGTGGAGAGGAAAGTGGAATTCCTAGT\t0.031104233266285992\n",
      "6. TACGAAGGGGGCTAGCGTTGTTCGGAATTACTGGGCGTAAAGCGCACGTAGGCGGATATTTAAGTCAGGGGTGAAATCCCGGGGCTCAACCCCGGAACTGCCTTTGATACTGGGTATCTGGAGTATGGAAGAGGTAAGTGGAATTCCGAG\t0.025474846843413192\n",
      "7. TACGTAGGGTGCAAGCGTTAATCGGAATTACTGGGCGTAAAGCGTGCGCAGGCGGTCATGCAAGACAGATGTGAAATCCCCGGGCTCAACCTGGGAACTGCATTTGTGACTGCATGGCTGGAGTGCGGCAGAGGGGGATGGAATTCCGCG\t0.02129722439397159\n",
      "8. TACGAAGGGGGCTAGCGTTGCTCGGAATCACTGGGCGTAAAGCGCACGTAGGCGGACTCTTAAGTCGGTGGTGAAATCCTGGAGCTCAACTCCAGAACTGCCTTCGATACTGGGAGTCTCGAGTTCGGGAGAGGTGAGTGGAACTGCGAG\t0.019404601470802228\n",
      "9. TACGAAGGGGGCTAGCGTTGTTCGGATTTACTGGGCGTAAAGCGCACGTAGGCGGATTGGTCAGTTAGGGGTGAAATCCCAGAGCTCAACTCTGGAACTGCCCTTAATACTGCCAGTCTAGAGTCCGGAAGAGGTGAGTGGAACTCCTAG\t0.01780928025599124\n",
      "10. TACGTAGGGTGCGAGCGTTGTCCGGAATTACTGGGCGTAAAGAGCTCGTAGGTGGTTTGTCGCGTCGTCTGTGAAATTCCGGGGCTTAACTCCGGGCGTGCAGGCGATACGGGCAAACTGGAGTGCTGTAGGGGAGACTGGAATTCCTGG\t0.015722200894694255\n",
      "11. TACGTAGGTGGCAAGCGTTGTCCGGAATTATTGGGCGTAAAGCGCACGCAGGCGGCCTTTTAAGTCTGATGTGAAATCCCACGGCTTAACCGTGGAAGGTCATTGGAAACTGGAAGGCTTGAGGATAGAAGAGGAAAGTGGAATTCCACG\t0.014376980777602459\n",
      "12. TACGAAGGGGGCTAGCGTTGCTCGGAATCACTGGGCGTAAAGGGCGCGTAGGCGGACTTTTAAGTCGGAGGTGAAAGCCCAGGGCTCAACCCTGGAATTGCCTTCGATACTGGGAGTCTTGAGTTCGGAAGAGGTTGGTGGAACTGCGAG\t0.012406356301882047\n",
      "13. TACGAAGGGGGCTAGCGTTGCTCGGAATTACTGGGCGTAAAGGGCGCGTAGGCGGATCGTTAAGTCAGAGGTGAAATCCCAGGGCTCAACCCTGGAACTGCCTTTGATACTGGCGATCTTGAGTATGAGAGAGGTATGTGGAACTCCGAG\t0.011642600184542684\n",
      "14. TACGTAGGTGGCAAGCGTTGTCCGGAATTATTGGGCGTAAAGCGCGCGCAGGCGGCCTTTTAAGTCTGATGTGAAAGCCCACGGCTTAACCGTGGAGGTGCATTGGAAACTGGAAGGCTTGAGGATATAAGAGGAAAGCGGAATTCCACG\t0.011598446227580939\n",
      "15. TACGGAGGGTGCAAGCGTTAATCGGAATTACTGGGCGTAAAGGGCGCGTAGGTGGTATCTTAAGTTGGGTGTGAAATCCCCGGGCTCAACCTGGGAATTGCATCCAAAACTGGGGTGCTAGAGTGTGGTAGAGGGTAGCGGAATTTCTGG\t0.011220935009739396\n",
      "16. TACGTAGGTGGCAAGCGTTGTCCGGAATTATTGGGCGTAAAGCGCGCGCAGGCGGTCCTTTAAGTCTGATGTGAAAGCCCACGGCTCAACCGTGGAAGGTCATTGGAAACTGGAGGACTTGAGTATAAGAGAGGAAAGTGGAATTCCACG\t0.009272023731645594\n",
      "17. TACGTAGGGTGCAAGCGTTAATCGGAATTACTGGGCGTAAAGCGTGCGCAGGCGGTTCGGAAAGAAGGATGTGAAATCCCAGGGCTCAACCTTGGAACTGCATTCTTAACTACCGGGCTAGAGTGTGTCAGAGGGAGGTGGAATTCCGCG\t0.009221643706211653\n",
      "18. TACGTAGGGTGCAAGCGTTAATCGGAATTACTGGGCGTAAAGCGTGCGCAGGCGGTTTTGTAAGACAGTGGTGAAATCCCCGGGCTCAACCTGGGAACTGCCATTGTGACTGCAAGGCTAGAGTGCGGCAGAGGGGGATGGAATTCCGCG\t0.00827006861639913\n",
      "19. TACGTAGGTGGCAAGCGTTGTCCGGATTTATTGGGCGTAAAGCGAGCGCAGGCGGTTCCTTAAGTCTGATGTGAAAGCCCCCGGCTCAACCGGGGAAGGTCATTGGAAACTGGGGAACTTGAGTGCAGAAGAGGAGAGTGGAATTCCATG\t0.008051277602133226\n",
      "20. TACGTAGGTGGCAAGCGTTGTCCGGAATTATTGGGCGTAAAGCGCACGCAGGCGGCCTTCTAAGTCTGATGTGAAATCCCACGGCTTAACCGTGGAAGGTCATTGGAAACTGGAAGGCTTGAGGATAGAAGAGGAAAGTGGAATTCCACG\t0.007572884229006138\n",
      "21. TACGAAGGGGGCTAGCGTTGTTCGGATTTACTGGGCGTAAAGCGCACGTAGGCGGTTTGTTAAGTCAGGGGTGAAATCCCGGAGCTCAACTCCGGAACTGCCCTTGATACTGGCAAGCTAGAGTCCGGAAGAGGTGAGTGGAACTCCTAG\t0.007275211980703315\n",
      "22. TACGTAGGTGGCAAGCGTTATCCGGAATTATTGGGCGTAAAGGGAGCGTAGGCGGTCATGCAAGTCTATGGTAAAAGTTCGGGGCTTAACCCCGTCCGGCCATAGAAACTGTATGACTTGAGTACAGGAGAGGTTAGCGGAATTCCATGT\t0.00712684212130539\n",
      "23. TACGGAGGATCCAAGCGTTATCCGGATTTATTGGGTTTAAAGGGTGCGTAGGCGGCCTGTTAAGTCAGGGGTGAAAGACGGTAGCTCAACTATCGCAGTGCCCTTGATACTGACGGGCTTGAATACACTAGAGGTAGGCGGAATGTGACA\t0.006962279769718789\n",
      "24. TACGTATGGGGCAAGCGTTGTCCGGAATTATTGGGCGTAAAGGGTACGTAGGCGGTTTATCAAGTCTATATTAAAAGGCAATGGCTTAACCATTGTATGGTATAGAAACTGGTAAACTTGAGTAGATGAGGGGAAAGTGGAATTCCTAGT\t0.005369298633912448\n",
      "25. TACGTAGGTGGCAAGCGTTGTCCGGAATTATTGGGCGTAAAGCGCGCGCAGGTGGTTTAATAAGTCTGATGTGAAAGCCCACGGCTCAACCGTGGAGGGTCATTGGAAACTGTTAAACTTGAGTGCAGGAGAGAAAAGTGGAATTCCTAG\t0.005239871615180838\n"
     ]
    }
   ],
   "source": [
    "importances = bone_ASV_hum.feature_importances_\n",
    "std = np.std([tree.feature_importances_ for tree in bone_ASV_hum.estimators_],\n",
    "             axis=0)\n",
    "indices = np.argsort(importances)[::-1]\n",
    "\n",
    "feature_metadata = exp_ASV_hum.feature_metadata\n",
    "np.savetxt(\"importances/bone_ASV_hum_features.csv\", feature_metadata, delimiter=\",\", fmt='%s')\n",
    "\n",
    "\n",
    "#print the important ids in order\n",
    "general_importances = []\n",
    "count = 0\n",
    "print(\"Feature:\\t\\t\\t\\tImportance:\")\n",
    "for i in indices:\n",
    "    general_importances += (exp_ASV_hum.feature_metadata.index.values[i], importances[indices[count]])\n",
    "    if count < 25:\n",
    "        print(str(count+1)+\". \"+str(exp_ASV_hum.feature_metadata.index.values[i])+\"\\t\"+str(importances[indices[count]]))\n",
    "    count += 1\n",
    "    \n",
    "general_importances_df = pd.DataFrame(np.array(general_importances).reshape(10872,1))\n",
    "\n",
    "np.savetxt(\"importances/bone_ASV_hum_importances.csv\", general_importances_df, delimiter=\",\", fmt='%s')"
   ]
  },
  {
   "cell_type": "markdown",
   "metadata": {},
   "source": [
    "## Run the ASV model with season and precipitation"
   ]
  },
  {
   "cell_type": "code",
   "execution_count": 31,
   "metadata": {},
   "outputs": [],
   "source": [
    "exp_ASV_season_precip = exp_ASV.add_sample_metadata_as_features(['season', 'accumulated_precipitation_inches_base0'])"
   ]
  },
  {
   "cell_type": "code",
   "execution_count": 32,
   "metadata": {},
   "outputs": [],
   "source": [
    "# groupKfold = 6, will leave out one body for each model\n",
    "gkf = GroupKFold(6)\n",
    "\n",
    "X = exp_ASV_season_precip.data\n",
    "y = exp_ASV_season_precip.sample_metadata['ADD_0']\n",
    "y = (y.astype(float))\n",
    "\n",
    "groups = exp_ASV_season_precip.sample_metadata['host_subject_id']\n",
    "\n",
    "# used to test the param grid for parameter tuning\n",
    "# use the output of this estimator below for input into new estimator (not commented out)\n",
    "param_grid = {\"max_depth\": [4, 8, 16, None],\n",
    "              \"max_features\": ['sqrt', 'log2', 0.1],\n",
    "              \"min_samples_split\": [0.001, 0.01, 0.1],\n",
    "              \"min_weight_fraction_leaf\": [0.0001, 0.001, 0.01],\n",
    "              \"bootstrap\": [True, False]}\n",
    "\n",
    "#param_grid = {\"max_depth\": [8],\n",
    "#          \"max_features\": [0.1],\n",
    "#          \"min_samples_split\": [0.001],\n",
    "#          \"min_weight_fraction_leaf\": [0.0001],\n",
    "#          \"bootstrap\": [False]}\n",
    "\n",
    "rf = RandomForestRegressor(n_estimators=1000, random_state=999, criterion='mae')\n",
    "gs = GridSearchCV(rf, param_grid=param_grid, cv=gkf.split(X, y, groups), scoring='neg_mean_absolute_error', n_jobs=1)"
   ]
  },
  {
   "cell_type": "code",
   "execution_count": 33,
   "metadata": {},
   "outputs": [
    {
     "data": {
      "text/plain": [
       "GridSearchCV(cv=<generator object _BaseKFold.split at 0x119f292d0>,\n",
       "             error_score=nan,\n",
       "             estimator=RandomForestRegressor(bootstrap=True, ccp_alpha=0.0,\n",
       "                                             criterion='mae', max_depth=None,\n",
       "                                             max_features='auto',\n",
       "                                             max_leaf_nodes=None,\n",
       "                                             max_samples=None,\n",
       "                                             min_impurity_decrease=0.0,\n",
       "                                             min_impurity_split=None,\n",
       "                                             min_samples_leaf=1,\n",
       "                                             min_samples_split=2,\n",
       "                                             min_weight_fraction_leaf=0.0,\n",
       "                                             n_es...\n",
       "                                             oob_score=False, random_state=999,\n",
       "                                             verbose=0, warm_start=False),\n",
       "             iid='deprecated', n_jobs=1,\n",
       "             param_grid={'bootstrap': [True, False],\n",
       "                         'max_depth': [4, 8, 16, None],\n",
       "                         'max_features': ['sqrt', 'log2', 0.1],\n",
       "                         'min_samples_split': [0.001, 0.01, 0.1],\n",
       "                         'min_weight_fraction_leaf': [0.0001, 0.001, 0.01]},\n",
       "             pre_dispatch='2*n_jobs', refit=True, return_train_score=False,\n",
       "             scoring='neg_mean_absolute_error', verbose=0)"
      ]
     },
     "execution_count": 33,
     "metadata": {},
     "output_type": "execute_result"
    }
   ],
   "source": [
    "gs.fit(X, y)"
   ]
  },
  {
   "cell_type": "code",
   "execution_count": 34,
   "metadata": {},
   "outputs": [
    {
     "name": "stdout",
     "output_type": "stream",
     "text": [
      "{'bootstrap': False, 'max_depth': 16, 'max_features': 0.1, 'min_samples_split': 0.001, 'min_weight_fraction_leaf': 0.0001}\n"
     ]
    }
   ],
   "source": [
    "# this line is used when run with the first param grid to determine what the best parameters are for tuning\n",
    "print(gs.best_params_)"
   ]
  },
  {
   "cell_type": "code",
   "execution_count": 35,
   "metadata": {},
   "outputs": [
    {
     "name": "stdout",
     "output_type": "stream",
     "text": [
      "The best mean absolute error is 688.03\n"
     ]
    }
   ],
   "source": [
    "print('The best mean absolute error is', round(-gs.best_score_,2))"
   ]
  },
  {
   "cell_type": "code",
   "execution_count": 36,
   "metadata": {},
   "outputs": [
    {
     "data": {
      "text/plain": [
       "['models/bone_ASV_season_precip.pkl']"
      ]
     },
     "execution_count": 36,
     "metadata": {},
     "output_type": "execute_result"
    }
   ],
   "source": [
    "joblib.dump(gs.best_estimator_, 'models/bone_ASV_season_precip.pkl')"
   ]
  },
  {
   "cell_type": "code",
   "execution_count": 37,
   "metadata": {},
   "outputs": [
    {
     "data": {
      "text/plain": [
       "RandomForestRegressor(bootstrap=False, ccp_alpha=0.0, criterion='mae',\n",
       "                      max_depth=16, max_features=0.1, max_leaf_nodes=None,\n",
       "                      max_samples=None, min_impurity_decrease=0.0,\n",
       "                      min_impurity_split=None, min_samples_leaf=1,\n",
       "                      min_samples_split=0.001, min_weight_fraction_leaf=0.0001,\n",
       "                      n_estimators=1000, n_jobs=None, oob_score=False,\n",
       "                      random_state=999, verbose=0, warm_start=False)"
      ]
     },
     "execution_count": 37,
     "metadata": {},
     "output_type": "execute_result"
    }
   ],
   "source": [
    "bone_ASV_season_precip = joblib.load('models/bone_ASV_season_precip.pkl')\n",
    "bone_ASV_season_precip"
   ]
  },
  {
   "cell_type": "markdown",
   "metadata": {},
   "source": [
    "## Determine important features for ASV season and precipitation model"
   ]
  },
  {
   "cell_type": "code",
   "execution_count": 39,
   "metadata": {},
   "outputs": [
    {
     "name": "stdout",
     "output_type": "stream",
     "text": [
      "Feature:\t\t\t\tImportance:\n",
      "1. accumulated_precipitation_inches_base0\t0.08698606513717953\n",
      "2. TACGAAGGGGGCTAGCGTTGTTCGGAATTACTGGGCGTAAAGCGCACGTAGGCGGATTGGTCAGTTAGGGGTGAAATCCCAGGGCTCAACCCTGGAACTGCCTTTAATACTGCCGGTCTAGAGTTCGAGAGAGGTGAGTGGAATTCCGAG\t0.03640905009361764\n",
      "3. TACGAAGGGGGCTAGCGTTGTTCGGAATTACTGGGCGTAAAGCGCACGTAGGCGGATCGATCAGTTAGGGGTGAAATCCCAGGGCTCAACCCTGGAACTGCCTCTAATACTGTCGATCTCGAGTTCGAGAGAGGTGAGTGGAATTCCGAG\t0.03589650546038424\n",
      "4. TACGTAGGGGGCGAGCGTTGTCCGGAATTATTGGGCGTAAAGGGTACGTAGGCGGTTTAGAAAGTCAGATGTTAAAGCGTGAGGCTCAACCTCATAAAGCATTTGAAACTTCTAGACTTGAGTAGTGGAGAGGAAAGTGGAATTCCTAGT\t0.032089408195751394\n",
      "5. TACGAAGGGGGCTAGCGTTGTTCGGAATTACTGGGCGTAAAGCGCACGTAGGCGGATCGATCAGTTAGGGGTGAAATCCCGGGGCTCAACCCCGGAACTGCCTCTAATACTGTCGATCTCGAGTTCGAGAGAGGTGAGTGGAATTCCGAG\t0.026090360273687118\n",
      "6. TACGAAGGGGGCTAGCGTTGTTCGGAATTACTGGGCGTAAAGCGCACGTAGGCGGATATTTAAGTCAGGGGTGAAATCCCGGGGCTCAACCCCGGAACTGCCTTTGATACTGGGTATCTGGAGTATGGAAGAGGTAAGTGGAATTCCGAG\t0.021301211727290808\n",
      "7. TACGTAGGGTGCAAGCGTTAATCGGAATTACTGGGCGTAAAGCGTGCGCAGGCGGTCATGCAAGACAGATGTGAAATCCCCGGGCTCAACCTGGGAACTGCATTTGTGACTGCATGGCTGGAGTGCGGCAGAGGGGGATGGAATTCCGCG\t0.02089967002598517\n",
      "8. TACGAAGGGGGCTAGCGTTGCTCGGAATCACTGGGCGTAAAGCGCACGTAGGCGGACTCTTAAGTCGGTGGTGAAATCCTGGAGCTCAACTCCAGAACTGCCTTCGATACTGGGAGTCTCGAGTTCGGGAGAGGTGAGTGGAACTGCGAG\t0.01793868332826953\n",
      "9. TACGTAGGGTGCGAGCGTTGTCCGGAATTACTGGGCGTAAAGAGCTCGTAGGTGGTTTGTCGCGTCGTCTGTGAAATTCCGGGGCTTAACTCCGGGCGTGCAGGCGATACGGGCAAACTGGAGTGCTGTAGGGGAGACTGGAATTCCTGG\t0.016829200473829718\n",
      "10. TACGAAGGGGGCTAGCGTTGTTCGGATTTACTGGGCGTAAAGCGCACGTAGGCGGATTGGTCAGTTAGGGGTGAAATCCCAGAGCTCAACTCTGGAACTGCCCTTAATACTGCCAGTCTAGAGTCCGGAAGAGGTGAGTGGAACTCCTAG\t0.016493946771059094\n",
      "11. TACGAAGGGGGCTAGCGTTGCTCGGAATTACTGGGCGTAAAGGGCGCGTAGGCGGATCGTTAAGTCAGAGGTGAAATCCCAGGGCTCAACCCTGGAACTGCCTTTGATACTGGCGATCTTGAGTATGAGAGAGGTATGTGGAACTCCGAG\t0.014308368498352523\n",
      "12. TACGGAGGGTGCAAGCGTTAATCGGAATTACTGGGCGTAAAGGGCGCGTAGGTGGTATCTTAAGTTGGGTGTGAAATCCCCGGGCTCAACCTGGGAATTGCATCCAAAACTGGGGTGCTAGAGTGTGGTAGAGGGTAGCGGAATTTCTGG\t0.013625484150567208\n",
      "13. TACGTAGGGTGCAAGCGTTAATCGGAATTACTGGGCGTAAAGCGTGCGCAGGCGGTTCGGAAAGAAGGATGTGAAATCCCAGGGCTCAACCTTGGAACTGCATTCTTAACTACCGGGCTAGAGTGTGTCAGAGGGAGGTGGAATTCCGCG\t0.012637617656491879\n",
      "14. TACGTAGGTGGCAAGCGTTGTCCGGAATTATTGGGCGTAAAGCGCGCGCAGGCGGCCTTTTAAGTCTGATGTGAAAGCCCACGGCTTAACCGTGGAGGTGCATTGGAAACTGGAAGGCTTGAGGATATAAGAGGAAAGCGGAATTCCACG\t0.01183384182667903\n",
      "15. TACGAAGGGGGCTAGCGTTGCTCGGAATCACTGGGCGTAAAGGGCGCGTAGGCGGACTTTTAAGTCGGAGGTGAAAGCCCAGGGCTCAACCCTGGAATTGCCTTCGATACTGGGAGTCTTGAGTTCGGAAGAGGTTGGTGGAACTGCGAG\t0.010093730389956056\n",
      "16. TACGTAGGTGGCAAGCGTTGTCCGGAATTATTGGGCGTAAAGCGCACGCAGGCGGCCTTTTAAGTCTGATGTGAAATCCCACGGCTTAACCGTGGAAGGTCATTGGAAACTGGAAGGCTTGAGGATAGAAGAGGAAAGTGGAATTCCACG\t0.00990067077790733\n",
      "17. TACGTAGGGTGCAAGCGTTAATCGGAATTACTGGGCGTAAAGCGTGCGCAGGCGGTTTTGTAAGACAGTGGTGAAATCCCCGGGCTCAACCTGGGAACTGCCATTGTGACTGCAAGGCTAGAGTGCGGCAGAGGGGGATGGAATTCCGCG\t0.009885643191421664\n",
      "18. TACGAAGGGGGCTAGCGTTGTTCGGATTTACTGGGCGTAAAGCGCACGTAGGCGGTTTGTTAAGTCAGGGGTGAAATCCCGGAGCTCAACTCCGGAACTGCCCTTGATACTGGCAAGCTAGAGTCCGGAAGAGGTGAGTGGAACTCCTAG\t0.009533246780287948\n",
      "19. TACGTAGGTGGCAAGCGTTGTCCGGATTTATTGGGCGTAAAGCGAGCGCAGGCGGTTCCTTAAGTCTGATGTGAAAGCCCCCGGCTCAACCGGGGAAGGTCATTGGAAACTGGGGAACTTGAGTGCAGAAGAGGAGAGTGGAATTCCATG\t0.008912641998464905\n",
      "20. TACGTAGGTGGCAAGCGTTGTCCGGAATTATTGGGCGTAAAGCGCACGCAGGCGGCCTTCTAAGTCTGATGTGAAATCCCACGGCTTAACCGTGGAAGGTCATTGGAAACTGGAAGGCTTGAGGATAGAAGAGGAAAGTGGAATTCCACG\t0.00817044249903881\n",
      "21. TACGGAGGATCCAAGCGTTATCCGGAATCATTGGGTTTAAAGGGTCCGTAGGCGGCCTTATAAGTCAGTGGTGAAAGTTTTTGGCTTAACCAAAAAATTGCCATTGATACTGTAGGGCTTGAATGTCTGTGAAGTAACTAGAATATGTAG\t0.0072661419458206755\n",
      "22. TACGTAGGTGGCAAGCGTTATCCGGAATTATTGGGCGTAAAGGGAGCGTAGGCGGTCATGCAAGTCTATGGTAAAAGTTCGGGGCTTAACCCCGTCCGGCCATAGAAACTGTATGACTTGAGTACAGGAGAGGTTAGCGGAATTCCATGT\t0.0068192037224484815\n",
      "23. TACGTAGGGCGCAAGCGTTGTCCGGAATTATTGGGCGTAAAGAGCTCGTAGGCGGTTTGTCGCGTCTGGTGTGAAAACTCGAGGCTCAACCTCGAGCTTGCATCGGGTACGGGCAGACTAGAGTGCGGTAGGGGAGACTGGAATTCCTGG\t0.006482462405547307\n",
      "24. TACGGAGGGGACTAGCGTTGTTCGGAATTACTGGGCGTAAAGCGCACGTAGGCGGATCAGAAAGTTGGGGGTGAAATCCCGGGGCTCAACCCCGGAACTGCCTTCAAAACTATTGGTCTGGAGTTCGAGAGAGGTGAGTGGAATTCCGAG\t0.006249172346879216\n",
      "25. TACGTAGGTGGCAAGCGTTGTCCGGAATTATTGGGCGTAAAGCGCGCGCAGGTGGTTTAATAAGTCTGATGTGAAAGCCCACGGCTCAACCGTGGAGGGTCATTGGAAACTGTTAAACTTGAGTGCAGGAGAGAAAAGTGGAATTCCTAG\t0.006158952721067442\n"
     ]
    }
   ],
   "source": [
    "importances = bone_ASV_season_precip.feature_importances_\n",
    "std = np.std([tree.feature_importances_ for tree in bone_ASV_season_precip.estimators_],\n",
    "             axis=0)\n",
    "indices = np.argsort(importances)[::-1]\n",
    "\n",
    "feature_metadata = exp_ASV_season_precip.feature_metadata\n",
    "np.savetxt(\"importances/bone_ASV_season_precip_features.csv\", feature_metadata, delimiter=\",\", fmt='%s')\n",
    "\n",
    "\n",
    "#print the important ids in order\n",
    "general_importances = []\n",
    "count = 0\n",
    "print(\"Feature:\\t\\t\\t\\tImportance:\")\n",
    "for i in indices:\n",
    "    general_importances += (exp_ASV_season_precip.feature_metadata.index.values[i], importances[indices[count]])\n",
    "    if count < 25:\n",
    "        print(str(count+1)+\". \"+str(exp_ASV_season_precip.feature_metadata.index.values[i])+\"\\t\"+str(importances[indices[count]]))\n",
    "    count += 1\n",
    "    \n",
    "general_importances_df = pd.DataFrame(np.array(general_importances).reshape(10876,1))\n",
    "\n",
    "np.savetxt(\"importances/bone_ASV_season_precip_importances.csv\", general_importances_df, delimiter=\",\", fmt='%s')"
   ]
  },
  {
   "cell_type": "markdown",
   "metadata": {},
   "source": [
    "## Run the ASV model with season and humidity"
   ]
  },
  {
   "cell_type": "code",
   "execution_count": 40,
   "metadata": {},
   "outputs": [],
   "source": [
    "exp_ASV_season_hum = exp_ASV.add_sample_metadata_as_features(['season', 'accumulated_percent_humidity_days_base0'])"
   ]
  },
  {
   "cell_type": "code",
   "execution_count": 41,
   "metadata": {},
   "outputs": [],
   "source": [
    "# groupKfold = 6, will leave out one body for each model\n",
    "gkf = GroupKFold(6)\n",
    "\n",
    "X = exp_ASV_season_hum.data\n",
    "y = exp_ASV_season_hum.sample_metadata['ADD_0']\n",
    "y = (y.astype(float))\n",
    "\n",
    "groups = exp_ASV_season_hum.sample_metadata['host_subject_id']\n",
    "\n",
    "# used to test the param grid for parameter tuning\n",
    "# use the output of this estimator below for input into new estimator (not commented out)\n",
    "param_grid = {\"max_depth\": [4, 8, 16, None],\n",
    "              \"max_features\": ['sqrt', 'log2', 0.1],\n",
    "              \"min_samples_split\": [0.001, 0.01, 0.1],\n",
    "              \"min_weight_fraction_leaf\": [0.0001, 0.001, 0.01],\n",
    "              \"bootstrap\": [True, False]}\n",
    "\n",
    "#param_grid = {\"max_depth\": [8],\n",
    "#          \"max_features\": [0.1],\n",
    "#          \"min_samples_split\": [0.001],\n",
    "#          \"min_weight_fraction_leaf\": [0.0001],\n",
    "#          \"bootstrap\": [False]}\n",
    "\n",
    "rf = RandomForestRegressor(n_estimators=1000, random_state=999, criterion='mae')\n",
    "gs = GridSearchCV(rf, param_grid=param_grid, cv=gkf.split(X, y, groups), scoring='neg_mean_absolute_error', n_jobs=1)"
   ]
  },
  {
   "cell_type": "code",
   "execution_count": 42,
   "metadata": {},
   "outputs": [
    {
     "data": {
      "text/plain": [
       "GridSearchCV(cv=<generator object _BaseKFold.split at 0x119f29f50>,\n",
       "             error_score=nan,\n",
       "             estimator=RandomForestRegressor(bootstrap=True, ccp_alpha=0.0,\n",
       "                                             criterion='mae', max_depth=None,\n",
       "                                             max_features='auto',\n",
       "                                             max_leaf_nodes=None,\n",
       "                                             max_samples=None,\n",
       "                                             min_impurity_decrease=0.0,\n",
       "                                             min_impurity_split=None,\n",
       "                                             min_samples_leaf=1,\n",
       "                                             min_samples_split=2,\n",
       "                                             min_weight_fraction_leaf=0.0,\n",
       "                                             n_es...\n",
       "                                             oob_score=False, random_state=999,\n",
       "                                             verbose=0, warm_start=False),\n",
       "             iid='deprecated', n_jobs=1,\n",
       "             param_grid={'bootstrap': [True, False],\n",
       "                         'max_depth': [4, 8, 16, None],\n",
       "                         'max_features': ['sqrt', 'log2', 0.1],\n",
       "                         'min_samples_split': [0.001, 0.01, 0.1],\n",
       "                         'min_weight_fraction_leaf': [0.0001, 0.001, 0.01]},\n",
       "             pre_dispatch='2*n_jobs', refit=True, return_train_score=False,\n",
       "             scoring='neg_mean_absolute_error', verbose=0)"
      ]
     },
     "execution_count": 42,
     "metadata": {},
     "output_type": "execute_result"
    }
   ],
   "source": [
    "gs.fit(X, y)"
   ]
  },
  {
   "cell_type": "code",
   "execution_count": 43,
   "metadata": {},
   "outputs": [
    {
     "name": "stdout",
     "output_type": "stream",
     "text": [
      "{'bootstrap': False, 'max_depth': 16, 'max_features': 0.1, 'min_samples_split': 0.1, 'min_weight_fraction_leaf': 0.0001}\n"
     ]
    }
   ],
   "source": [
    "# this line is used when run with the first param grid to determine what the best parameters are for tuning\n",
    "print(gs.best_params_)"
   ]
  },
  {
   "cell_type": "code",
   "execution_count": 44,
   "metadata": {},
   "outputs": [
    {
     "name": "stdout",
     "output_type": "stream",
     "text": [
      "The best mean absolute error is 670.33\n"
     ]
    }
   ],
   "source": [
    "print('The best mean absolute error is', round(-gs.best_score_,2))"
   ]
  },
  {
   "cell_type": "code",
   "execution_count": 45,
   "metadata": {},
   "outputs": [
    {
     "data": {
      "text/plain": [
       "['models/bone_ASV_season_hum.pkl']"
      ]
     },
     "execution_count": 45,
     "metadata": {},
     "output_type": "execute_result"
    }
   ],
   "source": [
    "joblib.dump(gs.best_estimator_, 'models/bone_ASV_season_hum.pkl')"
   ]
  },
  {
   "cell_type": "code",
   "execution_count": 46,
   "metadata": {},
   "outputs": [
    {
     "data": {
      "text/plain": [
       "RandomForestRegressor(bootstrap=False, ccp_alpha=0.0, criterion='mae',\n",
       "                      max_depth=16, max_features=0.1, max_leaf_nodes=None,\n",
       "                      max_samples=None, min_impurity_decrease=0.0,\n",
       "                      min_impurity_split=None, min_samples_leaf=1,\n",
       "                      min_samples_split=0.1, min_weight_fraction_leaf=0.0001,\n",
       "                      n_estimators=1000, n_jobs=None, oob_score=False,\n",
       "                      random_state=999, verbose=0, warm_start=False)"
      ]
     },
     "execution_count": 46,
     "metadata": {},
     "output_type": "execute_result"
    }
   ],
   "source": [
    "bone_ASV_season_hum = joblib.load('models/bone_ASV_season_hum.pkl')\n",
    "bone_ASV_season_hum"
   ]
  },
  {
   "cell_type": "markdown",
   "metadata": {},
   "source": [
    "## Determine important features for ASV season and humidity model"
   ]
  },
  {
   "cell_type": "code",
   "execution_count": 49,
   "metadata": {},
   "outputs": [
    {
     "name": "stdout",
     "output_type": "stream",
     "text": [
      "Feature:\t\t\t\tImportance:\n",
      "1. accumulated_percent_humidity_days_base0\t0.11216395343735554\n",
      "2. TACGAAGGGGGCTAGCGTTGTTCGGAATTACTGGGCGTAAAGCGCACGTAGGCGGATTGGTCAGTTAGGGGTGAAATCCCAGGGCTCAACCCTGGAACTGCCTTTAATACTGCCGGTCTAGAGTTCGAGAGAGGTGAGTGGAATTCCGAG\t0.0395010430874544\n",
      "3. TACGAAGGGGGCTAGCGTTGTTCGGAATTACTGGGCGTAAAGCGCACGTAGGCGGATCGATCAGTTAGGGGTGAAATCCCAGGGCTCAACCCTGGAACTGCCTCTAATACTGTCGATCTCGAGTTCGAGAGAGGTGAGTGGAATTCCGAG\t0.03908837797598783\n",
      "4. TACGTAGGGGGCGAGCGTTGTCCGGAATTATTGGGCGTAAAGGGTACGTAGGCGGTTTAGAAAGTCAGATGTTAAAGCGTGAGGCTCAACCTCATAAAGCATTTGAAACTTCTAGACTTGAGTAGTGGAGAGGAAAGTGGAATTCCTAGT\t0.035560352357163344\n",
      "5. TACGAAGGGGGCTAGCGTTGTTCGGAATTACTGGGCGTAAAGCGCACGTAGGCGGATCGATCAGTTAGGGGTGAAATCCCGGGGCTCAACCCCGGAACTGCCTCTAATACTGTCGATCTCGAGTTCGAGAGAGGTGAGTGGAATTCCGAG\t0.028189149775976495\n",
      "6. TACGAAGGGGGCTAGCGTTGTTCGGAATTACTGGGCGTAAAGCGCACGTAGGCGGATATTTAAGTCAGGGGTGAAATCCCGGGGCTCAACCCCGGAACTGCCTTTGATACTGGGTATCTGGAGTATGGAAGAGGTAAGTGGAATTCCGAG\t0.023983240167204198\n",
      "7. TACGTAGGGTGCAAGCGTTAATCGGAATTACTGGGCGTAAAGCGTGCGCAGGCGGTCATGCAAGACAGATGTGAAATCCCCGGGCTCAACCTGGGAACTGCATTTGTGACTGCATGGCTGGAGTGCGGCAGAGGGGGATGGAATTCCGCG\t0.02294813177510511\n",
      "8. TACGAAGGGGGCTAGCGTTGCTCGGAATCACTGGGCGTAAAGCGCACGTAGGCGGACTCTTAAGTCGGTGGTGAAATCCTGGAGCTCAACTCCAGAACTGCCTTCGATACTGGGAGTCTCGAGTTCGGGAGAGGTGAGTGGAACTGCGAG\t0.020153345157766844\n",
      "9. TACGAAGGGGGCTAGCGTTGTTCGGATTTACTGGGCGTAAAGCGCACGTAGGCGGATTGGTCAGTTAGGGGTGAAATCCCAGAGCTCAACTCTGGAACTGCCCTTAATACTGCCAGTCTAGAGTCCGGAAGAGGTGAGTGGAACTCCTAG\t0.018308481545006264\n",
      "10. TACGTAGGGTGCGAGCGTTGTCCGGAATTACTGGGCGTAAAGAGCTCGTAGGTGGTTTGTCGCGTCGTCTGTGAAATTCCGGGGCTTAACTCCGGGCGTGCAGGCGATACGGGCAAACTGGAGTGCTGTAGGGGAGACTGGAATTCCTGG\t0.017413088469523174\n",
      "11. TACGAAGGGGGCTAGCGTTGCTCGGAATTACTGGGCGTAAAGGGCGCGTAGGCGGATCGTTAAGTCAGAGGTGAAATCCCAGGGCTCAACCCTGGAACTGCCTTTGATACTGGCGATCTTGAGTATGAGAGAGGTATGTGGAACTCCGAG\t0.016293281539571967\n",
      "12. TACGGAGGGTGCAAGCGTTAATCGGAATTACTGGGCGTAAAGGGCGCGTAGGTGGTATCTTAAGTTGGGTGTGAAATCCCCGGGCTCAACCTGGGAATTGCATCCAAAACTGGGGTGCTAGAGTGTGGTAGAGGGTAGCGGAATTTCTGG\t0.015505001152991346\n",
      "13. TACGTAGGTGGCAAGCGTTGTCCGGAATTATTGGGCGTAAAGCGCGCGCAGGCGGCCTTTTAAGTCTGATGTGAAAGCCCACGGCTTAACCGTGGAGGTGCATTGGAAACTGGAAGGCTTGAGGATATAAGAGGAAAGCGGAATTCCACG\t0.012948080761630114\n",
      "14. TACGAAGGGGGCTAGCGTTGCTCGGAATCACTGGGCGTAAAGGGCGCGTAGGCGGACTTTTAAGTCGGAGGTGAAAGCCCAGGGCTCAACCCTGGAATTGCCTTCGATACTGGGAGTCTTGAGTTCGGAAGAGGTTGGTGGAACTGCGAG\t0.012343890552703784\n",
      "15. TACGTAGGTGGCAAGCGTTGTCCGGAATTATTGGGCGTAAAGCGCACGCAGGCGGCCTTTTAAGTCTGATGTGAAATCCCACGGCTTAACCGTGGAAGGTCATTGGAAACTGGAAGGCTTGAGGATAGAAGAGGAAAGTGGAATTCCACG\t0.01203697376477848\n",
      "16. TACGTAGGGTGCAAGCGTTAATCGGAATTACTGGGCGTAAAGCGTGCGCAGGCGGTTCGGAAAGAAGGATGTGAAATCCCAGGGCTCAACCTTGGAACTGCATTCTTAACTACCGGGCTAGAGTGTGTCAGAGGGAGGTGGAATTCCGCG\t0.01173936711814252\n",
      "17. TACGTAGGGTGCAAGCGTTAATCGGAATTACTGGGCGTAAAGCGTGCGCAGGCGGTTTTGTAAGACAGTGGTGAAATCCCCGGGCTCAACCTGGGAACTGCCATTGTGACTGCAAGGCTAGAGTGCGGCAGAGGGGGATGGAATTCCGCG\t0.010469867610569976\n",
      "18. TACGAAGGGGGCTAGCGTTGTTCGGATTTACTGGGCGTAAAGCGCACGTAGGCGGTTTGTTAAGTCAGGGGTGAAATCCCGGAGCTCAACTCCGGAACTGCCCTTGATACTGGCAAGCTAGAGTCCGGAAGAGGTGAGTGGAACTCCTAG\t0.01005056635139033\n",
      "19. TACGTAGGTGGCAAGCGTTGTCCGGATTTATTGGGCGTAAAGCGAGCGCAGGCGGTTCCTTAAGTCTGATGTGAAAGCCCCCGGCTCAACCGGGGAAGGTCATTGGAAACTGGGGAACTTGAGTGCAGAAGAGGAGAGTGGAATTCCATG\t0.009679032022084855\n",
      "20. TACGTAGGTGGCAAGCGTTGTCCGGAATTATTGGGCGTAAAGCGCACGCAGGCGGCCTTCTAAGTCTGATGTGAAATCCCACGGCTTAACCGTGGAAGGTCATTGGAAACTGGAAGGCTTGAGGATAGAAGAGGAAAGTGGAATTCCACG\t0.008014584188454866\n",
      "21. TACGTAGGGCGCAAGCGTTGTCCGGAATTATTGGGCGTAAAGAGCTCGTAGGCGGTTTGTCGCGTCTGGTGTGAAAACTCGAGGCTCAACCTCGAGCTTGCATCGGGTACGGGCAGACTAGAGTGCGGTAGGGGAGACTGGAATTCCTGG\t0.007450133006594005\n",
      "22. TACGGAGGATCCAAGCGTTATCCGGAATCATTGGGTTTAAAGGGTCCGTAGGCGGCCTTATAAGTCAGTGGTGAAAGTTTTTGGCTTAACCAAAAAATTGCCATTGATACTGTAGGGCTTGAATGTCTGTGAAGTAACTAGAATATGTAG\t0.007408377173368553\n",
      "23. TACGGAGGGGACTAGCGTTGTTCGGAATTACTGGGCGTAAAGCGCACGTAGGCGGATCAGAAAGTTGGGGGTGAAATCCCGGGGCTCAACCCCGGAACTGCCTTCAAAACTATTGGTCTGGAGTTCGAGAGAGGTGAGTGGAATTCCGAG\t0.007059492816965361\n",
      "24. TACGTAGGTGGCAAGCGTTATCCGGAATTATTGGGCGTAAAGGGAGCGTAGGCGGTCATGCAAGTCTATGGTAAAAGTTCGGGGCTTAACCCCGTCCGGCCATAGAAACTGTATGACTTGAGTACAGGAGAGGTTAGCGGAATTCCATGT\t0.0068963519647673235\n",
      "25. TACGTAGGTGGCAAGCGTTGTCCGGAATTATTGGGCGTAAAGCGCGCGCAGGTGGTTTAATAAGTCTGATGTGAAAGCCCACGGCTCAACCGTGGAGGGTCATTGGAAACTGTTAAACTTGAGTGCAGGAGAGAAAAGTGGAATTCCTAG\t0.006743421411108074\n"
     ]
    }
   ],
   "source": [
    "importances = bone_ASV_season_hum.feature_importances_\n",
    "std = np.std([tree.feature_importances_ for tree in bone_ASV_season_hum.estimators_],\n",
    "             axis=0)\n",
    "indices = np.argsort(importances)[::-1]\n",
    "\n",
    "feature_metadata = exp_ASV_season_hum.feature_metadata\n",
    "np.savetxt(\"importances/bone_ASV_season_hum_features.csv\", feature_metadata, delimiter=\",\", fmt='%s')\n",
    "\n",
    "\n",
    "#print the important ids in order\n",
    "general_importances = []\n",
    "count = 0\n",
    "print(\"Feature:\\t\\t\\t\\tImportance:\")\n",
    "for i in indices:\n",
    "    general_importances += (exp_ASV_season_hum.feature_metadata.index.values[i], importances[indices[count]])\n",
    "    if count < 25:\n",
    "        print(str(count+1)+\". \"+str(exp_ASV_season_hum.feature_metadata.index.values[i])+\"\\t\"+str(importances[indices[count]]))\n",
    "    count += 1\n",
    "    \n",
    "general_importances_df = pd.DataFrame(np.array(general_importances).reshape(10876,1))\n",
    "\n",
    "np.savetxt(\"importances/bone_ASV_season_hum_importances.csv\", general_importances_df, delimiter=\",\", fmt='%s')"
   ]
  },
  {
   "cell_type": "markdown",
   "metadata": {},
   "source": [
    "## Run the ASV model with precipitation and humidity"
   ]
  },
  {
   "cell_type": "code",
   "execution_count": 50,
   "metadata": {},
   "outputs": [],
   "source": [
    "exp_ASV_precip_hum = exp_ASV.add_sample_metadata_as_features(['accumulated_precipitation_inches_base0', 'accumulated_percent_humidity_days_base0'])\n"
   ]
  },
  {
   "cell_type": "code",
   "execution_count": 51,
   "metadata": {},
   "outputs": [],
   "source": [
    "# groupKfold = 6, will leave out one body for each model\n",
    "gkf = GroupKFold(6)\n",
    "\n",
    "X = exp_ASV_precip_hum.data\n",
    "y = exp_ASV_precip_hum.sample_metadata['ADD_0']\n",
    "y = (y.astype(float))\n",
    "\n",
    "groups = exp_ASV_precip_hum.sample_metadata['host_subject_id']\n",
    "\n",
    "# used to test the param grid for parameter tuning\n",
    "# use the output of this estimator below for input into new estimator (not commented out)\n",
    "param_grid = {\"max_depth\": [4, 8, 16, None],\n",
    "              \"max_features\": ['sqrt', 'log2', 0.1],\n",
    "              \"min_samples_split\": [0.001, 0.01, 0.1],\n",
    "              \"min_weight_fraction_leaf\": [0.0001, 0.001, 0.01],\n",
    "              \"bootstrap\": [True, False]}\n",
    "\n",
    "#param_grid = {\"max_depth\": [8],\n",
    "#          \"max_features\": [0.1],\n",
    "#          \"min_samples_split\": [0.001],\n",
    "#          \"min_weight_fraction_leaf\": [0.0001],\n",
    "#          \"bootstrap\": [False]}\n",
    "\n",
    "rf = RandomForestRegressor(n_estimators=1000, random_state=999, criterion='mae')\n",
    "gs = GridSearchCV(rf, param_grid=param_grid, cv=gkf.split(X, y, groups), scoring='neg_mean_absolute_error', n_jobs=1)"
   ]
  },
  {
   "cell_type": "code",
   "execution_count": 52,
   "metadata": {},
   "outputs": [
    {
     "data": {
      "text/plain": [
       "GridSearchCV(cv=<generator object _BaseKFold.split at 0x104309650>,\n",
       "             error_score=nan,\n",
       "             estimator=RandomForestRegressor(bootstrap=True, ccp_alpha=0.0,\n",
       "                                             criterion='mae', max_depth=None,\n",
       "                                             max_features='auto',\n",
       "                                             max_leaf_nodes=None,\n",
       "                                             max_samples=None,\n",
       "                                             min_impurity_decrease=0.0,\n",
       "                                             min_impurity_split=None,\n",
       "                                             min_samples_leaf=1,\n",
       "                                             min_samples_split=2,\n",
       "                                             min_weight_fraction_leaf=0.0,\n",
       "                                             n_es...\n",
       "                                             oob_score=False, random_state=999,\n",
       "                                             verbose=0, warm_start=False),\n",
       "             iid='deprecated', n_jobs=1,\n",
       "             param_grid={'bootstrap': [True, False],\n",
       "                         'max_depth': [4, 8, 16, None],\n",
       "                         'max_features': ['sqrt', 'log2', 0.1],\n",
       "                         'min_samples_split': [0.001, 0.01, 0.1],\n",
       "                         'min_weight_fraction_leaf': [0.0001, 0.001, 0.01]},\n",
       "             pre_dispatch='2*n_jobs', refit=True, return_train_score=False,\n",
       "             scoring='neg_mean_absolute_error', verbose=0)"
      ]
     },
     "execution_count": 52,
     "metadata": {},
     "output_type": "execute_result"
    }
   ],
   "source": [
    "gs.fit(X, y)"
   ]
  },
  {
   "cell_type": "code",
   "execution_count": 53,
   "metadata": {},
   "outputs": [
    {
     "name": "stdout",
     "output_type": "stream",
     "text": [
      "{'bootstrap': False, 'max_depth': 16, 'max_features': 0.1, 'min_samples_split': 0.001, 'min_weight_fraction_leaf': 0.0001}\n"
     ]
    }
   ],
   "source": [
    "# this line is used when run with the first param grid to determine what the best parameters are for tuning\n",
    "print(gs.best_params_)"
   ]
  },
  {
   "cell_type": "code",
   "execution_count": 54,
   "metadata": {},
   "outputs": [
    {
     "name": "stdout",
     "output_type": "stream",
     "text": [
      "The best mean absolute error is 582.63\n"
     ]
    }
   ],
   "source": [
    "print('The best mean absolute error is', round(-gs.best_score_,2))"
   ]
  },
  {
   "cell_type": "code",
   "execution_count": 55,
   "metadata": {},
   "outputs": [
    {
     "data": {
      "text/plain": [
       "['models/bone_ASV_precip_hum.pkl']"
      ]
     },
     "execution_count": 55,
     "metadata": {},
     "output_type": "execute_result"
    }
   ],
   "source": [
    "joblib.dump(gs.best_estimator_, 'models/bone_ASV_precip_hum.pkl')"
   ]
  },
  {
   "cell_type": "code",
   "execution_count": 56,
   "metadata": {},
   "outputs": [
    {
     "data": {
      "text/plain": [
       "RandomForestRegressor(bootstrap=False, ccp_alpha=0.0, criterion='mae',\n",
       "                      max_depth=16, max_features=0.1, max_leaf_nodes=None,\n",
       "                      max_samples=None, min_impurity_decrease=0.0,\n",
       "                      min_impurity_split=None, min_samples_leaf=1,\n",
       "                      min_samples_split=0.001, min_weight_fraction_leaf=0.0001,\n",
       "                      n_estimators=1000, n_jobs=None, oob_score=False,\n",
       "                      random_state=999, verbose=0, warm_start=False)"
      ]
     },
     "execution_count": 56,
     "metadata": {},
     "output_type": "execute_result"
    }
   ],
   "source": [
    "bone_ASV_precip_hum = joblib.load('models/bone_ASV_precip_hum.pkl')\n",
    "bone_ASV_precip_hum"
   ]
  },
  {
   "cell_type": "markdown",
   "metadata": {},
   "source": [
    "## Determine important features for ASV precipitation and humidity model"
   ]
  },
  {
   "cell_type": "code",
   "execution_count": 58,
   "metadata": {},
   "outputs": [
    {
     "name": "stdout",
     "output_type": "stream",
     "text": [
      "Feature:\t\t\t\tImportance:\n",
      "1. accumulated_percent_humidity_days_base0\t0.10644753326490276\n",
      "2. accumulated_precipitation_inches_base0\t0.08665101699121121\n",
      "3. TACGTAGGGGGCGAGCGTTGTCCGGAATTATTGGGCGTAAAGGGTACGTAGGCGGTTTAGAAAGTCAGATGTTAAAGCGTGAGGCTCAACCTCATAAAGCATTTGAAACTTCTAGACTTGAGTAGTGGAGAGGAAAGTGGAATTCCTAGT\t0.029249518550170404\n",
      "4. TACGAAGGGGGCTAGCGTTGTTCGGAATTACTGGGCGTAAAGCGCACGTAGGCGGATATTTAAGTCAGGGGTGAAATCCCGGGGCTCAACCCCGGAACTGCCTTTGATACTGGGTATCTGGAGTATGGAAGAGGTAAGTGGAATTCCGAG\t0.02912662014476594\n",
      "5. TACGAAGGGGGCTAGCGTTGTTCGGAATTACTGGGCGTAAAGCGCACGTAGGCGGATTGGTCAGTTAGGGGTGAAATCCCAGGGCTCAACCCTGGAACTGCCTTTAATACTGCCGGTCTAGAGTTCGAGAGAGGTGAGTGGAATTCCGAG\t0.02872784810268148\n",
      "6. TACGAAGGGGGCTAGCGTTGTTCGGAATTACTGGGCGTAAAGCGCACGTAGGCGGATCGATCAGTTAGGGGTGAAATCCCGGGGCTCAACCCCGGAACTGCCTCTAATACTGTCGATCTCGAGTTCGAGAGAGGTGAGTGGAATTCCGAG\t0.025771318836747895\n",
      "7. TACGAAGGGGGCTAGCGTTGTTCGGAATTACTGGGCGTAAAGCGCACGTAGGCGGATCGATCAGTTAGGGGTGAAATCCCAGGGCTCAACCCTGGAACTGCCTCTAATACTGTCGATCTCGAGTTCGAGAGAGGTGAGTGGAATTCCGAG\t0.024691063505071015\n",
      "8. TACGAAGGGGGCTAGCGTTGCTCGGAATCACTGGGCGTAAAGCGCACGTAGGCGGACTCTTAAGTCGGTGGTGAAATCCTGGAGCTCAACTCCAGAACTGCCTTCGATACTGGGAGTCTCGAGTTCGGGAGAGGTGAGTGGAACTGCGAG\t0.016943935951588215\n",
      "9. TACGTAGGGTGCAAGCGTTAATCGGAATTACTGGGCGTAAAGCGTGCGCAGGCGGTCATGCAAGACAGATGTGAAATCCCCGGGCTCAACCTGGGAACTGCATTTGTGACTGCATGGCTGGAGTGCGGCAGAGGGGGATGGAATTCCGCG\t0.015532960081838089\n",
      "10. TACGTAGGGTGCGAGCGTTGTCCGGAATTACTGGGCGTAAAGAGCTCGTAGGTGGTTTGTCGCGTCGTCTGTGAAATTCCGGGGCTTAACTCCGGGCGTGCAGGCGATACGGGCAAACTGGAGTGCTGTAGGGGAGACTGGAATTCCTGG\t0.013933273827186496\n",
      "11. TACGAAGGGGGCTAGCGTTGCTCGGAATCACTGGGCGTAAAGGGCGCGTAGGCGGACTTTTAAGTCGGAGGTGAAAGCCCAGGGCTCAACCCTGGAATTGCCTTCGATACTGGGAGTCTTGAGTTCGGAAGAGGTTGGTGGAACTGCGAG\t0.013926279345398411\n",
      "12. TACGAAGGGGGCTAGCGTTGTTCGGATTTACTGGGCGTAAAGCGCACGTAGGCGGATTGGTCAGTTAGGGGTGAAATCCCAGAGCTCAACTCTGGAACTGCCCTTAATACTGCCAGTCTAGAGTCCGGAAGAGGTGAGTGGAACTCCTAG\t0.013753467489206618\n",
      "13. TACGAAGGGGGCTAGCGTTGCTCGGAATTACTGGGCGTAAAGGGCGCGTAGGCGGATCGTTAAGTCAGAGGTGAAATCCCAGGGCTCAACCCTGGAACTGCCTTTGATACTGGCGATCTTGAGTATGAGAGAGGTATGTGGAACTCCGAG\t0.011162777239396755\n",
      "14. TACGTAGGGTGCAAGCGTTAATCGGAATTACTGGGCGTAAAGCGTGCGCAGGCGGTTCGGAAAGAAGGATGTGAAATCCCAGGGCTCAACCTTGGAACTGCATTCTTAACTACCGGGCTAGAGTGTGTCAGAGGGAGGTGGAATTCCGCG\t0.010998907281413775\n",
      "15. TACGTAGGTGGCAAGCGTTGTCCGGAATTATTGGGCGTAAAGCGCACGCAGGCGGCCTTTTAAGTCTGATGTGAAATCCCACGGCTTAACCGTGGAAGGTCATTGGAAACTGGAAGGCTTGAGGATAGAAGAGGAAAGTGGAATTCCACG\t0.00980573947872824\n",
      "16. TACGGAGGGTGCAAGCGTTAATCGGAATTACTGGGCGTAAAGGGCGCGTAGGTGGTATCTTAAGTTGGGTGTGAAATCCCCGGGCTCAACCTGGGAATTGCATCCAAAACTGGGGTGCTAGAGTGTGGTAGAGGGTAGCGGAATTTCTGG\t0.009536378881366986\n",
      "17. TACGTAGGTGGCAAGCGTTGTCCGGAATTATTGGGCGTAAAGCGCGCGCAGGCGGCCTTTTAAGTCTGATGTGAAAGCCCACGGCTTAACCGTGGAGGTGCATTGGAAACTGGAAGGCTTGAGGATATAAGAGGAAAGCGGAATTCCACG\t0.00944467164408484\n",
      "18. TACGTAGGTGGCAAGCGTTGTCCGGATTTATTGGGCGTAAAGCGAGCGCAGGCGGTTCCTTAAGTCTGATGTGAAAGCCCCCGGCTCAACCGGGGAAGGTCATTGGAAACTGGGGAACTTGAGTGCAGAAGAGGAGAGTGGAATTCCATG\t0.008328291680335997\n",
      "19. TACGTAGGTGGCAAGCGTTGTCCGGAATTATTGGGCGTAAAGCGCGCGCAGGCGGTCCTTTAAGTCTGATGTGAAAGCCCACGGCTCAACCGTGGAAGGTCATTGGAAACTGGAGGACTTGAGTATAAGAGAGGAAAGTGGAATTCCACG\t0.007973509684501095\n",
      "20. TACGTAGGTGGCAAGCGTTATCCGGAATTATTGGGCGTAAAGGGAGCGTAGGCGGTCATGCAAGTCTATGGTAAAAGTTCGGGGCTTAACCCCGTCCGGCCATAGAAACTGTATGACTTGAGTACAGGAGAGGTTAGCGGAATTCCATGT\t0.006452434275197198\n",
      "21. TACGTAGGGTGCAAGCGTTAATCGGAATTACTGGGCGTAAAGCGTGCGCAGGCGGTTTTGTAAGACAGTGGTGAAATCCCCGGGCTCAACCTGGGAACTGCCATTGTGACTGCAAGGCTAGAGTGCGGCAGAGGGGGATGGAATTCCGCG\t0.006126219843180685\n",
      "22. TACGTAGGTGGCAAGCGTTGTCCGGAATTATTGGGCGTAAAGCGCACGCAGGCGGCCTTCTAAGTCTGATGTGAAATCCCACGGCTTAACCGTGGAAGGTCATTGGAAACTGGAAGGCTTGAGGATAGAAGAGGAAAGTGGAATTCCACG\t0.006000892569008808\n",
      "23. TACGTATGGGGCAAGCGTTGTCCGGAATTATTGGGCGTAAAGGGTACGTAGGCGGTTTATCAAGTCTATATTAAAAGGCAATGGCTTAACCATTGTATGGTATAGAAACTGGTAAACTTGAGTAGATGAGGGGAAAGTGGAATTCCTAGT\t0.005868338202937835\n",
      "24. TACGTAGGTGGCAAGCGTTGTCCGGAATTATTGGGCGTAAAGCGCGCGCAGGTGGTTTAATAAGTCTGATGTGAAAGCCCACGGCTCAACCGTGGAGGGTCATTGGAAACTGTTAAACTTGAGTGCAGGAGAGAAAAGTGGAATTCCTAG\t0.005676041328770356\n",
      "25. TACGAAGGGGGCTAGCGTTGTTCGGATTTACTGGGCGTAAAGCGCACGTAGGCGGTTTGTTAAGTCAGGGGTGAAATCCCGGAGCTCAACTCCGGAACTGCCCTTGATACTGGCAAGCTAGAGTCCGGAAGAGGTGAGTGGAACTCCTAG\t0.005523699014943752\n"
     ]
    }
   ],
   "source": [
    "importances = bone_ASV_precip_hum.feature_importances_\n",
    "std = np.std([tree.feature_importances_ for tree in bone_ASV_precip_hum.estimators_],\n",
    "             axis=0)\n",
    "indices = np.argsort(importances)[::-1]\n",
    "\n",
    "feature_metadata = exp_ASV_precip_hum.feature_metadata\n",
    "np.savetxt(\"importances/bone_ASV_precip_hum_features.csv\", feature_metadata, delimiter=\",\", fmt='%s')\n",
    "\n",
    "\n",
    "#print the important ids in order\n",
    "general_importances = []\n",
    "count = 0\n",
    "print(\"Feature:\\t\\t\\t\\tImportance:\")\n",
    "for i in indices:\n",
    "    general_importances += (exp_ASV_precip_hum.feature_metadata.index.values[i], importances[indices[count]])\n",
    "    if count < 25:\n",
    "        print(str(count+1)+\". \"+str(exp_ASV_precip_hum.feature_metadata.index.values[i])+\"\\t\"+str(importances[indices[count]]))\n",
    "    count += 1\n",
    "    \n",
    "general_importances_df = pd.DataFrame(np.array(general_importances).reshape(10874,1))\n",
    "\n",
    "np.savetxt(\"importances/bone_ASV_precip_hum_importances.csv\", general_importances_df, delimiter=\",\", fmt='%s')"
   ]
  },
  {
   "cell_type": "markdown",
   "metadata": {},
   "source": [
    "## Run the ASV model with season, precipitation, and humidity"
   ]
  },
  {
   "cell_type": "code",
   "execution_count": 59,
   "metadata": {},
   "outputs": [],
   "source": [
    "exp_ASV_season_precip_hum = exp_ASV.add_sample_metadata_as_features(['season', 'accumulated_precipitation_inches_base0', 'accumulated_percent_humidity_days_base0'])\n"
   ]
  },
  {
   "cell_type": "code",
   "execution_count": 60,
   "metadata": {},
   "outputs": [],
   "source": [
    "# groupKfold = 6, will leave out one body for each model\n",
    "gkf = GroupKFold(6)\n",
    "\n",
    "X = exp_ASV_season_precip_hum.data\n",
    "y = exp_ASV_season_precip_hum.sample_metadata['ADD_0']\n",
    "y = (y.astype(float))\n",
    "\n",
    "groups = exp_ASV_season_precip_hum.sample_metadata['host_subject_id']\n",
    "\n",
    "# used to test the param grid for parameter tuning\n",
    "# use the output of this estimator below for input into new estimator (not commented out)\n",
    "param_grid = {\"max_depth\": [4, 8, 16, None],\n",
    "              \"max_features\": ['sqrt', 'log2', 0.1],\n",
    "              \"min_samples_split\": [0.001, 0.01, 0.1],\n",
    "              \"min_weight_fraction_leaf\": [0.0001, 0.001, 0.01],\n",
    "              \"bootstrap\": [True, False]}\n",
    "\n",
    "#param_grid = {\"max_depth\": [8],\n",
    "#          \"max_features\": [0.1],\n",
    "#          \"min_samples_split\": [0.001],\n",
    "#          \"min_weight_fraction_leaf\": [0.0001],\n",
    "#          \"bootstrap\": [False]}\n",
    "\n",
    "rf = RandomForestRegressor(n_estimators=1000, random_state=999, criterion='mae')\n",
    "gs = GridSearchCV(rf, param_grid=param_grid, cv=gkf.split(X, y, groups), scoring='neg_mean_absolute_error', n_jobs=1)"
   ]
  },
  {
   "cell_type": "code",
   "execution_count": 61,
   "metadata": {},
   "outputs": [
    {
     "data": {
      "text/plain": [
       "GridSearchCV(cv=<generator object _BaseKFold.split at 0x1043092d0>,\n",
       "             error_score=nan,\n",
       "             estimator=RandomForestRegressor(bootstrap=True, ccp_alpha=0.0,\n",
       "                                             criterion='mae', max_depth=None,\n",
       "                                             max_features='auto',\n",
       "                                             max_leaf_nodes=None,\n",
       "                                             max_samples=None,\n",
       "                                             min_impurity_decrease=0.0,\n",
       "                                             min_impurity_split=None,\n",
       "                                             min_samples_leaf=1,\n",
       "                                             min_samples_split=2,\n",
       "                                             min_weight_fraction_leaf=0.0,\n",
       "                                             n_es...\n",
       "                                             oob_score=False, random_state=999,\n",
       "                                             verbose=0, warm_start=False),\n",
       "             iid='deprecated', n_jobs=1,\n",
       "             param_grid={'bootstrap': [True, False],\n",
       "                         'max_depth': [4, 8, 16, None],\n",
       "                         'max_features': ['sqrt', 'log2', 0.1],\n",
       "                         'min_samples_split': [0.001, 0.01, 0.1],\n",
       "                         'min_weight_fraction_leaf': [0.0001, 0.001, 0.01]},\n",
       "             pre_dispatch='2*n_jobs', refit=True, return_train_score=False,\n",
       "             scoring='neg_mean_absolute_error', verbose=0)"
      ]
     },
     "execution_count": 61,
     "metadata": {},
     "output_type": "execute_result"
    }
   ],
   "source": [
    "gs.fit(X, y)"
   ]
  },
  {
   "cell_type": "code",
   "execution_count": 62,
   "metadata": {},
   "outputs": [
    {
     "name": "stdout",
     "output_type": "stream",
     "text": [
      "{'bootstrap': False, 'max_depth': 8, 'max_features': 0.1, 'min_samples_split': 0.001, 'min_weight_fraction_leaf': 0.0001}\n"
     ]
    }
   ],
   "source": [
    "# this line is used when run with the first param grid to determine what the best parameters are for tuning\n",
    "print(gs.best_params_)"
   ]
  },
  {
   "cell_type": "code",
   "execution_count": 63,
   "metadata": {},
   "outputs": [
    {
     "name": "stdout",
     "output_type": "stream",
     "text": [
      "The best mean absolute error is 583.48\n"
     ]
    }
   ],
   "source": [
    "print('The best mean absolute error is', round(-gs.best_score_,2))"
   ]
  },
  {
   "cell_type": "code",
   "execution_count": 64,
   "metadata": {},
   "outputs": [
    {
     "data": {
      "text/plain": [
       "['models/bone_ASV_season_precip_hum.pkl']"
      ]
     },
     "execution_count": 64,
     "metadata": {},
     "output_type": "execute_result"
    }
   ],
   "source": [
    "joblib.dump(gs.best_estimator_, 'models/bone_ASV_season_precip_hum.pkl')"
   ]
  },
  {
   "cell_type": "code",
   "execution_count": 65,
   "metadata": {},
   "outputs": [
    {
     "data": {
      "text/plain": [
       "RandomForestRegressor(bootstrap=False, ccp_alpha=0.0, criterion='mae',\n",
       "                      max_depth=8, max_features=0.1, max_leaf_nodes=None,\n",
       "                      max_samples=None, min_impurity_decrease=0.0,\n",
       "                      min_impurity_split=None, min_samples_leaf=1,\n",
       "                      min_samples_split=0.001, min_weight_fraction_leaf=0.0001,\n",
       "                      n_estimators=1000, n_jobs=None, oob_score=False,\n",
       "                      random_state=999, verbose=0, warm_start=False)"
      ]
     },
     "execution_count": 65,
     "metadata": {},
     "output_type": "execute_result"
    }
   ],
   "source": [
    "bone_ASV_season_precip_hum = joblib.load('models/bone_ASV_season_precip_hum.pkl')\n",
    "bone_ASV_season_precip_hum"
   ]
  },
  {
   "cell_type": "markdown",
   "metadata": {},
   "source": [
    "## Determine important features for ASV season, precipitation, humidity model"
   ]
  },
  {
   "cell_type": "code",
   "execution_count": 67,
   "metadata": {},
   "outputs": [
    {
     "name": "stdout",
     "output_type": "stream",
     "text": [
      "Feature:\t\t\t\tImportance:\n",
      "1. accumulated_percent_humidity_days_base0\t0.10836240458683657\n",
      "2. accumulated_precipitation_inches_base0\t0.08394406484883161\n",
      "3. TACGAAGGGGGCTAGCGTTGTTCGGAATTACTGGGCGTAAAGCGCACGTAGGCGGATTGGTCAGTTAGGGGTGAAATCCCAGGGCTCAACCCTGGAACTGCCTTTAATACTGCCGGTCTAGAGTTCGAGAGAGGTGAGTGGAATTCCGAG\t0.038227264067744994\n",
      "4. TACGAAGGGGGCTAGCGTTGTTCGGAATTACTGGGCGTAAAGCGCACGTAGGCGGATCGATCAGTTAGGGGTGAAATCCCAGGGCTCAACCCTGGAACTGCCTCTAATACTGTCGATCTCGAGTTCGAGAGAGGTGAGTGGAATTCCGAG\t0.034057543148500555\n",
      "5. TACGTAGGGGGCGAGCGTTGTCCGGAATTATTGGGCGTAAAGGGTACGTAGGCGGTTTAGAAAGTCAGATGTTAAAGCGTGAGGCTCAACCTCATAAAGCATTTGAAACTTCTAGACTTGAGTAGTGGAGAGGAAAGTGGAATTCCTAGT\t0.02717547784154946\n",
      "6. TACGAAGGGGGCTAGCGTTGTTCGGAATTACTGGGCGTAAAGCGCACGTAGGCGGATCGATCAGTTAGGGGTGAAATCCCGGGGCTCAACCCCGGAACTGCCTCTAATACTGTCGATCTCGAGTTCGAGAGAGGTGAGTGGAATTCCGAG\t0.02512692653479867\n",
      "7. TACGAAGGGGGCTAGCGTTGTTCGGAATTACTGGGCGTAAAGCGCACGTAGGCGGATATTTAAGTCAGGGGTGAAATCCCGGGGCTCAACCCCGGAACTGCCTTTGATACTGGGTATCTGGAGTATGGAAGAGGTAAGTGGAATTCCGAG\t0.020749320498310048\n",
      "8. TACGTAGGGTGCAAGCGTTAATCGGAATTACTGGGCGTAAAGCGTGCGCAGGCGGTCATGCAAGACAGATGTGAAATCCCCGGGCTCAACCTGGGAACTGCATTTGTGACTGCATGGCTGGAGTGCGGCAGAGGGGGATGGAATTCCGCG\t0.017443494949871883\n",
      "9. TACGAAGGGGGCTAGCGTTGCTCGGAATCACTGGGCGTAAAGCGCACGTAGGCGGACTCTTAAGTCGGTGGTGAAATCCTGGAGCTCAACTCCAGAACTGCCTTCGATACTGGGAGTCTCGAGTTCGGGAGAGGTGAGTGGAACTGCGAG\t0.014788510595337192\n",
      "10. TACGAAGGGGGCTAGCGTTGTTCGGATTTACTGGGCGTAAAGCGCACGTAGGCGGATTGGTCAGTTAGGGGTGAAATCCCAGAGCTCAACTCTGGAACTGCCCTTAATACTGCCAGTCTAGAGTCCGGAAGAGGTGAGTGGAACTCCTAG\t0.013913585600490478\n",
      "11. TACGGAGGGTGCAAGCGTTAATCGGAATTACTGGGCGTAAAGGGCGCGTAGGTGGTATCTTAAGTTGGGTGTGAAATCCCCGGGCTCAACCTGGGAATTGCATCCAAAACTGGGGTGCTAGAGTGTGGTAGAGGGTAGCGGAATTTCTGG\t0.013871168932199323\n",
      "12. TACGAAGGGGGCTAGCGTTGCTCGGAATTACTGGGCGTAAAGGGCGCGTAGGCGGATCGTTAAGTCAGAGGTGAAATCCCAGGGCTCAACCCTGGAACTGCCTTTGATACTGGCGATCTTGAGTATGAGAGAGGTATGTGGAACTCCGAG\t0.013025403856597258\n",
      "13. TACGTAGGGTGCAAGCGTTAATCGGAATTACTGGGCGTAAAGCGTGCGCAGGCGGTTCGGAAAGAAGGATGTGAAATCCCAGGGCTCAACCTTGGAACTGCATTCTTAACTACCGGGCTAGAGTGTGTCAGAGGGAGGTGGAATTCCGCG\t0.011684125052475486\n",
      "14. TACGTAGGTGGCAAGCGTTGTCCGGAATTATTGGGCGTAAAGCGCGCGCAGGCGGCCTTTTAAGTCTGATGTGAAAGCCCACGGCTTAACCGTGGAGGTGCATTGGAAACTGGAAGGCTTGAGGATATAAGAGGAAAGCGGAATTCCACG\t0.01091045448454805\n",
      "15. TACGTAGGGTGCGAGCGTTGTCCGGAATTACTGGGCGTAAAGAGCTCGTAGGTGGTTTGTCGCGTCGTCTGTGAAATTCCGGGGCTTAACTCCGGGCGTGCAGGCGATACGGGCAAACTGGAGTGCTGTAGGGGAGACTGGAATTCCTGG\t0.010632760025306259\n",
      "16. TACGTAGGGTGCAAGCGTTAATCGGAATTACTGGGCGTAAAGCGTGCGCAGGCGGTTTTGTAAGACAGTGGTGAAATCCCCGGGCTCAACCTGGGAACTGCCATTGTGACTGCAAGGCTAGAGTGCGGCAGAGGGGGATGGAATTCCGCG\t0.008861068026344588\n",
      "17. TACGTAGGTGGCAAGCGTTGTCCGGATTTATTGGGCGTAAAGCGAGCGCAGGCGGTTCCTTAAGTCTGATGTGAAAGCCCCCGGCTCAACCGGGGAAGGTCATTGGAAACTGGGGAACTTGAGTGCAGAAGAGGAGAGTGGAATTCCATG\t0.00880933604276845\n",
      "18. TACGAAGGGGGCTAGCGTTGCTCGGAATCACTGGGCGTAAAGGGCGCGTAGGCGGACTTTTAAGTCGGAGGTGAAAGCCCAGGGCTCAACCCTGGAATTGCCTTCGATACTGGGAGTCTTGAGTTCGGAAGAGGTTGGTGGAACTGCGAG\t0.008229257430231056\n",
      "19. TACGTAGGTGGCAAGCGTTGTCCGGAATTATTGGGCGTAAAGCGCACGCAGGCGGCCTTTTAAGTCTGATGTGAAATCCCACGGCTTAACCGTGGAAGGTCATTGGAAACTGGAAGGCTTGAGGATAGAAGAGGAAAGTGGAATTCCACG\t0.007980861946726035\n",
      "20. TACGAAGGGGGCTAGCGTTGTTCGGATTTACTGGGCGTAAAGCGCACGTAGGCGGTTTGTTAAGTCAGGGGTGAAATCCCGGAGCTCAACTCCGGAACTGCCCTTGATACTGGCAAGCTAGAGTCCGGAAGAGGTGAGTGGAACTCCTAG\t0.006626934359248788\n",
      "21. TACGTAGGTGGCAAGCGTTGTCCGGAATTATTGGGCGTAAAGCGCACGCAGGCGGCCTTCTAAGTCTGATGTGAAATCCCACGGCTTAACCGTGGAAGGTCATTGGAAACTGGAAGGCTTGAGGATAGAAGAGGAAAGTGGAATTCCACG\t0.00638984567089008\n",
      "22. TACGGAGGGGACTAGCGTTGTTCGGAATTACTGGGCGTAAAGCGCACGTAGGCGGATCAGAAAGTTGGGGGTGAAATCCCGGGGCTCAACCCCGGAACTGCCTTCAAAACTATTGGTCTGGAGTTCGAGAGAGGTGAGTGGAATTCCGAG\t0.006204658676878901\n",
      "23. TACGTAGGTGGCAAGCGTTATCCGGAATTATTGGGCGTAAAGGGAGCGTAGGCGGTCATGCAAGTCTATGGTAAAAGTTCGGGGCTTAACCCCGTCCGGCCATAGAAACTGTATGACTTGAGTACAGGAGAGGTTAGCGGAATTCCATGT\t0.00599476670254392\n",
      "24. TACGTATGGGGCAAGCGTTGTCCGGAATTATTGGGCGTAAAGGGTACGTAGGCGGTTTATCAAGTCTATATTAAAAGGCAATGGCTTAACCATTGTATGGTATAGAAACTGGTAAACTTGAGTAGATGAGGGGAAAGTGGAATTCCTAGT\t0.00539723032664778\n",
      "25. TACGTAGGTGGCAAGCGTTGTCCGGAATTATTGGGCGTAAAGCGCGCGCAGGCGGTCCTTTAAGTCTGATGTGAAAGCCCACGGCTCAACCGTGGAAGGTCATTGGAAACTGGAGGACTTGAGTATAAGAGAGGAAAGTGGAATTCCACG\t0.004870572310008342\n"
     ]
    }
   ],
   "source": [
    "importances = bone_ASV_season_precip_hum.feature_importances_\n",
    "std = np.std([tree.feature_importances_ for tree in bone_ASV_season_precip_hum.estimators_],\n",
    "             axis=0)\n",
    "indices = np.argsort(importances)[::-1]\n",
    "\n",
    "feature_metadata = exp_ASV_season_precip_hum.feature_metadata\n",
    "np.savetxt(\"importances/bone_ASV_season_precip_hum_features.csv\", feature_metadata, delimiter=\",\", fmt='%s')\n",
    "\n",
    "\n",
    "#print the important ids in order\n",
    "general_importances = []\n",
    "count = 0\n",
    "print(\"Feature:\\t\\t\\t\\tImportance:\")\n",
    "for i in indices:\n",
    "    general_importances += (exp_ASV_season_precip_hum.feature_metadata.index.values[i], importances[indices[count]])\n",
    "    if count < 25:\n",
    "        print(str(count+1)+\". \"+str(exp_ASV_season_precip_hum.feature_metadata.index.values[i])+\"\\t\"+str(importances[indices[count]]))\n",
    "    count += 1\n",
    "    \n",
    "general_importances_df = pd.DataFrame(np.array(general_importances).reshape(10878,1))\n",
    "\n",
    "np.savetxt(\"importances/bone_ASV_season_precip_hum_importances.csv\", general_importances_df, delimiter=\",\", fmt='%s')"
   ]
  }
 ],
 "metadata": {
  "kernelspec": {
   "display_name": "Python 3",
   "language": "python",
   "name": "python3"
  },
  "language_info": {
   "codemirror_mode": {
    "name": "ipython",
    "version": 3
   },
   "file_extension": ".py",
   "mimetype": "text/x-python",
   "name": "python",
   "nbconvert_exporter": "python",
   "pygments_lexer": "ipython3",
   "version": "3.7.7"
  }
 },
 "nbformat": 4,
 "nbformat_minor": 4
}
