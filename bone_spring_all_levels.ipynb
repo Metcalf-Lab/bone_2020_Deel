{
 "cells": [
  {
   "cell_type": "markdown",
   "metadata": {},
   "source": [
    "## Description"
   ]
  },
  {
   "cell_type": "markdown",
   "metadata": {},
   "source": [
    "Bone models of 16S rRNA data, spring season only, at all levels, using the ml_new environment, rarefied data and no normalization during import, n = 1000 estimators, k fold = 3 (for regular, non-nested cross-validation), and hyperparameter tuning. Incorporates no metadata features."
   ]
  },
  {
   "cell_type": "code",
   "execution_count": 1,
   "metadata": {},
   "outputs": [
    {
     "name": "stderr",
     "output_type": "stream",
     "text": [
      "/Users/heatherdeel/opt/miniconda3/envs/ml/lib/python3.7/site-packages/sklearn/externals/joblib/__init__.py:15: FutureWarning: sklearn.externals.joblib is deprecated in 0.21 and will be removed in 0.23. Please import this functionality directly from joblib, which can be installed with: pip install joblib. If this warning is raised when loading pickled models, you may need to re-serialize those models with scikit-learn 0.21+.\n",
      "  warnings.warn(msg, category=FutureWarning)\n"
     ]
    }
   ],
   "source": [
    "from sklearn.ensemble import RandomForestRegressor\n",
    "from sklearn import preprocessing, svm, metrics\n",
    "from sklearn.ensemble import RandomForestClassifier, ExtraTreesClassifier\n",
    "from sklearn.model_selection import StratifiedKFold, KFold, GridSearchCV, GroupKFold, cross_val_score, train_test_split\n",
    "from sklearn.pipeline import Pipeline\n",
    "from sklearn.svm import LinearSVC, SVR\n",
    "from sklearn.metrics import r2_score, mean_squared_error, mean_absolute_error, mean_absolute_error, roc_auc_score, precision_score, make_scorer\n",
    "from sklearn.linear_model import LassoCV, Lasso, LassoLarsIC, ElasticNet, LassoLarsCV\n",
    "from sklearn.externals import joblib\n",
    "from scipy.stats import randint as sp_randint\n",
    "from matplotlib import pyplot as plt\n",
    "from sklearn.feature_selection import RFECV\n",
    "from sklearn.gaussian_process import GaussianProcessClassifier\n",
    "from sklearn.gaussian_process.kernels import RBF\n",
    "from sklearn.neighbors import KNeighborsClassifier, RadiusNeighborsClassifier"
   ]
  },
  {
   "cell_type": "code",
   "execution_count": 2,
   "metadata": {},
   "outputs": [
    {
     "name": "stderr",
     "output_type": "stream",
     "text": [
      "/Users/heatherdeel/opt/miniconda3/envs/ml/lib/python3.7/site-packages/skbio/util/_testing.py:15: FutureWarning: pandas.util.testing is deprecated. Use the functions in the public API at pandas.testing instead.\n",
      "  import pandas.util.testing as pdt\n"
     ]
    }
   ],
   "source": [
    "import pandas as pd\n",
    "import numpy as np\n",
    "import matplotlib\n",
    "import seaborn as sns\n",
    "%matplotlib inline\n",
    "import biom\n",
    "import calour as ca\n",
    "from scipy import stats\n",
    "import scipy\n",
    "import pickle\n",
    "import time\n",
    "import math\n",
    "import inspect\n",
    "pd.set_option('display.max_rows', 10000)"
   ]
  },
  {
   "cell_type": "markdown",
   "metadata": {},
   "source": [
    "## Import rarefied ASV table"
   ]
  },
  {
   "cell_type": "code",
   "execution_count": 3,
   "metadata": {},
   "outputs": [
    {
     "name": "stdout",
     "output_type": "stream",
     "text": [
      "2020-06-29 09:19:57 WARNING These have metadata but do not have data - dropped (51): {'11553.BLANKrib.5B', '11553.BLANKrib.11H', '11553.BLANKrib.9B', '11553.CSU.extraction.blank8', '11553.CSU.extraction.blank6', '11553.BLANKrib.11A', '11553.BLANKrib.11G', '11553.BLANKrib.12D', '11553.BLANKrib.10E', '11553.STAFS.2016.064.L12', '11553.CSU.extraction.blank11', '11553.BLANKrib.9E', '11553.CSU.extraction.blank14', '11553.BLANKrib.10D', '11553.CSU.extraction.blank12', '11553.BLANKrib.9A', '11553.SHSU.STAFS2016.007.R11', '11553.CSU.extraction.blank10', '11553.BLANKrib.9C', '11553.BLANKrib.12E', '11553.BLANKrib.12B', '11553.BLANKrib.9D', '11553.CSU.extraction.blank15', '11553.BLANKrib.12G', '11553.BLANKrib.12F', '11553.BLANKrib.10H', '11553.CSU.extraction.blank7', '11553.BLANKrib.11E', '11553.BLANKrib.11C', '11553.BLANKrib.10A', '11553.CSU.extraction.blank4', '11553.BLANKrib.12C', '11553.BLANKrib.9H', '11553.CSU.extraction.blank9', '11553.BLANKrib.11B', '11553.BLANKrib.12H', '11553.CSU.extraction.blank5', '11553.CSU.extraction.blank2', '11553.BLANKrib.10C', '11553.BLANKrib.11F', '11553.CSU.extraction.blank1', '11553.BLANKrib.10B', '11553.BLANKrib.12A', '11553.CSU.extraction.blank13', '11553.CSU.extraction.blank3', '11553.BLANKrib.11D', '11553.BLANKrib.9F', '11553.BLANKrib.10F', '11553.BLANKrib.10G', '11553.BLANKrib.9G', '11553.SHSU.STAFS2016.011.L09'}\n"
     ]
    }
   ],
   "source": [
    "exp_ASV = ca.read_amplicon('/Users/heatherdeel/Dropbox/PMI_3_analyses/bone/01_16S/01_qiime2_analysis/feature_tables/exported-feature-tables/frag_ins_filtered_noChloMito_17098_table.biom', '../02_metadata/maps/map3.txt', min_reads=0, normalize = None)\n"
   ]
  },
  {
   "cell_type": "code",
   "execution_count": 4,
   "metadata": {},
   "outputs": [
    {
     "data": {
      "text/plain": [
       "STAFS2016.011    8\n",
       "STAFS2016.067    8\n",
       "STAFS2016.065    8\n",
       "STAFS2016.024    7\n",
       "STAFS2016.007    7\n",
       "STAFS2016.064    7\n",
       "Name: host_subject_id, dtype: int64"
      ]
     },
     "execution_count": 4,
     "metadata": {},
     "output_type": "execute_result"
    }
   ],
   "source": [
    "exp_ASV.sample_metadata['host_subject_id'].value_counts()"
   ]
  },
  {
   "cell_type": "code",
   "execution_count": 5,
   "metadata": {},
   "outputs": [
    {
     "data": {
      "text/plain": [
       "#SampleID\n",
       "11553.SHSU.STAFS2016.024.R09      708.0555556\n",
       "11553.STAFS.2016.065.L12          2268.055556\n",
       "11553.STAFS.2016.067.R12          2414.444444\n",
       "11553.SHSU.STAFS2016.007.L09      1911.111111\n",
       "11553.SHSU.STAFS2016.011.L08      1301.666667\n",
       "11553.STAFS.2016.065.R11          4756.388889\n",
       "11553.STAFS.2016.065.R09          3456.111111\n",
       "11553.SHSU.STAFS2016.024.L12      4285.833333\n",
       "11553.SHSU.STAFS2016.007.L11      2584.444444\n",
       "11553.SHSU.STAFS2016.011.L10      3777.222222\n",
       "11553.STAFS.2016.064.R10          3456.111111\n",
       "11553.SHSU.STAFS2016.024.R11      2584.444444\n",
       "11553.STAFS.2016.067.L11.june     5201.388889\n",
       "11553.SHSU.STAFS2016.007.R12      1301.666667\n",
       "11553.STAFS.2016.065.R10          2804.722222\n",
       "11553.STAFS.2016.064.R09          592.7777778\n",
       "11553.STAFS.2016.067.L10          3623.055556\n",
       "11553.SHSU.STAFS2016.011.R12      708.0555556\n",
       "11553.STAFS.2016.064.R11          1300.555556\n",
       "11553.SHSU.STAFS2016.011.L11      4285.833333\n",
       "11553.SHSU.STAFS2016.007.L10      4821.388889\n",
       "11553.STAFS.2016.065.R08          4013.333333\n",
       "11553.SHSU.STAFS2016.007.R10      708.0555556\n",
       "11553.STAFS.2016.064.R12          2035.277778\n",
       "11553.SHSU.STAFS2016.011.L12      3305.555556\n",
       "11553.SHSU.STAFS2016.024.L10      3305.555556\n",
       "11553.STAFS.2016.064.L11          2804.722222\n",
       "11553.STAFS.2016.064.L09          4013.333333\n",
       "11553.STAFS.2016.067.L11.march    3065.833333\n",
       "11553.STAFS.2016.067.R10                 1645\n",
       "11553.STAFS.2016.065.L10          1300.555556\n",
       "11553.SHSU.STAFS2016.011.R09      1911.111111\n",
       "11553.STAFS.2016.064.L10          4756.388889\n",
       "11553.STAFS.2016.067.R09          1877.777778\n",
       "11553.SHSU.STAFS2016.024.L11      4821.388889\n",
       "11553.SHSU.STAFS2016.007.L12      3305.555556\n",
       "11553.STAFS.2016.065.L09                877.5\n",
       "11553.SHSU.STAFS2016.024.R12      1911.111111\n",
       "11553.SHSU.STAFS2016.011.R10      2584.444444\n",
       "11553.STAFS.2016.067.L12          4366.111111\n",
       "11553.SHSU.STAFS2016.011.R08      1301.666667\n",
       "11553.SHSU.STAFS2016.007.R09      3777.222222\n",
       "11553.STAFS.2016.065.L11          2035.277778\n",
       "11553.SHSU.STAFS2016.024.L09      3777.222222\n",
       "11553.STAFS.2016.067.R11          1151.666667\n",
       "Name: ADD_0, dtype: object"
      ]
     },
     "execution_count": 5,
     "metadata": {},
     "output_type": "execute_result"
    }
   ],
   "source": [
    "exp_ASV.sample_metadata['ADD_0']"
   ]
  },
  {
   "cell_type": "markdown",
   "metadata": {},
   "source": [
    "## Filter to only spring data"
   ]
  },
  {
   "cell_type": "code",
   "execution_count": 6,
   "metadata": {},
   "outputs": [
    {
     "data": {
      "text/plain": [
       "STAFS2016.011    8\n",
       "STAFS2016.024    7\n",
       "STAFS2016.007    7\n",
       "Name: host_subject_id, dtype: int64"
      ]
     },
     "execution_count": 6,
     "metadata": {},
     "output_type": "execute_result"
    }
   ],
   "source": [
    "Spring_ASV = exp_ASV.filter_samples('season', 'spring')\n",
    "Spring_ASV.sample_metadata.host_subject_id.value_counts()"
   ]
  },
  {
   "cell_type": "markdown",
   "metadata": {},
   "source": [
    "## Spring ASV modeling"
   ]
  },
  {
   "cell_type": "code",
   "execution_count": 7,
   "metadata": {},
   "outputs": [],
   "source": [
    "# groupKfold = 3, will leave out one body for each spring model\n",
    "gkf = GroupKFold(3)\n",
    "\n",
    "X = Spring_ASV.data\n",
    "y = Spring_ASV.sample_metadata['ADD_0']\n",
    "y = (y.astype(float))\n",
    "\n",
    "groups = Spring_ASV.sample_metadata['host_subject_id']\n",
    "\n",
    "# used to test the param grid for parameter tuning\n",
    "# use the output of this estimator below for input into new estimator (not commented out)\n",
    "param_grid = {\"max_depth\": [4, 8, 16, None],\n",
    "              \"max_features\": ['sqrt', 'log2', 0.1],\n",
    "              \"min_samples_split\": [0.001, 0.01, 0.1],\n",
    "              \"min_weight_fraction_leaf\": [0.0001, 0.001, 0.01],\n",
    "              \"bootstrap\": [True, False]}\n",
    "\n",
    "#param_grid = {\"max_depth\": [8],\n",
    "#          \"max_features\": [0.1],\n",
    "#          \"min_samples_split\": [0.001],\n",
    "#          \"min_weight_fraction_leaf\": [0.0001],\n",
    "#          \"bootstrap\": [False]}\n",
    "\n",
    "rf = RandomForestRegressor(n_estimators=1000, random_state=999, criterion='mae')\n",
    "gs = GridSearchCV(rf, param_grid=param_grid, cv=gkf.split(X, y, groups), scoring='neg_mean_absolute_error', n_jobs=1)"
   ]
  },
  {
   "cell_type": "code",
   "execution_count": 8,
   "metadata": {},
   "outputs": [
    {
     "data": {
      "text/plain": [
       "GridSearchCV(cv=<generator object _BaseKFold.split at 0x1200a7150>,\n",
       "             error_score=nan,\n",
       "             estimator=RandomForestRegressor(bootstrap=True, ccp_alpha=0.0,\n",
       "                                             criterion='mae', max_depth=None,\n",
       "                                             max_features='auto',\n",
       "                                             max_leaf_nodes=None,\n",
       "                                             max_samples=None,\n",
       "                                             min_impurity_decrease=0.0,\n",
       "                                             min_impurity_split=None,\n",
       "                                             min_samples_leaf=1,\n",
       "                                             min_samples_split=2,\n",
       "                                             min_weight_fraction_leaf=0.0,\n",
       "                                             n_es...\n",
       "                                             oob_score=False, random_state=999,\n",
       "                                             verbose=0, warm_start=False),\n",
       "             iid='deprecated', n_jobs=1,\n",
       "             param_grid={'bootstrap': [True, False],\n",
       "                         'max_depth': [4, 8, 16, None],\n",
       "                         'max_features': ['sqrt', 'log2', 0.1],\n",
       "                         'min_samples_split': [0.001, 0.01, 0.1],\n",
       "                         'min_weight_fraction_leaf': [0.0001, 0.001, 0.01]},\n",
       "             pre_dispatch='2*n_jobs', refit=True, return_train_score=False,\n",
       "             scoring='neg_mean_absolute_error', verbose=0)"
      ]
     },
     "execution_count": 8,
     "metadata": {},
     "output_type": "execute_result"
    }
   ],
   "source": [
    "gs.fit(X, y)"
   ]
  },
  {
   "cell_type": "code",
   "execution_count": 9,
   "metadata": {},
   "outputs": [
    {
     "name": "stdout",
     "output_type": "stream",
     "text": [
      "{'bootstrap': False, 'max_depth': 4, 'max_features': 0.1, 'min_samples_split': 0.001, 'min_weight_fraction_leaf': 0.0001}\n"
     ]
    }
   ],
   "source": [
    "# this line is used when run with the first param grid to determine what the best parameters are for tuning\n",
    "print(gs.best_params_)"
   ]
  },
  {
   "cell_type": "code",
   "execution_count": 10,
   "metadata": {},
   "outputs": [
    {
     "name": "stdout",
     "output_type": "stream",
     "text": [
      "The best mean absolute error is 872.02\n"
     ]
    }
   ],
   "source": [
    "print('The best mean absolute error is', round(-gs.best_score_,2))"
   ]
  },
  {
   "cell_type": "code",
   "execution_count": 11,
   "metadata": {},
   "outputs": [
    {
     "data": {
      "text/plain": [
       "['models/bone_spring_ASV_no_metadata.pkl']"
      ]
     },
     "execution_count": 11,
     "metadata": {},
     "output_type": "execute_result"
    }
   ],
   "source": [
    "joblib.dump(gs.best_estimator_, 'models/bone_spring_ASV_no_metadata.pkl')"
   ]
  },
  {
   "cell_type": "code",
   "execution_count": 12,
   "metadata": {},
   "outputs": [
    {
     "data": {
      "text/plain": [
       "RandomForestRegressor(bootstrap=False, ccp_alpha=0.0, criterion='mae',\n",
       "                      max_depth=4, max_features=0.1, max_leaf_nodes=None,\n",
       "                      max_samples=None, min_impurity_decrease=0.0,\n",
       "                      min_impurity_split=None, min_samples_leaf=1,\n",
       "                      min_samples_split=0.001, min_weight_fraction_leaf=0.0001,\n",
       "                      n_estimators=1000, n_jobs=None, oob_score=False,\n",
       "                      random_state=999, verbose=0, warm_start=False)"
      ]
     },
     "execution_count": 12,
     "metadata": {},
     "output_type": "execute_result"
    }
   ],
   "source": [
    "bone_spring_ASV = joblib.load('models/bone_spring_ASV_no_metadata.pkl')\n",
    "bone_spring_ASV"
   ]
  },
  {
   "cell_type": "markdown",
   "metadata": {},
   "source": [
    "## Determine important features of spring ASV model"
   ]
  },
  {
   "cell_type": "code",
   "execution_count": 14,
   "metadata": {},
   "outputs": [
    {
     "name": "stdout",
     "output_type": "stream",
     "text": [
      "Feature:\t\t\t\tImportance:\n",
      "1. TACGTAGGGGGCGAGCGTTGTCCGGAATTATTGGGCGTAAAGGGTACGTAGGCGGTTTAGAAAGTCAGATGTTAAAGCGTGAGGCTCAACCTCATAAAGCATTTGAAACTTCTAGACTTGAGTAGTGGAGAGGAAAGTGGAATTCCTAGT\t0.07489245554322162\n",
      "2. TACGTAGGGCGCAAGCGTTGTCCGGAATTATTGGGCGTAAAGAGCTCGTAGGCGGTTTGTCGCGTCTGGTGTGAAAACTCGAGGCTCAACCTCGAGCTTGCATCGGGTACGGGCAGACTAGAGTGCGGTAGGGGAGACTGGAATTCCTGG\t0.05618468317160884\n",
      "3. TACGTAGGGCGCAAGCGTTGTCCGGAATTATTGGGCGTAAAGAGCTTGTAGGTGGCTTGTCGCGTCTGCCGTGAAAACCCGAGGCTCAACCTCGGGCGTGCGGTGGGTACGGGCAGGCTAGAGTGTGGTAGGGGAGACTGGAACTCCTGG\t0.047554065609534846\n",
      "4. TACGTAGGGTGCAAGCGTTAATCGGAATTACTGGGCGTAAAGCGTGCGCAGGCGGTTTTGTAAGACAGTGGTGAAATCCCCGGGCTCAACCTGGGAACTGCCATTGTGACTGCAAGGCTAGAGTGCGGCAGAGGGGGATGGAATTCCGCG\t0.045072869549405696\n",
      "5. TACGTAGGGTGCAAGCGTTGTCCGGAATTATTGGGCGTAAAGAGCTCGTAGGCGGCTTGTCGCGTCTGCCGTGAAAACCTCAGGCTCAACCTGGGGCGTGCGGTGGGTACGGGCAGGCTAGAGTGCGGTAGGGGAGATTGGAATTCCTGG\t0.042091762518432066\n",
      "6. TACGAAGGGGGCTAGCGTTGCTCGGAATTACTGGGCGTAAAGGGCGCGTAGGCGGACAGTTTAGTCAGAGGTGAAAGCCCAGGGCTCAACCTTGGAATTGCCTTTGATACTGGCTGTCTTGAGTTCGGGAGAGGTGAGTGGAATGCCGAG\t0.021928434248298725\n",
      "7. TACGGAGGATCCAAGCGTTATCCGGAATCATTGGGTTTAAAGGGTCCGTAGGCGGCCTTATAAGTCAGCGGTGAAAGTTTTTGGCTTAACCAAAAAATTGCCATTGATACTGTAGGGCTTGAATTATTGTGAAGTAACTAGAATATGTAG\t0.02112756730688849\n",
      "8. TACGAAGGGGGCTAGCGTTGTTCGGATTTACTGGGCGTAAAGCGCACGTAGGCGGGCTAATAAGTCAGGGGTGAAATCCCGGGGCTCAACCCCGGAACTGCCTTTGATACTGTTAGTCTTGAGTATGGTAGAGGTGAGTGGAATTCCGAG\t0.01917775066255096\n",
      "9. TACGTAGGTGGCAAGCGTTGTCCGGATTTATTGGGCGTAAAGCGAGCGCAGGCGGTTCCTTAAGTCTGATGTGAAAGCCCCCGGCTCAACCGGGGAAGGTCATTGGAAACTGGGGAACTTGAGTGCAGAAGAGGAGAGTGGAATTCCATG\t0.017510010101265166\n",
      "10. TACGTAGGGTACGAGCGTTGTCCGGAATTATTGGGCGTAAAGAGCTCGTAGGTGGTTGGTCACGTCTGCTGTGGAAACGCAACGCTTAACGTTGCGCGTGCAGTGGGTACGGGCTGACTAGAGTGCAGTAGGGGAGTCTGGAATTCCTGG\t0.016774322531960994\n",
      "11. TACGTAGGGTGCAAGCGTTAATCGGAATTACTGGGCGTAAAGCGTGCGCAGGCGGTCATGCAAGACAGATGTGAAATCCCCGGGCTCAACCTGGGAACTGCATTTGTGACTGCATGGCTGGAGTGCGGCAGAGGGGGATGGAATTCCGCG\t0.016222889986490366\n",
      "12. TACGGAGGGTGCAAGCGTTATCCGGATTTACTGGGTTTAAAGGGTGTGTAGGCGGGCTTTTAAGTCTGGGGTGAAATCTCTGAGCTTAACTCAGAAACTGCCTTGGATACTATTAGCCTTGAATTATGTTGAGGTAGGCGGAATATAACA\t0.012447398485180521\n",
      "13. TACGGAGGGTGCGAGCGTTAATCGGAATAACTGGGCGTAAAGGGCACGCAGGCGGTGACTTAAGTGAGGTGTGAAAGCCCCGGGCTTAACCTGGGAATTGCATTTCATACTGGGTCGCTAGAGTACTTTAGGGAGGGGTAGAATTCCACG\t0.012360455916797892\n",
      "14. TACGGAGGGTGCAAGCGTTAATCGGAATTACTGGGCGTAAAGCGCACGCAGGCGGTTGATTGAGTCAGATGTGAAATCCCCGGGCTTAACCCGGGAATTGCATCTGATACTGGTCAGCTAGAGTCTTGTAGAGGGGGGTAGAATTCCATG\t0.012262625632494872\n",
      "15. TACGAAGGGTGCAAGCGTTAATCGGAATTACTGGGCGTAAAGCGCGCGTAGGTGGTTTGGTAAGATGGATGTGAAATCCCCGGGCTCAACCTGGGAACTGCATCCATAACTGCCTGACTAGAGTACGGTAGAGGGTGGTGGAATTTCCTG\t0.01225837716640214\n",
      "16. TACGTAGGTGGCAAGCGTTGTCCGGAATTATTGGGCGTAAAGCGCGCGCAGGTGGTTTAATAAGTCTGATGTGAAAGCCCACGGCTCAACCGTGGAGGGTCATTGGAAACTGTTAAACTTGAGTGCAGGAGAGAAAAGTGGAATTCCTAG\t0.011540647709807252\n",
      "17. TACGAAGGGGGCTAGCGTTGCTCGGAATCACTGGGCGTAAAGCGCACGTAGGCGGACTCTTAAGTCGGTGGTGAAATCCTGGAGCTCAACTCCAGAACTGCCTTCGATACTGGGAGTCTCGAGTTCGGGAGAGGTGAGTGGAACTGCGAG\t0.010109380598472415\n",
      "18. TACGAAGGGTGCAAGCGTTACTCGGAATTACTGGGCGTAAAGCGTGCGTAGGTGGTCGTTTAAGTCCGTTGTGAAAGCCCTGGGCTCAACCTGGGAACTGCAGTGGATACTGGGCGACTAGAGTGTGGTAGAGGGTAGCGGAATTCCTGG\t0.009686300163646088\n",
      "19. TACGGAGGGTGCAAGCGTTAATCGGAATTACTGGGCGTAAAGCGCACGCAGGCGGTTTGTTAAGTCAGATGTGAAATCCCCGGGCTCAACCTGGGAACTGCATTTGAAACTGGCAAGCTAGAGTCTCGTAGAGGGGGGTAGAATTCCAGG\t0.009574618911031885\n",
      "20. TACGTAGGGTGCGAGCGTTGTCCGGAATTACTGGGCGTAAAGAGCTCGTAGGCGGTTTGTCACGTCGTCTGTGAAATCCTCCAGCTTAACTGGGGGCGTGCAGGCGATACGGGCAGACTTGAGTACTACAGGGGAGACTGGAATTCCTGG\t0.009379438240419792\n",
      "21. TACGGAGGATCCAAGCGTTATCCGGATTTATTGGGTTTAAAGGGTGCGTAGGCGGCCTGTTAAGTCAGGGGTGAAAGACGGTGGCTCAACCATCGCAGTGCCCTTGATACTGATGGGCTTGAATGGACTAGAGGTAGGCGGAATGTGACA\t0.008641318407169545\n",
      "22. TACGAAGGGGGCTAGCGTTGTTCGGAATTACTGGGCGTAAAGCGCACGTAGGCGGATCGATCAGTTAGGGGTGAAATCCCAGGGCTCAACCCTGGAACTGCCTCTAATACTGTCGATCTCGAGTTCGAGAGAGGTGAGTGGAATTCCGAG\t0.008299328354443693\n",
      "23. TACGAAGGGGGCTAGCGTTGTTCGGAATTACTGGGCGTAAAGCGCACGTAGGCGGATTGGTCAGTTAGGGGTGAAATCCCAGGGCTCAACCCTGGAACTGCCTTTAATACTGCCGGTCTAGAGTTCGAGAGAGGTGAGTGGAATTCCGAG\t0.007769688032718796\n",
      "24. TACGTAGGTCCCGAGCGTTGTCCGGATTTATTGGGCGTAAAGCGAGCGCAGGCGGTTAGATAAGTCTGAAGTTAAAGGCTGTGGCTTAACCATAGTACGCTTTGGAAACTGTTTAACTTGAGTGCAAGAGGGGAGAGTGGAATTCCATGT\t0.007057572909575912\n",
      "25. TACGGAGGGAGCTAGCGTTGTTCGGAATTACTGGGCGTAAAGCGCACGTAGGCGGCTATTCAAGTCAGAGGTGAAAGCCCGGGGCTCAACCCCGGAACTGCCTTTGAAACTAGATAGCTTGAATCCAGGAGAGGTGAGTGGAATTCCGAG\t0.006423858879722378\n"
     ]
    }
   ],
   "source": [
    "importances = bone_spring_ASV.feature_importances_\n",
    "std = np.std([tree.feature_importances_ for tree in bone_spring_ASV.estimators_],\n",
    "             axis=0)\n",
    "indices = np.argsort(importances)[::-1]\n",
    "\n",
    "feature_metadata = Spring_ASV.feature_metadata\n",
    "np.savetxt(\"importances/bone_spring_ASV_no_metadata_features.csv\", feature_metadata, delimiter=\",\", fmt='%s')\n",
    "\n",
    "\n",
    "#print the important ids in order\n",
    "general_importances = []\n",
    "count = 0\n",
    "print(\"Feature:\\t\\t\\t\\tImportance:\")\n",
    "for i in indices:\n",
    "    general_importances += (Spring_ASV.feature_metadata.index.values[i], importances[indices[count]])\n",
    "    if count < 25:\n",
    "        print(str(count+1)+\". \"+str(Spring_ASV.feature_metadata.index.values[i])+\"\\t\"+str(importances[indices[count]]))\n",
    "    count += 1\n",
    "    \n",
    "general_importances_df = pd.DataFrame(np.array(general_importances).reshape(9442,1))\n",
    "\n",
    "np.savetxt(\"importances/bone_spring_ASV_no_features_importances.csv\", general_importances_df, delimiter=\",\", fmt='%s')"
   ]
  },
  {
   "cell_type": "markdown",
   "metadata": {},
   "source": [
    "## Import rarefied table collapsed at level 7"
   ]
  },
  {
   "cell_type": "code",
   "execution_count": 15,
   "metadata": {},
   "outputs": [
    {
     "name": "stdout",
     "output_type": "stream",
     "text": [
      "2020-06-29 09:39:00 WARNING These have metadata but do not have data - dropped (51): {'11553.BLANKrib.5B', '11553.BLANKrib.11H', '11553.BLANKrib.9B', '11553.CSU.extraction.blank8', '11553.CSU.extraction.blank6', '11553.BLANKrib.11A', '11553.BLANKrib.11G', '11553.BLANKrib.12D', '11553.BLANKrib.10E', '11553.STAFS.2016.064.L12', '11553.CSU.extraction.blank11', '11553.BLANKrib.9E', '11553.CSU.extraction.blank14', '11553.BLANKrib.10D', '11553.CSU.extraction.blank12', '11553.BLANKrib.9A', '11553.SHSU.STAFS2016.007.R11', '11553.CSU.extraction.blank10', '11553.BLANKrib.9C', '11553.BLANKrib.12E', '11553.BLANKrib.12B', '11553.BLANKrib.9D', '11553.CSU.extraction.blank15', '11553.BLANKrib.12G', '11553.BLANKrib.12F', '11553.BLANKrib.10H', '11553.CSU.extraction.blank7', '11553.BLANKrib.11E', '11553.BLANKrib.11C', '11553.BLANKrib.10A', '11553.CSU.extraction.blank4', '11553.BLANKrib.12C', '11553.BLANKrib.9H', '11553.CSU.extraction.blank9', '11553.BLANKrib.11B', '11553.BLANKrib.12H', '11553.CSU.extraction.blank5', '11553.CSU.extraction.blank2', '11553.BLANKrib.10C', '11553.BLANKrib.11F', '11553.CSU.extraction.blank1', '11553.BLANKrib.10B', '11553.BLANKrib.12A', '11553.CSU.extraction.blank13', '11553.CSU.extraction.blank3', '11553.BLANKrib.11D', '11553.BLANKrib.9F', '11553.BLANKrib.10F', '11553.BLANKrib.10G', '11553.BLANKrib.9G', '11553.SHSU.STAFS2016.011.L09'}\n"
     ]
    }
   ],
   "source": [
    "exp_L7 = ca.read_amplicon('/Users/heatherdeel/Dropbox/PMI_3_analyses/bone/01_16S/01_qiime2_analysis/feature_tables/collapsed_tables/frag_ins_noChloMito_17098_L7_table.biom', '../02_metadata/maps/map3.txt', min_reads=0, normalize = None)\n"
   ]
  },
  {
   "cell_type": "code",
   "execution_count": 16,
   "metadata": {},
   "outputs": [
    {
     "data": {
      "text/plain": [
       "STAFS2016.011    8\n",
       "STAFS2016.024    7\n",
       "STAFS2016.007    7\n",
       "Name: host_subject_id, dtype: int64"
      ]
     },
     "execution_count": 16,
     "metadata": {},
     "output_type": "execute_result"
    }
   ],
   "source": [
    "# filter to spring\n",
    "Spring_L7 = exp_L7.filter_samples('season', 'spring')\n",
    "Spring_L7.sample_metadata.host_subject_id.value_counts()"
   ]
  },
  {
   "cell_type": "code",
   "execution_count": 17,
   "metadata": {},
   "outputs": [
    {
     "name": "stdout",
     "output_type": "stream",
     "text": [
      "                                                                                          _feature_id\n",
      "k__Archaea;p__Crenarchaeota;c__Thaumarchaeota;o...  k__Archaea;p__Crenarchaeota;c__Thaumarchaeota;...\n",
      "k__Archaea;p__Euryarchaeota;c__Methanobacteria;...  k__Archaea;p__Euryarchaeota;c__Methanobacteria...\n",
      "k__Bacteria;__;__;__;__;__;__                                           k__Bacteria;__;__;__;__;__;__\n",
      "k__Bacteria;p__Acidobacteria;c__DA052;o__Ellin6...  k__Bacteria;p__Acidobacteria;c__DA052;o__Ellin...\n",
      "k__Bacteria;p__Acidobacteria;c__Solibacteres;o_...  k__Bacteria;p__Acidobacteria;c__Solibacteres;o...\n",
      "k__Bacteria;p__Acidobacteria;c__[Chloracidobact...  k__Bacteria;p__Acidobacteria;c__[Chloracidobac...\n",
      "k__Bacteria;p__Acidobacteria;c__[Chloracidobact...  k__Bacteria;p__Acidobacteria;c__[Chloracidobac...\n",
      "k__Bacteria;p__Actinobacteria;c__Acidimicrobiia...  k__Bacteria;p__Actinobacteria;c__Acidimicrobii...\n",
      "k__Bacteria;p__Actinobacteria;c__Acidimicrobiia...  k__Bacteria;p__Actinobacteria;c__Acidimicrobii...\n",
      "k__Bacteria;p__Actinobacteria;c__Acidimicrobiia...  k__Bacteria;p__Actinobacteria;c__Acidimicrobii...\n",
      "k__Bacteria;p__Actinobacteria;c__Acidimicrobiia...  k__Bacteria;p__Actinobacteria;c__Acidimicrobii...\n",
      "k__Bacteria;p__Actinobacteria;c__Acidimicrobiia...  k__Bacteria;p__Actinobacteria;c__Acidimicrobii...\n",
      "k__Bacteria;p__Actinobacteria;c__Actinobacteria...  k__Bacteria;p__Actinobacteria;c__Actinobacteri...\n",
      "k__Bacteria;p__Actinobacteria;c__Actinobacteria...  k__Bacteria;p__Actinobacteria;c__Actinobacteri...\n",
      "k__Bacteria;p__Actinobacteria;c__Actinobacteria...  k__Bacteria;p__Actinobacteria;c__Actinobacteri...\n",
      "k__Bacteria;p__Actinobacteria;c__Actinobacteria...  k__Bacteria;p__Actinobacteria;c__Actinobacteri...\n",
      "k__Bacteria;p__Actinobacteria;c__Actinobacteria...  k__Bacteria;p__Actinobacteria;c__Actinobacteri...\n",
      "k__Bacteria;p__Actinobacteria;c__Actinobacteria...  k__Bacteria;p__Actinobacteria;c__Actinobacteri...\n",
      "k__Bacteria;p__Actinobacteria;c__Actinobacteria...  k__Bacteria;p__Actinobacteria;c__Actinobacteri...\n",
      "k__Bacteria;p__Actinobacteria;c__Actinobacteria...  k__Bacteria;p__Actinobacteria;c__Actinobacteri...\n",
      "k__Bacteria;p__Actinobacteria;c__Actinobacteria...  k__Bacteria;p__Actinobacteria;c__Actinobacteri...\n",
      "k__Bacteria;p__Actinobacteria;c__Actinobacteria...  k__Bacteria;p__Actinobacteria;c__Actinobacteri...\n",
      "k__Bacteria;p__Actinobacteria;c__Actinobacteria...  k__Bacteria;p__Actinobacteria;c__Actinobacteri...\n",
      "k__Bacteria;p__Actinobacteria;c__Actinobacteria...  k__Bacteria;p__Actinobacteria;c__Actinobacteri...\n",
      "k__Bacteria;p__Actinobacteria;c__Actinobacteria...  k__Bacteria;p__Actinobacteria;c__Actinobacteri...\n",
      "k__Bacteria;p__Actinobacteria;c__Actinobacteria...  k__Bacteria;p__Actinobacteria;c__Actinobacteri...\n",
      "k__Bacteria;p__Actinobacteria;c__Actinobacteria...  k__Bacteria;p__Actinobacteria;c__Actinobacteri...\n",
      "k__Bacteria;p__Actinobacteria;c__Actinobacteria...  k__Bacteria;p__Actinobacteria;c__Actinobacteri...\n",
      "k__Bacteria;p__Actinobacteria;c__Actinobacteria...  k__Bacteria;p__Actinobacteria;c__Actinobacteri...\n",
      "k__Bacteria;p__Actinobacteria;c__Actinobacteria...  k__Bacteria;p__Actinobacteria;c__Actinobacteri...\n",
      "k__Bacteria;p__Actinobacteria;c__Actinobacteria...  k__Bacteria;p__Actinobacteria;c__Actinobacteri...\n",
      "k__Bacteria;p__Actinobacteria;c__Actinobacteria...  k__Bacteria;p__Actinobacteria;c__Actinobacteri...\n",
      "k__Bacteria;p__Actinobacteria;c__Actinobacteria...  k__Bacteria;p__Actinobacteria;c__Actinobacteri...\n",
      "k__Bacteria;p__Actinobacteria;c__Actinobacteria...  k__Bacteria;p__Actinobacteria;c__Actinobacteri...\n",
      "k__Bacteria;p__Actinobacteria;c__Actinobacteria...  k__Bacteria;p__Actinobacteria;c__Actinobacteri...\n",
      "k__Bacteria;p__Actinobacteria;c__Actinobacteria...  k__Bacteria;p__Actinobacteria;c__Actinobacteri...\n",
      "k__Bacteria;p__Actinobacteria;c__Actinobacteria...  k__Bacteria;p__Actinobacteria;c__Actinobacteri...\n",
      "k__Bacteria;p__Actinobacteria;c__Actinobacteria...  k__Bacteria;p__Actinobacteria;c__Actinobacteri...\n",
      "k__Bacteria;p__Actinobacteria;c__Actinobacteria...  k__Bacteria;p__Actinobacteria;c__Actinobacteri...\n",
      "k__Bacteria;p__Actinobacteria;c__Actinobacteria...  k__Bacteria;p__Actinobacteria;c__Actinobacteri...\n",
      "k__Bacteria;p__Actinobacteria;c__Actinobacteria...  k__Bacteria;p__Actinobacteria;c__Actinobacteri...\n",
      "k__Bacteria;p__Actinobacteria;c__Actinobacteria...  k__Bacteria;p__Actinobacteria;c__Actinobacteri...\n",
      "k__Bacteria;p__Actinobacteria;c__Actinobacteria...  k__Bacteria;p__Actinobacteria;c__Actinobacteri...\n",
      "k__Bacteria;p__Actinobacteria;c__Actinobacteria...  k__Bacteria;p__Actinobacteria;c__Actinobacteri...\n",
      "k__Bacteria;p__Actinobacteria;c__Actinobacteria...  k__Bacteria;p__Actinobacteria;c__Actinobacteri...\n",
      "k__Bacteria;p__Actinobacteria;c__Actinobacteria...  k__Bacteria;p__Actinobacteria;c__Actinobacteri...\n",
      "k__Bacteria;p__Actinobacteria;c__Actinobacteria...  k__Bacteria;p__Actinobacteria;c__Actinobacteri...\n",
      "k__Bacteria;p__Actinobacteria;c__Actinobacteria...  k__Bacteria;p__Actinobacteria;c__Actinobacteri...\n",
      "k__Bacteria;p__Actinobacteria;c__Actinobacteria...  k__Bacteria;p__Actinobacteria;c__Actinobacteri...\n",
      "k__Bacteria;p__Actinobacteria;c__Actinobacteria...  k__Bacteria;p__Actinobacteria;c__Actinobacteri...\n",
      "k__Bacteria;p__Actinobacteria;c__Actinobacteria...  k__Bacteria;p__Actinobacteria;c__Actinobacteri...\n",
      "k__Bacteria;p__Actinobacteria;c__Actinobacteria...  k__Bacteria;p__Actinobacteria;c__Actinobacteri...\n",
      "k__Bacteria;p__Actinobacteria;c__Actinobacteria...  k__Bacteria;p__Actinobacteria;c__Actinobacteri...\n",
      "k__Bacteria;p__Actinobacteria;c__Actinobacteria...  k__Bacteria;p__Actinobacteria;c__Actinobacteri...\n",
      "k__Bacteria;p__Actinobacteria;c__Actinobacteria...  k__Bacteria;p__Actinobacteria;c__Actinobacteri...\n",
      "k__Bacteria;p__Actinobacteria;c__Actinobacteria...  k__Bacteria;p__Actinobacteria;c__Actinobacteri...\n",
      "k__Bacteria;p__Actinobacteria;c__Actinobacteria...  k__Bacteria;p__Actinobacteria;c__Actinobacteri...\n",
      "k__Bacteria;p__Actinobacteria;c__Actinobacteria...  k__Bacteria;p__Actinobacteria;c__Actinobacteri...\n",
      "k__Bacteria;p__Actinobacteria;c__Actinobacteria...  k__Bacteria;p__Actinobacteria;c__Actinobacteri...\n",
      "k__Bacteria;p__Actinobacteria;c__Actinobacteria...  k__Bacteria;p__Actinobacteria;c__Actinobacteri...\n",
      "k__Bacteria;p__Actinobacteria;c__Actinobacteria...  k__Bacteria;p__Actinobacteria;c__Actinobacteri...\n",
      "k__Bacteria;p__Actinobacteria;c__Actinobacteria...  k__Bacteria;p__Actinobacteria;c__Actinobacteri...\n",
      "k__Bacteria;p__Actinobacteria;c__Actinobacteria...  k__Bacteria;p__Actinobacteria;c__Actinobacteri...\n",
      "k__Bacteria;p__Actinobacteria;c__Actinobacteria...  k__Bacteria;p__Actinobacteria;c__Actinobacteri...\n",
      "k__Bacteria;p__Actinobacteria;c__Actinobacteria...  k__Bacteria;p__Actinobacteria;c__Actinobacteri...\n",
      "k__Bacteria;p__Actinobacteria;c__Actinobacteria...  k__Bacteria;p__Actinobacteria;c__Actinobacteri...\n",
      "k__Bacteria;p__Actinobacteria;c__Actinobacteria...  k__Bacteria;p__Actinobacteria;c__Actinobacteri...\n",
      "k__Bacteria;p__Actinobacteria;c__Actinobacteria...  k__Bacteria;p__Actinobacteria;c__Actinobacteri...\n",
      "k__Bacteria;p__Actinobacteria;c__Actinobacteria...  k__Bacteria;p__Actinobacteria;c__Actinobacteri...\n",
      "k__Bacteria;p__Actinobacteria;c__Actinobacteria...  k__Bacteria;p__Actinobacteria;c__Actinobacteri...\n",
      "k__Bacteria;p__Actinobacteria;c__Actinobacteria...  k__Bacteria;p__Actinobacteria;c__Actinobacteri...\n",
      "k__Bacteria;p__Actinobacteria;c__Actinobacteria...  k__Bacteria;p__Actinobacteria;c__Actinobacteri...\n",
      "k__Bacteria;p__Actinobacteria;c__Actinobacteria...  k__Bacteria;p__Actinobacteria;c__Actinobacteri...\n",
      "k__Bacteria;p__Actinobacteria;c__Actinobacteria...  k__Bacteria;p__Actinobacteria;c__Actinobacteri...\n",
      "k__Bacteria;p__Actinobacteria;c__Actinobacteria...  k__Bacteria;p__Actinobacteria;c__Actinobacteri...\n",
      "k__Bacteria;p__Actinobacteria;c__Actinobacteria...  k__Bacteria;p__Actinobacteria;c__Actinobacteri...\n",
      "k__Bacteria;p__Actinobacteria;c__Actinobacteria...  k__Bacteria;p__Actinobacteria;c__Actinobacteri...\n",
      "k__Bacteria;p__Actinobacteria;c__Actinobacteria...  k__Bacteria;p__Actinobacteria;c__Actinobacteri...\n",
      "k__Bacteria;p__Actinobacteria;c__Actinobacteria...  k__Bacteria;p__Actinobacteria;c__Actinobacteri...\n",
      "k__Bacteria;p__Actinobacteria;c__Actinobacteria...  k__Bacteria;p__Actinobacteria;c__Actinobacteri...\n",
      "k__Bacteria;p__Actinobacteria;c__Actinobacteria...  k__Bacteria;p__Actinobacteria;c__Actinobacteri...\n",
      "k__Bacteria;p__Actinobacteria;c__Actinobacteria...  k__Bacteria;p__Actinobacteria;c__Actinobacteri...\n",
      "k__Bacteria;p__Actinobacteria;c__Actinobacteria...  k__Bacteria;p__Actinobacteria;c__Actinobacteri...\n",
      "k__Bacteria;p__Actinobacteria;c__Actinobacteria...  k__Bacteria;p__Actinobacteria;c__Actinobacteri...\n",
      "k__Bacteria;p__Actinobacteria;c__Actinobacteria...  k__Bacteria;p__Actinobacteria;c__Actinobacteri...\n",
      "k__Bacteria;p__Actinobacteria;c__Actinobacteria...  k__Bacteria;p__Actinobacteria;c__Actinobacteri...\n",
      "k__Bacteria;p__Actinobacteria;c__Actinobacteria...  k__Bacteria;p__Actinobacteria;c__Actinobacteri...\n",
      "k__Bacteria;p__Actinobacteria;c__Actinobacteria...  k__Bacteria;p__Actinobacteria;c__Actinobacteri...\n",
      "k__Bacteria;p__Actinobacteria;c__Actinobacteria...  k__Bacteria;p__Actinobacteria;c__Actinobacteri...\n",
      "k__Bacteria;p__Actinobacteria;c__Actinobacteria...  k__Bacteria;p__Actinobacteria;c__Actinobacteri...\n",
      "k__Bacteria;p__Actinobacteria;c__Actinobacteria...  k__Bacteria;p__Actinobacteria;c__Actinobacteri...\n",
      "k__Bacteria;p__Actinobacteria;c__Actinobacteria...  k__Bacteria;p__Actinobacteria;c__Actinobacteri...\n",
      "k__Bacteria;p__Actinobacteria;c__Actinobacteria...  k__Bacteria;p__Actinobacteria;c__Actinobacteri...\n",
      "k__Bacteria;p__Actinobacteria;c__Actinobacteria...  k__Bacteria;p__Actinobacteria;c__Actinobacteri...\n",
      "k__Bacteria;p__Actinobacteria;c__Actinobacteria...  k__Bacteria;p__Actinobacteria;c__Actinobacteri...\n",
      "k__Bacteria;p__Actinobacteria;c__Actinobacteria...  k__Bacteria;p__Actinobacteria;c__Actinobacteri...\n",
      "k__Bacteria;p__Actinobacteria;c__Actinobacteria...  k__Bacteria;p__Actinobacteria;c__Actinobacteri...\n",
      "k__Bacteria;p__Actinobacteria;c__Actinobacteria...  k__Bacteria;p__Actinobacteria;c__Actinobacteri...\n",
      "k__Bacteria;p__Actinobacteria;c__Actinobacteria...  k__Bacteria;p__Actinobacteria;c__Actinobacteri...\n",
      "k__Bacteria;p__Actinobacteria;c__Actinobacteria...  k__Bacteria;p__Actinobacteria;c__Actinobacteri...\n",
      "k__Bacteria;p__Actinobacteria;c__Coriobacteriia...  k__Bacteria;p__Actinobacteria;c__Coriobacterii...\n",
      "k__Bacteria;p__Actinobacteria;c__Coriobacteriia...  k__Bacteria;p__Actinobacteria;c__Coriobacterii...\n",
      "k__Bacteria;p__Actinobacteria;c__Coriobacteriia...  k__Bacteria;p__Actinobacteria;c__Coriobacterii...\n",
      "k__Bacteria;p__Actinobacteria;c__Rubrobacteria;...  k__Bacteria;p__Actinobacteria;c__Rubrobacteria...\n",
      "k__Bacteria;p__Actinobacteria;c__Thermoleophili...  k__Bacteria;p__Actinobacteria;c__Thermoleophil...\n",
      "k__Bacteria;p__Actinobacteria;c__Thermoleophili...  k__Bacteria;p__Actinobacteria;c__Thermoleophil...\n",
      "k__Bacteria;p__Actinobacteria;c__Thermoleophili...  k__Bacteria;p__Actinobacteria;c__Thermoleophil...\n",
      "k__Bacteria;p__Actinobacteria;c__Thermoleophili...  k__Bacteria;p__Actinobacteria;c__Thermoleophil...\n",
      "k__Bacteria;p__Actinobacteria;c__Thermoleophili...  k__Bacteria;p__Actinobacteria;c__Thermoleophil...\n",
      "k__Bacteria;p__Actinobacteria;c__Thermoleophili...  k__Bacteria;p__Actinobacteria;c__Thermoleophil...\n",
      "k__Bacteria;p__Actinobacteria;c__Thermoleophili...  k__Bacteria;p__Actinobacteria;c__Thermoleophil...\n",
      "k__Bacteria;p__Armatimonadetes;c__Armatimonadia...  k__Bacteria;p__Armatimonadetes;c__Armatimonadi...\n",
      "k__Bacteria;p__Armatimonadetes;c__SHA-37;o__;f_...  k__Bacteria;p__Armatimonadetes;c__SHA-37;o__;f...\n",
      "k__Bacteria;p__Armatimonadetes;c__SJA-176;o__GA...  k__Bacteria;p__Armatimonadetes;c__SJA-176;o__G...\n",
      "k__Bacteria;p__Armatimonadetes;c__[Fimbriimonad...  k__Bacteria;p__Armatimonadetes;c__[Fimbriimona...\n",
      "k__Bacteria;p__Armatimonadetes;c__[Fimbriimonad...  k__Bacteria;p__Armatimonadetes;c__[Fimbriimona...\n",
      "k__Bacteria;p__BRC1;c__PRR-11;o__;f__;g__;s__           k__Bacteria;p__BRC1;c__PRR-11;o__;f__;g__;s__\n",
      "k__Bacteria;p__Bacteroidetes;c__Bacteroidia;o__...  k__Bacteria;p__Bacteroidetes;c__Bacteroidia;o_...\n",
      "k__Bacteria;p__Bacteroidetes;c__Bacteroidia;o__...  k__Bacteria;p__Bacteroidetes;c__Bacteroidia;o_...\n",
      "k__Bacteria;p__Bacteroidetes;c__Bacteroidia;o__...  k__Bacteria;p__Bacteroidetes;c__Bacteroidia;o_...\n",
      "k__Bacteria;p__Bacteroidetes;c__Bacteroidia;o__...  k__Bacteria;p__Bacteroidetes;c__Bacteroidia;o_...\n",
      "k__Bacteria;p__Bacteroidetes;c__Bacteroidia;o__...  k__Bacteria;p__Bacteroidetes;c__Bacteroidia;o_...\n",
      "k__Bacteria;p__Bacteroidetes;c__Bacteroidia;o__...  k__Bacteria;p__Bacteroidetes;c__Bacteroidia;o_...\n",
      "k__Bacteria;p__Bacteroidetes;c__Bacteroidia;o__...  k__Bacteria;p__Bacteroidetes;c__Bacteroidia;o_...\n",
      "k__Bacteria;p__Bacteroidetes;c__Bacteroidia;o__...  k__Bacteria;p__Bacteroidetes;c__Bacteroidia;o_...\n",
      "k__Bacteria;p__Bacteroidetes;c__Bacteroidia;o__...  k__Bacteria;p__Bacteroidetes;c__Bacteroidia;o_...\n",
      "k__Bacteria;p__Bacteroidetes;c__Bacteroidia;o__...  k__Bacteria;p__Bacteroidetes;c__Bacteroidia;o_...\n",
      "k__Bacteria;p__Bacteroidetes;c__Bacteroidia;o__...  k__Bacteria;p__Bacteroidetes;c__Bacteroidia;o_...\n",
      "k__Bacteria;p__Bacteroidetes;c__Bacteroidia;o__...  k__Bacteria;p__Bacteroidetes;c__Bacteroidia;o_...\n",
      "k__Bacteria;p__Bacteroidetes;c__Bacteroidia;o__...  k__Bacteria;p__Bacteroidetes;c__Bacteroidia;o_...\n",
      "k__Bacteria;p__Bacteroidetes;c__Bacteroidia;o__...  k__Bacteria;p__Bacteroidetes;c__Bacteroidia;o_...\n",
      "k__Bacteria;p__Bacteroidetes;c__Bacteroidia;o__...  k__Bacteria;p__Bacteroidetes;c__Bacteroidia;o_...\n",
      "k__Bacteria;p__Bacteroidetes;c__Bacteroidia;o__...  k__Bacteria;p__Bacteroidetes;c__Bacteroidia;o_...\n",
      "k__Bacteria;p__Bacteroidetes;c__Bacteroidia;o__...  k__Bacteria;p__Bacteroidetes;c__Bacteroidia;o_...\n",
      "k__Bacteria;p__Bacteroidetes;c__Bacteroidia;o__...  k__Bacteria;p__Bacteroidetes;c__Bacteroidia;o_...\n",
      "k__Bacteria;p__Bacteroidetes;c__Bacteroidia;o__...  k__Bacteria;p__Bacteroidetes;c__Bacteroidia;o_...\n",
      "k__Bacteria;p__Bacteroidetes;c__Bacteroidia;o__...  k__Bacteria;p__Bacteroidetes;c__Bacteroidia;o_...\n",
      "k__Bacteria;p__Bacteroidetes;c__Bacteroidia;o__...  k__Bacteria;p__Bacteroidetes;c__Bacteroidia;o_...\n",
      "k__Bacteria;p__Bacteroidetes;c__Bacteroidia;o__...  k__Bacteria;p__Bacteroidetes;c__Bacteroidia;o_...\n",
      "k__Bacteria;p__Bacteroidetes;c__Bacteroidia;o__...  k__Bacteria;p__Bacteroidetes;c__Bacteroidia;o_...\n",
      "k__Bacteria;p__Bacteroidetes;c__Bacteroidia;o__...  k__Bacteria;p__Bacteroidetes;c__Bacteroidia;o_...\n",
      "k__Bacteria;p__Bacteroidetes;c__Bacteroidia;o__...  k__Bacteria;p__Bacteroidetes;c__Bacteroidia;o_...\n",
      "k__Bacteria;p__Bacteroidetes;c__Cytophagia;o__C...  k__Bacteria;p__Bacteroidetes;c__Cytophagia;o__...\n",
      "k__Bacteria;p__Bacteroidetes;c__Cytophagia;o__C...  k__Bacteria;p__Bacteroidetes;c__Cytophagia;o__...\n",
      "k__Bacteria;p__Bacteroidetes;c__Cytophagia;o__C...  k__Bacteria;p__Bacteroidetes;c__Cytophagia;o__...\n",
      "k__Bacteria;p__Bacteroidetes;c__Cytophagia;o__C...  k__Bacteria;p__Bacteroidetes;c__Cytophagia;o__...\n",
      "k__Bacteria;p__Bacteroidetes;c__Cytophagia;o__C...  k__Bacteria;p__Bacteroidetes;c__Cytophagia;o__...\n",
      "k__Bacteria;p__Bacteroidetes;c__Cytophagia;o__C...  k__Bacteria;p__Bacteroidetes;c__Cytophagia;o__...\n",
      "k__Bacteria;p__Bacteroidetes;c__Cytophagia;o__C...  k__Bacteria;p__Bacteroidetes;c__Cytophagia;o__...\n",
      "k__Bacteria;p__Bacteroidetes;c__Cytophagia;o__C...  k__Bacteria;p__Bacteroidetes;c__Cytophagia;o__...\n",
      "k__Bacteria;p__Bacteroidetes;c__Cytophagia;o__C...  k__Bacteria;p__Bacteroidetes;c__Cytophagia;o__...\n",
      "k__Bacteria;p__Bacteroidetes;c__Cytophagia;o__C...  k__Bacteria;p__Bacteroidetes;c__Cytophagia;o__...\n",
      "k__Bacteria;p__Bacteroidetes;c__Flavobacteriia;...  k__Bacteria;p__Bacteroidetes;c__Flavobacteriia...\n",
      "k__Bacteria;p__Bacteroidetes;c__Flavobacteriia;...  k__Bacteria;p__Bacteroidetes;c__Flavobacteriia...\n",
      "k__Bacteria;p__Bacteroidetes;c__Flavobacteriia;...  k__Bacteria;p__Bacteroidetes;c__Flavobacteriia...\n",
      "k__Bacteria;p__Bacteroidetes;c__Flavobacteriia;...  k__Bacteria;p__Bacteroidetes;c__Flavobacteriia...\n",
      "k__Bacteria;p__Bacteroidetes;c__Flavobacteriia;...  k__Bacteria;p__Bacteroidetes;c__Flavobacteriia...\n",
      "k__Bacteria;p__Bacteroidetes;c__Flavobacteriia;...  k__Bacteria;p__Bacteroidetes;c__Flavobacteriia...\n",
      "k__Bacteria;p__Bacteroidetes;c__Flavobacteriia;...  k__Bacteria;p__Bacteroidetes;c__Flavobacteriia...\n",
      "k__Bacteria;p__Bacteroidetes;c__Flavobacteriia;...  k__Bacteria;p__Bacteroidetes;c__Flavobacteriia...\n",
      "k__Bacteria;p__Bacteroidetes;c__Flavobacteriia;...  k__Bacteria;p__Bacteroidetes;c__Flavobacteriia...\n",
      "k__Bacteria;p__Bacteroidetes;c__Flavobacteriia;...  k__Bacteria;p__Bacteroidetes;c__Flavobacteriia...\n",
      "k__Bacteria;p__Bacteroidetes;c__Flavobacteriia;...  k__Bacteria;p__Bacteroidetes;c__Flavobacteriia...\n",
      "k__Bacteria;p__Bacteroidetes;c__Flavobacteriia;...  k__Bacteria;p__Bacteroidetes;c__Flavobacteriia...\n",
      "k__Bacteria;p__Bacteroidetes;c__Flavobacteriia;...  k__Bacteria;p__Bacteroidetes;c__Flavobacteriia...\n",
      "k__Bacteria;p__Bacteroidetes;c__Flavobacteriia;...  k__Bacteria;p__Bacteroidetes;c__Flavobacteriia...\n",
      "k__Bacteria;p__Bacteroidetes;c__Flavobacteriia;...  k__Bacteria;p__Bacteroidetes;c__Flavobacteriia...\n",
      "k__Bacteria;p__Bacteroidetes;c__Flavobacteriia;...  k__Bacteria;p__Bacteroidetes;c__Flavobacteriia...\n",
      "k__Bacteria;p__Bacteroidetes;c__Flavobacteriia;...  k__Bacteria;p__Bacteroidetes;c__Flavobacteriia...\n",
      "k__Bacteria;p__Bacteroidetes;c__Flavobacteriia;...  k__Bacteria;p__Bacteroidetes;c__Flavobacteriia...\n",
      "k__Bacteria;p__Bacteroidetes;c__Sphingobacterii...  k__Bacteria;p__Bacteroidetes;c__Sphingobacteri...\n",
      "k__Bacteria;p__Bacteroidetes;c__Sphingobacterii...  k__Bacteria;p__Bacteroidetes;c__Sphingobacteri...\n",
      "k__Bacteria;p__Bacteroidetes;c__Sphingobacterii...  k__Bacteria;p__Bacteroidetes;c__Sphingobacteri...\n",
      "k__Bacteria;p__Bacteroidetes;c__Sphingobacterii...  k__Bacteria;p__Bacteroidetes;c__Sphingobacteri...\n",
      "k__Bacteria;p__Bacteroidetes;c__Sphingobacterii...  k__Bacteria;p__Bacteroidetes;c__Sphingobacteri...\n",
      "k__Bacteria;p__Bacteroidetes;c__Sphingobacterii...  k__Bacteria;p__Bacteroidetes;c__Sphingobacteri...\n",
      "k__Bacteria;p__Bacteroidetes;c__Sphingobacterii...  k__Bacteria;p__Bacteroidetes;c__Sphingobacteri...\n",
      "k__Bacteria;p__Bacteroidetes;c__Sphingobacterii...  k__Bacteria;p__Bacteroidetes;c__Sphingobacteri...\n",
      "k__Bacteria;p__Bacteroidetes;c__Sphingobacterii...  k__Bacteria;p__Bacteroidetes;c__Sphingobacteri...\n",
      "k__Bacteria;p__Bacteroidetes;c__Sphingobacterii...  k__Bacteria;p__Bacteroidetes;c__Sphingobacteri...\n",
      "k__Bacteria;p__Bacteroidetes;c__[Saprospirae];o...  k__Bacteria;p__Bacteroidetes;c__[Saprospirae];...\n",
      "k__Bacteria;p__Bacteroidetes;c__[Saprospirae];o...  k__Bacteria;p__Bacteroidetes;c__[Saprospirae];...\n",
      "k__Bacteria;p__Bacteroidetes;c__[Saprospirae];o...  k__Bacteria;p__Bacteroidetes;c__[Saprospirae];...\n",
      "k__Bacteria;p__Bacteroidetes;c__[Saprospirae];o...  k__Bacteria;p__Bacteroidetes;c__[Saprospirae];...\n",
      "k__Bacteria;p__Bacteroidetes;c__[Saprospirae];o...  k__Bacteria;p__Bacteroidetes;c__[Saprospirae];...\n",
      "k__Bacteria;p__Bacteroidetes;c__[Saprospirae];o...  k__Bacteria;p__Bacteroidetes;c__[Saprospirae];...\n",
      "k__Bacteria;p__Bacteroidetes;c__[Saprospirae];o...  k__Bacteria;p__Bacteroidetes;c__[Saprospirae];...\n",
      "k__Bacteria;p__Bacteroidetes;c__[Saprospirae];o...  k__Bacteria;p__Bacteroidetes;c__[Saprospirae];...\n",
      "k__Bacteria;p__Bacteroidetes;c__[Saprospirae];o...  k__Bacteria;p__Bacteroidetes;c__[Saprospirae];...\n",
      "k__Bacteria;p__Bacteroidetes;c__[Saprospirae];o...  k__Bacteria;p__Bacteroidetes;c__[Saprospirae];...\n",
      "k__Bacteria;p__Bacteroidetes;c__[Saprospirae];o...  k__Bacteria;p__Bacteroidetes;c__[Saprospirae];...\n",
      "k__Bacteria;p__Chlorobi;c__OPB56;o__;f__;g__;s__     k__Bacteria;p__Chlorobi;c__OPB56;o__;f__;g__;s__\n",
      "k__Bacteria;p__Chloroflexi;c__Chloroflexi;o__AK...  k__Bacteria;p__Chloroflexi;c__Chloroflexi;o__A...\n",
      "k__Bacteria;p__Chloroflexi;c__Ellin6529;o__;f__...  k__Bacteria;p__Chloroflexi;c__Ellin6529;o__;f_...\n",
      "k__Bacteria;p__Chloroflexi;c__Thermomicrobia;o_...  k__Bacteria;p__Chloroflexi;c__Thermomicrobia;o...\n",
      "k__Bacteria;p__Chloroflexi;c__Thermomicrobia;o_...  k__Bacteria;p__Chloroflexi;c__Thermomicrobia;o...\n",
      "k__Bacteria;p__Cyanobacteria;c__4C0d-2;o__SM1D1...  k__Bacteria;p__Cyanobacteria;c__4C0d-2;o__SM1D...\n",
      "k__Bacteria;p__Cyanobacteria;c__4C0d-2;o__YS2;f...  k__Bacteria;p__Cyanobacteria;c__4C0d-2;o__YS2;...\n",
      "k__Bacteria;p__Cyanobacteria;c__ML635J-21;o__;f...  k__Bacteria;p__Cyanobacteria;c__ML635J-21;o__;...\n",
      "k__Bacteria;p__Cyanobacteria;c__Oscillatoriophy...  k__Bacteria;p__Cyanobacteria;c__Oscillatorioph...\n",
      "k__Bacteria;p__Deferribacteres;c__Deferribacter...  k__Bacteria;p__Deferribacteres;c__Deferribacte...\n",
      "k__Bacteria;p__Deferribacteres;c__Deferribacter...  k__Bacteria;p__Deferribacteres;c__Deferribacte...\n",
      "k__Bacteria;p__FBP;c__;o__;f__;g__;s__                         k__Bacteria;p__FBP;c__;o__;f__;g__;s__\n",
      "k__Bacteria;p__Firmicutes;c__AHT28;o__;f__;g__;s__  k__Bacteria;p__Firmicutes;c__AHT28;o__;f__;g__...\n",
      "k__Bacteria;p__Firmicutes;c__Bacilli;o__Bacilla...  k__Bacteria;p__Firmicutes;c__Bacilli;o__Bacill...\n",
      "k__Bacteria;p__Firmicutes;c__Bacilli;o__Bacilla...  k__Bacteria;p__Firmicutes;c__Bacilli;o__Bacill...\n",
      "k__Bacteria;p__Firmicutes;c__Bacilli;o__Bacilla...  k__Bacteria;p__Firmicutes;c__Bacilli;o__Bacill...\n",
      "k__Bacteria;p__Firmicutes;c__Bacilli;o__Bacilla...  k__Bacteria;p__Firmicutes;c__Bacilli;o__Bacill...\n",
      "k__Bacteria;p__Firmicutes;c__Bacilli;o__Bacilla...  k__Bacteria;p__Firmicutes;c__Bacilli;o__Bacill...\n",
      "k__Bacteria;p__Firmicutes;c__Bacilli;o__Bacilla...  k__Bacteria;p__Firmicutes;c__Bacilli;o__Bacill...\n",
      "k__Bacteria;p__Firmicutes;c__Bacilli;o__Bacilla...  k__Bacteria;p__Firmicutes;c__Bacilli;o__Bacill...\n",
      "k__Bacteria;p__Firmicutes;c__Bacilli;o__Bacilla...  k__Bacteria;p__Firmicutes;c__Bacilli;o__Bacill...\n",
      "k__Bacteria;p__Firmicutes;c__Bacilli;o__Bacilla...  k__Bacteria;p__Firmicutes;c__Bacilli;o__Bacill...\n",
      "k__Bacteria;p__Firmicutes;c__Bacilli;o__Bacilla...  k__Bacteria;p__Firmicutes;c__Bacilli;o__Bacill...\n",
      "k__Bacteria;p__Firmicutes;c__Bacilli;o__Bacilla...  k__Bacteria;p__Firmicutes;c__Bacilli;o__Bacill...\n",
      "k__Bacteria;p__Firmicutes;c__Bacilli;o__Bacilla...  k__Bacteria;p__Firmicutes;c__Bacilli;o__Bacill...\n",
      "k__Bacteria;p__Firmicutes;c__Bacilli;o__Bacilla...  k__Bacteria;p__Firmicutes;c__Bacilli;o__Bacill...\n",
      "k__Bacteria;p__Firmicutes;c__Bacilli;o__Bacilla...  k__Bacteria;p__Firmicutes;c__Bacilli;o__Bacill...\n",
      "k__Bacteria;p__Firmicutes;c__Bacilli;o__Bacilla...  k__Bacteria;p__Firmicutes;c__Bacilli;o__Bacill...\n",
      "k__Bacteria;p__Firmicutes;c__Bacilli;o__Bacilla...  k__Bacteria;p__Firmicutes;c__Bacilli;o__Bacill...\n",
      "k__Bacteria;p__Firmicutes;c__Bacilli;o__Bacilla...  k__Bacteria;p__Firmicutes;c__Bacilli;o__Bacill...\n",
      "k__Bacteria;p__Firmicutes;c__Bacilli;o__Bacilla...  k__Bacteria;p__Firmicutes;c__Bacilli;o__Bacill...\n",
      "k__Bacteria;p__Firmicutes;c__Bacilli;o__Bacilla...  k__Bacteria;p__Firmicutes;c__Bacilli;o__Bacill...\n",
      "k__Bacteria;p__Firmicutes;c__Bacilli;o__Bacilla...  k__Bacteria;p__Firmicutes;c__Bacilli;o__Bacill...\n",
      "k__Bacteria;p__Firmicutes;c__Bacilli;o__Bacilla...  k__Bacteria;p__Firmicutes;c__Bacilli;o__Bacill...\n",
      "k__Bacteria;p__Firmicutes;c__Bacilli;o__Bacilla...  k__Bacteria;p__Firmicutes;c__Bacilli;o__Bacill...\n",
      "k__Bacteria;p__Firmicutes;c__Bacilli;o__Bacilla...  k__Bacteria;p__Firmicutes;c__Bacilli;o__Bacill...\n",
      "k__Bacteria;p__Firmicutes;c__Bacilli;o__Bacilla...  k__Bacteria;p__Firmicutes;c__Bacilli;o__Bacill...\n",
      "k__Bacteria;p__Firmicutes;c__Bacilli;o__Bacilla...  k__Bacteria;p__Firmicutes;c__Bacilli;o__Bacill...\n",
      "k__Bacteria;p__Firmicutes;c__Bacilli;o__Bacilla...  k__Bacteria;p__Firmicutes;c__Bacilli;o__Bacill...\n",
      "k__Bacteria;p__Firmicutes;c__Bacilli;o__Bacilla...  k__Bacteria;p__Firmicutes;c__Bacilli;o__Bacill...\n",
      "k__Bacteria;p__Firmicutes;c__Bacilli;o__Bacilla...  k__Bacteria;p__Firmicutes;c__Bacilli;o__Bacill...\n",
      "k__Bacteria;p__Firmicutes;c__Bacilli;o__Bacilla...  k__Bacteria;p__Firmicutes;c__Bacilli;o__Bacill...\n",
      "k__Bacteria;p__Firmicutes;c__Bacilli;o__Bacilla...  k__Bacteria;p__Firmicutes;c__Bacilli;o__Bacill...\n",
      "k__Bacteria;p__Firmicutes;c__Bacilli;o__Bacilla...  k__Bacteria;p__Firmicutes;c__Bacilli;o__Bacill...\n",
      "k__Bacteria;p__Firmicutes;c__Bacilli;o__Bacilla...  k__Bacteria;p__Firmicutes;c__Bacilli;o__Bacill...\n",
      "k__Bacteria;p__Firmicutes;c__Bacilli;o__Bacilla...  k__Bacteria;p__Firmicutes;c__Bacilli;o__Bacill...\n",
      "k__Bacteria;p__Firmicutes;c__Bacilli;o__Gemella...  k__Bacteria;p__Firmicutes;c__Bacilli;o__Gemell...\n",
      "k__Bacteria;p__Firmicutes;c__Bacilli;o__Gemella...  k__Bacteria;p__Firmicutes;c__Bacilli;o__Gemell...\n",
      "k__Bacteria;p__Firmicutes;c__Bacilli;o__Gemella...  k__Bacteria;p__Firmicutes;c__Bacilli;o__Gemell...\n",
      "k__Bacteria;p__Firmicutes;c__Bacilli;o__Lactoba...  k__Bacteria;p__Firmicutes;c__Bacilli;o__Lactob...\n",
      "k__Bacteria;p__Firmicutes;c__Bacilli;o__Lactoba...  k__Bacteria;p__Firmicutes;c__Bacilli;o__Lactob...\n",
      "k__Bacteria;p__Firmicutes;c__Bacilli;o__Lactoba...  k__Bacteria;p__Firmicutes;c__Bacilli;o__Lactob...\n",
      "k__Bacteria;p__Firmicutes;c__Bacilli;o__Lactoba...  k__Bacteria;p__Firmicutes;c__Bacilli;o__Lactob...\n",
      "k__Bacteria;p__Firmicutes;c__Bacilli;o__Lactoba...  k__Bacteria;p__Firmicutes;c__Bacilli;o__Lactob...\n",
      "k__Bacteria;p__Firmicutes;c__Bacilli;o__Lactoba...  k__Bacteria;p__Firmicutes;c__Bacilli;o__Lactob...\n",
      "k__Bacteria;p__Firmicutes;c__Bacilli;o__Lactoba...  k__Bacteria;p__Firmicutes;c__Bacilli;o__Lactob...\n",
      "k__Bacteria;p__Firmicutes;c__Bacilli;o__Lactoba...  k__Bacteria;p__Firmicutes;c__Bacilli;o__Lactob...\n",
      "k__Bacteria;p__Firmicutes;c__Bacilli;o__Lactoba...  k__Bacteria;p__Firmicutes;c__Bacilli;o__Lactob...\n",
      "k__Bacteria;p__Firmicutes;c__Bacilli;o__Lactoba...  k__Bacteria;p__Firmicutes;c__Bacilli;o__Lactob...\n",
      "k__Bacteria;p__Firmicutes;c__Bacilli;o__Lactoba...  k__Bacteria;p__Firmicutes;c__Bacilli;o__Lactob...\n",
      "k__Bacteria;p__Firmicutes;c__Bacilli;o__Lactoba...  k__Bacteria;p__Firmicutes;c__Bacilli;o__Lactob...\n",
      "k__Bacteria;p__Firmicutes;c__Bacilli;o__Lactoba...  k__Bacteria;p__Firmicutes;c__Bacilli;o__Lactob...\n",
      "k__Bacteria;p__Firmicutes;c__Bacilli;o__Lactoba...  k__Bacteria;p__Firmicutes;c__Bacilli;o__Lactob...\n",
      "k__Bacteria;p__Firmicutes;c__Bacilli;o__Lactoba...  k__Bacteria;p__Firmicutes;c__Bacilli;o__Lactob...\n",
      "k__Bacteria;p__Firmicutes;c__Clostridia;o__Clos...  k__Bacteria;p__Firmicutes;c__Clostridia;o__Clo...\n",
      "k__Bacteria;p__Firmicutes;c__Clostridia;o__Clos...  k__Bacteria;p__Firmicutes;c__Clostridia;o__Clo...\n",
      "k__Bacteria;p__Firmicutes;c__Clostridia;o__Clos...  k__Bacteria;p__Firmicutes;c__Clostridia;o__Clo...\n",
      "k__Bacteria;p__Firmicutes;c__Clostridia;o__Clos...  k__Bacteria;p__Firmicutes;c__Clostridia;o__Clo...\n",
      "k__Bacteria;p__Firmicutes;c__Clostridia;o__Clos...  k__Bacteria;p__Firmicutes;c__Clostridia;o__Clo...\n",
      "k__Bacteria;p__Firmicutes;c__Clostridia;o__Clos...  k__Bacteria;p__Firmicutes;c__Clostridia;o__Clo...\n",
      "k__Bacteria;p__Firmicutes;c__Clostridia;o__Clos...  k__Bacteria;p__Firmicutes;c__Clostridia;o__Clo...\n",
      "k__Bacteria;p__Firmicutes;c__Clostridia;o__Clos...  k__Bacteria;p__Firmicutes;c__Clostridia;o__Clo...\n",
      "k__Bacteria;p__Firmicutes;c__Clostridia;o__Clos...  k__Bacteria;p__Firmicutes;c__Clostridia;o__Clo...\n",
      "k__Bacteria;p__Firmicutes;c__Clostridia;o__Clos...  k__Bacteria;p__Firmicutes;c__Clostridia;o__Clo...\n",
      "k__Bacteria;p__Firmicutes;c__Clostridia;o__Clos...  k__Bacteria;p__Firmicutes;c__Clostridia;o__Clo...\n",
      "k__Bacteria;p__Firmicutes;c__Clostridia;o__Clos...  k__Bacteria;p__Firmicutes;c__Clostridia;o__Clo...\n",
      "k__Bacteria;p__Firmicutes;c__Clostridia;o__Clos...  k__Bacteria;p__Firmicutes;c__Clostridia;o__Clo...\n",
      "k__Bacteria;p__Firmicutes;c__Clostridia;o__Clos...  k__Bacteria;p__Firmicutes;c__Clostridia;o__Clo...\n",
      "k__Bacteria;p__Firmicutes;c__Clostridia;o__Clos...  k__Bacteria;p__Firmicutes;c__Clostridia;o__Clo...\n",
      "k__Bacteria;p__Firmicutes;c__Clostridia;o__Clos...  k__Bacteria;p__Firmicutes;c__Clostridia;o__Clo...\n",
      "k__Bacteria;p__Firmicutes;c__Clostridia;o__Clos...  k__Bacteria;p__Firmicutes;c__Clostridia;o__Clo...\n",
      "k__Bacteria;p__Firmicutes;c__Clostridia;o__Clos...  k__Bacteria;p__Firmicutes;c__Clostridia;o__Clo...\n",
      "k__Bacteria;p__Firmicutes;c__Clostridia;o__Clos...  k__Bacteria;p__Firmicutes;c__Clostridia;o__Clo...\n",
      "k__Bacteria;p__Firmicutes;c__Clostridia;o__Clos...  k__Bacteria;p__Firmicutes;c__Clostridia;o__Clo...\n",
      "k__Bacteria;p__Firmicutes;c__Clostridia;o__Clos...  k__Bacteria;p__Firmicutes;c__Clostridia;o__Clo...\n",
      "k__Bacteria;p__Firmicutes;c__Clostridia;o__Clos...  k__Bacteria;p__Firmicutes;c__Clostridia;o__Clo...\n",
      "k__Bacteria;p__Firmicutes;c__Clostridia;o__Clos...  k__Bacteria;p__Firmicutes;c__Clostridia;o__Clo...\n",
      "k__Bacteria;p__Firmicutes;c__Clostridia;o__Clos...  k__Bacteria;p__Firmicutes;c__Clostridia;o__Clo...\n",
      "k__Bacteria;p__Firmicutes;c__Clostridia;o__Clos...  k__Bacteria;p__Firmicutes;c__Clostridia;o__Clo...\n",
      "k__Bacteria;p__Firmicutes;c__Clostridia;o__Clos...  k__Bacteria;p__Firmicutes;c__Clostridia;o__Clo...\n",
      "k__Bacteria;p__Firmicutes;c__Clostridia;o__Clos...  k__Bacteria;p__Firmicutes;c__Clostridia;o__Clo...\n",
      "k__Bacteria;p__Firmicutes;c__Clostridia;o__Clos...  k__Bacteria;p__Firmicutes;c__Clostridia;o__Clo...\n",
      "k__Bacteria;p__Firmicutes;c__Clostridia;o__Clos...  k__Bacteria;p__Firmicutes;c__Clostridia;o__Clo...\n",
      "k__Bacteria;p__Firmicutes;c__Clostridia;o__Clos...  k__Bacteria;p__Firmicutes;c__Clostridia;o__Clo...\n",
      "k__Bacteria;p__Firmicutes;c__Clostridia;o__Clos...  k__Bacteria;p__Firmicutes;c__Clostridia;o__Clo...\n",
      "k__Bacteria;p__Firmicutes;c__Clostridia;o__Clos...  k__Bacteria;p__Firmicutes;c__Clostridia;o__Clo...\n",
      "k__Bacteria;p__Firmicutes;c__Clostridia;o__Clos...  k__Bacteria;p__Firmicutes;c__Clostridia;o__Clo...\n",
      "k__Bacteria;p__Firmicutes;c__Clostridia;o__Clos...  k__Bacteria;p__Firmicutes;c__Clostridia;o__Clo...\n",
      "k__Bacteria;p__Firmicutes;c__Clostridia;o__Clos...  k__Bacteria;p__Firmicutes;c__Clostridia;o__Clo...\n",
      "k__Bacteria;p__Firmicutes;c__Clostridia;o__Clos...  k__Bacteria;p__Firmicutes;c__Clostridia;o__Clo...\n",
      "k__Bacteria;p__Firmicutes;c__Clostridia;o__Clos...  k__Bacteria;p__Firmicutes;c__Clostridia;o__Clo...\n",
      "k__Bacteria;p__Firmicutes;c__Clostridia;o__Clos...  k__Bacteria;p__Firmicutes;c__Clostridia;o__Clo...\n",
      "k__Bacteria;p__Firmicutes;c__Clostridia;o__Clos...  k__Bacteria;p__Firmicutes;c__Clostridia;o__Clo...\n",
      "k__Bacteria;p__Firmicutes;c__Clostridia;o__Clos...  k__Bacteria;p__Firmicutes;c__Clostridia;o__Clo...\n",
      "k__Bacteria;p__Firmicutes;c__Clostridia;o__Clos...  k__Bacteria;p__Firmicutes;c__Clostridia;o__Clo...\n",
      "k__Bacteria;p__Firmicutes;c__Clostridia;o__Clos...  k__Bacteria;p__Firmicutes;c__Clostridia;o__Clo...\n",
      "k__Bacteria;p__Firmicutes;c__Clostridia;o__Clos...  k__Bacteria;p__Firmicutes;c__Clostridia;o__Clo...\n",
      "k__Bacteria;p__Firmicutes;c__Clostridia;o__Clos...  k__Bacteria;p__Firmicutes;c__Clostridia;o__Clo...\n",
      "k__Bacteria;p__Firmicutes;c__Clostridia;o__Clos...  k__Bacteria;p__Firmicutes;c__Clostridia;o__Clo...\n",
      "k__Bacteria;p__Firmicutes;c__Clostridia;o__Clos...  k__Bacteria;p__Firmicutes;c__Clostridia;o__Clo...\n",
      "k__Bacteria;p__Firmicutes;c__Clostridia;o__Clos...  k__Bacteria;p__Firmicutes;c__Clostridia;o__Clo...\n",
      "k__Bacteria;p__Firmicutes;c__Clostridia;o__Clos...  k__Bacteria;p__Firmicutes;c__Clostridia;o__Clo...\n",
      "k__Bacteria;p__Firmicutes;c__Clostridia;o__Clos...  k__Bacteria;p__Firmicutes;c__Clostridia;o__Clo...\n",
      "k__Bacteria;p__Firmicutes;c__Clostridia;o__Clos...  k__Bacteria;p__Firmicutes;c__Clostridia;o__Clo...\n",
      "k__Bacteria;p__Firmicutes;c__Clostridia;o__Clos...  k__Bacteria;p__Firmicutes;c__Clostridia;o__Clo...\n",
      "k__Bacteria;p__Firmicutes;c__Clostridia;o__Clos...  k__Bacteria;p__Firmicutes;c__Clostridia;o__Clo...\n",
      "k__Bacteria;p__Firmicutes;c__Clostridia;o__Clos...  k__Bacteria;p__Firmicutes;c__Clostridia;o__Clo...\n",
      "k__Bacteria;p__Firmicutes;c__Clostridia;o__Clos...  k__Bacteria;p__Firmicutes;c__Clostridia;o__Clo...\n",
      "k__Bacteria;p__Firmicutes;c__Clostridia;o__Clos...  k__Bacteria;p__Firmicutes;c__Clostridia;o__Clo...\n",
      "k__Bacteria;p__Firmicutes;c__Clostridia;o__Clos...  k__Bacteria;p__Firmicutes;c__Clostridia;o__Clo...\n",
      "k__Bacteria;p__Firmicutes;c__Clostridia;o__Clos...  k__Bacteria;p__Firmicutes;c__Clostridia;o__Clo...\n",
      "k__Bacteria;p__Firmicutes;c__Clostridia;o__Clos...  k__Bacteria;p__Firmicutes;c__Clostridia;o__Clo...\n",
      "k__Bacteria;p__Firmicutes;c__Clostridia;o__Clos...  k__Bacteria;p__Firmicutes;c__Clostridia;o__Clo...\n",
      "k__Bacteria;p__Firmicutes;c__Clostridia;o__Clos...  k__Bacteria;p__Firmicutes;c__Clostridia;o__Clo...\n",
      "k__Bacteria;p__Firmicutes;c__Clostridia;o__Clos...  k__Bacteria;p__Firmicutes;c__Clostridia;o__Clo...\n",
      "k__Bacteria;p__Firmicutes;c__Clostridia;o__MBA0...  k__Bacteria;p__Firmicutes;c__Clostridia;o__MBA...\n",
      "k__Bacteria;p__Firmicutes;c__Clostridia;o__OPB5...  k__Bacteria;p__Firmicutes;c__Clostridia;o__OPB...\n",
      "k__Bacteria;p__Firmicutes;c__Clostridia;o__Ther...  k__Bacteria;p__Firmicutes;c__Clostridia;o__The...\n",
      "k__Bacteria;p__Firmicutes;c__Clostridia;o__Ther...  k__Bacteria;p__Firmicutes;c__Clostridia;o__The...\n",
      "k__Bacteria;p__Firmicutes;c__Erysipelotrichi;o_...  k__Bacteria;p__Firmicutes;c__Erysipelotrichi;o...\n",
      "k__Bacteria;p__Firmicutes;c__Erysipelotrichi;o_...  k__Bacteria;p__Firmicutes;c__Erysipelotrichi;o...\n",
      "k__Bacteria;p__Firmicutes;c__Erysipelotrichi;o_...  k__Bacteria;p__Firmicutes;c__Erysipelotrichi;o...\n",
      "k__Bacteria;p__Firmicutes;c__Erysipelotrichi;o_...  k__Bacteria;p__Firmicutes;c__Erysipelotrichi;o...\n",
      "k__Bacteria;p__Firmicutes;c__Erysipelotrichi;o_...  k__Bacteria;p__Firmicutes;c__Erysipelotrichi;o...\n",
      "k__Bacteria;p__Firmicutes;c__Erysipelotrichi;o_...  k__Bacteria;p__Firmicutes;c__Erysipelotrichi;o...\n",
      "k__Bacteria;p__Firmicutes;c__Erysipelotrichi;o_...  k__Bacteria;p__Firmicutes;c__Erysipelotrichi;o...\n",
      "k__Bacteria;p__Firmicutes;c__Erysipelotrichi;o_...  k__Bacteria;p__Firmicutes;c__Erysipelotrichi;o...\n",
      "k__Bacteria;p__Firmicutes;c__Erysipelotrichi;o_...  k__Bacteria;p__Firmicutes;c__Erysipelotrichi;o...\n",
      "k__Bacteria;p__Fusobacteria;c__Fusobacteriia;o_...  k__Bacteria;p__Fusobacteria;c__Fusobacteriia;o...\n",
      "k__Bacteria;p__Fusobacteria;c__Fusobacteriia;o_...  k__Bacteria;p__Fusobacteria;c__Fusobacteriia;o...\n",
      "k__Bacteria;p__Fusobacteria;c__Fusobacteriia;o_...  k__Bacteria;p__Fusobacteria;c__Fusobacteriia;o...\n",
      "k__Bacteria;p__Fusobacteria;c__Fusobacteriia;o_...  k__Bacteria;p__Fusobacteria;c__Fusobacteriia;o...\n",
      "k__Bacteria;p__GN02;c__BD1-5;o__;f__;g__;s__             k__Bacteria;p__GN02;c__BD1-5;o__;f__;g__;s__\n",
      "k__Bacteria;p__Gemmatimonadetes;c__Gemm-3;o__;f...  k__Bacteria;p__Gemmatimonadetes;c__Gemm-3;o__;...\n",
      "k__Bacteria;p__Gemmatimonadetes;c__Gemmatimonad...  k__Bacteria;p__Gemmatimonadetes;c__Gemmatimona...\n",
      "k__Bacteria;p__Gemmatimonadetes;c__Gemmatimonad...  k__Bacteria;p__Gemmatimonadetes;c__Gemmatimona...\n",
      "k__Bacteria;p__Gemmatimonadetes;c__Gemmatimonad...  k__Bacteria;p__Gemmatimonadetes;c__Gemmatimona...\n",
      "k__Bacteria;p__Gemmatimonadetes;c__Gemmatimonad...  k__Bacteria;p__Gemmatimonadetes;c__Gemmatimona...\n",
      "k__Bacteria;p__OD1;c__SM2F11;o__;f__;g__;s__             k__Bacteria;p__OD1;c__SM2F11;o__;f__;g__;s__\n",
      "k__Bacteria;p__OP11;c__;o__;f__;g__;s__                       k__Bacteria;p__OP11;c__;o__;f__;g__;s__\n",
      "k__Bacteria;p__OP11;c__OP11-2;o__WCHB1-07;f__;g...  k__Bacteria;p__OP11;c__OP11-2;o__WCHB1-07;f__;...\n",
      "k__Bacteria;p__Planctomycetes;c__Phycisphaerae;...  k__Bacteria;p__Planctomycetes;c__Phycisphaerae...\n",
      "k__Bacteria;p__Planctomycetes;c__Phycisphaerae;...  k__Bacteria;p__Planctomycetes;c__Phycisphaerae...\n",
      "k__Bacteria;p__Planctomycetes;c__Planctomycetia...  k__Bacteria;p__Planctomycetes;c__Planctomyceti...\n",
      "k__Bacteria;p__Planctomycetes;c__Planctomycetia...  k__Bacteria;p__Planctomycetes;c__Planctomyceti...\n",
      "k__Bacteria;p__Planctomycetes;c__Planctomycetia...  k__Bacteria;p__Planctomycetes;c__Planctomyceti...\n",
      "k__Bacteria;p__Planctomycetes;c__Planctomycetia...  k__Bacteria;p__Planctomycetes;c__Planctomyceti...\n",
      "k__Bacteria;p__Planctomycetes;c__Planctomycetia...  k__Bacteria;p__Planctomycetes;c__Planctomyceti...\n",
      "k__Bacteria;p__Planctomycetes;c__vadinHA49;o__P...  k__Bacteria;p__Planctomycetes;c__vadinHA49;o__...\n",
      "k__Bacteria;p__Proteobacteria;c__;o__;f__;g__;s__   k__Bacteria;p__Proteobacteria;c__;o__;f__;g__;s__\n",
      "k__Bacteria;p__Proteobacteria;c__Alphaproteobac...  k__Bacteria;p__Proteobacteria;c__Alphaproteoba...\n",
      "k__Bacteria;p__Proteobacteria;c__Alphaproteobac...  k__Bacteria;p__Proteobacteria;c__Alphaproteoba...\n",
      "k__Bacteria;p__Proteobacteria;c__Alphaproteobac...  k__Bacteria;p__Proteobacteria;c__Alphaproteoba...\n",
      "k__Bacteria;p__Proteobacteria;c__Alphaproteobac...  k__Bacteria;p__Proteobacteria;c__Alphaproteoba...\n",
      "k__Bacteria;p__Proteobacteria;c__Alphaproteobac...  k__Bacteria;p__Proteobacteria;c__Alphaproteoba...\n",
      "k__Bacteria;p__Proteobacteria;c__Alphaproteobac...  k__Bacteria;p__Proteobacteria;c__Alphaproteoba...\n",
      "k__Bacteria;p__Proteobacteria;c__Alphaproteobac...  k__Bacteria;p__Proteobacteria;c__Alphaproteoba...\n",
      "k__Bacteria;p__Proteobacteria;c__Alphaproteobac...  k__Bacteria;p__Proteobacteria;c__Alphaproteoba...\n",
      "k__Bacteria;p__Proteobacteria;c__Alphaproteobac...  k__Bacteria;p__Proteobacteria;c__Alphaproteoba...\n",
      "k__Bacteria;p__Proteobacteria;c__Alphaproteobac...  k__Bacteria;p__Proteobacteria;c__Alphaproteoba...\n",
      "k__Bacteria;p__Proteobacteria;c__Alphaproteobac...  k__Bacteria;p__Proteobacteria;c__Alphaproteoba...\n",
      "k__Bacteria;p__Proteobacteria;c__Alphaproteobac...  k__Bacteria;p__Proteobacteria;c__Alphaproteoba...\n",
      "k__Bacteria;p__Proteobacteria;c__Alphaproteobac...  k__Bacteria;p__Proteobacteria;c__Alphaproteoba...\n",
      "k__Bacteria;p__Proteobacteria;c__Alphaproteobac...  k__Bacteria;p__Proteobacteria;c__Alphaproteoba...\n",
      "k__Bacteria;p__Proteobacteria;c__Alphaproteobac...  k__Bacteria;p__Proteobacteria;c__Alphaproteoba...\n",
      "k__Bacteria;p__Proteobacteria;c__Alphaproteobac...  k__Bacteria;p__Proteobacteria;c__Alphaproteoba...\n",
      "k__Bacteria;p__Proteobacteria;c__Alphaproteobac...  k__Bacteria;p__Proteobacteria;c__Alphaproteoba...\n",
      "k__Bacteria;p__Proteobacteria;c__Alphaproteobac...  k__Bacteria;p__Proteobacteria;c__Alphaproteoba...\n",
      "k__Bacteria;p__Proteobacteria;c__Alphaproteobac...  k__Bacteria;p__Proteobacteria;c__Alphaproteoba...\n",
      "k__Bacteria;p__Proteobacteria;c__Alphaproteobac...  k__Bacteria;p__Proteobacteria;c__Alphaproteoba...\n",
      "k__Bacteria;p__Proteobacteria;c__Alphaproteobac...  k__Bacteria;p__Proteobacteria;c__Alphaproteoba...\n",
      "k__Bacteria;p__Proteobacteria;c__Alphaproteobac...  k__Bacteria;p__Proteobacteria;c__Alphaproteoba...\n",
      "k__Bacteria;p__Proteobacteria;c__Alphaproteobac...  k__Bacteria;p__Proteobacteria;c__Alphaproteoba...\n",
      "k__Bacteria;p__Proteobacteria;c__Alphaproteobac...  k__Bacteria;p__Proteobacteria;c__Alphaproteoba...\n",
      "k__Bacteria;p__Proteobacteria;c__Alphaproteobac...  k__Bacteria;p__Proteobacteria;c__Alphaproteoba...\n",
      "k__Bacteria;p__Proteobacteria;c__Alphaproteobac...  k__Bacteria;p__Proteobacteria;c__Alphaproteoba...\n",
      "k__Bacteria;p__Proteobacteria;c__Alphaproteobac...  k__Bacteria;p__Proteobacteria;c__Alphaproteoba...\n",
      "k__Bacteria;p__Proteobacteria;c__Alphaproteobac...  k__Bacteria;p__Proteobacteria;c__Alphaproteoba...\n",
      "k__Bacteria;p__Proteobacteria;c__Alphaproteobac...  k__Bacteria;p__Proteobacteria;c__Alphaproteoba...\n",
      "k__Bacteria;p__Proteobacteria;c__Alphaproteobac...  k__Bacteria;p__Proteobacteria;c__Alphaproteoba...\n",
      "k__Bacteria;p__Proteobacteria;c__Alphaproteobac...  k__Bacteria;p__Proteobacteria;c__Alphaproteoba...\n",
      "k__Bacteria;p__Proteobacteria;c__Alphaproteobac...  k__Bacteria;p__Proteobacteria;c__Alphaproteoba...\n",
      "k__Bacteria;p__Proteobacteria;c__Alphaproteobac...  k__Bacteria;p__Proteobacteria;c__Alphaproteoba...\n",
      "k__Bacteria;p__Proteobacteria;c__Alphaproteobac...  k__Bacteria;p__Proteobacteria;c__Alphaproteoba...\n",
      "k__Bacteria;p__Proteobacteria;c__Alphaproteobac...  k__Bacteria;p__Proteobacteria;c__Alphaproteoba...\n",
      "k__Bacteria;p__Proteobacteria;c__Alphaproteobac...  k__Bacteria;p__Proteobacteria;c__Alphaproteoba...\n",
      "k__Bacteria;p__Proteobacteria;c__Alphaproteobac...  k__Bacteria;p__Proteobacteria;c__Alphaproteoba...\n",
      "k__Bacteria;p__Proteobacteria;c__Alphaproteobac...  k__Bacteria;p__Proteobacteria;c__Alphaproteoba...\n",
      "k__Bacteria;p__Proteobacteria;c__Alphaproteobac...  k__Bacteria;p__Proteobacteria;c__Alphaproteoba...\n",
      "k__Bacteria;p__Proteobacteria;c__Alphaproteobac...  k__Bacteria;p__Proteobacteria;c__Alphaproteoba...\n",
      "k__Bacteria;p__Proteobacteria;c__Alphaproteobac...  k__Bacteria;p__Proteobacteria;c__Alphaproteoba...\n",
      "k__Bacteria;p__Proteobacteria;c__Alphaproteobac...  k__Bacteria;p__Proteobacteria;c__Alphaproteoba...\n",
      "k__Bacteria;p__Proteobacteria;c__Alphaproteobac...  k__Bacteria;p__Proteobacteria;c__Alphaproteoba...\n",
      "k__Bacteria;p__Proteobacteria;c__Alphaproteobac...  k__Bacteria;p__Proteobacteria;c__Alphaproteoba...\n",
      "k__Bacteria;p__Proteobacteria;c__Alphaproteobac...  k__Bacteria;p__Proteobacteria;c__Alphaproteoba...\n",
      "k__Bacteria;p__Proteobacteria;c__Alphaproteobac...  k__Bacteria;p__Proteobacteria;c__Alphaproteoba...\n",
      "k__Bacteria;p__Proteobacteria;c__Alphaproteobac...  k__Bacteria;p__Proteobacteria;c__Alphaproteoba...\n",
      "k__Bacteria;p__Proteobacteria;c__Alphaproteobac...  k__Bacteria;p__Proteobacteria;c__Alphaproteoba...\n",
      "k__Bacteria;p__Proteobacteria;c__Alphaproteobac...  k__Bacteria;p__Proteobacteria;c__Alphaproteoba...\n",
      "k__Bacteria;p__Proteobacteria;c__Alphaproteobac...  k__Bacteria;p__Proteobacteria;c__Alphaproteoba...\n",
      "k__Bacteria;p__Proteobacteria;c__Alphaproteobac...  k__Bacteria;p__Proteobacteria;c__Alphaproteoba...\n",
      "k__Bacteria;p__Proteobacteria;c__Alphaproteobac...  k__Bacteria;p__Proteobacteria;c__Alphaproteoba...\n",
      "k__Bacteria;p__Proteobacteria;c__Alphaproteobac...  k__Bacteria;p__Proteobacteria;c__Alphaproteoba...\n",
      "k__Bacteria;p__Proteobacteria;c__Alphaproteobac...  k__Bacteria;p__Proteobacteria;c__Alphaproteoba...\n",
      "k__Bacteria;p__Proteobacteria;c__Alphaproteobac...  k__Bacteria;p__Proteobacteria;c__Alphaproteoba...\n",
      "k__Bacteria;p__Proteobacteria;c__Alphaproteobac...  k__Bacteria;p__Proteobacteria;c__Alphaproteoba...\n",
      "k__Bacteria;p__Proteobacteria;c__Alphaproteobac...  k__Bacteria;p__Proteobacteria;c__Alphaproteoba...\n",
      "k__Bacteria;p__Proteobacteria;c__Alphaproteobac...  k__Bacteria;p__Proteobacteria;c__Alphaproteoba...\n",
      "k__Bacteria;p__Proteobacteria;c__Alphaproteobac...  k__Bacteria;p__Proteobacteria;c__Alphaproteoba...\n",
      "k__Bacteria;p__Proteobacteria;c__Alphaproteobac...  k__Bacteria;p__Proteobacteria;c__Alphaproteoba...\n",
      "k__Bacteria;p__Proteobacteria;c__Alphaproteobac...  k__Bacteria;p__Proteobacteria;c__Alphaproteoba...\n",
      "k__Bacteria;p__Proteobacteria;c__Alphaproteobac...  k__Bacteria;p__Proteobacteria;c__Alphaproteoba...\n",
      "k__Bacteria;p__Proteobacteria;c__Alphaproteobac...  k__Bacteria;p__Proteobacteria;c__Alphaproteoba...\n",
      "k__Bacteria;p__Proteobacteria;c__Alphaproteobac...  k__Bacteria;p__Proteobacteria;c__Alphaproteoba...\n",
      "k__Bacteria;p__Proteobacteria;c__Alphaproteobac...  k__Bacteria;p__Proteobacteria;c__Alphaproteoba...\n",
      "k__Bacteria;p__Proteobacteria;c__Alphaproteobac...  k__Bacteria;p__Proteobacteria;c__Alphaproteoba...\n",
      "k__Bacteria;p__Proteobacteria;c__Alphaproteobac...  k__Bacteria;p__Proteobacteria;c__Alphaproteoba...\n",
      "k__Bacteria;p__Proteobacteria;c__Alphaproteobac...  k__Bacteria;p__Proteobacteria;c__Alphaproteoba...\n",
      "k__Bacteria;p__Proteobacteria;c__Alphaproteobac...  k__Bacteria;p__Proteobacteria;c__Alphaproteoba...\n",
      "k__Bacteria;p__Proteobacteria;c__Alphaproteobac...  k__Bacteria;p__Proteobacteria;c__Alphaproteoba...\n",
      "k__Bacteria;p__Proteobacteria;c__Alphaproteobac...  k__Bacteria;p__Proteobacteria;c__Alphaproteoba...\n",
      "k__Bacteria;p__Proteobacteria;c__Alphaproteobac...  k__Bacteria;p__Proteobacteria;c__Alphaproteoba...\n",
      "k__Bacteria;p__Proteobacteria;c__Alphaproteobac...  k__Bacteria;p__Proteobacteria;c__Alphaproteoba...\n",
      "k__Bacteria;p__Proteobacteria;c__Alphaproteobac...  k__Bacteria;p__Proteobacteria;c__Alphaproteoba...\n",
      "k__Bacteria;p__Proteobacteria;c__Alphaproteobac...  k__Bacteria;p__Proteobacteria;c__Alphaproteoba...\n",
      "k__Bacteria;p__Proteobacteria;c__Alphaproteobac...  k__Bacteria;p__Proteobacteria;c__Alphaproteoba...\n",
      "k__Bacteria;p__Proteobacteria;c__Alphaproteobac...  k__Bacteria;p__Proteobacteria;c__Alphaproteoba...\n",
      "k__Bacteria;p__Proteobacteria;c__Alphaproteobac...  k__Bacteria;p__Proteobacteria;c__Alphaproteoba...\n",
      "k__Bacteria;p__Proteobacteria;c__Alphaproteobac...  k__Bacteria;p__Proteobacteria;c__Alphaproteoba...\n",
      "k__Bacteria;p__Proteobacteria;c__Alphaproteobac...  k__Bacteria;p__Proteobacteria;c__Alphaproteoba...\n",
      "k__Bacteria;p__Proteobacteria;c__Alphaproteobac...  k__Bacteria;p__Proteobacteria;c__Alphaproteoba...\n",
      "k__Bacteria;p__Proteobacteria;c__Alphaproteobac...  k__Bacteria;p__Proteobacteria;c__Alphaproteoba...\n",
      "k__Bacteria;p__Proteobacteria;c__Alphaproteobac...  k__Bacteria;p__Proteobacteria;c__Alphaproteoba...\n",
      "k__Bacteria;p__Proteobacteria;c__Alphaproteobac...  k__Bacteria;p__Proteobacteria;c__Alphaproteoba...\n",
      "k__Bacteria;p__Proteobacteria;c__Alphaproteobac...  k__Bacteria;p__Proteobacteria;c__Alphaproteoba...\n",
      "k__Bacteria;p__Proteobacteria;c__Alphaproteobac...  k__Bacteria;p__Proteobacteria;c__Alphaproteoba...\n",
      "k__Bacteria;p__Proteobacteria;c__Alphaproteobac...  k__Bacteria;p__Proteobacteria;c__Alphaproteoba...\n",
      "k__Bacteria;p__Proteobacteria;c__Alphaproteobac...  k__Bacteria;p__Proteobacteria;c__Alphaproteoba...\n",
      "k__Bacteria;p__Proteobacteria;c__Alphaproteobac...  k__Bacteria;p__Proteobacteria;c__Alphaproteoba...\n",
      "k__Bacteria;p__Proteobacteria;c__Alphaproteobac...  k__Bacteria;p__Proteobacteria;c__Alphaproteoba...\n",
      "k__Bacteria;p__Proteobacteria;c__Alphaproteobac...  k__Bacteria;p__Proteobacteria;c__Alphaproteoba...\n",
      "k__Bacteria;p__Proteobacteria;c__Alphaproteobac...  k__Bacteria;p__Proteobacteria;c__Alphaproteoba...\n",
      "k__Bacteria;p__Proteobacteria;c__Alphaproteobac...  k__Bacteria;p__Proteobacteria;c__Alphaproteoba...\n",
      "k__Bacteria;p__Proteobacteria;c__Alphaproteobac...  k__Bacteria;p__Proteobacteria;c__Alphaproteoba...\n",
      "k__Bacteria;p__Proteobacteria;c__Alphaproteobac...  k__Bacteria;p__Proteobacteria;c__Alphaproteoba...\n",
      "k__Bacteria;p__Proteobacteria;c__Alphaproteobac...  k__Bacteria;p__Proteobacteria;c__Alphaproteoba...\n",
      "k__Bacteria;p__Proteobacteria;c__Betaproteobact...  k__Bacteria;p__Proteobacteria;c__Betaproteobac...\n",
      "k__Bacteria;p__Proteobacteria;c__Betaproteobact...  k__Bacteria;p__Proteobacteria;c__Betaproteobac...\n",
      "k__Bacteria;p__Proteobacteria;c__Betaproteobact...  k__Bacteria;p__Proteobacteria;c__Betaproteobac...\n",
      "k__Bacteria;p__Proteobacteria;c__Betaproteobact...  k__Bacteria;p__Proteobacteria;c__Betaproteobac...\n",
      "k__Bacteria;p__Proteobacteria;c__Betaproteobact...  k__Bacteria;p__Proteobacteria;c__Betaproteobac...\n",
      "k__Bacteria;p__Proteobacteria;c__Betaproteobact...  k__Bacteria;p__Proteobacteria;c__Betaproteobac...\n",
      "k__Bacteria;p__Proteobacteria;c__Betaproteobact...  k__Bacteria;p__Proteobacteria;c__Betaproteobac...\n",
      "k__Bacteria;p__Proteobacteria;c__Betaproteobact...  k__Bacteria;p__Proteobacteria;c__Betaproteobac...\n",
      "k__Bacteria;p__Proteobacteria;c__Betaproteobact...  k__Bacteria;p__Proteobacteria;c__Betaproteobac...\n",
      "k__Bacteria;p__Proteobacteria;c__Betaproteobact...  k__Bacteria;p__Proteobacteria;c__Betaproteobac...\n",
      "k__Bacteria;p__Proteobacteria;c__Betaproteobact...  k__Bacteria;p__Proteobacteria;c__Betaproteobac...\n",
      "k__Bacteria;p__Proteobacteria;c__Betaproteobact...  k__Bacteria;p__Proteobacteria;c__Betaproteobac...\n",
      "k__Bacteria;p__Proteobacteria;c__Betaproteobact...  k__Bacteria;p__Proteobacteria;c__Betaproteobac...\n",
      "k__Bacteria;p__Proteobacteria;c__Betaproteobact...  k__Bacteria;p__Proteobacteria;c__Betaproteobac...\n",
      "k__Bacteria;p__Proteobacteria;c__Betaproteobact...  k__Bacteria;p__Proteobacteria;c__Betaproteobac...\n",
      "k__Bacteria;p__Proteobacteria;c__Betaproteobact...  k__Bacteria;p__Proteobacteria;c__Betaproteobac...\n",
      "k__Bacteria;p__Proteobacteria;c__Betaproteobact...  k__Bacteria;p__Proteobacteria;c__Betaproteobac...\n",
      "k__Bacteria;p__Proteobacteria;c__Betaproteobact...  k__Bacteria;p__Proteobacteria;c__Betaproteobac...\n",
      "k__Bacteria;p__Proteobacteria;c__Betaproteobact...  k__Bacteria;p__Proteobacteria;c__Betaproteobac...\n",
      "k__Bacteria;p__Proteobacteria;c__Betaproteobact...  k__Bacteria;p__Proteobacteria;c__Betaproteobac...\n",
      "k__Bacteria;p__Proteobacteria;c__Betaproteobact...  k__Bacteria;p__Proteobacteria;c__Betaproteobac...\n",
      "k__Bacteria;p__Proteobacteria;c__Betaproteobact...  k__Bacteria;p__Proteobacteria;c__Betaproteobac...\n",
      "k__Bacteria;p__Proteobacteria;c__Betaproteobact...  k__Bacteria;p__Proteobacteria;c__Betaproteobac...\n",
      "k__Bacteria;p__Proteobacteria;c__Betaproteobact...  k__Bacteria;p__Proteobacteria;c__Betaproteobac...\n",
      "k__Bacteria;p__Proteobacteria;c__Betaproteobact...  k__Bacteria;p__Proteobacteria;c__Betaproteobac...\n",
      "k__Bacteria;p__Proteobacteria;c__Betaproteobact...  k__Bacteria;p__Proteobacteria;c__Betaproteobac...\n",
      "k__Bacteria;p__Proteobacteria;c__Betaproteobact...  k__Bacteria;p__Proteobacteria;c__Betaproteobac...\n",
      "k__Bacteria;p__Proteobacteria;c__Betaproteobact...  k__Bacteria;p__Proteobacteria;c__Betaproteobac...\n",
      "k__Bacteria;p__Proteobacteria;c__Betaproteobact...  k__Bacteria;p__Proteobacteria;c__Betaproteobac...\n",
      "k__Bacteria;p__Proteobacteria;c__Betaproteobact...  k__Bacteria;p__Proteobacteria;c__Betaproteobac...\n",
      "k__Bacteria;p__Proteobacteria;c__Betaproteobact...  k__Bacteria;p__Proteobacteria;c__Betaproteobac...\n",
      "k__Bacteria;p__Proteobacteria;c__Betaproteobact...  k__Bacteria;p__Proteobacteria;c__Betaproteobac...\n",
      "k__Bacteria;p__Proteobacteria;c__Betaproteobact...  k__Bacteria;p__Proteobacteria;c__Betaproteobac...\n",
      "k__Bacteria;p__Proteobacteria;c__Betaproteobact...  k__Bacteria;p__Proteobacteria;c__Betaproteobac...\n",
      "k__Bacteria;p__Proteobacteria;c__Betaproteobact...  k__Bacteria;p__Proteobacteria;c__Betaproteobac...\n",
      "k__Bacteria;p__Proteobacteria;c__Betaproteobact...  k__Bacteria;p__Proteobacteria;c__Betaproteobac...\n",
      "k__Bacteria;p__Proteobacteria;c__Betaproteobact...  k__Bacteria;p__Proteobacteria;c__Betaproteobac...\n",
      "k__Bacteria;p__Proteobacteria;c__Betaproteobact...  k__Bacteria;p__Proteobacteria;c__Betaproteobac...\n",
      "k__Bacteria;p__Proteobacteria;c__Betaproteobact...  k__Bacteria;p__Proteobacteria;c__Betaproteobac...\n",
      "k__Bacteria;p__Proteobacteria;c__Betaproteobact...  k__Bacteria;p__Proteobacteria;c__Betaproteobac...\n",
      "k__Bacteria;p__Proteobacteria;c__Betaproteobact...  k__Bacteria;p__Proteobacteria;c__Betaproteobac...\n",
      "k__Bacteria;p__Proteobacteria;c__Betaproteobact...  k__Bacteria;p__Proteobacteria;c__Betaproteobac...\n",
      "k__Bacteria;p__Proteobacteria;c__Betaproteobact...  k__Bacteria;p__Proteobacteria;c__Betaproteobac...\n",
      "k__Bacteria;p__Proteobacteria;c__Betaproteobact...  k__Bacteria;p__Proteobacteria;c__Betaproteobac...\n",
      "k__Bacteria;p__Proteobacteria;c__Betaproteobact...  k__Bacteria;p__Proteobacteria;c__Betaproteobac...\n",
      "k__Bacteria;p__Proteobacteria;c__Betaproteobact...  k__Bacteria;p__Proteobacteria;c__Betaproteobac...\n",
      "k__Bacteria;p__Proteobacteria;c__Betaproteobact...  k__Bacteria;p__Proteobacteria;c__Betaproteobac...\n",
      "k__Bacteria;p__Proteobacteria;c__Betaproteobact...  k__Bacteria;p__Proteobacteria;c__Betaproteobac...\n",
      "k__Bacteria;p__Proteobacteria;c__Betaproteobact...  k__Bacteria;p__Proteobacteria;c__Betaproteobac...\n",
      "k__Bacteria;p__Proteobacteria;c__Betaproteobact...  k__Bacteria;p__Proteobacteria;c__Betaproteobac...\n",
      "k__Bacteria;p__Proteobacteria;c__Betaproteobact...  k__Bacteria;p__Proteobacteria;c__Betaproteobac...\n",
      "k__Bacteria;p__Proteobacteria;c__Betaproteobact...  k__Bacteria;p__Proteobacteria;c__Betaproteobac...\n",
      "k__Bacteria;p__Proteobacteria;c__Betaproteobact...  k__Bacteria;p__Proteobacteria;c__Betaproteobac...\n",
      "k__Bacteria;p__Proteobacteria;c__Betaproteobact...  k__Bacteria;p__Proteobacteria;c__Betaproteobac...\n",
      "k__Bacteria;p__Proteobacteria;c__Betaproteobact...  k__Bacteria;p__Proteobacteria;c__Betaproteobac...\n",
      "k__Bacteria;p__Proteobacteria;c__Betaproteobact...  k__Bacteria;p__Proteobacteria;c__Betaproteobac...\n",
      "k__Bacteria;p__Proteobacteria;c__Betaproteobact...  k__Bacteria;p__Proteobacteria;c__Betaproteobac...\n",
      "k__Bacteria;p__Proteobacteria;c__Betaproteobact...  k__Bacteria;p__Proteobacteria;c__Betaproteobac...\n",
      "k__Bacteria;p__Proteobacteria;c__Betaproteobact...  k__Bacteria;p__Proteobacteria;c__Betaproteobac...\n",
      "k__Bacteria;p__Proteobacteria;c__Betaproteobact...  k__Bacteria;p__Proteobacteria;c__Betaproteobac...\n",
      "k__Bacteria;p__Proteobacteria;c__Betaproteobact...  k__Bacteria;p__Proteobacteria;c__Betaproteobac...\n",
      "k__Bacteria;p__Proteobacteria;c__Betaproteobact...  k__Bacteria;p__Proteobacteria;c__Betaproteobac...\n",
      "k__Bacteria;p__Proteobacteria;c__Betaproteobact...  k__Bacteria;p__Proteobacteria;c__Betaproteobac...\n",
      "k__Bacteria;p__Proteobacteria;c__Betaproteobact...  k__Bacteria;p__Proteobacteria;c__Betaproteobac...\n",
      "k__Bacteria;p__Proteobacteria;c__Betaproteobact...  k__Bacteria;p__Proteobacteria;c__Betaproteobac...\n",
      "k__Bacteria;p__Proteobacteria;c__Betaproteobact...  k__Bacteria;p__Proteobacteria;c__Betaproteobac...\n",
      "k__Bacteria;p__Proteobacteria;c__Betaproteobact...  k__Bacteria;p__Proteobacteria;c__Betaproteobac...\n",
      "k__Bacteria;p__Proteobacteria;c__Deltaproteobac...  k__Bacteria;p__Proteobacteria;c__Deltaproteoba...\n",
      "k__Bacteria;p__Proteobacteria;c__Deltaproteobac...  k__Bacteria;p__Proteobacteria;c__Deltaproteoba...\n",
      "k__Bacteria;p__Proteobacteria;c__Deltaproteobac...  k__Bacteria;p__Proteobacteria;c__Deltaproteoba...\n",
      "k__Bacteria;p__Proteobacteria;c__Deltaproteobac...  k__Bacteria;p__Proteobacteria;c__Deltaproteoba...\n",
      "k__Bacteria;p__Proteobacteria;c__Deltaproteobac...  k__Bacteria;p__Proteobacteria;c__Deltaproteoba...\n",
      "k__Bacteria;p__Proteobacteria;c__Deltaproteobac...  k__Bacteria;p__Proteobacteria;c__Deltaproteoba...\n",
      "k__Bacteria;p__Proteobacteria;c__Deltaproteobac...  k__Bacteria;p__Proteobacteria;c__Deltaproteoba...\n",
      "k__Bacteria;p__Proteobacteria;c__Deltaproteobac...  k__Bacteria;p__Proteobacteria;c__Deltaproteoba...\n",
      "k__Bacteria;p__Proteobacteria;c__Deltaproteobac...  k__Bacteria;p__Proteobacteria;c__Deltaproteoba...\n",
      "k__Bacteria;p__Proteobacteria;c__Deltaproteobac...  k__Bacteria;p__Proteobacteria;c__Deltaproteoba...\n",
      "k__Bacteria;p__Proteobacteria;c__Deltaproteobac...  k__Bacteria;p__Proteobacteria;c__Deltaproteoba...\n",
      "k__Bacteria;p__Proteobacteria;c__Deltaproteobac...  k__Bacteria;p__Proteobacteria;c__Deltaproteoba...\n",
      "k__Bacteria;p__Proteobacteria;c__Deltaproteobac...  k__Bacteria;p__Proteobacteria;c__Deltaproteoba...\n",
      "k__Bacteria;p__Proteobacteria;c__Deltaproteobac...  k__Bacteria;p__Proteobacteria;c__Deltaproteoba...\n",
      "k__Bacteria;p__Proteobacteria;c__Deltaproteobac...  k__Bacteria;p__Proteobacteria;c__Deltaproteoba...\n",
      "k__Bacteria;p__Proteobacteria;c__Deltaproteobac...  k__Bacteria;p__Proteobacteria;c__Deltaproteoba...\n",
      "k__Bacteria;p__Proteobacteria;c__Deltaproteobac...  k__Bacteria;p__Proteobacteria;c__Deltaproteoba...\n",
      "k__Bacteria;p__Proteobacteria;c__Deltaproteobac...  k__Bacteria;p__Proteobacteria;c__Deltaproteoba...\n",
      "k__Bacteria;p__Proteobacteria;c__Deltaproteobac...  k__Bacteria;p__Proteobacteria;c__Deltaproteoba...\n",
      "k__Bacteria;p__Proteobacteria;c__Deltaproteobac...  k__Bacteria;p__Proteobacteria;c__Deltaproteoba...\n",
      "k__Bacteria;p__Proteobacteria;c__Deltaproteobac...  k__Bacteria;p__Proteobacteria;c__Deltaproteoba...\n",
      "k__Bacteria;p__Proteobacteria;c__Epsilonproteob...  k__Bacteria;p__Proteobacteria;c__Epsilonproteo...\n",
      "k__Bacteria;p__Proteobacteria;c__Epsilonproteob...  k__Bacteria;p__Proteobacteria;c__Epsilonproteo...\n",
      "k__Bacteria;p__Proteobacteria;c__Epsilonproteob...  k__Bacteria;p__Proteobacteria;c__Epsilonproteo...\n",
      "k__Bacteria;p__Proteobacteria;c__Gammaproteobac...  k__Bacteria;p__Proteobacteria;c__Gammaproteoba...\n",
      "k__Bacteria;p__Proteobacteria;c__Gammaproteobac...  k__Bacteria;p__Proteobacteria;c__Gammaproteoba...\n",
      "k__Bacteria;p__Proteobacteria;c__Gammaproteobac...  k__Bacteria;p__Proteobacteria;c__Gammaproteoba...\n",
      "k__Bacteria;p__Proteobacteria;c__Gammaproteobac...  k__Bacteria;p__Proteobacteria;c__Gammaproteoba...\n",
      "k__Bacteria;p__Proteobacteria;c__Gammaproteobac...  k__Bacteria;p__Proteobacteria;c__Gammaproteoba...\n",
      "k__Bacteria;p__Proteobacteria;c__Gammaproteobac...  k__Bacteria;p__Proteobacteria;c__Gammaproteoba...\n",
      "k__Bacteria;p__Proteobacteria;c__Gammaproteobac...  k__Bacteria;p__Proteobacteria;c__Gammaproteoba...\n",
      "k__Bacteria;p__Proteobacteria;c__Gammaproteobac...  k__Bacteria;p__Proteobacteria;c__Gammaproteoba...\n",
      "k__Bacteria;p__Proteobacteria;c__Gammaproteobac...  k__Bacteria;p__Proteobacteria;c__Gammaproteoba...\n",
      "k__Bacteria;p__Proteobacteria;c__Gammaproteobac...  k__Bacteria;p__Proteobacteria;c__Gammaproteoba...\n",
      "k__Bacteria;p__Proteobacteria;c__Gammaproteobac...  k__Bacteria;p__Proteobacteria;c__Gammaproteoba...\n",
      "k__Bacteria;p__Proteobacteria;c__Gammaproteobac...  k__Bacteria;p__Proteobacteria;c__Gammaproteoba...\n",
      "k__Bacteria;p__Proteobacteria;c__Gammaproteobac...  k__Bacteria;p__Proteobacteria;c__Gammaproteoba...\n",
      "k__Bacteria;p__Proteobacteria;c__Gammaproteobac...  k__Bacteria;p__Proteobacteria;c__Gammaproteoba...\n",
      "k__Bacteria;p__Proteobacteria;c__Gammaproteobac...  k__Bacteria;p__Proteobacteria;c__Gammaproteoba...\n",
      "k__Bacteria;p__Proteobacteria;c__Gammaproteobac...  k__Bacteria;p__Proteobacteria;c__Gammaproteoba...\n",
      "k__Bacteria;p__Proteobacteria;c__Gammaproteobac...  k__Bacteria;p__Proteobacteria;c__Gammaproteoba...\n",
      "k__Bacteria;p__Proteobacteria;c__Gammaproteobac...  k__Bacteria;p__Proteobacteria;c__Gammaproteoba...\n",
      "k__Bacteria;p__Proteobacteria;c__Gammaproteobac...  k__Bacteria;p__Proteobacteria;c__Gammaproteoba...\n",
      "k__Bacteria;p__Proteobacteria;c__Gammaproteobac...  k__Bacteria;p__Proteobacteria;c__Gammaproteoba...\n",
      "k__Bacteria;p__Proteobacteria;c__Gammaproteobac...  k__Bacteria;p__Proteobacteria;c__Gammaproteoba...\n",
      "k__Bacteria;p__Proteobacteria;c__Gammaproteobac...  k__Bacteria;p__Proteobacteria;c__Gammaproteoba...\n",
      "k__Bacteria;p__Proteobacteria;c__Gammaproteobac...  k__Bacteria;p__Proteobacteria;c__Gammaproteoba...\n",
      "k__Bacteria;p__Proteobacteria;c__Gammaproteobac...  k__Bacteria;p__Proteobacteria;c__Gammaproteoba...\n",
      "k__Bacteria;p__Proteobacteria;c__Gammaproteobac...  k__Bacteria;p__Proteobacteria;c__Gammaproteoba...\n",
      "k__Bacteria;p__Proteobacteria;c__Gammaproteobac...  k__Bacteria;p__Proteobacteria;c__Gammaproteoba...\n",
      "k__Bacteria;p__Proteobacteria;c__Gammaproteobac...  k__Bacteria;p__Proteobacteria;c__Gammaproteoba...\n",
      "k__Bacteria;p__Proteobacteria;c__Gammaproteobac...  k__Bacteria;p__Proteobacteria;c__Gammaproteoba...\n",
      "k__Bacteria;p__Proteobacteria;c__Gammaproteobac...  k__Bacteria;p__Proteobacteria;c__Gammaproteoba...\n",
      "k__Bacteria;p__Proteobacteria;c__Gammaproteobac...  k__Bacteria;p__Proteobacteria;c__Gammaproteoba...\n",
      "k__Bacteria;p__Proteobacteria;c__Gammaproteobac...  k__Bacteria;p__Proteobacteria;c__Gammaproteoba...\n",
      "k__Bacteria;p__Proteobacteria;c__Gammaproteobac...  k__Bacteria;p__Proteobacteria;c__Gammaproteoba...\n",
      "k__Bacteria;p__Proteobacteria;c__Gammaproteobac...  k__Bacteria;p__Proteobacteria;c__Gammaproteoba...\n",
      "k__Bacteria;p__Proteobacteria;c__Gammaproteobac...  k__Bacteria;p__Proteobacteria;c__Gammaproteoba...\n",
      "k__Bacteria;p__Proteobacteria;c__Gammaproteobac...  k__Bacteria;p__Proteobacteria;c__Gammaproteoba...\n",
      "k__Bacteria;p__Proteobacteria;c__Gammaproteobac...  k__Bacteria;p__Proteobacteria;c__Gammaproteoba...\n",
      "k__Bacteria;p__Proteobacteria;c__Gammaproteobac...  k__Bacteria;p__Proteobacteria;c__Gammaproteoba...\n",
      "k__Bacteria;p__Proteobacteria;c__Gammaproteobac...  k__Bacteria;p__Proteobacteria;c__Gammaproteoba...\n",
      "k__Bacteria;p__Proteobacteria;c__Gammaproteobac...  k__Bacteria;p__Proteobacteria;c__Gammaproteoba...\n",
      "k__Bacteria;p__Proteobacteria;c__Gammaproteobac...  k__Bacteria;p__Proteobacteria;c__Gammaproteoba...\n",
      "k__Bacteria;p__Proteobacteria;c__Gammaproteobac...  k__Bacteria;p__Proteobacteria;c__Gammaproteoba...\n",
      "k__Bacteria;p__Proteobacteria;c__Gammaproteobac...  k__Bacteria;p__Proteobacteria;c__Gammaproteoba...\n",
      "k__Bacteria;p__Proteobacteria;c__Gammaproteobac...  k__Bacteria;p__Proteobacteria;c__Gammaproteoba...\n",
      "k__Bacteria;p__Proteobacteria;c__Gammaproteobac...  k__Bacteria;p__Proteobacteria;c__Gammaproteoba...\n",
      "k__Bacteria;p__Proteobacteria;c__Gammaproteobac...  k__Bacteria;p__Proteobacteria;c__Gammaproteoba...\n",
      "k__Bacteria;p__Proteobacteria;c__Gammaproteobac...  k__Bacteria;p__Proteobacteria;c__Gammaproteoba...\n",
      "k__Bacteria;p__Proteobacteria;c__Gammaproteobac...  k__Bacteria;p__Proteobacteria;c__Gammaproteoba...\n",
      "k__Bacteria;p__Proteobacteria;c__Gammaproteobac...  k__Bacteria;p__Proteobacteria;c__Gammaproteoba...\n",
      "k__Bacteria;p__Proteobacteria;c__Gammaproteobac...  k__Bacteria;p__Proteobacteria;c__Gammaproteoba...\n",
      "k__Bacteria;p__Proteobacteria;c__Gammaproteobac...  k__Bacteria;p__Proteobacteria;c__Gammaproteoba...\n",
      "k__Bacteria;p__Proteobacteria;c__Gammaproteobac...  k__Bacteria;p__Proteobacteria;c__Gammaproteoba...\n",
      "k__Bacteria;p__Proteobacteria;c__Gammaproteobac...  k__Bacteria;p__Proteobacteria;c__Gammaproteoba...\n",
      "k__Bacteria;p__Proteobacteria;c__Gammaproteobac...  k__Bacteria;p__Proteobacteria;c__Gammaproteoba...\n",
      "k__Bacteria;p__Proteobacteria;c__Gammaproteobac...  k__Bacteria;p__Proteobacteria;c__Gammaproteoba...\n",
      "k__Bacteria;p__Proteobacteria;c__Gammaproteobac...  k__Bacteria;p__Proteobacteria;c__Gammaproteoba...\n",
      "k__Bacteria;p__Proteobacteria;c__Gammaproteobac...  k__Bacteria;p__Proteobacteria;c__Gammaproteoba...\n",
      "k__Bacteria;p__Proteobacteria;c__Gammaproteobac...  k__Bacteria;p__Proteobacteria;c__Gammaproteoba...\n",
      "k__Bacteria;p__Proteobacteria;c__Gammaproteobac...  k__Bacteria;p__Proteobacteria;c__Gammaproteoba...\n",
      "k__Bacteria;p__Proteobacteria;c__Gammaproteobac...  k__Bacteria;p__Proteobacteria;c__Gammaproteoba...\n",
      "k__Bacteria;p__Proteobacteria;c__Gammaproteobac...  k__Bacteria;p__Proteobacteria;c__Gammaproteoba...\n",
      "k__Bacteria;p__Proteobacteria;c__Gammaproteobac...  k__Bacteria;p__Proteobacteria;c__Gammaproteoba...\n",
      "k__Bacteria;p__Proteobacteria;c__Gammaproteobac...  k__Bacteria;p__Proteobacteria;c__Gammaproteoba...\n",
      "k__Bacteria;p__Proteobacteria;c__Gammaproteobac...  k__Bacteria;p__Proteobacteria;c__Gammaproteoba...\n",
      "k__Bacteria;p__Proteobacteria;c__Gammaproteobac...  k__Bacteria;p__Proteobacteria;c__Gammaproteoba...\n",
      "k__Bacteria;p__Proteobacteria;c__Gammaproteobac...  k__Bacteria;p__Proteobacteria;c__Gammaproteoba...\n",
      "k__Bacteria;p__Proteobacteria;c__Gammaproteobac...  k__Bacteria;p__Proteobacteria;c__Gammaproteoba...\n",
      "k__Bacteria;p__Proteobacteria;c__Gammaproteobac...  k__Bacteria;p__Proteobacteria;c__Gammaproteoba...\n",
      "k__Bacteria;p__Proteobacteria;c__Gammaproteobac...  k__Bacteria;p__Proteobacteria;c__Gammaproteoba...\n",
      "k__Bacteria;p__Proteobacteria;c__Gammaproteobac...  k__Bacteria;p__Proteobacteria;c__Gammaproteoba...\n",
      "k__Bacteria;p__Proteobacteria;c__Gammaproteobac...  k__Bacteria;p__Proteobacteria;c__Gammaproteoba...\n",
      "k__Bacteria;p__Proteobacteria;c__Gammaproteobac...  k__Bacteria;p__Proteobacteria;c__Gammaproteoba...\n",
      "k__Bacteria;p__Proteobacteria;c__Gammaproteobac...  k__Bacteria;p__Proteobacteria;c__Gammaproteoba...\n",
      "k__Bacteria;p__Proteobacteria;c__Gammaproteobac...  k__Bacteria;p__Proteobacteria;c__Gammaproteoba...\n",
      "k__Bacteria;p__Proteobacteria;c__Gammaproteobac...  k__Bacteria;p__Proteobacteria;c__Gammaproteoba...\n",
      "k__Bacteria;p__Proteobacteria;c__Gammaproteobac...  k__Bacteria;p__Proteobacteria;c__Gammaproteoba...\n",
      "k__Bacteria;p__Proteobacteria;c__Gammaproteobac...  k__Bacteria;p__Proteobacteria;c__Gammaproteoba...\n",
      "k__Bacteria;p__Proteobacteria;c__Gammaproteobac...  k__Bacteria;p__Proteobacteria;c__Gammaproteoba...\n",
      "k__Bacteria;p__Proteobacteria;c__Gammaproteobac...  k__Bacteria;p__Proteobacteria;c__Gammaproteoba...\n",
      "k__Bacteria;p__Proteobacteria;c__Gammaproteobac...  k__Bacteria;p__Proteobacteria;c__Gammaproteoba...\n",
      "k__Bacteria;p__Proteobacteria;c__Gammaproteobac...  k__Bacteria;p__Proteobacteria;c__Gammaproteoba...\n",
      "k__Bacteria;p__Proteobacteria;c__Gammaproteobac...  k__Bacteria;p__Proteobacteria;c__Gammaproteoba...\n",
      "k__Bacteria;p__Proteobacteria;c__Gammaproteobac...  k__Bacteria;p__Proteobacteria;c__Gammaproteoba...\n",
      "k__Bacteria;p__Proteobacteria;c__Gammaproteobac...  k__Bacteria;p__Proteobacteria;c__Gammaproteoba...\n",
      "k__Bacteria;p__Proteobacteria;c__Gammaproteobac...  k__Bacteria;p__Proteobacteria;c__Gammaproteoba...\n",
      "k__Bacteria;p__Proteobacteria;c__Gammaproteobac...  k__Bacteria;p__Proteobacteria;c__Gammaproteoba...\n",
      "k__Bacteria;p__Proteobacteria;c__Gammaproteobac...  k__Bacteria;p__Proteobacteria;c__Gammaproteoba...\n",
      "k__Bacteria;p__Proteobacteria;c__Gammaproteobac...  k__Bacteria;p__Proteobacteria;c__Gammaproteoba...\n",
      "k__Bacteria;p__Proteobacteria;c__Gammaproteobac...  k__Bacteria;p__Proteobacteria;c__Gammaproteoba...\n",
      "k__Bacteria;p__Proteobacteria;c__Gammaproteobac...  k__Bacteria;p__Proteobacteria;c__Gammaproteoba...\n",
      "k__Bacteria;p__Proteobacteria;c__Gammaproteobac...  k__Bacteria;p__Proteobacteria;c__Gammaproteoba...\n",
      "k__Bacteria;p__Proteobacteria;c__Gammaproteobac...  k__Bacteria;p__Proteobacteria;c__Gammaproteoba...\n",
      "k__Bacteria;p__Proteobacteria;c__Gammaproteobac...  k__Bacteria;p__Proteobacteria;c__Gammaproteoba...\n",
      "k__Bacteria;p__Proteobacteria;c__Gammaproteobac...  k__Bacteria;p__Proteobacteria;c__Gammaproteoba...\n",
      "k__Bacteria;p__Proteobacteria;c__Gammaproteobac...  k__Bacteria;p__Proteobacteria;c__Gammaproteoba...\n",
      "k__Bacteria;p__Spirochaetes;c__Spirochaetes;o__...  k__Bacteria;p__Spirochaetes;c__Spirochaetes;o_...\n",
      "k__Bacteria;p__Spirochaetes;c__Spirochaetes;o__...  k__Bacteria;p__Spirochaetes;c__Spirochaetes;o_...\n",
      "k__Bacteria;p__Synergistetes;c__Synergistia;o__...  k__Bacteria;p__Synergistetes;c__Synergistia;o_...\n",
      "k__Bacteria;p__Synergistetes;c__Synergistia;o__...  k__Bacteria;p__Synergistetes;c__Synergistia;o_...\n",
      "k__Bacteria;p__TM6;c__SJA-4;o__;f__;g__;s__               k__Bacteria;p__TM6;c__SJA-4;o__;f__;g__;s__\n",
      "k__Bacteria;p__TM7;c__;o__;f__;g__;s__                         k__Bacteria;p__TM7;c__;o__;f__;g__;s__\n",
      "k__Bacteria;p__TM7;c__TM7-1;o__;f__;g__;s__               k__Bacteria;p__TM7;c__TM7-1;o__;f__;g__;s__\n",
      "k__Bacteria;p__TM7;c__TM7-3;o__;f__;g__;s__               k__Bacteria;p__TM7;c__TM7-3;o__;f__;g__;s__\n",
      "k__Bacteria;p__TM7;c__TM7-3;o__I025;f__;g__;s__       k__Bacteria;p__TM7;c__TM7-3;o__I025;f__;g__;s__\n",
      "k__Bacteria;p__Tenericutes;c__Mollicutes;o__Ach...  k__Bacteria;p__Tenericutes;c__Mollicutes;o__Ac...\n",
      "k__Bacteria;p__Tenericutes;c__Mollicutes;o__Ach...  k__Bacteria;p__Tenericutes;c__Mollicutes;o__Ac...\n",
      "k__Bacteria;p__Tenericutes;c__Mollicutes;o__Ach...  k__Bacteria;p__Tenericutes;c__Mollicutes;o__Ac...\n",
      "k__Bacteria;p__Tenericutes;c__Mollicutes;o__Ana...  k__Bacteria;p__Tenericutes;c__Mollicutes;o__An...\n",
      "k__Bacteria;p__Tenericutes;c__Mollicutes;o__Ana...  k__Bacteria;p__Tenericutes;c__Mollicutes;o__An...\n",
      "k__Bacteria;p__Tenericutes;c__Mollicutes;o__Ent...  k__Bacteria;p__Tenericutes;c__Mollicutes;o__En...\n",
      "k__Bacteria;p__Tenericutes;c__Mollicutes;o__RF3...  k__Bacteria;p__Tenericutes;c__Mollicutes;o__RF...\n",
      "k__Bacteria;p__Verrucomicrobia;c__Opitutae;o__;...  k__Bacteria;p__Verrucomicrobia;c__Opitutae;o__...\n",
      "k__Bacteria;p__Verrucomicrobia;c__Opitutae;o__O...  k__Bacteria;p__Verrucomicrobia;c__Opitutae;o__...\n",
      "k__Bacteria;p__Verrucomicrobia;c__Opitutae;o__O...  k__Bacteria;p__Verrucomicrobia;c__Opitutae;o__...\n",
      "k__Bacteria;p__Verrucomicrobia;c__Opitutae;o__P...  k__Bacteria;p__Verrucomicrobia;c__Opitutae;o__...\n",
      "k__Bacteria;p__Verrucomicrobia;c__Opitutae;o__[...  k__Bacteria;p__Verrucomicrobia;c__Opitutae;o__...\n",
      "k__Bacteria;p__Verrucomicrobia;c__Verrucomicrob...  k__Bacteria;p__Verrucomicrobia;c__Verrucomicro...\n",
      "k__Bacteria;p__Verrucomicrobia;c__Verrucomicrob...  k__Bacteria;p__Verrucomicrobia;c__Verrucomicro...\n",
      "k__Bacteria;p__Verrucomicrobia;c__Verrucomicrob...  k__Bacteria;p__Verrucomicrobia;c__Verrucomicro...\n",
      "k__Bacteria;p__Verrucomicrobia;c__Verrucomicrob...  k__Bacteria;p__Verrucomicrobia;c__Verrucomicro...\n",
      "k__Bacteria;p__Verrucomicrobia;c__Verrucomicrob...  k__Bacteria;p__Verrucomicrobia;c__Verrucomicro...\n",
      "k__Bacteria;p__Verrucomicrobia;c__Verrucomicrob...  k__Bacteria;p__Verrucomicrobia;c__Verrucomicro...\n",
      "k__Bacteria;p__Verrucomicrobia;c__[Spartobacter...  k__Bacteria;p__Verrucomicrobia;c__[Spartobacte...\n",
      "k__Bacteria;p__Verrucomicrobia;c__[Spartobacter...  k__Bacteria;p__Verrucomicrobia;c__[Spartobacte...\n",
      "k__Bacteria;p__Verrucomicrobia;c__[Spartobacter...  k__Bacteria;p__Verrucomicrobia;c__[Spartobacte...\n",
      "k__Bacteria;p__Verrucomicrobia;c__[Spartobacter...  k__Bacteria;p__Verrucomicrobia;c__[Spartobacte...\n",
      "k__Bacteria;p__Verrucomicrobia;c__[Spartobacter...  k__Bacteria;p__Verrucomicrobia;c__[Spartobacte...\n",
      "k__Bacteria;p__Verrucomicrobia;c__[Spartobacter...  k__Bacteria;p__Verrucomicrobia;c__[Spartobacte...\n",
      "k__Bacteria;p__WPS-2;c__;o__;f__;g__;s__                     k__Bacteria;p__WPS-2;c__;o__;f__;g__;s__\n",
      "k__Bacteria;p__[Thermi];c__Deinococci;o__Deinoc...  k__Bacteria;p__[Thermi];c__Deinococci;o__Deino...\n",
      "k__Bacteria;p__[Thermi];c__Deinococci;o__Deinoc...  k__Bacteria;p__[Thermi];c__Deinococci;o__Deino...\n",
      "k__Bacteria;p__[Thermi];c__Deinococci;o__Deinoc...  k__Bacteria;p__[Thermi];c__Deinococci;o__Deino...\n",
      "k__Bacteria;p__[Thermi];c__Deinococci;o__Therma...  k__Bacteria;p__[Thermi];c__Deinococci;o__Therm...\n",
      "k__Bacteria;p__[Thermi];c__Deinococci;o__Therma...  k__Bacteria;p__[Thermi];c__Deinococci;o__Therm...\n"
     ]
    }
   ],
   "source": [
    "print(Spring_L7.feature_metadata)"
   ]
  },
  {
   "cell_type": "markdown",
   "metadata": {},
   "source": [
    "## Spring L7 modeling"
   ]
  },
  {
   "cell_type": "code",
   "execution_count": 18,
   "metadata": {},
   "outputs": [],
   "source": [
    "# groupKfold = 3, will leave out one body for each spring model\n",
    "gkf = GroupKFold(3)\n",
    "\n",
    "X = Spring_L7.data\n",
    "y = Spring_L7.sample_metadata['ADD_0']\n",
    "y = (y.astype(float))\n",
    "\n",
    "groups = Spring_L7.sample_metadata['host_subject_id']\n",
    "\n",
    "# used to test the param grid for parameter tuning\n",
    "# use the output of this estimator below for input into new estimator (not commented out)\n",
    "param_grid = {\"max_depth\": [4, 8, 16, None],\n",
    "              \"max_features\": ['sqrt', 'log2', 0.1],\n",
    "              \"min_samples_split\": [0.001, 0.01, 0.1],\n",
    "              \"min_weight_fraction_leaf\": [0.0001, 0.001, 0.01],\n",
    "              \"bootstrap\": [True, False]}\n",
    "\n",
    "#param_grid = {\"max_depth\": [8],\n",
    "#          \"max_features\": [0.1],\n",
    "#          \"min_samples_split\": [0.001],\n",
    "#          \"min_weight_fraction_leaf\": [0.0001],\n",
    "#          \"bootstrap\": [False]}\n",
    "\n",
    "rf = RandomForestRegressor(n_estimators=1000, random_state=999, criterion='mae')\n",
    "gs = GridSearchCV(rf, param_grid=param_grid, cv=gkf.split(X, y, groups), scoring='neg_mean_absolute_error', n_jobs=1)"
   ]
  },
  {
   "cell_type": "code",
   "execution_count": 19,
   "metadata": {},
   "outputs": [
    {
     "data": {
      "text/plain": [
       "GridSearchCV(cv=<generator object _BaseKFold.split at 0x11fc4a250>,\n",
       "             error_score=nan,\n",
       "             estimator=RandomForestRegressor(bootstrap=True, ccp_alpha=0.0,\n",
       "                                             criterion='mae', max_depth=None,\n",
       "                                             max_features='auto',\n",
       "                                             max_leaf_nodes=None,\n",
       "                                             max_samples=None,\n",
       "                                             min_impurity_decrease=0.0,\n",
       "                                             min_impurity_split=None,\n",
       "                                             min_samples_leaf=1,\n",
       "                                             min_samples_split=2,\n",
       "                                             min_weight_fraction_leaf=0.0,\n",
       "                                             n_es...\n",
       "                                             oob_score=False, random_state=999,\n",
       "                                             verbose=0, warm_start=False),\n",
       "             iid='deprecated', n_jobs=1,\n",
       "             param_grid={'bootstrap': [True, False],\n",
       "                         'max_depth': [4, 8, 16, None],\n",
       "                         'max_features': ['sqrt', 'log2', 0.1],\n",
       "                         'min_samples_split': [0.001, 0.01, 0.1],\n",
       "                         'min_weight_fraction_leaf': [0.0001, 0.001, 0.01]},\n",
       "             pre_dispatch='2*n_jobs', refit=True, return_train_score=False,\n",
       "             scoring='neg_mean_absolute_error', verbose=0)"
      ]
     },
     "execution_count": 19,
     "metadata": {},
     "output_type": "execute_result"
    }
   ],
   "source": [
    "gs.fit(X, y)"
   ]
  },
  {
   "cell_type": "code",
   "execution_count": 20,
   "metadata": {},
   "outputs": [
    {
     "name": "stdout",
     "output_type": "stream",
     "text": [
      "{'bootstrap': False, 'max_depth': 8, 'max_features': 0.1, 'min_samples_split': 0.001, 'min_weight_fraction_leaf': 0.0001}\n"
     ]
    }
   ],
   "source": [
    "# this line is used when run with the first param grid to determine what the best parameters are for tuning\n",
    "print(gs.best_params_)"
   ]
  },
  {
   "cell_type": "code",
   "execution_count": 21,
   "metadata": {},
   "outputs": [
    {
     "name": "stdout",
     "output_type": "stream",
     "text": [
      "The best mean absolute error is 904.18\n"
     ]
    }
   ],
   "source": [
    "print('The best mean absolute error is', round(-gs.best_score_,2))"
   ]
  },
  {
   "cell_type": "code",
   "execution_count": 22,
   "metadata": {},
   "outputs": [
    {
     "data": {
      "text/plain": [
       "['models/bone_spring_L7_no_metadata.pkl']"
      ]
     },
     "execution_count": 22,
     "metadata": {},
     "output_type": "execute_result"
    }
   ],
   "source": [
    "joblib.dump(gs.best_estimator_, 'models/bone_spring_L7_no_metadata.pkl')"
   ]
  },
  {
   "cell_type": "code",
   "execution_count": 23,
   "metadata": {},
   "outputs": [
    {
     "data": {
      "text/plain": [
       "RandomForestRegressor(bootstrap=False, ccp_alpha=0.0, criterion='mae',\n",
       "                      max_depth=8, max_features=0.1, max_leaf_nodes=None,\n",
       "                      max_samples=None, min_impurity_decrease=0.0,\n",
       "                      min_impurity_split=None, min_samples_leaf=1,\n",
       "                      min_samples_split=0.001, min_weight_fraction_leaf=0.0001,\n",
       "                      n_estimators=1000, n_jobs=None, oob_score=False,\n",
       "                      random_state=999, verbose=0, warm_start=False)"
      ]
     },
     "execution_count": 23,
     "metadata": {},
     "output_type": "execute_result"
    }
   ],
   "source": [
    "bone_spring_L7 = joblib.load('models/bone_spring_L7_no_metadata.pkl')\n",
    "bone_spring_L7"
   ]
  },
  {
   "cell_type": "markdown",
   "metadata": {},
   "source": [
    "## Determine important features of spring L7 model"
   ]
  },
  {
   "cell_type": "code",
   "execution_count": 25,
   "metadata": {},
   "outputs": [
    {
     "name": "stdout",
     "output_type": "stream",
     "text": [
      "Feature:\t\t\t\tImportance:\n",
      "1. k__Bacteria;p__Firmicutes;c__Clostridia;o__Clostridiales;f__[Tissierellaceae];g__Gallicola;s__\t0.05630369289508368\n",
      "2. k__Bacteria;p__Actinobacteria;c__Actinobacteria;o__Actinomycetales;f__Promicromonosporaceae;g__Cellulosimicrobium;s__\t0.05566772100379429\n",
      "3. k__Bacteria;p__Actinobacteria;c__Actinobacteria;o__Actinomycetales;f__Dermabacteraceae;g__Brachybacterium;s__\t0.04224946637057502\n",
      "4. k__Bacteria;p__Actinobacteria;c__Actinobacteria;o__Actinomycetales;f__Dietziaceae;g__Dietzia;s__\t0.03552387273347633\n",
      "5. k__Bacteria;p__Firmicutes;c__Clostridia;o__Clostridiales;f__[Tissierellaceae];g__;s__\t0.03486331581467503\n",
      "6. k__Bacteria;p__Proteobacteria;c__Alphaproteobacteria;o__Rhodospirillales;f__Acetobacteraceae;g__Roseococcus;s__\t0.029799208108220177\n",
      "7. k__Bacteria;p__Proteobacteria;c__Betaproteobacteria;o__Burkholderiales;f__Comamonadaceae;g__Leptothrix;s__\t0.02345427299142483\n",
      "8. k__Bacteria;p__Proteobacteria;c__Alphaproteobacteria;o__Caulobacterales;f__Caulobacteraceae;g__Phenylobacterium;s__\t0.017716802647268683\n",
      "9. k__Bacteria;p__Firmicutes;c__Erysipelotrichi;o__Erysipelotrichales;f__Erysipelotrichaceae;__;__\t0.016010130835406675\n",
      "10. k__Bacteria;p__Firmicutes;c__Clostridia;o__Clostridiales;f__[Tissierellaceae];g__Peptoniphilus;s__\t0.015756229471601626\n",
      "11. k__Bacteria;p__Proteobacteria;c__Alphaproteobacteria;o__Rhizobiales;f__Brucellaceae;g__Ochrobactrum;s__intermedium\t0.01508363471996859\n",
      "12. k__Bacteria;p__Proteobacteria;c__Gammaproteobacteria;o__;f__;g__;s__\t0.014673966181039427\n",
      "13. k__Bacteria;p__Proteobacteria;c__Alphaproteobacteria;o__Caulobacterales;f__Caulobacteraceae;g__;s__\t0.01437363548607385\n",
      "14. k__Bacteria;p__Proteobacteria;c__Gammaproteobacteria;o__Pasteurellales;f__Pasteurellaceae;g__Haemophilus;s__parainfluenzae\t0.013479810207900622\n",
      "15. k__Bacteria;p__Proteobacteria;c__Gammaproteobacteria;o__Pseudomonadales;f__Pseudomonadaceae;g__Pseudomonas;s__nitroreducens\t0.013331475273177384\n",
      "16. k__Bacteria;p__Firmicutes;c__Bacilli;o__Gemellales;f__Gemellaceae;g__Gemella;s__\t0.013284957474906437\n",
      "17. k__Bacteria;p__Proteobacteria;c__Betaproteobacteria;o__Burkholderiales;f__Alcaligenaceae;g__Achromobacter;s__\t0.01292645188336401\n",
      "18. k__Bacteria;p__Firmicutes;c__Bacilli;o__Bacillales;f__Planococcaceae;g__Sporosarcina;s__\t0.012580819981995854\n",
      "19. k__Bacteria;p__Firmicutes;c__Clostridia;o__Clostridiales;f__Lachnospiraceae;g__;s__\t0.012109979319927583\n",
      "20. k__Bacteria;p__Proteobacteria;c__Gammaproteobacteria;o__Enterobacteriales;f__Enterobacteriaceae;g__Providencia;s__\t0.012061238488008557\n",
      "21. k__Bacteria;p__Firmicutes;c__Bacilli;o__Bacillales;f__Bacillaceae;g__Bacillus;s__\t0.011917659286189552\n",
      "22. k__Bacteria;p__Actinobacteria;c__Actinobacteria;o__Actinomycetales;f__Brevibacteriaceae;g__Brevibacterium;s__casei\t0.011510280149098554\n",
      "23. k__Bacteria;p__Proteobacteria;c__Gammaproteobacteria;o__Xanthomonadales;f__Xanthomonadaceae;g__Stenotrophomonas;s__\t0.010478682108831629\n",
      "24. k__Bacteria;p__Bacteroidetes;c__Sphingobacteriia;o__Sphingobacteriales;f__Sphingobacteriaceae;g__Sphingobacterium;s__\t0.009883683372092692\n",
      "25. k__Bacteria;p__Proteobacteria;c__Betaproteobacteria;o__Burkholderiales;f__Oxalobacteraceae;g__;s__\t0.009131435456383457\n"
     ]
    }
   ],
   "source": [
    "importances = bone_spring_L7.feature_importances_\n",
    "std = np.std([tree.feature_importances_ for tree in bone_spring_L7.estimators_],\n",
    "             axis=0)\n",
    "indices = np.argsort(importances)[::-1]\n",
    "\n",
    "feature_metadata = Spring_L7.feature_metadata\n",
    "np.savetxt(\"importances/bone_spring_L7_no_metadata_features.csv\", feature_metadata, delimiter=\",\", fmt='%s')\n",
    "\n",
    "\n",
    "#print the important ids in order\n",
    "general_importances = []\n",
    "count = 0\n",
    "print(\"Feature:\\t\\t\\t\\tImportance:\")\n",
    "for i in indices:\n",
    "    general_importances += (Spring_L7.feature_metadata.index.values[i], importances[indices[count]])\n",
    "    if count < 25:\n",
    "        print(str(count+1)+\". \"+str(Spring_L7.feature_metadata.index.values[i])+\"\\t\"+str(importances[indices[count]]))\n",
    "    count += 1\n",
    "    \n",
    "general_importances_df = pd.DataFrame(np.array(general_importances).reshape(1342,1))\n",
    "\n",
    "np.savetxt(\"importances/bone_spring_L7_no_features_importances.csv\", general_importances_df, delimiter=\",\", fmt='%s')"
   ]
  },
  {
   "cell_type": "markdown",
   "metadata": {},
   "source": [
    "## Import rarefied table collapsed at level 6"
   ]
  },
  {
   "cell_type": "code",
   "execution_count": 26,
   "metadata": {},
   "outputs": [
    {
     "name": "stdout",
     "output_type": "stream",
     "text": [
      "2020-06-29 09:53:44 WARNING These have metadata but do not have data - dropped (51): {'11553.BLANKrib.5B', '11553.BLANKrib.11H', '11553.BLANKrib.9B', '11553.CSU.extraction.blank8', '11553.CSU.extraction.blank6', '11553.BLANKrib.11A', '11553.BLANKrib.11G', '11553.BLANKrib.12D', '11553.BLANKrib.10E', '11553.STAFS.2016.064.L12', '11553.CSU.extraction.blank11', '11553.BLANKrib.9E', '11553.CSU.extraction.blank14', '11553.BLANKrib.10D', '11553.CSU.extraction.blank12', '11553.BLANKrib.9A', '11553.SHSU.STAFS2016.007.R11', '11553.CSU.extraction.blank10', '11553.BLANKrib.9C', '11553.BLANKrib.12E', '11553.BLANKrib.12B', '11553.BLANKrib.9D', '11553.CSU.extraction.blank15', '11553.BLANKrib.12G', '11553.BLANKrib.12F', '11553.BLANKrib.10H', '11553.CSU.extraction.blank7', '11553.BLANKrib.11E', '11553.BLANKrib.11C', '11553.BLANKrib.10A', '11553.CSU.extraction.blank4', '11553.BLANKrib.12C', '11553.BLANKrib.9H', '11553.CSU.extraction.blank9', '11553.BLANKrib.11B', '11553.BLANKrib.12H', '11553.CSU.extraction.blank5', '11553.CSU.extraction.blank2', '11553.BLANKrib.10C', '11553.BLANKrib.11F', '11553.CSU.extraction.blank1', '11553.BLANKrib.10B', '11553.BLANKrib.12A', '11553.CSU.extraction.blank13', '11553.CSU.extraction.blank3', '11553.BLANKrib.11D', '11553.BLANKrib.9F', '11553.BLANKrib.10F', '11553.BLANKrib.10G', '11553.BLANKrib.9G', '11553.SHSU.STAFS2016.011.L09'}\n"
     ]
    }
   ],
   "source": [
    "exp_L6 = ca.read_amplicon('/Users/heatherdeel/Dropbox/PMI_3_analyses/bone/01_16S/01_qiime2_analysis/feature_tables/collapsed_tables/frag_ins_noChloMito_17098_L6_table.biom', '../02_metadata/maps/map3.txt', min_reads=0, normalize = None)\n"
   ]
  },
  {
   "cell_type": "code",
   "execution_count": 27,
   "metadata": {},
   "outputs": [
    {
     "data": {
      "text/plain": [
       "STAFS2016.011    8\n",
       "STAFS2016.024    7\n",
       "STAFS2016.007    7\n",
       "Name: host_subject_id, dtype: int64"
      ]
     },
     "execution_count": 27,
     "metadata": {},
     "output_type": "execute_result"
    }
   ],
   "source": [
    "# filter to spring\n",
    "Spring_L6 = exp_L6.filter_samples('season', 'spring')\n",
    "Spring_L6.sample_metadata.host_subject_id.value_counts()"
   ]
  },
  {
   "cell_type": "code",
   "execution_count": 28,
   "metadata": {},
   "outputs": [
    {
     "name": "stdout",
     "output_type": "stream",
     "text": [
      "                                                                                          _feature_id\n",
      "k__Archaea;p__Crenarchaeota;c__Thaumarchaeota;o...  k__Archaea;p__Crenarchaeota;c__Thaumarchaeota;...\n",
      "k__Archaea;p__Euryarchaeota;c__Methanobacteria;...  k__Archaea;p__Euryarchaeota;c__Methanobacteria...\n",
      "k__Bacteria;__;__;__;__;__                                                 k__Bacteria;__;__;__;__;__\n",
      "k__Bacteria;p__Acidobacteria;c__DA052;o__Ellin6...  k__Bacteria;p__Acidobacteria;c__DA052;o__Ellin...\n",
      "k__Bacteria;p__Acidobacteria;c__Solibacteres;o_...  k__Bacteria;p__Acidobacteria;c__Solibacteres;o...\n",
      "k__Bacteria;p__Acidobacteria;c__[Chloracidobact...  k__Bacteria;p__Acidobacteria;c__[Chloracidobac...\n",
      "k__Bacteria;p__Acidobacteria;c__[Chloracidobact...  k__Bacteria;p__Acidobacteria;c__[Chloracidobac...\n",
      "k__Bacteria;p__Actinobacteria;c__Acidimicrobiia...  k__Bacteria;p__Actinobacteria;c__Acidimicrobii...\n",
      "k__Bacteria;p__Actinobacteria;c__Acidimicrobiia...  k__Bacteria;p__Actinobacteria;c__Acidimicrobii...\n",
      "k__Bacteria;p__Actinobacteria;c__Acidimicrobiia...  k__Bacteria;p__Actinobacteria;c__Acidimicrobii...\n",
      "k__Bacteria;p__Actinobacteria;c__Acidimicrobiia...  k__Bacteria;p__Actinobacteria;c__Acidimicrobii...\n",
      "k__Bacteria;p__Actinobacteria;c__Acidimicrobiia...  k__Bacteria;p__Actinobacteria;c__Acidimicrobii...\n",
      "k__Bacteria;p__Actinobacteria;c__Actinobacteria...  k__Bacteria;p__Actinobacteria;c__Actinobacteri...\n",
      "k__Bacteria;p__Actinobacteria;c__Actinobacteria...  k__Bacteria;p__Actinobacteria;c__Actinobacteri...\n",
      "k__Bacteria;p__Actinobacteria;c__Actinobacteria...  k__Bacteria;p__Actinobacteria;c__Actinobacteri...\n",
      "k__Bacteria;p__Actinobacteria;c__Actinobacteria...  k__Bacteria;p__Actinobacteria;c__Actinobacteri...\n",
      "k__Bacteria;p__Actinobacteria;c__Actinobacteria...  k__Bacteria;p__Actinobacteria;c__Actinobacteri...\n",
      "k__Bacteria;p__Actinobacteria;c__Actinobacteria...  k__Bacteria;p__Actinobacteria;c__Actinobacteri...\n",
      "k__Bacteria;p__Actinobacteria;c__Actinobacteria...  k__Bacteria;p__Actinobacteria;c__Actinobacteri...\n",
      "k__Bacteria;p__Actinobacteria;c__Actinobacteria...  k__Bacteria;p__Actinobacteria;c__Actinobacteri...\n",
      "k__Bacteria;p__Actinobacteria;c__Actinobacteria...  k__Bacteria;p__Actinobacteria;c__Actinobacteri...\n",
      "k__Bacteria;p__Actinobacteria;c__Actinobacteria...  k__Bacteria;p__Actinobacteria;c__Actinobacteri...\n",
      "k__Bacteria;p__Actinobacteria;c__Actinobacteria...  k__Bacteria;p__Actinobacteria;c__Actinobacteri...\n",
      "k__Bacteria;p__Actinobacteria;c__Actinobacteria...  k__Bacteria;p__Actinobacteria;c__Actinobacteri...\n",
      "k__Bacteria;p__Actinobacteria;c__Actinobacteria...  k__Bacteria;p__Actinobacteria;c__Actinobacteri...\n",
      "k__Bacteria;p__Actinobacteria;c__Actinobacteria...  k__Bacteria;p__Actinobacteria;c__Actinobacteri...\n",
      "k__Bacteria;p__Actinobacteria;c__Actinobacteria...  k__Bacteria;p__Actinobacteria;c__Actinobacteri...\n",
      "k__Bacteria;p__Actinobacteria;c__Actinobacteria...  k__Bacteria;p__Actinobacteria;c__Actinobacteri...\n",
      "k__Bacteria;p__Actinobacteria;c__Actinobacteria...  k__Bacteria;p__Actinobacteria;c__Actinobacteri...\n",
      "k__Bacteria;p__Actinobacteria;c__Actinobacteria...  k__Bacteria;p__Actinobacteria;c__Actinobacteri...\n",
      "k__Bacteria;p__Actinobacteria;c__Actinobacteria...  k__Bacteria;p__Actinobacteria;c__Actinobacteri...\n",
      "k__Bacteria;p__Actinobacteria;c__Actinobacteria...  k__Bacteria;p__Actinobacteria;c__Actinobacteri...\n",
      "k__Bacteria;p__Actinobacteria;c__Actinobacteria...  k__Bacteria;p__Actinobacteria;c__Actinobacteri...\n",
      "k__Bacteria;p__Actinobacteria;c__Actinobacteria...  k__Bacteria;p__Actinobacteria;c__Actinobacteri...\n",
      "k__Bacteria;p__Actinobacteria;c__Actinobacteria...  k__Bacteria;p__Actinobacteria;c__Actinobacteri...\n",
      "k__Bacteria;p__Actinobacteria;c__Actinobacteria...  k__Bacteria;p__Actinobacteria;c__Actinobacteri...\n",
      "k__Bacteria;p__Actinobacteria;c__Actinobacteria...  k__Bacteria;p__Actinobacteria;c__Actinobacteri...\n",
      "k__Bacteria;p__Actinobacteria;c__Actinobacteria...  k__Bacteria;p__Actinobacteria;c__Actinobacteri...\n",
      "k__Bacteria;p__Actinobacteria;c__Actinobacteria...  k__Bacteria;p__Actinobacteria;c__Actinobacteri...\n",
      "k__Bacteria;p__Actinobacteria;c__Actinobacteria...  k__Bacteria;p__Actinobacteria;c__Actinobacteri...\n",
      "k__Bacteria;p__Actinobacteria;c__Actinobacteria...  k__Bacteria;p__Actinobacteria;c__Actinobacteri...\n",
      "k__Bacteria;p__Actinobacteria;c__Actinobacteria...  k__Bacteria;p__Actinobacteria;c__Actinobacteri...\n",
      "k__Bacteria;p__Actinobacteria;c__Actinobacteria...  k__Bacteria;p__Actinobacteria;c__Actinobacteri...\n",
      "k__Bacteria;p__Actinobacteria;c__Actinobacteria...  k__Bacteria;p__Actinobacteria;c__Actinobacteri...\n",
      "k__Bacteria;p__Actinobacteria;c__Actinobacteria...  k__Bacteria;p__Actinobacteria;c__Actinobacteri...\n",
      "k__Bacteria;p__Actinobacteria;c__Actinobacteria...  k__Bacteria;p__Actinobacteria;c__Actinobacteri...\n",
      "k__Bacteria;p__Actinobacteria;c__Actinobacteria...  k__Bacteria;p__Actinobacteria;c__Actinobacteri...\n",
      "k__Bacteria;p__Actinobacteria;c__Actinobacteria...  k__Bacteria;p__Actinobacteria;c__Actinobacteri...\n",
      "k__Bacteria;p__Actinobacteria;c__Actinobacteria...  k__Bacteria;p__Actinobacteria;c__Actinobacteri...\n",
      "k__Bacteria;p__Actinobacteria;c__Actinobacteria...  k__Bacteria;p__Actinobacteria;c__Actinobacteri...\n",
      "k__Bacteria;p__Actinobacteria;c__Actinobacteria...  k__Bacteria;p__Actinobacteria;c__Actinobacteri...\n",
      "k__Bacteria;p__Actinobacteria;c__Actinobacteria...  k__Bacteria;p__Actinobacteria;c__Actinobacteri...\n",
      "k__Bacteria;p__Actinobacteria;c__Actinobacteria...  k__Bacteria;p__Actinobacteria;c__Actinobacteri...\n",
      "k__Bacteria;p__Actinobacteria;c__Actinobacteria...  k__Bacteria;p__Actinobacteria;c__Actinobacteri...\n",
      "k__Bacteria;p__Actinobacteria;c__Actinobacteria...  k__Bacteria;p__Actinobacteria;c__Actinobacteri...\n",
      "k__Bacteria;p__Actinobacteria;c__Actinobacteria...  k__Bacteria;p__Actinobacteria;c__Actinobacteri...\n",
      "k__Bacteria;p__Actinobacteria;c__Actinobacteria...  k__Bacteria;p__Actinobacteria;c__Actinobacteri...\n",
      "k__Bacteria;p__Actinobacteria;c__Actinobacteria...  k__Bacteria;p__Actinobacteria;c__Actinobacteri...\n",
      "k__Bacteria;p__Actinobacteria;c__Actinobacteria...  k__Bacteria;p__Actinobacteria;c__Actinobacteri...\n",
      "k__Bacteria;p__Actinobacteria;c__Actinobacteria...  k__Bacteria;p__Actinobacteria;c__Actinobacteri...\n",
      "k__Bacteria;p__Actinobacteria;c__Actinobacteria...  k__Bacteria;p__Actinobacteria;c__Actinobacteri...\n",
      "k__Bacteria;p__Actinobacteria;c__Actinobacteria...  k__Bacteria;p__Actinobacteria;c__Actinobacteri...\n",
      "k__Bacteria;p__Actinobacteria;c__Actinobacteria...  k__Bacteria;p__Actinobacteria;c__Actinobacteri...\n",
      "k__Bacteria;p__Actinobacteria;c__Actinobacteria...  k__Bacteria;p__Actinobacteria;c__Actinobacteri...\n",
      "k__Bacteria;p__Actinobacteria;c__Actinobacteria...  k__Bacteria;p__Actinobacteria;c__Actinobacteri...\n",
      "k__Bacteria;p__Actinobacteria;c__Actinobacteria...  k__Bacteria;p__Actinobacteria;c__Actinobacteri...\n",
      "k__Bacteria;p__Actinobacteria;c__Actinobacteria...  k__Bacteria;p__Actinobacteria;c__Actinobacteri...\n",
      "k__Bacteria;p__Actinobacteria;c__Actinobacteria...  k__Bacteria;p__Actinobacteria;c__Actinobacteri...\n",
      "k__Bacteria;p__Actinobacteria;c__Actinobacteria...  k__Bacteria;p__Actinobacteria;c__Actinobacteri...\n",
      "k__Bacteria;p__Actinobacteria;c__Actinobacteria...  k__Bacteria;p__Actinobacteria;c__Actinobacteri...\n",
      "k__Bacteria;p__Actinobacteria;c__Actinobacteria...  k__Bacteria;p__Actinobacteria;c__Actinobacteri...\n",
      "k__Bacteria;p__Actinobacteria;c__Actinobacteria...  k__Bacteria;p__Actinobacteria;c__Actinobacteri...\n",
      "k__Bacteria;p__Actinobacteria;c__Actinobacteria...  k__Bacteria;p__Actinobacteria;c__Actinobacteri...\n",
      "k__Bacteria;p__Actinobacteria;c__Actinobacteria...  k__Bacteria;p__Actinobacteria;c__Actinobacteri...\n",
      "k__Bacteria;p__Actinobacteria;c__Actinobacteria...  k__Bacteria;p__Actinobacteria;c__Actinobacteri...\n",
      "k__Bacteria;p__Actinobacteria;c__Actinobacteria...  k__Bacteria;p__Actinobacteria;c__Actinobacteri...\n",
      "k__Bacteria;p__Actinobacteria;c__Actinobacteria...  k__Bacteria;p__Actinobacteria;c__Actinobacteri...\n",
      "k__Bacteria;p__Actinobacteria;c__Actinobacteria...  k__Bacteria;p__Actinobacteria;c__Actinobacteri...\n",
      "k__Bacteria;p__Actinobacteria;c__Actinobacteria...  k__Bacteria;p__Actinobacteria;c__Actinobacteri...\n",
      "k__Bacteria;p__Actinobacteria;c__Actinobacteria...  k__Bacteria;p__Actinobacteria;c__Actinobacteri...\n",
      "k__Bacteria;p__Actinobacteria;c__Actinobacteria...  k__Bacteria;p__Actinobacteria;c__Actinobacteri...\n",
      "k__Bacteria;p__Actinobacteria;c__Actinobacteria...  k__Bacteria;p__Actinobacteria;c__Actinobacteri...\n",
      "k__Bacteria;p__Actinobacteria;c__Actinobacteria...  k__Bacteria;p__Actinobacteria;c__Actinobacteri...\n",
      "k__Bacteria;p__Actinobacteria;c__Actinobacteria...  k__Bacteria;p__Actinobacteria;c__Actinobacteri...\n",
      "k__Bacteria;p__Actinobacteria;c__Actinobacteria...  k__Bacteria;p__Actinobacteria;c__Actinobacteri...\n",
      "k__Bacteria;p__Actinobacteria;c__Actinobacteria...  k__Bacteria;p__Actinobacteria;c__Actinobacteri...\n",
      "k__Bacteria;p__Actinobacteria;c__Coriobacteriia...  k__Bacteria;p__Actinobacteria;c__Coriobacterii...\n",
      "k__Bacteria;p__Actinobacteria;c__Coriobacteriia...  k__Bacteria;p__Actinobacteria;c__Coriobacterii...\n",
      "k__Bacteria;p__Actinobacteria;c__Coriobacteriia...  k__Bacteria;p__Actinobacteria;c__Coriobacterii...\n",
      "k__Bacteria;p__Actinobacteria;c__Rubrobacteria;...  k__Bacteria;p__Actinobacteria;c__Rubrobacteria...\n",
      "k__Bacteria;p__Actinobacteria;c__Thermoleophili...  k__Bacteria;p__Actinobacteria;c__Thermoleophil...\n",
      "k__Bacteria;p__Actinobacteria;c__Thermoleophili...  k__Bacteria;p__Actinobacteria;c__Thermoleophil...\n",
      "k__Bacteria;p__Actinobacteria;c__Thermoleophili...  k__Bacteria;p__Actinobacteria;c__Thermoleophil...\n",
      "k__Bacteria;p__Actinobacteria;c__Thermoleophili...  k__Bacteria;p__Actinobacteria;c__Thermoleophil...\n",
      "k__Bacteria;p__Actinobacteria;c__Thermoleophili...  k__Bacteria;p__Actinobacteria;c__Thermoleophil...\n",
      "k__Bacteria;p__Actinobacteria;c__Thermoleophili...  k__Bacteria;p__Actinobacteria;c__Thermoleophil...\n",
      "k__Bacteria;p__Actinobacteria;c__Thermoleophili...  k__Bacteria;p__Actinobacteria;c__Thermoleophil...\n",
      "k__Bacteria;p__Armatimonadetes;c__Armatimonadia...  k__Bacteria;p__Armatimonadetes;c__Armatimonadi...\n",
      "k__Bacteria;p__Armatimonadetes;c__SHA-37;o__;f_...  k__Bacteria;p__Armatimonadetes;c__SHA-37;o__;f...\n",
      "k__Bacteria;p__Armatimonadetes;c__SJA-176;o__GA...  k__Bacteria;p__Armatimonadetes;c__SJA-176;o__G...\n",
      "k__Bacteria;p__Armatimonadetes;c__[Fimbriimonad...  k__Bacteria;p__Armatimonadetes;c__[Fimbriimona...\n",
      "k__Bacteria;p__Armatimonadetes;c__[Fimbriimonad...  k__Bacteria;p__Armatimonadetes;c__[Fimbriimona...\n",
      "k__Bacteria;p__BRC1;c__PRR-11;o__;f__;g__                   k__Bacteria;p__BRC1;c__PRR-11;o__;f__;g__\n",
      "k__Bacteria;p__Bacteroidetes;c__Bacteroidia;o__...  k__Bacteria;p__Bacteroidetes;c__Bacteroidia;o_...\n",
      "k__Bacteria;p__Bacteroidetes;c__Bacteroidia;o__...  k__Bacteria;p__Bacteroidetes;c__Bacteroidia;o_...\n",
      "k__Bacteria;p__Bacteroidetes;c__Bacteroidia;o__...  k__Bacteria;p__Bacteroidetes;c__Bacteroidia;o_...\n",
      "k__Bacteria;p__Bacteroidetes;c__Bacteroidia;o__...  k__Bacteria;p__Bacteroidetes;c__Bacteroidia;o_...\n",
      "k__Bacteria;p__Bacteroidetes;c__Bacteroidia;o__...  k__Bacteria;p__Bacteroidetes;c__Bacteroidia;o_...\n",
      "k__Bacteria;p__Bacteroidetes;c__Bacteroidia;o__...  k__Bacteria;p__Bacteroidetes;c__Bacteroidia;o_...\n",
      "k__Bacteria;p__Bacteroidetes;c__Bacteroidia;o__...  k__Bacteria;p__Bacteroidetes;c__Bacteroidia;o_...\n",
      "k__Bacteria;p__Bacteroidetes;c__Bacteroidia;o__...  k__Bacteria;p__Bacteroidetes;c__Bacteroidia;o_...\n",
      "k__Bacteria;p__Bacteroidetes;c__Bacteroidia;o__...  k__Bacteria;p__Bacteroidetes;c__Bacteroidia;o_...\n",
      "k__Bacteria;p__Bacteroidetes;c__Bacteroidia;o__...  k__Bacteria;p__Bacteroidetes;c__Bacteroidia;o_...\n",
      "k__Bacteria;p__Bacteroidetes;c__Bacteroidia;o__...  k__Bacteria;p__Bacteroidetes;c__Bacteroidia;o_...\n",
      "k__Bacteria;p__Bacteroidetes;c__Bacteroidia;o__...  k__Bacteria;p__Bacteroidetes;c__Bacteroidia;o_...\n",
      "k__Bacteria;p__Bacteroidetes;c__Bacteroidia;o__...  k__Bacteria;p__Bacteroidetes;c__Bacteroidia;o_...\n",
      "k__Bacteria;p__Bacteroidetes;c__Bacteroidia;o__...  k__Bacteria;p__Bacteroidetes;c__Bacteroidia;o_...\n",
      "k__Bacteria;p__Bacteroidetes;c__Bacteroidia;o__...  k__Bacteria;p__Bacteroidetes;c__Bacteroidia;o_...\n",
      "k__Bacteria;p__Bacteroidetes;c__Cytophagia;o__C...  k__Bacteria;p__Bacteroidetes;c__Cytophagia;o__...\n",
      "k__Bacteria;p__Bacteroidetes;c__Cytophagia;o__C...  k__Bacteria;p__Bacteroidetes;c__Cytophagia;o__...\n",
      "k__Bacteria;p__Bacteroidetes;c__Cytophagia;o__C...  k__Bacteria;p__Bacteroidetes;c__Cytophagia;o__...\n",
      "k__Bacteria;p__Bacteroidetes;c__Cytophagia;o__C...  k__Bacteria;p__Bacteroidetes;c__Cytophagia;o__...\n",
      "k__Bacteria;p__Bacteroidetes;c__Cytophagia;o__C...  k__Bacteria;p__Bacteroidetes;c__Cytophagia;o__...\n",
      "k__Bacteria;p__Bacteroidetes;c__Cytophagia;o__C...  k__Bacteria;p__Bacteroidetes;c__Cytophagia;o__...\n",
      "k__Bacteria;p__Bacteroidetes;c__Cytophagia;o__C...  k__Bacteria;p__Bacteroidetes;c__Cytophagia;o__...\n",
      "k__Bacteria;p__Bacteroidetes;c__Cytophagia;o__C...  k__Bacteria;p__Bacteroidetes;c__Cytophagia;o__...\n",
      "k__Bacteria;p__Bacteroidetes;c__Cytophagia;o__C...  k__Bacteria;p__Bacteroidetes;c__Cytophagia;o__...\n",
      "k__Bacteria;p__Bacteroidetes;c__Cytophagia;o__C...  k__Bacteria;p__Bacteroidetes;c__Cytophagia;o__...\n",
      "k__Bacteria;p__Bacteroidetes;c__Flavobacteriia;...  k__Bacteria;p__Bacteroidetes;c__Flavobacteriia...\n",
      "k__Bacteria;p__Bacteroidetes;c__Flavobacteriia;...  k__Bacteria;p__Bacteroidetes;c__Flavobacteriia...\n",
      "k__Bacteria;p__Bacteroidetes;c__Flavobacteriia;...  k__Bacteria;p__Bacteroidetes;c__Flavobacteriia...\n",
      "k__Bacteria;p__Bacteroidetes;c__Flavobacteriia;...  k__Bacteria;p__Bacteroidetes;c__Flavobacteriia...\n",
      "k__Bacteria;p__Bacteroidetes;c__Flavobacteriia;...  k__Bacteria;p__Bacteroidetes;c__Flavobacteriia...\n",
      "k__Bacteria;p__Bacteroidetes;c__Flavobacteriia;...  k__Bacteria;p__Bacteroidetes;c__Flavobacteriia...\n",
      "k__Bacteria;p__Bacteroidetes;c__Flavobacteriia;...  k__Bacteria;p__Bacteroidetes;c__Flavobacteriia...\n",
      "k__Bacteria;p__Bacteroidetes;c__Flavobacteriia;...  k__Bacteria;p__Bacteroidetes;c__Flavobacteriia...\n",
      "k__Bacteria;p__Bacteroidetes;c__Flavobacteriia;...  k__Bacteria;p__Bacteroidetes;c__Flavobacteriia...\n",
      "k__Bacteria;p__Bacteroidetes;c__Flavobacteriia;...  k__Bacteria;p__Bacteroidetes;c__Flavobacteriia...\n",
      "k__Bacteria;p__Bacteroidetes;c__Flavobacteriia;...  k__Bacteria;p__Bacteroidetes;c__Flavobacteriia...\n",
      "k__Bacteria;p__Bacteroidetes;c__Flavobacteriia;...  k__Bacteria;p__Bacteroidetes;c__Flavobacteriia...\n",
      "k__Bacteria;p__Bacteroidetes;c__Flavobacteriia;...  k__Bacteria;p__Bacteroidetes;c__Flavobacteriia...\n",
      "k__Bacteria;p__Bacteroidetes;c__Flavobacteriia;...  k__Bacteria;p__Bacteroidetes;c__Flavobacteriia...\n",
      "k__Bacteria;p__Bacteroidetes;c__Sphingobacterii...  k__Bacteria;p__Bacteroidetes;c__Sphingobacteri...\n",
      "k__Bacteria;p__Bacteroidetes;c__Sphingobacterii...  k__Bacteria;p__Bacteroidetes;c__Sphingobacteri...\n",
      "k__Bacteria;p__Bacteroidetes;c__Sphingobacterii...  k__Bacteria;p__Bacteroidetes;c__Sphingobacteri...\n",
      "k__Bacteria;p__Bacteroidetes;c__Sphingobacterii...  k__Bacteria;p__Bacteroidetes;c__Sphingobacteri...\n",
      "k__Bacteria;p__Bacteroidetes;c__Sphingobacterii...  k__Bacteria;p__Bacteroidetes;c__Sphingobacteri...\n",
      "k__Bacteria;p__Bacteroidetes;c__[Saprospirae];o...  k__Bacteria;p__Bacteroidetes;c__[Saprospirae];...\n",
      "k__Bacteria;p__Bacteroidetes;c__[Saprospirae];o...  k__Bacteria;p__Bacteroidetes;c__[Saprospirae];...\n",
      "k__Bacteria;p__Bacteroidetes;c__[Saprospirae];o...  k__Bacteria;p__Bacteroidetes;c__[Saprospirae];...\n",
      "k__Bacteria;p__Bacteroidetes;c__[Saprospirae];o...  k__Bacteria;p__Bacteroidetes;c__[Saprospirae];...\n",
      "k__Bacteria;p__Bacteroidetes;c__[Saprospirae];o...  k__Bacteria;p__Bacteroidetes;c__[Saprospirae];...\n",
      "k__Bacteria;p__Bacteroidetes;c__[Saprospirae];o...  k__Bacteria;p__Bacteroidetes;c__[Saprospirae];...\n",
      "k__Bacteria;p__Bacteroidetes;c__[Saprospirae];o...  k__Bacteria;p__Bacteroidetes;c__[Saprospirae];...\n",
      "k__Bacteria;p__Bacteroidetes;c__[Saprospirae];o...  k__Bacteria;p__Bacteroidetes;c__[Saprospirae];...\n",
      "k__Bacteria;p__Bacteroidetes;c__[Saprospirae];o...  k__Bacteria;p__Bacteroidetes;c__[Saprospirae];...\n",
      "k__Bacteria;p__Chlorobi;c__OPB56;o__;f__;g__             k__Bacteria;p__Chlorobi;c__OPB56;o__;f__;g__\n",
      "k__Bacteria;p__Chloroflexi;c__Chloroflexi;o__AK...  k__Bacteria;p__Chloroflexi;c__Chloroflexi;o__A...\n",
      "k__Bacteria;p__Chloroflexi;c__Ellin6529;o__;f__...  k__Bacteria;p__Chloroflexi;c__Ellin6529;o__;f_...\n",
      "k__Bacteria;p__Chloroflexi;c__Thermomicrobia;o_...  k__Bacteria;p__Chloroflexi;c__Thermomicrobia;o...\n",
      "k__Bacteria;p__Chloroflexi;c__Thermomicrobia;o_...  k__Bacteria;p__Chloroflexi;c__Thermomicrobia;o...\n",
      "k__Bacteria;p__Cyanobacteria;c__4C0d-2;o__SM1D1...  k__Bacteria;p__Cyanobacteria;c__4C0d-2;o__SM1D...\n",
      "k__Bacteria;p__Cyanobacteria;c__4C0d-2;o__YS2;f...  k__Bacteria;p__Cyanobacteria;c__4C0d-2;o__YS2;...\n",
      "k__Bacteria;p__Cyanobacteria;c__ML635J-21;o__;f...  k__Bacteria;p__Cyanobacteria;c__ML635J-21;o__;...\n",
      "k__Bacteria;p__Cyanobacteria;c__Oscillatoriophy...  k__Bacteria;p__Cyanobacteria;c__Oscillatorioph...\n",
      "k__Bacteria;p__Deferribacteres;c__Deferribacter...  k__Bacteria;p__Deferribacteres;c__Deferribacte...\n",
      "k__Bacteria;p__Deferribacteres;c__Deferribacter...  k__Bacteria;p__Deferribacteres;c__Deferribacte...\n",
      "k__Bacteria;p__FBP;c__;o__;f__;g__                                 k__Bacteria;p__FBP;c__;o__;f__;g__\n",
      "k__Bacteria;p__Firmicutes;c__AHT28;o__;f__;g__         k__Bacteria;p__Firmicutes;c__AHT28;o__;f__;g__\n",
      "k__Bacteria;p__Firmicutes;c__Bacilli;o__Bacilla...  k__Bacteria;p__Firmicutes;c__Bacilli;o__Bacill...\n",
      "k__Bacteria;p__Firmicutes;c__Bacilli;o__Bacilla...  k__Bacteria;p__Firmicutes;c__Bacilli;o__Bacill...\n",
      "k__Bacteria;p__Firmicutes;c__Bacilli;o__Bacilla...  k__Bacteria;p__Firmicutes;c__Bacilli;o__Bacill...\n",
      "k__Bacteria;p__Firmicutes;c__Bacilli;o__Bacilla...  k__Bacteria;p__Firmicutes;c__Bacilli;o__Bacill...\n",
      "k__Bacteria;p__Firmicutes;c__Bacilli;o__Bacilla...  k__Bacteria;p__Firmicutes;c__Bacilli;o__Bacill...\n",
      "k__Bacteria;p__Firmicutes;c__Bacilli;o__Bacilla...  k__Bacteria;p__Firmicutes;c__Bacilli;o__Bacill...\n",
      "k__Bacteria;p__Firmicutes;c__Bacilli;o__Bacilla...  k__Bacteria;p__Firmicutes;c__Bacilli;o__Bacill...\n",
      "k__Bacteria;p__Firmicutes;c__Bacilli;o__Bacilla...  k__Bacteria;p__Firmicutes;c__Bacilli;o__Bacill...\n",
      "k__Bacteria;p__Firmicutes;c__Bacilli;o__Bacilla...  k__Bacteria;p__Firmicutes;c__Bacilli;o__Bacill...\n",
      "k__Bacteria;p__Firmicutes;c__Bacilli;o__Bacilla...  k__Bacteria;p__Firmicutes;c__Bacilli;o__Bacill...\n",
      "k__Bacteria;p__Firmicutes;c__Bacilli;o__Bacilla...  k__Bacteria;p__Firmicutes;c__Bacilli;o__Bacill...\n",
      "k__Bacteria;p__Firmicutes;c__Bacilli;o__Bacilla...  k__Bacteria;p__Firmicutes;c__Bacilli;o__Bacill...\n",
      "k__Bacteria;p__Firmicutes;c__Bacilli;o__Bacilla...  k__Bacteria;p__Firmicutes;c__Bacilli;o__Bacill...\n",
      "k__Bacteria;p__Firmicutes;c__Bacilli;o__Bacilla...  k__Bacteria;p__Firmicutes;c__Bacilli;o__Bacill...\n",
      "k__Bacteria;p__Firmicutes;c__Bacilli;o__Bacilla...  k__Bacteria;p__Firmicutes;c__Bacilli;o__Bacill...\n",
      "k__Bacteria;p__Firmicutes;c__Bacilli;o__Bacilla...  k__Bacteria;p__Firmicutes;c__Bacilli;o__Bacill...\n",
      "k__Bacteria;p__Firmicutes;c__Bacilli;o__Bacilla...  k__Bacteria;p__Firmicutes;c__Bacilli;o__Bacill...\n",
      "k__Bacteria;p__Firmicutes;c__Bacilli;o__Bacilla...  k__Bacteria;p__Firmicutes;c__Bacilli;o__Bacill...\n",
      "k__Bacteria;p__Firmicutes;c__Bacilli;o__Bacilla...  k__Bacteria;p__Firmicutes;c__Bacilli;o__Bacill...\n",
      "k__Bacteria;p__Firmicutes;c__Bacilli;o__Bacilla...  k__Bacteria;p__Firmicutes;c__Bacilli;o__Bacill...\n",
      "k__Bacteria;p__Firmicutes;c__Bacilli;o__Bacilla...  k__Bacteria;p__Firmicutes;c__Bacilli;o__Bacill...\n",
      "k__Bacteria;p__Firmicutes;c__Bacilli;o__Bacilla...  k__Bacteria;p__Firmicutes;c__Bacilli;o__Bacill...\n",
      "k__Bacteria;p__Firmicutes;c__Bacilli;o__Gemella...  k__Bacteria;p__Firmicutes;c__Bacilli;o__Gemell...\n",
      "k__Bacteria;p__Firmicutes;c__Bacilli;o__Gemella...  k__Bacteria;p__Firmicutes;c__Bacilli;o__Gemell...\n",
      "k__Bacteria;p__Firmicutes;c__Bacilli;o__Gemella...  k__Bacteria;p__Firmicutes;c__Bacilli;o__Gemell...\n",
      "k__Bacteria;p__Firmicutes;c__Bacilli;o__Lactoba...  k__Bacteria;p__Firmicutes;c__Bacilli;o__Lactob...\n",
      "k__Bacteria;p__Firmicutes;c__Bacilli;o__Lactoba...  k__Bacteria;p__Firmicutes;c__Bacilli;o__Lactob...\n",
      "k__Bacteria;p__Firmicutes;c__Bacilli;o__Lactoba...  k__Bacteria;p__Firmicutes;c__Bacilli;o__Lactob...\n",
      "k__Bacteria;p__Firmicutes;c__Bacilli;o__Lactoba...  k__Bacteria;p__Firmicutes;c__Bacilli;o__Lactob...\n",
      "k__Bacteria;p__Firmicutes;c__Bacilli;o__Lactoba...  k__Bacteria;p__Firmicutes;c__Bacilli;o__Lactob...\n",
      "k__Bacteria;p__Firmicutes;c__Bacilli;o__Lactoba...  k__Bacteria;p__Firmicutes;c__Bacilli;o__Lactob...\n",
      "k__Bacteria;p__Firmicutes;c__Bacilli;o__Lactoba...  k__Bacteria;p__Firmicutes;c__Bacilli;o__Lactob...\n",
      "k__Bacteria;p__Firmicutes;c__Bacilli;o__Lactoba...  k__Bacteria;p__Firmicutes;c__Bacilli;o__Lactob...\n",
      "k__Bacteria;p__Firmicutes;c__Clostridia;o__Clos...  k__Bacteria;p__Firmicutes;c__Clostridia;o__Clo...\n",
      "k__Bacteria;p__Firmicutes;c__Clostridia;o__Clos...  k__Bacteria;p__Firmicutes;c__Clostridia;o__Clo...\n",
      "k__Bacteria;p__Firmicutes;c__Clostridia;o__Clos...  k__Bacteria;p__Firmicutes;c__Clostridia;o__Clo...\n",
      "k__Bacteria;p__Firmicutes;c__Clostridia;o__Clos...  k__Bacteria;p__Firmicutes;c__Clostridia;o__Clo...\n",
      "k__Bacteria;p__Firmicutes;c__Clostridia;o__Clos...  k__Bacteria;p__Firmicutes;c__Clostridia;o__Clo...\n",
      "k__Bacteria;p__Firmicutes;c__Clostridia;o__Clos...  k__Bacteria;p__Firmicutes;c__Clostridia;o__Clo...\n",
      "k__Bacteria;p__Firmicutes;c__Clostridia;o__Clos...  k__Bacteria;p__Firmicutes;c__Clostridia;o__Clo...\n",
      "k__Bacteria;p__Firmicutes;c__Clostridia;o__Clos...  k__Bacteria;p__Firmicutes;c__Clostridia;o__Clo...\n",
      "k__Bacteria;p__Firmicutes;c__Clostridia;o__Clos...  k__Bacteria;p__Firmicutes;c__Clostridia;o__Clo...\n",
      "k__Bacteria;p__Firmicutes;c__Clostridia;o__Clos...  k__Bacteria;p__Firmicutes;c__Clostridia;o__Clo...\n",
      "k__Bacteria;p__Firmicutes;c__Clostridia;o__Clos...  k__Bacteria;p__Firmicutes;c__Clostridia;o__Clo...\n",
      "k__Bacteria;p__Firmicutes;c__Clostridia;o__Clos...  k__Bacteria;p__Firmicutes;c__Clostridia;o__Clo...\n",
      "k__Bacteria;p__Firmicutes;c__Clostridia;o__Clos...  k__Bacteria;p__Firmicutes;c__Clostridia;o__Clo...\n",
      "k__Bacteria;p__Firmicutes;c__Clostridia;o__Clos...  k__Bacteria;p__Firmicutes;c__Clostridia;o__Clo...\n",
      "k__Bacteria;p__Firmicutes;c__Clostridia;o__Clos...  k__Bacteria;p__Firmicutes;c__Clostridia;o__Clo...\n",
      "k__Bacteria;p__Firmicutes;c__Clostridia;o__Clos...  k__Bacteria;p__Firmicutes;c__Clostridia;o__Clo...\n",
      "k__Bacteria;p__Firmicutes;c__Clostridia;o__Clos...  k__Bacteria;p__Firmicutes;c__Clostridia;o__Clo...\n",
      "k__Bacteria;p__Firmicutes;c__Clostridia;o__Clos...  k__Bacteria;p__Firmicutes;c__Clostridia;o__Clo...\n",
      "k__Bacteria;p__Firmicutes;c__Clostridia;o__Clos...  k__Bacteria;p__Firmicutes;c__Clostridia;o__Clo...\n",
      "k__Bacteria;p__Firmicutes;c__Clostridia;o__Clos...  k__Bacteria;p__Firmicutes;c__Clostridia;o__Clo...\n",
      "k__Bacteria;p__Firmicutes;c__Clostridia;o__Clos...  k__Bacteria;p__Firmicutes;c__Clostridia;o__Clo...\n",
      "k__Bacteria;p__Firmicutes;c__Clostridia;o__Clos...  k__Bacteria;p__Firmicutes;c__Clostridia;o__Clo...\n",
      "k__Bacteria;p__Firmicutes;c__Clostridia;o__Clos...  k__Bacteria;p__Firmicutes;c__Clostridia;o__Clo...\n",
      "k__Bacteria;p__Firmicutes;c__Clostridia;o__Clos...  k__Bacteria;p__Firmicutes;c__Clostridia;o__Clo...\n",
      "k__Bacteria;p__Firmicutes;c__Clostridia;o__Clos...  k__Bacteria;p__Firmicutes;c__Clostridia;o__Clo...\n",
      "k__Bacteria;p__Firmicutes;c__Clostridia;o__Clos...  k__Bacteria;p__Firmicutes;c__Clostridia;o__Clo...\n",
      "k__Bacteria;p__Firmicutes;c__Clostridia;o__Clos...  k__Bacteria;p__Firmicutes;c__Clostridia;o__Clo...\n",
      "k__Bacteria;p__Firmicutes;c__Clostridia;o__Clos...  k__Bacteria;p__Firmicutes;c__Clostridia;o__Clo...\n",
      "k__Bacteria;p__Firmicutes;c__Clostridia;o__Clos...  k__Bacteria;p__Firmicutes;c__Clostridia;o__Clo...\n",
      "k__Bacteria;p__Firmicutes;c__Clostridia;o__Clos...  k__Bacteria;p__Firmicutes;c__Clostridia;o__Clo...\n",
      "k__Bacteria;p__Firmicutes;c__Clostridia;o__Clos...  k__Bacteria;p__Firmicutes;c__Clostridia;o__Clo...\n",
      "k__Bacteria;p__Firmicutes;c__Clostridia;o__Clos...  k__Bacteria;p__Firmicutes;c__Clostridia;o__Clo...\n",
      "k__Bacteria;p__Firmicutes;c__Clostridia;o__Clos...  k__Bacteria;p__Firmicutes;c__Clostridia;o__Clo...\n",
      "k__Bacteria;p__Firmicutes;c__Clostridia;o__Clos...  k__Bacteria;p__Firmicutes;c__Clostridia;o__Clo...\n",
      "k__Bacteria;p__Firmicutes;c__Clostridia;o__Clos...  k__Bacteria;p__Firmicutes;c__Clostridia;o__Clo...\n",
      "k__Bacteria;p__Firmicutes;c__Clostridia;o__Clos...  k__Bacteria;p__Firmicutes;c__Clostridia;o__Clo...\n",
      "k__Bacteria;p__Firmicutes;c__Clostridia;o__Clos...  k__Bacteria;p__Firmicutes;c__Clostridia;o__Clo...\n",
      "k__Bacteria;p__Firmicutes;c__Clostridia;o__Clos...  k__Bacteria;p__Firmicutes;c__Clostridia;o__Clo...\n",
      "k__Bacteria;p__Firmicutes;c__Clostridia;o__Clos...  k__Bacteria;p__Firmicutes;c__Clostridia;o__Clo...\n",
      "k__Bacteria;p__Firmicutes;c__Clostridia;o__Clos...  k__Bacteria;p__Firmicutes;c__Clostridia;o__Clo...\n",
      "k__Bacteria;p__Firmicutes;c__Clostridia;o__Clos...  k__Bacteria;p__Firmicutes;c__Clostridia;o__Clo...\n",
      "k__Bacteria;p__Firmicutes;c__Clostridia;o__Clos...  k__Bacteria;p__Firmicutes;c__Clostridia;o__Clo...\n",
      "k__Bacteria;p__Firmicutes;c__Clostridia;o__Clos...  k__Bacteria;p__Firmicutes;c__Clostridia;o__Clo...\n",
      "k__Bacteria;p__Firmicutes;c__Clostridia;o__Clos...  k__Bacteria;p__Firmicutes;c__Clostridia;o__Clo...\n",
      "k__Bacteria;p__Firmicutes;c__Clostridia;o__Clos...  k__Bacteria;p__Firmicutes;c__Clostridia;o__Clo...\n",
      "k__Bacteria;p__Firmicutes;c__Clostridia;o__Clos...  k__Bacteria;p__Firmicutes;c__Clostridia;o__Clo...\n",
      "k__Bacteria;p__Firmicutes;c__Clostridia;o__Clos...  k__Bacteria;p__Firmicutes;c__Clostridia;o__Clo...\n",
      "k__Bacteria;p__Firmicutes;c__Clostridia;o__Clos...  k__Bacteria;p__Firmicutes;c__Clostridia;o__Clo...\n",
      "k__Bacteria;p__Firmicutes;c__Clostridia;o__Clos...  k__Bacteria;p__Firmicutes;c__Clostridia;o__Clo...\n",
      "k__Bacteria;p__Firmicutes;c__Clostridia;o__Clos...  k__Bacteria;p__Firmicutes;c__Clostridia;o__Clo...\n",
      "k__Bacteria;p__Firmicutes;c__Clostridia;o__Clos...  k__Bacteria;p__Firmicutes;c__Clostridia;o__Clo...\n",
      "k__Bacteria;p__Firmicutes;c__Clostridia;o__MBA0...  k__Bacteria;p__Firmicutes;c__Clostridia;o__MBA...\n",
      "k__Bacteria;p__Firmicutes;c__Clostridia;o__OPB5...  k__Bacteria;p__Firmicutes;c__Clostridia;o__OPB...\n",
      "k__Bacteria;p__Firmicutes;c__Clostridia;o__Ther...  k__Bacteria;p__Firmicutes;c__Clostridia;o__The...\n",
      "k__Bacteria;p__Firmicutes;c__Clostridia;o__Ther...  k__Bacteria;p__Firmicutes;c__Clostridia;o__The...\n",
      "k__Bacteria;p__Firmicutes;c__Erysipelotrichi;o_...  k__Bacteria;p__Firmicutes;c__Erysipelotrichi;o...\n",
      "k__Bacteria;p__Firmicutes;c__Erysipelotrichi;o_...  k__Bacteria;p__Firmicutes;c__Erysipelotrichi;o...\n",
      "k__Bacteria;p__Firmicutes;c__Erysipelotrichi;o_...  k__Bacteria;p__Firmicutes;c__Erysipelotrichi;o...\n",
      "k__Bacteria;p__Firmicutes;c__Erysipelotrichi;o_...  k__Bacteria;p__Firmicutes;c__Erysipelotrichi;o...\n",
      "k__Bacteria;p__Firmicutes;c__Erysipelotrichi;o_...  k__Bacteria;p__Firmicutes;c__Erysipelotrichi;o...\n",
      "k__Bacteria;p__Firmicutes;c__Erysipelotrichi;o_...  k__Bacteria;p__Firmicutes;c__Erysipelotrichi;o...\n",
      "k__Bacteria;p__Firmicutes;c__Erysipelotrichi;o_...  k__Bacteria;p__Firmicutes;c__Erysipelotrichi;o...\n",
      "k__Bacteria;p__Firmicutes;c__Erysipelotrichi;o_...  k__Bacteria;p__Firmicutes;c__Erysipelotrichi;o...\n",
      "k__Bacteria;p__Fusobacteria;c__Fusobacteriia;o_...  k__Bacteria;p__Fusobacteria;c__Fusobacteriia;o...\n",
      "k__Bacteria;p__Fusobacteria;c__Fusobacteriia;o_...  k__Bacteria;p__Fusobacteria;c__Fusobacteriia;o...\n",
      "k__Bacteria;p__Fusobacteria;c__Fusobacteriia;o_...  k__Bacteria;p__Fusobacteria;c__Fusobacteriia;o...\n",
      "k__Bacteria;p__Fusobacteria;c__Fusobacteriia;o_...  k__Bacteria;p__Fusobacteria;c__Fusobacteriia;o...\n",
      "k__Bacteria;p__GN02;c__BD1-5;o__;f__;g__                     k__Bacteria;p__GN02;c__BD1-5;o__;f__;g__\n",
      "k__Bacteria;p__Gemmatimonadetes;c__Gemm-3;o__;f...  k__Bacteria;p__Gemmatimonadetes;c__Gemm-3;o__;...\n",
      "k__Bacteria;p__Gemmatimonadetes;c__Gemmatimonad...  k__Bacteria;p__Gemmatimonadetes;c__Gemmatimona...\n",
      "k__Bacteria;p__Gemmatimonadetes;c__Gemmatimonad...  k__Bacteria;p__Gemmatimonadetes;c__Gemmatimona...\n",
      "k__Bacteria;p__Gemmatimonadetes;c__Gemmatimonad...  k__Bacteria;p__Gemmatimonadetes;c__Gemmatimona...\n",
      "k__Bacteria;p__Gemmatimonadetes;c__Gemmatimonad...  k__Bacteria;p__Gemmatimonadetes;c__Gemmatimona...\n",
      "k__Bacteria;p__OD1;c__SM2F11;o__;f__;g__                     k__Bacteria;p__OD1;c__SM2F11;o__;f__;g__\n",
      "k__Bacteria;p__OP11;c__;o__;f__;g__                               k__Bacteria;p__OP11;c__;o__;f__;g__\n",
      "k__Bacteria;p__OP11;c__OP11-2;o__WCHB1-07;f__;g__   k__Bacteria;p__OP11;c__OP11-2;o__WCHB1-07;f__;g__\n",
      "k__Bacteria;p__Planctomycetes;c__Phycisphaerae;...  k__Bacteria;p__Planctomycetes;c__Phycisphaerae...\n",
      "k__Bacteria;p__Planctomycetes;c__Phycisphaerae;...  k__Bacteria;p__Planctomycetes;c__Phycisphaerae...\n",
      "k__Bacteria;p__Planctomycetes;c__Planctomycetia...  k__Bacteria;p__Planctomycetes;c__Planctomyceti...\n",
      "k__Bacteria;p__Planctomycetes;c__Planctomycetia...  k__Bacteria;p__Planctomycetes;c__Planctomyceti...\n",
      "k__Bacteria;p__Planctomycetes;c__Planctomycetia...  k__Bacteria;p__Planctomycetes;c__Planctomyceti...\n",
      "k__Bacteria;p__Planctomycetes;c__Planctomycetia...  k__Bacteria;p__Planctomycetes;c__Planctomyceti...\n",
      "k__Bacteria;p__Planctomycetes;c__Planctomycetia...  k__Bacteria;p__Planctomycetes;c__Planctomyceti...\n",
      "k__Bacteria;p__Planctomycetes;c__vadinHA49;o__P...  k__Bacteria;p__Planctomycetes;c__vadinHA49;o__...\n",
      "k__Bacteria;p__Proteobacteria;c__;o__;f__;g__           k__Bacteria;p__Proteobacteria;c__;o__;f__;g__\n",
      "k__Bacteria;p__Proteobacteria;c__Alphaproteobac...  k__Bacteria;p__Proteobacteria;c__Alphaproteoba...\n",
      "k__Bacteria;p__Proteobacteria;c__Alphaproteobac...  k__Bacteria;p__Proteobacteria;c__Alphaproteoba...\n",
      "k__Bacteria;p__Proteobacteria;c__Alphaproteobac...  k__Bacteria;p__Proteobacteria;c__Alphaproteoba...\n",
      "k__Bacteria;p__Proteobacteria;c__Alphaproteobac...  k__Bacteria;p__Proteobacteria;c__Alphaproteoba...\n",
      "k__Bacteria;p__Proteobacteria;c__Alphaproteobac...  k__Bacteria;p__Proteobacteria;c__Alphaproteoba...\n",
      "k__Bacteria;p__Proteobacteria;c__Alphaproteobac...  k__Bacteria;p__Proteobacteria;c__Alphaproteoba...\n",
      "k__Bacteria;p__Proteobacteria;c__Alphaproteobac...  k__Bacteria;p__Proteobacteria;c__Alphaproteoba...\n",
      "k__Bacteria;p__Proteobacteria;c__Alphaproteobac...  k__Bacteria;p__Proteobacteria;c__Alphaproteoba...\n",
      "k__Bacteria;p__Proteobacteria;c__Alphaproteobac...  k__Bacteria;p__Proteobacteria;c__Alphaproteoba...\n",
      "k__Bacteria;p__Proteobacteria;c__Alphaproteobac...  k__Bacteria;p__Proteobacteria;c__Alphaproteoba...\n",
      "k__Bacteria;p__Proteobacteria;c__Alphaproteobac...  k__Bacteria;p__Proteobacteria;c__Alphaproteoba...\n",
      "k__Bacteria;p__Proteobacteria;c__Alphaproteobac...  k__Bacteria;p__Proteobacteria;c__Alphaproteoba...\n",
      "k__Bacteria;p__Proteobacteria;c__Alphaproteobac...  k__Bacteria;p__Proteobacteria;c__Alphaproteoba...\n",
      "k__Bacteria;p__Proteobacteria;c__Alphaproteobac...  k__Bacteria;p__Proteobacteria;c__Alphaproteoba...\n",
      "k__Bacteria;p__Proteobacteria;c__Alphaproteobac...  k__Bacteria;p__Proteobacteria;c__Alphaproteoba...\n",
      "k__Bacteria;p__Proteobacteria;c__Alphaproteobac...  k__Bacteria;p__Proteobacteria;c__Alphaproteoba...\n",
      "k__Bacteria;p__Proteobacteria;c__Alphaproteobac...  k__Bacteria;p__Proteobacteria;c__Alphaproteoba...\n",
      "k__Bacteria;p__Proteobacteria;c__Alphaproteobac...  k__Bacteria;p__Proteobacteria;c__Alphaproteoba...\n",
      "k__Bacteria;p__Proteobacteria;c__Alphaproteobac...  k__Bacteria;p__Proteobacteria;c__Alphaproteoba...\n",
      "k__Bacteria;p__Proteobacteria;c__Alphaproteobac...  k__Bacteria;p__Proteobacteria;c__Alphaproteoba...\n",
      "k__Bacteria;p__Proteobacteria;c__Alphaproteobac...  k__Bacteria;p__Proteobacteria;c__Alphaproteoba...\n",
      "k__Bacteria;p__Proteobacteria;c__Alphaproteobac...  k__Bacteria;p__Proteobacteria;c__Alphaproteoba...\n",
      "k__Bacteria;p__Proteobacteria;c__Alphaproteobac...  k__Bacteria;p__Proteobacteria;c__Alphaproteoba...\n",
      "k__Bacteria;p__Proteobacteria;c__Alphaproteobac...  k__Bacteria;p__Proteobacteria;c__Alphaproteoba...\n",
      "k__Bacteria;p__Proteobacteria;c__Alphaproteobac...  k__Bacteria;p__Proteobacteria;c__Alphaproteoba...\n",
      "k__Bacteria;p__Proteobacteria;c__Alphaproteobac...  k__Bacteria;p__Proteobacteria;c__Alphaproteoba...\n",
      "k__Bacteria;p__Proteobacteria;c__Alphaproteobac...  k__Bacteria;p__Proteobacteria;c__Alphaproteoba...\n",
      "k__Bacteria;p__Proteobacteria;c__Alphaproteobac...  k__Bacteria;p__Proteobacteria;c__Alphaproteoba...\n",
      "k__Bacteria;p__Proteobacteria;c__Alphaproteobac...  k__Bacteria;p__Proteobacteria;c__Alphaproteoba...\n",
      "k__Bacteria;p__Proteobacteria;c__Alphaproteobac...  k__Bacteria;p__Proteobacteria;c__Alphaproteoba...\n",
      "k__Bacteria;p__Proteobacteria;c__Alphaproteobac...  k__Bacteria;p__Proteobacteria;c__Alphaproteoba...\n",
      "k__Bacteria;p__Proteobacteria;c__Alphaproteobac...  k__Bacteria;p__Proteobacteria;c__Alphaproteoba...\n",
      "k__Bacteria;p__Proteobacteria;c__Alphaproteobac...  k__Bacteria;p__Proteobacteria;c__Alphaproteoba...\n",
      "k__Bacteria;p__Proteobacteria;c__Alphaproteobac...  k__Bacteria;p__Proteobacteria;c__Alphaproteoba...\n",
      "k__Bacteria;p__Proteobacteria;c__Alphaproteobac...  k__Bacteria;p__Proteobacteria;c__Alphaproteoba...\n",
      "k__Bacteria;p__Proteobacteria;c__Alphaproteobac...  k__Bacteria;p__Proteobacteria;c__Alphaproteoba...\n",
      "k__Bacteria;p__Proteobacteria;c__Alphaproteobac...  k__Bacteria;p__Proteobacteria;c__Alphaproteoba...\n",
      "k__Bacteria;p__Proteobacteria;c__Alphaproteobac...  k__Bacteria;p__Proteobacteria;c__Alphaproteoba...\n",
      "k__Bacteria;p__Proteobacteria;c__Alphaproteobac...  k__Bacteria;p__Proteobacteria;c__Alphaproteoba...\n",
      "k__Bacteria;p__Proteobacteria;c__Alphaproteobac...  k__Bacteria;p__Proteobacteria;c__Alphaproteoba...\n",
      "k__Bacteria;p__Proteobacteria;c__Alphaproteobac...  k__Bacteria;p__Proteobacteria;c__Alphaproteoba...\n",
      "k__Bacteria;p__Proteobacteria;c__Alphaproteobac...  k__Bacteria;p__Proteobacteria;c__Alphaproteoba...\n",
      "k__Bacteria;p__Proteobacteria;c__Alphaproteobac...  k__Bacteria;p__Proteobacteria;c__Alphaproteoba...\n",
      "k__Bacteria;p__Proteobacteria;c__Alphaproteobac...  k__Bacteria;p__Proteobacteria;c__Alphaproteoba...\n",
      "k__Bacteria;p__Proteobacteria;c__Alphaproteobac...  k__Bacteria;p__Proteobacteria;c__Alphaproteoba...\n",
      "k__Bacteria;p__Proteobacteria;c__Alphaproteobac...  k__Bacteria;p__Proteobacteria;c__Alphaproteoba...\n",
      "k__Bacteria;p__Proteobacteria;c__Alphaproteobac...  k__Bacteria;p__Proteobacteria;c__Alphaproteoba...\n",
      "k__Bacteria;p__Proteobacteria;c__Alphaproteobac...  k__Bacteria;p__Proteobacteria;c__Alphaproteoba...\n",
      "k__Bacteria;p__Proteobacteria;c__Alphaproteobac...  k__Bacteria;p__Proteobacteria;c__Alphaproteoba...\n",
      "k__Bacteria;p__Proteobacteria;c__Alphaproteobac...  k__Bacteria;p__Proteobacteria;c__Alphaproteoba...\n",
      "k__Bacteria;p__Proteobacteria;c__Alphaproteobac...  k__Bacteria;p__Proteobacteria;c__Alphaproteoba...\n",
      "k__Bacteria;p__Proteobacteria;c__Alphaproteobac...  k__Bacteria;p__Proteobacteria;c__Alphaproteoba...\n",
      "k__Bacteria;p__Proteobacteria;c__Alphaproteobac...  k__Bacteria;p__Proteobacteria;c__Alphaproteoba...\n",
      "k__Bacteria;p__Proteobacteria;c__Alphaproteobac...  k__Bacteria;p__Proteobacteria;c__Alphaproteoba...\n",
      "k__Bacteria;p__Proteobacteria;c__Alphaproteobac...  k__Bacteria;p__Proteobacteria;c__Alphaproteoba...\n",
      "k__Bacteria;p__Proteobacteria;c__Alphaproteobac...  k__Bacteria;p__Proteobacteria;c__Alphaproteoba...\n",
      "k__Bacteria;p__Proteobacteria;c__Alphaproteobac...  k__Bacteria;p__Proteobacteria;c__Alphaproteoba...\n",
      "k__Bacteria;p__Proteobacteria;c__Alphaproteobac...  k__Bacteria;p__Proteobacteria;c__Alphaproteoba...\n",
      "k__Bacteria;p__Proteobacteria;c__Alphaproteobac...  k__Bacteria;p__Proteobacteria;c__Alphaproteoba...\n",
      "k__Bacteria;p__Proteobacteria;c__Alphaproteobac...  k__Bacteria;p__Proteobacteria;c__Alphaproteoba...\n",
      "k__Bacteria;p__Proteobacteria;c__Alphaproteobac...  k__Bacteria;p__Proteobacteria;c__Alphaproteoba...\n",
      "k__Bacteria;p__Proteobacteria;c__Alphaproteobac...  k__Bacteria;p__Proteobacteria;c__Alphaproteoba...\n",
      "k__Bacteria;p__Proteobacteria;c__Alphaproteobac...  k__Bacteria;p__Proteobacteria;c__Alphaproteoba...\n",
      "k__Bacteria;p__Proteobacteria;c__Alphaproteobac...  k__Bacteria;p__Proteobacteria;c__Alphaproteoba...\n",
      "k__Bacteria;p__Proteobacteria;c__Alphaproteobac...  k__Bacteria;p__Proteobacteria;c__Alphaproteoba...\n",
      "k__Bacteria;p__Proteobacteria;c__Alphaproteobac...  k__Bacteria;p__Proteobacteria;c__Alphaproteoba...\n",
      "k__Bacteria;p__Proteobacteria;c__Alphaproteobac...  k__Bacteria;p__Proteobacteria;c__Alphaproteoba...\n",
      "k__Bacteria;p__Proteobacteria;c__Alphaproteobac...  k__Bacteria;p__Proteobacteria;c__Alphaproteoba...\n",
      "k__Bacteria;p__Proteobacteria;c__Alphaproteobac...  k__Bacteria;p__Proteobacteria;c__Alphaproteoba...\n",
      "k__Bacteria;p__Proteobacteria;c__Alphaproteobac...  k__Bacteria;p__Proteobacteria;c__Alphaproteoba...\n",
      "k__Bacteria;p__Proteobacteria;c__Alphaproteobac...  k__Bacteria;p__Proteobacteria;c__Alphaproteoba...\n",
      "k__Bacteria;p__Proteobacteria;c__Alphaproteobac...  k__Bacteria;p__Proteobacteria;c__Alphaproteoba...\n",
      "k__Bacteria;p__Proteobacteria;c__Alphaproteobac...  k__Bacteria;p__Proteobacteria;c__Alphaproteoba...\n",
      "k__Bacteria;p__Proteobacteria;c__Alphaproteobac...  k__Bacteria;p__Proteobacteria;c__Alphaproteoba...\n",
      "k__Bacteria;p__Proteobacteria;c__Alphaproteobac...  k__Bacteria;p__Proteobacteria;c__Alphaproteoba...\n",
      "k__Bacteria;p__Proteobacteria;c__Alphaproteobac...  k__Bacteria;p__Proteobacteria;c__Alphaproteoba...\n",
      "k__Bacteria;p__Proteobacteria;c__Alphaproteobac...  k__Bacteria;p__Proteobacteria;c__Alphaproteoba...\n",
      "k__Bacteria;p__Proteobacteria;c__Alphaproteobac...  k__Bacteria;p__Proteobacteria;c__Alphaproteoba...\n",
      "k__Bacteria;p__Proteobacteria;c__Alphaproteobac...  k__Bacteria;p__Proteobacteria;c__Alphaproteoba...\n",
      "k__Bacteria;p__Proteobacteria;c__Betaproteobact...  k__Bacteria;p__Proteobacteria;c__Betaproteobac...\n",
      "k__Bacteria;p__Proteobacteria;c__Betaproteobact...  k__Bacteria;p__Proteobacteria;c__Betaproteobac...\n",
      "k__Bacteria;p__Proteobacteria;c__Betaproteobact...  k__Bacteria;p__Proteobacteria;c__Betaproteobac...\n",
      "k__Bacteria;p__Proteobacteria;c__Betaproteobact...  k__Bacteria;p__Proteobacteria;c__Betaproteobac...\n",
      "k__Bacteria;p__Proteobacteria;c__Betaproteobact...  k__Bacteria;p__Proteobacteria;c__Betaproteobac...\n",
      "k__Bacteria;p__Proteobacteria;c__Betaproteobact...  k__Bacteria;p__Proteobacteria;c__Betaproteobac...\n",
      "k__Bacteria;p__Proteobacteria;c__Betaproteobact...  k__Bacteria;p__Proteobacteria;c__Betaproteobac...\n",
      "k__Bacteria;p__Proteobacteria;c__Betaproteobact...  k__Bacteria;p__Proteobacteria;c__Betaproteobac...\n",
      "k__Bacteria;p__Proteobacteria;c__Betaproteobact...  k__Bacteria;p__Proteobacteria;c__Betaproteobac...\n",
      "k__Bacteria;p__Proteobacteria;c__Betaproteobact...  k__Bacteria;p__Proteobacteria;c__Betaproteobac...\n",
      "k__Bacteria;p__Proteobacteria;c__Betaproteobact...  k__Bacteria;p__Proteobacteria;c__Betaproteobac...\n",
      "k__Bacteria;p__Proteobacteria;c__Betaproteobact...  k__Bacteria;p__Proteobacteria;c__Betaproteobac...\n",
      "k__Bacteria;p__Proteobacteria;c__Betaproteobact...  k__Bacteria;p__Proteobacteria;c__Betaproteobac...\n",
      "k__Bacteria;p__Proteobacteria;c__Betaproteobact...  k__Bacteria;p__Proteobacteria;c__Betaproteobac...\n",
      "k__Bacteria;p__Proteobacteria;c__Betaproteobact...  k__Bacteria;p__Proteobacteria;c__Betaproteobac...\n",
      "k__Bacteria;p__Proteobacteria;c__Betaproteobact...  k__Bacteria;p__Proteobacteria;c__Betaproteobac...\n",
      "k__Bacteria;p__Proteobacteria;c__Betaproteobact...  k__Bacteria;p__Proteobacteria;c__Betaproteobac...\n",
      "k__Bacteria;p__Proteobacteria;c__Betaproteobact...  k__Bacteria;p__Proteobacteria;c__Betaproteobac...\n",
      "k__Bacteria;p__Proteobacteria;c__Betaproteobact...  k__Bacteria;p__Proteobacteria;c__Betaproteobac...\n",
      "k__Bacteria;p__Proteobacteria;c__Betaproteobact...  k__Bacteria;p__Proteobacteria;c__Betaproteobac...\n",
      "k__Bacteria;p__Proteobacteria;c__Betaproteobact...  k__Bacteria;p__Proteobacteria;c__Betaproteobac...\n",
      "k__Bacteria;p__Proteobacteria;c__Betaproteobact...  k__Bacteria;p__Proteobacteria;c__Betaproteobac...\n",
      "k__Bacteria;p__Proteobacteria;c__Betaproteobact...  k__Bacteria;p__Proteobacteria;c__Betaproteobac...\n",
      "k__Bacteria;p__Proteobacteria;c__Betaproteobact...  k__Bacteria;p__Proteobacteria;c__Betaproteobac...\n",
      "k__Bacteria;p__Proteobacteria;c__Betaproteobact...  k__Bacteria;p__Proteobacteria;c__Betaproteobac...\n",
      "k__Bacteria;p__Proteobacteria;c__Betaproteobact...  k__Bacteria;p__Proteobacteria;c__Betaproteobac...\n",
      "k__Bacteria;p__Proteobacteria;c__Betaproteobact...  k__Bacteria;p__Proteobacteria;c__Betaproteobac...\n",
      "k__Bacteria;p__Proteobacteria;c__Betaproteobact...  k__Bacteria;p__Proteobacteria;c__Betaproteobac...\n",
      "k__Bacteria;p__Proteobacteria;c__Betaproteobact...  k__Bacteria;p__Proteobacteria;c__Betaproteobac...\n",
      "k__Bacteria;p__Proteobacteria;c__Betaproteobact...  k__Bacteria;p__Proteobacteria;c__Betaproteobac...\n",
      "k__Bacteria;p__Proteobacteria;c__Betaproteobact...  k__Bacteria;p__Proteobacteria;c__Betaproteobac...\n",
      "k__Bacteria;p__Proteobacteria;c__Betaproteobact...  k__Bacteria;p__Proteobacteria;c__Betaproteobac...\n",
      "k__Bacteria;p__Proteobacteria;c__Betaproteobact...  k__Bacteria;p__Proteobacteria;c__Betaproteobac...\n",
      "k__Bacteria;p__Proteobacteria;c__Betaproteobact...  k__Bacteria;p__Proteobacteria;c__Betaproteobac...\n",
      "k__Bacteria;p__Proteobacteria;c__Betaproteobact...  k__Bacteria;p__Proteobacteria;c__Betaproteobac...\n",
      "k__Bacteria;p__Proteobacteria;c__Betaproteobact...  k__Bacteria;p__Proteobacteria;c__Betaproteobac...\n",
      "k__Bacteria;p__Proteobacteria;c__Betaproteobact...  k__Bacteria;p__Proteobacteria;c__Betaproteobac...\n",
      "k__Bacteria;p__Proteobacteria;c__Betaproteobact...  k__Bacteria;p__Proteobacteria;c__Betaproteobac...\n",
      "k__Bacteria;p__Proteobacteria;c__Betaproteobact...  k__Bacteria;p__Proteobacteria;c__Betaproteobac...\n",
      "k__Bacteria;p__Proteobacteria;c__Betaproteobact...  k__Bacteria;p__Proteobacteria;c__Betaproteobac...\n",
      "k__Bacteria;p__Proteobacteria;c__Betaproteobact...  k__Bacteria;p__Proteobacteria;c__Betaproteobac...\n",
      "k__Bacteria;p__Proteobacteria;c__Betaproteobact...  k__Bacteria;p__Proteobacteria;c__Betaproteobac...\n",
      "k__Bacteria;p__Proteobacteria;c__Betaproteobact...  k__Bacteria;p__Proteobacteria;c__Betaproteobac...\n",
      "k__Bacteria;p__Proteobacteria;c__Betaproteobact...  k__Bacteria;p__Proteobacteria;c__Betaproteobac...\n",
      "k__Bacteria;p__Proteobacteria;c__Betaproteobact...  k__Bacteria;p__Proteobacteria;c__Betaproteobac...\n",
      "k__Bacteria;p__Proteobacteria;c__Betaproteobact...  k__Bacteria;p__Proteobacteria;c__Betaproteobac...\n",
      "k__Bacteria;p__Proteobacteria;c__Betaproteobact...  k__Bacteria;p__Proteobacteria;c__Betaproteobac...\n",
      "k__Bacteria;p__Proteobacteria;c__Betaproteobact...  k__Bacteria;p__Proteobacteria;c__Betaproteobac...\n",
      "k__Bacteria;p__Proteobacteria;c__Betaproteobact...  k__Bacteria;p__Proteobacteria;c__Betaproteobac...\n",
      "k__Bacteria;p__Proteobacteria;c__Betaproteobact...  k__Bacteria;p__Proteobacteria;c__Betaproteobac...\n",
      "k__Bacteria;p__Proteobacteria;c__Betaproteobact...  k__Bacteria;p__Proteobacteria;c__Betaproteobac...\n",
      "k__Bacteria;p__Proteobacteria;c__Betaproteobact...  k__Bacteria;p__Proteobacteria;c__Betaproteobac...\n",
      "k__Bacteria;p__Proteobacteria;c__Betaproteobact...  k__Bacteria;p__Proteobacteria;c__Betaproteobac...\n",
      "k__Bacteria;p__Proteobacteria;c__Betaproteobact...  k__Bacteria;p__Proteobacteria;c__Betaproteobac...\n",
      "k__Bacteria;p__Proteobacteria;c__Betaproteobact...  k__Bacteria;p__Proteobacteria;c__Betaproteobac...\n",
      "k__Bacteria;p__Proteobacteria;c__Betaproteobact...  k__Bacteria;p__Proteobacteria;c__Betaproteobac...\n",
      "k__Bacteria;p__Proteobacteria;c__Betaproteobact...  k__Bacteria;p__Proteobacteria;c__Betaproteobac...\n",
      "k__Bacteria;p__Proteobacteria;c__Betaproteobact...  k__Bacteria;p__Proteobacteria;c__Betaproteobac...\n",
      "k__Bacteria;p__Proteobacteria;c__Betaproteobact...  k__Bacteria;p__Proteobacteria;c__Betaproteobac...\n",
      "k__Bacteria;p__Proteobacteria;c__Deltaproteobac...  k__Bacteria;p__Proteobacteria;c__Deltaproteoba...\n",
      "k__Bacteria;p__Proteobacteria;c__Deltaproteobac...  k__Bacteria;p__Proteobacteria;c__Deltaproteoba...\n",
      "k__Bacteria;p__Proteobacteria;c__Deltaproteobac...  k__Bacteria;p__Proteobacteria;c__Deltaproteoba...\n",
      "k__Bacteria;p__Proteobacteria;c__Deltaproteobac...  k__Bacteria;p__Proteobacteria;c__Deltaproteoba...\n",
      "k__Bacteria;p__Proteobacteria;c__Deltaproteobac...  k__Bacteria;p__Proteobacteria;c__Deltaproteoba...\n",
      "k__Bacteria;p__Proteobacteria;c__Deltaproteobac...  k__Bacteria;p__Proteobacteria;c__Deltaproteoba...\n",
      "k__Bacteria;p__Proteobacteria;c__Deltaproteobac...  k__Bacteria;p__Proteobacteria;c__Deltaproteoba...\n",
      "k__Bacteria;p__Proteobacteria;c__Deltaproteobac...  k__Bacteria;p__Proteobacteria;c__Deltaproteoba...\n",
      "k__Bacteria;p__Proteobacteria;c__Deltaproteobac...  k__Bacteria;p__Proteobacteria;c__Deltaproteoba...\n",
      "k__Bacteria;p__Proteobacteria;c__Deltaproteobac...  k__Bacteria;p__Proteobacteria;c__Deltaproteoba...\n",
      "k__Bacteria;p__Proteobacteria;c__Deltaproteobac...  k__Bacteria;p__Proteobacteria;c__Deltaproteoba...\n",
      "k__Bacteria;p__Proteobacteria;c__Deltaproteobac...  k__Bacteria;p__Proteobacteria;c__Deltaproteoba...\n",
      "k__Bacteria;p__Proteobacteria;c__Deltaproteobac...  k__Bacteria;p__Proteobacteria;c__Deltaproteoba...\n",
      "k__Bacteria;p__Proteobacteria;c__Deltaproteobac...  k__Bacteria;p__Proteobacteria;c__Deltaproteoba...\n",
      "k__Bacteria;p__Proteobacteria;c__Deltaproteobac...  k__Bacteria;p__Proteobacteria;c__Deltaproteoba...\n",
      "k__Bacteria;p__Proteobacteria;c__Deltaproteobac...  k__Bacteria;p__Proteobacteria;c__Deltaproteoba...\n",
      "k__Bacteria;p__Proteobacteria;c__Deltaproteobac...  k__Bacteria;p__Proteobacteria;c__Deltaproteoba...\n",
      "k__Bacteria;p__Proteobacteria;c__Deltaproteobac...  k__Bacteria;p__Proteobacteria;c__Deltaproteoba...\n",
      "k__Bacteria;p__Proteobacteria;c__Deltaproteobac...  k__Bacteria;p__Proteobacteria;c__Deltaproteoba...\n",
      "k__Bacteria;p__Proteobacteria;c__Deltaproteobac...  k__Bacteria;p__Proteobacteria;c__Deltaproteoba...\n",
      "k__Bacteria;p__Proteobacteria;c__Epsilonproteob...  k__Bacteria;p__Proteobacteria;c__Epsilonproteo...\n",
      "k__Bacteria;p__Proteobacteria;c__Epsilonproteob...  k__Bacteria;p__Proteobacteria;c__Epsilonproteo...\n",
      "k__Bacteria;p__Proteobacteria;c__Gammaproteobac...  k__Bacteria;p__Proteobacteria;c__Gammaproteoba...\n",
      "k__Bacteria;p__Proteobacteria;c__Gammaproteobac...  k__Bacteria;p__Proteobacteria;c__Gammaproteoba...\n",
      "k__Bacteria;p__Proteobacteria;c__Gammaproteobac...  k__Bacteria;p__Proteobacteria;c__Gammaproteoba...\n",
      "k__Bacteria;p__Proteobacteria;c__Gammaproteobac...  k__Bacteria;p__Proteobacteria;c__Gammaproteoba...\n",
      "k__Bacteria;p__Proteobacteria;c__Gammaproteobac...  k__Bacteria;p__Proteobacteria;c__Gammaproteoba...\n",
      "k__Bacteria;p__Proteobacteria;c__Gammaproteobac...  k__Bacteria;p__Proteobacteria;c__Gammaproteoba...\n",
      "k__Bacteria;p__Proteobacteria;c__Gammaproteobac...  k__Bacteria;p__Proteobacteria;c__Gammaproteoba...\n",
      "k__Bacteria;p__Proteobacteria;c__Gammaproteobac...  k__Bacteria;p__Proteobacteria;c__Gammaproteoba...\n",
      "k__Bacteria;p__Proteobacteria;c__Gammaproteobac...  k__Bacteria;p__Proteobacteria;c__Gammaproteoba...\n",
      "k__Bacteria;p__Proteobacteria;c__Gammaproteobac...  k__Bacteria;p__Proteobacteria;c__Gammaproteoba...\n",
      "k__Bacteria;p__Proteobacteria;c__Gammaproteobac...  k__Bacteria;p__Proteobacteria;c__Gammaproteoba...\n",
      "k__Bacteria;p__Proteobacteria;c__Gammaproteobac...  k__Bacteria;p__Proteobacteria;c__Gammaproteoba...\n",
      "k__Bacteria;p__Proteobacteria;c__Gammaproteobac...  k__Bacteria;p__Proteobacteria;c__Gammaproteoba...\n",
      "k__Bacteria;p__Proteobacteria;c__Gammaproteobac...  k__Bacteria;p__Proteobacteria;c__Gammaproteoba...\n",
      "k__Bacteria;p__Proteobacteria;c__Gammaproteobac...  k__Bacteria;p__Proteobacteria;c__Gammaproteoba...\n",
      "k__Bacteria;p__Proteobacteria;c__Gammaproteobac...  k__Bacteria;p__Proteobacteria;c__Gammaproteoba...\n",
      "k__Bacteria;p__Proteobacteria;c__Gammaproteobac...  k__Bacteria;p__Proteobacteria;c__Gammaproteoba...\n",
      "k__Bacteria;p__Proteobacteria;c__Gammaproteobac...  k__Bacteria;p__Proteobacteria;c__Gammaproteoba...\n",
      "k__Bacteria;p__Proteobacteria;c__Gammaproteobac...  k__Bacteria;p__Proteobacteria;c__Gammaproteoba...\n",
      "k__Bacteria;p__Proteobacteria;c__Gammaproteobac...  k__Bacteria;p__Proteobacteria;c__Gammaproteoba...\n",
      "k__Bacteria;p__Proteobacteria;c__Gammaproteobac...  k__Bacteria;p__Proteobacteria;c__Gammaproteoba...\n",
      "k__Bacteria;p__Proteobacteria;c__Gammaproteobac...  k__Bacteria;p__Proteobacteria;c__Gammaproteoba...\n",
      "k__Bacteria;p__Proteobacteria;c__Gammaproteobac...  k__Bacteria;p__Proteobacteria;c__Gammaproteoba...\n",
      "k__Bacteria;p__Proteobacteria;c__Gammaproteobac...  k__Bacteria;p__Proteobacteria;c__Gammaproteoba...\n",
      "k__Bacteria;p__Proteobacteria;c__Gammaproteobac...  k__Bacteria;p__Proteobacteria;c__Gammaproteoba...\n",
      "k__Bacteria;p__Proteobacteria;c__Gammaproteobac...  k__Bacteria;p__Proteobacteria;c__Gammaproteoba...\n",
      "k__Bacteria;p__Proteobacteria;c__Gammaproteobac...  k__Bacteria;p__Proteobacteria;c__Gammaproteoba...\n",
      "k__Bacteria;p__Proteobacteria;c__Gammaproteobac...  k__Bacteria;p__Proteobacteria;c__Gammaproteoba...\n",
      "k__Bacteria;p__Proteobacteria;c__Gammaproteobac...  k__Bacteria;p__Proteobacteria;c__Gammaproteoba...\n",
      "k__Bacteria;p__Proteobacteria;c__Gammaproteobac...  k__Bacteria;p__Proteobacteria;c__Gammaproteoba...\n",
      "k__Bacteria;p__Proteobacteria;c__Gammaproteobac...  k__Bacteria;p__Proteobacteria;c__Gammaproteoba...\n",
      "k__Bacteria;p__Proteobacteria;c__Gammaproteobac...  k__Bacteria;p__Proteobacteria;c__Gammaproteoba...\n",
      "k__Bacteria;p__Proteobacteria;c__Gammaproteobac...  k__Bacteria;p__Proteobacteria;c__Gammaproteoba...\n",
      "k__Bacteria;p__Proteobacteria;c__Gammaproteobac...  k__Bacteria;p__Proteobacteria;c__Gammaproteoba...\n",
      "k__Bacteria;p__Proteobacteria;c__Gammaproteobac...  k__Bacteria;p__Proteobacteria;c__Gammaproteoba...\n",
      "k__Bacteria;p__Proteobacteria;c__Gammaproteobac...  k__Bacteria;p__Proteobacteria;c__Gammaproteoba...\n",
      "k__Bacteria;p__Proteobacteria;c__Gammaproteobac...  k__Bacteria;p__Proteobacteria;c__Gammaproteoba...\n",
      "k__Bacteria;p__Proteobacteria;c__Gammaproteobac...  k__Bacteria;p__Proteobacteria;c__Gammaproteoba...\n",
      "k__Bacteria;p__Proteobacteria;c__Gammaproteobac...  k__Bacteria;p__Proteobacteria;c__Gammaproteoba...\n",
      "k__Bacteria;p__Proteobacteria;c__Gammaproteobac...  k__Bacteria;p__Proteobacteria;c__Gammaproteoba...\n",
      "k__Bacteria;p__Proteobacteria;c__Gammaproteobac...  k__Bacteria;p__Proteobacteria;c__Gammaproteoba...\n",
      "k__Bacteria;p__Proteobacteria;c__Gammaproteobac...  k__Bacteria;p__Proteobacteria;c__Gammaproteoba...\n",
      "k__Bacteria;p__Proteobacteria;c__Gammaproteobac...  k__Bacteria;p__Proteobacteria;c__Gammaproteoba...\n",
      "k__Bacteria;p__Proteobacteria;c__Gammaproteobac...  k__Bacteria;p__Proteobacteria;c__Gammaproteoba...\n",
      "k__Bacteria;p__Proteobacteria;c__Gammaproteobac...  k__Bacteria;p__Proteobacteria;c__Gammaproteoba...\n",
      "k__Bacteria;p__Proteobacteria;c__Gammaproteobac...  k__Bacteria;p__Proteobacteria;c__Gammaproteoba...\n",
      "k__Bacteria;p__Proteobacteria;c__Gammaproteobac...  k__Bacteria;p__Proteobacteria;c__Gammaproteoba...\n",
      "k__Bacteria;p__Proteobacteria;c__Gammaproteobac...  k__Bacteria;p__Proteobacteria;c__Gammaproteoba...\n",
      "k__Bacteria;p__Proteobacteria;c__Gammaproteobac...  k__Bacteria;p__Proteobacteria;c__Gammaproteoba...\n",
      "k__Bacteria;p__Proteobacteria;c__Gammaproteobac...  k__Bacteria;p__Proteobacteria;c__Gammaproteoba...\n",
      "k__Bacteria;p__Proteobacteria;c__Gammaproteobac...  k__Bacteria;p__Proteobacteria;c__Gammaproteoba...\n",
      "k__Bacteria;p__Proteobacteria;c__Gammaproteobac...  k__Bacteria;p__Proteobacteria;c__Gammaproteoba...\n",
      "k__Bacteria;p__Proteobacteria;c__Gammaproteobac...  k__Bacteria;p__Proteobacteria;c__Gammaproteoba...\n",
      "k__Bacteria;p__Proteobacteria;c__Gammaproteobac...  k__Bacteria;p__Proteobacteria;c__Gammaproteoba...\n",
      "k__Bacteria;p__Proteobacteria;c__Gammaproteobac...  k__Bacteria;p__Proteobacteria;c__Gammaproteoba...\n",
      "k__Bacteria;p__Proteobacteria;c__Gammaproteobac...  k__Bacteria;p__Proteobacteria;c__Gammaproteoba...\n",
      "k__Bacteria;p__Proteobacteria;c__Gammaproteobac...  k__Bacteria;p__Proteobacteria;c__Gammaproteoba...\n",
      "k__Bacteria;p__Proteobacteria;c__Gammaproteobac...  k__Bacteria;p__Proteobacteria;c__Gammaproteoba...\n",
      "k__Bacteria;p__Proteobacteria;c__Gammaproteobac...  k__Bacteria;p__Proteobacteria;c__Gammaproteoba...\n",
      "k__Bacteria;p__Proteobacteria;c__Gammaproteobac...  k__Bacteria;p__Proteobacteria;c__Gammaproteoba...\n",
      "k__Bacteria;p__Proteobacteria;c__Gammaproteobac...  k__Bacteria;p__Proteobacteria;c__Gammaproteoba...\n",
      "k__Bacteria;p__Proteobacteria;c__Gammaproteobac...  k__Bacteria;p__Proteobacteria;c__Gammaproteoba...\n",
      "k__Bacteria;p__Proteobacteria;c__Gammaproteobac...  k__Bacteria;p__Proteobacteria;c__Gammaproteoba...\n",
      "k__Bacteria;p__Proteobacteria;c__Gammaproteobac...  k__Bacteria;p__Proteobacteria;c__Gammaproteoba...\n",
      "k__Bacteria;p__Proteobacteria;c__Gammaproteobac...  k__Bacteria;p__Proteobacteria;c__Gammaproteoba...\n",
      "k__Bacteria;p__Proteobacteria;c__Gammaproteobac...  k__Bacteria;p__Proteobacteria;c__Gammaproteoba...\n",
      "k__Bacteria;p__Proteobacteria;c__Gammaproteobac...  k__Bacteria;p__Proteobacteria;c__Gammaproteoba...\n",
      "k__Bacteria;p__Proteobacteria;c__Gammaproteobac...  k__Bacteria;p__Proteobacteria;c__Gammaproteoba...\n",
      "k__Bacteria;p__Proteobacteria;c__Gammaproteobac...  k__Bacteria;p__Proteobacteria;c__Gammaproteoba...\n",
      "k__Bacteria;p__Proteobacteria;c__Gammaproteobac...  k__Bacteria;p__Proteobacteria;c__Gammaproteoba...\n",
      "k__Bacteria;p__Spirochaetes;c__Spirochaetes;o__...  k__Bacteria;p__Spirochaetes;c__Spirochaetes;o_...\n",
      "k__Bacteria;p__Spirochaetes;c__Spirochaetes;o__...  k__Bacteria;p__Spirochaetes;c__Spirochaetes;o_...\n",
      "k__Bacteria;p__Synergistetes;c__Synergistia;o__...  k__Bacteria;p__Synergistetes;c__Synergistia;o_...\n",
      "k__Bacteria;p__Synergistetes;c__Synergistia;o__...  k__Bacteria;p__Synergistetes;c__Synergistia;o_...\n",
      "k__Bacteria;p__TM6;c__SJA-4;o__;f__;g__                       k__Bacteria;p__TM6;c__SJA-4;o__;f__;g__\n",
      "k__Bacteria;p__TM7;c__;o__;f__;g__                                 k__Bacteria;p__TM7;c__;o__;f__;g__\n",
      "k__Bacteria;p__TM7;c__TM7-1;o__;f__;g__                       k__Bacteria;p__TM7;c__TM7-1;o__;f__;g__\n",
      "k__Bacteria;p__TM7;c__TM7-3;o__;f__;g__                       k__Bacteria;p__TM7;c__TM7-3;o__;f__;g__\n",
      "k__Bacteria;p__TM7;c__TM7-3;o__I025;f__;g__               k__Bacteria;p__TM7;c__TM7-3;o__I025;f__;g__\n",
      "k__Bacteria;p__Tenericutes;c__Mollicutes;o__Ach...  k__Bacteria;p__Tenericutes;c__Mollicutes;o__Ac...\n",
      "k__Bacteria;p__Tenericutes;c__Mollicutes;o__Ach...  k__Bacteria;p__Tenericutes;c__Mollicutes;o__Ac...\n",
      "k__Bacteria;p__Tenericutes;c__Mollicutes;o__Ana...  k__Bacteria;p__Tenericutes;c__Mollicutes;o__An...\n",
      "k__Bacteria;p__Tenericutes;c__Mollicutes;o__Ana...  k__Bacteria;p__Tenericutes;c__Mollicutes;o__An...\n",
      "k__Bacteria;p__Tenericutes;c__Mollicutes;o__Ent...  k__Bacteria;p__Tenericutes;c__Mollicutes;o__En...\n",
      "k__Bacteria;p__Tenericutes;c__Mollicutes;o__RF3...  k__Bacteria;p__Tenericutes;c__Mollicutes;o__RF...\n",
      "k__Bacteria;p__Verrucomicrobia;c__Opitutae;o__;...  k__Bacteria;p__Verrucomicrobia;c__Opitutae;o__...\n",
      "k__Bacteria;p__Verrucomicrobia;c__Opitutae;o__O...  k__Bacteria;p__Verrucomicrobia;c__Opitutae;o__...\n",
      "k__Bacteria;p__Verrucomicrobia;c__Opitutae;o__O...  k__Bacteria;p__Verrucomicrobia;c__Opitutae;o__...\n",
      "k__Bacteria;p__Verrucomicrobia;c__Opitutae;o__P...  k__Bacteria;p__Verrucomicrobia;c__Opitutae;o__...\n",
      "k__Bacteria;p__Verrucomicrobia;c__Opitutae;o__[...  k__Bacteria;p__Verrucomicrobia;c__Opitutae;o__...\n",
      "k__Bacteria;p__Verrucomicrobia;c__Verrucomicrob...  k__Bacteria;p__Verrucomicrobia;c__Verrucomicro...\n",
      "k__Bacteria;p__Verrucomicrobia;c__Verrucomicrob...  k__Bacteria;p__Verrucomicrobia;c__Verrucomicro...\n",
      "k__Bacteria;p__Verrucomicrobia;c__Verrucomicrob...  k__Bacteria;p__Verrucomicrobia;c__Verrucomicro...\n",
      "k__Bacteria;p__Verrucomicrobia;c__Verrucomicrob...  k__Bacteria;p__Verrucomicrobia;c__Verrucomicro...\n",
      "k__Bacteria;p__Verrucomicrobia;c__[Spartobacter...  k__Bacteria;p__Verrucomicrobia;c__[Spartobacte...\n",
      "k__Bacteria;p__Verrucomicrobia;c__[Spartobacter...  k__Bacteria;p__Verrucomicrobia;c__[Spartobacte...\n",
      "k__Bacteria;p__Verrucomicrobia;c__[Spartobacter...  k__Bacteria;p__Verrucomicrobia;c__[Spartobacte...\n",
      "k__Bacteria;p__Verrucomicrobia;c__[Spartobacter...  k__Bacteria;p__Verrucomicrobia;c__[Spartobacte...\n",
      "k__Bacteria;p__Verrucomicrobia;c__[Spartobacter...  k__Bacteria;p__Verrucomicrobia;c__[Spartobacte...\n",
      "k__Bacteria;p__Verrucomicrobia;c__[Spartobacter...  k__Bacteria;p__Verrucomicrobia;c__[Spartobacte...\n",
      "k__Bacteria;p__WPS-2;c__;o__;f__;g__                             k__Bacteria;p__WPS-2;c__;o__;f__;g__\n",
      "k__Bacteria;p__[Thermi];c__Deinococci;o__Deinoc...  k__Bacteria;p__[Thermi];c__Deinococci;o__Deino...\n",
      "k__Bacteria;p__[Thermi];c__Deinococci;o__Deinoc...  k__Bacteria;p__[Thermi];c__Deinococci;o__Deino...\n",
      "k__Bacteria;p__[Thermi];c__Deinococci;o__Therma...  k__Bacteria;p__[Thermi];c__Deinococci;o__Therm...\n",
      "k__Bacteria;p__[Thermi];c__Deinococci;o__Therma...  k__Bacteria;p__[Thermi];c__Deinococci;o__Therm...\n"
     ]
    }
   ],
   "source": [
    "print(Spring_L6.feature_metadata)"
   ]
  },
  {
   "cell_type": "markdown",
   "metadata": {},
   "source": [
    "## Spring L6 modeling"
   ]
  },
  {
   "cell_type": "code",
   "execution_count": 29,
   "metadata": {},
   "outputs": [],
   "source": [
    "# groupKfold = 3, will leave out one body for each spring model\n",
    "gkf = GroupKFold(3)\n",
    "\n",
    "X = Spring_L6.data\n",
    "y = Spring_L6.sample_metadata['ADD_0']\n",
    "y = (y.astype(float))\n",
    "\n",
    "groups = Spring_L6.sample_metadata['host_subject_id']\n",
    "\n",
    "# used to test the param grid for parameter tuning\n",
    "# use the output of this estimator below for input into new estimator (not commented out)\n",
    "param_grid = {\"max_depth\": [4, 8, 16, None],\n",
    "              \"max_features\": ['sqrt', 'log2', 0.1],\n",
    "              \"min_samples_split\": [0.001, 0.01, 0.1],\n",
    "              \"min_weight_fraction_leaf\": [0.0001, 0.001, 0.01],\n",
    "              \"bootstrap\": [True, False]}\n",
    "\n",
    "#param_grid = {\"max_depth\": [8],\n",
    "#          \"max_features\": [0.1],\n",
    "#          \"min_samples_split\": [0.001],\n",
    "#          \"min_weight_fraction_leaf\": [0.0001],\n",
    "#          \"bootstrap\": [False]}\n",
    "\n",
    "rf = RandomForestRegressor(n_estimators=1000, random_state=999, criterion='mae')\n",
    "gs = GridSearchCV(rf, param_grid=param_grid, cv=gkf.split(X, y, groups), scoring='neg_mean_absolute_error', n_jobs=1)"
   ]
  },
  {
   "cell_type": "code",
   "execution_count": 30,
   "metadata": {},
   "outputs": [
    {
     "data": {
      "text/plain": [
       "GridSearchCV(cv=<generator object _BaseKFold.split at 0x11ffcd8d0>,\n",
       "             error_score=nan,\n",
       "             estimator=RandomForestRegressor(bootstrap=True, ccp_alpha=0.0,\n",
       "                                             criterion='mae', max_depth=None,\n",
       "                                             max_features='auto',\n",
       "                                             max_leaf_nodes=None,\n",
       "                                             max_samples=None,\n",
       "                                             min_impurity_decrease=0.0,\n",
       "                                             min_impurity_split=None,\n",
       "                                             min_samples_leaf=1,\n",
       "                                             min_samples_split=2,\n",
       "                                             min_weight_fraction_leaf=0.0,\n",
       "                                             n_es...\n",
       "                                             oob_score=False, random_state=999,\n",
       "                                             verbose=0, warm_start=False),\n",
       "             iid='deprecated', n_jobs=1,\n",
       "             param_grid={'bootstrap': [True, False],\n",
       "                         'max_depth': [4, 8, 16, None],\n",
       "                         'max_features': ['sqrt', 'log2', 0.1],\n",
       "                         'min_samples_split': [0.001, 0.01, 0.1],\n",
       "                         'min_weight_fraction_leaf': [0.0001, 0.001, 0.01]},\n",
       "             pre_dispatch='2*n_jobs', refit=True, return_train_score=False,\n",
       "             scoring='neg_mean_absolute_error', verbose=0)"
      ]
     },
     "execution_count": 30,
     "metadata": {},
     "output_type": "execute_result"
    }
   ],
   "source": [
    "gs.fit(X, y)"
   ]
  },
  {
   "cell_type": "code",
   "execution_count": 31,
   "metadata": {},
   "outputs": [
    {
     "name": "stdout",
     "output_type": "stream",
     "text": [
      "{'bootstrap': False, 'max_depth': 8, 'max_features': 0.1, 'min_samples_split': 0.001, 'min_weight_fraction_leaf': 0.0001}\n"
     ]
    }
   ],
   "source": [
    "# this line is used when run with the first param grid to determine what the best parameters are for tuning\n",
    "print(gs.best_params_)"
   ]
  },
  {
   "cell_type": "code",
   "execution_count": 32,
   "metadata": {},
   "outputs": [
    {
     "name": "stdout",
     "output_type": "stream",
     "text": [
      "The best mean absolute error is 884.32\n"
     ]
    }
   ],
   "source": [
    "print('The best mean absolute error is', round(-gs.best_score_,2))"
   ]
  },
  {
   "cell_type": "code",
   "execution_count": 33,
   "metadata": {},
   "outputs": [
    {
     "data": {
      "text/plain": [
       "['models/bone_spring_L6_no_metadata.pkl']"
      ]
     },
     "execution_count": 33,
     "metadata": {},
     "output_type": "execute_result"
    }
   ],
   "source": [
    "joblib.dump(gs.best_estimator_, 'models/bone_spring_L6_no_metadata.pkl')"
   ]
  },
  {
   "cell_type": "code",
   "execution_count": 34,
   "metadata": {},
   "outputs": [
    {
     "data": {
      "text/plain": [
       "RandomForestRegressor(bootstrap=False, ccp_alpha=0.0, criterion='mae',\n",
       "                      max_depth=8, max_features=0.1, max_leaf_nodes=None,\n",
       "                      max_samples=None, min_impurity_decrease=0.0,\n",
       "                      min_impurity_split=None, min_samples_leaf=1,\n",
       "                      min_samples_split=0.001, min_weight_fraction_leaf=0.0001,\n",
       "                      n_estimators=1000, n_jobs=None, oob_score=False,\n",
       "                      random_state=999, verbose=0, warm_start=False)"
      ]
     },
     "execution_count": 34,
     "metadata": {},
     "output_type": "execute_result"
    }
   ],
   "source": [
    "bone_spring_L6 = joblib.load('models/bone_spring_L6_no_metadata.pkl')\n",
    "bone_spring_L6"
   ]
  },
  {
   "cell_type": "markdown",
   "metadata": {},
   "source": [
    "## Determine important features of spring L6 model"
   ]
  },
  {
   "cell_type": "code",
   "execution_count": 36,
   "metadata": {},
   "outputs": [
    {
     "name": "stdout",
     "output_type": "stream",
     "text": [
      "Feature:\t\t\t\tImportance:\n",
      "1. k__Bacteria;p__Firmicutes;c__Clostridia;o__Clostridiales;f__[Tissierellaceae];g__Gallicola\t0.061123173745340494\n",
      "2. k__Bacteria;p__Actinobacteria;c__Actinobacteria;o__Actinomycetales;f__Promicromonosporaceae;g__Cellulosimicrobium\t0.06065807317052671\n",
      "3. k__Bacteria;p__Actinobacteria;c__Actinobacteria;o__Actinomycetales;f__Dietziaceae;g__Dietzia\t0.044960107070838216\n",
      "4. k__Bacteria;p__Firmicutes;c__Clostridia;o__Clostridiales;f__[Tissierellaceae];g__\t0.037520632187693144\n",
      "5. k__Bacteria;p__Proteobacteria;c__Alphaproteobacteria;o__Rhodospirillales;f__Acetobacteraceae;g__Roseococcus\t0.027498634101359696\n",
      "6. k__Bacteria;p__Proteobacteria;c__Betaproteobacteria;o__Burkholderiales;f__Comamonadaceae;g__Leptothrix\t0.02531771681357879\n",
      "7. k__Bacteria;p__Firmicutes;c__Clostridia;o__Clostridiales;f__[Tissierellaceae];g__Peptoniphilus\t0.02185763739339386\n",
      "8. k__Bacteria;p__Proteobacteria;c__Gammaproteobacteria;o__Pseudomonadales;f__Pseudomonadaceae;g__Pseudomonas\t0.02110239225124973\n",
      "9. k__Bacteria;p__Proteobacteria;c__Alphaproteobacteria;o__Caulobacterales;f__Caulobacteraceae;g__Phenylobacterium\t0.018330302931411534\n",
      "10. k__Bacteria;p__Proteobacteria;c__Gammaproteobacteria;o__;f__;g__\t0.017571319555327338\n",
      "11. k__Bacteria;p__Firmicutes;c__Bacilli;o__Bacillales;f__Bacillaceae;g__Bacillus\t0.01616614131904135\n",
      "12. k__Bacteria;p__Firmicutes;c__Bacilli;o__Bacillales;f__Planococcaceae;g__Sporosarcina\t0.015189986400462862\n",
      "13. k__Bacteria;p__Proteobacteria;c__Gammaproteobacteria;o__Xanthomonadales;f__Xanthomonadaceae;g__Stenotrophomonas\t0.014818043068825473\n",
      "14. k__Bacteria;p__Firmicutes;c__Bacilli;o__Gemellales;f__Gemellaceae;g__Gemella\t0.014220312552890104\n",
      "15. k__Bacteria;p__Firmicutes;c__Clostridia;o__Clostridiales;f__Peptostreptococcaceae;g__Peptostreptococcus\t0.013996549323207793\n",
      "16. k__Bacteria;p__Proteobacteria;c__Alphaproteobacteria;o__Sphingomonadales;f__Sphingomonadaceae;g__Sphingobium\t0.013837917649596012\n",
      "17. k__Bacteria;p__Proteobacteria;c__Gammaproteobacteria;o__Enterobacteriales;f__Enterobacteriaceae;g__Providencia\t0.013316787776660507\n",
      "18. k__Bacteria;p__Proteobacteria;c__Alphaproteobacteria;o__Caulobacterales;f__Caulobacteraceae;g__\t0.0129738765910772\n",
      "19. k__Bacteria;p__Proteobacteria;c__Gammaproteobacteria;o__Pasteurellales;f__Pasteurellaceae;g__Haemophilus\t0.012434885031951611\n",
      "20. k__Bacteria;p__Proteobacteria;c__Betaproteobacteria;o__Burkholderiales;f__Alcaligenaceae;g__Achromobacter\t0.012359357199590477\n",
      "21. k__Bacteria;p__Firmicutes;c__Erysipelotrichi;o__Erysipelotrichales;f__Erysipelotrichaceae;__\t0.01229845051024812\n",
      "22. k__Bacteria;p__Firmicutes;c__Clostridia;o__Clostridiales;f__Lachnospiraceae;g__\t0.011727816673916066\n",
      "23. k__Bacteria;p__Actinobacteria;c__Actinobacteria;o__Actinomycetales;f__Dermabacteraceae;g__Brachybacterium\t0.011148135863112375\n",
      "24. k__Bacteria;p__Proteobacteria;c__Alphaproteobacteria;o__Rhizobiales;f__Brucellaceae;g__Ochrobactrum\t0.010871893563278794\n",
      "25. k__Bacteria;p__Actinobacteria;c__Actinobacteria;o__Actinomycetales;f__Micrococcaceae;g__Rothia\t0.01049905438166893\n"
     ]
    }
   ],
   "source": [
    "importances = bone_spring_L6.feature_importances_\n",
    "std = np.std([tree.feature_importances_ for tree in bone_spring_L6.estimators_],\n",
    "             axis=0)\n",
    "indices = np.argsort(importances)[::-1]\n",
    "\n",
    "feature_metadata = Spring_L6.feature_metadata\n",
    "np.savetxt(\"importances/bone_spring_L6_no_metadata_features.csv\", feature_metadata, delimiter=\",\", fmt='%s')\n",
    "\n",
    "\n",
    "#print the important ids in order\n",
    "general_importances = []\n",
    "count = 0\n",
    "print(\"Feature:\\t\\t\\t\\tImportance:\")\n",
    "for i in indices:\n",
    "    general_importances += (Spring_L6.feature_metadata.index.values[i], importances[indices[count]])\n",
    "    if count < 25:\n",
    "        print(str(count+1)+\". \"+str(Spring_L6.feature_metadata.index.values[i])+\"\\t\"+str(importances[indices[count]]))\n",
    "    count += 1\n",
    "    \n",
    "general_importances_df = pd.DataFrame(np.array(general_importances).reshape(1104,1))\n",
    "\n",
    "np.savetxt(\"importances/bone_spring_L6_no_features_importances.csv\", general_importances_df, delimiter=\",\", fmt='%s')"
   ]
  },
  {
   "cell_type": "markdown",
   "metadata": {},
   "source": [
    "## Import rarefied table collapsed at level 5"
   ]
  },
  {
   "cell_type": "code",
   "execution_count": 37,
   "metadata": {},
   "outputs": [
    {
     "name": "stdout",
     "output_type": "stream",
     "text": [
      "2020-06-29 10:12:47 WARNING These have metadata but do not have data - dropped (51): {'11553.BLANKrib.5B', '11553.BLANKrib.11H', '11553.BLANKrib.9B', '11553.CSU.extraction.blank8', '11553.CSU.extraction.blank6', '11553.BLANKrib.11A', '11553.BLANKrib.11G', '11553.BLANKrib.12D', '11553.BLANKrib.10E', '11553.STAFS.2016.064.L12', '11553.CSU.extraction.blank11', '11553.BLANKrib.9E', '11553.CSU.extraction.blank14', '11553.BLANKrib.10D', '11553.CSU.extraction.blank12', '11553.BLANKrib.9A', '11553.SHSU.STAFS2016.007.R11', '11553.CSU.extraction.blank10', '11553.BLANKrib.9C', '11553.BLANKrib.12E', '11553.BLANKrib.12B', '11553.BLANKrib.9D', '11553.CSU.extraction.blank15', '11553.BLANKrib.12G', '11553.BLANKrib.12F', '11553.BLANKrib.10H', '11553.CSU.extraction.blank7', '11553.BLANKrib.11E', '11553.BLANKrib.11C', '11553.BLANKrib.10A', '11553.CSU.extraction.blank4', '11553.BLANKrib.12C', '11553.BLANKrib.9H', '11553.CSU.extraction.blank9', '11553.BLANKrib.11B', '11553.BLANKrib.12H', '11553.CSU.extraction.blank5', '11553.CSU.extraction.blank2', '11553.BLANKrib.10C', '11553.BLANKrib.11F', '11553.CSU.extraction.blank1', '11553.BLANKrib.10B', '11553.BLANKrib.12A', '11553.CSU.extraction.blank13', '11553.CSU.extraction.blank3', '11553.BLANKrib.11D', '11553.BLANKrib.9F', '11553.BLANKrib.10F', '11553.BLANKrib.10G', '11553.BLANKrib.9G', '11553.SHSU.STAFS2016.011.L09'}\n"
     ]
    }
   ],
   "source": [
    "exp_L5 = ca.read_amplicon('/Users/heatherdeel/Dropbox/PMI_3_analyses/bone/01_16S/01_qiime2_analysis/feature_tables/collapsed_tables/frag_ins_noChloMito_17098_L5_table.biom', '../02_metadata/maps/map3.txt', min_reads=0, normalize = None)\n"
   ]
  },
  {
   "cell_type": "code",
   "execution_count": 38,
   "metadata": {},
   "outputs": [
    {
     "data": {
      "text/plain": [
       "STAFS2016.011    8\n",
       "STAFS2016.024    7\n",
       "STAFS2016.007    7\n",
       "Name: host_subject_id, dtype: int64"
      ]
     },
     "execution_count": 38,
     "metadata": {},
     "output_type": "execute_result"
    }
   ],
   "source": [
    "# filter to spring\n",
    "Spring_L5 = exp_L5.filter_samples('season', 'spring')\n",
    "Spring_L5.sample_metadata.host_subject_id.value_counts()"
   ]
  },
  {
   "cell_type": "code",
   "execution_count": 39,
   "metadata": {},
   "outputs": [
    {
     "name": "stdout",
     "output_type": "stream",
     "text": [
      "                                                                                          _feature_id\n",
      "k__Archaea;p__Crenarchaeota;c__Thaumarchaeota;o...  k__Archaea;p__Crenarchaeota;c__Thaumarchaeota;...\n",
      "k__Archaea;p__Euryarchaeota;c__Methanobacteria;...  k__Archaea;p__Euryarchaeota;c__Methanobacteria...\n",
      "k__Bacteria;__;__;__;__                                                       k__Bacteria;__;__;__;__\n",
      "k__Bacteria;p__Acidobacteria;c__DA052;o__Ellin6...  k__Bacteria;p__Acidobacteria;c__DA052;o__Ellin...\n",
      "k__Bacteria;p__Acidobacteria;c__Solibacteres;o_...  k__Bacteria;p__Acidobacteria;c__Solibacteres;o...\n",
      "k__Bacteria;p__Acidobacteria;c__[Chloracidobact...  k__Bacteria;p__Acidobacteria;c__[Chloracidobac...\n",
      "k__Bacteria;p__Acidobacteria;c__[Chloracidobact...  k__Bacteria;p__Acidobacteria;c__[Chloracidobac...\n",
      "k__Bacteria;p__Actinobacteria;c__Acidimicrobiia...  k__Bacteria;p__Actinobacteria;c__Acidimicrobii...\n",
      "k__Bacteria;p__Actinobacteria;c__Acidimicrobiia...  k__Bacteria;p__Actinobacteria;c__Acidimicrobii...\n",
      "k__Bacteria;p__Actinobacteria;c__Acidimicrobiia...  k__Bacteria;p__Actinobacteria;c__Acidimicrobii...\n",
      "k__Bacteria;p__Actinobacteria;c__Acidimicrobiia...  k__Bacteria;p__Actinobacteria;c__Acidimicrobii...\n",
      "k__Bacteria;p__Actinobacteria;c__Acidimicrobiia...  k__Bacteria;p__Actinobacteria;c__Acidimicrobii...\n",
      "k__Bacteria;p__Actinobacteria;c__Actinobacteria...  k__Bacteria;p__Actinobacteria;c__Actinobacteri...\n",
      "k__Bacteria;p__Actinobacteria;c__Actinobacteria...  k__Bacteria;p__Actinobacteria;c__Actinobacteri...\n",
      "k__Bacteria;p__Actinobacteria;c__Actinobacteria...  k__Bacteria;p__Actinobacteria;c__Actinobacteri...\n",
      "k__Bacteria;p__Actinobacteria;c__Actinobacteria...  k__Bacteria;p__Actinobacteria;c__Actinobacteri...\n",
      "k__Bacteria;p__Actinobacteria;c__Actinobacteria...  k__Bacteria;p__Actinobacteria;c__Actinobacteri...\n",
      "k__Bacteria;p__Actinobacteria;c__Actinobacteria...  k__Bacteria;p__Actinobacteria;c__Actinobacteri...\n",
      "k__Bacteria;p__Actinobacteria;c__Actinobacteria...  k__Bacteria;p__Actinobacteria;c__Actinobacteri...\n",
      "k__Bacteria;p__Actinobacteria;c__Actinobacteria...  k__Bacteria;p__Actinobacteria;c__Actinobacteri...\n",
      "k__Bacteria;p__Actinobacteria;c__Actinobacteria...  k__Bacteria;p__Actinobacteria;c__Actinobacteri...\n",
      "k__Bacteria;p__Actinobacteria;c__Actinobacteria...  k__Bacteria;p__Actinobacteria;c__Actinobacteri...\n",
      "k__Bacteria;p__Actinobacteria;c__Actinobacteria...  k__Bacteria;p__Actinobacteria;c__Actinobacteri...\n",
      "k__Bacteria;p__Actinobacteria;c__Actinobacteria...  k__Bacteria;p__Actinobacteria;c__Actinobacteri...\n",
      "k__Bacteria;p__Actinobacteria;c__Actinobacteria...  k__Bacteria;p__Actinobacteria;c__Actinobacteri...\n",
      "k__Bacteria;p__Actinobacteria;c__Actinobacteria...  k__Bacteria;p__Actinobacteria;c__Actinobacteri...\n",
      "k__Bacteria;p__Actinobacteria;c__Actinobacteria...  k__Bacteria;p__Actinobacteria;c__Actinobacteri...\n",
      "k__Bacteria;p__Actinobacteria;c__Actinobacteria...  k__Bacteria;p__Actinobacteria;c__Actinobacteri...\n",
      "k__Bacteria;p__Actinobacteria;c__Actinobacteria...  k__Bacteria;p__Actinobacteria;c__Actinobacteri...\n",
      "k__Bacteria;p__Actinobacteria;c__Actinobacteria...  k__Bacteria;p__Actinobacteria;c__Actinobacteri...\n",
      "k__Bacteria;p__Actinobacteria;c__Actinobacteria...  k__Bacteria;p__Actinobacteria;c__Actinobacteri...\n",
      "k__Bacteria;p__Actinobacteria;c__Actinobacteria...  k__Bacteria;p__Actinobacteria;c__Actinobacteri...\n",
      "k__Bacteria;p__Actinobacteria;c__Actinobacteria...  k__Bacteria;p__Actinobacteria;c__Actinobacteri...\n",
      "k__Bacteria;p__Actinobacteria;c__Actinobacteria...  k__Bacteria;p__Actinobacteria;c__Actinobacteri...\n",
      "k__Bacteria;p__Actinobacteria;c__Actinobacteria...  k__Bacteria;p__Actinobacteria;c__Actinobacteri...\n",
      "k__Bacteria;p__Actinobacteria;c__Actinobacteria...  k__Bacteria;p__Actinobacteria;c__Actinobacteri...\n",
      "k__Bacteria;p__Actinobacteria;c__Actinobacteria...  k__Bacteria;p__Actinobacteria;c__Actinobacteri...\n",
      "k__Bacteria;p__Actinobacteria;c__Actinobacteria...  k__Bacteria;p__Actinobacteria;c__Actinobacteri...\n",
      "k__Bacteria;p__Actinobacteria;c__Actinobacteria...  k__Bacteria;p__Actinobacteria;c__Actinobacteri...\n",
      "k__Bacteria;p__Actinobacteria;c__Actinobacteria...  k__Bacteria;p__Actinobacteria;c__Actinobacteri...\n",
      "k__Bacteria;p__Actinobacteria;c__Actinobacteria...  k__Bacteria;p__Actinobacteria;c__Actinobacteri...\n",
      "k__Bacteria;p__Actinobacteria;c__Actinobacteria...  k__Bacteria;p__Actinobacteria;c__Actinobacteri...\n",
      "k__Bacteria;p__Actinobacteria;c__Actinobacteria...  k__Bacteria;p__Actinobacteria;c__Actinobacteri...\n",
      "k__Bacteria;p__Actinobacteria;c__Actinobacteria...  k__Bacteria;p__Actinobacteria;c__Actinobacteri...\n",
      "k__Bacteria;p__Actinobacteria;c__Actinobacteria...  k__Bacteria;p__Actinobacteria;c__Actinobacteri...\n",
      "k__Bacteria;p__Actinobacteria;c__Actinobacteria...  k__Bacteria;p__Actinobacteria;c__Actinobacteri...\n",
      "k__Bacteria;p__Actinobacteria;c__Actinobacteria...  k__Bacteria;p__Actinobacteria;c__Actinobacteri...\n",
      "k__Bacteria;p__Actinobacteria;c__Coriobacteriia...  k__Bacteria;p__Actinobacteria;c__Coriobacterii...\n",
      "k__Bacteria;p__Actinobacteria;c__Rubrobacteria;...  k__Bacteria;p__Actinobacteria;c__Rubrobacteria...\n",
      "k__Bacteria;p__Actinobacteria;c__Thermoleophili...  k__Bacteria;p__Actinobacteria;c__Thermoleophil...\n",
      "k__Bacteria;p__Actinobacteria;c__Thermoleophili...  k__Bacteria;p__Actinobacteria;c__Thermoleophil...\n",
      "k__Bacteria;p__Actinobacteria;c__Thermoleophili...  k__Bacteria;p__Actinobacteria;c__Thermoleophil...\n",
      "k__Bacteria;p__Actinobacteria;c__Thermoleophili...  k__Bacteria;p__Actinobacteria;c__Thermoleophil...\n",
      "k__Bacteria;p__Actinobacteria;c__Thermoleophili...  k__Bacteria;p__Actinobacteria;c__Thermoleophil...\n",
      "k__Bacteria;p__Armatimonadetes;c__Armatimonadia...  k__Bacteria;p__Armatimonadetes;c__Armatimonadi...\n",
      "k__Bacteria;p__Armatimonadetes;c__SHA-37;o__;f__     k__Bacteria;p__Armatimonadetes;c__SHA-37;o__;f__\n",
      "k__Bacteria;p__Armatimonadetes;c__SJA-176;o__GA...  k__Bacteria;p__Armatimonadetes;c__SJA-176;o__G...\n",
      "k__Bacteria;p__Armatimonadetes;c__[Fimbriimonad...  k__Bacteria;p__Armatimonadetes;c__[Fimbriimona...\n",
      "k__Bacteria;p__BRC1;c__PRR-11;o__;f__                           k__Bacteria;p__BRC1;c__PRR-11;o__;f__\n",
      "k__Bacteria;p__Bacteroidetes;c__Bacteroidia;o__...  k__Bacteria;p__Bacteroidetes;c__Bacteroidia;o_...\n",
      "k__Bacteria;p__Bacteroidetes;c__Bacteroidia;o__...  k__Bacteria;p__Bacteroidetes;c__Bacteroidia;o_...\n",
      "k__Bacteria;p__Bacteroidetes;c__Bacteroidia;o__...  k__Bacteria;p__Bacteroidetes;c__Bacteroidia;o_...\n",
      "k__Bacteria;p__Bacteroidetes;c__Bacteroidia;o__...  k__Bacteria;p__Bacteroidetes;c__Bacteroidia;o_...\n",
      "k__Bacteria;p__Bacteroidetes;c__Bacteroidia;o__...  k__Bacteria;p__Bacteroidetes;c__Bacteroidia;o_...\n",
      "k__Bacteria;p__Bacteroidetes;c__Bacteroidia;o__...  k__Bacteria;p__Bacteroidetes;c__Bacteroidia;o_...\n",
      "k__Bacteria;p__Bacteroidetes;c__Bacteroidia;o__...  k__Bacteria;p__Bacteroidetes;c__Bacteroidia;o_...\n",
      "k__Bacteria;p__Bacteroidetes;c__Bacteroidia;o__...  k__Bacteria;p__Bacteroidetes;c__Bacteroidia;o_...\n",
      "k__Bacteria;p__Bacteroidetes;c__Bacteroidia;o__...  k__Bacteria;p__Bacteroidetes;c__Bacteroidia;o_...\n",
      "k__Bacteria;p__Bacteroidetes;c__Cytophagia;o__C...  k__Bacteria;p__Bacteroidetes;c__Cytophagia;o__...\n",
      "k__Bacteria;p__Bacteroidetes;c__Cytophagia;o__C...  k__Bacteria;p__Bacteroidetes;c__Cytophagia;o__...\n",
      "k__Bacteria;p__Bacteroidetes;c__Cytophagia;o__C...  k__Bacteria;p__Bacteroidetes;c__Cytophagia;o__...\n",
      "k__Bacteria;p__Bacteroidetes;c__Flavobacteriia;...  k__Bacteria;p__Bacteroidetes;c__Flavobacteriia...\n",
      "k__Bacteria;p__Bacteroidetes;c__Flavobacteriia;...  k__Bacteria;p__Bacteroidetes;c__Flavobacteriia...\n",
      "k__Bacteria;p__Bacteroidetes;c__Flavobacteriia;...  k__Bacteria;p__Bacteroidetes;c__Flavobacteriia...\n",
      "k__Bacteria;p__Bacteroidetes;c__Sphingobacterii...  k__Bacteria;p__Bacteroidetes;c__Sphingobacteri...\n",
      "k__Bacteria;p__Bacteroidetes;c__[Saprospirae];o...  k__Bacteria;p__Bacteroidetes;c__[Saprospirae];...\n",
      "k__Bacteria;p__Bacteroidetes;c__[Saprospirae];o...  k__Bacteria;p__Bacteroidetes;c__[Saprospirae];...\n",
      "k__Bacteria;p__Bacteroidetes;c__[Saprospirae];o...  k__Bacteria;p__Bacteroidetes;c__[Saprospirae];...\n",
      "k__Bacteria;p__Chlorobi;c__OPB56;o__;f__                     k__Bacteria;p__Chlorobi;c__OPB56;o__;f__\n",
      "k__Bacteria;p__Chloroflexi;c__Chloroflexi;o__AK...  k__Bacteria;p__Chloroflexi;c__Chloroflexi;o__A...\n",
      "k__Bacteria;p__Chloroflexi;c__Ellin6529;o__;f__       k__Bacteria;p__Chloroflexi;c__Ellin6529;o__;f__\n",
      "k__Bacteria;p__Chloroflexi;c__Thermomicrobia;o_...  k__Bacteria;p__Chloroflexi;c__Thermomicrobia;o...\n",
      "k__Bacteria;p__Chloroflexi;c__Thermomicrobia;o_...  k__Bacteria;p__Chloroflexi;c__Thermomicrobia;o...\n",
      "k__Bacteria;p__Cyanobacteria;c__4C0d-2;o__SM1D1...  k__Bacteria;p__Cyanobacteria;c__4C0d-2;o__SM1D...\n",
      "k__Bacteria;p__Cyanobacteria;c__4C0d-2;o__YS2;f__   k__Bacteria;p__Cyanobacteria;c__4C0d-2;o__YS2;f__\n",
      "k__Bacteria;p__Cyanobacteria;c__ML635J-21;o__;f__   k__Bacteria;p__Cyanobacteria;c__ML635J-21;o__;f__\n",
      "k__Bacteria;p__Cyanobacteria;c__Oscillatoriophy...  k__Bacteria;p__Cyanobacteria;c__Oscillatorioph...\n",
      "k__Bacteria;p__Deferribacteres;c__Deferribacter...  k__Bacteria;p__Deferribacteres;c__Deferribacte...\n",
      "k__Bacteria;p__FBP;c__;o__;f__                                         k__Bacteria;p__FBP;c__;o__;f__\n",
      "k__Bacteria;p__Firmicutes;c__AHT28;o__;f__                 k__Bacteria;p__Firmicutes;c__AHT28;o__;f__\n",
      "k__Bacteria;p__Firmicutes;c__Bacilli;o__Bacilla...  k__Bacteria;p__Firmicutes;c__Bacilli;o__Bacill...\n",
      "k__Bacteria;p__Firmicutes;c__Bacilli;o__Bacilla...  k__Bacteria;p__Firmicutes;c__Bacilli;o__Bacill...\n",
      "k__Bacteria;p__Firmicutes;c__Bacilli;o__Bacilla...  k__Bacteria;p__Firmicutes;c__Bacilli;o__Bacill...\n",
      "k__Bacteria;p__Firmicutes;c__Bacilli;o__Bacilla...  k__Bacteria;p__Firmicutes;c__Bacilli;o__Bacill...\n",
      "k__Bacteria;p__Firmicutes;c__Bacilli;o__Bacilla...  k__Bacteria;p__Firmicutes;c__Bacilli;o__Bacill...\n",
      "k__Bacteria;p__Firmicutes;c__Bacilli;o__Bacilla...  k__Bacteria;p__Firmicutes;c__Bacilli;o__Bacill...\n",
      "k__Bacteria;p__Firmicutes;c__Bacilli;o__Bacilla...  k__Bacteria;p__Firmicutes;c__Bacilli;o__Bacill...\n",
      "k__Bacteria;p__Firmicutes;c__Bacilli;o__Bacilla...  k__Bacteria;p__Firmicutes;c__Bacilli;o__Bacill...\n",
      "k__Bacteria;p__Firmicutes;c__Bacilli;o__Gemella...  k__Bacteria;p__Firmicutes;c__Bacilli;o__Gemell...\n",
      "k__Bacteria;p__Firmicutes;c__Bacilli;o__Gemella...  k__Bacteria;p__Firmicutes;c__Bacilli;o__Gemell...\n",
      "k__Bacteria;p__Firmicutes;c__Bacilli;o__Lactoba...  k__Bacteria;p__Firmicutes;c__Bacilli;o__Lactob...\n",
      "k__Bacteria;p__Firmicutes;c__Bacilli;o__Lactoba...  k__Bacteria;p__Firmicutes;c__Bacilli;o__Lactob...\n",
      "k__Bacteria;p__Firmicutes;c__Bacilli;o__Lactoba...  k__Bacteria;p__Firmicutes;c__Bacilli;o__Lactob...\n",
      "k__Bacteria;p__Firmicutes;c__Bacilli;o__Lactoba...  k__Bacteria;p__Firmicutes;c__Bacilli;o__Lactob...\n",
      "k__Bacteria;p__Firmicutes;c__Bacilli;o__Lactoba...  k__Bacteria;p__Firmicutes;c__Bacilli;o__Lactob...\n",
      "k__Bacteria;p__Firmicutes;c__Bacilli;o__Lactoba...  k__Bacteria;p__Firmicutes;c__Bacilli;o__Lactob...\n",
      "k__Bacteria;p__Firmicutes;c__Clostridia;o__Clos...  k__Bacteria;p__Firmicutes;c__Clostridia;o__Clo...\n",
      "k__Bacteria;p__Firmicutes;c__Clostridia;o__Clos...  k__Bacteria;p__Firmicutes;c__Clostridia;o__Clo...\n",
      "k__Bacteria;p__Firmicutes;c__Clostridia;o__Clos...  k__Bacteria;p__Firmicutes;c__Clostridia;o__Clo...\n",
      "k__Bacteria;p__Firmicutes;c__Clostridia;o__Clos...  k__Bacteria;p__Firmicutes;c__Clostridia;o__Clo...\n",
      "k__Bacteria;p__Firmicutes;c__Clostridia;o__Clos...  k__Bacteria;p__Firmicutes;c__Clostridia;o__Clo...\n",
      "k__Bacteria;p__Firmicutes;c__Clostridia;o__Clos...  k__Bacteria;p__Firmicutes;c__Clostridia;o__Clo...\n",
      "k__Bacteria;p__Firmicutes;c__Clostridia;o__Clos...  k__Bacteria;p__Firmicutes;c__Clostridia;o__Clo...\n",
      "k__Bacteria;p__Firmicutes;c__Clostridia;o__Clos...  k__Bacteria;p__Firmicutes;c__Clostridia;o__Clo...\n",
      "k__Bacteria;p__Firmicutes;c__Clostridia;o__Clos...  k__Bacteria;p__Firmicutes;c__Clostridia;o__Clo...\n",
      "k__Bacteria;p__Firmicutes;c__Clostridia;o__Clos...  k__Bacteria;p__Firmicutes;c__Clostridia;o__Clo...\n",
      "k__Bacteria;p__Firmicutes;c__Clostridia;o__Clos...  k__Bacteria;p__Firmicutes;c__Clostridia;o__Clo...\n",
      "k__Bacteria;p__Firmicutes;c__Clostridia;o__Clos...  k__Bacteria;p__Firmicutes;c__Clostridia;o__Clo...\n",
      "k__Bacteria;p__Firmicutes;c__Clostridia;o__Clos...  k__Bacteria;p__Firmicutes;c__Clostridia;o__Clo...\n",
      "k__Bacteria;p__Firmicutes;c__Clostridia;o__MBA0...  k__Bacteria;p__Firmicutes;c__Clostridia;o__MBA...\n",
      "k__Bacteria;p__Firmicutes;c__Clostridia;o__OPB5...  k__Bacteria;p__Firmicutes;c__Clostridia;o__OPB...\n",
      "k__Bacteria;p__Firmicutes;c__Clostridia;o__Ther...  k__Bacteria;p__Firmicutes;c__Clostridia;o__The...\n",
      "k__Bacteria;p__Firmicutes;c__Clostridia;o__Ther...  k__Bacteria;p__Firmicutes;c__Clostridia;o__The...\n",
      "k__Bacteria;p__Firmicutes;c__Erysipelotrichi;o_...  k__Bacteria;p__Firmicutes;c__Erysipelotrichi;o...\n",
      "k__Bacteria;p__Fusobacteria;c__Fusobacteriia;o_...  k__Bacteria;p__Fusobacteria;c__Fusobacteriia;o...\n",
      "k__Bacteria;p__Fusobacteria;c__Fusobacteriia;o_...  k__Bacteria;p__Fusobacteria;c__Fusobacteriia;o...\n",
      "k__Bacteria;p__GN02;c__BD1-5;o__;f__                             k__Bacteria;p__GN02;c__BD1-5;o__;f__\n",
      "k__Bacteria;p__Gemmatimonadetes;c__Gemm-3;o__;f__   k__Bacteria;p__Gemmatimonadetes;c__Gemm-3;o__;f__\n",
      "k__Bacteria;p__Gemmatimonadetes;c__Gemmatimonad...  k__Bacteria;p__Gemmatimonadetes;c__Gemmatimona...\n",
      "k__Bacteria;p__Gemmatimonadetes;c__Gemmatimonad...  k__Bacteria;p__Gemmatimonadetes;c__Gemmatimona...\n",
      "k__Bacteria;p__Gemmatimonadetes;c__Gemmatimonad...  k__Bacteria;p__Gemmatimonadetes;c__Gemmatimona...\n",
      "k__Bacteria;p__Gemmatimonadetes;c__Gemmatimonad...  k__Bacteria;p__Gemmatimonadetes;c__Gemmatimona...\n",
      "k__Bacteria;p__OD1;c__SM2F11;o__;f__                             k__Bacteria;p__OD1;c__SM2F11;o__;f__\n",
      "k__Bacteria;p__OP11;c__;o__;f__                                       k__Bacteria;p__OP11;c__;o__;f__\n",
      "k__Bacteria;p__OP11;c__OP11-2;o__WCHB1-07;f__           k__Bacteria;p__OP11;c__OP11-2;o__WCHB1-07;f__\n",
      "k__Bacteria;p__Planctomycetes;c__Phycisphaerae;...  k__Bacteria;p__Planctomycetes;c__Phycisphaerae...\n",
      "k__Bacteria;p__Planctomycetes;c__Phycisphaerae;...  k__Bacteria;p__Planctomycetes;c__Phycisphaerae...\n",
      "k__Bacteria;p__Planctomycetes;c__Planctomycetia...  k__Bacteria;p__Planctomycetes;c__Planctomyceti...\n",
      "k__Bacteria;p__Planctomycetes;c__Planctomycetia...  k__Bacteria;p__Planctomycetes;c__Planctomyceti...\n",
      "k__Bacteria;p__Planctomycetes;c__Planctomycetia...  k__Bacteria;p__Planctomycetes;c__Planctomyceti...\n",
      "k__Bacteria;p__Planctomycetes;c__Planctomycetia...  k__Bacteria;p__Planctomycetes;c__Planctomyceti...\n",
      "k__Bacteria;p__Planctomycetes;c__vadinHA49;o__P...  k__Bacteria;p__Planctomycetes;c__vadinHA49;o__...\n",
      "k__Bacteria;p__Proteobacteria;c__;o__;f__                   k__Bacteria;p__Proteobacteria;c__;o__;f__\n",
      "k__Bacteria;p__Proteobacteria;c__Alphaproteobac...  k__Bacteria;p__Proteobacteria;c__Alphaproteoba...\n",
      "k__Bacteria;p__Proteobacteria;c__Alphaproteobac...  k__Bacteria;p__Proteobacteria;c__Alphaproteoba...\n",
      "k__Bacteria;p__Proteobacteria;c__Alphaproteobac...  k__Bacteria;p__Proteobacteria;c__Alphaproteoba...\n",
      "k__Bacteria;p__Proteobacteria;c__Alphaproteobac...  k__Bacteria;p__Proteobacteria;c__Alphaproteoba...\n",
      "k__Bacteria;p__Proteobacteria;c__Alphaproteobac...  k__Bacteria;p__Proteobacteria;c__Alphaproteoba...\n",
      "k__Bacteria;p__Proteobacteria;c__Alphaproteobac...  k__Bacteria;p__Proteobacteria;c__Alphaproteoba...\n",
      "k__Bacteria;p__Proteobacteria;c__Alphaproteobac...  k__Bacteria;p__Proteobacteria;c__Alphaproteoba...\n",
      "k__Bacteria;p__Proteobacteria;c__Alphaproteobac...  k__Bacteria;p__Proteobacteria;c__Alphaproteoba...\n",
      "k__Bacteria;p__Proteobacteria;c__Alphaproteobac...  k__Bacteria;p__Proteobacteria;c__Alphaproteoba...\n",
      "k__Bacteria;p__Proteobacteria;c__Alphaproteobac...  k__Bacteria;p__Proteobacteria;c__Alphaproteoba...\n",
      "k__Bacteria;p__Proteobacteria;c__Alphaproteobac...  k__Bacteria;p__Proteobacteria;c__Alphaproteoba...\n",
      "k__Bacteria;p__Proteobacteria;c__Alphaproteobac...  k__Bacteria;p__Proteobacteria;c__Alphaproteoba...\n",
      "k__Bacteria;p__Proteobacteria;c__Alphaproteobac...  k__Bacteria;p__Proteobacteria;c__Alphaproteoba...\n",
      "k__Bacteria;p__Proteobacteria;c__Alphaproteobac...  k__Bacteria;p__Proteobacteria;c__Alphaproteoba...\n",
      "k__Bacteria;p__Proteobacteria;c__Alphaproteobac...  k__Bacteria;p__Proteobacteria;c__Alphaproteoba...\n",
      "k__Bacteria;p__Proteobacteria;c__Alphaproteobac...  k__Bacteria;p__Proteobacteria;c__Alphaproteoba...\n",
      "k__Bacteria;p__Proteobacteria;c__Alphaproteobac...  k__Bacteria;p__Proteobacteria;c__Alphaproteoba...\n",
      "k__Bacteria;p__Proteobacteria;c__Alphaproteobac...  k__Bacteria;p__Proteobacteria;c__Alphaproteoba...\n",
      "k__Bacteria;p__Proteobacteria;c__Alphaproteobac...  k__Bacteria;p__Proteobacteria;c__Alphaproteoba...\n",
      "k__Bacteria;p__Proteobacteria;c__Alphaproteobac...  k__Bacteria;p__Proteobacteria;c__Alphaproteoba...\n",
      "k__Bacteria;p__Proteobacteria;c__Alphaproteobac...  k__Bacteria;p__Proteobacteria;c__Alphaproteoba...\n",
      "k__Bacteria;p__Proteobacteria;c__Alphaproteobac...  k__Bacteria;p__Proteobacteria;c__Alphaproteoba...\n",
      "k__Bacteria;p__Proteobacteria;c__Alphaproteobac...  k__Bacteria;p__Proteobacteria;c__Alphaproteoba...\n",
      "k__Bacteria;p__Proteobacteria;c__Alphaproteobac...  k__Bacteria;p__Proteobacteria;c__Alphaproteoba...\n",
      "k__Bacteria;p__Proteobacteria;c__Alphaproteobac...  k__Bacteria;p__Proteobacteria;c__Alphaproteoba...\n",
      "k__Bacteria;p__Proteobacteria;c__Alphaproteobac...  k__Bacteria;p__Proteobacteria;c__Alphaproteoba...\n",
      "k__Bacteria;p__Proteobacteria;c__Alphaproteobac...  k__Bacteria;p__Proteobacteria;c__Alphaproteoba...\n",
      "k__Bacteria;p__Proteobacteria;c__Alphaproteobac...  k__Bacteria;p__Proteobacteria;c__Alphaproteoba...\n",
      "k__Bacteria;p__Proteobacteria;c__Alphaproteobac...  k__Bacteria;p__Proteobacteria;c__Alphaproteoba...\n",
      "k__Bacteria;p__Proteobacteria;c__Betaproteobact...  k__Bacteria;p__Proteobacteria;c__Betaproteobac...\n",
      "k__Bacteria;p__Proteobacteria;c__Betaproteobact...  k__Bacteria;p__Proteobacteria;c__Betaproteobac...\n",
      "k__Bacteria;p__Proteobacteria;c__Betaproteobact...  k__Bacteria;p__Proteobacteria;c__Betaproteobac...\n",
      "k__Bacteria;p__Proteobacteria;c__Betaproteobact...  k__Bacteria;p__Proteobacteria;c__Betaproteobac...\n",
      "k__Bacteria;p__Proteobacteria;c__Betaproteobact...  k__Bacteria;p__Proteobacteria;c__Betaproteobac...\n",
      "k__Bacteria;p__Proteobacteria;c__Betaproteobact...  k__Bacteria;p__Proteobacteria;c__Betaproteobac...\n",
      "k__Bacteria;p__Proteobacteria;c__Betaproteobact...  k__Bacteria;p__Proteobacteria;c__Betaproteobac...\n",
      "k__Bacteria;p__Proteobacteria;c__Betaproteobact...  k__Bacteria;p__Proteobacteria;c__Betaproteobac...\n",
      "k__Bacteria;p__Proteobacteria;c__Betaproteobact...  k__Bacteria;p__Proteobacteria;c__Betaproteobac...\n",
      "k__Bacteria;p__Proteobacteria;c__Betaproteobact...  k__Bacteria;p__Proteobacteria;c__Betaproteobac...\n",
      "k__Bacteria;p__Proteobacteria;c__Betaproteobact...  k__Bacteria;p__Proteobacteria;c__Betaproteobac...\n",
      "k__Bacteria;p__Proteobacteria;c__Betaproteobact...  k__Bacteria;p__Proteobacteria;c__Betaproteobac...\n",
      "k__Bacteria;p__Proteobacteria;c__Betaproteobact...  k__Bacteria;p__Proteobacteria;c__Betaproteobac...\n",
      "k__Bacteria;p__Proteobacteria;c__Betaproteobact...  k__Bacteria;p__Proteobacteria;c__Betaproteobac...\n",
      "k__Bacteria;p__Proteobacteria;c__Betaproteobact...  k__Bacteria;p__Proteobacteria;c__Betaproteobac...\n",
      "k__Bacteria;p__Proteobacteria;c__Deltaproteobac...  k__Bacteria;p__Proteobacteria;c__Deltaproteoba...\n",
      "k__Bacteria;p__Proteobacteria;c__Deltaproteobac...  k__Bacteria;p__Proteobacteria;c__Deltaproteoba...\n",
      "k__Bacteria;p__Proteobacteria;c__Deltaproteobac...  k__Bacteria;p__Proteobacteria;c__Deltaproteoba...\n",
      "k__Bacteria;p__Proteobacteria;c__Deltaproteobac...  k__Bacteria;p__Proteobacteria;c__Deltaproteoba...\n",
      "k__Bacteria;p__Proteobacteria;c__Deltaproteobac...  k__Bacteria;p__Proteobacteria;c__Deltaproteoba...\n",
      "k__Bacteria;p__Proteobacteria;c__Deltaproteobac...  k__Bacteria;p__Proteobacteria;c__Deltaproteoba...\n",
      "k__Bacteria;p__Proteobacteria;c__Deltaproteobac...  k__Bacteria;p__Proteobacteria;c__Deltaproteoba...\n",
      "k__Bacteria;p__Proteobacteria;c__Deltaproteobac...  k__Bacteria;p__Proteobacteria;c__Deltaproteoba...\n",
      "k__Bacteria;p__Proteobacteria;c__Deltaproteobac...  k__Bacteria;p__Proteobacteria;c__Deltaproteoba...\n",
      "k__Bacteria;p__Proteobacteria;c__Deltaproteobac...  k__Bacteria;p__Proteobacteria;c__Deltaproteoba...\n",
      "k__Bacteria;p__Proteobacteria;c__Deltaproteobac...  k__Bacteria;p__Proteobacteria;c__Deltaproteoba...\n",
      "k__Bacteria;p__Proteobacteria;c__Deltaproteobac...  k__Bacteria;p__Proteobacteria;c__Deltaproteoba...\n",
      "k__Bacteria;p__Proteobacteria;c__Deltaproteobac...  k__Bacteria;p__Proteobacteria;c__Deltaproteoba...\n",
      "k__Bacteria;p__Proteobacteria;c__Deltaproteobac...  k__Bacteria;p__Proteobacteria;c__Deltaproteoba...\n",
      "k__Bacteria;p__Proteobacteria;c__Deltaproteobac...  k__Bacteria;p__Proteobacteria;c__Deltaproteoba...\n",
      "k__Bacteria;p__Proteobacteria;c__Deltaproteobac...  k__Bacteria;p__Proteobacteria;c__Deltaproteoba...\n",
      "k__Bacteria;p__Proteobacteria;c__Deltaproteobac...  k__Bacteria;p__Proteobacteria;c__Deltaproteoba...\n",
      "k__Bacteria;p__Proteobacteria;c__Deltaproteobac...  k__Bacteria;p__Proteobacteria;c__Deltaproteoba...\n",
      "k__Bacteria;p__Proteobacteria;c__Epsilonproteob...  k__Bacteria;p__Proteobacteria;c__Epsilonproteo...\n",
      "k__Bacteria;p__Proteobacteria;c__Gammaproteobac...  k__Bacteria;p__Proteobacteria;c__Gammaproteoba...\n",
      "k__Bacteria;p__Proteobacteria;c__Gammaproteobac...  k__Bacteria;p__Proteobacteria;c__Gammaproteoba...\n",
      "k__Bacteria;p__Proteobacteria;c__Gammaproteobac...  k__Bacteria;p__Proteobacteria;c__Gammaproteoba...\n",
      "k__Bacteria;p__Proteobacteria;c__Gammaproteobac...  k__Bacteria;p__Proteobacteria;c__Gammaproteoba...\n",
      "k__Bacteria;p__Proteobacteria;c__Gammaproteobac...  k__Bacteria;p__Proteobacteria;c__Gammaproteoba...\n",
      "k__Bacteria;p__Proteobacteria;c__Gammaproteobac...  k__Bacteria;p__Proteobacteria;c__Gammaproteoba...\n",
      "k__Bacteria;p__Proteobacteria;c__Gammaproteobac...  k__Bacteria;p__Proteobacteria;c__Gammaproteoba...\n",
      "k__Bacteria;p__Proteobacteria;c__Gammaproteobac...  k__Bacteria;p__Proteobacteria;c__Gammaproteoba...\n",
      "k__Bacteria;p__Proteobacteria;c__Gammaproteobac...  k__Bacteria;p__Proteobacteria;c__Gammaproteoba...\n",
      "k__Bacteria;p__Proteobacteria;c__Gammaproteobac...  k__Bacteria;p__Proteobacteria;c__Gammaproteoba...\n",
      "k__Bacteria;p__Proteobacteria;c__Gammaproteobac...  k__Bacteria;p__Proteobacteria;c__Gammaproteoba...\n",
      "k__Bacteria;p__Proteobacteria;c__Gammaproteobac...  k__Bacteria;p__Proteobacteria;c__Gammaproteoba...\n",
      "k__Bacteria;p__Proteobacteria;c__Gammaproteobac...  k__Bacteria;p__Proteobacteria;c__Gammaproteoba...\n",
      "k__Bacteria;p__Proteobacteria;c__Gammaproteobac...  k__Bacteria;p__Proteobacteria;c__Gammaproteoba...\n",
      "k__Bacteria;p__Proteobacteria;c__Gammaproteobac...  k__Bacteria;p__Proteobacteria;c__Gammaproteoba...\n",
      "k__Bacteria;p__Proteobacteria;c__Gammaproteobac...  k__Bacteria;p__Proteobacteria;c__Gammaproteoba...\n",
      "k__Bacteria;p__Proteobacteria;c__Gammaproteobac...  k__Bacteria;p__Proteobacteria;c__Gammaproteoba...\n",
      "k__Bacteria;p__Proteobacteria;c__Gammaproteobac...  k__Bacteria;p__Proteobacteria;c__Gammaproteoba...\n",
      "k__Bacteria;p__Proteobacteria;c__Gammaproteobac...  k__Bacteria;p__Proteobacteria;c__Gammaproteoba...\n",
      "k__Bacteria;p__Proteobacteria;c__Gammaproteobac...  k__Bacteria;p__Proteobacteria;c__Gammaproteoba...\n",
      "k__Bacteria;p__Proteobacteria;c__Gammaproteobac...  k__Bacteria;p__Proteobacteria;c__Gammaproteoba...\n",
      "k__Bacteria;p__Proteobacteria;c__Gammaproteobac...  k__Bacteria;p__Proteobacteria;c__Gammaproteoba...\n",
      "k__Bacteria;p__Proteobacteria;c__Gammaproteobac...  k__Bacteria;p__Proteobacteria;c__Gammaproteoba...\n",
      "k__Bacteria;p__Proteobacteria;c__Gammaproteobac...  k__Bacteria;p__Proteobacteria;c__Gammaproteoba...\n",
      "k__Bacteria;p__Proteobacteria;c__Gammaproteobac...  k__Bacteria;p__Proteobacteria;c__Gammaproteoba...\n",
      "k__Bacteria;p__Proteobacteria;c__Gammaproteobac...  k__Bacteria;p__Proteobacteria;c__Gammaproteoba...\n",
      "k__Bacteria;p__Proteobacteria;c__Gammaproteobac...  k__Bacteria;p__Proteobacteria;c__Gammaproteoba...\n",
      "k__Bacteria;p__Proteobacteria;c__Gammaproteobac...  k__Bacteria;p__Proteobacteria;c__Gammaproteoba...\n",
      "k__Bacteria;p__Proteobacteria;c__Gammaproteobac...  k__Bacteria;p__Proteobacteria;c__Gammaproteoba...\n",
      "k__Bacteria;p__Spirochaetes;c__Spirochaetes;o__...  k__Bacteria;p__Spirochaetes;c__Spirochaetes;o_...\n",
      "k__Bacteria;p__Spirochaetes;c__Spirochaetes;o__...  k__Bacteria;p__Spirochaetes;c__Spirochaetes;o_...\n",
      "k__Bacteria;p__Synergistetes;c__Synergistia;o__...  k__Bacteria;p__Synergistetes;c__Synergistia;o_...\n",
      "k__Bacteria;p__Synergistetes;c__Synergistia;o__...  k__Bacteria;p__Synergistetes;c__Synergistia;o_...\n",
      "k__Bacteria;p__TM6;c__SJA-4;o__;f__                               k__Bacteria;p__TM6;c__SJA-4;o__;f__\n",
      "k__Bacteria;p__TM7;c__;o__;f__                                         k__Bacteria;p__TM7;c__;o__;f__\n",
      "k__Bacteria;p__TM7;c__TM7-1;o__;f__                               k__Bacteria;p__TM7;c__TM7-1;o__;f__\n",
      "k__Bacteria;p__TM7;c__TM7-3;o__;f__                               k__Bacteria;p__TM7;c__TM7-3;o__;f__\n",
      "k__Bacteria;p__TM7;c__TM7-3;o__I025;f__                       k__Bacteria;p__TM7;c__TM7-3;o__I025;f__\n",
      "k__Bacteria;p__Tenericutes;c__Mollicutes;o__Ach...  k__Bacteria;p__Tenericutes;c__Mollicutes;o__Ac...\n",
      "k__Bacteria;p__Tenericutes;c__Mollicutes;o__Ana...  k__Bacteria;p__Tenericutes;c__Mollicutes;o__An...\n",
      "k__Bacteria;p__Tenericutes;c__Mollicutes;o__Ent...  k__Bacteria;p__Tenericutes;c__Mollicutes;o__En...\n",
      "k__Bacteria;p__Tenericutes;c__Mollicutes;o__RF3...  k__Bacteria;p__Tenericutes;c__Mollicutes;o__RF...\n",
      "k__Bacteria;p__Verrucomicrobia;c__Opitutae;o__;f__  k__Bacteria;p__Verrucomicrobia;c__Opitutae;o__...\n",
      "k__Bacteria;p__Verrucomicrobia;c__Opitutae;o__O...  k__Bacteria;p__Verrucomicrobia;c__Opitutae;o__...\n",
      "k__Bacteria;p__Verrucomicrobia;c__Opitutae;o__P...  k__Bacteria;p__Verrucomicrobia;c__Opitutae;o__...\n",
      "k__Bacteria;p__Verrucomicrobia;c__Opitutae;o__[...  k__Bacteria;p__Verrucomicrobia;c__Opitutae;o__...\n",
      "k__Bacteria;p__Verrucomicrobia;c__Verrucomicrob...  k__Bacteria;p__Verrucomicrobia;c__Verrucomicro...\n",
      "k__Bacteria;p__Verrucomicrobia;c__[Spartobacter...  k__Bacteria;p__Verrucomicrobia;c__[Spartobacte...\n",
      "k__Bacteria;p__WPS-2;c__;o__;f__                                     k__Bacteria;p__WPS-2;c__;o__;f__\n",
      "k__Bacteria;p__[Thermi];c__Deinococci;o__Deinoc...  k__Bacteria;p__[Thermi];c__Deinococci;o__Deino...\n",
      "k__Bacteria;p__[Thermi];c__Deinococci;o__Deinoc...  k__Bacteria;p__[Thermi];c__Deinococci;o__Deino...\n",
      "k__Bacteria;p__[Thermi];c__Deinococci;o__Therma...  k__Bacteria;p__[Thermi];c__Deinococci;o__Therm...\n"
     ]
    }
   ],
   "source": [
    "print(Spring_L5.feature_metadata)"
   ]
  },
  {
   "cell_type": "markdown",
   "metadata": {},
   "source": [
    "## Spring L5 modeling"
   ]
  },
  {
   "cell_type": "code",
   "execution_count": 40,
   "metadata": {},
   "outputs": [],
   "source": [
    "# groupKfold = 3, will leave out one body for each spring model\n",
    "gkf = GroupKFold(3)\n",
    "\n",
    "X = Spring_L5.data\n",
    "y = Spring_L5.sample_metadata['ADD_0']\n",
    "y = (y.astype(float))\n",
    "\n",
    "groups = Spring_L5.sample_metadata['host_subject_id']\n",
    "\n",
    "# used to test the param grid for parameter tuning\n",
    "# use the output of this estimator below for input into new estimator (not commented out)\n",
    "param_grid = {\"max_depth\": [4, 8, 16, None],\n",
    "              \"max_features\": ['sqrt', 'log2', 0.1],\n",
    "              \"min_samples_split\": [0.001, 0.01, 0.1],\n",
    "              \"min_weight_fraction_leaf\": [0.0001, 0.001, 0.01],\n",
    "              \"bootstrap\": [True, False]}\n",
    "\n",
    "#param_grid = {\"max_depth\": [8],\n",
    "#          \"max_features\": [0.1],\n",
    "#          \"min_samples_split\": [0.001],\n",
    "#          \"min_weight_fraction_leaf\": [0.0001],\n",
    "#          \"bootstrap\": [False]}\n",
    "\n",
    "rf = RandomForestRegressor(n_estimators=1000, random_state=999, criterion='mae')\n",
    "gs = GridSearchCV(rf, param_grid=param_grid, cv=gkf.split(X, y, groups), scoring='neg_mean_absolute_error', n_jobs=1)"
   ]
  },
  {
   "cell_type": "code",
   "execution_count": 41,
   "metadata": {},
   "outputs": [
    {
     "data": {
      "text/plain": [
       "GridSearchCV(cv=<generator object _BaseKFold.split at 0x120e4f850>,\n",
       "             error_score=nan,\n",
       "             estimator=RandomForestRegressor(bootstrap=True, ccp_alpha=0.0,\n",
       "                                             criterion='mae', max_depth=None,\n",
       "                                             max_features='auto',\n",
       "                                             max_leaf_nodes=None,\n",
       "                                             max_samples=None,\n",
       "                                             min_impurity_decrease=0.0,\n",
       "                                             min_impurity_split=None,\n",
       "                                             min_samples_leaf=1,\n",
       "                                             min_samples_split=2,\n",
       "                                             min_weight_fraction_leaf=0.0,\n",
       "                                             n_es...\n",
       "                                             oob_score=False, random_state=999,\n",
       "                                             verbose=0, warm_start=False),\n",
       "             iid='deprecated', n_jobs=1,\n",
       "             param_grid={'bootstrap': [True, False],\n",
       "                         'max_depth': [4, 8, 16, None],\n",
       "                         'max_features': ['sqrt', 'log2', 0.1],\n",
       "                         'min_samples_split': [0.001, 0.01, 0.1],\n",
       "                         'min_weight_fraction_leaf': [0.0001, 0.001, 0.01]},\n",
       "             pre_dispatch='2*n_jobs', refit=True, return_train_score=False,\n",
       "             scoring='neg_mean_absolute_error', verbose=0)"
      ]
     },
     "execution_count": 41,
     "metadata": {},
     "output_type": "execute_result"
    }
   ],
   "source": [
    "gs.fit(X, y)"
   ]
  },
  {
   "cell_type": "code",
   "execution_count": 42,
   "metadata": {},
   "outputs": [
    {
     "name": "stdout",
     "output_type": "stream",
     "text": [
      "{'bootstrap': False, 'max_depth': 16, 'max_features': 0.1, 'min_samples_split': 0.001, 'min_weight_fraction_leaf': 0.0001}\n"
     ]
    }
   ],
   "source": [
    "# this line is used when run with the first param grid to determine what the best parameters are for tuning\n",
    "print(gs.best_params_)"
   ]
  },
  {
   "cell_type": "code",
   "execution_count": 43,
   "metadata": {},
   "outputs": [
    {
     "name": "stdout",
     "output_type": "stream",
     "text": [
      "The best mean absolute error is 941.63\n"
     ]
    }
   ],
   "source": [
    "print('The best mean absolute error is', round(-gs.best_score_,2))"
   ]
  },
  {
   "cell_type": "code",
   "execution_count": 44,
   "metadata": {},
   "outputs": [
    {
     "data": {
      "text/plain": [
       "['models/bone_spring_L5_no_metadata.pkl']"
      ]
     },
     "execution_count": 44,
     "metadata": {},
     "output_type": "execute_result"
    }
   ],
   "source": [
    "joblib.dump(gs.best_estimator_, 'models/bone_spring_L5_no_metadata.pkl')"
   ]
  },
  {
   "cell_type": "code",
   "execution_count": 45,
   "metadata": {},
   "outputs": [
    {
     "data": {
      "text/plain": [
       "RandomForestRegressor(bootstrap=False, ccp_alpha=0.0, criterion='mae',\n",
       "                      max_depth=16, max_features=0.1, max_leaf_nodes=None,\n",
       "                      max_samples=None, min_impurity_decrease=0.0,\n",
       "                      min_impurity_split=None, min_samples_leaf=1,\n",
       "                      min_samples_split=0.001, min_weight_fraction_leaf=0.0001,\n",
       "                      n_estimators=1000, n_jobs=None, oob_score=False,\n",
       "                      random_state=999, verbose=0, warm_start=False)"
      ]
     },
     "execution_count": 45,
     "metadata": {},
     "output_type": "execute_result"
    }
   ],
   "source": [
    "bone_spring_L5 = joblib.load('models/bone_spring_L5_no_metadata.pkl')\n",
    "bone_spring_L5"
   ]
  },
  {
   "cell_type": "markdown",
   "metadata": {},
   "source": [
    "## Determine important features of spring L5 model"
   ]
  },
  {
   "cell_type": "code",
   "execution_count": 47,
   "metadata": {},
   "outputs": [
    {
     "name": "stdout",
     "output_type": "stream",
     "text": [
      "Feature:\t\t\t\tImportance:\n",
      "1. k__Bacteria;p__Actinobacteria;c__Actinobacteria;o__Actinomycetales;f__Promicromonosporaceae\t0.05477378880570991\n",
      "2. k__Bacteria;p__Actinobacteria;c__Actinobacteria;o__Actinomycetales;f__Dietziaceae\t0.0518577414018554\n",
      "3. k__Bacteria;p__Firmicutes;c__Clostridia;o__Clostridiales;f__Peptostreptococcaceae\t0.04140386696081289\n",
      "4. k__Bacteria;p__Proteobacteria;c__Alphaproteobacteria;o__Rhizobiales;f__Phyllobacteriaceae\t0.03831272879518664\n",
      "5. k__Bacteria;p__Firmicutes;c__Bacilli;o__Bacillales;f__Planococcaceae\t0.03686118761981151\n",
      "6. k__Bacteria;p__Proteobacteria;c__Betaproteobacteria;o__Burkholderiales;f__Oxalobacteraceae\t0.026478328182116095\n",
      "7. k__Bacteria;p__Proteobacteria;c__Alphaproteobacteria;o__Caulobacterales;f__Caulobacteraceae\t0.02464191491115831\n",
      "8. k__Bacteria;p__Firmicutes;c__Bacilli;o__Gemellales;f__Gemellaceae\t0.023340968484004777\n",
      "9. k__Bacteria;p__Firmicutes;c__Bacilli;o__Bacillales;f__Bacillaceae\t0.022864892665730725\n",
      "10. k__Bacteria;p__Proteobacteria;c__Gammaproteobacteria;o__;f__\t0.022172532792094867\n",
      "11. k__Bacteria;p__Bacteroidetes;c__Sphingobacteriia;o__Sphingobacteriales;f__Sphingobacteriaceae\t0.021604034644454605\n",
      "12. k__Bacteria;p__Proteobacteria;c__Gammaproteobacteria;o__Pseudomonadales;f__Pseudomonadaceae\t0.021240221299790207\n",
      "13. k__Bacteria;p__Firmicutes;c__Erysipelotrichi;o__Erysipelotrichales;f__Erysipelotrichaceae\t0.020867486702683565\n",
      "14. k__Bacteria;p__Actinobacteria;c__Actinobacteria;o__Actinomycetales;f__Dermabacteraceae\t0.020651444490190723\n",
      "15. k__Bacteria;p__Proteobacteria;c__Gammaproteobacteria;o__Pasteurellales;f__Pasteurellaceae\t0.01918935227006705\n",
      "16. k__Bacteria;p__Proteobacteria;c__Gammaproteobacteria;o__Xanthomonadales;f__Xanthomonadaceae\t0.018066377399036486\n",
      "17. k__Bacteria;p__Actinobacteria;c__Actinobacteria;o__Actinomycetales;f__Brevibacteriaceae\t0.017684133543799805\n",
      "18. k__Bacteria;p__Actinobacteria;c__Actinobacteria;o__Actinomycetales;f__Corynebacteriaceae\t0.0152533642821786\n",
      "19. k__Bacteria;p__Proteobacteria;c__Alphaproteobacteria;o__Rhizobiales;f__Rhizobiaceae\t0.01508328080292023\n",
      "20. k__Bacteria;p__Firmicutes;c__Clostridia;o__Clostridiales;f__[Tissierellaceae]\t0.013057887348705964\n",
      "21. k__Bacteria;p__Proteobacteria;c__Alphaproteobacteria;o__Rhodospirillales;f__Acetobacteraceae\t0.012885939591922147\n",
      "22. k__Bacteria;p__Firmicutes;c__Bacilli;o__Lactobacillales;f__Streptococcaceae\t0.012604978570440314\n",
      "23. k__Bacteria;p__Firmicutes;c__Clostridia;o__Clostridiales;f__Lachnospiraceae\t0.012069090992537605\n",
      "24. k__Bacteria;p__Actinobacteria;c__Actinobacteria;o__Actinomycetales;f__Micrococcaceae\t0.012011988893500178\n",
      "25. k__Bacteria;p__Proteobacteria;c__Betaproteobacteria;o__Neisseriales;f__Neisseriaceae\t0.011730072883608509\n"
     ]
    }
   ],
   "source": [
    "importances = bone_spring_L5.feature_importances_\n",
    "std = np.std([tree.feature_importances_ for tree in bone_spring_L5.estimators_],\n",
    "             axis=0)\n",
    "indices = np.argsort(importances)[::-1]\n",
    "\n",
    "feature_metadata = Spring_L5.feature_metadata\n",
    "np.savetxt(\"importances/bone_spring_L5_no_metadata_features.csv\", feature_metadata, delimiter=\",\", fmt='%s')\n",
    "\n",
    "\n",
    "#print the important ids in order\n",
    "general_importances = []\n",
    "count = 0\n",
    "print(\"Feature:\\t\\t\\t\\tImportance:\")\n",
    "for i in indices:\n",
    "    general_importances += (Spring_L5.feature_metadata.index.values[i], importances[indices[count]])\n",
    "    if count < 25:\n",
    "        print(str(count+1)+\". \"+str(Spring_L5.feature_metadata.index.values[i])+\"\\t\"+str(importances[indices[count]]))\n",
    "    count += 1\n",
    "    \n",
    "general_importances_df = pd.DataFrame(np.array(general_importances).reshape(516,1))\n",
    "\n",
    "np.savetxt(\"importances/bone_spring_L5_no_features_importances.csv\", general_importances_df, delimiter=\",\", fmt='%s')"
   ]
  },
  {
   "cell_type": "markdown",
   "metadata": {},
   "source": [
    "## Import rarefied table collapsed at level 4"
   ]
  },
  {
   "cell_type": "code",
   "execution_count": 3,
   "metadata": {},
   "outputs": [
    {
     "name": "stdout",
     "output_type": "stream",
     "text": [
      "2021-06-01 13:26:46 WARNING These have metadata but do not have data - dropped (51): {'11553.BLANKrib.12D', '11553.CSU.extraction.blank3', '11553.CSU.extraction.blank2', '11553.BLANKrib.5B', '11553.BLANKrib.11G', '11553.CSU.extraction.blank6', '11553.SHSU.STAFS2016.011.L09', '11553.BLANKrib.11E', '11553.BLANKrib.9F', '11553.CSU.extraction.blank4', '11553.BLANKrib.10B', '11553.BLANKrib.12G', '11553.BLANKrib.11A', '11553.BLANKrib.10D', '11553.CSU.extraction.blank9', '11553.BLANKrib.9G', '11553.CSU.extraction.blank5', '11553.BLANKrib.9C', '11553.BLANKrib.10G', '11553.BLANKrib.9E', '11553.CSU.extraction.blank13', '11553.BLANKrib.12C', '11553.BLANKrib.10F', '11553.BLANKrib.12H', '11553.CSU.extraction.blank14', '11553.CSU.extraction.blank8', '11553.BLANKrib.9B', '11553.SHSU.STAFS2016.007.R11', '11553.BLANKrib.9D', '11553.BLANKrib.10H', '11553.BLANKrib.10A', '11553.BLANKrib.10C', '11553.BLANKrib.9H', '11553.CSU.extraction.blank10', '11553.BLANKrib.12E', '11553.STAFS.2016.064.L12', '11553.BLANKrib.12A', '11553.CSU.extraction.blank12', '11553.CSU.extraction.blank7', '11553.BLANKrib.12B', '11553.BLANKrib.10E', '11553.BLANKrib.12F', '11553.BLANKrib.11D', '11553.BLANKrib.9A', '11553.BLANKrib.11F', '11553.BLANKrib.11H', '11553.CSU.extraction.blank11', '11553.CSU.extraction.blank1', '11553.BLANKrib.11B', '11553.CSU.extraction.blank15', '11553.BLANKrib.11C'}\n"
     ]
    }
   ],
   "source": [
    "exp_L4 = ca.read_amplicon('/Users/heatherdeel/Dropbox/PMI_3_analyses/bone/01_16S/01_qiime2_analysis/feature_tables/collapsed_tables/frag_ins_noChloMito_17098_L4_table.biom', '../02_metadata/maps/map3.txt', min_reads=0, normalize = None)\n"
   ]
  },
  {
   "cell_type": "code",
   "execution_count": 4,
   "metadata": {},
   "outputs": [
    {
     "data": {
      "text/plain": [
       "STAFS2016.011    8\n",
       "STAFS2016.024    7\n",
       "STAFS2016.007    7\n",
       "Name: host_subject_id, dtype: int64"
      ]
     },
     "execution_count": 4,
     "metadata": {},
     "output_type": "execute_result"
    }
   ],
   "source": [
    "# filter to spring\n",
    "Spring_L4 = exp_L4.filter_samples('season', 'spring')\n",
    "Spring_L4.sample_metadata.host_subject_id.value_counts()"
   ]
  },
  {
   "cell_type": "code",
   "execution_count": 5,
   "metadata": {},
   "outputs": [
    {
     "name": "stdout",
     "output_type": "stream",
     "text": [
      "                                                                                          _feature_id\n",
      "k__Archaea;p__Crenarchaeota;c__Thaumarchaeota;o...  k__Archaea;p__Crenarchaeota;c__Thaumarchaeota;...\n",
      "k__Archaea;p__Euryarchaeota;c__Methanobacteria;...  k__Archaea;p__Euryarchaeota;c__Methanobacteria...\n",
      "k__Bacteria;__;__;__                                                             k__Bacteria;__;__;__\n",
      "k__Bacteria;p__Acidobacteria;c__DA052;o__Ellin6513  k__Bacteria;p__Acidobacteria;c__DA052;o__Ellin...\n",
      "k__Bacteria;p__Acidobacteria;c__Solibacteres;o_...  k__Bacteria;p__Acidobacteria;c__Solibacteres;o...\n",
      "k__Bacteria;p__Acidobacteria;c__[Chloracidobact...  k__Bacteria;p__Acidobacteria;c__[Chloracidobac...\n",
      "k__Bacteria;p__Actinobacteria;c__Acidimicrobiia...  k__Bacteria;p__Actinobacteria;c__Acidimicrobii...\n",
      "k__Bacteria;p__Actinobacteria;c__Actinobacteria...  k__Bacteria;p__Actinobacteria;c__Actinobacteri...\n",
      "k__Bacteria;p__Actinobacteria;c__Coriobacteriia...  k__Bacteria;p__Actinobacteria;c__Coriobacterii...\n",
      "k__Bacteria;p__Actinobacteria;c__Rubrobacteria;...  k__Bacteria;p__Actinobacteria;c__Rubrobacteria...\n",
      "k__Bacteria;p__Actinobacteria;c__Thermoleophili...  k__Bacteria;p__Actinobacteria;c__Thermoleophil...\n",
      "k__Bacteria;p__Actinobacteria;c__Thermoleophili...  k__Bacteria;p__Actinobacteria;c__Thermoleophil...\n",
      "k__Bacteria;p__Armatimonadetes;c__Armatimonadia...  k__Bacteria;p__Armatimonadetes;c__Armatimonadi...\n",
      "k__Bacteria;p__Armatimonadetes;c__SHA-37;o__             k__Bacteria;p__Armatimonadetes;c__SHA-37;o__\n",
      "k__Bacteria;p__Armatimonadetes;c__SJA-176;o__GA...  k__Bacteria;p__Armatimonadetes;c__SJA-176;o__G...\n",
      "k__Bacteria;p__Armatimonadetes;c__[Fimbriimonad...  k__Bacteria;p__Armatimonadetes;c__[Fimbriimona...\n",
      "k__Bacteria;p__BRC1;c__PRR-11;o__                                   k__Bacteria;p__BRC1;c__PRR-11;o__\n",
      "k__Bacteria;p__Bacteroidetes;c__Bacteroidia;o__...  k__Bacteria;p__Bacteroidetes;c__Bacteroidia;o_...\n",
      "k__Bacteria;p__Bacteroidetes;c__Cytophagia;o__C...  k__Bacteria;p__Bacteroidetes;c__Cytophagia;o__...\n",
      "k__Bacteria;p__Bacteroidetes;c__Flavobacteriia;...  k__Bacteria;p__Bacteroidetes;c__Flavobacteriia...\n",
      "k__Bacteria;p__Bacteroidetes;c__Sphingobacterii...  k__Bacteria;p__Bacteroidetes;c__Sphingobacteri...\n",
      "k__Bacteria;p__Bacteroidetes;c__[Saprospirae];o...  k__Bacteria;p__Bacteroidetes;c__[Saprospirae];...\n",
      "k__Bacteria;p__Chlorobi;c__OPB56;o__                             k__Bacteria;p__Chlorobi;c__OPB56;o__\n",
      "k__Bacteria;p__Chloroflexi;c__Chloroflexi;o__AK...  k__Bacteria;p__Chloroflexi;c__Chloroflexi;o__A...\n",
      "k__Bacteria;p__Chloroflexi;c__Ellin6529;o__               k__Bacteria;p__Chloroflexi;c__Ellin6529;o__\n",
      "k__Bacteria;p__Chloroflexi;c__Thermomicrobia;o__     k__Bacteria;p__Chloroflexi;c__Thermomicrobia;o__\n",
      "k__Bacteria;p__Chloroflexi;c__Thermomicrobia;o_...  k__Bacteria;p__Chloroflexi;c__Thermomicrobia;o...\n",
      "k__Bacteria;p__Cyanobacteria;c__4C0d-2;o__SM1D11     k__Bacteria;p__Cyanobacteria;c__4C0d-2;o__SM1D11\n",
      "k__Bacteria;p__Cyanobacteria;c__4C0d-2;o__YS2           k__Bacteria;p__Cyanobacteria;c__4C0d-2;o__YS2\n",
      "k__Bacteria;p__Cyanobacteria;c__ML635J-21;o__           k__Bacteria;p__Cyanobacteria;c__ML635J-21;o__\n",
      "k__Bacteria;p__Cyanobacteria;c__Oscillatoriophy...  k__Bacteria;p__Cyanobacteria;c__Oscillatorioph...\n",
      "k__Bacteria;p__Deferribacteres;c__Deferribacter...  k__Bacteria;p__Deferribacteres;c__Deferribacte...\n",
      "k__Bacteria;p__FBP;c__;o__                                                 k__Bacteria;p__FBP;c__;o__\n",
      "k__Bacteria;p__Firmicutes;c__AHT28;o__                         k__Bacteria;p__Firmicutes;c__AHT28;o__\n",
      "k__Bacteria;p__Firmicutes;c__Bacilli;o__Bacillales  k__Bacteria;p__Firmicutes;c__Bacilli;o__Bacill...\n",
      "k__Bacteria;p__Firmicutes;c__Bacilli;o__Gemellales  k__Bacteria;p__Firmicutes;c__Bacilli;o__Gemell...\n",
      "k__Bacteria;p__Firmicutes;c__Bacilli;o__Lactoba...  k__Bacteria;p__Firmicutes;c__Bacilli;o__Lactob...\n",
      "k__Bacteria;p__Firmicutes;c__Clostridia;o__Clos...  k__Bacteria;p__Firmicutes;c__Clostridia;o__Clo...\n",
      "k__Bacteria;p__Firmicutes;c__Clostridia;o__MBA08     k__Bacteria;p__Firmicutes;c__Clostridia;o__MBA08\n",
      "k__Bacteria;p__Firmicutes;c__Clostridia;o__OPB54     k__Bacteria;p__Firmicutes;c__Clostridia;o__OPB54\n",
      "k__Bacteria;p__Firmicutes;c__Clostridia;o__Ther...  k__Bacteria;p__Firmicutes;c__Clostridia;o__The...\n",
      "k__Bacteria;p__Firmicutes;c__Erysipelotrichi;o_...  k__Bacteria;p__Firmicutes;c__Erysipelotrichi;o...\n",
      "k__Bacteria;p__Fusobacteria;c__Fusobacteriia;o_...  k__Bacteria;p__Fusobacteria;c__Fusobacteriia;o...\n",
      "k__Bacteria;p__GN02;c__BD1-5;o__                                     k__Bacteria;p__GN02;c__BD1-5;o__\n",
      "k__Bacteria;p__Gemmatimonadetes;c__Gemm-3;o__           k__Bacteria;p__Gemmatimonadetes;c__Gemm-3;o__\n",
      "k__Bacteria;p__Gemmatimonadetes;c__Gemmatimonad...  k__Bacteria;p__Gemmatimonadetes;c__Gemmatimona...\n",
      "k__Bacteria;p__Gemmatimonadetes;c__Gemmatimonad...  k__Bacteria;p__Gemmatimonadetes;c__Gemmatimona...\n",
      "k__Bacteria;p__Gemmatimonadetes;c__Gemmatimonad...  k__Bacteria;p__Gemmatimonadetes;c__Gemmatimona...\n",
      "k__Bacteria;p__Gemmatimonadetes;c__Gemmatimonad...  k__Bacteria;p__Gemmatimonadetes;c__Gemmatimona...\n",
      "k__Bacteria;p__OD1;c__SM2F11;o__                                     k__Bacteria;p__OD1;c__SM2F11;o__\n",
      "k__Bacteria;p__OP11;c__;o__                                               k__Bacteria;p__OP11;c__;o__\n",
      "k__Bacteria;p__OP11;c__OP11-2;o__WCHB1-07                   k__Bacteria;p__OP11;c__OP11-2;o__WCHB1-07\n",
      "k__Bacteria;p__Planctomycetes;c__Phycisphaerae;...  k__Bacteria;p__Planctomycetes;c__Phycisphaerae...\n",
      "k__Bacteria;p__Planctomycetes;c__Phycisphaerae;...  k__Bacteria;p__Planctomycetes;c__Phycisphaerae...\n",
      "k__Bacteria;p__Planctomycetes;c__Planctomycetia...  k__Bacteria;p__Planctomycetes;c__Planctomyceti...\n",
      "k__Bacteria;p__Planctomycetes;c__Planctomycetia...  k__Bacteria;p__Planctomycetes;c__Planctomyceti...\n",
      "k__Bacteria;p__Planctomycetes;c__Planctomycetia...  k__Bacteria;p__Planctomycetes;c__Planctomyceti...\n",
      "k__Bacteria;p__Planctomycetes;c__vadinHA49;o__P...  k__Bacteria;p__Planctomycetes;c__vadinHA49;o__...\n",
      "k__Bacteria;p__Proteobacteria;c__;o__                           k__Bacteria;p__Proteobacteria;c__;o__\n",
      "k__Bacteria;p__Proteobacteria;c__Alphaproteobac...  k__Bacteria;p__Proteobacteria;c__Alphaproteoba...\n",
      "k__Bacteria;p__Proteobacteria;c__Alphaproteobac...  k__Bacteria;p__Proteobacteria;c__Alphaproteoba...\n",
      "k__Bacteria;p__Proteobacteria;c__Alphaproteobac...  k__Bacteria;p__Proteobacteria;c__Alphaproteoba...\n",
      "k__Bacteria;p__Proteobacteria;c__Alphaproteobac...  k__Bacteria;p__Proteobacteria;c__Alphaproteoba...\n",
      "k__Bacteria;p__Proteobacteria;c__Alphaproteobac...  k__Bacteria;p__Proteobacteria;c__Alphaproteoba...\n",
      "k__Bacteria;p__Proteobacteria;c__Alphaproteobac...  k__Bacteria;p__Proteobacteria;c__Alphaproteoba...\n",
      "k__Bacteria;p__Proteobacteria;c__Alphaproteobac...  k__Bacteria;p__Proteobacteria;c__Alphaproteoba...\n",
      "k__Bacteria;p__Proteobacteria;c__Alphaproteobac...  k__Bacteria;p__Proteobacteria;c__Alphaproteoba...\n",
      "k__Bacteria;p__Proteobacteria;c__Alphaproteobac...  k__Bacteria;p__Proteobacteria;c__Alphaproteoba...\n",
      "k__Bacteria;p__Proteobacteria;c__Alphaproteobac...  k__Bacteria;p__Proteobacteria;c__Alphaproteoba...\n",
      "k__Bacteria;p__Proteobacteria;c__Alphaproteobac...  k__Bacteria;p__Proteobacteria;c__Alphaproteoba...\n",
      "k__Bacteria;p__Proteobacteria;c__Betaproteobact...  k__Bacteria;p__Proteobacteria;c__Betaproteobac...\n",
      "k__Bacteria;p__Proteobacteria;c__Betaproteobact...  k__Bacteria;p__Proteobacteria;c__Betaproteobac...\n",
      "k__Bacteria;p__Proteobacteria;c__Betaproteobact...  k__Bacteria;p__Proteobacteria;c__Betaproteobac...\n",
      "k__Bacteria;p__Proteobacteria;c__Betaproteobact...  k__Bacteria;p__Proteobacteria;c__Betaproteobac...\n",
      "k__Bacteria;p__Proteobacteria;c__Betaproteobact...  k__Bacteria;p__Proteobacteria;c__Betaproteobac...\n",
      "k__Bacteria;p__Proteobacteria;c__Betaproteobact...  k__Bacteria;p__Proteobacteria;c__Betaproteobac...\n",
      "k__Bacteria;p__Proteobacteria;c__Betaproteobact...  k__Bacteria;p__Proteobacteria;c__Betaproteobac...\n",
      "k__Bacteria;p__Proteobacteria;c__Betaproteobact...  k__Bacteria;p__Proteobacteria;c__Betaproteobac...\n",
      "k__Bacteria;p__Proteobacteria;c__Betaproteobact...  k__Bacteria;p__Proteobacteria;c__Betaproteobac...\n",
      "k__Bacteria;p__Proteobacteria;c__Betaproteobact...  k__Bacteria;p__Proteobacteria;c__Betaproteobac...\n",
      "k__Bacteria;p__Proteobacteria;c__Betaproteobact...  k__Bacteria;p__Proteobacteria;c__Betaproteobac...\n",
      "k__Bacteria;p__Proteobacteria;c__Betaproteobact...  k__Bacteria;p__Proteobacteria;c__Betaproteobac...\n",
      "k__Bacteria;p__Proteobacteria;c__Deltaproteobac...  k__Bacteria;p__Proteobacteria;c__Deltaproteoba...\n",
      "k__Bacteria;p__Proteobacteria;c__Deltaproteobac...  k__Bacteria;p__Proteobacteria;c__Deltaproteoba...\n",
      "k__Bacteria;p__Proteobacteria;c__Deltaproteobac...  k__Bacteria;p__Proteobacteria;c__Deltaproteoba...\n",
      "k__Bacteria;p__Proteobacteria;c__Deltaproteobac...  k__Bacteria;p__Proteobacteria;c__Deltaproteoba...\n",
      "k__Bacteria;p__Proteobacteria;c__Deltaproteobac...  k__Bacteria;p__Proteobacteria;c__Deltaproteoba...\n",
      "k__Bacteria;p__Proteobacteria;c__Deltaproteobac...  k__Bacteria;p__Proteobacteria;c__Deltaproteoba...\n",
      "k__Bacteria;p__Proteobacteria;c__Deltaproteobac...  k__Bacteria;p__Proteobacteria;c__Deltaproteoba...\n",
      "k__Bacteria;p__Proteobacteria;c__Deltaproteobac...  k__Bacteria;p__Proteobacteria;c__Deltaproteoba...\n",
      "k__Bacteria;p__Proteobacteria;c__Deltaproteobac...  k__Bacteria;p__Proteobacteria;c__Deltaproteoba...\n",
      "k__Bacteria;p__Proteobacteria;c__Deltaproteobac...  k__Bacteria;p__Proteobacteria;c__Deltaproteoba...\n",
      "k__Bacteria;p__Proteobacteria;c__Epsilonproteob...  k__Bacteria;p__Proteobacteria;c__Epsilonproteo...\n",
      "k__Bacteria;p__Proteobacteria;c__Gammaproteobac...  k__Bacteria;p__Proteobacteria;c__Gammaproteoba...\n",
      "k__Bacteria;p__Proteobacteria;c__Gammaproteobac...  k__Bacteria;p__Proteobacteria;c__Gammaproteoba...\n",
      "k__Bacteria;p__Proteobacteria;c__Gammaproteobac...  k__Bacteria;p__Proteobacteria;c__Gammaproteoba...\n",
      "k__Bacteria;p__Proteobacteria;c__Gammaproteobac...  k__Bacteria;p__Proteobacteria;c__Gammaproteoba...\n",
      "k__Bacteria;p__Proteobacteria;c__Gammaproteobac...  k__Bacteria;p__Proteobacteria;c__Gammaproteoba...\n",
      "k__Bacteria;p__Proteobacteria;c__Gammaproteobac...  k__Bacteria;p__Proteobacteria;c__Gammaproteoba...\n",
      "k__Bacteria;p__Proteobacteria;c__Gammaproteobac...  k__Bacteria;p__Proteobacteria;c__Gammaproteoba...\n",
      "k__Bacteria;p__Proteobacteria;c__Gammaproteobac...  k__Bacteria;p__Proteobacteria;c__Gammaproteoba...\n",
      "k__Bacteria;p__Proteobacteria;c__Gammaproteobac...  k__Bacteria;p__Proteobacteria;c__Gammaproteoba...\n",
      "k__Bacteria;p__Proteobacteria;c__Gammaproteobac...  k__Bacteria;p__Proteobacteria;c__Gammaproteoba...\n",
      "k__Bacteria;p__Proteobacteria;c__Gammaproteobac...  k__Bacteria;p__Proteobacteria;c__Gammaproteoba...\n",
      "k__Bacteria;p__Proteobacteria;c__Gammaproteobac...  k__Bacteria;p__Proteobacteria;c__Gammaproteoba...\n",
      "k__Bacteria;p__Proteobacteria;c__Gammaproteobac...  k__Bacteria;p__Proteobacteria;c__Gammaproteoba...\n",
      "k__Bacteria;p__Proteobacteria;c__Gammaproteobac...  k__Bacteria;p__Proteobacteria;c__Gammaproteoba...\n",
      "k__Bacteria;p__Proteobacteria;c__Gammaproteobac...  k__Bacteria;p__Proteobacteria;c__Gammaproteoba...\n",
      "k__Bacteria;p__Spirochaetes;c__Spirochaetes;o__...  k__Bacteria;p__Spirochaetes;c__Spirochaetes;o_...\n",
      "k__Bacteria;p__Spirochaetes;c__Spirochaetes;o__...  k__Bacteria;p__Spirochaetes;c__Spirochaetes;o_...\n",
      "k__Bacteria;p__Synergistetes;c__Synergistia;o__...  k__Bacteria;p__Synergistetes;c__Synergistia;o_...\n",
      "k__Bacteria;p__TM6;c__SJA-4;o__                                       k__Bacteria;p__TM6;c__SJA-4;o__\n",
      "k__Bacteria;p__TM7;c__;o__                                                 k__Bacteria;p__TM7;c__;o__\n",
      "k__Bacteria;p__TM7;c__TM7-1;o__                                       k__Bacteria;p__TM7;c__TM7-1;o__\n",
      "k__Bacteria;p__TM7;c__TM7-3;o__                                       k__Bacteria;p__TM7;c__TM7-3;o__\n",
      "k__Bacteria;p__TM7;c__TM7-3;o__I025                               k__Bacteria;p__TM7;c__TM7-3;o__I025\n",
      "k__Bacteria;p__Tenericutes;c__Mollicutes;o__Ach...  k__Bacteria;p__Tenericutes;c__Mollicutes;o__Ac...\n",
      "k__Bacteria;p__Tenericutes;c__Mollicutes;o__Ana...  k__Bacteria;p__Tenericutes;c__Mollicutes;o__An...\n",
      "k__Bacteria;p__Tenericutes;c__Mollicutes;o__Ent...  k__Bacteria;p__Tenericutes;c__Mollicutes;o__En...\n",
      "k__Bacteria;p__Tenericutes;c__Mollicutes;o__RF39     k__Bacteria;p__Tenericutes;c__Mollicutes;o__RF39\n",
      "k__Bacteria;p__Verrucomicrobia;c__Opitutae;o__         k__Bacteria;p__Verrucomicrobia;c__Opitutae;o__\n",
      "k__Bacteria;p__Verrucomicrobia;c__Opitutae;o__O...  k__Bacteria;p__Verrucomicrobia;c__Opitutae;o__...\n",
      "k__Bacteria;p__Verrucomicrobia;c__Opitutae;o__P...  k__Bacteria;p__Verrucomicrobia;c__Opitutae;o__...\n",
      "k__Bacteria;p__Verrucomicrobia;c__Opitutae;o__[...  k__Bacteria;p__Verrucomicrobia;c__Opitutae;o__...\n",
      "k__Bacteria;p__Verrucomicrobia;c__Verrucomicrob...  k__Bacteria;p__Verrucomicrobia;c__Verrucomicro...\n",
      "k__Bacteria;p__Verrucomicrobia;c__[Spartobacter...  k__Bacteria;p__Verrucomicrobia;c__[Spartobacte...\n",
      "k__Bacteria;p__WPS-2;c__;o__                                             k__Bacteria;p__WPS-2;c__;o__\n",
      "k__Bacteria;p__[Thermi];c__Deinococci;o__Deinoc...  k__Bacteria;p__[Thermi];c__Deinococci;o__Deino...\n",
      "k__Bacteria;p__[Thermi];c__Deinococci;o__Thermales  k__Bacteria;p__[Thermi];c__Deinococci;o__Therm...\n"
     ]
    }
   ],
   "source": [
    "print(Spring_L4.feature_metadata)"
   ]
  },
  {
   "cell_type": "markdown",
   "metadata": {},
   "source": [
    "## Spring L4 modeling"
   ]
  },
  {
   "cell_type": "code",
   "execution_count": 6,
   "metadata": {},
   "outputs": [],
   "source": [
    "# groupKfold = 3, will leave out one body for each spring model\n",
    "gkf = GroupKFold(3)\n",
    "\n",
    "X = Spring_L4.data\n",
    "y = Spring_L4.sample_metadata['ADD_0']\n",
    "y = (y.astype(float))\n",
    "\n",
    "groups = Spring_L4.sample_metadata['host_subject_id']\n",
    "\n",
    "# used to test the param grid for parameter tuning\n",
    "# use the output of this estimator below for input into new estimator (not commented out)\n",
    "#param_grid = {\"max_depth\": [4, 8, 16, None],\n",
    "#              \"max_features\": ['sqrt', 'log2', 0.1],\n",
    "#              \"min_samples_split\": [0.001, 0.01, 0.1],\n",
    "#              \"min_weight_fraction_leaf\": [0.0001, 0.001, 0.01],\n",
    "#              \"bootstrap\": [True, False]}\n",
    "\n",
    "param_grid = {\"max_depth\": [8],\n",
    "          \"max_features\": [0.1],\n",
    "          \"min_samples_split\": [0.001],\n",
    "          \"min_weight_fraction_leaf\": [0.0001],\n",
    "          \"bootstrap\": [False]}\n",
    "\n",
    "rf = RandomForestRegressor(n_estimators=1000, random_state=999, criterion='mae')\n",
    "gs = GridSearchCV(rf, param_grid=param_grid, cv=gkf.split(X, y, groups), scoring='neg_mean_absolute_error', n_jobs=1)"
   ]
  },
  {
   "cell_type": "code",
   "execution_count": 7,
   "metadata": {},
   "outputs": [
    {
     "data": {
      "text/plain": [
       "GridSearchCV(cv=<generator object _BaseKFold.split at 0x7fa88a959d50>,\n",
       "             error_score=nan,\n",
       "             estimator=RandomForestRegressor(bootstrap=True, ccp_alpha=0.0,\n",
       "                                             criterion='mae', max_depth=None,\n",
       "                                             max_features='auto',\n",
       "                                             max_leaf_nodes=None,\n",
       "                                             max_samples=None,\n",
       "                                             min_impurity_decrease=0.0,\n",
       "                                             min_impurity_split=None,\n",
       "                                             min_samples_leaf=1,\n",
       "                                             min_samples_split=2,\n",
       "                                             min_weight_fraction_leaf=0.0,\n",
       "                                             n...imators=1000, n_jobs=None,\n",
       "                                             oob_score=False, random_state=999,\n",
       "                                             verbose=0, warm_start=False),\n",
       "             iid='deprecated', n_jobs=1,\n",
       "             param_grid={'bootstrap': [False], 'max_depth': [8],\n",
       "                         'max_features': [0.1], 'min_samples_split': [0.001],\n",
       "                         'min_weight_fraction_leaf': [0.0001]},\n",
       "             pre_dispatch='2*n_jobs', refit=True, return_train_score=False,\n",
       "             scoring='neg_mean_absolute_error', verbose=0)"
      ]
     },
     "execution_count": 7,
     "metadata": {},
     "output_type": "execute_result"
    }
   ],
   "source": [
    "gs.fit(X, y)"
   ]
  },
  {
   "cell_type": "code",
   "execution_count": 8,
   "metadata": {},
   "outputs": [
    {
     "name": "stdout",
     "output_type": "stream",
     "text": [
      "{'bootstrap': False, 'max_depth': 8, 'max_features': 0.1, 'min_samples_split': 0.001, 'min_weight_fraction_leaf': 0.0001}\n"
     ]
    }
   ],
   "source": [
    "# this line is used when run with the first param grid to determine what the best parameters are for tuning\n",
    "print(gs.best_params_)"
   ]
  },
  {
   "cell_type": "code",
   "execution_count": 9,
   "metadata": {},
   "outputs": [
    {
     "name": "stdout",
     "output_type": "stream",
     "text": [
      "The best mean absolute error is 1025.01\n"
     ]
    }
   ],
   "source": [
    "print('The best mean absolute error is', round(-gs.best_score_,2))"
   ]
  },
  {
   "cell_type": "code",
   "execution_count": 10,
   "metadata": {},
   "outputs": [
    {
     "data": {
      "text/plain": [
       "['models/bone_spring_L4_no_metadata.pkl']"
      ]
     },
     "execution_count": 10,
     "metadata": {},
     "output_type": "execute_result"
    }
   ],
   "source": [
    "joblib.dump(gs.best_estimator_, 'models/bone_spring_L4_no_metadata.pkl')"
   ]
  },
  {
   "cell_type": "code",
   "execution_count": 11,
   "metadata": {},
   "outputs": [
    {
     "data": {
      "text/plain": [
       "RandomForestRegressor(bootstrap=False, ccp_alpha=0.0, criterion='mae',\n",
       "                      max_depth=8, max_features=0.1, max_leaf_nodes=None,\n",
       "                      max_samples=None, min_impurity_decrease=0.0,\n",
       "                      min_impurity_split=None, min_samples_leaf=1,\n",
       "                      min_samples_split=0.001, min_weight_fraction_leaf=0.0001,\n",
       "                      n_estimators=1000, n_jobs=None, oob_score=False,\n",
       "                      random_state=999, verbose=0, warm_start=False)"
      ]
     },
     "execution_count": 11,
     "metadata": {},
     "output_type": "execute_result"
    }
   ],
   "source": [
    "bone_spring_L4 = joblib.load('models/bone_spring_L4_no_metadata.pkl')\n",
    "bone_spring_L4"
   ]
  },
  {
   "cell_type": "markdown",
   "metadata": {},
   "source": [
    "## Determine important features of spring L4 model"
   ]
  },
  {
   "cell_type": "code",
   "execution_count": 59,
   "metadata": {},
   "outputs": [
    {
     "name": "stdout",
     "output_type": "stream",
     "text": [
      "Feature:\t\t\t\tImportance:\n",
      "1. k__Bacteria;p__Proteobacteria;c__Alphaproteobacteria;o__Caulobacterales\t0.05475138328196004\n",
      "2. k__Bacteria;p__Firmicutes;c__Clostridia;o__Clostridiales\t0.04366773645599929\n",
      "3. k__Bacteria;p__Bacteroidetes;c__Sphingobacteriia;o__Sphingobacteriales\t0.04107538761418487\n",
      "4. k__Bacteria;p__Firmicutes;c__Bacilli;o__Lactobacillales\t0.04029268806222716\n",
      "5. k__Bacteria;p__Firmicutes;c__Erysipelotrichi;o__Erysipelotrichales\t0.038332603761591914\n",
      "6. k__Bacteria;p__Proteobacteria;c__Gammaproteobacteria;o__Xanthomonadales\t0.036851302183539\n",
      "7. k__Bacteria;p__Proteobacteria;c__Gammaproteobacteria;o__\t0.035501615549257945\n",
      "8. k__Bacteria;p__Firmicutes;c__Bacilli;o__Bacillales\t0.03268663400586559\n",
      "9. k__Bacteria;p__Proteobacteria;c__Alphaproteobacteria;o__Sphingomonadales\t0.031720504826073984\n",
      "10. k__Bacteria;p__Firmicutes;c__Bacilli;o__Gemellales\t0.028205529085910404\n",
      "11. k__Bacteria;p__Bacteroidetes;c__[Saprospirae];o__[Saprospirales]\t0.02741886265250109\n",
      "12. k__Bacteria;p__Proteobacteria;c__Betaproteobacteria;o__Neisseriales\t0.027400619950594965\n",
      "13. k__Bacteria;p__Proteobacteria;c__Alphaproteobacteria;o__Rhizobiales\t0.02697481840802155\n",
      "14. k__Bacteria;p__Proteobacteria;c__Alphaproteobacteria;o__Rhodospirillales\t0.026610694415373178\n",
      "15. k__Bacteria;p__Bacteroidetes;c__Flavobacteriia;o__Flavobacteriales\t0.025862795912953946\n",
      "16. k__Bacteria;p__Proteobacteria;c__Gammaproteobacteria;o__Thiotrichales\t0.025823026074069312\n",
      "17. k__Bacteria;p__Proteobacteria;c__Gammaproteobacteria;o__Enterobacteriales\t0.023821483822130674\n",
      "18. k__Bacteria;p__Cyanobacteria;c__4C0d-2;o__SM1D11\t0.022787544668257304\n",
      "19. k__Bacteria;p__Proteobacteria;c__Gammaproteobacteria;o__Pseudomonadales\t0.022295877076461596\n",
      "20. k__Bacteria;p__Proteobacteria;c__Betaproteobacteria;o__Burkholderiales\t0.02122598109175046\n",
      "21. k__Bacteria;p__Proteobacteria;c__Gammaproteobacteria;o__Pasteurellales\t0.021059047307103253\n",
      "22. k__Bacteria;p__Proteobacteria;c__Gammaproteobacteria;o__Methylococcales\t0.02071643109042928\n",
      "23. k__Bacteria;p__Bacteroidetes;c__Bacteroidia;o__Bacteroidales\t0.018463298435921476\n",
      "24. k__Bacteria;p__Proteobacteria;c__Epsilonproteobacteria;o__Campylobacterales\t0.015189550875950718\n",
      "25. k__Bacteria;p__[Thermi];c__Deinococci;o__Thermales\t0.014170938274284166\n"
     ]
    }
   ],
   "source": [
    "importances = bone_spring_L4.feature_importances_\n",
    "std = np.std([tree.feature_importances_ for tree in bone_spring_L4.estimators_],\n",
    "             axis=0)\n",
    "indices = np.argsort(importances)[::-1]\n",
    "\n",
    "feature_metadata = Spring_L4.feature_metadata\n",
    "np.savetxt(\"importances/bone_spring_L4_no_metadata_features.csv\", feature_metadata, delimiter=\",\", fmt='%s')\n",
    "\n",
    "\n",
    "#print the important ids in order\n",
    "general_importances = []\n",
    "count = 0\n",
    "print(\"Feature:\\t\\t\\t\\tImportance:\")\n",
    "for i in indices:\n",
    "    general_importances += (Spring_L4.feature_metadata.index.values[i], importances[indices[count]])\n",
    "    if count < 25:\n",
    "        print(str(count+1)+\". \"+str(Spring_L4.feature_metadata.index.values[i])+\"\\t\"+str(importances[indices[count]]))\n",
    "    count += 1\n",
    "    \n",
    "general_importances_df = pd.DataFrame(np.array(general_importances).reshape(258,1))\n",
    "\n",
    "np.savetxt(\"importances/bone_spring_L4_no_features_importances.csv\", general_importances_df, delimiter=\",\", fmt='%s')"
   ]
  },
  {
   "cell_type": "markdown",
   "metadata": {},
   "source": [
    "## Import rarefied table collapsed at level 3"
   ]
  },
  {
   "cell_type": "code",
   "execution_count": 60,
   "metadata": {},
   "outputs": [
    {
     "name": "stdout",
     "output_type": "stream",
     "text": [
      "2020-06-29 10:41:18 WARNING These have metadata but do not have data - dropped (51): {'11553.BLANKrib.5B', '11553.BLANKrib.11H', '11553.BLANKrib.9B', '11553.CSU.extraction.blank8', '11553.CSU.extraction.blank6', '11553.BLANKrib.11A', '11553.BLANKrib.11G', '11553.BLANKrib.12D', '11553.BLANKrib.10E', '11553.STAFS.2016.064.L12', '11553.CSU.extraction.blank11', '11553.BLANKrib.9E', '11553.CSU.extraction.blank14', '11553.BLANKrib.10D', '11553.CSU.extraction.blank12', '11553.BLANKrib.9A', '11553.SHSU.STAFS2016.007.R11', '11553.CSU.extraction.blank10', '11553.BLANKrib.9C', '11553.BLANKrib.12E', '11553.BLANKrib.12B', '11553.BLANKrib.9D', '11553.CSU.extraction.blank15', '11553.BLANKrib.12G', '11553.BLANKrib.12F', '11553.BLANKrib.10H', '11553.CSU.extraction.blank7', '11553.BLANKrib.11E', '11553.BLANKrib.11C', '11553.BLANKrib.10A', '11553.CSU.extraction.blank4', '11553.BLANKrib.12C', '11553.BLANKrib.9H', '11553.CSU.extraction.blank9', '11553.BLANKrib.11B', '11553.BLANKrib.12H', '11553.CSU.extraction.blank5', '11553.CSU.extraction.blank2', '11553.BLANKrib.10C', '11553.BLANKrib.11F', '11553.CSU.extraction.blank1', '11553.BLANKrib.10B', '11553.BLANKrib.12A', '11553.CSU.extraction.blank13', '11553.CSU.extraction.blank3', '11553.BLANKrib.11D', '11553.BLANKrib.9F', '11553.BLANKrib.10F', '11553.BLANKrib.10G', '11553.BLANKrib.9G', '11553.SHSU.STAFS2016.011.L09'}\n"
     ]
    }
   ],
   "source": [
    "exp_L3 = ca.read_amplicon('/Users/heatherdeel/Dropbox/PMI_3_analyses/bone/01_16S/01_qiime2_analysis/feature_tables/collapsed_tables/frag_ins_noChloMito_17098_L3_table.biom', '/Users/heatherdeel/Dropbox/PMI_3_analyses/bone/01_16S/02_metadata/maps/map3.txt', min_reads=0, normalize = None)\n"
   ]
  },
  {
   "cell_type": "code",
   "execution_count": 61,
   "metadata": {},
   "outputs": [
    {
     "data": {
      "text/plain": [
       "STAFS2016.011    8\n",
       "STAFS2016.024    7\n",
       "STAFS2016.007    7\n",
       "Name: host_subject_id, dtype: int64"
      ]
     },
     "execution_count": 61,
     "metadata": {},
     "output_type": "execute_result"
    }
   ],
   "source": [
    "# filter to spring\n",
    "Spring_L3 = exp_L3.filter_samples('season', 'spring')\n",
    "Spring_L3.sample_metadata.host_subject_id.value_counts()"
   ]
  },
  {
   "cell_type": "code",
   "execution_count": 62,
   "metadata": {},
   "outputs": [
    {
     "name": "stdout",
     "output_type": "stream",
     "text": [
      "                                                                                          _feature_id\n",
      "k__Archaea;p__Crenarchaeota;c__Thaumarchaeota           k__Archaea;p__Crenarchaeota;c__Thaumarchaeota\n",
      "k__Archaea;p__Euryarchaeota;c__Methanobacteria         k__Archaea;p__Euryarchaeota;c__Methanobacteria\n",
      "k__Bacteria;__;__                                                                   k__Bacteria;__;__\n",
      "k__Bacteria;p__Acidobacteria;c__DA052                           k__Bacteria;p__Acidobacteria;c__DA052\n",
      "k__Bacteria;p__Acidobacteria;c__Solibacteres             k__Bacteria;p__Acidobacteria;c__Solibacteres\n",
      "k__Bacteria;p__Acidobacteria;c__[Chloracidobact...  k__Bacteria;p__Acidobacteria;c__[Chloracidobac...\n",
      "k__Bacteria;p__Actinobacteria;c__Acidimicrobiia       k__Bacteria;p__Actinobacteria;c__Acidimicrobiia\n",
      "k__Bacteria;p__Actinobacteria;c__Actinobacteria       k__Bacteria;p__Actinobacteria;c__Actinobacteria\n",
      "k__Bacteria;p__Actinobacteria;c__Coriobacteriia       k__Bacteria;p__Actinobacteria;c__Coriobacteriia\n",
      "k__Bacteria;p__Actinobacteria;c__Rubrobacteria         k__Bacteria;p__Actinobacteria;c__Rubrobacteria\n",
      "k__Bacteria;p__Actinobacteria;c__Thermoleophilia     k__Bacteria;p__Actinobacteria;c__Thermoleophilia\n",
      "k__Bacteria;p__Armatimonadetes;c__Armatimonadia       k__Bacteria;p__Armatimonadetes;c__Armatimonadia\n",
      "k__Bacteria;p__Armatimonadetes;c__SHA-37                     k__Bacteria;p__Armatimonadetes;c__SHA-37\n",
      "k__Bacteria;p__Armatimonadetes;c__SJA-176                   k__Bacteria;p__Armatimonadetes;c__SJA-176\n",
      "k__Bacteria;p__Armatimonadetes;c__[Fimbriimonadia]  k__Bacteria;p__Armatimonadetes;c__[Fimbriimona...\n",
      "k__Bacteria;p__BRC1;c__PRR-11                                           k__Bacteria;p__BRC1;c__PRR-11\n",
      "k__Bacteria;p__Bacteroidetes;c__Bacteroidia               k__Bacteria;p__Bacteroidetes;c__Bacteroidia\n",
      "k__Bacteria;p__Bacteroidetes;c__Cytophagia                 k__Bacteria;p__Bacteroidetes;c__Cytophagia\n",
      "k__Bacteria;p__Bacteroidetes;c__Flavobacteriia         k__Bacteria;p__Bacteroidetes;c__Flavobacteriia\n",
      "k__Bacteria;p__Bacteroidetes;c__Sphingobacteriia     k__Bacteria;p__Bacteroidetes;c__Sphingobacteriia\n",
      "k__Bacteria;p__Bacteroidetes;c__[Saprospirae]           k__Bacteria;p__Bacteroidetes;c__[Saprospirae]\n",
      "k__Bacteria;p__Chlorobi;c__OPB56                                     k__Bacteria;p__Chlorobi;c__OPB56\n",
      "k__Bacteria;p__Chloroflexi;c__Chloroflexi                   k__Bacteria;p__Chloroflexi;c__Chloroflexi\n",
      "k__Bacteria;p__Chloroflexi;c__Ellin6529                       k__Bacteria;p__Chloroflexi;c__Ellin6529\n",
      "k__Bacteria;p__Chloroflexi;c__Thermomicrobia             k__Bacteria;p__Chloroflexi;c__Thermomicrobia\n",
      "k__Bacteria;p__Cyanobacteria;c__4C0d-2                         k__Bacteria;p__Cyanobacteria;c__4C0d-2\n",
      "k__Bacteria;p__Cyanobacteria;c__ML635J-21                   k__Bacteria;p__Cyanobacteria;c__ML635J-21\n",
      "k__Bacteria;p__Cyanobacteria;c__Oscillatoriophy...  k__Bacteria;p__Cyanobacteria;c__Oscillatorioph...\n",
      "k__Bacteria;p__Deferribacteres;c__Deferribacteres   k__Bacteria;p__Deferribacteres;c__Deferribacteres\n",
      "k__Bacteria;p__FBP;c__                                                         k__Bacteria;p__FBP;c__\n",
      "k__Bacteria;p__Firmicutes;c__AHT28                                 k__Bacteria;p__Firmicutes;c__AHT28\n",
      "k__Bacteria;p__Firmicutes;c__Bacilli                             k__Bacteria;p__Firmicutes;c__Bacilli\n",
      "k__Bacteria;p__Firmicutes;c__Clostridia                       k__Bacteria;p__Firmicutes;c__Clostridia\n",
      "k__Bacteria;p__Firmicutes;c__Erysipelotrichi             k__Bacteria;p__Firmicutes;c__Erysipelotrichi\n",
      "k__Bacteria;p__Fusobacteria;c__Fusobacteriia             k__Bacteria;p__Fusobacteria;c__Fusobacteriia\n",
      "k__Bacteria;p__GN02;c__BD1-5                                             k__Bacteria;p__GN02;c__BD1-5\n",
      "k__Bacteria;p__Gemmatimonadetes;c__Gemm-3                   k__Bacteria;p__Gemmatimonadetes;c__Gemm-3\n",
      "k__Bacteria;p__Gemmatimonadetes;c__Gemmatimonad...  k__Bacteria;p__Gemmatimonadetes;c__Gemmatimona...\n",
      "k__Bacteria;p__OD1;c__SM2F11                                             k__Bacteria;p__OD1;c__SM2F11\n",
      "k__Bacteria;p__OP11;c__                                                       k__Bacteria;p__OP11;c__\n",
      "k__Bacteria;p__OP11;c__OP11-2                                           k__Bacteria;p__OP11;c__OP11-2\n",
      "k__Bacteria;p__Planctomycetes;c__Phycisphaerae         k__Bacteria;p__Planctomycetes;c__Phycisphaerae\n",
      "k__Bacteria;p__Planctomycetes;c__Planctomycetia       k__Bacteria;p__Planctomycetes;c__Planctomycetia\n",
      "k__Bacteria;p__Planctomycetes;c__vadinHA49                 k__Bacteria;p__Planctomycetes;c__vadinHA49\n",
      "k__Bacteria;p__Proteobacteria;c__                                   k__Bacteria;p__Proteobacteria;c__\n",
      "k__Bacteria;p__Proteobacteria;c__Alphaproteobac...  k__Bacteria;p__Proteobacteria;c__Alphaproteoba...\n",
      "k__Bacteria;p__Proteobacteria;c__Betaproteobact...  k__Bacteria;p__Proteobacteria;c__Betaproteobac...\n",
      "k__Bacteria;p__Proteobacteria;c__Deltaproteobac...  k__Bacteria;p__Proteobacteria;c__Deltaproteoba...\n",
      "k__Bacteria;p__Proteobacteria;c__Epsilonproteob...  k__Bacteria;p__Proteobacteria;c__Epsilonproteo...\n",
      "k__Bacteria;p__Proteobacteria;c__Gammaproteobac...  k__Bacteria;p__Proteobacteria;c__Gammaproteoba...\n",
      "k__Bacteria;p__Spirochaetes;c__Spirochaetes               k__Bacteria;p__Spirochaetes;c__Spirochaetes\n",
      "k__Bacteria;p__Synergistetes;c__Synergistia               k__Bacteria;p__Synergistetes;c__Synergistia\n",
      "k__Bacteria;p__TM6;c__SJA-4                                               k__Bacteria;p__TM6;c__SJA-4\n",
      "k__Bacteria;p__TM7;c__                                                         k__Bacteria;p__TM7;c__\n",
      "k__Bacteria;p__TM7;c__TM7-1                                               k__Bacteria;p__TM7;c__TM7-1\n",
      "k__Bacteria;p__TM7;c__TM7-3                                               k__Bacteria;p__TM7;c__TM7-3\n",
      "k__Bacteria;p__Tenericutes;c__Mollicutes                     k__Bacteria;p__Tenericutes;c__Mollicutes\n",
      "k__Bacteria;p__Verrucomicrobia;c__Opitutae                 k__Bacteria;p__Verrucomicrobia;c__Opitutae\n",
      "k__Bacteria;p__Verrucomicrobia;c__Verrucomicrobiae  k__Bacteria;p__Verrucomicrobia;c__Verrucomicro...\n",
      "k__Bacteria;p__Verrucomicrobia;c__[Spartobacteria]  k__Bacteria;p__Verrucomicrobia;c__[Spartobacte...\n",
      "k__Bacteria;p__WPS-2;c__                                                     k__Bacteria;p__WPS-2;c__\n",
      "k__Bacteria;p__[Thermi];c__Deinococci                           k__Bacteria;p__[Thermi];c__Deinococci\n"
     ]
    }
   ],
   "source": [
    "print(Spring_L3.feature_metadata)"
   ]
  },
  {
   "cell_type": "markdown",
   "metadata": {},
   "source": [
    "## Spring L3 modeling"
   ]
  },
  {
   "cell_type": "code",
   "execution_count": 63,
   "metadata": {},
   "outputs": [],
   "source": [
    "# groupKfold = 3, will leave out one body for each spring model\n",
    "gkf = GroupKFold(3)\n",
    "\n",
    "X = Spring_L3.data\n",
    "y = Spring_L3.sample_metadata['ADD_0']\n",
    "y = (y.astype(float))\n",
    "\n",
    "groups = Spring_L3.sample_metadata['host_subject_id']\n",
    "\n",
    "# used to test the param grid for parameter tuning\n",
    "# use the output of this estimator below for input into new estimator (not commented out)\n",
    "param_grid = {\"max_depth\": [4, 8, 16, None],\n",
    "              \"max_features\": ['sqrt', 'log2', 0.1],\n",
    "              \"min_samples_split\": [0.001, 0.01, 0.1],\n",
    "              \"min_weight_fraction_leaf\": [0.0001, 0.001, 0.01],\n",
    "              \"bootstrap\": [True, False]}\n",
    "\n",
    "#param_grid = {\"max_depth\": [8],\n",
    "#          \"max_features\": [0.1],\n",
    "#          \"min_samples_split\": [0.001],\n",
    "#          \"min_weight_fraction_leaf\": [0.0001],\n",
    "#          \"bootstrap\": [False]}\n",
    "\n",
    "rf = RandomForestRegressor(n_estimators=1000, random_state=999, criterion='mae')\n",
    "gs = GridSearchCV(rf, param_grid=param_grid, cv=gkf.split(X, y, groups), scoring='neg_mean_absolute_error', n_jobs=1)"
   ]
  },
  {
   "cell_type": "code",
   "execution_count": 64,
   "metadata": {},
   "outputs": [
    {
     "data": {
      "text/plain": [
       "GridSearchCV(cv=<generator object _BaseKFold.split at 0x122715cd0>,\n",
       "             error_score=nan,\n",
       "             estimator=RandomForestRegressor(bootstrap=True, ccp_alpha=0.0,\n",
       "                                             criterion='mae', max_depth=None,\n",
       "                                             max_features='auto',\n",
       "                                             max_leaf_nodes=None,\n",
       "                                             max_samples=None,\n",
       "                                             min_impurity_decrease=0.0,\n",
       "                                             min_impurity_split=None,\n",
       "                                             min_samples_leaf=1,\n",
       "                                             min_samples_split=2,\n",
       "                                             min_weight_fraction_leaf=0.0,\n",
       "                                             n_es...\n",
       "                                             oob_score=False, random_state=999,\n",
       "                                             verbose=0, warm_start=False),\n",
       "             iid='deprecated', n_jobs=1,\n",
       "             param_grid={'bootstrap': [True, False],\n",
       "                         'max_depth': [4, 8, 16, None],\n",
       "                         'max_features': ['sqrt', 'log2', 0.1],\n",
       "                         'min_samples_split': [0.001, 0.01, 0.1],\n",
       "                         'min_weight_fraction_leaf': [0.0001, 0.001, 0.01]},\n",
       "             pre_dispatch='2*n_jobs', refit=True, return_train_score=False,\n",
       "             scoring='neg_mean_absolute_error', verbose=0)"
      ]
     },
     "execution_count": 64,
     "metadata": {},
     "output_type": "execute_result"
    }
   ],
   "source": [
    "gs.fit(X, y)"
   ]
  },
  {
   "cell_type": "code",
   "execution_count": 65,
   "metadata": {},
   "outputs": [
    {
     "name": "stdout",
     "output_type": "stream",
     "text": [
      "{'bootstrap': False, 'max_depth': 8, 'max_features': 'log2', 'min_samples_split': 0.001, 'min_weight_fraction_leaf': 0.0001}\n"
     ]
    }
   ],
   "source": [
    "# this line is used when run with the first param grid to determine what the best parameters are for tuning\n",
    "print(gs.best_params_)"
   ]
  },
  {
   "cell_type": "code",
   "execution_count": 66,
   "metadata": {},
   "outputs": [
    {
     "name": "stdout",
     "output_type": "stream",
     "text": [
      "The best mean absolute error is 987.59\n"
     ]
    }
   ],
   "source": [
    "print('The best mean absolute error is', round(-gs.best_score_,2))"
   ]
  },
  {
   "cell_type": "code",
   "execution_count": 67,
   "metadata": {},
   "outputs": [
    {
     "data": {
      "text/plain": [
       "['models/bone_spring_L3_no_metadata.pkl']"
      ]
     },
     "execution_count": 67,
     "metadata": {},
     "output_type": "execute_result"
    }
   ],
   "source": [
    "joblib.dump(gs.best_estimator_, 'models/bone_spring_L3_no_metadata.pkl')"
   ]
  },
  {
   "cell_type": "code",
   "execution_count": 68,
   "metadata": {},
   "outputs": [
    {
     "data": {
      "text/plain": [
       "RandomForestRegressor(bootstrap=False, ccp_alpha=0.0, criterion='mae',\n",
       "                      max_depth=8, max_features='log2', max_leaf_nodes=None,\n",
       "                      max_samples=None, min_impurity_decrease=0.0,\n",
       "                      min_impurity_split=None, min_samples_leaf=1,\n",
       "                      min_samples_split=0.001, min_weight_fraction_leaf=0.0001,\n",
       "                      n_estimators=1000, n_jobs=None, oob_score=False,\n",
       "                      random_state=999, verbose=0, warm_start=False)"
      ]
     },
     "execution_count": 68,
     "metadata": {},
     "output_type": "execute_result"
    }
   ],
   "source": [
    "bone_spring_L3 = joblib.load('models/bone_spring_L3_no_metadata.pkl')\n",
    "bone_spring_L3"
   ]
  },
  {
   "cell_type": "markdown",
   "metadata": {},
   "source": [
    "## Determine important features of spring L3 model"
   ]
  },
  {
   "cell_type": "code",
   "execution_count": 70,
   "metadata": {},
   "outputs": [
    {
     "name": "stdout",
     "output_type": "stream",
     "text": [
      "Feature:\t\t\t\tImportance:\n",
      "1. k__Bacteria;p__Proteobacteria;c__Alphaproteobacteria\t0.08448062230823035\n",
      "2. k__Bacteria;p__Firmicutes;c__Erysipelotrichi\t0.06961125680696126\n",
      "3. k__Bacteria;p__Bacteroidetes;c__Sphingobacteriia\t0.06669654295210935\n",
      "4. k__Bacteria;p__Firmicutes;c__Clostridia\t0.06337153783921855\n",
      "5. k__Bacteria;p__Firmicutes;c__Bacilli\t0.058919919707038707\n",
      "6. k__Bacteria;p__Proteobacteria;c__Betaproteobacteria\t0.05175102318565451\n",
      "7. k__Bacteria;p__Bacteroidetes;c__Flavobacteriia\t0.05118527235754803\n",
      "8. k__Bacteria;p__Bacteroidetes;c__Bacteroidia\t0.043538435302568346\n",
      "9. k__Bacteria;p__Proteobacteria;c__Gammaproteobacteria\t0.04241445998603448\n",
      "10. k__Bacteria;p__[Thermi];c__Deinococci\t0.03768005104421956\n",
      "11. k__Bacteria;p__Bacteroidetes;c__[Saprospirae]\t0.03406603107901827\n",
      "12. k__Bacteria;p__Cyanobacteria;c__4C0d-2\t0.027354857636189497\n",
      "13. k__Bacteria;p__Proteobacteria;c__Epsilonproteobacteria\t0.025014212589116003\n",
      "14. k__Bacteria;p__Actinobacteria;c__Actinobacteria\t0.02495028014021742\n",
      "15. k__Bacteria;p__Fusobacteria;c__Fusobacteriia\t0.023716671578763466\n",
      "16. k__Bacteria;p__Planctomycetes;c__Planctomycetia\t0.022508204301114006\n",
      "17. k__Bacteria;p__Proteobacteria;c__Deltaproteobacteria\t0.021440837053708108\n",
      "18. k__Bacteria;p__Verrucomicrobia;c__Verrucomicrobiae\t0.018929480481662684\n",
      "19. k__Bacteria;p__Verrucomicrobia;c__[Spartobacteria]\t0.018899300482202536\n",
      "20. k__Bacteria;p__Actinobacteria;c__Thermoleophilia\t0.01889265641867648\n",
      "21. k__Bacteria;p__Bacteroidetes;c__Cytophagia\t0.01823832086216058\n",
      "22. k__Bacteria;p__Actinobacteria;c__Acidimicrobiia\t0.013294286843266225\n",
      "23. k__Bacteria;p__GN02;c__BD1-5\t0.012474540023265668\n",
      "24. k__Bacteria;p__Planctomycetes;c__Phycisphaerae\t0.012298697782593643\n",
      "25. k__Bacteria;p__Chloroflexi;c__Thermomicrobia\t0.011591557649238953\n"
     ]
    }
   ],
   "source": [
    "importances = bone_spring_L3.feature_importances_\n",
    "std = np.std([tree.feature_importances_ for tree in bone_spring_L3.estimators_],\n",
    "             axis=0)\n",
    "indices = np.argsort(importances)[::-1]\n",
    "\n",
    "feature_metadata = Spring_L3.feature_metadata\n",
    "np.savetxt(\"importances/bone_spring_L3_no_metadata_features.csv\", feature_metadata, delimiter=\",\", fmt='%s')\n",
    "\n",
    "\n",
    "#print the important ids in order\n",
    "general_importances = []\n",
    "count = 0\n",
    "print(\"Feature:\\t\\t\\t\\tImportance:\")\n",
    "for i in indices:\n",
    "    general_importances += (Spring_L3.feature_metadata.index.values[i], importances[indices[count]])\n",
    "    if count < 25:\n",
    "        print(str(count+1)+\". \"+str(Spring_L3.feature_metadata.index.values[i])+\"\\t\"+str(importances[indices[count]]))\n",
    "    count += 1\n",
    "    \n",
    "general_importances_df = pd.DataFrame(np.array(general_importances).reshape(124,1))\n",
    "\n",
    "np.savetxt(\"importances/bone_spring_L3_no_features_importances.csv\", general_importances_df, delimiter=\",\", fmt='%s')"
   ]
  },
  {
   "cell_type": "markdown",
   "metadata": {},
   "source": [
    "## Import rarefied table collapsed at level 2"
   ]
  },
  {
   "cell_type": "code",
   "execution_count": 71,
   "metadata": {},
   "outputs": [
    {
     "name": "stdout",
     "output_type": "stream",
     "text": [
      "2020-06-29 10:53:56 WARNING These have metadata but do not have data - dropped (51): {'11553.BLANKrib.5B', '11553.BLANKrib.11H', '11553.BLANKrib.9B', '11553.CSU.extraction.blank8', '11553.CSU.extraction.blank6', '11553.BLANKrib.11A', '11553.BLANKrib.11G', '11553.BLANKrib.12D', '11553.BLANKrib.10E', '11553.STAFS.2016.064.L12', '11553.CSU.extraction.blank11', '11553.BLANKrib.9E', '11553.CSU.extraction.blank14', '11553.BLANKrib.10D', '11553.CSU.extraction.blank12', '11553.BLANKrib.9A', '11553.SHSU.STAFS2016.007.R11', '11553.CSU.extraction.blank10', '11553.BLANKrib.9C', '11553.BLANKrib.12E', '11553.BLANKrib.12B', '11553.BLANKrib.9D', '11553.CSU.extraction.blank15', '11553.BLANKrib.12G', '11553.BLANKrib.12F', '11553.BLANKrib.10H', '11553.CSU.extraction.blank7', '11553.BLANKrib.11E', '11553.BLANKrib.11C', '11553.BLANKrib.10A', '11553.CSU.extraction.blank4', '11553.BLANKrib.12C', '11553.BLANKrib.9H', '11553.CSU.extraction.blank9', '11553.BLANKrib.11B', '11553.BLANKrib.12H', '11553.CSU.extraction.blank5', '11553.CSU.extraction.blank2', '11553.BLANKrib.10C', '11553.BLANKrib.11F', '11553.CSU.extraction.blank1', '11553.BLANKrib.10B', '11553.BLANKrib.12A', '11553.CSU.extraction.blank13', '11553.CSU.extraction.blank3', '11553.BLANKrib.11D', '11553.BLANKrib.9F', '11553.BLANKrib.10F', '11553.BLANKrib.10G', '11553.BLANKrib.9G', '11553.SHSU.STAFS2016.011.L09'}\n"
     ]
    }
   ],
   "source": [
    "exp_L2 = ca.read_amplicon('/Users/heatherdeel/Dropbox/PMI_3_analyses/bone/01_16S/01_qiime2_analysis/feature_tables/collapsed_tables/frag_ins_noChloMito_17098_L2_table.biom', '../02_metadata/maps/map3.txt', min_reads=0, normalize = None)\n"
   ]
  },
  {
   "cell_type": "code",
   "execution_count": 72,
   "metadata": {},
   "outputs": [
    {
     "data": {
      "text/plain": [
       "STAFS2016.011    8\n",
       "STAFS2016.024    7\n",
       "STAFS2016.007    7\n",
       "Name: host_subject_id, dtype: int64"
      ]
     },
     "execution_count": 72,
     "metadata": {},
     "output_type": "execute_result"
    }
   ],
   "source": [
    "# filter to spring\n",
    "Spring_L2 = exp_L2.filter_samples('season', 'spring')\n",
    "Spring_L2.sample_metadata.host_subject_id.value_counts()"
   ]
  },
  {
   "cell_type": "code",
   "execution_count": 73,
   "metadata": {},
   "outputs": [
    {
     "name": "stdout",
     "output_type": "stream",
     "text": [
      "                                                     _feature_id\n",
      "k__Archaea;p__Crenarchaeota          k__Archaea;p__Crenarchaeota\n",
      "k__Archaea;p__Euryarchaeota          k__Archaea;p__Euryarchaeota\n",
      "k__Bacteria;__                                    k__Bacteria;__\n",
      "k__Bacteria;p__Acidobacteria        k__Bacteria;p__Acidobacteria\n",
      "k__Bacteria;p__Actinobacteria      k__Bacteria;p__Actinobacteria\n",
      "k__Bacteria;p__Armatimonadetes    k__Bacteria;p__Armatimonadetes\n",
      "k__Bacteria;p__BRC1                          k__Bacteria;p__BRC1\n",
      "k__Bacteria;p__Bacteroidetes        k__Bacteria;p__Bacteroidetes\n",
      "k__Bacteria;p__Chlorobi                  k__Bacteria;p__Chlorobi\n",
      "k__Bacteria;p__Chloroflexi            k__Bacteria;p__Chloroflexi\n",
      "k__Bacteria;p__Cyanobacteria        k__Bacteria;p__Cyanobacteria\n",
      "k__Bacteria;p__Deferribacteres    k__Bacteria;p__Deferribacteres\n",
      "k__Bacteria;p__FBP                            k__Bacteria;p__FBP\n",
      "k__Bacteria;p__Firmicutes              k__Bacteria;p__Firmicutes\n",
      "k__Bacteria;p__Fusobacteria          k__Bacteria;p__Fusobacteria\n",
      "k__Bacteria;p__GN02                          k__Bacteria;p__GN02\n",
      "k__Bacteria;p__Gemmatimonadetes  k__Bacteria;p__Gemmatimonadetes\n",
      "k__Bacteria;p__OD1                            k__Bacteria;p__OD1\n",
      "k__Bacteria;p__OP11                          k__Bacteria;p__OP11\n",
      "k__Bacteria;p__Planctomycetes      k__Bacteria;p__Planctomycetes\n",
      "k__Bacteria;p__Proteobacteria      k__Bacteria;p__Proteobacteria\n",
      "k__Bacteria;p__Spirochaetes          k__Bacteria;p__Spirochaetes\n",
      "k__Bacteria;p__Synergistetes        k__Bacteria;p__Synergistetes\n",
      "k__Bacteria;p__TM6                            k__Bacteria;p__TM6\n",
      "k__Bacteria;p__TM7                            k__Bacteria;p__TM7\n",
      "k__Bacteria;p__Tenericutes            k__Bacteria;p__Tenericutes\n",
      "k__Bacteria;p__Verrucomicrobia    k__Bacteria;p__Verrucomicrobia\n",
      "k__Bacteria;p__WPS-2                        k__Bacteria;p__WPS-2\n",
      "k__Bacteria;p__[Thermi]                  k__Bacteria;p__[Thermi]\n"
     ]
    }
   ],
   "source": [
    "print(Spring_L2.feature_metadata)"
   ]
  },
  {
   "cell_type": "markdown",
   "metadata": {},
   "source": [
    "## Spring L2 modeling"
   ]
  },
  {
   "cell_type": "code",
   "execution_count": 74,
   "metadata": {},
   "outputs": [],
   "source": [
    "# groupKfold = 3, will leave out one body for each spring model\n",
    "gkf = GroupKFold(3)\n",
    "\n",
    "X = Spring_L2.data\n",
    "y = Spring_L2.sample_metadata['ADD_0']\n",
    "y = (y.astype(float))\n",
    "\n",
    "groups = Spring_L2.sample_metadata['host_subject_id']\n",
    "\n",
    "# used to test the param grid for parameter tuning\n",
    "# use the output of this estimator below for input into new estimator (not commented out)\n",
    "param_grid = {\"max_depth\": [4, 8, 16, None],\n",
    "              \"max_features\": ['sqrt', 'log2', 0.1],\n",
    "              \"min_samples_split\": [0.001, 0.01, 0.1],\n",
    "              \"min_weight_fraction_leaf\": [0.0001, 0.001, 0.01],\n",
    "              \"bootstrap\": [True, False]}\n",
    "\n",
    "#param_grid = {\"max_depth\": [8],\n",
    "#          \"max_features\": [0.1],\n",
    "#          \"min_samples_split\": [0.001],\n",
    "#          \"min_weight_fraction_leaf\": [0.0001],\n",
    "#          \"bootstrap\": [False]}\n",
    "\n",
    "rf = RandomForestRegressor(n_estimators=1000, random_state=999, criterion='mae')\n",
    "gs = GridSearchCV(rf, param_grid=param_grid, cv=gkf.split(X, y, groups), scoring='neg_mean_absolute_error', n_jobs=1)"
   ]
  },
  {
   "cell_type": "code",
   "execution_count": 75,
   "metadata": {},
   "outputs": [
    {
     "data": {
      "text/plain": [
       "GridSearchCV(cv=<generator object _BaseKFold.split at 0x122702f50>,\n",
       "             error_score=nan,\n",
       "             estimator=RandomForestRegressor(bootstrap=True, ccp_alpha=0.0,\n",
       "                                             criterion='mae', max_depth=None,\n",
       "                                             max_features='auto',\n",
       "                                             max_leaf_nodes=None,\n",
       "                                             max_samples=None,\n",
       "                                             min_impurity_decrease=0.0,\n",
       "                                             min_impurity_split=None,\n",
       "                                             min_samples_leaf=1,\n",
       "                                             min_samples_split=2,\n",
       "                                             min_weight_fraction_leaf=0.0,\n",
       "                                             n_es...\n",
       "                                             oob_score=False, random_state=999,\n",
       "                                             verbose=0, warm_start=False),\n",
       "             iid='deprecated', n_jobs=1,\n",
       "             param_grid={'bootstrap': [True, False],\n",
       "                         'max_depth': [4, 8, 16, None],\n",
       "                         'max_features': ['sqrt', 'log2', 0.1],\n",
       "                         'min_samples_split': [0.001, 0.01, 0.1],\n",
       "                         'min_weight_fraction_leaf': [0.0001, 0.001, 0.01]},\n",
       "             pre_dispatch='2*n_jobs', refit=True, return_train_score=False,\n",
       "             scoring='neg_mean_absolute_error', verbose=0)"
      ]
     },
     "execution_count": 75,
     "metadata": {},
     "output_type": "execute_result"
    }
   ],
   "source": [
    "gs.fit(X, y)"
   ]
  },
  {
   "cell_type": "code",
   "execution_count": 76,
   "metadata": {},
   "outputs": [
    {
     "name": "stdout",
     "output_type": "stream",
     "text": [
      "{'bootstrap': False, 'max_depth': 8, 'max_features': 0.1, 'min_samples_split': 0.001, 'min_weight_fraction_leaf': 0.0001}\n"
     ]
    }
   ],
   "source": [
    "# this line is used when run with the first param grid to determine what the best parameters are for tuning\n",
    "print(gs.best_params_)"
   ]
  },
  {
   "cell_type": "code",
   "execution_count": 77,
   "metadata": {},
   "outputs": [
    {
     "name": "stdout",
     "output_type": "stream",
     "text": [
      "The best mean absolute error is 1074.76\n"
     ]
    }
   ],
   "source": [
    "print('The best mean absolute error is', round(-gs.best_score_,2))"
   ]
  },
  {
   "cell_type": "code",
   "execution_count": 78,
   "metadata": {},
   "outputs": [
    {
     "data": {
      "text/plain": [
       "['models/bone_spring_L2_no_metadata.pkl']"
      ]
     },
     "execution_count": 78,
     "metadata": {},
     "output_type": "execute_result"
    }
   ],
   "source": [
    "joblib.dump(gs.best_estimator_, 'models/bone_spring_L2_no_metadata.pkl')"
   ]
  },
  {
   "cell_type": "code",
   "execution_count": 79,
   "metadata": {},
   "outputs": [
    {
     "data": {
      "text/plain": [
       "RandomForestRegressor(bootstrap=False, ccp_alpha=0.0, criterion='mae',\n",
       "                      max_depth=8, max_features=0.1, max_leaf_nodes=None,\n",
       "                      max_samples=None, min_impurity_decrease=0.0,\n",
       "                      min_impurity_split=None, min_samples_leaf=1,\n",
       "                      min_samples_split=0.001, min_weight_fraction_leaf=0.0001,\n",
       "                      n_estimators=1000, n_jobs=None, oob_score=False,\n",
       "                      random_state=999, verbose=0, warm_start=False)"
      ]
     },
     "execution_count": 79,
     "metadata": {},
     "output_type": "execute_result"
    }
   ],
   "source": [
    "bone_spring_L2 = joblib.load('models/bone_spring_L2_no_metadata.pkl')\n",
    "bone_spring_L2"
   ]
  },
  {
   "cell_type": "markdown",
   "metadata": {},
   "source": [
    "## Determine important features of spring L2 model"
   ]
  },
  {
   "cell_type": "code",
   "execution_count": 80,
   "metadata": {},
   "outputs": [
    {
     "name": "stdout",
     "output_type": "stream",
     "text": [
      "Feature:\t\t\t\tImportance:\n",
      "1. k__Bacteria;p__Firmicutes\t0.13530715039970023\n",
      "2. k__Bacteria;p__Bacteroidetes\t0.10307049542398712\n",
      "3. k__Bacteria;p__Proteobacteria\t0.0987264809928522\n",
      "4. k__Bacteria;p__[Thermi]\t0.07440302969224813\n",
      "5. k__Bacteria;p__Actinobacteria\t0.06262480771454591\n",
      "6. k__Bacteria;p__Planctomycetes\t0.06113420010000938\n",
      "7. k__Bacteria;p__Verrucomicrobia\t0.0578917215512778\n",
      "8. k__Bacteria;p__Fusobacteria\t0.054603372264265426\n",
      "9. k__Bacteria;p__Chloroflexi\t0.04277828070587122\n",
      "10. k__Bacteria;p__Cyanobacteria\t0.034238303496331585\n",
      "11. k__Bacteria;p__GN02\t0.03130093319495075\n",
      "12. k__Bacteria;p__Armatimonadetes\t0.02724114167654929\n",
      "13. k__Bacteria;p__Gemmatimonadetes\t0.026806790368113127\n",
      "14. k__Bacteria;p__Tenericutes\t0.024549767112663032\n",
      "15. k__Bacteria;p__Deferribacteres\t0.024323105308209886\n",
      "16. k__Bacteria;p__FBP\t0.024246926476910798\n",
      "17. k__Bacteria;p__Acidobacteria\t0.023407665822652263\n",
      "18. k__Bacteria;p__OP11\t0.02151079451611744\n",
      "19. k__Bacteria;p__BRC1\t0.020546800080858508\n",
      "20. k__Bacteria;p__Spirochaetes\t0.01774821841685956\n",
      "21. k__Bacteria;p__TM7\t0.012463274121778471\n",
      "22. k__Bacteria;p__Chlorobi\t0.01137715648749132\n",
      "23. k__Bacteria;p__OD1\t0.009699584075756301\n",
      "24. k__Bacteria;p__Synergistetes\t0.0\n",
      "25. k__Bacteria;p__TM6\t0.0\n"
     ]
    }
   ],
   "source": [
    "importances = bone_spring_L2.feature_importances_\n",
    "std = np.std([tree.feature_importances_ for tree in bone_spring_L2.estimators_],\n",
    "             axis=0)\n",
    "indices = np.argsort(importances)[::-1]\n",
    "\n",
    "feature_metadata = Spring_L2.feature_metadata\n",
    "np.savetxt(\"importances/bone_spring_L2_no_metadata_features.csv\", feature_metadata, delimiter=\",\", fmt='%s')\n",
    "\n",
    "\n",
    "#print the important ids in order\n",
    "general_importances = []\n",
    "count = 0\n",
    "print(\"Feature:\\t\\t\\t\\tImportance:\")\n",
    "for i in indices:\n",
    "    general_importances += (Spring_L2.feature_metadata.index.values[i], importances[indices[count]])\n",
    "    if count < 25:\n",
    "        print(str(count+1)+\". \"+str(Spring_L2.feature_metadata.index.values[i])+\"\\t\"+str(importances[indices[count]]))\n",
    "    count += 1\n",
    "    \n",
    "general_importances_df = pd.DataFrame(np.array(general_importances).reshape(58,1))\n",
    "\n",
    "np.savetxt(\"importances/bone_spring_L2_no_features_importances.csv\", general_importances_df, delimiter=\",\", fmt='%s')"
   ]
  },
  {
   "cell_type": "code",
   "execution_count": null,
   "metadata": {},
   "outputs": [],
   "source": []
  }
 ],
 "metadata": {
  "kernelspec": {
   "display_name": "Python 3",
   "language": "python",
   "name": "python3"
  },
  "language_info": {
   "codemirror_mode": {
    "name": "ipython",
    "version": 3
   },
   "file_extension": ".py",
   "mimetype": "text/x-python",
   "name": "python",
   "nbconvert_exporter": "python",
   "pygments_lexer": "ipython3",
   "version": "3.7.7"
  }
 },
 "nbformat": 4,
 "nbformat_minor": 2
}
