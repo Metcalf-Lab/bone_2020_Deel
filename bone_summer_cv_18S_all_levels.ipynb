{
 "cells": [
  {
   "cell_type": "markdown",
   "metadata": {},
   "source": [
    "## Description"
   ]
  },
  {
   "cell_type": "markdown",
   "metadata": {},
   "source": [
    "Bone models of only summer 18S rRNA data at all levels, using the ml_new environment, rarefied data and no normalization during import, n = 1000 estimators, k fold = 6 (for regular, non-nested cross-validation), and hyperparameter tuning. Incorporates no metadata features.\n",
    "\n",
    "Note: only went up to level 12 because levels 12-15 collapse at the exact same taxa."
   ]
  },
  {
   "cell_type": "code",
   "execution_count": 1,
   "metadata": {},
   "outputs": [
    {
     "name": "stderr",
     "output_type": "stream",
     "text": [
      "/Users/heatherdeel/opt/miniconda3/envs/ml/lib/python3.7/site-packages/sklearn/externals/joblib/__init__.py:15: FutureWarning: sklearn.externals.joblib is deprecated in 0.21 and will be removed in 0.23. Please import this functionality directly from joblib, which can be installed with: pip install joblib. If this warning is raised when loading pickled models, you may need to re-serialize those models with scikit-learn 0.21+.\n",
      "  warnings.warn(msg, category=FutureWarning)\n"
     ]
    }
   ],
   "source": [
    "from sklearn.ensemble import RandomForestRegressor\n",
    "from sklearn import preprocessing, svm, metrics\n",
    "from sklearn.ensemble import RandomForestClassifier, ExtraTreesClassifier\n",
    "from sklearn.model_selection import StratifiedKFold, KFold, GridSearchCV, GroupKFold, cross_val_score, train_test_split\n",
    "from sklearn.pipeline import Pipeline\n",
    "from sklearn.svm import LinearSVC, SVR\n",
    "from sklearn.metrics import r2_score, mean_squared_error, mean_absolute_error, mean_absolute_error, roc_auc_score, precision_score, make_scorer\n",
    "from sklearn.linear_model import LassoCV, Lasso, LassoLarsIC, ElasticNet, LassoLarsCV\n",
    "from sklearn.externals import joblib\n",
    "from scipy.stats import randint as sp_randint\n",
    "from matplotlib import pyplot as plt\n",
    "from sklearn.feature_selection import RFECV\n",
    "from sklearn.gaussian_process import GaussianProcessClassifier\n",
    "from sklearn.gaussian_process.kernels import RBF\n",
    "from sklearn.neighbors import KNeighborsClassifier, RadiusNeighborsClassifier"
   ]
  },
  {
   "cell_type": "code",
   "execution_count": 2,
   "metadata": {},
   "outputs": [
    {
     "name": "stderr",
     "output_type": "stream",
     "text": [
      "/Users/heatherdeel/opt/miniconda3/envs/ml/lib/python3.7/site-packages/skbio/util/_testing.py:15: FutureWarning: pandas.util.testing is deprecated. Use the functions in the public API at pandas.testing instead.\n",
      "  import pandas.util.testing as pdt\n"
     ]
    }
   ],
   "source": [
    "import pandas as pd\n",
    "import numpy as np\n",
    "import matplotlib\n",
    "import seaborn as sns\n",
    "%matplotlib inline\n",
    "import biom\n",
    "import calour as ca\n",
    "from scipy import stats\n",
    "import scipy\n",
    "import pickle\n",
    "import time\n",
    "import math\n",
    "import inspect\n",
    "pd.set_option('display.max_rows', 10000)"
   ]
  },
  {
   "cell_type": "markdown",
   "metadata": {},
   "source": [
    "## Import data at the ASV level"
   ]
  },
  {
   "cell_type": "code",
   "execution_count": 3,
   "metadata": {},
   "outputs": [
    {
     "name": "stdout",
     "output_type": "stream",
     "text": [
      "2020-07-02 11:39:27 WARNING These have metadata but do not have data - dropped (59): {'STAFS.2016.065.L10', 'CSU.extraction.blank11', 'STAFS.2016.065.L11', 'BLANK52.9A', 'BLANK52.9H', 'CSU.extraction.blank1', 'BLANK52.9C', 'BLANK52.10D', 'BLANK52.12A', 'CSU.extraction.blank12', 'CSU.extraction.blank6', 'CSU.extraction.blank4', 'CSU.extraction.blank8', 'CSU.extraction.blank13', 'BLANK52.11D', 'BLANK52.12B', 'BLANK52.9G', 'CSU.extraction.blank10', 'CSU.extraction.blank2', 'BLANK52.11F', 'BLANK52.5B', 'BLANK52.10F', 'BLANK52.11C', 'CSU.extraction.blank14', 'BLANK52.10B', 'SHSU.STAFS2016.011.L09', 'BLANK52.9B', 'STAFS.2016.065.L09', 'BLANK52.10G', 'BLANK52.11A', 'BLANK52.12D', 'BLANK52.10E', 'SHSU.STAFS2016.024.L10', 'CSU.extraction.blank15', 'BLANK52.12F', 'BLANK52.9F', 'BLANK52.11B', 'STAFS.2016.064.R09', 'BLANK52.10A', 'SHSU.STAFS2016.007.L09', 'CSU.extraction.blank9', '#q2:types', 'SHSU.STAFS2016.007.R10', 'BLANK52.11E', 'BLANK52.12G', 'BLANK52.9D', 'BLANK52.11H', 'BLANK52.11G', 'BLANK52.12E', 'BLANK52.12H', 'STAFS.2016.067.R12', 'BLANK52.10H', 'CSU.extraction.blank5', 'BLANK52.10C', 'CSU.extraction.blank3', 'CSU.extraction.blank7', 'STAFS.2016.067.L11.march', 'BLANK52.12C', 'BLANK52.9E'}\n"
     ]
    }
   ],
   "source": [
    "exp_ASV = ca.read_amplicon('/Users/heatherdeel/Dropbox/PMI_3_analyses/bone/02_18S/Hiseq_original_run/forward_reads_only/01_qiime2_analysis/03_feature_tables/18S_plate52_ribonly_table_full_taxfiltered_214940.biom', '/Users/heatherdeel/Dropbox/PMI_3_analyses/bone/02_18S/Hiseq_original_run/forward_reads_only/02_metadata/map_18S.txt', min_reads=0, normalize=None)\n"
   ]
  },
  {
   "cell_type": "markdown",
   "metadata": {},
   "source": [
    "## Filter to only summer ASV data"
   ]
  },
  {
   "cell_type": "code",
   "execution_count": 4,
   "metadata": {},
   "outputs": [
    {
     "data": {
      "text/plain": [
       "STAFS2016.064    7\n",
       "STAFS2016.067    6\n",
       "STAFS2016.065    5\n",
       "Name: host_subject_id, dtype: int64"
      ]
     },
     "execution_count": 4,
     "metadata": {},
     "output_type": "execute_result"
    }
   ],
   "source": [
    "#filtering out spring and defining this as \"Summer\"\n",
    "Summer_ASV = exp_ASV.filter_samples('season', 'summer')\n",
    "Summer_ASV.sample_metadata.host_subject_id.value_counts()"
   ]
  },
  {
   "cell_type": "code",
   "execution_count": 5,
   "metadata": {},
   "outputs": [
    {
     "data": {
      "text/plain": [
       "SampleID\n",
       "STAFS.2016.064.L09         4013.333333\n",
       "STAFS.2016.065.R08         4013.333333\n",
       "STAFS.2016.067.L10         3623.055556\n",
       "STAFS.2016.067.R10                1645\n",
       "STAFS.2016.064.R12         2035.277778\n",
       "STAFS.2016.067.R09         1877.777778\n",
       "STAFS.2016.065.R10         2804.722222\n",
       "STAFS.2016.067.L12         4366.111111\n",
       "STAFS.2016.065.R09         3456.111111\n",
       "STAFS.2016.064.R10         3456.111111\n",
       "STAFS.2016.065.L12         2268.055556\n",
       "STAFS.2016.064.L10         4756.388889\n",
       "STAFS.2016.065.R11         4756.388889\n",
       "STAFS.2016.067.R11         1151.666667\n",
       "STAFS.2016.064.L12         2268.055556\n",
       "STAFS.2016.067.L11.june    5201.388889\n",
       "STAFS.2016.064.R11         1300.555556\n",
       "STAFS.2016.064.L11         2804.722222\n",
       "Name: ADD, dtype: object"
      ]
     },
     "execution_count": 5,
     "metadata": {},
     "output_type": "execute_result"
    }
   ],
   "source": [
    "Summer_ASV.sample_metadata['ADD']"
   ]
  },
  {
   "cell_type": "code",
   "execution_count": 6,
   "metadata": {},
   "outputs": [
    {
     "name": "stdout",
     "output_type": "stream",
     "text": [
      "                                                       _feature_id\n",
      "4bdd78c3c45acd439bdd1881ea7eaac2  4bdd78c3c45acd439bdd1881ea7eaac2\n",
      "a05b1c9560df7eceb2d90e8b6f5ef2aa  a05b1c9560df7eceb2d90e8b6f5ef2aa\n",
      "a0c745282e0f7e513c095ec030e80780  a0c745282e0f7e513c095ec030e80780\n",
      "9e048aa0ed66db3f1c3d3d4063ac22e3  9e048aa0ed66db3f1c3d3d4063ac22e3\n",
      "1feb171007495e3e1d9994306a77d004  1feb171007495e3e1d9994306a77d004\n",
      "2466b3ba732737511076437584b5bc9f  2466b3ba732737511076437584b5bc9f\n",
      "df6ef6f198417d48e8bbbca8d9353d1e  df6ef6f198417d48e8bbbca8d9353d1e\n",
      "9274fbc42446bdfd64b443e4b16fd168  9274fbc42446bdfd64b443e4b16fd168\n",
      "8fe031ef4a665ed43b47b0ded2101c7b  8fe031ef4a665ed43b47b0ded2101c7b\n",
      "014d1667ebbccd7d439d488cdb01b05f  014d1667ebbccd7d439d488cdb01b05f\n",
      "e38ec0a2f0070193558338feac87c976  e38ec0a2f0070193558338feac87c976\n",
      "b5d33326dce0f687283a8ceee7714404  b5d33326dce0f687283a8ceee7714404\n",
      "3526664f852de7e298943fe195ffa86e  3526664f852de7e298943fe195ffa86e\n",
      "39640d42a246ac16106c367552162ac4  39640d42a246ac16106c367552162ac4\n",
      "d96c9ab363783aabc77eb9fd19566d37  d96c9ab363783aabc77eb9fd19566d37\n",
      "899ff57b47fc12cd1dc1135fb0e007b3  899ff57b47fc12cd1dc1135fb0e007b3\n",
      "f001681939d713a2765bcf77629ec8fd  f001681939d713a2765bcf77629ec8fd\n",
      "0224d0f502f16b63895d53b86062ecc8  0224d0f502f16b63895d53b86062ecc8\n",
      "e7336fa09b35e8d205d22d0d9d8a0633  e7336fa09b35e8d205d22d0d9d8a0633\n",
      "1975088cf1b1cdb88f3e58f5cfdd63d7  1975088cf1b1cdb88f3e58f5cfdd63d7\n",
      "dbda10e7fd9269149bdae13589430600  dbda10e7fd9269149bdae13589430600\n",
      "fdcb2899839c39aad7bdae5adcf2a568  fdcb2899839c39aad7bdae5adcf2a568\n",
      "6f056e15ddf3ed48ce54613b6e66b29d  6f056e15ddf3ed48ce54613b6e66b29d\n",
      "6d3b9a31373e73a424433b2d71285410  6d3b9a31373e73a424433b2d71285410\n",
      "1653be466d033b20897f95791e6d2f86  1653be466d033b20897f95791e6d2f86\n",
      "b42969dabdb77a3026da5ec3ff23b36e  b42969dabdb77a3026da5ec3ff23b36e\n",
      "e6f6321addacdbc73524132fd0c106d6  e6f6321addacdbc73524132fd0c106d6\n",
      "a02f3ec373aa98d81e6c59a2ef1a33cd  a02f3ec373aa98d81e6c59a2ef1a33cd\n",
      "e6a2082b6c9ed5c00280c6fa1dded416  e6a2082b6c9ed5c00280c6fa1dded416\n",
      "892993b0bd1b0b3c5b863f1dfe704587  892993b0bd1b0b3c5b863f1dfe704587\n",
      "674bb6f576fd1ea88be036846f820c09  674bb6f576fd1ea88be036846f820c09\n",
      "b1b6cec880f70066d09cf454772d5cbb  b1b6cec880f70066d09cf454772d5cbb\n",
      "0e5c90e76df24b4d6e4637f2ea827e89  0e5c90e76df24b4d6e4637f2ea827e89\n",
      "4158c706035ed123dc09b08b8a07fb14  4158c706035ed123dc09b08b8a07fb14\n",
      "7467cf195fe1f46c8335a9993e193b49  7467cf195fe1f46c8335a9993e193b49\n",
      "adaffc69dc6e5d4b41f87bcd89ff740b  adaffc69dc6e5d4b41f87bcd89ff740b\n",
      "adc9d9140937dd1e3adb97fc2dcd9d1b  adc9d9140937dd1e3adb97fc2dcd9d1b\n",
      "d646586930fb0b62b63932e4a2a93b20  d646586930fb0b62b63932e4a2a93b20\n",
      "8119fccae17a12f86c90fa906db7a6dc  8119fccae17a12f86c90fa906db7a6dc\n",
      "1933276d70e903fd1a41255b1b35ce6a  1933276d70e903fd1a41255b1b35ce6a\n",
      "7b4169e8ef3b3dfebd7544e5d69b9446  7b4169e8ef3b3dfebd7544e5d69b9446\n",
      "41da2bc38807ef92dadb6810bd642cfa  41da2bc38807ef92dadb6810bd642cfa\n",
      "d6f5278bc39c6639f3772581de6a90aa  d6f5278bc39c6639f3772581de6a90aa\n",
      "d4cc1231c3cc910d95ffd204642d5a9e  d4cc1231c3cc910d95ffd204642d5a9e\n",
      "1dd290b52a00a5408e0d18f72470a738  1dd290b52a00a5408e0d18f72470a738\n",
      "879bb4cc703f4d305bdfa43c919cc58e  879bb4cc703f4d305bdfa43c919cc58e\n",
      "833a5ab7898acafbb1d281293b49b234  833a5ab7898acafbb1d281293b49b234\n",
      "be6f3309126cbbfa938abacf2352a9d2  be6f3309126cbbfa938abacf2352a9d2\n",
      "415fce7aa4fb40c4f6a95f96ef76c9a0  415fce7aa4fb40c4f6a95f96ef76c9a0\n",
      "3cd2c61da19bd1c4ab1ca200bf408b98  3cd2c61da19bd1c4ab1ca200bf408b98\n",
      "ab7afb404683d325c1825489b749153e  ab7afb404683d325c1825489b749153e\n",
      "d991f022917976859b0f24fdfd5d4b4d  d991f022917976859b0f24fdfd5d4b4d\n",
      "03ef6fd7d8d345e3db6a1dc383e0eb1a  03ef6fd7d8d345e3db6a1dc383e0eb1a\n",
      "e02a1c9a089d77da32c12d690af194e6  e02a1c9a089d77da32c12d690af194e6\n",
      "c043e903bafedcf823651eb4659224a3  c043e903bafedcf823651eb4659224a3\n",
      "c63d522d631a7359cc8bb731ab3b1f47  c63d522d631a7359cc8bb731ab3b1f47\n",
      "69b52d4c3670f27e611eb87366cddb78  69b52d4c3670f27e611eb87366cddb78\n",
      "e863bd35f534bdc6f5d5d48defae1915  e863bd35f534bdc6f5d5d48defae1915\n",
      "449cec10c6cfad3e08e4ad72cb867cf1  449cec10c6cfad3e08e4ad72cb867cf1\n",
      "70ef2edfc7e9583653abc34e8689dd24  70ef2edfc7e9583653abc34e8689dd24\n",
      "e6c41a63728d94c754fc59bb384075a2  e6c41a63728d94c754fc59bb384075a2\n",
      "b1620109c6f28128e7aac95d8848cbe0  b1620109c6f28128e7aac95d8848cbe0\n",
      "ac7c3eaa18f5a5e676a23616574ca7a0  ac7c3eaa18f5a5e676a23616574ca7a0\n",
      "26ce06691adbe59ed226c51017ca30bf  26ce06691adbe59ed226c51017ca30bf\n",
      "943bb5957c1968415d6ace0e361da5d7  943bb5957c1968415d6ace0e361da5d7\n",
      "3991b04a7d699a10bce95384e755a087  3991b04a7d699a10bce95384e755a087\n",
      "46f5be9596b6e44ed32a844da951d4c4  46f5be9596b6e44ed32a844da951d4c4\n",
      "06be812bd968c0afb0d3ce13625e3df0  06be812bd968c0afb0d3ce13625e3df0\n",
      "1cb63f2c9dafef12e0b349d3807c33a3  1cb63f2c9dafef12e0b349d3807c33a3\n",
      "8e6b91dc79dfc80e25773dc0672e5264  8e6b91dc79dfc80e25773dc0672e5264\n",
      "617fda8d0b8e56fbde6083abf1a8a514  617fda8d0b8e56fbde6083abf1a8a514\n",
      "8f0f875915234880357cbe630c2ad839  8f0f875915234880357cbe630c2ad839\n",
      "b4a7510b182d2c1181e620c0aa495baa  b4a7510b182d2c1181e620c0aa495baa\n",
      "8b2a0a8deda43e9e6df2f5def42c76c0  8b2a0a8deda43e9e6df2f5def42c76c0\n",
      "27bd31429ba2ae86565abab5ad66eb10  27bd31429ba2ae86565abab5ad66eb10\n",
      "e08fcf227d25575f6339995830706f4e  e08fcf227d25575f6339995830706f4e\n",
      "eb0a88892a40957788183ae88a7407a3  eb0a88892a40957788183ae88a7407a3\n",
      "1d37b67b03ceea3a217317629249a963  1d37b67b03ceea3a217317629249a963\n",
      "57cd76f2fb340a38473fc2a29e50e176  57cd76f2fb340a38473fc2a29e50e176\n",
      "ebd47420e2bc51dbbbdcd047d6be41f1  ebd47420e2bc51dbbbdcd047d6be41f1\n",
      "20d0d95995e7bdd38ee5b59156d03e06  20d0d95995e7bdd38ee5b59156d03e06\n",
      "7a074d93cc7849051a917226eb8bc5d7  7a074d93cc7849051a917226eb8bc5d7\n",
      "0ba65dbbc27b1b6a8f2054d2a6ffa536  0ba65dbbc27b1b6a8f2054d2a6ffa536\n",
      "2079fb042231c07d1384ad8e7cb3a043  2079fb042231c07d1384ad8e7cb3a043\n",
      "6aaebcb902300e465068fa35a93fd990  6aaebcb902300e465068fa35a93fd990\n",
      "2e4c8ef4dbcf7ed1e11ebde268571cf1  2e4c8ef4dbcf7ed1e11ebde268571cf1\n",
      "7238db4f85c3cdc87480d375c38cf6ef  7238db4f85c3cdc87480d375c38cf6ef\n",
      "05f85356fb13984132d78c9f92082640  05f85356fb13984132d78c9f92082640\n",
      "345d4e2eecc957f813d6fb008a23acdd  345d4e2eecc957f813d6fb008a23acdd\n",
      "b32a853a0390fb72f402b8c104161496  b32a853a0390fb72f402b8c104161496\n",
      "7ae2119b24023e5a95ae2ddcbad64d32  7ae2119b24023e5a95ae2ddcbad64d32\n",
      "af93111cd243d45b827ec829ce2921dc  af93111cd243d45b827ec829ce2921dc\n",
      "9c7e527bcc971befd000a9980cb9aedd  9c7e527bcc971befd000a9980cb9aedd\n",
      "09e1f1fd6f793ef596e7bcb37efaa064  09e1f1fd6f793ef596e7bcb37efaa064\n",
      "fcee6e83accb3c0517eb30b08a7dea8e  fcee6e83accb3c0517eb30b08a7dea8e\n",
      "26e1e3a2e1b3c8ee7290d55030a08326  26e1e3a2e1b3c8ee7290d55030a08326\n",
      "665fdb894fc07c4eeaf3ae7fcc60969f  665fdb894fc07c4eeaf3ae7fcc60969f\n",
      "79d92e5102f2d9428e8d97aebfd63d4b  79d92e5102f2d9428e8d97aebfd63d4b\n",
      "d14ec2e56ec94a5f65e02e7cef658d1e  d14ec2e56ec94a5f65e02e7cef658d1e\n",
      "212386d77a1d3a634384140d5ee9235b  212386d77a1d3a634384140d5ee9235b\n",
      "4be3c2632858626e079971016f0cc1a8  4be3c2632858626e079971016f0cc1a8\n",
      "832d5f5e62b177a92a464845ca37adb8  832d5f5e62b177a92a464845ca37adb8\n",
      "e0585be81394a95d0c3a463029d16c75  e0585be81394a95d0c3a463029d16c75\n",
      "8eeaf097b7b76038f82b9c3acf0f2a77  8eeaf097b7b76038f82b9c3acf0f2a77\n",
      "73e2107111e213626d6b7463d6e4a193  73e2107111e213626d6b7463d6e4a193\n",
      "fed3f65c342281d642d0afa13124fd65  fed3f65c342281d642d0afa13124fd65\n",
      "af04700f9da766c1fb2ada043258bf50  af04700f9da766c1fb2ada043258bf50\n",
      "ba1fcdd9333f0443942320359b5de2b5  ba1fcdd9333f0443942320359b5de2b5\n",
      "d8b835a605ed04fa14919ea764519781  d8b835a605ed04fa14919ea764519781\n",
      "2a504a439e83a08b137a9262cb6b8e1f  2a504a439e83a08b137a9262cb6b8e1f\n",
      "1a4ee4fe34c41ceb3c7a064d37a796ae  1a4ee4fe34c41ceb3c7a064d37a796ae\n",
      "4df1a6e17470ca3b65c1799806f84dd1  4df1a6e17470ca3b65c1799806f84dd1\n",
      "93fe83236fa4a7b3c9d0e128d1132967  93fe83236fa4a7b3c9d0e128d1132967\n",
      "f0e86b8185ba4ce0327bdd71e64489f7  f0e86b8185ba4ce0327bdd71e64489f7\n",
      "0d62d199e6a2e6e402892c7c28290a96  0d62d199e6a2e6e402892c7c28290a96\n",
      "345ecda4c7192b58a96062522f5d06e7  345ecda4c7192b58a96062522f5d06e7\n",
      "680896887742ed8033527464e76d6ffa  680896887742ed8033527464e76d6ffa\n",
      "5805d45cc2c8c8169eee18099bc60e60  5805d45cc2c8c8169eee18099bc60e60\n",
      "93949d294ba2ae157e3abb9cc7ff4e09  93949d294ba2ae157e3abb9cc7ff4e09\n",
      "a0a37f4e87e96d17917f9274fae99023  a0a37f4e87e96d17917f9274fae99023\n",
      "ea00db411d70f34af4c534d8e06940f5  ea00db411d70f34af4c534d8e06940f5\n",
      "e934488d22a8d2d9cad6ff942615f774  e934488d22a8d2d9cad6ff942615f774\n",
      "4328e1e587033d782d53255674683861  4328e1e587033d782d53255674683861\n",
      "557af976e42a1a5f3a4d79addba54c2c  557af976e42a1a5f3a4d79addba54c2c\n",
      "f827d14fa967952a51d25b3e347e763f  f827d14fa967952a51d25b3e347e763f\n",
      "86e2f5665fadb0864b29ddd02b28f0f6  86e2f5665fadb0864b29ddd02b28f0f6\n",
      "4443c9d13eabbda5dd83358403b40000  4443c9d13eabbda5dd83358403b40000\n",
      "8bbfe5327d3e064efd882bd683056334  8bbfe5327d3e064efd882bd683056334\n",
      "5828e6bfa49f1c991c258d51a3215855  5828e6bfa49f1c991c258d51a3215855\n",
      "5cce995104e43e056b96cc74e8061647  5cce995104e43e056b96cc74e8061647\n",
      "10d892135f52a5a8a9695c3ab96ddf9a  10d892135f52a5a8a9695c3ab96ddf9a\n",
      "4521d76c38e2ba2010e169ec691bc384  4521d76c38e2ba2010e169ec691bc384\n",
      "9b6322eecafe6d7b98d873bf0c196961  9b6322eecafe6d7b98d873bf0c196961\n",
      "0aaab227e05148dfed969d47a85fc010  0aaab227e05148dfed969d47a85fc010\n",
      "8ff606b81c8d1d7e3a4808eaa586b7f5  8ff606b81c8d1d7e3a4808eaa586b7f5\n",
      "ad271b8c4afaee020a8578f591d901a3  ad271b8c4afaee020a8578f591d901a3\n",
      "97d874854f574f660f6cafda9e8b4747  97d874854f574f660f6cafda9e8b4747\n",
      "07fa22b847fdde2b551e63abebd632db  07fa22b847fdde2b551e63abebd632db\n",
      "35d2967cef7e537c096e2b28f10f752f  35d2967cef7e537c096e2b28f10f752f\n",
      "3ba81dd0ec8d73dcc8c4f216ff154c45  3ba81dd0ec8d73dcc8c4f216ff154c45\n",
      "66b7588ca6ff6b83d87df9f927e77aa1  66b7588ca6ff6b83d87df9f927e77aa1\n",
      "b90ff14e7e7e9c52610b8ccd979d9e39  b90ff14e7e7e9c52610b8ccd979d9e39\n",
      "c5d301480be19eacca8088dddbf5b42d  c5d301480be19eacca8088dddbf5b42d\n",
      "2b3bf83f5e43b35b1ab5a24815712e60  2b3bf83f5e43b35b1ab5a24815712e60\n",
      "e04c58c039fee925fdf4463452fd2578  e04c58c039fee925fdf4463452fd2578\n",
      "c4fafb8b3023ab0a4575d52e8ce5d50d  c4fafb8b3023ab0a4575d52e8ce5d50d\n",
      "604872aa5c931af2427c078c977d91b2  604872aa5c931af2427c078c977d91b2\n",
      "eaa6f9bb209e5df8956d200b0c405e7f  eaa6f9bb209e5df8956d200b0c405e7f\n",
      "6a4a82225a00e541b4594d3550f610da  6a4a82225a00e541b4594d3550f610da\n",
      "7b4efa6c888e283c0ee3a17829fec2e6  7b4efa6c888e283c0ee3a17829fec2e6\n",
      "a211a4c907c66211bb73c352856ac75e  a211a4c907c66211bb73c352856ac75e\n",
      "352afd6c5886da418691c0c10c08a6b8  352afd6c5886da418691c0c10c08a6b8\n",
      "4ce65a8b000737c8bd9a28ec392e7aeb  4ce65a8b000737c8bd9a28ec392e7aeb\n",
      "17f8b70e0df406a11707ed45690f3f39  17f8b70e0df406a11707ed45690f3f39\n",
      "7a1dc14d6d27176154c6c206e3dd658c  7a1dc14d6d27176154c6c206e3dd658c\n",
      "5432fd8d8aceea4c5e0acd6ba2ec9a9a  5432fd8d8aceea4c5e0acd6ba2ec9a9a\n",
      "7c0a2b38640b097712fafb565397656a  7c0a2b38640b097712fafb565397656a\n",
      "1d1f4a16f4051c11abcfbfbe6184262e  1d1f4a16f4051c11abcfbfbe6184262e\n",
      "f9b2b349fb021e2d9a483789b596a303  f9b2b349fb021e2d9a483789b596a303\n",
      "b4cbba05e64e54474a62da35e366cf61  b4cbba05e64e54474a62da35e366cf61\n",
      "cce68b18784c070af6f151562554c766  cce68b18784c070af6f151562554c766\n",
      "83e4429cd3ab516eb9af5acae0483bb1  83e4429cd3ab516eb9af5acae0483bb1\n",
      "1e51c6289fa1fafd0bd0e0034e8d5031  1e51c6289fa1fafd0bd0e0034e8d5031\n",
      "60de6dcbf6ec9845882a9b5744b237b6  60de6dcbf6ec9845882a9b5744b237b6\n",
      "ed33fd9a4299f3e3e2f1f27a56d075c4  ed33fd9a4299f3e3e2f1f27a56d075c4\n",
      "abe1465cda8d52b4ad070be2700cb33e  abe1465cda8d52b4ad070be2700cb33e\n",
      "7ca9cee0c8c62c255d2a254c89842366  7ca9cee0c8c62c255d2a254c89842366\n",
      "cef5e00b103809203a60b12e807ffe85  cef5e00b103809203a60b12e807ffe85\n",
      "f6a8f784329afd419024c66a3abf8dde  f6a8f784329afd419024c66a3abf8dde\n",
      "6d17631b5eed28db64be3737b7221956  6d17631b5eed28db64be3737b7221956\n",
      "8c1579c317f5490c026ccca972084219  8c1579c317f5490c026ccca972084219\n",
      "96c1bd94c0f8e1968e3e6fbf2a1417b5  96c1bd94c0f8e1968e3e6fbf2a1417b5\n",
      "7b0e7518322ff55f14e38555d583cdc4  7b0e7518322ff55f14e38555d583cdc4\n",
      "a1eefd9e95e7c65eff250555b464887b  a1eefd9e95e7c65eff250555b464887b\n",
      "0c93c92b8c6f460cd44baef924138d46  0c93c92b8c6f460cd44baef924138d46\n",
      "d484e785f43c420b748ede0716480482  d484e785f43c420b748ede0716480482\n",
      "9cf1d86ba5ee262ec492470c97a77459  9cf1d86ba5ee262ec492470c97a77459\n",
      "ff44a2672cda23abd42a716966ac3670  ff44a2672cda23abd42a716966ac3670\n",
      "b75235ab39b72c9e7812295ba6c08b12  b75235ab39b72c9e7812295ba6c08b12\n",
      "74630b260c6879d47b27d4b5f133dc07  74630b260c6879d47b27d4b5f133dc07\n",
      "27d5a5597cdf7afeb0d81b5a45681535  27d5a5597cdf7afeb0d81b5a45681535\n",
      "0a07f3dda138ef5f0599cffc51efc9ff  0a07f3dda138ef5f0599cffc51efc9ff\n",
      "81cabc882c34ef21f8488946abc9b998  81cabc882c34ef21f8488946abc9b998\n",
      "e75bd4c124ee05b98cd7926003c8ebc2  e75bd4c124ee05b98cd7926003c8ebc2\n",
      "3b04c385ed4628096336920996d39f8a  3b04c385ed4628096336920996d39f8a\n",
      "a07b5f9cd5369941c0c5a11ebb31f6b2  a07b5f9cd5369941c0c5a11ebb31f6b2\n",
      "f8fefc681e1f56b78f0fb45b96a29119  f8fefc681e1f56b78f0fb45b96a29119\n",
      "b8081e94d045017fbfe793fd9eb5e1bf  b8081e94d045017fbfe793fd9eb5e1bf\n",
      "974051096fdc217a9dc840385aaf7489  974051096fdc217a9dc840385aaf7489\n",
      "d45e36524bd9ec6a9004dd899bc948fc  d45e36524bd9ec6a9004dd899bc948fc\n",
      "6b5b463c590a32b9e93e71033ef89197  6b5b463c590a32b9e93e71033ef89197\n",
      "bf808221c79c379a6a2ea02289939774  bf808221c79c379a6a2ea02289939774\n",
      "6ec66302f96c6c9c517b55baaefe979b  6ec66302f96c6c9c517b55baaefe979b\n",
      "69e49f1973f87237e4ab3ec23e73d766  69e49f1973f87237e4ab3ec23e73d766\n",
      "fba79a0e1f4c236986a37117ee475fc2  fba79a0e1f4c236986a37117ee475fc2\n",
      "f677bbce9eea23e3a7873a0630794703  f677bbce9eea23e3a7873a0630794703\n",
      "82aa658aeac3ad6c0e35caed85d40c6a  82aa658aeac3ad6c0e35caed85d40c6a\n",
      "67e132e93a3ba9d4cc1b90fcf98dbec7  67e132e93a3ba9d4cc1b90fcf98dbec7\n",
      "b433ef06ba381cb2832fc3f5b46b7798  b433ef06ba381cb2832fc3f5b46b7798\n",
      "8c508992bc72a7e0d990c6526f9e0485  8c508992bc72a7e0d990c6526f9e0485\n",
      "6a350ced37574359e06dad35cf0b72f2  6a350ced37574359e06dad35cf0b72f2\n",
      "092e9c8d9344c8519a16f4808eae57cb  092e9c8d9344c8519a16f4808eae57cb\n",
      "710180c722a8289dae74db9ddf8c029b  710180c722a8289dae74db9ddf8c029b\n",
      "83cefa0fdd72f64075bdfb545f87e5f5  83cefa0fdd72f64075bdfb545f87e5f5\n",
      "9644b3940741ebdfe145dc1ff5f50c55  9644b3940741ebdfe145dc1ff5f50c55\n",
      "ea62377cbed8aede056dcdf8bac63758  ea62377cbed8aede056dcdf8bac63758\n",
      "c9566b9b464d3d02ab6d62f0b4040d6c  c9566b9b464d3d02ab6d62f0b4040d6c\n",
      "a70a30d46a99008c5b8955564dd6d0dc  a70a30d46a99008c5b8955564dd6d0dc\n",
      "8f5cc85b8b74e652e98a8ba7d4e4959e  8f5cc85b8b74e652e98a8ba7d4e4959e\n",
      "a7d26fb240bd468bba73da55ee81cbe8  a7d26fb240bd468bba73da55ee81cbe8\n",
      "e211ccf433f73590afc8a023c77e6f9e  e211ccf433f73590afc8a023c77e6f9e\n",
      "02ae4d9345dc44fa47cf34c48d4a68d5  02ae4d9345dc44fa47cf34c48d4a68d5\n",
      "644dbe3e25079a181b84343e99377243  644dbe3e25079a181b84343e99377243\n",
      "531fa3a9ed53074af86bc9126a377688  531fa3a9ed53074af86bc9126a377688\n",
      "85edba7e3c924719129267552057f770  85edba7e3c924719129267552057f770\n",
      "3a4067800e8515cbecaa616c3b41d9c6  3a4067800e8515cbecaa616c3b41d9c6\n",
      "2ef27f2ef205f63f193f3fbabe93286a  2ef27f2ef205f63f193f3fbabe93286a\n",
      "a8dfcf4b96e26b0444a8e9a9c96a01cb  a8dfcf4b96e26b0444a8e9a9c96a01cb\n",
      "83f09c2c16de4013f517d3ac95ef7d71  83f09c2c16de4013f517d3ac95ef7d71\n",
      "fa69d679014946d1701e81f80a7e3958  fa69d679014946d1701e81f80a7e3958\n",
      "aa22200fd49d396a51f6d439d6bf782e  aa22200fd49d396a51f6d439d6bf782e\n",
      "1b885f3af0c1a7ce6c0d1efb6e7632a4  1b885f3af0c1a7ce6c0d1efb6e7632a4\n",
      "ded2e942699dd3117843810415a6257a  ded2e942699dd3117843810415a6257a\n",
      "a024129f1ba8fbf794a8147d7e8483eb  a024129f1ba8fbf794a8147d7e8483eb\n",
      "da48fafcc7ec742570efeb9958035c18  da48fafcc7ec742570efeb9958035c18\n",
      "18f8d4a50f12fe4cbfd47a1e0197088c  18f8d4a50f12fe4cbfd47a1e0197088c\n",
      "d0024e82c0dea5611e0147883920c375  d0024e82c0dea5611e0147883920c375\n",
      "5b26212b59f1eac5f33620ab94813001  5b26212b59f1eac5f33620ab94813001\n",
      "d6a2f373429b37963fed8e43abc4e21d  d6a2f373429b37963fed8e43abc4e21d\n",
      "7864e16abcaab94b0d58a08dbc7967f5  7864e16abcaab94b0d58a08dbc7967f5\n",
      "9a416b12672413b392d662bbf8f82167  9a416b12672413b392d662bbf8f82167\n",
      "7602d89918beab1a821529598c45a5d0  7602d89918beab1a821529598c45a5d0\n",
      "a42990efc7b50c90032e963d082446dd  a42990efc7b50c90032e963d082446dd\n",
      "6a5d96e100e0d67cba79c8b2d7cbf7b1  6a5d96e100e0d67cba79c8b2d7cbf7b1\n",
      "07edb21c223c4c5f8eee85dc8302f842  07edb21c223c4c5f8eee85dc8302f842\n",
      "b932ed75610e43d5ca85c1c16b7f4802  b932ed75610e43d5ca85c1c16b7f4802\n",
      "c0ecd422290cccc600c3334407cb3461  c0ecd422290cccc600c3334407cb3461\n",
      "acecb660599424d60108207dc7a60dd3  acecb660599424d60108207dc7a60dd3\n",
      "fb3d585957e1846e769ae077dc25531a  fb3d585957e1846e769ae077dc25531a\n",
      "016f9959b57a21105bcad88a409897a2  016f9959b57a21105bcad88a409897a2\n",
      "2d1af4c99e81371d9052779e1930dafb  2d1af4c99e81371d9052779e1930dafb\n",
      "68098e1938d770a0daa3a8c4d9d67048  68098e1938d770a0daa3a8c4d9d67048\n",
      "594ebd3acc56e3bae1fdf9b6c2283932  594ebd3acc56e3bae1fdf9b6c2283932\n",
      "7f2175cc02054a3bd5365fe40587c010  7f2175cc02054a3bd5365fe40587c010\n",
      "989be6efdce59aba729ab8528fe44104  989be6efdce59aba729ab8528fe44104\n",
      "01f4eeeb35d5466f6f57c930512a2cf4  01f4eeeb35d5466f6f57c930512a2cf4\n",
      "b04137210c626a7279edbf65309c5a8e  b04137210c626a7279edbf65309c5a8e\n",
      "2af83c1c7f762d91716d33b9d125a0c3  2af83c1c7f762d91716d33b9d125a0c3\n",
      "7a0a1aba98c675f22c4a935be769925f  7a0a1aba98c675f22c4a935be769925f\n",
      "ff8b9119f107b32b28272fd946e1e684  ff8b9119f107b32b28272fd946e1e684\n",
      "9cb7083670fc56b1572ebb61d211ebb5  9cb7083670fc56b1572ebb61d211ebb5\n",
      "51aef239c9fdb46d5303c18457e1a2df  51aef239c9fdb46d5303c18457e1a2df\n",
      "42c9905088c3a6b5112df89fa30da401  42c9905088c3a6b5112df89fa30da401\n",
      "3a63d92050d6ba71bcaf05c6b7a7ef5a  3a63d92050d6ba71bcaf05c6b7a7ef5a\n",
      "968057056495c5f632d4529ec5e6a1e9  968057056495c5f632d4529ec5e6a1e9\n",
      "5fe414df99937a3968e5f274a6da6ce5  5fe414df99937a3968e5f274a6da6ce5\n",
      "b7469002ed45cc33144fcc3c518d6c3e  b7469002ed45cc33144fcc3c518d6c3e\n",
      "583172390469d5130d90904cd900e2e1  583172390469d5130d90904cd900e2e1\n",
      "d710d033555d2fe1d345e9ac64a39b37  d710d033555d2fe1d345e9ac64a39b37\n",
      "c36994949f6224209237a856dc305245  c36994949f6224209237a856dc305245\n",
      "a608333c76c5c111d16ad88b6931fa04  a608333c76c5c111d16ad88b6931fa04\n",
      "d3b9bd69df49598f4e8b37fb5e3ff480  d3b9bd69df49598f4e8b37fb5e3ff480\n",
      "80e8f788f7c8165fc8e6f2d7e72a278c  80e8f788f7c8165fc8e6f2d7e72a278c\n",
      "3caa4cdc5897f87ac58386862f083bce  3caa4cdc5897f87ac58386862f083bce\n",
      "5609b1c737154eab9cd9f7cb4ddc2d37  5609b1c737154eab9cd9f7cb4ddc2d37\n",
      "9734f73a72b0b217abb92525bca4d9fc  9734f73a72b0b217abb92525bca4d9fc\n",
      "db01f8dcd9d5f7d375247eb1b55f545d  db01f8dcd9d5f7d375247eb1b55f545d\n",
      "eee24f9a62a37da96c48fbfeaea112d5  eee24f9a62a37da96c48fbfeaea112d5\n",
      "3fac06c0a76ca4784c6bf7ba57d296ea  3fac06c0a76ca4784c6bf7ba57d296ea\n",
      "c174f07998ccd370b8fae304d0bcebc4  c174f07998ccd370b8fae304d0bcebc4\n",
      "52be9018cf04970f6a7bb35bd8dd40cf  52be9018cf04970f6a7bb35bd8dd40cf\n",
      "ff7c4fa3686d4becec4ba9245bc73607  ff7c4fa3686d4becec4ba9245bc73607\n",
      "aab4edfbd8c73707b57017d6c94e878c  aab4edfbd8c73707b57017d6c94e878c\n",
      "75b90fb0e3bb51d4785a04841d2ef645  75b90fb0e3bb51d4785a04841d2ef645\n",
      "2a8a5006421d57b7c3492d31bfaf757d  2a8a5006421d57b7c3492d31bfaf757d\n",
      "7bc412d6ba0d8cc603de1c9d58ea2290  7bc412d6ba0d8cc603de1c9d58ea2290\n",
      "71848fe8b941672951aab6a3c5b9d6a2  71848fe8b941672951aab6a3c5b9d6a2\n",
      "f561411d335c5ff5a149a0d2b72f0cdb  f561411d335c5ff5a149a0d2b72f0cdb\n",
      "06c7d57de7341478317ed73642c85e66  06c7d57de7341478317ed73642c85e66\n",
      "195227cc899f4c0f6c24262277c39802  195227cc899f4c0f6c24262277c39802\n",
      "eeb937767d5d9d285e37a81d5243e375  eeb937767d5d9d285e37a81d5243e375\n",
      "abb543391d39c7a7fa42fe5cfead792a  abb543391d39c7a7fa42fe5cfead792a\n",
      "e235716691468f28c061aa07dbaa6941  e235716691468f28c061aa07dbaa6941\n",
      "412682029dfeb3225381355988ca766b  412682029dfeb3225381355988ca766b\n",
      "956c6930a88d58956c854af88843c473  956c6930a88d58956c854af88843c473\n",
      "9a4c3cbb19b0c58b1c94e197df631e7c  9a4c3cbb19b0c58b1c94e197df631e7c\n",
      "c8d7eb10b229a41e890a1edc2f258ee8  c8d7eb10b229a41e890a1edc2f258ee8\n",
      "cff054ccc8e0e60384abb92ee4c6378b  cff054ccc8e0e60384abb92ee4c6378b\n",
      "9a64fa782dddc5a49a1807c987d592d4  9a64fa782dddc5a49a1807c987d592d4\n",
      "c62962af8e338d4b5da35b4ac5b40eb7  c62962af8e338d4b5da35b4ac5b40eb7\n",
      "ab23c90a5543025aa82b0b615ee66ba2  ab23c90a5543025aa82b0b615ee66ba2\n",
      "10b7419319a32f20ff67a29de7ec03ac  10b7419319a32f20ff67a29de7ec03ac\n",
      "00129711e4d8676f9b8d8f7ab6a7bc8d  00129711e4d8676f9b8d8f7ab6a7bc8d\n",
      "7d7f2d850c5efb76bd6bbba44b92d840  7d7f2d850c5efb76bd6bbba44b92d840\n",
      "35ec2ab771e8f96e96bc40185474c14b  35ec2ab771e8f96e96bc40185474c14b\n",
      "e70d9454670c916cc616da26fff6792b  e70d9454670c916cc616da26fff6792b\n",
      "91fd1ff8b52bd7bab871ad41c3673d11  91fd1ff8b52bd7bab871ad41c3673d11\n",
      "69dfbe7b702dda15eb22c4aac7f0c0de  69dfbe7b702dda15eb22c4aac7f0c0de\n",
      "62240c4f3d567ee20313ef75f9230596  62240c4f3d567ee20313ef75f9230596\n",
      "4b5b4cb53eb16ca39af9f994c15f1215  4b5b4cb53eb16ca39af9f994c15f1215\n",
      "f2c81ba8570023046c16f8d285299555  f2c81ba8570023046c16f8d285299555\n",
      "0dc801ee1fad2a46249a0db8048138bc  0dc801ee1fad2a46249a0db8048138bc\n",
      "baea4b127a39d430025b4d322b2d454c  baea4b127a39d430025b4d322b2d454c\n",
      "33bc026dd9c47079b0721d40a8ebd80c  33bc026dd9c47079b0721d40a8ebd80c\n",
      "cef4386505a2eb1638f803ea09f9c218  cef4386505a2eb1638f803ea09f9c218\n",
      "2962f69520d5c5af081e9729968d5fc0  2962f69520d5c5af081e9729968d5fc0\n",
      "3a676550a5c1f4d1531882e50c111e6a  3a676550a5c1f4d1531882e50c111e6a\n",
      "d4f8f2d2c92ebb911edde55bf54b4703  d4f8f2d2c92ebb911edde55bf54b4703\n",
      "5ff766834017b4b1a6e4b4e7ccae71e0  5ff766834017b4b1a6e4b4e7ccae71e0\n",
      "6b06bbfd001a75f9ab05f432476f4305  6b06bbfd001a75f9ab05f432476f4305\n",
      "e348557920bd74446d5c7ec6657dfb02  e348557920bd74446d5c7ec6657dfb02\n",
      "19cc85ad734c2f5fc9fdd919f3484807  19cc85ad734c2f5fc9fdd919f3484807\n",
      "c15d3b30970677b5a42a5eb218329e22  c15d3b30970677b5a42a5eb218329e22\n",
      "3af30045833cf5445a6936a556e274e6  3af30045833cf5445a6936a556e274e6\n",
      "d66397d82ae25920a703a867e06ea5c5  d66397d82ae25920a703a867e06ea5c5\n",
      "bec2086d4baf71945b2aeecce508c4c0  bec2086d4baf71945b2aeecce508c4c0\n",
      "3633c7312461cf409f9f4df8c1591b68  3633c7312461cf409f9f4df8c1591b68\n",
      "9ffc450e5cf7aace03dc7f934be73fdc  9ffc450e5cf7aace03dc7f934be73fdc\n",
      "a2c696add233f406a9517cd99abbeed8  a2c696add233f406a9517cd99abbeed8\n",
      "d8afe864f5c741757c1bf057e8d5032d  d8afe864f5c741757c1bf057e8d5032d\n",
      "f27df80fa18959dc6f2d5cc01c335e7d  f27df80fa18959dc6f2d5cc01c335e7d\n",
      "0213796bf0591fbd6a410cd88932567c  0213796bf0591fbd6a410cd88932567c\n",
      "d0f7c5ef5fabbe0d85be9a691a967e5c  d0f7c5ef5fabbe0d85be9a691a967e5c\n",
      "dca35f8e2884629bf510ff35b9b92008  dca35f8e2884629bf510ff35b9b92008\n",
      "c2aed6e13979e9dd3169f8af908f1cdd  c2aed6e13979e9dd3169f8af908f1cdd\n",
      "5cbfd848a9dc7b2957d3a698439a10c1  5cbfd848a9dc7b2957d3a698439a10c1\n",
      "1226041c3e9634d6041c5d79011647e3  1226041c3e9634d6041c5d79011647e3\n",
      "7d956d77d889d0f764c6587d8085f662  7d956d77d889d0f764c6587d8085f662\n",
      "46ea4286ef2baee190e521a11c585b8d  46ea4286ef2baee190e521a11c585b8d\n",
      "8ece2146f5af0af57863abab792b6cd8  8ece2146f5af0af57863abab792b6cd8\n",
      "61efa423eb7857bbeaeed60b1c7be70f  61efa423eb7857bbeaeed60b1c7be70f\n",
      "fc47e7578dc932a044824e32d4acede3  fc47e7578dc932a044824e32d4acede3\n",
      "c51ea9df053df2b8cf8042c176e8a862  c51ea9df053df2b8cf8042c176e8a862\n",
      "023548ab9ebb9a286250d324c31c94de  023548ab9ebb9a286250d324c31c94de\n",
      "a802b877acd40e570e56919164f0b47c  a802b877acd40e570e56919164f0b47c\n",
      "092c0a201554a089b79cbfc87f591def  092c0a201554a089b79cbfc87f591def\n",
      "539fc632c7860807ff95243ef1ad0a07  539fc632c7860807ff95243ef1ad0a07\n",
      "d107fc80dc99be05b0692ec9ad27b93e  d107fc80dc99be05b0692ec9ad27b93e\n",
      "fa60a11b01f2753e484da99769294f32  fa60a11b01f2753e484da99769294f32\n",
      "f51670f7afa7747f0c834c5a94f1e13e  f51670f7afa7747f0c834c5a94f1e13e\n",
      "50c4f4e6e9fb69a2de7848e5e9454a7f  50c4f4e6e9fb69a2de7848e5e9454a7f\n",
      "06ae1d8d671a4253db91a6a140496956  06ae1d8d671a4253db91a6a140496956\n",
      "047a283f96d1349158e797cc2754be2b  047a283f96d1349158e797cc2754be2b\n",
      "ba39f853b417af94e2ac333fd5c54522  ba39f853b417af94e2ac333fd5c54522\n",
      "8e34b0c301bd331793e6faf0b06e7972  8e34b0c301bd331793e6faf0b06e7972\n",
      "7b3d2b3c398c5b7afad932cf465a5f56  7b3d2b3c398c5b7afad932cf465a5f56\n",
      "b1a287b95c8c617aa8eaa867779f0f79  b1a287b95c8c617aa8eaa867779f0f79\n",
      "d7cf4e5c2675a733af4373a951b03e3e  d7cf4e5c2675a733af4373a951b03e3e\n",
      "b1097f7a061b2f906681d763355b2aac  b1097f7a061b2f906681d763355b2aac\n",
      "706e62a1075458b04f52ff1e57da798f  706e62a1075458b04f52ff1e57da798f\n",
      "401a3fcd453a825a36f347e89bcf80c6  401a3fcd453a825a36f347e89bcf80c6\n",
      "0282a28f0cfbf8afa19988da1e8236a4  0282a28f0cfbf8afa19988da1e8236a4\n",
      "de5310043df2e1bd45b4f6b77e5462e3  de5310043df2e1bd45b4f6b77e5462e3\n",
      "f1457168d561fc597d5b99723ae8720e  f1457168d561fc597d5b99723ae8720e\n",
      "68abbf63be4ba3935f38d9fb483135cb  68abbf63be4ba3935f38d9fb483135cb\n",
      "93f930e7c4c50f68c30ed24201a702d4  93f930e7c4c50f68c30ed24201a702d4\n",
      "0606f129e689591521f2ee527f9206a9  0606f129e689591521f2ee527f9206a9\n",
      "264db838f76ab2a69e80cadeeb58f28c  264db838f76ab2a69e80cadeeb58f28c\n",
      "ab907e96dd79bcb61c3ab59623f3dc46  ab907e96dd79bcb61c3ab59623f3dc46\n",
      "ead5e75277dae377d5775e170b948248  ead5e75277dae377d5775e170b948248\n",
      "3495d8774d4266144b0e712ecc4e22e8  3495d8774d4266144b0e712ecc4e22e8\n",
      "f10b654b37107099023fb04bf90c131b  f10b654b37107099023fb04bf90c131b\n",
      "f0ccbd9c8af7eaf13582791e08b0ce40  f0ccbd9c8af7eaf13582791e08b0ce40\n",
      "87df16891d6c8f0c7644fccc19334ebf  87df16891d6c8f0c7644fccc19334ebf\n",
      "c7d2e6bde7829eaa0200f2883f9159e1  c7d2e6bde7829eaa0200f2883f9159e1\n",
      "2f534ac436f7580af8a45e06bfede6d8  2f534ac436f7580af8a45e06bfede6d8\n",
      "c9dfb2497a2835caa300fab1fa355650  c9dfb2497a2835caa300fab1fa355650\n",
      "6c200570b78cc4a4fe8d9046b124d98d  6c200570b78cc4a4fe8d9046b124d98d\n",
      "214590a25d2bbcc52de7a2e9f25dfc7e  214590a25d2bbcc52de7a2e9f25dfc7e\n",
      "60bc61d91fba162c650c477f45450008  60bc61d91fba162c650c477f45450008\n",
      "1238d76cacf102083d035759134f92d7  1238d76cacf102083d035759134f92d7\n",
      "2f51eaeb63171e399b7d18d6dd90ec79  2f51eaeb63171e399b7d18d6dd90ec79\n",
      "2db206daed3efca17cbadfc90e829863  2db206daed3efca17cbadfc90e829863\n",
      "6e67f1f716bde21c4dd90f30df70ccf3  6e67f1f716bde21c4dd90f30df70ccf3\n",
      "fc62f1b9fe65fa286900a8f21ec10005  fc62f1b9fe65fa286900a8f21ec10005\n",
      "ee1e4fa253a15ef27476984ed5c9ef86  ee1e4fa253a15ef27476984ed5c9ef86\n",
      "83372935065d5975b94575dfd44a277a  83372935065d5975b94575dfd44a277a\n",
      "cf5224a779a02f6c3c40a2f5a099b7d6  cf5224a779a02f6c3c40a2f5a099b7d6\n",
      "36cfc74374a5bab0c6ec6a58a6089f67  36cfc74374a5bab0c6ec6a58a6089f67\n",
      "7eee240f44cb5676485c32c114d244c7  7eee240f44cb5676485c32c114d244c7\n",
      "58780af4e643a53120824eced3ee9aac  58780af4e643a53120824eced3ee9aac\n",
      "be3c33917db95263a36db4cdf738ee9d  be3c33917db95263a36db4cdf738ee9d\n",
      "b8027595211e96dedeca64b850eb0747  b8027595211e96dedeca64b850eb0747\n",
      "51e8173832dfb352b8cdb87698e8991b  51e8173832dfb352b8cdb87698e8991b\n",
      "4a7152fd4cce6344650f3499f8daabd4  4a7152fd4cce6344650f3499f8daabd4\n",
      "2e2c848ef812f32c7eb51caa9fadc408  2e2c848ef812f32c7eb51caa9fadc408\n",
      "ec747159aac003c2164142be2f89fc1a  ec747159aac003c2164142be2f89fc1a\n",
      "b0351db779158465ff4639792afb1b4d  b0351db779158465ff4639792afb1b4d\n",
      "de34e9772f7a499755b7e51c7eb24325  de34e9772f7a499755b7e51c7eb24325\n",
      "615124929756990b61084d151766e8d4  615124929756990b61084d151766e8d4\n",
      "29049794ca48435eca8321ffef1fa716  29049794ca48435eca8321ffef1fa716\n",
      "647654bf56a1703e092949bf1ee629b9  647654bf56a1703e092949bf1ee629b9\n",
      "55329316e3aa3ca755ed2e42bbd7eccc  55329316e3aa3ca755ed2e42bbd7eccc\n",
      "bb8a8fade9b1defd659381c6f7093fe4  bb8a8fade9b1defd659381c6f7093fe4\n",
      "09d92c810736f5bd47c107251af7b0e3  09d92c810736f5bd47c107251af7b0e3\n",
      "7fba8ab25d395d6e9bb165fd65b75fb6  7fba8ab25d395d6e9bb165fd65b75fb6\n",
      "bbb9bab387b5d967fc0a14fcd319c69e  bbb9bab387b5d967fc0a14fcd319c69e\n",
      "572f0815c3769d98ef78656a97a10648  572f0815c3769d98ef78656a97a10648\n",
      "9f51daef3048a01fe5d30b7da36c1a45  9f51daef3048a01fe5d30b7da36c1a45\n",
      "b360ba24fd338cf249262a6b21965cb4  b360ba24fd338cf249262a6b21965cb4\n",
      "585e41b9f84915cb49754caf5168885e  585e41b9f84915cb49754caf5168885e\n",
      "77e127c9535fc48778f7486d6c9a0a6b  77e127c9535fc48778f7486d6c9a0a6b\n",
      "255107b94a3aff53ef7d83a1d011b1bc  255107b94a3aff53ef7d83a1d011b1bc\n",
      "f03f7ad37cb9a308e501a021730b22a8  f03f7ad37cb9a308e501a021730b22a8\n",
      "36798d51bd083e4cc822e372a51439df  36798d51bd083e4cc822e372a51439df\n",
      "063f682ba0daaa6c90f0d888cb40273d  063f682ba0daaa6c90f0d888cb40273d\n",
      "ab5ac5415f67e16a0bbc99deb96a73d8  ab5ac5415f67e16a0bbc99deb96a73d8\n",
      "a4fa1eb2ee1e385bbdf0fabe0abb50e7  a4fa1eb2ee1e385bbdf0fabe0abb50e7\n",
      "51ca1fe6194bf8b0ac03565b18131c31  51ca1fe6194bf8b0ac03565b18131c31\n",
      "cff7fbde566ab5542210c6481e973dfa  cff7fbde566ab5542210c6481e973dfa\n",
      "9f47c84635dd89bbdc91b6e9ddd8933c  9f47c84635dd89bbdc91b6e9ddd8933c\n",
      "4ebb5085108b879502b86a21b5ff1fdc  4ebb5085108b879502b86a21b5ff1fdc\n",
      "ae10e925dc21ece1ffd2a1fac012b19e  ae10e925dc21ece1ffd2a1fac012b19e\n",
      "85adaa8289ea359c5a89442f81af9c9d  85adaa8289ea359c5a89442f81af9c9d\n",
      "6309d694311a182acf2ddebabaffe781  6309d694311a182acf2ddebabaffe781\n",
      "ec62d892750d678510243faa02d1ffb9  ec62d892750d678510243faa02d1ffb9\n",
      "6b5a8a9dfb3e210d36219aa68eec00a8  6b5a8a9dfb3e210d36219aa68eec00a8\n",
      "3a7e5d50482169ba111319c9039d77bf  3a7e5d50482169ba111319c9039d77bf\n",
      "fb9f7df22980dda4920c516b5384753b  fb9f7df22980dda4920c516b5384753b\n",
      "ffd4390857c1ad988a4bda2182292728  ffd4390857c1ad988a4bda2182292728\n",
      "d4cf65c9d5ef51575fb31825f8bede24  d4cf65c9d5ef51575fb31825f8bede24\n",
      "fff688da71352f2731217cdc8bbf24dd  fff688da71352f2731217cdc8bbf24dd\n",
      "0cdeca23147a78fc4039ac3f98b47791  0cdeca23147a78fc4039ac3f98b47791\n",
      "87f069e4907a0dd5d1ed7bfedd1aa074  87f069e4907a0dd5d1ed7bfedd1aa074\n",
      "a4cf0f9ac1923db2ee5b70e719022446  a4cf0f9ac1923db2ee5b70e719022446\n",
      "7c32a3fb80535e5d12c51d9da626b430  7c32a3fb80535e5d12c51d9da626b430\n",
      "a907bdb5fab45376afe5a211ea982ecb  a907bdb5fab45376afe5a211ea982ecb\n",
      "55d797f6657df206250dfb2958796761  55d797f6657df206250dfb2958796761\n",
      "02afa254bc21afce6fe9fec79c3ed753  02afa254bc21afce6fe9fec79c3ed753\n",
      "647570c61ee8c17e1381c44238ee8e16  647570c61ee8c17e1381c44238ee8e16\n",
      "9eb09edeb67efd613e981caf77c50345  9eb09edeb67efd613e981caf77c50345\n",
      "65f4ba26136862386f10b8bceb2990a0  65f4ba26136862386f10b8bceb2990a0\n",
      "5c11cc807dfe2b709abc16210c77c090  5c11cc807dfe2b709abc16210c77c090\n",
      "a4a016edee5ccdb9ee97952600147548  a4a016edee5ccdb9ee97952600147548\n",
      "15c14dd110b7db89c89b4e7cbfce3f6a  15c14dd110b7db89c89b4e7cbfce3f6a\n",
      "e8281ae7770262b4f8c2a419050619c8  e8281ae7770262b4f8c2a419050619c8\n",
      "677fc3742f5900bceeb86adff7a19b6a  677fc3742f5900bceeb86adff7a19b6a\n",
      "21860280614d2979c968cd42af8d41cc  21860280614d2979c968cd42af8d41cc\n",
      "63e26b19f76500ce2d177b04853bdccc  63e26b19f76500ce2d177b04853bdccc\n",
      "931d1053c74340adfb9bd6ebb8e44be1  931d1053c74340adfb9bd6ebb8e44be1\n",
      "5dc68e4aad6c39c8394083155d8bb9bf  5dc68e4aad6c39c8394083155d8bb9bf\n",
      "4f8a4fd6abacc270c3ff7134baa47170  4f8a4fd6abacc270c3ff7134baa47170\n",
      "34ae34541a3bff19fa4866993e04daca  34ae34541a3bff19fa4866993e04daca\n",
      "4dc0ec4372403543564829005af827a1  4dc0ec4372403543564829005af827a1\n",
      "353e57be9d087b46f64cf348f26b44d7  353e57be9d087b46f64cf348f26b44d7\n",
      "1bc5283beda456e439cb7f4ee198661a  1bc5283beda456e439cb7f4ee198661a\n",
      "cf0a50e9ab14b9994ee10861c388897c  cf0a50e9ab14b9994ee10861c388897c\n",
      "c50a3b2c740224b5a09bce2bedb8bb33  c50a3b2c740224b5a09bce2bedb8bb33\n",
      "1281090601ec861fbd982a229f796763  1281090601ec861fbd982a229f796763\n",
      "fde13df564f0250bc420ee2f1833fb7b  fde13df564f0250bc420ee2f1833fb7b\n",
      "07ac22dcd101ab585378af198c76a19d  07ac22dcd101ab585378af198c76a19d\n",
      "a054460ed15ba382dcfb0d749878058e  a054460ed15ba382dcfb0d749878058e\n",
      "9df7330e8851447a6994a3db381e1c78  9df7330e8851447a6994a3db381e1c78\n",
      "a47cd88b47d1809caa041ff2ee168524  a47cd88b47d1809caa041ff2ee168524\n",
      "be959016915f3ac759f864c61ddf4c17  be959016915f3ac759f864c61ddf4c17\n",
      "ce2c5a31c01e75e91ca66165d676d2b6  ce2c5a31c01e75e91ca66165d676d2b6\n",
      "faed7c9634c4e7b7128a0898c290e6ce  faed7c9634c4e7b7128a0898c290e6ce\n",
      "298b3ff2a3c79061f62a93979697d29d  298b3ff2a3c79061f62a93979697d29d\n",
      "3917c6c184214f9cd44df48d7b825756  3917c6c184214f9cd44df48d7b825756\n",
      "d25be1c230d5b5447e11f792f38c2994  d25be1c230d5b5447e11f792f38c2994\n",
      "70b7f2f3ad50150c1edfc9726f454d4c  70b7f2f3ad50150c1edfc9726f454d4c\n",
      "954a159c0f4fb8b3b3425f83846f08ce  954a159c0f4fb8b3b3425f83846f08ce\n",
      "8047ebc7eb6fb6adb97ef9b11b87e332  8047ebc7eb6fb6adb97ef9b11b87e332\n",
      "6867c4cbc9d2a3409cf87a867b7a8921  6867c4cbc9d2a3409cf87a867b7a8921\n",
      "ddd8cbc64c0bd692c23945b308cdda67  ddd8cbc64c0bd692c23945b308cdda67\n",
      "cc4a53dfb96e055bfcad875ff541d7a6  cc4a53dfb96e055bfcad875ff541d7a6\n",
      "26588e9a28b944b8eabdeac085a69941  26588e9a28b944b8eabdeac085a69941\n",
      "5888d2cfce48a09b10cbea2da3d00088  5888d2cfce48a09b10cbea2da3d00088\n",
      "905b0b8400663de57f3c0b7c5c7664d5  905b0b8400663de57f3c0b7c5c7664d5\n",
      "26b5a3dc05333e527cfe199be63f8f57  26b5a3dc05333e527cfe199be63f8f57\n",
      "92cfe1dbd7a27e778bbaa5b0c5ed2673  92cfe1dbd7a27e778bbaa5b0c5ed2673\n",
      "f58267b316a7e90a4c98fb7a7fbfdddd  f58267b316a7e90a4c98fb7a7fbfdddd\n",
      "2bfb85e88e8946aa4e85cd11995c073a  2bfb85e88e8946aa4e85cd11995c073a\n",
      "1d8ffb010e46c0df05c88d61ce17b05b  1d8ffb010e46c0df05c88d61ce17b05b\n",
      "e402faf31e3522a19ef71f99bbdbe87a  e402faf31e3522a19ef71f99bbdbe87a\n",
      "b21912afbee0a2407b4c8936d195f07a  b21912afbee0a2407b4c8936d195f07a\n",
      "3b8288aabd800c20d81f71bd2ba60159  3b8288aabd800c20d81f71bd2ba60159\n",
      "fefb6762fd44e70a8dac1d3f15f518d2  fefb6762fd44e70a8dac1d3f15f518d2\n",
      "81420ad198f41cdb0079712c5a4633c5  81420ad198f41cdb0079712c5a4633c5\n",
      "4969e62bd6049fab24db74ddb0ed337d  4969e62bd6049fab24db74ddb0ed337d\n",
      "59a880814a986bed682c3a180a02f613  59a880814a986bed682c3a180a02f613\n",
      "727eef0a822f44bf52755b56fbf2a079  727eef0a822f44bf52755b56fbf2a079\n",
      "7a9d7c4d83c17d608fd1466152ca7a9a  7a9d7c4d83c17d608fd1466152ca7a9a\n",
      "b404ef4e185caeea9afe0b1f69800e12  b404ef4e185caeea9afe0b1f69800e12\n",
      "f24fb7a501fb31197db32dc68884f333  f24fb7a501fb31197db32dc68884f333\n",
      "bd60d2497970f6558074c9a9de4175a6  bd60d2497970f6558074c9a9de4175a6\n",
      "d106a901b9b1d821fc9bd30218448342  d106a901b9b1d821fc9bd30218448342\n",
      "129f1f9ccc9ef728d9da9eabfea90022  129f1f9ccc9ef728d9da9eabfea90022\n",
      "b6355c1bcd230b5a070397b609e17ad0  b6355c1bcd230b5a070397b609e17ad0\n",
      "4ba838e56ba3b7af4620975eee44ffa9  4ba838e56ba3b7af4620975eee44ffa9\n",
      "6b3c8cec64628a2849cfcd80f275005c  6b3c8cec64628a2849cfcd80f275005c\n",
      "551e1ee16984eb56184c713bff6fa6c4  551e1ee16984eb56184c713bff6fa6c4\n",
      "07ac57af6becc6db6ff885df77fcc218  07ac57af6becc6db6ff885df77fcc218\n",
      "cee3ac60af702cc0d13ff057badb9837  cee3ac60af702cc0d13ff057badb9837\n",
      "74b7dd906284d89c8a33fb84d27a787e  74b7dd906284d89c8a33fb84d27a787e\n",
      "ac4672f28b884dba752ba914dffd3b94  ac4672f28b884dba752ba914dffd3b94\n",
      "f59245a977cee5ee013ea7ebec40fe1f  f59245a977cee5ee013ea7ebec40fe1f\n",
      "a313f128caed7738287e6be655ce1e8a  a313f128caed7738287e6be655ce1e8a\n",
      "12381272f8ae20e4f033aae98f354b65  12381272f8ae20e4f033aae98f354b65\n",
      "faf86ce9923a8b0ef9a5d34bac8fce7e  faf86ce9923a8b0ef9a5d34bac8fce7e\n",
      "13e4ca78657a67e8b022b400dbf3ae83  13e4ca78657a67e8b022b400dbf3ae83\n",
      "70d375cc1b1d951ae2b37565f56e6ce4  70d375cc1b1d951ae2b37565f56e6ce4\n",
      "d436a0d9f4659f9a8298e3c6c00b6c6d  d436a0d9f4659f9a8298e3c6c00b6c6d\n",
      "4653a523f6273b6c7dfdddfe67238e13  4653a523f6273b6c7dfdddfe67238e13\n",
      "ab5eddf3acb518d917254a597c7af8e9  ab5eddf3acb518d917254a597c7af8e9\n",
      "0eb8da741c47eac857dd536098aa4c96  0eb8da741c47eac857dd536098aa4c96\n",
      "2b449b51c91a7b2cb9e0bf1a1422b4b1  2b449b51c91a7b2cb9e0bf1a1422b4b1\n",
      "a17af95c5150b79b26f700174bf9be5c  a17af95c5150b79b26f700174bf9be5c\n",
      "a9b620a24454650ceffe96a549658103  a9b620a24454650ceffe96a549658103\n",
      "47b8a8bb9033e6728c5c1434a5f4c718  47b8a8bb9033e6728c5c1434a5f4c718\n",
      "0562cc6aafe938272e283131bdde3e0d  0562cc6aafe938272e283131bdde3e0d\n",
      "33d85a25bc8bf38db3144a343cea18c4  33d85a25bc8bf38db3144a343cea18c4\n",
      "7facea3f356ca3549d74775969b2a82c  7facea3f356ca3549d74775969b2a82c\n",
      "37517df3afc7b32f62279f9e2f50b68b  37517df3afc7b32f62279f9e2f50b68b\n",
      "656083f2103f7544aa7612c9221bd3f1  656083f2103f7544aa7612c9221bd3f1\n",
      "e37d313b1705fe28d8cb996d60643417  e37d313b1705fe28d8cb996d60643417\n",
      "aeb029ab6c9c4797e569024c72893013  aeb029ab6c9c4797e569024c72893013\n",
      "bc0560d257085d2c97ff37bd247d7f7c  bc0560d257085d2c97ff37bd247d7f7c\n",
      "3014115037e95e33bf744ba1b24b8aac  3014115037e95e33bf744ba1b24b8aac\n",
      "50efe72fe52425ffaab2fb6d28388dff  50efe72fe52425ffaab2fb6d28388dff\n",
      "a4c3069eeb9ee7fbc94161b5ee992240  a4c3069eeb9ee7fbc94161b5ee992240\n",
      "5c22a3cc3e9014eb4b5e8753c4fd118e  5c22a3cc3e9014eb4b5e8753c4fd118e\n",
      "2001797c5265270bb3b903078cf114dc  2001797c5265270bb3b903078cf114dc\n",
      "82b102f731db0da565e1ef7028b88606  82b102f731db0da565e1ef7028b88606\n",
      "2fc1f68b3d7ae365c1a8768a4e31abad  2fc1f68b3d7ae365c1a8768a4e31abad\n",
      "de4bf4f8465baf32a5ef85df93a86aca  de4bf4f8465baf32a5ef85df93a86aca\n",
      "a01f98a3e84c81141fea685278c409d7  a01f98a3e84c81141fea685278c409d7\n",
      "5bb924606e88f0c44a77245b94b06d20  5bb924606e88f0c44a77245b94b06d20\n",
      "82e9fbd68fe7c7dc996fef50ad1e40eb  82e9fbd68fe7c7dc996fef50ad1e40eb\n",
      "6591eb148058ffd771cc1c1472604464  6591eb148058ffd771cc1c1472604464\n",
      "5a1d683e5207d04f1db127eb5dc71cdd  5a1d683e5207d04f1db127eb5dc71cdd\n",
      "7c8f24b414552d11aa72caa1c1858126  7c8f24b414552d11aa72caa1c1858126\n",
      "cd4b2d2a0b0b2d2497b6b9a631402e71  cd4b2d2a0b0b2d2497b6b9a631402e71\n",
      "eafb169fa7316b0b735197308faad5b0  eafb169fa7316b0b735197308faad5b0\n",
      "46dcac3c9950226f53a07938ec27693c  46dcac3c9950226f53a07938ec27693c\n",
      "375bb2ab997d7ef5aeac74eb1223948e  375bb2ab997d7ef5aeac74eb1223948e\n",
      "2656193e5ba7f787285bfc59a8bf6162  2656193e5ba7f787285bfc59a8bf6162\n",
      "09d2422cfc9affd3a2643b01166098a7  09d2422cfc9affd3a2643b01166098a7\n",
      "cf133e55a49b1b228b9098f192d77e39  cf133e55a49b1b228b9098f192d77e39\n",
      "0b086af8de16ce8c71bb6febcab76fc8  0b086af8de16ce8c71bb6febcab76fc8\n",
      "9ec4ca123ede52af35db65276576de49  9ec4ca123ede52af35db65276576de49\n",
      "3c06c84a42507e92e9ada2ef08f32205  3c06c84a42507e92e9ada2ef08f32205\n",
      "deaaac9e2ff1ed70ce11e6d8ba520cc9  deaaac9e2ff1ed70ce11e6d8ba520cc9\n",
      "ec8e11ae7c9df39f5baab01a53ad12ab  ec8e11ae7c9df39f5baab01a53ad12ab\n",
      "6123f8550849f1c290c392c05b2f2fe4  6123f8550849f1c290c392c05b2f2fe4\n",
      "c3c0f950b4dbe8fce74a7f39d02a92d8  c3c0f950b4dbe8fce74a7f39d02a92d8\n",
      "556a425ef779de341bd404c57ce96ec5  556a425ef779de341bd404c57ce96ec5\n",
      "f7fe8fa0f17c5efb54f3210f76bdb4e6  f7fe8fa0f17c5efb54f3210f76bdb4e6\n",
      "ca602480dfbb331ddb7ddf71bcbcd824  ca602480dfbb331ddb7ddf71bcbcd824\n",
      "5e931eb7010585f02bf40c896007b12b  5e931eb7010585f02bf40c896007b12b\n",
      "a9e41ef4bbc815ee9b58993ebbdc5f27  a9e41ef4bbc815ee9b58993ebbdc5f27\n",
      "d7bb5039e992a9e39cea9bf1a3011058  d7bb5039e992a9e39cea9bf1a3011058\n",
      "370af43e0d771f8a5934440c86537ce4  370af43e0d771f8a5934440c86537ce4\n",
      "b0bb7856d1dc6e6c34c4a08c5aee5f6e  b0bb7856d1dc6e6c34c4a08c5aee5f6e\n",
      "2a43b7e7f479b8d333b4b8f24eea0200  2a43b7e7f479b8d333b4b8f24eea0200\n",
      "30ee66c954652df886ee0798304895a1  30ee66c954652df886ee0798304895a1\n",
      "233f5187680cd43458fb57bb76e007fd  233f5187680cd43458fb57bb76e007fd\n",
      "8a2e9ef05fbcf30d05fca683b4e74319  8a2e9ef05fbcf30d05fca683b4e74319\n",
      "291e170c2ee3e850246c1da1f255f0b9  291e170c2ee3e850246c1da1f255f0b9\n",
      "028603073c28397c3be6e9743a080cf6  028603073c28397c3be6e9743a080cf6\n",
      "387185b5c762d99f7d0bacfc329481e0  387185b5c762d99f7d0bacfc329481e0\n",
      "6e821ee2fef3bdd038d8770206e96b7f  6e821ee2fef3bdd038d8770206e96b7f\n",
      "31f3fde1e98a617851c5fbad928839bd  31f3fde1e98a617851c5fbad928839bd\n",
      "606e8dc08c953958d16337096b301d6d  606e8dc08c953958d16337096b301d6d\n",
      "09b7286fd3870632870cc6c4e2ccb66f  09b7286fd3870632870cc6c4e2ccb66f\n",
      "bc784c6dc86209506a17b5e12aa9e913  bc784c6dc86209506a17b5e12aa9e913\n",
      "8fd6af3305fa0b530c42800b9ce0dde8  8fd6af3305fa0b530c42800b9ce0dde8\n",
      "59e493e158de62435d2269284a388463  59e493e158de62435d2269284a388463\n",
      "5ac92a91537de4e452f20b4d57962ac5  5ac92a91537de4e452f20b4d57962ac5\n",
      "de9f1a0869bdbcf44db9312666a328da  de9f1a0869bdbcf44db9312666a328da\n",
      "0dfd6b36817abc4261ab878b869ee7be  0dfd6b36817abc4261ab878b869ee7be\n",
      "2fdda03e4df4f5a29aebce6dcae6763a  2fdda03e4df4f5a29aebce6dcae6763a\n",
      "0f8c35df7fb21d76050725fd69663ac9  0f8c35df7fb21d76050725fd69663ac9\n",
      "ef88ed73debbf639e17c24b8b55a3ff8  ef88ed73debbf639e17c24b8b55a3ff8\n",
      "38e28b7697d864dcf191721ac1b36e44  38e28b7697d864dcf191721ac1b36e44\n",
      "d714906f837312bdd51b52acfb65d408  d714906f837312bdd51b52acfb65d408\n",
      "a5b9b2387f0174be7188da96c92897d4  a5b9b2387f0174be7188da96c92897d4\n",
      "da8a9dfa82f180444d448a79c0ede541  da8a9dfa82f180444d448a79c0ede541\n",
      "e19b7e8c314ab8d76f06df7537dda932  e19b7e8c314ab8d76f06df7537dda932\n",
      "c520a45b8cb41c229e2c44eac886250b  c520a45b8cb41c229e2c44eac886250b\n",
      "fce902488172b3a796c9d5ae21c11777  fce902488172b3a796c9d5ae21c11777\n",
      "f7b04aea63f8ef17659556ed3896b0b4  f7b04aea63f8ef17659556ed3896b0b4\n",
      "e6a89005140a5eb7cf5e739f75fb70c7  e6a89005140a5eb7cf5e739f75fb70c7\n",
      "a60129a4bc7c400fec00ee1e8e7929fc  a60129a4bc7c400fec00ee1e8e7929fc\n",
      "0a61fc6dfd085519bb950f09fc06d24a  0a61fc6dfd085519bb950f09fc06d24a\n",
      "2317303d09eb0902845cebc2b56243a2  2317303d09eb0902845cebc2b56243a2\n",
      "c41180b2d41bdb02a4d7e6304477b02e  c41180b2d41bdb02a4d7e6304477b02e\n",
      "65a0a122ce7e2189181732c19ac766fa  65a0a122ce7e2189181732c19ac766fa\n",
      "7aa40d877e2190142c8143065934dbb4  7aa40d877e2190142c8143065934dbb4\n",
      "99e457f4cf405e44b0761c71251478bd  99e457f4cf405e44b0761c71251478bd\n",
      "6706c1a4dee51fc69a025455369f470a  6706c1a4dee51fc69a025455369f470a\n",
      "3c95a07669e95fff43ae021b2233dace  3c95a07669e95fff43ae021b2233dace\n",
      "189c248ea2d646b14ffb69299ab544bc  189c248ea2d646b14ffb69299ab544bc\n",
      "e8394caafb339c6404d144eca555f5b4  e8394caafb339c6404d144eca555f5b4\n",
      "547178046c27dfcb9054c7267fa875a9  547178046c27dfcb9054c7267fa875a9\n",
      "38faf6fa94b9f0b11a566d4ae4688278  38faf6fa94b9f0b11a566d4ae4688278\n",
      "b694d0987bebd60205151e5845026d70  b694d0987bebd60205151e5845026d70\n",
      "befe781f9d2f7240834c050cf534e5a8  befe781f9d2f7240834c050cf534e5a8\n",
      "b656e57309b3428eebf06d783b50c432  b656e57309b3428eebf06d783b50c432\n",
      "d3f7fa8088ad2640f5c38ee061191148  d3f7fa8088ad2640f5c38ee061191148\n",
      "f83f200307350de8ec897843f11c2d48  f83f200307350de8ec897843f11c2d48\n",
      "74c11922e71234e273106e9392a6e1d7  74c11922e71234e273106e9392a6e1d7\n",
      "792e1e72d213e848b9afd085da0ed732  792e1e72d213e848b9afd085da0ed732\n",
      "9087b6ebb54057be3e935b09be922836  9087b6ebb54057be3e935b09be922836\n",
      "6fe2224c2e4fd7c7b4b61949aa2e9a97  6fe2224c2e4fd7c7b4b61949aa2e9a97\n",
      "184f1ef5701f7c0a29eae279cf8ea877  184f1ef5701f7c0a29eae279cf8ea877\n",
      "5b310c87a65894152e73a2cde2a591ca  5b310c87a65894152e73a2cde2a591ca\n",
      "0f41d83526bc3d9627d99d3f29bee848  0f41d83526bc3d9627d99d3f29bee848\n",
      "988ac803b95c2309743cecd175eb4d4c  988ac803b95c2309743cecd175eb4d4c\n",
      "293f1690261d623ea5f9d57284575ce1  293f1690261d623ea5f9d57284575ce1\n",
      "f61f36d9878a0e1fc1c25916ba0a4bc8  f61f36d9878a0e1fc1c25916ba0a4bc8\n",
      "68dfbacf43d6845f2f196fca10b93a43  68dfbacf43d6845f2f196fca10b93a43\n",
      "665903b2f47105a829731ad2917a13ba  665903b2f47105a829731ad2917a13ba\n",
      "1a9cdd9001ea02e2dca47652cbc1ac88  1a9cdd9001ea02e2dca47652cbc1ac88\n",
      "53c9b8675ab78332270680a2f3d7c8fc  53c9b8675ab78332270680a2f3d7c8fc\n",
      "f46a926d9e7e8544a01b9825c01110c0  f46a926d9e7e8544a01b9825c01110c0\n",
      "2ee9de5657de1873ff61849899f417df  2ee9de5657de1873ff61849899f417df\n",
      "acfecac2732cb15489c6fb4af8d5c7d1  acfecac2732cb15489c6fb4af8d5c7d1\n",
      "c941530434382235364767a196cbf7a3  c941530434382235364767a196cbf7a3\n",
      "dc84a159b52198ed0702280897c4383c  dc84a159b52198ed0702280897c4383c\n",
      "e581d8201bfcec04be2757fbae75e5b3  e581d8201bfcec04be2757fbae75e5b3\n",
      "f5dff42d54d76bb8f4f33d35ca1d7a12  f5dff42d54d76bb8f4f33d35ca1d7a12\n",
      "c4320c3a3727386c6ac257415b813733  c4320c3a3727386c6ac257415b813733\n",
      "6ea9eebf8fbcaa98138f0be7f69ac3cf  6ea9eebf8fbcaa98138f0be7f69ac3cf\n",
      "73852f27a69524b5bcbf1f77e40823a5  73852f27a69524b5bcbf1f77e40823a5\n",
      "015b2e60335d14fb1bea7fa74883f63d  015b2e60335d14fb1bea7fa74883f63d\n",
      "f29bc3ba748a8a12e8e5afd14d1d19c1  f29bc3ba748a8a12e8e5afd14d1d19c1\n",
      "aa559bd3f62bba13d3762d2665a88c49  aa559bd3f62bba13d3762d2665a88c49\n",
      "356770dccf7d6a03ff98d4cae7969ffd  356770dccf7d6a03ff98d4cae7969ffd\n",
      "f50f3fd3890bf842d29052e71d5ef896  f50f3fd3890bf842d29052e71d5ef896\n",
      "4631104776c758ffa00e045a0cf6e662  4631104776c758ffa00e045a0cf6e662\n",
      "575a58811d0ce032300185a34c373fa8  575a58811d0ce032300185a34c373fa8\n",
      "ea386c997ca8e2d1db19560fab7e458f  ea386c997ca8e2d1db19560fab7e458f\n",
      "865a297c3f345da4e7f951a8fffdbb20  865a297c3f345da4e7f951a8fffdbb20\n",
      "905e770eebe739637a6bc9b6915fa97c  905e770eebe739637a6bc9b6915fa97c\n",
      "5b5a96f92e2113c7a31ece05fcaab6c5  5b5a96f92e2113c7a31ece05fcaab6c5\n",
      "866dabd8057dadfae1e26c408672b7ee  866dabd8057dadfae1e26c408672b7ee\n",
      "29a902d6ce7e049beaa2d846752512bf  29a902d6ce7e049beaa2d846752512bf\n",
      "26b98c107253162ba2da476c380bb670  26b98c107253162ba2da476c380bb670\n",
      "713001609036cc096030e53e4c52cd88  713001609036cc096030e53e4c52cd88\n",
      "d94bfd7c89c30684a3af5f5e35f5a9d9  d94bfd7c89c30684a3af5f5e35f5a9d9\n",
      "cb0b63f091f55e6befd5743778780d66  cb0b63f091f55e6befd5743778780d66\n",
      "d936076252139bc982a56ae70ed59093  d936076252139bc982a56ae70ed59093\n",
      "01793ab303c164c43ce4de6c8f11d6d7  01793ab303c164c43ce4de6c8f11d6d7\n",
      "88e8bd1bcf52e6787f11df89f2892957  88e8bd1bcf52e6787f11df89f2892957\n",
      "129ae9db0bdc6491cf1967f2e6563076  129ae9db0bdc6491cf1967f2e6563076\n",
      "128c27dd4f7304daa85859904bd43c14  128c27dd4f7304daa85859904bd43c14\n",
      "d4888ef6d5d5ba364fb0bb3b024b068a  d4888ef6d5d5ba364fb0bb3b024b068a\n",
      "0645707bddd580dc97b168d33129fa91  0645707bddd580dc97b168d33129fa91\n",
      "b75d3b53922ddaa7028a5d21e6a0cb54  b75d3b53922ddaa7028a5d21e6a0cb54\n",
      "ec69eede9b35b609fb294dbffe540358  ec69eede9b35b609fb294dbffe540358\n",
      "69b64dfa41b76d9811f6b3d6ccad978a  69b64dfa41b76d9811f6b3d6ccad978a\n",
      "d79048c20a0636d332648a6cbeb30ca8  d79048c20a0636d332648a6cbeb30ca8\n",
      "a369fdaab11d9987878ddbf4234c3bb5  a369fdaab11d9987878ddbf4234c3bb5\n",
      "2e8bfd923775501bfe3780668aa2c2a6  2e8bfd923775501bfe3780668aa2c2a6\n",
      "8cd05bb51446a422cc4a56f7794d8b48  8cd05bb51446a422cc4a56f7794d8b48\n",
      "33fdea262efefc2df494888b9df078dc  33fdea262efefc2df494888b9df078dc\n",
      "d7ca4b9313230dfd689a4e24d4f645e5  d7ca4b9313230dfd689a4e24d4f645e5\n",
      "12803110f5d79ec06f57591bf68be6f8  12803110f5d79ec06f57591bf68be6f8\n",
      "5b00eef48ac70f9fa9374f8ed47debcb  5b00eef48ac70f9fa9374f8ed47debcb\n",
      "bc70084519179e76650456d3d3ceda11  bc70084519179e76650456d3d3ceda11\n",
      "6356fd13faeae60a5c4f3a1dae680b94  6356fd13faeae60a5c4f3a1dae680b94\n",
      "4bfece4cabc43e96e753f50ad42e1611  4bfece4cabc43e96e753f50ad42e1611\n",
      "11c3a6416fbb2fe3344de5f4f9c5c3cd  11c3a6416fbb2fe3344de5f4f9c5c3cd\n",
      "a40f9fb80f8ddd33cce6bb1f2a1746a8  a40f9fb80f8ddd33cce6bb1f2a1746a8\n",
      "f97878b9db5c318adfc7a69c91ae15ff  f97878b9db5c318adfc7a69c91ae15ff\n",
      "8c899f8547dd40fef0770a2b08ee353c  8c899f8547dd40fef0770a2b08ee353c\n",
      "64ca0aa7086c574314a9369a8a75c20d  64ca0aa7086c574314a9369a8a75c20d\n",
      "e182954d83828ca4148b7fe1fa8d63fe  e182954d83828ca4148b7fe1fa8d63fe\n",
      "b032b792bb610a5f44715c3bb2b366fd  b032b792bb610a5f44715c3bb2b366fd\n",
      "6fb9181fce7d5a24dc889a84a42b7aa9  6fb9181fce7d5a24dc889a84a42b7aa9\n",
      "61d08737d1b02794af71c9ff638a35f4  61d08737d1b02794af71c9ff638a35f4\n",
      "9cee0da8e438e3013054ea37972c5c5c  9cee0da8e438e3013054ea37972c5c5c\n",
      "35408eb07a5d82420184633883602823  35408eb07a5d82420184633883602823\n",
      "f02c1551a1dec16a6b1e635fd5f5373e  f02c1551a1dec16a6b1e635fd5f5373e\n",
      "24e5ac8a109efa83c3ee2f50b9409dfb  24e5ac8a109efa83c3ee2f50b9409dfb\n",
      "ded695db9ae863a8ee51a741a310b11c  ded695db9ae863a8ee51a741a310b11c\n",
      "2628443b988e38d9d5f95c6e009b8fa5  2628443b988e38d9d5f95c6e009b8fa5\n",
      "9c97bbe02e3b6867e975a01c8b39490e  9c97bbe02e3b6867e975a01c8b39490e\n",
      "386747f5345fa2df2ddd846405c5262c  386747f5345fa2df2ddd846405c5262c\n",
      "0e92c72820d2922cc5c10e05020ae351  0e92c72820d2922cc5c10e05020ae351\n",
      "041b6ee16b0c97bf0514f77e5cb8979b  041b6ee16b0c97bf0514f77e5cb8979b\n",
      "4f16b29c271bca5c47c6e193a9e038e0  4f16b29c271bca5c47c6e193a9e038e0\n",
      "bdd3bb360cbb8f5f9067cec7bd338d0b  bdd3bb360cbb8f5f9067cec7bd338d0b\n",
      "e63136dfc2a9d3a9354e4bbec54dd87f  e63136dfc2a9d3a9354e4bbec54dd87f\n",
      "1c9761dca22e888f163062dc1f3d4103  1c9761dca22e888f163062dc1f3d4103\n",
      "7320e138255b4dc4606965e6b8c04f6b  7320e138255b4dc4606965e6b8c04f6b\n",
      "1d8e2f542e7efa593dbe19f11d2c1d0b  1d8e2f542e7efa593dbe19f11d2c1d0b\n",
      "a65d7d948fc76e75fcb4f3e3ede99c39  a65d7d948fc76e75fcb4f3e3ede99c39\n",
      "cc84dfd58cbc543f6008925bc186f54e  cc84dfd58cbc543f6008925bc186f54e\n",
      "8b71234b9f3fbbd5cf088e8b5c49d6ec  8b71234b9f3fbbd5cf088e8b5c49d6ec\n",
      "897e4d4b685837fca487b068231f1cac  897e4d4b685837fca487b068231f1cac\n",
      "623b94da92ef2efd7ede5ed6aa9e8576  623b94da92ef2efd7ede5ed6aa9e8576\n",
      "b1fec5efd808b8fcf079b6a47369384b  b1fec5efd808b8fcf079b6a47369384b\n",
      "0431386929e40d8e5a1f3fe801e6e549  0431386929e40d8e5a1f3fe801e6e549\n",
      "e4db912be7e2cad2d79180aa66a46b3a  e4db912be7e2cad2d79180aa66a46b3a\n",
      "ae38f46c20e6af53f147cc289443d3b8  ae38f46c20e6af53f147cc289443d3b8\n",
      "c49be861621efd0c67a7dff58c4cb7fe  c49be861621efd0c67a7dff58c4cb7fe\n",
      "4346bd7c380e5372d5b185389c2140cb  4346bd7c380e5372d5b185389c2140cb\n",
      "eca6bf7dddefd5817c2a4806d908d0ff  eca6bf7dddefd5817c2a4806d908d0ff\n",
      "ea423f75ca6745d115eec8566ab4433e  ea423f75ca6745d115eec8566ab4433e\n",
      "e5d44c420f6017006cd2a19417325c91  e5d44c420f6017006cd2a19417325c91\n",
      "e88b27c58ce3acdff815a4bcf97e4256  e88b27c58ce3acdff815a4bcf97e4256\n",
      "edbaf8f14d8ea6c63114058707f98c55  edbaf8f14d8ea6c63114058707f98c55\n",
      "c8c705bcef3fa995fd46d6816f929826  c8c705bcef3fa995fd46d6816f929826\n",
      "f4f0ef3f352b793b2b743e01a7e01eec  f4f0ef3f352b793b2b743e01a7e01eec\n",
      "a1fe3ac1515075050c8f158942cf871a  a1fe3ac1515075050c8f158942cf871a\n",
      "8573438a2cf3f2eb55198da6ad6ab2b7  8573438a2cf3f2eb55198da6ad6ab2b7\n",
      "ec704d335107ae32fc2d67db5b143afc  ec704d335107ae32fc2d67db5b143afc\n",
      "59a5b7f40257b4a744dab76757b364b4  59a5b7f40257b4a744dab76757b364b4\n",
      "dc8936c4a994a477f383739846650fd0  dc8936c4a994a477f383739846650fd0\n",
      "6ce9e9f08d2d8d06a41c240d5588c9fd  6ce9e9f08d2d8d06a41c240d5588c9fd\n",
      "2c196901af92ff8524bb5743066130f4  2c196901af92ff8524bb5743066130f4\n",
      "de856feadad2a8df72e2749b7d2e2881  de856feadad2a8df72e2749b7d2e2881\n",
      "624f8dd55052a387d4bb9f596e9c83ea  624f8dd55052a387d4bb9f596e9c83ea\n",
      "55acdd1c5c8a77aa009fd6fcdfd1db05  55acdd1c5c8a77aa009fd6fcdfd1db05\n",
      "25b5e1e6edd7d9f82eb8f0580239282c  25b5e1e6edd7d9f82eb8f0580239282c\n",
      "855636fd35baab64869ff97b3cacb200  855636fd35baab64869ff97b3cacb200\n",
      "dd245a30f0fd6fab41482f8839e1d83a  dd245a30f0fd6fab41482f8839e1d83a\n",
      "3a910665ba9538ccabdd4048e8f1b397  3a910665ba9538ccabdd4048e8f1b397\n",
      "c1301bf05db0724fce48e7aac5d3263b  c1301bf05db0724fce48e7aac5d3263b\n",
      "3ce7791fce7f599d011888e1dd576e5b  3ce7791fce7f599d011888e1dd576e5b\n",
      "9aecefaf6c75f72a5083cf33831d0c35  9aecefaf6c75f72a5083cf33831d0c35\n",
      "13c38cebf7c237b5f4a3a35e15708382  13c38cebf7c237b5f4a3a35e15708382\n",
      "e3256b754f796b8f7ce9c8a6bf85771c  e3256b754f796b8f7ce9c8a6bf85771c\n",
      "b8f38f73af8e7f6f57aa3aeb5cc2d911  b8f38f73af8e7f6f57aa3aeb5cc2d911\n",
      "61d1aea080166895408ce4a91fe6c38d  61d1aea080166895408ce4a91fe6c38d\n",
      "2b743503850a6ee926f28ed6ee1db38e  2b743503850a6ee926f28ed6ee1db38e\n",
      "068935150219bf6c6a7f2bf540e3e30a  068935150219bf6c6a7f2bf540e3e30a\n",
      "261b34575b90b018a588470ead1ceceb  261b34575b90b018a588470ead1ceceb\n",
      "f4948bcf1430670b0ba459469631ed91  f4948bcf1430670b0ba459469631ed91\n",
      "7429e92a50bb8fc565e456d72e3dd27e  7429e92a50bb8fc565e456d72e3dd27e\n",
      "ea49752e6bf85979a16f8c5b64bc21e7  ea49752e6bf85979a16f8c5b64bc21e7\n",
      "7b75b9971c513e67ee98939d39adf7ac  7b75b9971c513e67ee98939d39adf7ac\n",
      "fd745740bc7c8b2d0eca5f8e03599fab  fd745740bc7c8b2d0eca5f8e03599fab\n",
      "78654e7b09ef57302de4d4cf882cec7a  78654e7b09ef57302de4d4cf882cec7a\n",
      "0c57cbd342295743b4f1081e3d5f2d30  0c57cbd342295743b4f1081e3d5f2d30\n",
      "a73fe13b270ff1cd55f505becb9b86c4  a73fe13b270ff1cd55f505becb9b86c4\n",
      "51e5c0985e8830fc22720a2c5b69bdc0  51e5c0985e8830fc22720a2c5b69bdc0\n",
      "308cc862660617263f281ff9671ddd6d  308cc862660617263f281ff9671ddd6d\n",
      "bef71dc83879668dffcdae3b2ca11957  bef71dc83879668dffcdae3b2ca11957\n",
      "ddc63436220c82de1cd0a426fd0aa559  ddc63436220c82de1cd0a426fd0aa559\n",
      "1d3d9c8970896821e636d2de1d3b71a7  1d3d9c8970896821e636d2de1d3b71a7\n",
      "bebcf74c91181b0025e66147fea39bca  bebcf74c91181b0025e66147fea39bca\n",
      "a52aeebb31ad542c2f341f361db2daa7  a52aeebb31ad542c2f341f361db2daa7\n",
      "ecc03adfff40852096f61903c5710754  ecc03adfff40852096f61903c5710754\n",
      "94d7615bb80fb98a93275d62b57c5dcd  94d7615bb80fb98a93275d62b57c5dcd\n",
      "00ba556b23ca3ae1c16722b719b0c33d  00ba556b23ca3ae1c16722b719b0c33d\n",
      "388afcc9717cca6b885bcb19284fa33e  388afcc9717cca6b885bcb19284fa33e\n",
      "cd389ca11ff28eb5e9469518c993b76f  cd389ca11ff28eb5e9469518c993b76f\n",
      "0c817ab57af8cf3418d326e06061083c  0c817ab57af8cf3418d326e06061083c\n",
      "3b0c3d90a68603f457e3455b3cb6baf4  3b0c3d90a68603f457e3455b3cb6baf4\n",
      "840d16f8836b1d2a2db7aa9db75050ec  840d16f8836b1d2a2db7aa9db75050ec\n",
      "7de812e760f520659a2f13438b4ea304  7de812e760f520659a2f13438b4ea304\n",
      "663d8a77531dbc3fe58b4c2cd9828cf0  663d8a77531dbc3fe58b4c2cd9828cf0\n",
      "b2818a85f71117bc643d9110d186a247  b2818a85f71117bc643d9110d186a247\n",
      "08b29319bad6918f857ab4825cad2f62  08b29319bad6918f857ab4825cad2f62\n",
      "3095be66ff836ebd0b1f2ae16e63d0c6  3095be66ff836ebd0b1f2ae16e63d0c6\n",
      "fcdf37aa5221c2358641acc35adf32c6  fcdf37aa5221c2358641acc35adf32c6\n",
      "a1216228f78255017a6ff3539b620395  a1216228f78255017a6ff3539b620395\n",
      "5fa8cb06c5fb8b6d918551c2061ad308  5fa8cb06c5fb8b6d918551c2061ad308\n",
      "4dfcd45a36d3d09b33c6ba56e017348b  4dfcd45a36d3d09b33c6ba56e017348b\n",
      "370ab826f2feddd62653558f5cb8027e  370ab826f2feddd62653558f5cb8027e\n",
      "b8b45ad5bc7ae0562a1183c7d2c01090  b8b45ad5bc7ae0562a1183c7d2c01090\n",
      "d6208bd9696f849a95044ab95216a4c9  d6208bd9696f849a95044ab95216a4c9\n",
      "79e375fc9331971a672306583781eb5c  79e375fc9331971a672306583781eb5c\n",
      "6f08bedcbf4b86b0daa7c434222f120b  6f08bedcbf4b86b0daa7c434222f120b\n",
      "83df51af5d96b94325f4d40bec26f3e2  83df51af5d96b94325f4d40bec26f3e2\n",
      "e8aa5802a36d55b8754a59a60eec19fc  e8aa5802a36d55b8754a59a60eec19fc\n",
      "43f3c23971b7f95c6f7d684bf2cb0140  43f3c23971b7f95c6f7d684bf2cb0140\n",
      "866a2203e3cb632c80e113683dcc7dc9  866a2203e3cb632c80e113683dcc7dc9\n",
      "164db26def5a92d09170487590364695  164db26def5a92d09170487590364695\n",
      "0c4975dc13c514d58eadbfa2e9125b39  0c4975dc13c514d58eadbfa2e9125b39\n",
      "b942a7397ccda46ec9d72aab113d0c8d  b942a7397ccda46ec9d72aab113d0c8d\n",
      "1c71a4a31b3419480611a51ab5e17b5f  1c71a4a31b3419480611a51ab5e17b5f\n",
      "b1b4218c19d2fc356a948b379d4c93e1  b1b4218c19d2fc356a948b379d4c93e1\n",
      "954db9e3efaf66c5e6834b0533e9604a  954db9e3efaf66c5e6834b0533e9604a\n",
      "8cc74b906d4606fc6eefb69cb47ca916  8cc74b906d4606fc6eefb69cb47ca916\n",
      "f7367687728e1b0c15000751e356599b  f7367687728e1b0c15000751e356599b\n",
      "3c461d43572c41d24eb82c25a384b12b  3c461d43572c41d24eb82c25a384b12b\n",
      "740191ed4d139cd904f3010a39687457  740191ed4d139cd904f3010a39687457\n",
      "141c36b723d1176ff3206a14ee044191  141c36b723d1176ff3206a14ee044191\n",
      "04bc55f0684581768119a5e2d8bf7818  04bc55f0684581768119a5e2d8bf7818\n",
      "4f3b4940d13e61d1b731cf9020e2aff3  4f3b4940d13e61d1b731cf9020e2aff3\n",
      "f09dd58d5fbe1ef38a04d4334492824a  f09dd58d5fbe1ef38a04d4334492824a\n",
      "fec095484f8223930d67c8cb9ddfec03  fec095484f8223930d67c8cb9ddfec03\n",
      "abaa4ff049cd0db9fc66c063a3e26fdc  abaa4ff049cd0db9fc66c063a3e26fdc\n",
      "62a62b6a37609a8cbdc49076e9c81d7d  62a62b6a37609a8cbdc49076e9c81d7d\n",
      "cb2ed7496492d2abbb2d1b77784507cf  cb2ed7496492d2abbb2d1b77784507cf\n",
      "eb1ca451b3e1429e6051081c5f718f7d  eb1ca451b3e1429e6051081c5f718f7d\n",
      "9ef04a7c647729dd85b9b07910729b25  9ef04a7c647729dd85b9b07910729b25\n",
      "808c03de0cf1954d972c3c1a015e0f05  808c03de0cf1954d972c3c1a015e0f05\n",
      "cf1fd2c44c560c9ccee9d24d9570cf86  cf1fd2c44c560c9ccee9d24d9570cf86\n",
      "f656181eebf575f50b2a00a849c6be18  f656181eebf575f50b2a00a849c6be18\n",
      "6c2875cd57c87cb1d9691cf3bfdcc988  6c2875cd57c87cb1d9691cf3bfdcc988\n",
      "94d42fa32df5c9f8c9dfef638aba238f  94d42fa32df5c9f8c9dfef638aba238f\n",
      "c74774ae552961623787f639d96827d7  c74774ae552961623787f639d96827d7\n",
      "da4b584eac788831eabc493d187b8283  da4b584eac788831eabc493d187b8283\n",
      "56de99f697404d7c080122a49fd54202  56de99f697404d7c080122a49fd54202\n",
      "abcf0b825ba29dbc839570d227922ca3  abcf0b825ba29dbc839570d227922ca3\n",
      "50af76be13721559bec7dfca16861d20  50af76be13721559bec7dfca16861d20\n",
      "737f32f1f21b18b484bb74ec0d5484b1  737f32f1f21b18b484bb74ec0d5484b1\n",
      "942be767c17038ea89055fa0255b966a  942be767c17038ea89055fa0255b966a\n",
      "f19b4b0870110cf9c3f458522e8cefad  f19b4b0870110cf9c3f458522e8cefad\n",
      "e6689db13a1151a6758a0d77090253b0  e6689db13a1151a6758a0d77090253b0\n",
      "029a49d7deb72c7fb44d349cd74859c6  029a49d7deb72c7fb44d349cd74859c6\n",
      "e23f434765d171a02351d8b449398508  e23f434765d171a02351d8b449398508\n",
      "e456e8c79d99d7f891d8de22842555d8  e456e8c79d99d7f891d8de22842555d8\n",
      "866121097a6239eb8529dc65575a56ff  866121097a6239eb8529dc65575a56ff\n",
      "f606b3816b4cb460492bb4b221d3b84d  f606b3816b4cb460492bb4b221d3b84d\n",
      "fce62b0adf62a7d441647a6946521585  fce62b0adf62a7d441647a6946521585\n",
      "f863392436af500ef1317ae43df539dd  f863392436af500ef1317ae43df539dd\n",
      "a548d5f05b07e5aa468e8a709ed22537  a548d5f05b07e5aa468e8a709ed22537\n",
      "8d63c6a97b9d5b2cafb30694e0a64b80  8d63c6a97b9d5b2cafb30694e0a64b80\n",
      "544a5d4af25ff4a31f0ad2420a33a0e8  544a5d4af25ff4a31f0ad2420a33a0e8\n",
      "afaa1d193c6e7a36c7b86f322347b989  afaa1d193c6e7a36c7b86f322347b989\n",
      "eea87c5999e777e48fa8b5d67ec881f8  eea87c5999e777e48fa8b5d67ec881f8\n",
      "b34aa34c9e80d4ba2bfe34e23339232a  b34aa34c9e80d4ba2bfe34e23339232a\n",
      "f282439d443064512b70c0c5e30be803  f282439d443064512b70c0c5e30be803\n",
      "89603c5bd6a01f0dfb46c1c89d8f011c  89603c5bd6a01f0dfb46c1c89d8f011c\n",
      "464e1df9beb98bc6e659dfa7ad0712f5  464e1df9beb98bc6e659dfa7ad0712f5\n",
      "6fb74beffe39138e6f52ce9ae54c70c0  6fb74beffe39138e6f52ce9ae54c70c0\n",
      "9c66c621dda783dfb06b481cfcf134c4  9c66c621dda783dfb06b481cfcf134c4\n",
      "816ee482ba302b7a9a5279654fae5f98  816ee482ba302b7a9a5279654fae5f98\n",
      "130f0cf1025407a664cda94f98edd25b  130f0cf1025407a664cda94f98edd25b\n",
      "e1cef69a4d7dc86bc33defc1de2480b3  e1cef69a4d7dc86bc33defc1de2480b3\n",
      "4079a460bbe1389cb84058f5f8961b23  4079a460bbe1389cb84058f5f8961b23\n",
      "1cdaeb74cec62c79da9c66470808d143  1cdaeb74cec62c79da9c66470808d143\n",
      "5ebc8ac409d9319b6f28b83e464f9295  5ebc8ac409d9319b6f28b83e464f9295\n",
      "d8d081e5cff6a944825c9494a343bf82  d8d081e5cff6a944825c9494a343bf82\n",
      "4a76013eaa491b00172314d5f3a47e22  4a76013eaa491b00172314d5f3a47e22\n",
      "ceb77d2fe9f8e639b404beb3d8b3d899  ceb77d2fe9f8e639b404beb3d8b3d899\n",
      "30322b34ddbfc424cc7ac95c47783520  30322b34ddbfc424cc7ac95c47783520\n",
      "b0ddc2471d6df5c281d52a7ad58082d1  b0ddc2471d6df5c281d52a7ad58082d1\n",
      "2e2401cc7be5dfe9d65898a0ad9d210f  2e2401cc7be5dfe9d65898a0ad9d210f\n",
      "36b5a020f6259803c30cc567ed748b8d  36b5a020f6259803c30cc567ed748b8d\n",
      "5c827b3a9215510db291f81553ce4ea7  5c827b3a9215510db291f81553ce4ea7\n",
      "ccfa9ae4e250d6e6f431763fb6fbf65f  ccfa9ae4e250d6e6f431763fb6fbf65f\n",
      "f7a2ce241525d0daf1beb128b9bba6cf  f7a2ce241525d0daf1beb128b9bba6cf\n",
      "ba632d2a6c4753bdfba5169e4a8f9f16  ba632d2a6c4753bdfba5169e4a8f9f16\n",
      "c020065c9c2b9fdd84566b334aad62cf  c020065c9c2b9fdd84566b334aad62cf\n",
      "c2ab38860dda4dc48c77d4f36fe86fed  c2ab38860dda4dc48c77d4f36fe86fed\n",
      "de797d2d38ba174db8e961ae303607f9  de797d2d38ba174db8e961ae303607f9\n",
      "064b4df5eaaa22dfe3502326ad0cbd13  064b4df5eaaa22dfe3502326ad0cbd13\n",
      "3d639e28efebe0c8c78d0dda50d5ea84  3d639e28efebe0c8c78d0dda50d5ea84\n",
      "92c931e976675a7214f8a15734dd5e9c  92c931e976675a7214f8a15734dd5e9c\n",
      "c858953d208b1bf86e8ad2746c4b2720  c858953d208b1bf86e8ad2746c4b2720\n",
      "0eb541b1a12b0e030c01c9bcc467ee02  0eb541b1a12b0e030c01c9bcc467ee02\n",
      "87b532ed1b6691ca18eba4b566ab724c  87b532ed1b6691ca18eba4b566ab724c\n",
      "f86e178e49cd121fcc9f59e48c1fc091  f86e178e49cd121fcc9f59e48c1fc091\n",
      "be46e35c9a50c9a617de91a42b575ad9  be46e35c9a50c9a617de91a42b575ad9\n",
      "5dc8b28c8483519d1e485f244820c1dd  5dc8b28c8483519d1e485f244820c1dd\n",
      "a78953e63d2d41a0b1aad172bf65e615  a78953e63d2d41a0b1aad172bf65e615\n",
      "d29e88ff8785994c9825b47fd47e300b  d29e88ff8785994c9825b47fd47e300b\n",
      "6425181d6e8aa36c2a3ce4bce917427e  6425181d6e8aa36c2a3ce4bce917427e\n",
      "d6f19d81494f9349e4f4e18371a85953  d6f19d81494f9349e4f4e18371a85953\n",
      "ceaf9840d48ef40d40fdb777543c090a  ceaf9840d48ef40d40fdb777543c090a\n",
      "eeaaaea144d85a3640dc8556ece73805  eeaaaea144d85a3640dc8556ece73805\n",
      "213889fe3114bc4d6944455d218825da  213889fe3114bc4d6944455d218825da\n",
      "028f19f7c4708c9fcba3811a19f99ed8  028f19f7c4708c9fcba3811a19f99ed8\n",
      "3aef6c9ea7bf65fc9987877d0c9beac2  3aef6c9ea7bf65fc9987877d0c9beac2\n",
      "488921ba5b4930973ba240a8837b332a  488921ba5b4930973ba240a8837b332a\n",
      "016cea7e2c54edf401bf866eee15f26f  016cea7e2c54edf401bf866eee15f26f\n",
      "ba514c05e04fbd4c20cb1fc0510d1fca  ba514c05e04fbd4c20cb1fc0510d1fca\n",
      "90f051a0e400932e6c27542eb8f36ae5  90f051a0e400932e6c27542eb8f36ae5\n",
      "ebd372041876be29efe1fe40d2dfb667  ebd372041876be29efe1fe40d2dfb667\n",
      "545f7246531e8681976f01f24e8549df  545f7246531e8681976f01f24e8549df\n",
      "4460e8c7c40ef98c2398e36928f24f99  4460e8c7c40ef98c2398e36928f24f99\n",
      "12f86ac596bddc72061b33e507c24bd6  12f86ac596bddc72061b33e507c24bd6\n",
      "6c4a5a2fe89303436063622acc7a3bad  6c4a5a2fe89303436063622acc7a3bad\n",
      "6064d35c6e65410b0c7253e5b7796f77  6064d35c6e65410b0c7253e5b7796f77\n",
      "079f0255fdc582e183b320975eab76ca  079f0255fdc582e183b320975eab76ca\n",
      "42bc3aec545e59f8d8be6c4ac8f05ccd  42bc3aec545e59f8d8be6c4ac8f05ccd\n",
      "c0888a227b57dbddf02eea6ed30e546f  c0888a227b57dbddf02eea6ed30e546f\n",
      "582cc6e9421bfbc580d30852c64a8b50  582cc6e9421bfbc580d30852c64a8b50\n",
      "709e265a3ea2582b0b21f3f2b848f861  709e265a3ea2582b0b21f3f2b848f861\n",
      "c30b4d36853124f315810945182e49b6  c30b4d36853124f315810945182e49b6\n",
      "1e7f24549b0b91712ee4ab995e123210  1e7f24549b0b91712ee4ab995e123210\n",
      "70b24562544d9ba7a0ae800bd3e86cce  70b24562544d9ba7a0ae800bd3e86cce\n",
      "8ddb842603262d50d21901db37386d75  8ddb842603262d50d21901db37386d75\n",
      "5a2483e4caedab84ec01f0bae2a286f8  5a2483e4caedab84ec01f0bae2a286f8\n",
      "1d9101808d1d7ae5b2cb393d40611e5c  1d9101808d1d7ae5b2cb393d40611e5c\n",
      "2abf80c62330d6dd718efcdbd4893dd7  2abf80c62330d6dd718efcdbd4893dd7\n",
      "34dcf89913cb258737dd70558d735df0  34dcf89913cb258737dd70558d735df0\n",
      "4c526115dc3dd1c2b77c943595241ed5  4c526115dc3dd1c2b77c943595241ed5\n",
      "2685ed41438e8225c50111e2a705cf31  2685ed41438e8225c50111e2a705cf31\n",
      "822eaf66751b2facbc28cf4cf532c53e  822eaf66751b2facbc28cf4cf532c53e\n",
      "bbdd111bb608a895426da832891ff033  bbdd111bb608a895426da832891ff033\n",
      "e362bada0435d83c7ae6a4bb3cb30742  e362bada0435d83c7ae6a4bb3cb30742\n",
      "81cc8f83b1095b9ee618e75f1e9d969e  81cc8f83b1095b9ee618e75f1e9d969e\n",
      "f69e146b8838f4e26e3a434464abe136  f69e146b8838f4e26e3a434464abe136\n",
      "3b494e24e1565eb8930f740149a1d2e4  3b494e24e1565eb8930f740149a1d2e4\n",
      "f8e3c3090f6cef5188095bad987019f0  f8e3c3090f6cef5188095bad987019f0\n",
      "f0ca62aa1b0b2e5819c89bebeef7ece3  f0ca62aa1b0b2e5819c89bebeef7ece3\n",
      "7b2be3fc5a9c7949b51c1c41e22cac6c  7b2be3fc5a9c7949b51c1c41e22cac6c\n",
      "5e0c26927260140f68dcdaeb92ecd70f  5e0c26927260140f68dcdaeb92ecd70f\n",
      "743504619f08768075902385c3582ac7  743504619f08768075902385c3582ac7\n",
      "360385a9dc3d150a63d664c45bcde858  360385a9dc3d150a63d664c45bcde858\n",
      "662e79f8f6a1ed28190755784bef7013  662e79f8f6a1ed28190755784bef7013\n",
      "48aa8c5753d61867f21cdd9bc9aeed26  48aa8c5753d61867f21cdd9bc9aeed26\n",
      "c7afcb96b78e5d043e690ae8ccaa33d6  c7afcb96b78e5d043e690ae8ccaa33d6\n",
      "46f49b55a062e69bbd3d160699d3a601  46f49b55a062e69bbd3d160699d3a601\n",
      "56f13b4753f996c126cb93b54262c05b  56f13b4753f996c126cb93b54262c05b\n",
      "8713a72a0e595a522ce76b4ad9a377ea  8713a72a0e595a522ce76b4ad9a377ea\n",
      "9bb4391d5f5fc820fea534490c2fbe52  9bb4391d5f5fc820fea534490c2fbe52\n",
      "79b839df33913cb1ba42a4b18312aa3b  79b839df33913cb1ba42a4b18312aa3b\n",
      "4d8e04240ae3dd05a8affabac01a2cdc  4d8e04240ae3dd05a8affabac01a2cdc\n",
      "9b1e51becf9ec0aa135b584d3acdef01  9b1e51becf9ec0aa135b584d3acdef01\n",
      "6cfaf933841f7adffec792c5e3e3ff30  6cfaf933841f7adffec792c5e3e3ff30\n",
      "729910eabc88b52cd5c3c943c5fd7d7f  729910eabc88b52cd5c3c943c5fd7d7f\n",
      "abb248f642d0ab17e309878236a1ab09  abb248f642d0ab17e309878236a1ab09\n",
      "cf35a3a74e3b3574aa47f381ba914a91  cf35a3a74e3b3574aa47f381ba914a91\n",
      "8dfcd44b53b0735d564714b7585b60c7  8dfcd44b53b0735d564714b7585b60c7\n",
      "5960ed46a5d289468117ea7b3c1bb836  5960ed46a5d289468117ea7b3c1bb836\n",
      "885be0edc13f2461be73be0282ed0fd7  885be0edc13f2461be73be0282ed0fd7\n",
      "1faf4c1a4e7456fc18e5a4731595cf1b  1faf4c1a4e7456fc18e5a4731595cf1b\n",
      "45ed8ad259bb95edd2b68ae3bf7c427e  45ed8ad259bb95edd2b68ae3bf7c427e\n",
      "99677d547f73856526faeb6a392485a2  99677d547f73856526faeb6a392485a2\n",
      "a8cf850a64255d9b439a1ac94d1f62cc  a8cf850a64255d9b439a1ac94d1f62cc\n",
      "b6a1e57dde6add38799aec13e26ddb05  b6a1e57dde6add38799aec13e26ddb05\n",
      "e42b5706d72d5f70cbf4ef78e69d3d1f  e42b5706d72d5f70cbf4ef78e69d3d1f\n",
      "648ca42eabe30fc15db08928b2e33798  648ca42eabe30fc15db08928b2e33798\n",
      "9e2a37360d2f8662795764dc667164a2  9e2a37360d2f8662795764dc667164a2\n",
      "ade8c6618003942328e4c9acd8f0e2b3  ade8c6618003942328e4c9acd8f0e2b3\n",
      "3f61a1be1f6afb4d1f46028913a5aa4c  3f61a1be1f6afb4d1f46028913a5aa4c\n",
      "8eb84ab6f9b0f5261f514a09c3d5edc3  8eb84ab6f9b0f5261f514a09c3d5edc3\n",
      "3ee729cde667c3b10c4f5f4522986b62  3ee729cde667c3b10c4f5f4522986b62\n",
      "952097a801971340d4a09e7b0c9e06de  952097a801971340d4a09e7b0c9e06de\n",
      "0dabfceb4231c094ecd7d0fdfd6f00bb  0dabfceb4231c094ecd7d0fdfd6f00bb\n",
      "5e2b3d0482f243f4f119be38d7a75023  5e2b3d0482f243f4f119be38d7a75023\n",
      "9503f286da005a2379f4b6f7e9adaed6  9503f286da005a2379f4b6f7e9adaed6\n",
      "c3061df3c426d949ef9eab21bf979262  c3061df3c426d949ef9eab21bf979262\n",
      "0277efb113ed96c73457d33523f42678  0277efb113ed96c73457d33523f42678\n",
      "29bd5c59a4b58131630a6c7fc1a78f25  29bd5c59a4b58131630a6c7fc1a78f25\n",
      "2d3c4ec478823391cd7dec8a257eb706  2d3c4ec478823391cd7dec8a257eb706\n",
      "c1d37bde6cc98aa33d79b63ff2675202  c1d37bde6cc98aa33d79b63ff2675202\n",
      "d21f37b06419aee461748574d3118292  d21f37b06419aee461748574d3118292\n",
      "6cdf2427d87f04d1944af9c6acd645d9  6cdf2427d87f04d1944af9c6acd645d9\n",
      "5c4bb1e2cf1f7fa01bfe6a16b36bc41c  5c4bb1e2cf1f7fa01bfe6a16b36bc41c\n",
      "25f0d8bf13b671330047f4ddd58afed8  25f0d8bf13b671330047f4ddd58afed8\n",
      "569c2535600545e37efb132eb19da266  569c2535600545e37efb132eb19da266\n",
      "abdf25ee4416cb51246a5327917d464b  abdf25ee4416cb51246a5327917d464b\n",
      "8e9388f4dab595c1bf98b9e95b2d9239  8e9388f4dab595c1bf98b9e95b2d9239\n",
      "721cff17eb07f3ffa1ee8fe06dfd929a  721cff17eb07f3ffa1ee8fe06dfd929a\n",
      "01a17358194be5c4e38a406e3772d145  01a17358194be5c4e38a406e3772d145\n",
      "d023ff56443a89acba504fbdbdd7e3ea  d023ff56443a89acba504fbdbdd7e3ea\n",
      "7a8bbe7ca6978d7a308d2a05abeb8948  7a8bbe7ca6978d7a308d2a05abeb8948\n",
      "80cc64c86cbd69025b96c43d9afdfbf0  80cc64c86cbd69025b96c43d9afdfbf0\n",
      "10a158381a041f9d878f6abf49e22a08  10a158381a041f9d878f6abf49e22a08\n",
      "c1c63f2a1616942608a9e872ae173528  c1c63f2a1616942608a9e872ae173528\n",
      "25f8c245ad9d2eb431f1e13e68e31c4e  25f8c245ad9d2eb431f1e13e68e31c4e\n",
      "b93adc76a73bc42058b6b580eef368eb  b93adc76a73bc42058b6b580eef368eb\n",
      "909ca69dbc48a73d7e51c5d72cc28032  909ca69dbc48a73d7e51c5d72cc28032\n",
      "adbfcd6ad2cd8b223e8852bdc92fc879  adbfcd6ad2cd8b223e8852bdc92fc879\n",
      "2d43240a30247a8d5509fd2e043b7959  2d43240a30247a8d5509fd2e043b7959\n",
      "7bc889542cc33e5e6702705b0f8dcf27  7bc889542cc33e5e6702705b0f8dcf27\n",
      "2f6a4d4c3665f8cc5a601a5fca08aeee  2f6a4d4c3665f8cc5a601a5fca08aeee\n",
      "8fbf3fb08bd02ed0b2d41bebcb0edfa8  8fbf3fb08bd02ed0b2d41bebcb0edfa8\n",
      "53b226a66f4af86fe365c391ab0e6ed4  53b226a66f4af86fe365c391ab0e6ed4\n",
      "2797dad8269b3934c37232ef81b59e8f  2797dad8269b3934c37232ef81b59e8f\n",
      "333d46be5777ca9581ce7995f9ed27e2  333d46be5777ca9581ce7995f9ed27e2\n",
      "f57bf57ec94faec8a12a98a6b62dc426  f57bf57ec94faec8a12a98a6b62dc426\n",
      "e58e0de8d8ba47e002daa7fb0ac7db9b  e58e0de8d8ba47e002daa7fb0ac7db9b\n",
      "15c3383065ecb7cfa55fe45f6425b3c2  15c3383065ecb7cfa55fe45f6425b3c2\n",
      "2aedeaf216b55e47612a2f3d2bc25e37  2aedeaf216b55e47612a2f3d2bc25e37\n",
      "cfc314cd41dc0c78fb55e50cc2c736ed  cfc314cd41dc0c78fb55e50cc2c736ed\n",
      "fb1a0de594e7a06904ef10349fc20d59  fb1a0de594e7a06904ef10349fc20d59\n",
      "d44bafe4706834ecc3d5204cff96922c  d44bafe4706834ecc3d5204cff96922c\n",
      "2828c12a78d3ad65fae73e5a2490caf7  2828c12a78d3ad65fae73e5a2490caf7\n",
      "43f85b956a46a0ce38bab9759e5a40fa  43f85b956a46a0ce38bab9759e5a40fa\n",
      "cc905c154419441bc073d456664a9feb  cc905c154419441bc073d456664a9feb\n",
      "1ccd1369545c21f3bc6b80f93bf9aabc  1ccd1369545c21f3bc6b80f93bf9aabc\n",
      "7576d99a292bc1a51c5c022d3610e74e  7576d99a292bc1a51c5c022d3610e74e\n",
      "32e28e91a04698b8eab452f2d49ed428  32e28e91a04698b8eab452f2d49ed428\n",
      "28db6811d3514a9e89a892e3dad6111a  28db6811d3514a9e89a892e3dad6111a\n",
      "9a5d6c8677178574c3391fc856d6421f  9a5d6c8677178574c3391fc856d6421f\n",
      "d3f9739234f337461af2007c09322968  d3f9739234f337461af2007c09322968\n",
      "946351cd959030f2223a5f1ee3bbf0c9  946351cd959030f2223a5f1ee3bbf0c9\n",
      "e852496e0e56eaca20c9075af13d5c68  e852496e0e56eaca20c9075af13d5c68\n",
      "4eec949c97d5fa4d5dbe34d8e98e129a  4eec949c97d5fa4d5dbe34d8e98e129a\n",
      "c3ec2358242ee5928dde977c18e01ec3  c3ec2358242ee5928dde977c18e01ec3\n",
      "54d3f7d53a4f917a231f924dc2aa03d1  54d3f7d53a4f917a231f924dc2aa03d1\n",
      "7d1da2ce453eea48a4c7bdaf47785510  7d1da2ce453eea48a4c7bdaf47785510\n",
      "5bf0dc6f8b9287746a503c1e1d2ff9c1  5bf0dc6f8b9287746a503c1e1d2ff9c1\n",
      "ecbea094cc4c806e3f297a39bc83a9e9  ecbea094cc4c806e3f297a39bc83a9e9\n",
      "77865fca8dc1965d9cfd247fb2c09d3f  77865fca8dc1965d9cfd247fb2c09d3f\n",
      "e4bcbc9a039adee18630d638963b17ae  e4bcbc9a039adee18630d638963b17ae\n",
      "127cf93e2ba767ebc469e421ea16637b  127cf93e2ba767ebc469e421ea16637b\n",
      "0bd6fc1e63d2d204de928fba7a8892b2  0bd6fc1e63d2d204de928fba7a8892b2\n",
      "9b220799e94cb8c277310e1b381c59d5  9b220799e94cb8c277310e1b381c59d5\n",
      "fe087c3e85f971722dc4d4654516995c  fe087c3e85f971722dc4d4654516995c\n",
      "8423f52e66343642f32cab4999ae4f56  8423f52e66343642f32cab4999ae4f56\n",
      "0b6567b29b2124c8aff2951da7f80abe  0b6567b29b2124c8aff2951da7f80abe\n",
      "51fa3440f6fb1cb34056da8a550f7f5f  51fa3440f6fb1cb34056da8a550f7f5f\n",
      "cb89928ca16d2fff8f52202069d07ea5  cb89928ca16d2fff8f52202069d07ea5\n",
      "89cad400e437d1b16a8b21b65ce05131  89cad400e437d1b16a8b21b65ce05131\n",
      "6c762374902a019651a52729b97e307d  6c762374902a019651a52729b97e307d\n",
      "3c6c08a024f75bb3480c75c628f960a8  3c6c08a024f75bb3480c75c628f960a8\n",
      "4bccf20954e1026ea7121c7855c8caf2  4bccf20954e1026ea7121c7855c8caf2\n",
      "a5f6dd94bc387a353d6af4ecebbf3ec8  a5f6dd94bc387a353d6af4ecebbf3ec8\n",
      "e42199dd002e791304ebcb34283fab17  e42199dd002e791304ebcb34283fab17\n",
      "aa21eadfb1ef767a7e29cf2f10b79e06  aa21eadfb1ef767a7e29cf2f10b79e06\n",
      "257c24c759ba58d29065f8292c4afea7  257c24c759ba58d29065f8292c4afea7\n",
      "0c8708d716720543357230429b5d1e12  0c8708d716720543357230429b5d1e12\n",
      "3d67484dd2d5d5ecb0973f9facb8bfe3  3d67484dd2d5d5ecb0973f9facb8bfe3\n",
      "279e77f2e93614cc44670f781d36c442  279e77f2e93614cc44670f781d36c442\n",
      "5af7a6b9895ddd786560d84bb6a80755  5af7a6b9895ddd786560d84bb6a80755\n",
      "64cab4a2a15080c7c7eb712b1fcb0bf0  64cab4a2a15080c7c7eb712b1fcb0bf0\n",
      "152b2043ac995817e8ca0d15c753d524  152b2043ac995817e8ca0d15c753d524\n",
      "e6da9614ec489c1b3f1d0f707ae338dc  e6da9614ec489c1b3f1d0f707ae338dc\n",
      "46c5bf8699097e750ceba0da3f22644c  46c5bf8699097e750ceba0da3f22644c\n",
      "7ce69e956e67c5913717944ad7335a86  7ce69e956e67c5913717944ad7335a86\n",
      "eb26d99a15749adf2be90ce98728c3d1  eb26d99a15749adf2be90ce98728c3d1\n",
      "bb25d97f5dc9e36bfe1cbc99bd8104bb  bb25d97f5dc9e36bfe1cbc99bd8104bb\n",
      "90d8f68bb1ab748e3cf4eca66e8884ce  90d8f68bb1ab748e3cf4eca66e8884ce\n",
      "7b77f9a7020c4ebd659df41c45b2a55c  7b77f9a7020c4ebd659df41c45b2a55c\n",
      "0defc9856f5cac0f2c27a3c16fcf7fec  0defc9856f5cac0f2c27a3c16fcf7fec\n",
      "8238c35569f8ed107695e3fb5c8e9f25  8238c35569f8ed107695e3fb5c8e9f25\n",
      "1ba40d1d98031a92f396f4ce72e2fbcc  1ba40d1d98031a92f396f4ce72e2fbcc\n",
      "620c394cb18a42e5b95c412a946ce0a5  620c394cb18a42e5b95c412a946ce0a5\n",
      "016328bbb106c88696d72235964e5d0d  016328bbb106c88696d72235964e5d0d\n",
      "78f400ea6f85be5b5222f43b73fae2c5  78f400ea6f85be5b5222f43b73fae2c5\n",
      "586e64dbe408b5ffff04fc660f45ef14  586e64dbe408b5ffff04fc660f45ef14\n",
      "9960f90b0680a13fffdbd65b47125e4d  9960f90b0680a13fffdbd65b47125e4d\n",
      "dca27f6e34657b9086208a6f9ac45308  dca27f6e34657b9086208a6f9ac45308\n",
      "15d229f7222e1ffba5d7382f8a683b1f  15d229f7222e1ffba5d7382f8a683b1f\n",
      "ee563aa6d60fa846d234fb8c76c5282c  ee563aa6d60fa846d234fb8c76c5282c\n",
      "6d5657643f8c9d9fb5273c561c2e4bd2  6d5657643f8c9d9fb5273c561c2e4bd2\n",
      "1b9b084418c169981a4d1724b122bb07  1b9b084418c169981a4d1724b122bb07\n",
      "1063e82db38e6762e9b0161c0fa8e17e  1063e82db38e6762e9b0161c0fa8e17e\n",
      "70aabc090fcb7f10eb12f8be06a9050e  70aabc090fcb7f10eb12f8be06a9050e\n",
      "d79e612447376c2cfc6e96172029c4bb  d79e612447376c2cfc6e96172029c4bb\n",
      "2bee23d90c98a2efc62add9aaa030bca  2bee23d90c98a2efc62add9aaa030bca\n",
      "a45580251936f084c5623c86e22456b7  a45580251936f084c5623c86e22456b7\n",
      "af95976c31d3a219144377b52d86fd0a  af95976c31d3a219144377b52d86fd0a\n",
      "c889f37ae503f36e337645bd21a77683  c889f37ae503f36e337645bd21a77683\n",
      "3acfd50332da2348b6c1114377a379c5  3acfd50332da2348b6c1114377a379c5\n",
      "1ff1fad35e87785c2aa7bd0d4ccf97c6  1ff1fad35e87785c2aa7bd0d4ccf97c6\n",
      "35e31bdd90cf7a24acd24a3e2f7a0174  35e31bdd90cf7a24acd24a3e2f7a0174\n",
      "3f430bdf09700280d1f4ad0c9365cac1  3f430bdf09700280d1f4ad0c9365cac1\n",
      "a49c2145ee43d88dd2a96071527847cc  a49c2145ee43d88dd2a96071527847cc\n",
      "0f2fdbf99785e55cf3f003e8bf484675  0f2fdbf99785e55cf3f003e8bf484675\n",
      "f956ccb08d3978ee65229066f36aeec5  f956ccb08d3978ee65229066f36aeec5\n",
      "9fc4310370ffd48b68a72d95d5e16c34  9fc4310370ffd48b68a72d95d5e16c34\n",
      "80dea2627a804197035d9e14188dd942  80dea2627a804197035d9e14188dd942\n",
      "fc84c8e0421e3d40868d5c992b5addb9  fc84c8e0421e3d40868d5c992b5addb9\n",
      "9e206510b5b9c271c6726be39d9e0274  9e206510b5b9c271c6726be39d9e0274\n",
      "a583207660bb122a5381a03f0a119e04  a583207660bb122a5381a03f0a119e04\n",
      "844fb371abc68f1785812d863a891ca3  844fb371abc68f1785812d863a891ca3\n",
      "15d76eb55103d5462626dd331584c422  15d76eb55103d5462626dd331584c422\n",
      "dc1f5889cfc9138b5d1dae6837cd9861  dc1f5889cfc9138b5d1dae6837cd9861\n",
      "00e6e9dfcc4277b8e4ef22348df3aa11  00e6e9dfcc4277b8e4ef22348df3aa11\n",
      "a9a270e5ffafbd64060a6fa9388fcedf  a9a270e5ffafbd64060a6fa9388fcedf\n",
      "4ddb3176b1e23f49bb3676de40c12c9c  4ddb3176b1e23f49bb3676de40c12c9c\n",
      "501403cc2a4a55ec2ed2a816dcbc3ce4  501403cc2a4a55ec2ed2a816dcbc3ce4\n",
      "46096c486cf24ac04079ba36f315330d  46096c486cf24ac04079ba36f315330d\n",
      "467bc2db682ab665d496b9bc686b425b  467bc2db682ab665d496b9bc686b425b\n",
      "579ee540d3378e2e15d6bf3d1f45d9e4  579ee540d3378e2e15d6bf3d1f45d9e4\n",
      "745a8de4a7454a7dd0b669e8ddb03645  745a8de4a7454a7dd0b669e8ddb03645\n",
      "c0859a8d257943b4a60b631bf77f863d  c0859a8d257943b4a60b631bf77f863d\n",
      "2d6edd5be7060e67c2b7970b8cc2e77a  2d6edd5be7060e67c2b7970b8cc2e77a\n",
      "a37d11f5bd1eaf85b364d2670f4b1813  a37d11f5bd1eaf85b364d2670f4b1813\n",
      "e11e934f60a33a4fce55c95e41c3965e  e11e934f60a33a4fce55c95e41c3965e\n",
      "9fab307491d896e00a4a57ca74f6ef93  9fab307491d896e00a4a57ca74f6ef93\n",
      "f119d6de987fcdbb394dddf55ba8df43  f119d6de987fcdbb394dddf55ba8df43\n",
      "0fbeb717b191139ef650e1f5fb9f7fab  0fbeb717b191139ef650e1f5fb9f7fab\n",
      "dab82ca9b788b733f1811c431a968c00  dab82ca9b788b733f1811c431a968c00\n",
      "5ccb65afdb9f613c35e4596cabc68dca  5ccb65afdb9f613c35e4596cabc68dca\n",
      "d64c53d186ac1ab3cd02b9451cbce569  d64c53d186ac1ab3cd02b9451cbce569\n",
      "3acf89afe1057d573a3de885835f04c7  3acf89afe1057d573a3de885835f04c7\n",
      "377ec0b91446886092e422f77e729d26  377ec0b91446886092e422f77e729d26\n",
      "9e3fb34da3dc672a429d6f54365734c5  9e3fb34da3dc672a429d6f54365734c5\n",
      "e7b5be85b87683df39d28d73e060275a  e7b5be85b87683df39d28d73e060275a\n",
      "0227f640558fc85603f8996d366f0cd6  0227f640558fc85603f8996d366f0cd6\n",
      "a0de7de6dc44e4a599bb68b2fe927ea1  a0de7de6dc44e4a599bb68b2fe927ea1\n",
      "89b262fed6da9f434fe64a8b0c6d96f2  89b262fed6da9f434fe64a8b0c6d96f2\n",
      "1cceb7f18e2bce077b241b89fc887351  1cceb7f18e2bce077b241b89fc887351\n",
      "0ecd44728bce69e4418d06b174eefcb1  0ecd44728bce69e4418d06b174eefcb1\n",
      "3cfc69510cc7de1a8e4954ef1f40b7e5  3cfc69510cc7de1a8e4954ef1f40b7e5\n",
      "4fed159bccdd56ebfd4beb0bdbe21b40  4fed159bccdd56ebfd4beb0bdbe21b40\n",
      "6fe90d8ac7f1211e4e7fc1d390e27ca9  6fe90d8ac7f1211e4e7fc1d390e27ca9\n",
      "c28cf1e459292b8fc74c16ca55bafe41  c28cf1e459292b8fc74c16ca55bafe41\n",
      "23b54b69372608eec4323813d3981bd1  23b54b69372608eec4323813d3981bd1\n",
      "f81a834f7bf739c25ae13dde6199f9ef  f81a834f7bf739c25ae13dde6199f9ef\n",
      "7d43d1ab8ba55b35ad04ca76a806f412  7d43d1ab8ba55b35ad04ca76a806f412\n",
      "45a12dc5b3649f30c26670e93aee2705  45a12dc5b3649f30c26670e93aee2705\n",
      "0c2d68ca966c6d54aa0ed2b29a536843  0c2d68ca966c6d54aa0ed2b29a536843\n",
      "921757486007634a20648767dfbc4fc6  921757486007634a20648767dfbc4fc6\n",
      "50e9d27c03d4e9e71c65fab1cea2d900  50e9d27c03d4e9e71c65fab1cea2d900\n",
      "e9234680901ea4826eb3510878cce761  e9234680901ea4826eb3510878cce761\n",
      "86cd2a0a000bbc9cc91b736e4e16291e  86cd2a0a000bbc9cc91b736e4e16291e\n",
      "fdb4b9c75e2818cc7c4cf2ed7649898a  fdb4b9c75e2818cc7c4cf2ed7649898a\n",
      "b0546190198752932b440cb6b28021b6  b0546190198752932b440cb6b28021b6\n",
      "b893558a3d9ac4465582c4345144383e  b893558a3d9ac4465582c4345144383e\n",
      "00bce9b2938e036146e6e14a86496f6b  00bce9b2938e036146e6e14a86496f6b\n",
      "1d1b957e8fe70e3cb4ad0197c6ccb500  1d1b957e8fe70e3cb4ad0197c6ccb500\n",
      "365323b31a201fc87d5a2aaad4a5bb38  365323b31a201fc87d5a2aaad4a5bb38\n",
      "d0718e15560f4bfc1177b838177e532a  d0718e15560f4bfc1177b838177e532a\n",
      "9d91602456f7e5b30b4351a6205f5919  9d91602456f7e5b30b4351a6205f5919\n",
      "8039f04d2f86705fcb18ec13737df79d  8039f04d2f86705fcb18ec13737df79d\n",
      "448d1323be4056e906c8c0239c0ae147  448d1323be4056e906c8c0239c0ae147\n",
      "5907383c527cfb5372195cee68c43ca5  5907383c527cfb5372195cee68c43ca5\n",
      "a49db43346ad4c4448d9003d1cfb8e44  a49db43346ad4c4448d9003d1cfb8e44\n",
      "99ebe7b88386f789536e004228fdeacd  99ebe7b88386f789536e004228fdeacd\n",
      "bfce8788eed00e79ba060c1b4652dfe4  bfce8788eed00e79ba060c1b4652dfe4\n",
      "c77bb01a5e46c56408075bc13fce7a11  c77bb01a5e46c56408075bc13fce7a11\n",
      "dae836c37fc0b6495e7e980c5733f176  dae836c37fc0b6495e7e980c5733f176\n",
      "1dcff915420f3ffcbb686c37ae09ab60  1dcff915420f3ffcbb686c37ae09ab60\n",
      "67ab6bdf309734a1c8bbd93059f0c831  67ab6bdf309734a1c8bbd93059f0c831\n",
      "2ae97f0282387c12b12813788c36993a  2ae97f0282387c12b12813788c36993a\n",
      "d959526eb5c4e71f6d09780d3c6d81fd  d959526eb5c4e71f6d09780d3c6d81fd\n",
      "c5ad6e93f1992885acc27b4affc96a22  c5ad6e93f1992885acc27b4affc96a22\n",
      "76993f3c7f899e6e8bc6488f173e959d  76993f3c7f899e6e8bc6488f173e959d\n",
      "9952fcc3a997b8312fc5247b83adf997  9952fcc3a997b8312fc5247b83adf997\n",
      "7ffdd5e7fa1af4a73dc0a73280e6df92  7ffdd5e7fa1af4a73dc0a73280e6df92\n",
      "864d250fe41480f02f78abd30bef3bf2  864d250fe41480f02f78abd30bef3bf2\n",
      "117ce01e948914ef54d49827ad752d6d  117ce01e948914ef54d49827ad752d6d\n",
      "04b5fe1072548fba54ef40e4784e19a9  04b5fe1072548fba54ef40e4784e19a9\n",
      "887948b706d9e739580b71fed5134559  887948b706d9e739580b71fed5134559\n",
      "f0814fcfe2afe3b03e93bba15efe5cb3  f0814fcfe2afe3b03e93bba15efe5cb3\n",
      "107f0ad21b9f108319f336ff7f12f63e  107f0ad21b9f108319f336ff7f12f63e\n",
      "5bfc5eb1ecf08a16a94e2f520be59212  5bfc5eb1ecf08a16a94e2f520be59212\n",
      "a88bf21ce74ea7e3ae0446cbe519e1ce  a88bf21ce74ea7e3ae0446cbe519e1ce\n",
      "023694e748780734e888d4902d870b79  023694e748780734e888d4902d870b79\n",
      "97c1e04623d4cd7cb6b3e475c5d9a63d  97c1e04623d4cd7cb6b3e475c5d9a63d\n",
      "860fb46a67900723014259eb7e32e9dc  860fb46a67900723014259eb7e32e9dc\n",
      "69eb998b16fb036457f8bdbd59d27098  69eb998b16fb036457f8bdbd59d27098\n",
      "245a4510b86431b97bfefc31d887ab9b  245a4510b86431b97bfefc31d887ab9b\n",
      "a6df4239fa95e7f81d22982ed8617b94  a6df4239fa95e7f81d22982ed8617b94\n",
      "9911c5e392a0902b8be2ebdd219d34b6  9911c5e392a0902b8be2ebdd219d34b6\n",
      "7a0deb45e8c8779ab0e916a92eb82c28  7a0deb45e8c8779ab0e916a92eb82c28\n",
      "bf95f88acc310b76210bbfb3b429935d  bf95f88acc310b76210bbfb3b429935d\n",
      "cbbaf089d9a06cbf011c000447cc6f03  cbbaf089d9a06cbf011c000447cc6f03\n",
      "0e6786401479cc0fea707d52abcc30b2  0e6786401479cc0fea707d52abcc30b2\n",
      "8890c09486e0c2f3967a80e1c7206bcb  8890c09486e0c2f3967a80e1c7206bcb\n",
      "d520edf9554b9b7b1bca952967648c1a  d520edf9554b9b7b1bca952967648c1a\n",
      "671341a9fd94e1cf19d2e9201dcf3f72  671341a9fd94e1cf19d2e9201dcf3f72\n",
      "43788cc65cd27a1dc0fee49016fc3a22  43788cc65cd27a1dc0fee49016fc3a22\n",
      "358d9f7ded7035a5ad7c255d00b65a37  358d9f7ded7035a5ad7c255d00b65a37\n",
      "74c2f61d241037e45712f3340efc3be5  74c2f61d241037e45712f3340efc3be5\n",
      "6e4b4a72813f0ef57d5e9d170fb825af  6e4b4a72813f0ef57d5e9d170fb825af\n",
      "6d5815107734aa72ae3a9f9c06390292  6d5815107734aa72ae3a9f9c06390292\n",
      "2ed319ca51c97b87a6677595065607d1  2ed319ca51c97b87a6677595065607d1\n",
      "aabfc97ec5e4726e04ada4ca40e29dd4  aabfc97ec5e4726e04ada4ca40e29dd4\n",
      "7e4ed8171689100cb7cdb2a391734726  7e4ed8171689100cb7cdb2a391734726\n",
      "7e030e1ffa28082560e947c667331f16  7e030e1ffa28082560e947c667331f16\n",
      "f0a9b5df11a7abd3226b503831daea63  f0a9b5df11a7abd3226b503831daea63\n",
      "bc8c42c5e480065129b3f7aca49f7547  bc8c42c5e480065129b3f7aca49f7547\n",
      "7267b2dd19a57492082ca9ca81b33cac  7267b2dd19a57492082ca9ca81b33cac\n",
      "930d576a33ac1ee926ba7027cf7b4b17  930d576a33ac1ee926ba7027cf7b4b17\n",
      "71b825093513c8cb27db6957e3b9c785  71b825093513c8cb27db6957e3b9c785\n",
      "9b57c78d8246547e6425614ce179e8ea  9b57c78d8246547e6425614ce179e8ea\n",
      "f504c6378f61b3f92dda86e2ce4bc513  f504c6378f61b3f92dda86e2ce4bc513\n",
      "2747c85074c24be7f5c0e560e7c1dd78  2747c85074c24be7f5c0e560e7c1dd78\n",
      "8f114820135df9e1aed3d37716620143  8f114820135df9e1aed3d37716620143\n",
      "805512f49e0ed5c226097f20bd04ca57  805512f49e0ed5c226097f20bd04ca57\n",
      "4829402c42be93f30eecc6abae13bb0b  4829402c42be93f30eecc6abae13bb0b\n",
      "ad3c85d29823150a56a263040cf527d5  ad3c85d29823150a56a263040cf527d5\n",
      "e56f78d2c1478eb1da0a9d4e24cbe224  e56f78d2c1478eb1da0a9d4e24cbe224\n",
      "b2d200012061e3e41c192bfac624371f  b2d200012061e3e41c192bfac624371f\n",
      "e75015dfb77f5dcad8f9adfa94bacbf3  e75015dfb77f5dcad8f9adfa94bacbf3\n",
      "2a1c6a3d01f106d928b071b904fdc9cf  2a1c6a3d01f106d928b071b904fdc9cf\n",
      "7f02f460ac4ebebd37b2e112de55476f  7f02f460ac4ebebd37b2e112de55476f\n",
      "ee92031d85e5767672750e4e613971c9  ee92031d85e5767672750e4e613971c9\n",
      "07e4e034e73ed18765aa4b18de9b2ee3  07e4e034e73ed18765aa4b18de9b2ee3\n",
      "dc9101f5cd8461d29e4be1a204a5fe1f  dc9101f5cd8461d29e4be1a204a5fe1f\n",
      "1e763c045896cc3e75f86ec325717d03  1e763c045896cc3e75f86ec325717d03\n",
      "49a146c33ea0ab95d62ddba5d89b1a3f  49a146c33ea0ab95d62ddba5d89b1a3f\n",
      "a50d4895fc0c37242603312dbf5ed43b  a50d4895fc0c37242603312dbf5ed43b\n",
      "805ee1b9502e37cb04f234cc0ecace7f  805ee1b9502e37cb04f234cc0ecace7f\n",
      "9d0cf1d38b1bc2df4dec696295c07b95  9d0cf1d38b1bc2df4dec696295c07b95\n",
      "2ef5472341607ddae1e5b362d9a44901  2ef5472341607ddae1e5b362d9a44901\n",
      "4a15aa3f469f3c6321b09716adeb73aa  4a15aa3f469f3c6321b09716adeb73aa\n",
      "0322c8ab12b0c490ef87d20d981a378d  0322c8ab12b0c490ef87d20d981a378d\n",
      "2147d99ec1b561d17fabc693045b09cb  2147d99ec1b561d17fabc693045b09cb\n",
      "cc5c7c6f155b4880141a3aab199e1d11  cc5c7c6f155b4880141a3aab199e1d11\n",
      "d15519eca0226a7908ed683e386f69d5  d15519eca0226a7908ed683e386f69d5\n",
      "5f0addcda6ff53c8473b465835a7bc7c  5f0addcda6ff53c8473b465835a7bc7c\n",
      "fa55b31eb73072a7fbcb5fadd8c7f75e  fa55b31eb73072a7fbcb5fadd8c7f75e\n",
      "c5e810dace81c05a265b91ae1050fc1b  c5e810dace81c05a265b91ae1050fc1b\n",
      "1c6f673b59558514d2a07bb08615f3df  1c6f673b59558514d2a07bb08615f3df\n",
      "cdfb58027f973231fd01469f0abd427d  cdfb58027f973231fd01469f0abd427d\n",
      "b87e79f83b90c88b1fd0c3326efcc0bd  b87e79f83b90c88b1fd0c3326efcc0bd\n",
      "778e51d6ba779c2cdba933083d016037  778e51d6ba779c2cdba933083d016037\n",
      "c7734af296fd04a509bd588fbd68a033  c7734af296fd04a509bd588fbd68a033\n",
      "bd3b81c4b6cdf3826b91495fa47b296f  bd3b81c4b6cdf3826b91495fa47b296f\n",
      "c0b2c36cf58fa720de398142043e9dd3  c0b2c36cf58fa720de398142043e9dd3\n",
      "bf519b5f8874234e3f5002e23f3263d8  bf519b5f8874234e3f5002e23f3263d8\n",
      "472e6bbe54879d4900be15ee3e26f3ae  472e6bbe54879d4900be15ee3e26f3ae\n",
      "120d433b15843042e8611537e198522c  120d433b15843042e8611537e198522c\n",
      "142ee40257e29b0a5e12882db87f359f  142ee40257e29b0a5e12882db87f359f\n",
      "cfa202e67ed8c57fa686db9b5268ce89  cfa202e67ed8c57fa686db9b5268ce89\n",
      "c54d212ca4340e4966cb89a324110142  c54d212ca4340e4966cb89a324110142\n",
      "2aa7e314611ea54ca41ef4994310de7d  2aa7e314611ea54ca41ef4994310de7d\n",
      "476c3fb5fa218c4be473d97b02396241  476c3fb5fa218c4be473d97b02396241\n",
      "ba7ad5e283d97a9ba2d1a9315194c65d  ba7ad5e283d97a9ba2d1a9315194c65d\n",
      "802ad04734cee75320ef7b10bf707840  802ad04734cee75320ef7b10bf707840\n",
      "3233e897b3d02b907238a3a37278b8f0  3233e897b3d02b907238a3a37278b8f0\n",
      "89fba1631f9525a13b032875c12c6fa7  89fba1631f9525a13b032875c12c6fa7\n",
      "5188e0817295528be82cafb122ea3d38  5188e0817295528be82cafb122ea3d38\n",
      "196831991b7edded143214622d9b65e4  196831991b7edded143214622d9b65e4\n",
      "493afec9e481dd41c60a508129f89c32  493afec9e481dd41c60a508129f89c32\n",
      "a901e4336ab51b0448ffd9c1c94df2ce  a901e4336ab51b0448ffd9c1c94df2ce\n",
      "09adefc45bc8e3fabb9b1d79bdec79d4  09adefc45bc8e3fabb9b1d79bdec79d4\n",
      "d58e1acea3b812366f897fa1ca3c698a  d58e1acea3b812366f897fa1ca3c698a\n",
      "ccd3193dc4bf49125c96f39842bcb22d  ccd3193dc4bf49125c96f39842bcb22d\n",
      "49cdb0af83d4bfa496a3fdeb5d3aedac  49cdb0af83d4bfa496a3fdeb5d3aedac\n",
      "89b2f02d958a66e9fd1e4f8218ad3f8b  89b2f02d958a66e9fd1e4f8218ad3f8b\n",
      "bf9b4c2b2a693d20f65da4019bb98739  bf9b4c2b2a693d20f65da4019bb98739\n",
      "970e56ba49fc909e2109f78462428ead  970e56ba49fc909e2109f78462428ead\n",
      "772858710e4c820542c8912cdebca5b2  772858710e4c820542c8912cdebca5b2\n",
      "29764a9931a962d67e3612e328988ae7  29764a9931a962d67e3612e328988ae7\n",
      "40df0e8373c93ff1b9cc629b8275a8af  40df0e8373c93ff1b9cc629b8275a8af\n",
      "d255e7038391f2973a206b0b649a1da4  d255e7038391f2973a206b0b649a1da4\n",
      "8d0e532c221441c9cb5f7c51f79b57d4  8d0e532c221441c9cb5f7c51f79b57d4\n",
      "c702d8cedbffe27692763ca409c9318a  c702d8cedbffe27692763ca409c9318a\n",
      "f506761afa702a6f675eaacbab584905  f506761afa702a6f675eaacbab584905\n",
      "87e065dd52452180f4dced1d61e2cfff  87e065dd52452180f4dced1d61e2cfff\n",
      "893c1a4485e5abfe3e2258c72211b454  893c1a4485e5abfe3e2258c72211b454\n",
      "c9a444eb278b2fa66b1c5fa47baea346  c9a444eb278b2fa66b1c5fa47baea346\n",
      "4cab69fbe12341b5463fcfdef5896456  4cab69fbe12341b5463fcfdef5896456\n",
      "70cd1d8d296c6656c398b1969494262d  70cd1d8d296c6656c398b1969494262d\n",
      "c449a89a73bb934c6388f7937e1707e3  c449a89a73bb934c6388f7937e1707e3\n",
      "ffdb1417aaf6d2bf2807b8d4c3487ce1  ffdb1417aaf6d2bf2807b8d4c3487ce1\n",
      "e410c07d3eb8f0b605383123e495cefd  e410c07d3eb8f0b605383123e495cefd\n",
      "43984d931055330e63ec769d839b1d6b  43984d931055330e63ec769d839b1d6b\n",
      "3ddc9fba01a7a239b716c76da0dfddf1  3ddc9fba01a7a239b716c76da0dfddf1\n",
      "24863c92b05cd87f638e1be37b54dd3e  24863c92b05cd87f638e1be37b54dd3e\n",
      "ca2bbe2ff25f631c380d3bfcca713449  ca2bbe2ff25f631c380d3bfcca713449\n",
      "e464dc30af326ddd2a4015eb926fc3bb  e464dc30af326ddd2a4015eb926fc3bb\n",
      "ffda7ef031771590935704854275d8e0  ffda7ef031771590935704854275d8e0\n",
      "51cf534987423f6d3710aa061add375a  51cf534987423f6d3710aa061add375a\n",
      "c37feabfa0831c8d5fa2d2f958d10533  c37feabfa0831c8d5fa2d2f958d10533\n",
      "ee132f2d31efcb08e77bacd05d1fbf9c  ee132f2d31efcb08e77bacd05d1fbf9c\n",
      "a87937c59428e2d5beb90e0f2b478474  a87937c59428e2d5beb90e0f2b478474\n",
      "30e5ccfb4a7ce888532f52312b1b0d02  30e5ccfb4a7ce888532f52312b1b0d02\n",
      "a2ff450463f557294b1e6c9918fdb102  a2ff450463f557294b1e6c9918fdb102\n",
      "31a2665c24b79f43df286f72be7573f0  31a2665c24b79f43df286f72be7573f0\n",
      "b85caa1609f791d16083a6bc8147e2e2  b85caa1609f791d16083a6bc8147e2e2\n",
      "29a08ba3069ac280e0f24b333b562b2a  29a08ba3069ac280e0f24b333b562b2a\n",
      "b04f4e563e404d009068ce411a59506a  b04f4e563e404d009068ce411a59506a\n",
      "ad0d67d4c999788d356d5858c43a7b99  ad0d67d4c999788d356d5858c43a7b99\n",
      "44cff2edef75a1125c52049cb0b8dbb6  44cff2edef75a1125c52049cb0b8dbb6\n",
      "e039fbf400194098b3b44fd498ed2597  e039fbf400194098b3b44fd498ed2597\n",
      "3a487c2132730f5a3f94fdd7cde8be65  3a487c2132730f5a3f94fdd7cde8be65\n",
      "e2297fc6c84228de6fc08e6d5e06beca  e2297fc6c84228de6fc08e6d5e06beca\n",
      "5edd6ee218379d5798de696904fe239c  5edd6ee218379d5798de696904fe239c\n",
      "bce2687cc897298e06f29a86b5af3606  bce2687cc897298e06f29a86b5af3606\n",
      "ef41415334f6ce501d1829234f1ea93a  ef41415334f6ce501d1829234f1ea93a\n",
      "afc13991630aee37565a3aeaab92a4b9  afc13991630aee37565a3aeaab92a4b9\n",
      "ed964cfedd01b22729dafd8cc4a28b68  ed964cfedd01b22729dafd8cc4a28b68\n",
      "fa755860e6b35b98c2c0dae7f426ad6e  fa755860e6b35b98c2c0dae7f426ad6e\n",
      "428bdd41bd8677de56f6015b523d4028  428bdd41bd8677de56f6015b523d4028\n",
      "ec017f15e5c975ca041840f0bb57517c  ec017f15e5c975ca041840f0bb57517c\n",
      "13a6f6b49c3ca86bc8fef83f644464bb  13a6f6b49c3ca86bc8fef83f644464bb\n",
      "87db930b97d7dece49d167ce46a58fac  87db930b97d7dece49d167ce46a58fac\n",
      "4582216442481ca6ea20231983c6ec8e  4582216442481ca6ea20231983c6ec8e\n",
      "61d8d81214ab2476c0f3ac9f1d6b0ed7  61d8d81214ab2476c0f3ac9f1d6b0ed7\n",
      "f449370750396e9b0a0a0cf511822657  f449370750396e9b0a0a0cf511822657\n",
      "16f464c6e0bf7ba06bdf4567cf159c7c  16f464c6e0bf7ba06bdf4567cf159c7c\n",
      "5ed932571ed55c18a3c6532805a60666  5ed932571ed55c18a3c6532805a60666\n",
      "30079f6672fe2b29d44b26464e6f723a  30079f6672fe2b29d44b26464e6f723a\n",
      "ad8e151cdd6b8c5a9690827e89895d33  ad8e151cdd6b8c5a9690827e89895d33\n",
      "6cdd7f35120280109096f11bffed0236  6cdd7f35120280109096f11bffed0236\n",
      "d9c19d8424beb3639e91b3d55319f05f  d9c19d8424beb3639e91b3d55319f05f\n",
      "72a2d8978cec7917780c302977cff1dd  72a2d8978cec7917780c302977cff1dd\n",
      "3f63c0cdf5ba1b1d84a521fdaf355cb6  3f63c0cdf5ba1b1d84a521fdaf355cb6\n",
      "12d0cd378f0c84bbe72de1740e9ca0c1  12d0cd378f0c84bbe72de1740e9ca0c1\n",
      "a77763943500655a4af2ff9e8e5b9f0d  a77763943500655a4af2ff9e8e5b9f0d\n",
      "73286c76bbca420cfece765bc33c7c15  73286c76bbca420cfece765bc33c7c15\n",
      "86cd38487276358a9be9285c48ac1d17  86cd38487276358a9be9285c48ac1d17\n",
      "18af7fffc5242ee32d98ad3960806f94  18af7fffc5242ee32d98ad3960806f94\n",
      "e3025aab94dd44737d8bed64c5155a29  e3025aab94dd44737d8bed64c5155a29\n",
      "2afb8f56906fa7d5ed3f486e78617e52  2afb8f56906fa7d5ed3f486e78617e52\n",
      "e6797af204c8657e4d52a7a167326baf  e6797af204c8657e4d52a7a167326baf\n",
      "29faf040b9aed95594d41fcdac2e9742  29faf040b9aed95594d41fcdac2e9742\n",
      "ab743e0adef95b2d7061c450a870f261  ab743e0adef95b2d7061c450a870f261\n",
      "5c1c295670272f11966d70786c207fcf  5c1c295670272f11966d70786c207fcf\n",
      "df2f1ab8df05fc0aa2cd7fb02874750f  df2f1ab8df05fc0aa2cd7fb02874750f\n",
      "ef8bd61af44b536e01afb2c31635646a  ef8bd61af44b536e01afb2c31635646a\n",
      "e8b0fb3c746ed0a73388334fff294e07  e8b0fb3c746ed0a73388334fff294e07\n",
      "6606010566b759b4adcf04effe238232  6606010566b759b4adcf04effe238232\n",
      "95fe784e30ec5e039966009aa15a69d6  95fe784e30ec5e039966009aa15a69d6\n",
      "638f954c88cc9cfe02f5943f460e5464  638f954c88cc9cfe02f5943f460e5464\n",
      "5a13604def4ae2e753d45e033312274e  5a13604def4ae2e753d45e033312274e\n",
      "be3be697cc971185a7edc5e3e674d8ce  be3be697cc971185a7edc5e3e674d8ce\n",
      "9fa4f81d426da8ff3703614a7c42329e  9fa4f81d426da8ff3703614a7c42329e\n",
      "3a298cefafb6e7e34e0434e8b1677931  3a298cefafb6e7e34e0434e8b1677931\n",
      "fd75b06f56c4f4227ed4040572321092  fd75b06f56c4f4227ed4040572321092\n",
      "bea06fa8d970c07a27194f6e41829a14  bea06fa8d970c07a27194f6e41829a14\n",
      "949ac817d647eb258521e51c51642d0f  949ac817d647eb258521e51c51642d0f\n",
      "6fb31effbcace4aa8b7f41171d966901  6fb31effbcace4aa8b7f41171d966901\n",
      "4140244e8a764271b659f4d8c9e437d3  4140244e8a764271b659f4d8c9e437d3\n",
      "54e0cfb6485e6577f582d6a0af913bf4  54e0cfb6485e6577f582d6a0af913bf4\n",
      "5df0a0e2018b6d2b0d201bfbbd87bf1f  5df0a0e2018b6d2b0d201bfbbd87bf1f\n",
      "2132636870b5221c38455550efc0a266  2132636870b5221c38455550efc0a266\n",
      "c917df0eeb068c8df91abd4ca7f352cf  c917df0eeb068c8df91abd4ca7f352cf\n",
      "0fdf9414f4dacc99f873f8a48ea97236  0fdf9414f4dacc99f873f8a48ea97236\n",
      "09ac60956757854d6a1e2c930a92c7c0  09ac60956757854d6a1e2c930a92c7c0\n",
      "db12702b6168fda765775f4e34b4b425  db12702b6168fda765775f4e34b4b425\n",
      "d6f64186b4966693b33d821508ff84b6  d6f64186b4966693b33d821508ff84b6\n",
      "94422b3f06f965cfe99e801fd1a2df37  94422b3f06f965cfe99e801fd1a2df37\n",
      "472035aa1d773c5bae0d41df43fc1576  472035aa1d773c5bae0d41df43fc1576\n",
      "f7c910f87f3357910dea64e31ac9c5fb  f7c910f87f3357910dea64e31ac9c5fb\n",
      "2feb6deba3d55532e06b09bf305019ea  2feb6deba3d55532e06b09bf305019ea\n",
      "1a65747a23e31e0552c70b94878e8d28  1a65747a23e31e0552c70b94878e8d28\n",
      "69cf2f6bcf6c23ef717c2d58bbd4caa8  69cf2f6bcf6c23ef717c2d58bbd4caa8\n",
      "15806c3f1e0e00f5e2524356a988482b  15806c3f1e0e00f5e2524356a988482b\n",
      "21b32336930f211632a2f58ded83c6d5  21b32336930f211632a2f58ded83c6d5\n",
      "93dbb2b826f599882f0af96048f9012b  93dbb2b826f599882f0af96048f9012b\n",
      "0ac7166258c4d6c778b101d3bc85c2e4  0ac7166258c4d6c778b101d3bc85c2e4\n",
      "9a559ebf9cddd903a4724908fdae9d62  9a559ebf9cddd903a4724908fdae9d62\n",
      "039c3e7ca4e42e6b65e41679e26697df  039c3e7ca4e42e6b65e41679e26697df\n",
      "4ac8c2065f59c124f1d7dce7cc8b5ebb  4ac8c2065f59c124f1d7dce7cc8b5ebb\n",
      "9bb2ce94944871d69f85c57b2952feb2  9bb2ce94944871d69f85c57b2952feb2\n",
      "0e919fdfa60bb8f7e81f5d59af42bfe9  0e919fdfa60bb8f7e81f5d59af42bfe9\n",
      "6ad20b7ee7d897cb30d24f9ac8078ef2  6ad20b7ee7d897cb30d24f9ac8078ef2\n",
      "936bb382b26f7b979f48332019856ab3  936bb382b26f7b979f48332019856ab3\n",
      "4b676310f09e9f4c08897b945ccddec0  4b676310f09e9f4c08897b945ccddec0\n",
      "684c72f88a484b7e9ad8a41f41ee236d  684c72f88a484b7e9ad8a41f41ee236d\n",
      "ad005e2945f8da5e29aa3d3b12da8289  ad005e2945f8da5e29aa3d3b12da8289\n",
      "afcef341e0fc559c0992943764414123  afcef341e0fc559c0992943764414123\n",
      "abae86c1c398de75494e7b996f44eb0c  abae86c1c398de75494e7b996f44eb0c\n",
      "b510fbf0690cd593cd5fbe2f9b2a9712  b510fbf0690cd593cd5fbe2f9b2a9712\n",
      "6a4e2b22c373c5e56a109b99c152a5f8  6a4e2b22c373c5e56a109b99c152a5f8\n",
      "776fede2b5ab4b4212406d88a5b1747d  776fede2b5ab4b4212406d88a5b1747d\n",
      "b2e383f04a55ea12ee2ccc4895fa3c17  b2e383f04a55ea12ee2ccc4895fa3c17\n",
      "138b17e135582d1a8757cb2182b93c49  138b17e135582d1a8757cb2182b93c49\n",
      "e6f5b8d36324efe370ab611729b53ebd  e6f5b8d36324efe370ab611729b53ebd\n",
      "083d54d65c70973369d729d2a5db7055  083d54d65c70973369d729d2a5db7055\n",
      "12588f8c5a044e0daaea5b6c297cfd3e  12588f8c5a044e0daaea5b6c297cfd3e\n",
      "14447cb65768a9ba33fff2e7c1a702f6  14447cb65768a9ba33fff2e7c1a702f6\n",
      "8d660ec12384131d62a5ff544ef153a8  8d660ec12384131d62a5ff544ef153a8\n",
      "1084a3c8cefb943b815f410cdece250f  1084a3c8cefb943b815f410cdece250f\n",
      "86615a5aeabc0f233f61aaa2c25187a4  86615a5aeabc0f233f61aaa2c25187a4\n",
      "174b236c9025192e4973d425cdda9aa0  174b236c9025192e4973d425cdda9aa0\n",
      "e3ae3e6abe839f79f8b884f9deb085af  e3ae3e6abe839f79f8b884f9deb085af\n",
      "f91b5b1283dd00d8bfe860227b0d27a6  f91b5b1283dd00d8bfe860227b0d27a6\n",
      "798f76bee29e7410aa19cc35b7f1e5ca  798f76bee29e7410aa19cc35b7f1e5ca\n",
      "ddbe73fcbf44e5b73ed16d0eafcb93c4  ddbe73fcbf44e5b73ed16d0eafcb93c4\n",
      "3b1ae4ea4dd2737fa8468e84a326354e  3b1ae4ea4dd2737fa8468e84a326354e\n",
      "85adf6c25a8093802750d1b1132fe30b  85adf6c25a8093802750d1b1132fe30b\n",
      "4078a88fb7c7e2e1020ca555eb18fe47  4078a88fb7c7e2e1020ca555eb18fe47\n",
      "d41a4a8948582f94d903ba8507d0a804  d41a4a8948582f94d903ba8507d0a804\n",
      "9c2195392d6aa4bf66d14b28c918f2ee  9c2195392d6aa4bf66d14b28c918f2ee\n",
      "0f51eb50bb94a00d3816a68a16a574c3  0f51eb50bb94a00d3816a68a16a574c3\n",
      "69ea0df5e77ad0d944e93aea2c77c27f  69ea0df5e77ad0d944e93aea2c77c27f\n",
      "f7ed765b223ac2c0ebd9636016bbef8f  f7ed765b223ac2c0ebd9636016bbef8f\n",
      "df6467e5856b3d7e3942d31d69b8185e  df6467e5856b3d7e3942d31d69b8185e\n",
      "9d8fe4598189df344770988b1c2cb05b  9d8fe4598189df344770988b1c2cb05b\n",
      "ce451622b350a2ebd51509916065ff72  ce451622b350a2ebd51509916065ff72\n",
      "a54bb2d8fa4b983707acc11547d1374e  a54bb2d8fa4b983707acc11547d1374e\n",
      "3e0d8f20f630f5f5db717fc12926704e  3e0d8f20f630f5f5db717fc12926704e\n",
      "c78262a827b2168b443be2f581c40284  c78262a827b2168b443be2f581c40284\n",
      "6a3ec6caabb66d81b938b166d8ccbfab  6a3ec6caabb66d81b938b166d8ccbfab\n",
      "6abe0f801ba94b7988d994fb7700d7ac  6abe0f801ba94b7988d994fb7700d7ac\n",
      "83523e6f268bc9599765e3906582bc38  83523e6f268bc9599765e3906582bc38\n",
      "11e35fb866cc96bd4fa25f3cf30ee720  11e35fb866cc96bd4fa25f3cf30ee720\n",
      "72edb717b37fc2264e8020896518032a  72edb717b37fc2264e8020896518032a\n",
      "445ec7e6597fe53b98fff27d4cd6440d  445ec7e6597fe53b98fff27d4cd6440d\n",
      "8eb9d19ffddb660e336ad4e7508a6974  8eb9d19ffddb660e336ad4e7508a6974\n",
      "8d915aa18483f710b98503b23fbccf54  8d915aa18483f710b98503b23fbccf54\n",
      "01fdf1c495edfe0f41e5a30d824296cd  01fdf1c495edfe0f41e5a30d824296cd\n",
      "41bb7699f3a5b0cffc7dfe8f2a3ce6e2  41bb7699f3a5b0cffc7dfe8f2a3ce6e2\n",
      "2929826764f8f747fd2840289c44b543  2929826764f8f747fd2840289c44b543\n",
      "3e6d49eeeb894eb3a7e10c7981b13a56  3e6d49eeeb894eb3a7e10c7981b13a56\n",
      "5b3eb252141ddd2b28af7e7c16a2258e  5b3eb252141ddd2b28af7e7c16a2258e\n",
      "f242cb76c18ae2ac97097c79b5612d5f  f242cb76c18ae2ac97097c79b5612d5f\n",
      "73c23401cf50cea733b647e4a175f3f3  73c23401cf50cea733b647e4a175f3f3\n",
      "c7f9ebbfe6e64958740d4a32da36f6ac  c7f9ebbfe6e64958740d4a32da36f6ac\n",
      "ddf6619210ffa72715c76666a0de4d56  ddf6619210ffa72715c76666a0de4d56\n",
      "1bc3ab5e519a6af1109bddbcdeb4a10c  1bc3ab5e519a6af1109bddbcdeb4a10c\n",
      "e46988ca4c2b976704113a3de07f8ef3  e46988ca4c2b976704113a3de07f8ef3\n",
      "3a850f7263add300c4efe8a6fd638c40  3a850f7263add300c4efe8a6fd638c40\n",
      "ec0bffb1dcae38cc0764a4bd5b7941a7  ec0bffb1dcae38cc0764a4bd5b7941a7\n",
      "283e2e0950db193a9a22d6ab85df6020  283e2e0950db193a9a22d6ab85df6020\n",
      "e1c56475f6cd59be903eb2766b4bfe1c  e1c56475f6cd59be903eb2766b4bfe1c\n",
      "27c74933e56c5aba5550be9cf2baec70  27c74933e56c5aba5550be9cf2baec70\n",
      "21cbacb7395aceb04355511d2dd8d6b1  21cbacb7395aceb04355511d2dd8d6b1\n",
      "68433803ac212b3c854b4900bfe2a8d2  68433803ac212b3c854b4900bfe2a8d2\n",
      "3e6a8bc58f5d562d25b176b9dff8b77a  3e6a8bc58f5d562d25b176b9dff8b77a\n",
      "717856b65022239139168615b7f86eb5  717856b65022239139168615b7f86eb5\n",
      "eb73d1776d172f549cc359f9ff80c4b4  eb73d1776d172f549cc359f9ff80c4b4\n",
      "d29a1afa3184c6e8d6008c265f3315da  d29a1afa3184c6e8d6008c265f3315da\n",
      "c5b584f38bcafebc2e8b666751098656  c5b584f38bcafebc2e8b666751098656\n",
      "eb05403f6b7e0858c52726638ea47035  eb05403f6b7e0858c52726638ea47035\n",
      "0af16e766a108d1b6435570c3c923f61  0af16e766a108d1b6435570c3c923f61\n",
      "ffafd48a431795c0c9fbd2f7cdc9c7ac  ffafd48a431795c0c9fbd2f7cdc9c7ac\n",
      "4490aa2ebc959efa448793bb3fd3755c  4490aa2ebc959efa448793bb3fd3755c\n",
      "6c92fdc83a1d0c0d197c2cee089b59cf  6c92fdc83a1d0c0d197c2cee089b59cf\n",
      "27fcafffc0adac520e25a97b6bd9b14f  27fcafffc0adac520e25a97b6bd9b14f\n",
      "f3d8aae80bab6da24bb998c2ec965318  f3d8aae80bab6da24bb998c2ec965318\n",
      "511c371cbe8809726ccd0eb67dd8972d  511c371cbe8809726ccd0eb67dd8972d\n",
      "dc07a86e3f5d6c849a9d3c3ffefe6338  dc07a86e3f5d6c849a9d3c3ffefe6338\n",
      "1218bfc10832c86415248ef944fe309c  1218bfc10832c86415248ef944fe309c\n",
      "aa8aac0c9c535ca8073e02249c8a6780  aa8aac0c9c535ca8073e02249c8a6780\n",
      "c21f2b1f6fc9dc6e08abfc5ad8984a38  c21f2b1f6fc9dc6e08abfc5ad8984a38\n",
      "069e25be238e94535957b92a14f38461  069e25be238e94535957b92a14f38461\n",
      "8fa519efb1549aa01fbc4b872edb6020  8fa519efb1549aa01fbc4b872edb6020\n",
      "4aab4d83cad37d9532eecdb321deeb44  4aab4d83cad37d9532eecdb321deeb44\n",
      "fd27ae1a6ca51338dc651d7ad763d4c5  fd27ae1a6ca51338dc651d7ad763d4c5\n",
      "00cad7009d80c4d6e337089866f258af  00cad7009d80c4d6e337089866f258af\n",
      "c038771bd0e16b7b4c71386e3f34d309  c038771bd0e16b7b4c71386e3f34d309\n",
      "ef377b4fa6d3d07f3ca2a3a2a4439118  ef377b4fa6d3d07f3ca2a3a2a4439118\n",
      "042a97658bf51782a73bb3511c42f089  042a97658bf51782a73bb3511c42f089\n",
      "8f944ec554cd8ebacb7f1874d889363d  8f944ec554cd8ebacb7f1874d889363d\n",
      "05fb8fd63adf753970aaf525cc6fd3be  05fb8fd63adf753970aaf525cc6fd3be\n",
      "4068d1db4b8f567aa0649f546dd02d4f  4068d1db4b8f567aa0649f546dd02d4f\n",
      "5115060d06206d519d5bc83af7b30d13  5115060d06206d519d5bc83af7b30d13\n",
      "54925f51bd63f830673e9907d9109495  54925f51bd63f830673e9907d9109495\n",
      "9461ff18e8e40df14c691b64375972af  9461ff18e8e40df14c691b64375972af\n",
      "1388bbb9027062c92460e537c5015a00  1388bbb9027062c92460e537c5015a00\n",
      "9b954e1adf8cdb7028d75e0389e4b6b0  9b954e1adf8cdb7028d75e0389e4b6b0\n",
      "6fba6438b0cd79dd1500ff6f4dc7aada  6fba6438b0cd79dd1500ff6f4dc7aada\n",
      "001130b8c14d887a299b37ae097c1658  001130b8c14d887a299b37ae097c1658\n",
      "08a60c9d8284ddffbe054a0cd9d028d2  08a60c9d8284ddffbe054a0cd9d028d2\n",
      "2a63a6a812243e8eaf2595a2c7b24ce6  2a63a6a812243e8eaf2595a2c7b24ce6\n",
      "8cc1489a48edaceff75e06d068d6fde0  8cc1489a48edaceff75e06d068d6fde0\n",
      "c7346572fd791ee8454e34e13dcc3490  c7346572fd791ee8454e34e13dcc3490\n",
      "5423a581926c3255dc575fd354eecfa1  5423a581926c3255dc575fd354eecfa1\n",
      "f6d2044d9abe6c76a4427c3498d79706  f6d2044d9abe6c76a4427c3498d79706\n",
      "a3aea1997932af24bc1783d258815c61  a3aea1997932af24bc1783d258815c61\n",
      "d38abe156db24efa207eebb7e9fb0b4c  d38abe156db24efa207eebb7e9fb0b4c\n",
      "15ac21151f82702ec0a81f4672c1821d  15ac21151f82702ec0a81f4672c1821d\n",
      "083a57c84bfb7bd9f9bc1830c10a0d1c  083a57c84bfb7bd9f9bc1830c10a0d1c\n",
      "e0e6ea938105dd368a1c9feaef774829  e0e6ea938105dd368a1c9feaef774829\n",
      "d0a1d24f1dc3915a8c5b10b5bfcb76da  d0a1d24f1dc3915a8c5b10b5bfcb76da\n",
      "520c2574d5ac8878c30e913fc6a9a36e  520c2574d5ac8878c30e913fc6a9a36e\n",
      "a668ab5cacddfda02b2aa043856ccb80  a668ab5cacddfda02b2aa043856ccb80\n",
      "72d4574c975f6e0f4fbe9f02b81250ca  72d4574c975f6e0f4fbe9f02b81250ca\n",
      "a7fd7b29acd07da4aeb92371611b08aa  a7fd7b29acd07da4aeb92371611b08aa\n",
      "dcf0fc543547965c6d0f7d0028c8a61e  dcf0fc543547965c6d0f7d0028c8a61e\n"
     ]
    }
   ],
   "source": [
    "print(Summer_ASV.feature_metadata)"
   ]
  },
  {
   "cell_type": "markdown",
   "metadata": {},
   "source": [
    "## Running the Summer ASV Model"
   ]
  },
  {
   "cell_type": "code",
   "execution_count": 7,
   "metadata": {},
   "outputs": [],
   "source": [
    "# groupKfold = 3, will leave out one body for each model in spring data\n",
    "gkf = GroupKFold(3)\n",
    "\n",
    "X = Summer_ASV.data\n",
    "y = Summer_ASV.sample_metadata['ADD']\n",
    "y = (y.astype(float))\n",
    "\n",
    "groups = Summer_ASV.sample_metadata['host_subject_id']\n",
    "\n",
    "# used to test the param grid for parameter tuning\n",
    "# use the output of this estimator below for input into new estimator (not commented out)\n",
    "param_grid = {\"max_depth\": [4, 8, 16, None],\n",
    "              \"max_features\": ['sqrt', 'log2', 0.1],\n",
    "              \"min_samples_split\": [0.001, 0.01, 0.1],\n",
    "              \"min_weight_fraction_leaf\": [0.0001, 0.001, 0.01],\n",
    "              \"bootstrap\": [True, False]}\n",
    "\n",
    "#param_grid = {\"max_depth\": [8],\n",
    "#          \"max_features\": [0.1],\n",
    "#          \"min_samples_split\": [0.001],\n",
    "#          \"min_weight_fraction_leaf\": [0.0001],\n",
    "#          \"bootstrap\": [False]}\n",
    "\n",
    "rf = RandomForestRegressor(n_estimators=1000, random_state=999, criterion='mae')\n",
    "gs = GridSearchCV(rf, param_grid=param_grid, cv=gkf.split(X, y, groups), scoring='neg_mean_absolute_error', n_jobs=1)"
   ]
  },
  {
   "cell_type": "code",
   "execution_count": 8,
   "metadata": {},
   "outputs": [
    {
     "data": {
      "text/plain": [
       "GridSearchCV(cv=<generator object _BaseKFold.split at 0x11f18cf50>,\n",
       "             error_score=nan,\n",
       "             estimator=RandomForestRegressor(bootstrap=True, ccp_alpha=0.0,\n",
       "                                             criterion='mae', max_depth=None,\n",
       "                                             max_features='auto',\n",
       "                                             max_leaf_nodes=None,\n",
       "                                             max_samples=None,\n",
       "                                             min_impurity_decrease=0.0,\n",
       "                                             min_impurity_split=None,\n",
       "                                             min_samples_leaf=1,\n",
       "                                             min_samples_split=2,\n",
       "                                             min_weight_fraction_leaf=0.0,\n",
       "                                             n_es...\n",
       "                                             oob_score=False, random_state=999,\n",
       "                                             verbose=0, warm_start=False),\n",
       "             iid='deprecated', n_jobs=1,\n",
       "             param_grid={'bootstrap': [True, False],\n",
       "                         'max_depth': [4, 8, 16, None],\n",
       "                         'max_features': ['sqrt', 'log2', 0.1],\n",
       "                         'min_samples_split': [0.001, 0.01, 0.1],\n",
       "                         'min_weight_fraction_leaf': [0.0001, 0.001, 0.01]},\n",
       "             pre_dispatch='2*n_jobs', refit=True, return_train_score=False,\n",
       "             scoring='neg_mean_absolute_error', verbose=0)"
      ]
     },
     "execution_count": 8,
     "metadata": {},
     "output_type": "execute_result"
    }
   ],
   "source": [
    "gs.fit(X, y)"
   ]
  },
  {
   "cell_type": "code",
   "execution_count": 9,
   "metadata": {},
   "outputs": [
    {
     "name": "stdout",
     "output_type": "stream",
     "text": [
      "{'bootstrap': False, 'max_depth': 8, 'max_features': 0.1, 'min_samples_split': 0.001, 'min_weight_fraction_leaf': 0.0001}\n"
     ]
    }
   ],
   "source": [
    "# this line is used when run with the first param grid to determine what the best parameters are for tuning\n",
    "print(gs.best_params_)"
   ]
  },
  {
   "cell_type": "code",
   "execution_count": 10,
   "metadata": {},
   "outputs": [
    {
     "name": "stdout",
     "output_type": "stream",
     "text": [
      "The best mean absolute error is 990.91\n"
     ]
    }
   ],
   "source": [
    "print('The best mean absolute error is', round(-gs.best_score_,2))"
   ]
  },
  {
   "cell_type": "code",
   "execution_count": 11,
   "metadata": {},
   "outputs": [
    {
     "data": {
      "text/plain": [
       "['models/bone_summer_18S_ASV.pkl']"
      ]
     },
     "execution_count": 11,
     "metadata": {},
     "output_type": "execute_result"
    }
   ],
   "source": [
    "joblib.dump(gs.best_estimator_, 'models/bone_summer_18S_ASV.pkl')"
   ]
  },
  {
   "cell_type": "code",
   "execution_count": 12,
   "metadata": {},
   "outputs": [
    {
     "data": {
      "text/plain": [
       "RandomForestRegressor(bootstrap=False, ccp_alpha=0.0, criterion='mae',\n",
       "                      max_depth=8, max_features=0.1, max_leaf_nodes=None,\n",
       "                      max_samples=None, min_impurity_decrease=0.0,\n",
       "                      min_impurity_split=None, min_samples_leaf=1,\n",
       "                      min_samples_split=0.001, min_weight_fraction_leaf=0.0001,\n",
       "                      n_estimators=1000, n_jobs=None, oob_score=False,\n",
       "                      random_state=999, verbose=0, warm_start=False)"
      ]
     },
     "execution_count": 12,
     "metadata": {},
     "output_type": "execute_result"
    }
   ],
   "source": [
    "bone_summer_ASV = joblib.load('models/bone_summer_18S_ASV.pkl')\n",
    "bone_summer_ASV"
   ]
  },
  {
   "cell_type": "markdown",
   "metadata": {},
   "source": [
    "## Determine important features of the ASV model"
   ]
  },
  {
   "cell_type": "code",
   "execution_count": 14,
   "metadata": {},
   "outputs": [
    {
     "name": "stdout",
     "output_type": "stream",
     "text": [
      "Feature:\t\t\t\tImportance:\n",
      "1. c020065c9c2b9fdd84566b334aad62cf\t0.05480054453272294\n",
      "2. 0645707bddd580dc97b168d33129fa91\t0.05157634246094172\n",
      "3. 86615a5aeabc0f233f61aaa2c25187a4\t0.04840308762488264\n",
      "4. 9c66c621dda783dfb06b481cfcf134c4\t0.04136826274665938\n",
      "5. 36b5a020f6259803c30cc567ed748b8d\t0.03759905061777705\n",
      "6. 174b236c9025192e4973d425cdda9aa0\t0.03405721942420768\n",
      "7. abcf0b825ba29dbc839570d227922ca3\t0.021738478423398433\n",
      "8. 9e3fb34da3dc672a429d6f54365734c5\t0.021479394451284516\n",
      "9. bf808221c79c379a6a2ea02289939774\t0.019792077086550248\n",
      "10. f86e178e49cd121fcc9f59e48c1fc091\t0.018327807158578333\n",
      "11. c62962af8e338d4b5da35b4ac5b40eb7\t0.01675117959766088\n",
      "12. 586e64dbe408b5ffff04fc660f45ef14\t0.016403415487373566\n",
      "13. f827d14fa967952a51d25b3e347e763f\t0.015000042764413909\n",
      "14. fde13df564f0250bc420ee2f1833fb7b\t0.014921982582416062\n",
      "15. 4ce65a8b000737c8bd9a28ec392e7aeb\t0.012401776168298843\n",
      "16. b032b792bb610a5f44715c3bb2b366fd\t0.011813644855285486\n",
      "17. d4cf65c9d5ef51575fb31825f8bede24\t0.011681643881635818\n",
      "18. 028f19f7c4708c9fcba3811a19f99ed8\t0.011652178873402152\n",
      "19. 36798d51bd083e4cc822e372a51439df\t0.01036437113937189\n",
      "20. ea00db411d70f34af4c534d8e06940f5\t0.009659734001181537\n",
      "21. 352afd6c5886da418691c0c10c08a6b8\t0.009062151644515718\n",
      "22. 8b71234b9f3fbbd5cf088e8b5c49d6ec\t0.00892266681847834\n",
      "23. 946351cd959030f2223a5f1ee3bbf0c9\t0.008825390939504955\n",
      "24. bdd3bb360cbb8f5f9067cec7bd338d0b\t0.0077811007702486236\n",
      "25. 9bb2ce94944871d69f85c57b2952feb2\t0.007662328402704223\n"
     ]
    }
   ],
   "source": [
    "importances = bone_summer_ASV.feature_importances_\n",
    "std = np.std([tree.feature_importances_ for tree in bone_summer_ASV.estimators_],\n",
    "             axis=0)\n",
    "indices = np.argsort(importances)[::-1]\n",
    "\n",
    "feature_metadata = Summer_ASV.feature_metadata\n",
    "np.savetxt(\"importances/bone_summer_18S_ASV_features.csv\", feature_metadata, delimiter=\",\", fmt='%s')\n",
    "\n",
    "\n",
    "#print the important ids in order\n",
    "general_importances = []\n",
    "count = 0\n",
    "print(\"Feature:\\t\\t\\t\\tImportance:\")\n",
    "for i in indices:\n",
    "    general_importances += (Summer_ASV.feature_metadata.index.values[i], importances[indices[count]])\n",
    "    if count < 25:\n",
    "        print(str(count+1)+\". \"+str(Summer_ASV.feature_metadata.index.values[i])+\"\\t\"+str(importances[indices[count]]))\n",
    "    count += 1\n",
    "    \n",
    "general_importances_df = pd.DataFrame(np.array(general_importances).reshape(2864,1))\n",
    "\n",
    "np.savetxt(\"importances/bone_summer_18S_ASV_importances.csv\", general_importances_df, delimiter=\",\", fmt='%s')"
   ]
  },
  {
   "cell_type": "markdown",
   "metadata": {},
   "source": [
    "## Import rarefied data collapsed at level 12"
   ]
  },
  {
   "cell_type": "code",
   "execution_count": 15,
   "metadata": {},
   "outputs": [
    {
     "name": "stdout",
     "output_type": "stream",
     "text": [
      "2020-07-02 11:58:54 WARNING These have metadata but do not have data - dropped (59): {'STAFS.2016.065.L10', 'CSU.extraction.blank11', 'STAFS.2016.065.L11', 'BLANK52.9A', 'BLANK52.9H', 'CSU.extraction.blank1', 'BLANK52.9C', 'BLANK52.10D', 'BLANK52.12A', 'CSU.extraction.blank12', 'CSU.extraction.blank6', 'CSU.extraction.blank4', 'CSU.extraction.blank8', 'CSU.extraction.blank13', 'BLANK52.11D', 'BLANK52.12B', 'BLANK52.9G', 'CSU.extraction.blank10', 'CSU.extraction.blank2', 'BLANK52.11F', 'BLANK52.5B', 'BLANK52.10F', 'BLANK52.11C', 'CSU.extraction.blank14', 'BLANK52.10B', 'SHSU.STAFS2016.011.L09', 'BLANK52.9B', 'STAFS.2016.065.L09', 'BLANK52.10G', 'BLANK52.11A', 'BLANK52.12D', 'BLANK52.10E', 'SHSU.STAFS2016.024.L10', 'CSU.extraction.blank15', 'BLANK52.12F', 'BLANK52.9F', 'BLANK52.11B', 'STAFS.2016.064.R09', 'BLANK52.10A', 'SHSU.STAFS2016.007.L09', 'CSU.extraction.blank9', '#q2:types', 'SHSU.STAFS2016.007.R10', 'BLANK52.11E', 'BLANK52.12G', 'BLANK52.9D', 'BLANK52.11H', 'BLANK52.11G', 'BLANK52.12E', 'BLANK52.12H', 'STAFS.2016.067.R12', 'BLANK52.10H', 'CSU.extraction.blank5', 'BLANK52.10C', 'CSU.extraction.blank3', 'CSU.extraction.blank7', 'STAFS.2016.067.L11.march', 'BLANK52.12C', 'BLANK52.9E'}\n"
     ]
    }
   ],
   "source": [
    "exp_L12 = ca.read_amplicon('/Users/heatherdeel/Dropbox/PMI_3_analyses/bone/02_18S/Hiseq_original_run/forward_reads_only/01_qiime2_analysis/03_feature_tables/collapsed_tables/18S_plate52_ribonly_table_full_taxfiltered_214940_L12.biom', '/Users/heatherdeel/Dropbox/PMI_3_analyses/bone/02_18S/Hiseq_original_run/forward_reads_only/02_metadata/map_18S.txt', min_reads=0, normalize=None)\n"
   ]
  },
  {
   "cell_type": "code",
   "execution_count": 16,
   "metadata": {},
   "outputs": [
    {
     "data": {
      "text/plain": [
       "STAFS2016.064    7\n",
       "STAFS2016.067    6\n",
       "STAFS2016.065    5\n",
       "Name: host_subject_id, dtype: int64"
      ]
     },
     "execution_count": 16,
     "metadata": {},
     "output_type": "execute_result"
    }
   ],
   "source": [
    "#filtering out spring and defining this as \"Summer\"\n",
    "Summer_L12 = exp_L12.filter_samples('season', 'summer')\n",
    "Summer_L12.sample_metadata.host_subject_id.value_counts()"
   ]
  },
  {
   "cell_type": "code",
   "execution_count": 17,
   "metadata": {},
   "outputs": [
    {
     "name": "stdout",
     "output_type": "stream",
     "text": [
      "                                                                                          _feature_id\n",
      "D_0__Eukaryota;D_1__Amoebozoa;D_2__Cavosteliida...  D_0__Eukaryota;D_1__Amoebozoa;D_2__Cavosteliid...\n",
      "D_0__Eukaryota;D_1__Amoebozoa;D_2__Dictyostelia...  D_0__Eukaryota;D_1__Amoebozoa;D_2__Dictyosteli...\n",
      "D_0__Eukaryota;D_1__Amoebozoa;D_2__Discosea;D_3...  D_0__Eukaryota;D_1__Amoebozoa;D_2__Discosea;D_...\n",
      "D_0__Eukaryota;D_1__Amoebozoa;D_2__Discosea;D_3...  D_0__Eukaryota;D_1__Amoebozoa;D_2__Discosea;D_...\n",
      "D_0__Eukaryota;D_1__Amoebozoa;D_2__Discosea;D_3...  D_0__Eukaryota;D_1__Amoebozoa;D_2__Discosea;D_...\n",
      "D_0__Eukaryota;D_1__Amoebozoa;D_2__Discosea;D_3...  D_0__Eukaryota;D_1__Amoebozoa;D_2__Discosea;D_...\n",
      "D_0__Eukaryota;D_1__Amoebozoa;D_2__Discosea;D_3...  D_0__Eukaryota;D_1__Amoebozoa;D_2__Discosea;D_...\n",
      "D_0__Eukaryota;D_1__Amoebozoa;D_2__Discosea;D_3...  D_0__Eukaryota;D_1__Amoebozoa;D_2__Discosea;D_...\n",
      "D_0__Eukaryota;D_1__Amoebozoa;D_2__Discosea;D_3...  D_0__Eukaryota;D_1__Amoebozoa;D_2__Discosea;D_...\n",
      "D_0__Eukaryota;D_1__Amoebozoa;D_2__Gracilipodid...  D_0__Eukaryota;D_1__Amoebozoa;D_2__Gracilipodi...\n",
      "D_0__Eukaryota;D_1__Amoebozoa;D_2__Incertae Sed...  D_0__Eukaryota;D_1__Amoebozoa;D_2__Incertae Se...\n",
      "D_0__Eukaryota;D_1__Amoebozoa;D_2__Mycamoeba;D_...  D_0__Eukaryota;D_1__Amoebozoa;D_2__Mycamoeba;D...\n",
      "D_0__Eukaryota;D_1__Amoebozoa;D_2__Myxogastria;...  D_0__Eukaryota;D_1__Amoebozoa;D_2__Myxogastria...\n",
      "D_0__Eukaryota;D_1__Amoebozoa;D_2__Myxogastria;...  D_0__Eukaryota;D_1__Amoebozoa;D_2__Myxogastria...\n",
      "D_0__Eukaryota;D_1__Amoebozoa;D_2__Schizoplasmo...  D_0__Eukaryota;D_1__Amoebozoa;D_2__Schizoplasm...\n",
      "D_0__Eukaryota;D_1__Amoebozoa;D_2__Schizoplasmo...  D_0__Eukaryota;D_1__Amoebozoa;D_2__Schizoplasm...\n",
      "D_0__Eukaryota;D_1__Amoebozoa;D_2__Tubulinea;D_...  D_0__Eukaryota;D_1__Amoebozoa;D_2__Tubulinea;D...\n",
      "D_0__Eukaryota;D_1__Amoebozoa;D_2__Tubulinea;D_...  D_0__Eukaryota;D_1__Amoebozoa;D_2__Tubulinea;D...\n",
      "D_0__Eukaryota;D_1__Amoebozoa;D_2__Tubulinea;D_...  D_0__Eukaryota;D_1__Amoebozoa;D_2__Tubulinea;D...\n",
      "D_0__Eukaryota;D_1__Amoebozoa;D_2__Tubulinea;D_...  D_0__Eukaryota;D_1__Amoebozoa;D_2__Tubulinea;D...\n",
      "D_0__Eukaryota;D_1__Amoebozoa;D_2__Tubulinea;D_...  D_0__Eukaryota;D_1__Amoebozoa;D_2__Tubulinea;D...\n",
      "D_0__Eukaryota;D_1__Amoebozoa;D_2__Tubulinea;D_...  D_0__Eukaryota;D_1__Amoebozoa;D_2__Tubulinea;D...\n",
      "D_0__Eukaryota;D_1__Amoebozoa;D_2__Tubulinea;D_...  D_0__Eukaryota;D_1__Amoebozoa;D_2__Tubulinea;D...\n",
      "D_0__Eukaryota;D_1__Amoebozoa;D_2__Tubulinea;D_...  D_0__Eukaryota;D_1__Amoebozoa;D_2__Tubulinea;D...\n",
      "D_0__Eukaryota;D_1__Amoebozoa;D_2__Tubulinea;__...  D_0__Eukaryota;D_1__Amoebozoa;D_2__Tubulinea;_...\n",
      "D_0__Eukaryota;D_1__Amoebozoa;D_2__metagenome;D...  D_0__Eukaryota;D_1__Amoebozoa;D_2__metagenome;...\n",
      "D_0__Eukaryota;D_1__Amoebozoa;D_2__uncultured;D...  D_0__Eukaryota;D_1__Amoebozoa;D_2__uncultured;...\n",
      "D_0__Eukaryota;D_1__Cryptophyceae;D_2__Cryptomo...  D_0__Eukaryota;D_1__Cryptophyceae;D_2__Cryptom...\n",
      "D_0__Eukaryota;D_1__Excavata;D_2__Discoba;D_3__...  D_0__Eukaryota;D_1__Excavata;D_2__Discoba;D_3_...\n",
      "D_0__Eukaryota;D_1__Excavata;D_2__Discoba;D_3__...  D_0__Eukaryota;D_1__Excavata;D_2__Discoba;D_3_...\n",
      "D_0__Eukaryota;D_1__Excavata;D_2__Discoba;D_3__...  D_0__Eukaryota;D_1__Excavata;D_2__Discoba;D_3_...\n",
      "D_0__Eukaryota;D_1__Excavata;D_2__Discoba;D_3__...  D_0__Eukaryota;D_1__Excavata;D_2__Discoba;D_3_...\n",
      "D_0__Eukaryota;D_1__Excavata;D_2__Discoba;D_3__...  D_0__Eukaryota;D_1__Excavata;D_2__Discoba;D_3_...\n",
      "D_0__Eukaryota;D_1__Excavata;D_2__Discoba;D_3__...  D_0__Eukaryota;D_1__Excavata;D_2__Discoba;D_3_...\n",
      "D_0__Eukaryota;D_1__Excavata;D_2__Discoba;D_3__...  D_0__Eukaryota;D_1__Excavata;D_2__Discoba;D_3_...\n",
      "D_0__Eukaryota;D_1__Excavata;D_2__Discoba;D_3__...  D_0__Eukaryota;D_1__Excavata;D_2__Discoba;D_3_...\n",
      "D_0__Eukaryota;D_1__Excavata;D_2__Discoba;D_3__...  D_0__Eukaryota;D_1__Excavata;D_2__Discoba;D_3_...\n",
      "D_0__Eukaryota;D_1__Excavata;D_2__Discoba;D_3__...  D_0__Eukaryota;D_1__Excavata;D_2__Discoba;D_3_...\n",
      "D_0__Eukaryota;D_1__Excavata;D_2__Discoba;D_3__...  D_0__Eukaryota;D_1__Excavata;D_2__Discoba;D_3_...\n",
      "D_0__Eukaryota;D_1__Excavata;D_2__Discoba;D_3__...  D_0__Eukaryota;D_1__Excavata;D_2__Discoba;D_3_...\n",
      "D_0__Eukaryota;D_1__Excavata;D_2__Discoba;D_3__...  D_0__Eukaryota;D_1__Excavata;D_2__Discoba;D_3_...\n",
      "D_0__Eukaryota;D_1__Excavata;D_2__Discoba;D_3__...  D_0__Eukaryota;D_1__Excavata;D_2__Discoba;D_3_...\n",
      "D_0__Eukaryota;D_1__Excavata;D_2__Discoba;D_3__...  D_0__Eukaryota;D_1__Excavata;D_2__Discoba;D_3_...\n",
      "D_0__Eukaryota;D_1__Excavata;D_2__Discoba;D_3__...  D_0__Eukaryota;D_1__Excavata;D_2__Discoba;D_3_...\n",
      "D_0__Eukaryota;D_1__Excavata;D_2__Discoba;D_3__...  D_0__Eukaryota;D_1__Excavata;D_2__Discoba;D_3_...\n",
      "D_0__Eukaryota;D_1__Excavata;D_2__Discoba;D_3__...  D_0__Eukaryota;D_1__Excavata;D_2__Discoba;D_3_...\n",
      "D_0__Eukaryota;D_1__Excavata;D_2__Discoba;D_3__...  D_0__Eukaryota;D_1__Excavata;D_2__Discoba;D_3_...\n",
      "D_0__Eukaryota;D_1__Excavata;D_2__Discoba;D_3__...  D_0__Eukaryota;D_1__Excavata;D_2__Discoba;D_3_...\n",
      "D_0__Eukaryota;D_1__Excavata;D_2__Discoba;D_3__...  D_0__Eukaryota;D_1__Excavata;D_2__Discoba;D_3_...\n",
      "D_0__Eukaryota;D_1__Excavata;D_2__Discoba;D_3__...  D_0__Eukaryota;D_1__Excavata;D_2__Discoba;D_3_...\n",
      "D_0__Eukaryota;D_1__Excavata;D_2__Discoba;D_3__...  D_0__Eukaryota;D_1__Excavata;D_2__Discoba;D_3_...\n",
      "D_0__Eukaryota;D_1__Excavata;D_2__Discoba;D_3__...  D_0__Eukaryota;D_1__Excavata;D_2__Discoba;D_3_...\n",
      "D_0__Eukaryota;D_1__Excavata;D_2__Metamonada;D_...  D_0__Eukaryota;D_1__Excavata;D_2__Metamonada;D...\n",
      "D_0__Eukaryota;D_1__Excavata;D_2__Metamonada;D_...  D_0__Eukaryota;D_1__Excavata;D_2__Metamonada;D...\n",
      "D_0__Eukaryota;D_1__Opisthokonta;D_2__Holozoa;D...  D_0__Eukaryota;D_1__Opisthokonta;D_2__Holozoa;...\n",
      "D_0__Eukaryota;D_1__Opisthokonta;D_2__Holozoa;D...  D_0__Eukaryota;D_1__Opisthokonta;D_2__Holozoa;...\n",
      "D_0__Eukaryota;D_1__Opisthokonta;D_2__Holozoa;D...  D_0__Eukaryota;D_1__Opisthokonta;D_2__Holozoa;...\n",
      "D_0__Eukaryota;D_1__Opisthokonta;D_2__Holozoa;D...  D_0__Eukaryota;D_1__Opisthokonta;D_2__Holozoa;...\n",
      "D_0__Eukaryota;D_1__Opisthokonta;D_2__Holozoa;D...  D_0__Eukaryota;D_1__Opisthokonta;D_2__Holozoa;...\n",
      "D_0__Eukaryota;D_1__Opisthokonta;D_2__Holozoa;D...  D_0__Eukaryota;D_1__Opisthokonta;D_2__Holozoa;...\n",
      "D_0__Eukaryota;D_1__Opisthokonta;D_2__Holozoa;D...  D_0__Eukaryota;D_1__Opisthokonta;D_2__Holozoa;...\n",
      "D_0__Eukaryota;D_1__Opisthokonta;D_2__Holozoa;D...  D_0__Eukaryota;D_1__Opisthokonta;D_2__Holozoa;...\n",
      "D_0__Eukaryota;D_1__Opisthokonta;D_2__Holozoa;D...  D_0__Eukaryota;D_1__Opisthokonta;D_2__Holozoa;...\n",
      "D_0__Eukaryota;D_1__Opisthokonta;D_2__Holozoa;D...  D_0__Eukaryota;D_1__Opisthokonta;D_2__Holozoa;...\n",
      "D_0__Eukaryota;D_1__Opisthokonta;D_2__Holozoa;D...  D_0__Eukaryota;D_1__Opisthokonta;D_2__Holozoa;...\n",
      "D_0__Eukaryota;D_1__Opisthokonta;D_2__Holozoa;D...  D_0__Eukaryota;D_1__Opisthokonta;D_2__Holozoa;...\n",
      "D_0__Eukaryota;D_1__Opisthokonta;D_2__Holozoa;D...  D_0__Eukaryota;D_1__Opisthokonta;D_2__Holozoa;...\n",
      "D_0__Eukaryota;D_1__Opisthokonta;D_2__Holozoa;D...  D_0__Eukaryota;D_1__Opisthokonta;D_2__Holozoa;...\n",
      "D_0__Eukaryota;D_1__Opisthokonta;D_2__Holozoa;D...  D_0__Eukaryota;D_1__Opisthokonta;D_2__Holozoa;...\n",
      "D_0__Eukaryota;D_1__Opisthokonta;D_2__Holozoa;D...  D_0__Eukaryota;D_1__Opisthokonta;D_2__Holozoa;...\n",
      "D_0__Eukaryota;D_1__Opisthokonta;D_2__Holozoa;D...  D_0__Eukaryota;D_1__Opisthokonta;D_2__Holozoa;...\n",
      "D_0__Eukaryota;D_1__Opisthokonta;D_2__Holozoa;D...  D_0__Eukaryota;D_1__Opisthokonta;D_2__Holozoa;...\n",
      "D_0__Eukaryota;D_1__Opisthokonta;D_2__Holozoa;D...  D_0__Eukaryota;D_1__Opisthokonta;D_2__Holozoa;...\n",
      "D_0__Eukaryota;D_1__Opisthokonta;D_2__Holozoa;_...  D_0__Eukaryota;D_1__Opisthokonta;D_2__Holozoa;...\n",
      "D_0__Eukaryota;D_1__Opisthokonta;D_2__Nucletmyc...  D_0__Eukaryota;D_1__Opisthokonta;D_2__Nucletmy...\n",
      "D_0__Eukaryota;D_1__Opisthokonta;D_2__Nucletmyc...  D_0__Eukaryota;D_1__Opisthokonta;D_2__Nucletmy...\n",
      "D_0__Eukaryota;D_1__Opisthokonta;D_2__Nucletmyc...  D_0__Eukaryota;D_1__Opisthokonta;D_2__Nucletmy...\n",
      "D_0__Eukaryota;D_1__Opisthokonta;D_2__Nucletmyc...  D_0__Eukaryota;D_1__Opisthokonta;D_2__Nucletmy...\n",
      "D_0__Eukaryota;D_1__Opisthokonta;D_2__Nucletmyc...  D_0__Eukaryota;D_1__Opisthokonta;D_2__Nucletmy...\n",
      "D_0__Eukaryota;D_1__Opisthokonta;D_2__Nucletmyc...  D_0__Eukaryota;D_1__Opisthokonta;D_2__Nucletmy...\n",
      "D_0__Eukaryota;D_1__Opisthokonta;D_2__Nucletmyc...  D_0__Eukaryota;D_1__Opisthokonta;D_2__Nucletmy...\n",
      "D_0__Eukaryota;D_1__Opisthokonta;D_2__Nucletmyc...  D_0__Eukaryota;D_1__Opisthokonta;D_2__Nucletmy...\n",
      "D_0__Eukaryota;D_1__Opisthokonta;D_2__Nucletmyc...  D_0__Eukaryota;D_1__Opisthokonta;D_2__Nucletmy...\n",
      "D_0__Eukaryota;D_1__Opisthokonta;D_2__Nucletmyc...  D_0__Eukaryota;D_1__Opisthokonta;D_2__Nucletmy...\n",
      "D_0__Eukaryota;D_1__Opisthokonta;D_2__Nucletmyc...  D_0__Eukaryota;D_1__Opisthokonta;D_2__Nucletmy...\n",
      "D_0__Eukaryota;D_1__Opisthokonta;D_2__Nucletmyc...  D_0__Eukaryota;D_1__Opisthokonta;D_2__Nucletmy...\n",
      "D_0__Eukaryota;D_1__Opisthokonta;D_2__Nucletmyc...  D_0__Eukaryota;D_1__Opisthokonta;D_2__Nucletmy...\n",
      "D_0__Eukaryota;D_1__Opisthokonta;D_2__Nucletmyc...  D_0__Eukaryota;D_1__Opisthokonta;D_2__Nucletmy...\n",
      "D_0__Eukaryota;D_1__Opisthokonta;D_2__Nucletmyc...  D_0__Eukaryota;D_1__Opisthokonta;D_2__Nucletmy...\n",
      "D_0__Eukaryota;D_1__Opisthokonta;D_2__Nucletmyc...  D_0__Eukaryota;D_1__Opisthokonta;D_2__Nucletmy...\n",
      "D_0__Eukaryota;D_1__Opisthokonta;D_2__Nucletmyc...  D_0__Eukaryota;D_1__Opisthokonta;D_2__Nucletmy...\n",
      "D_0__Eukaryota;D_1__Opisthokonta;D_2__Nucletmyc...  D_0__Eukaryota;D_1__Opisthokonta;D_2__Nucletmy...\n",
      "D_0__Eukaryota;D_1__Opisthokonta;D_2__Nucletmyc...  D_0__Eukaryota;D_1__Opisthokonta;D_2__Nucletmy...\n",
      "D_0__Eukaryota;D_1__Opisthokonta;D_2__Nucletmyc...  D_0__Eukaryota;D_1__Opisthokonta;D_2__Nucletmy...\n",
      "D_0__Eukaryota;D_1__Opisthokonta;D_2__Nucletmyc...  D_0__Eukaryota;D_1__Opisthokonta;D_2__Nucletmy...\n",
      "D_0__Eukaryota;D_1__Opisthokonta;D_2__Nucletmyc...  D_0__Eukaryota;D_1__Opisthokonta;D_2__Nucletmy...\n",
      "D_0__Eukaryota;D_1__Opisthokonta;D_2__Nucletmyc...  D_0__Eukaryota;D_1__Opisthokonta;D_2__Nucletmy...\n",
      "D_0__Eukaryota;D_1__Opisthokonta;D_2__Nucletmyc...  D_0__Eukaryota;D_1__Opisthokonta;D_2__Nucletmy...\n",
      "D_0__Eukaryota;D_1__Opisthokonta;D_2__Nucletmyc...  D_0__Eukaryota;D_1__Opisthokonta;D_2__Nucletmy...\n",
      "D_0__Eukaryota;D_1__Opisthokonta;D_2__Nucletmyc...  D_0__Eukaryota;D_1__Opisthokonta;D_2__Nucletmy...\n",
      "D_0__Eukaryota;D_1__Opisthokonta;D_2__Nucletmyc...  D_0__Eukaryota;D_1__Opisthokonta;D_2__Nucletmy...\n",
      "D_0__Eukaryota;D_1__Opisthokonta;D_2__Nucletmyc...  D_0__Eukaryota;D_1__Opisthokonta;D_2__Nucletmy...\n",
      "D_0__Eukaryota;D_1__Opisthokonta;D_2__Nucletmyc...  D_0__Eukaryota;D_1__Opisthokonta;D_2__Nucletmy...\n",
      "D_0__Eukaryota;D_1__Opisthokonta;D_2__Nucletmyc...  D_0__Eukaryota;D_1__Opisthokonta;D_2__Nucletmy...\n",
      "D_0__Eukaryota;D_1__Opisthokonta;D_2__Nucletmyc...  D_0__Eukaryota;D_1__Opisthokonta;D_2__Nucletmy...\n",
      "D_0__Eukaryota;D_1__Opisthokonta;D_2__Nucletmyc...  D_0__Eukaryota;D_1__Opisthokonta;D_2__Nucletmy...\n",
      "D_0__Eukaryota;D_1__Opisthokonta;D_2__Nucletmyc...  D_0__Eukaryota;D_1__Opisthokonta;D_2__Nucletmy...\n",
      "D_0__Eukaryota;D_1__Opisthokonta;D_2__Nucletmyc...  D_0__Eukaryota;D_1__Opisthokonta;D_2__Nucletmy...\n",
      "D_0__Eukaryota;D_1__Opisthokonta;D_2__Nucletmyc...  D_0__Eukaryota;D_1__Opisthokonta;D_2__Nucletmy...\n",
      "D_0__Eukaryota;D_1__Opisthokonta;D_2__Nucletmyc...  D_0__Eukaryota;D_1__Opisthokonta;D_2__Nucletmy...\n",
      "D_0__Eukaryota;D_1__Opisthokonta;D_2__Nucletmyc...  D_0__Eukaryota;D_1__Opisthokonta;D_2__Nucletmy...\n",
      "D_0__Eukaryota;D_1__Opisthokonta;D_2__Nucletmyc...  D_0__Eukaryota;D_1__Opisthokonta;D_2__Nucletmy...\n",
      "D_0__Eukaryota;D_1__Opisthokonta;D_2__Nucletmyc...  D_0__Eukaryota;D_1__Opisthokonta;D_2__Nucletmy...\n",
      "D_0__Eukaryota;D_1__Opisthokonta;D_2__Nucletmyc...  D_0__Eukaryota;D_1__Opisthokonta;D_2__Nucletmy...\n",
      "D_0__Eukaryota;D_1__Opisthokonta;D_2__Nucletmyc...  D_0__Eukaryota;D_1__Opisthokonta;D_2__Nucletmy...\n",
      "D_0__Eukaryota;D_1__Opisthokonta;D_2__Nucletmyc...  D_0__Eukaryota;D_1__Opisthokonta;D_2__Nucletmy...\n",
      "D_0__Eukaryota;D_1__Opisthokonta;D_2__Nucletmyc...  D_0__Eukaryota;D_1__Opisthokonta;D_2__Nucletmy...\n",
      "D_0__Eukaryota;D_1__Opisthokonta;D_2__Nucletmyc...  D_0__Eukaryota;D_1__Opisthokonta;D_2__Nucletmy...\n",
      "D_0__Eukaryota;D_1__Opisthokonta;D_2__Nucletmyc...  D_0__Eukaryota;D_1__Opisthokonta;D_2__Nucletmy...\n",
      "D_0__Eukaryota;D_1__Opisthokonta;D_2__Nucletmyc...  D_0__Eukaryota;D_1__Opisthokonta;D_2__Nucletmy...\n",
      "D_0__Eukaryota;D_1__Opisthokonta;D_2__Nucletmyc...  D_0__Eukaryota;D_1__Opisthokonta;D_2__Nucletmy...\n",
      "D_0__Eukaryota;D_1__Opisthokonta;D_2__Nucletmyc...  D_0__Eukaryota;D_1__Opisthokonta;D_2__Nucletmy...\n",
      "D_0__Eukaryota;D_1__Opisthokonta;D_2__Nucletmyc...  D_0__Eukaryota;D_1__Opisthokonta;D_2__Nucletmy...\n",
      "D_0__Eukaryota;D_1__Opisthokonta;D_2__Nucletmyc...  D_0__Eukaryota;D_1__Opisthokonta;D_2__Nucletmy...\n",
      "D_0__Eukaryota;D_1__Opisthokonta;D_2__Nucletmyc...  D_0__Eukaryota;D_1__Opisthokonta;D_2__Nucletmy...\n",
      "D_0__Eukaryota;D_1__Opisthokonta;D_2__Nucletmyc...  D_0__Eukaryota;D_1__Opisthokonta;D_2__Nucletmy...\n",
      "D_0__Eukaryota;D_1__Opisthokonta;D_2__Nucletmyc...  D_0__Eukaryota;D_1__Opisthokonta;D_2__Nucletmy...\n",
      "D_0__Eukaryota;D_1__Opisthokonta;D_2__Nucletmyc...  D_0__Eukaryota;D_1__Opisthokonta;D_2__Nucletmy...\n",
      "D_0__Eukaryota;D_1__Opisthokonta;D_2__Nucletmyc...  D_0__Eukaryota;D_1__Opisthokonta;D_2__Nucletmy...\n",
      "D_0__Eukaryota;D_1__Opisthokonta;D_2__Nucletmyc...  D_0__Eukaryota;D_1__Opisthokonta;D_2__Nucletmy...\n",
      "D_0__Eukaryota;D_1__Opisthokonta;D_2__Nucletmyc...  D_0__Eukaryota;D_1__Opisthokonta;D_2__Nucletmy...\n",
      "D_0__Eukaryota;D_1__Opisthokonta;D_2__Nucletmyc...  D_0__Eukaryota;D_1__Opisthokonta;D_2__Nucletmy...\n",
      "D_0__Eukaryota;D_1__Opisthokonta;D_2__Nucletmyc...  D_0__Eukaryota;D_1__Opisthokonta;D_2__Nucletmy...\n",
      "D_0__Eukaryota;D_1__Opisthokonta;D_2__Nucletmyc...  D_0__Eukaryota;D_1__Opisthokonta;D_2__Nucletmy...\n",
      "D_0__Eukaryota;D_1__Opisthokonta;D_2__Nucletmyc...  D_0__Eukaryota;D_1__Opisthokonta;D_2__Nucletmy...\n",
      "D_0__Eukaryota;D_1__Opisthokonta;D_2__Nucletmyc...  D_0__Eukaryota;D_1__Opisthokonta;D_2__Nucletmy...\n",
      "D_0__Eukaryota;D_1__Opisthokonta;D_2__Nucletmyc...  D_0__Eukaryota;D_1__Opisthokonta;D_2__Nucletmy...\n",
      "D_0__Eukaryota;D_1__Opisthokonta;D_2__Nucletmyc...  D_0__Eukaryota;D_1__Opisthokonta;D_2__Nucletmy...\n",
      "D_0__Eukaryota;D_1__Opisthokonta;D_2__Nucletmyc...  D_0__Eukaryota;D_1__Opisthokonta;D_2__Nucletmy...\n",
      "D_0__Eukaryota;D_1__Opisthokonta;D_2__Nucletmyc...  D_0__Eukaryota;D_1__Opisthokonta;D_2__Nucletmy...\n",
      "D_0__Eukaryota;D_1__Opisthokonta;D_2__Nucletmyc...  D_0__Eukaryota;D_1__Opisthokonta;D_2__Nucletmy...\n",
      "D_0__Eukaryota;D_1__Opisthokonta;D_2__Nucletmyc...  D_0__Eukaryota;D_1__Opisthokonta;D_2__Nucletmy...\n",
      "D_0__Eukaryota;D_1__Opisthokonta;D_2__Nucletmyc...  D_0__Eukaryota;D_1__Opisthokonta;D_2__Nucletmy...\n",
      "D_0__Eukaryota;D_1__Opisthokonta;D_2__Nucletmyc...  D_0__Eukaryota;D_1__Opisthokonta;D_2__Nucletmy...\n",
      "D_0__Eukaryota;D_1__Opisthokonta;D_2__Nucletmyc...  D_0__Eukaryota;D_1__Opisthokonta;D_2__Nucletmy...\n",
      "D_0__Eukaryota;D_1__Opisthokonta;D_2__Nucletmyc...  D_0__Eukaryota;D_1__Opisthokonta;D_2__Nucletmy...\n",
      "D_0__Eukaryota;D_1__Opisthokonta;D_2__Nucletmyc...  D_0__Eukaryota;D_1__Opisthokonta;D_2__Nucletmy...\n",
      "D_0__Eukaryota;D_1__Opisthokonta;D_2__Nucletmyc...  D_0__Eukaryota;D_1__Opisthokonta;D_2__Nucletmy...\n",
      "D_0__Eukaryota;D_1__Opisthokonta;D_2__Nucletmyc...  D_0__Eukaryota;D_1__Opisthokonta;D_2__Nucletmy...\n",
      "D_0__Eukaryota;D_1__Opisthokonta;D_2__Nucletmyc...  D_0__Eukaryota;D_1__Opisthokonta;D_2__Nucletmy...\n",
      "D_0__Eukaryota;D_1__Opisthokonta;D_2__Nucletmyc...  D_0__Eukaryota;D_1__Opisthokonta;D_2__Nucletmy...\n",
      "D_0__Eukaryota;D_1__Opisthokonta;D_2__Nucletmyc...  D_0__Eukaryota;D_1__Opisthokonta;D_2__Nucletmy...\n",
      "D_0__Eukaryota;D_1__Opisthokonta;D_2__Nucletmyc...  D_0__Eukaryota;D_1__Opisthokonta;D_2__Nucletmy...\n",
      "D_0__Eukaryota;D_1__Opisthokonta;D_2__Nucletmyc...  D_0__Eukaryota;D_1__Opisthokonta;D_2__Nucletmy...\n",
      "D_0__Eukaryota;D_1__Opisthokonta;D_2__Nucletmyc...  D_0__Eukaryota;D_1__Opisthokonta;D_2__Nucletmy...\n",
      "D_0__Eukaryota;D_1__Opisthokonta;D_2__Nucletmyc...  D_0__Eukaryota;D_1__Opisthokonta;D_2__Nucletmy...\n",
      "D_0__Eukaryota;D_1__Opisthokonta;D_2__Nucletmyc...  D_0__Eukaryota;D_1__Opisthokonta;D_2__Nucletmy...\n",
      "D_0__Eukaryota;D_1__Opisthokonta;D_2__Nucletmyc...  D_0__Eukaryota;D_1__Opisthokonta;D_2__Nucletmy...\n",
      "D_0__Eukaryota;D_1__Opisthokonta;D_2__Nucletmyc...  D_0__Eukaryota;D_1__Opisthokonta;D_2__Nucletmy...\n",
      "D_0__Eukaryota;D_1__Opisthokonta;D_2__Nucletmyc...  D_0__Eukaryota;D_1__Opisthokonta;D_2__Nucletmy...\n",
      "D_0__Eukaryota;D_1__Opisthokonta;D_2__Nucletmyc...  D_0__Eukaryota;D_1__Opisthokonta;D_2__Nucletmy...\n",
      "D_0__Eukaryota;D_1__Opisthokonta;D_2__Nucletmyc...  D_0__Eukaryota;D_1__Opisthokonta;D_2__Nucletmy...\n",
      "D_0__Eukaryota;D_1__Opisthokonta;D_2__Nucletmyc...  D_0__Eukaryota;D_1__Opisthokonta;D_2__Nucletmy...\n",
      "D_0__Eukaryota;D_1__Opisthokonta;D_2__Nucletmyc...  D_0__Eukaryota;D_1__Opisthokonta;D_2__Nucletmy...\n",
      "D_0__Eukaryota;D_1__Opisthokonta;D_2__Nucletmyc...  D_0__Eukaryota;D_1__Opisthokonta;D_2__Nucletmy...\n",
      "D_0__Eukaryota;D_1__Opisthokonta;D_2__Nucletmyc...  D_0__Eukaryota;D_1__Opisthokonta;D_2__Nucletmy...\n",
      "D_0__Eukaryota;D_1__Opisthokonta;D_2__Nucletmyc...  D_0__Eukaryota;D_1__Opisthokonta;D_2__Nucletmy...\n",
      "D_0__Eukaryota;D_1__Opisthokonta;D_2__Nucletmyc...  D_0__Eukaryota;D_1__Opisthokonta;D_2__Nucletmy...\n",
      "D_0__Eukaryota;D_1__Opisthokonta;D_2__Nucletmyc...  D_0__Eukaryota;D_1__Opisthokonta;D_2__Nucletmy...\n",
      "D_0__Eukaryota;D_1__Opisthokonta;D_2__Nucletmyc...  D_0__Eukaryota;D_1__Opisthokonta;D_2__Nucletmy...\n",
      "D_0__Eukaryota;D_1__Opisthokonta;D_2__Nucletmyc...  D_0__Eukaryota;D_1__Opisthokonta;D_2__Nucletmy...\n",
      "D_0__Eukaryota;D_1__Opisthokonta;D_2__Nucletmyc...  D_0__Eukaryota;D_1__Opisthokonta;D_2__Nucletmy...\n",
      "D_0__Eukaryota;D_1__Opisthokonta;D_2__Nucletmyc...  D_0__Eukaryota;D_1__Opisthokonta;D_2__Nucletmy...\n",
      "D_0__Eukaryota;D_1__Opisthokonta;D_2__Nucletmyc...  D_0__Eukaryota;D_1__Opisthokonta;D_2__Nucletmy...\n",
      "D_0__Eukaryota;D_1__Opisthokonta;D_2__Nucletmyc...  D_0__Eukaryota;D_1__Opisthokonta;D_2__Nucletmy...\n",
      "D_0__Eukaryota;D_1__Opisthokonta;D_2__Nucletmyc...  D_0__Eukaryota;D_1__Opisthokonta;D_2__Nucletmy...\n",
      "D_0__Eukaryota;D_1__Opisthokonta;D_2__Nucletmyc...  D_0__Eukaryota;D_1__Opisthokonta;D_2__Nucletmy...\n",
      "D_0__Eukaryota;D_1__Opisthokonta;D_2__Nucletmyc...  D_0__Eukaryota;D_1__Opisthokonta;D_2__Nucletmy...\n",
      "D_0__Eukaryota;D_1__Opisthokonta;D_2__Nucletmyc...  D_0__Eukaryota;D_1__Opisthokonta;D_2__Nucletmy...\n",
      "D_0__Eukaryota;D_1__Opisthokonta;D_2__Nucletmyc...  D_0__Eukaryota;D_1__Opisthokonta;D_2__Nucletmy...\n",
      "D_0__Eukaryota;D_1__Opisthokonta;D_2__Nucletmyc...  D_0__Eukaryota;D_1__Opisthokonta;D_2__Nucletmy...\n",
      "D_0__Eukaryota;D_1__Opisthokonta;D_2__Nucletmyc...  D_0__Eukaryota;D_1__Opisthokonta;D_2__Nucletmy...\n",
      "D_0__Eukaryota;D_1__Opisthokonta;D_2__Nucletmyc...  D_0__Eukaryota;D_1__Opisthokonta;D_2__Nucletmy...\n",
      "D_0__Eukaryota;D_1__Opisthokonta;D_2__Nucletmyc...  D_0__Eukaryota;D_1__Opisthokonta;D_2__Nucletmy...\n",
      "D_0__Eukaryota;D_1__Opisthokonta;D_2__Nucletmyc...  D_0__Eukaryota;D_1__Opisthokonta;D_2__Nucletmy...\n",
      "D_0__Eukaryota;D_1__Opisthokonta;D_2__Nucletmyc...  D_0__Eukaryota;D_1__Opisthokonta;D_2__Nucletmy...\n",
      "D_0__Eukaryota;D_1__Opisthokonta;D_2__Nucletmyc...  D_0__Eukaryota;D_1__Opisthokonta;D_2__Nucletmy...\n",
      "D_0__Eukaryota;D_1__Opisthokonta;D_2__Nucletmyc...  D_0__Eukaryota;D_1__Opisthokonta;D_2__Nucletmy...\n",
      "D_0__Eukaryota;D_1__Opisthokonta;D_2__Nucletmyc...  D_0__Eukaryota;D_1__Opisthokonta;D_2__Nucletmy...\n",
      "D_0__Eukaryota;D_1__Opisthokonta;D_2__Nucletmyc...  D_0__Eukaryota;D_1__Opisthokonta;D_2__Nucletmy...\n",
      "D_0__Eukaryota;D_1__Opisthokonta;D_2__Nucletmyc...  D_0__Eukaryota;D_1__Opisthokonta;D_2__Nucletmy...\n",
      "D_0__Eukaryota;D_1__Opisthokonta;D_2__Nucletmyc...  D_0__Eukaryota;D_1__Opisthokonta;D_2__Nucletmy...\n",
      "D_0__Eukaryota;D_1__Opisthokonta;D_2__Nucletmyc...  D_0__Eukaryota;D_1__Opisthokonta;D_2__Nucletmy...\n",
      "D_0__Eukaryota;D_1__Opisthokonta;D_2__Nucletmyc...  D_0__Eukaryota;D_1__Opisthokonta;D_2__Nucletmy...\n",
      "D_0__Eukaryota;D_1__Opisthokonta;D_2__Nucletmyc...  D_0__Eukaryota;D_1__Opisthokonta;D_2__Nucletmy...\n",
      "D_0__Eukaryota;D_1__Opisthokonta;D_2__Nucletmyc...  D_0__Eukaryota;D_1__Opisthokonta;D_2__Nucletmy...\n",
      "D_0__Eukaryota;D_1__Opisthokonta;D_2__Nucletmyc...  D_0__Eukaryota;D_1__Opisthokonta;D_2__Nucletmy...\n",
      "D_0__Eukaryota;D_1__Opisthokonta;D_2__Nucletmyc...  D_0__Eukaryota;D_1__Opisthokonta;D_2__Nucletmy...\n",
      "D_0__Eukaryota;D_1__Opisthokonta;D_2__Nucletmyc...  D_0__Eukaryota;D_1__Opisthokonta;D_2__Nucletmy...\n",
      "D_0__Eukaryota;D_1__Opisthokonta;D_2__Nucletmyc...  D_0__Eukaryota;D_1__Opisthokonta;D_2__Nucletmy...\n",
      "D_0__Eukaryota;D_1__Opisthokonta;D_2__Nucletmyc...  D_0__Eukaryota;D_1__Opisthokonta;D_2__Nucletmy...\n",
      "D_0__Eukaryota;D_1__Opisthokonta;D_2__Nucletmyc...  D_0__Eukaryota;D_1__Opisthokonta;D_2__Nucletmy...\n",
      "D_0__Eukaryota;D_1__Opisthokonta;D_2__Nucletmyc...  D_0__Eukaryota;D_1__Opisthokonta;D_2__Nucletmy...\n",
      "D_0__Eukaryota;D_1__Opisthokonta;D_2__Nucletmyc...  D_0__Eukaryota;D_1__Opisthokonta;D_2__Nucletmy...\n",
      "D_0__Eukaryota;D_1__Opisthokonta;D_2__Nucletmyc...  D_0__Eukaryota;D_1__Opisthokonta;D_2__Nucletmy...\n",
      "D_0__Eukaryota;D_1__Opisthokonta;D_2__Nucletmyc...  D_0__Eukaryota;D_1__Opisthokonta;D_2__Nucletmy...\n",
      "D_0__Eukaryota;D_1__Opisthokonta;D_2__Nucletmyc...  D_0__Eukaryota;D_1__Opisthokonta;D_2__Nucletmy...\n",
      "D_0__Eukaryota;D_1__Opisthokonta;D_2__Nucletmyc...  D_0__Eukaryota;D_1__Opisthokonta;D_2__Nucletmy...\n",
      "D_0__Eukaryota;D_1__Opisthokonta;D_2__Nucletmyc...  D_0__Eukaryota;D_1__Opisthokonta;D_2__Nucletmy...\n",
      "D_0__Eukaryota;D_1__Opisthokonta;D_2__Nucletmyc...  D_0__Eukaryota;D_1__Opisthokonta;D_2__Nucletmy...\n",
      "D_0__Eukaryota;D_1__Opisthokonta;D_2__Nucletmyc...  D_0__Eukaryota;D_1__Opisthokonta;D_2__Nucletmy...\n",
      "D_0__Eukaryota;D_1__Opisthokonta;D_2__Nucletmyc...  D_0__Eukaryota;D_1__Opisthokonta;D_2__Nucletmy...\n",
      "D_0__Eukaryota;D_1__Opisthokonta;D_2__Nucletmyc...  D_0__Eukaryota;D_1__Opisthokonta;D_2__Nucletmy...\n",
      "D_0__Eukaryota;D_1__Opisthokonta;__;__;__;__;__...  D_0__Eukaryota;D_1__Opisthokonta;__;__;__;__;_...\n",
      "D_0__Eukaryota;D_1__SAR;D_2__Alveolata;D_3__Api...  D_0__Eukaryota;D_1__SAR;D_2__Alveolata;D_3__Ap...\n",
      "D_0__Eukaryota;D_1__SAR;D_2__Alveolata;D_3__Api...  D_0__Eukaryota;D_1__SAR;D_2__Alveolata;D_3__Ap...\n",
      "D_0__Eukaryota;D_1__SAR;D_2__Alveolata;D_3__Api...  D_0__Eukaryota;D_1__SAR;D_2__Alveolata;D_3__Ap...\n",
      "D_0__Eukaryota;D_1__SAR;D_2__Alveolata;D_3__Api...  D_0__Eukaryota;D_1__SAR;D_2__Alveolata;D_3__Ap...\n",
      "D_0__Eukaryota;D_1__SAR;D_2__Alveolata;D_3__Api...  D_0__Eukaryota;D_1__SAR;D_2__Alveolata;D_3__Ap...\n",
      "D_0__Eukaryota;D_1__SAR;D_2__Alveolata;D_3__Api...  D_0__Eukaryota;D_1__SAR;D_2__Alveolata;D_3__Ap...\n",
      "D_0__Eukaryota;D_1__SAR;D_2__Alveolata;D_3__Api...  D_0__Eukaryota;D_1__SAR;D_2__Alveolata;D_3__Ap...\n",
      "D_0__Eukaryota;D_1__SAR;D_2__Alveolata;D_3__Api...  D_0__Eukaryota;D_1__SAR;D_2__Alveolata;D_3__Ap...\n",
      "D_0__Eukaryota;D_1__SAR;D_2__Alveolata;D_3__Api...  D_0__Eukaryota;D_1__SAR;D_2__Alveolata;D_3__Ap...\n",
      "D_0__Eukaryota;D_1__SAR;D_2__Alveolata;D_3__Api...  D_0__Eukaryota;D_1__SAR;D_2__Alveolata;D_3__Ap...\n",
      "D_0__Eukaryota;D_1__SAR;D_2__Alveolata;D_3__Api...  D_0__Eukaryota;D_1__SAR;D_2__Alveolata;D_3__Ap...\n",
      "D_0__Eukaryota;D_1__SAR;D_2__Alveolata;D_3__Api...  D_0__Eukaryota;D_1__SAR;D_2__Alveolata;D_3__Ap...\n",
      "D_0__Eukaryota;D_1__SAR;D_2__Alveolata;D_3__Api...  D_0__Eukaryota;D_1__SAR;D_2__Alveolata;D_3__Ap...\n",
      "D_0__Eukaryota;D_1__SAR;D_2__Alveolata;D_3__Api...  D_0__Eukaryota;D_1__SAR;D_2__Alveolata;D_3__Ap...\n",
      "D_0__Eukaryota;D_1__SAR;D_2__Alveolata;D_3__Api...  D_0__Eukaryota;D_1__SAR;D_2__Alveolata;D_3__Ap...\n",
      "D_0__Eukaryota;D_1__SAR;D_2__Alveolata;D_3__Cil...  D_0__Eukaryota;D_1__SAR;D_2__Alveolata;D_3__Ci...\n",
      "D_0__Eukaryota;D_1__SAR;D_2__Alveolata;D_3__Cil...  D_0__Eukaryota;D_1__SAR;D_2__Alveolata;D_3__Ci...\n",
      "D_0__Eukaryota;D_1__SAR;D_2__Alveolata;D_3__Cil...  D_0__Eukaryota;D_1__SAR;D_2__Alveolata;D_3__Ci...\n",
      "D_0__Eukaryota;D_1__SAR;D_2__Alveolata;D_3__Cil...  D_0__Eukaryota;D_1__SAR;D_2__Alveolata;D_3__Ci...\n",
      "D_0__Eukaryota;D_1__SAR;D_2__Alveolata;D_3__Cil...  D_0__Eukaryota;D_1__SAR;D_2__Alveolata;D_3__Ci...\n",
      "D_0__Eukaryota;D_1__SAR;D_2__Alveolata;D_3__Cil...  D_0__Eukaryota;D_1__SAR;D_2__Alveolata;D_3__Ci...\n",
      "D_0__Eukaryota;D_1__SAR;D_2__Alveolata;D_3__Cil...  D_0__Eukaryota;D_1__SAR;D_2__Alveolata;D_3__Ci...\n",
      "D_0__Eukaryota;D_1__SAR;D_2__Alveolata;D_3__Cil...  D_0__Eukaryota;D_1__SAR;D_2__Alveolata;D_3__Ci...\n",
      "D_0__Eukaryota;D_1__SAR;D_2__Alveolata;D_3__Cil...  D_0__Eukaryota;D_1__SAR;D_2__Alveolata;D_3__Ci...\n",
      "D_0__Eukaryota;D_1__SAR;D_2__Alveolata;D_3__Cil...  D_0__Eukaryota;D_1__SAR;D_2__Alveolata;D_3__Ci...\n",
      "D_0__Eukaryota;D_1__SAR;D_2__Alveolata;D_3__Cil...  D_0__Eukaryota;D_1__SAR;D_2__Alveolata;D_3__Ci...\n",
      "D_0__Eukaryota;D_1__SAR;D_2__Alveolata;D_3__Cil...  D_0__Eukaryota;D_1__SAR;D_2__Alveolata;D_3__Ci...\n",
      "D_0__Eukaryota;D_1__SAR;D_2__Alveolata;D_3__Cil...  D_0__Eukaryota;D_1__SAR;D_2__Alveolata;D_3__Ci...\n",
      "D_0__Eukaryota;D_1__SAR;D_2__Alveolata;D_3__Cil...  D_0__Eukaryota;D_1__SAR;D_2__Alveolata;D_3__Ci...\n",
      "D_0__Eukaryota;D_1__SAR;D_2__Alveolata;D_3__Cil...  D_0__Eukaryota;D_1__SAR;D_2__Alveolata;D_3__Ci...\n",
      "D_0__Eukaryota;D_1__SAR;D_2__Alveolata;D_3__Cil...  D_0__Eukaryota;D_1__SAR;D_2__Alveolata;D_3__Ci...\n",
      "D_0__Eukaryota;D_1__SAR;D_2__Alveolata;D_3__Cil...  D_0__Eukaryota;D_1__SAR;D_2__Alveolata;D_3__Ci...\n",
      "D_0__Eukaryota;D_1__SAR;D_2__Alveolata;D_3__Cil...  D_0__Eukaryota;D_1__SAR;D_2__Alveolata;D_3__Ci...\n",
      "D_0__Eukaryota;D_1__SAR;D_2__Alveolata;D_3__Cil...  D_0__Eukaryota;D_1__SAR;D_2__Alveolata;D_3__Ci...\n",
      "D_0__Eukaryota;D_1__SAR;D_2__Alveolata;D_3__Cil...  D_0__Eukaryota;D_1__SAR;D_2__Alveolata;D_3__Ci...\n",
      "D_0__Eukaryota;D_1__SAR;D_2__Alveolata;D_3__Cil...  D_0__Eukaryota;D_1__SAR;D_2__Alveolata;D_3__Ci...\n",
      "D_0__Eukaryota;D_1__SAR;D_2__Alveolata;D_3__Cil...  D_0__Eukaryota;D_1__SAR;D_2__Alveolata;D_3__Ci...\n",
      "D_0__Eukaryota;D_1__SAR;D_2__Alveolata;D_3__Cil...  D_0__Eukaryota;D_1__SAR;D_2__Alveolata;D_3__Ci...\n",
      "D_0__Eukaryota;D_1__SAR;D_2__Alveolata;D_3__Cil...  D_0__Eukaryota;D_1__SAR;D_2__Alveolata;D_3__Ci...\n",
      "D_0__Eukaryota;D_1__SAR;D_2__Alveolata;D_3__Cil...  D_0__Eukaryota;D_1__SAR;D_2__Alveolata;D_3__Ci...\n",
      "D_0__Eukaryota;D_1__SAR;D_2__Alveolata;D_3__Cil...  D_0__Eukaryota;D_1__SAR;D_2__Alveolata;D_3__Ci...\n",
      "D_0__Eukaryota;D_1__SAR;D_2__Alveolata;D_3__Cil...  D_0__Eukaryota;D_1__SAR;D_2__Alveolata;D_3__Ci...\n",
      "D_0__Eukaryota;D_1__SAR;D_2__Alveolata;D_3__Cil...  D_0__Eukaryota;D_1__SAR;D_2__Alveolata;D_3__Ci...\n",
      "D_0__Eukaryota;D_1__SAR;D_2__Alveolata;D_3__Din...  D_0__Eukaryota;D_1__SAR;D_2__Alveolata;D_3__Di...\n",
      "D_0__Eukaryota;D_1__SAR;D_2__Alveolata;D_3__Pro...  D_0__Eukaryota;D_1__SAR;D_2__Alveolata;D_3__Pr...\n",
      "D_0__Eukaryota;D_1__SAR;D_2__Alveolata;__;__;__...  D_0__Eukaryota;D_1__SAR;D_2__Alveolata;__;__;_...\n",
      "D_0__Eukaryota;D_1__SAR;D_2__Rhizaria;D_3__Cerc...  D_0__Eukaryota;D_1__SAR;D_2__Rhizaria;D_3__Cer...\n",
      "D_0__Eukaryota;D_1__SAR;D_2__Rhizaria;D_3__Cerc...  D_0__Eukaryota;D_1__SAR;D_2__Rhizaria;D_3__Cer...\n",
      "D_0__Eukaryota;D_1__SAR;D_2__Rhizaria;D_3__Cerc...  D_0__Eukaryota;D_1__SAR;D_2__Rhizaria;D_3__Cer...\n",
      "D_0__Eukaryota;D_1__SAR;D_2__Rhizaria;D_3__Cerc...  D_0__Eukaryota;D_1__SAR;D_2__Rhizaria;D_3__Cer...\n",
      "D_0__Eukaryota;D_1__SAR;D_2__Rhizaria;D_3__Cerc...  D_0__Eukaryota;D_1__SAR;D_2__Rhizaria;D_3__Cer...\n",
      "D_0__Eukaryota;D_1__SAR;D_2__Rhizaria;D_3__Cerc...  D_0__Eukaryota;D_1__SAR;D_2__Rhizaria;D_3__Cer...\n",
      "D_0__Eukaryota;D_1__SAR;D_2__Rhizaria;D_3__Cerc...  D_0__Eukaryota;D_1__SAR;D_2__Rhizaria;D_3__Cer...\n",
      "D_0__Eukaryota;D_1__SAR;D_2__Rhizaria;D_3__Cerc...  D_0__Eukaryota;D_1__SAR;D_2__Rhizaria;D_3__Cer...\n",
      "D_0__Eukaryota;D_1__SAR;D_2__Rhizaria;D_3__Cerc...  D_0__Eukaryota;D_1__SAR;D_2__Rhizaria;D_3__Cer...\n",
      "D_0__Eukaryota;D_1__SAR;D_2__Rhizaria;D_3__Cerc...  D_0__Eukaryota;D_1__SAR;D_2__Rhizaria;D_3__Cer...\n",
      "D_0__Eukaryota;D_1__SAR;D_2__Rhizaria;D_3__Cerc...  D_0__Eukaryota;D_1__SAR;D_2__Rhizaria;D_3__Cer...\n",
      "D_0__Eukaryota;D_1__SAR;D_2__Rhizaria;D_3__Cerc...  D_0__Eukaryota;D_1__SAR;D_2__Rhizaria;D_3__Cer...\n",
      "D_0__Eukaryota;D_1__SAR;D_2__Rhizaria;D_3__Cerc...  D_0__Eukaryota;D_1__SAR;D_2__Rhizaria;D_3__Cer...\n",
      "D_0__Eukaryota;D_1__SAR;D_2__Rhizaria;D_3__Cerc...  D_0__Eukaryota;D_1__SAR;D_2__Rhizaria;D_3__Cer...\n",
      "D_0__Eukaryota;D_1__SAR;D_2__Rhizaria;D_3__Cerc...  D_0__Eukaryota;D_1__SAR;D_2__Rhizaria;D_3__Cer...\n",
      "D_0__Eukaryota;D_1__SAR;D_2__Rhizaria;D_3__Cerc...  D_0__Eukaryota;D_1__SAR;D_2__Rhizaria;D_3__Cer...\n",
      "D_0__Eukaryota;D_1__SAR;D_2__Rhizaria;D_3__Cerc...  D_0__Eukaryota;D_1__SAR;D_2__Rhizaria;D_3__Cer...\n",
      "D_0__Eukaryota;D_1__SAR;D_2__Rhizaria;D_3__Cerc...  D_0__Eukaryota;D_1__SAR;D_2__Rhizaria;D_3__Cer...\n",
      "D_0__Eukaryota;D_1__SAR;D_2__Rhizaria;D_3__Cerc...  D_0__Eukaryota;D_1__SAR;D_2__Rhizaria;D_3__Cer...\n",
      "D_0__Eukaryota;D_1__SAR;D_2__Rhizaria;D_3__Cerc...  D_0__Eukaryota;D_1__SAR;D_2__Rhizaria;D_3__Cer...\n",
      "D_0__Eukaryota;D_1__SAR;D_2__Rhizaria;D_3__Cerc...  D_0__Eukaryota;D_1__SAR;D_2__Rhizaria;D_3__Cer...\n",
      "D_0__Eukaryota;D_1__SAR;D_2__Rhizaria;D_3__Cerc...  D_0__Eukaryota;D_1__SAR;D_2__Rhizaria;D_3__Cer...\n",
      "D_0__Eukaryota;D_1__SAR;D_2__Rhizaria;D_3__Cerc...  D_0__Eukaryota;D_1__SAR;D_2__Rhizaria;D_3__Cer...\n",
      "D_0__Eukaryota;D_1__SAR;D_2__Rhizaria;D_3__Cerc...  D_0__Eukaryota;D_1__SAR;D_2__Rhizaria;D_3__Cer...\n",
      "D_0__Eukaryota;D_1__SAR;D_2__Rhizaria;D_3__Cerc...  D_0__Eukaryota;D_1__SAR;D_2__Rhizaria;D_3__Cer...\n",
      "D_0__Eukaryota;D_1__SAR;D_2__Rhizaria;D_3__Cerc...  D_0__Eukaryota;D_1__SAR;D_2__Rhizaria;D_3__Cer...\n",
      "D_0__Eukaryota;D_1__SAR;D_2__Rhizaria;D_3__Cerc...  D_0__Eukaryota;D_1__SAR;D_2__Rhizaria;D_3__Cer...\n",
      "D_0__Eukaryota;D_1__SAR;D_2__Rhizaria;D_3__Cerc...  D_0__Eukaryota;D_1__SAR;D_2__Rhizaria;D_3__Cer...\n",
      "D_0__Eukaryota;D_1__SAR;D_2__Rhizaria;D_3__Cerc...  D_0__Eukaryota;D_1__SAR;D_2__Rhizaria;D_3__Cer...\n",
      "D_0__Eukaryota;D_1__SAR;D_2__Rhizaria;D_3__Cerc...  D_0__Eukaryota;D_1__SAR;D_2__Rhizaria;D_3__Cer...\n",
      "D_0__Eukaryota;D_1__SAR;D_2__Rhizaria;D_3__Cerc...  D_0__Eukaryota;D_1__SAR;D_2__Rhizaria;D_3__Cer...\n",
      "D_0__Eukaryota;D_1__SAR;D_2__Rhizaria;D_3__Cerc...  D_0__Eukaryota;D_1__SAR;D_2__Rhizaria;D_3__Cer...\n",
      "D_0__Eukaryota;D_1__SAR;D_2__Stramenopiles;D_3_...  D_0__Eukaryota;D_1__SAR;D_2__Stramenopiles;D_3...\n",
      "D_0__Eukaryota;D_1__SAR;D_2__Stramenopiles;D_3_...  D_0__Eukaryota;D_1__SAR;D_2__Stramenopiles;D_3...\n",
      "D_0__Eukaryota;D_1__SAR;D_2__Stramenopiles;D_3_...  D_0__Eukaryota;D_1__SAR;D_2__Stramenopiles;D_3...\n",
      "D_0__Eukaryota;D_1__SAR;D_2__Stramenopiles;D_3_...  D_0__Eukaryota;D_1__SAR;D_2__Stramenopiles;D_3...\n",
      "D_0__Eukaryota;D_1__SAR;D_2__Stramenopiles;D_3_...  D_0__Eukaryota;D_1__SAR;D_2__Stramenopiles;D_3...\n",
      "D_0__Eukaryota;D_1__SAR;D_2__Stramenopiles;D_3_...  D_0__Eukaryota;D_1__SAR;D_2__Stramenopiles;D_3...\n",
      "D_0__Eukaryota;D_1__SAR;D_2__Stramenopiles;D_3_...  D_0__Eukaryota;D_1__SAR;D_2__Stramenopiles;D_3...\n",
      "D_0__Eukaryota;D_1__SAR;D_2__Stramenopiles;D_3_...  D_0__Eukaryota;D_1__SAR;D_2__Stramenopiles;D_3...\n",
      "D_0__Eukaryota;D_1__SAR;D_2__Stramenopiles;D_3_...  D_0__Eukaryota;D_1__SAR;D_2__Stramenopiles;D_3...\n",
      "D_0__Eukaryota;D_1__SAR;D_2__Stramenopiles;D_3_...  D_0__Eukaryota;D_1__SAR;D_2__Stramenopiles;D_3...\n",
      "D_0__Eukaryota;D_1__SAR;D_2__Stramenopiles;D_3_...  D_0__Eukaryota;D_1__SAR;D_2__Stramenopiles;D_3...\n",
      "D_0__Eukaryota;D_1__SAR;D_2__Stramenopiles;D_3_...  D_0__Eukaryota;D_1__SAR;D_2__Stramenopiles;D_3...\n",
      "D_0__Eukaryota;D_1__SAR;D_2__Stramenopiles;D_3_...  D_0__Eukaryota;D_1__SAR;D_2__Stramenopiles;D_3...\n",
      "D_0__Eukaryota;D_1__SAR;D_2__Stramenopiles;D_3_...  D_0__Eukaryota;D_1__SAR;D_2__Stramenopiles;D_3...\n",
      "D_0__Eukaryota;D_1__SAR;D_2__Stramenopiles;D_3_...  D_0__Eukaryota;D_1__SAR;D_2__Stramenopiles;D_3...\n",
      "D_0__Eukaryota;D_1__SAR;D_2__Stramenopiles;D_3_...  D_0__Eukaryota;D_1__SAR;D_2__Stramenopiles;D_3...\n",
      "D_0__Eukaryota;D_1__SAR;D_2__Stramenopiles;D_3_...  D_0__Eukaryota;D_1__SAR;D_2__Stramenopiles;D_3...\n",
      "D_0__Eukaryota;D_1__SAR;D_2__Stramenopiles;D_3_...  D_0__Eukaryota;D_1__SAR;D_2__Stramenopiles;D_3...\n",
      "D_0__Eukaryota;D_1__SAR;D_2__Stramenopiles;D_3_...  D_0__Eukaryota;D_1__SAR;D_2__Stramenopiles;D_3...\n",
      "D_0__Eukaryota;D_1__SAR;D_2__Stramenopiles;D_3_...  D_0__Eukaryota;D_1__SAR;D_2__Stramenopiles;D_3...\n",
      "D_0__Eukaryota;D_1__SAR;D_2__Stramenopiles;D_3_...  D_0__Eukaryota;D_1__SAR;D_2__Stramenopiles;D_3...\n",
      "D_0__Eukaryota;D_1__SAR;D_2__Stramenopiles;D_3_...  D_0__Eukaryota;D_1__SAR;D_2__Stramenopiles;D_3...\n",
      "D_0__Eukaryota;D_1__SAR;D_2__Stramenopiles;D_3_...  D_0__Eukaryota;D_1__SAR;D_2__Stramenopiles;D_3...\n",
      "D_0__Eukaryota;D_1__SAR;D_2__Stramenopiles;D_3_...  D_0__Eukaryota;D_1__SAR;D_2__Stramenopiles;D_3...\n",
      "D_0__Eukaryota;D_1__SAR;D_2__Stramenopiles;D_3_...  D_0__Eukaryota;D_1__SAR;D_2__Stramenopiles;D_3...\n",
      "D_0__Eukaryota;D_1__SAR;D_2__Stramenopiles;D_3_...  D_0__Eukaryota;D_1__SAR;D_2__Stramenopiles;D_3...\n",
      "D_0__Eukaryota;D_1__SAR;D_2__Stramenopiles;D_3_...  D_0__Eukaryota;D_1__SAR;D_2__Stramenopiles;D_3...\n",
      "D_0__Eukaryota;D_1__SAR;D_2__Stramenopiles;D_3_...  D_0__Eukaryota;D_1__SAR;D_2__Stramenopiles;D_3...\n",
      "D_0__Eukaryota;D_1__SAR;D_2__Stramenopiles;D_3_...  D_0__Eukaryota;D_1__SAR;D_2__Stramenopiles;D_3...\n",
      "D_0__Eukaryota;D_1__SAR;D_2__Stramenopiles;D_3_...  D_0__Eukaryota;D_1__SAR;D_2__Stramenopiles;D_3...\n",
      "D_0__Eukaryota;D_1__SAR;D_2__Stramenopiles;D_3_...  D_0__Eukaryota;D_1__SAR;D_2__Stramenopiles;D_3...\n",
      "D_0__Eukaryota;D_1__SAR;D_2__Stramenopiles;D_3_...  D_0__Eukaryota;D_1__SAR;D_2__Stramenopiles;D_3...\n",
      "D_0__Eukaryota;D_1__SAR;D_2__Stramenopiles;D_3_...  D_0__Eukaryota;D_1__SAR;D_2__Stramenopiles;D_3...\n",
      "D_0__Eukaryota;D_1__SAR;D_2__Stramenopiles;D_3_...  D_0__Eukaryota;D_1__SAR;D_2__Stramenopiles;D_3...\n",
      "D_0__Eukaryota;D_1__SAR;D_2__Stramenopiles;D_3_...  D_0__Eukaryota;D_1__SAR;D_2__Stramenopiles;D_3...\n",
      "D_0__Eukaryota;D_1__SAR;D_2__Stramenopiles;D_3_...  D_0__Eukaryota;D_1__SAR;D_2__Stramenopiles;D_3...\n",
      "D_0__Eukaryota;D_1__SAR;D_2__Stramenopiles;D_3_...  D_0__Eukaryota;D_1__SAR;D_2__Stramenopiles;D_3...\n",
      "D_0__Eukaryota;D_1__SAR;D_2__Stramenopiles;__;_...  D_0__Eukaryota;D_1__SAR;D_2__Stramenopiles;__;...\n",
      "D_0__Eukaryota;D_1__SAR;__;__;__;__;__;__;__;__...  D_0__Eukaryota;D_1__SAR;__;__;__;__;__;__;__;_...\n",
      "D_0__Eukaryota;__;__;__;__;__;__;__;__;__;__;__       D_0__Eukaryota;__;__;__;__;__;__;__;__;__;__;__\n"
     ]
    }
   ],
   "source": [
    "print(Summer_L12.feature_metadata)"
   ]
  },
  {
   "cell_type": "markdown",
   "metadata": {},
   "source": [
    "## Running the L12 model"
   ]
  },
  {
   "cell_type": "code",
   "execution_count": 18,
   "metadata": {},
   "outputs": [],
   "source": [
    "# groupKfold = 3, will leave out one body for each model\n",
    "gkf = GroupKFold(3)\n",
    "\n",
    "X = Summer_L12.data\n",
    "y = Summer_L12.sample_metadata['ADD']\n",
    "y = (y.astype(float))\n",
    "\n",
    "groups = Summer_L12.sample_metadata['host_subject_id']\n",
    "\n",
    "# used to test the param grid for parameter tuning\n",
    "# use the output of this estimator below for input into new estimator (not commented out)\n",
    "param_grid = {\"max_depth\": [4, 8, 16, None],\n",
    "              \"max_features\": ['sqrt', 'log2', 0.1],\n",
    "              \"min_samples_split\": [0.001, 0.01, 0.1],\n",
    "              \"min_weight_fraction_leaf\": [0.0001, 0.001, 0.01],\n",
    "              \"bootstrap\": [True, False]}\n",
    "\n",
    "#param_grid = {\"max_depth\": [8],\n",
    "#          \"max_features\": [0.1],\n",
    "#          \"min_samples_split\": [0.001],\n",
    "#          \"min_weight_fraction_leaf\": [0.0001],\n",
    "#          \"bootstrap\": [False]}\n",
    "\n",
    "rf = RandomForestRegressor(n_estimators=1000, random_state=999, criterion='mae')\n",
    "gs = GridSearchCV(rf, param_grid=param_grid, cv=gkf.split(X, y, groups), scoring='neg_mean_absolute_error', n_jobs=1)"
   ]
  },
  {
   "cell_type": "code",
   "execution_count": 19,
   "metadata": {},
   "outputs": [
    {
     "data": {
      "text/plain": [
       "GridSearchCV(cv=<generator object _BaseKFold.split at 0x120ec7750>,\n",
       "             error_score=nan,\n",
       "             estimator=RandomForestRegressor(bootstrap=True, ccp_alpha=0.0,\n",
       "                                             criterion='mae', max_depth=None,\n",
       "                                             max_features='auto',\n",
       "                                             max_leaf_nodes=None,\n",
       "                                             max_samples=None,\n",
       "                                             min_impurity_decrease=0.0,\n",
       "                                             min_impurity_split=None,\n",
       "                                             min_samples_leaf=1,\n",
       "                                             min_samples_split=2,\n",
       "                                             min_weight_fraction_leaf=0.0,\n",
       "                                             n_es...\n",
       "                                             oob_score=False, random_state=999,\n",
       "                                             verbose=0, warm_start=False),\n",
       "             iid='deprecated', n_jobs=1,\n",
       "             param_grid={'bootstrap': [True, False],\n",
       "                         'max_depth': [4, 8, 16, None],\n",
       "                         'max_features': ['sqrt', 'log2', 0.1],\n",
       "                         'min_samples_split': [0.001, 0.01, 0.1],\n",
       "                         'min_weight_fraction_leaf': [0.0001, 0.001, 0.01]},\n",
       "             pre_dispatch='2*n_jobs', refit=True, return_train_score=False,\n",
       "             scoring='neg_mean_absolute_error', verbose=0)"
      ]
     },
     "execution_count": 19,
     "metadata": {},
     "output_type": "execute_result"
    }
   ],
   "source": [
    "gs.fit(X, y)"
   ]
  },
  {
   "cell_type": "code",
   "execution_count": 20,
   "metadata": {},
   "outputs": [
    {
     "name": "stdout",
     "output_type": "stream",
     "text": [
      "{'bootstrap': False, 'max_depth': 4, 'max_features': 0.1, 'min_samples_split': 0.001, 'min_weight_fraction_leaf': 0.0001}\n"
     ]
    }
   ],
   "source": [
    "# this line is used when run with the first param grid to determine what the best parameters are for tuning\n",
    "print(gs.best_params_)"
   ]
  },
  {
   "cell_type": "code",
   "execution_count": 21,
   "metadata": {},
   "outputs": [
    {
     "name": "stdout",
     "output_type": "stream",
     "text": [
      "The best mean absolute error is 877.59\n"
     ]
    }
   ],
   "source": [
    "print('The best mean absolute error is', round(-gs.best_score_,2))"
   ]
  },
  {
   "cell_type": "code",
   "execution_count": 22,
   "metadata": {},
   "outputs": [
    {
     "data": {
      "text/plain": [
       "['models/bone_summer_18S_L12.pkl']"
      ]
     },
     "execution_count": 22,
     "metadata": {},
     "output_type": "execute_result"
    }
   ],
   "source": [
    "joblib.dump(gs.best_estimator_, 'models/bone_summer_18S_L12.pkl')"
   ]
  },
  {
   "cell_type": "code",
   "execution_count": 23,
   "metadata": {},
   "outputs": [
    {
     "data": {
      "text/plain": [
       "RandomForestRegressor(bootstrap=False, ccp_alpha=0.0, criterion='mae',\n",
       "                      max_depth=4, max_features=0.1, max_leaf_nodes=None,\n",
       "                      max_samples=None, min_impurity_decrease=0.0,\n",
       "                      min_impurity_split=None, min_samples_leaf=1,\n",
       "                      min_samples_split=0.001, min_weight_fraction_leaf=0.0001,\n",
       "                      n_estimators=1000, n_jobs=None, oob_score=False,\n",
       "                      random_state=999, verbose=0, warm_start=False)"
      ]
     },
     "execution_count": 23,
     "metadata": {},
     "output_type": "execute_result"
    }
   ],
   "source": [
    "bone_summer_L12 = joblib.load('models/bone_summer_18S_L12.pkl')\n",
    "bone_summer_L12"
   ]
  },
  {
   "cell_type": "markdown",
   "metadata": {},
   "source": [
    "## Determine important features of the summer L12 model"
   ]
  },
  {
   "cell_type": "code",
   "execution_count": 24,
   "metadata": {},
   "outputs": [
    {
     "name": "stdout",
     "output_type": "stream",
     "text": [
      "Feature:\t\t\t\tImportance:\n",
      "1. D_0__Eukaryota;D_1__Opisthokonta;D_2__Nucletmycea;D_3__Fungi;D_4__Dikarya;D_5__Ascomycota;D_6__Saccharomycotina;D_7__Saccharomycetes;D_8__Saccharomycetales;D_9__Dipodascaceae;D_10__Yarrowia;D_11__Yarrowia lipolytica\t0.06689861305175253\n",
      "2. D_0__Eukaryota;D_1__Opisthokonta;D_2__Nucletmycea;D_3__Fungi;D_4__Dikarya;D_5__Ascomycota;D_6__Pezizomycotina;D_7__Eurotiomycetes;__;__;__;__\t0.05596759443643954\n",
      "3. D_0__Eukaryota;D_1__Opisthokonta;D_2__Nucletmycea;D_3__Fungi;D_4__Dikarya;D_5__Ascomycota;D_6__Saccharomycotina;D_7__Saccharomycetes;D_8__Saccharomycetales;D_9__Incertae Sedis;D_10__Starmerella-Candida clade;D_11__[Candida] bombi\t0.05555132525027306\n",
      "4. D_0__Eukaryota;D_1__Amoebozoa;D_2__Tubulinea;D_3__Euamoebida;D_4__BOLA868;D_5__metagenome;D_6__;D_7__;D_8__;D_9__;D_10__;D_11__\t0.03828653024501245\n",
      "5. D_0__Eukaryota;D_1__Opisthokonta;D_2__Nucletmycea;D_3__Fungi;D_4__Dikarya;D_5__Ascomycota;D_6__Pezizomycotina;D_7__Sordariomycetes;D_8__Hypocreales;__;__;__\t0.0324249198093535\n",
      "6. D_0__Eukaryota;D_1__SAR;D_2__Alveolata;__;__;__;__;__;__;__;__;__\t0.030081099212918974\n",
      "7. D_0__Eukaryota;D_1__Opisthokonta;D_2__Holozoa;D_3__Metazoa (Animalia);D_4__Eumetazoa;D_5__Bilateria;D_6__Nematoda;D_7__Chromadorea;D_8__Rhabditida;D_9__Oscheius tipulae;D_10__;D_11__\t0.02951350773335699\n",
      "8. D_0__Eukaryota;D_1__SAR;D_2__Rhizaria;D_3__Cercozoa;D_4__Glissomonadida;D_5__Heteromita;D_6__metagenome;D_7__;D_8__;D_9__;D_10__;D_11__\t0.026420054941241992\n",
      "9. D_0__Eukaryota;D_1__Opisthokonta;D_2__Holozoa;D_3__Metazoa (Animalia);D_4__Eumetazoa;__;__;__;__;__;__;__\t0.026026089909826997\n",
      "10. D_0__Eukaryota;D_1__Opisthokonta;D_2__Nucletmycea;D_3__Fungi;D_4__Dikarya;D_5__Ascomycota;D_6__Saccharomycotina;D_7__Saccharomycetes;D_8__Saccharomycetales;D_9__Debaryomycetaceae;__;__\t0.024089477227717426\n",
      "11. D_0__Eukaryota;D_1__Opisthokonta;D_2__Nucletmycea;D_3__Fungi;D_4__Dikarya;D_5__Basidiomycota;D_6__Agaricomycotina;D_7__Tremellomycetes;D_8__Trichosporonales;D_9__Trichosporonaceae;D_10__Apiotrichum;D_11__Apiotrichum dulcitum\t0.018598465710394942\n",
      "12. D_0__Eukaryota;D_1__Opisthokonta;D_2__Nucletmycea;D_3__Fungi;D_4__Dikarya;D_5__Ascomycota;D_6__Saccharomycotina;D_7__Saccharomycetes;D_8__Saccharomycetales;D_9__Debaryomycetaceae;D_10__Candida-Lodderomyces clade;__\t0.018058624875815776\n",
      "13. D_0__Eukaryota;D_1__Opisthokonta;D_2__Nucletmycea;D_3__Fungi;__;__;__;__;__;__;__;__\t0.016602631654786808\n",
      "14. D_0__Eukaryota;D_1__SAR;D_2__Alveolata;D_3__Apicomplexa;D_4__Conoidasida;D_5__Gregarinasina;D_6__Eugregarinorida;__;__;__;__;__\t0.01594702571637968\n",
      "15. D_0__Eukaryota;D_1__Opisthokonta;D_2__Nucletmycea;D_3__Fungi;D_4__Dikarya;D_5__Ascomycota;D_6__Pezizomycotina;D_7__Laboulbeniomycetes;D_8__metagenome;D_9__;D_10__;D_11__\t0.015523585671281415\n",
      "16. D_0__Eukaryota;__;__;__;__;__;__;__;__;__;__;__\t0.015079330501378408\n",
      "17. D_0__Eukaryota;D_1__Opisthokonta;D_2__Nucletmycea;D_3__Fungi;D_4__Dikarya;D_5__Basidiomycota;D_6__Agaricomycotina;D_7__Agaricomycetes;D_8__Gomphales;D_9__Gomphaceae;D_10__Clavariadelphus;D_11__Clavariadelphus pistillaris\t0.01489471752823688\n",
      "18. D_0__Eukaryota;D_1__Opisthokonta;D_2__Nucletmycea;D_3__Fungi;D_4__Dikarya;D_5__Basidiomycota;__;__;__;__;__;__\t0.01312303587015405\n",
      "19. D_0__Eukaryota;D_1__Opisthokonta;D_2__Holozoa;__;__;__;__;__;__;__;__;__\t0.012844679176233898\n",
      "20. D_0__Eukaryota;D_1__Opisthokonta;D_2__Nucletmycea;D_3__Fungi;D_4__Dikarya;D_5__Ascomycota;D_6__Pezizomycotina;D_7__Eurotiomycetes;D_8__Chaetothyriales;D_9__Herpotrichiellaceae;__;__\t0.012352063500542958\n",
      "21. D_0__Eukaryota;D_1__Opisthokonta;D_2__Nucletmycea;D_3__Fungi;D_4__Dikarya;D_5__Basidiomycota;D_6__Agaricomycotina;D_7__Tremellomycetes;D_8__Trichosporonales;D_9__Trichosporonaceae;__;__\t0.011491840278271484\n",
      "22. D_0__Eukaryota;D_1__Opisthokonta;D_2__Nucletmycea;D_3__Fungi;D_4__Dikarya;D_5__Basidiomycota;D_6__Agaricomycotina;D_7__Tremellomycetes;D_8__Trichosporonales;D_9__Trichosporonaceae;D_10__Apiotrichum;__\t0.011411397450615505\n",
      "23. D_0__Eukaryota;D_1__Opisthokonta;D_2__Nucletmycea;D_3__Fungi;D_4__Dikarya;D_5__Ascomycota;D_6__Pezizomycotina;D_7__Pezizomycetes;D_8__Pezizales;D_9__Tuberaceae;D_10__Tuber;D_11__Tuber melanosporum (Perigord truffle)\t0.01090868008124379\n",
      "24. D_0__Eukaryota;D_1__Opisthokonta;D_2__Holozoa;D_3__Metazoa (Animalia);__;__;__;__;__;__;__;__\t0.010601524408323121\n",
      "25. D_0__Eukaryota;D_1__Opisthokonta;D_2__Nucletmycea;D_3__Fungi;D_4__Dikarya;D_5__Basidiomycota;D_6__Agaricomycotina;D_7__Agaricomycetes;__;__;__;__\t0.010099588138441409\n"
     ]
    }
   ],
   "source": [
    "importances = bone_summer_L12.feature_importances_\n",
    "std = np.std([tree.feature_importances_ for tree in bone_summer_L12.estimators_],\n",
    "             axis=0)\n",
    "indices = np.argsort(importances)[::-1]\n",
    "\n",
    "feature_metadata = Summer_L12.feature_metadata\n",
    "np.savetxt(\"importances/bone_summer_18S_L12_features.csv\", feature_metadata, delimiter=\",\", fmt='%s')\n",
    "\n",
    "\n",
    "#print the important ids in order\n",
    "general_importances = []\n",
    "count = 0\n",
    "print(\"Feature:\\t\\t\\t\\tImportance:\")\n",
    "for i in indices:\n",
    "    general_importances += (Summer_L12.feature_metadata.index.values[i], importances[indices[count]])\n",
    "    if count < 25:\n",
    "        print(str(count+1)+\". \"+str(Summer_L12.feature_metadata.index.values[i])+\"\\t\"+str(importances[indices[count]]))\n",
    "    count += 1\n",
    "    \n",
    "general_importances_df = pd.DataFrame(np.array(general_importances).reshape(664,1))\n",
    "\n",
    "np.savetxt(\"importances/bone_summer_18S_L12_importances.csv\", general_importances_df, delimiter=\",\", fmt='%s')"
   ]
  },
  {
   "cell_type": "markdown",
   "metadata": {},
   "source": [
    "## Import rarefied data collapsed at level 11"
   ]
  },
  {
   "cell_type": "code",
   "execution_count": 25,
   "metadata": {},
   "outputs": [
    {
     "name": "stdout",
     "output_type": "stream",
     "text": [
      "2020-07-02 12:20:56 WARNING These have metadata but do not have data - dropped (59): {'STAFS.2016.065.L10', 'CSU.extraction.blank11', 'STAFS.2016.065.L11', 'BLANK52.9A', 'BLANK52.9H', 'CSU.extraction.blank1', 'BLANK52.9C', 'BLANK52.10D', 'BLANK52.12A', 'CSU.extraction.blank12', 'CSU.extraction.blank6', 'CSU.extraction.blank4', 'CSU.extraction.blank8', 'CSU.extraction.blank13', 'BLANK52.11D', 'BLANK52.12B', 'BLANK52.9G', 'CSU.extraction.blank10', 'CSU.extraction.blank2', 'BLANK52.11F', 'BLANK52.5B', 'BLANK52.10F', 'BLANK52.11C', 'CSU.extraction.blank14', 'BLANK52.10B', 'SHSU.STAFS2016.011.L09', 'BLANK52.9B', 'STAFS.2016.065.L09', 'BLANK52.10G', 'BLANK52.11A', 'BLANK52.12D', 'BLANK52.10E', 'SHSU.STAFS2016.024.L10', 'CSU.extraction.blank15', 'BLANK52.12F', 'BLANK52.9F', 'BLANK52.11B', 'STAFS.2016.064.R09', 'BLANK52.10A', 'SHSU.STAFS2016.007.L09', 'CSU.extraction.blank9', '#q2:types', 'SHSU.STAFS2016.007.R10', 'BLANK52.11E', 'BLANK52.12G', 'BLANK52.9D', 'BLANK52.11H', 'BLANK52.11G', 'BLANK52.12E', 'BLANK52.12H', 'STAFS.2016.067.R12', 'BLANK52.10H', 'CSU.extraction.blank5', 'BLANK52.10C', 'CSU.extraction.blank3', 'CSU.extraction.blank7', 'STAFS.2016.067.L11.march', 'BLANK52.12C', 'BLANK52.9E'}\n"
     ]
    }
   ],
   "source": [
    "exp_L11 = ca.read_amplicon('/Users/heatherdeel/Dropbox/PMI_3_analyses/bone/02_18S/Hiseq_original_run/forward_reads_only/01_qiime2_analysis/03_feature_tables/collapsed_tables/18S_plate52_ribonly_table_full_taxfiltered_214940_L11.biom', '/Users/heatherdeel/Dropbox/PMI_3_analyses/bone/02_18S/Hiseq_original_run/forward_reads_only/02_metadata/map_18S.txt', min_reads=0, normalize=None)\n"
   ]
  },
  {
   "cell_type": "code",
   "execution_count": 26,
   "metadata": {},
   "outputs": [
    {
     "data": {
      "text/plain": [
       "STAFS2016.064    7\n",
       "STAFS2016.067    6\n",
       "STAFS2016.065    5\n",
       "Name: host_subject_id, dtype: int64"
      ]
     },
     "execution_count": 26,
     "metadata": {},
     "output_type": "execute_result"
    }
   ],
   "source": [
    "#filtering out spring and defining this as \"Summer\"\n",
    "Summer_L11 = exp_L11.filter_samples('season', 'summer')\n",
    "Summer_L11.sample_metadata.host_subject_id.value_counts()"
   ]
  },
  {
   "cell_type": "code",
   "execution_count": 27,
   "metadata": {},
   "outputs": [
    {
     "name": "stdout",
     "output_type": "stream",
     "text": [
      "                                                                                          _feature_id\n",
      "D_0__Eukaryota;D_1__Amoebozoa;D_2__Cavosteliida...  D_0__Eukaryota;D_1__Amoebozoa;D_2__Cavosteliid...\n",
      "D_0__Eukaryota;D_1__Amoebozoa;D_2__Dictyostelia...  D_0__Eukaryota;D_1__Amoebozoa;D_2__Dictyosteli...\n",
      "D_0__Eukaryota;D_1__Amoebozoa;D_2__Discosea;D_3...  D_0__Eukaryota;D_1__Amoebozoa;D_2__Discosea;D_...\n",
      "D_0__Eukaryota;D_1__Amoebozoa;D_2__Discosea;D_3...  D_0__Eukaryota;D_1__Amoebozoa;D_2__Discosea;D_...\n",
      "D_0__Eukaryota;D_1__Amoebozoa;D_2__Discosea;D_3...  D_0__Eukaryota;D_1__Amoebozoa;D_2__Discosea;D_...\n",
      "D_0__Eukaryota;D_1__Amoebozoa;D_2__Discosea;D_3...  D_0__Eukaryota;D_1__Amoebozoa;D_2__Discosea;D_...\n",
      "D_0__Eukaryota;D_1__Amoebozoa;D_2__Discosea;D_3...  D_0__Eukaryota;D_1__Amoebozoa;D_2__Discosea;D_...\n",
      "D_0__Eukaryota;D_1__Amoebozoa;D_2__Discosea;D_3...  D_0__Eukaryota;D_1__Amoebozoa;D_2__Discosea;D_...\n",
      "D_0__Eukaryota;D_1__Amoebozoa;D_2__Discosea;D_3...  D_0__Eukaryota;D_1__Amoebozoa;D_2__Discosea;D_...\n",
      "D_0__Eukaryota;D_1__Amoebozoa;D_2__Gracilipodid...  D_0__Eukaryota;D_1__Amoebozoa;D_2__Gracilipodi...\n",
      "D_0__Eukaryota;D_1__Amoebozoa;D_2__Incertae Sed...  D_0__Eukaryota;D_1__Amoebozoa;D_2__Incertae Se...\n",
      "D_0__Eukaryota;D_1__Amoebozoa;D_2__Mycamoeba;D_...  D_0__Eukaryota;D_1__Amoebozoa;D_2__Mycamoeba;D...\n",
      "D_0__Eukaryota;D_1__Amoebozoa;D_2__Myxogastria;...  D_0__Eukaryota;D_1__Amoebozoa;D_2__Myxogastria...\n",
      "D_0__Eukaryota;D_1__Amoebozoa;D_2__Myxogastria;...  D_0__Eukaryota;D_1__Amoebozoa;D_2__Myxogastria...\n",
      "D_0__Eukaryota;D_1__Amoebozoa;D_2__Schizoplasmo...  D_0__Eukaryota;D_1__Amoebozoa;D_2__Schizoplasm...\n",
      "D_0__Eukaryota;D_1__Amoebozoa;D_2__Schizoplasmo...  D_0__Eukaryota;D_1__Amoebozoa;D_2__Schizoplasm...\n",
      "D_0__Eukaryota;D_1__Amoebozoa;D_2__Tubulinea;D_...  D_0__Eukaryota;D_1__Amoebozoa;D_2__Tubulinea;D...\n",
      "D_0__Eukaryota;D_1__Amoebozoa;D_2__Tubulinea;D_...  D_0__Eukaryota;D_1__Amoebozoa;D_2__Tubulinea;D...\n",
      "D_0__Eukaryota;D_1__Amoebozoa;D_2__Tubulinea;D_...  D_0__Eukaryota;D_1__Amoebozoa;D_2__Tubulinea;D...\n",
      "D_0__Eukaryota;D_1__Amoebozoa;D_2__Tubulinea;D_...  D_0__Eukaryota;D_1__Amoebozoa;D_2__Tubulinea;D...\n",
      "D_0__Eukaryota;D_1__Amoebozoa;D_2__Tubulinea;D_...  D_0__Eukaryota;D_1__Amoebozoa;D_2__Tubulinea;D...\n",
      "D_0__Eukaryota;D_1__Amoebozoa;D_2__Tubulinea;D_...  D_0__Eukaryota;D_1__Amoebozoa;D_2__Tubulinea;D...\n",
      "D_0__Eukaryota;D_1__Amoebozoa;D_2__Tubulinea;D_...  D_0__Eukaryota;D_1__Amoebozoa;D_2__Tubulinea;D...\n",
      "D_0__Eukaryota;D_1__Amoebozoa;D_2__Tubulinea;D_...  D_0__Eukaryota;D_1__Amoebozoa;D_2__Tubulinea;D...\n",
      "D_0__Eukaryota;D_1__Amoebozoa;D_2__Tubulinea;__...  D_0__Eukaryota;D_1__Amoebozoa;D_2__Tubulinea;_...\n",
      "D_0__Eukaryota;D_1__Amoebozoa;D_2__metagenome;D...  D_0__Eukaryota;D_1__Amoebozoa;D_2__metagenome;...\n",
      "D_0__Eukaryota;D_1__Amoebozoa;D_2__uncultured;D...  D_0__Eukaryota;D_1__Amoebozoa;D_2__uncultured;...\n",
      "D_0__Eukaryota;D_1__Cryptophyceae;D_2__Cryptomo...  D_0__Eukaryota;D_1__Cryptophyceae;D_2__Cryptom...\n",
      "D_0__Eukaryota;D_1__Excavata;D_2__Discoba;D_3__...  D_0__Eukaryota;D_1__Excavata;D_2__Discoba;D_3_...\n",
      "D_0__Eukaryota;D_1__Excavata;D_2__Discoba;D_3__...  D_0__Eukaryota;D_1__Excavata;D_2__Discoba;D_3_...\n",
      "D_0__Eukaryota;D_1__Excavata;D_2__Discoba;D_3__...  D_0__Eukaryota;D_1__Excavata;D_2__Discoba;D_3_...\n",
      "D_0__Eukaryota;D_1__Excavata;D_2__Discoba;D_3__...  D_0__Eukaryota;D_1__Excavata;D_2__Discoba;D_3_...\n",
      "D_0__Eukaryota;D_1__Excavata;D_2__Discoba;D_3__...  D_0__Eukaryota;D_1__Excavata;D_2__Discoba;D_3_...\n",
      "D_0__Eukaryota;D_1__Excavata;D_2__Discoba;D_3__...  D_0__Eukaryota;D_1__Excavata;D_2__Discoba;D_3_...\n",
      "D_0__Eukaryota;D_1__Excavata;D_2__Discoba;D_3__...  D_0__Eukaryota;D_1__Excavata;D_2__Discoba;D_3_...\n",
      "D_0__Eukaryota;D_1__Excavata;D_2__Discoba;D_3__...  D_0__Eukaryota;D_1__Excavata;D_2__Discoba;D_3_...\n",
      "D_0__Eukaryota;D_1__Excavata;D_2__Discoba;D_3__...  D_0__Eukaryota;D_1__Excavata;D_2__Discoba;D_3_...\n",
      "D_0__Eukaryota;D_1__Excavata;D_2__Discoba;D_3__...  D_0__Eukaryota;D_1__Excavata;D_2__Discoba;D_3_...\n",
      "D_0__Eukaryota;D_1__Excavata;D_2__Discoba;D_3__...  D_0__Eukaryota;D_1__Excavata;D_2__Discoba;D_3_...\n",
      "D_0__Eukaryota;D_1__Excavata;D_2__Discoba;D_3__...  D_0__Eukaryota;D_1__Excavata;D_2__Discoba;D_3_...\n",
      "D_0__Eukaryota;D_1__Excavata;D_2__Discoba;D_3__...  D_0__Eukaryota;D_1__Excavata;D_2__Discoba;D_3_...\n",
      "D_0__Eukaryota;D_1__Excavata;D_2__Discoba;D_3__...  D_0__Eukaryota;D_1__Excavata;D_2__Discoba;D_3_...\n",
      "D_0__Eukaryota;D_1__Excavata;D_2__Discoba;D_3__...  D_0__Eukaryota;D_1__Excavata;D_2__Discoba;D_3_...\n",
      "D_0__Eukaryota;D_1__Excavata;D_2__Discoba;D_3__...  D_0__Eukaryota;D_1__Excavata;D_2__Discoba;D_3_...\n",
      "D_0__Eukaryota;D_1__Excavata;D_2__Discoba;D_3__...  D_0__Eukaryota;D_1__Excavata;D_2__Discoba;D_3_...\n",
      "D_0__Eukaryota;D_1__Excavata;D_2__Discoba;D_3__...  D_0__Eukaryota;D_1__Excavata;D_2__Discoba;D_3_...\n",
      "D_0__Eukaryota;D_1__Excavata;D_2__Discoba;D_3__...  D_0__Eukaryota;D_1__Excavata;D_2__Discoba;D_3_...\n",
      "D_0__Eukaryota;D_1__Excavata;D_2__Discoba;D_3__...  D_0__Eukaryota;D_1__Excavata;D_2__Discoba;D_3_...\n",
      "D_0__Eukaryota;D_1__Excavata;D_2__Discoba;D_3__...  D_0__Eukaryota;D_1__Excavata;D_2__Discoba;D_3_...\n",
      "D_0__Eukaryota;D_1__Excavata;D_2__Discoba;D_3__...  D_0__Eukaryota;D_1__Excavata;D_2__Discoba;D_3_...\n",
      "D_0__Eukaryota;D_1__Excavata;D_2__Discoba;D_3__...  D_0__Eukaryota;D_1__Excavata;D_2__Discoba;D_3_...\n",
      "D_0__Eukaryota;D_1__Excavata;D_2__Discoba;D_3__...  D_0__Eukaryota;D_1__Excavata;D_2__Discoba;D_3_...\n",
      "D_0__Eukaryota;D_1__Excavata;D_2__Metamonada;D_...  D_0__Eukaryota;D_1__Excavata;D_2__Metamonada;D...\n",
      "D_0__Eukaryota;D_1__Excavata;D_2__Metamonada;D_...  D_0__Eukaryota;D_1__Excavata;D_2__Metamonada;D...\n",
      "D_0__Eukaryota;D_1__Opisthokonta;D_2__Holozoa;D...  D_0__Eukaryota;D_1__Opisthokonta;D_2__Holozoa;...\n",
      "D_0__Eukaryota;D_1__Opisthokonta;D_2__Holozoa;D...  D_0__Eukaryota;D_1__Opisthokonta;D_2__Holozoa;...\n",
      "D_0__Eukaryota;D_1__Opisthokonta;D_2__Holozoa;D...  D_0__Eukaryota;D_1__Opisthokonta;D_2__Holozoa;...\n",
      "D_0__Eukaryota;D_1__Opisthokonta;D_2__Holozoa;D...  D_0__Eukaryota;D_1__Opisthokonta;D_2__Holozoa;...\n",
      "D_0__Eukaryota;D_1__Opisthokonta;D_2__Holozoa;D...  D_0__Eukaryota;D_1__Opisthokonta;D_2__Holozoa;...\n",
      "D_0__Eukaryota;D_1__Opisthokonta;D_2__Holozoa;D...  D_0__Eukaryota;D_1__Opisthokonta;D_2__Holozoa;...\n",
      "D_0__Eukaryota;D_1__Opisthokonta;D_2__Holozoa;D...  D_0__Eukaryota;D_1__Opisthokonta;D_2__Holozoa;...\n",
      "D_0__Eukaryota;D_1__Opisthokonta;D_2__Holozoa;D...  D_0__Eukaryota;D_1__Opisthokonta;D_2__Holozoa;...\n",
      "D_0__Eukaryota;D_1__Opisthokonta;D_2__Holozoa;D...  D_0__Eukaryota;D_1__Opisthokonta;D_2__Holozoa;...\n",
      "D_0__Eukaryota;D_1__Opisthokonta;D_2__Holozoa;D...  D_0__Eukaryota;D_1__Opisthokonta;D_2__Holozoa;...\n",
      "D_0__Eukaryota;D_1__Opisthokonta;D_2__Holozoa;D...  D_0__Eukaryota;D_1__Opisthokonta;D_2__Holozoa;...\n",
      "D_0__Eukaryota;D_1__Opisthokonta;D_2__Holozoa;D...  D_0__Eukaryota;D_1__Opisthokonta;D_2__Holozoa;...\n",
      "D_0__Eukaryota;D_1__Opisthokonta;D_2__Holozoa;D...  D_0__Eukaryota;D_1__Opisthokonta;D_2__Holozoa;...\n",
      "D_0__Eukaryota;D_1__Opisthokonta;D_2__Holozoa;D...  D_0__Eukaryota;D_1__Opisthokonta;D_2__Holozoa;...\n",
      "D_0__Eukaryota;D_1__Opisthokonta;D_2__Holozoa;D...  D_0__Eukaryota;D_1__Opisthokonta;D_2__Holozoa;...\n",
      "D_0__Eukaryota;D_1__Opisthokonta;D_2__Holozoa;D...  D_0__Eukaryota;D_1__Opisthokonta;D_2__Holozoa;...\n",
      "D_0__Eukaryota;D_1__Opisthokonta;D_2__Holozoa;D...  D_0__Eukaryota;D_1__Opisthokonta;D_2__Holozoa;...\n",
      "D_0__Eukaryota;D_1__Opisthokonta;D_2__Holozoa;D...  D_0__Eukaryota;D_1__Opisthokonta;D_2__Holozoa;...\n",
      "D_0__Eukaryota;D_1__Opisthokonta;D_2__Holozoa;D...  D_0__Eukaryota;D_1__Opisthokonta;D_2__Holozoa;...\n",
      "D_0__Eukaryota;D_1__Opisthokonta;D_2__Holozoa;_...  D_0__Eukaryota;D_1__Opisthokonta;D_2__Holozoa;...\n",
      "D_0__Eukaryota;D_1__Opisthokonta;D_2__Nucletmyc...  D_0__Eukaryota;D_1__Opisthokonta;D_2__Nucletmy...\n",
      "D_0__Eukaryota;D_1__Opisthokonta;D_2__Nucletmyc...  D_0__Eukaryota;D_1__Opisthokonta;D_2__Nucletmy...\n",
      "D_0__Eukaryota;D_1__Opisthokonta;D_2__Nucletmyc...  D_0__Eukaryota;D_1__Opisthokonta;D_2__Nucletmy...\n",
      "D_0__Eukaryota;D_1__Opisthokonta;D_2__Nucletmyc...  D_0__Eukaryota;D_1__Opisthokonta;D_2__Nucletmy...\n",
      "D_0__Eukaryota;D_1__Opisthokonta;D_2__Nucletmyc...  D_0__Eukaryota;D_1__Opisthokonta;D_2__Nucletmy...\n",
      "D_0__Eukaryota;D_1__Opisthokonta;D_2__Nucletmyc...  D_0__Eukaryota;D_1__Opisthokonta;D_2__Nucletmy...\n",
      "D_0__Eukaryota;D_1__Opisthokonta;D_2__Nucletmyc...  D_0__Eukaryota;D_1__Opisthokonta;D_2__Nucletmy...\n",
      "D_0__Eukaryota;D_1__Opisthokonta;D_2__Nucletmyc...  D_0__Eukaryota;D_1__Opisthokonta;D_2__Nucletmy...\n",
      "D_0__Eukaryota;D_1__Opisthokonta;D_2__Nucletmyc...  D_0__Eukaryota;D_1__Opisthokonta;D_2__Nucletmy...\n",
      "D_0__Eukaryota;D_1__Opisthokonta;D_2__Nucletmyc...  D_0__Eukaryota;D_1__Opisthokonta;D_2__Nucletmy...\n",
      "D_0__Eukaryota;D_1__Opisthokonta;D_2__Nucletmyc...  D_0__Eukaryota;D_1__Opisthokonta;D_2__Nucletmy...\n",
      "D_0__Eukaryota;D_1__Opisthokonta;D_2__Nucletmyc...  D_0__Eukaryota;D_1__Opisthokonta;D_2__Nucletmy...\n",
      "D_0__Eukaryota;D_1__Opisthokonta;D_2__Nucletmyc...  D_0__Eukaryota;D_1__Opisthokonta;D_2__Nucletmy...\n",
      "D_0__Eukaryota;D_1__Opisthokonta;D_2__Nucletmyc...  D_0__Eukaryota;D_1__Opisthokonta;D_2__Nucletmy...\n",
      "D_0__Eukaryota;D_1__Opisthokonta;D_2__Nucletmyc...  D_0__Eukaryota;D_1__Opisthokonta;D_2__Nucletmy...\n",
      "D_0__Eukaryota;D_1__Opisthokonta;D_2__Nucletmyc...  D_0__Eukaryota;D_1__Opisthokonta;D_2__Nucletmy...\n",
      "D_0__Eukaryota;D_1__Opisthokonta;D_2__Nucletmyc...  D_0__Eukaryota;D_1__Opisthokonta;D_2__Nucletmy...\n",
      "D_0__Eukaryota;D_1__Opisthokonta;D_2__Nucletmyc...  D_0__Eukaryota;D_1__Opisthokonta;D_2__Nucletmy...\n",
      "D_0__Eukaryota;D_1__Opisthokonta;D_2__Nucletmyc...  D_0__Eukaryota;D_1__Opisthokonta;D_2__Nucletmy...\n",
      "D_0__Eukaryota;D_1__Opisthokonta;D_2__Nucletmyc...  D_0__Eukaryota;D_1__Opisthokonta;D_2__Nucletmy...\n",
      "D_0__Eukaryota;D_1__Opisthokonta;D_2__Nucletmyc...  D_0__Eukaryota;D_1__Opisthokonta;D_2__Nucletmy...\n",
      "D_0__Eukaryota;D_1__Opisthokonta;D_2__Nucletmyc...  D_0__Eukaryota;D_1__Opisthokonta;D_2__Nucletmy...\n",
      "D_0__Eukaryota;D_1__Opisthokonta;D_2__Nucletmyc...  D_0__Eukaryota;D_1__Opisthokonta;D_2__Nucletmy...\n",
      "D_0__Eukaryota;D_1__Opisthokonta;D_2__Nucletmyc...  D_0__Eukaryota;D_1__Opisthokonta;D_2__Nucletmy...\n",
      "D_0__Eukaryota;D_1__Opisthokonta;D_2__Nucletmyc...  D_0__Eukaryota;D_1__Opisthokonta;D_2__Nucletmy...\n",
      "D_0__Eukaryota;D_1__Opisthokonta;D_2__Nucletmyc...  D_0__Eukaryota;D_1__Opisthokonta;D_2__Nucletmy...\n",
      "D_0__Eukaryota;D_1__Opisthokonta;D_2__Nucletmyc...  D_0__Eukaryota;D_1__Opisthokonta;D_2__Nucletmy...\n",
      "D_0__Eukaryota;D_1__Opisthokonta;D_2__Nucletmyc...  D_0__Eukaryota;D_1__Opisthokonta;D_2__Nucletmy...\n",
      "D_0__Eukaryota;D_1__Opisthokonta;D_2__Nucletmyc...  D_0__Eukaryota;D_1__Opisthokonta;D_2__Nucletmy...\n",
      "D_0__Eukaryota;D_1__Opisthokonta;D_2__Nucletmyc...  D_0__Eukaryota;D_1__Opisthokonta;D_2__Nucletmy...\n",
      "D_0__Eukaryota;D_1__Opisthokonta;D_2__Nucletmyc...  D_0__Eukaryota;D_1__Opisthokonta;D_2__Nucletmy...\n",
      "D_0__Eukaryota;D_1__Opisthokonta;D_2__Nucletmyc...  D_0__Eukaryota;D_1__Opisthokonta;D_2__Nucletmy...\n",
      "D_0__Eukaryota;D_1__Opisthokonta;D_2__Nucletmyc...  D_0__Eukaryota;D_1__Opisthokonta;D_2__Nucletmy...\n",
      "D_0__Eukaryota;D_1__Opisthokonta;D_2__Nucletmyc...  D_0__Eukaryota;D_1__Opisthokonta;D_2__Nucletmy...\n",
      "D_0__Eukaryota;D_1__Opisthokonta;D_2__Nucletmyc...  D_0__Eukaryota;D_1__Opisthokonta;D_2__Nucletmy...\n",
      "D_0__Eukaryota;D_1__Opisthokonta;D_2__Nucletmyc...  D_0__Eukaryota;D_1__Opisthokonta;D_2__Nucletmy...\n",
      "D_0__Eukaryota;D_1__Opisthokonta;D_2__Nucletmyc...  D_0__Eukaryota;D_1__Opisthokonta;D_2__Nucletmy...\n",
      "D_0__Eukaryota;D_1__Opisthokonta;D_2__Nucletmyc...  D_0__Eukaryota;D_1__Opisthokonta;D_2__Nucletmy...\n",
      "D_0__Eukaryota;D_1__Opisthokonta;D_2__Nucletmyc...  D_0__Eukaryota;D_1__Opisthokonta;D_2__Nucletmy...\n",
      "D_0__Eukaryota;D_1__Opisthokonta;D_2__Nucletmyc...  D_0__Eukaryota;D_1__Opisthokonta;D_2__Nucletmy...\n",
      "D_0__Eukaryota;D_1__Opisthokonta;D_2__Nucletmyc...  D_0__Eukaryota;D_1__Opisthokonta;D_2__Nucletmy...\n",
      "D_0__Eukaryota;D_1__Opisthokonta;D_2__Nucletmyc...  D_0__Eukaryota;D_1__Opisthokonta;D_2__Nucletmy...\n",
      "D_0__Eukaryota;D_1__Opisthokonta;D_2__Nucletmyc...  D_0__Eukaryota;D_1__Opisthokonta;D_2__Nucletmy...\n",
      "D_0__Eukaryota;D_1__Opisthokonta;D_2__Nucletmyc...  D_0__Eukaryota;D_1__Opisthokonta;D_2__Nucletmy...\n",
      "D_0__Eukaryota;D_1__Opisthokonta;D_2__Nucletmyc...  D_0__Eukaryota;D_1__Opisthokonta;D_2__Nucletmy...\n",
      "D_0__Eukaryota;D_1__Opisthokonta;D_2__Nucletmyc...  D_0__Eukaryota;D_1__Opisthokonta;D_2__Nucletmy...\n",
      "D_0__Eukaryota;D_1__Opisthokonta;D_2__Nucletmyc...  D_0__Eukaryota;D_1__Opisthokonta;D_2__Nucletmy...\n",
      "D_0__Eukaryota;D_1__Opisthokonta;D_2__Nucletmyc...  D_0__Eukaryota;D_1__Opisthokonta;D_2__Nucletmy...\n",
      "D_0__Eukaryota;D_1__Opisthokonta;D_2__Nucletmyc...  D_0__Eukaryota;D_1__Opisthokonta;D_2__Nucletmy...\n",
      "D_0__Eukaryota;D_1__Opisthokonta;D_2__Nucletmyc...  D_0__Eukaryota;D_1__Opisthokonta;D_2__Nucletmy...\n",
      "D_0__Eukaryota;D_1__Opisthokonta;D_2__Nucletmyc...  D_0__Eukaryota;D_1__Opisthokonta;D_2__Nucletmy...\n",
      "D_0__Eukaryota;D_1__Opisthokonta;D_2__Nucletmyc...  D_0__Eukaryota;D_1__Opisthokonta;D_2__Nucletmy...\n",
      "D_0__Eukaryota;D_1__Opisthokonta;D_2__Nucletmyc...  D_0__Eukaryota;D_1__Opisthokonta;D_2__Nucletmy...\n",
      "D_0__Eukaryota;D_1__Opisthokonta;D_2__Nucletmyc...  D_0__Eukaryota;D_1__Opisthokonta;D_2__Nucletmy...\n",
      "D_0__Eukaryota;D_1__Opisthokonta;D_2__Nucletmyc...  D_0__Eukaryota;D_1__Opisthokonta;D_2__Nucletmy...\n",
      "D_0__Eukaryota;D_1__Opisthokonta;D_2__Nucletmyc...  D_0__Eukaryota;D_1__Opisthokonta;D_2__Nucletmy...\n",
      "D_0__Eukaryota;D_1__Opisthokonta;D_2__Nucletmyc...  D_0__Eukaryota;D_1__Opisthokonta;D_2__Nucletmy...\n",
      "D_0__Eukaryota;D_1__Opisthokonta;D_2__Nucletmyc...  D_0__Eukaryota;D_1__Opisthokonta;D_2__Nucletmy...\n",
      "D_0__Eukaryota;D_1__Opisthokonta;D_2__Nucletmyc...  D_0__Eukaryota;D_1__Opisthokonta;D_2__Nucletmy...\n",
      "D_0__Eukaryota;D_1__Opisthokonta;D_2__Nucletmyc...  D_0__Eukaryota;D_1__Opisthokonta;D_2__Nucletmy...\n",
      "D_0__Eukaryota;D_1__Opisthokonta;D_2__Nucletmyc...  D_0__Eukaryota;D_1__Opisthokonta;D_2__Nucletmy...\n",
      "D_0__Eukaryota;D_1__Opisthokonta;D_2__Nucletmyc...  D_0__Eukaryota;D_1__Opisthokonta;D_2__Nucletmy...\n",
      "D_0__Eukaryota;D_1__Opisthokonta;D_2__Nucletmyc...  D_0__Eukaryota;D_1__Opisthokonta;D_2__Nucletmy...\n",
      "D_0__Eukaryota;D_1__Opisthokonta;D_2__Nucletmyc...  D_0__Eukaryota;D_1__Opisthokonta;D_2__Nucletmy...\n",
      "D_0__Eukaryota;D_1__Opisthokonta;D_2__Nucletmyc...  D_0__Eukaryota;D_1__Opisthokonta;D_2__Nucletmy...\n",
      "D_0__Eukaryota;D_1__Opisthokonta;D_2__Nucletmyc...  D_0__Eukaryota;D_1__Opisthokonta;D_2__Nucletmy...\n",
      "D_0__Eukaryota;D_1__Opisthokonta;D_2__Nucletmyc...  D_0__Eukaryota;D_1__Opisthokonta;D_2__Nucletmy...\n",
      "D_0__Eukaryota;D_1__Opisthokonta;D_2__Nucletmyc...  D_0__Eukaryota;D_1__Opisthokonta;D_2__Nucletmy...\n",
      "D_0__Eukaryota;D_1__Opisthokonta;D_2__Nucletmyc...  D_0__Eukaryota;D_1__Opisthokonta;D_2__Nucletmy...\n",
      "D_0__Eukaryota;D_1__Opisthokonta;D_2__Nucletmyc...  D_0__Eukaryota;D_1__Opisthokonta;D_2__Nucletmy...\n",
      "D_0__Eukaryota;D_1__Opisthokonta;D_2__Nucletmyc...  D_0__Eukaryota;D_1__Opisthokonta;D_2__Nucletmy...\n",
      "D_0__Eukaryota;D_1__Opisthokonta;D_2__Nucletmyc...  D_0__Eukaryota;D_1__Opisthokonta;D_2__Nucletmy...\n",
      "D_0__Eukaryota;D_1__Opisthokonta;D_2__Nucletmyc...  D_0__Eukaryota;D_1__Opisthokonta;D_2__Nucletmy...\n",
      "D_0__Eukaryota;D_1__Opisthokonta;D_2__Nucletmyc...  D_0__Eukaryota;D_1__Opisthokonta;D_2__Nucletmy...\n",
      "D_0__Eukaryota;D_1__Opisthokonta;D_2__Nucletmyc...  D_0__Eukaryota;D_1__Opisthokonta;D_2__Nucletmy...\n",
      "D_0__Eukaryota;D_1__Opisthokonta;D_2__Nucletmyc...  D_0__Eukaryota;D_1__Opisthokonta;D_2__Nucletmy...\n",
      "D_0__Eukaryota;D_1__Opisthokonta;D_2__Nucletmyc...  D_0__Eukaryota;D_1__Opisthokonta;D_2__Nucletmy...\n",
      "D_0__Eukaryota;D_1__Opisthokonta;D_2__Nucletmyc...  D_0__Eukaryota;D_1__Opisthokonta;D_2__Nucletmy...\n",
      "D_0__Eukaryota;D_1__Opisthokonta;D_2__Nucletmyc...  D_0__Eukaryota;D_1__Opisthokonta;D_2__Nucletmy...\n",
      "D_0__Eukaryota;D_1__Opisthokonta;D_2__Nucletmyc...  D_0__Eukaryota;D_1__Opisthokonta;D_2__Nucletmy...\n",
      "D_0__Eukaryota;D_1__Opisthokonta;D_2__Nucletmyc...  D_0__Eukaryota;D_1__Opisthokonta;D_2__Nucletmy...\n",
      "D_0__Eukaryota;D_1__Opisthokonta;D_2__Nucletmyc...  D_0__Eukaryota;D_1__Opisthokonta;D_2__Nucletmy...\n",
      "D_0__Eukaryota;D_1__Opisthokonta;D_2__Nucletmyc...  D_0__Eukaryota;D_1__Opisthokonta;D_2__Nucletmy...\n",
      "D_0__Eukaryota;D_1__Opisthokonta;D_2__Nucletmyc...  D_0__Eukaryota;D_1__Opisthokonta;D_2__Nucletmy...\n",
      "D_0__Eukaryota;D_1__Opisthokonta;D_2__Nucletmyc...  D_0__Eukaryota;D_1__Opisthokonta;D_2__Nucletmy...\n",
      "D_0__Eukaryota;D_1__Opisthokonta;D_2__Nucletmyc...  D_0__Eukaryota;D_1__Opisthokonta;D_2__Nucletmy...\n",
      "D_0__Eukaryota;D_1__Opisthokonta;D_2__Nucletmyc...  D_0__Eukaryota;D_1__Opisthokonta;D_2__Nucletmy...\n",
      "D_0__Eukaryota;D_1__Opisthokonta;D_2__Nucletmyc...  D_0__Eukaryota;D_1__Opisthokonta;D_2__Nucletmy...\n",
      "D_0__Eukaryota;D_1__Opisthokonta;D_2__Nucletmyc...  D_0__Eukaryota;D_1__Opisthokonta;D_2__Nucletmy...\n",
      "D_0__Eukaryota;D_1__Opisthokonta;D_2__Nucletmyc...  D_0__Eukaryota;D_1__Opisthokonta;D_2__Nucletmy...\n",
      "D_0__Eukaryota;D_1__Opisthokonta;D_2__Nucletmyc...  D_0__Eukaryota;D_1__Opisthokonta;D_2__Nucletmy...\n",
      "D_0__Eukaryota;D_1__Opisthokonta;D_2__Nucletmyc...  D_0__Eukaryota;D_1__Opisthokonta;D_2__Nucletmy...\n",
      "D_0__Eukaryota;D_1__Opisthokonta;D_2__Nucletmyc...  D_0__Eukaryota;D_1__Opisthokonta;D_2__Nucletmy...\n",
      "D_0__Eukaryota;D_1__Opisthokonta;D_2__Nucletmyc...  D_0__Eukaryota;D_1__Opisthokonta;D_2__Nucletmy...\n",
      "D_0__Eukaryota;D_1__Opisthokonta;D_2__Nucletmyc...  D_0__Eukaryota;D_1__Opisthokonta;D_2__Nucletmy...\n",
      "D_0__Eukaryota;D_1__Opisthokonta;D_2__Nucletmyc...  D_0__Eukaryota;D_1__Opisthokonta;D_2__Nucletmy...\n",
      "D_0__Eukaryota;D_1__Opisthokonta;D_2__Nucletmyc...  D_0__Eukaryota;D_1__Opisthokonta;D_2__Nucletmy...\n",
      "D_0__Eukaryota;D_1__Opisthokonta;D_2__Nucletmyc...  D_0__Eukaryota;D_1__Opisthokonta;D_2__Nucletmy...\n",
      "D_0__Eukaryota;D_1__Opisthokonta;D_2__Nucletmyc...  D_0__Eukaryota;D_1__Opisthokonta;D_2__Nucletmy...\n",
      "D_0__Eukaryota;D_1__Opisthokonta;D_2__Nucletmyc...  D_0__Eukaryota;D_1__Opisthokonta;D_2__Nucletmy...\n",
      "D_0__Eukaryota;D_1__Opisthokonta;D_2__Nucletmyc...  D_0__Eukaryota;D_1__Opisthokonta;D_2__Nucletmy...\n",
      "D_0__Eukaryota;D_1__Opisthokonta;D_2__Nucletmyc...  D_0__Eukaryota;D_1__Opisthokonta;D_2__Nucletmy...\n",
      "D_0__Eukaryota;D_1__Opisthokonta;D_2__Nucletmyc...  D_0__Eukaryota;D_1__Opisthokonta;D_2__Nucletmy...\n",
      "D_0__Eukaryota;D_1__Opisthokonta;D_2__Nucletmyc...  D_0__Eukaryota;D_1__Opisthokonta;D_2__Nucletmy...\n",
      "D_0__Eukaryota;D_1__Opisthokonta;D_2__Nucletmyc...  D_0__Eukaryota;D_1__Opisthokonta;D_2__Nucletmy...\n",
      "D_0__Eukaryota;D_1__Opisthokonta;D_2__Nucletmyc...  D_0__Eukaryota;D_1__Opisthokonta;D_2__Nucletmy...\n",
      "D_0__Eukaryota;D_1__Opisthokonta;D_2__Nucletmyc...  D_0__Eukaryota;D_1__Opisthokonta;D_2__Nucletmy...\n",
      "D_0__Eukaryota;D_1__Opisthokonta;D_2__Nucletmyc...  D_0__Eukaryota;D_1__Opisthokonta;D_2__Nucletmy...\n",
      "D_0__Eukaryota;D_1__Opisthokonta;D_2__Nucletmyc...  D_0__Eukaryota;D_1__Opisthokonta;D_2__Nucletmy...\n",
      "D_0__Eukaryota;D_1__Opisthokonta;D_2__Nucletmyc...  D_0__Eukaryota;D_1__Opisthokonta;D_2__Nucletmy...\n",
      "D_0__Eukaryota;D_1__Opisthokonta;D_2__Nucletmyc...  D_0__Eukaryota;D_1__Opisthokonta;D_2__Nucletmy...\n",
      "D_0__Eukaryota;D_1__Opisthokonta;D_2__Nucletmyc...  D_0__Eukaryota;D_1__Opisthokonta;D_2__Nucletmy...\n",
      "D_0__Eukaryota;D_1__Opisthokonta;D_2__Nucletmyc...  D_0__Eukaryota;D_1__Opisthokonta;D_2__Nucletmy...\n",
      "D_0__Eukaryota;D_1__Opisthokonta;D_2__Nucletmyc...  D_0__Eukaryota;D_1__Opisthokonta;D_2__Nucletmy...\n",
      "D_0__Eukaryota;D_1__Opisthokonta;D_2__Nucletmyc...  D_0__Eukaryota;D_1__Opisthokonta;D_2__Nucletmy...\n",
      "D_0__Eukaryota;D_1__Opisthokonta;D_2__Nucletmyc...  D_0__Eukaryota;D_1__Opisthokonta;D_2__Nucletmy...\n",
      "D_0__Eukaryota;D_1__Opisthokonta;D_2__Nucletmyc...  D_0__Eukaryota;D_1__Opisthokonta;D_2__Nucletmy...\n",
      "D_0__Eukaryota;D_1__Opisthokonta;D_2__Nucletmyc...  D_0__Eukaryota;D_1__Opisthokonta;D_2__Nucletmy...\n",
      "D_0__Eukaryota;D_1__Opisthokonta;D_2__Nucletmyc...  D_0__Eukaryota;D_1__Opisthokonta;D_2__Nucletmy...\n",
      "D_0__Eukaryota;D_1__Opisthokonta;D_2__Nucletmyc...  D_0__Eukaryota;D_1__Opisthokonta;D_2__Nucletmy...\n",
      "D_0__Eukaryota;D_1__Opisthokonta;D_2__Nucletmyc...  D_0__Eukaryota;D_1__Opisthokonta;D_2__Nucletmy...\n",
      "D_0__Eukaryota;D_1__Opisthokonta;D_2__Nucletmyc...  D_0__Eukaryota;D_1__Opisthokonta;D_2__Nucletmy...\n",
      "D_0__Eukaryota;D_1__Opisthokonta;D_2__Nucletmyc...  D_0__Eukaryota;D_1__Opisthokonta;D_2__Nucletmy...\n",
      "D_0__Eukaryota;D_1__Opisthokonta;D_2__Nucletmyc...  D_0__Eukaryota;D_1__Opisthokonta;D_2__Nucletmy...\n",
      "D_0__Eukaryota;D_1__Opisthokonta;__;__;__;__;__...  D_0__Eukaryota;D_1__Opisthokonta;__;__;__;__;_...\n",
      "D_0__Eukaryota;D_1__SAR;D_2__Alveolata;D_3__Api...  D_0__Eukaryota;D_1__SAR;D_2__Alveolata;D_3__Ap...\n",
      "D_0__Eukaryota;D_1__SAR;D_2__Alveolata;D_3__Api...  D_0__Eukaryota;D_1__SAR;D_2__Alveolata;D_3__Ap...\n",
      "D_0__Eukaryota;D_1__SAR;D_2__Alveolata;D_3__Api...  D_0__Eukaryota;D_1__SAR;D_2__Alveolata;D_3__Ap...\n",
      "D_0__Eukaryota;D_1__SAR;D_2__Alveolata;D_3__Api...  D_0__Eukaryota;D_1__SAR;D_2__Alveolata;D_3__Ap...\n",
      "D_0__Eukaryota;D_1__SAR;D_2__Alveolata;D_3__Api...  D_0__Eukaryota;D_1__SAR;D_2__Alveolata;D_3__Ap...\n",
      "D_0__Eukaryota;D_1__SAR;D_2__Alveolata;D_3__Api...  D_0__Eukaryota;D_1__SAR;D_2__Alveolata;D_3__Ap...\n",
      "D_0__Eukaryota;D_1__SAR;D_2__Alveolata;D_3__Api...  D_0__Eukaryota;D_1__SAR;D_2__Alveolata;D_3__Ap...\n",
      "D_0__Eukaryota;D_1__SAR;D_2__Alveolata;D_3__Api...  D_0__Eukaryota;D_1__SAR;D_2__Alveolata;D_3__Ap...\n",
      "D_0__Eukaryota;D_1__SAR;D_2__Alveolata;D_3__Api...  D_0__Eukaryota;D_1__SAR;D_2__Alveolata;D_3__Ap...\n",
      "D_0__Eukaryota;D_1__SAR;D_2__Alveolata;D_3__Api...  D_0__Eukaryota;D_1__SAR;D_2__Alveolata;D_3__Ap...\n",
      "D_0__Eukaryota;D_1__SAR;D_2__Alveolata;D_3__Api...  D_0__Eukaryota;D_1__SAR;D_2__Alveolata;D_3__Ap...\n",
      "D_0__Eukaryota;D_1__SAR;D_2__Alveolata;D_3__Api...  D_0__Eukaryota;D_1__SAR;D_2__Alveolata;D_3__Ap...\n",
      "D_0__Eukaryota;D_1__SAR;D_2__Alveolata;D_3__Api...  D_0__Eukaryota;D_1__SAR;D_2__Alveolata;D_3__Ap...\n",
      "D_0__Eukaryota;D_1__SAR;D_2__Alveolata;D_3__Api...  D_0__Eukaryota;D_1__SAR;D_2__Alveolata;D_3__Ap...\n",
      "D_0__Eukaryota;D_1__SAR;D_2__Alveolata;D_3__Api...  D_0__Eukaryota;D_1__SAR;D_2__Alveolata;D_3__Ap...\n",
      "D_0__Eukaryota;D_1__SAR;D_2__Alveolata;D_3__Cil...  D_0__Eukaryota;D_1__SAR;D_2__Alveolata;D_3__Ci...\n",
      "D_0__Eukaryota;D_1__SAR;D_2__Alveolata;D_3__Cil...  D_0__Eukaryota;D_1__SAR;D_2__Alveolata;D_3__Ci...\n",
      "D_0__Eukaryota;D_1__SAR;D_2__Alveolata;D_3__Cil...  D_0__Eukaryota;D_1__SAR;D_2__Alveolata;D_3__Ci...\n",
      "D_0__Eukaryota;D_1__SAR;D_2__Alveolata;D_3__Cil...  D_0__Eukaryota;D_1__SAR;D_2__Alveolata;D_3__Ci...\n",
      "D_0__Eukaryota;D_1__SAR;D_2__Alveolata;D_3__Cil...  D_0__Eukaryota;D_1__SAR;D_2__Alveolata;D_3__Ci...\n",
      "D_0__Eukaryota;D_1__SAR;D_2__Alveolata;D_3__Cil...  D_0__Eukaryota;D_1__SAR;D_2__Alveolata;D_3__Ci...\n",
      "D_0__Eukaryota;D_1__SAR;D_2__Alveolata;D_3__Cil...  D_0__Eukaryota;D_1__SAR;D_2__Alveolata;D_3__Ci...\n",
      "D_0__Eukaryota;D_1__SAR;D_2__Alveolata;D_3__Cil...  D_0__Eukaryota;D_1__SAR;D_2__Alveolata;D_3__Ci...\n",
      "D_0__Eukaryota;D_1__SAR;D_2__Alveolata;D_3__Cil...  D_0__Eukaryota;D_1__SAR;D_2__Alveolata;D_3__Ci...\n",
      "D_0__Eukaryota;D_1__SAR;D_2__Alveolata;D_3__Cil...  D_0__Eukaryota;D_1__SAR;D_2__Alveolata;D_3__Ci...\n",
      "D_0__Eukaryota;D_1__SAR;D_2__Alveolata;D_3__Cil...  D_0__Eukaryota;D_1__SAR;D_2__Alveolata;D_3__Ci...\n",
      "D_0__Eukaryota;D_1__SAR;D_2__Alveolata;D_3__Cil...  D_0__Eukaryota;D_1__SAR;D_2__Alveolata;D_3__Ci...\n",
      "D_0__Eukaryota;D_1__SAR;D_2__Alveolata;D_3__Cil...  D_0__Eukaryota;D_1__SAR;D_2__Alveolata;D_3__Ci...\n",
      "D_0__Eukaryota;D_1__SAR;D_2__Alveolata;D_3__Cil...  D_0__Eukaryota;D_1__SAR;D_2__Alveolata;D_3__Ci...\n",
      "D_0__Eukaryota;D_1__SAR;D_2__Alveolata;D_3__Cil...  D_0__Eukaryota;D_1__SAR;D_2__Alveolata;D_3__Ci...\n",
      "D_0__Eukaryota;D_1__SAR;D_2__Alveolata;D_3__Cil...  D_0__Eukaryota;D_1__SAR;D_2__Alveolata;D_3__Ci...\n",
      "D_0__Eukaryota;D_1__SAR;D_2__Alveolata;D_3__Cil...  D_0__Eukaryota;D_1__SAR;D_2__Alveolata;D_3__Ci...\n",
      "D_0__Eukaryota;D_1__SAR;D_2__Alveolata;D_3__Cil...  D_0__Eukaryota;D_1__SAR;D_2__Alveolata;D_3__Ci...\n",
      "D_0__Eukaryota;D_1__SAR;D_2__Alveolata;D_3__Cil...  D_0__Eukaryota;D_1__SAR;D_2__Alveolata;D_3__Ci...\n",
      "D_0__Eukaryota;D_1__SAR;D_2__Alveolata;D_3__Cil...  D_0__Eukaryota;D_1__SAR;D_2__Alveolata;D_3__Ci...\n",
      "D_0__Eukaryota;D_1__SAR;D_2__Alveolata;D_3__Cil...  D_0__Eukaryota;D_1__SAR;D_2__Alveolata;D_3__Ci...\n",
      "D_0__Eukaryota;D_1__SAR;D_2__Alveolata;D_3__Cil...  D_0__Eukaryota;D_1__SAR;D_2__Alveolata;D_3__Ci...\n",
      "D_0__Eukaryota;D_1__SAR;D_2__Alveolata;D_3__Cil...  D_0__Eukaryota;D_1__SAR;D_2__Alveolata;D_3__Ci...\n",
      "D_0__Eukaryota;D_1__SAR;D_2__Alveolata;D_3__Cil...  D_0__Eukaryota;D_1__SAR;D_2__Alveolata;D_3__Ci...\n",
      "D_0__Eukaryota;D_1__SAR;D_2__Alveolata;D_3__Cil...  D_0__Eukaryota;D_1__SAR;D_2__Alveolata;D_3__Ci...\n",
      "D_0__Eukaryota;D_1__SAR;D_2__Alveolata;D_3__Cil...  D_0__Eukaryota;D_1__SAR;D_2__Alveolata;D_3__Ci...\n",
      "D_0__Eukaryota;D_1__SAR;D_2__Alveolata;D_3__Cil...  D_0__Eukaryota;D_1__SAR;D_2__Alveolata;D_3__Ci...\n",
      "D_0__Eukaryota;D_1__SAR;D_2__Alveolata;D_3__Cil...  D_0__Eukaryota;D_1__SAR;D_2__Alveolata;D_3__Ci...\n",
      "D_0__Eukaryota;D_1__SAR;D_2__Alveolata;D_3__Din...  D_0__Eukaryota;D_1__SAR;D_2__Alveolata;D_3__Di...\n",
      "D_0__Eukaryota;D_1__SAR;D_2__Alveolata;D_3__Pro...  D_0__Eukaryota;D_1__SAR;D_2__Alveolata;D_3__Pr...\n",
      "D_0__Eukaryota;D_1__SAR;D_2__Alveolata;__;__;__...  D_0__Eukaryota;D_1__SAR;D_2__Alveolata;__;__;_...\n",
      "D_0__Eukaryota;D_1__SAR;D_2__Rhizaria;D_3__Cerc...  D_0__Eukaryota;D_1__SAR;D_2__Rhizaria;D_3__Cer...\n",
      "D_0__Eukaryota;D_1__SAR;D_2__Rhizaria;D_3__Cerc...  D_0__Eukaryota;D_1__SAR;D_2__Rhizaria;D_3__Cer...\n",
      "D_0__Eukaryota;D_1__SAR;D_2__Rhizaria;D_3__Cerc...  D_0__Eukaryota;D_1__SAR;D_2__Rhizaria;D_3__Cer...\n",
      "D_0__Eukaryota;D_1__SAR;D_2__Rhizaria;D_3__Cerc...  D_0__Eukaryota;D_1__SAR;D_2__Rhizaria;D_3__Cer...\n",
      "D_0__Eukaryota;D_1__SAR;D_2__Rhizaria;D_3__Cerc...  D_0__Eukaryota;D_1__SAR;D_2__Rhizaria;D_3__Cer...\n",
      "D_0__Eukaryota;D_1__SAR;D_2__Rhizaria;D_3__Cerc...  D_0__Eukaryota;D_1__SAR;D_2__Rhizaria;D_3__Cer...\n",
      "D_0__Eukaryota;D_1__SAR;D_2__Rhizaria;D_3__Cerc...  D_0__Eukaryota;D_1__SAR;D_2__Rhizaria;D_3__Cer...\n",
      "D_0__Eukaryota;D_1__SAR;D_2__Rhizaria;D_3__Cerc...  D_0__Eukaryota;D_1__SAR;D_2__Rhizaria;D_3__Cer...\n",
      "D_0__Eukaryota;D_1__SAR;D_2__Rhizaria;D_3__Cerc...  D_0__Eukaryota;D_1__SAR;D_2__Rhizaria;D_3__Cer...\n",
      "D_0__Eukaryota;D_1__SAR;D_2__Rhizaria;D_3__Cerc...  D_0__Eukaryota;D_1__SAR;D_2__Rhizaria;D_3__Cer...\n",
      "D_0__Eukaryota;D_1__SAR;D_2__Rhizaria;D_3__Cerc...  D_0__Eukaryota;D_1__SAR;D_2__Rhizaria;D_3__Cer...\n",
      "D_0__Eukaryota;D_1__SAR;D_2__Rhizaria;D_3__Cerc...  D_0__Eukaryota;D_1__SAR;D_2__Rhizaria;D_3__Cer...\n",
      "D_0__Eukaryota;D_1__SAR;D_2__Rhizaria;D_3__Cerc...  D_0__Eukaryota;D_1__SAR;D_2__Rhizaria;D_3__Cer...\n",
      "D_0__Eukaryota;D_1__SAR;D_2__Rhizaria;D_3__Cerc...  D_0__Eukaryota;D_1__SAR;D_2__Rhizaria;D_3__Cer...\n",
      "D_0__Eukaryota;D_1__SAR;D_2__Rhizaria;D_3__Cerc...  D_0__Eukaryota;D_1__SAR;D_2__Rhizaria;D_3__Cer...\n",
      "D_0__Eukaryota;D_1__SAR;D_2__Rhizaria;D_3__Cerc...  D_0__Eukaryota;D_1__SAR;D_2__Rhizaria;D_3__Cer...\n",
      "D_0__Eukaryota;D_1__SAR;D_2__Rhizaria;D_3__Cerc...  D_0__Eukaryota;D_1__SAR;D_2__Rhizaria;D_3__Cer...\n",
      "D_0__Eukaryota;D_1__SAR;D_2__Rhizaria;D_3__Cerc...  D_0__Eukaryota;D_1__SAR;D_2__Rhizaria;D_3__Cer...\n",
      "D_0__Eukaryota;D_1__SAR;D_2__Rhizaria;D_3__Cerc...  D_0__Eukaryota;D_1__SAR;D_2__Rhizaria;D_3__Cer...\n",
      "D_0__Eukaryota;D_1__SAR;D_2__Rhizaria;D_3__Cerc...  D_0__Eukaryota;D_1__SAR;D_2__Rhizaria;D_3__Cer...\n",
      "D_0__Eukaryota;D_1__SAR;D_2__Rhizaria;D_3__Cerc...  D_0__Eukaryota;D_1__SAR;D_2__Rhizaria;D_3__Cer...\n",
      "D_0__Eukaryota;D_1__SAR;D_2__Rhizaria;D_3__Cerc...  D_0__Eukaryota;D_1__SAR;D_2__Rhizaria;D_3__Cer...\n",
      "D_0__Eukaryota;D_1__SAR;D_2__Rhizaria;D_3__Cerc...  D_0__Eukaryota;D_1__SAR;D_2__Rhizaria;D_3__Cer...\n",
      "D_0__Eukaryota;D_1__SAR;D_2__Rhizaria;D_3__Cerc...  D_0__Eukaryota;D_1__SAR;D_2__Rhizaria;D_3__Cer...\n",
      "D_0__Eukaryota;D_1__SAR;D_2__Rhizaria;D_3__Cerc...  D_0__Eukaryota;D_1__SAR;D_2__Rhizaria;D_3__Cer...\n",
      "D_0__Eukaryota;D_1__SAR;D_2__Rhizaria;D_3__Cerc...  D_0__Eukaryota;D_1__SAR;D_2__Rhizaria;D_3__Cer...\n",
      "D_0__Eukaryota;D_1__SAR;D_2__Rhizaria;D_3__Cerc...  D_0__Eukaryota;D_1__SAR;D_2__Rhizaria;D_3__Cer...\n",
      "D_0__Eukaryota;D_1__SAR;D_2__Rhizaria;D_3__Cerc...  D_0__Eukaryota;D_1__SAR;D_2__Rhizaria;D_3__Cer...\n",
      "D_0__Eukaryota;D_1__SAR;D_2__Rhizaria;D_3__Cerc...  D_0__Eukaryota;D_1__SAR;D_2__Rhizaria;D_3__Cer...\n",
      "D_0__Eukaryota;D_1__SAR;D_2__Rhizaria;D_3__Cerc...  D_0__Eukaryota;D_1__SAR;D_2__Rhizaria;D_3__Cer...\n",
      "D_0__Eukaryota;D_1__SAR;D_2__Rhizaria;D_3__Cerc...  D_0__Eukaryota;D_1__SAR;D_2__Rhizaria;D_3__Cer...\n",
      "D_0__Eukaryota;D_1__SAR;D_2__Rhizaria;D_3__Cerc...  D_0__Eukaryota;D_1__SAR;D_2__Rhizaria;D_3__Cer...\n",
      "D_0__Eukaryota;D_1__SAR;D_2__Stramenopiles;D_3_...  D_0__Eukaryota;D_1__SAR;D_2__Stramenopiles;D_3...\n",
      "D_0__Eukaryota;D_1__SAR;D_2__Stramenopiles;D_3_...  D_0__Eukaryota;D_1__SAR;D_2__Stramenopiles;D_3...\n",
      "D_0__Eukaryota;D_1__SAR;D_2__Stramenopiles;D_3_...  D_0__Eukaryota;D_1__SAR;D_2__Stramenopiles;D_3...\n",
      "D_0__Eukaryota;D_1__SAR;D_2__Stramenopiles;D_3_...  D_0__Eukaryota;D_1__SAR;D_2__Stramenopiles;D_3...\n",
      "D_0__Eukaryota;D_1__SAR;D_2__Stramenopiles;D_3_...  D_0__Eukaryota;D_1__SAR;D_2__Stramenopiles;D_3...\n",
      "D_0__Eukaryota;D_1__SAR;D_2__Stramenopiles;D_3_...  D_0__Eukaryota;D_1__SAR;D_2__Stramenopiles;D_3...\n",
      "D_0__Eukaryota;D_1__SAR;D_2__Stramenopiles;D_3_...  D_0__Eukaryota;D_1__SAR;D_2__Stramenopiles;D_3...\n",
      "D_0__Eukaryota;D_1__SAR;D_2__Stramenopiles;D_3_...  D_0__Eukaryota;D_1__SAR;D_2__Stramenopiles;D_3...\n",
      "D_0__Eukaryota;D_1__SAR;D_2__Stramenopiles;D_3_...  D_0__Eukaryota;D_1__SAR;D_2__Stramenopiles;D_3...\n",
      "D_0__Eukaryota;D_1__SAR;D_2__Stramenopiles;D_3_...  D_0__Eukaryota;D_1__SAR;D_2__Stramenopiles;D_3...\n",
      "D_0__Eukaryota;D_1__SAR;D_2__Stramenopiles;D_3_...  D_0__Eukaryota;D_1__SAR;D_2__Stramenopiles;D_3...\n",
      "D_0__Eukaryota;D_1__SAR;D_2__Stramenopiles;D_3_...  D_0__Eukaryota;D_1__SAR;D_2__Stramenopiles;D_3...\n",
      "D_0__Eukaryota;D_1__SAR;D_2__Stramenopiles;D_3_...  D_0__Eukaryota;D_1__SAR;D_2__Stramenopiles;D_3...\n",
      "D_0__Eukaryota;D_1__SAR;D_2__Stramenopiles;D_3_...  D_0__Eukaryota;D_1__SAR;D_2__Stramenopiles;D_3...\n",
      "D_0__Eukaryota;D_1__SAR;D_2__Stramenopiles;D_3_...  D_0__Eukaryota;D_1__SAR;D_2__Stramenopiles;D_3...\n",
      "D_0__Eukaryota;D_1__SAR;D_2__Stramenopiles;D_3_...  D_0__Eukaryota;D_1__SAR;D_2__Stramenopiles;D_3...\n",
      "D_0__Eukaryota;D_1__SAR;D_2__Stramenopiles;D_3_...  D_0__Eukaryota;D_1__SAR;D_2__Stramenopiles;D_3...\n",
      "D_0__Eukaryota;D_1__SAR;D_2__Stramenopiles;D_3_...  D_0__Eukaryota;D_1__SAR;D_2__Stramenopiles;D_3...\n",
      "D_0__Eukaryota;D_1__SAR;D_2__Stramenopiles;D_3_...  D_0__Eukaryota;D_1__SAR;D_2__Stramenopiles;D_3...\n",
      "D_0__Eukaryota;D_1__SAR;D_2__Stramenopiles;D_3_...  D_0__Eukaryota;D_1__SAR;D_2__Stramenopiles;D_3...\n",
      "D_0__Eukaryota;D_1__SAR;D_2__Stramenopiles;D_3_...  D_0__Eukaryota;D_1__SAR;D_2__Stramenopiles;D_3...\n",
      "D_0__Eukaryota;D_1__SAR;D_2__Stramenopiles;D_3_...  D_0__Eukaryota;D_1__SAR;D_2__Stramenopiles;D_3...\n",
      "D_0__Eukaryota;D_1__SAR;D_2__Stramenopiles;D_3_...  D_0__Eukaryota;D_1__SAR;D_2__Stramenopiles;D_3...\n",
      "D_0__Eukaryota;D_1__SAR;D_2__Stramenopiles;D_3_...  D_0__Eukaryota;D_1__SAR;D_2__Stramenopiles;D_3...\n",
      "D_0__Eukaryota;D_1__SAR;D_2__Stramenopiles;D_3_...  D_0__Eukaryota;D_1__SAR;D_2__Stramenopiles;D_3...\n",
      "D_0__Eukaryota;D_1__SAR;D_2__Stramenopiles;D_3_...  D_0__Eukaryota;D_1__SAR;D_2__Stramenopiles;D_3...\n",
      "D_0__Eukaryota;D_1__SAR;D_2__Stramenopiles;D_3_...  D_0__Eukaryota;D_1__SAR;D_2__Stramenopiles;D_3...\n",
      "D_0__Eukaryota;D_1__SAR;D_2__Stramenopiles;D_3_...  D_0__Eukaryota;D_1__SAR;D_2__Stramenopiles;D_3...\n",
      "D_0__Eukaryota;D_1__SAR;D_2__Stramenopiles;D_3_...  D_0__Eukaryota;D_1__SAR;D_2__Stramenopiles;D_3...\n",
      "D_0__Eukaryota;D_1__SAR;D_2__Stramenopiles;D_3_...  D_0__Eukaryota;D_1__SAR;D_2__Stramenopiles;D_3...\n",
      "D_0__Eukaryota;D_1__SAR;D_2__Stramenopiles;D_3_...  D_0__Eukaryota;D_1__SAR;D_2__Stramenopiles;D_3...\n",
      "D_0__Eukaryota;D_1__SAR;D_2__Stramenopiles;D_3_...  D_0__Eukaryota;D_1__SAR;D_2__Stramenopiles;D_3...\n",
      "D_0__Eukaryota;D_1__SAR;D_2__Stramenopiles;D_3_...  D_0__Eukaryota;D_1__SAR;D_2__Stramenopiles;D_3...\n",
      "D_0__Eukaryota;D_1__SAR;D_2__Stramenopiles;D_3_...  D_0__Eukaryota;D_1__SAR;D_2__Stramenopiles;D_3...\n",
      "D_0__Eukaryota;D_1__SAR;D_2__Stramenopiles;D_3_...  D_0__Eukaryota;D_1__SAR;D_2__Stramenopiles;D_3...\n",
      "D_0__Eukaryota;D_1__SAR;D_2__Stramenopiles;D_3_...  D_0__Eukaryota;D_1__SAR;D_2__Stramenopiles;D_3...\n",
      "D_0__Eukaryota;D_1__SAR;D_2__Stramenopiles;D_3_...  D_0__Eukaryota;D_1__SAR;D_2__Stramenopiles;D_3...\n",
      "D_0__Eukaryota;D_1__SAR;D_2__Stramenopiles;__;_...  D_0__Eukaryota;D_1__SAR;D_2__Stramenopiles;__;...\n",
      "D_0__Eukaryota;D_1__SAR;__;__;__;__;__;__;__;__;__  D_0__Eukaryota;D_1__SAR;__;__;__;__;__;__;__;_...\n",
      "D_0__Eukaryota;__;__;__;__;__;__;__;__;__;__             D_0__Eukaryota;__;__;__;__;__;__;__;__;__;__\n"
     ]
    }
   ],
   "source": [
    "print(Summer_L11.feature_metadata)"
   ]
  },
  {
   "cell_type": "markdown",
   "metadata": {},
   "source": [
    "## Running the L11 model"
   ]
  },
  {
   "cell_type": "code",
   "execution_count": 28,
   "metadata": {},
   "outputs": [],
   "source": [
    "# groupKfold = 3, will leave out one body for each model\n",
    "gkf = GroupKFold(3)\n",
    "\n",
    "X = Summer_L11.data\n",
    "y = Summer_L11.sample_metadata['ADD']\n",
    "y = (y.astype(float))\n",
    "\n",
    "groups = Summer_L11.sample_metadata['host_subject_id']\n",
    "\n",
    "# used to test the param grid for parameter tuning\n",
    "# use the output of this estimator below for input into new estimator (not commented out)\n",
    "param_grid = {\"max_depth\": [4, 8, 16, None],\n",
    "              \"max_features\": ['sqrt', 'log2', 0.1],\n",
    "              \"min_samples_split\": [0.001, 0.01, 0.1],\n",
    "              \"min_weight_fraction_leaf\": [0.0001, 0.001, 0.01],\n",
    "              \"bootstrap\": [True, False]}\n",
    "\n",
    "#param_grid = {\"max_depth\": [8],\n",
    "#          \"max_features\": [0.1],\n",
    "#          \"min_samples_split\": [0.001],\n",
    "#          \"min_weight_fraction_leaf\": [0.0001],\n",
    "#          \"bootstrap\": [False]}\n",
    "\n",
    "rf = RandomForestRegressor(n_estimators=1000, random_state=999, criterion='mae')\n",
    "gs = GridSearchCV(rf, param_grid=param_grid, cv=gkf.split(X, y, groups), scoring='neg_mean_absolute_error', n_jobs=1)"
   ]
  },
  {
   "cell_type": "code",
   "execution_count": 29,
   "metadata": {},
   "outputs": [
    {
     "data": {
      "text/plain": [
       "GridSearchCV(cv=<generator object _BaseKFold.split at 0x11f4f6ad0>,\n",
       "             error_score=nan,\n",
       "             estimator=RandomForestRegressor(bootstrap=True, ccp_alpha=0.0,\n",
       "                                             criterion='mae', max_depth=None,\n",
       "                                             max_features='auto',\n",
       "                                             max_leaf_nodes=None,\n",
       "                                             max_samples=None,\n",
       "                                             min_impurity_decrease=0.0,\n",
       "                                             min_impurity_split=None,\n",
       "                                             min_samples_leaf=1,\n",
       "                                             min_samples_split=2,\n",
       "                                             min_weight_fraction_leaf=0.0,\n",
       "                                             n_es...\n",
       "                                             oob_score=False, random_state=999,\n",
       "                                             verbose=0, warm_start=False),\n",
       "             iid='deprecated', n_jobs=1,\n",
       "             param_grid={'bootstrap': [True, False],\n",
       "                         'max_depth': [4, 8, 16, None],\n",
       "                         'max_features': ['sqrt', 'log2', 0.1],\n",
       "                         'min_samples_split': [0.001, 0.01, 0.1],\n",
       "                         'min_weight_fraction_leaf': [0.0001, 0.001, 0.01]},\n",
       "             pre_dispatch='2*n_jobs', refit=True, return_train_score=False,\n",
       "             scoring='neg_mean_absolute_error', verbose=0)"
      ]
     },
     "execution_count": 29,
     "metadata": {},
     "output_type": "execute_result"
    }
   ],
   "source": [
    "gs.fit(X, y)"
   ]
  },
  {
   "cell_type": "code",
   "execution_count": 30,
   "metadata": {},
   "outputs": [
    {
     "name": "stdout",
     "output_type": "stream",
     "text": [
      "{'bootstrap': False, 'max_depth': 4, 'max_features': 0.1, 'min_samples_split': 0.001, 'min_weight_fraction_leaf': 0.0001}\n"
     ]
    }
   ],
   "source": [
    "# this line is used when run with the first param grid to determine what the best parameters are for tuning\n",
    "print(gs.best_params_)"
   ]
  },
  {
   "cell_type": "code",
   "execution_count": 31,
   "metadata": {},
   "outputs": [
    {
     "name": "stdout",
     "output_type": "stream",
     "text": [
      "The best mean absolute error is 864.45\n"
     ]
    }
   ],
   "source": [
    "print('The best mean absolute error is', round(-gs.best_score_,2))"
   ]
  },
  {
   "cell_type": "code",
   "execution_count": 32,
   "metadata": {},
   "outputs": [
    {
     "data": {
      "text/plain": [
       "['models/bone_summer_18S_L11.pkl']"
      ]
     },
     "execution_count": 32,
     "metadata": {},
     "output_type": "execute_result"
    }
   ],
   "source": [
    "joblib.dump(gs.best_estimator_, 'models/bone_summer_18S_L11.pkl')"
   ]
  },
  {
   "cell_type": "code",
   "execution_count": 33,
   "metadata": {},
   "outputs": [
    {
     "data": {
      "text/plain": [
       "RandomForestRegressor(bootstrap=False, ccp_alpha=0.0, criterion='mae',\n",
       "                      max_depth=4, max_features=0.1, max_leaf_nodes=None,\n",
       "                      max_samples=None, min_impurity_decrease=0.0,\n",
       "                      min_impurity_split=None, min_samples_leaf=1,\n",
       "                      min_samples_split=0.001, min_weight_fraction_leaf=0.0001,\n",
       "                      n_estimators=1000, n_jobs=None, oob_score=False,\n",
       "                      random_state=999, verbose=0, warm_start=False)"
      ]
     },
     "execution_count": 33,
     "metadata": {},
     "output_type": "execute_result"
    }
   ],
   "source": [
    "bone_summer_L11 = joblib.load('models/bone_summer_18S_L11.pkl')\n",
    "bone_summer_L11"
   ]
  },
  {
   "cell_type": "markdown",
   "metadata": {},
   "source": [
    "## Determine important features of the L11 model"
   ]
  },
  {
   "cell_type": "code",
   "execution_count": 34,
   "metadata": {},
   "outputs": [
    {
     "name": "stdout",
     "output_type": "stream",
     "text": [
      "Feature:\t\t\t\tImportance:\n",
      "1. D_0__Eukaryota;D_1__Opisthokonta;D_2__Nucletmycea;D_3__Fungi;D_4__Dikarya;D_5__Ascomycota;D_6__Saccharomycotina;D_7__Saccharomycetes;D_8__Saccharomycetales;D_9__Dipodascaceae;D_10__Yarrowia\t0.06438777325683644\n",
      "2. D_0__Eukaryota;D_1__Opisthokonta;D_2__Nucletmycea;D_3__Fungi;D_4__Dikarya;D_5__Ascomycota;D_6__Pezizomycotina;D_7__Eurotiomycetes;__;__;__\t0.05917676348909162\n",
      "3. D_0__Eukaryota;D_1__Opisthokonta;D_2__Nucletmycea;D_3__Fungi;D_4__Dikarya;D_5__Ascomycota;D_6__Saccharomycotina;D_7__Saccharomycetes;D_8__Saccharomycetales;D_9__Incertae Sedis;D_10__Starmerella-Candida clade\t0.05481235127387432\n",
      "4. D_0__Eukaryota;D_1__Amoebozoa;D_2__Tubulinea;D_3__Euamoebida;D_4__BOLA868;D_5__metagenome;D_6__;D_7__;D_8__;D_9__;D_10__\t0.03688595348212524\n",
      "5. D_0__Eukaryota;D_1__Opisthokonta;D_2__Nucletmycea;D_3__Fungi;D_4__Dikarya;D_5__Ascomycota;D_6__Pezizomycotina;D_7__Sordariomycetes;D_8__Hypocreales;__;__\t0.03434810163319503\n",
      "6. D_0__Eukaryota;D_1__Opisthokonta;D_2__Holozoa;D_3__Metazoa (Animalia);D_4__Eumetazoa;D_5__Bilateria;D_6__Nematoda;D_7__Chromadorea;D_8__Rhabditida;D_9__Oscheius tipulae;D_10__\t0.0287962564954777\n",
      "7. D_0__Eukaryota;D_1__Opisthokonta;D_2__Holozoa;D_3__Metazoa (Animalia);D_4__Eumetazoa;__;__;__;__;__;__\t0.02856442713469424\n",
      "8. D_0__Eukaryota;D_1__SAR;D_2__Alveolata;__;__;__;__;__;__;__;__\t0.0252122793046032\n",
      "9. D_0__Eukaryota;D_1__SAR;D_2__Rhizaria;D_3__Cercozoa;D_4__Glissomonadida;D_5__Heteromita;D_6__metagenome;D_7__;D_8__;D_9__;D_10__\t0.023123433941812998\n",
      "10. D_0__Eukaryota;D_1__Opisthokonta;D_2__Nucletmycea;D_3__Fungi;D_4__Dikarya;D_5__Ascomycota;D_6__Saccharomycotina;D_7__Saccharomycetes;D_8__Saccharomycetales;D_9__Debaryomycetaceae;__\t0.022733648909706163\n",
      "11. D_0__Eukaryota;D_1__Opisthokonta;D_2__Nucletmycea;D_3__Fungi;D_4__Dikarya;D_5__Ascomycota;D_6__Pezizomycotina;D_7__Laboulbeniomycetes;D_8__metagenome;D_9__;D_10__\t0.02159195643543347\n",
      "12. D_0__Eukaryota;D_1__Opisthokonta;D_2__Nucletmycea;D_3__Fungi;__;__;__;__;__;__;__\t0.020279229452758122\n",
      "13. D_0__Eukaryota;D_1__SAR;D_2__Alveolata;D_3__Apicomplexa;D_4__Conoidasida;D_5__Gregarinasina;D_6__Eugregarinorida;__;__;__;__\t0.01952390390495541\n",
      "14. D_0__Eukaryota;D_1__Opisthokonta;D_2__Nucletmycea;D_3__Fungi;D_4__Dikarya;D_5__Ascomycota;D_6__Saccharomycotina;D_7__Saccharomycetes;D_8__Saccharomycetales;D_9__Debaryomycetaceae;D_10__Candida-Lodderomyces clade\t0.018971461364553747\n",
      "15. D_0__Eukaryota;D_1__Opisthokonta;D_2__Nucletmycea;D_3__Fungi;D_4__Dikarya;D_5__Basidiomycota;D_6__Agaricomycotina;D_7__Tremellomycetes;D_8__Trichosporonales;D_9__Trichosporonaceae;D_10__Apiotrichum\t0.017255325634391503\n",
      "16. D_0__Eukaryota;D_1__Opisthokonta;D_2__Nucletmycea;D_3__Fungi;D_4__Dikarya;D_5__Basidiomycota;__;__;__;__;__\t0.015203004877960325\n",
      "17. D_0__Eukaryota;D_1__Opisthokonta;D_2__Nucletmycea;D_3__Fungi;D_4__Dikarya;D_5__Basidiomycota;D_6__Agaricomycotina;D_7__Agaricomycetes;D_8__Gomphales;D_9__Gomphaceae;D_10__Clavariadelphus\t0.014624395571014512\n",
      "18. D_0__Eukaryota;__;__;__;__;__;__;__;__;__;__\t0.014471767593899745\n",
      "19. D_0__Eukaryota;D_1__Opisthokonta;D_2__Holozoa;__;__;__;__;__;__;__;__\t0.013543659504836787\n",
      "20. D_0__Eukaryota;D_1__Opisthokonta;D_2__Nucletmycea;D_3__Fungi;D_4__Dikarya;D_5__Basidiomycota;D_6__Agaricomycotina;D_7__Tremellomycetes;D_8__Trichosporonales;D_9__Trichosporonaceae;__\t0.012995510536795353\n",
      "21. D_0__Eukaryota;D_1__Opisthokonta;D_2__Nucletmycea;D_3__Fungi;D_4__Dikarya;D_5__Ascomycota;D_6__Pezizomycotina;D_7__Eurotiomycetes;D_8__Chaetothyriales;D_9__Herpotrichiellaceae;__\t0.012223617727188035\n",
      "22. D_0__Eukaryota;D_1__Opisthokonta;D_2__Nucletmycea;D_3__Fungi;D_4__Dikarya;D_5__Basidiomycota;D_6__Agaricomycotina;D_7__Agaricomycetes;__;__;__\t0.011422615653549233\n",
      "23. D_0__Eukaryota;D_1__Opisthokonta;D_2__Nucletmycea;D_3__Fungi;D_4__Dikarya;D_5__Ascomycota;D_6__Pezizomycotina;D_7__Pezizomycetes;D_8__Pezizales;D_9__Tuberaceae;D_10__Tuber\t0.01082266462638698\n",
      "24. D_0__Eukaryota;D_1__Opisthokonta;D_2__Holozoa;D_3__Metazoa (Animalia);D_4__Eumetazoa;D_5__Bilateria;D_6__Nematoda;D_7__Chromadorea;D_8__Rhabditida;D_9__Oscheius sp. MCB;D_10__\t0.010744090505600785\n",
      "25. D_0__Eukaryota;D_1__Opisthokonta;D_2__Nucletmycea;D_3__Fungi;D_4__Dikarya;D_5__Basidiomycota;D_6__Agaricomycotina;D_7__Tremellomycetes;D_8__Cystofilobasidiales;D_9__Mrakiaceae;D_10__Udeniomyces\t0.010726100891789915\n"
     ]
    }
   ],
   "source": [
    "importances = bone_summer_L11.feature_importances_\n",
    "std = np.std([tree.feature_importances_ for tree in bone_summer_L11.estimators_],\n",
    "             axis=0)\n",
    "indices = np.argsort(importances)[::-1]\n",
    "\n",
    "feature_metadata = Summer_L11.feature_metadata\n",
    "np.savetxt(\"importances/bone_summer_18S_L11_features.csv\", feature_metadata, delimiter=\",\", fmt='%s')\n",
    "\n",
    "\n",
    "#print the important ids in order\n",
    "general_importances = []\n",
    "count = 0\n",
    "print(\"Feature:\\t\\t\\t\\tImportance:\")\n",
    "for i in indices:\n",
    "    general_importances += (Summer_L11.feature_metadata.index.values[i], importances[indices[count]])\n",
    "    if count < 25:\n",
    "        print(str(count+1)+\". \"+str(Summer_L11.feature_metadata.index.values[i])+\"\\t\"+str(importances[indices[count]]))\n",
    "    count += 1\n",
    "    \n",
    "general_importances_df = pd.DataFrame(np.array(general_importances).reshape(634,1))\n",
    "\n",
    "np.savetxt(\"importances/bone_summer_18S_L11_importances.csv\", general_importances_df, delimiter=\",\", fmt='%s')"
   ]
  },
  {
   "cell_type": "markdown",
   "metadata": {},
   "source": [
    "## Import rarefied data collapsed at level 10"
   ]
  },
  {
   "cell_type": "code",
   "execution_count": 35,
   "metadata": {},
   "outputs": [
    {
     "name": "stdout",
     "output_type": "stream",
     "text": [
      "2020-07-02 13:26:44 WARNING These have metadata but do not have data - dropped (59): {'STAFS.2016.065.L10', 'CSU.extraction.blank11', 'STAFS.2016.065.L11', 'BLANK52.9A', 'BLANK52.9H', 'CSU.extraction.blank1', 'BLANK52.9C', 'BLANK52.10D', 'BLANK52.12A', 'CSU.extraction.blank12', 'CSU.extraction.blank6', 'CSU.extraction.blank4', 'CSU.extraction.blank8', 'CSU.extraction.blank13', 'BLANK52.11D', 'BLANK52.12B', 'BLANK52.9G', 'CSU.extraction.blank10', 'CSU.extraction.blank2', 'BLANK52.11F', 'BLANK52.5B', 'BLANK52.10F', 'BLANK52.11C', 'CSU.extraction.blank14', 'BLANK52.10B', 'SHSU.STAFS2016.011.L09', 'BLANK52.9B', 'STAFS.2016.065.L09', 'BLANK52.10G', 'BLANK52.11A', 'BLANK52.12D', 'BLANK52.10E', 'SHSU.STAFS2016.024.L10', 'CSU.extraction.blank15', 'BLANK52.12F', 'BLANK52.9F', 'BLANK52.11B', 'STAFS.2016.064.R09', 'BLANK52.10A', 'SHSU.STAFS2016.007.L09', 'CSU.extraction.blank9', '#q2:types', 'SHSU.STAFS2016.007.R10', 'BLANK52.11E', 'BLANK52.12G', 'BLANK52.9D', 'BLANK52.11H', 'BLANK52.11G', 'BLANK52.12E', 'BLANK52.12H', 'STAFS.2016.067.R12', 'BLANK52.10H', 'CSU.extraction.blank5', 'BLANK52.10C', 'CSU.extraction.blank3', 'CSU.extraction.blank7', 'STAFS.2016.067.L11.march', 'BLANK52.12C', 'BLANK52.9E'}\n"
     ]
    }
   ],
   "source": [
    "exp_L10 = ca.read_amplicon('/Users/heatherdeel/Dropbox/PMI_3_analyses/bone/02_18S/Hiseq_original_run/forward_reads_only/01_qiime2_analysis/03_feature_tables/collapsed_tables/18S_plate52_ribonly_table_full_taxfiltered_214940_L10.biom', '/Users/heatherdeel/Dropbox/PMI_3_analyses/bone/02_18S/Hiseq_original_run/forward_reads_only/02_metadata/map_18S.txt', min_reads=0, normalize=None)\n"
   ]
  },
  {
   "cell_type": "code",
   "execution_count": 36,
   "metadata": {},
   "outputs": [
    {
     "data": {
      "text/plain": [
       "STAFS2016.064    7\n",
       "STAFS2016.067    6\n",
       "STAFS2016.065    5\n",
       "Name: host_subject_id, dtype: int64"
      ]
     },
     "execution_count": 36,
     "metadata": {},
     "output_type": "execute_result"
    }
   ],
   "source": [
    "#filtering out spring and defining this as \"Summer\"\n",
    "Summer_L10 = exp_L10.filter_samples('season', 'summer')\n",
    "Summer_L10.sample_metadata.host_subject_id.value_counts()"
   ]
  },
  {
   "cell_type": "code",
   "execution_count": 37,
   "metadata": {},
   "outputs": [
    {
     "name": "stdout",
     "output_type": "stream",
     "text": [
      "                                                                                          _feature_id\n",
      "D_0__Eukaryota;D_1__Amoebozoa;D_2__Cavosteliida...  D_0__Eukaryota;D_1__Amoebozoa;D_2__Cavosteliid...\n",
      "D_0__Eukaryota;D_1__Amoebozoa;D_2__Dictyostelia...  D_0__Eukaryota;D_1__Amoebozoa;D_2__Dictyosteli...\n",
      "D_0__Eukaryota;D_1__Amoebozoa;D_2__Discosea;D_3...  D_0__Eukaryota;D_1__Amoebozoa;D_2__Discosea;D_...\n",
      "D_0__Eukaryota;D_1__Amoebozoa;D_2__Discosea;D_3...  D_0__Eukaryota;D_1__Amoebozoa;D_2__Discosea;D_...\n",
      "D_0__Eukaryota;D_1__Amoebozoa;D_2__Discosea;D_3...  D_0__Eukaryota;D_1__Amoebozoa;D_2__Discosea;D_...\n",
      "D_0__Eukaryota;D_1__Amoebozoa;D_2__Discosea;D_3...  D_0__Eukaryota;D_1__Amoebozoa;D_2__Discosea;D_...\n",
      "D_0__Eukaryota;D_1__Amoebozoa;D_2__Discosea;D_3...  D_0__Eukaryota;D_1__Amoebozoa;D_2__Discosea;D_...\n",
      "D_0__Eukaryota;D_1__Amoebozoa;D_2__Discosea;D_3...  D_0__Eukaryota;D_1__Amoebozoa;D_2__Discosea;D_...\n",
      "D_0__Eukaryota;D_1__Amoebozoa;D_2__Discosea;D_3...  D_0__Eukaryota;D_1__Amoebozoa;D_2__Discosea;D_...\n",
      "D_0__Eukaryota;D_1__Amoebozoa;D_2__Gracilipodid...  D_0__Eukaryota;D_1__Amoebozoa;D_2__Gracilipodi...\n",
      "D_0__Eukaryota;D_1__Amoebozoa;D_2__Incertae Sed...  D_0__Eukaryota;D_1__Amoebozoa;D_2__Incertae Se...\n",
      "D_0__Eukaryota;D_1__Amoebozoa;D_2__Mycamoeba;D_...  D_0__Eukaryota;D_1__Amoebozoa;D_2__Mycamoeba;D...\n",
      "D_0__Eukaryota;D_1__Amoebozoa;D_2__Myxogastria;...  D_0__Eukaryota;D_1__Amoebozoa;D_2__Myxogastria...\n",
      "D_0__Eukaryota;D_1__Amoebozoa;D_2__Myxogastria;...  D_0__Eukaryota;D_1__Amoebozoa;D_2__Myxogastria...\n",
      "D_0__Eukaryota;D_1__Amoebozoa;D_2__Schizoplasmo...  D_0__Eukaryota;D_1__Amoebozoa;D_2__Schizoplasm...\n",
      "D_0__Eukaryota;D_1__Amoebozoa;D_2__Schizoplasmo...  D_0__Eukaryota;D_1__Amoebozoa;D_2__Schizoplasm...\n",
      "D_0__Eukaryota;D_1__Amoebozoa;D_2__Tubulinea;D_...  D_0__Eukaryota;D_1__Amoebozoa;D_2__Tubulinea;D...\n",
      "D_0__Eukaryota;D_1__Amoebozoa;D_2__Tubulinea;D_...  D_0__Eukaryota;D_1__Amoebozoa;D_2__Tubulinea;D...\n",
      "D_0__Eukaryota;D_1__Amoebozoa;D_2__Tubulinea;D_...  D_0__Eukaryota;D_1__Amoebozoa;D_2__Tubulinea;D...\n",
      "D_0__Eukaryota;D_1__Amoebozoa;D_2__Tubulinea;D_...  D_0__Eukaryota;D_1__Amoebozoa;D_2__Tubulinea;D...\n",
      "D_0__Eukaryota;D_1__Amoebozoa;D_2__Tubulinea;D_...  D_0__Eukaryota;D_1__Amoebozoa;D_2__Tubulinea;D...\n",
      "D_0__Eukaryota;D_1__Amoebozoa;D_2__Tubulinea;D_...  D_0__Eukaryota;D_1__Amoebozoa;D_2__Tubulinea;D...\n",
      "D_0__Eukaryota;D_1__Amoebozoa;D_2__Tubulinea;D_...  D_0__Eukaryota;D_1__Amoebozoa;D_2__Tubulinea;D...\n",
      "D_0__Eukaryota;D_1__Amoebozoa;D_2__Tubulinea;D_...  D_0__Eukaryota;D_1__Amoebozoa;D_2__Tubulinea;D...\n",
      "D_0__Eukaryota;D_1__Amoebozoa;D_2__Tubulinea;__...  D_0__Eukaryota;D_1__Amoebozoa;D_2__Tubulinea;_...\n",
      "D_0__Eukaryota;D_1__Amoebozoa;D_2__metagenome;D...  D_0__Eukaryota;D_1__Amoebozoa;D_2__metagenome;...\n",
      "D_0__Eukaryota;D_1__Amoebozoa;D_2__uncultured;D...  D_0__Eukaryota;D_1__Amoebozoa;D_2__uncultured;...\n",
      "D_0__Eukaryota;D_1__Cryptophyceae;D_2__Cryptomo...  D_0__Eukaryota;D_1__Cryptophyceae;D_2__Cryptom...\n",
      "D_0__Eukaryota;D_1__Excavata;D_2__Discoba;D_3__...  D_0__Eukaryota;D_1__Excavata;D_2__Discoba;D_3_...\n",
      "D_0__Eukaryota;D_1__Excavata;D_2__Discoba;D_3__...  D_0__Eukaryota;D_1__Excavata;D_2__Discoba;D_3_...\n",
      "D_0__Eukaryota;D_1__Excavata;D_2__Discoba;D_3__...  D_0__Eukaryota;D_1__Excavata;D_2__Discoba;D_3_...\n",
      "D_0__Eukaryota;D_1__Excavata;D_2__Discoba;D_3__...  D_0__Eukaryota;D_1__Excavata;D_2__Discoba;D_3_...\n",
      "D_0__Eukaryota;D_1__Excavata;D_2__Discoba;D_3__...  D_0__Eukaryota;D_1__Excavata;D_2__Discoba;D_3_...\n",
      "D_0__Eukaryota;D_1__Excavata;D_2__Discoba;D_3__...  D_0__Eukaryota;D_1__Excavata;D_2__Discoba;D_3_...\n",
      "D_0__Eukaryota;D_1__Excavata;D_2__Discoba;D_3__...  D_0__Eukaryota;D_1__Excavata;D_2__Discoba;D_3_...\n",
      "D_0__Eukaryota;D_1__Excavata;D_2__Discoba;D_3__...  D_0__Eukaryota;D_1__Excavata;D_2__Discoba;D_3_...\n",
      "D_0__Eukaryota;D_1__Excavata;D_2__Discoba;D_3__...  D_0__Eukaryota;D_1__Excavata;D_2__Discoba;D_3_...\n",
      "D_0__Eukaryota;D_1__Excavata;D_2__Discoba;D_3__...  D_0__Eukaryota;D_1__Excavata;D_2__Discoba;D_3_...\n",
      "D_0__Eukaryota;D_1__Excavata;D_2__Discoba;D_3__...  D_0__Eukaryota;D_1__Excavata;D_2__Discoba;D_3_...\n",
      "D_0__Eukaryota;D_1__Excavata;D_2__Discoba;D_3__...  D_0__Eukaryota;D_1__Excavata;D_2__Discoba;D_3_...\n",
      "D_0__Eukaryota;D_1__Excavata;D_2__Discoba;D_3__...  D_0__Eukaryota;D_1__Excavata;D_2__Discoba;D_3_...\n",
      "D_0__Eukaryota;D_1__Excavata;D_2__Discoba;D_3__...  D_0__Eukaryota;D_1__Excavata;D_2__Discoba;D_3_...\n",
      "D_0__Eukaryota;D_1__Excavata;D_2__Discoba;D_3__...  D_0__Eukaryota;D_1__Excavata;D_2__Discoba;D_3_...\n",
      "D_0__Eukaryota;D_1__Excavata;D_2__Discoba;D_3__...  D_0__Eukaryota;D_1__Excavata;D_2__Discoba;D_3_...\n",
      "D_0__Eukaryota;D_1__Excavata;D_2__Discoba;D_3__...  D_0__Eukaryota;D_1__Excavata;D_2__Discoba;D_3_...\n",
      "D_0__Eukaryota;D_1__Excavata;D_2__Discoba;D_3__...  D_0__Eukaryota;D_1__Excavata;D_2__Discoba;D_3_...\n",
      "D_0__Eukaryota;D_1__Excavata;D_2__Discoba;D_3__...  D_0__Eukaryota;D_1__Excavata;D_2__Discoba;D_3_...\n",
      "D_0__Eukaryota;D_1__Excavata;D_2__Discoba;D_3__...  D_0__Eukaryota;D_1__Excavata;D_2__Discoba;D_3_...\n",
      "D_0__Eukaryota;D_1__Excavata;D_2__Discoba;D_3__...  D_0__Eukaryota;D_1__Excavata;D_2__Discoba;D_3_...\n",
      "D_0__Eukaryota;D_1__Excavata;D_2__Discoba;D_3__...  D_0__Eukaryota;D_1__Excavata;D_2__Discoba;D_3_...\n",
      "D_0__Eukaryota;D_1__Excavata;D_2__Discoba;D_3__...  D_0__Eukaryota;D_1__Excavata;D_2__Discoba;D_3_...\n",
      "D_0__Eukaryota;D_1__Excavata;D_2__Discoba;D_3__...  D_0__Eukaryota;D_1__Excavata;D_2__Discoba;D_3_...\n",
      "D_0__Eukaryota;D_1__Excavata;D_2__Metamonada;D_...  D_0__Eukaryota;D_1__Excavata;D_2__Metamonada;D...\n",
      "D_0__Eukaryota;D_1__Excavata;D_2__Metamonada;D_...  D_0__Eukaryota;D_1__Excavata;D_2__Metamonada;D...\n",
      "D_0__Eukaryota;D_1__Opisthokonta;D_2__Holozoa;D...  D_0__Eukaryota;D_1__Opisthokonta;D_2__Holozoa;...\n",
      "D_0__Eukaryota;D_1__Opisthokonta;D_2__Holozoa;D...  D_0__Eukaryota;D_1__Opisthokonta;D_2__Holozoa;...\n",
      "D_0__Eukaryota;D_1__Opisthokonta;D_2__Holozoa;D...  D_0__Eukaryota;D_1__Opisthokonta;D_2__Holozoa;...\n",
      "D_0__Eukaryota;D_1__Opisthokonta;D_2__Holozoa;D...  D_0__Eukaryota;D_1__Opisthokonta;D_2__Holozoa;...\n",
      "D_0__Eukaryota;D_1__Opisthokonta;D_2__Holozoa;D...  D_0__Eukaryota;D_1__Opisthokonta;D_2__Holozoa;...\n",
      "D_0__Eukaryota;D_1__Opisthokonta;D_2__Holozoa;D...  D_0__Eukaryota;D_1__Opisthokonta;D_2__Holozoa;...\n",
      "D_0__Eukaryota;D_1__Opisthokonta;D_2__Holozoa;D...  D_0__Eukaryota;D_1__Opisthokonta;D_2__Holozoa;...\n",
      "D_0__Eukaryota;D_1__Opisthokonta;D_2__Holozoa;D...  D_0__Eukaryota;D_1__Opisthokonta;D_2__Holozoa;...\n",
      "D_0__Eukaryota;D_1__Opisthokonta;D_2__Holozoa;D...  D_0__Eukaryota;D_1__Opisthokonta;D_2__Holozoa;...\n",
      "D_0__Eukaryota;D_1__Opisthokonta;D_2__Holozoa;D...  D_0__Eukaryota;D_1__Opisthokonta;D_2__Holozoa;...\n",
      "D_0__Eukaryota;D_1__Opisthokonta;D_2__Holozoa;D...  D_0__Eukaryota;D_1__Opisthokonta;D_2__Holozoa;...\n",
      "D_0__Eukaryota;D_1__Opisthokonta;D_2__Holozoa;D...  D_0__Eukaryota;D_1__Opisthokonta;D_2__Holozoa;...\n",
      "D_0__Eukaryota;D_1__Opisthokonta;D_2__Holozoa;D...  D_0__Eukaryota;D_1__Opisthokonta;D_2__Holozoa;...\n",
      "D_0__Eukaryota;D_1__Opisthokonta;D_2__Holozoa;D...  D_0__Eukaryota;D_1__Opisthokonta;D_2__Holozoa;...\n",
      "D_0__Eukaryota;D_1__Opisthokonta;D_2__Holozoa;D...  D_0__Eukaryota;D_1__Opisthokonta;D_2__Holozoa;...\n",
      "D_0__Eukaryota;D_1__Opisthokonta;D_2__Holozoa;D...  D_0__Eukaryota;D_1__Opisthokonta;D_2__Holozoa;...\n",
      "D_0__Eukaryota;D_1__Opisthokonta;D_2__Holozoa;D...  D_0__Eukaryota;D_1__Opisthokonta;D_2__Holozoa;...\n",
      "D_0__Eukaryota;D_1__Opisthokonta;D_2__Holozoa;D...  D_0__Eukaryota;D_1__Opisthokonta;D_2__Holozoa;...\n",
      "D_0__Eukaryota;D_1__Opisthokonta;D_2__Holozoa;_...  D_0__Eukaryota;D_1__Opisthokonta;D_2__Holozoa;...\n",
      "D_0__Eukaryota;D_1__Opisthokonta;D_2__Nucletmyc...  D_0__Eukaryota;D_1__Opisthokonta;D_2__Nucletmy...\n",
      "D_0__Eukaryota;D_1__Opisthokonta;D_2__Nucletmyc...  D_0__Eukaryota;D_1__Opisthokonta;D_2__Nucletmy...\n",
      "D_0__Eukaryota;D_1__Opisthokonta;D_2__Nucletmyc...  D_0__Eukaryota;D_1__Opisthokonta;D_2__Nucletmy...\n",
      "D_0__Eukaryota;D_1__Opisthokonta;D_2__Nucletmyc...  D_0__Eukaryota;D_1__Opisthokonta;D_2__Nucletmy...\n",
      "D_0__Eukaryota;D_1__Opisthokonta;D_2__Nucletmyc...  D_0__Eukaryota;D_1__Opisthokonta;D_2__Nucletmy...\n",
      "D_0__Eukaryota;D_1__Opisthokonta;D_2__Nucletmyc...  D_0__Eukaryota;D_1__Opisthokonta;D_2__Nucletmy...\n",
      "D_0__Eukaryota;D_1__Opisthokonta;D_2__Nucletmyc...  D_0__Eukaryota;D_1__Opisthokonta;D_2__Nucletmy...\n",
      "D_0__Eukaryota;D_1__Opisthokonta;D_2__Nucletmyc...  D_0__Eukaryota;D_1__Opisthokonta;D_2__Nucletmy...\n",
      "D_0__Eukaryota;D_1__Opisthokonta;D_2__Nucletmyc...  D_0__Eukaryota;D_1__Opisthokonta;D_2__Nucletmy...\n",
      "D_0__Eukaryota;D_1__Opisthokonta;D_2__Nucletmyc...  D_0__Eukaryota;D_1__Opisthokonta;D_2__Nucletmy...\n",
      "D_0__Eukaryota;D_1__Opisthokonta;D_2__Nucletmyc...  D_0__Eukaryota;D_1__Opisthokonta;D_2__Nucletmy...\n",
      "D_0__Eukaryota;D_1__Opisthokonta;D_2__Nucletmyc...  D_0__Eukaryota;D_1__Opisthokonta;D_2__Nucletmy...\n",
      "D_0__Eukaryota;D_1__Opisthokonta;D_2__Nucletmyc...  D_0__Eukaryota;D_1__Opisthokonta;D_2__Nucletmy...\n",
      "D_0__Eukaryota;D_1__Opisthokonta;D_2__Nucletmyc...  D_0__Eukaryota;D_1__Opisthokonta;D_2__Nucletmy...\n",
      "D_0__Eukaryota;D_1__Opisthokonta;D_2__Nucletmyc...  D_0__Eukaryota;D_1__Opisthokonta;D_2__Nucletmy...\n",
      "D_0__Eukaryota;D_1__Opisthokonta;D_2__Nucletmyc...  D_0__Eukaryota;D_1__Opisthokonta;D_2__Nucletmy...\n",
      "D_0__Eukaryota;D_1__Opisthokonta;D_2__Nucletmyc...  D_0__Eukaryota;D_1__Opisthokonta;D_2__Nucletmy...\n",
      "D_0__Eukaryota;D_1__Opisthokonta;D_2__Nucletmyc...  D_0__Eukaryota;D_1__Opisthokonta;D_2__Nucletmy...\n",
      "D_0__Eukaryota;D_1__Opisthokonta;D_2__Nucletmyc...  D_0__Eukaryota;D_1__Opisthokonta;D_2__Nucletmy...\n",
      "D_0__Eukaryota;D_1__Opisthokonta;D_2__Nucletmyc...  D_0__Eukaryota;D_1__Opisthokonta;D_2__Nucletmy...\n",
      "D_0__Eukaryota;D_1__Opisthokonta;D_2__Nucletmyc...  D_0__Eukaryota;D_1__Opisthokonta;D_2__Nucletmy...\n",
      "D_0__Eukaryota;D_1__Opisthokonta;D_2__Nucletmyc...  D_0__Eukaryota;D_1__Opisthokonta;D_2__Nucletmy...\n",
      "D_0__Eukaryota;D_1__Opisthokonta;D_2__Nucletmyc...  D_0__Eukaryota;D_1__Opisthokonta;D_2__Nucletmy...\n",
      "D_0__Eukaryota;D_1__Opisthokonta;D_2__Nucletmyc...  D_0__Eukaryota;D_1__Opisthokonta;D_2__Nucletmy...\n",
      "D_0__Eukaryota;D_1__Opisthokonta;D_2__Nucletmyc...  D_0__Eukaryota;D_1__Opisthokonta;D_2__Nucletmy...\n",
      "D_0__Eukaryota;D_1__Opisthokonta;D_2__Nucletmyc...  D_0__Eukaryota;D_1__Opisthokonta;D_2__Nucletmy...\n",
      "D_0__Eukaryota;D_1__Opisthokonta;D_2__Nucletmyc...  D_0__Eukaryota;D_1__Opisthokonta;D_2__Nucletmy...\n",
      "D_0__Eukaryota;D_1__Opisthokonta;D_2__Nucletmyc...  D_0__Eukaryota;D_1__Opisthokonta;D_2__Nucletmy...\n",
      "D_0__Eukaryota;D_1__Opisthokonta;D_2__Nucletmyc...  D_0__Eukaryota;D_1__Opisthokonta;D_2__Nucletmy...\n",
      "D_0__Eukaryota;D_1__Opisthokonta;D_2__Nucletmyc...  D_0__Eukaryota;D_1__Opisthokonta;D_2__Nucletmy...\n",
      "D_0__Eukaryota;D_1__Opisthokonta;D_2__Nucletmyc...  D_0__Eukaryota;D_1__Opisthokonta;D_2__Nucletmy...\n",
      "D_0__Eukaryota;D_1__Opisthokonta;D_2__Nucletmyc...  D_0__Eukaryota;D_1__Opisthokonta;D_2__Nucletmy...\n",
      "D_0__Eukaryota;D_1__Opisthokonta;D_2__Nucletmyc...  D_0__Eukaryota;D_1__Opisthokonta;D_2__Nucletmy...\n",
      "D_0__Eukaryota;D_1__Opisthokonta;D_2__Nucletmyc...  D_0__Eukaryota;D_1__Opisthokonta;D_2__Nucletmy...\n",
      "D_0__Eukaryota;D_1__Opisthokonta;D_2__Nucletmyc...  D_0__Eukaryota;D_1__Opisthokonta;D_2__Nucletmy...\n",
      "D_0__Eukaryota;D_1__Opisthokonta;D_2__Nucletmyc...  D_0__Eukaryota;D_1__Opisthokonta;D_2__Nucletmy...\n",
      "D_0__Eukaryota;D_1__Opisthokonta;D_2__Nucletmyc...  D_0__Eukaryota;D_1__Opisthokonta;D_2__Nucletmy...\n",
      "D_0__Eukaryota;D_1__Opisthokonta;D_2__Nucletmyc...  D_0__Eukaryota;D_1__Opisthokonta;D_2__Nucletmy...\n",
      "D_0__Eukaryota;D_1__Opisthokonta;D_2__Nucletmyc...  D_0__Eukaryota;D_1__Opisthokonta;D_2__Nucletmy...\n",
      "D_0__Eukaryota;D_1__Opisthokonta;D_2__Nucletmyc...  D_0__Eukaryota;D_1__Opisthokonta;D_2__Nucletmy...\n",
      "D_0__Eukaryota;D_1__Opisthokonta;D_2__Nucletmyc...  D_0__Eukaryota;D_1__Opisthokonta;D_2__Nucletmy...\n",
      "D_0__Eukaryota;D_1__Opisthokonta;D_2__Nucletmyc...  D_0__Eukaryota;D_1__Opisthokonta;D_2__Nucletmy...\n",
      "D_0__Eukaryota;D_1__Opisthokonta;D_2__Nucletmyc...  D_0__Eukaryota;D_1__Opisthokonta;D_2__Nucletmy...\n",
      "D_0__Eukaryota;D_1__Opisthokonta;D_2__Nucletmyc...  D_0__Eukaryota;D_1__Opisthokonta;D_2__Nucletmy...\n",
      "D_0__Eukaryota;D_1__Opisthokonta;D_2__Nucletmyc...  D_0__Eukaryota;D_1__Opisthokonta;D_2__Nucletmy...\n",
      "D_0__Eukaryota;D_1__Opisthokonta;D_2__Nucletmyc...  D_0__Eukaryota;D_1__Opisthokonta;D_2__Nucletmy...\n",
      "D_0__Eukaryota;D_1__Opisthokonta;D_2__Nucletmyc...  D_0__Eukaryota;D_1__Opisthokonta;D_2__Nucletmy...\n",
      "D_0__Eukaryota;D_1__Opisthokonta;D_2__Nucletmyc...  D_0__Eukaryota;D_1__Opisthokonta;D_2__Nucletmy...\n",
      "D_0__Eukaryota;D_1__Opisthokonta;D_2__Nucletmyc...  D_0__Eukaryota;D_1__Opisthokonta;D_2__Nucletmy...\n",
      "D_0__Eukaryota;D_1__Opisthokonta;D_2__Nucletmyc...  D_0__Eukaryota;D_1__Opisthokonta;D_2__Nucletmy...\n",
      "D_0__Eukaryota;D_1__Opisthokonta;D_2__Nucletmyc...  D_0__Eukaryota;D_1__Opisthokonta;D_2__Nucletmy...\n",
      "D_0__Eukaryota;D_1__Opisthokonta;D_2__Nucletmyc...  D_0__Eukaryota;D_1__Opisthokonta;D_2__Nucletmy...\n",
      "D_0__Eukaryota;D_1__Opisthokonta;D_2__Nucletmyc...  D_0__Eukaryota;D_1__Opisthokonta;D_2__Nucletmy...\n",
      "D_0__Eukaryota;D_1__Opisthokonta;D_2__Nucletmyc...  D_0__Eukaryota;D_1__Opisthokonta;D_2__Nucletmy...\n",
      "D_0__Eukaryota;D_1__Opisthokonta;D_2__Nucletmyc...  D_0__Eukaryota;D_1__Opisthokonta;D_2__Nucletmy...\n",
      "D_0__Eukaryota;D_1__Opisthokonta;D_2__Nucletmyc...  D_0__Eukaryota;D_1__Opisthokonta;D_2__Nucletmy...\n",
      "D_0__Eukaryota;D_1__Opisthokonta;D_2__Nucletmyc...  D_0__Eukaryota;D_1__Opisthokonta;D_2__Nucletmy...\n",
      "D_0__Eukaryota;D_1__Opisthokonta;D_2__Nucletmyc...  D_0__Eukaryota;D_1__Opisthokonta;D_2__Nucletmy...\n",
      "D_0__Eukaryota;D_1__Opisthokonta;D_2__Nucletmyc...  D_0__Eukaryota;D_1__Opisthokonta;D_2__Nucletmy...\n",
      "D_0__Eukaryota;D_1__Opisthokonta;D_2__Nucletmyc...  D_0__Eukaryota;D_1__Opisthokonta;D_2__Nucletmy...\n",
      "D_0__Eukaryota;D_1__Opisthokonta;D_2__Nucletmyc...  D_0__Eukaryota;D_1__Opisthokonta;D_2__Nucletmy...\n",
      "D_0__Eukaryota;D_1__Opisthokonta;D_2__Nucletmyc...  D_0__Eukaryota;D_1__Opisthokonta;D_2__Nucletmy...\n",
      "D_0__Eukaryota;D_1__Opisthokonta;D_2__Nucletmyc...  D_0__Eukaryota;D_1__Opisthokonta;D_2__Nucletmy...\n",
      "D_0__Eukaryota;D_1__Opisthokonta;D_2__Nucletmyc...  D_0__Eukaryota;D_1__Opisthokonta;D_2__Nucletmy...\n",
      "D_0__Eukaryota;D_1__Opisthokonta;D_2__Nucletmyc...  D_0__Eukaryota;D_1__Opisthokonta;D_2__Nucletmy...\n",
      "D_0__Eukaryota;D_1__Opisthokonta;D_2__Nucletmyc...  D_0__Eukaryota;D_1__Opisthokonta;D_2__Nucletmy...\n",
      "D_0__Eukaryota;D_1__Opisthokonta;D_2__Nucletmyc...  D_0__Eukaryota;D_1__Opisthokonta;D_2__Nucletmy...\n",
      "D_0__Eukaryota;D_1__Opisthokonta;D_2__Nucletmyc...  D_0__Eukaryota;D_1__Opisthokonta;D_2__Nucletmy...\n",
      "D_0__Eukaryota;D_1__Opisthokonta;D_2__Nucletmyc...  D_0__Eukaryota;D_1__Opisthokonta;D_2__Nucletmy...\n",
      "D_0__Eukaryota;D_1__Opisthokonta;D_2__Nucletmyc...  D_0__Eukaryota;D_1__Opisthokonta;D_2__Nucletmy...\n",
      "D_0__Eukaryota;D_1__Opisthokonta;D_2__Nucletmyc...  D_0__Eukaryota;D_1__Opisthokonta;D_2__Nucletmy...\n",
      "D_0__Eukaryota;D_1__Opisthokonta;D_2__Nucletmyc...  D_0__Eukaryota;D_1__Opisthokonta;D_2__Nucletmy...\n",
      "D_0__Eukaryota;D_1__Opisthokonta;D_2__Nucletmyc...  D_0__Eukaryota;D_1__Opisthokonta;D_2__Nucletmy...\n",
      "D_0__Eukaryota;D_1__Opisthokonta;D_2__Nucletmyc...  D_0__Eukaryota;D_1__Opisthokonta;D_2__Nucletmy...\n",
      "D_0__Eukaryota;D_1__Opisthokonta;D_2__Nucletmyc...  D_0__Eukaryota;D_1__Opisthokonta;D_2__Nucletmy...\n",
      "D_0__Eukaryota;D_1__Opisthokonta;D_2__Nucletmyc...  D_0__Eukaryota;D_1__Opisthokonta;D_2__Nucletmy...\n",
      "D_0__Eukaryota;D_1__Opisthokonta;D_2__Nucletmyc...  D_0__Eukaryota;D_1__Opisthokonta;D_2__Nucletmy...\n",
      "D_0__Eukaryota;D_1__Opisthokonta;D_2__Nucletmyc...  D_0__Eukaryota;D_1__Opisthokonta;D_2__Nucletmy...\n",
      "D_0__Eukaryota;D_1__Opisthokonta;D_2__Nucletmyc...  D_0__Eukaryota;D_1__Opisthokonta;D_2__Nucletmy...\n",
      "D_0__Eukaryota;D_1__Opisthokonta;D_2__Nucletmyc...  D_0__Eukaryota;D_1__Opisthokonta;D_2__Nucletmy...\n",
      "D_0__Eukaryota;D_1__Opisthokonta;D_2__Nucletmyc...  D_0__Eukaryota;D_1__Opisthokonta;D_2__Nucletmy...\n",
      "D_0__Eukaryota;D_1__Opisthokonta;D_2__Nucletmyc...  D_0__Eukaryota;D_1__Opisthokonta;D_2__Nucletmy...\n",
      "D_0__Eukaryota;D_1__Opisthokonta;D_2__Nucletmyc...  D_0__Eukaryota;D_1__Opisthokonta;D_2__Nucletmy...\n",
      "D_0__Eukaryota;D_1__Opisthokonta;D_2__Nucletmyc...  D_0__Eukaryota;D_1__Opisthokonta;D_2__Nucletmy...\n",
      "D_0__Eukaryota;D_1__Opisthokonta;D_2__Nucletmyc...  D_0__Eukaryota;D_1__Opisthokonta;D_2__Nucletmy...\n",
      "D_0__Eukaryota;D_1__Opisthokonta;D_2__Nucletmyc...  D_0__Eukaryota;D_1__Opisthokonta;D_2__Nucletmy...\n",
      "D_0__Eukaryota;D_1__Opisthokonta;D_2__Nucletmyc...  D_0__Eukaryota;D_1__Opisthokonta;D_2__Nucletmy...\n",
      "D_0__Eukaryota;D_1__Opisthokonta;D_2__Nucletmyc...  D_0__Eukaryota;D_1__Opisthokonta;D_2__Nucletmy...\n",
      "D_0__Eukaryota;D_1__Opisthokonta;D_2__Nucletmyc...  D_0__Eukaryota;D_1__Opisthokonta;D_2__Nucletmy...\n",
      "D_0__Eukaryota;D_1__Opisthokonta;D_2__Nucletmyc...  D_0__Eukaryota;D_1__Opisthokonta;D_2__Nucletmy...\n",
      "D_0__Eukaryota;D_1__Opisthokonta;D_2__Nucletmyc...  D_0__Eukaryota;D_1__Opisthokonta;D_2__Nucletmy...\n",
      "D_0__Eukaryota;D_1__Opisthokonta;D_2__Nucletmyc...  D_0__Eukaryota;D_1__Opisthokonta;D_2__Nucletmy...\n",
      "D_0__Eukaryota;D_1__Opisthokonta;D_2__Nucletmyc...  D_0__Eukaryota;D_1__Opisthokonta;D_2__Nucletmy...\n",
      "D_0__Eukaryota;D_1__Opisthokonta;D_2__Nucletmyc...  D_0__Eukaryota;D_1__Opisthokonta;D_2__Nucletmy...\n",
      "D_0__Eukaryota;D_1__Opisthokonta;D_2__Nucletmyc...  D_0__Eukaryota;D_1__Opisthokonta;D_2__Nucletmy...\n",
      "D_0__Eukaryota;D_1__Opisthokonta;D_2__Nucletmyc...  D_0__Eukaryota;D_1__Opisthokonta;D_2__Nucletmy...\n",
      "D_0__Eukaryota;D_1__Opisthokonta;D_2__Nucletmyc...  D_0__Eukaryota;D_1__Opisthokonta;D_2__Nucletmy...\n",
      "D_0__Eukaryota;D_1__Opisthokonta;D_2__Nucletmyc...  D_0__Eukaryota;D_1__Opisthokonta;D_2__Nucletmy...\n",
      "D_0__Eukaryota;D_1__Opisthokonta;D_2__Nucletmyc...  D_0__Eukaryota;D_1__Opisthokonta;D_2__Nucletmy...\n",
      "D_0__Eukaryota;D_1__Opisthokonta;D_2__Nucletmyc...  D_0__Eukaryota;D_1__Opisthokonta;D_2__Nucletmy...\n",
      "D_0__Eukaryota;D_1__Opisthokonta;D_2__Nucletmyc...  D_0__Eukaryota;D_1__Opisthokonta;D_2__Nucletmy...\n",
      "D_0__Eukaryota;D_1__Opisthokonta;D_2__Nucletmyc...  D_0__Eukaryota;D_1__Opisthokonta;D_2__Nucletmy...\n",
      "D_0__Eukaryota;D_1__Opisthokonta;D_2__Nucletmyc...  D_0__Eukaryota;D_1__Opisthokonta;D_2__Nucletmy...\n",
      "D_0__Eukaryota;D_1__Opisthokonta;D_2__Nucletmyc...  D_0__Eukaryota;D_1__Opisthokonta;D_2__Nucletmy...\n",
      "D_0__Eukaryota;D_1__Opisthokonta;D_2__Nucletmyc...  D_0__Eukaryota;D_1__Opisthokonta;D_2__Nucletmy...\n",
      "D_0__Eukaryota;D_1__Opisthokonta;__;__;__;__;__...  D_0__Eukaryota;D_1__Opisthokonta;__;__;__;__;_...\n",
      "D_0__Eukaryota;D_1__SAR;D_2__Alveolata;D_3__Api...  D_0__Eukaryota;D_1__SAR;D_2__Alveolata;D_3__Ap...\n",
      "D_0__Eukaryota;D_1__SAR;D_2__Alveolata;D_3__Api...  D_0__Eukaryota;D_1__SAR;D_2__Alveolata;D_3__Ap...\n",
      "D_0__Eukaryota;D_1__SAR;D_2__Alveolata;D_3__Api...  D_0__Eukaryota;D_1__SAR;D_2__Alveolata;D_3__Ap...\n",
      "D_0__Eukaryota;D_1__SAR;D_2__Alveolata;D_3__Api...  D_0__Eukaryota;D_1__SAR;D_2__Alveolata;D_3__Ap...\n",
      "D_0__Eukaryota;D_1__SAR;D_2__Alveolata;D_3__Api...  D_0__Eukaryota;D_1__SAR;D_2__Alveolata;D_3__Ap...\n",
      "D_0__Eukaryota;D_1__SAR;D_2__Alveolata;D_3__Api...  D_0__Eukaryota;D_1__SAR;D_2__Alveolata;D_3__Ap...\n",
      "D_0__Eukaryota;D_1__SAR;D_2__Alveolata;D_3__Api...  D_0__Eukaryota;D_1__SAR;D_2__Alveolata;D_3__Ap...\n",
      "D_0__Eukaryota;D_1__SAR;D_2__Alveolata;D_3__Api...  D_0__Eukaryota;D_1__SAR;D_2__Alveolata;D_3__Ap...\n",
      "D_0__Eukaryota;D_1__SAR;D_2__Alveolata;D_3__Api...  D_0__Eukaryota;D_1__SAR;D_2__Alveolata;D_3__Ap...\n",
      "D_0__Eukaryota;D_1__SAR;D_2__Alveolata;D_3__Api...  D_0__Eukaryota;D_1__SAR;D_2__Alveolata;D_3__Ap...\n",
      "D_0__Eukaryota;D_1__SAR;D_2__Alveolata;D_3__Api...  D_0__Eukaryota;D_1__SAR;D_2__Alveolata;D_3__Ap...\n",
      "D_0__Eukaryota;D_1__SAR;D_2__Alveolata;D_3__Api...  D_0__Eukaryota;D_1__SAR;D_2__Alveolata;D_3__Ap...\n",
      "D_0__Eukaryota;D_1__SAR;D_2__Alveolata;D_3__Api...  D_0__Eukaryota;D_1__SAR;D_2__Alveolata;D_3__Ap...\n",
      "D_0__Eukaryota;D_1__SAR;D_2__Alveolata;D_3__Api...  D_0__Eukaryota;D_1__SAR;D_2__Alveolata;D_3__Ap...\n",
      "D_0__Eukaryota;D_1__SAR;D_2__Alveolata;D_3__Api...  D_0__Eukaryota;D_1__SAR;D_2__Alveolata;D_3__Ap...\n",
      "D_0__Eukaryota;D_1__SAR;D_2__Alveolata;D_3__Cil...  D_0__Eukaryota;D_1__SAR;D_2__Alveolata;D_3__Ci...\n",
      "D_0__Eukaryota;D_1__SAR;D_2__Alveolata;D_3__Cil...  D_0__Eukaryota;D_1__SAR;D_2__Alveolata;D_3__Ci...\n",
      "D_0__Eukaryota;D_1__SAR;D_2__Alveolata;D_3__Cil...  D_0__Eukaryota;D_1__SAR;D_2__Alveolata;D_3__Ci...\n",
      "D_0__Eukaryota;D_1__SAR;D_2__Alveolata;D_3__Cil...  D_0__Eukaryota;D_1__SAR;D_2__Alveolata;D_3__Ci...\n",
      "D_0__Eukaryota;D_1__SAR;D_2__Alveolata;D_3__Cil...  D_0__Eukaryota;D_1__SAR;D_2__Alveolata;D_3__Ci...\n",
      "D_0__Eukaryota;D_1__SAR;D_2__Alveolata;D_3__Cil...  D_0__Eukaryota;D_1__SAR;D_2__Alveolata;D_3__Ci...\n",
      "D_0__Eukaryota;D_1__SAR;D_2__Alveolata;D_3__Cil...  D_0__Eukaryota;D_1__SAR;D_2__Alveolata;D_3__Ci...\n",
      "D_0__Eukaryota;D_1__SAR;D_2__Alveolata;D_3__Cil...  D_0__Eukaryota;D_1__SAR;D_2__Alveolata;D_3__Ci...\n",
      "D_0__Eukaryota;D_1__SAR;D_2__Alveolata;D_3__Cil...  D_0__Eukaryota;D_1__SAR;D_2__Alveolata;D_3__Ci...\n",
      "D_0__Eukaryota;D_1__SAR;D_2__Alveolata;D_3__Cil...  D_0__Eukaryota;D_1__SAR;D_2__Alveolata;D_3__Ci...\n",
      "D_0__Eukaryota;D_1__SAR;D_2__Alveolata;D_3__Cil...  D_0__Eukaryota;D_1__SAR;D_2__Alveolata;D_3__Ci...\n",
      "D_0__Eukaryota;D_1__SAR;D_2__Alveolata;D_3__Cil...  D_0__Eukaryota;D_1__SAR;D_2__Alveolata;D_3__Ci...\n",
      "D_0__Eukaryota;D_1__SAR;D_2__Alveolata;D_3__Cil...  D_0__Eukaryota;D_1__SAR;D_2__Alveolata;D_3__Ci...\n",
      "D_0__Eukaryota;D_1__SAR;D_2__Alveolata;D_3__Cil...  D_0__Eukaryota;D_1__SAR;D_2__Alveolata;D_3__Ci...\n",
      "D_0__Eukaryota;D_1__SAR;D_2__Alveolata;D_3__Cil...  D_0__Eukaryota;D_1__SAR;D_2__Alveolata;D_3__Ci...\n",
      "D_0__Eukaryota;D_1__SAR;D_2__Alveolata;D_3__Cil...  D_0__Eukaryota;D_1__SAR;D_2__Alveolata;D_3__Ci...\n",
      "D_0__Eukaryota;D_1__SAR;D_2__Alveolata;D_3__Cil...  D_0__Eukaryota;D_1__SAR;D_2__Alveolata;D_3__Ci...\n",
      "D_0__Eukaryota;D_1__SAR;D_2__Alveolata;D_3__Cil...  D_0__Eukaryota;D_1__SAR;D_2__Alveolata;D_3__Ci...\n",
      "D_0__Eukaryota;D_1__SAR;D_2__Alveolata;D_3__Cil...  D_0__Eukaryota;D_1__SAR;D_2__Alveolata;D_3__Ci...\n",
      "D_0__Eukaryota;D_1__SAR;D_2__Alveolata;D_3__Cil...  D_0__Eukaryota;D_1__SAR;D_2__Alveolata;D_3__Ci...\n",
      "D_0__Eukaryota;D_1__SAR;D_2__Alveolata;D_3__Cil...  D_0__Eukaryota;D_1__SAR;D_2__Alveolata;D_3__Ci...\n",
      "D_0__Eukaryota;D_1__SAR;D_2__Alveolata;D_3__Cil...  D_0__Eukaryota;D_1__SAR;D_2__Alveolata;D_3__Ci...\n",
      "D_0__Eukaryota;D_1__SAR;D_2__Alveolata;D_3__Cil...  D_0__Eukaryota;D_1__SAR;D_2__Alveolata;D_3__Ci...\n",
      "D_0__Eukaryota;D_1__SAR;D_2__Alveolata;D_3__Cil...  D_0__Eukaryota;D_1__SAR;D_2__Alveolata;D_3__Ci...\n",
      "D_0__Eukaryota;D_1__SAR;D_2__Alveolata;D_3__Cil...  D_0__Eukaryota;D_1__SAR;D_2__Alveolata;D_3__Ci...\n",
      "D_0__Eukaryota;D_1__SAR;D_2__Alveolata;D_3__Cil...  D_0__Eukaryota;D_1__SAR;D_2__Alveolata;D_3__Ci...\n",
      "D_0__Eukaryota;D_1__SAR;D_2__Alveolata;D_3__Cil...  D_0__Eukaryota;D_1__SAR;D_2__Alveolata;D_3__Ci...\n",
      "D_0__Eukaryota;D_1__SAR;D_2__Alveolata;D_3__Cil...  D_0__Eukaryota;D_1__SAR;D_2__Alveolata;D_3__Ci...\n",
      "D_0__Eukaryota;D_1__SAR;D_2__Alveolata;D_3__Din...  D_0__Eukaryota;D_1__SAR;D_2__Alveolata;D_3__Di...\n",
      "D_0__Eukaryota;D_1__SAR;D_2__Alveolata;D_3__Pro...  D_0__Eukaryota;D_1__SAR;D_2__Alveolata;D_3__Pr...\n",
      "D_0__Eukaryota;D_1__SAR;D_2__Alveolata;__;__;__...  D_0__Eukaryota;D_1__SAR;D_2__Alveolata;__;__;_...\n",
      "D_0__Eukaryota;D_1__SAR;D_2__Rhizaria;D_3__Cerc...  D_0__Eukaryota;D_1__SAR;D_2__Rhizaria;D_3__Cer...\n",
      "D_0__Eukaryota;D_1__SAR;D_2__Rhizaria;D_3__Cerc...  D_0__Eukaryota;D_1__SAR;D_2__Rhizaria;D_3__Cer...\n",
      "D_0__Eukaryota;D_1__SAR;D_2__Rhizaria;D_3__Cerc...  D_0__Eukaryota;D_1__SAR;D_2__Rhizaria;D_3__Cer...\n",
      "D_0__Eukaryota;D_1__SAR;D_2__Rhizaria;D_3__Cerc...  D_0__Eukaryota;D_1__SAR;D_2__Rhizaria;D_3__Cer...\n",
      "D_0__Eukaryota;D_1__SAR;D_2__Rhizaria;D_3__Cerc...  D_0__Eukaryota;D_1__SAR;D_2__Rhizaria;D_3__Cer...\n",
      "D_0__Eukaryota;D_1__SAR;D_2__Rhizaria;D_3__Cerc...  D_0__Eukaryota;D_1__SAR;D_2__Rhizaria;D_3__Cer...\n",
      "D_0__Eukaryota;D_1__SAR;D_2__Rhizaria;D_3__Cerc...  D_0__Eukaryota;D_1__SAR;D_2__Rhizaria;D_3__Cer...\n",
      "D_0__Eukaryota;D_1__SAR;D_2__Rhizaria;D_3__Cerc...  D_0__Eukaryota;D_1__SAR;D_2__Rhizaria;D_3__Cer...\n",
      "D_0__Eukaryota;D_1__SAR;D_2__Rhizaria;D_3__Cerc...  D_0__Eukaryota;D_1__SAR;D_2__Rhizaria;D_3__Cer...\n",
      "D_0__Eukaryota;D_1__SAR;D_2__Rhizaria;D_3__Cerc...  D_0__Eukaryota;D_1__SAR;D_2__Rhizaria;D_3__Cer...\n",
      "D_0__Eukaryota;D_1__SAR;D_2__Rhizaria;D_3__Cerc...  D_0__Eukaryota;D_1__SAR;D_2__Rhizaria;D_3__Cer...\n",
      "D_0__Eukaryota;D_1__SAR;D_2__Rhizaria;D_3__Cerc...  D_0__Eukaryota;D_1__SAR;D_2__Rhizaria;D_3__Cer...\n",
      "D_0__Eukaryota;D_1__SAR;D_2__Rhizaria;D_3__Cerc...  D_0__Eukaryota;D_1__SAR;D_2__Rhizaria;D_3__Cer...\n",
      "D_0__Eukaryota;D_1__SAR;D_2__Rhizaria;D_3__Cerc...  D_0__Eukaryota;D_1__SAR;D_2__Rhizaria;D_3__Cer...\n",
      "D_0__Eukaryota;D_1__SAR;D_2__Rhizaria;D_3__Cerc...  D_0__Eukaryota;D_1__SAR;D_2__Rhizaria;D_3__Cer...\n",
      "D_0__Eukaryota;D_1__SAR;D_2__Rhizaria;D_3__Cerc...  D_0__Eukaryota;D_1__SAR;D_2__Rhizaria;D_3__Cer...\n",
      "D_0__Eukaryota;D_1__SAR;D_2__Rhizaria;D_3__Cerc...  D_0__Eukaryota;D_1__SAR;D_2__Rhizaria;D_3__Cer...\n",
      "D_0__Eukaryota;D_1__SAR;D_2__Rhizaria;D_3__Cerc...  D_0__Eukaryota;D_1__SAR;D_2__Rhizaria;D_3__Cer...\n",
      "D_0__Eukaryota;D_1__SAR;D_2__Rhizaria;D_3__Cerc...  D_0__Eukaryota;D_1__SAR;D_2__Rhizaria;D_3__Cer...\n",
      "D_0__Eukaryota;D_1__SAR;D_2__Rhizaria;D_3__Cerc...  D_0__Eukaryota;D_1__SAR;D_2__Rhizaria;D_3__Cer...\n",
      "D_0__Eukaryota;D_1__SAR;D_2__Rhizaria;D_3__Cerc...  D_0__Eukaryota;D_1__SAR;D_2__Rhizaria;D_3__Cer...\n",
      "D_0__Eukaryota;D_1__SAR;D_2__Rhizaria;D_3__Cerc...  D_0__Eukaryota;D_1__SAR;D_2__Rhizaria;D_3__Cer...\n",
      "D_0__Eukaryota;D_1__SAR;D_2__Rhizaria;D_3__Cerc...  D_0__Eukaryota;D_1__SAR;D_2__Rhizaria;D_3__Cer...\n",
      "D_0__Eukaryota;D_1__SAR;D_2__Rhizaria;D_3__Cerc...  D_0__Eukaryota;D_1__SAR;D_2__Rhizaria;D_3__Cer...\n",
      "D_0__Eukaryota;D_1__SAR;D_2__Rhizaria;D_3__Cerc...  D_0__Eukaryota;D_1__SAR;D_2__Rhizaria;D_3__Cer...\n",
      "D_0__Eukaryota;D_1__SAR;D_2__Rhizaria;D_3__Cerc...  D_0__Eukaryota;D_1__SAR;D_2__Rhizaria;D_3__Cer...\n",
      "D_0__Eukaryota;D_1__SAR;D_2__Rhizaria;D_3__Cerc...  D_0__Eukaryota;D_1__SAR;D_2__Rhizaria;D_3__Cer...\n",
      "D_0__Eukaryota;D_1__SAR;D_2__Rhizaria;D_3__Cerc...  D_0__Eukaryota;D_1__SAR;D_2__Rhizaria;D_3__Cer...\n",
      "D_0__Eukaryota;D_1__SAR;D_2__Rhizaria;D_3__Cerc...  D_0__Eukaryota;D_1__SAR;D_2__Rhizaria;D_3__Cer...\n",
      "D_0__Eukaryota;D_1__SAR;D_2__Rhizaria;D_3__Cerc...  D_0__Eukaryota;D_1__SAR;D_2__Rhizaria;D_3__Cer...\n",
      "D_0__Eukaryota;D_1__SAR;D_2__Rhizaria;D_3__Cerc...  D_0__Eukaryota;D_1__SAR;D_2__Rhizaria;D_3__Cer...\n",
      "D_0__Eukaryota;D_1__SAR;D_2__Rhizaria;D_3__Cerc...  D_0__Eukaryota;D_1__SAR;D_2__Rhizaria;D_3__Cer...\n",
      "D_0__Eukaryota;D_1__SAR;D_2__Stramenopiles;D_3_...  D_0__Eukaryota;D_1__SAR;D_2__Stramenopiles;D_3...\n",
      "D_0__Eukaryota;D_1__SAR;D_2__Stramenopiles;D_3_...  D_0__Eukaryota;D_1__SAR;D_2__Stramenopiles;D_3...\n",
      "D_0__Eukaryota;D_1__SAR;D_2__Stramenopiles;D_3_...  D_0__Eukaryota;D_1__SAR;D_2__Stramenopiles;D_3...\n",
      "D_0__Eukaryota;D_1__SAR;D_2__Stramenopiles;D_3_...  D_0__Eukaryota;D_1__SAR;D_2__Stramenopiles;D_3...\n",
      "D_0__Eukaryota;D_1__SAR;D_2__Stramenopiles;D_3_...  D_0__Eukaryota;D_1__SAR;D_2__Stramenopiles;D_3...\n",
      "D_0__Eukaryota;D_1__SAR;D_2__Stramenopiles;D_3_...  D_0__Eukaryota;D_1__SAR;D_2__Stramenopiles;D_3...\n",
      "D_0__Eukaryota;D_1__SAR;D_2__Stramenopiles;D_3_...  D_0__Eukaryota;D_1__SAR;D_2__Stramenopiles;D_3...\n",
      "D_0__Eukaryota;D_1__SAR;D_2__Stramenopiles;D_3_...  D_0__Eukaryota;D_1__SAR;D_2__Stramenopiles;D_3...\n",
      "D_0__Eukaryota;D_1__SAR;D_2__Stramenopiles;D_3_...  D_0__Eukaryota;D_1__SAR;D_2__Stramenopiles;D_3...\n",
      "D_0__Eukaryota;D_1__SAR;D_2__Stramenopiles;D_3_...  D_0__Eukaryota;D_1__SAR;D_2__Stramenopiles;D_3...\n",
      "D_0__Eukaryota;D_1__SAR;D_2__Stramenopiles;D_3_...  D_0__Eukaryota;D_1__SAR;D_2__Stramenopiles;D_3...\n",
      "D_0__Eukaryota;D_1__SAR;D_2__Stramenopiles;D_3_...  D_0__Eukaryota;D_1__SAR;D_2__Stramenopiles;D_3...\n",
      "D_0__Eukaryota;D_1__SAR;D_2__Stramenopiles;D_3_...  D_0__Eukaryota;D_1__SAR;D_2__Stramenopiles;D_3...\n",
      "D_0__Eukaryota;D_1__SAR;D_2__Stramenopiles;D_3_...  D_0__Eukaryota;D_1__SAR;D_2__Stramenopiles;D_3...\n",
      "D_0__Eukaryota;D_1__SAR;D_2__Stramenopiles;D_3_...  D_0__Eukaryota;D_1__SAR;D_2__Stramenopiles;D_3...\n",
      "D_0__Eukaryota;D_1__SAR;D_2__Stramenopiles;D_3_...  D_0__Eukaryota;D_1__SAR;D_2__Stramenopiles;D_3...\n",
      "D_0__Eukaryota;D_1__SAR;D_2__Stramenopiles;D_3_...  D_0__Eukaryota;D_1__SAR;D_2__Stramenopiles;D_3...\n",
      "D_0__Eukaryota;D_1__SAR;D_2__Stramenopiles;D_3_...  D_0__Eukaryota;D_1__SAR;D_2__Stramenopiles;D_3...\n",
      "D_0__Eukaryota;D_1__SAR;D_2__Stramenopiles;D_3_...  D_0__Eukaryota;D_1__SAR;D_2__Stramenopiles;D_3...\n",
      "D_0__Eukaryota;D_1__SAR;D_2__Stramenopiles;D_3_...  D_0__Eukaryota;D_1__SAR;D_2__Stramenopiles;D_3...\n",
      "D_0__Eukaryota;D_1__SAR;D_2__Stramenopiles;D_3_...  D_0__Eukaryota;D_1__SAR;D_2__Stramenopiles;D_3...\n",
      "D_0__Eukaryota;D_1__SAR;D_2__Stramenopiles;D_3_...  D_0__Eukaryota;D_1__SAR;D_2__Stramenopiles;D_3...\n",
      "D_0__Eukaryota;D_1__SAR;D_2__Stramenopiles;D_3_...  D_0__Eukaryota;D_1__SAR;D_2__Stramenopiles;D_3...\n",
      "D_0__Eukaryota;D_1__SAR;D_2__Stramenopiles;D_3_...  D_0__Eukaryota;D_1__SAR;D_2__Stramenopiles;D_3...\n",
      "D_0__Eukaryota;D_1__SAR;D_2__Stramenopiles;D_3_...  D_0__Eukaryota;D_1__SAR;D_2__Stramenopiles;D_3...\n",
      "D_0__Eukaryota;D_1__SAR;D_2__Stramenopiles;D_3_...  D_0__Eukaryota;D_1__SAR;D_2__Stramenopiles;D_3...\n",
      "D_0__Eukaryota;D_1__SAR;D_2__Stramenopiles;D_3_...  D_0__Eukaryota;D_1__SAR;D_2__Stramenopiles;D_3...\n",
      "D_0__Eukaryota;D_1__SAR;D_2__Stramenopiles;D_3_...  D_0__Eukaryota;D_1__SAR;D_2__Stramenopiles;D_3...\n",
      "D_0__Eukaryota;D_1__SAR;D_2__Stramenopiles;D_3_...  D_0__Eukaryota;D_1__SAR;D_2__Stramenopiles;D_3...\n",
      "D_0__Eukaryota;D_1__SAR;D_2__Stramenopiles;D_3_...  D_0__Eukaryota;D_1__SAR;D_2__Stramenopiles;D_3...\n",
      "D_0__Eukaryota;D_1__SAR;D_2__Stramenopiles;D_3_...  D_0__Eukaryota;D_1__SAR;D_2__Stramenopiles;D_3...\n",
      "D_0__Eukaryota;D_1__SAR;D_2__Stramenopiles;D_3_...  D_0__Eukaryota;D_1__SAR;D_2__Stramenopiles;D_3...\n",
      "D_0__Eukaryota;D_1__SAR;D_2__Stramenopiles;D_3_...  D_0__Eukaryota;D_1__SAR;D_2__Stramenopiles;D_3...\n",
      "D_0__Eukaryota;D_1__SAR;D_2__Stramenopiles;D_3_...  D_0__Eukaryota;D_1__SAR;D_2__Stramenopiles;D_3...\n",
      "D_0__Eukaryota;D_1__SAR;D_2__Stramenopiles;D_3_...  D_0__Eukaryota;D_1__SAR;D_2__Stramenopiles;D_3...\n",
      "D_0__Eukaryota;D_1__SAR;D_2__Stramenopiles;D_3_...  D_0__Eukaryota;D_1__SAR;D_2__Stramenopiles;D_3...\n",
      "D_0__Eukaryota;D_1__SAR;D_2__Stramenopiles;D_3_...  D_0__Eukaryota;D_1__SAR;D_2__Stramenopiles;D_3...\n",
      "D_0__Eukaryota;D_1__SAR;D_2__Stramenopiles;__;_...  D_0__Eukaryota;D_1__SAR;D_2__Stramenopiles;__;...\n",
      "D_0__Eukaryota;D_1__SAR;__;__;__;__;__;__;__;__       D_0__Eukaryota;D_1__SAR;__;__;__;__;__;__;__;__\n",
      "D_0__Eukaryota;__;__;__;__;__;__;__;__;__                   D_0__Eukaryota;__;__;__;__;__;__;__;__;__\n"
     ]
    }
   ],
   "source": [
    "print(Summer_L10.feature_metadata)"
   ]
  },
  {
   "cell_type": "markdown",
   "metadata": {},
   "source": [
    "## Running the L10 model"
   ]
  },
  {
   "cell_type": "code",
   "execution_count": 38,
   "metadata": {},
   "outputs": [],
   "source": [
    "# groupKfold = 3, will leave out one body for each model\n",
    "gkf = GroupKFold(3)\n",
    "\n",
    "X = Summer_L10.data\n",
    "y = Summer_L10.sample_metadata['ADD']\n",
    "y = (y.astype(float))\n",
    "\n",
    "groups = Summer_L10.sample_metadata['host_subject_id']\n",
    "\n",
    "# used to test the param grid for parameter tuning\n",
    "# use the output of this estimator below for input into new estimator (not commented out)\n",
    "param_grid = {\"max_depth\": [4, 8, 16, None],\n",
    "              \"max_features\": ['sqrt', 'log2', 0.1],\n",
    "              \"min_samples_split\": [0.001, 0.01, 0.1],\n",
    "              \"min_weight_fraction_leaf\": [0.0001, 0.001, 0.01],\n",
    "              \"bootstrap\": [True, False]}\n",
    "\n",
    "#param_grid = {\"max_depth\": [8],\n",
    "#          \"max_features\": [0.1],\n",
    "#          \"min_samples_split\": [0.001],\n",
    "#          \"min_weight_fraction_leaf\": [0.0001],\n",
    "#          \"bootstrap\": [False]}\n",
    "\n",
    "rf = RandomForestRegressor(n_estimators=1000, random_state=999, criterion='mae')\n",
    "gs = GridSearchCV(rf, param_grid=param_grid, cv=gkf.split(X, y, groups), scoring='neg_mean_absolute_error', n_jobs=1)"
   ]
  },
  {
   "cell_type": "code",
   "execution_count": 39,
   "metadata": {},
   "outputs": [
    {
     "data": {
      "text/plain": [
       "GridSearchCV(cv=<generator object _BaseKFold.split at 0x11f92f9d0>,\n",
       "             error_score=nan,\n",
       "             estimator=RandomForestRegressor(bootstrap=True, ccp_alpha=0.0,\n",
       "                                             criterion='mae', max_depth=None,\n",
       "                                             max_features='auto',\n",
       "                                             max_leaf_nodes=None,\n",
       "                                             max_samples=None,\n",
       "                                             min_impurity_decrease=0.0,\n",
       "                                             min_impurity_split=None,\n",
       "                                             min_samples_leaf=1,\n",
       "                                             min_samples_split=2,\n",
       "                                             min_weight_fraction_leaf=0.0,\n",
       "                                             n_es...\n",
       "                                             oob_score=False, random_state=999,\n",
       "                                             verbose=0, warm_start=False),\n",
       "             iid='deprecated', n_jobs=1,\n",
       "             param_grid={'bootstrap': [True, False],\n",
       "                         'max_depth': [4, 8, 16, None],\n",
       "                         'max_features': ['sqrt', 'log2', 0.1],\n",
       "                         'min_samples_split': [0.001, 0.01, 0.1],\n",
       "                         'min_weight_fraction_leaf': [0.0001, 0.001, 0.01]},\n",
       "             pre_dispatch='2*n_jobs', refit=True, return_train_score=False,\n",
       "             scoring='neg_mean_absolute_error', verbose=0)"
      ]
     },
     "execution_count": 39,
     "metadata": {},
     "output_type": "execute_result"
    }
   ],
   "source": [
    "gs.fit(X, y)"
   ]
  },
  {
   "cell_type": "code",
   "execution_count": 40,
   "metadata": {},
   "outputs": [
    {
     "name": "stdout",
     "output_type": "stream",
     "text": [
      "{'bootstrap': False, 'max_depth': 4, 'max_features': 0.1, 'min_samples_split': 0.001, 'min_weight_fraction_leaf': 0.0001}\n"
     ]
    }
   ],
   "source": [
    "# this line is used when run with the first param grid to determine what the best parameters are for tuning\n",
    "print(gs.best_params_)"
   ]
  },
  {
   "cell_type": "code",
   "execution_count": 41,
   "metadata": {},
   "outputs": [
    {
     "name": "stdout",
     "output_type": "stream",
     "text": [
      "The best mean absolute error is 858.58\n"
     ]
    }
   ],
   "source": [
    "print('The best mean absolute error is', round(-gs.best_score_,2))"
   ]
  },
  {
   "cell_type": "code",
   "execution_count": 42,
   "metadata": {},
   "outputs": [
    {
     "data": {
      "text/plain": [
       "['models/bone_summer_18S_L10.pkl']"
      ]
     },
     "execution_count": 42,
     "metadata": {},
     "output_type": "execute_result"
    }
   ],
   "source": [
    "joblib.dump(gs.best_estimator_, 'models/bone_summer_18S_L10.pkl')"
   ]
  },
  {
   "cell_type": "code",
   "execution_count": 43,
   "metadata": {},
   "outputs": [
    {
     "data": {
      "text/plain": [
       "RandomForestRegressor(bootstrap=False, ccp_alpha=0.0, criterion='mae',\n",
       "                      max_depth=4, max_features=0.1, max_leaf_nodes=None,\n",
       "                      max_samples=None, min_impurity_decrease=0.0,\n",
       "                      min_impurity_split=None, min_samples_leaf=1,\n",
       "                      min_samples_split=0.001, min_weight_fraction_leaf=0.0001,\n",
       "                      n_estimators=1000, n_jobs=None, oob_score=False,\n",
       "                      random_state=999, verbose=0, warm_start=False)"
      ]
     },
     "execution_count": 43,
     "metadata": {},
     "output_type": "execute_result"
    }
   ],
   "source": [
    "bone_summer_L10 = joblib.load('models/bone_summer_18S_L10.pkl')\n",
    "bone_summer_L10"
   ]
  },
  {
   "cell_type": "markdown",
   "metadata": {},
   "source": [
    "## Determine important features of the L10 model"
   ]
  },
  {
   "cell_type": "code",
   "execution_count": 44,
   "metadata": {},
   "outputs": [
    {
     "name": "stdout",
     "output_type": "stream",
     "text": [
      "Feature:\t\t\t\tImportance:\n",
      "1. D_0__Eukaryota;D_1__Opisthokonta;D_2__Nucletmycea;D_3__Fungi;D_4__Dikarya;D_5__Ascomycota;D_6__Saccharomycotina;D_7__Saccharomycetes;D_8__Saccharomycetales;D_9__Dipodascaceae\t0.06434223212290009\n",
      "2. D_0__Eukaryota;D_1__Opisthokonta;D_2__Nucletmycea;D_3__Fungi;D_4__Dikarya;D_5__Ascomycota;D_6__Pezizomycotina;D_7__Eurotiomycetes;__;__\t0.060845333047361796\n",
      "3. D_0__Eukaryota;D_1__Opisthokonta;D_2__Nucletmycea;D_3__Fungi;D_4__Dikarya;D_5__Ascomycota;D_6__Saccharomycotina;D_7__Saccharomycetes;D_8__Saccharomycetales;D_9__Incertae Sedis\t0.05255468360528245\n",
      "4. D_0__Eukaryota;D_1__Amoebozoa;D_2__Tubulinea;D_3__Euamoebida;D_4__BOLA868;D_5__metagenome;D_6__;D_7__;D_8__;D_9__\t0.04079168721325325\n",
      "5. D_0__Eukaryota;D_1__Opisthokonta;D_2__Holozoa;D_3__Metazoa (Animalia);D_4__Eumetazoa;D_5__Bilateria;D_6__Nematoda;D_7__Chromadorea;D_8__Rhabditida;D_9__Oscheius tipulae\t0.03236630068897268\n",
      "6. D_0__Eukaryota;D_1__Opisthokonta;D_2__Nucletmycea;D_3__Fungi;D_4__Dikarya;D_5__Ascomycota;D_6__Pezizomycotina;D_7__Sordariomycetes;D_8__Hypocreales;__\t0.03146610214584966\n",
      "7. D_0__Eukaryota;D_1__SAR;D_2__Alveolata;__;__;__;__;__;__;__\t0.02959579687637428\n",
      "8. D_0__Eukaryota;D_1__Opisthokonta;D_2__Nucletmycea;D_3__Fungi;D_4__Dikarya;D_5__Ascomycota;D_6__Saccharomycotina;D_7__Saccharomycetes;D_8__Saccharomycetales;D_9__Debaryomycetaceae\t0.026919835971887445\n",
      "9. D_0__Eukaryota;D_1__SAR;D_2__Rhizaria;D_3__Cercozoa;D_4__Glissomonadida;D_5__Heteromita;D_6__metagenome;D_7__;D_8__;D_9__\t0.02670816732747225\n",
      "10. D_0__Eukaryota;D_1__Opisthokonta;D_2__Holozoa;D_3__Metazoa (Animalia);D_4__Eumetazoa;__;__;__;__;__\t0.023071473272186768\n",
      "11. D_0__Eukaryota;D_1__Opisthokonta;D_2__Holozoa;__;__;__;__;__;__;__\t0.02127359164535793\n",
      "12. D_0__Eukaryota;D_1__Opisthokonta;D_2__Nucletmycea;D_3__Fungi;D_4__Dikarya;D_5__Ascomycota;D_6__Pezizomycotina;D_7__Laboulbeniomycetes;D_8__metagenome;D_9__\t0.01976827979260233\n",
      "13. D_0__Eukaryota;D_1__Opisthokonta;D_2__Nucletmycea;D_3__Fungi;D_4__Dikarya;D_5__Basidiomycota;D_6__Agaricomycotina;D_7__Agaricomycetes;D_8__Gomphales;D_9__Gomphaceae\t0.017105189333031127\n",
      "14. D_0__Eukaryota;D_1__Opisthokonta;D_2__Nucletmycea;D_3__Fungi;__;__;__;__;__;__\t0.016804916344614777\n",
      "15. D_0__Eukaryota;__;__;__;__;__;__;__;__;__\t0.0149096070017267\n",
      "16. D_0__Eukaryota;D_1__Opisthokonta;D_2__Nucletmycea;D_3__Fungi;D_4__Dikarya;D_5__Basidiomycota;D_6__Agaricomycotina;D_7__Tremellomycetes;D_8__Cystofilobasidiales;D_9__Mrakiaceae\t0.014679969188927522\n",
      "17. D_0__Eukaryota;D_1__SAR;D_2__Alveolata;D_3__Apicomplexa;D_4__Conoidasida;D_5__Gregarinasina;D_6__Eugregarinorida;__;__;__\t0.014201383864701728\n",
      "18. D_0__Eukaryota;D_1__SAR;D_2__Alveolata;D_3__Apicomplexa;D_4__Conoidasida;D_5__Gregarinasina;D_6__Eugregarinorida;D_7__D3P05A02;D_8__uncultured eukaryote;D_9__\t0.013416367000252347\n",
      "19. D_0__Eukaryota;D_1__Opisthokonta;D_2__Nucletmycea;D_3__Fungi;D_4__Dikarya;D_5__Basidiomycota;__;__;__;__\t0.012736804285584467\n",
      "20. D_0__Eukaryota;D_1__Opisthokonta;D_2__Nucletmycea;D_3__Fungi;D_4__Dikarya;D_5__Basidiomycota;D_6__Agaricomycotina;D_7__Tremellomycetes;D_8__Trichosporonales;D_9__Trichosporonaceae\t0.012434189506666847\n",
      "21. D_0__Eukaryota;D_1__Opisthokonta;D_2__Nucletmycea;D_3__Fungi;D_4__Dikarya;D_5__Basidiomycota;D_6__Agaricomycotina;D_7__Agaricomycetes;__;__\t0.01082360043392731\n",
      "22. D_0__Eukaryota;D_1__Opisthokonta;D_2__Nucletmycea;D_3__Fungi;D_4__Dikarya;D_5__Ascomycota;D_6__Pezizomycotina;__;__;__\t0.010789489840614683\n",
      "23. D_0__Eukaryota;D_1__Opisthokonta;D_2__Nucletmycea;D_3__Fungi;D_4__Dikarya;D_5__Ascomycota;D_6__Pezizomycotina;D_7__Eurotiomycetes;D_8__Chaetothyriales;D_9__Herpotrichiellaceae\t0.010753512264451206\n",
      "24. D_0__Eukaryota;D_1__Opisthokonta;D_2__Holozoa;D_3__Metazoa (Animalia);__;__;__;__;__;__\t0.010595739871681907\n",
      "25. D_0__Eukaryota;D_1__Opisthokonta;D_2__Nucletmycea;D_3__Fungi;D_4__Dikarya;D_5__Ascomycota;D_6__Pezizomycotina;D_7__Pezizomycetes;D_8__Pezizales;D_9__Tuberaceae\t0.010287231028772425\n"
     ]
    }
   ],
   "source": [
    "importances = bone_summer_L10.feature_importances_\n",
    "std = np.std([tree.feature_importances_ for tree in bone_summer_L10.estimators_],\n",
    "             axis=0)\n",
    "indices = np.argsort(importances)[::-1]\n",
    "\n",
    "feature_metadata = Summer_L10.feature_metadata\n",
    "np.savetxt(\"importances/bone_summer_18S_L10_features.csv\", feature_metadata, delimiter=\",\", fmt='%s')\n",
    "\n",
    "\n",
    "#print the important ids in order\n",
    "general_importances = []\n",
    "count = 0\n",
    "print(\"Feature:\\t\\t\\t\\tImportance:\")\n",
    "for i in indices:\n",
    "    general_importances += (Summer_L10.feature_metadata.index.values[i], importances[indices[count]])\n",
    "    if count < 25:\n",
    "        print(str(count+1)+\". \"+str(Summer_L10.feature_metadata.index.values[i])+\"\\t\"+str(importances[indices[count]]))\n",
    "    count += 1\n",
    "    \n",
    "general_importances_df = pd.DataFrame(np.array(general_importances).reshape(594,1))\n",
    "\n",
    "np.savetxt(\"importances/bone_summer_18S_L10_importances.csv\", general_importances_df, delimiter=\",\", fmt='%s')"
   ]
  },
  {
   "cell_type": "markdown",
   "metadata": {},
   "source": [
    "## Import rarefied data collapsed at level 9"
   ]
  },
  {
   "cell_type": "code",
   "execution_count": 45,
   "metadata": {},
   "outputs": [
    {
     "name": "stdout",
     "output_type": "stream",
     "text": [
      "2020-07-02 13:40:01 WARNING These have metadata but do not have data - dropped (59): {'STAFS.2016.065.L10', 'CSU.extraction.blank11', 'STAFS.2016.065.L11', 'BLANK52.9A', 'BLANK52.9H', 'CSU.extraction.blank1', 'BLANK52.9C', 'BLANK52.10D', 'BLANK52.12A', 'CSU.extraction.blank12', 'CSU.extraction.blank6', 'CSU.extraction.blank4', 'CSU.extraction.blank8', 'CSU.extraction.blank13', 'BLANK52.11D', 'BLANK52.12B', 'BLANK52.9G', 'CSU.extraction.blank10', 'CSU.extraction.blank2', 'BLANK52.11F', 'BLANK52.5B', 'BLANK52.10F', 'BLANK52.11C', 'CSU.extraction.blank14', 'BLANK52.10B', 'SHSU.STAFS2016.011.L09', 'BLANK52.9B', 'STAFS.2016.065.L09', 'BLANK52.10G', 'BLANK52.11A', 'BLANK52.12D', 'BLANK52.10E', 'SHSU.STAFS2016.024.L10', 'CSU.extraction.blank15', 'BLANK52.12F', 'BLANK52.9F', 'BLANK52.11B', 'STAFS.2016.064.R09', 'BLANK52.10A', 'SHSU.STAFS2016.007.L09', 'CSU.extraction.blank9', '#q2:types', 'SHSU.STAFS2016.007.R10', 'BLANK52.11E', 'BLANK52.12G', 'BLANK52.9D', 'BLANK52.11H', 'BLANK52.11G', 'BLANK52.12E', 'BLANK52.12H', 'STAFS.2016.067.R12', 'BLANK52.10H', 'CSU.extraction.blank5', 'BLANK52.10C', 'CSU.extraction.blank3', 'CSU.extraction.blank7', 'STAFS.2016.067.L11.march', 'BLANK52.12C', 'BLANK52.9E'}\n"
     ]
    }
   ],
   "source": [
    "exp_L9 = ca.read_amplicon('/Users/heatherdeel/Dropbox/PMI_3_analyses/bone/02_18S/Hiseq_original_run/forward_reads_only/01_qiime2_analysis/03_feature_tables/collapsed_tables/18S_plate52_ribonly_table_full_taxfiltered_214940_L9.biom', '/Users/heatherdeel/Dropbox/PMI_3_analyses/bone/02_18S/Hiseq_original_run/forward_reads_only/02_metadata/map_18S.txt', min_reads=0, normalize=None)\n"
   ]
  },
  {
   "cell_type": "code",
   "execution_count": 46,
   "metadata": {},
   "outputs": [
    {
     "data": {
      "text/plain": [
       "STAFS2016.064    7\n",
       "STAFS2016.067    6\n",
       "STAFS2016.065    5\n",
       "Name: host_subject_id, dtype: int64"
      ]
     },
     "execution_count": 46,
     "metadata": {},
     "output_type": "execute_result"
    }
   ],
   "source": [
    "#filtering out spring and defining this as \"Summer\"\n",
    "Summer_L9 = exp_L9.filter_samples('season', 'summer')\n",
    "Summer_L9.sample_metadata.host_subject_id.value_counts()"
   ]
  },
  {
   "cell_type": "code",
   "execution_count": 47,
   "metadata": {},
   "outputs": [
    {
     "name": "stdout",
     "output_type": "stream",
     "text": [
      "                                                                                          _feature_id\n",
      "D_0__Eukaryota;D_1__Amoebozoa;D_2__Cavosteliida...  D_0__Eukaryota;D_1__Amoebozoa;D_2__Cavosteliid...\n",
      "D_0__Eukaryota;D_1__Amoebozoa;D_2__Dictyostelia...  D_0__Eukaryota;D_1__Amoebozoa;D_2__Dictyosteli...\n",
      "D_0__Eukaryota;D_1__Amoebozoa;D_2__Discosea;D_3...  D_0__Eukaryota;D_1__Amoebozoa;D_2__Discosea;D_...\n",
      "D_0__Eukaryota;D_1__Amoebozoa;D_2__Discosea;D_3...  D_0__Eukaryota;D_1__Amoebozoa;D_2__Discosea;D_...\n",
      "D_0__Eukaryota;D_1__Amoebozoa;D_2__Discosea;D_3...  D_0__Eukaryota;D_1__Amoebozoa;D_2__Discosea;D_...\n",
      "D_0__Eukaryota;D_1__Amoebozoa;D_2__Discosea;D_3...  D_0__Eukaryota;D_1__Amoebozoa;D_2__Discosea;D_...\n",
      "D_0__Eukaryota;D_1__Amoebozoa;D_2__Discosea;D_3...  D_0__Eukaryota;D_1__Amoebozoa;D_2__Discosea;D_...\n",
      "D_0__Eukaryota;D_1__Amoebozoa;D_2__Discosea;D_3...  D_0__Eukaryota;D_1__Amoebozoa;D_2__Discosea;D_...\n",
      "D_0__Eukaryota;D_1__Amoebozoa;D_2__Discosea;D_3...  D_0__Eukaryota;D_1__Amoebozoa;D_2__Discosea;D_...\n",
      "D_0__Eukaryota;D_1__Amoebozoa;D_2__Gracilipodid...  D_0__Eukaryota;D_1__Amoebozoa;D_2__Gracilipodi...\n",
      "D_0__Eukaryota;D_1__Amoebozoa;D_2__Incertae Sed...  D_0__Eukaryota;D_1__Amoebozoa;D_2__Incertae Se...\n",
      "D_0__Eukaryota;D_1__Amoebozoa;D_2__Mycamoeba;D_...  D_0__Eukaryota;D_1__Amoebozoa;D_2__Mycamoeba;D...\n",
      "D_0__Eukaryota;D_1__Amoebozoa;D_2__Myxogastria;...  D_0__Eukaryota;D_1__Amoebozoa;D_2__Myxogastria...\n",
      "D_0__Eukaryota;D_1__Amoebozoa;D_2__Myxogastria;...  D_0__Eukaryota;D_1__Amoebozoa;D_2__Myxogastria...\n",
      "D_0__Eukaryota;D_1__Amoebozoa;D_2__Schizoplasmo...  D_0__Eukaryota;D_1__Amoebozoa;D_2__Schizoplasm...\n",
      "D_0__Eukaryota;D_1__Amoebozoa;D_2__Schizoplasmo...  D_0__Eukaryota;D_1__Amoebozoa;D_2__Schizoplasm...\n",
      "D_0__Eukaryota;D_1__Amoebozoa;D_2__Tubulinea;D_...  D_0__Eukaryota;D_1__Amoebozoa;D_2__Tubulinea;D...\n",
      "D_0__Eukaryota;D_1__Amoebozoa;D_2__Tubulinea;D_...  D_0__Eukaryota;D_1__Amoebozoa;D_2__Tubulinea;D...\n",
      "D_0__Eukaryota;D_1__Amoebozoa;D_2__Tubulinea;D_...  D_0__Eukaryota;D_1__Amoebozoa;D_2__Tubulinea;D...\n",
      "D_0__Eukaryota;D_1__Amoebozoa;D_2__Tubulinea;D_...  D_0__Eukaryota;D_1__Amoebozoa;D_2__Tubulinea;D...\n",
      "D_0__Eukaryota;D_1__Amoebozoa;D_2__Tubulinea;D_...  D_0__Eukaryota;D_1__Amoebozoa;D_2__Tubulinea;D...\n",
      "D_0__Eukaryota;D_1__Amoebozoa;D_2__Tubulinea;D_...  D_0__Eukaryota;D_1__Amoebozoa;D_2__Tubulinea;D...\n",
      "D_0__Eukaryota;D_1__Amoebozoa;D_2__Tubulinea;D_...  D_0__Eukaryota;D_1__Amoebozoa;D_2__Tubulinea;D...\n",
      "D_0__Eukaryota;D_1__Amoebozoa;D_2__Tubulinea;D_...  D_0__Eukaryota;D_1__Amoebozoa;D_2__Tubulinea;D...\n",
      "D_0__Eukaryota;D_1__Amoebozoa;D_2__Tubulinea;__...  D_0__Eukaryota;D_1__Amoebozoa;D_2__Tubulinea;_...\n",
      "D_0__Eukaryota;D_1__Amoebozoa;D_2__metagenome;D...  D_0__Eukaryota;D_1__Amoebozoa;D_2__metagenome;...\n",
      "D_0__Eukaryota;D_1__Amoebozoa;D_2__uncultured;D...  D_0__Eukaryota;D_1__Amoebozoa;D_2__uncultured;...\n",
      "D_0__Eukaryota;D_1__Cryptophyceae;D_2__Cryptomo...  D_0__Eukaryota;D_1__Cryptophyceae;D_2__Cryptom...\n",
      "D_0__Eukaryota;D_1__Excavata;D_2__Discoba;D_3__...  D_0__Eukaryota;D_1__Excavata;D_2__Discoba;D_3_...\n",
      "D_0__Eukaryota;D_1__Excavata;D_2__Discoba;D_3__...  D_0__Eukaryota;D_1__Excavata;D_2__Discoba;D_3_...\n",
      "D_0__Eukaryota;D_1__Excavata;D_2__Discoba;D_3__...  D_0__Eukaryota;D_1__Excavata;D_2__Discoba;D_3_...\n",
      "D_0__Eukaryota;D_1__Excavata;D_2__Discoba;D_3__...  D_0__Eukaryota;D_1__Excavata;D_2__Discoba;D_3_...\n",
      "D_0__Eukaryota;D_1__Excavata;D_2__Discoba;D_3__...  D_0__Eukaryota;D_1__Excavata;D_2__Discoba;D_3_...\n",
      "D_0__Eukaryota;D_1__Excavata;D_2__Discoba;D_3__...  D_0__Eukaryota;D_1__Excavata;D_2__Discoba;D_3_...\n",
      "D_0__Eukaryota;D_1__Excavata;D_2__Discoba;D_3__...  D_0__Eukaryota;D_1__Excavata;D_2__Discoba;D_3_...\n",
      "D_0__Eukaryota;D_1__Excavata;D_2__Discoba;D_3__...  D_0__Eukaryota;D_1__Excavata;D_2__Discoba;D_3_...\n",
      "D_0__Eukaryota;D_1__Excavata;D_2__Discoba;D_3__...  D_0__Eukaryota;D_1__Excavata;D_2__Discoba;D_3_...\n",
      "D_0__Eukaryota;D_1__Excavata;D_2__Discoba;D_3__...  D_0__Eukaryota;D_1__Excavata;D_2__Discoba;D_3_...\n",
      "D_0__Eukaryota;D_1__Excavata;D_2__Discoba;D_3__...  D_0__Eukaryota;D_1__Excavata;D_2__Discoba;D_3_...\n",
      "D_0__Eukaryota;D_1__Excavata;D_2__Discoba;D_3__...  D_0__Eukaryota;D_1__Excavata;D_2__Discoba;D_3_...\n",
      "D_0__Eukaryota;D_1__Excavata;D_2__Discoba;D_3__...  D_0__Eukaryota;D_1__Excavata;D_2__Discoba;D_3_...\n",
      "D_0__Eukaryota;D_1__Excavata;D_2__Discoba;D_3__...  D_0__Eukaryota;D_1__Excavata;D_2__Discoba;D_3_...\n",
      "D_0__Eukaryota;D_1__Excavata;D_2__Discoba;D_3__...  D_0__Eukaryota;D_1__Excavata;D_2__Discoba;D_3_...\n",
      "D_0__Eukaryota;D_1__Excavata;D_2__Discoba;D_3__...  D_0__Eukaryota;D_1__Excavata;D_2__Discoba;D_3_...\n",
      "D_0__Eukaryota;D_1__Excavata;D_2__Discoba;D_3__...  D_0__Eukaryota;D_1__Excavata;D_2__Discoba;D_3_...\n",
      "D_0__Eukaryota;D_1__Excavata;D_2__Discoba;D_3__...  D_0__Eukaryota;D_1__Excavata;D_2__Discoba;D_3_...\n",
      "D_0__Eukaryota;D_1__Excavata;D_2__Discoba;D_3__...  D_0__Eukaryota;D_1__Excavata;D_2__Discoba;D_3_...\n",
      "D_0__Eukaryota;D_1__Excavata;D_2__Discoba;D_3__...  D_0__Eukaryota;D_1__Excavata;D_2__Discoba;D_3_...\n",
      "D_0__Eukaryota;D_1__Excavata;D_2__Metamonada;D_...  D_0__Eukaryota;D_1__Excavata;D_2__Metamonada;D...\n",
      "D_0__Eukaryota;D_1__Excavata;D_2__Metamonada;D_...  D_0__Eukaryota;D_1__Excavata;D_2__Metamonada;D...\n",
      "D_0__Eukaryota;D_1__Opisthokonta;D_2__Holozoa;D...  D_0__Eukaryota;D_1__Opisthokonta;D_2__Holozoa;...\n",
      "D_0__Eukaryota;D_1__Opisthokonta;D_2__Holozoa;D...  D_0__Eukaryota;D_1__Opisthokonta;D_2__Holozoa;...\n",
      "D_0__Eukaryota;D_1__Opisthokonta;D_2__Holozoa;D...  D_0__Eukaryota;D_1__Opisthokonta;D_2__Holozoa;...\n",
      "D_0__Eukaryota;D_1__Opisthokonta;D_2__Holozoa;D...  D_0__Eukaryota;D_1__Opisthokonta;D_2__Holozoa;...\n",
      "D_0__Eukaryota;D_1__Opisthokonta;D_2__Holozoa;D...  D_0__Eukaryota;D_1__Opisthokonta;D_2__Holozoa;...\n",
      "D_0__Eukaryota;D_1__Opisthokonta;D_2__Holozoa;D...  D_0__Eukaryota;D_1__Opisthokonta;D_2__Holozoa;...\n",
      "D_0__Eukaryota;D_1__Opisthokonta;D_2__Holozoa;D...  D_0__Eukaryota;D_1__Opisthokonta;D_2__Holozoa;...\n",
      "D_0__Eukaryota;D_1__Opisthokonta;D_2__Holozoa;D...  D_0__Eukaryota;D_1__Opisthokonta;D_2__Holozoa;...\n",
      "D_0__Eukaryota;D_1__Opisthokonta;D_2__Holozoa;D...  D_0__Eukaryota;D_1__Opisthokonta;D_2__Holozoa;...\n",
      "D_0__Eukaryota;D_1__Opisthokonta;D_2__Holozoa;D...  D_0__Eukaryota;D_1__Opisthokonta;D_2__Holozoa;...\n",
      "D_0__Eukaryota;D_1__Opisthokonta;D_2__Holozoa;D...  D_0__Eukaryota;D_1__Opisthokonta;D_2__Holozoa;...\n",
      "D_0__Eukaryota;D_1__Opisthokonta;D_2__Holozoa;_...  D_0__Eukaryota;D_1__Opisthokonta;D_2__Holozoa;...\n",
      "D_0__Eukaryota;D_1__Opisthokonta;D_2__Nucletmyc...  D_0__Eukaryota;D_1__Opisthokonta;D_2__Nucletmy...\n",
      "D_0__Eukaryota;D_1__Opisthokonta;D_2__Nucletmyc...  D_0__Eukaryota;D_1__Opisthokonta;D_2__Nucletmy...\n",
      "D_0__Eukaryota;D_1__Opisthokonta;D_2__Nucletmyc...  D_0__Eukaryota;D_1__Opisthokonta;D_2__Nucletmy...\n",
      "D_0__Eukaryota;D_1__Opisthokonta;D_2__Nucletmyc...  D_0__Eukaryota;D_1__Opisthokonta;D_2__Nucletmy...\n",
      "D_0__Eukaryota;D_1__Opisthokonta;D_2__Nucletmyc...  D_0__Eukaryota;D_1__Opisthokonta;D_2__Nucletmy...\n",
      "D_0__Eukaryota;D_1__Opisthokonta;D_2__Nucletmyc...  D_0__Eukaryota;D_1__Opisthokonta;D_2__Nucletmy...\n",
      "D_0__Eukaryota;D_1__Opisthokonta;D_2__Nucletmyc...  D_0__Eukaryota;D_1__Opisthokonta;D_2__Nucletmy...\n",
      "D_0__Eukaryota;D_1__Opisthokonta;D_2__Nucletmyc...  D_0__Eukaryota;D_1__Opisthokonta;D_2__Nucletmy...\n",
      "D_0__Eukaryota;D_1__Opisthokonta;D_2__Nucletmyc...  D_0__Eukaryota;D_1__Opisthokonta;D_2__Nucletmy...\n",
      "D_0__Eukaryota;D_1__Opisthokonta;D_2__Nucletmyc...  D_0__Eukaryota;D_1__Opisthokonta;D_2__Nucletmy...\n",
      "D_0__Eukaryota;D_1__Opisthokonta;D_2__Nucletmyc...  D_0__Eukaryota;D_1__Opisthokonta;D_2__Nucletmy...\n",
      "D_0__Eukaryota;D_1__Opisthokonta;D_2__Nucletmyc...  D_0__Eukaryota;D_1__Opisthokonta;D_2__Nucletmy...\n",
      "D_0__Eukaryota;D_1__Opisthokonta;D_2__Nucletmyc...  D_0__Eukaryota;D_1__Opisthokonta;D_2__Nucletmy...\n",
      "D_0__Eukaryota;D_1__Opisthokonta;D_2__Nucletmyc...  D_0__Eukaryota;D_1__Opisthokonta;D_2__Nucletmy...\n",
      "D_0__Eukaryota;D_1__Opisthokonta;D_2__Nucletmyc...  D_0__Eukaryota;D_1__Opisthokonta;D_2__Nucletmy...\n",
      "D_0__Eukaryota;D_1__Opisthokonta;D_2__Nucletmyc...  D_0__Eukaryota;D_1__Opisthokonta;D_2__Nucletmy...\n",
      "D_0__Eukaryota;D_1__Opisthokonta;D_2__Nucletmyc...  D_0__Eukaryota;D_1__Opisthokonta;D_2__Nucletmy...\n",
      "D_0__Eukaryota;D_1__Opisthokonta;D_2__Nucletmyc...  D_0__Eukaryota;D_1__Opisthokonta;D_2__Nucletmy...\n",
      "D_0__Eukaryota;D_1__Opisthokonta;D_2__Nucletmyc...  D_0__Eukaryota;D_1__Opisthokonta;D_2__Nucletmy...\n",
      "D_0__Eukaryota;D_1__Opisthokonta;D_2__Nucletmyc...  D_0__Eukaryota;D_1__Opisthokonta;D_2__Nucletmy...\n",
      "D_0__Eukaryota;D_1__Opisthokonta;D_2__Nucletmyc...  D_0__Eukaryota;D_1__Opisthokonta;D_2__Nucletmy...\n",
      "D_0__Eukaryota;D_1__Opisthokonta;D_2__Nucletmyc...  D_0__Eukaryota;D_1__Opisthokonta;D_2__Nucletmy...\n",
      "D_0__Eukaryota;D_1__Opisthokonta;D_2__Nucletmyc...  D_0__Eukaryota;D_1__Opisthokonta;D_2__Nucletmy...\n",
      "D_0__Eukaryota;D_1__Opisthokonta;D_2__Nucletmyc...  D_0__Eukaryota;D_1__Opisthokonta;D_2__Nucletmy...\n",
      "D_0__Eukaryota;D_1__Opisthokonta;D_2__Nucletmyc...  D_0__Eukaryota;D_1__Opisthokonta;D_2__Nucletmy...\n",
      "D_0__Eukaryota;D_1__Opisthokonta;D_2__Nucletmyc...  D_0__Eukaryota;D_1__Opisthokonta;D_2__Nucletmy...\n",
      "D_0__Eukaryota;D_1__Opisthokonta;D_2__Nucletmyc...  D_0__Eukaryota;D_1__Opisthokonta;D_2__Nucletmy...\n",
      "D_0__Eukaryota;D_1__Opisthokonta;D_2__Nucletmyc...  D_0__Eukaryota;D_1__Opisthokonta;D_2__Nucletmy...\n",
      "D_0__Eukaryota;D_1__Opisthokonta;D_2__Nucletmyc...  D_0__Eukaryota;D_1__Opisthokonta;D_2__Nucletmy...\n",
      "D_0__Eukaryota;D_1__Opisthokonta;D_2__Nucletmyc...  D_0__Eukaryota;D_1__Opisthokonta;D_2__Nucletmy...\n",
      "D_0__Eukaryota;D_1__Opisthokonta;D_2__Nucletmyc...  D_0__Eukaryota;D_1__Opisthokonta;D_2__Nucletmy...\n",
      "D_0__Eukaryota;D_1__Opisthokonta;D_2__Nucletmyc...  D_0__Eukaryota;D_1__Opisthokonta;D_2__Nucletmy...\n",
      "D_0__Eukaryota;D_1__Opisthokonta;D_2__Nucletmyc...  D_0__Eukaryota;D_1__Opisthokonta;D_2__Nucletmy...\n",
      "D_0__Eukaryota;D_1__Opisthokonta;D_2__Nucletmyc...  D_0__Eukaryota;D_1__Opisthokonta;D_2__Nucletmy...\n",
      "D_0__Eukaryota;D_1__Opisthokonta;D_2__Nucletmyc...  D_0__Eukaryota;D_1__Opisthokonta;D_2__Nucletmy...\n",
      "D_0__Eukaryota;D_1__Opisthokonta;D_2__Nucletmyc...  D_0__Eukaryota;D_1__Opisthokonta;D_2__Nucletmy...\n",
      "D_0__Eukaryota;D_1__Opisthokonta;D_2__Nucletmyc...  D_0__Eukaryota;D_1__Opisthokonta;D_2__Nucletmy...\n",
      "D_0__Eukaryota;D_1__Opisthokonta;D_2__Nucletmyc...  D_0__Eukaryota;D_1__Opisthokonta;D_2__Nucletmy...\n",
      "D_0__Eukaryota;D_1__Opisthokonta;D_2__Nucletmyc...  D_0__Eukaryota;D_1__Opisthokonta;D_2__Nucletmy...\n",
      "D_0__Eukaryota;D_1__Opisthokonta;D_2__Nucletmyc...  D_0__Eukaryota;D_1__Opisthokonta;D_2__Nucletmy...\n",
      "D_0__Eukaryota;D_1__Opisthokonta;D_2__Nucletmyc...  D_0__Eukaryota;D_1__Opisthokonta;D_2__Nucletmy...\n",
      "D_0__Eukaryota;D_1__Opisthokonta;D_2__Nucletmyc...  D_0__Eukaryota;D_1__Opisthokonta;D_2__Nucletmy...\n",
      "D_0__Eukaryota;D_1__Opisthokonta;D_2__Nucletmyc...  D_0__Eukaryota;D_1__Opisthokonta;D_2__Nucletmy...\n",
      "D_0__Eukaryota;D_1__Opisthokonta;D_2__Nucletmyc...  D_0__Eukaryota;D_1__Opisthokonta;D_2__Nucletmy...\n",
      "D_0__Eukaryota;D_1__Opisthokonta;D_2__Nucletmyc...  D_0__Eukaryota;D_1__Opisthokonta;D_2__Nucletmy...\n",
      "D_0__Eukaryota;D_1__Opisthokonta;D_2__Nucletmyc...  D_0__Eukaryota;D_1__Opisthokonta;D_2__Nucletmy...\n",
      "D_0__Eukaryota;D_1__Opisthokonta;D_2__Nucletmyc...  D_0__Eukaryota;D_1__Opisthokonta;D_2__Nucletmy...\n",
      "D_0__Eukaryota;D_1__Opisthokonta;D_2__Nucletmyc...  D_0__Eukaryota;D_1__Opisthokonta;D_2__Nucletmy...\n",
      "D_0__Eukaryota;D_1__Opisthokonta;D_2__Nucletmyc...  D_0__Eukaryota;D_1__Opisthokonta;D_2__Nucletmy...\n",
      "D_0__Eukaryota;D_1__Opisthokonta;D_2__Nucletmyc...  D_0__Eukaryota;D_1__Opisthokonta;D_2__Nucletmy...\n",
      "D_0__Eukaryota;D_1__Opisthokonta;D_2__Nucletmyc...  D_0__Eukaryota;D_1__Opisthokonta;D_2__Nucletmy...\n",
      "D_0__Eukaryota;D_1__Opisthokonta;D_2__Nucletmyc...  D_0__Eukaryota;D_1__Opisthokonta;D_2__Nucletmy...\n",
      "D_0__Eukaryota;D_1__Opisthokonta;D_2__Nucletmyc...  D_0__Eukaryota;D_1__Opisthokonta;D_2__Nucletmy...\n",
      "D_0__Eukaryota;D_1__Opisthokonta;D_2__Nucletmyc...  D_0__Eukaryota;D_1__Opisthokonta;D_2__Nucletmy...\n",
      "D_0__Eukaryota;D_1__Opisthokonta;D_2__Nucletmyc...  D_0__Eukaryota;D_1__Opisthokonta;D_2__Nucletmy...\n",
      "D_0__Eukaryota;D_1__Opisthokonta;D_2__Nucletmyc...  D_0__Eukaryota;D_1__Opisthokonta;D_2__Nucletmy...\n",
      "D_0__Eukaryota;D_1__Opisthokonta;D_2__Nucletmyc...  D_0__Eukaryota;D_1__Opisthokonta;D_2__Nucletmy...\n",
      "D_0__Eukaryota;D_1__Opisthokonta;D_2__Nucletmyc...  D_0__Eukaryota;D_1__Opisthokonta;D_2__Nucletmy...\n",
      "D_0__Eukaryota;D_1__Opisthokonta;D_2__Nucletmyc...  D_0__Eukaryota;D_1__Opisthokonta;D_2__Nucletmy...\n",
      "D_0__Eukaryota;D_1__Opisthokonta;D_2__Nucletmyc...  D_0__Eukaryota;D_1__Opisthokonta;D_2__Nucletmy...\n",
      "D_0__Eukaryota;D_1__Opisthokonta;D_2__Nucletmyc...  D_0__Eukaryota;D_1__Opisthokonta;D_2__Nucletmy...\n",
      "D_0__Eukaryota;D_1__Opisthokonta;D_2__Nucletmyc...  D_0__Eukaryota;D_1__Opisthokonta;D_2__Nucletmy...\n",
      "D_0__Eukaryota;D_1__Opisthokonta;D_2__Nucletmyc...  D_0__Eukaryota;D_1__Opisthokonta;D_2__Nucletmy...\n",
      "D_0__Eukaryota;D_1__Opisthokonta;D_2__Nucletmyc...  D_0__Eukaryota;D_1__Opisthokonta;D_2__Nucletmy...\n",
      "D_0__Eukaryota;D_1__Opisthokonta;D_2__Nucletmyc...  D_0__Eukaryota;D_1__Opisthokonta;D_2__Nucletmy...\n",
      "D_0__Eukaryota;D_1__Opisthokonta;D_2__Nucletmyc...  D_0__Eukaryota;D_1__Opisthokonta;D_2__Nucletmy...\n",
      "D_0__Eukaryota;D_1__Opisthokonta;D_2__Nucletmyc...  D_0__Eukaryota;D_1__Opisthokonta;D_2__Nucletmy...\n",
      "D_0__Eukaryota;D_1__Opisthokonta;__;__;__;__;__...  D_0__Eukaryota;D_1__Opisthokonta;__;__;__;__;_...\n",
      "D_0__Eukaryota;D_1__SAR;D_2__Alveolata;D_3__Api...  D_0__Eukaryota;D_1__SAR;D_2__Alveolata;D_3__Ap...\n",
      "D_0__Eukaryota;D_1__SAR;D_2__Alveolata;D_3__Api...  D_0__Eukaryota;D_1__SAR;D_2__Alveolata;D_3__Ap...\n",
      "D_0__Eukaryota;D_1__SAR;D_2__Alveolata;D_3__Api...  D_0__Eukaryota;D_1__SAR;D_2__Alveolata;D_3__Ap...\n",
      "D_0__Eukaryota;D_1__SAR;D_2__Alveolata;D_3__Api...  D_0__Eukaryota;D_1__SAR;D_2__Alveolata;D_3__Ap...\n",
      "D_0__Eukaryota;D_1__SAR;D_2__Alveolata;D_3__Api...  D_0__Eukaryota;D_1__SAR;D_2__Alveolata;D_3__Ap...\n",
      "D_0__Eukaryota;D_1__SAR;D_2__Alveolata;D_3__Api...  D_0__Eukaryota;D_1__SAR;D_2__Alveolata;D_3__Ap...\n",
      "D_0__Eukaryota;D_1__SAR;D_2__Alveolata;D_3__Api...  D_0__Eukaryota;D_1__SAR;D_2__Alveolata;D_3__Ap...\n",
      "D_0__Eukaryota;D_1__SAR;D_2__Alveolata;D_3__Api...  D_0__Eukaryota;D_1__SAR;D_2__Alveolata;D_3__Ap...\n",
      "D_0__Eukaryota;D_1__SAR;D_2__Alveolata;D_3__Api...  D_0__Eukaryota;D_1__SAR;D_2__Alveolata;D_3__Ap...\n",
      "D_0__Eukaryota;D_1__SAR;D_2__Alveolata;D_3__Api...  D_0__Eukaryota;D_1__SAR;D_2__Alveolata;D_3__Ap...\n",
      "D_0__Eukaryota;D_1__SAR;D_2__Alveolata;D_3__Api...  D_0__Eukaryota;D_1__SAR;D_2__Alveolata;D_3__Ap...\n",
      "D_0__Eukaryota;D_1__SAR;D_2__Alveolata;D_3__Api...  D_0__Eukaryota;D_1__SAR;D_2__Alveolata;D_3__Ap...\n",
      "D_0__Eukaryota;D_1__SAR;D_2__Alveolata;D_3__Api...  D_0__Eukaryota;D_1__SAR;D_2__Alveolata;D_3__Ap...\n",
      "D_0__Eukaryota;D_1__SAR;D_2__Alveolata;D_3__Api...  D_0__Eukaryota;D_1__SAR;D_2__Alveolata;D_3__Ap...\n",
      "D_0__Eukaryota;D_1__SAR;D_2__Alveolata;D_3__Api...  D_0__Eukaryota;D_1__SAR;D_2__Alveolata;D_3__Ap...\n",
      "D_0__Eukaryota;D_1__SAR;D_2__Alveolata;D_3__Cil...  D_0__Eukaryota;D_1__SAR;D_2__Alveolata;D_3__Ci...\n",
      "D_0__Eukaryota;D_1__SAR;D_2__Alveolata;D_3__Cil...  D_0__Eukaryota;D_1__SAR;D_2__Alveolata;D_3__Ci...\n",
      "D_0__Eukaryota;D_1__SAR;D_2__Alveolata;D_3__Cil...  D_0__Eukaryota;D_1__SAR;D_2__Alveolata;D_3__Ci...\n",
      "D_0__Eukaryota;D_1__SAR;D_2__Alveolata;D_3__Cil...  D_0__Eukaryota;D_1__SAR;D_2__Alveolata;D_3__Ci...\n",
      "D_0__Eukaryota;D_1__SAR;D_2__Alveolata;D_3__Cil...  D_0__Eukaryota;D_1__SAR;D_2__Alveolata;D_3__Ci...\n",
      "D_0__Eukaryota;D_1__SAR;D_2__Alveolata;D_3__Cil...  D_0__Eukaryota;D_1__SAR;D_2__Alveolata;D_3__Ci...\n",
      "D_0__Eukaryota;D_1__SAR;D_2__Alveolata;D_3__Cil...  D_0__Eukaryota;D_1__SAR;D_2__Alveolata;D_3__Ci...\n",
      "D_0__Eukaryota;D_1__SAR;D_2__Alveolata;D_3__Cil...  D_0__Eukaryota;D_1__SAR;D_2__Alveolata;D_3__Ci...\n",
      "D_0__Eukaryota;D_1__SAR;D_2__Alveolata;D_3__Cil...  D_0__Eukaryota;D_1__SAR;D_2__Alveolata;D_3__Ci...\n",
      "D_0__Eukaryota;D_1__SAR;D_2__Alveolata;D_3__Cil...  D_0__Eukaryota;D_1__SAR;D_2__Alveolata;D_3__Ci...\n",
      "D_0__Eukaryota;D_1__SAR;D_2__Alveolata;D_3__Cil...  D_0__Eukaryota;D_1__SAR;D_2__Alveolata;D_3__Ci...\n",
      "D_0__Eukaryota;D_1__SAR;D_2__Alveolata;D_3__Cil...  D_0__Eukaryota;D_1__SAR;D_2__Alveolata;D_3__Ci...\n",
      "D_0__Eukaryota;D_1__SAR;D_2__Alveolata;D_3__Cil...  D_0__Eukaryota;D_1__SAR;D_2__Alveolata;D_3__Ci...\n",
      "D_0__Eukaryota;D_1__SAR;D_2__Alveolata;D_3__Cil...  D_0__Eukaryota;D_1__SAR;D_2__Alveolata;D_3__Ci...\n",
      "D_0__Eukaryota;D_1__SAR;D_2__Alveolata;D_3__Cil...  D_0__Eukaryota;D_1__SAR;D_2__Alveolata;D_3__Ci...\n",
      "D_0__Eukaryota;D_1__SAR;D_2__Alveolata;D_3__Cil...  D_0__Eukaryota;D_1__SAR;D_2__Alveolata;D_3__Ci...\n",
      "D_0__Eukaryota;D_1__SAR;D_2__Alveolata;D_3__Cil...  D_0__Eukaryota;D_1__SAR;D_2__Alveolata;D_3__Ci...\n",
      "D_0__Eukaryota;D_1__SAR;D_2__Alveolata;D_3__Cil...  D_0__Eukaryota;D_1__SAR;D_2__Alveolata;D_3__Ci...\n",
      "D_0__Eukaryota;D_1__SAR;D_2__Alveolata;D_3__Cil...  D_0__Eukaryota;D_1__SAR;D_2__Alveolata;D_3__Ci...\n",
      "D_0__Eukaryota;D_1__SAR;D_2__Alveolata;D_3__Cil...  D_0__Eukaryota;D_1__SAR;D_2__Alveolata;D_3__Ci...\n",
      "D_0__Eukaryota;D_1__SAR;D_2__Alveolata;D_3__Cil...  D_0__Eukaryota;D_1__SAR;D_2__Alveolata;D_3__Ci...\n",
      "D_0__Eukaryota;D_1__SAR;D_2__Alveolata;D_3__Cil...  D_0__Eukaryota;D_1__SAR;D_2__Alveolata;D_3__Ci...\n",
      "D_0__Eukaryota;D_1__SAR;D_2__Alveolata;D_3__Cil...  D_0__Eukaryota;D_1__SAR;D_2__Alveolata;D_3__Ci...\n",
      "D_0__Eukaryota;D_1__SAR;D_2__Alveolata;D_3__Cil...  D_0__Eukaryota;D_1__SAR;D_2__Alveolata;D_3__Ci...\n",
      "D_0__Eukaryota;D_1__SAR;D_2__Alveolata;D_3__Cil...  D_0__Eukaryota;D_1__SAR;D_2__Alveolata;D_3__Ci...\n",
      "D_0__Eukaryota;D_1__SAR;D_2__Alveolata;D_3__Din...  D_0__Eukaryota;D_1__SAR;D_2__Alveolata;D_3__Di...\n",
      "D_0__Eukaryota;D_1__SAR;D_2__Alveolata;D_3__Pro...  D_0__Eukaryota;D_1__SAR;D_2__Alveolata;D_3__Pr...\n",
      "D_0__Eukaryota;D_1__SAR;D_2__Alveolata;__;__;__...  D_0__Eukaryota;D_1__SAR;D_2__Alveolata;__;__;_...\n",
      "D_0__Eukaryota;D_1__SAR;D_2__Rhizaria;D_3__Cerc...  D_0__Eukaryota;D_1__SAR;D_2__Rhizaria;D_3__Cer...\n",
      "D_0__Eukaryota;D_1__SAR;D_2__Rhizaria;D_3__Cerc...  D_0__Eukaryota;D_1__SAR;D_2__Rhizaria;D_3__Cer...\n",
      "D_0__Eukaryota;D_1__SAR;D_2__Rhizaria;D_3__Cerc...  D_0__Eukaryota;D_1__SAR;D_2__Rhizaria;D_3__Cer...\n",
      "D_0__Eukaryota;D_1__SAR;D_2__Rhizaria;D_3__Cerc...  D_0__Eukaryota;D_1__SAR;D_2__Rhizaria;D_3__Cer...\n",
      "D_0__Eukaryota;D_1__SAR;D_2__Rhizaria;D_3__Cerc...  D_0__Eukaryota;D_1__SAR;D_2__Rhizaria;D_3__Cer...\n",
      "D_0__Eukaryota;D_1__SAR;D_2__Rhizaria;D_3__Cerc...  D_0__Eukaryota;D_1__SAR;D_2__Rhizaria;D_3__Cer...\n",
      "D_0__Eukaryota;D_1__SAR;D_2__Rhizaria;D_3__Cerc...  D_0__Eukaryota;D_1__SAR;D_2__Rhizaria;D_3__Cer...\n",
      "D_0__Eukaryota;D_1__SAR;D_2__Rhizaria;D_3__Cerc...  D_0__Eukaryota;D_1__SAR;D_2__Rhizaria;D_3__Cer...\n",
      "D_0__Eukaryota;D_1__SAR;D_2__Rhizaria;D_3__Cerc...  D_0__Eukaryota;D_1__SAR;D_2__Rhizaria;D_3__Cer...\n",
      "D_0__Eukaryota;D_1__SAR;D_2__Rhizaria;D_3__Cerc...  D_0__Eukaryota;D_1__SAR;D_2__Rhizaria;D_3__Cer...\n",
      "D_0__Eukaryota;D_1__SAR;D_2__Rhizaria;D_3__Cerc...  D_0__Eukaryota;D_1__SAR;D_2__Rhizaria;D_3__Cer...\n",
      "D_0__Eukaryota;D_1__SAR;D_2__Rhizaria;D_3__Cerc...  D_0__Eukaryota;D_1__SAR;D_2__Rhizaria;D_3__Cer...\n",
      "D_0__Eukaryota;D_1__SAR;D_2__Rhizaria;D_3__Cerc...  D_0__Eukaryota;D_1__SAR;D_2__Rhizaria;D_3__Cer...\n",
      "D_0__Eukaryota;D_1__SAR;D_2__Rhizaria;D_3__Cerc...  D_0__Eukaryota;D_1__SAR;D_2__Rhizaria;D_3__Cer...\n",
      "D_0__Eukaryota;D_1__SAR;D_2__Rhizaria;D_3__Cerc...  D_0__Eukaryota;D_1__SAR;D_2__Rhizaria;D_3__Cer...\n",
      "D_0__Eukaryota;D_1__SAR;D_2__Rhizaria;D_3__Cerc...  D_0__Eukaryota;D_1__SAR;D_2__Rhizaria;D_3__Cer...\n",
      "D_0__Eukaryota;D_1__SAR;D_2__Rhizaria;D_3__Cerc...  D_0__Eukaryota;D_1__SAR;D_2__Rhizaria;D_3__Cer...\n",
      "D_0__Eukaryota;D_1__SAR;D_2__Rhizaria;D_3__Cerc...  D_0__Eukaryota;D_1__SAR;D_2__Rhizaria;D_3__Cer...\n",
      "D_0__Eukaryota;D_1__SAR;D_2__Rhizaria;D_3__Cerc...  D_0__Eukaryota;D_1__SAR;D_2__Rhizaria;D_3__Cer...\n",
      "D_0__Eukaryota;D_1__SAR;D_2__Rhizaria;D_3__Cerc...  D_0__Eukaryota;D_1__SAR;D_2__Rhizaria;D_3__Cer...\n",
      "D_0__Eukaryota;D_1__SAR;D_2__Rhizaria;D_3__Cerc...  D_0__Eukaryota;D_1__SAR;D_2__Rhizaria;D_3__Cer...\n",
      "D_0__Eukaryota;D_1__SAR;D_2__Rhizaria;D_3__Cerc...  D_0__Eukaryota;D_1__SAR;D_2__Rhizaria;D_3__Cer...\n",
      "D_0__Eukaryota;D_1__SAR;D_2__Rhizaria;D_3__Cerc...  D_0__Eukaryota;D_1__SAR;D_2__Rhizaria;D_3__Cer...\n",
      "D_0__Eukaryota;D_1__SAR;D_2__Rhizaria;D_3__Cerc...  D_0__Eukaryota;D_1__SAR;D_2__Rhizaria;D_3__Cer...\n",
      "D_0__Eukaryota;D_1__SAR;D_2__Rhizaria;D_3__Cerc...  D_0__Eukaryota;D_1__SAR;D_2__Rhizaria;D_3__Cer...\n",
      "D_0__Eukaryota;D_1__SAR;D_2__Rhizaria;D_3__Cerc...  D_0__Eukaryota;D_1__SAR;D_2__Rhizaria;D_3__Cer...\n",
      "D_0__Eukaryota;D_1__SAR;D_2__Rhizaria;D_3__Cerc...  D_0__Eukaryota;D_1__SAR;D_2__Rhizaria;D_3__Cer...\n",
      "D_0__Eukaryota;D_1__SAR;D_2__Rhizaria;D_3__Cerc...  D_0__Eukaryota;D_1__SAR;D_2__Rhizaria;D_3__Cer...\n",
      "D_0__Eukaryota;D_1__SAR;D_2__Rhizaria;D_3__Cerc...  D_0__Eukaryota;D_1__SAR;D_2__Rhizaria;D_3__Cer...\n",
      "D_0__Eukaryota;D_1__SAR;D_2__Rhizaria;D_3__Cerc...  D_0__Eukaryota;D_1__SAR;D_2__Rhizaria;D_3__Cer...\n",
      "D_0__Eukaryota;D_1__SAR;D_2__Rhizaria;D_3__Cerc...  D_0__Eukaryota;D_1__SAR;D_2__Rhizaria;D_3__Cer...\n",
      "D_0__Eukaryota;D_1__SAR;D_2__Rhizaria;D_3__Cerc...  D_0__Eukaryota;D_1__SAR;D_2__Rhizaria;D_3__Cer...\n",
      "D_0__Eukaryota;D_1__SAR;D_2__Stramenopiles;D_3_...  D_0__Eukaryota;D_1__SAR;D_2__Stramenopiles;D_3...\n",
      "D_0__Eukaryota;D_1__SAR;D_2__Stramenopiles;D_3_...  D_0__Eukaryota;D_1__SAR;D_2__Stramenopiles;D_3...\n",
      "D_0__Eukaryota;D_1__SAR;D_2__Stramenopiles;D_3_...  D_0__Eukaryota;D_1__SAR;D_2__Stramenopiles;D_3...\n",
      "D_0__Eukaryota;D_1__SAR;D_2__Stramenopiles;D_3_...  D_0__Eukaryota;D_1__SAR;D_2__Stramenopiles;D_3...\n",
      "D_0__Eukaryota;D_1__SAR;D_2__Stramenopiles;D_3_...  D_0__Eukaryota;D_1__SAR;D_2__Stramenopiles;D_3...\n",
      "D_0__Eukaryota;D_1__SAR;D_2__Stramenopiles;D_3_...  D_0__Eukaryota;D_1__SAR;D_2__Stramenopiles;D_3...\n",
      "D_0__Eukaryota;D_1__SAR;D_2__Stramenopiles;D_3_...  D_0__Eukaryota;D_1__SAR;D_2__Stramenopiles;D_3...\n",
      "D_0__Eukaryota;D_1__SAR;D_2__Stramenopiles;D_3_...  D_0__Eukaryota;D_1__SAR;D_2__Stramenopiles;D_3...\n",
      "D_0__Eukaryota;D_1__SAR;D_2__Stramenopiles;D_3_...  D_0__Eukaryota;D_1__SAR;D_2__Stramenopiles;D_3...\n",
      "D_0__Eukaryota;D_1__SAR;D_2__Stramenopiles;D_3_...  D_0__Eukaryota;D_1__SAR;D_2__Stramenopiles;D_3...\n",
      "D_0__Eukaryota;D_1__SAR;D_2__Stramenopiles;D_3_...  D_0__Eukaryota;D_1__SAR;D_2__Stramenopiles;D_3...\n",
      "D_0__Eukaryota;D_1__SAR;D_2__Stramenopiles;D_3_...  D_0__Eukaryota;D_1__SAR;D_2__Stramenopiles;D_3...\n",
      "D_0__Eukaryota;D_1__SAR;D_2__Stramenopiles;D_3_...  D_0__Eukaryota;D_1__SAR;D_2__Stramenopiles;D_3...\n",
      "D_0__Eukaryota;D_1__SAR;D_2__Stramenopiles;D_3_...  D_0__Eukaryota;D_1__SAR;D_2__Stramenopiles;D_3...\n",
      "D_0__Eukaryota;D_1__SAR;D_2__Stramenopiles;D_3_...  D_0__Eukaryota;D_1__SAR;D_2__Stramenopiles;D_3...\n",
      "D_0__Eukaryota;D_1__SAR;D_2__Stramenopiles;D_3_...  D_0__Eukaryota;D_1__SAR;D_2__Stramenopiles;D_3...\n",
      "D_0__Eukaryota;D_1__SAR;D_2__Stramenopiles;D_3_...  D_0__Eukaryota;D_1__SAR;D_2__Stramenopiles;D_3...\n",
      "D_0__Eukaryota;D_1__SAR;D_2__Stramenopiles;D_3_...  D_0__Eukaryota;D_1__SAR;D_2__Stramenopiles;D_3...\n",
      "D_0__Eukaryota;D_1__SAR;D_2__Stramenopiles;D_3_...  D_0__Eukaryota;D_1__SAR;D_2__Stramenopiles;D_3...\n",
      "D_0__Eukaryota;D_1__SAR;D_2__Stramenopiles;D_3_...  D_0__Eukaryota;D_1__SAR;D_2__Stramenopiles;D_3...\n",
      "D_0__Eukaryota;D_1__SAR;D_2__Stramenopiles;D_3_...  D_0__Eukaryota;D_1__SAR;D_2__Stramenopiles;D_3...\n",
      "D_0__Eukaryota;D_1__SAR;D_2__Stramenopiles;D_3_...  D_0__Eukaryota;D_1__SAR;D_2__Stramenopiles;D_3...\n",
      "D_0__Eukaryota;D_1__SAR;D_2__Stramenopiles;D_3_...  D_0__Eukaryota;D_1__SAR;D_2__Stramenopiles;D_3...\n",
      "D_0__Eukaryota;D_1__SAR;D_2__Stramenopiles;D_3_...  D_0__Eukaryota;D_1__SAR;D_2__Stramenopiles;D_3...\n",
      "D_0__Eukaryota;D_1__SAR;D_2__Stramenopiles;D_3_...  D_0__Eukaryota;D_1__SAR;D_2__Stramenopiles;D_3...\n",
      "D_0__Eukaryota;D_1__SAR;D_2__Stramenopiles;D_3_...  D_0__Eukaryota;D_1__SAR;D_2__Stramenopiles;D_3...\n",
      "D_0__Eukaryota;D_1__SAR;D_2__Stramenopiles;D_3_...  D_0__Eukaryota;D_1__SAR;D_2__Stramenopiles;D_3...\n",
      "D_0__Eukaryota;D_1__SAR;D_2__Stramenopiles;D_3_...  D_0__Eukaryota;D_1__SAR;D_2__Stramenopiles;D_3...\n",
      "D_0__Eukaryota;D_1__SAR;D_2__Stramenopiles;D_3_...  D_0__Eukaryota;D_1__SAR;D_2__Stramenopiles;D_3...\n",
      "D_0__Eukaryota;D_1__SAR;D_2__Stramenopiles;D_3_...  D_0__Eukaryota;D_1__SAR;D_2__Stramenopiles;D_3...\n",
      "D_0__Eukaryota;D_1__SAR;D_2__Stramenopiles;D_3_...  D_0__Eukaryota;D_1__SAR;D_2__Stramenopiles;D_3...\n",
      "D_0__Eukaryota;D_1__SAR;D_2__Stramenopiles;D_3_...  D_0__Eukaryota;D_1__SAR;D_2__Stramenopiles;D_3...\n",
      "D_0__Eukaryota;D_1__SAR;D_2__Stramenopiles;D_3_...  D_0__Eukaryota;D_1__SAR;D_2__Stramenopiles;D_3...\n",
      "D_0__Eukaryota;D_1__SAR;D_2__Stramenopiles;D_3_...  D_0__Eukaryota;D_1__SAR;D_2__Stramenopiles;D_3...\n",
      "D_0__Eukaryota;D_1__SAR;D_2__Stramenopiles;D_3_...  D_0__Eukaryota;D_1__SAR;D_2__Stramenopiles;D_3...\n",
      "D_0__Eukaryota;D_1__SAR;D_2__Stramenopiles;D_3_...  D_0__Eukaryota;D_1__SAR;D_2__Stramenopiles;D_3...\n",
      "D_0__Eukaryota;D_1__SAR;D_2__Stramenopiles;D_3_...  D_0__Eukaryota;D_1__SAR;D_2__Stramenopiles;D_3...\n",
      "D_0__Eukaryota;D_1__SAR;D_2__Stramenopiles;__;_...  D_0__Eukaryota;D_1__SAR;D_2__Stramenopiles;__;...\n",
      "D_0__Eukaryota;D_1__SAR;__;__;__;__;__;__;__             D_0__Eukaryota;D_1__SAR;__;__;__;__;__;__;__\n",
      "D_0__Eukaryota;__;__;__;__;__;__;__;__                         D_0__Eukaryota;__;__;__;__;__;__;__;__\n"
     ]
    }
   ],
   "source": [
    "print(Summer_L9.feature_metadata)"
   ]
  },
  {
   "cell_type": "markdown",
   "metadata": {},
   "source": [
    "## Running the L9 model"
   ]
  },
  {
   "cell_type": "code",
   "execution_count": 48,
   "metadata": {},
   "outputs": [],
   "source": [
    "# groupKfold = 3, will leave out one body for each model\n",
    "gkf = GroupKFold(3)\n",
    "\n",
    "X = Summer_L9.data\n",
    "y = Summer_L9.sample_metadata['ADD']\n",
    "y = (y.astype(float))\n",
    "\n",
    "groups = Summer_L9.sample_metadata['host_subject_id']\n",
    "\n",
    "# used to test the param grid for parameter tuning\n",
    "# use the output of this estimator below for input into new estimator (not commented out)\n",
    "param_grid = {\"max_depth\": [4, 8, 16, None],\n",
    "              \"max_features\": ['sqrt', 'log2', 0.1],\n",
    "              \"min_samples_split\": [0.001, 0.01, 0.1],\n",
    "              \"min_weight_fraction_leaf\": [0.0001, 0.001, 0.01],\n",
    "              \"bootstrap\": [True, False]}\n",
    "\n",
    "#param_grid = {\"max_depth\": [8],\n",
    "#          \"max_features\": [0.1],\n",
    "#          \"min_samples_split\": [0.001],\n",
    "#          \"min_weight_fraction_leaf\": [0.0001],\n",
    "#          \"bootstrap\": [False]}\n",
    "\n",
    "rf = RandomForestRegressor(n_estimators=1000, random_state=999, criterion='mae')\n",
    "gs = GridSearchCV(rf, param_grid=param_grid, cv=gkf.split(X, y, groups), scoring='neg_mean_absolute_error', n_jobs=1)"
   ]
  },
  {
   "cell_type": "code",
   "execution_count": 49,
   "metadata": {},
   "outputs": [
    {
     "data": {
      "text/plain": [
       "GridSearchCV(cv=<generator object _BaseKFold.split at 0x120ef69d0>,\n",
       "             error_score=nan,\n",
       "             estimator=RandomForestRegressor(bootstrap=True, ccp_alpha=0.0,\n",
       "                                             criterion='mae', max_depth=None,\n",
       "                                             max_features='auto',\n",
       "                                             max_leaf_nodes=None,\n",
       "                                             max_samples=None,\n",
       "                                             min_impurity_decrease=0.0,\n",
       "                                             min_impurity_split=None,\n",
       "                                             min_samples_leaf=1,\n",
       "                                             min_samples_split=2,\n",
       "                                             min_weight_fraction_leaf=0.0,\n",
       "                                             n_es...\n",
       "                                             oob_score=False, random_state=999,\n",
       "                                             verbose=0, warm_start=False),\n",
       "             iid='deprecated', n_jobs=1,\n",
       "             param_grid={'bootstrap': [True, False],\n",
       "                         'max_depth': [4, 8, 16, None],\n",
       "                         'max_features': ['sqrt', 'log2', 0.1],\n",
       "                         'min_samples_split': [0.001, 0.01, 0.1],\n",
       "                         'min_weight_fraction_leaf': [0.0001, 0.001, 0.01]},\n",
       "             pre_dispatch='2*n_jobs', refit=True, return_train_score=False,\n",
       "             scoring='neg_mean_absolute_error', verbose=0)"
      ]
     },
     "execution_count": 49,
     "metadata": {},
     "output_type": "execute_result"
    }
   ],
   "source": [
    "gs.fit(X, y)"
   ]
  },
  {
   "cell_type": "code",
   "execution_count": 50,
   "metadata": {},
   "outputs": [
    {
     "name": "stdout",
     "output_type": "stream",
     "text": [
      "{'bootstrap': False, 'max_depth': 8, 'max_features': 0.1, 'min_samples_split': 0.001, 'min_weight_fraction_leaf': 0.0001}\n"
     ]
    }
   ],
   "source": [
    "# this line is used when run with the first param grid to determine what the best parameters are for tuning\n",
    "print(gs.best_params_)"
   ]
  },
  {
   "cell_type": "code",
   "execution_count": 51,
   "metadata": {},
   "outputs": [
    {
     "name": "stdout",
     "output_type": "stream",
     "text": [
      "The best mean absolute error is 870.4\n"
     ]
    }
   ],
   "source": [
    "print('The best mean absolute error is', round(-gs.best_score_,2))"
   ]
  },
  {
   "cell_type": "code",
   "execution_count": 52,
   "metadata": {},
   "outputs": [
    {
     "data": {
      "text/plain": [
       "['models/bone_summer_18S_L9.pkl']"
      ]
     },
     "execution_count": 52,
     "metadata": {},
     "output_type": "execute_result"
    }
   ],
   "source": [
    "joblib.dump(gs.best_estimator_, 'models/bone_summer_18S_L9.pkl')"
   ]
  },
  {
   "cell_type": "code",
   "execution_count": 53,
   "metadata": {},
   "outputs": [
    {
     "data": {
      "text/plain": [
       "RandomForestRegressor(bootstrap=False, ccp_alpha=0.0, criterion='mae',\n",
       "                      max_depth=8, max_features=0.1, max_leaf_nodes=None,\n",
       "                      max_samples=None, min_impurity_decrease=0.0,\n",
       "                      min_impurity_split=None, min_samples_leaf=1,\n",
       "                      min_samples_split=0.001, min_weight_fraction_leaf=0.0001,\n",
       "                      n_estimators=1000, n_jobs=None, oob_score=False,\n",
       "                      random_state=999, verbose=0, warm_start=False)"
      ]
     },
     "execution_count": 53,
     "metadata": {},
     "output_type": "execute_result"
    }
   ],
   "source": [
    "bone_summer_L9 = joblib.load('models/bone_summer_18S_L9.pkl')\n",
    "bone_summer_L9"
   ]
  },
  {
   "cell_type": "markdown",
   "metadata": {},
   "source": [
    "## Determine important features of the L9 model"
   ]
  },
  {
   "cell_type": "code",
   "execution_count": 54,
   "metadata": {},
   "outputs": [
    {
     "name": "stdout",
     "output_type": "stream",
     "text": [
      "Feature:\t\t\t\tImportance:\n",
      "1. D_0__Eukaryota;D_1__Opisthokonta;D_2__Holozoa;D_3__Metazoa (Animalia);D_4__Eumetazoa;D_5__Bilateria;D_6__Nematoda;D_7__Chromadorea;D_8__Rhabditida\t0.06172926971207485\n",
      "2. D_0__Eukaryota;D_1__Opisthokonta;D_2__Nucletmycea;D_3__Fungi;D_4__Dikarya;D_5__Ascomycota;D_6__Saccharomycotina;D_7__Saccharomycetes;D_8__Saccharomycetales\t0.06013836074512696\n",
      "3. D_0__Eukaryota;D_1__Opisthokonta;D_2__Nucletmycea;D_3__Fungi;D_4__Dikarya;D_5__Ascomycota;D_6__Pezizomycotina;D_7__Eurotiomycetes;__\t0.05280307965602406\n",
      "4. D_0__Eukaryota;D_1__Amoebozoa;D_2__Tubulinea;D_3__Euamoebida;D_4__BOLA868;D_5__metagenome;D_6__;D_7__;D_8__\t0.041954084756124534\n",
      "5. D_0__Eukaryota;D_1__Opisthokonta;D_2__Nucletmycea;D_3__Fungi;D_4__Dikarya;D_5__Ascomycota;D_6__Pezizomycotina;D_7__Sordariomycetes;D_8__Hypocreales\t0.03177142152465884\n",
      "6. D_0__Eukaryota;D_1__SAR;D_2__Alveolata;__;__;__;__;__;__\t0.02824800068484186\n",
      "7. D_0__Eukaryota;D_1__SAR;D_2__Rhizaria;D_3__Cercozoa;D_4__Glissomonadida;D_5__Heteromita;D_6__metagenome;D_7__;D_8__\t0.027472948930864775\n",
      "8. D_0__Eukaryota;D_1__Opisthokonta;D_2__Holozoa;D_3__Metazoa (Animalia);D_4__Eumetazoa;__;__;__;__\t0.024843822605376074\n",
      "9. D_0__Eukaryota;D_1__Opisthokonta;D_2__Nucletmycea;D_3__Fungi;__;__;__;__;__\t0.02250834116745165\n",
      "10. D_0__Eukaryota;D_1__SAR;D_2__Alveolata;D_3__Apicomplexa;D_4__Conoidasida;D_5__Gregarinasina;D_6__Eugregarinorida;__;__\t0.022231093608849038\n",
      "11. D_0__Eukaryota;D_1__Opisthokonta;D_2__Holozoa;__;__;__;__;__;__\t0.021388130853138444\n",
      "12. D_0__Eukaryota;D_1__Opisthokonta;D_2__Nucletmycea;D_3__Fungi;D_4__Dikarya;D_5__Ascomycota;D_6__Pezizomycotina;D_7__Laboulbeniomycetes;D_8__metagenome\t0.021265170845761315\n",
      "13. D_0__Eukaryota;__;__;__;__;__;__;__;__\t0.019470100213134455\n",
      "14. D_0__Eukaryota;D_1__Opisthokonta;D_2__Nucletmycea;D_3__Fungi;D_4__Dikarya;D_5__Basidiomycota;D_6__Agaricomycotina;D_7__Agaricomycetes;D_8__Gomphales\t0.019167595615736617\n",
      "15. D_0__Eukaryota;D_1__Opisthokonta;D_2__Nucletmycea;D_3__Fungi;D_4__Dikarya;D_5__Basidiomycota;D_6__Agaricomycotina;D_7__Tremellomycetes;D_8__Trichosporonales\t0.0181793702133971\n",
      "16. D_0__Eukaryota;D_1__Opisthokonta;D_2__Nucletmycea;D_3__Fungi;D_4__Dikarya;D_5__Basidiomycota;__;__;__\t0.016706231473746187\n",
      "17. D_0__Eukaryota;D_1__Opisthokonta;D_2__Nucletmycea;D_3__Fungi;D_4__Dikarya;D_5__Ascomycota;D_6__Pezizomycotina;D_7__Pezizomycetes;D_8__Pezizales\t0.015317421807617469\n",
      "18. D_0__Eukaryota;D_1__Opisthokonta;D_2__Nucletmycea;D_3__Fungi;D_4__Dikarya;D_5__Ascomycota;D_6__Pezizomycotina;D_7__Eurotiomycetes;D_8__Chaetothyriales\t0.015282333825569407\n",
      "19. D_0__Eukaryota;D_1__SAR;D_2__Alveolata;D_3__Apicomplexa;D_4__Conoidasida;D_5__Gregarinasina;D_6__Eugregarinorida;D_7__D3P05A02;D_8__uncultured eukaryote\t0.014165862825762663\n",
      "20. D_0__Eukaryota;D_1__Opisthokonta;D_2__Nucletmycea;D_3__Fungi;D_4__Dikarya;D_5__Basidiomycota;D_6__Agaricomycotina;D_7__Agaricomycetes;__\t0.01344174708797599\n",
      "21. D_0__Eukaryota;D_1__Excavata;D_2__Discoba;D_3__Discicristata;D_4__Euglenozoa;D_5__Kinetoplastea;D_6__Metakinetoplastina;D_7__Neobodonida;D_8__Neobodo\t0.013069170858165152\n",
      "22. D_0__Eukaryota;D_1__Opisthokonta;D_2__Nucletmycea;D_3__Fungi;D_4__Dikarya;D_5__Ascomycota;D_6__Pezizomycotina;__;__\t0.012937653264258395\n",
      "23. D_0__Eukaryota;D_1__Opisthokonta;D_2__Nucletmycea;D_3__Fungi;D_4__Dikarya;D_5__Basidiomycota;D_6__Agaricomycotina;D_7__Tremellomycetes;D_8__Cystofilobasidiales\t0.012195093444252058\n",
      "24. D_0__Eukaryota;D_1__Opisthokonta;D_2__Nucletmycea;D_3__Fungi;D_4__Dikarya;__;__;__;__\t0.011066456642865402\n",
      "25. D_0__Eukaryota;D_1__Opisthokonta;D_2__Holozoa;D_3__Metazoa (Animalia);__;__;__;__;__\t0.010512562157960323\n"
     ]
    }
   ],
   "source": [
    "importances = bone_summer_L9.feature_importances_\n",
    "std = np.std([tree.feature_importances_ for tree in bone_summer_L9.estimators_],\n",
    "             axis=0)\n",
    "indices = np.argsort(importances)[::-1]\n",
    "\n",
    "feature_metadata = Summer_L9.feature_metadata\n",
    "np.savetxt(\"importances/bone_summer_18S_L9_features.csv\", feature_metadata, delimiter=\",\", fmt='%s')\n",
    "\n",
    "\n",
    "#print the important ids in order\n",
    "general_importances = []\n",
    "count = 0\n",
    "print(\"Feature:\\t\\t\\t\\tImportance:\")\n",
    "for i in indices:\n",
    "    general_importances += (Summer_L9.feature_metadata.index.values[i], importances[indices[count]])\n",
    "    if count < 25:\n",
    "        print(str(count+1)+\". \"+str(Summer_L9.feature_metadata.index.values[i])+\"\\t\"+str(importances[indices[count]]))\n",
    "    count += 1\n",
    "    \n",
    "general_importances_df = pd.DataFrame(np.array(general_importances).reshape(490,1))\n",
    "\n",
    "np.savetxt(\"importances/bone_summer_18S_L9_importances.csv\", general_importances_df, delimiter=\",\", fmt='%s')"
   ]
  },
  {
   "cell_type": "markdown",
   "metadata": {},
   "source": [
    "## Import rarefied data collapsed at level 8"
   ]
  },
  {
   "cell_type": "code",
   "execution_count": 55,
   "metadata": {},
   "outputs": [
    {
     "name": "stdout",
     "output_type": "stream",
     "text": [
      "2020-07-02 13:56:06 WARNING These have metadata but do not have data - dropped (59): {'STAFS.2016.065.L10', 'CSU.extraction.blank11', 'STAFS.2016.065.L11', 'BLANK52.9A', 'BLANK52.9H', 'CSU.extraction.blank1', 'BLANK52.9C', 'BLANK52.10D', 'BLANK52.12A', 'CSU.extraction.blank12', 'CSU.extraction.blank6', 'CSU.extraction.blank4', 'CSU.extraction.blank8', 'CSU.extraction.blank13', 'BLANK52.11D', 'BLANK52.12B', 'BLANK52.9G', 'CSU.extraction.blank10', 'CSU.extraction.blank2', 'BLANK52.11F', 'BLANK52.5B', 'BLANK52.10F', 'BLANK52.11C', 'CSU.extraction.blank14', 'BLANK52.10B', 'SHSU.STAFS2016.011.L09', 'BLANK52.9B', 'STAFS.2016.065.L09', 'BLANK52.10G', 'BLANK52.11A', 'BLANK52.12D', 'BLANK52.10E', 'SHSU.STAFS2016.024.L10', 'CSU.extraction.blank15', 'BLANK52.12F', 'BLANK52.9F', 'BLANK52.11B', 'STAFS.2016.064.R09', 'BLANK52.10A', 'SHSU.STAFS2016.007.L09', 'CSU.extraction.blank9', '#q2:types', 'SHSU.STAFS2016.007.R10', 'BLANK52.11E', 'BLANK52.12G', 'BLANK52.9D', 'BLANK52.11H', 'BLANK52.11G', 'BLANK52.12E', 'BLANK52.12H', 'STAFS.2016.067.R12', 'BLANK52.10H', 'CSU.extraction.blank5', 'BLANK52.10C', 'CSU.extraction.blank3', 'CSU.extraction.blank7', 'STAFS.2016.067.L11.march', 'BLANK52.12C', 'BLANK52.9E'}\n"
     ]
    }
   ],
   "source": [
    "exp_L8 = ca.read_amplicon('/Users/heatherdeel/Dropbox/PMI_3_analyses/bone/02_18S/Hiseq_original_run/forward_reads_only/01_qiime2_analysis/03_feature_tables/collapsed_tables/18S_plate52_ribonly_table_full_taxfiltered_214940_L8.biom', '/Users/heatherdeel/Dropbox/PMI_3_analyses/bone/02_18S/Hiseq_original_run/forward_reads_only/02_metadata/map_18S.txt', min_reads=0, normalize=None)\n"
   ]
  },
  {
   "cell_type": "code",
   "execution_count": 56,
   "metadata": {},
   "outputs": [
    {
     "data": {
      "text/plain": [
       "STAFS2016.064    7\n",
       "STAFS2016.067    6\n",
       "STAFS2016.065    5\n",
       "Name: host_subject_id, dtype: int64"
      ]
     },
     "execution_count": 56,
     "metadata": {},
     "output_type": "execute_result"
    }
   ],
   "source": [
    "#filtering out spring and defining this as \"Summer\"\n",
    "Summer_L8 = exp_L8.filter_samples('season', 'summer')\n",
    "Summer_L8.sample_metadata.host_subject_id.value_counts()"
   ]
  },
  {
   "cell_type": "code",
   "execution_count": 57,
   "metadata": {},
   "outputs": [
    {
     "name": "stdout",
     "output_type": "stream",
     "text": [
      "                                                                                          _feature_id\n",
      "D_0__Eukaryota;D_1__Amoebozoa;D_2__Cavosteliida...  D_0__Eukaryota;D_1__Amoebozoa;D_2__Cavosteliid...\n",
      "D_0__Eukaryota;D_1__Amoebozoa;D_2__Dictyostelia...  D_0__Eukaryota;D_1__Amoebozoa;D_2__Dictyosteli...\n",
      "D_0__Eukaryota;D_1__Amoebozoa;D_2__Discosea;D_3...  D_0__Eukaryota;D_1__Amoebozoa;D_2__Discosea;D_...\n",
      "D_0__Eukaryota;D_1__Amoebozoa;D_2__Discosea;D_3...  D_0__Eukaryota;D_1__Amoebozoa;D_2__Discosea;D_...\n",
      "D_0__Eukaryota;D_1__Amoebozoa;D_2__Discosea;D_3...  D_0__Eukaryota;D_1__Amoebozoa;D_2__Discosea;D_...\n",
      "D_0__Eukaryota;D_1__Amoebozoa;D_2__Discosea;D_3...  D_0__Eukaryota;D_1__Amoebozoa;D_2__Discosea;D_...\n",
      "D_0__Eukaryota;D_1__Amoebozoa;D_2__Discosea;D_3...  D_0__Eukaryota;D_1__Amoebozoa;D_2__Discosea;D_...\n",
      "D_0__Eukaryota;D_1__Amoebozoa;D_2__Discosea;D_3...  D_0__Eukaryota;D_1__Amoebozoa;D_2__Discosea;D_...\n",
      "D_0__Eukaryota;D_1__Amoebozoa;D_2__Discosea;D_3...  D_0__Eukaryota;D_1__Amoebozoa;D_2__Discosea;D_...\n",
      "D_0__Eukaryota;D_1__Amoebozoa;D_2__Gracilipodid...  D_0__Eukaryota;D_1__Amoebozoa;D_2__Gracilipodi...\n",
      "D_0__Eukaryota;D_1__Amoebozoa;D_2__Incertae Sed...  D_0__Eukaryota;D_1__Amoebozoa;D_2__Incertae Se...\n",
      "D_0__Eukaryota;D_1__Amoebozoa;D_2__Mycamoeba;D_...  D_0__Eukaryota;D_1__Amoebozoa;D_2__Mycamoeba;D...\n",
      "D_0__Eukaryota;D_1__Amoebozoa;D_2__Myxogastria;...  D_0__Eukaryota;D_1__Amoebozoa;D_2__Myxogastria...\n",
      "D_0__Eukaryota;D_1__Amoebozoa;D_2__Myxogastria;...  D_0__Eukaryota;D_1__Amoebozoa;D_2__Myxogastria...\n",
      "D_0__Eukaryota;D_1__Amoebozoa;D_2__Schizoplasmo...  D_0__Eukaryota;D_1__Amoebozoa;D_2__Schizoplasm...\n",
      "D_0__Eukaryota;D_1__Amoebozoa;D_2__Schizoplasmo...  D_0__Eukaryota;D_1__Amoebozoa;D_2__Schizoplasm...\n",
      "D_0__Eukaryota;D_1__Amoebozoa;D_2__Tubulinea;D_...  D_0__Eukaryota;D_1__Amoebozoa;D_2__Tubulinea;D...\n",
      "D_0__Eukaryota;D_1__Amoebozoa;D_2__Tubulinea;D_...  D_0__Eukaryota;D_1__Amoebozoa;D_2__Tubulinea;D...\n",
      "D_0__Eukaryota;D_1__Amoebozoa;D_2__Tubulinea;D_...  D_0__Eukaryota;D_1__Amoebozoa;D_2__Tubulinea;D...\n",
      "D_0__Eukaryota;D_1__Amoebozoa;D_2__Tubulinea;D_...  D_0__Eukaryota;D_1__Amoebozoa;D_2__Tubulinea;D...\n",
      "D_0__Eukaryota;D_1__Amoebozoa;D_2__Tubulinea;D_...  D_0__Eukaryota;D_1__Amoebozoa;D_2__Tubulinea;D...\n",
      "D_0__Eukaryota;D_1__Amoebozoa;D_2__Tubulinea;D_...  D_0__Eukaryota;D_1__Amoebozoa;D_2__Tubulinea;D...\n",
      "D_0__Eukaryota;D_1__Amoebozoa;D_2__Tubulinea;D_...  D_0__Eukaryota;D_1__Amoebozoa;D_2__Tubulinea;D...\n",
      "D_0__Eukaryota;D_1__Amoebozoa;D_2__Tubulinea;D_...  D_0__Eukaryota;D_1__Amoebozoa;D_2__Tubulinea;D...\n",
      "D_0__Eukaryota;D_1__Amoebozoa;D_2__Tubulinea;__...  D_0__Eukaryota;D_1__Amoebozoa;D_2__Tubulinea;_...\n",
      "D_0__Eukaryota;D_1__Amoebozoa;D_2__metagenome;D...  D_0__Eukaryota;D_1__Amoebozoa;D_2__metagenome;...\n",
      "D_0__Eukaryota;D_1__Amoebozoa;D_2__uncultured;D...  D_0__Eukaryota;D_1__Amoebozoa;D_2__uncultured;...\n",
      "D_0__Eukaryota;D_1__Cryptophyceae;D_2__Cryptomo...  D_0__Eukaryota;D_1__Cryptophyceae;D_2__Cryptom...\n",
      "D_0__Eukaryota;D_1__Excavata;D_2__Discoba;D_3__...  D_0__Eukaryota;D_1__Excavata;D_2__Discoba;D_3_...\n",
      "D_0__Eukaryota;D_1__Excavata;D_2__Discoba;D_3__...  D_0__Eukaryota;D_1__Excavata;D_2__Discoba;D_3_...\n",
      "D_0__Eukaryota;D_1__Excavata;D_2__Discoba;D_3__...  D_0__Eukaryota;D_1__Excavata;D_2__Discoba;D_3_...\n",
      "D_0__Eukaryota;D_1__Excavata;D_2__Discoba;D_3__...  D_0__Eukaryota;D_1__Excavata;D_2__Discoba;D_3_...\n",
      "D_0__Eukaryota;D_1__Excavata;D_2__Discoba;D_3__...  D_0__Eukaryota;D_1__Excavata;D_2__Discoba;D_3_...\n",
      "D_0__Eukaryota;D_1__Excavata;D_2__Discoba;D_3__...  D_0__Eukaryota;D_1__Excavata;D_2__Discoba;D_3_...\n",
      "D_0__Eukaryota;D_1__Excavata;D_2__Discoba;D_3__...  D_0__Eukaryota;D_1__Excavata;D_2__Discoba;D_3_...\n",
      "D_0__Eukaryota;D_1__Excavata;D_2__Discoba;D_3__...  D_0__Eukaryota;D_1__Excavata;D_2__Discoba;D_3_...\n",
      "D_0__Eukaryota;D_1__Excavata;D_2__Discoba;D_3__...  D_0__Eukaryota;D_1__Excavata;D_2__Discoba;D_3_...\n",
      "D_0__Eukaryota;D_1__Excavata;D_2__Discoba;D_3__...  D_0__Eukaryota;D_1__Excavata;D_2__Discoba;D_3_...\n",
      "D_0__Eukaryota;D_1__Excavata;D_2__Discoba;D_3__...  D_0__Eukaryota;D_1__Excavata;D_2__Discoba;D_3_...\n",
      "D_0__Eukaryota;D_1__Excavata;D_2__Discoba;D_3__...  D_0__Eukaryota;D_1__Excavata;D_2__Discoba;D_3_...\n",
      "D_0__Eukaryota;D_1__Excavata;D_2__Discoba;D_3__...  D_0__Eukaryota;D_1__Excavata;D_2__Discoba;D_3_...\n",
      "D_0__Eukaryota;D_1__Excavata;D_2__Discoba;D_3__...  D_0__Eukaryota;D_1__Excavata;D_2__Discoba;D_3_...\n",
      "D_0__Eukaryota;D_1__Excavata;D_2__Metamonada;D_...  D_0__Eukaryota;D_1__Excavata;D_2__Metamonada;D...\n",
      "D_0__Eukaryota;D_1__Excavata;D_2__Metamonada;D_...  D_0__Eukaryota;D_1__Excavata;D_2__Metamonada;D...\n",
      "D_0__Eukaryota;D_1__Opisthokonta;D_2__Holozoa;D...  D_0__Eukaryota;D_1__Opisthokonta;D_2__Holozoa;...\n",
      "D_0__Eukaryota;D_1__Opisthokonta;D_2__Holozoa;D...  D_0__Eukaryota;D_1__Opisthokonta;D_2__Holozoa;...\n",
      "D_0__Eukaryota;D_1__Opisthokonta;D_2__Holozoa;D...  D_0__Eukaryota;D_1__Opisthokonta;D_2__Holozoa;...\n",
      "D_0__Eukaryota;D_1__Opisthokonta;D_2__Holozoa;D...  D_0__Eukaryota;D_1__Opisthokonta;D_2__Holozoa;...\n",
      "D_0__Eukaryota;D_1__Opisthokonta;D_2__Holozoa;D...  D_0__Eukaryota;D_1__Opisthokonta;D_2__Holozoa;...\n",
      "D_0__Eukaryota;D_1__Opisthokonta;D_2__Holozoa;D...  D_0__Eukaryota;D_1__Opisthokonta;D_2__Holozoa;...\n",
      "D_0__Eukaryota;D_1__Opisthokonta;D_2__Holozoa;D...  D_0__Eukaryota;D_1__Opisthokonta;D_2__Holozoa;...\n",
      "D_0__Eukaryota;D_1__Opisthokonta;D_2__Holozoa;D...  D_0__Eukaryota;D_1__Opisthokonta;D_2__Holozoa;...\n",
      "D_0__Eukaryota;D_1__Opisthokonta;D_2__Holozoa;D...  D_0__Eukaryota;D_1__Opisthokonta;D_2__Holozoa;...\n",
      "D_0__Eukaryota;D_1__Opisthokonta;D_2__Holozoa;_...  D_0__Eukaryota;D_1__Opisthokonta;D_2__Holozoa;...\n",
      "D_0__Eukaryota;D_1__Opisthokonta;D_2__Nucletmyc...  D_0__Eukaryota;D_1__Opisthokonta;D_2__Nucletmy...\n",
      "D_0__Eukaryota;D_1__Opisthokonta;D_2__Nucletmyc...  D_0__Eukaryota;D_1__Opisthokonta;D_2__Nucletmy...\n",
      "D_0__Eukaryota;D_1__Opisthokonta;D_2__Nucletmyc...  D_0__Eukaryota;D_1__Opisthokonta;D_2__Nucletmy...\n",
      "D_0__Eukaryota;D_1__Opisthokonta;D_2__Nucletmyc...  D_0__Eukaryota;D_1__Opisthokonta;D_2__Nucletmy...\n",
      "D_0__Eukaryota;D_1__Opisthokonta;D_2__Nucletmyc...  D_0__Eukaryota;D_1__Opisthokonta;D_2__Nucletmy...\n",
      "D_0__Eukaryota;D_1__Opisthokonta;D_2__Nucletmyc...  D_0__Eukaryota;D_1__Opisthokonta;D_2__Nucletmy...\n",
      "D_0__Eukaryota;D_1__Opisthokonta;D_2__Nucletmyc...  D_0__Eukaryota;D_1__Opisthokonta;D_2__Nucletmy...\n",
      "D_0__Eukaryota;D_1__Opisthokonta;D_2__Nucletmyc...  D_0__Eukaryota;D_1__Opisthokonta;D_2__Nucletmy...\n",
      "D_0__Eukaryota;D_1__Opisthokonta;D_2__Nucletmyc...  D_0__Eukaryota;D_1__Opisthokonta;D_2__Nucletmy...\n",
      "D_0__Eukaryota;D_1__Opisthokonta;D_2__Nucletmyc...  D_0__Eukaryota;D_1__Opisthokonta;D_2__Nucletmy...\n",
      "D_0__Eukaryota;D_1__Opisthokonta;D_2__Nucletmyc...  D_0__Eukaryota;D_1__Opisthokonta;D_2__Nucletmy...\n",
      "D_0__Eukaryota;D_1__Opisthokonta;D_2__Nucletmyc...  D_0__Eukaryota;D_1__Opisthokonta;D_2__Nucletmy...\n",
      "D_0__Eukaryota;D_1__Opisthokonta;D_2__Nucletmyc...  D_0__Eukaryota;D_1__Opisthokonta;D_2__Nucletmy...\n",
      "D_0__Eukaryota;D_1__Opisthokonta;D_2__Nucletmyc...  D_0__Eukaryota;D_1__Opisthokonta;D_2__Nucletmy...\n",
      "D_0__Eukaryota;D_1__Opisthokonta;D_2__Nucletmyc...  D_0__Eukaryota;D_1__Opisthokonta;D_2__Nucletmy...\n",
      "D_0__Eukaryota;D_1__Opisthokonta;D_2__Nucletmyc...  D_0__Eukaryota;D_1__Opisthokonta;D_2__Nucletmy...\n",
      "D_0__Eukaryota;D_1__Opisthokonta;D_2__Nucletmyc...  D_0__Eukaryota;D_1__Opisthokonta;D_2__Nucletmy...\n",
      "D_0__Eukaryota;D_1__Opisthokonta;D_2__Nucletmyc...  D_0__Eukaryota;D_1__Opisthokonta;D_2__Nucletmy...\n",
      "D_0__Eukaryota;D_1__Opisthokonta;D_2__Nucletmyc...  D_0__Eukaryota;D_1__Opisthokonta;D_2__Nucletmy...\n",
      "D_0__Eukaryota;D_1__Opisthokonta;D_2__Nucletmyc...  D_0__Eukaryota;D_1__Opisthokonta;D_2__Nucletmy...\n",
      "D_0__Eukaryota;D_1__Opisthokonta;D_2__Nucletmyc...  D_0__Eukaryota;D_1__Opisthokonta;D_2__Nucletmy...\n",
      "D_0__Eukaryota;D_1__Opisthokonta;D_2__Nucletmyc...  D_0__Eukaryota;D_1__Opisthokonta;D_2__Nucletmy...\n",
      "D_0__Eukaryota;D_1__Opisthokonta;D_2__Nucletmyc...  D_0__Eukaryota;D_1__Opisthokonta;D_2__Nucletmy...\n",
      "D_0__Eukaryota;D_1__Opisthokonta;D_2__Nucletmyc...  D_0__Eukaryota;D_1__Opisthokonta;D_2__Nucletmy...\n",
      "D_0__Eukaryota;D_1__Opisthokonta;D_2__Nucletmyc...  D_0__Eukaryota;D_1__Opisthokonta;D_2__Nucletmy...\n",
      "D_0__Eukaryota;D_1__Opisthokonta;D_2__Nucletmyc...  D_0__Eukaryota;D_1__Opisthokonta;D_2__Nucletmy...\n",
      "D_0__Eukaryota;D_1__Opisthokonta;D_2__Nucletmyc...  D_0__Eukaryota;D_1__Opisthokonta;D_2__Nucletmy...\n",
      "D_0__Eukaryota;D_1__Opisthokonta;D_2__Nucletmyc...  D_0__Eukaryota;D_1__Opisthokonta;D_2__Nucletmy...\n",
      "D_0__Eukaryota;D_1__Opisthokonta;D_2__Nucletmyc...  D_0__Eukaryota;D_1__Opisthokonta;D_2__Nucletmy...\n",
      "D_0__Eukaryota;D_1__Opisthokonta;D_2__Nucletmyc...  D_0__Eukaryota;D_1__Opisthokonta;D_2__Nucletmy...\n",
      "D_0__Eukaryota;D_1__Opisthokonta;D_2__Nucletmyc...  D_0__Eukaryota;D_1__Opisthokonta;D_2__Nucletmy...\n",
      "D_0__Eukaryota;D_1__Opisthokonta;D_2__Nucletmyc...  D_0__Eukaryota;D_1__Opisthokonta;D_2__Nucletmy...\n",
      "D_0__Eukaryota;D_1__Opisthokonta;D_2__Nucletmyc...  D_0__Eukaryota;D_1__Opisthokonta;D_2__Nucletmy...\n",
      "D_0__Eukaryota;D_1__Opisthokonta;D_2__Nucletmyc...  D_0__Eukaryota;D_1__Opisthokonta;D_2__Nucletmy...\n",
      "D_0__Eukaryota;D_1__Opisthokonta;D_2__Nucletmyc...  D_0__Eukaryota;D_1__Opisthokonta;D_2__Nucletmy...\n",
      "D_0__Eukaryota;D_1__Opisthokonta;__;__;__;__;__;__  D_0__Eukaryota;D_1__Opisthokonta;__;__;__;__;_...\n",
      "D_0__Eukaryota;D_1__SAR;D_2__Alveolata;D_3__Api...  D_0__Eukaryota;D_1__SAR;D_2__Alveolata;D_3__Ap...\n",
      "D_0__Eukaryota;D_1__SAR;D_2__Alveolata;D_3__Api...  D_0__Eukaryota;D_1__SAR;D_2__Alveolata;D_3__Ap...\n",
      "D_0__Eukaryota;D_1__SAR;D_2__Alveolata;D_3__Api...  D_0__Eukaryota;D_1__SAR;D_2__Alveolata;D_3__Ap...\n",
      "D_0__Eukaryota;D_1__SAR;D_2__Alveolata;D_3__Api...  D_0__Eukaryota;D_1__SAR;D_2__Alveolata;D_3__Ap...\n",
      "D_0__Eukaryota;D_1__SAR;D_2__Alveolata;D_3__Api...  D_0__Eukaryota;D_1__SAR;D_2__Alveolata;D_3__Ap...\n",
      "D_0__Eukaryota;D_1__SAR;D_2__Alveolata;D_3__Api...  D_0__Eukaryota;D_1__SAR;D_2__Alveolata;D_3__Ap...\n",
      "D_0__Eukaryota;D_1__SAR;D_2__Alveolata;D_3__Api...  D_0__Eukaryota;D_1__SAR;D_2__Alveolata;D_3__Ap...\n",
      "D_0__Eukaryota;D_1__SAR;D_2__Alveolata;D_3__Api...  D_0__Eukaryota;D_1__SAR;D_2__Alveolata;D_3__Ap...\n",
      "D_0__Eukaryota;D_1__SAR;D_2__Alveolata;D_3__Api...  D_0__Eukaryota;D_1__SAR;D_2__Alveolata;D_3__Ap...\n",
      "D_0__Eukaryota;D_1__SAR;D_2__Alveolata;D_3__Api...  D_0__Eukaryota;D_1__SAR;D_2__Alveolata;D_3__Ap...\n",
      "D_0__Eukaryota;D_1__SAR;D_2__Alveolata;D_3__Api...  D_0__Eukaryota;D_1__SAR;D_2__Alveolata;D_3__Ap...\n",
      "D_0__Eukaryota;D_1__SAR;D_2__Alveolata;D_3__Api...  D_0__Eukaryota;D_1__SAR;D_2__Alveolata;D_3__Ap...\n",
      "D_0__Eukaryota;D_1__SAR;D_2__Alveolata;D_3__Api...  D_0__Eukaryota;D_1__SAR;D_2__Alveolata;D_3__Ap...\n",
      "D_0__Eukaryota;D_1__SAR;D_2__Alveolata;D_3__Api...  D_0__Eukaryota;D_1__SAR;D_2__Alveolata;D_3__Ap...\n",
      "D_0__Eukaryota;D_1__SAR;D_2__Alveolata;D_3__Api...  D_0__Eukaryota;D_1__SAR;D_2__Alveolata;D_3__Ap...\n",
      "D_0__Eukaryota;D_1__SAR;D_2__Alveolata;D_3__Cil...  D_0__Eukaryota;D_1__SAR;D_2__Alveolata;D_3__Ci...\n",
      "D_0__Eukaryota;D_1__SAR;D_2__Alveolata;D_3__Cil...  D_0__Eukaryota;D_1__SAR;D_2__Alveolata;D_3__Ci...\n",
      "D_0__Eukaryota;D_1__SAR;D_2__Alveolata;D_3__Cil...  D_0__Eukaryota;D_1__SAR;D_2__Alveolata;D_3__Ci...\n",
      "D_0__Eukaryota;D_1__SAR;D_2__Alveolata;D_3__Cil...  D_0__Eukaryota;D_1__SAR;D_2__Alveolata;D_3__Ci...\n",
      "D_0__Eukaryota;D_1__SAR;D_2__Alveolata;D_3__Cil...  D_0__Eukaryota;D_1__SAR;D_2__Alveolata;D_3__Ci...\n",
      "D_0__Eukaryota;D_1__SAR;D_2__Alveolata;D_3__Cil...  D_0__Eukaryota;D_1__SAR;D_2__Alveolata;D_3__Ci...\n",
      "D_0__Eukaryota;D_1__SAR;D_2__Alveolata;D_3__Cil...  D_0__Eukaryota;D_1__SAR;D_2__Alveolata;D_3__Ci...\n",
      "D_0__Eukaryota;D_1__SAR;D_2__Alveolata;D_3__Cil...  D_0__Eukaryota;D_1__SAR;D_2__Alveolata;D_3__Ci...\n",
      "D_0__Eukaryota;D_1__SAR;D_2__Alveolata;D_3__Cil...  D_0__Eukaryota;D_1__SAR;D_2__Alveolata;D_3__Ci...\n",
      "D_0__Eukaryota;D_1__SAR;D_2__Alveolata;D_3__Cil...  D_0__Eukaryota;D_1__SAR;D_2__Alveolata;D_3__Ci...\n",
      "D_0__Eukaryota;D_1__SAR;D_2__Alveolata;D_3__Cil...  D_0__Eukaryota;D_1__SAR;D_2__Alveolata;D_3__Ci...\n",
      "D_0__Eukaryota;D_1__SAR;D_2__Alveolata;D_3__Cil...  D_0__Eukaryota;D_1__SAR;D_2__Alveolata;D_3__Ci...\n",
      "D_0__Eukaryota;D_1__SAR;D_2__Alveolata;D_3__Cil...  D_0__Eukaryota;D_1__SAR;D_2__Alveolata;D_3__Ci...\n",
      "D_0__Eukaryota;D_1__SAR;D_2__Alveolata;D_3__Cil...  D_0__Eukaryota;D_1__SAR;D_2__Alveolata;D_3__Ci...\n",
      "D_0__Eukaryota;D_1__SAR;D_2__Alveolata;D_3__Cil...  D_0__Eukaryota;D_1__SAR;D_2__Alveolata;D_3__Ci...\n",
      "D_0__Eukaryota;D_1__SAR;D_2__Alveolata;D_3__Din...  D_0__Eukaryota;D_1__SAR;D_2__Alveolata;D_3__Di...\n",
      "D_0__Eukaryota;D_1__SAR;D_2__Alveolata;D_3__Pro...  D_0__Eukaryota;D_1__SAR;D_2__Alveolata;D_3__Pr...\n",
      "D_0__Eukaryota;D_1__SAR;D_2__Alveolata;__;__;__...  D_0__Eukaryota;D_1__SAR;D_2__Alveolata;__;__;_...\n",
      "D_0__Eukaryota;D_1__SAR;D_2__Rhizaria;D_3__Cerc...  D_0__Eukaryota;D_1__SAR;D_2__Rhizaria;D_3__Cer...\n",
      "D_0__Eukaryota;D_1__SAR;D_2__Rhizaria;D_3__Cerc...  D_0__Eukaryota;D_1__SAR;D_2__Rhizaria;D_3__Cer...\n",
      "D_0__Eukaryota;D_1__SAR;D_2__Rhizaria;D_3__Cerc...  D_0__Eukaryota;D_1__SAR;D_2__Rhizaria;D_3__Cer...\n",
      "D_0__Eukaryota;D_1__SAR;D_2__Rhizaria;D_3__Cerc...  D_0__Eukaryota;D_1__SAR;D_2__Rhizaria;D_3__Cer...\n",
      "D_0__Eukaryota;D_1__SAR;D_2__Rhizaria;D_3__Cerc...  D_0__Eukaryota;D_1__SAR;D_2__Rhizaria;D_3__Cer...\n",
      "D_0__Eukaryota;D_1__SAR;D_2__Rhizaria;D_3__Cerc...  D_0__Eukaryota;D_1__SAR;D_2__Rhizaria;D_3__Cer...\n",
      "D_0__Eukaryota;D_1__SAR;D_2__Rhizaria;D_3__Cerc...  D_0__Eukaryota;D_1__SAR;D_2__Rhizaria;D_3__Cer...\n",
      "D_0__Eukaryota;D_1__SAR;D_2__Rhizaria;D_3__Cerc...  D_0__Eukaryota;D_1__SAR;D_2__Rhizaria;D_3__Cer...\n",
      "D_0__Eukaryota;D_1__SAR;D_2__Rhizaria;D_3__Cerc...  D_0__Eukaryota;D_1__SAR;D_2__Rhizaria;D_3__Cer...\n",
      "D_0__Eukaryota;D_1__SAR;D_2__Rhizaria;D_3__Cerc...  D_0__Eukaryota;D_1__SAR;D_2__Rhizaria;D_3__Cer...\n",
      "D_0__Eukaryota;D_1__SAR;D_2__Rhizaria;D_3__Cerc...  D_0__Eukaryota;D_1__SAR;D_2__Rhizaria;D_3__Cer...\n",
      "D_0__Eukaryota;D_1__SAR;D_2__Rhizaria;D_3__Cerc...  D_0__Eukaryota;D_1__SAR;D_2__Rhizaria;D_3__Cer...\n",
      "D_0__Eukaryota;D_1__SAR;D_2__Rhizaria;D_3__Cerc...  D_0__Eukaryota;D_1__SAR;D_2__Rhizaria;D_3__Cer...\n",
      "D_0__Eukaryota;D_1__SAR;D_2__Rhizaria;D_3__Cerc...  D_0__Eukaryota;D_1__SAR;D_2__Rhizaria;D_3__Cer...\n",
      "D_0__Eukaryota;D_1__SAR;D_2__Rhizaria;D_3__Cerc...  D_0__Eukaryota;D_1__SAR;D_2__Rhizaria;D_3__Cer...\n",
      "D_0__Eukaryota;D_1__SAR;D_2__Rhizaria;D_3__Cerc...  D_0__Eukaryota;D_1__SAR;D_2__Rhizaria;D_3__Cer...\n",
      "D_0__Eukaryota;D_1__SAR;D_2__Rhizaria;D_3__Cerc...  D_0__Eukaryota;D_1__SAR;D_2__Rhizaria;D_3__Cer...\n",
      "D_0__Eukaryota;D_1__SAR;D_2__Rhizaria;D_3__Cerc...  D_0__Eukaryota;D_1__SAR;D_2__Rhizaria;D_3__Cer...\n",
      "D_0__Eukaryota;D_1__SAR;D_2__Rhizaria;D_3__Cerc...  D_0__Eukaryota;D_1__SAR;D_2__Rhizaria;D_3__Cer...\n",
      "D_0__Eukaryota;D_1__SAR;D_2__Rhizaria;D_3__Cerc...  D_0__Eukaryota;D_1__SAR;D_2__Rhizaria;D_3__Cer...\n",
      "D_0__Eukaryota;D_1__SAR;D_2__Rhizaria;D_3__Cerc...  D_0__Eukaryota;D_1__SAR;D_2__Rhizaria;D_3__Cer...\n",
      "D_0__Eukaryota;D_1__SAR;D_2__Rhizaria;D_3__Cerc...  D_0__Eukaryota;D_1__SAR;D_2__Rhizaria;D_3__Cer...\n",
      "D_0__Eukaryota;D_1__SAR;D_2__Rhizaria;D_3__Cerc...  D_0__Eukaryota;D_1__SAR;D_2__Rhizaria;D_3__Cer...\n",
      "D_0__Eukaryota;D_1__SAR;D_2__Rhizaria;D_3__Cerc...  D_0__Eukaryota;D_1__SAR;D_2__Rhizaria;D_3__Cer...\n",
      "D_0__Eukaryota;D_1__SAR;D_2__Rhizaria;D_3__Cerc...  D_0__Eukaryota;D_1__SAR;D_2__Rhizaria;D_3__Cer...\n",
      "D_0__Eukaryota;D_1__SAR;D_2__Rhizaria;D_3__Cerc...  D_0__Eukaryota;D_1__SAR;D_2__Rhizaria;D_3__Cer...\n",
      "D_0__Eukaryota;D_1__SAR;D_2__Rhizaria;D_3__Cerc...  D_0__Eukaryota;D_1__SAR;D_2__Rhizaria;D_3__Cer...\n",
      "D_0__Eukaryota;D_1__SAR;D_2__Rhizaria;D_3__Cerc...  D_0__Eukaryota;D_1__SAR;D_2__Rhizaria;D_3__Cer...\n",
      "D_0__Eukaryota;D_1__SAR;D_2__Rhizaria;D_3__Cerc...  D_0__Eukaryota;D_1__SAR;D_2__Rhizaria;D_3__Cer...\n",
      "D_0__Eukaryota;D_1__SAR;D_2__Rhizaria;D_3__Cerc...  D_0__Eukaryota;D_1__SAR;D_2__Rhizaria;D_3__Cer...\n",
      "D_0__Eukaryota;D_1__SAR;D_2__Stramenopiles;D_3_...  D_0__Eukaryota;D_1__SAR;D_2__Stramenopiles;D_3...\n",
      "D_0__Eukaryota;D_1__SAR;D_2__Stramenopiles;D_3_...  D_0__Eukaryota;D_1__SAR;D_2__Stramenopiles;D_3...\n",
      "D_0__Eukaryota;D_1__SAR;D_2__Stramenopiles;D_3_...  D_0__Eukaryota;D_1__SAR;D_2__Stramenopiles;D_3...\n",
      "D_0__Eukaryota;D_1__SAR;D_2__Stramenopiles;D_3_...  D_0__Eukaryota;D_1__SAR;D_2__Stramenopiles;D_3...\n",
      "D_0__Eukaryota;D_1__SAR;D_2__Stramenopiles;D_3_...  D_0__Eukaryota;D_1__SAR;D_2__Stramenopiles;D_3...\n",
      "D_0__Eukaryota;D_1__SAR;D_2__Stramenopiles;D_3_...  D_0__Eukaryota;D_1__SAR;D_2__Stramenopiles;D_3...\n",
      "D_0__Eukaryota;D_1__SAR;D_2__Stramenopiles;D_3_...  D_0__Eukaryota;D_1__SAR;D_2__Stramenopiles;D_3...\n",
      "D_0__Eukaryota;D_1__SAR;D_2__Stramenopiles;D_3_...  D_0__Eukaryota;D_1__SAR;D_2__Stramenopiles;D_3...\n",
      "D_0__Eukaryota;D_1__SAR;D_2__Stramenopiles;D_3_...  D_0__Eukaryota;D_1__SAR;D_2__Stramenopiles;D_3...\n",
      "D_0__Eukaryota;D_1__SAR;D_2__Stramenopiles;D_3_...  D_0__Eukaryota;D_1__SAR;D_2__Stramenopiles;D_3...\n",
      "D_0__Eukaryota;D_1__SAR;D_2__Stramenopiles;D_3_...  D_0__Eukaryota;D_1__SAR;D_2__Stramenopiles;D_3...\n",
      "D_0__Eukaryota;D_1__SAR;D_2__Stramenopiles;D_3_...  D_0__Eukaryota;D_1__SAR;D_2__Stramenopiles;D_3...\n",
      "D_0__Eukaryota;D_1__SAR;D_2__Stramenopiles;D_3_...  D_0__Eukaryota;D_1__SAR;D_2__Stramenopiles;D_3...\n",
      "D_0__Eukaryota;D_1__SAR;D_2__Stramenopiles;D_3_...  D_0__Eukaryota;D_1__SAR;D_2__Stramenopiles;D_3...\n",
      "D_0__Eukaryota;D_1__SAR;D_2__Stramenopiles;D_3_...  D_0__Eukaryota;D_1__SAR;D_2__Stramenopiles;D_3...\n",
      "D_0__Eukaryota;D_1__SAR;D_2__Stramenopiles;D_3_...  D_0__Eukaryota;D_1__SAR;D_2__Stramenopiles;D_3...\n",
      "D_0__Eukaryota;D_1__SAR;D_2__Stramenopiles;D_3_...  D_0__Eukaryota;D_1__SAR;D_2__Stramenopiles;D_3...\n",
      "D_0__Eukaryota;D_1__SAR;D_2__Stramenopiles;D_3_...  D_0__Eukaryota;D_1__SAR;D_2__Stramenopiles;D_3...\n",
      "D_0__Eukaryota;D_1__SAR;D_2__Stramenopiles;D_3_...  D_0__Eukaryota;D_1__SAR;D_2__Stramenopiles;D_3...\n",
      "D_0__Eukaryota;D_1__SAR;D_2__Stramenopiles;D_3_...  D_0__Eukaryota;D_1__SAR;D_2__Stramenopiles;D_3...\n",
      "D_0__Eukaryota;D_1__SAR;D_2__Stramenopiles;D_3_...  D_0__Eukaryota;D_1__SAR;D_2__Stramenopiles;D_3...\n",
      "D_0__Eukaryota;D_1__SAR;D_2__Stramenopiles;D_3_...  D_0__Eukaryota;D_1__SAR;D_2__Stramenopiles;D_3...\n",
      "D_0__Eukaryota;D_1__SAR;D_2__Stramenopiles;D_3_...  D_0__Eukaryota;D_1__SAR;D_2__Stramenopiles;D_3...\n",
      "D_0__Eukaryota;D_1__SAR;D_2__Stramenopiles;D_3_...  D_0__Eukaryota;D_1__SAR;D_2__Stramenopiles;D_3...\n",
      "D_0__Eukaryota;D_1__SAR;D_2__Stramenopiles;D_3_...  D_0__Eukaryota;D_1__SAR;D_2__Stramenopiles;D_3...\n",
      "D_0__Eukaryota;D_1__SAR;D_2__Stramenopiles;D_3_...  D_0__Eukaryota;D_1__SAR;D_2__Stramenopiles;D_3...\n",
      "D_0__Eukaryota;D_1__SAR;D_2__Stramenopiles;D_3_...  D_0__Eukaryota;D_1__SAR;D_2__Stramenopiles;D_3...\n",
      "D_0__Eukaryota;D_1__SAR;D_2__Stramenopiles;D_3_...  D_0__Eukaryota;D_1__SAR;D_2__Stramenopiles;D_3...\n",
      "D_0__Eukaryota;D_1__SAR;D_2__Stramenopiles;D_3_...  D_0__Eukaryota;D_1__SAR;D_2__Stramenopiles;D_3...\n",
      "D_0__Eukaryota;D_1__SAR;D_2__Stramenopiles;D_3_...  D_0__Eukaryota;D_1__SAR;D_2__Stramenopiles;D_3...\n",
      "D_0__Eukaryota;D_1__SAR;D_2__Stramenopiles;D_3_...  D_0__Eukaryota;D_1__SAR;D_2__Stramenopiles;D_3...\n",
      "D_0__Eukaryota;D_1__SAR;D_2__Stramenopiles;D_3_...  D_0__Eukaryota;D_1__SAR;D_2__Stramenopiles;D_3...\n",
      "D_0__Eukaryota;D_1__SAR;D_2__Stramenopiles;D_3_...  D_0__Eukaryota;D_1__SAR;D_2__Stramenopiles;D_3...\n",
      "D_0__Eukaryota;D_1__SAR;D_2__Stramenopiles;D_3_...  D_0__Eukaryota;D_1__SAR;D_2__Stramenopiles;D_3...\n",
      "D_0__Eukaryota;D_1__SAR;D_2__Stramenopiles;D_3_...  D_0__Eukaryota;D_1__SAR;D_2__Stramenopiles;D_3...\n",
      "D_0__Eukaryota;D_1__SAR;D_2__Stramenopiles;D_3_...  D_0__Eukaryota;D_1__SAR;D_2__Stramenopiles;D_3...\n",
      "D_0__Eukaryota;D_1__SAR;D_2__Stramenopiles;D_3_...  D_0__Eukaryota;D_1__SAR;D_2__Stramenopiles;D_3...\n",
      "D_0__Eukaryota;D_1__SAR;D_2__Stramenopiles;__;_...  D_0__Eukaryota;D_1__SAR;D_2__Stramenopiles;__;...\n",
      "D_0__Eukaryota;D_1__SAR;__;__;__;__;__;__                   D_0__Eukaryota;D_1__SAR;__;__;__;__;__;__\n",
      "D_0__Eukaryota;__;__;__;__;__;__;__                               D_0__Eukaryota;__;__;__;__;__;__;__\n"
     ]
    }
   ],
   "source": [
    "print(Summer_L8.feature_metadata)"
   ]
  },
  {
   "cell_type": "markdown",
   "metadata": {},
   "source": [
    "## Running the L8 model"
   ]
  },
  {
   "cell_type": "code",
   "execution_count": 58,
   "metadata": {},
   "outputs": [],
   "source": [
    "# groupKfold = 3, will leave out one body for each model\n",
    "gkf = GroupKFold(3)\n",
    "\n",
    "X = Summer_L8.data\n",
    "y = Summer_L8.sample_metadata['ADD']\n",
    "y = (y.astype(float))\n",
    "\n",
    "groups = Summer_L8.sample_metadata['host_subject_id']\n",
    "\n",
    "# used to test the param grid for parameter tuning\n",
    "# use the output of this estimator below for input into new estimator (not commented out)\n",
    "param_grid = {\"max_depth\": [4, 8, 16, None],\n",
    "              \"max_features\": ['sqrt', 'log2', 0.1],\n",
    "              \"min_samples_split\": [0.001, 0.01, 0.1],\n",
    "              \"min_weight_fraction_leaf\": [0.0001, 0.001, 0.01],\n",
    "              \"bootstrap\": [True, False]}\n",
    "\n",
    "#param_grid = {\"max_depth\": [8],\n",
    "#          \"max_features\": [0.1],\n",
    "#          \"min_samples_split\": [0.001],\n",
    "#          \"min_weight_fraction_leaf\": [0.0001],\n",
    "#          \"bootstrap\": [False]}\n",
    "\n",
    "rf = RandomForestRegressor(n_estimators=1000, random_state=999, criterion='mae')\n",
    "gs = GridSearchCV(rf, param_grid=param_grid, cv=gkf.split(X, y, groups), scoring='neg_mean_absolute_error', n_jobs=1)"
   ]
  },
  {
   "cell_type": "code",
   "execution_count": 59,
   "metadata": {},
   "outputs": [
    {
     "data": {
      "text/plain": [
       "GridSearchCV(cv=<generator object _BaseKFold.split at 0x11f9a1a50>,\n",
       "             error_score=nan,\n",
       "             estimator=RandomForestRegressor(bootstrap=True, ccp_alpha=0.0,\n",
       "                                             criterion='mae', max_depth=None,\n",
       "                                             max_features='auto',\n",
       "                                             max_leaf_nodes=None,\n",
       "                                             max_samples=None,\n",
       "                                             min_impurity_decrease=0.0,\n",
       "                                             min_impurity_split=None,\n",
       "                                             min_samples_leaf=1,\n",
       "                                             min_samples_split=2,\n",
       "                                             min_weight_fraction_leaf=0.0,\n",
       "                                             n_es...\n",
       "                                             oob_score=False, random_state=999,\n",
       "                                             verbose=0, warm_start=False),\n",
       "             iid='deprecated', n_jobs=1,\n",
       "             param_grid={'bootstrap': [True, False],\n",
       "                         'max_depth': [4, 8, 16, None],\n",
       "                         'max_features': ['sqrt', 'log2', 0.1],\n",
       "                         'min_samples_split': [0.001, 0.01, 0.1],\n",
       "                         'min_weight_fraction_leaf': [0.0001, 0.001, 0.01]},\n",
       "             pre_dispatch='2*n_jobs', refit=True, return_train_score=False,\n",
       "             scoring='neg_mean_absolute_error', verbose=0)"
      ]
     },
     "execution_count": 59,
     "metadata": {},
     "output_type": "execute_result"
    }
   ],
   "source": [
    "gs.fit(X, y)"
   ]
  },
  {
   "cell_type": "code",
   "execution_count": 60,
   "metadata": {},
   "outputs": [
    {
     "name": "stdout",
     "output_type": "stream",
     "text": [
      "{'bootstrap': False, 'max_depth': 4, 'max_features': 0.1, 'min_samples_split': 0.001, 'min_weight_fraction_leaf': 0.0001}\n"
     ]
    }
   ],
   "source": [
    "# this line is used when run with the first param grid to determine what the best parameters are for tuning\n",
    "print(gs.best_params_)"
   ]
  },
  {
   "cell_type": "code",
   "execution_count": 61,
   "metadata": {},
   "outputs": [
    {
     "name": "stdout",
     "output_type": "stream",
     "text": [
      "The best mean absolute error is 886.16\n"
     ]
    }
   ],
   "source": [
    "print('The best mean absolute error is', round(-gs.best_score_,2))"
   ]
  },
  {
   "cell_type": "code",
   "execution_count": 62,
   "metadata": {},
   "outputs": [
    {
     "data": {
      "text/plain": [
       "['models/bone_summer_18S_L8.pkl']"
      ]
     },
     "execution_count": 62,
     "metadata": {},
     "output_type": "execute_result"
    }
   ],
   "source": [
    "joblib.dump(gs.best_estimator_, 'models/bone_summer_18S_L8.pkl')"
   ]
  },
  {
   "cell_type": "code",
   "execution_count": 63,
   "metadata": {},
   "outputs": [
    {
     "data": {
      "text/plain": [
       "RandomForestRegressor(bootstrap=False, ccp_alpha=0.0, criterion='mae',\n",
       "                      max_depth=4, max_features=0.1, max_leaf_nodes=None,\n",
       "                      max_samples=None, min_impurity_decrease=0.0,\n",
       "                      min_impurity_split=None, min_samples_leaf=1,\n",
       "                      min_samples_split=0.001, min_weight_fraction_leaf=0.0001,\n",
       "                      n_estimators=1000, n_jobs=None, oob_score=False,\n",
       "                      random_state=999, verbose=0, warm_start=False)"
      ]
     },
     "execution_count": 63,
     "metadata": {},
     "output_type": "execute_result"
    }
   ],
   "source": [
    "bone_summer_L8 = joblib.load('models/bone_summer_18S_L8.pkl')\n",
    "bone_summer_L8"
   ]
  },
  {
   "cell_type": "markdown",
   "metadata": {},
   "source": [
    "## Determine important features of the L8 model"
   ]
  },
  {
   "cell_type": "code",
   "execution_count": 64,
   "metadata": {},
   "outputs": [
    {
     "name": "stdout",
     "output_type": "stream",
     "text": [
      "Feature:\t\t\t\tImportance:\n",
      "1. D_0__Eukaryota;D_1__Opisthokonta;D_2__Nucletmycea;D_3__Fungi;D_4__Dikarya;D_5__Ascomycota;D_6__Saccharomycotina;D_7__Saccharomycetes\t0.06967621303511981\n",
      "2. D_0__Eukaryota;D_1__Opisthokonta;D_2__Holozoa;D_3__Metazoa (Animalia);D_4__Eumetazoa;D_5__Bilateria;D_6__Nematoda;D_7__Chromadorea\t0.06737241830218411\n",
      "3. D_0__Eukaryota;D_1__Amoebozoa;D_2__Tubulinea;D_3__Euamoebida;D_4__BOLA868;D_5__metagenome;D_6__;D_7__\t0.04996081956160955\n",
      "4. D_0__Eukaryota;D_1__Opisthokonta;D_2__Nucletmycea;D_3__Fungi;D_4__Dikarya;D_5__Ascomycota;D_6__Pezizomycotina;D_7__Eurotiomycetes\t0.04209204355254472\n",
      "5. D_0__Eukaryota;D_1__SAR;D_2__Alveolata;__;__;__;__;__\t0.037951770255665915\n",
      "6. D_0__Eukaryota;D_1__Opisthokonta;D_2__Nucletmycea;D_3__Fungi;D_4__Dikarya;D_5__Ascomycota;D_6__Pezizomycotina;D_7__Sordariomycetes\t0.03726767225282134\n",
      "7. D_0__Eukaryota;D_1__Opisthokonta;D_2__Holozoa;D_3__Metazoa (Animalia);D_4__Eumetazoa;__;__;__\t0.03703776707187298\n",
      "8. D_0__Eukaryota;D_1__Opisthokonta;D_2__Nucletmycea;D_3__Fungi;__;__;__;__\t0.027975551032153264\n",
      "9. D_0__Eukaryota;D_1__SAR;D_2__Rhizaria;D_3__Cercozoa;D_4__Glissomonadida;D_5__Heteromita;D_6__metagenome;D_7__\t0.024955081945824346\n",
      "10. D_0__Eukaryota;D_1__Opisthokonta;D_2__Holozoa;__;__;__;__;__\t0.023966047165031857\n",
      "11. D_0__Eukaryota;D_1__Opisthokonta;D_2__Nucletmycea;D_3__Fungi;D_4__Dikarya;D_5__Basidiomycota;D_6__Agaricomycotina;D_7__Tremellomycetes\t0.02293866739570928\n",
      "12. D_0__Eukaryota;D_1__Opisthokonta;D_2__Nucletmycea;D_3__Fungi;D_4__Dikarya;D_5__Ascomycota;D_6__Pezizomycotina;D_7__Laboulbeniomycetes\t0.021143188919271045\n",
      "13. D_0__Eukaryota;D_1__SAR;D_2__Alveolata;D_3__Apicomplexa;D_4__Conoidasida;D_5__Gregarinasina;D_6__Eugregarinorida;__\t0.020898086428003594\n",
      "14. D_0__Eukaryota;D_1__Opisthokonta;D_2__Nucletmycea;D_3__Fungi;D_4__Dikarya;D_5__Basidiomycota;__;__\t0.018704419714212068\n",
      "15. D_0__Eukaryota;__;__;__;__;__;__;__\t0.018223437001663886\n",
      "16. D_0__Eukaryota;D_1__Opisthokonta;D_2__Nucletmycea;D_3__Fungi;D_4__Dikarya;D_5__Ascomycota;D_6__Pezizomycotina;D_7__Pezizomycetes\t0.017060487038300022\n",
      "17. D_0__Eukaryota;D_1__Opisthokonta;D_2__Nucletmycea;D_3__Fungi;D_4__Dikarya;D_5__Ascomycota;D_6__Pezizomycotina;__\t0.01679031558101711\n",
      "18. D_0__Eukaryota;D_1__Opisthokonta;D_2__Holozoa;D_3__Metazoa (Animalia);__;__;__;__\t0.016558833969985202\n",
      "19. D_0__Eukaryota;D_1__SAR;D_2__Alveolata;D_3__Apicomplexa;D_4__Conoidasida;D_5__Gregarinasina;D_6__Eugregarinorida;D_7__D3P05A02\t0.01588519597452282\n",
      "20. D_0__Eukaryota;D_1__SAR;D_2__Alveolata;D_3__Apicomplexa;D_4__Conoidasida;D_5__Gregarinasina;D_6__Eugregarinorida;D_7__Gregarina\t0.013693223423450565\n",
      "21. D_0__Eukaryota;D_1__Opisthokonta;D_2__Nucletmycea;D_3__Fungi;D_4__Dikarya;D_5__Basidiomycota;D_6__Agaricomycotina;D_7__Agaricomycetes\t0.013312457083002879\n",
      "22. D_0__Eukaryota;D_1__Opisthokonta;D_2__Nucletmycea;D_3__Fungi;D_4__Dikarya;__;__;__\t0.012579547419246752\n",
      "23. D_0__Eukaryota;D_1__SAR;D_2__Alveolata;D_3__Apicomplexa;D_4__Conoidasida;D_5__Cryptosporida;D_6__Cryptosporidium;__\t0.012523218746760505\n",
      "24. D_0__Eukaryota;D_1__SAR;D_2__Stramenopiles;D_3__Ochrophyta;D_4__Xanthophyceae;D_5__Xanthophyceae sp. IX3;D_6__;D_7__\t0.012445663422533226\n",
      "25. D_0__Eukaryota;D_1__SAR;D_2__Stramenopiles;D_3__Labyrinthulomycetes;D_4__Sorodiplophrys;D_5__uncultured eukaryote;D_6__;D_7__\t0.01241853235852428\n"
     ]
    }
   ],
   "source": [
    "importances = bone_summer_L8.feature_importances_\n",
    "std = np.std([tree.feature_importances_ for tree in bone_summer_L8.estimators_],\n",
    "             axis=0)\n",
    "indices = np.argsort(importances)[::-1]\n",
    "\n",
    "feature_metadata = Summer_L8.feature_metadata\n",
    "np.savetxt(\"importances/bone_summer_18S_L8_features.csv\", feature_metadata, delimiter=\",\", fmt='%s')\n",
    "\n",
    "\n",
    "#print the important ids in order\n",
    "general_importances = []\n",
    "count = 0\n",
    "print(\"Feature:\\t\\t\\t\\tImportance:\")\n",
    "for i in indices:\n",
    "    general_importances += (Summer_L8.feature_metadata.index.values[i], importances[indices[count]])\n",
    "    if count < 25:\n",
    "        print(str(count+1)+\". \"+str(Summer_L8.feature_metadata.index.values[i])+\"\\t\"+str(importances[indices[count]]))\n",
    "    count += 1\n",
    "    \n",
    "general_importances_df = pd.DataFrame(np.array(general_importances).reshape(386,1))\n",
    "\n",
    "np.savetxt(\"importances/bone_summer_18S_L8_importances.csv\", general_importances_df, delimiter=\",\", fmt='%s')"
   ]
  },
  {
   "cell_type": "markdown",
   "metadata": {},
   "source": [
    "## Import rarefied data collapsed at level 7"
   ]
  },
  {
   "cell_type": "code",
   "execution_count": 65,
   "metadata": {},
   "outputs": [
    {
     "name": "stdout",
     "output_type": "stream",
     "text": [
      "2020-07-02 14:10:04 WARNING These have metadata but do not have data - dropped (59): {'STAFS.2016.065.L10', 'CSU.extraction.blank11', 'STAFS.2016.065.L11', 'BLANK52.9A', 'BLANK52.9H', 'CSU.extraction.blank1', 'BLANK52.9C', 'BLANK52.10D', 'BLANK52.12A', 'CSU.extraction.blank12', 'CSU.extraction.blank6', 'CSU.extraction.blank4', 'CSU.extraction.blank8', 'CSU.extraction.blank13', 'BLANK52.11D', 'BLANK52.12B', 'BLANK52.9G', 'CSU.extraction.blank10', 'CSU.extraction.blank2', 'BLANK52.11F', 'BLANK52.5B', 'BLANK52.10F', 'BLANK52.11C', 'CSU.extraction.blank14', 'BLANK52.10B', 'SHSU.STAFS2016.011.L09', 'BLANK52.9B', 'STAFS.2016.065.L09', 'BLANK52.10G', 'BLANK52.11A', 'BLANK52.12D', 'BLANK52.10E', 'SHSU.STAFS2016.024.L10', 'CSU.extraction.blank15', 'BLANK52.12F', 'BLANK52.9F', 'BLANK52.11B', 'STAFS.2016.064.R09', 'BLANK52.10A', 'SHSU.STAFS2016.007.L09', 'CSU.extraction.blank9', '#q2:types', 'SHSU.STAFS2016.007.R10', 'BLANK52.11E', 'BLANK52.12G', 'BLANK52.9D', 'BLANK52.11H', 'BLANK52.11G', 'BLANK52.12E', 'BLANK52.12H', 'STAFS.2016.067.R12', 'BLANK52.10H', 'CSU.extraction.blank5', 'BLANK52.10C', 'CSU.extraction.blank3', 'CSU.extraction.blank7', 'STAFS.2016.067.L11.march', 'BLANK52.12C', 'BLANK52.9E'}\n"
     ]
    }
   ],
   "source": [
    "exp_L7 = ca.read_amplicon('/Users/heatherdeel/Dropbox/PMI_3_analyses/bone/02_18S/Hiseq_original_run/forward_reads_only/01_qiime2_analysis/03_feature_tables/collapsed_tables/18S_plate52_ribonly_table_full_taxfiltered_214940_L7.biom', '/Users/heatherdeel/Dropbox/PMI_3_analyses/bone/02_18S/Hiseq_original_run/forward_reads_only/02_metadata/map_18S.txt', min_reads=0, normalize=None)\n"
   ]
  },
  {
   "cell_type": "code",
   "execution_count": 66,
   "metadata": {},
   "outputs": [
    {
     "data": {
      "text/plain": [
       "STAFS2016.064    7\n",
       "STAFS2016.067    6\n",
       "STAFS2016.065    5\n",
       "Name: host_subject_id, dtype: int64"
      ]
     },
     "execution_count": 66,
     "metadata": {},
     "output_type": "execute_result"
    }
   ],
   "source": [
    "#filtering out spring and defining this as \"Summer\"\n",
    "Summer_L7 = exp_L7.filter_samples('season', 'summer')\n",
    "Summer_L7.sample_metadata.host_subject_id.value_counts()"
   ]
  },
  {
   "cell_type": "code",
   "execution_count": 67,
   "metadata": {},
   "outputs": [
    {
     "name": "stdout",
     "output_type": "stream",
     "text": [
      "                                                                                          _feature_id\n",
      "D_0__Eukaryota;D_1__Amoebozoa;D_2__Cavosteliida...  D_0__Eukaryota;D_1__Amoebozoa;D_2__Cavosteliid...\n",
      "D_0__Eukaryota;D_1__Amoebozoa;D_2__Dictyostelia...  D_0__Eukaryota;D_1__Amoebozoa;D_2__Dictyosteli...\n",
      "D_0__Eukaryota;D_1__Amoebozoa;D_2__Discosea;D_3...  D_0__Eukaryota;D_1__Amoebozoa;D_2__Discosea;D_...\n",
      "D_0__Eukaryota;D_1__Amoebozoa;D_2__Discosea;D_3...  D_0__Eukaryota;D_1__Amoebozoa;D_2__Discosea;D_...\n",
      "D_0__Eukaryota;D_1__Amoebozoa;D_2__Discosea;D_3...  D_0__Eukaryota;D_1__Amoebozoa;D_2__Discosea;D_...\n",
      "D_0__Eukaryota;D_1__Amoebozoa;D_2__Discosea;D_3...  D_0__Eukaryota;D_1__Amoebozoa;D_2__Discosea;D_...\n",
      "D_0__Eukaryota;D_1__Amoebozoa;D_2__Discosea;D_3...  D_0__Eukaryota;D_1__Amoebozoa;D_2__Discosea;D_...\n",
      "D_0__Eukaryota;D_1__Amoebozoa;D_2__Discosea;D_3...  D_0__Eukaryota;D_1__Amoebozoa;D_2__Discosea;D_...\n",
      "D_0__Eukaryota;D_1__Amoebozoa;D_2__Discosea;D_3...  D_0__Eukaryota;D_1__Amoebozoa;D_2__Discosea;D_...\n",
      "D_0__Eukaryota;D_1__Amoebozoa;D_2__Gracilipodid...  D_0__Eukaryota;D_1__Amoebozoa;D_2__Gracilipodi...\n",
      "D_0__Eukaryota;D_1__Amoebozoa;D_2__Incertae Sed...  D_0__Eukaryota;D_1__Amoebozoa;D_2__Incertae Se...\n",
      "D_0__Eukaryota;D_1__Amoebozoa;D_2__Mycamoeba;D_...  D_0__Eukaryota;D_1__Amoebozoa;D_2__Mycamoeba;D...\n",
      "D_0__Eukaryota;D_1__Amoebozoa;D_2__Myxogastria;...  D_0__Eukaryota;D_1__Amoebozoa;D_2__Myxogastria...\n",
      "D_0__Eukaryota;D_1__Amoebozoa;D_2__Myxogastria;...  D_0__Eukaryota;D_1__Amoebozoa;D_2__Myxogastria...\n",
      "D_0__Eukaryota;D_1__Amoebozoa;D_2__Schizoplasmo...  D_0__Eukaryota;D_1__Amoebozoa;D_2__Schizoplasm...\n",
      "D_0__Eukaryota;D_1__Amoebozoa;D_2__Schizoplasmo...  D_0__Eukaryota;D_1__Amoebozoa;D_2__Schizoplasm...\n",
      "D_0__Eukaryota;D_1__Amoebozoa;D_2__Tubulinea;D_...  D_0__Eukaryota;D_1__Amoebozoa;D_2__Tubulinea;D...\n",
      "D_0__Eukaryota;D_1__Amoebozoa;D_2__Tubulinea;D_...  D_0__Eukaryota;D_1__Amoebozoa;D_2__Tubulinea;D...\n",
      "D_0__Eukaryota;D_1__Amoebozoa;D_2__Tubulinea;D_...  D_0__Eukaryota;D_1__Amoebozoa;D_2__Tubulinea;D...\n",
      "D_0__Eukaryota;D_1__Amoebozoa;D_2__Tubulinea;D_...  D_0__Eukaryota;D_1__Amoebozoa;D_2__Tubulinea;D...\n",
      "D_0__Eukaryota;D_1__Amoebozoa;D_2__Tubulinea;D_...  D_0__Eukaryota;D_1__Amoebozoa;D_2__Tubulinea;D...\n",
      "D_0__Eukaryota;D_1__Amoebozoa;D_2__Tubulinea;D_...  D_0__Eukaryota;D_1__Amoebozoa;D_2__Tubulinea;D...\n",
      "D_0__Eukaryota;D_1__Amoebozoa;D_2__Tubulinea;D_...  D_0__Eukaryota;D_1__Amoebozoa;D_2__Tubulinea;D...\n",
      "D_0__Eukaryota;D_1__Amoebozoa;D_2__Tubulinea;D_...  D_0__Eukaryota;D_1__Amoebozoa;D_2__Tubulinea;D...\n",
      "D_0__Eukaryota;D_1__Amoebozoa;D_2__Tubulinea;__...  D_0__Eukaryota;D_1__Amoebozoa;D_2__Tubulinea;_...\n",
      "D_0__Eukaryota;D_1__Amoebozoa;D_2__metagenome;D...  D_0__Eukaryota;D_1__Amoebozoa;D_2__metagenome;...\n",
      "D_0__Eukaryota;D_1__Amoebozoa;D_2__uncultured;D...  D_0__Eukaryota;D_1__Amoebozoa;D_2__uncultured;...\n",
      "D_0__Eukaryota;D_1__Cryptophyceae;D_2__Cryptomo...  D_0__Eukaryota;D_1__Cryptophyceae;D_2__Cryptom...\n",
      "D_0__Eukaryota;D_1__Excavata;D_2__Discoba;D_3__...  D_0__Eukaryota;D_1__Excavata;D_2__Discoba;D_3_...\n",
      "D_0__Eukaryota;D_1__Excavata;D_2__Discoba;D_3__...  D_0__Eukaryota;D_1__Excavata;D_2__Discoba;D_3_...\n",
      "D_0__Eukaryota;D_1__Excavata;D_2__Discoba;D_3__...  D_0__Eukaryota;D_1__Excavata;D_2__Discoba;D_3_...\n",
      "D_0__Eukaryota;D_1__Excavata;D_2__Discoba;D_3__...  D_0__Eukaryota;D_1__Excavata;D_2__Discoba;D_3_...\n",
      "D_0__Eukaryota;D_1__Excavata;D_2__Discoba;D_3__...  D_0__Eukaryota;D_1__Excavata;D_2__Discoba;D_3_...\n",
      "D_0__Eukaryota;D_1__Excavata;D_2__Discoba;D_3__...  D_0__Eukaryota;D_1__Excavata;D_2__Discoba;D_3_...\n",
      "D_0__Eukaryota;D_1__Excavata;D_2__Discoba;D_3__...  D_0__Eukaryota;D_1__Excavata;D_2__Discoba;D_3_...\n",
      "D_0__Eukaryota;D_1__Excavata;D_2__Discoba;D_3__...  D_0__Eukaryota;D_1__Excavata;D_2__Discoba;D_3_...\n",
      "D_0__Eukaryota;D_1__Excavata;D_2__Discoba;D_3__...  D_0__Eukaryota;D_1__Excavata;D_2__Discoba;D_3_...\n",
      "D_0__Eukaryota;D_1__Excavata;D_2__Metamonada;D_...  D_0__Eukaryota;D_1__Excavata;D_2__Metamonada;D...\n",
      "D_0__Eukaryota;D_1__Excavata;D_2__Metamonada;D_...  D_0__Eukaryota;D_1__Excavata;D_2__Metamonada;D...\n",
      "D_0__Eukaryota;D_1__Opisthokonta;D_2__Holozoa;D...  D_0__Eukaryota;D_1__Opisthokonta;D_2__Holozoa;...\n",
      "D_0__Eukaryota;D_1__Opisthokonta;D_2__Holozoa;D...  D_0__Eukaryota;D_1__Opisthokonta;D_2__Holozoa;...\n",
      "D_0__Eukaryota;D_1__Opisthokonta;D_2__Holozoa;D...  D_0__Eukaryota;D_1__Opisthokonta;D_2__Holozoa;...\n",
      "D_0__Eukaryota;D_1__Opisthokonta;D_2__Holozoa;D...  D_0__Eukaryota;D_1__Opisthokonta;D_2__Holozoa;...\n",
      "D_0__Eukaryota;D_1__Opisthokonta;D_2__Holozoa;D...  D_0__Eukaryota;D_1__Opisthokonta;D_2__Holozoa;...\n",
      "D_0__Eukaryota;D_1__Opisthokonta;D_2__Holozoa;D...  D_0__Eukaryota;D_1__Opisthokonta;D_2__Holozoa;...\n",
      "D_0__Eukaryota;D_1__Opisthokonta;D_2__Holozoa;D...  D_0__Eukaryota;D_1__Opisthokonta;D_2__Holozoa;...\n",
      "D_0__Eukaryota;D_1__Opisthokonta;D_2__Holozoa;D...  D_0__Eukaryota;D_1__Opisthokonta;D_2__Holozoa;...\n",
      "D_0__Eukaryota;D_1__Opisthokonta;D_2__Holozoa;_...  D_0__Eukaryota;D_1__Opisthokonta;D_2__Holozoa;...\n",
      "D_0__Eukaryota;D_1__Opisthokonta;D_2__Nucletmyc...  D_0__Eukaryota;D_1__Opisthokonta;D_2__Nucletmy...\n",
      "D_0__Eukaryota;D_1__Opisthokonta;D_2__Nucletmyc...  D_0__Eukaryota;D_1__Opisthokonta;D_2__Nucletmy...\n",
      "D_0__Eukaryota;D_1__Opisthokonta;D_2__Nucletmyc...  D_0__Eukaryota;D_1__Opisthokonta;D_2__Nucletmy...\n",
      "D_0__Eukaryota;D_1__Opisthokonta;D_2__Nucletmyc...  D_0__Eukaryota;D_1__Opisthokonta;D_2__Nucletmy...\n",
      "D_0__Eukaryota;D_1__Opisthokonta;D_2__Nucletmyc...  D_0__Eukaryota;D_1__Opisthokonta;D_2__Nucletmy...\n",
      "D_0__Eukaryota;D_1__Opisthokonta;D_2__Nucletmyc...  D_0__Eukaryota;D_1__Opisthokonta;D_2__Nucletmy...\n",
      "D_0__Eukaryota;D_1__Opisthokonta;D_2__Nucletmyc...  D_0__Eukaryota;D_1__Opisthokonta;D_2__Nucletmy...\n",
      "D_0__Eukaryota;D_1__Opisthokonta;D_2__Nucletmyc...  D_0__Eukaryota;D_1__Opisthokonta;D_2__Nucletmy...\n",
      "D_0__Eukaryota;D_1__Opisthokonta;D_2__Nucletmyc...  D_0__Eukaryota;D_1__Opisthokonta;D_2__Nucletmy...\n",
      "D_0__Eukaryota;D_1__Opisthokonta;D_2__Nucletmyc...  D_0__Eukaryota;D_1__Opisthokonta;D_2__Nucletmy...\n",
      "D_0__Eukaryota;D_1__Opisthokonta;D_2__Nucletmyc...  D_0__Eukaryota;D_1__Opisthokonta;D_2__Nucletmy...\n",
      "D_0__Eukaryota;D_1__Opisthokonta;D_2__Nucletmyc...  D_0__Eukaryota;D_1__Opisthokonta;D_2__Nucletmy...\n",
      "D_0__Eukaryota;D_1__Opisthokonta;D_2__Nucletmyc...  D_0__Eukaryota;D_1__Opisthokonta;D_2__Nucletmy...\n",
      "D_0__Eukaryota;D_1__Opisthokonta;D_2__Nucletmyc...  D_0__Eukaryota;D_1__Opisthokonta;D_2__Nucletmy...\n",
      "D_0__Eukaryota;D_1__Opisthokonta;D_2__Nucletmyc...  D_0__Eukaryota;D_1__Opisthokonta;D_2__Nucletmy...\n",
      "D_0__Eukaryota;D_1__Opisthokonta;D_2__Nucletmyc...  D_0__Eukaryota;D_1__Opisthokonta;D_2__Nucletmy...\n",
      "D_0__Eukaryota;D_1__Opisthokonta;D_2__Nucletmyc...  D_0__Eukaryota;D_1__Opisthokonta;D_2__Nucletmy...\n",
      "D_0__Eukaryota;D_1__Opisthokonta;D_2__Nucletmyc...  D_0__Eukaryota;D_1__Opisthokonta;D_2__Nucletmy...\n",
      "D_0__Eukaryota;D_1__Opisthokonta;D_2__Nucletmyc...  D_0__Eukaryota;D_1__Opisthokonta;D_2__Nucletmy...\n",
      "D_0__Eukaryota;D_1__Opisthokonta;D_2__Nucletmyc...  D_0__Eukaryota;D_1__Opisthokonta;D_2__Nucletmy...\n",
      "D_0__Eukaryota;D_1__Opisthokonta;D_2__Nucletmyc...  D_0__Eukaryota;D_1__Opisthokonta;D_2__Nucletmy...\n",
      "D_0__Eukaryota;D_1__Opisthokonta;__;__;__;__;__       D_0__Eukaryota;D_1__Opisthokonta;__;__;__;__;__\n",
      "D_0__Eukaryota;D_1__SAR;D_2__Alveolata;D_3__Api...  D_0__Eukaryota;D_1__SAR;D_2__Alveolata;D_3__Ap...\n",
      "D_0__Eukaryota;D_1__SAR;D_2__Alveolata;D_3__Api...  D_0__Eukaryota;D_1__SAR;D_2__Alveolata;D_3__Ap...\n",
      "D_0__Eukaryota;D_1__SAR;D_2__Alveolata;D_3__Api...  D_0__Eukaryota;D_1__SAR;D_2__Alveolata;D_3__Ap...\n",
      "D_0__Eukaryota;D_1__SAR;D_2__Alveolata;D_3__Api...  D_0__Eukaryota;D_1__SAR;D_2__Alveolata;D_3__Ap...\n",
      "D_0__Eukaryota;D_1__SAR;D_2__Alveolata;D_3__Api...  D_0__Eukaryota;D_1__SAR;D_2__Alveolata;D_3__Ap...\n",
      "D_0__Eukaryota;D_1__SAR;D_2__Alveolata;D_3__Cil...  D_0__Eukaryota;D_1__SAR;D_2__Alveolata;D_3__Ci...\n",
      "D_0__Eukaryota;D_1__SAR;D_2__Alveolata;D_3__Cil...  D_0__Eukaryota;D_1__SAR;D_2__Alveolata;D_3__Ci...\n",
      "D_0__Eukaryota;D_1__SAR;D_2__Alveolata;D_3__Cil...  D_0__Eukaryota;D_1__SAR;D_2__Alveolata;D_3__Ci...\n",
      "D_0__Eukaryota;D_1__SAR;D_2__Alveolata;D_3__Cil...  D_0__Eukaryota;D_1__SAR;D_2__Alveolata;D_3__Ci...\n",
      "D_0__Eukaryota;D_1__SAR;D_2__Alveolata;D_3__Cil...  D_0__Eukaryota;D_1__SAR;D_2__Alveolata;D_3__Ci...\n",
      "D_0__Eukaryota;D_1__SAR;D_2__Alveolata;D_3__Cil...  D_0__Eukaryota;D_1__SAR;D_2__Alveolata;D_3__Ci...\n",
      "D_0__Eukaryota;D_1__SAR;D_2__Alveolata;D_3__Cil...  D_0__Eukaryota;D_1__SAR;D_2__Alveolata;D_3__Ci...\n",
      "D_0__Eukaryota;D_1__SAR;D_2__Alveolata;D_3__Din...  D_0__Eukaryota;D_1__SAR;D_2__Alveolata;D_3__Di...\n",
      "D_0__Eukaryota;D_1__SAR;D_2__Alveolata;D_3__Pro...  D_0__Eukaryota;D_1__SAR;D_2__Alveolata;D_3__Pr...\n",
      "D_0__Eukaryota;D_1__SAR;D_2__Alveolata;__;__;__;__  D_0__Eukaryota;D_1__SAR;D_2__Alveolata;__;__;_...\n",
      "D_0__Eukaryota;D_1__SAR;D_2__Rhizaria;D_3__Cerc...  D_0__Eukaryota;D_1__SAR;D_2__Rhizaria;D_3__Cer...\n",
      "D_0__Eukaryota;D_1__SAR;D_2__Rhizaria;D_3__Cerc...  D_0__Eukaryota;D_1__SAR;D_2__Rhizaria;D_3__Cer...\n",
      "D_0__Eukaryota;D_1__SAR;D_2__Rhizaria;D_3__Cerc...  D_0__Eukaryota;D_1__SAR;D_2__Rhizaria;D_3__Cer...\n",
      "D_0__Eukaryota;D_1__SAR;D_2__Rhizaria;D_3__Cerc...  D_0__Eukaryota;D_1__SAR;D_2__Rhizaria;D_3__Cer...\n",
      "D_0__Eukaryota;D_1__SAR;D_2__Rhizaria;D_3__Cerc...  D_0__Eukaryota;D_1__SAR;D_2__Rhizaria;D_3__Cer...\n",
      "D_0__Eukaryota;D_1__SAR;D_2__Rhizaria;D_3__Cerc...  D_0__Eukaryota;D_1__SAR;D_2__Rhizaria;D_3__Cer...\n",
      "D_0__Eukaryota;D_1__SAR;D_2__Rhizaria;D_3__Cerc...  D_0__Eukaryota;D_1__SAR;D_2__Rhizaria;D_3__Cer...\n",
      "D_0__Eukaryota;D_1__SAR;D_2__Rhizaria;D_3__Cerc...  D_0__Eukaryota;D_1__SAR;D_2__Rhizaria;D_3__Cer...\n",
      "D_0__Eukaryota;D_1__SAR;D_2__Rhizaria;D_3__Cerc...  D_0__Eukaryota;D_1__SAR;D_2__Rhizaria;D_3__Cer...\n",
      "D_0__Eukaryota;D_1__SAR;D_2__Rhizaria;D_3__Cerc...  D_0__Eukaryota;D_1__SAR;D_2__Rhizaria;D_3__Cer...\n",
      "D_0__Eukaryota;D_1__SAR;D_2__Rhizaria;D_3__Cerc...  D_0__Eukaryota;D_1__SAR;D_2__Rhizaria;D_3__Cer...\n",
      "D_0__Eukaryota;D_1__SAR;D_2__Rhizaria;D_3__Cerc...  D_0__Eukaryota;D_1__SAR;D_2__Rhizaria;D_3__Cer...\n",
      "D_0__Eukaryota;D_1__SAR;D_2__Rhizaria;D_3__Cerc...  D_0__Eukaryota;D_1__SAR;D_2__Rhizaria;D_3__Cer...\n",
      "D_0__Eukaryota;D_1__SAR;D_2__Rhizaria;D_3__Cerc...  D_0__Eukaryota;D_1__SAR;D_2__Rhizaria;D_3__Cer...\n",
      "D_0__Eukaryota;D_1__SAR;D_2__Rhizaria;D_3__Cerc...  D_0__Eukaryota;D_1__SAR;D_2__Rhizaria;D_3__Cer...\n",
      "D_0__Eukaryota;D_1__SAR;D_2__Rhizaria;D_3__Cerc...  D_0__Eukaryota;D_1__SAR;D_2__Rhizaria;D_3__Cer...\n",
      "D_0__Eukaryota;D_1__SAR;D_2__Rhizaria;D_3__Cerc...  D_0__Eukaryota;D_1__SAR;D_2__Rhizaria;D_3__Cer...\n",
      "D_0__Eukaryota;D_1__SAR;D_2__Rhizaria;D_3__Cerc...  D_0__Eukaryota;D_1__SAR;D_2__Rhizaria;D_3__Cer...\n",
      "D_0__Eukaryota;D_1__SAR;D_2__Rhizaria;D_3__Cerc...  D_0__Eukaryota;D_1__SAR;D_2__Rhizaria;D_3__Cer...\n",
      "D_0__Eukaryota;D_1__SAR;D_2__Rhizaria;D_3__Cerc...  D_0__Eukaryota;D_1__SAR;D_2__Rhizaria;D_3__Cer...\n",
      "D_0__Eukaryota;D_1__SAR;D_2__Rhizaria;D_3__Cerc...  D_0__Eukaryota;D_1__SAR;D_2__Rhizaria;D_3__Cer...\n",
      "D_0__Eukaryota;D_1__SAR;D_2__Rhizaria;D_3__Cerc...  D_0__Eukaryota;D_1__SAR;D_2__Rhizaria;D_3__Cer...\n",
      "D_0__Eukaryota;D_1__SAR;D_2__Rhizaria;D_3__Cerc...  D_0__Eukaryota;D_1__SAR;D_2__Rhizaria;D_3__Cer...\n",
      "D_0__Eukaryota;D_1__SAR;D_2__Rhizaria;D_3__Cerc...  D_0__Eukaryota;D_1__SAR;D_2__Rhizaria;D_3__Cer...\n",
      "D_0__Eukaryota;D_1__SAR;D_2__Rhizaria;D_3__Cerc...  D_0__Eukaryota;D_1__SAR;D_2__Rhizaria;D_3__Cer...\n",
      "D_0__Eukaryota;D_1__SAR;D_2__Rhizaria;D_3__Cerc...  D_0__Eukaryota;D_1__SAR;D_2__Rhizaria;D_3__Cer...\n",
      "D_0__Eukaryota;D_1__SAR;D_2__Rhizaria;D_3__Cerc...  D_0__Eukaryota;D_1__SAR;D_2__Rhizaria;D_3__Cer...\n",
      "D_0__Eukaryota;D_1__SAR;D_2__Stramenopiles;D_3_...  D_0__Eukaryota;D_1__SAR;D_2__Stramenopiles;D_3...\n",
      "D_0__Eukaryota;D_1__SAR;D_2__Stramenopiles;D_3_...  D_0__Eukaryota;D_1__SAR;D_2__Stramenopiles;D_3...\n",
      "D_0__Eukaryota;D_1__SAR;D_2__Stramenopiles;D_3_...  D_0__Eukaryota;D_1__SAR;D_2__Stramenopiles;D_3...\n",
      "D_0__Eukaryota;D_1__SAR;D_2__Stramenopiles;D_3_...  D_0__Eukaryota;D_1__SAR;D_2__Stramenopiles;D_3...\n",
      "D_0__Eukaryota;D_1__SAR;D_2__Stramenopiles;D_3_...  D_0__Eukaryota;D_1__SAR;D_2__Stramenopiles;D_3...\n",
      "D_0__Eukaryota;D_1__SAR;D_2__Stramenopiles;D_3_...  D_0__Eukaryota;D_1__SAR;D_2__Stramenopiles;D_3...\n",
      "D_0__Eukaryota;D_1__SAR;D_2__Stramenopiles;D_3_...  D_0__Eukaryota;D_1__SAR;D_2__Stramenopiles;D_3...\n",
      "D_0__Eukaryota;D_1__SAR;D_2__Stramenopiles;D_3_...  D_0__Eukaryota;D_1__SAR;D_2__Stramenopiles;D_3...\n",
      "D_0__Eukaryota;D_1__SAR;D_2__Stramenopiles;D_3_...  D_0__Eukaryota;D_1__SAR;D_2__Stramenopiles;D_3...\n",
      "D_0__Eukaryota;D_1__SAR;D_2__Stramenopiles;D_3_...  D_0__Eukaryota;D_1__SAR;D_2__Stramenopiles;D_3...\n",
      "D_0__Eukaryota;D_1__SAR;D_2__Stramenopiles;D_3_...  D_0__Eukaryota;D_1__SAR;D_2__Stramenopiles;D_3...\n",
      "D_0__Eukaryota;D_1__SAR;D_2__Stramenopiles;D_3_...  D_0__Eukaryota;D_1__SAR;D_2__Stramenopiles;D_3...\n",
      "D_0__Eukaryota;D_1__SAR;D_2__Stramenopiles;D_3_...  D_0__Eukaryota;D_1__SAR;D_2__Stramenopiles;D_3...\n",
      "D_0__Eukaryota;D_1__SAR;D_2__Stramenopiles;D_3_...  D_0__Eukaryota;D_1__SAR;D_2__Stramenopiles;D_3...\n",
      "D_0__Eukaryota;D_1__SAR;D_2__Stramenopiles;D_3_...  D_0__Eukaryota;D_1__SAR;D_2__Stramenopiles;D_3...\n",
      "D_0__Eukaryota;D_1__SAR;D_2__Stramenopiles;D_3_...  D_0__Eukaryota;D_1__SAR;D_2__Stramenopiles;D_3...\n",
      "D_0__Eukaryota;D_1__SAR;D_2__Stramenopiles;D_3_...  D_0__Eukaryota;D_1__SAR;D_2__Stramenopiles;D_3...\n",
      "D_0__Eukaryota;D_1__SAR;D_2__Stramenopiles;D_3_...  D_0__Eukaryota;D_1__SAR;D_2__Stramenopiles;D_3...\n",
      "D_0__Eukaryota;D_1__SAR;D_2__Stramenopiles;D_3_...  D_0__Eukaryota;D_1__SAR;D_2__Stramenopiles;D_3...\n",
      "D_0__Eukaryota;D_1__SAR;D_2__Stramenopiles;D_3_...  D_0__Eukaryota;D_1__SAR;D_2__Stramenopiles;D_3...\n",
      "D_0__Eukaryota;D_1__SAR;D_2__Stramenopiles;D_3_...  D_0__Eukaryota;D_1__SAR;D_2__Stramenopiles;D_3...\n",
      "D_0__Eukaryota;D_1__SAR;D_2__Stramenopiles;D_3_...  D_0__Eukaryota;D_1__SAR;D_2__Stramenopiles;D_3...\n",
      "D_0__Eukaryota;D_1__SAR;D_2__Stramenopiles;D_3_...  D_0__Eukaryota;D_1__SAR;D_2__Stramenopiles;D_3...\n",
      "D_0__Eukaryota;D_1__SAR;D_2__Stramenopiles;D_3_...  D_0__Eukaryota;D_1__SAR;D_2__Stramenopiles;D_3...\n",
      "D_0__Eukaryota;D_1__SAR;D_2__Stramenopiles;D_3_...  D_0__Eukaryota;D_1__SAR;D_2__Stramenopiles;D_3...\n",
      "D_0__Eukaryota;D_1__SAR;D_2__Stramenopiles;D_3_...  D_0__Eukaryota;D_1__SAR;D_2__Stramenopiles;D_3...\n",
      "D_0__Eukaryota;D_1__SAR;D_2__Stramenopiles;D_3_...  D_0__Eukaryota;D_1__SAR;D_2__Stramenopiles;D_3...\n",
      "D_0__Eukaryota;D_1__SAR;D_2__Stramenopiles;D_3_...  D_0__Eukaryota;D_1__SAR;D_2__Stramenopiles;D_3...\n",
      "D_0__Eukaryota;D_1__SAR;D_2__Stramenopiles;D_3_...  D_0__Eukaryota;D_1__SAR;D_2__Stramenopiles;D_3...\n",
      "D_0__Eukaryota;D_1__SAR;D_2__Stramenopiles;__;_...  D_0__Eukaryota;D_1__SAR;D_2__Stramenopiles;__;...\n",
      "D_0__Eukaryota;D_1__SAR;__;__;__;__;__                         D_0__Eukaryota;D_1__SAR;__;__;__;__;__\n",
      "D_0__Eukaryota;__;__;__;__;__;__                                     D_0__Eukaryota;__;__;__;__;__;__\n"
     ]
    }
   ],
   "source": [
    "print(Summer_L7.feature_metadata)"
   ]
  },
  {
   "cell_type": "markdown",
   "metadata": {},
   "source": [
    "## Running the L7 model"
   ]
  },
  {
   "cell_type": "code",
   "execution_count": 68,
   "metadata": {},
   "outputs": [],
   "source": [
    "# groupKfold = 3, will leave out one body for each model\n",
    "gkf = GroupKFold(3)\n",
    "\n",
    "X = Summer_L7.data\n",
    "y = Summer_L7.sample_metadata['ADD']\n",
    "y = (y.astype(float))\n",
    "\n",
    "groups = Summer_L7.sample_metadata['host_subject_id']\n",
    "\n",
    "# used to test the param grid for parameter tuning\n",
    "# use the output of this estimator below for input into new estimator (not commented out)\n",
    "param_grid = {\"max_depth\": [4, 8, 16, None],\n",
    "              \"max_features\": ['sqrt', 'log2', 0.1],\n",
    "              \"min_samples_split\": [0.001, 0.01, 0.1],\n",
    "              \"min_weight_fraction_leaf\": [0.0001, 0.001, 0.01],\n",
    "              \"bootstrap\": [True, False]}\n",
    "\n",
    "#param_grid = {\"max_depth\": [8],\n",
    "#          \"max_features\": [0.1],\n",
    "#          \"min_samples_split\": [0.001],\n",
    "#          \"min_weight_fraction_leaf\": [0.0001],\n",
    "#          \"bootstrap\": [False]}\n",
    "\n",
    "rf = RandomForestRegressor(n_estimators=1000, random_state=999, criterion='mae')\n",
    "gs = GridSearchCV(rf, param_grid=param_grid, cv=gkf.split(X, y, groups), scoring='neg_mean_absolute_error', n_jobs=1)"
   ]
  },
  {
   "cell_type": "code",
   "execution_count": 69,
   "metadata": {},
   "outputs": [
    {
     "data": {
      "text/plain": [
       "GridSearchCV(cv=<generator object _BaseKFold.split at 0x11fb30ed0>,\n",
       "             error_score=nan,\n",
       "             estimator=RandomForestRegressor(bootstrap=True, ccp_alpha=0.0,\n",
       "                                             criterion='mae', max_depth=None,\n",
       "                                             max_features='auto',\n",
       "                                             max_leaf_nodes=None,\n",
       "                                             max_samples=None,\n",
       "                                             min_impurity_decrease=0.0,\n",
       "                                             min_impurity_split=None,\n",
       "                                             min_samples_leaf=1,\n",
       "                                             min_samples_split=2,\n",
       "                                             min_weight_fraction_leaf=0.0,\n",
       "                                             n_es...\n",
       "                                             oob_score=False, random_state=999,\n",
       "                                             verbose=0, warm_start=False),\n",
       "             iid='deprecated', n_jobs=1,\n",
       "             param_grid={'bootstrap': [True, False],\n",
       "                         'max_depth': [4, 8, 16, None],\n",
       "                         'max_features': ['sqrt', 'log2', 0.1],\n",
       "                         'min_samples_split': [0.001, 0.01, 0.1],\n",
       "                         'min_weight_fraction_leaf': [0.0001, 0.001, 0.01]},\n",
       "             pre_dispatch='2*n_jobs', refit=True, return_train_score=False,\n",
       "             scoring='neg_mean_absolute_error', verbose=0)"
      ]
     },
     "execution_count": 69,
     "metadata": {},
     "output_type": "execute_result"
    }
   ],
   "source": [
    "gs.fit(X, y)"
   ]
  },
  {
   "cell_type": "code",
   "execution_count": 70,
   "metadata": {},
   "outputs": [
    {
     "name": "stdout",
     "output_type": "stream",
     "text": [
      "{'bootstrap': False, 'max_depth': 16, 'max_features': 'sqrt', 'min_samples_split': 0.001, 'min_weight_fraction_leaf': 0.0001}\n"
     ]
    }
   ],
   "source": [
    "# this line is used when run with the first param grid to determine what the best parameters are for tuning\n",
    "print(gs.best_params_)"
   ]
  },
  {
   "cell_type": "code",
   "execution_count": 71,
   "metadata": {},
   "outputs": [
    {
     "name": "stdout",
     "output_type": "stream",
     "text": [
      "The best mean absolute error is 820.67\n"
     ]
    }
   ],
   "source": [
    "print('The best mean absolute error is', round(-gs.best_score_,2))"
   ]
  },
  {
   "cell_type": "code",
   "execution_count": 72,
   "metadata": {},
   "outputs": [
    {
     "data": {
      "text/plain": [
       "['models/bone_summer_18S_L7.pkl']"
      ]
     },
     "execution_count": 72,
     "metadata": {},
     "output_type": "execute_result"
    }
   ],
   "source": [
    "joblib.dump(gs.best_estimator_, 'models/bone_summer_18S_L7.pkl')"
   ]
  },
  {
   "cell_type": "code",
   "execution_count": 73,
   "metadata": {},
   "outputs": [
    {
     "data": {
      "text/plain": [
       "RandomForestRegressor(bootstrap=False, ccp_alpha=0.0, criterion='mae',\n",
       "                      max_depth=16, max_features='sqrt', max_leaf_nodes=None,\n",
       "                      max_samples=None, min_impurity_decrease=0.0,\n",
       "                      min_impurity_split=None, min_samples_leaf=1,\n",
       "                      min_samples_split=0.001, min_weight_fraction_leaf=0.0001,\n",
       "                      n_estimators=1000, n_jobs=None, oob_score=False,\n",
       "                      random_state=999, verbose=0, warm_start=False)"
      ]
     },
     "execution_count": 73,
     "metadata": {},
     "output_type": "execute_result"
    }
   ],
   "source": [
    "bone_summer_L7 = joblib.load('models/bone_summer_18S_L7.pkl')\n",
    "bone_summer_L7"
   ]
  },
  {
   "cell_type": "markdown",
   "metadata": {},
   "source": [
    "## Determine important features of the L7 model"
   ]
  },
  {
   "cell_type": "code",
   "execution_count": 74,
   "metadata": {},
   "outputs": [
    {
     "name": "stdout",
     "output_type": "stream",
     "text": [
      "Feature:\t\t\t\tImportance:\n",
      "1. D_0__Eukaryota;D_1__Opisthokonta;D_2__Holozoa;D_3__Metazoa (Animalia);D_4__Eumetazoa;D_5__Bilateria;D_6__Nematoda\t0.07145102038339576\n",
      "2. D_0__Eukaryota;D_1__Opisthokonta;D_2__Nucletmycea;D_3__Fungi;D_4__Dikarya;D_5__Ascomycota;D_6__Saccharomycotina\t0.05807602171934425\n",
      "3. D_0__Eukaryota;D_1__Amoebozoa;D_2__Tubulinea;D_3__Euamoebida;D_4__BOLA868;D_5__metagenome;D_6__\t0.05645498663118672\n",
      "4. D_0__Eukaryota;D_1__SAR;D_2__Alveolata;__;__;__;__\t0.04136638355945472\n",
      "5. D_0__Eukaryota;D_1__Opisthokonta;D_2__Holozoa;D_3__Metazoa (Animalia);D_4__Eumetazoa;__;__\t0.036680788439407495\n",
      "6. D_0__Eukaryota;D_1__Opisthokonta;D_2__Nucletmycea;D_3__Fungi;D_4__Dikarya;D_5__Basidiomycota;D_6__Agaricomycotina\t0.0362463534358252\n",
      "7. D_0__Eukaryota;D_1__Opisthokonta;D_2__Nucletmycea;D_3__Fungi;D_4__Dikarya;D_5__Ascomycota;D_6__Pezizomycotina\t0.036087014973071936\n",
      "8. D_0__Eukaryota;D_1__SAR;D_2__Rhizaria;D_3__Cercozoa;D_4__Glissomonadida;D_5__Heteromita;D_6__metagenome\t0.030803159642394887\n",
      "9. D_0__Eukaryota;D_1__Opisthokonta;D_2__Nucletmycea;D_3__Fungi;__;__;__\t0.02982336673952475\n",
      "10. D_0__Eukaryota;D_1__Opisthokonta;D_2__Holozoa;__;__;__;__\t0.029082406930686592\n",
      "11. D_0__Eukaryota;D_1__SAR;D_2__Alveolata;D_3__Apicomplexa;D_4__Conoidasida;D_5__Gregarinasina;D_6__Eugregarinorida\t0.02896332030048325\n",
      "12. D_0__Eukaryota;D_1__Opisthokonta;D_2__Nucletmycea;D_3__Fungi;D_4__Dikarya;D_5__Basidiomycota;__\t0.02603698271261429\n",
      "13. D_0__Eukaryota;__;__;__;__;__;__\t0.02437357118932331\n",
      "14. D_0__Eukaryota;D_1__Opisthokonta;D_2__Holozoa;D_3__Metazoa (Animalia);__;__;__\t0.021794343629533478\n",
      "15. D_0__Eukaryota;D_1__SAR;D_2__Alveolata;D_3__Ciliophora;D_4__Intramacronucleata;D_5__Spirotrichea;D_6__Hypotrichia\t0.019851734116631155\n",
      "16. D_0__Eukaryota;D_1__SAR;D_2__Stramenopiles;D_3__Ochrophyta;D_4__Xanthophyceae;D_5__Xanthophyceae sp. IX3;D_6__\t0.0175759619889762\n",
      "17. D_0__Eukaryota;D_1__Excavata;D_2__Discoba;D_3__Discicristata;D_4__Euglenozoa;D_5__Euglenida;D_6__Heteronematina\t0.015850151813148507\n",
      "18. D_0__Eukaryota;D_1__Excavata;D_2__Discoba;D_3__Discicristata;D_4__Heterolobosea;D_5__Tetramitia;D_6__Learamoeba\t0.01564678317779156\n",
      "19. D_0__Eukaryota;D_1__Opisthokonta;D_2__Nucletmycea;D_3__Fungi;D_4__Dikarya;__;__\t0.015207138885578356\n",
      "20. D_0__Eukaryota;D_1__Opisthokonta;__;__;__;__;__\t0.014467577621955855\n",
      "21. D_0__Eukaryota;D_1__SAR;D_2__Stramenopiles;D_3__Ochrophyta;D_4__Chrysophyceae;D_5__marine metagenome;D_6__\t0.01275383661679526\n",
      "22. D_0__Eukaryota;D_1__SAR;D_2__Stramenopiles;D_3__Bicosoecida;D_4__LG08-10;D_5__metagenome;D_6__\t0.012483300309185702\n",
      "23. D_0__Eukaryota;D_1__SAR;D_2__Alveolata;D_3__Ciliophora;D_4__Intramacronucleata;D_5__Conthreep;D_6__Colpodea\t0.012399707363177383\n",
      "24. D_0__Eukaryota;D_1__SAR;D_2__Stramenopiles;D_3__Labyrinthulomycetes;D_4__Sorodiplophrys;D_5__uncultured eukaryote;D_6__\t0.011769417366099563\n",
      "25. D_0__Eukaryota;D_1__Opisthokonta;D_2__Nucletmycea;D_3__Fungi;D_4__Dikarya;D_5__Basidiomycota;D_6__Ustilaginomycotina\t0.011016824224270796\n"
     ]
    }
   ],
   "source": [
    "importances = bone_summer_L7.feature_importances_\n",
    "std = np.std([tree.feature_importances_ for tree in bone_summer_L7.estimators_],\n",
    "             axis=0)\n",
    "indices = np.argsort(importances)[::-1]\n",
    "\n",
    "feature_metadata = Summer_L7.feature_metadata\n",
    "np.savetxt(\"importances/bone_summer_18S_L7_features.csv\", feature_metadata, delimiter=\",\", fmt='%s')\n",
    "\n",
    "\n",
    "#print the important ids in order\n",
    "general_importances = []\n",
    "count = 0\n",
    "print(\"Feature:\\t\\t\\t\\tImportance:\")\n",
    "for i in indices:\n",
    "    general_importances += (Summer_L7.feature_metadata.index.values[i], importances[indices[count]])\n",
    "    if count < 25:\n",
    "        print(str(count+1)+\". \"+str(Summer_L7.feature_metadata.index.values[i])+\"\\t\"+str(importances[indices[count]]))\n",
    "    count += 1\n",
    "    \n",
    "general_importances_df = pd.DataFrame(np.array(general_importances).reshape(288,1))\n",
    "\n",
    "np.savetxt(\"importances/bone_summer_18S_L7_importances.csv\", general_importances_df, delimiter=\",\", fmt='%s')"
   ]
  },
  {
   "cell_type": "markdown",
   "metadata": {},
   "source": [
    "## Import rarefied data collapsed at level 6"
   ]
  },
  {
   "cell_type": "code",
   "execution_count": 75,
   "metadata": {},
   "outputs": [
    {
     "name": "stdout",
     "output_type": "stream",
     "text": [
      "2020-07-02 14:21:14 WARNING These have metadata but do not have data - dropped (59): {'STAFS.2016.065.L10', 'CSU.extraction.blank11', 'STAFS.2016.065.L11', 'BLANK52.9A', 'BLANK52.9H', 'CSU.extraction.blank1', 'BLANK52.9C', 'BLANK52.10D', 'BLANK52.12A', 'CSU.extraction.blank12', 'CSU.extraction.blank6', 'CSU.extraction.blank4', 'CSU.extraction.blank8', 'CSU.extraction.blank13', 'BLANK52.11D', 'BLANK52.12B', 'BLANK52.9G', 'CSU.extraction.blank10', 'CSU.extraction.blank2', 'BLANK52.11F', 'BLANK52.5B', 'BLANK52.10F', 'BLANK52.11C', 'CSU.extraction.blank14', 'BLANK52.10B', 'SHSU.STAFS2016.011.L09', 'BLANK52.9B', 'STAFS.2016.065.L09', 'BLANK52.10G', 'BLANK52.11A', 'BLANK52.12D', 'BLANK52.10E', 'SHSU.STAFS2016.024.L10', 'CSU.extraction.blank15', 'BLANK52.12F', 'BLANK52.9F', 'BLANK52.11B', 'STAFS.2016.064.R09', 'BLANK52.10A', 'SHSU.STAFS2016.007.L09', 'CSU.extraction.blank9', '#q2:types', 'SHSU.STAFS2016.007.R10', 'BLANK52.11E', 'BLANK52.12G', 'BLANK52.9D', 'BLANK52.11H', 'BLANK52.11G', 'BLANK52.12E', 'BLANK52.12H', 'STAFS.2016.067.R12', 'BLANK52.10H', 'CSU.extraction.blank5', 'BLANK52.10C', 'CSU.extraction.blank3', 'CSU.extraction.blank7', 'STAFS.2016.067.L11.march', 'BLANK52.12C', 'BLANK52.9E'}\n"
     ]
    }
   ],
   "source": [
    "exp_L6 = ca.read_amplicon('/Users/heatherdeel/Dropbox/PMI_3_analyses/bone/02_18S/Hiseq_original_run/forward_reads_only/01_qiime2_analysis/03_feature_tables/collapsed_tables/18S_plate52_ribonly_table_full_taxfiltered_214940_L6.biom', '/Users/heatherdeel/Dropbox/PMI_3_analyses/bone/02_18S/Hiseq_original_run/forward_reads_only/02_metadata/map_18S.txt', min_reads=0, normalize=None)\n"
   ]
  },
  {
   "cell_type": "code",
   "execution_count": 76,
   "metadata": {},
   "outputs": [
    {
     "data": {
      "text/plain": [
       "STAFS2016.064    7\n",
       "STAFS2016.067    6\n",
       "STAFS2016.065    5\n",
       "Name: host_subject_id, dtype: int64"
      ]
     },
     "execution_count": 76,
     "metadata": {},
     "output_type": "execute_result"
    }
   ],
   "source": [
    "#filtering out spring and defining this as \"Summer\"\n",
    "Summer_L6 = exp_L6.filter_samples('season', 'summer')\n",
    "Summer_L6.sample_metadata.host_subject_id.value_counts()"
   ]
  },
  {
   "cell_type": "code",
   "execution_count": 77,
   "metadata": {},
   "outputs": [
    {
     "name": "stdout",
     "output_type": "stream",
     "text": [
      "                                                                                          _feature_id\n",
      "D_0__Eukaryota;D_1__Amoebozoa;D_2__Cavosteliida...  D_0__Eukaryota;D_1__Amoebozoa;D_2__Cavosteliid...\n",
      "D_0__Eukaryota;D_1__Amoebozoa;D_2__Dictyostelia...  D_0__Eukaryota;D_1__Amoebozoa;D_2__Dictyosteli...\n",
      "D_0__Eukaryota;D_1__Amoebozoa;D_2__Discosea;D_3...  D_0__Eukaryota;D_1__Amoebozoa;D_2__Discosea;D_...\n",
      "D_0__Eukaryota;D_1__Amoebozoa;D_2__Discosea;D_3...  D_0__Eukaryota;D_1__Amoebozoa;D_2__Discosea;D_...\n",
      "D_0__Eukaryota;D_1__Amoebozoa;D_2__Discosea;D_3...  D_0__Eukaryota;D_1__Amoebozoa;D_2__Discosea;D_...\n",
      "D_0__Eukaryota;D_1__Amoebozoa;D_2__Discosea;D_3...  D_0__Eukaryota;D_1__Amoebozoa;D_2__Discosea;D_...\n",
      "D_0__Eukaryota;D_1__Amoebozoa;D_2__Discosea;D_3...  D_0__Eukaryota;D_1__Amoebozoa;D_2__Discosea;D_...\n",
      "D_0__Eukaryota;D_1__Amoebozoa;D_2__Discosea;D_3...  D_0__Eukaryota;D_1__Amoebozoa;D_2__Discosea;D_...\n",
      "D_0__Eukaryota;D_1__Amoebozoa;D_2__Gracilipodid...  D_0__Eukaryota;D_1__Amoebozoa;D_2__Gracilipodi...\n",
      "D_0__Eukaryota;D_1__Amoebozoa;D_2__Incertae Sed...  D_0__Eukaryota;D_1__Amoebozoa;D_2__Incertae Se...\n",
      "D_0__Eukaryota;D_1__Amoebozoa;D_2__Mycamoeba;D_...  D_0__Eukaryota;D_1__Amoebozoa;D_2__Mycamoeba;D...\n",
      "D_0__Eukaryota;D_1__Amoebozoa;D_2__Myxogastria;...  D_0__Eukaryota;D_1__Amoebozoa;D_2__Myxogastria...\n",
      "D_0__Eukaryota;D_1__Amoebozoa;D_2__Myxogastria;...  D_0__Eukaryota;D_1__Amoebozoa;D_2__Myxogastria...\n",
      "D_0__Eukaryota;D_1__Amoebozoa;D_2__Schizoplasmo...  D_0__Eukaryota;D_1__Amoebozoa;D_2__Schizoplasm...\n",
      "D_0__Eukaryota;D_1__Amoebozoa;D_2__Schizoplasmo...  D_0__Eukaryota;D_1__Amoebozoa;D_2__Schizoplasm...\n",
      "D_0__Eukaryota;D_1__Amoebozoa;D_2__Tubulinea;D_...  D_0__Eukaryota;D_1__Amoebozoa;D_2__Tubulinea;D...\n",
      "D_0__Eukaryota;D_1__Amoebozoa;D_2__Tubulinea;D_...  D_0__Eukaryota;D_1__Amoebozoa;D_2__Tubulinea;D...\n",
      "D_0__Eukaryota;D_1__Amoebozoa;D_2__Tubulinea;D_...  D_0__Eukaryota;D_1__Amoebozoa;D_2__Tubulinea;D...\n",
      "D_0__Eukaryota;D_1__Amoebozoa;D_2__Tubulinea;D_...  D_0__Eukaryota;D_1__Amoebozoa;D_2__Tubulinea;D...\n",
      "D_0__Eukaryota;D_1__Amoebozoa;D_2__Tubulinea;D_...  D_0__Eukaryota;D_1__Amoebozoa;D_2__Tubulinea;D...\n",
      "D_0__Eukaryota;D_1__Amoebozoa;D_2__Tubulinea;D_...  D_0__Eukaryota;D_1__Amoebozoa;D_2__Tubulinea;D...\n",
      "D_0__Eukaryota;D_1__Amoebozoa;D_2__Tubulinea;D_...  D_0__Eukaryota;D_1__Amoebozoa;D_2__Tubulinea;D...\n",
      "D_0__Eukaryota;D_1__Amoebozoa;D_2__Tubulinea;D_...  D_0__Eukaryota;D_1__Amoebozoa;D_2__Tubulinea;D...\n",
      "D_0__Eukaryota;D_1__Amoebozoa;D_2__Tubulinea;__...  D_0__Eukaryota;D_1__Amoebozoa;D_2__Tubulinea;_...\n",
      "D_0__Eukaryota;D_1__Amoebozoa;D_2__metagenome;D...  D_0__Eukaryota;D_1__Amoebozoa;D_2__metagenome;...\n",
      "D_0__Eukaryota;D_1__Amoebozoa;D_2__uncultured;D...  D_0__Eukaryota;D_1__Amoebozoa;D_2__uncultured;...\n",
      "D_0__Eukaryota;D_1__Cryptophyceae;D_2__Cryptomo...  D_0__Eukaryota;D_1__Cryptophyceae;D_2__Cryptom...\n",
      "D_0__Eukaryota;D_1__Excavata;D_2__Discoba;D_3__...  D_0__Eukaryota;D_1__Excavata;D_2__Discoba;D_3_...\n",
      "D_0__Eukaryota;D_1__Excavata;D_2__Discoba;D_3__...  D_0__Eukaryota;D_1__Excavata;D_2__Discoba;D_3_...\n",
      "D_0__Eukaryota;D_1__Excavata;D_2__Discoba;D_3__...  D_0__Eukaryota;D_1__Excavata;D_2__Discoba;D_3_...\n",
      "D_0__Eukaryota;D_1__Excavata;D_2__Metamonada;D_...  D_0__Eukaryota;D_1__Excavata;D_2__Metamonada;D...\n",
      "D_0__Eukaryota;D_1__Excavata;D_2__Metamonada;D_...  D_0__Eukaryota;D_1__Excavata;D_2__Metamonada;D...\n",
      "D_0__Eukaryota;D_1__Opisthokonta;D_2__Holozoa;D...  D_0__Eukaryota;D_1__Opisthokonta;D_2__Holozoa;...\n",
      "D_0__Eukaryota;D_1__Opisthokonta;D_2__Holozoa;D...  D_0__Eukaryota;D_1__Opisthokonta;D_2__Holozoa;...\n",
      "D_0__Eukaryota;D_1__Opisthokonta;D_2__Holozoa;D...  D_0__Eukaryota;D_1__Opisthokonta;D_2__Holozoa;...\n",
      "D_0__Eukaryota;D_1__Opisthokonta;D_2__Holozoa;D...  D_0__Eukaryota;D_1__Opisthokonta;D_2__Holozoa;...\n",
      "D_0__Eukaryota;D_1__Opisthokonta;D_2__Holozoa;D...  D_0__Eukaryota;D_1__Opisthokonta;D_2__Holozoa;...\n",
      "D_0__Eukaryota;D_1__Opisthokonta;D_2__Holozoa;_...  D_0__Eukaryota;D_1__Opisthokonta;D_2__Holozoa;...\n",
      "D_0__Eukaryota;D_1__Opisthokonta;D_2__Nucletmyc...  D_0__Eukaryota;D_1__Opisthokonta;D_2__Nucletmy...\n",
      "D_0__Eukaryota;D_1__Opisthokonta;D_2__Nucletmyc...  D_0__Eukaryota;D_1__Opisthokonta;D_2__Nucletmy...\n",
      "D_0__Eukaryota;D_1__Opisthokonta;D_2__Nucletmyc...  D_0__Eukaryota;D_1__Opisthokonta;D_2__Nucletmy...\n",
      "D_0__Eukaryota;D_1__Opisthokonta;D_2__Nucletmyc...  D_0__Eukaryota;D_1__Opisthokonta;D_2__Nucletmy...\n",
      "D_0__Eukaryota;D_1__Opisthokonta;D_2__Nucletmyc...  D_0__Eukaryota;D_1__Opisthokonta;D_2__Nucletmy...\n",
      "D_0__Eukaryota;D_1__Opisthokonta;D_2__Nucletmyc...  D_0__Eukaryota;D_1__Opisthokonta;D_2__Nucletmy...\n",
      "D_0__Eukaryota;D_1__Opisthokonta;D_2__Nucletmyc...  D_0__Eukaryota;D_1__Opisthokonta;D_2__Nucletmy...\n",
      "D_0__Eukaryota;D_1__Opisthokonta;D_2__Nucletmyc...  D_0__Eukaryota;D_1__Opisthokonta;D_2__Nucletmy...\n",
      "D_0__Eukaryota;D_1__Opisthokonta;D_2__Nucletmyc...  D_0__Eukaryota;D_1__Opisthokonta;D_2__Nucletmy...\n",
      "D_0__Eukaryota;D_1__Opisthokonta;D_2__Nucletmyc...  D_0__Eukaryota;D_1__Opisthokonta;D_2__Nucletmy...\n",
      "D_0__Eukaryota;D_1__Opisthokonta;D_2__Nucletmyc...  D_0__Eukaryota;D_1__Opisthokonta;D_2__Nucletmy...\n",
      "D_0__Eukaryota;D_1__Opisthokonta;D_2__Nucletmyc...  D_0__Eukaryota;D_1__Opisthokonta;D_2__Nucletmy...\n",
      "D_0__Eukaryota;D_1__Opisthokonta;D_2__Nucletmyc...  D_0__Eukaryota;D_1__Opisthokonta;D_2__Nucletmy...\n",
      "D_0__Eukaryota;D_1__Opisthokonta;__;__;__;__             D_0__Eukaryota;D_1__Opisthokonta;__;__;__;__\n",
      "D_0__Eukaryota;D_1__SAR;D_2__Alveolata;D_3__Api...  D_0__Eukaryota;D_1__SAR;D_2__Alveolata;D_3__Ap...\n",
      "D_0__Eukaryota;D_1__SAR;D_2__Alveolata;D_3__Api...  D_0__Eukaryota;D_1__SAR;D_2__Alveolata;D_3__Ap...\n",
      "D_0__Eukaryota;D_1__SAR;D_2__Alveolata;D_3__Api...  D_0__Eukaryota;D_1__SAR;D_2__Alveolata;D_3__Ap...\n",
      "D_0__Eukaryota;D_1__SAR;D_2__Alveolata;D_3__Api...  D_0__Eukaryota;D_1__SAR;D_2__Alveolata;D_3__Ap...\n",
      "D_0__Eukaryota;D_1__SAR;D_2__Alveolata;D_3__Cil...  D_0__Eukaryota;D_1__SAR;D_2__Alveolata;D_3__Ci...\n",
      "D_0__Eukaryota;D_1__SAR;D_2__Alveolata;D_3__Cil...  D_0__Eukaryota;D_1__SAR;D_2__Alveolata;D_3__Ci...\n",
      "D_0__Eukaryota;D_1__SAR;D_2__Alveolata;D_3__Cil...  D_0__Eukaryota;D_1__SAR;D_2__Alveolata;D_3__Ci...\n",
      "D_0__Eukaryota;D_1__SAR;D_2__Alveolata;D_3__Din...  D_0__Eukaryota;D_1__SAR;D_2__Alveolata;D_3__Di...\n",
      "D_0__Eukaryota;D_1__SAR;D_2__Alveolata;D_3__Pro...  D_0__Eukaryota;D_1__SAR;D_2__Alveolata;D_3__Pr...\n",
      "D_0__Eukaryota;D_1__SAR;D_2__Alveolata;__;__;__       D_0__Eukaryota;D_1__SAR;D_2__Alveolata;__;__;__\n",
      "D_0__Eukaryota;D_1__SAR;D_2__Rhizaria;D_3__Cerc...  D_0__Eukaryota;D_1__SAR;D_2__Rhizaria;D_3__Cer...\n",
      "D_0__Eukaryota;D_1__SAR;D_2__Rhizaria;D_3__Cerc...  D_0__Eukaryota;D_1__SAR;D_2__Rhizaria;D_3__Cer...\n",
      "D_0__Eukaryota;D_1__SAR;D_2__Rhizaria;D_3__Cerc...  D_0__Eukaryota;D_1__SAR;D_2__Rhizaria;D_3__Cer...\n",
      "D_0__Eukaryota;D_1__SAR;D_2__Rhizaria;D_3__Cerc...  D_0__Eukaryota;D_1__SAR;D_2__Rhizaria;D_3__Cer...\n",
      "D_0__Eukaryota;D_1__SAR;D_2__Rhizaria;D_3__Cerc...  D_0__Eukaryota;D_1__SAR;D_2__Rhizaria;D_3__Cer...\n",
      "D_0__Eukaryota;D_1__SAR;D_2__Rhizaria;D_3__Cerc...  D_0__Eukaryota;D_1__SAR;D_2__Rhizaria;D_3__Cer...\n",
      "D_0__Eukaryota;D_1__SAR;D_2__Rhizaria;D_3__Cerc...  D_0__Eukaryota;D_1__SAR;D_2__Rhizaria;D_3__Cer...\n",
      "D_0__Eukaryota;D_1__SAR;D_2__Rhizaria;D_3__Cerc...  D_0__Eukaryota;D_1__SAR;D_2__Rhizaria;D_3__Cer...\n",
      "D_0__Eukaryota;D_1__SAR;D_2__Rhizaria;D_3__Cerc...  D_0__Eukaryota;D_1__SAR;D_2__Rhizaria;D_3__Cer...\n",
      "D_0__Eukaryota;D_1__SAR;D_2__Rhizaria;D_3__Cerc...  D_0__Eukaryota;D_1__SAR;D_2__Rhizaria;D_3__Cer...\n",
      "D_0__Eukaryota;D_1__SAR;D_2__Rhizaria;D_3__Cerc...  D_0__Eukaryota;D_1__SAR;D_2__Rhizaria;D_3__Cer...\n",
      "D_0__Eukaryota;D_1__SAR;D_2__Rhizaria;D_3__Cerc...  D_0__Eukaryota;D_1__SAR;D_2__Rhizaria;D_3__Cer...\n",
      "D_0__Eukaryota;D_1__SAR;D_2__Rhizaria;D_3__Cerc...  D_0__Eukaryota;D_1__SAR;D_2__Rhizaria;D_3__Cer...\n",
      "D_0__Eukaryota;D_1__SAR;D_2__Rhizaria;D_3__Cerc...  D_0__Eukaryota;D_1__SAR;D_2__Rhizaria;D_3__Cer...\n",
      "D_0__Eukaryota;D_1__SAR;D_2__Rhizaria;D_3__Cerc...  D_0__Eukaryota;D_1__SAR;D_2__Rhizaria;D_3__Cer...\n",
      "D_0__Eukaryota;D_1__SAR;D_2__Rhizaria;D_3__Cerc...  D_0__Eukaryota;D_1__SAR;D_2__Rhizaria;D_3__Cer...\n",
      "D_0__Eukaryota;D_1__SAR;D_2__Rhizaria;D_3__Cerc...  D_0__Eukaryota;D_1__SAR;D_2__Rhizaria;D_3__Cer...\n",
      "D_0__Eukaryota;D_1__SAR;D_2__Rhizaria;D_3__Cerc...  D_0__Eukaryota;D_1__SAR;D_2__Rhizaria;D_3__Cer...\n",
      "D_0__Eukaryota;D_1__SAR;D_2__Rhizaria;D_3__Cerc...  D_0__Eukaryota;D_1__SAR;D_2__Rhizaria;D_3__Cer...\n",
      "D_0__Eukaryota;D_1__SAR;D_2__Rhizaria;D_3__Cerc...  D_0__Eukaryota;D_1__SAR;D_2__Rhizaria;D_3__Cer...\n",
      "D_0__Eukaryota;D_1__SAR;D_2__Stramenopiles;D_3_...  D_0__Eukaryota;D_1__SAR;D_2__Stramenopiles;D_3...\n",
      "D_0__Eukaryota;D_1__SAR;D_2__Stramenopiles;D_3_...  D_0__Eukaryota;D_1__SAR;D_2__Stramenopiles;D_3...\n",
      "D_0__Eukaryota;D_1__SAR;D_2__Stramenopiles;D_3_...  D_0__Eukaryota;D_1__SAR;D_2__Stramenopiles;D_3...\n",
      "D_0__Eukaryota;D_1__SAR;D_2__Stramenopiles;D_3_...  D_0__Eukaryota;D_1__SAR;D_2__Stramenopiles;D_3...\n",
      "D_0__Eukaryota;D_1__SAR;D_2__Stramenopiles;D_3_...  D_0__Eukaryota;D_1__SAR;D_2__Stramenopiles;D_3...\n",
      "D_0__Eukaryota;D_1__SAR;D_2__Stramenopiles;D_3_...  D_0__Eukaryota;D_1__SAR;D_2__Stramenopiles;D_3...\n",
      "D_0__Eukaryota;D_1__SAR;D_2__Stramenopiles;D_3_...  D_0__Eukaryota;D_1__SAR;D_2__Stramenopiles;D_3...\n",
      "D_0__Eukaryota;D_1__SAR;D_2__Stramenopiles;D_3_...  D_0__Eukaryota;D_1__SAR;D_2__Stramenopiles;D_3...\n",
      "D_0__Eukaryota;D_1__SAR;D_2__Stramenopiles;D_3_...  D_0__Eukaryota;D_1__SAR;D_2__Stramenopiles;D_3...\n",
      "D_0__Eukaryota;D_1__SAR;D_2__Stramenopiles;D_3_...  D_0__Eukaryota;D_1__SAR;D_2__Stramenopiles;D_3...\n",
      "D_0__Eukaryota;D_1__SAR;D_2__Stramenopiles;D_3_...  D_0__Eukaryota;D_1__SAR;D_2__Stramenopiles;D_3...\n",
      "D_0__Eukaryota;D_1__SAR;D_2__Stramenopiles;D_3_...  D_0__Eukaryota;D_1__SAR;D_2__Stramenopiles;D_3...\n",
      "D_0__Eukaryota;D_1__SAR;D_2__Stramenopiles;D_3_...  D_0__Eukaryota;D_1__SAR;D_2__Stramenopiles;D_3...\n",
      "D_0__Eukaryota;D_1__SAR;D_2__Stramenopiles;D_3_...  D_0__Eukaryota;D_1__SAR;D_2__Stramenopiles;D_3...\n",
      "D_0__Eukaryota;D_1__SAR;D_2__Stramenopiles;D_3_...  D_0__Eukaryota;D_1__SAR;D_2__Stramenopiles;D_3...\n",
      "D_0__Eukaryota;D_1__SAR;D_2__Stramenopiles;D_3_...  D_0__Eukaryota;D_1__SAR;D_2__Stramenopiles;D_3...\n",
      "D_0__Eukaryota;D_1__SAR;D_2__Stramenopiles;D_3_...  D_0__Eukaryota;D_1__SAR;D_2__Stramenopiles;D_3...\n",
      "D_0__Eukaryota;D_1__SAR;D_2__Stramenopiles;D_3_...  D_0__Eukaryota;D_1__SAR;D_2__Stramenopiles;D_3...\n",
      "D_0__Eukaryota;D_1__SAR;D_2__Stramenopiles;D_3_...  D_0__Eukaryota;D_1__SAR;D_2__Stramenopiles;D_3...\n",
      "D_0__Eukaryota;D_1__SAR;D_2__Stramenopiles;D_3_...  D_0__Eukaryota;D_1__SAR;D_2__Stramenopiles;D_3...\n",
      "D_0__Eukaryota;D_1__SAR;D_2__Stramenopiles;D_3_...  D_0__Eukaryota;D_1__SAR;D_2__Stramenopiles;D_3...\n",
      "D_0__Eukaryota;D_1__SAR;D_2__Stramenopiles;D_3_...  D_0__Eukaryota;D_1__SAR;D_2__Stramenopiles;D_3...\n",
      "D_0__Eukaryota;D_1__SAR;D_2__Stramenopiles;D_3_...  D_0__Eukaryota;D_1__SAR;D_2__Stramenopiles;D_3...\n",
      "D_0__Eukaryota;D_1__SAR;D_2__Stramenopiles;D_3_...  D_0__Eukaryota;D_1__SAR;D_2__Stramenopiles;D_3...\n",
      "D_0__Eukaryota;D_1__SAR;D_2__Stramenopiles;D_3_...  D_0__Eukaryota;D_1__SAR;D_2__Stramenopiles;D_3...\n",
      "D_0__Eukaryota;D_1__SAR;D_2__Stramenopiles;__;_...  D_0__Eukaryota;D_1__SAR;D_2__Stramenopiles;__;...\n",
      "D_0__Eukaryota;D_1__SAR;__;__;__;__                               D_0__Eukaryota;D_1__SAR;__;__;__;__\n",
      "D_0__Eukaryota;__;__;__;__;__                                           D_0__Eukaryota;__;__;__;__;__\n"
     ]
    }
   ],
   "source": [
    "print(Summer_L6.feature_metadata)"
   ]
  },
  {
   "cell_type": "markdown",
   "metadata": {},
   "source": [
    "## Running the L6 model"
   ]
  },
  {
   "cell_type": "code",
   "execution_count": 78,
   "metadata": {},
   "outputs": [],
   "source": [
    "# groupKfold = 3, will leave out one body for each model\n",
    "gkf = GroupKFold(3)\n",
    "\n",
    "X = Summer_L6.data\n",
    "y = Summer_L6.sample_metadata['ADD']\n",
    "y = (y.astype(float))\n",
    "\n",
    "groups = Summer_L6.sample_metadata['host_subject_id']\n",
    "\n",
    "# used to test the param grid for parameter tuning\n",
    "# use the output of this estimator below for input into new estimator (not commented out)\n",
    "param_grid = {\"max_depth\": [4, 8, 16, None],\n",
    "              \"max_features\": ['sqrt', 'log2', 0.1],\n",
    "              \"min_samples_split\": [0.001, 0.01, 0.1],\n",
    "              \"min_weight_fraction_leaf\": [0.0001, 0.001, 0.01],\n",
    "              \"bootstrap\": [True, False]}\n",
    "\n",
    "#param_grid = {\"max_depth\": [8],\n",
    "#          \"max_features\": [0.1],\n",
    "#          \"min_samples_split\": [0.001],\n",
    "#          \"min_weight_fraction_leaf\": [0.0001],\n",
    "#          \"bootstrap\": [False]}\n",
    "\n",
    "rf = RandomForestRegressor(n_estimators=1000, random_state=999, criterion='mae')\n",
    "gs = GridSearchCV(rf, param_grid=param_grid, cv=gkf.split(X, y, groups), scoring='neg_mean_absolute_error', n_jobs=1)"
   ]
  },
  {
   "cell_type": "code",
   "execution_count": 79,
   "metadata": {},
   "outputs": [
    {
     "data": {
      "text/plain": [
       "GridSearchCV(cv=<generator object _BaseKFold.split at 0x11ff49750>,\n",
       "             error_score=nan,\n",
       "             estimator=RandomForestRegressor(bootstrap=True, ccp_alpha=0.0,\n",
       "                                             criterion='mae', max_depth=None,\n",
       "                                             max_features='auto',\n",
       "                                             max_leaf_nodes=None,\n",
       "                                             max_samples=None,\n",
       "                                             min_impurity_decrease=0.0,\n",
       "                                             min_impurity_split=None,\n",
       "                                             min_samples_leaf=1,\n",
       "                                             min_samples_split=2,\n",
       "                                             min_weight_fraction_leaf=0.0,\n",
       "                                             n_es...\n",
       "                                             oob_score=False, random_state=999,\n",
       "                                             verbose=0, warm_start=False),\n",
       "             iid='deprecated', n_jobs=1,\n",
       "             param_grid={'bootstrap': [True, False],\n",
       "                         'max_depth': [4, 8, 16, None],\n",
       "                         'max_features': ['sqrt', 'log2', 0.1],\n",
       "                         'min_samples_split': [0.001, 0.01, 0.1],\n",
       "                         'min_weight_fraction_leaf': [0.0001, 0.001, 0.01]},\n",
       "             pre_dispatch='2*n_jobs', refit=True, return_train_score=False,\n",
       "             scoring='neg_mean_absolute_error', verbose=0)"
      ]
     },
     "execution_count": 79,
     "metadata": {},
     "output_type": "execute_result"
    }
   ],
   "source": [
    "gs.fit(X, y)"
   ]
  },
  {
   "cell_type": "code",
   "execution_count": 80,
   "metadata": {},
   "outputs": [
    {
     "name": "stdout",
     "output_type": "stream",
     "text": [
      "{'bootstrap': False, 'max_depth': 16, 'max_features': 'sqrt', 'min_samples_split': 0.001, 'min_weight_fraction_leaf': 0.0001}\n"
     ]
    }
   ],
   "source": [
    "# this line is used when run with the first param grid to determine what the best parameters are for tuning\n",
    "print(gs.best_params_)"
   ]
  },
  {
   "cell_type": "code",
   "execution_count": 81,
   "metadata": {},
   "outputs": [
    {
     "name": "stdout",
     "output_type": "stream",
     "text": [
      "The best mean absolute error is 867.09\n"
     ]
    }
   ],
   "source": [
    "print('The best mean absolute error is', round(-gs.best_score_,2))"
   ]
  },
  {
   "cell_type": "code",
   "execution_count": 82,
   "metadata": {},
   "outputs": [
    {
     "data": {
      "text/plain": [
       "['models/bone_summer_18S_L6.pkl']"
      ]
     },
     "execution_count": 82,
     "metadata": {},
     "output_type": "execute_result"
    }
   ],
   "source": [
    "joblib.dump(gs.best_estimator_, 'models/bone_summer_18S_L6.pkl')"
   ]
  },
  {
   "cell_type": "code",
   "execution_count": 83,
   "metadata": {},
   "outputs": [
    {
     "data": {
      "text/plain": [
       "RandomForestRegressor(bootstrap=False, ccp_alpha=0.0, criterion='mae',\n",
       "                      max_depth=16, max_features='sqrt', max_leaf_nodes=None,\n",
       "                      max_samples=None, min_impurity_decrease=0.0,\n",
       "                      min_impurity_split=None, min_samples_leaf=1,\n",
       "                      min_samples_split=0.001, min_weight_fraction_leaf=0.0001,\n",
       "                      n_estimators=1000, n_jobs=None, oob_score=False,\n",
       "                      random_state=999, verbose=0, warm_start=False)"
      ]
     },
     "execution_count": 83,
     "metadata": {},
     "output_type": "execute_result"
    }
   ],
   "source": [
    "bone_summer_L6 = joblib.load('models/bone_summer_18S_L6.pkl')\n",
    "bone_summer_L6"
   ]
  },
  {
   "cell_type": "markdown",
   "metadata": {},
   "source": [
    "## Determine important features of the L6 model"
   ]
  },
  {
   "cell_type": "code",
   "execution_count": 84,
   "metadata": {},
   "outputs": [
    {
     "name": "stdout",
     "output_type": "stream",
     "text": [
      "Feature:\t\t\t\tImportance:\n",
      "1. D_0__Eukaryota;D_1__Opisthokonta;D_2__Nucletmycea;D_3__Fungi;D_4__Dikarya;D_5__Ascomycota\t0.07153030819565671\n",
      "2. D_0__Eukaryota;D_1__Opisthokonta;D_2__Holozoa;D_3__Metazoa (Animalia);D_4__Eumetazoa;D_5__Bilateria\t0.06485042265506961\n",
      "3. D_0__Eukaryota;D_1__Amoebozoa;D_2__Tubulinea;D_3__Euamoebida;D_4__BOLA868;D_5__metagenome\t0.05266154437945154\n",
      "4. D_0__Eukaryota;D_1__Opisthokonta;D_2__Holozoa;D_3__Metazoa (Animalia);D_4__Eumetazoa;__\t0.050277886264787255\n",
      "5. D_0__Eukaryota;D_1__SAR;D_2__Alveolata;__;__;__\t0.04846375674463879\n",
      "6. D_0__Eukaryota;D_1__Opisthokonta;D_2__Nucletmycea;D_3__Fungi;D_4__Dikarya;D_5__Basidiomycota\t0.04248318626640372\n",
      "7. D_0__Eukaryota;D_1__Opisthokonta;D_2__Holozoa;__;__;__\t0.036306785159463874\n",
      "8. D_0__Eukaryota;D_1__Opisthokonta;D_2__Nucletmycea;D_3__Fungi;__;__\t0.03507682000424404\n",
      "9. D_0__Eukaryota;D_1__SAR;D_2__Alveolata;D_3__Apicomplexa;D_4__Conoidasida;D_5__Gregarinasina\t0.03428278317233025\n",
      "10. D_0__Eukaryota;__;__;__;__;__\t0.031154951461325645\n",
      "11. D_0__Eukaryota;D_1__Opisthokonta;D_2__Holozoa;D_3__Metazoa (Animalia);__;__\t0.03062656526640876\n",
      "12. D_0__Eukaryota;D_1__SAR;D_2__Rhizaria;D_3__Cercozoa;D_4__Glissomonadida;D_5__Heteromita\t0.02380651737015701\n",
      "13. D_0__Eukaryota;D_1__SAR;D_2__Alveolata;D_3__Ciliophora;D_4__Intramacronucleata;D_5__Spirotrichea\t0.020670382461560877\n",
      "14. D_0__Eukaryota;D_1__Opisthokonta;D_2__Nucletmycea;D_3__Fungi;D_4__Dikarya;__\t0.020022110399736687\n",
      "15. D_0__Eukaryota;D_1__SAR;D_2__Stramenopiles;D_3__Ochrophyta;D_4__Xanthophyceae;D_5__Xanthophyceae sp. IX3\t0.018830526869708094\n",
      "16. D_0__Eukaryota;D_1__Excavata;D_2__Discoba;D_3__Discicristata;D_4__Euglenozoa;D_5__Euglenida\t0.017211472391980696\n",
      "17. D_0__Eukaryota;D_1__Opisthokonta;__;__;__;__\t0.017166854360438695\n",
      "18. D_0__Eukaryota;D_1__SAR;D_2__Stramenopiles;D_3__Labyrinthulomycetes;D_4__Sorodiplophrys;D_5__uncultured eukaryote\t0.014795412755584497\n",
      "19. D_0__Eukaryota;D_1__Excavata;D_2__Discoba;D_3__Discicristata;D_4__Euglenozoa;D_5__Kinetoplastea\t0.014498524610708186\n",
      "20. D_0__Eukaryota;D_1__SAR;D_2__Stramenopiles;D_3__Ochrophyta;D_4__Chrysophyceae;D_5__marine metagenome\t0.014422403103403668\n",
      "21. D_0__Eukaryota;D_1__Opisthokonta;D_2__Nucletmycea;D_3__Fungi;D_4__Mucoromycota;D_5__Mucoromycotina\t0.014012572882868163\n",
      "22. D_0__Eukaryota;D_1__SAR;D_2__Stramenopiles;D_3__Ochrophyta;D_4__Chrysophyceae;D_5__Chromulinales\t0.0129179769382994\n",
      "23. D_0__Eukaryota;D_1__Amoebozoa;D_2__Discosea;D_3__Longamoebia;D_4__Centramoebida;D_5__Acanthamoeba\t0.012887214722453463\n",
      "24. D_0__Eukaryota;D_1__SAR;D_2__Alveolata;D_3__Ciliophora;D_4__Intramacronucleata;D_5__Conthreep\t0.012421889923816752\n",
      "25. D_0__Eukaryota;D_1__SAR;D_2__Alveolata;D_3__Protalveolata;D_4__Colpodellida;D_5__Colpodella\t0.012036649513880756\n"
     ]
    }
   ],
   "source": [
    "importances = bone_summer_L6.feature_importances_\n",
    "std = np.std([tree.feature_importances_ for tree in bone_summer_L6.estimators_],\n",
    "             axis=0)\n",
    "indices = np.argsort(importances)[::-1]\n",
    "\n",
    "feature_metadata = Summer_L6.feature_metadata\n",
    "np.savetxt(\"importances/bone_summer_18S_L6_features.csv\", feature_metadata, delimiter=\",\", fmt='%s')\n",
    "\n",
    "\n",
    "#print the important ids in order\n",
    "general_importances = []\n",
    "count = 0\n",
    "print(\"Feature:\\t\\t\\t\\tImportance:\")\n",
    "for i in indices:\n",
    "    general_importances += (Summer_L6.feature_metadata.index.values[i], importances[indices[count]])\n",
    "    if count < 25:\n",
    "        print(str(count+1)+\". \"+str(Summer_L6.feature_metadata.index.values[i])+\"\\t\"+str(importances[indices[count]]))\n",
    "    count += 1\n",
    "    \n",
    "general_importances_df = pd.DataFrame(np.array(general_importances).reshape(220,1))\n",
    "\n",
    "np.savetxt(\"importances/bone_summer_18S_L6_importances.csv\", general_importances_df, delimiter=\",\", fmt='%s')"
   ]
  },
  {
   "cell_type": "markdown",
   "metadata": {},
   "source": [
    "## Import rarefied data collapsed at level 5"
   ]
  },
  {
   "cell_type": "code",
   "execution_count": 85,
   "metadata": {},
   "outputs": [
    {
     "name": "stdout",
     "output_type": "stream",
     "text": [
      "2020-07-02 14:32:23 WARNING These have metadata but do not have data - dropped (59): {'STAFS.2016.065.L10', 'CSU.extraction.blank11', 'STAFS.2016.065.L11', 'BLANK52.9A', 'BLANK52.9H', 'CSU.extraction.blank1', 'BLANK52.9C', 'BLANK52.10D', 'BLANK52.12A', 'CSU.extraction.blank12', 'CSU.extraction.blank6', 'CSU.extraction.blank4', 'CSU.extraction.blank8', 'CSU.extraction.blank13', 'BLANK52.11D', 'BLANK52.12B', 'BLANK52.9G', 'CSU.extraction.blank10', 'CSU.extraction.blank2', 'BLANK52.11F', 'BLANK52.5B', 'BLANK52.10F', 'BLANK52.11C', 'CSU.extraction.blank14', 'BLANK52.10B', 'SHSU.STAFS2016.011.L09', 'BLANK52.9B', 'STAFS.2016.065.L09', 'BLANK52.10G', 'BLANK52.11A', 'BLANK52.12D', 'BLANK52.10E', 'SHSU.STAFS2016.024.L10', 'CSU.extraction.blank15', 'BLANK52.12F', 'BLANK52.9F', 'BLANK52.11B', 'STAFS.2016.064.R09', 'BLANK52.10A', 'SHSU.STAFS2016.007.L09', 'CSU.extraction.blank9', '#q2:types', 'SHSU.STAFS2016.007.R10', 'BLANK52.11E', 'BLANK52.12G', 'BLANK52.9D', 'BLANK52.11H', 'BLANK52.11G', 'BLANK52.12E', 'BLANK52.12H', 'STAFS.2016.067.R12', 'BLANK52.10H', 'CSU.extraction.blank5', 'BLANK52.10C', 'CSU.extraction.blank3', 'CSU.extraction.blank7', 'STAFS.2016.067.L11.march', 'BLANK52.12C', 'BLANK52.9E'}\n"
     ]
    }
   ],
   "source": [
    "exp_L5 = ca.read_amplicon('/Users/heatherdeel/Dropbox/PMI_3_analyses/bone/02_18S/Hiseq_original_run/forward_reads_only/01_qiime2_analysis/03_feature_tables/collapsed_tables/18S_plate52_ribonly_table_full_taxfiltered_214940_L5.biom', '/Users/heatherdeel/Dropbox/PMI_3_analyses/bone/02_18S/Hiseq_original_run/forward_reads_only/02_metadata/map_18S.txt', min_reads=0, normalize=None)\n"
   ]
  },
  {
   "cell_type": "code",
   "execution_count": 86,
   "metadata": {},
   "outputs": [
    {
     "data": {
      "text/plain": [
       "STAFS2016.064    7\n",
       "STAFS2016.067    6\n",
       "STAFS2016.065    5\n",
       "Name: host_subject_id, dtype: int64"
      ]
     },
     "execution_count": 86,
     "metadata": {},
     "output_type": "execute_result"
    }
   ],
   "source": [
    "#filtering out spring and defining this as \"Summer\"\n",
    "Summer_L5 = exp_L5.filter_samples('season', 'summer')\n",
    "Summer_L5.sample_metadata.host_subject_id.value_counts()"
   ]
  },
  {
   "cell_type": "code",
   "execution_count": 87,
   "metadata": {},
   "outputs": [
    {
     "name": "stdout",
     "output_type": "stream",
     "text": [
      "                                                                                          _feature_id\n",
      "D_0__Eukaryota;D_1__Amoebozoa;D_2__Cavosteliida...  D_0__Eukaryota;D_1__Amoebozoa;D_2__Cavosteliid...\n",
      "D_0__Eukaryota;D_1__Amoebozoa;D_2__Dictyostelia...  D_0__Eukaryota;D_1__Amoebozoa;D_2__Dictyosteli...\n",
      "D_0__Eukaryota;D_1__Amoebozoa;D_2__Discosea;D_3...  D_0__Eukaryota;D_1__Amoebozoa;D_2__Discosea;D_...\n",
      "D_0__Eukaryota;D_1__Amoebozoa;D_2__Discosea;D_3...  D_0__Eukaryota;D_1__Amoebozoa;D_2__Discosea;D_...\n",
      "D_0__Eukaryota;D_1__Amoebozoa;D_2__Gracilipodid...  D_0__Eukaryota;D_1__Amoebozoa;D_2__Gracilipodi...\n",
      "D_0__Eukaryota;D_1__Amoebozoa;D_2__Incertae Sed...  D_0__Eukaryota;D_1__Amoebozoa;D_2__Incertae Se...\n",
      "D_0__Eukaryota;D_1__Amoebozoa;D_2__Mycamoeba;D_...  D_0__Eukaryota;D_1__Amoebozoa;D_2__Mycamoeba;D...\n",
      "D_0__Eukaryota;D_1__Amoebozoa;D_2__Myxogastria;...  D_0__Eukaryota;D_1__Amoebozoa;D_2__Myxogastria...\n",
      "D_0__Eukaryota;D_1__Amoebozoa;D_2__Myxogastria;...  D_0__Eukaryota;D_1__Amoebozoa;D_2__Myxogastria...\n",
      "D_0__Eukaryota;D_1__Amoebozoa;D_2__Schizoplasmo...  D_0__Eukaryota;D_1__Amoebozoa;D_2__Schizoplasm...\n",
      "D_0__Eukaryota;D_1__Amoebozoa;D_2__Schizoplasmo...  D_0__Eukaryota;D_1__Amoebozoa;D_2__Schizoplasm...\n",
      "D_0__Eukaryota;D_1__Amoebozoa;D_2__Tubulinea;D_...  D_0__Eukaryota;D_1__Amoebozoa;D_2__Tubulinea;D...\n",
      "D_0__Eukaryota;D_1__Amoebozoa;D_2__Tubulinea;D_...  D_0__Eukaryota;D_1__Amoebozoa;D_2__Tubulinea;D...\n",
      "D_0__Eukaryota;D_1__Amoebozoa;D_2__Tubulinea;D_...  D_0__Eukaryota;D_1__Amoebozoa;D_2__Tubulinea;D...\n",
      "D_0__Eukaryota;D_1__Amoebozoa;D_2__Tubulinea;D_...  D_0__Eukaryota;D_1__Amoebozoa;D_2__Tubulinea;D...\n",
      "D_0__Eukaryota;D_1__Amoebozoa;D_2__Tubulinea;D_...  D_0__Eukaryota;D_1__Amoebozoa;D_2__Tubulinea;D...\n",
      "D_0__Eukaryota;D_1__Amoebozoa;D_2__Tubulinea;D_...  D_0__Eukaryota;D_1__Amoebozoa;D_2__Tubulinea;D...\n",
      "D_0__Eukaryota;D_1__Amoebozoa;D_2__Tubulinea;D_...  D_0__Eukaryota;D_1__Amoebozoa;D_2__Tubulinea;D...\n",
      "D_0__Eukaryota;D_1__Amoebozoa;D_2__Tubulinea;D_...  D_0__Eukaryota;D_1__Amoebozoa;D_2__Tubulinea;D...\n",
      "D_0__Eukaryota;D_1__Amoebozoa;D_2__Tubulinea;__;__  D_0__Eukaryota;D_1__Amoebozoa;D_2__Tubulinea;_...\n",
      "D_0__Eukaryota;D_1__Amoebozoa;D_2__metagenome;D...  D_0__Eukaryota;D_1__Amoebozoa;D_2__metagenome;...\n",
      "D_0__Eukaryota;D_1__Amoebozoa;D_2__uncultured;D...  D_0__Eukaryota;D_1__Amoebozoa;D_2__uncultured;...\n",
      "D_0__Eukaryota;D_1__Cryptophyceae;D_2__Cryptomo...  D_0__Eukaryota;D_1__Cryptophyceae;D_2__Cryptom...\n",
      "D_0__Eukaryota;D_1__Excavata;D_2__Discoba;D_3__...  D_0__Eukaryota;D_1__Excavata;D_2__Discoba;D_3_...\n",
      "D_0__Eukaryota;D_1__Excavata;D_2__Discoba;D_3__...  D_0__Eukaryota;D_1__Excavata;D_2__Discoba;D_3_...\n",
      "D_0__Eukaryota;D_1__Excavata;D_2__Metamonada;D_...  D_0__Eukaryota;D_1__Excavata;D_2__Metamonada;D...\n",
      "D_0__Eukaryota;D_1__Excavata;D_2__Metamonada;D_...  D_0__Eukaryota;D_1__Excavata;D_2__Metamonada;D...\n",
      "D_0__Eukaryota;D_1__Opisthokonta;D_2__Holozoa;D...  D_0__Eukaryota;D_1__Opisthokonta;D_2__Holozoa;...\n",
      "D_0__Eukaryota;D_1__Opisthokonta;D_2__Holozoa;D...  D_0__Eukaryota;D_1__Opisthokonta;D_2__Holozoa;...\n",
      "D_0__Eukaryota;D_1__Opisthokonta;D_2__Holozoa;D...  D_0__Eukaryota;D_1__Opisthokonta;D_2__Holozoa;...\n",
      "D_0__Eukaryota;D_1__Opisthokonta;D_2__Holozoa;_...  D_0__Eukaryota;D_1__Opisthokonta;D_2__Holozoa;...\n",
      "D_0__Eukaryota;D_1__Opisthokonta;D_2__Nucletmyc...  D_0__Eukaryota;D_1__Opisthokonta;D_2__Nucletmy...\n",
      "D_0__Eukaryota;D_1__Opisthokonta;D_2__Nucletmyc...  D_0__Eukaryota;D_1__Opisthokonta;D_2__Nucletmy...\n",
      "D_0__Eukaryota;D_1__Opisthokonta;D_2__Nucletmyc...  D_0__Eukaryota;D_1__Opisthokonta;D_2__Nucletmy...\n",
      "D_0__Eukaryota;D_1__Opisthokonta;D_2__Nucletmyc...  D_0__Eukaryota;D_1__Opisthokonta;D_2__Nucletmy...\n",
      "D_0__Eukaryota;D_1__Opisthokonta;D_2__Nucletmyc...  D_0__Eukaryota;D_1__Opisthokonta;D_2__Nucletmy...\n",
      "D_0__Eukaryota;D_1__Opisthokonta;D_2__Nucletmyc...  D_0__Eukaryota;D_1__Opisthokonta;D_2__Nucletmy...\n",
      "D_0__Eukaryota;D_1__Opisthokonta;D_2__Nucletmyc...  D_0__Eukaryota;D_1__Opisthokonta;D_2__Nucletmy...\n",
      "D_0__Eukaryota;D_1__Opisthokonta;D_2__Nucletmyc...  D_0__Eukaryota;D_1__Opisthokonta;D_2__Nucletmy...\n",
      "D_0__Eukaryota;D_1__Opisthokonta;__;__;__                   D_0__Eukaryota;D_1__Opisthokonta;__;__;__\n",
      "D_0__Eukaryota;D_1__SAR;D_2__Alveolata;D_3__Api...  D_0__Eukaryota;D_1__SAR;D_2__Alveolata;D_3__Ap...\n",
      "D_0__Eukaryota;D_1__SAR;D_2__Alveolata;D_3__Api...  D_0__Eukaryota;D_1__SAR;D_2__Alveolata;D_3__Ap...\n",
      "D_0__Eukaryota;D_1__SAR;D_2__Alveolata;D_3__Cil...  D_0__Eukaryota;D_1__SAR;D_2__Alveolata;D_3__Ci...\n",
      "D_0__Eukaryota;D_1__SAR;D_2__Alveolata;D_3__Din...  D_0__Eukaryota;D_1__SAR;D_2__Alveolata;D_3__Di...\n",
      "D_0__Eukaryota;D_1__SAR;D_2__Alveolata;D_3__Pro...  D_0__Eukaryota;D_1__SAR;D_2__Alveolata;D_3__Pr...\n",
      "D_0__Eukaryota;D_1__SAR;D_2__Alveolata;__;__             D_0__Eukaryota;D_1__SAR;D_2__Alveolata;__;__\n",
      "D_0__Eukaryota;D_1__SAR;D_2__Rhizaria;D_3__Cerc...  D_0__Eukaryota;D_1__SAR;D_2__Rhizaria;D_3__Cer...\n",
      "D_0__Eukaryota;D_1__SAR;D_2__Rhizaria;D_3__Cerc...  D_0__Eukaryota;D_1__SAR;D_2__Rhizaria;D_3__Cer...\n",
      "D_0__Eukaryota;D_1__SAR;D_2__Rhizaria;D_3__Cerc...  D_0__Eukaryota;D_1__SAR;D_2__Rhizaria;D_3__Cer...\n",
      "D_0__Eukaryota;D_1__SAR;D_2__Rhizaria;D_3__Cerc...  D_0__Eukaryota;D_1__SAR;D_2__Rhizaria;D_3__Cer...\n",
      "D_0__Eukaryota;D_1__SAR;D_2__Rhizaria;D_3__Cerc...  D_0__Eukaryota;D_1__SAR;D_2__Rhizaria;D_3__Cer...\n",
      "D_0__Eukaryota;D_1__SAR;D_2__Rhizaria;D_3__Cerc...  D_0__Eukaryota;D_1__SAR;D_2__Rhizaria;D_3__Cer...\n",
      "D_0__Eukaryota;D_1__SAR;D_2__Rhizaria;D_3__Cerc...  D_0__Eukaryota;D_1__SAR;D_2__Rhizaria;D_3__Cer...\n",
      "D_0__Eukaryota;D_1__SAR;D_2__Rhizaria;D_3__Cerc...  D_0__Eukaryota;D_1__SAR;D_2__Rhizaria;D_3__Cer...\n",
      "D_0__Eukaryota;D_1__SAR;D_2__Stramenopiles;D_3_...  D_0__Eukaryota;D_1__SAR;D_2__Stramenopiles;D_3...\n",
      "D_0__Eukaryota;D_1__SAR;D_2__Stramenopiles;D_3_...  D_0__Eukaryota;D_1__SAR;D_2__Stramenopiles;D_3...\n",
      "D_0__Eukaryota;D_1__SAR;D_2__Stramenopiles;D_3_...  D_0__Eukaryota;D_1__SAR;D_2__Stramenopiles;D_3...\n",
      "D_0__Eukaryota;D_1__SAR;D_2__Stramenopiles;D_3_...  D_0__Eukaryota;D_1__SAR;D_2__Stramenopiles;D_3...\n",
      "D_0__Eukaryota;D_1__SAR;D_2__Stramenopiles;D_3_...  D_0__Eukaryota;D_1__SAR;D_2__Stramenopiles;D_3...\n",
      "D_0__Eukaryota;D_1__SAR;D_2__Stramenopiles;D_3_...  D_0__Eukaryota;D_1__SAR;D_2__Stramenopiles;D_3...\n",
      "D_0__Eukaryota;D_1__SAR;D_2__Stramenopiles;D_3_...  D_0__Eukaryota;D_1__SAR;D_2__Stramenopiles;D_3...\n",
      "D_0__Eukaryota;D_1__SAR;D_2__Stramenopiles;D_3_...  D_0__Eukaryota;D_1__SAR;D_2__Stramenopiles;D_3...\n",
      "D_0__Eukaryota;D_1__SAR;D_2__Stramenopiles;D_3_...  D_0__Eukaryota;D_1__SAR;D_2__Stramenopiles;D_3...\n",
      "D_0__Eukaryota;D_1__SAR;D_2__Stramenopiles;D_3_...  D_0__Eukaryota;D_1__SAR;D_2__Stramenopiles;D_3...\n",
      "D_0__Eukaryota;D_1__SAR;D_2__Stramenopiles;D_3_...  D_0__Eukaryota;D_1__SAR;D_2__Stramenopiles;D_3...\n",
      "D_0__Eukaryota;D_1__SAR;D_2__Stramenopiles;__;__     D_0__Eukaryota;D_1__SAR;D_2__Stramenopiles;__;__\n",
      "D_0__Eukaryota;D_1__SAR;__;__;__                                     D_0__Eukaryota;D_1__SAR;__;__;__\n",
      "D_0__Eukaryota;__;__;__;__                                                 D_0__Eukaryota;__;__;__;__\n"
     ]
    }
   ],
   "source": [
    "print(Summer_L5.feature_metadata)"
   ]
  },
  {
   "cell_type": "markdown",
   "metadata": {},
   "source": [
    "## Running the L5 model"
   ]
  },
  {
   "cell_type": "code",
   "execution_count": 88,
   "metadata": {},
   "outputs": [],
   "source": [
    "# groupKfold = 3, will leave out one body for each model\n",
    "gkf = GroupKFold(3)\n",
    "\n",
    "X = Summer_L5.data\n",
    "y = Summer_L5.sample_metadata['ADD']\n",
    "y = (y.astype(float))\n",
    "\n",
    "groups = Summer_L5.sample_metadata['host_subject_id']\n",
    "\n",
    "# used to test the param grid for parameter tuning\n",
    "# use the output of this estimator below for input into new estimator (not commented out)\n",
    "param_grid = {\"max_depth\": [4, 8, 16, None],\n",
    "              \"max_features\": ['sqrt', 'log2', 0.1],\n",
    "              \"min_samples_split\": [0.001, 0.01, 0.1],\n",
    "              \"min_weight_fraction_leaf\": [0.0001, 0.001, 0.01],\n",
    "              \"bootstrap\": [True, False]}\n",
    "\n",
    "#param_grid = {\"max_depth\": [8],\n",
    "#          \"max_features\": [0.1],\n",
    "#          \"min_samples_split\": [0.001],\n",
    "#          \"min_weight_fraction_leaf\": [0.0001],\n",
    "#          \"bootstrap\": [False]}\n",
    "\n",
    "rf = RandomForestRegressor(n_estimators=1000, random_state=999, criterion='mae')\n",
    "gs = GridSearchCV(rf, param_grid=param_grid, cv=gkf.split(X, y, groups), scoring='neg_mean_absolute_error', n_jobs=1)"
   ]
  },
  {
   "cell_type": "code",
   "execution_count": 89,
   "metadata": {},
   "outputs": [
    {
     "data": {
      "text/plain": [
       "GridSearchCV(cv=<generator object _BaseKFold.split at 0x1201128d0>,\n",
       "             error_score=nan,\n",
       "             estimator=RandomForestRegressor(bootstrap=True, ccp_alpha=0.0,\n",
       "                                             criterion='mae', max_depth=None,\n",
       "                                             max_features='auto',\n",
       "                                             max_leaf_nodes=None,\n",
       "                                             max_samples=None,\n",
       "                                             min_impurity_decrease=0.0,\n",
       "                                             min_impurity_split=None,\n",
       "                                             min_samples_leaf=1,\n",
       "                                             min_samples_split=2,\n",
       "                                             min_weight_fraction_leaf=0.0,\n",
       "                                             n_es...\n",
       "                                             oob_score=False, random_state=999,\n",
       "                                             verbose=0, warm_start=False),\n",
       "             iid='deprecated', n_jobs=1,\n",
       "             param_grid={'bootstrap': [True, False],\n",
       "                         'max_depth': [4, 8, 16, None],\n",
       "                         'max_features': ['sqrt', 'log2', 0.1],\n",
       "                         'min_samples_split': [0.001, 0.01, 0.1],\n",
       "                         'min_weight_fraction_leaf': [0.0001, 0.001, 0.01]},\n",
       "             pre_dispatch='2*n_jobs', refit=True, return_train_score=False,\n",
       "             scoring='neg_mean_absolute_error', verbose=0)"
      ]
     },
     "execution_count": 89,
     "metadata": {},
     "output_type": "execute_result"
    }
   ],
   "source": [
    "gs.fit(X, y)"
   ]
  },
  {
   "cell_type": "code",
   "execution_count": 90,
   "metadata": {},
   "outputs": [
    {
     "name": "stdout",
     "output_type": "stream",
     "text": [
      "{'bootstrap': False, 'max_depth': 8, 'max_features': 'sqrt', 'min_samples_split': 0.001, 'min_weight_fraction_leaf': 0.0001}\n"
     ]
    }
   ],
   "source": [
    "# this line is used when run with the first param grid to determine what the best parameters are for tuning\n",
    "print(gs.best_params_)"
   ]
  },
  {
   "cell_type": "code",
   "execution_count": 91,
   "metadata": {},
   "outputs": [
    {
     "name": "stdout",
     "output_type": "stream",
     "text": [
      "The best mean absolute error is 942.52\n"
     ]
    }
   ],
   "source": [
    "print('The best mean absolute error is', round(-gs.best_score_,2))"
   ]
  },
  {
   "cell_type": "code",
   "execution_count": 92,
   "metadata": {},
   "outputs": [
    {
     "data": {
      "text/plain": [
       "['models/bone_summer_18S_L5.pkl']"
      ]
     },
     "execution_count": 92,
     "metadata": {},
     "output_type": "execute_result"
    }
   ],
   "source": [
    "joblib.dump(gs.best_estimator_, 'models/bone_summer_18S_L5.pkl')"
   ]
  },
  {
   "cell_type": "code",
   "execution_count": 93,
   "metadata": {},
   "outputs": [
    {
     "data": {
      "text/plain": [
       "RandomForestRegressor(bootstrap=False, ccp_alpha=0.0, criterion='mae',\n",
       "                      max_depth=8, max_features='sqrt', max_leaf_nodes=None,\n",
       "                      max_samples=None, min_impurity_decrease=0.0,\n",
       "                      min_impurity_split=None, min_samples_leaf=1,\n",
       "                      min_samples_split=0.001, min_weight_fraction_leaf=0.0001,\n",
       "                      n_estimators=1000, n_jobs=None, oob_score=False,\n",
       "                      random_state=999, verbose=0, warm_start=False)"
      ]
     },
     "execution_count": 93,
     "metadata": {},
     "output_type": "execute_result"
    }
   ],
   "source": [
    "bone_summer_L5 = joblib.load('models/bone_summer_18S_L5.pkl')\n",
    "bone_summer_L5"
   ]
  },
  {
   "cell_type": "markdown",
   "metadata": {},
   "source": [
    "## Determine important features of the L5 model"
   ]
  },
  {
   "cell_type": "code",
   "execution_count": 94,
   "metadata": {},
   "outputs": [
    {
     "name": "stdout",
     "output_type": "stream",
     "text": [
      "Feature:\t\t\t\tImportance:\n",
      "1. D_0__Eukaryota;D_1__Opisthokonta;D_2__Holozoa;D_3__Metazoa (Animalia);D_4__Eumetazoa\t0.09415741764882177\n",
      "2. D_0__Eukaryota;D_1__Amoebozoa;D_2__Tubulinea;D_3__Euamoebida;D_4__BOLA868\t0.08136066049455005\n",
      "3. D_0__Eukaryota;D_1__SAR;D_2__Alveolata;__;__\t0.062262808971088136\n",
      "4. D_0__Eukaryota;D_1__SAR;D_2__Alveolata;D_3__Apicomplexa;D_4__Conoidasida\t0.056138941313990956\n",
      "5. D_0__Eukaryota;D_1__Opisthokonta;D_2__Nucletmycea;D_3__Fungi;__\t0.055582179692787594\n",
      "6. D_0__Eukaryota;D_1__Opisthokonta;D_2__Holozoa;__;__\t0.05376410814647099\n",
      "7. D_0__Eukaryota;__;__;__;__\t0.049980436600682125\n",
      "8. D_0__Eukaryota;D_1__Opisthokonta;D_2__Nucletmycea;D_3__Fungi;D_4__Dikarya\t0.04418111962815736\n",
      "9. D_0__Eukaryota;D_1__Opisthokonta;D_2__Holozoa;D_3__Metazoa (Animalia);__\t0.035237228721509514\n",
      "10. D_0__Eukaryota;D_1__SAR;D_2__Stramenopiles;D_3__Labyrinthulomycetes;D_4__Sorodiplophrys\t0.028755168415253277\n",
      "11. D_0__Eukaryota;D_1__Opisthokonta;D_2__Nucletmycea;D_3__Fungi;D_4__Zoopagomycota\t0.02663495137642467\n",
      "12. D_0__Eukaryota;D_1__SAR;D_2__Rhizaria;D_3__Cercozoa;D_4__Glissomonadida\t0.02339651872237118\n",
      "13. D_0__Eukaryota;D_1__Opisthokonta;__;__;__\t0.02310719804707941\n",
      "14. D_0__Eukaryota;D_1__Opisthokonta;D_2__Nucletmycea;D_3__Fungi;D_4__Mucoromycota\t0.02243217423073103\n",
      "15. D_0__Eukaryota;D_1__SAR;D_2__Alveolata;D_3__Ciliophora;D_4__Intramacronucleata\t0.02088285252487203\n",
      "16. D_0__Eukaryota;D_1__SAR;D_2__Stramenopiles;D_3__Bicosoecida;D_4__LG08-10\t0.018631887269763156\n",
      "17. D_0__Eukaryota;D_1__Amoebozoa;D_2__Discosea;D_3__Longamoebia;D_4__Centramoebida\t0.0170656820517518\n",
      "18. D_0__Eukaryota;D_1__SAR;D_2__Stramenopiles;D_3__Ochrophyta;D_4__Chrysophyceae\t0.01635042905855032\n",
      "19. D_0__Eukaryota;D_1__Excavata;D_2__Discoba;D_3__Discicristata;D_4__Euglenozoa\t0.01612739781631476\n",
      "20. D_0__Eukaryota;D_1__SAR;D_2__Alveolata;D_3__Protalveolata;D_4__Colpodellida\t0.015408327203249602\n",
      "21. D_0__Eukaryota;D_1__SAR;D_2__Stramenopiles;D_3__Ochrophyta;D_4__Xanthophyceae\t0.014997441197265473\n",
      "22. D_0__Eukaryota;D_1__Excavata;D_2__Discoba;D_3__Discicristata;D_4__Heterolobosea\t0.014439401149272127\n",
      "23. D_0__Eukaryota;D_1__Opisthokonta;D_2__Nucletmycea;D_3__Nucleariidae and Fonticula group;D_4__Fonticula\t0.013890394329939599\n",
      "24. D_0__Eukaryota;D_1__SAR;D_2__Stramenopiles;D_3__Ochrophyta;D_4__Diatomea\t0.013264562284358914\n",
      "25. D_0__Eukaryota;D_1__SAR;D_2__Rhizaria;D_3__Cercozoa;D_4__Thecofilosea\t0.012869177082802467\n"
     ]
    }
   ],
   "source": [
    "importances = bone_summer_L5.feature_importances_\n",
    "std = np.std([tree.feature_importances_ for tree in bone_summer_L5.estimators_],\n",
    "             axis=0)\n",
    "indices = np.argsort(importances)[::-1]\n",
    "\n",
    "feature_metadata = Summer_L5.feature_metadata\n",
    "np.savetxt(\"importances/bone_summer_18S_L5_features.csv\", feature_metadata, delimiter=\",\", fmt='%s')\n",
    "\n",
    "\n",
    "#print the important ids in order\n",
    "general_importances = []\n",
    "count = 0\n",
    "print(\"Feature:\\t\\t\\t\\tImportance:\")\n",
    "for i in indices:\n",
    "    general_importances += (Summer_L5.feature_metadata.index.values[i], importances[indices[count]])\n",
    "    if count < 25:\n",
    "        print(str(count+1)+\". \"+str(Summer_L5.feature_metadata.index.values[i])+\"\\t\"+str(importances[indices[count]]))\n",
    "    count += 1\n",
    "    \n",
    "general_importances_df = pd.DataFrame(np.array(general_importances).reshape(136,1))\n",
    "\n",
    "np.savetxt(\"importances/bone_summer_18S_L5_importances.csv\", general_importances_df, delimiter=\",\", fmt='%s')"
   ]
  },
  {
   "cell_type": "markdown",
   "metadata": {},
   "source": [
    "## Import rarefied data collapsed at level 4"
   ]
  },
  {
   "cell_type": "code",
   "execution_count": 95,
   "metadata": {},
   "outputs": [
    {
     "name": "stdout",
     "output_type": "stream",
     "text": [
      "2020-07-02 14:43:16 WARNING These have metadata but do not have data - dropped (59): {'STAFS.2016.065.L10', 'CSU.extraction.blank11', 'STAFS.2016.065.L11', 'BLANK52.9A', 'BLANK52.9H', 'CSU.extraction.blank1', 'BLANK52.9C', 'BLANK52.10D', 'BLANK52.12A', 'CSU.extraction.blank12', 'CSU.extraction.blank6', 'CSU.extraction.blank4', 'CSU.extraction.blank8', 'CSU.extraction.blank13', 'BLANK52.11D', 'BLANK52.12B', 'BLANK52.9G', 'CSU.extraction.blank10', 'CSU.extraction.blank2', 'BLANK52.11F', 'BLANK52.5B', 'BLANK52.10F', 'BLANK52.11C', 'CSU.extraction.blank14', 'BLANK52.10B', 'SHSU.STAFS2016.011.L09', 'BLANK52.9B', 'STAFS.2016.065.L09', 'BLANK52.10G', 'BLANK52.11A', 'BLANK52.12D', 'BLANK52.10E', 'SHSU.STAFS2016.024.L10', 'CSU.extraction.blank15', 'BLANK52.12F', 'BLANK52.9F', 'BLANK52.11B', 'STAFS.2016.064.R09', 'BLANK52.10A', 'SHSU.STAFS2016.007.L09', 'CSU.extraction.blank9', '#q2:types', 'SHSU.STAFS2016.007.R10', 'BLANK52.11E', 'BLANK52.12G', 'BLANK52.9D', 'BLANK52.11H', 'BLANK52.11G', 'BLANK52.12E', 'BLANK52.12H', 'STAFS.2016.067.R12', 'BLANK52.10H', 'CSU.extraction.blank5', 'BLANK52.10C', 'CSU.extraction.blank3', 'CSU.extraction.blank7', 'STAFS.2016.067.L11.march', 'BLANK52.12C', 'BLANK52.9E'}\n"
     ]
    }
   ],
   "source": [
    "exp_L4 = ca.read_amplicon('/Users/heatherdeel/Dropbox/PMI_3_analyses/bone/02_18S/Hiseq_original_run/forward_reads_only/01_qiime2_analysis/03_feature_tables/collapsed_tables/18S_plate52_ribonly_table_full_taxfiltered_214940_L4.biom', '/Users/heatherdeel/Dropbox/PMI_3_analyses/bone/02_18S/Hiseq_original_run/forward_reads_only/02_metadata/map_18S.txt', min_reads=0, normalize=None)\n"
   ]
  },
  {
   "cell_type": "code",
   "execution_count": 96,
   "metadata": {},
   "outputs": [
    {
     "data": {
      "text/plain": [
       "STAFS2016.064    7\n",
       "STAFS2016.067    6\n",
       "STAFS2016.065    5\n",
       "Name: host_subject_id, dtype: int64"
      ]
     },
     "execution_count": 96,
     "metadata": {},
     "output_type": "execute_result"
    }
   ],
   "source": [
    "#filtering out spring and defining this as \"Summer\"\n",
    "Summer_L4 = exp_L4.filter_samples('season', 'summer')\n",
    "Summer_L4.sample_metadata.host_subject_id.value_counts()"
   ]
  },
  {
   "cell_type": "code",
   "execution_count": 97,
   "metadata": {},
   "outputs": [
    {
     "name": "stdout",
     "output_type": "stream",
     "text": [
      "                                                                                          _feature_id\n",
      "D_0__Eukaryota;D_1__Amoebozoa;D_2__Cavosteliida...  D_0__Eukaryota;D_1__Amoebozoa;D_2__Cavosteliid...\n",
      "D_0__Eukaryota;D_1__Amoebozoa;D_2__Dictyostelia...  D_0__Eukaryota;D_1__Amoebozoa;D_2__Dictyosteli...\n",
      "D_0__Eukaryota;D_1__Amoebozoa;D_2__Discosea;D_3...  D_0__Eukaryota;D_1__Amoebozoa;D_2__Discosea;D_...\n",
      "D_0__Eukaryota;D_1__Amoebozoa;D_2__Discosea;D_3...  D_0__Eukaryota;D_1__Amoebozoa;D_2__Discosea;D_...\n",
      "D_0__Eukaryota;D_1__Amoebozoa;D_2__Gracilipodid...  D_0__Eukaryota;D_1__Amoebozoa;D_2__Gracilipodi...\n",
      "D_0__Eukaryota;D_1__Amoebozoa;D_2__Incertae Sed...  D_0__Eukaryota;D_1__Amoebozoa;D_2__Incertae Se...\n",
      "D_0__Eukaryota;D_1__Amoebozoa;D_2__Mycamoeba;D_...  D_0__Eukaryota;D_1__Amoebozoa;D_2__Mycamoeba;D...\n",
      "D_0__Eukaryota;D_1__Amoebozoa;D_2__Myxogastria;...  D_0__Eukaryota;D_1__Amoebozoa;D_2__Myxogastria...\n",
      "D_0__Eukaryota;D_1__Amoebozoa;D_2__Myxogastria;...  D_0__Eukaryota;D_1__Amoebozoa;D_2__Myxogastria...\n",
      "D_0__Eukaryota;D_1__Amoebozoa;D_2__Schizoplasmo...  D_0__Eukaryota;D_1__Amoebozoa;D_2__Schizoplasm...\n",
      "D_0__Eukaryota;D_1__Amoebozoa;D_2__Tubulinea;D_...  D_0__Eukaryota;D_1__Amoebozoa;D_2__Tubulinea;D...\n",
      "D_0__Eukaryota;D_1__Amoebozoa;D_2__Tubulinea;D_...  D_0__Eukaryota;D_1__Amoebozoa;D_2__Tubulinea;D...\n",
      "D_0__Eukaryota;D_1__Amoebozoa;D_2__Tubulinea;D_...  D_0__Eukaryota;D_1__Amoebozoa;D_2__Tubulinea;D...\n",
      "D_0__Eukaryota;D_1__Amoebozoa;D_2__Tubulinea;__       D_0__Eukaryota;D_1__Amoebozoa;D_2__Tubulinea;__\n",
      "D_0__Eukaryota;D_1__Amoebozoa;D_2__metagenome;D...  D_0__Eukaryota;D_1__Amoebozoa;D_2__metagenome;...\n",
      "D_0__Eukaryota;D_1__Amoebozoa;D_2__uncultured;D...  D_0__Eukaryota;D_1__Amoebozoa;D_2__uncultured;...\n",
      "D_0__Eukaryota;D_1__Cryptophyceae;D_2__Cryptomo...  D_0__Eukaryota;D_1__Cryptophyceae;D_2__Cryptom...\n",
      "D_0__Eukaryota;D_1__Excavata;D_2__Discoba;D_3__...  D_0__Eukaryota;D_1__Excavata;D_2__Discoba;D_3_...\n",
      "D_0__Eukaryota;D_1__Excavata;D_2__Metamonada;D_...  D_0__Eukaryota;D_1__Excavata;D_2__Metamonada;D...\n",
      "D_0__Eukaryota;D_1__Opisthokonta;D_2__Holozoa;D...  D_0__Eukaryota;D_1__Opisthokonta;D_2__Holozoa;...\n",
      "D_0__Eukaryota;D_1__Opisthokonta;D_2__Holozoa;D...  D_0__Eukaryota;D_1__Opisthokonta;D_2__Holozoa;...\n",
      "D_0__Eukaryota;D_1__Opisthokonta;D_2__Holozoa;__     D_0__Eukaryota;D_1__Opisthokonta;D_2__Holozoa;__\n",
      "D_0__Eukaryota;D_1__Opisthokonta;D_2__Nucletmyc...  D_0__Eukaryota;D_1__Opisthokonta;D_2__Nucletmy...\n",
      "D_0__Eukaryota;D_1__Opisthokonta;D_2__Nucletmyc...  D_0__Eukaryota;D_1__Opisthokonta;D_2__Nucletmy...\n",
      "D_0__Eukaryota;D_1__Opisthokonta;__;__                         D_0__Eukaryota;D_1__Opisthokonta;__;__\n",
      "D_0__Eukaryota;D_1__SAR;D_2__Alveolata;D_3__Api...  D_0__Eukaryota;D_1__SAR;D_2__Alveolata;D_3__Ap...\n",
      "D_0__Eukaryota;D_1__SAR;D_2__Alveolata;D_3__Cil...  D_0__Eukaryota;D_1__SAR;D_2__Alveolata;D_3__Ci...\n",
      "D_0__Eukaryota;D_1__SAR;D_2__Alveolata;D_3__Din...  D_0__Eukaryota;D_1__SAR;D_2__Alveolata;D_3__Di...\n",
      "D_0__Eukaryota;D_1__SAR;D_2__Alveolata;D_3__Pro...  D_0__Eukaryota;D_1__SAR;D_2__Alveolata;D_3__Pr...\n",
      "D_0__Eukaryota;D_1__SAR;D_2__Alveolata;__                   D_0__Eukaryota;D_1__SAR;D_2__Alveolata;__\n",
      "D_0__Eukaryota;D_1__SAR;D_2__Rhizaria;D_3__Cerc...  D_0__Eukaryota;D_1__SAR;D_2__Rhizaria;D_3__Cer...\n",
      "D_0__Eukaryota;D_1__SAR;D_2__Stramenopiles;D_3_...  D_0__Eukaryota;D_1__SAR;D_2__Stramenopiles;D_3...\n",
      "D_0__Eukaryota;D_1__SAR;D_2__Stramenopiles;D_3_...  D_0__Eukaryota;D_1__SAR;D_2__Stramenopiles;D_3...\n",
      "D_0__Eukaryota;D_1__SAR;D_2__Stramenopiles;D_3_...  D_0__Eukaryota;D_1__SAR;D_2__Stramenopiles;D_3...\n",
      "D_0__Eukaryota;D_1__SAR;D_2__Stramenopiles;D_3_...  D_0__Eukaryota;D_1__SAR;D_2__Stramenopiles;D_3...\n",
      "D_0__Eukaryota;D_1__SAR;D_2__Stramenopiles;D_3_...  D_0__Eukaryota;D_1__SAR;D_2__Stramenopiles;D_3...\n",
      "D_0__Eukaryota;D_1__SAR;D_2__Stramenopiles;D_3_...  D_0__Eukaryota;D_1__SAR;D_2__Stramenopiles;D_3...\n",
      "D_0__Eukaryota;D_1__SAR;D_2__Stramenopiles;__           D_0__Eukaryota;D_1__SAR;D_2__Stramenopiles;__\n",
      "D_0__Eukaryota;D_1__SAR;__;__                                           D_0__Eukaryota;D_1__SAR;__;__\n",
      "D_0__Eukaryota;__;__;__                                                       D_0__Eukaryota;__;__;__\n"
     ]
    }
   ],
   "source": [
    "print(Summer_L4.feature_metadata)"
   ]
  },
  {
   "cell_type": "markdown",
   "metadata": {},
   "source": [
    "## Running the L4 model"
   ]
  },
  {
   "cell_type": "code",
   "execution_count": 98,
   "metadata": {},
   "outputs": [],
   "source": [
    "# groupKfold = 3, will leave out one body for each model\n",
    "gkf = GroupKFold(3)\n",
    "\n",
    "X = Summer_L4.data\n",
    "y = Summer_L4.sample_metadata['ADD']\n",
    "y = (y.astype(float))\n",
    "\n",
    "groups = Summer_L4.sample_metadata['host_subject_id']\n",
    "\n",
    "# used to test the param grid for parameter tuning\n",
    "# use the output of this estimator below for input into new estimator (not commented out)\n",
    "param_grid = {\"max_depth\": [4, 8, 16, None],\n",
    "              \"max_features\": ['sqrt', 'log2', 0.1],\n",
    "              \"min_samples_split\": [0.001, 0.01, 0.1],\n",
    "              \"min_weight_fraction_leaf\": [0.0001, 0.001, 0.01],\n",
    "              \"bootstrap\": [True, False]}\n",
    "\n",
    "#param_grid = {\"max_depth\": [8],\n",
    "#          \"max_features\": [0.1],\n",
    "#          \"min_samples_split\": [0.001],\n",
    "#          \"min_weight_fraction_leaf\": [0.0001],\n",
    "#          \"bootstrap\": [False]}\n",
    "\n",
    "rf = RandomForestRegressor(n_estimators=1000, random_state=999, criterion='mae')\n",
    "gs = GridSearchCV(rf, param_grid=param_grid, cv=gkf.split(X, y, groups), scoring='neg_mean_absolute_error', n_jobs=1)"
   ]
  },
  {
   "cell_type": "code",
   "execution_count": 99,
   "metadata": {},
   "outputs": [
    {
     "data": {
      "text/plain": [
       "GridSearchCV(cv=<generator object _BaseKFold.split at 0x11fb1d2d0>,\n",
       "             error_score=nan,\n",
       "             estimator=RandomForestRegressor(bootstrap=True, ccp_alpha=0.0,\n",
       "                                             criterion='mae', max_depth=None,\n",
       "                                             max_features='auto',\n",
       "                                             max_leaf_nodes=None,\n",
       "                                             max_samples=None,\n",
       "                                             min_impurity_decrease=0.0,\n",
       "                                             min_impurity_split=None,\n",
       "                                             min_samples_leaf=1,\n",
       "                                             min_samples_split=2,\n",
       "                                             min_weight_fraction_leaf=0.0,\n",
       "                                             n_es...\n",
       "                                             oob_score=False, random_state=999,\n",
       "                                             verbose=0, warm_start=False),\n",
       "             iid='deprecated', n_jobs=1,\n",
       "             param_grid={'bootstrap': [True, False],\n",
       "                         'max_depth': [4, 8, 16, None],\n",
       "                         'max_features': ['sqrt', 'log2', 0.1],\n",
       "                         'min_samples_split': [0.001, 0.01, 0.1],\n",
       "                         'min_weight_fraction_leaf': [0.0001, 0.001, 0.01]},\n",
       "             pre_dispatch='2*n_jobs', refit=True, return_train_score=False,\n",
       "             scoring='neg_mean_absolute_error', verbose=0)"
      ]
     },
     "execution_count": 99,
     "metadata": {},
     "output_type": "execute_result"
    }
   ],
   "source": [
    "gs.fit(X, y)"
   ]
  },
  {
   "cell_type": "code",
   "execution_count": 100,
   "metadata": {},
   "outputs": [
    {
     "name": "stdout",
     "output_type": "stream",
     "text": [
      "{'bootstrap': False, 'max_depth': 8, 'max_features': 'sqrt', 'min_samples_split': 0.001, 'min_weight_fraction_leaf': 0.0001}\n"
     ]
    }
   ],
   "source": [
    "# this line is used when run with the first param grid to determine what the best parameters are for tuning\n",
    "print(gs.best_params_)"
   ]
  },
  {
   "cell_type": "code",
   "execution_count": 101,
   "metadata": {},
   "outputs": [
    {
     "name": "stdout",
     "output_type": "stream",
     "text": [
      "The best mean absolute error is 904.18\n"
     ]
    }
   ],
   "source": [
    "print('The best mean absolute error is', round(-gs.best_score_,2))"
   ]
  },
  {
   "cell_type": "code",
   "execution_count": 102,
   "metadata": {},
   "outputs": [
    {
     "data": {
      "text/plain": [
       "['models/bone_summer_18S_L4.pkl']"
      ]
     },
     "execution_count": 102,
     "metadata": {},
     "output_type": "execute_result"
    }
   ],
   "source": [
    "joblib.dump(gs.best_estimator_, 'models/bone_summer_18S_L4.pkl')"
   ]
  },
  {
   "cell_type": "code",
   "execution_count": 103,
   "metadata": {},
   "outputs": [
    {
     "data": {
      "text/plain": [
       "RandomForestRegressor(bootstrap=False, ccp_alpha=0.0, criterion='mae',\n",
       "                      max_depth=8, max_features='sqrt', max_leaf_nodes=None,\n",
       "                      max_samples=None, min_impurity_decrease=0.0,\n",
       "                      min_impurity_split=None, min_samples_leaf=1,\n",
       "                      min_samples_split=0.001, min_weight_fraction_leaf=0.0001,\n",
       "                      n_estimators=1000, n_jobs=None, oob_score=False,\n",
       "                      random_state=999, verbose=0, warm_start=False)"
      ]
     },
     "execution_count": 103,
     "metadata": {},
     "output_type": "execute_result"
    }
   ],
   "source": [
    "bone_summer_L4 = joblib.load('models/bone_summer_18S_L4.pkl')\n",
    "bone_summer_L4"
   ]
  },
  {
   "cell_type": "markdown",
   "metadata": {},
   "source": [
    "## Determine important features of the L4 model"
   ]
  },
  {
   "cell_type": "code",
   "execution_count": 104,
   "metadata": {},
   "outputs": [
    {
     "name": "stdout",
     "output_type": "stream",
     "text": [
      "Feature:\t\t\t\tImportance:\n",
      "1. D_0__Eukaryota;D_1__Opisthokonta;D_2__Holozoa;D_3__Metazoa (Animalia)\t0.11537907510790993\n",
      "2. D_0__Eukaryota;D_1__Amoebozoa;D_2__Tubulinea;D_3__Euamoebida\t0.10879095257152173\n",
      "3. D_0__Eukaryota;D_1__SAR;D_2__Alveolata;__\t0.0778651285501217\n",
      "4. D_0__Eukaryota;D_1__SAR;D_2__Alveolata;D_3__Apicomplexa\t0.07110421496753404\n",
      "5. D_0__Eukaryota;__;__;__\t0.06770191759458177\n",
      "6. D_0__Eukaryota;D_1__Opisthokonta;D_2__Holozoa;__\t0.06276389843555816\n",
      "7. D_0__Eukaryota;D_1__Opisthokonta;D_2__Nucletmycea;D_3__Fungi\t0.060727734797413904\n",
      "8. D_0__Eukaryota;D_1__SAR;D_2__Stramenopiles;D_3__Labyrinthulomycetes\t0.04096948302876602\n",
      "9. D_0__Eukaryota;D_1__Opisthokonta;__;__\t0.03504670431874672\n",
      "10. D_0__Eukaryota;D_1__SAR;D_2__Rhizaria;D_3__Cercozoa\t0.02924095499736783\n",
      "11. D_0__Eukaryota;D_1__Amoebozoa;D_2__Discosea;D_3__Longamoebia\t0.02763083631888977\n",
      "12. D_0__Eukaryota;D_1__SAR;D_2__Alveolata;D_3__Ciliophora\t0.02691121768356815\n",
      "13. D_0__Eukaryota;D_1__SAR;D_2__Stramenopiles;D_3__Bicosoecida\t0.025144694554729195\n",
      "14. D_0__Eukaryota;D_1__SAR;D_2__Stramenopiles;D_3__Ochrophyta\t0.023818063365109162\n",
      "15. D_0__Eukaryota;D_1__Opisthokonta;D_2__Nucletmycea;D_3__Nucleariidae and Fonticula group\t0.0230995744016103\n",
      "16. D_0__Eukaryota;D_1__SAR;D_2__Alveolata;D_3__Protalveolata\t0.021517621385945984\n",
      "17. D_0__Eukaryota;D_1__Excavata;D_2__Discoba;D_3__Discicristata\t0.020187908977928177\n",
      "18. D_0__Eukaryota;D_1__SAR;D_2__Stramenopiles;D_3__Peronosporomycetes\t0.018614809584500795\n",
      "19. D_0__Eukaryota;D_1__Amoebozoa;D_2__Discosea;D_3__Flabellinia\t0.016388077709981838\n",
      "20. D_0__Eukaryota;D_1__Amoebozoa;D_2__Tubulinea;D_3__Arcellinida\t0.01442218373989974\n",
      "21. D_0__Eukaryota;D_1__SAR;D_2__Stramenopiles;D_3__Hyphochytriomycetes\t0.013921847983173146\n",
      "22. D_0__Eukaryota;D_1__Amoebozoa;D_2__Dictyostelia;D_3__Dictyostelium\t0.013272662371030633\n",
      "23. D_0__Eukaryota;D_1__SAR;D_2__Stramenopiles;__\t0.012065311936600046\n",
      "24. D_0__Eukaryota;D_1__Opisthokonta;D_2__Holozoa;D_3__Ichthyosporea\t0.01086958680628379\n",
      "25. D_0__Eukaryota;D_1__SAR;D_2__Alveolata;D_3__Dinoflagellata\t0.008743145425156437\n"
     ]
    }
   ],
   "source": [
    "importances = bone_summer_L4.feature_importances_\n",
    "std = np.std([tree.feature_importances_ for tree in bone_summer_L4.estimators_],\n",
    "             axis=0)\n",
    "indices = np.argsort(importances)[::-1]\n",
    "\n",
    "feature_metadata = Summer_L4.feature_metadata\n",
    "np.savetxt(\"importances/bone_summer_18S_L4_features.csv\", feature_metadata, delimiter=\",\", fmt='%s')\n",
    "\n",
    "\n",
    "#print the important ids in order\n",
    "general_importances = []\n",
    "count = 0\n",
    "print(\"Feature:\\t\\t\\t\\tImportance:\")\n",
    "for i in indices:\n",
    "    general_importances += (Summer_L4.feature_metadata.index.values[i], importances[indices[count]])\n",
    "    if count < 25:\n",
    "        print(str(count+1)+\". \"+str(Summer_L4.feature_metadata.index.values[i])+\"\\t\"+str(importances[indices[count]]))\n",
    "    count += 1\n",
    "    \n",
    "general_importances_df = pd.DataFrame(np.array(general_importances).reshape(80,1))\n",
    "\n",
    "np.savetxt(\"importances/bone_summer_18S_L4_importances.csv\", general_importances_df, delimiter=\",\", fmt='%s')"
   ]
  },
  {
   "cell_type": "markdown",
   "metadata": {},
   "source": [
    "## Import rarefied data collapsed at level 3"
   ]
  },
  {
   "cell_type": "code",
   "execution_count": 105,
   "metadata": {},
   "outputs": [
    {
     "name": "stdout",
     "output_type": "stream",
     "text": [
      "2020-07-02 14:53:45 WARNING These have metadata but do not have data - dropped (59): {'STAFS.2016.065.L10', 'CSU.extraction.blank11', 'STAFS.2016.065.L11', 'BLANK52.9A', 'BLANK52.9H', 'CSU.extraction.blank1', 'BLANK52.9C', 'BLANK52.10D', 'BLANK52.12A', 'CSU.extraction.blank12', 'CSU.extraction.blank6', 'CSU.extraction.blank4', 'CSU.extraction.blank8', 'CSU.extraction.blank13', 'BLANK52.11D', 'BLANK52.12B', 'BLANK52.9G', 'CSU.extraction.blank10', 'CSU.extraction.blank2', 'BLANK52.11F', 'BLANK52.5B', 'BLANK52.10F', 'BLANK52.11C', 'CSU.extraction.blank14', 'BLANK52.10B', 'SHSU.STAFS2016.011.L09', 'BLANK52.9B', 'STAFS.2016.065.L09', 'BLANK52.10G', 'BLANK52.11A', 'BLANK52.12D', 'BLANK52.10E', 'SHSU.STAFS2016.024.L10', 'CSU.extraction.blank15', 'BLANK52.12F', 'BLANK52.9F', 'BLANK52.11B', 'STAFS.2016.064.R09', 'BLANK52.10A', 'SHSU.STAFS2016.007.L09', 'CSU.extraction.blank9', '#q2:types', 'SHSU.STAFS2016.007.R10', 'BLANK52.11E', 'BLANK52.12G', 'BLANK52.9D', 'BLANK52.11H', 'BLANK52.11G', 'BLANK52.12E', 'BLANK52.12H', 'STAFS.2016.067.R12', 'BLANK52.10H', 'CSU.extraction.blank5', 'BLANK52.10C', 'CSU.extraction.blank3', 'CSU.extraction.blank7', 'STAFS.2016.067.L11.march', 'BLANK52.12C', 'BLANK52.9E'}\n"
     ]
    }
   ],
   "source": [
    "exp_L3 = ca.read_amplicon('/Users/heatherdeel/Dropbox/PMI_3_analyses/bone/02_18S/Hiseq_original_run/forward_reads_only/01_qiime2_analysis/03_feature_tables/collapsed_tables/18S_plate52_ribonly_table_full_taxfiltered_214940_L3.biom', '/Users/heatherdeel/Dropbox/PMI_3_analyses/bone/02_18S/Hiseq_original_run/forward_reads_only/02_metadata/map_18S.txt', min_reads=0, normalize=None)\n"
   ]
  },
  {
   "cell_type": "code",
   "execution_count": 106,
   "metadata": {},
   "outputs": [
    {
     "data": {
      "text/plain": [
       "STAFS2016.064    7\n",
       "STAFS2016.067    6\n",
       "STAFS2016.065    5\n",
       "Name: host_subject_id, dtype: int64"
      ]
     },
     "execution_count": 106,
     "metadata": {},
     "output_type": "execute_result"
    }
   ],
   "source": [
    "#filtering out spring and defining this as \"Summer\"\n",
    "Summer_L3 = exp_L3.filter_samples('season', 'summer')\n",
    "Summer_L3.sample_metadata.host_subject_id.value_counts()"
   ]
  },
  {
   "cell_type": "code",
   "execution_count": 107,
   "metadata": {},
   "outputs": [
    {
     "name": "stdout",
     "output_type": "stream",
     "text": [
      "                                                                                          _feature_id\n",
      "D_0__Eukaryota;D_1__Amoebozoa;D_2__Cavosteliida       D_0__Eukaryota;D_1__Amoebozoa;D_2__Cavosteliida\n",
      "D_0__Eukaryota;D_1__Amoebozoa;D_2__Dictyostelia       D_0__Eukaryota;D_1__Amoebozoa;D_2__Dictyostelia\n",
      "D_0__Eukaryota;D_1__Amoebozoa;D_2__Discosea               D_0__Eukaryota;D_1__Amoebozoa;D_2__Discosea\n",
      "D_0__Eukaryota;D_1__Amoebozoa;D_2__Gracilipodida     D_0__Eukaryota;D_1__Amoebozoa;D_2__Gracilipodida\n",
      "D_0__Eukaryota;D_1__Amoebozoa;D_2__Incertae Sedis   D_0__Eukaryota;D_1__Amoebozoa;D_2__Incertae Sedis\n",
      "D_0__Eukaryota;D_1__Amoebozoa;D_2__Mycamoeba             D_0__Eukaryota;D_1__Amoebozoa;D_2__Mycamoeba\n",
      "D_0__Eukaryota;D_1__Amoebozoa;D_2__Myxogastria         D_0__Eukaryota;D_1__Amoebozoa;D_2__Myxogastria\n",
      "D_0__Eukaryota;D_1__Amoebozoa;D_2__Schizoplasmo...  D_0__Eukaryota;D_1__Amoebozoa;D_2__Schizoplasm...\n",
      "D_0__Eukaryota;D_1__Amoebozoa;D_2__Tubulinea             D_0__Eukaryota;D_1__Amoebozoa;D_2__Tubulinea\n",
      "D_0__Eukaryota;D_1__Amoebozoa;D_2__metagenome           D_0__Eukaryota;D_1__Amoebozoa;D_2__metagenome\n",
      "D_0__Eukaryota;D_1__Amoebozoa;D_2__uncultured           D_0__Eukaryota;D_1__Amoebozoa;D_2__uncultured\n",
      "D_0__Eukaryota;D_1__Cryptophyceae;D_2__Cryptomo...  D_0__Eukaryota;D_1__Cryptophyceae;D_2__Cryptom...\n",
      "D_0__Eukaryota;D_1__Excavata;D_2__Discoba                   D_0__Eukaryota;D_1__Excavata;D_2__Discoba\n",
      "D_0__Eukaryota;D_1__Excavata;D_2__Metamonada             D_0__Eukaryota;D_1__Excavata;D_2__Metamonada\n",
      "D_0__Eukaryota;D_1__Opisthokonta;D_2__Holozoa           D_0__Eukaryota;D_1__Opisthokonta;D_2__Holozoa\n",
      "D_0__Eukaryota;D_1__Opisthokonta;D_2__Nucletmycea   D_0__Eukaryota;D_1__Opisthokonta;D_2__Nucletmycea\n",
      "D_0__Eukaryota;D_1__Opisthokonta;__                               D_0__Eukaryota;D_1__Opisthokonta;__\n",
      "D_0__Eukaryota;D_1__SAR;D_2__Alveolata                         D_0__Eukaryota;D_1__SAR;D_2__Alveolata\n",
      "D_0__Eukaryota;D_1__SAR;D_2__Rhizaria                           D_0__Eukaryota;D_1__SAR;D_2__Rhizaria\n",
      "D_0__Eukaryota;D_1__SAR;D_2__Stramenopiles                 D_0__Eukaryota;D_1__SAR;D_2__Stramenopiles\n",
      "D_0__Eukaryota;D_1__SAR;__                                                 D_0__Eukaryota;D_1__SAR;__\n",
      "D_0__Eukaryota;__;__                                                             D_0__Eukaryota;__;__\n"
     ]
    }
   ],
   "source": [
    "print(Summer_L3.feature_metadata)"
   ]
  },
  {
   "cell_type": "markdown",
   "metadata": {},
   "source": [
    "## Running the L3 model"
   ]
  },
  {
   "cell_type": "code",
   "execution_count": 108,
   "metadata": {},
   "outputs": [],
   "source": [
    "# groupKfold = 3, will leave out one body for each model\n",
    "gkf = GroupKFold(3)\n",
    "\n",
    "X = Summer_L3.data\n",
    "y = Summer_L3.sample_metadata['ADD']\n",
    "y = (y.astype(float))\n",
    "\n",
    "groups = Summer_L3.sample_metadata['host_subject_id']\n",
    "\n",
    "# used to test the param grid for parameter tuning\n",
    "# use the output of this estimator below for input into new estimator (not commented out)\n",
    "param_grid = {\"max_depth\": [4, 8, 16, None],\n",
    "              \"max_features\": ['sqrt', 'log2', 0.1],\n",
    "              \"min_samples_split\": [0.001, 0.01, 0.1],\n",
    "              \"min_weight_fraction_leaf\": [0.0001, 0.001, 0.01],\n",
    "              \"bootstrap\": [True, False]}\n",
    "\n",
    "#param_grid = {\"max_depth\": [8],\n",
    "#          \"max_features\": [0.1],\n",
    "#          \"min_samples_split\": [0.001],\n",
    "#          \"min_weight_fraction_leaf\": [0.0001],\n",
    "#          \"bootstrap\": [False]}\n",
    "\n",
    "rf = RandomForestRegressor(n_estimators=1000, random_state=999, criterion='mae')\n",
    "gs = GridSearchCV(rf, param_grid=param_grid, cv=gkf.split(X, y, groups), scoring='neg_mean_absolute_error', n_jobs=1)"
   ]
  },
  {
   "cell_type": "code",
   "execution_count": 109,
   "metadata": {},
   "outputs": [
    {
     "data": {
      "text/plain": [
       "GridSearchCV(cv=<generator object _BaseKFold.split at 0x11fd15550>,\n",
       "             error_score=nan,\n",
       "             estimator=RandomForestRegressor(bootstrap=True, ccp_alpha=0.0,\n",
       "                                             criterion='mae', max_depth=None,\n",
       "                                             max_features='auto',\n",
       "                                             max_leaf_nodes=None,\n",
       "                                             max_samples=None,\n",
       "                                             min_impurity_decrease=0.0,\n",
       "                                             min_impurity_split=None,\n",
       "                                             min_samples_leaf=1,\n",
       "                                             min_samples_split=2,\n",
       "                                             min_weight_fraction_leaf=0.0,\n",
       "                                             n_es...\n",
       "                                             oob_score=False, random_state=999,\n",
       "                                             verbose=0, warm_start=False),\n",
       "             iid='deprecated', n_jobs=1,\n",
       "             param_grid={'bootstrap': [True, False],\n",
       "                         'max_depth': [4, 8, 16, None],\n",
       "                         'max_features': ['sqrt', 'log2', 0.1],\n",
       "                         'min_samples_split': [0.001, 0.01, 0.1],\n",
       "                         'min_weight_fraction_leaf': [0.0001, 0.001, 0.01]},\n",
       "             pre_dispatch='2*n_jobs', refit=True, return_train_score=False,\n",
       "             scoring='neg_mean_absolute_error', verbose=0)"
      ]
     },
     "execution_count": 109,
     "metadata": {},
     "output_type": "execute_result"
    }
   ],
   "source": [
    "gs.fit(X, y)"
   ]
  },
  {
   "cell_type": "code",
   "execution_count": 110,
   "metadata": {},
   "outputs": [
    {
     "name": "stdout",
     "output_type": "stream",
     "text": [
      "{'bootstrap': False, 'max_depth': 8, 'max_features': 'sqrt', 'min_samples_split': 0.001, 'min_weight_fraction_leaf': 0.0001}\n"
     ]
    }
   ],
   "source": [
    "# this line is used when run with the first param grid to determine what the best parameters are for tuning\n",
    "print(gs.best_params_)"
   ]
  },
  {
   "cell_type": "code",
   "execution_count": 111,
   "metadata": {},
   "outputs": [
    {
     "name": "stdout",
     "output_type": "stream",
     "text": [
      "The best mean absolute error is 958.75\n"
     ]
    }
   ],
   "source": [
    "print('The best mean absolute error is', round(-gs.best_score_,2))"
   ]
  },
  {
   "cell_type": "code",
   "execution_count": 112,
   "metadata": {},
   "outputs": [
    {
     "data": {
      "text/plain": [
       "['models/bone_summer_18S_L3.pkl']"
      ]
     },
     "execution_count": 112,
     "metadata": {},
     "output_type": "execute_result"
    }
   ],
   "source": [
    "joblib.dump(gs.best_estimator_, 'models/bone_summer_18S_L3.pkl')"
   ]
  },
  {
   "cell_type": "code",
   "execution_count": 113,
   "metadata": {},
   "outputs": [
    {
     "data": {
      "text/plain": [
       "RandomForestRegressor(bootstrap=False, ccp_alpha=0.0, criterion='mae',\n",
       "                      max_depth=8, max_features='sqrt', max_leaf_nodes=None,\n",
       "                      max_samples=None, min_impurity_decrease=0.0,\n",
       "                      min_impurity_split=None, min_samples_leaf=1,\n",
       "                      min_samples_split=0.001, min_weight_fraction_leaf=0.0001,\n",
       "                      n_estimators=1000, n_jobs=None, oob_score=False,\n",
       "                      random_state=999, verbose=0, warm_start=False)"
      ]
     },
     "execution_count": 113,
     "metadata": {},
     "output_type": "execute_result"
    }
   ],
   "source": [
    "bone_summer_L3 = joblib.load('models/bone_summer_18S_L3.pkl')\n",
    "bone_summer_L3"
   ]
  },
  {
   "cell_type": "markdown",
   "metadata": {},
   "source": [
    "## Determine important features of the L3 model"
   ]
  },
  {
   "cell_type": "code",
   "execution_count": 114,
   "metadata": {},
   "outputs": [
    {
     "name": "stdout",
     "output_type": "stream",
     "text": [
      "Feature:\t\t\t\tImportance:\n",
      "1. D_0__Eukaryota;D_1__Opisthokonta;D_2__Holozoa\t0.17097204100650593\n",
      "2. D_0__Eukaryota;D_1__Amoebozoa;D_2__Tubulinea\t0.16436830175254882\n",
      "3. D_0__Eukaryota;__;__\t0.11093485719085554\n",
      "4. D_0__Eukaryota;D_1__Opisthokonta;D_2__Nucletmycea\t0.10762872228667412\n",
      "5. D_0__Eukaryota;D_1__SAR;D_2__Stramenopiles\t0.09699542140590808\n",
      "6. D_0__Eukaryota;D_1__SAR;D_2__Alveolata\t0.06941753894983607\n",
      "7. D_0__Eukaryota;D_1__Opisthokonta;__\t0.05711401318925566\n",
      "8. D_0__Eukaryota;D_1__Excavata;D_2__Discoba\t0.04315143803713639\n",
      "9. D_0__Eukaryota;D_1__SAR;D_2__Rhizaria\t0.04180333984959237\n",
      "10. D_0__Eukaryota;D_1__Amoebozoa;D_2__Discosea\t0.03919230069184913\n",
      "11. D_0__Eukaryota;D_1__Amoebozoa;D_2__Dictyostelia\t0.020461864877141193\n",
      "12. D_0__Eukaryota;D_1__Amoebozoa;D_2__uncultured\t0.010992990735539094\n",
      "13. D_0__Eukaryota;D_1__Amoebozoa;D_2__Myxogastria\t0.010789421387289416\n",
      "14. D_0__Eukaryota;D_1__Amoebozoa;D_2__Mycamoeba\t0.010395780107393232\n",
      "15. D_0__Eukaryota;D_1__Amoebozoa;D_2__Schizoplasmodiida\t0.009305260450084616\n",
      "16. D_0__Eukaryota;D_1__Excavata;D_2__Metamonada\t0.008551326740504616\n",
      "17. D_0__Eukaryota;D_1__Amoebozoa;D_2__metagenome\t0.007568561092783597\n",
      "18. D_0__Eukaryota;D_1__Amoebozoa;D_2__Incertae Sedis\t0.0073752355685000525\n",
      "19. D_0__Eukaryota;D_1__Amoebozoa;D_2__Gracilipodida\t0.006861062812339443\n",
      "20. D_0__Eukaryota;D_1__SAR;__\t0.006120521868262586\n",
      "21. D_0__Eukaryota;D_1__Cryptophyceae;D_2__Cryptomonadales\t0.0\n",
      "22. D_0__Eukaryota;D_1__Amoebozoa;D_2__Cavosteliida\t0.0\n"
     ]
    }
   ],
   "source": [
    "importances = bone_summer_L3.feature_importances_\n",
    "std = np.std([tree.feature_importances_ for tree in bone_summer_L3.estimators_],\n",
    "             axis=0)\n",
    "indices = np.argsort(importances)[::-1]\n",
    "\n",
    "feature_metadata = Summer_L3.feature_metadata\n",
    "np.savetxt(\"importances/bone_summer_18S_L3_features.csv\", feature_metadata, delimiter=\",\", fmt='%s')\n",
    "\n",
    "\n",
    "#print the important ids in order\n",
    "general_importances = []\n",
    "count = 0\n",
    "print(\"Feature:\\t\\t\\t\\tImportance:\")\n",
    "for i in indices:\n",
    "    general_importances += (Summer_L3.feature_metadata.index.values[i], importances[indices[count]])\n",
    "    if count < 25:\n",
    "        print(str(count+1)+\". \"+str(Summer_L3.feature_metadata.index.values[i])+\"\\t\"+str(importances[indices[count]]))\n",
    "    count += 1\n",
    "    \n",
    "general_importances_df = pd.DataFrame(np.array(general_importances).reshape(44,1))\n",
    "\n",
    "np.savetxt(\"importances/bone_summer_18S_L3_importances.csv\", general_importances_df, delimiter=\",\", fmt='%s')"
   ]
  },
  {
   "cell_type": "markdown",
   "metadata": {},
   "source": [
    "## Import rarefied data collapsed at level 2"
   ]
  },
  {
   "cell_type": "code",
   "execution_count": 3,
   "metadata": {},
   "outputs": [
    {
     "name": "stdout",
     "output_type": "stream",
     "text": [
      "2021-06-01 14:02:06 WARNING These have metadata but do not have data - dropped (59): {'CSU.extraction.blank7', 'BLANK52.12A', 'BLANK52.11H', 'CSU.extraction.blank10', 'BLANK52.10B', 'BLANK52.12F', 'BLANK52.9D', 'BLANK52.10E', 'STAFS.2016.065.L11', 'BLANK52.9B', 'SHSU.STAFS2016.007.R10', 'CSU.extraction.blank13', 'BLANK52.12D', 'BLANK52.11A', 'BLANK52.9C', 'BLANK52.9G', 'BLANK52.10C', 'CSU.extraction.blank4', 'BLANK52.12C', 'BLANK52.11G', 'BLANK52.9A', 'BLANK52.11B', 'STAFS.2016.067.R12', 'CSU.extraction.blank11', 'BLANK52.9E', 'CSU.extraction.blank9', 'CSU.extraction.blank6', 'STAFS.2016.067.L11.march', 'CSU.extraction.blank12', 'BLANK52.10A', 'CSU.extraction.blank15', 'BLANK52.9H', 'BLANK52.11C', 'BLANK52.10D', '#q2:types', 'SHSU.STAFS2016.024.L10', 'BLANK52.12H', 'BLANK52.11E', 'STAFS.2016.064.R09', 'CSU.extraction.blank3', 'CSU.extraction.blank14', 'SHSU.STAFS2016.007.L09', 'STAFS.2016.065.L10', 'BLANK52.10G', 'SHSU.STAFS2016.011.L09', 'BLANK52.9F', 'BLANK52.11D', 'CSU.extraction.blank2', 'CSU.extraction.blank5', 'CSU.extraction.blank1', 'BLANK52.12E', 'STAFS.2016.065.L09', 'BLANK52.5B', 'CSU.extraction.blank8', 'BLANK52.12B', 'BLANK52.10F', 'BLANK52.10H', 'BLANK52.12G', 'BLANK52.11F'}\n"
     ]
    }
   ],
   "source": [
    "exp_L2 = ca.read_amplicon('/Users/heatherdeel/Dropbox/PMI_3_analyses/bone/02_18S/Hiseq_original_run/forward_reads_only/01_qiime2_analysis/03_feature_tables/collapsed_tables/18S_plate52_ribonly_table_full_taxfiltered_214940_L2.biom', '/Users/heatherdeel/Dropbox/PMI_3_analyses/bone/02_18S/Hiseq_original_run/forward_reads_only/02_metadata/map_18S.txt', min_reads=0, normalize=None)\n"
   ]
  },
  {
   "cell_type": "code",
   "execution_count": 4,
   "metadata": {},
   "outputs": [
    {
     "data": {
      "text/plain": [
       "STAFS2016.064    7\n",
       "STAFS2016.067    6\n",
       "STAFS2016.065    5\n",
       "Name: host_subject_id, dtype: int64"
      ]
     },
     "execution_count": 4,
     "metadata": {},
     "output_type": "execute_result"
    }
   ],
   "source": [
    "#filtering out spring and defining this as \"Summer\"\n",
    "Summer_L2 = exp_L2.filter_samples('season', 'summer')\n",
    "Summer_L2.sample_metadata.host_subject_id.value_counts()"
   ]
  },
  {
   "cell_type": "code",
   "execution_count": 5,
   "metadata": {},
   "outputs": [
    {
     "name": "stdout",
     "output_type": "stream",
     "text": [
      "                                                         _feature_id\n",
      "D_0__Eukaryota;D_1__Amoebozoa          D_0__Eukaryota;D_1__Amoebozoa\n",
      "D_0__Eukaryota;D_1__Cryptophyceae  D_0__Eukaryota;D_1__Cryptophyceae\n",
      "D_0__Eukaryota;D_1__Excavata            D_0__Eukaryota;D_1__Excavata\n",
      "D_0__Eukaryota;D_1__Opisthokonta    D_0__Eukaryota;D_1__Opisthokonta\n",
      "D_0__Eukaryota;D_1__SAR                      D_0__Eukaryota;D_1__SAR\n",
      "D_0__Eukaryota;__                                  D_0__Eukaryota;__\n"
     ]
    }
   ],
   "source": [
    "print(Summer_L2.feature_metadata)"
   ]
  },
  {
   "cell_type": "markdown",
   "metadata": {},
   "source": [
    "## Running the L2 model"
   ]
  },
  {
   "cell_type": "code",
   "execution_count": 118,
   "metadata": {},
   "outputs": [],
   "source": [
    "# groupKfold = 3, will leave out one body for each model\n",
    "gkf = GroupKFold(3)\n",
    "\n",
    "X = Summer_L2.data\n",
    "y = Summer_L2.sample_metadata['ADD']\n",
    "y = (y.astype(float))\n",
    "\n",
    "groups = Summer_L2.sample_metadata['host_subject_id']\n",
    "\n",
    "# used to test the param grid for parameter tuning\n",
    "# use the output of this estimator below for input into new estimator (not commented out)\n",
    "#param_grid = {\"max_depth\": [4, 8, 16, None],\n",
    "#              \"max_features\": ['sqrt', 'log2', 0.1],\n",
    "#              \"min_samples_split\": [0.001, 0.01, 0.1],\n",
    "              \"min_weight_fraction_leaf\": [0.0001, 0.001, 0.01],\n",
    "              \"bootstrap\": [True, False]}\n",
    "\n",
    "#param_grid = {\"max_depth\": [16],\n",
    "#          \"max_features\": [0.1],\n",
    "#          \"min_samples_split\": [0.001],\n",
    "#          \"min_weight_fraction_leaf\": [0.0001],\n",
    "#          \"bootstrap\": [False]}\n",
    "\n",
    "rf = RandomForestRegressor(n_estimators=1000, random_state=999, criterion='mae')\n",
    "gs = GridSearchCV(rf, param_grid=param_grid, cv=gkf.split(X, y, groups), scoring='neg_mean_absolute_error', n_jobs=1)"
   ]
  },
  {
   "cell_type": "code",
   "execution_count": 119,
   "metadata": {},
   "outputs": [
    {
     "data": {
      "text/plain": [
       "GridSearchCV(cv=<generator object _BaseKFold.split at 0x1201509d0>,\n",
       "             error_score=nan,\n",
       "             estimator=RandomForestRegressor(bootstrap=True, ccp_alpha=0.0,\n",
       "                                             criterion='mae', max_depth=None,\n",
       "                                             max_features='auto',\n",
       "                                             max_leaf_nodes=None,\n",
       "                                             max_samples=None,\n",
       "                                             min_impurity_decrease=0.0,\n",
       "                                             min_impurity_split=None,\n",
       "                                             min_samples_leaf=1,\n",
       "                                             min_samples_split=2,\n",
       "                                             min_weight_fraction_leaf=0.0,\n",
       "                                             n_es...\n",
       "                                             oob_score=False, random_state=999,\n",
       "                                             verbose=0, warm_start=False),\n",
       "             iid='deprecated', n_jobs=1,\n",
       "             param_grid={'bootstrap': [True, False],\n",
       "                         'max_depth': [4, 8, 16, None],\n",
       "                         'max_features': ['sqrt', 'log2', 0.1],\n",
       "                         'min_samples_split': [0.001, 0.01, 0.1],\n",
       "                         'min_weight_fraction_leaf': [0.0001, 0.001, 0.01]},\n",
       "             pre_dispatch='2*n_jobs', refit=True, return_train_score=False,\n",
       "             scoring='neg_mean_absolute_error', verbose=0)"
      ]
     },
     "execution_count": 119,
     "metadata": {},
     "output_type": "execute_result"
    }
   ],
   "source": [
    "gs.fit(X, y)"
   ]
  },
  {
   "cell_type": "code",
   "execution_count": 120,
   "metadata": {},
   "outputs": [
    {
     "name": "stdout",
     "output_type": "stream",
     "text": [
      "{'bootstrap': True, 'max_depth': 16, 'max_features': 0.1, 'min_samples_split': 0.001, 'min_weight_fraction_leaf': 0.0001}\n"
     ]
    }
   ],
   "source": [
    "# this line is used when run with the first param grid to determine what the best parameters are for tuning\n",
    "print(gs.best_params_)"
   ]
  },
  {
   "cell_type": "code",
   "execution_count": 121,
   "metadata": {},
   "outputs": [
    {
     "name": "stdout",
     "output_type": "stream",
     "text": [
      "The best mean absolute error is 1050.45\n"
     ]
    }
   ],
   "source": [
    "print('The best mean absolute error is', round(-gs.best_score_,2))"
   ]
  },
  {
   "cell_type": "code",
   "execution_count": 122,
   "metadata": {},
   "outputs": [
    {
     "data": {
      "text/plain": [
       "['models/bone_summer_18S_L2.pkl']"
      ]
     },
     "execution_count": 122,
     "metadata": {},
     "output_type": "execute_result"
    }
   ],
   "source": [
    "joblib.dump(gs.best_estimator_, 'models/bone_summer_18S_L2.pkl')"
   ]
  },
  {
   "cell_type": "code",
   "execution_count": 123,
   "metadata": {},
   "outputs": [
    {
     "data": {
      "text/plain": [
       "RandomForestRegressor(bootstrap=True, ccp_alpha=0.0, criterion='mae',\n",
       "                      max_depth=16, max_features=0.1, max_leaf_nodes=None,\n",
       "                      max_samples=None, min_impurity_decrease=0.0,\n",
       "                      min_impurity_split=None, min_samples_leaf=1,\n",
       "                      min_samples_split=0.001, min_weight_fraction_leaf=0.0001,\n",
       "                      n_estimators=1000, n_jobs=None, oob_score=False,\n",
       "                      random_state=999, verbose=0, warm_start=False)"
      ]
     },
     "execution_count": 123,
     "metadata": {},
     "output_type": "execute_result"
    }
   ],
   "source": [
    "bone_summer_L2 = joblib.load('models/bone_summer_18S_L2.pkl')\n",
    "bone_summer_L2"
   ]
  },
  {
   "cell_type": "markdown",
   "metadata": {},
   "source": [
    "## Determine important features of the L2 model"
   ]
  },
  {
   "cell_type": "code",
   "execution_count": 124,
   "metadata": {},
   "outputs": [
    {
     "name": "stdout",
     "output_type": "stream",
     "text": [
      "Feature:\t\t\t\tImportance:\n",
      "1. D_0__Eukaryota;D_1__Amoebozoa\t0.23473075537863164\n",
      "2. D_0__Eukaryota;__\t0.2020220631843998\n",
      "3. D_0__Eukaryota;D_1__Excavata\t0.19876165775846652\n",
      "4. D_0__Eukaryota;D_1__SAR\t0.18695092525057236\n",
      "5. D_0__Eukaryota;D_1__Opisthokonta\t0.17753459842792962\n",
      "6. D_0__Eukaryota;D_1__Cryptophyceae\t0.0\n"
     ]
    }
   ],
   "source": [
    "importances = bone_summer_L2.feature_importances_\n",
    "std = np.std([tree.feature_importances_ for tree in bone_summer_L2.estimators_],\n",
    "             axis=0)\n",
    "indices = np.argsort(importances)[::-1]\n",
    "\n",
    "feature_metadata = Summer_L2.feature_metadata\n",
    "np.savetxt(\"importances/bone_summer_18S_L2_features.csv\", feature_metadata, delimiter=\",\", fmt='%s')\n",
    "\n",
    "\n",
    "#print the important ids in order\n",
    "general_importances = []\n",
    "count = 0\n",
    "print(\"Feature:\\t\\t\\t\\tImportance:\")\n",
    "for i in indices:\n",
    "    general_importances += (Summer_L2.feature_metadata.index.values[i], importances[indices[count]])\n",
    "    if count < 25:\n",
    "        print(str(count+1)+\". \"+str(Summer_L2.feature_metadata.index.values[i])+\"\\t\"+str(importances[indices[count]]))\n",
    "    count += 1\n",
    "    \n",
    "general_importances_df = pd.DataFrame(np.array(general_importances).reshape(12,1))\n",
    "\n",
    "np.savetxt(\"importances/bone_summer_18S_L2_importances.csv\", general_importances_df, delimiter=\",\", fmt='%s')"
   ]
  },
  {
   "cell_type": "code",
   "execution_count": null,
   "metadata": {},
   "outputs": [],
   "source": []
  }
 ],
 "metadata": {
  "kernelspec": {
   "display_name": "Python 3",
   "language": "python",
   "name": "python3"
  },
  "language_info": {
   "codemirror_mode": {
    "name": "ipython",
    "version": 3
   },
   "file_extension": ".py",
   "mimetype": "text/x-python",
   "name": "python",
   "nbconvert_exporter": "python",
   "pygments_lexer": "ipython3",
   "version": "3.7.7"
  }
 },
 "nbformat": 4,
 "nbformat_minor": 4
}
