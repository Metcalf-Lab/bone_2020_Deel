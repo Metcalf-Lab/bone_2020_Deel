{
 "cells": [
  {
   "cell_type": "markdown",
   "metadata": {},
   "source": [
    "## Description"
   ]
  },
  {
   "cell_type": "markdown",
   "metadata": {},
   "source": [
    "Bone models of 16S rRNA data at level 2 (phylum), using the ml_new environment, rarefied data and no normalization during import, n = 1000 estimators, k fold = 6 (for regular, non-nested cross-validation), and hyperparameter tuning. Incorporates metadata features season, accumulated humidity, and accumulated precipitation in all combinations. "
   ]
  },
  {
   "cell_type": "code",
   "execution_count": 1,
   "metadata": {},
   "outputs": [
    {
     "name": "stderr",
     "output_type": "stream",
     "text": [
      "/Users/heatherdeel/miniconda3/envs/ml_new/lib/python3.7/site-packages/sklearn/externals/joblib/__init__.py:15: FutureWarning: sklearn.externals.joblib is deprecated in 0.21 and will be removed in 0.23. Please import this functionality directly from joblib, which can be installed with: pip install joblib. If this warning is raised when loading pickled models, you may need to re-serialize those models with scikit-learn 0.21+.\n",
      "  warnings.warn(msg, category=FutureWarning)\n"
     ]
    }
   ],
   "source": [
    "from sklearn.ensemble import RandomForestRegressor\n",
    "from sklearn import preprocessing, svm, metrics\n",
    "from sklearn.ensemble import RandomForestClassifier, ExtraTreesClassifier\n",
    "from sklearn.model_selection import StratifiedKFold, KFold, GridSearchCV, GroupKFold, cross_val_score, train_test_split\n",
    "from sklearn.pipeline import Pipeline\n",
    "from sklearn.svm import LinearSVC, SVR\n",
    "from sklearn.metrics import r2_score, mean_squared_error, mean_absolute_error, mean_absolute_error, roc_auc_score, precision_score, make_scorer\n",
    "from sklearn.linear_model import LassoCV, Lasso, LassoLarsIC, ElasticNet, LassoLarsCV\n",
    "from sklearn.externals import joblib\n",
    "from scipy.stats import randint as sp_randint\n",
    "from matplotlib import pyplot as plt\n",
    "from sklearn.feature_selection import RFECV\n",
    "from sklearn.gaussian_process import GaussianProcessClassifier\n",
    "from sklearn.gaussian_process.kernels import RBF\n",
    "from sklearn.neighbors import KNeighborsClassifier, RadiusNeighborsClassifier"
   ]
  },
  {
   "cell_type": "code",
   "execution_count": 2,
   "metadata": {},
   "outputs": [
    {
     "name": "stderr",
     "output_type": "stream",
     "text": [
      "/Users/heatherdeel/miniconda3/envs/ml_new/lib/python3.7/site-packages/skbio/util/_testing.py:15: FutureWarning: pandas.util.testing is deprecated. Use the functions in the public API at pandas.testing instead.\n",
      "  import pandas.util.testing as pdt\n"
     ]
    }
   ],
   "source": [
    "import pandas as pd\n",
    "import numpy as np\n",
    "import matplotlib\n",
    "import seaborn as sns\n",
    "%matplotlib inline\n",
    "import biom\n",
    "import calour as ca\n",
    "from scipy import stats\n",
    "import scipy\n",
    "import pickle\n",
    "import time\n",
    "import math\n",
    "import inspect\n",
    "pd.set_option('display.max_rows', 10000)"
   ]
  },
  {
   "cell_type": "markdown",
   "metadata": {},
   "source": [
    "## Import rarefied table collapsed at L2"
   ]
  },
  {
   "cell_type": "code",
   "execution_count": 3,
   "metadata": {},
   "outputs": [
    {
     "name": "stdout",
     "output_type": "stream",
     "text": [
      "2020-05-05 09:27:00 WARNING These have metadata but do not have data - dropped (51): {'11553.BLANKrib.5B', '11553.BLANKrib.9C', '11553.BLANKrib.10A', '11553.CSU.extraction.blank6', '11553.BLANKrib.9F', '11553.BLANKrib.12D', '11553.BLANKrib.10G', '11553.BLANKrib.11G', '11553.BLANKrib.10D', '11553.BLANKrib.11F', '11553.BLANKrib.11A', '11553.BLANKrib.12F', '11553.CSU.extraction.blank13', '11553.CSU.extraction.blank15', '11553.BLANKrib.9E', '11553.BLANKrib.11E', '11553.BLANKrib.12B', '11553.BLANKrib.12A', '11553.BLANKrib.12E', '11553.BLANKrib.10E', '11553.CSU.extraction.blank3', '11553.CSU.extraction.blank5', '11553.BLANKrib.10C', '11553.BLANKrib.11C', '11553.BLANKrib.11D', '11553.BLANKrib.10H', '11553.CSU.extraction.blank9', '11553.BLANKrib.10F', '11553.BLANKrib.9H', '11553.CSU.extraction.blank2', '11553.BLANKrib.9B', '11553.BLANKrib.11H', '11553.BLANKrib.10B', '11553.BLANKrib.12H', '11553.SHSU.STAFS2016.007.R11', '11553.CSU.extraction.blank4', '11553.CSU.extraction.blank10', '11553.CSU.extraction.blank1', '11553.BLANKrib.9D', '11553.CSU.extraction.blank12', '11553.STAFS.2016.064.L12', '11553.CSU.extraction.blank11', '11553.SHSU.STAFS2016.011.L09', '11553.BLANKrib.11B', '11553.BLANKrib.12C', '11553.CSU.extraction.blank14', '11553.BLANKrib.9G', '11553.CSU.extraction.blank7', '11553.BLANKrib.9A', '11553.CSU.extraction.blank8', '11553.BLANKrib.12G'}\n"
     ]
    }
   ],
   "source": [
    "exp_L2 = ca.read_amplicon('/Users/heatherdeel/Dropbox/PMI_3_analyses/bone/01_16S/01_qiime2_analysis/feature_tables/collapsed_tables/frag_ins_noChloMito_17098_L2_table.biom', '../02_metadata/maps/map3.txt', min_reads=0, normalize = None)\n"
   ]
  },
  {
   "cell_type": "code",
   "execution_count": 4,
   "metadata": {},
   "outputs": [
    {
     "data": {
      "text/plain": [
       "STAFS2016.011    8\n",
       "STAFS2016.067    8\n",
       "STAFS2016.065    8\n",
       "STAFS2016.064    7\n",
       "STAFS2016.007    7\n",
       "STAFS2016.024    7\n",
       "Name: host_subject_id, dtype: int64"
      ]
     },
     "execution_count": 4,
     "metadata": {},
     "output_type": "execute_result"
    }
   ],
   "source": [
    "exp_L2.sample_metadata['host_subject_id'].value_counts()"
   ]
  },
  {
   "cell_type": "code",
   "execution_count": 5,
   "metadata": {},
   "outputs": [
    {
     "data": {
      "text/plain": [
       "#SampleID\n",
       "11553.SHSU.STAFS2016.024.R09      708.0555556\n",
       "11553.STAFS.2016.065.L12          2268.055556\n",
       "11553.STAFS.2016.067.R12          2414.444444\n",
       "11553.SHSU.STAFS2016.007.L09      1911.111111\n",
       "11553.SHSU.STAFS2016.011.L08      1301.666667\n",
       "11553.STAFS.2016.065.R11          4756.388889\n",
       "11553.STAFS.2016.065.R09          3456.111111\n",
       "11553.SHSU.STAFS2016.024.L12      4285.833333\n",
       "11553.SHSU.STAFS2016.007.L11      2584.444444\n",
       "11553.SHSU.STAFS2016.011.L10      3777.222222\n",
       "11553.STAFS.2016.064.R10          3456.111111\n",
       "11553.SHSU.STAFS2016.024.R11      2584.444444\n",
       "11553.STAFS.2016.067.L11.june     5201.388889\n",
       "11553.SHSU.STAFS2016.007.R12      1301.666667\n",
       "11553.STAFS.2016.065.R10          2804.722222\n",
       "11553.STAFS.2016.064.R09          592.7777778\n",
       "11553.STAFS.2016.067.L10          3623.055556\n",
       "11553.SHSU.STAFS2016.011.R12      708.0555556\n",
       "11553.STAFS.2016.064.R11          1300.555556\n",
       "11553.SHSU.STAFS2016.011.L11      4285.833333\n",
       "11553.SHSU.STAFS2016.007.L10      4821.388889\n",
       "11553.STAFS.2016.065.R08          4013.333333\n",
       "11553.SHSU.STAFS2016.007.R10      708.0555556\n",
       "11553.STAFS.2016.064.R12          2035.277778\n",
       "11553.SHSU.STAFS2016.011.L12      3305.555556\n",
       "11553.SHSU.STAFS2016.024.L10      3305.555556\n",
       "11553.STAFS.2016.064.L11          2804.722222\n",
       "11553.STAFS.2016.064.L09          4013.333333\n",
       "11553.STAFS.2016.067.L11.march    3065.833333\n",
       "11553.STAFS.2016.067.R10                 1645\n",
       "11553.STAFS.2016.065.L10          1300.555556\n",
       "11553.SHSU.STAFS2016.011.R09      1911.111111\n",
       "11553.STAFS.2016.064.L10          4756.388889\n",
       "11553.STAFS.2016.067.R09          1877.777778\n",
       "11553.SHSU.STAFS2016.024.L11      4821.388889\n",
       "11553.SHSU.STAFS2016.007.L12      3305.555556\n",
       "11553.STAFS.2016.065.L09                877.5\n",
       "11553.SHSU.STAFS2016.024.R12      1911.111111\n",
       "11553.SHSU.STAFS2016.011.R10      2584.444444\n",
       "11553.STAFS.2016.067.L12          4366.111111\n",
       "11553.SHSU.STAFS2016.011.R08      1301.666667\n",
       "11553.SHSU.STAFS2016.007.R09      3777.222222\n",
       "11553.STAFS.2016.065.L11          2035.277778\n",
       "11553.SHSU.STAFS2016.024.L09      3777.222222\n",
       "11553.STAFS.2016.067.R11          1151.666667\n",
       "Name: ADD_0, dtype: object"
      ]
     },
     "execution_count": 5,
     "metadata": {},
     "output_type": "execute_result"
    }
   ],
   "source": [
    "exp_L2.sample_metadata['ADD_0']"
   ]
  },
  {
   "cell_type": "code",
   "execution_count": 6,
   "metadata": {},
   "outputs": [
    {
     "name": "stdout",
     "output_type": "stream",
     "text": [
      "                                                     _feature_id\n",
      "k__Archaea;p__Crenarchaeota          k__Archaea;p__Crenarchaeota\n",
      "k__Archaea;p__Euryarchaeota          k__Archaea;p__Euryarchaeota\n",
      "k__Bacteria;__                                    k__Bacteria;__\n",
      "k__Bacteria;p__Acidobacteria        k__Bacteria;p__Acidobacteria\n",
      "k__Bacteria;p__Actinobacteria      k__Bacteria;p__Actinobacteria\n",
      "k__Bacteria;p__Armatimonadetes    k__Bacteria;p__Armatimonadetes\n",
      "k__Bacteria;p__BRC1                          k__Bacteria;p__BRC1\n",
      "k__Bacteria;p__Bacteroidetes        k__Bacteria;p__Bacteroidetes\n",
      "k__Bacteria;p__Chlorobi                  k__Bacteria;p__Chlorobi\n",
      "k__Bacteria;p__Chloroflexi            k__Bacteria;p__Chloroflexi\n",
      "k__Bacteria;p__Cyanobacteria        k__Bacteria;p__Cyanobacteria\n",
      "k__Bacteria;p__Deferribacteres    k__Bacteria;p__Deferribacteres\n",
      "k__Bacteria;p__FBP                            k__Bacteria;p__FBP\n",
      "k__Bacteria;p__Firmicutes              k__Bacteria;p__Firmicutes\n",
      "k__Bacteria;p__Fusobacteria          k__Bacteria;p__Fusobacteria\n",
      "k__Bacteria;p__GN02                          k__Bacteria;p__GN02\n",
      "k__Bacteria;p__Gemmatimonadetes  k__Bacteria;p__Gemmatimonadetes\n",
      "k__Bacteria;p__OD1                            k__Bacteria;p__OD1\n",
      "k__Bacteria;p__OP11                          k__Bacteria;p__OP11\n",
      "k__Bacteria;p__Planctomycetes      k__Bacteria;p__Planctomycetes\n",
      "k__Bacteria;p__Proteobacteria      k__Bacteria;p__Proteobacteria\n",
      "k__Bacteria;p__Spirochaetes          k__Bacteria;p__Spirochaetes\n",
      "k__Bacteria;p__Synergistetes        k__Bacteria;p__Synergistetes\n",
      "k__Bacteria;p__TM6                            k__Bacteria;p__TM6\n",
      "k__Bacteria;p__TM7                            k__Bacteria;p__TM7\n",
      "k__Bacteria;p__Tenericutes            k__Bacteria;p__Tenericutes\n",
      "k__Bacteria;p__Verrucomicrobia    k__Bacteria;p__Verrucomicrobia\n",
      "k__Bacteria;p__WPS-2                        k__Bacteria;p__WPS-2\n",
      "k__Bacteria;p__[Thermi]                  k__Bacteria;p__[Thermi]\n"
     ]
    }
   ],
   "source": [
    "print(exp_L2.feature_metadata)"
   ]
  },
  {
   "cell_type": "markdown",
   "metadata": {},
   "source": [
    "## Running the L2 no metadata model"
   ]
  },
  {
   "cell_type": "code",
   "execution_count": 7,
   "metadata": {},
   "outputs": [],
   "source": [
    "# groupKfold = 6, will leave out one body for each model\n",
    "gkf = GroupKFold(6)\n",
    "\n",
    "X = exp_L2.data\n",
    "y = exp_L2.sample_metadata['ADD_0']\n",
    "y = (y.astype(float))\n",
    "\n",
    "groups = exp_L2.sample_metadata['host_subject_id']\n",
    "\n",
    "# used to test the param grid for parameter tuning\n",
    "# use the output of this estimator below for input into new estimator (not commented out)\n",
    "param_grid = {\"max_depth\": [4, 8, 16, None],\n",
    "              \"max_features\": ['sqrt', 'log2', 0.1],\n",
    "              \"min_samples_split\": [0.001, 0.01, 0.1],\n",
    "              \"min_weight_fraction_leaf\": [0.0001, 0.001, 0.01],\n",
    "              \"bootstrap\": [True, False]}\n",
    "\n",
    "#param_grid = {\"max_depth\": [8],\n",
    "#          \"max_features\": [0.1],\n",
    "#          \"min_samples_split\": [0.001],\n",
    "#          \"min_weight_fraction_leaf\": [0.0001],\n",
    "#          \"bootstrap\": [False]}\n",
    "\n",
    "rf = RandomForestRegressor(n_estimators=1000, random_state=999, criterion='mae')\n",
    "gs = GridSearchCV(rf, param_grid=param_grid, cv=gkf.split(X, y, groups), scoring='neg_mean_absolute_error', n_jobs=1)"
   ]
  },
  {
   "cell_type": "code",
   "execution_count": 8,
   "metadata": {},
   "outputs": [
    {
     "data": {
      "text/plain": [
       "GridSearchCV(cv=<generator object _BaseKFold.split at 0x11bf072d0>,\n",
       "             error_score=nan,\n",
       "             estimator=RandomForestRegressor(bootstrap=True, ccp_alpha=0.0,\n",
       "                                             criterion='mae', max_depth=None,\n",
       "                                             max_features='auto',\n",
       "                                             max_leaf_nodes=None,\n",
       "                                             max_samples=None,\n",
       "                                             min_impurity_decrease=0.0,\n",
       "                                             min_impurity_split=None,\n",
       "                                             min_samples_leaf=1,\n",
       "                                             min_samples_split=2,\n",
       "                                             min_weight_fraction_leaf=0.0,\n",
       "                                             n_es...\n",
       "                                             oob_score=False, random_state=999,\n",
       "                                             verbose=0, warm_start=False),\n",
       "             iid='deprecated', n_jobs=1,\n",
       "             param_grid={'bootstrap': [True, False],\n",
       "                         'max_depth': [4, 8, 16, None],\n",
       "                         'max_features': ['sqrt', 'log2', 0.1],\n",
       "                         'min_samples_split': [0.001, 0.01, 0.1],\n",
       "                         'min_weight_fraction_leaf': [0.0001, 0.001, 0.01]},\n",
       "             pre_dispatch='2*n_jobs', refit=True, return_train_score=False,\n",
       "             scoring='neg_mean_absolute_error', verbose=0)"
      ]
     },
     "execution_count": 8,
     "metadata": {},
     "output_type": "execute_result"
    }
   ],
   "source": [
    "gs.fit(X, y)"
   ]
  },
  {
   "cell_type": "code",
   "execution_count": 9,
   "metadata": {},
   "outputs": [
    {
     "name": "stdout",
     "output_type": "stream",
     "text": [
      "{'bootstrap': False, 'max_depth': None, 'max_features': 'sqrt', 'min_samples_split': 0.001, 'min_weight_fraction_leaf': 0.0001}\n"
     ]
    }
   ],
   "source": [
    "# this line is used when run with the first param grid to determine what the best parameters are for tuning\n",
    "print(gs.best_params_)"
   ]
  },
  {
   "cell_type": "code",
   "execution_count": 10,
   "metadata": {},
   "outputs": [
    {
     "name": "stdout",
     "output_type": "stream",
     "text": [
      "The best mean absolute error is 765.78\n"
     ]
    }
   ],
   "source": [
    "print('The best mean absolute error is', round(-gs.best_score_,2))"
   ]
  },
  {
   "cell_type": "code",
   "execution_count": 11,
   "metadata": {},
   "outputs": [
    {
     "data": {
      "text/plain": [
       "['models/bone_L2_no_metadata.pkl']"
      ]
     },
     "execution_count": 11,
     "metadata": {},
     "output_type": "execute_result"
    }
   ],
   "source": [
    "joblib.dump(gs.best_estimator_, 'models/bone_L2_no_metadata.pkl')"
   ]
  },
  {
   "cell_type": "code",
   "execution_count": 12,
   "metadata": {},
   "outputs": [
    {
     "data": {
      "text/plain": [
       "RandomForestRegressor(bootstrap=False, ccp_alpha=0.0, criterion='mae',\n",
       "                      max_depth=None, max_features='sqrt', max_leaf_nodes=None,\n",
       "                      max_samples=None, min_impurity_decrease=0.0,\n",
       "                      min_impurity_split=None, min_samples_leaf=1,\n",
       "                      min_samples_split=0.001, min_weight_fraction_leaf=0.0001,\n",
       "                      n_estimators=1000, n_jobs=None, oob_score=False,\n",
       "                      random_state=999, verbose=0, warm_start=False)"
      ]
     },
     "execution_count": 12,
     "metadata": {},
     "output_type": "execute_result"
    }
   ],
   "source": [
    "bone_L2 = joblib.load('models/bone_L2_no_metadata.pkl')\n",
    "bone_L2"
   ]
  },
  {
   "cell_type": "markdown",
   "metadata": {},
   "source": [
    "## Determine important features of L2 no metadata model"
   ]
  },
  {
   "cell_type": "code",
   "execution_count": 14,
   "metadata": {},
   "outputs": [
    {
     "name": "stdout",
     "output_type": "stream",
     "text": [
      "Feature:\t\t\t\tImportance:\n",
      "1. k__Bacteria;p__Verrucomicrobia\t0.11987154819410084\n",
      "2. k__Bacteria;p__Firmicutes\t0.11126658098985664\n",
      "3. k__Bacteria;p__Bacteroidetes\t0.10196757181199129\n",
      "4. k__Bacteria;p__Proteobacteria\t0.09685239546073014\n",
      "5. k__Bacteria;p__Planctomycetes\t0.09232379132237392\n",
      "6. k__Bacteria;p__[Thermi]\t0.06191102623999902\n",
      "7. k__Bacteria;p__Actinobacteria\t0.061261278052764344\n",
      "8. k__Bacteria;p__Gemmatimonadetes\t0.055267434195445025\n",
      "9. k__Bacteria;p__Chloroflexi\t0.05188271387007733\n",
      "10. k__Bacteria;p__Fusobacteria\t0.04660002309985257\n",
      "11. k__Bacteria;p__Acidobacteria\t0.04012072345796194\n",
      "12. k__Bacteria;p__FBP\t0.028449503493015484\n",
      "13. k__Bacteria;p__BRC1\t0.018189050030968656\n",
      "14. k__Bacteria;p__Tenericutes\t0.015946114482290028\n",
      "15. k__Bacteria;p__Armatimonadetes\t0.014579541867179757\n",
      "16. k__Bacteria;p__Cyanobacteria\t0.012725500877310213\n",
      "17. k__Bacteria;p__GN02\t0.011298221080422693\n",
      "18. k__Bacteria;p__TM7\t0.010324222212359605\n",
      "19. k__Bacteria;p__Chlorobi\t0.010014462811682145\n",
      "20. k__Bacteria;p__Deferribacteres\t0.00952000654572993\n",
      "21. k__Bacteria;p__OP11\t0.00800515324846106\n",
      "22. k__Bacteria;p__Spirochaetes\t0.0067289100104081356\n",
      "23. k__Bacteria;p__Synergistetes\t0.0041898412423327855\n",
      "24. k__Bacteria;p__OD1\t0.00282112153846093\n",
      "25. k__Archaea;p__Crenarchaeota\t0.0026303950305501425\n"
     ]
    }
   ],
   "source": [
    "importances = bone_L2.feature_importances_\n",
    "std = np.std([tree.feature_importances_ for tree in bone_L2.estimators_],\n",
    "             axis=0)\n",
    "indices = np.argsort(importances)[::-1]\n",
    "\n",
    "feature_metadata = exp_L2.feature_metadata\n",
    "np.savetxt(\"importances/bone_L2_no_metadata_features.csv\", feature_metadata, delimiter=\",\", fmt='%s')\n",
    "\n",
    "\n",
    "#print the important ids in order\n",
    "general_importances = []\n",
    "count = 0\n",
    "print(\"Feature:\\t\\t\\t\\tImportance:\")\n",
    "for i in indices:\n",
    "    general_importances += (exp_L2.feature_metadata.index.values[i], importances[indices[count]])\n",
    "    if count < 25:\n",
    "        print(str(count+1)+\". \"+str(exp_L2.feature_metadata.index.values[i])+\"\\t\"+str(importances[indices[count]]))\n",
    "    count += 1\n",
    "    \n",
    "general_importances_df = pd.DataFrame(np.array(general_importances).reshape(58,1))\n",
    "\n",
    "np.savetxt(\"importances/bone_L2_no_features_importances.csv\", general_importances_df, delimiter=\",\", fmt='%s')"
   ]
  },
  {
   "cell_type": "markdown",
   "metadata": {},
   "source": [
    "## Run the L2 model with season"
   ]
  },
  {
   "cell_type": "code",
   "execution_count": 15,
   "metadata": {},
   "outputs": [],
   "source": [
    "exp_L2_season = exp_L2.add_sample_metadata_as_features(['season'])"
   ]
  },
  {
   "cell_type": "code",
   "execution_count": 16,
   "metadata": {},
   "outputs": [],
   "source": [
    "# groupKfold = 6, will leave out one body for each model\n",
    "gkf = GroupKFold(6)\n",
    "\n",
    "X = exp_L2_season.data\n",
    "y = exp_L2_season.sample_metadata['ADD_0']\n",
    "y = (y.astype(float))\n",
    "\n",
    "groups = exp_L2_season.sample_metadata['host_subject_id']\n",
    "\n",
    "# used to test the param grid for parameter tuning\n",
    "# use the output of this estimator below for input into new estimator (not commented out)\n",
    "param_grid = {\"max_depth\": [4, 8, 16, None],\n",
    "              \"max_features\": ['sqrt', 'log2', 0.1],\n",
    "              \"min_samples_split\": [0.001, 0.01, 0.1],\n",
    "              \"min_weight_fraction_leaf\": [0.0001, 0.001, 0.01],\n",
    "              \"bootstrap\": [True, False]}\n",
    "\n",
    "#param_grid = {\"max_depth\": [8],\n",
    "#          \"max_features\": [0.1],\n",
    "#          \"min_samples_split\": [0.001],\n",
    "#          \"min_weight_fraction_leaf\": [0.0001],\n",
    "#          \"bootstrap\": [False]}\n",
    "\n",
    "rf = RandomForestRegressor(n_estimators=1000, random_state=999, criterion='mae')\n",
    "gs = GridSearchCV(rf, param_grid=param_grid, cv=gkf.split(X, y, groups), scoring='neg_mean_absolute_error', n_jobs=1)"
   ]
  },
  {
   "cell_type": "code",
   "execution_count": 17,
   "metadata": {},
   "outputs": [
    {
     "data": {
      "text/plain": [
       "GridSearchCV(cv=<generator object _BaseKFold.split at 0x11c39ae50>,\n",
       "             error_score=nan,\n",
       "             estimator=RandomForestRegressor(bootstrap=True, ccp_alpha=0.0,\n",
       "                                             criterion='mae', max_depth=None,\n",
       "                                             max_features='auto',\n",
       "                                             max_leaf_nodes=None,\n",
       "                                             max_samples=None,\n",
       "                                             min_impurity_decrease=0.0,\n",
       "                                             min_impurity_split=None,\n",
       "                                             min_samples_leaf=1,\n",
       "                                             min_samples_split=2,\n",
       "                                             min_weight_fraction_leaf=0.0,\n",
       "                                             n_es...\n",
       "                                             oob_score=False, random_state=999,\n",
       "                                             verbose=0, warm_start=False),\n",
       "             iid='deprecated', n_jobs=1,\n",
       "             param_grid={'bootstrap': [True, False],\n",
       "                         'max_depth': [4, 8, 16, None],\n",
       "                         'max_features': ['sqrt', 'log2', 0.1],\n",
       "                         'min_samples_split': [0.001, 0.01, 0.1],\n",
       "                         'min_weight_fraction_leaf': [0.0001, 0.001, 0.01]},\n",
       "             pre_dispatch='2*n_jobs', refit=True, return_train_score=False,\n",
       "             scoring='neg_mean_absolute_error', verbose=0)"
      ]
     },
     "execution_count": 17,
     "metadata": {},
     "output_type": "execute_result"
    }
   ],
   "source": [
    "gs.fit(X, y)"
   ]
  },
  {
   "cell_type": "code",
   "execution_count": 18,
   "metadata": {},
   "outputs": [
    {
     "name": "stdout",
     "output_type": "stream",
     "text": [
      "{'bootstrap': False, 'max_depth': None, 'max_features': 'sqrt', 'min_samples_split': 0.001, 'min_weight_fraction_leaf': 0.0001}\n"
     ]
    }
   ],
   "source": [
    "# this line is used when run with the first param grid to determine what the best parameters are for tuning\n",
    "print(gs.best_params_)"
   ]
  },
  {
   "cell_type": "code",
   "execution_count": 19,
   "metadata": {},
   "outputs": [
    {
     "name": "stdout",
     "output_type": "stream",
     "text": [
      "The best mean absolute error is 774.35\n"
     ]
    }
   ],
   "source": [
    "print('The best mean absolute error is', round(-gs.best_score_,2))"
   ]
  },
  {
   "cell_type": "code",
   "execution_count": 20,
   "metadata": {},
   "outputs": [
    {
     "data": {
      "text/plain": [
       "['models/bone_L2_season.pkl']"
      ]
     },
     "execution_count": 20,
     "metadata": {},
     "output_type": "execute_result"
    }
   ],
   "source": [
    "joblib.dump(gs.best_estimator_, 'models/bone_L2_season.pkl')"
   ]
  },
  {
   "cell_type": "code",
   "execution_count": 21,
   "metadata": {},
   "outputs": [
    {
     "data": {
      "text/plain": [
       "RandomForestRegressor(bootstrap=False, ccp_alpha=0.0, criterion='mae',\n",
       "                      max_depth=None, max_features='sqrt', max_leaf_nodes=None,\n",
       "                      max_samples=None, min_impurity_decrease=0.0,\n",
       "                      min_impurity_split=None, min_samples_leaf=1,\n",
       "                      min_samples_split=0.001, min_weight_fraction_leaf=0.0001,\n",
       "                      n_estimators=1000, n_jobs=None, oob_score=False,\n",
       "                      random_state=999, verbose=0, warm_start=False)"
      ]
     },
     "execution_count": 21,
     "metadata": {},
     "output_type": "execute_result"
    }
   ],
   "source": [
    "bone_L2_season = joblib.load('models/bone_L2_season.pkl')\n",
    "bone_L2_season"
   ]
  },
  {
   "cell_type": "markdown",
   "metadata": {},
   "source": [
    "## Determine important features for the L2 season model"
   ]
  },
  {
   "cell_type": "code",
   "execution_count": 23,
   "metadata": {},
   "outputs": [
    {
     "name": "stdout",
     "output_type": "stream",
     "text": [
      "Feature:\t\t\t\tImportance:\n",
      "1. k__Bacteria;p__Verrucomicrobia\t0.11202654214514784\n",
      "2. k__Bacteria;p__Firmicutes\t0.1061343899218351\n",
      "3. k__Bacteria;p__Proteobacteria\t0.10365943935553606\n",
      "4. k__Bacteria;p__Bacteroidetes\t0.09751923573433713\n",
      "5. k__Bacteria;p__Planctomycetes\t0.0828123522834748\n",
      "6. k__Bacteria;p__Actinobacteria\t0.06484196957435172\n",
      "7. k__Bacteria;p__[Thermi]\t0.06104302756301653\n",
      "8. k__Bacteria;p__Gemmatimonadetes\t0.061024593421146404\n",
      "9. k__Bacteria;p__Chloroflexi\t0.049307982770428964\n",
      "10. k__Bacteria;p__Fusobacteria\t0.045694730950205646\n",
      "11. k__Bacteria;p__Acidobacteria\t0.036964782079307305\n",
      "12. k__Bacteria;p__FBP\t0.029595018439946844\n",
      "13. k__Bacteria;p__BRC1\t0.01754784738094031\n",
      "14. k__Bacteria;p__Armatimonadetes\t0.016860795249380427\n",
      "15. k__Bacteria;p__Tenericutes\t0.014989327027244446\n",
      "16. k__Bacteria;p__Cyanobacteria\t0.012999043307660637\n",
      "17. k__Bacteria;p__GN02\t0.0123824425026003\n",
      "18. k__Bacteria;p__TM7\t0.010931198471841397\n",
      "19. k__Bacteria;p__Chlorobi\t0.009754819639130307\n",
      "20. k__Bacteria;p__OP11\t0.008886923802459723\n",
      "21. k__Bacteria;p__Deferribacteres\t0.008795418391647979\n",
      "22. season=summer\t0.007539649581753438\n",
      "23. season=spring\t0.0070178686641838685\n",
      "24. k__Bacteria;p__Spirochaetes\t0.0068200717897820085\n",
      "25. k__Bacteria;p__Synergistetes\t0.004365311324583467\n"
     ]
    }
   ],
   "source": [
    "importances = bone_L2_season.feature_importances_\n",
    "std = np.std([tree.feature_importances_ for tree in bone_L2_season.estimators_],\n",
    "             axis=0)\n",
    "indices = np.argsort(importances)[::-1]\n",
    "\n",
    "feature_metadata = exp_L2_season.feature_metadata\n",
    "np.savetxt(\"importances/bone_L2_season_features.csv\", feature_metadata, delimiter=\",\", fmt='%s')\n",
    "\n",
    "\n",
    "#print the important ids in order\n",
    "general_importances = []\n",
    "count = 0\n",
    "print(\"Feature:\\t\\t\\t\\tImportance:\")\n",
    "for i in indices:\n",
    "    general_importances += (exp_L2_season.feature_metadata.index.values[i], importances[indices[count]])\n",
    "    if count < 25:\n",
    "        print(str(count+1)+\". \"+str(exp_L2_season.feature_metadata.index.values[i])+\"\\t\"+str(importances[indices[count]]))\n",
    "    count += 1\n",
    "    \n",
    "general_importances_df = pd.DataFrame(np.array(general_importances).reshape(62,1))\n",
    "\n",
    "np.savetxt(\"importances/bone_L2_season_importances.csv\", general_importances_df, delimiter=\",\", fmt='%s')"
   ]
  },
  {
   "cell_type": "markdown",
   "metadata": {},
   "source": [
    "## Run the L2 model with precipitation"
   ]
  },
  {
   "cell_type": "code",
   "execution_count": 24,
   "metadata": {},
   "outputs": [],
   "source": [
    "exp_L2_precip = exp_L2.add_sample_metadata_as_features(['accumulated_precipitation_inches_base0'])"
   ]
  },
  {
   "cell_type": "code",
   "execution_count": 25,
   "metadata": {},
   "outputs": [],
   "source": [
    "# groupKfold = 6, will leave out one body for each model\n",
    "gkf = GroupKFold(6)\n",
    "\n",
    "X = exp_L2_precip.data\n",
    "y = exp_L2_precip.sample_metadata['ADD_0']\n",
    "y = (y.astype(float))\n",
    "\n",
    "groups = exp_L2_precip.sample_metadata['host_subject_id']\n",
    "\n",
    "# used to test the param grid for parameter tuning\n",
    "# use the output of this estimator below for input into new estimator (not commented out)\n",
    "param_grid = {\"max_depth\": [4, 8, 16, None],\n",
    "              \"max_features\": ['sqrt', 'log2', 0.1],\n",
    "              \"min_samples_split\": [0.001, 0.01, 0.1],\n",
    "              \"min_weight_fraction_leaf\": [0.0001, 0.001, 0.01],\n",
    "              \"bootstrap\": [True, False]}\n",
    "\n",
    "#param_grid = {\"max_depth\": [8],\n",
    "#          \"max_features\": [0.1],\n",
    "#          \"min_samples_split\": [0.001],\n",
    "#          \"min_weight_fraction_leaf\": [0.0001],\n",
    "#          \"bootstrap\": [False]}\n",
    "\n",
    "rf = RandomForestRegressor(n_estimators=1000, random_state=999, criterion='mae')\n",
    "gs = GridSearchCV(rf, param_grid=param_grid, cv=gkf.split(X, y, groups), scoring='neg_mean_absolute_error', n_jobs=1)"
   ]
  },
  {
   "cell_type": "code",
   "execution_count": 26,
   "metadata": {},
   "outputs": [
    {
     "data": {
      "text/plain": [
       "GridSearchCV(cv=<generator object _BaseKFold.split at 0x11c3f25d0>,\n",
       "             error_score=nan,\n",
       "             estimator=RandomForestRegressor(bootstrap=True, ccp_alpha=0.0,\n",
       "                                             criterion='mae', max_depth=None,\n",
       "                                             max_features='auto',\n",
       "                                             max_leaf_nodes=None,\n",
       "                                             max_samples=None,\n",
       "                                             min_impurity_decrease=0.0,\n",
       "                                             min_impurity_split=None,\n",
       "                                             min_samples_leaf=1,\n",
       "                                             min_samples_split=2,\n",
       "                                             min_weight_fraction_leaf=0.0,\n",
       "                                             n_es...\n",
       "                                             oob_score=False, random_state=999,\n",
       "                                             verbose=0, warm_start=False),\n",
       "             iid='deprecated', n_jobs=1,\n",
       "             param_grid={'bootstrap': [True, False],\n",
       "                         'max_depth': [4, 8, 16, None],\n",
       "                         'max_features': ['sqrt', 'log2', 0.1],\n",
       "                         'min_samples_split': [0.001, 0.01, 0.1],\n",
       "                         'min_weight_fraction_leaf': [0.0001, 0.001, 0.01]},\n",
       "             pre_dispatch='2*n_jobs', refit=True, return_train_score=False,\n",
       "             scoring='neg_mean_absolute_error', verbose=0)"
      ]
     },
     "execution_count": 26,
     "metadata": {},
     "output_type": "execute_result"
    }
   ],
   "source": [
    "gs.fit(X, y)"
   ]
  },
  {
   "cell_type": "code",
   "execution_count": 27,
   "metadata": {},
   "outputs": [
    {
     "name": "stdout",
     "output_type": "stream",
     "text": [
      "{'bootstrap': False, 'max_depth': 16, 'max_features': 'sqrt', 'min_samples_split': 0.001, 'min_weight_fraction_leaf': 0.0001}\n"
     ]
    }
   ],
   "source": [
    "# this line is used when run with the first param grid to determine what the best parameters are for tuning\n",
    "print(gs.best_params_)"
   ]
  },
  {
   "cell_type": "code",
   "execution_count": 28,
   "metadata": {},
   "outputs": [
    {
     "name": "stdout",
     "output_type": "stream",
     "text": [
      "The best mean absolute error is 573.46\n"
     ]
    }
   ],
   "source": [
    "print('The best mean absolute error is', round(-gs.best_score_,2))"
   ]
  },
  {
   "cell_type": "code",
   "execution_count": 29,
   "metadata": {},
   "outputs": [
    {
     "data": {
      "text/plain": [
       "['models/bone_L2_precip.pkl']"
      ]
     },
     "execution_count": 29,
     "metadata": {},
     "output_type": "execute_result"
    }
   ],
   "source": [
    "joblib.dump(gs.best_estimator_, 'models/bone_L2_precip.pkl')"
   ]
  },
  {
   "cell_type": "code",
   "execution_count": 30,
   "metadata": {},
   "outputs": [
    {
     "data": {
      "text/plain": [
       "RandomForestRegressor(bootstrap=False, ccp_alpha=0.0, criterion='mae',\n",
       "                      max_depth=16, max_features='sqrt', max_leaf_nodes=None,\n",
       "                      max_samples=None, min_impurity_decrease=0.0,\n",
       "                      min_impurity_split=None, min_samples_leaf=1,\n",
       "                      min_samples_split=0.001, min_weight_fraction_leaf=0.0001,\n",
       "                      n_estimators=1000, n_jobs=None, oob_score=False,\n",
       "                      random_state=999, verbose=0, warm_start=False)"
      ]
     },
     "execution_count": 30,
     "metadata": {},
     "output_type": "execute_result"
    }
   ],
   "source": [
    "bone_L2_precip = joblib.load('models/bone_L2_precip.pkl')\n",
    "bone_L2_precip"
   ]
  },
  {
   "cell_type": "markdown",
   "metadata": {},
   "source": [
    "## Determine important features for L2 precipitation model"
   ]
  },
  {
   "cell_type": "code",
   "execution_count": 32,
   "metadata": {},
   "outputs": [
    {
     "name": "stdout",
     "output_type": "stream",
     "text": [
      "Feature:\t\t\t\tImportance:\n",
      "1. accumulated_precipitation_inches_base0\t0.2300840628569225\n",
      "2. k__Bacteria;p__Verrucomicrobia\t0.09549872441133539\n",
      "3. k__Bacteria;p__Firmicutes\t0.08026801321683104\n",
      "4. k__Bacteria;p__Proteobacteria\t0.07682713727378934\n",
      "5. k__Bacteria;p__Bacteroidetes\t0.07644480777495924\n",
      "6. k__Bacteria;p__Planctomycetes\t0.0656555017659463\n",
      "7. k__Bacteria;p__Actinobacteria\t0.049478547570133466\n",
      "8. k__Bacteria;p__Gemmatimonadetes\t0.046271528865142915\n",
      "9. k__Bacteria;p__[Thermi]\t0.04384558898415175\n",
      "10. k__Bacteria;p__Chloroflexi\t0.042268916887808136\n",
      "11. k__Bacteria;p__Fusobacteria\t0.03663265304639057\n",
      "12. k__Bacteria;p__Acidobacteria\t0.03152200093248848\n",
      "13. k__Bacteria;p__FBP\t0.01994894180144875\n",
      "14. k__Bacteria;p__Tenericutes\t0.013473214315324682\n",
      "15. k__Bacteria;p__Armatimonadetes\t0.013194357132992307\n",
      "16. k__Bacteria;p__BRC1\t0.0131872824675222\n",
      "17. k__Bacteria;p__Cyanobacteria\t0.010879001856716142\n",
      "18. k__Bacteria;p__GN02\t0.010266435571545912\n",
      "19. k__Bacteria;p__TM7\t0.008413356159061863\n",
      "20. k__Bacteria;p__Deferribacteres\t0.007698066274158718\n",
      "21. k__Bacteria;p__Chlorobi\t0.007188467939453018\n",
      "22. k__Bacteria;p__OP11\t0.00631002422421221\n",
      "23. k__Bacteria;p__Spirochaetes\t0.004592402467151973\n",
      "24. k__Bacteria;p__Synergistetes\t0.003037617985176738\n",
      "25. k__Archaea;p__Euryarchaeota\t0.001762286096628262\n"
     ]
    }
   ],
   "source": [
    "importances = bone_L2_precip.feature_importances_\n",
    "std = np.std([tree.feature_importances_ for tree in bone_L2_precip.estimators_],\n",
    "             axis=0)\n",
    "indices = np.argsort(importances)[::-1]\n",
    "\n",
    "feature_metadata = exp_L2_precip.feature_metadata\n",
    "np.savetxt(\"importances/bone_L2_precip_features.csv\", feature_metadata, delimiter=\",\", fmt='%s')\n",
    "\n",
    "\n",
    "#print the important ids in order\n",
    "general_importances = []\n",
    "count = 0\n",
    "print(\"Feature:\\t\\t\\t\\tImportance:\")\n",
    "for i in indices:\n",
    "    general_importances += (exp_L2_precip.feature_metadata.index.values[i], importances[indices[count]])\n",
    "    if count < 25:\n",
    "        print(str(count+1)+\". \"+str(exp_L2_precip.feature_metadata.index.values[i])+\"\\t\"+str(importances[indices[count]]))\n",
    "    count += 1\n",
    "    \n",
    "general_importances_df = pd.DataFrame(np.array(general_importances).reshape(60,1))\n",
    "\n",
    "np.savetxt(\"importances/bone_L2_precip_importances.csv\", general_importances_df, delimiter=\",\", fmt='%s')"
   ]
  },
  {
   "cell_type": "markdown",
   "metadata": {},
   "source": [
    "## Run the L2 model with humidity"
   ]
  },
  {
   "cell_type": "code",
   "execution_count": 33,
   "metadata": {},
   "outputs": [],
   "source": [
    "exp_L2_hum = exp_L2.add_sample_metadata_as_features(['accumulated_percent_humidity_days_base0'])"
   ]
  },
  {
   "cell_type": "code",
   "execution_count": 34,
   "metadata": {},
   "outputs": [],
   "source": [
    "# groupKfold = 6, will leave out one body for each model\n",
    "gkf = GroupKFold(6)\n",
    "\n",
    "X = exp_L2_hum.data\n",
    "y = exp_L2_hum.sample_metadata['ADD_0']\n",
    "y = (y.astype(float))\n",
    "\n",
    "groups = exp_L2_hum.sample_metadata['host_subject_id']\n",
    "\n",
    "# used to test the param grid for parameter tuning\n",
    "# use the output of this estimator below for input into new estimator (not commented out)\n",
    "param_grid = {\"max_depth\": [4, 8, 16, None],\n",
    "              \"max_features\": ['sqrt', 'log2', 0.1],\n",
    "              \"min_samples_split\": [0.001, 0.01, 0.1],\n",
    "              \"min_weight_fraction_leaf\": [0.0001, 0.001, 0.01],\n",
    "              \"bootstrap\": [True, False]}\n",
    "\n",
    "#param_grid = {\"max_depth\": [8],\n",
    "#          \"max_features\": [0.1],\n",
    "#          \"min_samples_split\": [0.001],\n",
    "#          \"min_weight_fraction_leaf\": [0.0001],\n",
    "#          \"bootstrap\": [False]}\n",
    "\n",
    "rf = RandomForestRegressor(n_estimators=1000, random_state=999, criterion='mae')\n",
    "gs = GridSearchCV(rf, param_grid=param_grid, cv=gkf.split(X, y, groups), scoring='neg_mean_absolute_error', n_jobs=1)"
   ]
  },
  {
   "cell_type": "code",
   "execution_count": 35,
   "metadata": {},
   "outputs": [
    {
     "data": {
      "text/plain": [
       "GridSearchCV(cv=<generator object _BaseKFold.split at 0x11c3f2550>,\n",
       "             error_score=nan,\n",
       "             estimator=RandomForestRegressor(bootstrap=True, ccp_alpha=0.0,\n",
       "                                             criterion='mae', max_depth=None,\n",
       "                                             max_features='auto',\n",
       "                                             max_leaf_nodes=None,\n",
       "                                             max_samples=None,\n",
       "                                             min_impurity_decrease=0.0,\n",
       "                                             min_impurity_split=None,\n",
       "                                             min_samples_leaf=1,\n",
       "                                             min_samples_split=2,\n",
       "                                             min_weight_fraction_leaf=0.0,\n",
       "                                             n_es...\n",
       "                                             oob_score=False, random_state=999,\n",
       "                                             verbose=0, warm_start=False),\n",
       "             iid='deprecated', n_jobs=1,\n",
       "             param_grid={'bootstrap': [True, False],\n",
       "                         'max_depth': [4, 8, 16, None],\n",
       "                         'max_features': ['sqrt', 'log2', 0.1],\n",
       "                         'min_samples_split': [0.001, 0.01, 0.1],\n",
       "                         'min_weight_fraction_leaf': [0.0001, 0.001, 0.01]},\n",
       "             pre_dispatch='2*n_jobs', refit=True, return_train_score=False,\n",
       "             scoring='neg_mean_absolute_error', verbose=0)"
      ]
     },
     "execution_count": 35,
     "metadata": {},
     "output_type": "execute_result"
    }
   ],
   "source": [
    "gs.fit(X, y)"
   ]
  },
  {
   "cell_type": "code",
   "execution_count": 36,
   "metadata": {},
   "outputs": [
    {
     "name": "stdout",
     "output_type": "stream",
     "text": [
      "{'bootstrap': False, 'max_depth': None, 'max_features': 'sqrt', 'min_samples_split': 0.001, 'min_weight_fraction_leaf': 0.0001}\n"
     ]
    }
   ],
   "source": [
    "# this line is used when run with the first param grid to determine what the best parameters are for tuning\n",
    "print(gs.best_params_)"
   ]
  },
  {
   "cell_type": "code",
   "execution_count": 37,
   "metadata": {},
   "outputs": [
    {
     "name": "stdout",
     "output_type": "stream",
     "text": [
      "The best mean absolute error is 530.6\n"
     ]
    }
   ],
   "source": [
    "print('The best mean absolute error is', round(-gs.best_score_,2))"
   ]
  },
  {
   "cell_type": "code",
   "execution_count": 38,
   "metadata": {},
   "outputs": [
    {
     "data": {
      "text/plain": [
       "['models/bone_L2_hum.pkl']"
      ]
     },
     "execution_count": 38,
     "metadata": {},
     "output_type": "execute_result"
    }
   ],
   "source": [
    "joblib.dump(gs.best_estimator_, 'models/bone_L2_hum.pkl')"
   ]
  },
  {
   "cell_type": "code",
   "execution_count": 39,
   "metadata": {},
   "outputs": [
    {
     "data": {
      "text/plain": [
       "RandomForestRegressor(bootstrap=False, ccp_alpha=0.0, criterion='mae',\n",
       "                      max_depth=None, max_features='sqrt', max_leaf_nodes=None,\n",
       "                      max_samples=None, min_impurity_decrease=0.0,\n",
       "                      min_impurity_split=None, min_samples_leaf=1,\n",
       "                      min_samples_split=0.001, min_weight_fraction_leaf=0.0001,\n",
       "                      n_estimators=1000, n_jobs=None, oob_score=False,\n",
       "                      random_state=999, verbose=0, warm_start=False)"
      ]
     },
     "execution_count": 39,
     "metadata": {},
     "output_type": "execute_result"
    }
   ],
   "source": [
    "bone_L2_hum = joblib.load('models/bone_L2_hum.pkl')\n",
    "bone_L2_hum"
   ]
  },
  {
   "cell_type": "markdown",
   "metadata": {},
   "source": [
    "## Determine important features for L2 humidity model"
   ]
  },
  {
   "cell_type": "code",
   "execution_count": 41,
   "metadata": {},
   "outputs": [
    {
     "name": "stdout",
     "output_type": "stream",
     "text": [
      "Feature:\t\t\t\tImportance:\n",
      "1. accumulated_percent_humidity_days_base0\t0.2602281380745937\n",
      "2. k__Bacteria;p__Verrucomicrobia\t0.08825352934640605\n",
      "3. k__Bacteria;p__Firmicutes\t0.07799451806230023\n",
      "4. k__Bacteria;p__Bacteroidetes\t0.07451363313609981\n",
      "5. k__Bacteria;p__Proteobacteria\t0.0723793109852555\n",
      "6. k__Bacteria;p__Planctomycetes\t0.0661824048878819\n",
      "7. k__Bacteria;p__[Thermi]\t0.04558932869303888\n",
      "8. k__Bacteria;p__Gemmatimonadetes\t0.04512339466733629\n",
      "9. k__Bacteria;p__Actinobacteria\t0.04236629665023932\n",
      "10. k__Bacteria;p__Chloroflexi\t0.039874479522062155\n",
      "11. k__Bacteria;p__Fusobacteria\t0.03413452181308698\n",
      "12. k__Bacteria;p__Acidobacteria\t0.03106723790091354\n",
      "13. k__Bacteria;p__FBP\t0.019454670973470634\n",
      "14. k__Bacteria;p__BRC1\t0.014026873421212713\n",
      "15. k__Bacteria;p__Cyanobacteria\t0.013605784530183958\n",
      "16. k__Bacteria;p__Armatimonadetes\t0.012546633907356124\n",
      "17. k__Bacteria;p__Tenericutes\t0.01100558419037997\n",
      "18. k__Bacteria;p__GN02\t0.008501871067667017\n",
      "19. k__Bacteria;p__TM7\t0.008327591771425004\n",
      "20. k__Bacteria;p__Chlorobi\t0.0075685798940910605\n",
      "21. k__Bacteria;p__OP11\t0.006184695253166663\n",
      "22. k__Bacteria;p__Deferribacteres\t0.006011685856977824\n",
      "23. k__Bacteria;p__Spirochaetes\t0.0040603466029334135\n",
      "24. k__Bacteria;p__Synergistetes\t0.0031003039443377074\n",
      "25. k__Archaea;p__Crenarchaeota\t0.002086100588885053\n"
     ]
    }
   ],
   "source": [
    "importances = bone_L2_hum.feature_importances_\n",
    "std = np.std([tree.feature_importances_ for tree in bone_L2_hum.estimators_],\n",
    "             axis=0)\n",
    "indices = np.argsort(importances)[::-1]\n",
    "\n",
    "feature_metadata = exp_L2_hum.feature_metadata\n",
    "np.savetxt(\"importances/bone_L2_hum_features.csv\", feature_metadata, delimiter=\",\", fmt='%s')\n",
    "\n",
    "\n",
    "#print the important ids in order\n",
    "general_importances = []\n",
    "count = 0\n",
    "print(\"Feature:\\t\\t\\t\\tImportance:\")\n",
    "for i in indices:\n",
    "    general_importances += (exp_L2_hum.feature_metadata.index.values[i], importances[indices[count]])\n",
    "    if count < 25:\n",
    "        print(str(count+1)+\". \"+str(exp_L2_hum.feature_metadata.index.values[i])+\"\\t\"+str(importances[indices[count]]))\n",
    "    count += 1\n",
    "    \n",
    "general_importances_df = pd.DataFrame(np.array(general_importances).reshape(60,1))\n",
    "\n",
    "np.savetxt(\"importances/bone_L2_hum_importances.csv\", general_importances_df, delimiter=\",\", fmt='%s')"
   ]
  },
  {
   "cell_type": "markdown",
   "metadata": {},
   "source": [
    "## Run the L2 model with season and precipitation"
   ]
  },
  {
   "cell_type": "code",
   "execution_count": 42,
   "metadata": {},
   "outputs": [],
   "source": [
    "exp_L2_season_precip = exp_L2.add_sample_metadata_as_features(['season', 'accumulated_precipitation_inches_base0'])"
   ]
  },
  {
   "cell_type": "code",
   "execution_count": 43,
   "metadata": {},
   "outputs": [],
   "source": [
    "# groupKfold = 6, will leave out one body for each model\n",
    "gkf = GroupKFold(6)\n",
    "\n",
    "X = exp_L2_season_precip.data\n",
    "y = exp_L2_season_precip.sample_metadata['ADD_0']\n",
    "y = (y.astype(float))\n",
    "\n",
    "groups = exp_L2_season_precip.sample_metadata['host_subject_id']\n",
    "\n",
    "# used to test the param grid for parameter tuning\n",
    "# use the output of this estimator below for input into new estimator (not commented out)\n",
    "param_grid = {\"max_depth\": [4, 8, 16, None],\n",
    "              \"max_features\": ['sqrt', 'log2', 0.1],\n",
    "              \"min_samples_split\": [0.001, 0.01, 0.1],\n",
    "              \"min_weight_fraction_leaf\": [0.0001, 0.001, 0.01],\n",
    "              \"bootstrap\": [True, False]}\n",
    "\n",
    "#param_grid = {\"max_depth\": [8],\n",
    "#          \"max_features\": [0.1],\n",
    "#          \"min_samples_split\": [0.001],\n",
    "#          \"min_weight_fraction_leaf\": [0.0001],\n",
    "#          \"bootstrap\": [False]}\n",
    "\n",
    "rf = RandomForestRegressor(n_estimators=1000, random_state=999, criterion='mae')\n",
    "gs = GridSearchCV(rf, param_grid=param_grid, cv=gkf.split(X, y, groups), scoring='neg_mean_absolute_error', n_jobs=1)"
   ]
  },
  {
   "cell_type": "code",
   "execution_count": 44,
   "metadata": {},
   "outputs": [
    {
     "data": {
      "text/plain": [
       "GridSearchCV(cv=<generator object _BaseKFold.split at 0x11c2be550>,\n",
       "             error_score=nan,\n",
       "             estimator=RandomForestRegressor(bootstrap=True, ccp_alpha=0.0,\n",
       "                                             criterion='mae', max_depth=None,\n",
       "                                             max_features='auto',\n",
       "                                             max_leaf_nodes=None,\n",
       "                                             max_samples=None,\n",
       "                                             min_impurity_decrease=0.0,\n",
       "                                             min_impurity_split=None,\n",
       "                                             min_samples_leaf=1,\n",
       "                                             min_samples_split=2,\n",
       "                                             min_weight_fraction_leaf=0.0,\n",
       "                                             n_es...\n",
       "                                             oob_score=False, random_state=999,\n",
       "                                             verbose=0, warm_start=False),\n",
       "             iid='deprecated', n_jobs=1,\n",
       "             param_grid={'bootstrap': [True, False],\n",
       "                         'max_depth': [4, 8, 16, None],\n",
       "                         'max_features': ['sqrt', 'log2', 0.1],\n",
       "                         'min_samples_split': [0.001, 0.01, 0.1],\n",
       "                         'min_weight_fraction_leaf': [0.0001, 0.001, 0.01]},\n",
       "             pre_dispatch='2*n_jobs', refit=True, return_train_score=False,\n",
       "             scoring='neg_mean_absolute_error', verbose=0)"
      ]
     },
     "execution_count": 44,
     "metadata": {},
     "output_type": "execute_result"
    }
   ],
   "source": [
    "gs.fit(X, y)"
   ]
  },
  {
   "cell_type": "code",
   "execution_count": 45,
   "metadata": {},
   "outputs": [
    {
     "name": "stdout",
     "output_type": "stream",
     "text": [
      "{'bootstrap': False, 'max_depth': None, 'max_features': 'sqrt', 'min_samples_split': 0.001, 'min_weight_fraction_leaf': 0.0001}\n"
     ]
    }
   ],
   "source": [
    "# this line is used when run with the first param grid to determine what the best parameters are for tuning\n",
    "print(gs.best_params_)"
   ]
  },
  {
   "cell_type": "code",
   "execution_count": 46,
   "metadata": {},
   "outputs": [
    {
     "name": "stdout",
     "output_type": "stream",
     "text": [
      "The best mean absolute error is 568.2\n"
     ]
    }
   ],
   "source": [
    "print('The best mean absolute error is', round(-gs.best_score_,2))"
   ]
  },
  {
   "cell_type": "code",
   "execution_count": 47,
   "metadata": {},
   "outputs": [
    {
     "data": {
      "text/plain": [
       "['models/bone_L2_season_precip.pkl']"
      ]
     },
     "execution_count": 47,
     "metadata": {},
     "output_type": "execute_result"
    }
   ],
   "source": [
    "joblib.dump(gs.best_estimator_, 'models/bone_L2_season_precip.pkl')"
   ]
  },
  {
   "cell_type": "code",
   "execution_count": 48,
   "metadata": {},
   "outputs": [
    {
     "data": {
      "text/plain": [
       "RandomForestRegressor(bootstrap=False, ccp_alpha=0.0, criterion='mae',\n",
       "                      max_depth=None, max_features='sqrt', max_leaf_nodes=None,\n",
       "                      max_samples=None, min_impurity_decrease=0.0,\n",
       "                      min_impurity_split=None, min_samples_leaf=1,\n",
       "                      min_samples_split=0.001, min_weight_fraction_leaf=0.0001,\n",
       "                      n_estimators=1000, n_jobs=None, oob_score=False,\n",
       "                      random_state=999, verbose=0, warm_start=False)"
      ]
     },
     "execution_count": 48,
     "metadata": {},
     "output_type": "execute_result"
    }
   ],
   "source": [
    "bone_L2_season_precip = joblib.load('models/bone_L2_season_precip.pkl')\n",
    "bone_L2_season_precip"
   ]
  },
  {
   "cell_type": "markdown",
   "metadata": {},
   "source": [
    "## Determine important features for L2 season and precipitation model"
   ]
  },
  {
   "cell_type": "code",
   "execution_count": 50,
   "metadata": {},
   "outputs": [
    {
     "name": "stdout",
     "output_type": "stream",
     "text": [
      "Feature:\t\t\t\tImportance:\n",
      "1. accumulated_precipitation_inches_base0\t0.22642135942611014\n",
      "2. k__Bacteria;p__Verrucomicrobia\t0.08953720111320916\n",
      "3. k__Bacteria;p__Firmicutes\t0.07811375976349073\n",
      "4. k__Bacteria;p__Proteobacteria\t0.07627497671424237\n",
      "5. k__Bacteria;p__Bacteroidetes\t0.0761270217757707\n",
      "6. k__Bacteria;p__Planctomycetes\t0.06406023670940361\n",
      "7. k__Bacteria;p__Actinobacteria\t0.04834312091298402\n",
      "8. k__Bacteria;p__Gemmatimonadetes\t0.0460506044133677\n",
      "9. k__Bacteria;p__Chloroflexi\t0.04225903452124425\n",
      "10. k__Bacteria;p__[Thermi]\t0.041853242588589974\n",
      "11. k__Bacteria;p__Fusobacteria\t0.037743340600356425\n",
      "12. k__Bacteria;p__Acidobacteria\t0.0307260355777873\n",
      "13. k__Bacteria;p__FBP\t0.02077014005888021\n",
      "14. k__Bacteria;p__BRC1\t0.014633468108830722\n",
      "15. k__Bacteria;p__Armatimonadetes\t0.013072169392086498\n",
      "16. k__Bacteria;p__Tenericutes\t0.012887937628393641\n",
      "17. k__Bacteria;p__Cyanobacteria\t0.011507818020866261\n",
      "18. k__Bacteria;p__GN02\t0.010099252607827361\n",
      "19. k__Bacteria;p__Chlorobi\t0.00846189727927441\n",
      "20. season=summer\t0.007775743819128302\n",
      "21. season=spring\t0.0077102888113612785\n",
      "22. k__Bacteria;p__TM7\t0.007504842150248341\n",
      "23. k__Bacteria;p__Deferribacteres\t0.006706349014410833\n",
      "24. k__Bacteria;p__OP11\t0.006333421118995361\n",
      "25. k__Bacteria;p__Spirochaetes\t0.004990486736088432\n"
     ]
    }
   ],
   "source": [
    "importances = bone_L2_season_precip.feature_importances_\n",
    "std = np.std([tree.feature_importances_ for tree in bone_L2_season_precip.estimators_],\n",
    "             axis=0)\n",
    "indices = np.argsort(importances)[::-1]\n",
    "\n",
    "feature_metadata = exp_L2_season_precip.feature_metadata\n",
    "np.savetxt(\"importances/bone_L2_season_precip_features.csv\", feature_metadata, delimiter=\",\", fmt='%s')\n",
    "\n",
    "\n",
    "#print the important ids in order\n",
    "general_importances = []\n",
    "count = 0\n",
    "print(\"Feature:\\t\\t\\t\\tImportance:\")\n",
    "for i in indices:\n",
    "    general_importances += (exp_L2_season_precip.feature_metadata.index.values[i], importances[indices[count]])\n",
    "    if count < 25:\n",
    "        print(str(count+1)+\". \"+str(exp_L2_season_precip.feature_metadata.index.values[i])+\"\\t\"+str(importances[indices[count]]))\n",
    "    count += 1\n",
    "    \n",
    "general_importances_df = pd.DataFrame(np.array(general_importances).reshape(64,1))\n",
    "\n",
    "np.savetxt(\"importances/bone_L2_season_precip_importances.csv\", general_importances_df, delimiter=\",\", fmt='%s')"
   ]
  },
  {
   "cell_type": "markdown",
   "metadata": {},
   "source": [
    "## Run the L2 model with season and humidity"
   ]
  },
  {
   "cell_type": "code",
   "execution_count": 51,
   "metadata": {},
   "outputs": [],
   "source": [
    "exp_L2_season_hum = exp_L2.add_sample_metadata_as_features(['season', 'accumulated_percent_humidity_days_base0'])"
   ]
  },
  {
   "cell_type": "code",
   "execution_count": 52,
   "metadata": {},
   "outputs": [],
   "source": [
    "# groupKfold = 6, will leave out one body for each model\n",
    "gkf = GroupKFold(6)\n",
    "\n",
    "X = exp_L2_season_hum.data\n",
    "y = exp_L2_season_hum.sample_metadata['ADD_0']\n",
    "y = (y.astype(float))\n",
    "\n",
    "groups = exp_L2_season_hum.sample_metadata['host_subject_id']\n",
    "\n",
    "# used to test the param grid for parameter tuning\n",
    "# use the output of this estimator below for input into new estimator (not commented out)\n",
    "param_grid = {\"max_depth\": [4, 8, 16, None],\n",
    "              \"max_features\": ['sqrt', 'log2', 0.1],\n",
    "              \"min_samples_split\": [0.001, 0.01, 0.1],\n",
    "              \"min_weight_fraction_leaf\": [0.0001, 0.001, 0.01],\n",
    "              \"bootstrap\": [True, False]}\n",
    "\n",
    "#param_grid = {\"max_depth\": [8],\n",
    "#          \"max_features\": [0.1],\n",
    "#          \"min_samples_split\": [0.001],\n",
    "#          \"min_weight_fraction_leaf\": [0.0001],\n",
    "#          \"bootstrap\": [False]}\n",
    "\n",
    "rf = RandomForestRegressor(n_estimators=1000, random_state=999, criterion='mae')\n",
    "gs = GridSearchCV(rf, param_grid=param_grid, cv=gkf.split(X, y, groups), scoring='neg_mean_absolute_error', n_jobs=1)"
   ]
  },
  {
   "cell_type": "code",
   "execution_count": 53,
   "metadata": {},
   "outputs": [
    {
     "data": {
      "text/plain": [
       "GridSearchCV(cv=<generator object _BaseKFold.split at 0x11c661050>,\n",
       "             error_score=nan,\n",
       "             estimator=RandomForestRegressor(bootstrap=True, ccp_alpha=0.0,\n",
       "                                             criterion='mae', max_depth=None,\n",
       "                                             max_features='auto',\n",
       "                                             max_leaf_nodes=None,\n",
       "                                             max_samples=None,\n",
       "                                             min_impurity_decrease=0.0,\n",
       "                                             min_impurity_split=None,\n",
       "                                             min_samples_leaf=1,\n",
       "                                             min_samples_split=2,\n",
       "                                             min_weight_fraction_leaf=0.0,\n",
       "                                             n_es...\n",
       "                                             oob_score=False, random_state=999,\n",
       "                                             verbose=0, warm_start=False),\n",
       "             iid='deprecated', n_jobs=1,\n",
       "             param_grid={'bootstrap': [True, False],\n",
       "                         'max_depth': [4, 8, 16, None],\n",
       "                         'max_features': ['sqrt', 'log2', 0.1],\n",
       "                         'min_samples_split': [0.001, 0.01, 0.1],\n",
       "                         'min_weight_fraction_leaf': [0.0001, 0.001, 0.01]},\n",
       "             pre_dispatch='2*n_jobs', refit=True, return_train_score=False,\n",
       "             scoring='neg_mean_absolute_error', verbose=0)"
      ]
     },
     "execution_count": 53,
     "metadata": {},
     "output_type": "execute_result"
    }
   ],
   "source": [
    "gs.fit(X, y)"
   ]
  },
  {
   "cell_type": "code",
   "execution_count": 54,
   "metadata": {},
   "outputs": [
    {
     "name": "stdout",
     "output_type": "stream",
     "text": [
      "{'bootstrap': False, 'max_depth': 16, 'max_features': 'sqrt', 'min_samples_split': 0.001, 'min_weight_fraction_leaf': 0.0001}\n"
     ]
    }
   ],
   "source": [
    "# this line is used when run with the first param grid to determine what the best parameters are for tuning\n",
    "print(gs.best_params_)"
   ]
  },
  {
   "cell_type": "code",
   "execution_count": 55,
   "metadata": {},
   "outputs": [
    {
     "name": "stdout",
     "output_type": "stream",
     "text": [
      "The best mean absolute error is 531.33\n"
     ]
    }
   ],
   "source": [
    "print('The best mean absolute error is', round(-gs.best_score_,2))"
   ]
  },
  {
   "cell_type": "code",
   "execution_count": 56,
   "metadata": {},
   "outputs": [
    {
     "data": {
      "text/plain": [
       "['models/bone_L2_season_hum.pkl']"
      ]
     },
     "execution_count": 56,
     "metadata": {},
     "output_type": "execute_result"
    }
   ],
   "source": [
    "joblib.dump(gs.best_estimator_, 'models/bone_L2_season_hum.pkl')"
   ]
  },
  {
   "cell_type": "code",
   "execution_count": 57,
   "metadata": {},
   "outputs": [
    {
     "data": {
      "text/plain": [
       "RandomForestRegressor(bootstrap=False, ccp_alpha=0.0, criterion='mae',\n",
       "                      max_depth=16, max_features='sqrt', max_leaf_nodes=None,\n",
       "                      max_samples=None, min_impurity_decrease=0.0,\n",
       "                      min_impurity_split=None, min_samples_leaf=1,\n",
       "                      min_samples_split=0.001, min_weight_fraction_leaf=0.0001,\n",
       "                      n_estimators=1000, n_jobs=None, oob_score=False,\n",
       "                      random_state=999, verbose=0, warm_start=False)"
      ]
     },
     "execution_count": 57,
     "metadata": {},
     "output_type": "execute_result"
    }
   ],
   "source": [
    "bone_L2_season_hum = joblib.load('models/bone_L2_season_hum.pkl')\n",
    "bone_L2_season_hum"
   ]
  },
  {
   "cell_type": "markdown",
   "metadata": {},
   "source": [
    "## Determine important features for L2 season and humidity model"
   ]
  },
  {
   "cell_type": "code",
   "execution_count": 59,
   "metadata": {},
   "outputs": [
    {
     "name": "stdout",
     "output_type": "stream",
     "text": [
      "Feature:\t\t\t\tImportance:\n",
      "1. accumulated_percent_humidity_days_base0\t0.2533338834980347\n",
      "2. k__Bacteria;p__Verrucomicrobia\t0.08267015001633723\n",
      "3. k__Bacteria;p__Bacteroidetes\t0.07629975306835772\n",
      "4. k__Bacteria;p__Firmicutes\t0.07627558654901216\n",
      "5. k__Bacteria;p__Proteobacteria\t0.07206698359093507\n",
      "6. k__Bacteria;p__Planctomycetes\t0.06456756730294942\n",
      "7. k__Bacteria;p__Gemmatimonadetes\t0.045977148973445466\n",
      "8. k__Bacteria;p__[Thermi]\t0.0429611251761901\n",
      "9. k__Bacteria;p__Actinobacteria\t0.04236310292871346\n",
      "10. k__Bacteria;p__Chloroflexi\t0.04086679604356672\n",
      "11. k__Bacteria;p__Fusobacteria\t0.034681976230749\n",
      "12. k__Bacteria;p__Acidobacteria\t0.032192278489662836\n",
      "13. k__Bacteria;p__FBP\t0.018760050631492785\n",
      "14. k__Bacteria;p__BRC1\t0.014635959296300417\n",
      "15. k__Bacteria;p__Cyanobacteria\t0.013911033478922263\n",
      "16. k__Bacteria;p__Armatimonadetes\t0.013837826319549253\n",
      "17. k__Bacteria;p__Tenericutes\t0.01032783337688724\n",
      "18. k__Bacteria;p__GN02\t0.008747702894678243\n",
      "19. k__Bacteria;p__Chlorobi\t0.0077698725445604026\n",
      "20. k__Bacteria;p__TM7\t0.00733152879145906\n",
      "21. season=spring\t0.00625371144698135\n",
      "22. k__Bacteria;p__OP11\t0.006099023432466595\n",
      "23. season=summer\t0.005957025702057573\n",
      "24. k__Bacteria;p__Deferribacteres\t0.005238559527465781\n",
      "25. k__Bacteria;p__Spirochaetes\t0.005028115123442516\n"
     ]
    }
   ],
   "source": [
    "importances = bone_L2_season_hum.feature_importances_\n",
    "std = np.std([tree.feature_importances_ for tree in bone_L2_season_hum.estimators_],\n",
    "             axis=0)\n",
    "indices = np.argsort(importances)[::-1]\n",
    "\n",
    "feature_metadata = exp_L2_season_hum.feature_metadata\n",
    "np.savetxt(\"importances/bone_L2_season_hum_features.csv\", feature_metadata, delimiter=\",\", fmt='%s')\n",
    "\n",
    "\n",
    "#print the important ids in order\n",
    "general_importances = []\n",
    "count = 0\n",
    "print(\"Feature:\\t\\t\\t\\tImportance:\")\n",
    "for i in indices:\n",
    "    general_importances += (exp_L2_season_hum.feature_metadata.index.values[i], importances[indices[count]])\n",
    "    if count < 25:\n",
    "        print(str(count+1)+\". \"+str(exp_L2_season_hum.feature_metadata.index.values[i])+\"\\t\"+str(importances[indices[count]]))\n",
    "    count += 1\n",
    "    \n",
    "general_importances_df = pd.DataFrame(np.array(general_importances).reshape(64,1))\n",
    "\n",
    "np.savetxt(\"importances/bone_L2_season_hum_importances.csv\", general_importances_df, delimiter=\",\", fmt='%s')"
   ]
  },
  {
   "cell_type": "markdown",
   "metadata": {},
   "source": [
    "## Run the L2 model with precipitation and humidity"
   ]
  },
  {
   "cell_type": "code",
   "execution_count": 60,
   "metadata": {},
   "outputs": [],
   "source": [
    "exp_L2_precip_hum = exp_L2.add_sample_metadata_as_features(['accumulated_precipitation_inches_base0', 'accumulated_percent_humidity_days_base0'])\n"
   ]
  },
  {
   "cell_type": "code",
   "execution_count": 61,
   "metadata": {},
   "outputs": [],
   "source": [
    "# groupKfold = 6, will leave out one body for each model\n",
    "gkf = GroupKFold(6)\n",
    "\n",
    "X = exp_L2_precip_hum.data\n",
    "y = exp_L2_precip_hum.sample_metadata['ADD_0']\n",
    "y = (y.astype(float))\n",
    "\n",
    "groups = exp_L2_precip_hum.sample_metadata['host_subject_id']\n",
    "\n",
    "# used to test the param grid for parameter tuning\n",
    "# use the output of this estimator below for input into new estimator (not commented out)\n",
    "param_grid = {\"max_depth\": [4, 8, 16, None],\n",
    "              \"max_features\": ['sqrt', 'log2', 0.1],\n",
    "              \"min_samples_split\": [0.001, 0.01, 0.1],\n",
    "              \"min_weight_fraction_leaf\": [0.0001, 0.001, 0.01],\n",
    "              \"bootstrap\": [True, False]}\n",
    "\n",
    "#param_grid = {\"max_depth\": [8],\n",
    "#          \"max_features\": [0.1],\n",
    "#          \"min_samples_split\": [0.001],\n",
    "#          \"min_weight_fraction_leaf\": [0.0001],\n",
    "#          \"bootstrap\": [False]}\n",
    "\n",
    "rf = RandomForestRegressor(n_estimators=1000, random_state=999, criterion='mae')\n",
    "gs = GridSearchCV(rf, param_grid=param_grid, cv=gkf.split(X, y, groups), scoring='neg_mean_absolute_error', n_jobs=1)"
   ]
  },
  {
   "cell_type": "code",
   "execution_count": 62,
   "metadata": {},
   "outputs": [
    {
     "data": {
      "text/plain": [
       "GridSearchCV(cv=<generator object _BaseKFold.split at 0x11c661350>,\n",
       "             error_score=nan,\n",
       "             estimator=RandomForestRegressor(bootstrap=True, ccp_alpha=0.0,\n",
       "                                             criterion='mae', max_depth=None,\n",
       "                                             max_features='auto',\n",
       "                                             max_leaf_nodes=None,\n",
       "                                             max_samples=None,\n",
       "                                             min_impurity_decrease=0.0,\n",
       "                                             min_impurity_split=None,\n",
       "                                             min_samples_leaf=1,\n",
       "                                             min_samples_split=2,\n",
       "                                             min_weight_fraction_leaf=0.0,\n",
       "                                             n_es...\n",
       "                                             oob_score=False, random_state=999,\n",
       "                                             verbose=0, warm_start=False),\n",
       "             iid='deprecated', n_jobs=1,\n",
       "             param_grid={'bootstrap': [True, False],\n",
       "                         'max_depth': [4, 8, 16, None],\n",
       "                         'max_features': ['sqrt', 'log2', 0.1],\n",
       "                         'min_samples_split': [0.001, 0.01, 0.1],\n",
       "                         'min_weight_fraction_leaf': [0.0001, 0.001, 0.01]},\n",
       "             pre_dispatch='2*n_jobs', refit=True, return_train_score=False,\n",
       "             scoring='neg_mean_absolute_error', verbose=0)"
      ]
     },
     "execution_count": 62,
     "metadata": {},
     "output_type": "execute_result"
    }
   ],
   "source": [
    "gs.fit(X, y)"
   ]
  },
  {
   "cell_type": "code",
   "execution_count": 63,
   "metadata": {},
   "outputs": [
    {
     "name": "stdout",
     "output_type": "stream",
     "text": [
      "{'bootstrap': False, 'max_depth': None, 'max_features': 'sqrt', 'min_samples_split': 0.001, 'min_weight_fraction_leaf': 0.0001}\n"
     ]
    }
   ],
   "source": [
    "# this line is used when run with the first param grid to determine what the best parameters are for tuning\n",
    "print(gs.best_params_)"
   ]
  },
  {
   "cell_type": "code",
   "execution_count": 64,
   "metadata": {},
   "outputs": [
    {
     "name": "stdout",
     "output_type": "stream",
     "text": [
      "The best mean absolute error is 406.11\n"
     ]
    }
   ],
   "source": [
    "print('The best mean absolute error is', round(-gs.best_score_,2))"
   ]
  },
  {
   "cell_type": "code",
   "execution_count": 65,
   "metadata": {},
   "outputs": [
    {
     "data": {
      "text/plain": [
       "['models/bone_L2_precip_hum.pkl']"
      ]
     },
     "execution_count": 65,
     "metadata": {},
     "output_type": "execute_result"
    }
   ],
   "source": [
    "joblib.dump(gs.best_estimator_, 'models/bone_L2_precip_hum.pkl')"
   ]
  },
  {
   "cell_type": "code",
   "execution_count": 66,
   "metadata": {},
   "outputs": [
    {
     "data": {
      "text/plain": [
       "RandomForestRegressor(bootstrap=False, ccp_alpha=0.0, criterion='mae',\n",
       "                      max_depth=None, max_features='sqrt', max_leaf_nodes=None,\n",
       "                      max_samples=None, min_impurity_decrease=0.0,\n",
       "                      min_impurity_split=None, min_samples_leaf=1,\n",
       "                      min_samples_split=0.001, min_weight_fraction_leaf=0.0001,\n",
       "                      n_estimators=1000, n_jobs=None, oob_score=False,\n",
       "                      random_state=999, verbose=0, warm_start=False)"
      ]
     },
     "execution_count": 66,
     "metadata": {},
     "output_type": "execute_result"
    }
   ],
   "source": [
    "bone_L2_precip_hum = joblib.load('models/bone_L2_precip_hum.pkl')\n",
    "bone_L2_precip_hum"
   ]
  },
  {
   "cell_type": "markdown",
   "metadata": {},
   "source": [
    "## Determine important features for L2 precipitation and humidity model"
   ]
  },
  {
   "cell_type": "code",
   "execution_count": 68,
   "metadata": {},
   "outputs": [
    {
     "name": "stdout",
     "output_type": "stream",
     "text": [
      "Feature:\t\t\t\tImportance:\n",
      "1. accumulated_percent_humidity_days_base0\t0.22476041233242242\n",
      "2. accumulated_precipitation_inches_base0\t0.18446048104557278\n",
      "3. k__Bacteria;p__Verrucomicrobia\t0.06738326470369013\n",
      "4. k__Bacteria;p__Firmicutes\t0.06088789638473622\n",
      "5. k__Bacteria;p__Proteobacteria\t0.05740217841469185\n",
      "6. k__Bacteria;p__Bacteroidetes\t0.05681705845657508\n",
      "7. k__Bacteria;p__Planctomycetes\t0.05345361532778305\n",
      "8. k__Bacteria;p__Gemmatimonadetes\t0.0395605765973457\n",
      "9. k__Bacteria;p__Actinobacteria\t0.03812417822402574\n",
      "10. k__Bacteria;p__[Thermi]\t0.03458588385567324\n",
      "11. k__Bacteria;p__Chloroflexi\t0.02987870153081879\n",
      "12. k__Bacteria;p__Fusobacteria\t0.027273228691235257\n",
      "13. k__Bacteria;p__Acidobacteria\t0.02456483015677615\n",
      "14. k__Bacteria;p__FBP\t0.018024526565985556\n",
      "15. k__Bacteria;p__BRC1\t0.011493930602283589\n",
      "16. k__Bacteria;p__Armatimonadetes\t0.010971746797529248\n",
      "17. k__Bacteria;p__Cyanobacteria\t0.010127104265964072\n",
      "18. k__Bacteria;p__Tenericutes\t0.009152876261128328\n",
      "19. k__Bacteria;p__GN02\t0.006506226835855877\n",
      "20. k__Bacteria;p__Chlorobi\t0.006149903093928799\n",
      "21. k__Bacteria;p__TM7\t0.006027912713344194\n",
      "22. k__Bacteria;p__OP11\t0.005867232936968431\n",
      "23. k__Bacteria;p__Deferribacteres\t0.005157576942488721\n",
      "24. k__Bacteria;p__Spirochaetes\t0.00359268954699698\n",
      "25. k__Bacteria;p__Synergistetes\t0.002510262391934512\n"
     ]
    }
   ],
   "source": [
    "importances = bone_L2_precip_hum.feature_importances_\n",
    "std = np.std([tree.feature_importances_ for tree in bone_L2_precip_hum.estimators_],\n",
    "             axis=0)\n",
    "indices = np.argsort(importances)[::-1]\n",
    "\n",
    "feature_metadata = exp_L2_precip_hum.feature_metadata\n",
    "np.savetxt(\"importances/bone_L2_precip_hum_features.csv\", feature_metadata, delimiter=\",\", fmt='%s')\n",
    "\n",
    "\n",
    "#print the important ids in order\n",
    "general_importances = []\n",
    "count = 0\n",
    "print(\"Feature:\\t\\t\\t\\tImportance:\")\n",
    "for i in indices:\n",
    "    general_importances += (exp_L2_precip_hum.feature_metadata.index.values[i], importances[indices[count]])\n",
    "    if count < 25:\n",
    "        print(str(count+1)+\". \"+str(exp_L2_precip_hum.feature_metadata.index.values[i])+\"\\t\"+str(importances[indices[count]]))\n",
    "    count += 1\n",
    "    \n",
    "general_importances_df = pd.DataFrame(np.array(general_importances).reshape(62,1))\n",
    "\n",
    "np.savetxt(\"importances/bone_L2_precip_hum_importances.csv\", general_importances_df, delimiter=\",\", fmt='%s')"
   ]
  },
  {
   "cell_type": "markdown",
   "metadata": {},
   "source": [
    "## Run the L2 model with season, precipitation, and humidity"
   ]
  },
  {
   "cell_type": "code",
   "execution_count": 69,
   "metadata": {},
   "outputs": [],
   "source": [
    "exp_L2_season_precip_hum = exp_L2.add_sample_metadata_as_features(['season', 'accumulated_precipitation_inches_base0', 'accumulated_percent_humidity_days_base0'])\n"
   ]
  },
  {
   "cell_type": "code",
   "execution_count": 70,
   "metadata": {},
   "outputs": [],
   "source": [
    "# groupKfold = 6, will leave out one body for each model\n",
    "gkf = GroupKFold(6)\n",
    "\n",
    "X = exp_L2_season_precip_hum.data\n",
    "y = exp_L2_season_precip_hum.sample_metadata['ADD_0']\n",
    "y = (y.astype(float))\n",
    "\n",
    "groups = exp_L2_season_precip_hum.sample_metadata['host_subject_id']\n",
    "\n",
    "# used to test the param grid for parameter tuning\n",
    "# use the output of this estimator below for input into new estimator (not commented out)\n",
    "param_grid = {\"max_depth\": [4, 8, 16, None],\n",
    "              \"max_features\": ['sqrt', 'log2', 0.1],\n",
    "              \"min_samples_split\": [0.001, 0.01, 0.1],\n",
    "              \"min_weight_fraction_leaf\": [0.0001, 0.001, 0.01],\n",
    "              \"bootstrap\": [True, False]}\n",
    "\n",
    "#param_grid = {\"max_depth\": [8],\n",
    "#          \"max_features\": [0.1],\n",
    "#          \"min_samples_split\": [0.001],\n",
    "#          \"min_weight_fraction_leaf\": [0.0001],\n",
    "#          \"bootstrap\": [False]}\n",
    "\n",
    "rf = RandomForestRegressor(n_estimators=1000, random_state=999, criterion='mae')\n",
    "gs = GridSearchCV(rf, param_grid=param_grid, cv=gkf.split(X, y, groups), scoring='neg_mean_absolute_error', n_jobs=1)"
   ]
  },
  {
   "cell_type": "code",
   "execution_count": 71,
   "metadata": {},
   "outputs": [
    {
     "data": {
      "text/plain": [
       "GridSearchCV(cv=<generator object _BaseKFold.split at 0x11ca212d0>,\n",
       "             error_score=nan,\n",
       "             estimator=RandomForestRegressor(bootstrap=True, ccp_alpha=0.0,\n",
       "                                             criterion='mae', max_depth=None,\n",
       "                                             max_features='auto',\n",
       "                                             max_leaf_nodes=None,\n",
       "                                             max_samples=None,\n",
       "                                             min_impurity_decrease=0.0,\n",
       "                                             min_impurity_split=None,\n",
       "                                             min_samples_leaf=1,\n",
       "                                             min_samples_split=2,\n",
       "                                             min_weight_fraction_leaf=0.0,\n",
       "                                             n_es...\n",
       "                                             oob_score=False, random_state=999,\n",
       "                                             verbose=0, warm_start=False),\n",
       "             iid='deprecated', n_jobs=1,\n",
       "             param_grid={'bootstrap': [True, False],\n",
       "                         'max_depth': [4, 8, 16, None],\n",
       "                         'max_features': ['sqrt', 'log2', 0.1],\n",
       "                         'min_samples_split': [0.001, 0.01, 0.1],\n",
       "                         'min_weight_fraction_leaf': [0.0001, 0.001, 0.01]},\n",
       "             pre_dispatch='2*n_jobs', refit=True, return_train_score=False,\n",
       "             scoring='neg_mean_absolute_error', verbose=0)"
      ]
     },
     "execution_count": 71,
     "metadata": {},
     "output_type": "execute_result"
    }
   ],
   "source": [
    "gs.fit(X, y)"
   ]
  },
  {
   "cell_type": "code",
   "execution_count": 72,
   "metadata": {},
   "outputs": [
    {
     "name": "stdout",
     "output_type": "stream",
     "text": [
      "{'bootstrap': False, 'max_depth': 16, 'max_features': 'sqrt', 'min_samples_split': 0.001, 'min_weight_fraction_leaf': 0.0001}\n"
     ]
    }
   ],
   "source": [
    "# this line is used when run with the first param grid to determine what the best parameters are for tuning\n",
    "print(gs.best_params_)"
   ]
  },
  {
   "cell_type": "code",
   "execution_count": 73,
   "metadata": {},
   "outputs": [
    {
     "name": "stdout",
     "output_type": "stream",
     "text": [
      "The best mean absolute error is 406.7\n"
     ]
    }
   ],
   "source": [
    "print('The best mean absolute error is', round(-gs.best_score_,2))"
   ]
  },
  {
   "cell_type": "code",
   "execution_count": 74,
   "metadata": {},
   "outputs": [
    {
     "data": {
      "text/plain": [
       "['models/bone_L2_season_precip_hum.pkl']"
      ]
     },
     "execution_count": 74,
     "metadata": {},
     "output_type": "execute_result"
    }
   ],
   "source": [
    "joblib.dump(gs.best_estimator_, 'models/bone_L2_season_precip_hum.pkl')"
   ]
  },
  {
   "cell_type": "code",
   "execution_count": 75,
   "metadata": {},
   "outputs": [
    {
     "data": {
      "text/plain": [
       "RandomForestRegressor(bootstrap=False, ccp_alpha=0.0, criterion='mae',\n",
       "                      max_depth=16, max_features='sqrt', max_leaf_nodes=None,\n",
       "                      max_samples=None, min_impurity_decrease=0.0,\n",
       "                      min_impurity_split=None, min_samples_leaf=1,\n",
       "                      min_samples_split=0.001, min_weight_fraction_leaf=0.0001,\n",
       "                      n_estimators=1000, n_jobs=None, oob_score=False,\n",
       "                      random_state=999, verbose=0, warm_start=False)"
      ]
     },
     "execution_count": 75,
     "metadata": {},
     "output_type": "execute_result"
    }
   ],
   "source": [
    "bone_L2_season_precip_hum = joblib.load('models/bone_L2_season_precip_hum.pkl')\n",
    "bone_L2_season_precip_hum"
   ]
  },
  {
   "cell_type": "markdown",
   "metadata": {},
   "source": [
    "## Determine important features for L2 season, precipitation, humidity model"
   ]
  },
  {
   "cell_type": "code",
   "execution_count": 77,
   "metadata": {},
   "outputs": [
    {
     "name": "stdout",
     "output_type": "stream",
     "text": [
      "Feature:\t\t\t\tImportance:\n",
      "1. accumulated_percent_humidity_days_base0\t0.22680683261232143\n",
      "2. accumulated_precipitation_inches_base0\t0.17959272299897452\n",
      "3. k__Bacteria;p__Verrucomicrobia\t0.07480774769635558\n",
      "4. k__Bacteria;p__Firmicutes\t0.06066531577550839\n",
      "5. k__Bacteria;p__Bacteroidetes\t0.05680288160051581\n",
      "6. k__Bacteria;p__Proteobacteria\t0.053385324101754325\n",
      "7. k__Bacteria;p__Planctomycetes\t0.051632336130879156\n",
      "8. k__Bacteria;p__Actinobacteria\t0.03795128541400078\n",
      "9. k__Bacteria;p__Gemmatimonadetes\t0.03286684337826081\n",
      "10. k__Bacteria;p__[Thermi]\t0.03228745628819685\n",
      "11. k__Bacteria;p__Chloroflexi\t0.03107105755467901\n",
      "12. k__Bacteria;p__Fusobacteria\t0.028624672876159583\n",
      "13. k__Bacteria;p__Acidobacteria\t0.026428551795106284\n",
      "14. k__Bacteria;p__FBP\t0.015394111157415563\n",
      "15. k__Bacteria;p__BRC1\t0.01072037299553048\n",
      "16. k__Bacteria;p__Cyanobacteria\t0.009541221772661306\n",
      "17. k__Bacteria;p__Tenericutes\t0.008948693912292685\n",
      "18. k__Bacteria;p__Armatimonadetes\t0.008796914714527584\n",
      "19. k__Bacteria;p__GN02\t0.007247643580275008\n",
      "20. k__Bacteria;p__TM7\t0.006600829356387752\n",
      "21. k__Bacteria;p__Chlorobi\t0.006156837299474066\n",
      "22. season=spring\t0.005916187755072966\n",
      "23. season=summer\t0.00549911955388727\n",
      "24. k__Bacteria;p__Deferribacteres\t0.005281006939866762\n",
      "25. k__Bacteria;p__OP11\t0.005118571137233647\n"
     ]
    }
   ],
   "source": [
    "importances = bone_L2_season_precip_hum.feature_importances_\n",
    "std = np.std([tree.feature_importances_ for tree in bone_L2_season_precip_hum.estimators_],\n",
    "             axis=0)\n",
    "indices = np.argsort(importances)[::-1]\n",
    "\n",
    "feature_metadata = exp_L2_season_precip_hum.feature_metadata\n",
    "np.savetxt(\"importances/bone_L2_season_precip_hum_features.csv\", feature_metadata, delimiter=\",\", fmt='%s')\n",
    "\n",
    "\n",
    "#print the important ids in order\n",
    "general_importances = []\n",
    "count = 0\n",
    "print(\"Feature:\\t\\t\\t\\tImportance:\")\n",
    "for i in indices:\n",
    "    general_importances += (exp_L2_season_precip_hum.feature_metadata.index.values[i], importances[indices[count]])\n",
    "    if count < 25:\n",
    "        print(str(count+1)+\". \"+str(exp_L2_season_precip_hum.feature_metadata.index.values[i])+\"\\t\"+str(importances[indices[count]]))\n",
    "    count += 1\n",
    "    \n",
    "general_importances_df = pd.DataFrame(np.array(general_importances).reshape(66,1))\n",
    "\n",
    "np.savetxt(\"importances/bone_L2_season_precip_hum_importances.csv\", general_importances_df, delimiter=\",\", fmt='%s')"
   ]
  }
 ],
 "metadata": {
  "kernelspec": {
   "display_name": "Python 3",
   "language": "python",
   "name": "python3"
  },
  "language_info": {
   "codemirror_mode": {
    "name": "ipython",
    "version": 3
   },
   "file_extension": ".py",
   "mimetype": "text/x-python",
   "name": "python",
   "nbconvert_exporter": "python",
   "pygments_lexer": "ipython3",
   "version": "3.7.7"
  }
 },
 "nbformat": 4,
 "nbformat_minor": 4
}
