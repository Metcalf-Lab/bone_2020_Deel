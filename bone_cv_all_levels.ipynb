{
 "cells": [
  {
   "cell_type": "markdown",
   "metadata": {},
   "source": [
    "## Description"
   ]
  },
  {
   "cell_type": "markdown",
   "metadata": {},
   "source": [
    "Bone models of 16S rRNA data at all taxonomic levels, using the ml_new environment, rarefied data and no normalization during import, n = 1000 estimators, k fold = 6 (for regular, non-nested cross-validation), and hyperparameter tuning."
   ]
  },
  {
   "cell_type": "code",
   "execution_count": 1,
   "metadata": {},
   "outputs": [
    {
     "name": "stderr",
     "output_type": "stream",
     "text": [
      "/Users/heatherdeel/miniconda3/envs/ml_new/lib/python3.7/site-packages/sklearn/externals/joblib/__init__.py:15: FutureWarning: sklearn.externals.joblib is deprecated in 0.21 and will be removed in 0.23. Please import this functionality directly from joblib, which can be installed with: pip install joblib. If this warning is raised when loading pickled models, you may need to re-serialize those models with scikit-learn 0.21+.\n",
      "  warnings.warn(msg, category=FutureWarning)\n"
     ]
    }
   ],
   "source": [
    "from sklearn.ensemble import RandomForestRegressor\n",
    "from sklearn import preprocessing, svm, metrics\n",
    "from sklearn.ensemble import RandomForestClassifier, ExtraTreesClassifier\n",
    "from sklearn.model_selection import StratifiedKFold, KFold, GridSearchCV, GroupKFold, cross_val_score, train_test_split\n",
    "from sklearn.pipeline import Pipeline\n",
    "from sklearn.svm import LinearSVC, SVR\n",
    "from sklearn.metrics import r2_score, mean_squared_error, mean_absolute_error, mean_absolute_error, roc_auc_score, precision_score, make_scorer\n",
    "from sklearn.linear_model import LassoCV, Lasso, LassoLarsIC, ElasticNet, LassoLarsCV\n",
    "from sklearn.externals import joblib\n",
    "from scipy.stats import randint as sp_randint\n",
    "from matplotlib import pyplot as plt\n",
    "from sklearn.feature_selection import RFECV\n",
    "from sklearn.gaussian_process import GaussianProcessClassifier\n",
    "from sklearn.gaussian_process.kernels import RBF\n",
    "from sklearn.neighbors import KNeighborsClassifier, RadiusNeighborsClassifier"
   ]
  },
  {
   "cell_type": "code",
   "execution_count": 2,
   "metadata": {},
   "outputs": [
    {
     "name": "stderr",
     "output_type": "stream",
     "text": [
      "/Users/heatherdeel/miniconda3/envs/ml_new/lib/python3.7/site-packages/skbio/util/_testing.py:15: FutureWarning: pandas.util.testing is deprecated. Use the functions in the public API at pandas.testing instead.\n",
      "  import pandas.util.testing as pdt\n"
     ]
    }
   ],
   "source": [
    "import pandas as pd\n",
    "import numpy as np\n",
    "import matplotlib\n",
    "import seaborn as sns\n",
    "%matplotlib inline\n",
    "import biom\n",
    "import calour as ca\n",
    "from scipy import stats\n",
    "import scipy\n",
    "import pickle\n",
    "import time\n",
    "import math\n",
    "import inspect\n",
    "pd.set_option('display.max_rows', 10000)"
   ]
  },
  {
   "cell_type": "markdown",
   "metadata": {},
   "source": [
    "## Import rarefied data collapsed at L2"
   ]
  },
  {
   "cell_type": "code",
   "execution_count": 3,
   "metadata": {},
   "outputs": [
    {
     "name": "stdout",
     "output_type": "stream",
     "text": [
      "2020-06-26 11:12:10 WARNING These have metadata but do not have data - dropped (51): {'11553.CSU.extraction.blank1', '11553.BLANKrib.11E', '11553.BLANKrib.10D', '11553.CSU.extraction.blank10', '11553.BLANKrib.10G', '11553.CSU.extraction.blank8', '11553.BLANKrib.10B', '11553.CSU.extraction.blank6', '11553.BLANKrib.9A', '11553.BLANKrib.11G', '11553.CSU.extraction.blank5', '11553.BLANKrib.12F', '11553.BLANKrib.12H', '11553.BLANKrib.9B', '11553.CSU.extraction.blank7', '11553.SHSU.STAFS2016.011.L09', '11553.BLANKrib.11H', '11553.BLANKrib.10F', '11553.CSU.extraction.blank15', '11553.BLANKrib.5B', '11553.CSU.extraction.blank3', '11553.BLANKrib.9D', '11553.BLANKrib.9H', '11553.BLANKrib.9C', '11553.BLANKrib.12A', '11553.STAFS.2016.064.L12', '11553.BLANKrib.11D', '11553.CSU.extraction.blank13', '11553.CSU.extraction.blank14', '11553.CSU.extraction.blank12', '11553.BLANKrib.10A', '11553.CSU.extraction.blank11', '11553.BLANKrib.11C', '11553.BLANKrib.12G', '11553.BLANKrib.12E', '11553.CSU.extraction.blank9', '11553.BLANKrib.10H', '11553.SHSU.STAFS2016.007.R11', '11553.CSU.extraction.blank4', '11553.BLANKrib.10E', '11553.BLANKrib.10C', '11553.BLANKrib.9G', '11553.BLANKrib.9E', '11553.BLANKrib.12B', '11553.BLANKrib.11B', '11553.BLANKrib.12D', '11553.BLANKrib.12C', '11553.BLANKrib.11A', '11553.BLANKrib.9F', '11553.CSU.extraction.blank2', '11553.BLANKrib.11F'}\n"
     ]
    }
   ],
   "source": [
    "exp_L2 = ca.read_amplicon('/Users/heatherdeel/Dropbox/PMI_3_analyses/bone/01_16S/01_qiime2_analysis/feature_tables/collapsed_tables/frag_ins_noChloMito_17098_L2_table.biom', '../02_metadata/maps/map3.txt', min_reads=0, normalize = None)\n"
   ]
  },
  {
   "cell_type": "code",
   "execution_count": 4,
   "metadata": {},
   "outputs": [
    {
     "data": {
      "text/plain": [
       "STAFS2016.065    8\n",
       "STAFS2016.011    8\n",
       "STAFS2016.067    8\n",
       "STAFS2016.007    7\n",
       "STAFS2016.064    7\n",
       "STAFS2016.024    7\n",
       "Name: host_subject_id, dtype: int64"
      ]
     },
     "execution_count": 4,
     "metadata": {},
     "output_type": "execute_result"
    }
   ],
   "source": [
    "exp_L2.sample_metadata['host_subject_id'].value_counts()"
   ]
  },
  {
   "cell_type": "code",
   "execution_count": 5,
   "metadata": {},
   "outputs": [
    {
     "data": {
      "text/plain": [
       "#SampleID\n",
       "11553.SHSU.STAFS2016.024.R09      708.0555556\n",
       "11553.STAFS.2016.065.L12          2268.055556\n",
       "11553.STAFS.2016.067.R12          2414.444444\n",
       "11553.SHSU.STAFS2016.007.L09      1911.111111\n",
       "11553.SHSU.STAFS2016.011.L08      1301.666667\n",
       "11553.STAFS.2016.065.R11          4756.388889\n",
       "11553.STAFS.2016.065.R09          3456.111111\n",
       "11553.SHSU.STAFS2016.024.L12      4285.833333\n",
       "11553.SHSU.STAFS2016.007.L11      2584.444444\n",
       "11553.SHSU.STAFS2016.011.L10      3777.222222\n",
       "11553.STAFS.2016.064.R10          3456.111111\n",
       "11553.SHSU.STAFS2016.024.R11      2584.444444\n",
       "11553.STAFS.2016.067.L11.june     5201.388889\n",
       "11553.SHSU.STAFS2016.007.R12      1301.666667\n",
       "11553.STAFS.2016.065.R10          2804.722222\n",
       "11553.STAFS.2016.064.R09          592.7777778\n",
       "11553.STAFS.2016.067.L10          3623.055556\n",
       "11553.SHSU.STAFS2016.011.R12      708.0555556\n",
       "11553.STAFS.2016.064.R11          1300.555556\n",
       "11553.SHSU.STAFS2016.011.L11      4285.833333\n",
       "11553.SHSU.STAFS2016.007.L10      4821.388889\n",
       "11553.STAFS.2016.065.R08          4013.333333\n",
       "11553.SHSU.STAFS2016.007.R10      708.0555556\n",
       "11553.STAFS.2016.064.R12          2035.277778\n",
       "11553.SHSU.STAFS2016.011.L12      3305.555556\n",
       "11553.SHSU.STAFS2016.024.L10      3305.555556\n",
       "11553.STAFS.2016.064.L11          2804.722222\n",
       "11553.STAFS.2016.064.L09          4013.333333\n",
       "11553.STAFS.2016.067.L11.march    3065.833333\n",
       "11553.STAFS.2016.067.R10                 1645\n",
       "11553.STAFS.2016.065.L10          1300.555556\n",
       "11553.SHSU.STAFS2016.011.R09      1911.111111\n",
       "11553.STAFS.2016.064.L10          4756.388889\n",
       "11553.STAFS.2016.067.R09          1877.777778\n",
       "11553.SHSU.STAFS2016.024.L11      4821.388889\n",
       "11553.SHSU.STAFS2016.007.L12      3305.555556\n",
       "11553.STAFS.2016.065.L09                877.5\n",
       "11553.SHSU.STAFS2016.024.R12      1911.111111\n",
       "11553.SHSU.STAFS2016.011.R10      2584.444444\n",
       "11553.STAFS.2016.067.L12          4366.111111\n",
       "11553.SHSU.STAFS2016.011.R08      1301.666667\n",
       "11553.SHSU.STAFS2016.007.R09      3777.222222\n",
       "11553.STAFS.2016.065.L11          2035.277778\n",
       "11553.SHSU.STAFS2016.024.L09      3777.222222\n",
       "11553.STAFS.2016.067.R11          1151.666667\n",
       "Name: ADD_0, dtype: object"
      ]
     },
     "execution_count": 5,
     "metadata": {},
     "output_type": "execute_result"
    }
   ],
   "source": [
    "exp_L2.sample_metadata['ADD_0']"
   ]
  },
  {
   "cell_type": "code",
   "execution_count": 6,
   "metadata": {},
   "outputs": [
    {
     "name": "stdout",
     "output_type": "stream",
     "text": [
      "                                                     _feature_id\n",
      "k__Archaea;p__Crenarchaeota          k__Archaea;p__Crenarchaeota\n",
      "k__Archaea;p__Euryarchaeota          k__Archaea;p__Euryarchaeota\n",
      "k__Bacteria;__                                    k__Bacteria;__\n",
      "k__Bacteria;p__Acidobacteria        k__Bacteria;p__Acidobacteria\n",
      "k__Bacteria;p__Actinobacteria      k__Bacteria;p__Actinobacteria\n",
      "k__Bacteria;p__Armatimonadetes    k__Bacteria;p__Armatimonadetes\n",
      "k__Bacteria;p__BRC1                          k__Bacteria;p__BRC1\n",
      "k__Bacteria;p__Bacteroidetes        k__Bacteria;p__Bacteroidetes\n",
      "k__Bacteria;p__Chlorobi                  k__Bacteria;p__Chlorobi\n",
      "k__Bacteria;p__Chloroflexi            k__Bacteria;p__Chloroflexi\n",
      "k__Bacteria;p__Cyanobacteria        k__Bacteria;p__Cyanobacteria\n",
      "k__Bacteria;p__Deferribacteres    k__Bacteria;p__Deferribacteres\n",
      "k__Bacteria;p__FBP                            k__Bacteria;p__FBP\n",
      "k__Bacteria;p__Firmicutes              k__Bacteria;p__Firmicutes\n",
      "k__Bacteria;p__Fusobacteria          k__Bacteria;p__Fusobacteria\n",
      "k__Bacteria;p__GN02                          k__Bacteria;p__GN02\n",
      "k__Bacteria;p__Gemmatimonadetes  k__Bacteria;p__Gemmatimonadetes\n",
      "k__Bacteria;p__OD1                            k__Bacteria;p__OD1\n",
      "k__Bacteria;p__OP11                          k__Bacteria;p__OP11\n",
      "k__Bacteria;p__Planctomycetes      k__Bacteria;p__Planctomycetes\n",
      "k__Bacteria;p__Proteobacteria      k__Bacteria;p__Proteobacteria\n",
      "k__Bacteria;p__Spirochaetes          k__Bacteria;p__Spirochaetes\n",
      "k__Bacteria;p__Synergistetes        k__Bacteria;p__Synergistetes\n",
      "k__Bacteria;p__TM6                            k__Bacteria;p__TM6\n",
      "k__Bacteria;p__TM7                            k__Bacteria;p__TM7\n",
      "k__Bacteria;p__Tenericutes            k__Bacteria;p__Tenericutes\n",
      "k__Bacteria;p__Verrucomicrobia    k__Bacteria;p__Verrucomicrobia\n",
      "k__Bacteria;p__WPS-2                        k__Bacteria;p__WPS-2\n",
      "k__Bacteria;p__[Thermi]                  k__Bacteria;p__[Thermi]\n"
     ]
    }
   ],
   "source": [
    "print(exp_L2.feature_metadata)"
   ]
  },
  {
   "cell_type": "markdown",
   "metadata": {},
   "source": [
    "## Running the L2 model"
   ]
  },
  {
   "cell_type": "code",
   "execution_count": 7,
   "metadata": {},
   "outputs": [],
   "source": [
    "# groupKfold = 6, will leave out one body for each model\n",
    "gkf = GroupKFold(6)\n",
    "\n",
    "X = exp_L2.data\n",
    "y = exp_L2.sample_metadata['ADD_0']\n",
    "y = (y.astype(float))\n",
    "\n",
    "groups = exp_L2.sample_metadata['host_subject_id']\n",
    "\n",
    "# used to test the param grid for parameter tuning\n",
    "# use the output of this estimator below for input into new estimator (not commented out)\n",
    "param_grid = {\"max_depth\": [4, 8, 16, None],\n",
    "              \"max_features\": ['sqrt', 'log2', 0.1],\n",
    "              \"min_samples_split\": [0.001, 0.01, 0.1],\n",
    "              \"min_weight_fraction_leaf\": [0.0001, 0.001, 0.01],\n",
    "              \"bootstrap\": [True, False]}\n",
    "\n",
    "#param_grid = {\"max_depth\": [8],\n",
    "#          \"max_features\": [0.1],\n",
    "#          \"min_samples_split\": [0.001],\n",
    "#          \"min_weight_fraction_leaf\": [0.0001],\n",
    "#          \"bootstrap\": [False]}\n",
    "\n",
    "rf = RandomForestRegressor(n_estimators=1000, random_state=999, criterion='mae')\n",
    "gs = GridSearchCV(rf, param_grid=param_grid, cv=gkf.split(X, y, groups), scoring='neg_mean_absolute_error', n_jobs=1)"
   ]
  },
  {
   "cell_type": "code",
   "execution_count": 8,
   "metadata": {},
   "outputs": [
    {
     "data": {
      "text/plain": [
       "GridSearchCV(cv=<generator object _BaseKFold.split at 0x11c24bd50>,\n",
       "             error_score=nan,\n",
       "             estimator=RandomForestRegressor(bootstrap=True, ccp_alpha=0.0,\n",
       "                                             criterion='mae', max_depth=None,\n",
       "                                             max_features='auto',\n",
       "                                             max_leaf_nodes=None,\n",
       "                                             max_samples=None,\n",
       "                                             min_impurity_decrease=0.0,\n",
       "                                             min_impurity_split=None,\n",
       "                                             min_samples_leaf=1,\n",
       "                                             min_samples_split=2,\n",
       "                                             min_weight_fraction_leaf=0.0,\n",
       "                                             n_es...\n",
       "                                             oob_score=False, random_state=999,\n",
       "                                             verbose=0, warm_start=False),\n",
       "             iid='deprecated', n_jobs=1,\n",
       "             param_grid={'bootstrap': [True, False],\n",
       "                         'max_depth': [4, 8, 16, None],\n",
       "                         'max_features': ['sqrt', 'log2', 0.1],\n",
       "                         'min_samples_split': [0.001, 0.01, 0.1],\n",
       "                         'min_weight_fraction_leaf': [0.0001, 0.001, 0.01]},\n",
       "             pre_dispatch='2*n_jobs', refit=True, return_train_score=False,\n",
       "             scoring='neg_mean_absolute_error', verbose=0)"
      ]
     },
     "execution_count": 8,
     "metadata": {},
     "output_type": "execute_result"
    }
   ],
   "source": [
    "gs.fit(X, y)"
   ]
  },
  {
   "cell_type": "code",
   "execution_count": 9,
   "metadata": {},
   "outputs": [
    {
     "name": "stdout",
     "output_type": "stream",
     "text": [
      "{'bootstrap': False, 'max_depth': 8, 'max_features': 'sqrt', 'min_samples_split': 0.001, 'min_weight_fraction_leaf': 0.0001}\n"
     ]
    }
   ],
   "source": [
    "# this line is used when run with the first param grid to determine what the best parameters are for tuning\n",
    "print(gs.best_params_)"
   ]
  },
  {
   "cell_type": "code",
   "execution_count": 10,
   "metadata": {},
   "outputs": [
    {
     "name": "stdout",
     "output_type": "stream",
     "text": [
      "The best mean absolute error is 807.77\n"
     ]
    }
   ],
   "source": [
    "print('The best mean absolute error is', round(-gs.best_score_,2))"
   ]
  },
  {
   "cell_type": "code",
   "execution_count": 11,
   "metadata": {},
   "outputs": [
    {
     "data": {
      "text/plain": [
       "['models/bone_L2_no_metadata.pkl']"
      ]
     },
     "execution_count": 11,
     "metadata": {},
     "output_type": "execute_result"
    }
   ],
   "source": [
    "joblib.dump(gs.best_estimator_, 'models/bone_L2_no_metadata.pkl')"
   ]
  },
  {
   "cell_type": "code",
   "execution_count": 13,
   "metadata": {
    "scrolled": true
   },
   "outputs": [
    {
     "data": {
      "text/plain": [
       "RandomForestRegressor(bootstrap=False, ccp_alpha=0.0, criterion='mae',\n",
       "                      max_depth=8, max_features='sqrt', max_leaf_nodes=None,\n",
       "                      max_samples=None, min_impurity_decrease=0.0,\n",
       "                      min_impurity_split=None, min_samples_leaf=1,\n",
       "                      min_samples_split=0.001, min_weight_fraction_leaf=0.0001,\n",
       "                      n_estimators=1000, n_jobs=None, oob_score=False,\n",
       "                      random_state=999, verbose=0, warm_start=False)"
      ]
     },
     "execution_count": 13,
     "metadata": {},
     "output_type": "execute_result"
    }
   ],
   "source": [
    "bone_L2 = joblib.load('models/bone_L2_no_metadata.pkl')\n",
    "bone_L2"
   ]
  },
  {
   "cell_type": "markdown",
   "metadata": {},
   "source": [
    "## Determine important features of the L2 model"
   ]
  },
  {
   "cell_type": "code",
   "execution_count": 14,
   "metadata": {},
   "outputs": [
    {
     "name": "stdout",
     "output_type": "stream",
     "text": [
      "Feature:\t\t\t\tImportance:\n",
      "1. k__Bacteria;p__Bacteroidetes\t0.12898262251478135\n",
      "2. k__Bacteria;p__Firmicutes\t0.10654712402856573\n",
      "3. k__Bacteria;p__Proteobacteria\t0.10439694161802271\n",
      "4. k__Bacteria;p__Planctomycetes\t0.10202943289184362\n",
      "5. k__Bacteria;p__Verrucomicrobia\t0.08525484161578097\n",
      "6. k__Bacteria;p__Actinobacteria\t0.05857810856832839\n",
      "7. k__Bacteria;p__Chloroflexi\t0.050709857537267734\n",
      "8. k__Bacteria;p__Gemmatimonadetes\t0.05059621932991354\n",
      "9. k__Bacteria;p__Fusobacteria\t0.048826247485686314\n",
      "10. k__Bacteria;p__[Thermi]\t0.04733001573440782\n",
      "11. k__Bacteria;p__Acidobacteria\t0.03431768224393029\n",
      "12. k__Bacteria;p__FBP\t0.026856367078377463\n",
      "13. k__Bacteria;p__BRC1\t0.024707051693709556\n",
      "14. k__Bacteria;p__Cyanobacteria\t0.017336468579629335\n",
      "15. k__Bacteria;p__GN02\t0.016742866760758156\n",
      "16. k__Bacteria;p__Tenericutes\t0.01588992806520978\n",
      "17. k__Bacteria;p__Armatimonadetes\t0.01350504503507785\n",
      "18. k__Bacteria;p__Deferribacteres\t0.013485275346605171\n",
      "19. k__Bacteria;p__TM7\t0.012013872490631803\n",
      "20. k__Bacteria;p__Chlorobi\t0.009421878629200162\n",
      "21. k__Bacteria;p__OP11\t0.008568740334348623\n",
      "22. k__Bacteria;p__Spirochaetes\t0.007384729502805077\n",
      "23. k__Bacteria;p__Synergistetes\t0.005397283793493901\n",
      "24. k__Bacteria;p__OD1\t0.0038396372640546114\n",
      "25. k__Archaea;p__Crenarchaeota\t0.0026587014058450688\n"
     ]
    }
   ],
   "source": [
    "importances = bone_L2.feature_importances_\n",
    "std = np.std([tree.feature_importances_ for tree in bone_L2.estimators_],\n",
    "             axis=0)\n",
    "indices = np.argsort(importances)[::-1]\n",
    "\n",
    "feature_metadata = exp_L2.feature_metadata\n",
    "np.savetxt(\"importances/bone_L2_no_metadata_features.csv\", feature_metadata, delimiter=\",\", fmt='%s')\n",
    "\n",
    "\n",
    "#print the important ids in order\n",
    "general_importances = []\n",
    "count = 0\n",
    "print(\"Feature:\\t\\t\\t\\tImportance:\")\n",
    "for i in indices:\n",
    "    general_importances += (exp_L2.feature_metadata.index.values[i], importances[indices[count]])\n",
    "    if count < 25:\n",
    "        print(str(count+1)+\". \"+str(exp_L2.feature_metadata.index.values[i])+\"\\t\"+str(importances[indices[count]]))\n",
    "    count += 1\n",
    "    \n",
    "general_importances_df = pd.DataFrame(np.array(general_importances).reshape(58,1))\n",
    "\n",
    "np.savetxt(\"importances/bone_L2_no_features_importances.csv\", general_importances_df, delimiter=\",\", fmt='%s')"
   ]
  },
  {
   "cell_type": "markdown",
   "metadata": {},
   "source": [
    "## Import rarefied table collapsed at L3"
   ]
  },
  {
   "cell_type": "code",
   "execution_count": 15,
   "metadata": {},
   "outputs": [
    {
     "name": "stdout",
     "output_type": "stream",
     "text": [
      "2020-06-26 12:58:12 WARNING These have metadata but do not have data - dropped (51): {'11553.CSU.extraction.blank1', '11553.BLANKrib.11E', '11553.BLANKrib.10D', '11553.CSU.extraction.blank10', '11553.BLANKrib.10G', '11553.CSU.extraction.blank8', '11553.BLANKrib.10B', '11553.CSU.extraction.blank6', '11553.BLANKrib.9A', '11553.BLANKrib.11G', '11553.CSU.extraction.blank5', '11553.BLANKrib.12F', '11553.BLANKrib.12H', '11553.BLANKrib.9B', '11553.CSU.extraction.blank7', '11553.SHSU.STAFS2016.011.L09', '11553.BLANKrib.11H', '11553.BLANKrib.10F', '11553.CSU.extraction.blank15', '11553.BLANKrib.5B', '11553.CSU.extraction.blank3', '11553.BLANKrib.9D', '11553.BLANKrib.9H', '11553.BLANKrib.9C', '11553.BLANKrib.12A', '11553.STAFS.2016.064.L12', '11553.BLANKrib.11D', '11553.CSU.extraction.blank13', '11553.CSU.extraction.blank14', '11553.CSU.extraction.blank12', '11553.BLANKrib.10A', '11553.CSU.extraction.blank11', '11553.BLANKrib.11C', '11553.BLANKrib.12G', '11553.BLANKrib.12E', '11553.CSU.extraction.blank9', '11553.BLANKrib.10H', '11553.SHSU.STAFS2016.007.R11', '11553.CSU.extraction.blank4', '11553.BLANKrib.10E', '11553.BLANKrib.10C', '11553.BLANKrib.9G', '11553.BLANKrib.9E', '11553.BLANKrib.12B', '11553.BLANKrib.11B', '11553.BLANKrib.12D', '11553.BLANKrib.12C', '11553.BLANKrib.11A', '11553.BLANKrib.9F', '11553.CSU.extraction.blank2', '11553.BLANKrib.11F'}\n"
     ]
    }
   ],
   "source": [
    "exp_L3 = ca.read_amplicon('/Users/heatherdeel/Dropbox/PMI_3_analyses/bone/01_16S/01_qiime2_analysis/feature_tables/collapsed_tables/frag_ins_noChloMito_17098_L3_table.biom', '/Users/heatherdeel/Dropbox/PMI_3_analyses/bone/01_16S/02_metadata/maps/map3.txt', min_reads=0, normalize = None)\n"
   ]
  },
  {
   "cell_type": "code",
   "execution_count": 16,
   "metadata": {},
   "outputs": [
    {
     "data": {
      "text/plain": [
       "STAFS2016.065    8\n",
       "STAFS2016.011    8\n",
       "STAFS2016.067    8\n",
       "STAFS2016.007    7\n",
       "STAFS2016.064    7\n",
       "STAFS2016.024    7\n",
       "Name: host_subject_id, dtype: int64"
      ]
     },
     "execution_count": 16,
     "metadata": {},
     "output_type": "execute_result"
    }
   ],
   "source": [
    "exp_L3.sample_metadata['host_subject_id'].value_counts()"
   ]
  },
  {
   "cell_type": "code",
   "execution_count": 17,
   "metadata": {},
   "outputs": [
    {
     "data": {
      "text/plain": [
       "#SampleID\n",
       "11553.SHSU.STAFS2016.024.R09      708.0555556\n",
       "11553.STAFS.2016.065.L12          2268.055556\n",
       "11553.STAFS.2016.067.R12          2414.444444\n",
       "11553.SHSU.STAFS2016.007.L09      1911.111111\n",
       "11553.SHSU.STAFS2016.011.L08      1301.666667\n",
       "11553.STAFS.2016.065.R11          4756.388889\n",
       "11553.STAFS.2016.065.R09          3456.111111\n",
       "11553.SHSU.STAFS2016.024.L12      4285.833333\n",
       "11553.SHSU.STAFS2016.007.L11      2584.444444\n",
       "11553.SHSU.STAFS2016.011.L10      3777.222222\n",
       "11553.STAFS.2016.064.R10          3456.111111\n",
       "11553.SHSU.STAFS2016.024.R11      2584.444444\n",
       "11553.STAFS.2016.067.L11.june     5201.388889\n",
       "11553.SHSU.STAFS2016.007.R12      1301.666667\n",
       "11553.STAFS.2016.065.R10          2804.722222\n",
       "11553.STAFS.2016.064.R09          592.7777778\n",
       "11553.STAFS.2016.067.L10          3623.055556\n",
       "11553.SHSU.STAFS2016.011.R12      708.0555556\n",
       "11553.STAFS.2016.064.R11          1300.555556\n",
       "11553.SHSU.STAFS2016.011.L11      4285.833333\n",
       "11553.SHSU.STAFS2016.007.L10      4821.388889\n",
       "11553.STAFS.2016.065.R08          4013.333333\n",
       "11553.SHSU.STAFS2016.007.R10      708.0555556\n",
       "11553.STAFS.2016.064.R12          2035.277778\n",
       "11553.SHSU.STAFS2016.011.L12      3305.555556\n",
       "11553.SHSU.STAFS2016.024.L10      3305.555556\n",
       "11553.STAFS.2016.064.L11          2804.722222\n",
       "11553.STAFS.2016.064.L09          4013.333333\n",
       "11553.STAFS.2016.067.L11.march    3065.833333\n",
       "11553.STAFS.2016.067.R10                 1645\n",
       "11553.STAFS.2016.065.L10          1300.555556\n",
       "11553.SHSU.STAFS2016.011.R09      1911.111111\n",
       "11553.STAFS.2016.064.L10          4756.388889\n",
       "11553.STAFS.2016.067.R09          1877.777778\n",
       "11553.SHSU.STAFS2016.024.L11      4821.388889\n",
       "11553.SHSU.STAFS2016.007.L12      3305.555556\n",
       "11553.STAFS.2016.065.L09                877.5\n",
       "11553.SHSU.STAFS2016.024.R12      1911.111111\n",
       "11553.SHSU.STAFS2016.011.R10      2584.444444\n",
       "11553.STAFS.2016.067.L12          4366.111111\n",
       "11553.SHSU.STAFS2016.011.R08      1301.666667\n",
       "11553.SHSU.STAFS2016.007.R09      3777.222222\n",
       "11553.STAFS.2016.065.L11          2035.277778\n",
       "11553.SHSU.STAFS2016.024.L09      3777.222222\n",
       "11553.STAFS.2016.067.R11          1151.666667\n",
       "Name: ADD_0, dtype: object"
      ]
     },
     "execution_count": 17,
     "metadata": {},
     "output_type": "execute_result"
    }
   ],
   "source": [
    "exp_L3.sample_metadata['ADD_0']"
   ]
  },
  {
   "cell_type": "code",
   "execution_count": 18,
   "metadata": {},
   "outputs": [
    {
     "name": "stdout",
     "output_type": "stream",
     "text": [
      "                                                                                          _feature_id\n",
      "k__Archaea;p__Crenarchaeota;c__Thaumarchaeota           k__Archaea;p__Crenarchaeota;c__Thaumarchaeota\n",
      "k__Archaea;p__Euryarchaeota;c__Methanobacteria         k__Archaea;p__Euryarchaeota;c__Methanobacteria\n",
      "k__Bacteria;__;__                                                                   k__Bacteria;__;__\n",
      "k__Bacteria;p__Acidobacteria;c__DA052                           k__Bacteria;p__Acidobacteria;c__DA052\n",
      "k__Bacteria;p__Acidobacteria;c__Solibacteres             k__Bacteria;p__Acidobacteria;c__Solibacteres\n",
      "k__Bacteria;p__Acidobacteria;c__[Chloracidobact...  k__Bacteria;p__Acidobacteria;c__[Chloracidobac...\n",
      "k__Bacteria;p__Actinobacteria;c__Acidimicrobiia       k__Bacteria;p__Actinobacteria;c__Acidimicrobiia\n",
      "k__Bacteria;p__Actinobacteria;c__Actinobacteria       k__Bacteria;p__Actinobacteria;c__Actinobacteria\n",
      "k__Bacteria;p__Actinobacteria;c__Coriobacteriia       k__Bacteria;p__Actinobacteria;c__Coriobacteriia\n",
      "k__Bacteria;p__Actinobacteria;c__Rubrobacteria         k__Bacteria;p__Actinobacteria;c__Rubrobacteria\n",
      "k__Bacteria;p__Actinobacteria;c__Thermoleophilia     k__Bacteria;p__Actinobacteria;c__Thermoleophilia\n",
      "k__Bacteria;p__Armatimonadetes;c__Armatimonadia       k__Bacteria;p__Armatimonadetes;c__Armatimonadia\n",
      "k__Bacteria;p__Armatimonadetes;c__SHA-37                     k__Bacteria;p__Armatimonadetes;c__SHA-37\n",
      "k__Bacteria;p__Armatimonadetes;c__SJA-176                   k__Bacteria;p__Armatimonadetes;c__SJA-176\n",
      "k__Bacteria;p__Armatimonadetes;c__[Fimbriimonadia]  k__Bacteria;p__Armatimonadetes;c__[Fimbriimona...\n",
      "k__Bacteria;p__BRC1;c__PRR-11                                           k__Bacteria;p__BRC1;c__PRR-11\n",
      "k__Bacteria;p__Bacteroidetes;c__Bacteroidia               k__Bacteria;p__Bacteroidetes;c__Bacteroidia\n",
      "k__Bacteria;p__Bacteroidetes;c__Cytophagia                 k__Bacteria;p__Bacteroidetes;c__Cytophagia\n",
      "k__Bacteria;p__Bacteroidetes;c__Flavobacteriia         k__Bacteria;p__Bacteroidetes;c__Flavobacteriia\n",
      "k__Bacteria;p__Bacteroidetes;c__Sphingobacteriia     k__Bacteria;p__Bacteroidetes;c__Sphingobacteriia\n",
      "k__Bacteria;p__Bacteroidetes;c__[Saprospirae]           k__Bacteria;p__Bacteroidetes;c__[Saprospirae]\n",
      "k__Bacteria;p__Chlorobi;c__OPB56                                     k__Bacteria;p__Chlorobi;c__OPB56\n",
      "k__Bacteria;p__Chloroflexi;c__Chloroflexi                   k__Bacteria;p__Chloroflexi;c__Chloroflexi\n",
      "k__Bacteria;p__Chloroflexi;c__Ellin6529                       k__Bacteria;p__Chloroflexi;c__Ellin6529\n",
      "k__Bacteria;p__Chloroflexi;c__Thermomicrobia             k__Bacteria;p__Chloroflexi;c__Thermomicrobia\n",
      "k__Bacteria;p__Cyanobacteria;c__4C0d-2                         k__Bacteria;p__Cyanobacteria;c__4C0d-2\n",
      "k__Bacteria;p__Cyanobacteria;c__ML635J-21                   k__Bacteria;p__Cyanobacteria;c__ML635J-21\n",
      "k__Bacteria;p__Cyanobacteria;c__Oscillatoriophy...  k__Bacteria;p__Cyanobacteria;c__Oscillatorioph...\n",
      "k__Bacteria;p__Deferribacteres;c__Deferribacteres   k__Bacteria;p__Deferribacteres;c__Deferribacteres\n",
      "k__Bacteria;p__FBP;c__                                                         k__Bacteria;p__FBP;c__\n",
      "k__Bacteria;p__Firmicutes;c__AHT28                                 k__Bacteria;p__Firmicutes;c__AHT28\n",
      "k__Bacteria;p__Firmicutes;c__Bacilli                             k__Bacteria;p__Firmicutes;c__Bacilli\n",
      "k__Bacteria;p__Firmicutes;c__Clostridia                       k__Bacteria;p__Firmicutes;c__Clostridia\n",
      "k__Bacteria;p__Firmicutes;c__Erysipelotrichi             k__Bacteria;p__Firmicutes;c__Erysipelotrichi\n",
      "k__Bacteria;p__Fusobacteria;c__Fusobacteriia             k__Bacteria;p__Fusobacteria;c__Fusobacteriia\n",
      "k__Bacteria;p__GN02;c__BD1-5                                             k__Bacteria;p__GN02;c__BD1-5\n",
      "k__Bacteria;p__Gemmatimonadetes;c__Gemm-3                   k__Bacteria;p__Gemmatimonadetes;c__Gemm-3\n",
      "k__Bacteria;p__Gemmatimonadetes;c__Gemmatimonad...  k__Bacteria;p__Gemmatimonadetes;c__Gemmatimona...\n",
      "k__Bacteria;p__OD1;c__SM2F11                                             k__Bacteria;p__OD1;c__SM2F11\n",
      "k__Bacteria;p__OP11;c__                                                       k__Bacteria;p__OP11;c__\n",
      "k__Bacteria;p__OP11;c__OP11-2                                           k__Bacteria;p__OP11;c__OP11-2\n",
      "k__Bacteria;p__Planctomycetes;c__Phycisphaerae         k__Bacteria;p__Planctomycetes;c__Phycisphaerae\n",
      "k__Bacteria;p__Planctomycetes;c__Planctomycetia       k__Bacteria;p__Planctomycetes;c__Planctomycetia\n",
      "k__Bacteria;p__Planctomycetes;c__vadinHA49                 k__Bacteria;p__Planctomycetes;c__vadinHA49\n",
      "k__Bacteria;p__Proteobacteria;c__                                   k__Bacteria;p__Proteobacteria;c__\n",
      "k__Bacteria;p__Proteobacteria;c__Alphaproteobac...  k__Bacteria;p__Proteobacteria;c__Alphaproteoba...\n",
      "k__Bacteria;p__Proteobacteria;c__Betaproteobact...  k__Bacteria;p__Proteobacteria;c__Betaproteobac...\n",
      "k__Bacteria;p__Proteobacteria;c__Deltaproteobac...  k__Bacteria;p__Proteobacteria;c__Deltaproteoba...\n",
      "k__Bacteria;p__Proteobacteria;c__Epsilonproteob...  k__Bacteria;p__Proteobacteria;c__Epsilonproteo...\n",
      "k__Bacteria;p__Proteobacteria;c__Gammaproteobac...  k__Bacteria;p__Proteobacteria;c__Gammaproteoba...\n",
      "k__Bacteria;p__Spirochaetes;c__Spirochaetes               k__Bacteria;p__Spirochaetes;c__Spirochaetes\n",
      "k__Bacteria;p__Synergistetes;c__Synergistia               k__Bacteria;p__Synergistetes;c__Synergistia\n",
      "k__Bacteria;p__TM6;c__SJA-4                                               k__Bacteria;p__TM6;c__SJA-4\n",
      "k__Bacteria;p__TM7;c__                                                         k__Bacteria;p__TM7;c__\n",
      "k__Bacteria;p__TM7;c__TM7-1                                               k__Bacteria;p__TM7;c__TM7-1\n",
      "k__Bacteria;p__TM7;c__TM7-3                                               k__Bacteria;p__TM7;c__TM7-3\n",
      "k__Bacteria;p__Tenericutes;c__Mollicutes                     k__Bacteria;p__Tenericutes;c__Mollicutes\n",
      "k__Bacteria;p__Verrucomicrobia;c__Opitutae                 k__Bacteria;p__Verrucomicrobia;c__Opitutae\n",
      "k__Bacteria;p__Verrucomicrobia;c__Verrucomicrobiae  k__Bacteria;p__Verrucomicrobia;c__Verrucomicro...\n",
      "k__Bacteria;p__Verrucomicrobia;c__[Spartobacteria]  k__Bacteria;p__Verrucomicrobia;c__[Spartobacte...\n",
      "k__Bacteria;p__WPS-2;c__                                                     k__Bacteria;p__WPS-2;c__\n",
      "k__Bacteria;p__[Thermi];c__Deinococci                           k__Bacteria;p__[Thermi];c__Deinococci\n"
     ]
    }
   ],
   "source": [
    "print(exp_L3.feature_metadata)"
   ]
  },
  {
   "cell_type": "markdown",
   "metadata": {},
   "source": [
    "## Running the L3 model"
   ]
  },
  {
   "cell_type": "code",
   "execution_count": 19,
   "metadata": {},
   "outputs": [],
   "source": [
    "# groupKfold = 6, will leave out one body for each model\n",
    "gkf = GroupKFold(6)\n",
    "\n",
    "X = exp_L3.data\n",
    "y = exp_L3.sample_metadata['ADD_0']\n",
    "y = (y.astype(float))\n",
    "\n",
    "groups = exp_L3.sample_metadata['host_subject_id']\n",
    "\n",
    "# used to test the param grid for parameter tuning\n",
    "# use the output of this estimator below for input into new estimator (not commented out)\n",
    "param_grid = {\"max_depth\": [4, 8, 16, None],\n",
    "              \"max_features\": ['sqrt', 'log2', 0.1],\n",
    "              \"min_samples_split\": [0.001, 0.01, 0.1],\n",
    "              \"min_weight_fraction_leaf\": [0.0001, 0.001, 0.01],\n",
    "              \"bootstrap\": [True, False]}\n",
    "\n",
    "#param_grid = {\"max_depth\": [8],\n",
    "#          \"max_features\": [0.1],\n",
    "#          \"min_samples_split\": [0.001],\n",
    "#          \"min_weight_fraction_leaf\": [0.0001],\n",
    "#          \"bootstrap\": [False]}\n",
    "\n",
    "rf = RandomForestRegressor(n_estimators=1000, random_state=999, criterion='mae')\n",
    "gs = GridSearchCV(rf, param_grid=param_grid, cv=gkf.split(X, y, groups), scoring='neg_mean_absolute_error', n_jobs=1)"
   ]
  },
  {
   "cell_type": "code",
   "execution_count": 20,
   "metadata": {},
   "outputs": [
    {
     "data": {
      "text/plain": [
       "GridSearchCV(cv=<generator object _BaseKFold.split at 0x11bee87d0>,\n",
       "             error_score=nan,\n",
       "             estimator=RandomForestRegressor(bootstrap=True, ccp_alpha=0.0,\n",
       "                                             criterion='mae', max_depth=None,\n",
       "                                             max_features='auto',\n",
       "                                             max_leaf_nodes=None,\n",
       "                                             max_samples=None,\n",
       "                                             min_impurity_decrease=0.0,\n",
       "                                             min_impurity_split=None,\n",
       "                                             min_samples_leaf=1,\n",
       "                                             min_samples_split=2,\n",
       "                                             min_weight_fraction_leaf=0.0,\n",
       "                                             n_es...\n",
       "                                             oob_score=False, random_state=999,\n",
       "                                             verbose=0, warm_start=False),\n",
       "             iid='deprecated', n_jobs=1,\n",
       "             param_grid={'bootstrap': [True, False],\n",
       "                         'max_depth': [4, 8, 16, None],\n",
       "                         'max_features': ['sqrt', 'log2', 0.1],\n",
       "                         'min_samples_split': [0.001, 0.01, 0.1],\n",
       "                         'min_weight_fraction_leaf': [0.0001, 0.001, 0.01]},\n",
       "             pre_dispatch='2*n_jobs', refit=True, return_train_score=False,\n",
       "             scoring='neg_mean_absolute_error', verbose=0)"
      ]
     },
     "execution_count": 20,
     "metadata": {},
     "output_type": "execute_result"
    }
   ],
   "source": [
    "gs.fit(X, y)"
   ]
  },
  {
   "cell_type": "code",
   "execution_count": 21,
   "metadata": {},
   "outputs": [
    {
     "name": "stdout",
     "output_type": "stream",
     "text": [
      "{'bootstrap': True, 'max_depth': 16, 'max_features': 'sqrt', 'min_samples_split': 0.001, 'min_weight_fraction_leaf': 0.0001}\n"
     ]
    }
   ],
   "source": [
    "# this line is used when run with the first param grid to determine what the best parameters are for tuning\n",
    "print(gs.best_params_)"
   ]
  },
  {
   "cell_type": "code",
   "execution_count": 22,
   "metadata": {},
   "outputs": [
    {
     "name": "stdout",
     "output_type": "stream",
     "text": [
      "The best mean absolute error is 834.43\n"
     ]
    }
   ],
   "source": [
    "print('The best mean absolute error is', round(-gs.best_score_,2))"
   ]
  },
  {
   "cell_type": "code",
   "execution_count": 23,
   "metadata": {},
   "outputs": [
    {
     "data": {
      "text/plain": [
       "['models/bone_L3_no_metadata.pkl']"
      ]
     },
     "execution_count": 23,
     "metadata": {},
     "output_type": "execute_result"
    }
   ],
   "source": [
    "joblib.dump(gs.best_estimator_, 'models/bone_L3_no_metadata.pkl')"
   ]
  },
  {
   "cell_type": "code",
   "execution_count": 24,
   "metadata": {},
   "outputs": [
    {
     "data": {
      "text/plain": [
       "RandomForestRegressor(bootstrap=True, ccp_alpha=0.0, criterion='mae',\n",
       "                      max_depth=16, max_features='sqrt', max_leaf_nodes=None,\n",
       "                      max_samples=None, min_impurity_decrease=0.0,\n",
       "                      min_impurity_split=None, min_samples_leaf=1,\n",
       "                      min_samples_split=0.001, min_weight_fraction_leaf=0.0001,\n",
       "                      n_estimators=1000, n_jobs=None, oob_score=False,\n",
       "                      random_state=999, verbose=0, warm_start=False)"
      ]
     },
     "execution_count": 24,
     "metadata": {},
     "output_type": "execute_result"
    }
   ],
   "source": [
    "bone_L3 = joblib.load('models/bone_L3_no_metadata.pkl')\n",
    "bone_L3"
   ]
  },
  {
   "cell_type": "markdown",
   "metadata": {},
   "source": [
    "## Determine important features of the L3 model"
   ]
  },
  {
   "cell_type": "code",
   "execution_count": 26,
   "metadata": {},
   "outputs": [
    {
     "name": "stdout",
     "output_type": "stream",
     "text": [
      "Feature:\t\t\t\tImportance:\n",
      "1. k__Bacteria;p__Proteobacteria;c__Alphaproteobacteria\t0.07733366143688698\n",
      "2. k__Bacteria;p__Bacteroidetes;c__Sphingobacteriia\t0.07336246704885896\n",
      "3. k__Bacteria;p__Bacteroidetes;c__[Saprospirae]\t0.05617383007595434\n",
      "4. k__Bacteria;p__Actinobacteria;c__Thermoleophilia\t0.04871364610607001\n",
      "5. k__Bacteria;p__Proteobacteria;c__Betaproteobacteria\t0.04849792815677068\n",
      "6. k__Bacteria;p__Bacteroidetes;c__Flavobacteriia\t0.04703361022708913\n",
      "7. k__Bacteria;p__Proteobacteria;c__Gammaproteobacteria\t0.039783972519649984\n",
      "8. k__Bacteria;p__Firmicutes;c__Bacilli\t0.03878517683151592\n",
      "9. k__Bacteria;p__Firmicutes;c__Clostridia\t0.03874159789314058\n",
      "10. k__Bacteria;p__Actinobacteria;c__Acidimicrobiia\t0.03862518272523338\n",
      "11. k__Bacteria;p__Planctomycetes;c__Planctomycetia\t0.03709047884911729\n",
      "12. k__Bacteria;p__Verrucomicrobia;c__[Spartobacteria]\t0.03235828387417305\n",
      "13. k__Bacteria;p__Firmicutes;c__Erysipelotrichi\t0.030601402311212916\n",
      "14. k__Bacteria;p__Bacteroidetes;c__Bacteroidia\t0.029098423852339336\n",
      "15. k__Bacteria;p__Actinobacteria;c__Actinobacteria\t0.02874346073785712\n",
      "16. k__Bacteria;p__Gemmatimonadetes;c__Gemmatimonadetes\t0.027102612809715827\n",
      "17. k__Bacteria;p__Fusobacteria;c__Fusobacteriia\t0.027021786225243292\n",
      "18. k__Bacteria;p__[Thermi];c__Deinococci\t0.025604822410561074\n",
      "19. k__Bacteria;p__Bacteroidetes;c__Cytophagia\t0.024837505021915965\n",
      "20. k__Bacteria;p__Proteobacteria;c__Deltaproteobacteria\t0.02481327128377388\n",
      "21. k__Bacteria;p__Verrucomicrobia;c__Verrucomicrobiae\t0.021269647329101547\n",
      "22. k__Bacteria;p__Chloroflexi;c__Thermomicrobia\t0.017191838399142664\n",
      "23. k__Bacteria;p__Acidobacteria;c__Solibacteres\t0.017109984583950147\n",
      "24. k__Bacteria;p__FBP;c__\t0.014923066852400996\n",
      "25. k__Bacteria;p__BRC1;c__PRR-11\t0.011584916653198598\n"
     ]
    }
   ],
   "source": [
    "importances = bone_L3.feature_importances_\n",
    "std = np.std([tree.feature_importances_ for tree in bone_L3.estimators_],\n",
    "             axis=0)\n",
    "indices = np.argsort(importances)[::-1]\n",
    "\n",
    "feature_metadata = exp_L3.feature_metadata\n",
    "np.savetxt(\"importances/bone_L3_no_metadata_features.csv\", feature_metadata, delimiter=\",\", fmt='%s')\n",
    "\n",
    "\n",
    "#print the important ids in order\n",
    "general_importances = []\n",
    "count = 0\n",
    "print(\"Feature:\\t\\t\\t\\tImportance:\")\n",
    "for i in indices:\n",
    "    general_importances += (exp_L3.feature_metadata.index.values[i], importances[indices[count]])\n",
    "    if count < 25:\n",
    "        print(str(count+1)+\". \"+str(exp_L3.feature_metadata.index.values[i])+\"\\t\"+str(importances[indices[count]]))\n",
    "    count += 1\n",
    "    \n",
    "general_importances_df = pd.DataFrame(np.array(general_importances).reshape(124,1))\n",
    "\n",
    "np.savetxt(\"importances/bone_L3_no_features_importances.csv\", general_importances_df, delimiter=\",\", fmt='%s')"
   ]
  },
  {
   "cell_type": "markdown",
   "metadata": {},
   "source": [
    "## Import rarefied table collapsed at L4"
   ]
  },
  {
   "cell_type": "code",
   "execution_count": 27,
   "metadata": {},
   "outputs": [
    {
     "name": "stdout",
     "output_type": "stream",
     "text": [
      "2020-06-26 13:23:49 WARNING These have metadata but do not have data - dropped (51): {'11553.CSU.extraction.blank1', '11553.BLANKrib.11E', '11553.BLANKrib.10D', '11553.CSU.extraction.blank10', '11553.BLANKrib.10G', '11553.CSU.extraction.blank8', '11553.BLANKrib.10B', '11553.CSU.extraction.blank6', '11553.BLANKrib.9A', '11553.BLANKrib.11G', '11553.CSU.extraction.blank5', '11553.BLANKrib.12F', '11553.BLANKrib.12H', '11553.BLANKrib.9B', '11553.CSU.extraction.blank7', '11553.SHSU.STAFS2016.011.L09', '11553.BLANKrib.11H', '11553.BLANKrib.10F', '11553.CSU.extraction.blank15', '11553.BLANKrib.5B', '11553.CSU.extraction.blank3', '11553.BLANKrib.9D', '11553.BLANKrib.9H', '11553.BLANKrib.9C', '11553.BLANKrib.12A', '11553.STAFS.2016.064.L12', '11553.BLANKrib.11D', '11553.CSU.extraction.blank13', '11553.CSU.extraction.blank14', '11553.CSU.extraction.blank12', '11553.BLANKrib.10A', '11553.CSU.extraction.blank11', '11553.BLANKrib.11C', '11553.BLANKrib.12G', '11553.BLANKrib.12E', '11553.CSU.extraction.blank9', '11553.BLANKrib.10H', '11553.SHSU.STAFS2016.007.R11', '11553.CSU.extraction.blank4', '11553.BLANKrib.10E', '11553.BLANKrib.10C', '11553.BLANKrib.9G', '11553.BLANKrib.9E', '11553.BLANKrib.12B', '11553.BLANKrib.11B', '11553.BLANKrib.12D', '11553.BLANKrib.12C', '11553.BLANKrib.11A', '11553.BLANKrib.9F', '11553.CSU.extraction.blank2', '11553.BLANKrib.11F'}\n"
     ]
    }
   ],
   "source": [
    "exp_L4 = ca.read_amplicon('/Users/heatherdeel/Dropbox/PMI_3_analyses/bone/01_16S/01_qiime2_analysis/feature_tables/collapsed_tables/frag_ins_noChloMito_17098_L4_table.biom', '../02_metadata/maps/map3.txt', min_reads=0, normalize = None)\n"
   ]
  },
  {
   "cell_type": "code",
   "execution_count": 28,
   "metadata": {},
   "outputs": [
    {
     "name": "stdout",
     "output_type": "stream",
     "text": [
      "                                                                                          _feature_id\n",
      "k__Archaea;p__Crenarchaeota;c__Thaumarchaeota;o...  k__Archaea;p__Crenarchaeota;c__Thaumarchaeota;...\n",
      "k__Archaea;p__Euryarchaeota;c__Methanobacteria;...  k__Archaea;p__Euryarchaeota;c__Methanobacteria...\n",
      "k__Bacteria;__;__;__                                                             k__Bacteria;__;__;__\n",
      "k__Bacteria;p__Acidobacteria;c__DA052;o__Ellin6513  k__Bacteria;p__Acidobacteria;c__DA052;o__Ellin...\n",
      "k__Bacteria;p__Acidobacteria;c__Solibacteres;o_...  k__Bacteria;p__Acidobacteria;c__Solibacteres;o...\n",
      "k__Bacteria;p__Acidobacteria;c__[Chloracidobact...  k__Bacteria;p__Acidobacteria;c__[Chloracidobac...\n",
      "k__Bacteria;p__Actinobacteria;c__Acidimicrobiia...  k__Bacteria;p__Actinobacteria;c__Acidimicrobii...\n",
      "k__Bacteria;p__Actinobacteria;c__Actinobacteria...  k__Bacteria;p__Actinobacteria;c__Actinobacteri...\n",
      "k__Bacteria;p__Actinobacteria;c__Coriobacteriia...  k__Bacteria;p__Actinobacteria;c__Coriobacterii...\n",
      "k__Bacteria;p__Actinobacteria;c__Rubrobacteria;...  k__Bacteria;p__Actinobacteria;c__Rubrobacteria...\n",
      "k__Bacteria;p__Actinobacteria;c__Thermoleophili...  k__Bacteria;p__Actinobacteria;c__Thermoleophil...\n",
      "k__Bacteria;p__Actinobacteria;c__Thermoleophili...  k__Bacteria;p__Actinobacteria;c__Thermoleophil...\n",
      "k__Bacteria;p__Armatimonadetes;c__Armatimonadia...  k__Bacteria;p__Armatimonadetes;c__Armatimonadi...\n",
      "k__Bacteria;p__Armatimonadetes;c__SHA-37;o__             k__Bacteria;p__Armatimonadetes;c__SHA-37;o__\n",
      "k__Bacteria;p__Armatimonadetes;c__SJA-176;o__GA...  k__Bacteria;p__Armatimonadetes;c__SJA-176;o__G...\n",
      "k__Bacteria;p__Armatimonadetes;c__[Fimbriimonad...  k__Bacteria;p__Armatimonadetes;c__[Fimbriimona...\n",
      "k__Bacteria;p__BRC1;c__PRR-11;o__                                   k__Bacteria;p__BRC1;c__PRR-11;o__\n",
      "k__Bacteria;p__Bacteroidetes;c__Bacteroidia;o__...  k__Bacteria;p__Bacteroidetes;c__Bacteroidia;o_...\n",
      "k__Bacteria;p__Bacteroidetes;c__Cytophagia;o__C...  k__Bacteria;p__Bacteroidetes;c__Cytophagia;o__...\n",
      "k__Bacteria;p__Bacteroidetes;c__Flavobacteriia;...  k__Bacteria;p__Bacteroidetes;c__Flavobacteriia...\n",
      "k__Bacteria;p__Bacteroidetes;c__Sphingobacterii...  k__Bacteria;p__Bacteroidetes;c__Sphingobacteri...\n",
      "k__Bacteria;p__Bacteroidetes;c__[Saprospirae];o...  k__Bacteria;p__Bacteroidetes;c__[Saprospirae];...\n",
      "k__Bacteria;p__Chlorobi;c__OPB56;o__                             k__Bacteria;p__Chlorobi;c__OPB56;o__\n",
      "k__Bacteria;p__Chloroflexi;c__Chloroflexi;o__AK...  k__Bacteria;p__Chloroflexi;c__Chloroflexi;o__A...\n",
      "k__Bacteria;p__Chloroflexi;c__Ellin6529;o__               k__Bacteria;p__Chloroflexi;c__Ellin6529;o__\n",
      "k__Bacteria;p__Chloroflexi;c__Thermomicrobia;o__     k__Bacteria;p__Chloroflexi;c__Thermomicrobia;o__\n",
      "k__Bacteria;p__Chloroflexi;c__Thermomicrobia;o_...  k__Bacteria;p__Chloroflexi;c__Thermomicrobia;o...\n",
      "k__Bacteria;p__Cyanobacteria;c__4C0d-2;o__SM1D11     k__Bacteria;p__Cyanobacteria;c__4C0d-2;o__SM1D11\n",
      "k__Bacteria;p__Cyanobacteria;c__4C0d-2;o__YS2           k__Bacteria;p__Cyanobacteria;c__4C0d-2;o__YS2\n",
      "k__Bacteria;p__Cyanobacteria;c__ML635J-21;o__           k__Bacteria;p__Cyanobacteria;c__ML635J-21;o__\n",
      "k__Bacteria;p__Cyanobacteria;c__Oscillatoriophy...  k__Bacteria;p__Cyanobacteria;c__Oscillatorioph...\n",
      "k__Bacteria;p__Deferribacteres;c__Deferribacter...  k__Bacteria;p__Deferribacteres;c__Deferribacte...\n",
      "k__Bacteria;p__FBP;c__;o__                                                 k__Bacteria;p__FBP;c__;o__\n",
      "k__Bacteria;p__Firmicutes;c__AHT28;o__                         k__Bacteria;p__Firmicutes;c__AHT28;o__\n",
      "k__Bacteria;p__Firmicutes;c__Bacilli;o__Bacillales  k__Bacteria;p__Firmicutes;c__Bacilli;o__Bacill...\n",
      "k__Bacteria;p__Firmicutes;c__Bacilli;o__Gemellales  k__Bacteria;p__Firmicutes;c__Bacilli;o__Gemell...\n",
      "k__Bacteria;p__Firmicutes;c__Bacilli;o__Lactoba...  k__Bacteria;p__Firmicutes;c__Bacilli;o__Lactob...\n",
      "k__Bacteria;p__Firmicutes;c__Clostridia;o__Clos...  k__Bacteria;p__Firmicutes;c__Clostridia;o__Clo...\n",
      "k__Bacteria;p__Firmicutes;c__Clostridia;o__MBA08     k__Bacteria;p__Firmicutes;c__Clostridia;o__MBA08\n",
      "k__Bacteria;p__Firmicutes;c__Clostridia;o__OPB54     k__Bacteria;p__Firmicutes;c__Clostridia;o__OPB54\n",
      "k__Bacteria;p__Firmicutes;c__Clostridia;o__Ther...  k__Bacteria;p__Firmicutes;c__Clostridia;o__The...\n",
      "k__Bacteria;p__Firmicutes;c__Erysipelotrichi;o_...  k__Bacteria;p__Firmicutes;c__Erysipelotrichi;o...\n",
      "k__Bacteria;p__Fusobacteria;c__Fusobacteriia;o_...  k__Bacteria;p__Fusobacteria;c__Fusobacteriia;o...\n",
      "k__Bacteria;p__GN02;c__BD1-5;o__                                     k__Bacteria;p__GN02;c__BD1-5;o__\n",
      "k__Bacteria;p__Gemmatimonadetes;c__Gemm-3;o__           k__Bacteria;p__Gemmatimonadetes;c__Gemm-3;o__\n",
      "k__Bacteria;p__Gemmatimonadetes;c__Gemmatimonad...  k__Bacteria;p__Gemmatimonadetes;c__Gemmatimona...\n",
      "k__Bacteria;p__Gemmatimonadetes;c__Gemmatimonad...  k__Bacteria;p__Gemmatimonadetes;c__Gemmatimona...\n",
      "k__Bacteria;p__Gemmatimonadetes;c__Gemmatimonad...  k__Bacteria;p__Gemmatimonadetes;c__Gemmatimona...\n",
      "k__Bacteria;p__Gemmatimonadetes;c__Gemmatimonad...  k__Bacteria;p__Gemmatimonadetes;c__Gemmatimona...\n",
      "k__Bacteria;p__OD1;c__SM2F11;o__                                     k__Bacteria;p__OD1;c__SM2F11;o__\n",
      "k__Bacteria;p__OP11;c__;o__                                               k__Bacteria;p__OP11;c__;o__\n",
      "k__Bacteria;p__OP11;c__OP11-2;o__WCHB1-07                   k__Bacteria;p__OP11;c__OP11-2;o__WCHB1-07\n",
      "k__Bacteria;p__Planctomycetes;c__Phycisphaerae;...  k__Bacteria;p__Planctomycetes;c__Phycisphaerae...\n",
      "k__Bacteria;p__Planctomycetes;c__Phycisphaerae;...  k__Bacteria;p__Planctomycetes;c__Phycisphaerae...\n",
      "k__Bacteria;p__Planctomycetes;c__Planctomycetia...  k__Bacteria;p__Planctomycetes;c__Planctomyceti...\n",
      "k__Bacteria;p__Planctomycetes;c__Planctomycetia...  k__Bacteria;p__Planctomycetes;c__Planctomyceti...\n",
      "k__Bacteria;p__Planctomycetes;c__Planctomycetia...  k__Bacteria;p__Planctomycetes;c__Planctomyceti...\n",
      "k__Bacteria;p__Planctomycetes;c__vadinHA49;o__P...  k__Bacteria;p__Planctomycetes;c__vadinHA49;o__...\n",
      "k__Bacteria;p__Proteobacteria;c__;o__                           k__Bacteria;p__Proteobacteria;c__;o__\n",
      "k__Bacteria;p__Proteobacteria;c__Alphaproteobac...  k__Bacteria;p__Proteobacteria;c__Alphaproteoba...\n",
      "k__Bacteria;p__Proteobacteria;c__Alphaproteobac...  k__Bacteria;p__Proteobacteria;c__Alphaproteoba...\n",
      "k__Bacteria;p__Proteobacteria;c__Alphaproteobac...  k__Bacteria;p__Proteobacteria;c__Alphaproteoba...\n",
      "k__Bacteria;p__Proteobacteria;c__Alphaproteobac...  k__Bacteria;p__Proteobacteria;c__Alphaproteoba...\n",
      "k__Bacteria;p__Proteobacteria;c__Alphaproteobac...  k__Bacteria;p__Proteobacteria;c__Alphaproteoba...\n",
      "k__Bacteria;p__Proteobacteria;c__Alphaproteobac...  k__Bacteria;p__Proteobacteria;c__Alphaproteoba...\n",
      "k__Bacteria;p__Proteobacteria;c__Alphaproteobac...  k__Bacteria;p__Proteobacteria;c__Alphaproteoba...\n",
      "k__Bacteria;p__Proteobacteria;c__Alphaproteobac...  k__Bacteria;p__Proteobacteria;c__Alphaproteoba...\n",
      "k__Bacteria;p__Proteobacteria;c__Alphaproteobac...  k__Bacteria;p__Proteobacteria;c__Alphaproteoba...\n",
      "k__Bacteria;p__Proteobacteria;c__Alphaproteobac...  k__Bacteria;p__Proteobacteria;c__Alphaproteoba...\n",
      "k__Bacteria;p__Proteobacteria;c__Alphaproteobac...  k__Bacteria;p__Proteobacteria;c__Alphaproteoba...\n",
      "k__Bacteria;p__Proteobacteria;c__Betaproteobact...  k__Bacteria;p__Proteobacteria;c__Betaproteobac...\n",
      "k__Bacteria;p__Proteobacteria;c__Betaproteobact...  k__Bacteria;p__Proteobacteria;c__Betaproteobac...\n",
      "k__Bacteria;p__Proteobacteria;c__Betaproteobact...  k__Bacteria;p__Proteobacteria;c__Betaproteobac...\n",
      "k__Bacteria;p__Proteobacteria;c__Betaproteobact...  k__Bacteria;p__Proteobacteria;c__Betaproteobac...\n",
      "k__Bacteria;p__Proteobacteria;c__Betaproteobact...  k__Bacteria;p__Proteobacteria;c__Betaproteobac...\n",
      "k__Bacteria;p__Proteobacteria;c__Betaproteobact...  k__Bacteria;p__Proteobacteria;c__Betaproteobac...\n",
      "k__Bacteria;p__Proteobacteria;c__Betaproteobact...  k__Bacteria;p__Proteobacteria;c__Betaproteobac...\n",
      "k__Bacteria;p__Proteobacteria;c__Betaproteobact...  k__Bacteria;p__Proteobacteria;c__Betaproteobac...\n",
      "k__Bacteria;p__Proteobacteria;c__Betaproteobact...  k__Bacteria;p__Proteobacteria;c__Betaproteobac...\n",
      "k__Bacteria;p__Proteobacteria;c__Betaproteobact...  k__Bacteria;p__Proteobacteria;c__Betaproteobac...\n",
      "k__Bacteria;p__Proteobacteria;c__Betaproteobact...  k__Bacteria;p__Proteobacteria;c__Betaproteobac...\n",
      "k__Bacteria;p__Proteobacteria;c__Betaproteobact...  k__Bacteria;p__Proteobacteria;c__Betaproteobac...\n",
      "k__Bacteria;p__Proteobacteria;c__Deltaproteobac...  k__Bacteria;p__Proteobacteria;c__Deltaproteoba...\n",
      "k__Bacteria;p__Proteobacteria;c__Deltaproteobac...  k__Bacteria;p__Proteobacteria;c__Deltaproteoba...\n",
      "k__Bacteria;p__Proteobacteria;c__Deltaproteobac...  k__Bacteria;p__Proteobacteria;c__Deltaproteoba...\n",
      "k__Bacteria;p__Proteobacteria;c__Deltaproteobac...  k__Bacteria;p__Proteobacteria;c__Deltaproteoba...\n",
      "k__Bacteria;p__Proteobacteria;c__Deltaproteobac...  k__Bacteria;p__Proteobacteria;c__Deltaproteoba...\n",
      "k__Bacteria;p__Proteobacteria;c__Deltaproteobac...  k__Bacteria;p__Proteobacteria;c__Deltaproteoba...\n",
      "k__Bacteria;p__Proteobacteria;c__Deltaproteobac...  k__Bacteria;p__Proteobacteria;c__Deltaproteoba...\n",
      "k__Bacteria;p__Proteobacteria;c__Deltaproteobac...  k__Bacteria;p__Proteobacteria;c__Deltaproteoba...\n",
      "k__Bacteria;p__Proteobacteria;c__Deltaproteobac...  k__Bacteria;p__Proteobacteria;c__Deltaproteoba...\n",
      "k__Bacteria;p__Proteobacteria;c__Deltaproteobac...  k__Bacteria;p__Proteobacteria;c__Deltaproteoba...\n",
      "k__Bacteria;p__Proteobacteria;c__Epsilonproteob...  k__Bacteria;p__Proteobacteria;c__Epsilonproteo...\n",
      "k__Bacteria;p__Proteobacteria;c__Gammaproteobac...  k__Bacteria;p__Proteobacteria;c__Gammaproteoba...\n",
      "k__Bacteria;p__Proteobacteria;c__Gammaproteobac...  k__Bacteria;p__Proteobacteria;c__Gammaproteoba...\n",
      "k__Bacteria;p__Proteobacteria;c__Gammaproteobac...  k__Bacteria;p__Proteobacteria;c__Gammaproteoba...\n",
      "k__Bacteria;p__Proteobacteria;c__Gammaproteobac...  k__Bacteria;p__Proteobacteria;c__Gammaproteoba...\n",
      "k__Bacteria;p__Proteobacteria;c__Gammaproteobac...  k__Bacteria;p__Proteobacteria;c__Gammaproteoba...\n",
      "k__Bacteria;p__Proteobacteria;c__Gammaproteobac...  k__Bacteria;p__Proteobacteria;c__Gammaproteoba...\n",
      "k__Bacteria;p__Proteobacteria;c__Gammaproteobac...  k__Bacteria;p__Proteobacteria;c__Gammaproteoba...\n",
      "k__Bacteria;p__Proteobacteria;c__Gammaproteobac...  k__Bacteria;p__Proteobacteria;c__Gammaproteoba...\n",
      "k__Bacteria;p__Proteobacteria;c__Gammaproteobac...  k__Bacteria;p__Proteobacteria;c__Gammaproteoba...\n",
      "k__Bacteria;p__Proteobacteria;c__Gammaproteobac...  k__Bacteria;p__Proteobacteria;c__Gammaproteoba...\n",
      "k__Bacteria;p__Proteobacteria;c__Gammaproteobac...  k__Bacteria;p__Proteobacteria;c__Gammaproteoba...\n",
      "k__Bacteria;p__Proteobacteria;c__Gammaproteobac...  k__Bacteria;p__Proteobacteria;c__Gammaproteoba...\n",
      "k__Bacteria;p__Proteobacteria;c__Gammaproteobac...  k__Bacteria;p__Proteobacteria;c__Gammaproteoba...\n",
      "k__Bacteria;p__Proteobacteria;c__Gammaproteobac...  k__Bacteria;p__Proteobacteria;c__Gammaproteoba...\n",
      "k__Bacteria;p__Proteobacteria;c__Gammaproteobac...  k__Bacteria;p__Proteobacteria;c__Gammaproteoba...\n",
      "k__Bacteria;p__Spirochaetes;c__Spirochaetes;o__...  k__Bacteria;p__Spirochaetes;c__Spirochaetes;o_...\n",
      "k__Bacteria;p__Spirochaetes;c__Spirochaetes;o__...  k__Bacteria;p__Spirochaetes;c__Spirochaetes;o_...\n",
      "k__Bacteria;p__Synergistetes;c__Synergistia;o__...  k__Bacteria;p__Synergistetes;c__Synergistia;o_...\n",
      "k__Bacteria;p__TM6;c__SJA-4;o__                                       k__Bacteria;p__TM6;c__SJA-4;o__\n",
      "k__Bacteria;p__TM7;c__;o__                                                 k__Bacteria;p__TM7;c__;o__\n",
      "k__Bacteria;p__TM7;c__TM7-1;o__                                       k__Bacteria;p__TM7;c__TM7-1;o__\n",
      "k__Bacteria;p__TM7;c__TM7-3;o__                                       k__Bacteria;p__TM7;c__TM7-3;o__\n",
      "k__Bacteria;p__TM7;c__TM7-3;o__I025                               k__Bacteria;p__TM7;c__TM7-3;o__I025\n",
      "k__Bacteria;p__Tenericutes;c__Mollicutes;o__Ach...  k__Bacteria;p__Tenericutes;c__Mollicutes;o__Ac...\n",
      "k__Bacteria;p__Tenericutes;c__Mollicutes;o__Ana...  k__Bacteria;p__Tenericutes;c__Mollicutes;o__An...\n",
      "k__Bacteria;p__Tenericutes;c__Mollicutes;o__Ent...  k__Bacteria;p__Tenericutes;c__Mollicutes;o__En...\n",
      "k__Bacteria;p__Tenericutes;c__Mollicutes;o__RF39     k__Bacteria;p__Tenericutes;c__Mollicutes;o__RF39\n",
      "k__Bacteria;p__Verrucomicrobia;c__Opitutae;o__         k__Bacteria;p__Verrucomicrobia;c__Opitutae;o__\n",
      "k__Bacteria;p__Verrucomicrobia;c__Opitutae;o__O...  k__Bacteria;p__Verrucomicrobia;c__Opitutae;o__...\n",
      "k__Bacteria;p__Verrucomicrobia;c__Opitutae;o__P...  k__Bacteria;p__Verrucomicrobia;c__Opitutae;o__...\n",
      "k__Bacteria;p__Verrucomicrobia;c__Opitutae;o__[...  k__Bacteria;p__Verrucomicrobia;c__Opitutae;o__...\n",
      "k__Bacteria;p__Verrucomicrobia;c__Verrucomicrob...  k__Bacteria;p__Verrucomicrobia;c__Verrucomicro...\n",
      "k__Bacteria;p__Verrucomicrobia;c__[Spartobacter...  k__Bacteria;p__Verrucomicrobia;c__[Spartobacte...\n",
      "k__Bacteria;p__WPS-2;c__;o__                                             k__Bacteria;p__WPS-2;c__;o__\n",
      "k__Bacteria;p__[Thermi];c__Deinococci;o__Deinoc...  k__Bacteria;p__[Thermi];c__Deinococci;o__Deino...\n",
      "k__Bacteria;p__[Thermi];c__Deinococci;o__Thermales  k__Bacteria;p__[Thermi];c__Deinococci;o__Therm...\n"
     ]
    }
   ],
   "source": [
    "print(exp_L4.feature_metadata)"
   ]
  },
  {
   "cell_type": "markdown",
   "metadata": {},
   "source": [
    "## Running the L4 model"
   ]
  },
  {
   "cell_type": "code",
   "execution_count": 29,
   "metadata": {},
   "outputs": [],
   "source": [
    "# groupKfold = 6, will leave out one body for each model\n",
    "gkf = GroupKFold(6)\n",
    "\n",
    "X = exp_L4.data\n",
    "y = exp_L4.sample_metadata['ADD_0']\n",
    "y = (y.astype(float))\n",
    "\n",
    "groups = exp_L4.sample_metadata['host_subject_id']\n",
    "\n",
    "# used to test the param grid for parameter tuning\n",
    "# use the output of this estimator below for input into new estimator (not commented out)\n",
    "param_grid = {\"max_depth\": [4, 8, 16, None],\n",
    "              \"max_features\": ['sqrt', 'log2', 0.1],\n",
    "              \"min_samples_split\": [0.001, 0.01, 0.1],\n",
    "              \"min_weight_fraction_leaf\": [0.0001, 0.001, 0.01],\n",
    "              \"bootstrap\": [True, False]}\n",
    "\n",
    "#param_grid = {\"max_depth\": [8],\n",
    "#          \"max_features\": [0.1],\n",
    "#          \"min_samples_split\": [0.001],\n",
    "#          \"min_weight_fraction_leaf\": [0.0001],\n",
    "#          \"bootstrap\": [False]}\n",
    "\n",
    "rf = RandomForestRegressor(n_estimators=1000, random_state=999, criterion='mae')\n",
    "gs = GridSearchCV(rf, param_grid=param_grid, cv=gkf.split(X, y, groups), scoring='neg_mean_absolute_error', n_jobs=1)"
   ]
  },
  {
   "cell_type": "code",
   "execution_count": 30,
   "metadata": {},
   "outputs": [
    {
     "data": {
      "text/plain": [
       "GridSearchCV(cv=<generator object _BaseKFold.split at 0x11cdbd550>,\n",
       "             error_score=nan,\n",
       "             estimator=RandomForestRegressor(bootstrap=True, ccp_alpha=0.0,\n",
       "                                             criterion='mae', max_depth=None,\n",
       "                                             max_features='auto',\n",
       "                                             max_leaf_nodes=None,\n",
       "                                             max_samples=None,\n",
       "                                             min_impurity_decrease=0.0,\n",
       "                                             min_impurity_split=None,\n",
       "                                             min_samples_leaf=1,\n",
       "                                             min_samples_split=2,\n",
       "                                             min_weight_fraction_leaf=0.0,\n",
       "                                             n_es...\n",
       "                                             oob_score=False, random_state=999,\n",
       "                                             verbose=0, warm_start=False),\n",
       "             iid='deprecated', n_jobs=1,\n",
       "             param_grid={'bootstrap': [True, False],\n",
       "                         'max_depth': [4, 8, 16, None],\n",
       "                         'max_features': ['sqrt', 'log2', 0.1],\n",
       "                         'min_samples_split': [0.001, 0.01, 0.1],\n",
       "                         'min_weight_fraction_leaf': [0.0001, 0.001, 0.01]},\n",
       "             pre_dispatch='2*n_jobs', refit=True, return_train_score=False,\n",
       "             scoring='neg_mean_absolute_error', verbose=0)"
      ]
     },
     "execution_count": 30,
     "metadata": {},
     "output_type": "execute_result"
    }
   ],
   "source": [
    "gs.fit(X, y)"
   ]
  },
  {
   "cell_type": "code",
   "execution_count": 31,
   "metadata": {},
   "outputs": [
    {
     "name": "stdout",
     "output_type": "stream",
     "text": [
      "{'bootstrap': False, 'max_depth': 8, 'max_features': 'sqrt', 'min_samples_split': 0.001, 'min_weight_fraction_leaf': 0.0001}\n"
     ]
    }
   ],
   "source": [
    "# this line is used when run with the first param grid to determine what the best parameters are for tuning\n",
    "print(gs.best_params_)"
   ]
  },
  {
   "cell_type": "code",
   "execution_count": 32,
   "metadata": {},
   "outputs": [
    {
     "name": "stdout",
     "output_type": "stream",
     "text": [
      "The best mean absolute error is 839.88\n"
     ]
    }
   ],
   "source": [
    "print('The best mean absolute error is', round(-gs.best_score_,2))"
   ]
  },
  {
   "cell_type": "code",
   "execution_count": 33,
   "metadata": {},
   "outputs": [
    {
     "data": {
      "text/plain": [
       "['models/bone_L4_no_metadata.pkl']"
      ]
     },
     "execution_count": 33,
     "metadata": {},
     "output_type": "execute_result"
    }
   ],
   "source": [
    "joblib.dump(gs.best_estimator_, 'models/bone_L4_no_metadata.pkl')"
   ]
  },
  {
   "cell_type": "code",
   "execution_count": 34,
   "metadata": {},
   "outputs": [
    {
     "data": {
      "text/plain": [
       "RandomForestRegressor(bootstrap=False, ccp_alpha=0.0, criterion='mae',\n",
       "                      max_depth=8, max_features='sqrt', max_leaf_nodes=None,\n",
       "                      max_samples=None, min_impurity_decrease=0.0,\n",
       "                      min_impurity_split=None, min_samples_leaf=1,\n",
       "                      min_samples_split=0.001, min_weight_fraction_leaf=0.0001,\n",
       "                      n_estimators=1000, n_jobs=None, oob_score=False,\n",
       "                      random_state=999, verbose=0, warm_start=False)"
      ]
     },
     "execution_count": 34,
     "metadata": {},
     "output_type": "execute_result"
    }
   ],
   "source": [
    "bone_L4 = joblib.load('models/bone_L4_no_metadata.pkl')\n",
    "bone_L4"
   ]
  },
  {
   "cell_type": "markdown",
   "metadata": {},
   "source": [
    "## Determine important features of the L4 model"
   ]
  },
  {
   "cell_type": "code",
   "execution_count": 36,
   "metadata": {},
   "outputs": [
    {
     "name": "stdout",
     "output_type": "stream",
     "text": [
      "Feature:\t\t\t\tImportance:\n",
      "1. k__Bacteria;p__Bacteroidetes;c__Sphingobacteriia;o__Sphingobacteriales\t0.05164475913473576\n",
      "2. k__Bacteria;p__Proteobacteria;c__Alphaproteobacteria;o__Caulobacterales\t0.04386094769789566\n",
      "3. k__Bacteria;p__Proteobacteria;c__Alphaproteobacteria;o__Rhizobiales\t0.042179583901854306\n",
      "4. k__Bacteria;p__Actinobacteria;c__Thermoleophilia;o__Solirubrobacterales\t0.04210819413389361\n",
      "5. k__Bacteria;p__Proteobacteria;c__Alphaproteobacteria;o__Sphingomonadales\t0.033972312379367445\n",
      "6. k__Bacteria;p__Bacteroidetes;c__[Saprospirae];o__[Saprospirales]\t0.032130708707649454\n",
      "7. k__Bacteria;p__Bacteroidetes;c__Flavobacteriia;o__Flavobacteriales\t0.03203002339654623\n",
      "8. k__Bacteria;p__Proteobacteria;c__Alphaproteobacteria;o__Rhodospirillales\t0.031490410708379026\n",
      "9. k__Bacteria;p__Proteobacteria;c__Betaproteobacteria;o__Burkholderiales\t0.029990158416624783\n",
      "10. k__Bacteria;p__Proteobacteria;c__Gammaproteobacteria;o__Xanthomonadales\t0.02708688929066615\n",
      "11. k__Bacteria;p__Gemmatimonadetes;c__Gemmatimonadetes;o__N1423WL\t0.025649481849251653\n",
      "12. k__Bacteria;p__Firmicutes;c__Clostridia;o__Clostridiales\t0.024794493880168696\n",
      "13. k__Bacteria;p__Firmicutes;c__Bacilli;o__Bacillales\t0.02415594750960421\n",
      "14. k__Bacteria;p__Firmicutes;c__Bacilli;o__Lactobacillales\t0.0229230811861505\n",
      "15. k__Bacteria;p__Actinobacteria;c__Acidimicrobiia;o__Acidimicrobiales\t0.019542449993911495\n",
      "16. k__Bacteria;p__Planctomycetes;c__Planctomycetia;o__Planctomycetales\t0.01925268723851988\n",
      "17. k__Bacteria;p__Proteobacteria;c__Alphaproteobacteria;o__Ellin329\t0.017739470980619877\n",
      "18. k__Bacteria;p__Verrucomicrobia;c__[Spartobacteria];o__[Chthoniobacterales]\t0.017694567334634256\n",
      "19. k__Bacteria;p__Proteobacteria;c__Betaproteobacteria;o__Neisseriales\t0.016943490143045453\n",
      "20. k__Bacteria;p__Firmicutes;c__Bacilli;o__Gemellales\t0.01685282220004707\n",
      "21. k__Bacteria;p__Proteobacteria;c__Gammaproteobacteria;o__Pseudomonadales\t0.01672383453270564\n",
      "22. k__Bacteria;p__Firmicutes;c__Erysipelotrichi;o__Erysipelotrichales\t0.01645721958955775\n",
      "23. k__Bacteria;p__Actinobacteria;c__Actinobacteria;o__Actinomycetales\t0.015940141610490042\n",
      "24. k__Bacteria;p__Bacteroidetes;c__Bacteroidia;o__Bacteroidales\t0.015864547880309495\n",
      "25. k__Bacteria;p__Proteobacteria;c__Gammaproteobacteria;o__Pasteurellales\t0.015681959593202968\n"
     ]
    }
   ],
   "source": [
    "importances = bone_L4.feature_importances_\n",
    "std = np.std([tree.feature_importances_ for tree in bone_L4.estimators_],\n",
    "             axis=0)\n",
    "indices = np.argsort(importances)[::-1]\n",
    "\n",
    "feature_metadata = exp_L4.feature_metadata\n",
    "np.savetxt(\"importances/bone_L4_no_metadata_features.csv\", feature_metadata, delimiter=\",\", fmt='%s')\n",
    "\n",
    "\n",
    "#print the important ids in order\n",
    "general_importances = []\n",
    "count = 0\n",
    "print(\"Feature:\\t\\t\\t\\tImportance:\")\n",
    "for i in indices:\n",
    "    general_importances += (exp_L4.feature_metadata.index.values[i], importances[indices[count]])\n",
    "    if count < 25:\n",
    "        print(str(count+1)+\". \"+str(exp_L4.feature_metadata.index.values[i])+\"\\t\"+str(importances[indices[count]]))\n",
    "    count += 1\n",
    "    \n",
    "general_importances_df = pd.DataFrame(np.array(general_importances).reshape(258,1))\n",
    "\n",
    "np.savetxt(\"importances/bone_L4_no_features_importances.csv\", general_importances_df, delimiter=\",\", fmt='%s')"
   ]
  },
  {
   "cell_type": "markdown",
   "metadata": {},
   "source": [
    "## Import rarefied table collapsed at L5"
   ]
  },
  {
   "cell_type": "code",
   "execution_count": 37,
   "metadata": {},
   "outputs": [
    {
     "name": "stdout",
     "output_type": "stream",
     "text": [
      "2020-06-26 13:49:48 WARNING These have metadata but do not have data - dropped (51): {'11553.CSU.extraction.blank1', '11553.BLANKrib.11E', '11553.BLANKrib.10D', '11553.CSU.extraction.blank10', '11553.BLANKrib.10G', '11553.CSU.extraction.blank8', '11553.BLANKrib.10B', '11553.CSU.extraction.blank6', '11553.BLANKrib.9A', '11553.BLANKrib.11G', '11553.CSU.extraction.blank5', '11553.BLANKrib.12F', '11553.BLANKrib.12H', '11553.BLANKrib.9B', '11553.CSU.extraction.blank7', '11553.SHSU.STAFS2016.011.L09', '11553.BLANKrib.11H', '11553.BLANKrib.10F', '11553.CSU.extraction.blank15', '11553.BLANKrib.5B', '11553.CSU.extraction.blank3', '11553.BLANKrib.9D', '11553.BLANKrib.9H', '11553.BLANKrib.9C', '11553.BLANKrib.12A', '11553.STAFS.2016.064.L12', '11553.BLANKrib.11D', '11553.CSU.extraction.blank13', '11553.CSU.extraction.blank14', '11553.CSU.extraction.blank12', '11553.BLANKrib.10A', '11553.CSU.extraction.blank11', '11553.BLANKrib.11C', '11553.BLANKrib.12G', '11553.BLANKrib.12E', '11553.CSU.extraction.blank9', '11553.BLANKrib.10H', '11553.SHSU.STAFS2016.007.R11', '11553.CSU.extraction.blank4', '11553.BLANKrib.10E', '11553.BLANKrib.10C', '11553.BLANKrib.9G', '11553.BLANKrib.9E', '11553.BLANKrib.12B', '11553.BLANKrib.11B', '11553.BLANKrib.12D', '11553.BLANKrib.12C', '11553.BLANKrib.11A', '11553.BLANKrib.9F', '11553.CSU.extraction.blank2', '11553.BLANKrib.11F'}\n"
     ]
    }
   ],
   "source": [
    "exp_L5 = ca.read_amplicon('/Users/heatherdeel/Dropbox/PMI_3_analyses/bone/01_16S/01_qiime2_analysis/feature_tables/collapsed_tables/frag_ins_noChloMito_17098_L5_table.biom', '../02_metadata/maps/map3.txt', min_reads=0, normalize = None)\n"
   ]
  },
  {
   "cell_type": "code",
   "execution_count": 38,
   "metadata": {},
   "outputs": [
    {
     "name": "stdout",
     "output_type": "stream",
     "text": [
      "                                                                                          _feature_id\n",
      "k__Archaea;p__Crenarchaeota;c__Thaumarchaeota;o...  k__Archaea;p__Crenarchaeota;c__Thaumarchaeota;...\n",
      "k__Archaea;p__Euryarchaeota;c__Methanobacteria;...  k__Archaea;p__Euryarchaeota;c__Methanobacteria...\n",
      "k__Bacteria;__;__;__;__                                                       k__Bacteria;__;__;__;__\n",
      "k__Bacteria;p__Acidobacteria;c__DA052;o__Ellin6...  k__Bacteria;p__Acidobacteria;c__DA052;o__Ellin...\n",
      "k__Bacteria;p__Acidobacteria;c__Solibacteres;o_...  k__Bacteria;p__Acidobacteria;c__Solibacteres;o...\n",
      "k__Bacteria;p__Acidobacteria;c__[Chloracidobact...  k__Bacteria;p__Acidobacteria;c__[Chloracidobac...\n",
      "k__Bacteria;p__Acidobacteria;c__[Chloracidobact...  k__Bacteria;p__Acidobacteria;c__[Chloracidobac...\n",
      "k__Bacteria;p__Actinobacteria;c__Acidimicrobiia...  k__Bacteria;p__Actinobacteria;c__Acidimicrobii...\n",
      "k__Bacteria;p__Actinobacteria;c__Acidimicrobiia...  k__Bacteria;p__Actinobacteria;c__Acidimicrobii...\n",
      "k__Bacteria;p__Actinobacteria;c__Acidimicrobiia...  k__Bacteria;p__Actinobacteria;c__Acidimicrobii...\n",
      "k__Bacteria;p__Actinobacteria;c__Acidimicrobiia...  k__Bacteria;p__Actinobacteria;c__Acidimicrobii...\n",
      "k__Bacteria;p__Actinobacteria;c__Acidimicrobiia...  k__Bacteria;p__Actinobacteria;c__Acidimicrobii...\n",
      "k__Bacteria;p__Actinobacteria;c__Actinobacteria...  k__Bacteria;p__Actinobacteria;c__Actinobacteri...\n",
      "k__Bacteria;p__Actinobacteria;c__Actinobacteria...  k__Bacteria;p__Actinobacteria;c__Actinobacteri...\n",
      "k__Bacteria;p__Actinobacteria;c__Actinobacteria...  k__Bacteria;p__Actinobacteria;c__Actinobacteri...\n",
      "k__Bacteria;p__Actinobacteria;c__Actinobacteria...  k__Bacteria;p__Actinobacteria;c__Actinobacteri...\n",
      "k__Bacteria;p__Actinobacteria;c__Actinobacteria...  k__Bacteria;p__Actinobacteria;c__Actinobacteri...\n",
      "k__Bacteria;p__Actinobacteria;c__Actinobacteria...  k__Bacteria;p__Actinobacteria;c__Actinobacteri...\n",
      "k__Bacteria;p__Actinobacteria;c__Actinobacteria...  k__Bacteria;p__Actinobacteria;c__Actinobacteri...\n",
      "k__Bacteria;p__Actinobacteria;c__Actinobacteria...  k__Bacteria;p__Actinobacteria;c__Actinobacteri...\n",
      "k__Bacteria;p__Actinobacteria;c__Actinobacteria...  k__Bacteria;p__Actinobacteria;c__Actinobacteri...\n",
      "k__Bacteria;p__Actinobacteria;c__Actinobacteria...  k__Bacteria;p__Actinobacteria;c__Actinobacteri...\n",
      "k__Bacteria;p__Actinobacteria;c__Actinobacteria...  k__Bacteria;p__Actinobacteria;c__Actinobacteri...\n",
      "k__Bacteria;p__Actinobacteria;c__Actinobacteria...  k__Bacteria;p__Actinobacteria;c__Actinobacteri...\n",
      "k__Bacteria;p__Actinobacteria;c__Actinobacteria...  k__Bacteria;p__Actinobacteria;c__Actinobacteri...\n",
      "k__Bacteria;p__Actinobacteria;c__Actinobacteria...  k__Bacteria;p__Actinobacteria;c__Actinobacteri...\n",
      "k__Bacteria;p__Actinobacteria;c__Actinobacteria...  k__Bacteria;p__Actinobacteria;c__Actinobacteri...\n",
      "k__Bacteria;p__Actinobacteria;c__Actinobacteria...  k__Bacteria;p__Actinobacteria;c__Actinobacteri...\n",
      "k__Bacteria;p__Actinobacteria;c__Actinobacteria...  k__Bacteria;p__Actinobacteria;c__Actinobacteri...\n",
      "k__Bacteria;p__Actinobacteria;c__Actinobacteria...  k__Bacteria;p__Actinobacteria;c__Actinobacteri...\n",
      "k__Bacteria;p__Actinobacteria;c__Actinobacteria...  k__Bacteria;p__Actinobacteria;c__Actinobacteri...\n",
      "k__Bacteria;p__Actinobacteria;c__Actinobacteria...  k__Bacteria;p__Actinobacteria;c__Actinobacteri...\n",
      "k__Bacteria;p__Actinobacteria;c__Actinobacteria...  k__Bacteria;p__Actinobacteria;c__Actinobacteri...\n",
      "k__Bacteria;p__Actinobacteria;c__Actinobacteria...  k__Bacteria;p__Actinobacteria;c__Actinobacteri...\n",
      "k__Bacteria;p__Actinobacteria;c__Actinobacteria...  k__Bacteria;p__Actinobacteria;c__Actinobacteri...\n",
      "k__Bacteria;p__Actinobacteria;c__Actinobacteria...  k__Bacteria;p__Actinobacteria;c__Actinobacteri...\n",
      "k__Bacteria;p__Actinobacteria;c__Actinobacteria...  k__Bacteria;p__Actinobacteria;c__Actinobacteri...\n",
      "k__Bacteria;p__Actinobacteria;c__Actinobacteria...  k__Bacteria;p__Actinobacteria;c__Actinobacteri...\n",
      "k__Bacteria;p__Actinobacteria;c__Actinobacteria...  k__Bacteria;p__Actinobacteria;c__Actinobacteri...\n",
      "k__Bacteria;p__Actinobacteria;c__Actinobacteria...  k__Bacteria;p__Actinobacteria;c__Actinobacteri...\n",
      "k__Bacteria;p__Actinobacteria;c__Actinobacteria...  k__Bacteria;p__Actinobacteria;c__Actinobacteri...\n",
      "k__Bacteria;p__Actinobacteria;c__Actinobacteria...  k__Bacteria;p__Actinobacteria;c__Actinobacteri...\n",
      "k__Bacteria;p__Actinobacteria;c__Actinobacteria...  k__Bacteria;p__Actinobacteria;c__Actinobacteri...\n",
      "k__Bacteria;p__Actinobacteria;c__Actinobacteria...  k__Bacteria;p__Actinobacteria;c__Actinobacteri...\n",
      "k__Bacteria;p__Actinobacteria;c__Actinobacteria...  k__Bacteria;p__Actinobacteria;c__Actinobacteri...\n",
      "k__Bacteria;p__Actinobacteria;c__Actinobacteria...  k__Bacteria;p__Actinobacteria;c__Actinobacteri...\n",
      "k__Bacteria;p__Actinobacteria;c__Actinobacteria...  k__Bacteria;p__Actinobacteria;c__Actinobacteri...\n",
      "k__Bacteria;p__Actinobacteria;c__Coriobacteriia...  k__Bacteria;p__Actinobacteria;c__Coriobacterii...\n",
      "k__Bacteria;p__Actinobacteria;c__Rubrobacteria;...  k__Bacteria;p__Actinobacteria;c__Rubrobacteria...\n",
      "k__Bacteria;p__Actinobacteria;c__Thermoleophili...  k__Bacteria;p__Actinobacteria;c__Thermoleophil...\n",
      "k__Bacteria;p__Actinobacteria;c__Thermoleophili...  k__Bacteria;p__Actinobacteria;c__Thermoleophil...\n",
      "k__Bacteria;p__Actinobacteria;c__Thermoleophili...  k__Bacteria;p__Actinobacteria;c__Thermoleophil...\n",
      "k__Bacteria;p__Actinobacteria;c__Thermoleophili...  k__Bacteria;p__Actinobacteria;c__Thermoleophil...\n",
      "k__Bacteria;p__Actinobacteria;c__Thermoleophili...  k__Bacteria;p__Actinobacteria;c__Thermoleophil...\n",
      "k__Bacteria;p__Armatimonadetes;c__Armatimonadia...  k__Bacteria;p__Armatimonadetes;c__Armatimonadi...\n",
      "k__Bacteria;p__Armatimonadetes;c__SHA-37;o__;f__     k__Bacteria;p__Armatimonadetes;c__SHA-37;o__;f__\n",
      "k__Bacteria;p__Armatimonadetes;c__SJA-176;o__GA...  k__Bacteria;p__Armatimonadetes;c__SJA-176;o__G...\n",
      "k__Bacteria;p__Armatimonadetes;c__[Fimbriimonad...  k__Bacteria;p__Armatimonadetes;c__[Fimbriimona...\n",
      "k__Bacteria;p__BRC1;c__PRR-11;o__;f__                           k__Bacteria;p__BRC1;c__PRR-11;o__;f__\n",
      "k__Bacteria;p__Bacteroidetes;c__Bacteroidia;o__...  k__Bacteria;p__Bacteroidetes;c__Bacteroidia;o_...\n",
      "k__Bacteria;p__Bacteroidetes;c__Bacteroidia;o__...  k__Bacteria;p__Bacteroidetes;c__Bacteroidia;o_...\n",
      "k__Bacteria;p__Bacteroidetes;c__Bacteroidia;o__...  k__Bacteria;p__Bacteroidetes;c__Bacteroidia;o_...\n",
      "k__Bacteria;p__Bacteroidetes;c__Bacteroidia;o__...  k__Bacteria;p__Bacteroidetes;c__Bacteroidia;o_...\n",
      "k__Bacteria;p__Bacteroidetes;c__Bacteroidia;o__...  k__Bacteria;p__Bacteroidetes;c__Bacteroidia;o_...\n",
      "k__Bacteria;p__Bacteroidetes;c__Bacteroidia;o__...  k__Bacteria;p__Bacteroidetes;c__Bacteroidia;o_...\n",
      "k__Bacteria;p__Bacteroidetes;c__Bacteroidia;o__...  k__Bacteria;p__Bacteroidetes;c__Bacteroidia;o_...\n",
      "k__Bacteria;p__Bacteroidetes;c__Bacteroidia;o__...  k__Bacteria;p__Bacteroidetes;c__Bacteroidia;o_...\n",
      "k__Bacteria;p__Bacteroidetes;c__Bacteroidia;o__...  k__Bacteria;p__Bacteroidetes;c__Bacteroidia;o_...\n",
      "k__Bacteria;p__Bacteroidetes;c__Cytophagia;o__C...  k__Bacteria;p__Bacteroidetes;c__Cytophagia;o__...\n",
      "k__Bacteria;p__Bacteroidetes;c__Cytophagia;o__C...  k__Bacteria;p__Bacteroidetes;c__Cytophagia;o__...\n",
      "k__Bacteria;p__Bacteroidetes;c__Cytophagia;o__C...  k__Bacteria;p__Bacteroidetes;c__Cytophagia;o__...\n",
      "k__Bacteria;p__Bacteroidetes;c__Flavobacteriia;...  k__Bacteria;p__Bacteroidetes;c__Flavobacteriia...\n",
      "k__Bacteria;p__Bacteroidetes;c__Flavobacteriia;...  k__Bacteria;p__Bacteroidetes;c__Flavobacteriia...\n",
      "k__Bacteria;p__Bacteroidetes;c__Flavobacteriia;...  k__Bacteria;p__Bacteroidetes;c__Flavobacteriia...\n",
      "k__Bacteria;p__Bacteroidetes;c__Sphingobacterii...  k__Bacteria;p__Bacteroidetes;c__Sphingobacteri...\n",
      "k__Bacteria;p__Bacteroidetes;c__[Saprospirae];o...  k__Bacteria;p__Bacteroidetes;c__[Saprospirae];...\n",
      "k__Bacteria;p__Bacteroidetes;c__[Saprospirae];o...  k__Bacteria;p__Bacteroidetes;c__[Saprospirae];...\n",
      "k__Bacteria;p__Bacteroidetes;c__[Saprospirae];o...  k__Bacteria;p__Bacteroidetes;c__[Saprospirae];...\n",
      "k__Bacteria;p__Chlorobi;c__OPB56;o__;f__                     k__Bacteria;p__Chlorobi;c__OPB56;o__;f__\n",
      "k__Bacteria;p__Chloroflexi;c__Chloroflexi;o__AK...  k__Bacteria;p__Chloroflexi;c__Chloroflexi;o__A...\n",
      "k__Bacteria;p__Chloroflexi;c__Ellin6529;o__;f__       k__Bacteria;p__Chloroflexi;c__Ellin6529;o__;f__\n",
      "k__Bacteria;p__Chloroflexi;c__Thermomicrobia;o_...  k__Bacteria;p__Chloroflexi;c__Thermomicrobia;o...\n",
      "k__Bacteria;p__Chloroflexi;c__Thermomicrobia;o_...  k__Bacteria;p__Chloroflexi;c__Thermomicrobia;o...\n",
      "k__Bacteria;p__Cyanobacteria;c__4C0d-2;o__SM1D1...  k__Bacteria;p__Cyanobacteria;c__4C0d-2;o__SM1D...\n",
      "k__Bacteria;p__Cyanobacteria;c__4C0d-2;o__YS2;f__   k__Bacteria;p__Cyanobacteria;c__4C0d-2;o__YS2;f__\n",
      "k__Bacteria;p__Cyanobacteria;c__ML635J-21;o__;f__   k__Bacteria;p__Cyanobacteria;c__ML635J-21;o__;f__\n",
      "k__Bacteria;p__Cyanobacteria;c__Oscillatoriophy...  k__Bacteria;p__Cyanobacteria;c__Oscillatorioph...\n",
      "k__Bacteria;p__Deferribacteres;c__Deferribacter...  k__Bacteria;p__Deferribacteres;c__Deferribacte...\n",
      "k__Bacteria;p__FBP;c__;o__;f__                                         k__Bacteria;p__FBP;c__;o__;f__\n",
      "k__Bacteria;p__Firmicutes;c__AHT28;o__;f__                 k__Bacteria;p__Firmicutes;c__AHT28;o__;f__\n",
      "k__Bacteria;p__Firmicutes;c__Bacilli;o__Bacilla...  k__Bacteria;p__Firmicutes;c__Bacilli;o__Bacill...\n",
      "k__Bacteria;p__Firmicutes;c__Bacilli;o__Bacilla...  k__Bacteria;p__Firmicutes;c__Bacilli;o__Bacill...\n",
      "k__Bacteria;p__Firmicutes;c__Bacilli;o__Bacilla...  k__Bacteria;p__Firmicutes;c__Bacilli;o__Bacill...\n",
      "k__Bacteria;p__Firmicutes;c__Bacilli;o__Bacilla...  k__Bacteria;p__Firmicutes;c__Bacilli;o__Bacill...\n",
      "k__Bacteria;p__Firmicutes;c__Bacilli;o__Bacilla...  k__Bacteria;p__Firmicutes;c__Bacilli;o__Bacill...\n",
      "k__Bacteria;p__Firmicutes;c__Bacilli;o__Bacilla...  k__Bacteria;p__Firmicutes;c__Bacilli;o__Bacill...\n",
      "k__Bacteria;p__Firmicutes;c__Bacilli;o__Bacilla...  k__Bacteria;p__Firmicutes;c__Bacilli;o__Bacill...\n",
      "k__Bacteria;p__Firmicutes;c__Bacilli;o__Bacilla...  k__Bacteria;p__Firmicutes;c__Bacilli;o__Bacill...\n",
      "k__Bacteria;p__Firmicutes;c__Bacilli;o__Gemella...  k__Bacteria;p__Firmicutes;c__Bacilli;o__Gemell...\n",
      "k__Bacteria;p__Firmicutes;c__Bacilli;o__Gemella...  k__Bacteria;p__Firmicutes;c__Bacilli;o__Gemell...\n",
      "k__Bacteria;p__Firmicutes;c__Bacilli;o__Lactoba...  k__Bacteria;p__Firmicutes;c__Bacilli;o__Lactob...\n",
      "k__Bacteria;p__Firmicutes;c__Bacilli;o__Lactoba...  k__Bacteria;p__Firmicutes;c__Bacilli;o__Lactob...\n",
      "k__Bacteria;p__Firmicutes;c__Bacilli;o__Lactoba...  k__Bacteria;p__Firmicutes;c__Bacilli;o__Lactob...\n",
      "k__Bacteria;p__Firmicutes;c__Bacilli;o__Lactoba...  k__Bacteria;p__Firmicutes;c__Bacilli;o__Lactob...\n",
      "k__Bacteria;p__Firmicutes;c__Bacilli;o__Lactoba...  k__Bacteria;p__Firmicutes;c__Bacilli;o__Lactob...\n",
      "k__Bacteria;p__Firmicutes;c__Bacilli;o__Lactoba...  k__Bacteria;p__Firmicutes;c__Bacilli;o__Lactob...\n",
      "k__Bacteria;p__Firmicutes;c__Clostridia;o__Clos...  k__Bacteria;p__Firmicutes;c__Clostridia;o__Clo...\n",
      "k__Bacteria;p__Firmicutes;c__Clostridia;o__Clos...  k__Bacteria;p__Firmicutes;c__Clostridia;o__Clo...\n",
      "k__Bacteria;p__Firmicutes;c__Clostridia;o__Clos...  k__Bacteria;p__Firmicutes;c__Clostridia;o__Clo...\n",
      "k__Bacteria;p__Firmicutes;c__Clostridia;o__Clos...  k__Bacteria;p__Firmicutes;c__Clostridia;o__Clo...\n",
      "k__Bacteria;p__Firmicutes;c__Clostridia;o__Clos...  k__Bacteria;p__Firmicutes;c__Clostridia;o__Clo...\n",
      "k__Bacteria;p__Firmicutes;c__Clostridia;o__Clos...  k__Bacteria;p__Firmicutes;c__Clostridia;o__Clo...\n",
      "k__Bacteria;p__Firmicutes;c__Clostridia;o__Clos...  k__Bacteria;p__Firmicutes;c__Clostridia;o__Clo...\n",
      "k__Bacteria;p__Firmicutes;c__Clostridia;o__Clos...  k__Bacteria;p__Firmicutes;c__Clostridia;o__Clo...\n",
      "k__Bacteria;p__Firmicutes;c__Clostridia;o__Clos...  k__Bacteria;p__Firmicutes;c__Clostridia;o__Clo...\n",
      "k__Bacteria;p__Firmicutes;c__Clostridia;o__Clos...  k__Bacteria;p__Firmicutes;c__Clostridia;o__Clo...\n",
      "k__Bacteria;p__Firmicutes;c__Clostridia;o__Clos...  k__Bacteria;p__Firmicutes;c__Clostridia;o__Clo...\n",
      "k__Bacteria;p__Firmicutes;c__Clostridia;o__Clos...  k__Bacteria;p__Firmicutes;c__Clostridia;o__Clo...\n",
      "k__Bacteria;p__Firmicutes;c__Clostridia;o__Clos...  k__Bacteria;p__Firmicutes;c__Clostridia;o__Clo...\n",
      "k__Bacteria;p__Firmicutes;c__Clostridia;o__MBA0...  k__Bacteria;p__Firmicutes;c__Clostridia;o__MBA...\n",
      "k__Bacteria;p__Firmicutes;c__Clostridia;o__OPB5...  k__Bacteria;p__Firmicutes;c__Clostridia;o__OPB...\n",
      "k__Bacteria;p__Firmicutes;c__Clostridia;o__Ther...  k__Bacteria;p__Firmicutes;c__Clostridia;o__The...\n",
      "k__Bacteria;p__Firmicutes;c__Clostridia;o__Ther...  k__Bacteria;p__Firmicutes;c__Clostridia;o__The...\n",
      "k__Bacteria;p__Firmicutes;c__Erysipelotrichi;o_...  k__Bacteria;p__Firmicutes;c__Erysipelotrichi;o...\n",
      "k__Bacteria;p__Fusobacteria;c__Fusobacteriia;o_...  k__Bacteria;p__Fusobacteria;c__Fusobacteriia;o...\n",
      "k__Bacteria;p__Fusobacteria;c__Fusobacteriia;o_...  k__Bacteria;p__Fusobacteria;c__Fusobacteriia;o...\n",
      "k__Bacteria;p__GN02;c__BD1-5;o__;f__                             k__Bacteria;p__GN02;c__BD1-5;o__;f__\n",
      "k__Bacteria;p__Gemmatimonadetes;c__Gemm-3;o__;f__   k__Bacteria;p__Gemmatimonadetes;c__Gemm-3;o__;f__\n",
      "k__Bacteria;p__Gemmatimonadetes;c__Gemmatimonad...  k__Bacteria;p__Gemmatimonadetes;c__Gemmatimona...\n",
      "k__Bacteria;p__Gemmatimonadetes;c__Gemmatimonad...  k__Bacteria;p__Gemmatimonadetes;c__Gemmatimona...\n",
      "k__Bacteria;p__Gemmatimonadetes;c__Gemmatimonad...  k__Bacteria;p__Gemmatimonadetes;c__Gemmatimona...\n",
      "k__Bacteria;p__Gemmatimonadetes;c__Gemmatimonad...  k__Bacteria;p__Gemmatimonadetes;c__Gemmatimona...\n",
      "k__Bacteria;p__OD1;c__SM2F11;o__;f__                             k__Bacteria;p__OD1;c__SM2F11;o__;f__\n",
      "k__Bacteria;p__OP11;c__;o__;f__                                       k__Bacteria;p__OP11;c__;o__;f__\n",
      "k__Bacteria;p__OP11;c__OP11-2;o__WCHB1-07;f__           k__Bacteria;p__OP11;c__OP11-2;o__WCHB1-07;f__\n",
      "k__Bacteria;p__Planctomycetes;c__Phycisphaerae;...  k__Bacteria;p__Planctomycetes;c__Phycisphaerae...\n",
      "k__Bacteria;p__Planctomycetes;c__Phycisphaerae;...  k__Bacteria;p__Planctomycetes;c__Phycisphaerae...\n",
      "k__Bacteria;p__Planctomycetes;c__Planctomycetia...  k__Bacteria;p__Planctomycetes;c__Planctomyceti...\n",
      "k__Bacteria;p__Planctomycetes;c__Planctomycetia...  k__Bacteria;p__Planctomycetes;c__Planctomyceti...\n",
      "k__Bacteria;p__Planctomycetes;c__Planctomycetia...  k__Bacteria;p__Planctomycetes;c__Planctomyceti...\n",
      "k__Bacteria;p__Planctomycetes;c__Planctomycetia...  k__Bacteria;p__Planctomycetes;c__Planctomyceti...\n",
      "k__Bacteria;p__Planctomycetes;c__vadinHA49;o__P...  k__Bacteria;p__Planctomycetes;c__vadinHA49;o__...\n",
      "k__Bacteria;p__Proteobacteria;c__;o__;f__                   k__Bacteria;p__Proteobacteria;c__;o__;f__\n",
      "k__Bacteria;p__Proteobacteria;c__Alphaproteobac...  k__Bacteria;p__Proteobacteria;c__Alphaproteoba...\n",
      "k__Bacteria;p__Proteobacteria;c__Alphaproteobac...  k__Bacteria;p__Proteobacteria;c__Alphaproteoba...\n",
      "k__Bacteria;p__Proteobacteria;c__Alphaproteobac...  k__Bacteria;p__Proteobacteria;c__Alphaproteoba...\n",
      "k__Bacteria;p__Proteobacteria;c__Alphaproteobac...  k__Bacteria;p__Proteobacteria;c__Alphaproteoba...\n",
      "k__Bacteria;p__Proteobacteria;c__Alphaproteobac...  k__Bacteria;p__Proteobacteria;c__Alphaproteoba...\n",
      "k__Bacteria;p__Proteobacteria;c__Alphaproteobac...  k__Bacteria;p__Proteobacteria;c__Alphaproteoba...\n",
      "k__Bacteria;p__Proteobacteria;c__Alphaproteobac...  k__Bacteria;p__Proteobacteria;c__Alphaproteoba...\n",
      "k__Bacteria;p__Proteobacteria;c__Alphaproteobac...  k__Bacteria;p__Proteobacteria;c__Alphaproteoba...\n",
      "k__Bacteria;p__Proteobacteria;c__Alphaproteobac...  k__Bacteria;p__Proteobacteria;c__Alphaproteoba...\n",
      "k__Bacteria;p__Proteobacteria;c__Alphaproteobac...  k__Bacteria;p__Proteobacteria;c__Alphaproteoba...\n",
      "k__Bacteria;p__Proteobacteria;c__Alphaproteobac...  k__Bacteria;p__Proteobacteria;c__Alphaproteoba...\n",
      "k__Bacteria;p__Proteobacteria;c__Alphaproteobac...  k__Bacteria;p__Proteobacteria;c__Alphaproteoba...\n",
      "k__Bacteria;p__Proteobacteria;c__Alphaproteobac...  k__Bacteria;p__Proteobacteria;c__Alphaproteoba...\n",
      "k__Bacteria;p__Proteobacteria;c__Alphaproteobac...  k__Bacteria;p__Proteobacteria;c__Alphaproteoba...\n",
      "k__Bacteria;p__Proteobacteria;c__Alphaproteobac...  k__Bacteria;p__Proteobacteria;c__Alphaproteoba...\n",
      "k__Bacteria;p__Proteobacteria;c__Alphaproteobac...  k__Bacteria;p__Proteobacteria;c__Alphaproteoba...\n",
      "k__Bacteria;p__Proteobacteria;c__Alphaproteobac...  k__Bacteria;p__Proteobacteria;c__Alphaproteoba...\n",
      "k__Bacteria;p__Proteobacteria;c__Alphaproteobac...  k__Bacteria;p__Proteobacteria;c__Alphaproteoba...\n",
      "k__Bacteria;p__Proteobacteria;c__Alphaproteobac...  k__Bacteria;p__Proteobacteria;c__Alphaproteoba...\n",
      "k__Bacteria;p__Proteobacteria;c__Alphaproteobac...  k__Bacteria;p__Proteobacteria;c__Alphaproteoba...\n",
      "k__Bacteria;p__Proteobacteria;c__Alphaproteobac...  k__Bacteria;p__Proteobacteria;c__Alphaproteoba...\n",
      "k__Bacteria;p__Proteobacteria;c__Alphaproteobac...  k__Bacteria;p__Proteobacteria;c__Alphaproteoba...\n",
      "k__Bacteria;p__Proteobacteria;c__Alphaproteobac...  k__Bacteria;p__Proteobacteria;c__Alphaproteoba...\n",
      "k__Bacteria;p__Proteobacteria;c__Alphaproteobac...  k__Bacteria;p__Proteobacteria;c__Alphaproteoba...\n",
      "k__Bacteria;p__Proteobacteria;c__Alphaproteobac...  k__Bacteria;p__Proteobacteria;c__Alphaproteoba...\n",
      "k__Bacteria;p__Proteobacteria;c__Alphaproteobac...  k__Bacteria;p__Proteobacteria;c__Alphaproteoba...\n",
      "k__Bacteria;p__Proteobacteria;c__Alphaproteobac...  k__Bacteria;p__Proteobacteria;c__Alphaproteoba...\n",
      "k__Bacteria;p__Proteobacteria;c__Alphaproteobac...  k__Bacteria;p__Proteobacteria;c__Alphaproteoba...\n",
      "k__Bacteria;p__Proteobacteria;c__Alphaproteobac...  k__Bacteria;p__Proteobacteria;c__Alphaproteoba...\n",
      "k__Bacteria;p__Proteobacteria;c__Betaproteobact...  k__Bacteria;p__Proteobacteria;c__Betaproteobac...\n",
      "k__Bacteria;p__Proteobacteria;c__Betaproteobact...  k__Bacteria;p__Proteobacteria;c__Betaproteobac...\n",
      "k__Bacteria;p__Proteobacteria;c__Betaproteobact...  k__Bacteria;p__Proteobacteria;c__Betaproteobac...\n",
      "k__Bacteria;p__Proteobacteria;c__Betaproteobact...  k__Bacteria;p__Proteobacteria;c__Betaproteobac...\n",
      "k__Bacteria;p__Proteobacteria;c__Betaproteobact...  k__Bacteria;p__Proteobacteria;c__Betaproteobac...\n",
      "k__Bacteria;p__Proteobacteria;c__Betaproteobact...  k__Bacteria;p__Proteobacteria;c__Betaproteobac...\n",
      "k__Bacteria;p__Proteobacteria;c__Betaproteobact...  k__Bacteria;p__Proteobacteria;c__Betaproteobac...\n",
      "k__Bacteria;p__Proteobacteria;c__Betaproteobact...  k__Bacteria;p__Proteobacteria;c__Betaproteobac...\n",
      "k__Bacteria;p__Proteobacteria;c__Betaproteobact...  k__Bacteria;p__Proteobacteria;c__Betaproteobac...\n",
      "k__Bacteria;p__Proteobacteria;c__Betaproteobact...  k__Bacteria;p__Proteobacteria;c__Betaproteobac...\n",
      "k__Bacteria;p__Proteobacteria;c__Betaproteobact...  k__Bacteria;p__Proteobacteria;c__Betaproteobac...\n",
      "k__Bacteria;p__Proteobacteria;c__Betaproteobact...  k__Bacteria;p__Proteobacteria;c__Betaproteobac...\n",
      "k__Bacteria;p__Proteobacteria;c__Betaproteobact...  k__Bacteria;p__Proteobacteria;c__Betaproteobac...\n",
      "k__Bacteria;p__Proteobacteria;c__Betaproteobact...  k__Bacteria;p__Proteobacteria;c__Betaproteobac...\n",
      "k__Bacteria;p__Proteobacteria;c__Betaproteobact...  k__Bacteria;p__Proteobacteria;c__Betaproteobac...\n",
      "k__Bacteria;p__Proteobacteria;c__Deltaproteobac...  k__Bacteria;p__Proteobacteria;c__Deltaproteoba...\n",
      "k__Bacteria;p__Proteobacteria;c__Deltaproteobac...  k__Bacteria;p__Proteobacteria;c__Deltaproteoba...\n",
      "k__Bacteria;p__Proteobacteria;c__Deltaproteobac...  k__Bacteria;p__Proteobacteria;c__Deltaproteoba...\n",
      "k__Bacteria;p__Proteobacteria;c__Deltaproteobac...  k__Bacteria;p__Proteobacteria;c__Deltaproteoba...\n",
      "k__Bacteria;p__Proteobacteria;c__Deltaproteobac...  k__Bacteria;p__Proteobacteria;c__Deltaproteoba...\n",
      "k__Bacteria;p__Proteobacteria;c__Deltaproteobac...  k__Bacteria;p__Proteobacteria;c__Deltaproteoba...\n",
      "k__Bacteria;p__Proteobacteria;c__Deltaproteobac...  k__Bacteria;p__Proteobacteria;c__Deltaproteoba...\n",
      "k__Bacteria;p__Proteobacteria;c__Deltaproteobac...  k__Bacteria;p__Proteobacteria;c__Deltaproteoba...\n",
      "k__Bacteria;p__Proteobacteria;c__Deltaproteobac...  k__Bacteria;p__Proteobacteria;c__Deltaproteoba...\n",
      "k__Bacteria;p__Proteobacteria;c__Deltaproteobac...  k__Bacteria;p__Proteobacteria;c__Deltaproteoba...\n",
      "k__Bacteria;p__Proteobacteria;c__Deltaproteobac...  k__Bacteria;p__Proteobacteria;c__Deltaproteoba...\n",
      "k__Bacteria;p__Proteobacteria;c__Deltaproteobac...  k__Bacteria;p__Proteobacteria;c__Deltaproteoba...\n",
      "k__Bacteria;p__Proteobacteria;c__Deltaproteobac...  k__Bacteria;p__Proteobacteria;c__Deltaproteoba...\n",
      "k__Bacteria;p__Proteobacteria;c__Deltaproteobac...  k__Bacteria;p__Proteobacteria;c__Deltaproteoba...\n",
      "k__Bacteria;p__Proteobacteria;c__Deltaproteobac...  k__Bacteria;p__Proteobacteria;c__Deltaproteoba...\n",
      "k__Bacteria;p__Proteobacteria;c__Deltaproteobac...  k__Bacteria;p__Proteobacteria;c__Deltaproteoba...\n",
      "k__Bacteria;p__Proteobacteria;c__Deltaproteobac...  k__Bacteria;p__Proteobacteria;c__Deltaproteoba...\n",
      "k__Bacteria;p__Proteobacteria;c__Deltaproteobac...  k__Bacteria;p__Proteobacteria;c__Deltaproteoba...\n",
      "k__Bacteria;p__Proteobacteria;c__Epsilonproteob...  k__Bacteria;p__Proteobacteria;c__Epsilonproteo...\n",
      "k__Bacteria;p__Proteobacteria;c__Gammaproteobac...  k__Bacteria;p__Proteobacteria;c__Gammaproteoba...\n",
      "k__Bacteria;p__Proteobacteria;c__Gammaproteobac...  k__Bacteria;p__Proteobacteria;c__Gammaproteoba...\n",
      "k__Bacteria;p__Proteobacteria;c__Gammaproteobac...  k__Bacteria;p__Proteobacteria;c__Gammaproteoba...\n",
      "k__Bacteria;p__Proteobacteria;c__Gammaproteobac...  k__Bacteria;p__Proteobacteria;c__Gammaproteoba...\n",
      "k__Bacteria;p__Proteobacteria;c__Gammaproteobac...  k__Bacteria;p__Proteobacteria;c__Gammaproteoba...\n",
      "k__Bacteria;p__Proteobacteria;c__Gammaproteobac...  k__Bacteria;p__Proteobacteria;c__Gammaproteoba...\n",
      "k__Bacteria;p__Proteobacteria;c__Gammaproteobac...  k__Bacteria;p__Proteobacteria;c__Gammaproteoba...\n",
      "k__Bacteria;p__Proteobacteria;c__Gammaproteobac...  k__Bacteria;p__Proteobacteria;c__Gammaproteoba...\n",
      "k__Bacteria;p__Proteobacteria;c__Gammaproteobac...  k__Bacteria;p__Proteobacteria;c__Gammaproteoba...\n",
      "k__Bacteria;p__Proteobacteria;c__Gammaproteobac...  k__Bacteria;p__Proteobacteria;c__Gammaproteoba...\n",
      "k__Bacteria;p__Proteobacteria;c__Gammaproteobac...  k__Bacteria;p__Proteobacteria;c__Gammaproteoba...\n",
      "k__Bacteria;p__Proteobacteria;c__Gammaproteobac...  k__Bacteria;p__Proteobacteria;c__Gammaproteoba...\n",
      "k__Bacteria;p__Proteobacteria;c__Gammaproteobac...  k__Bacteria;p__Proteobacteria;c__Gammaproteoba...\n",
      "k__Bacteria;p__Proteobacteria;c__Gammaproteobac...  k__Bacteria;p__Proteobacteria;c__Gammaproteoba...\n",
      "k__Bacteria;p__Proteobacteria;c__Gammaproteobac...  k__Bacteria;p__Proteobacteria;c__Gammaproteoba...\n",
      "k__Bacteria;p__Proteobacteria;c__Gammaproteobac...  k__Bacteria;p__Proteobacteria;c__Gammaproteoba...\n",
      "k__Bacteria;p__Proteobacteria;c__Gammaproteobac...  k__Bacteria;p__Proteobacteria;c__Gammaproteoba...\n",
      "k__Bacteria;p__Proteobacteria;c__Gammaproteobac...  k__Bacteria;p__Proteobacteria;c__Gammaproteoba...\n",
      "k__Bacteria;p__Proteobacteria;c__Gammaproteobac...  k__Bacteria;p__Proteobacteria;c__Gammaproteoba...\n",
      "k__Bacteria;p__Proteobacteria;c__Gammaproteobac...  k__Bacteria;p__Proteobacteria;c__Gammaproteoba...\n",
      "k__Bacteria;p__Proteobacteria;c__Gammaproteobac...  k__Bacteria;p__Proteobacteria;c__Gammaproteoba...\n",
      "k__Bacteria;p__Proteobacteria;c__Gammaproteobac...  k__Bacteria;p__Proteobacteria;c__Gammaproteoba...\n",
      "k__Bacteria;p__Proteobacteria;c__Gammaproteobac...  k__Bacteria;p__Proteobacteria;c__Gammaproteoba...\n",
      "k__Bacteria;p__Proteobacteria;c__Gammaproteobac...  k__Bacteria;p__Proteobacteria;c__Gammaproteoba...\n",
      "k__Bacteria;p__Proteobacteria;c__Gammaproteobac...  k__Bacteria;p__Proteobacteria;c__Gammaproteoba...\n",
      "k__Bacteria;p__Proteobacteria;c__Gammaproteobac...  k__Bacteria;p__Proteobacteria;c__Gammaproteoba...\n",
      "k__Bacteria;p__Proteobacteria;c__Gammaproteobac...  k__Bacteria;p__Proteobacteria;c__Gammaproteoba...\n",
      "k__Bacteria;p__Proteobacteria;c__Gammaproteobac...  k__Bacteria;p__Proteobacteria;c__Gammaproteoba...\n",
      "k__Bacteria;p__Proteobacteria;c__Gammaproteobac...  k__Bacteria;p__Proteobacteria;c__Gammaproteoba...\n",
      "k__Bacteria;p__Spirochaetes;c__Spirochaetes;o__...  k__Bacteria;p__Spirochaetes;c__Spirochaetes;o_...\n",
      "k__Bacteria;p__Spirochaetes;c__Spirochaetes;o__...  k__Bacteria;p__Spirochaetes;c__Spirochaetes;o_...\n",
      "k__Bacteria;p__Synergistetes;c__Synergistia;o__...  k__Bacteria;p__Synergistetes;c__Synergistia;o_...\n",
      "k__Bacteria;p__Synergistetes;c__Synergistia;o__...  k__Bacteria;p__Synergistetes;c__Synergistia;o_...\n",
      "k__Bacteria;p__TM6;c__SJA-4;o__;f__                               k__Bacteria;p__TM6;c__SJA-4;o__;f__\n",
      "k__Bacteria;p__TM7;c__;o__;f__                                         k__Bacteria;p__TM7;c__;o__;f__\n",
      "k__Bacteria;p__TM7;c__TM7-1;o__;f__                               k__Bacteria;p__TM7;c__TM7-1;o__;f__\n",
      "k__Bacteria;p__TM7;c__TM7-3;o__;f__                               k__Bacteria;p__TM7;c__TM7-3;o__;f__\n",
      "k__Bacteria;p__TM7;c__TM7-3;o__I025;f__                       k__Bacteria;p__TM7;c__TM7-3;o__I025;f__\n",
      "k__Bacteria;p__Tenericutes;c__Mollicutes;o__Ach...  k__Bacteria;p__Tenericutes;c__Mollicutes;o__Ac...\n",
      "k__Bacteria;p__Tenericutes;c__Mollicutes;o__Ana...  k__Bacteria;p__Tenericutes;c__Mollicutes;o__An...\n",
      "k__Bacteria;p__Tenericutes;c__Mollicutes;o__Ent...  k__Bacteria;p__Tenericutes;c__Mollicutes;o__En...\n",
      "k__Bacteria;p__Tenericutes;c__Mollicutes;o__RF3...  k__Bacteria;p__Tenericutes;c__Mollicutes;o__RF...\n",
      "k__Bacteria;p__Verrucomicrobia;c__Opitutae;o__;f__  k__Bacteria;p__Verrucomicrobia;c__Opitutae;o__...\n",
      "k__Bacteria;p__Verrucomicrobia;c__Opitutae;o__O...  k__Bacteria;p__Verrucomicrobia;c__Opitutae;o__...\n",
      "k__Bacteria;p__Verrucomicrobia;c__Opitutae;o__P...  k__Bacteria;p__Verrucomicrobia;c__Opitutae;o__...\n",
      "k__Bacteria;p__Verrucomicrobia;c__Opitutae;o__[...  k__Bacteria;p__Verrucomicrobia;c__Opitutae;o__...\n",
      "k__Bacteria;p__Verrucomicrobia;c__Verrucomicrob...  k__Bacteria;p__Verrucomicrobia;c__Verrucomicro...\n",
      "k__Bacteria;p__Verrucomicrobia;c__[Spartobacter...  k__Bacteria;p__Verrucomicrobia;c__[Spartobacte...\n",
      "k__Bacteria;p__WPS-2;c__;o__;f__                                     k__Bacteria;p__WPS-2;c__;o__;f__\n",
      "k__Bacteria;p__[Thermi];c__Deinococci;o__Deinoc...  k__Bacteria;p__[Thermi];c__Deinococci;o__Deino...\n",
      "k__Bacteria;p__[Thermi];c__Deinococci;o__Deinoc...  k__Bacteria;p__[Thermi];c__Deinococci;o__Deino...\n",
      "k__Bacteria;p__[Thermi];c__Deinococci;o__Therma...  k__Bacteria;p__[Thermi];c__Deinococci;o__Therm...\n"
     ]
    }
   ],
   "source": [
    "print(exp_L5.feature_metadata)"
   ]
  },
  {
   "cell_type": "markdown",
   "metadata": {},
   "source": [
    "## Running the L5 model"
   ]
  },
  {
   "cell_type": "code",
   "execution_count": 39,
   "metadata": {},
   "outputs": [],
   "source": [
    "# groupKfold = 6, will leave out one body for each model\n",
    "gkf = GroupKFold(6)\n",
    "\n",
    "X = exp_L5.data\n",
    "y = exp_L5.sample_metadata['ADD_0']\n",
    "y = (y.astype(float))\n",
    "\n",
    "groups = exp_L5.sample_metadata['host_subject_id']\n",
    "\n",
    "# used to test the param grid for parameter tuning\n",
    "# use the output of this estimator below for input into new estimator (not commented out)\n",
    "param_grid = {\"max_depth\": [4, 8, 16, None],\n",
    "              \"max_features\": ['sqrt', 'log2', 0.1],\n",
    "              \"min_samples_split\": [0.001, 0.01, 0.1],\n",
    "              \"min_weight_fraction_leaf\": [0.0001, 0.001, 0.01],\n",
    "              \"bootstrap\": [True, False]}\n",
    "\n",
    "#param_grid = {\"max_depth\": [8],\n",
    "#          \"max_features\": [0.1],\n",
    "#          \"min_samples_split\": [0.001],\n",
    "#          \"min_weight_fraction_leaf\": [0.0001],\n",
    "#          \"bootstrap\": [False]}\n",
    "\n",
    "rf = RandomForestRegressor(n_estimators=1000, random_state=999, criterion='mae')\n",
    "gs = GridSearchCV(rf, param_grid=param_grid, cv=gkf.split(X, y, groups), scoring='neg_mean_absolute_error', n_jobs=1)"
   ]
  },
  {
   "cell_type": "code",
   "execution_count": 40,
   "metadata": {},
   "outputs": [
    {
     "data": {
      "text/plain": [
       "GridSearchCV(cv=<generator object _BaseKFold.split at 0x11c35a950>,\n",
       "             error_score=nan,\n",
       "             estimator=RandomForestRegressor(bootstrap=True, ccp_alpha=0.0,\n",
       "                                             criterion='mae', max_depth=None,\n",
       "                                             max_features='auto',\n",
       "                                             max_leaf_nodes=None,\n",
       "                                             max_samples=None,\n",
       "                                             min_impurity_decrease=0.0,\n",
       "                                             min_impurity_split=None,\n",
       "                                             min_samples_leaf=1,\n",
       "                                             min_samples_split=2,\n",
       "                                             min_weight_fraction_leaf=0.0,\n",
       "                                             n_es...\n",
       "                                             oob_score=False, random_state=999,\n",
       "                                             verbose=0, warm_start=False),\n",
       "             iid='deprecated', n_jobs=1,\n",
       "             param_grid={'bootstrap': [True, False],\n",
       "                         'max_depth': [4, 8, 16, None],\n",
       "                         'max_features': ['sqrt', 'log2', 0.1],\n",
       "                         'min_samples_split': [0.001, 0.01, 0.1],\n",
       "                         'min_weight_fraction_leaf': [0.0001, 0.001, 0.01]},\n",
       "             pre_dispatch='2*n_jobs', refit=True, return_train_score=False,\n",
       "             scoring='neg_mean_absolute_error', verbose=0)"
      ]
     },
     "execution_count": 40,
     "metadata": {},
     "output_type": "execute_result"
    }
   ],
   "source": [
    "gs.fit(X, y)"
   ]
  },
  {
   "cell_type": "code",
   "execution_count": 41,
   "metadata": {},
   "outputs": [
    {
     "name": "stdout",
     "output_type": "stream",
     "text": [
      "{'bootstrap': True, 'max_depth': 8, 'max_features': 0.1, 'min_samples_split': 0.001, 'min_weight_fraction_leaf': 0.0001}\n"
     ]
    }
   ],
   "source": [
    "# this line is used when run with the first param grid to determine what the best parameters are for tuning\n",
    "print(gs.best_params_)"
   ]
  },
  {
   "cell_type": "code",
   "execution_count": 42,
   "metadata": {},
   "outputs": [
    {
     "name": "stdout",
     "output_type": "stream",
     "text": [
      "The best mean absolute error is 825.62\n"
     ]
    }
   ],
   "source": [
    "print('The best mean absolute error is', round(-gs.best_score_,2))"
   ]
  },
  {
   "cell_type": "code",
   "execution_count": 43,
   "metadata": {},
   "outputs": [
    {
     "data": {
      "text/plain": [
       "['models/bone_L5_no_metadata.pkl']"
      ]
     },
     "execution_count": 43,
     "metadata": {},
     "output_type": "execute_result"
    }
   ],
   "source": [
    "joblib.dump(gs.best_estimator_, 'models/bone_L5_no_metadata.pkl')"
   ]
  },
  {
   "cell_type": "code",
   "execution_count": 44,
   "metadata": {},
   "outputs": [
    {
     "data": {
      "text/plain": [
       "RandomForestRegressor(bootstrap=True, ccp_alpha=0.0, criterion='mae',\n",
       "                      max_depth=8, max_features=0.1, max_leaf_nodes=None,\n",
       "                      max_samples=None, min_impurity_decrease=0.0,\n",
       "                      min_impurity_split=None, min_samples_leaf=1,\n",
       "                      min_samples_split=0.001, min_weight_fraction_leaf=0.0001,\n",
       "                      n_estimators=1000, n_jobs=None, oob_score=False,\n",
       "                      random_state=999, verbose=0, warm_start=False)"
      ]
     },
     "execution_count": 44,
     "metadata": {},
     "output_type": "execute_result"
    }
   ],
   "source": [
    "bone_L5 = joblib.load('models/bone_L5_no_metadata.pkl')\n",
    "bone_L5"
   ]
  },
  {
   "cell_type": "markdown",
   "metadata": {},
   "source": [
    "## Determine important features of the L5 model"
   ]
  },
  {
   "cell_type": "code",
   "execution_count": 46,
   "metadata": {},
   "outputs": [
    {
     "name": "stdout",
     "output_type": "stream",
     "text": [
      "Feature:\t\t\t\tImportance:\n",
      "1. k__Bacteria;p__Proteobacteria;c__Alphaproteobacteria;o__Rhizobiales;f__Phyllobacteriaceae\t0.03718643766076944\n",
      "2. k__Bacteria;p__Bacteroidetes;c__Sphingobacteriia;o__Sphingobacteriales;f__Sphingobacteriaceae\t0.025144454188960896\n",
      "3. k__Bacteria;p__Proteobacteria;c__Alphaproteobacteria;o__Rhizobiales;f__Bradyrhizobiaceae\t0.024502459033168902\n",
      "4. k__Bacteria;p__Proteobacteria;c__Alphaproteobacteria;o__Rhodospirillales;f__Acetobacteraceae\t0.02266622298647285\n",
      "5. k__Bacteria;p__Proteobacteria;c__Alphaproteobacteria;o__Caulobacterales;f__Caulobacteraceae\t0.022392539797286223\n",
      "6. k__Bacteria;p__Proteobacteria;c__Alphaproteobacteria;o__Rhizobiales;f__Rhizobiaceae\t0.020892859383385826\n",
      "7. k__Bacteria;p__Actinobacteria;c__Actinobacteria;o__Actinomycetales;f__Promicromonosporaceae\t0.020589386829643154\n",
      "8. k__Bacteria;p__Proteobacteria;c__Alphaproteobacteria;o__Rhizobiales;f__Brucellaceae\t0.019999697221153002\n",
      "9. k__Bacteria;p__Proteobacteria;c__Betaproteobacteria;o__Burkholderiales;f__Alcaligenaceae\t0.019276450734886038\n",
      "10. k__Bacteria;p__Proteobacteria;c__Gammaproteobacteria;o__Xanthomonadales;f__Sinobacteraceae\t0.018871008402738882\n",
      "11. k__Bacteria;p__Proteobacteria;c__Alphaproteobacteria;o__Rhizobiales;f__\t0.018020798983634647\n",
      "12. k__Bacteria;p__Proteobacteria;c__Betaproteobacteria;o__Burkholderiales;f__Comamonadaceae\t0.017624125371151544\n",
      "13. k__Bacteria;p__Proteobacteria;c__Alphaproteobacteria;o__Sphingomonadales;f__Sphingomonadaceae\t0.017154867530106675\n",
      "14. k__Bacteria;p__Bacteroidetes;c__[Saprospirae];o__[Saprospirales];f__Chitinophagaceae\t0.017130434416337596\n",
      "15. k__Bacteria;p__Proteobacteria;c__Alphaproteobacteria;o__Rhizobiales;f__Hyphomicrobiaceae\t0.015856702190029243\n",
      "16. k__Bacteria;p__Proteobacteria;c__Gammaproteobacteria;o__Xanthomonadales;f__Xanthomonadaceae\t0.015464734689279426\n",
      "17. k__Bacteria;p__Actinobacteria;c__Actinobacteria;o__Actinomycetales;f__Corynebacteriaceae\t0.014869503716573534\n",
      "18. k__Bacteria;p__Bacteroidetes;c__Bacteroidia;o__Bacteroidales;f__Bacteroidaceae\t0.014478594878611447\n",
      "19. k__Bacteria;p__Firmicutes;c__Bacilli;o__Bacillales;f__Planococcaceae\t0.014336753879475842\n",
      "20. k__Bacteria;p__Firmicutes;c__Bacilli;o__Bacillales;f__Bacillaceae\t0.014286345201124463\n",
      "21. k__Bacteria;p__Actinobacteria;c__Actinobacteria;o__Actinomycetales;f__Dietziaceae\t0.013509885228026366\n",
      "22. k__Bacteria;p__Firmicutes;c__Clostridia;o__Clostridiales;f__Peptostreptococcaceae\t0.012610919898686955\n",
      "23. k__Bacteria;p__Actinobacteria;c__Thermoleophilia;o__Solirubrobacterales;f__\t0.012377223908856747\n",
      "24. k__Bacteria;p__Firmicutes;c__Clostridia;o__Clostridiales;f__[Tissierellaceae]\t0.011995627559833655\n",
      "25. k__Bacteria;p__Actinobacteria;c__Actinobacteria;o__Actinomycetales;f__Microbacteriaceae\t0.01177833888350509\n"
     ]
    }
   ],
   "source": [
    "importances = bone_L5.feature_importances_\n",
    "std = np.std([tree.feature_importances_ for tree in bone_L5.estimators_],\n",
    "             axis=0)\n",
    "indices = np.argsort(importances)[::-1]\n",
    "\n",
    "feature_metadata = exp_L5.feature_metadata\n",
    "np.savetxt(\"importances/bone_L5_no_metadata_features.csv\", feature_metadata, delimiter=\",\", fmt='%s')\n",
    "\n",
    "\n",
    "#print the important ids in order\n",
    "general_importances = []\n",
    "count = 0\n",
    "print(\"Feature:\\t\\t\\t\\tImportance:\")\n",
    "for i in indices:\n",
    "    general_importances += (exp_L5.feature_metadata.index.values[i], importances[indices[count]])\n",
    "    if count < 25:\n",
    "        print(str(count+1)+\". \"+str(exp_L5.feature_metadata.index.values[i])+\"\\t\"+str(importances[indices[count]]))\n",
    "    count += 1\n",
    "    \n",
    "general_importances_df = pd.DataFrame(np.array(general_importances).reshape(516,1))\n",
    "\n",
    "np.savetxt(\"importances/bone_L5_no_features_importances.csv\", general_importances_df, delimiter=\",\", fmt='%s')"
   ]
  },
  {
   "cell_type": "markdown",
   "metadata": {},
   "source": [
    "## Import rarefied table collapsed at L6"
   ]
  },
  {
   "cell_type": "code",
   "execution_count": 47,
   "metadata": {},
   "outputs": [
    {
     "name": "stdout",
     "output_type": "stream",
     "text": [
      "2020-06-26 14:20:24 WARNING These have metadata but do not have data - dropped (51): {'11553.CSU.extraction.blank1', '11553.BLANKrib.11E', '11553.BLANKrib.10D', '11553.CSU.extraction.blank10', '11553.BLANKrib.10G', '11553.CSU.extraction.blank8', '11553.BLANKrib.10B', '11553.CSU.extraction.blank6', '11553.BLANKrib.9A', '11553.BLANKrib.11G', '11553.CSU.extraction.blank5', '11553.BLANKrib.12F', '11553.BLANKrib.12H', '11553.BLANKrib.9B', '11553.CSU.extraction.blank7', '11553.SHSU.STAFS2016.011.L09', '11553.BLANKrib.11H', '11553.BLANKrib.10F', '11553.CSU.extraction.blank15', '11553.BLANKrib.5B', '11553.CSU.extraction.blank3', '11553.BLANKrib.9D', '11553.BLANKrib.9H', '11553.BLANKrib.9C', '11553.BLANKrib.12A', '11553.STAFS.2016.064.L12', '11553.BLANKrib.11D', '11553.CSU.extraction.blank13', '11553.CSU.extraction.blank14', '11553.CSU.extraction.blank12', '11553.BLANKrib.10A', '11553.CSU.extraction.blank11', '11553.BLANKrib.11C', '11553.BLANKrib.12G', '11553.BLANKrib.12E', '11553.CSU.extraction.blank9', '11553.BLANKrib.10H', '11553.SHSU.STAFS2016.007.R11', '11553.CSU.extraction.blank4', '11553.BLANKrib.10E', '11553.BLANKrib.10C', '11553.BLANKrib.9G', '11553.BLANKrib.9E', '11553.BLANKrib.12B', '11553.BLANKrib.11B', '11553.BLANKrib.12D', '11553.BLANKrib.12C', '11553.BLANKrib.11A', '11553.BLANKrib.9F', '11553.CSU.extraction.blank2', '11553.BLANKrib.11F'}\n"
     ]
    }
   ],
   "source": [
    "exp_L6 = ca.read_amplicon('/Users/heatherdeel/Dropbox/PMI_3_analyses/bone/01_16S/01_qiime2_analysis/feature_tables/collapsed_tables/frag_ins_noChloMito_17098_L6_table.biom', '../02_metadata/maps/map3.txt', min_reads=0, normalize = None)\n"
   ]
  },
  {
   "cell_type": "code",
   "execution_count": 48,
   "metadata": {},
   "outputs": [
    {
     "name": "stdout",
     "output_type": "stream",
     "text": [
      "                                                                                          _feature_id\n",
      "k__Archaea;p__Crenarchaeota;c__Thaumarchaeota;o...  k__Archaea;p__Crenarchaeota;c__Thaumarchaeota;...\n",
      "k__Archaea;p__Euryarchaeota;c__Methanobacteria;...  k__Archaea;p__Euryarchaeota;c__Methanobacteria...\n",
      "k__Bacteria;__;__;__;__;__                                                 k__Bacteria;__;__;__;__;__\n",
      "k__Bacteria;p__Acidobacteria;c__DA052;o__Ellin6...  k__Bacteria;p__Acidobacteria;c__DA052;o__Ellin...\n",
      "k__Bacteria;p__Acidobacteria;c__Solibacteres;o_...  k__Bacteria;p__Acidobacteria;c__Solibacteres;o...\n",
      "k__Bacteria;p__Acidobacteria;c__[Chloracidobact...  k__Bacteria;p__Acidobacteria;c__[Chloracidobac...\n",
      "k__Bacteria;p__Acidobacteria;c__[Chloracidobact...  k__Bacteria;p__Acidobacteria;c__[Chloracidobac...\n",
      "k__Bacteria;p__Actinobacteria;c__Acidimicrobiia...  k__Bacteria;p__Actinobacteria;c__Acidimicrobii...\n",
      "k__Bacteria;p__Actinobacteria;c__Acidimicrobiia...  k__Bacteria;p__Actinobacteria;c__Acidimicrobii...\n",
      "k__Bacteria;p__Actinobacteria;c__Acidimicrobiia...  k__Bacteria;p__Actinobacteria;c__Acidimicrobii...\n",
      "k__Bacteria;p__Actinobacteria;c__Acidimicrobiia...  k__Bacteria;p__Actinobacteria;c__Acidimicrobii...\n",
      "k__Bacteria;p__Actinobacteria;c__Acidimicrobiia...  k__Bacteria;p__Actinobacteria;c__Acidimicrobii...\n",
      "k__Bacteria;p__Actinobacteria;c__Actinobacteria...  k__Bacteria;p__Actinobacteria;c__Actinobacteri...\n",
      "k__Bacteria;p__Actinobacteria;c__Actinobacteria...  k__Bacteria;p__Actinobacteria;c__Actinobacteri...\n",
      "k__Bacteria;p__Actinobacteria;c__Actinobacteria...  k__Bacteria;p__Actinobacteria;c__Actinobacteri...\n",
      "k__Bacteria;p__Actinobacteria;c__Actinobacteria...  k__Bacteria;p__Actinobacteria;c__Actinobacteri...\n",
      "k__Bacteria;p__Actinobacteria;c__Actinobacteria...  k__Bacteria;p__Actinobacteria;c__Actinobacteri...\n",
      "k__Bacteria;p__Actinobacteria;c__Actinobacteria...  k__Bacteria;p__Actinobacteria;c__Actinobacteri...\n",
      "k__Bacteria;p__Actinobacteria;c__Actinobacteria...  k__Bacteria;p__Actinobacteria;c__Actinobacteri...\n",
      "k__Bacteria;p__Actinobacteria;c__Actinobacteria...  k__Bacteria;p__Actinobacteria;c__Actinobacteri...\n",
      "k__Bacteria;p__Actinobacteria;c__Actinobacteria...  k__Bacteria;p__Actinobacteria;c__Actinobacteri...\n",
      "k__Bacteria;p__Actinobacteria;c__Actinobacteria...  k__Bacteria;p__Actinobacteria;c__Actinobacteri...\n",
      "k__Bacteria;p__Actinobacteria;c__Actinobacteria...  k__Bacteria;p__Actinobacteria;c__Actinobacteri...\n",
      "k__Bacteria;p__Actinobacteria;c__Actinobacteria...  k__Bacteria;p__Actinobacteria;c__Actinobacteri...\n",
      "k__Bacteria;p__Actinobacteria;c__Actinobacteria...  k__Bacteria;p__Actinobacteria;c__Actinobacteri...\n",
      "k__Bacteria;p__Actinobacteria;c__Actinobacteria...  k__Bacteria;p__Actinobacteria;c__Actinobacteri...\n",
      "k__Bacteria;p__Actinobacteria;c__Actinobacteria...  k__Bacteria;p__Actinobacteria;c__Actinobacteri...\n",
      "k__Bacteria;p__Actinobacteria;c__Actinobacteria...  k__Bacteria;p__Actinobacteria;c__Actinobacteri...\n",
      "k__Bacteria;p__Actinobacteria;c__Actinobacteria...  k__Bacteria;p__Actinobacteria;c__Actinobacteri...\n",
      "k__Bacteria;p__Actinobacteria;c__Actinobacteria...  k__Bacteria;p__Actinobacteria;c__Actinobacteri...\n",
      "k__Bacteria;p__Actinobacteria;c__Actinobacteria...  k__Bacteria;p__Actinobacteria;c__Actinobacteri...\n",
      "k__Bacteria;p__Actinobacteria;c__Actinobacteria...  k__Bacteria;p__Actinobacteria;c__Actinobacteri...\n",
      "k__Bacteria;p__Actinobacteria;c__Actinobacteria...  k__Bacteria;p__Actinobacteria;c__Actinobacteri...\n",
      "k__Bacteria;p__Actinobacteria;c__Actinobacteria...  k__Bacteria;p__Actinobacteria;c__Actinobacteri...\n",
      "k__Bacteria;p__Actinobacteria;c__Actinobacteria...  k__Bacteria;p__Actinobacteria;c__Actinobacteri...\n",
      "k__Bacteria;p__Actinobacteria;c__Actinobacteria...  k__Bacteria;p__Actinobacteria;c__Actinobacteri...\n",
      "k__Bacteria;p__Actinobacteria;c__Actinobacteria...  k__Bacteria;p__Actinobacteria;c__Actinobacteri...\n",
      "k__Bacteria;p__Actinobacteria;c__Actinobacteria...  k__Bacteria;p__Actinobacteria;c__Actinobacteri...\n",
      "k__Bacteria;p__Actinobacteria;c__Actinobacteria...  k__Bacteria;p__Actinobacteria;c__Actinobacteri...\n",
      "k__Bacteria;p__Actinobacteria;c__Actinobacteria...  k__Bacteria;p__Actinobacteria;c__Actinobacteri...\n",
      "k__Bacteria;p__Actinobacteria;c__Actinobacteria...  k__Bacteria;p__Actinobacteria;c__Actinobacteri...\n",
      "k__Bacteria;p__Actinobacteria;c__Actinobacteria...  k__Bacteria;p__Actinobacteria;c__Actinobacteri...\n",
      "k__Bacteria;p__Actinobacteria;c__Actinobacteria...  k__Bacteria;p__Actinobacteria;c__Actinobacteri...\n",
      "k__Bacteria;p__Actinobacteria;c__Actinobacteria...  k__Bacteria;p__Actinobacteria;c__Actinobacteri...\n",
      "k__Bacteria;p__Actinobacteria;c__Actinobacteria...  k__Bacteria;p__Actinobacteria;c__Actinobacteri...\n",
      "k__Bacteria;p__Actinobacteria;c__Actinobacteria...  k__Bacteria;p__Actinobacteria;c__Actinobacteri...\n",
      "k__Bacteria;p__Actinobacteria;c__Actinobacteria...  k__Bacteria;p__Actinobacteria;c__Actinobacteri...\n",
      "k__Bacteria;p__Actinobacteria;c__Actinobacteria...  k__Bacteria;p__Actinobacteria;c__Actinobacteri...\n",
      "k__Bacteria;p__Actinobacteria;c__Actinobacteria...  k__Bacteria;p__Actinobacteria;c__Actinobacteri...\n",
      "k__Bacteria;p__Actinobacteria;c__Actinobacteria...  k__Bacteria;p__Actinobacteria;c__Actinobacteri...\n",
      "k__Bacteria;p__Actinobacteria;c__Actinobacteria...  k__Bacteria;p__Actinobacteria;c__Actinobacteri...\n",
      "k__Bacteria;p__Actinobacteria;c__Actinobacteria...  k__Bacteria;p__Actinobacteria;c__Actinobacteri...\n",
      "k__Bacteria;p__Actinobacteria;c__Actinobacteria...  k__Bacteria;p__Actinobacteria;c__Actinobacteri...\n",
      "k__Bacteria;p__Actinobacteria;c__Actinobacteria...  k__Bacteria;p__Actinobacteria;c__Actinobacteri...\n",
      "k__Bacteria;p__Actinobacteria;c__Actinobacteria...  k__Bacteria;p__Actinobacteria;c__Actinobacteri...\n",
      "k__Bacteria;p__Actinobacteria;c__Actinobacteria...  k__Bacteria;p__Actinobacteria;c__Actinobacteri...\n",
      "k__Bacteria;p__Actinobacteria;c__Actinobacteria...  k__Bacteria;p__Actinobacteria;c__Actinobacteri...\n",
      "k__Bacteria;p__Actinobacteria;c__Actinobacteria...  k__Bacteria;p__Actinobacteria;c__Actinobacteri...\n",
      "k__Bacteria;p__Actinobacteria;c__Actinobacteria...  k__Bacteria;p__Actinobacteria;c__Actinobacteri...\n",
      "k__Bacteria;p__Actinobacteria;c__Actinobacteria...  k__Bacteria;p__Actinobacteria;c__Actinobacteri...\n",
      "k__Bacteria;p__Actinobacteria;c__Actinobacteria...  k__Bacteria;p__Actinobacteria;c__Actinobacteri...\n",
      "k__Bacteria;p__Actinobacteria;c__Actinobacteria...  k__Bacteria;p__Actinobacteria;c__Actinobacteri...\n",
      "k__Bacteria;p__Actinobacteria;c__Actinobacteria...  k__Bacteria;p__Actinobacteria;c__Actinobacteri...\n",
      "k__Bacteria;p__Actinobacteria;c__Actinobacteria...  k__Bacteria;p__Actinobacteria;c__Actinobacteri...\n",
      "k__Bacteria;p__Actinobacteria;c__Actinobacteria...  k__Bacteria;p__Actinobacteria;c__Actinobacteri...\n",
      "k__Bacteria;p__Actinobacteria;c__Actinobacteria...  k__Bacteria;p__Actinobacteria;c__Actinobacteri...\n",
      "k__Bacteria;p__Actinobacteria;c__Actinobacteria...  k__Bacteria;p__Actinobacteria;c__Actinobacteri...\n",
      "k__Bacteria;p__Actinobacteria;c__Actinobacteria...  k__Bacteria;p__Actinobacteria;c__Actinobacteri...\n",
      "k__Bacteria;p__Actinobacteria;c__Actinobacteria...  k__Bacteria;p__Actinobacteria;c__Actinobacteri...\n",
      "k__Bacteria;p__Actinobacteria;c__Actinobacteria...  k__Bacteria;p__Actinobacteria;c__Actinobacteri...\n",
      "k__Bacteria;p__Actinobacteria;c__Actinobacteria...  k__Bacteria;p__Actinobacteria;c__Actinobacteri...\n",
      "k__Bacteria;p__Actinobacteria;c__Actinobacteria...  k__Bacteria;p__Actinobacteria;c__Actinobacteri...\n",
      "k__Bacteria;p__Actinobacteria;c__Actinobacteria...  k__Bacteria;p__Actinobacteria;c__Actinobacteri...\n",
      "k__Bacteria;p__Actinobacteria;c__Actinobacteria...  k__Bacteria;p__Actinobacteria;c__Actinobacteri...\n",
      "k__Bacteria;p__Actinobacteria;c__Actinobacteria...  k__Bacteria;p__Actinobacteria;c__Actinobacteri...\n",
      "k__Bacteria;p__Actinobacteria;c__Actinobacteria...  k__Bacteria;p__Actinobacteria;c__Actinobacteri...\n",
      "k__Bacteria;p__Actinobacteria;c__Actinobacteria...  k__Bacteria;p__Actinobacteria;c__Actinobacteri...\n",
      "k__Bacteria;p__Actinobacteria;c__Actinobacteria...  k__Bacteria;p__Actinobacteria;c__Actinobacteri...\n",
      "k__Bacteria;p__Actinobacteria;c__Actinobacteria...  k__Bacteria;p__Actinobacteria;c__Actinobacteri...\n",
      "k__Bacteria;p__Actinobacteria;c__Actinobacteria...  k__Bacteria;p__Actinobacteria;c__Actinobacteri...\n",
      "k__Bacteria;p__Actinobacteria;c__Actinobacteria...  k__Bacteria;p__Actinobacteria;c__Actinobacteri...\n",
      "k__Bacteria;p__Actinobacteria;c__Actinobacteria...  k__Bacteria;p__Actinobacteria;c__Actinobacteri...\n",
      "k__Bacteria;p__Actinobacteria;c__Actinobacteria...  k__Bacteria;p__Actinobacteria;c__Actinobacteri...\n",
      "k__Bacteria;p__Actinobacteria;c__Actinobacteria...  k__Bacteria;p__Actinobacteria;c__Actinobacteri...\n",
      "k__Bacteria;p__Actinobacteria;c__Actinobacteria...  k__Bacteria;p__Actinobacteria;c__Actinobacteri...\n",
      "k__Bacteria;p__Actinobacteria;c__Actinobacteria...  k__Bacteria;p__Actinobacteria;c__Actinobacteri...\n",
      "k__Bacteria;p__Actinobacteria;c__Coriobacteriia...  k__Bacteria;p__Actinobacteria;c__Coriobacterii...\n",
      "k__Bacteria;p__Actinobacteria;c__Coriobacteriia...  k__Bacteria;p__Actinobacteria;c__Coriobacterii...\n",
      "k__Bacteria;p__Actinobacteria;c__Coriobacteriia...  k__Bacteria;p__Actinobacteria;c__Coriobacterii...\n",
      "k__Bacteria;p__Actinobacteria;c__Rubrobacteria;...  k__Bacteria;p__Actinobacteria;c__Rubrobacteria...\n",
      "k__Bacteria;p__Actinobacteria;c__Thermoleophili...  k__Bacteria;p__Actinobacteria;c__Thermoleophil...\n",
      "k__Bacteria;p__Actinobacteria;c__Thermoleophili...  k__Bacteria;p__Actinobacteria;c__Thermoleophil...\n",
      "k__Bacteria;p__Actinobacteria;c__Thermoleophili...  k__Bacteria;p__Actinobacteria;c__Thermoleophil...\n",
      "k__Bacteria;p__Actinobacteria;c__Thermoleophili...  k__Bacteria;p__Actinobacteria;c__Thermoleophil...\n",
      "k__Bacteria;p__Actinobacteria;c__Thermoleophili...  k__Bacteria;p__Actinobacteria;c__Thermoleophil...\n",
      "k__Bacteria;p__Actinobacteria;c__Thermoleophili...  k__Bacteria;p__Actinobacteria;c__Thermoleophil...\n",
      "k__Bacteria;p__Actinobacteria;c__Thermoleophili...  k__Bacteria;p__Actinobacteria;c__Thermoleophil...\n",
      "k__Bacteria;p__Armatimonadetes;c__Armatimonadia...  k__Bacteria;p__Armatimonadetes;c__Armatimonadi...\n",
      "k__Bacteria;p__Armatimonadetes;c__SHA-37;o__;f_...  k__Bacteria;p__Armatimonadetes;c__SHA-37;o__;f...\n",
      "k__Bacteria;p__Armatimonadetes;c__SJA-176;o__GA...  k__Bacteria;p__Armatimonadetes;c__SJA-176;o__G...\n",
      "k__Bacteria;p__Armatimonadetes;c__[Fimbriimonad...  k__Bacteria;p__Armatimonadetes;c__[Fimbriimona...\n",
      "k__Bacteria;p__Armatimonadetes;c__[Fimbriimonad...  k__Bacteria;p__Armatimonadetes;c__[Fimbriimona...\n",
      "k__Bacteria;p__BRC1;c__PRR-11;o__;f__;g__                   k__Bacteria;p__BRC1;c__PRR-11;o__;f__;g__\n",
      "k__Bacteria;p__Bacteroidetes;c__Bacteroidia;o__...  k__Bacteria;p__Bacteroidetes;c__Bacteroidia;o_...\n",
      "k__Bacteria;p__Bacteroidetes;c__Bacteroidia;o__...  k__Bacteria;p__Bacteroidetes;c__Bacteroidia;o_...\n",
      "k__Bacteria;p__Bacteroidetes;c__Bacteroidia;o__...  k__Bacteria;p__Bacteroidetes;c__Bacteroidia;o_...\n",
      "k__Bacteria;p__Bacteroidetes;c__Bacteroidia;o__...  k__Bacteria;p__Bacteroidetes;c__Bacteroidia;o_...\n",
      "k__Bacteria;p__Bacteroidetes;c__Bacteroidia;o__...  k__Bacteria;p__Bacteroidetes;c__Bacteroidia;o_...\n",
      "k__Bacteria;p__Bacteroidetes;c__Bacteroidia;o__...  k__Bacteria;p__Bacteroidetes;c__Bacteroidia;o_...\n",
      "k__Bacteria;p__Bacteroidetes;c__Bacteroidia;o__...  k__Bacteria;p__Bacteroidetes;c__Bacteroidia;o_...\n",
      "k__Bacteria;p__Bacteroidetes;c__Bacteroidia;o__...  k__Bacteria;p__Bacteroidetes;c__Bacteroidia;o_...\n",
      "k__Bacteria;p__Bacteroidetes;c__Bacteroidia;o__...  k__Bacteria;p__Bacteroidetes;c__Bacteroidia;o_...\n",
      "k__Bacteria;p__Bacteroidetes;c__Bacteroidia;o__...  k__Bacteria;p__Bacteroidetes;c__Bacteroidia;o_...\n",
      "k__Bacteria;p__Bacteroidetes;c__Bacteroidia;o__...  k__Bacteria;p__Bacteroidetes;c__Bacteroidia;o_...\n",
      "k__Bacteria;p__Bacteroidetes;c__Bacteroidia;o__...  k__Bacteria;p__Bacteroidetes;c__Bacteroidia;o_...\n",
      "k__Bacteria;p__Bacteroidetes;c__Bacteroidia;o__...  k__Bacteria;p__Bacteroidetes;c__Bacteroidia;o_...\n",
      "k__Bacteria;p__Bacteroidetes;c__Bacteroidia;o__...  k__Bacteria;p__Bacteroidetes;c__Bacteroidia;o_...\n",
      "k__Bacteria;p__Bacteroidetes;c__Bacteroidia;o__...  k__Bacteria;p__Bacteroidetes;c__Bacteroidia;o_...\n",
      "k__Bacteria;p__Bacteroidetes;c__Cytophagia;o__C...  k__Bacteria;p__Bacteroidetes;c__Cytophagia;o__...\n",
      "k__Bacteria;p__Bacteroidetes;c__Cytophagia;o__C...  k__Bacteria;p__Bacteroidetes;c__Cytophagia;o__...\n",
      "k__Bacteria;p__Bacteroidetes;c__Cytophagia;o__C...  k__Bacteria;p__Bacteroidetes;c__Cytophagia;o__...\n",
      "k__Bacteria;p__Bacteroidetes;c__Cytophagia;o__C...  k__Bacteria;p__Bacteroidetes;c__Cytophagia;o__...\n",
      "k__Bacteria;p__Bacteroidetes;c__Cytophagia;o__C...  k__Bacteria;p__Bacteroidetes;c__Cytophagia;o__...\n",
      "k__Bacteria;p__Bacteroidetes;c__Cytophagia;o__C...  k__Bacteria;p__Bacteroidetes;c__Cytophagia;o__...\n",
      "k__Bacteria;p__Bacteroidetes;c__Cytophagia;o__C...  k__Bacteria;p__Bacteroidetes;c__Cytophagia;o__...\n",
      "k__Bacteria;p__Bacteroidetes;c__Cytophagia;o__C...  k__Bacteria;p__Bacteroidetes;c__Cytophagia;o__...\n",
      "k__Bacteria;p__Bacteroidetes;c__Cytophagia;o__C...  k__Bacteria;p__Bacteroidetes;c__Cytophagia;o__...\n",
      "k__Bacteria;p__Bacteroidetes;c__Cytophagia;o__C...  k__Bacteria;p__Bacteroidetes;c__Cytophagia;o__...\n",
      "k__Bacteria;p__Bacteroidetes;c__Flavobacteriia;...  k__Bacteria;p__Bacteroidetes;c__Flavobacteriia...\n",
      "k__Bacteria;p__Bacteroidetes;c__Flavobacteriia;...  k__Bacteria;p__Bacteroidetes;c__Flavobacteriia...\n",
      "k__Bacteria;p__Bacteroidetes;c__Flavobacteriia;...  k__Bacteria;p__Bacteroidetes;c__Flavobacteriia...\n",
      "k__Bacteria;p__Bacteroidetes;c__Flavobacteriia;...  k__Bacteria;p__Bacteroidetes;c__Flavobacteriia...\n",
      "k__Bacteria;p__Bacteroidetes;c__Flavobacteriia;...  k__Bacteria;p__Bacteroidetes;c__Flavobacteriia...\n",
      "k__Bacteria;p__Bacteroidetes;c__Flavobacteriia;...  k__Bacteria;p__Bacteroidetes;c__Flavobacteriia...\n",
      "k__Bacteria;p__Bacteroidetes;c__Flavobacteriia;...  k__Bacteria;p__Bacteroidetes;c__Flavobacteriia...\n",
      "k__Bacteria;p__Bacteroidetes;c__Flavobacteriia;...  k__Bacteria;p__Bacteroidetes;c__Flavobacteriia...\n",
      "k__Bacteria;p__Bacteroidetes;c__Flavobacteriia;...  k__Bacteria;p__Bacteroidetes;c__Flavobacteriia...\n",
      "k__Bacteria;p__Bacteroidetes;c__Flavobacteriia;...  k__Bacteria;p__Bacteroidetes;c__Flavobacteriia...\n",
      "k__Bacteria;p__Bacteroidetes;c__Flavobacteriia;...  k__Bacteria;p__Bacteroidetes;c__Flavobacteriia...\n",
      "k__Bacteria;p__Bacteroidetes;c__Flavobacteriia;...  k__Bacteria;p__Bacteroidetes;c__Flavobacteriia...\n",
      "k__Bacteria;p__Bacteroidetes;c__Flavobacteriia;...  k__Bacteria;p__Bacteroidetes;c__Flavobacteriia...\n",
      "k__Bacteria;p__Bacteroidetes;c__Flavobacteriia;...  k__Bacteria;p__Bacteroidetes;c__Flavobacteriia...\n",
      "k__Bacteria;p__Bacteroidetes;c__Sphingobacterii...  k__Bacteria;p__Bacteroidetes;c__Sphingobacteri...\n",
      "k__Bacteria;p__Bacteroidetes;c__Sphingobacterii...  k__Bacteria;p__Bacteroidetes;c__Sphingobacteri...\n",
      "k__Bacteria;p__Bacteroidetes;c__Sphingobacterii...  k__Bacteria;p__Bacteroidetes;c__Sphingobacteri...\n",
      "k__Bacteria;p__Bacteroidetes;c__Sphingobacterii...  k__Bacteria;p__Bacteroidetes;c__Sphingobacteri...\n",
      "k__Bacteria;p__Bacteroidetes;c__Sphingobacterii...  k__Bacteria;p__Bacteroidetes;c__Sphingobacteri...\n",
      "k__Bacteria;p__Bacteroidetes;c__[Saprospirae];o...  k__Bacteria;p__Bacteroidetes;c__[Saprospirae];...\n",
      "k__Bacteria;p__Bacteroidetes;c__[Saprospirae];o...  k__Bacteria;p__Bacteroidetes;c__[Saprospirae];...\n",
      "k__Bacteria;p__Bacteroidetes;c__[Saprospirae];o...  k__Bacteria;p__Bacteroidetes;c__[Saprospirae];...\n",
      "k__Bacteria;p__Bacteroidetes;c__[Saprospirae];o...  k__Bacteria;p__Bacteroidetes;c__[Saprospirae];...\n",
      "k__Bacteria;p__Bacteroidetes;c__[Saprospirae];o...  k__Bacteria;p__Bacteroidetes;c__[Saprospirae];...\n",
      "k__Bacteria;p__Bacteroidetes;c__[Saprospirae];o...  k__Bacteria;p__Bacteroidetes;c__[Saprospirae];...\n",
      "k__Bacteria;p__Bacteroidetes;c__[Saprospirae];o...  k__Bacteria;p__Bacteroidetes;c__[Saprospirae];...\n",
      "k__Bacteria;p__Bacteroidetes;c__[Saprospirae];o...  k__Bacteria;p__Bacteroidetes;c__[Saprospirae];...\n",
      "k__Bacteria;p__Bacteroidetes;c__[Saprospirae];o...  k__Bacteria;p__Bacteroidetes;c__[Saprospirae];...\n",
      "k__Bacteria;p__Chlorobi;c__OPB56;o__;f__;g__             k__Bacteria;p__Chlorobi;c__OPB56;o__;f__;g__\n",
      "k__Bacteria;p__Chloroflexi;c__Chloroflexi;o__AK...  k__Bacteria;p__Chloroflexi;c__Chloroflexi;o__A...\n",
      "k__Bacteria;p__Chloroflexi;c__Ellin6529;o__;f__...  k__Bacteria;p__Chloroflexi;c__Ellin6529;o__;f_...\n",
      "k__Bacteria;p__Chloroflexi;c__Thermomicrobia;o_...  k__Bacteria;p__Chloroflexi;c__Thermomicrobia;o...\n",
      "k__Bacteria;p__Chloroflexi;c__Thermomicrobia;o_...  k__Bacteria;p__Chloroflexi;c__Thermomicrobia;o...\n",
      "k__Bacteria;p__Cyanobacteria;c__4C0d-2;o__SM1D1...  k__Bacteria;p__Cyanobacteria;c__4C0d-2;o__SM1D...\n",
      "k__Bacteria;p__Cyanobacteria;c__4C0d-2;o__YS2;f...  k__Bacteria;p__Cyanobacteria;c__4C0d-2;o__YS2;...\n",
      "k__Bacteria;p__Cyanobacteria;c__ML635J-21;o__;f...  k__Bacteria;p__Cyanobacteria;c__ML635J-21;o__;...\n",
      "k__Bacteria;p__Cyanobacteria;c__Oscillatoriophy...  k__Bacteria;p__Cyanobacteria;c__Oscillatorioph...\n",
      "k__Bacteria;p__Deferribacteres;c__Deferribacter...  k__Bacteria;p__Deferribacteres;c__Deferribacte...\n",
      "k__Bacteria;p__Deferribacteres;c__Deferribacter...  k__Bacteria;p__Deferribacteres;c__Deferribacte...\n",
      "k__Bacteria;p__FBP;c__;o__;f__;g__                                 k__Bacteria;p__FBP;c__;o__;f__;g__\n",
      "k__Bacteria;p__Firmicutes;c__AHT28;o__;f__;g__         k__Bacteria;p__Firmicutes;c__AHT28;o__;f__;g__\n",
      "k__Bacteria;p__Firmicutes;c__Bacilli;o__Bacilla...  k__Bacteria;p__Firmicutes;c__Bacilli;o__Bacill...\n",
      "k__Bacteria;p__Firmicutes;c__Bacilli;o__Bacilla...  k__Bacteria;p__Firmicutes;c__Bacilli;o__Bacill...\n",
      "k__Bacteria;p__Firmicutes;c__Bacilli;o__Bacilla...  k__Bacteria;p__Firmicutes;c__Bacilli;o__Bacill...\n",
      "k__Bacteria;p__Firmicutes;c__Bacilli;o__Bacilla...  k__Bacteria;p__Firmicutes;c__Bacilli;o__Bacill...\n",
      "k__Bacteria;p__Firmicutes;c__Bacilli;o__Bacilla...  k__Bacteria;p__Firmicutes;c__Bacilli;o__Bacill...\n",
      "k__Bacteria;p__Firmicutes;c__Bacilli;o__Bacilla...  k__Bacteria;p__Firmicutes;c__Bacilli;o__Bacill...\n",
      "k__Bacteria;p__Firmicutes;c__Bacilli;o__Bacilla...  k__Bacteria;p__Firmicutes;c__Bacilli;o__Bacill...\n",
      "k__Bacteria;p__Firmicutes;c__Bacilli;o__Bacilla...  k__Bacteria;p__Firmicutes;c__Bacilli;o__Bacill...\n",
      "k__Bacteria;p__Firmicutes;c__Bacilli;o__Bacilla...  k__Bacteria;p__Firmicutes;c__Bacilli;o__Bacill...\n",
      "k__Bacteria;p__Firmicutes;c__Bacilli;o__Bacilla...  k__Bacteria;p__Firmicutes;c__Bacilli;o__Bacill...\n",
      "k__Bacteria;p__Firmicutes;c__Bacilli;o__Bacilla...  k__Bacteria;p__Firmicutes;c__Bacilli;o__Bacill...\n",
      "k__Bacteria;p__Firmicutes;c__Bacilli;o__Bacilla...  k__Bacteria;p__Firmicutes;c__Bacilli;o__Bacill...\n",
      "k__Bacteria;p__Firmicutes;c__Bacilli;o__Bacilla...  k__Bacteria;p__Firmicutes;c__Bacilli;o__Bacill...\n",
      "k__Bacteria;p__Firmicutes;c__Bacilli;o__Bacilla...  k__Bacteria;p__Firmicutes;c__Bacilli;o__Bacill...\n",
      "k__Bacteria;p__Firmicutes;c__Bacilli;o__Bacilla...  k__Bacteria;p__Firmicutes;c__Bacilli;o__Bacill...\n",
      "k__Bacteria;p__Firmicutes;c__Bacilli;o__Bacilla...  k__Bacteria;p__Firmicutes;c__Bacilli;o__Bacill...\n",
      "k__Bacteria;p__Firmicutes;c__Bacilli;o__Bacilla...  k__Bacteria;p__Firmicutes;c__Bacilli;o__Bacill...\n",
      "k__Bacteria;p__Firmicutes;c__Bacilli;o__Bacilla...  k__Bacteria;p__Firmicutes;c__Bacilli;o__Bacill...\n",
      "k__Bacteria;p__Firmicutes;c__Bacilli;o__Bacilla...  k__Bacteria;p__Firmicutes;c__Bacilli;o__Bacill...\n",
      "k__Bacteria;p__Firmicutes;c__Bacilli;o__Bacilla...  k__Bacteria;p__Firmicutes;c__Bacilli;o__Bacill...\n",
      "k__Bacteria;p__Firmicutes;c__Bacilli;o__Bacilla...  k__Bacteria;p__Firmicutes;c__Bacilli;o__Bacill...\n",
      "k__Bacteria;p__Firmicutes;c__Bacilli;o__Bacilla...  k__Bacteria;p__Firmicutes;c__Bacilli;o__Bacill...\n",
      "k__Bacteria;p__Firmicutes;c__Bacilli;o__Gemella...  k__Bacteria;p__Firmicutes;c__Bacilli;o__Gemell...\n",
      "k__Bacteria;p__Firmicutes;c__Bacilli;o__Gemella...  k__Bacteria;p__Firmicutes;c__Bacilli;o__Gemell...\n",
      "k__Bacteria;p__Firmicutes;c__Bacilli;o__Gemella...  k__Bacteria;p__Firmicutes;c__Bacilli;o__Gemell...\n",
      "k__Bacteria;p__Firmicutes;c__Bacilli;o__Lactoba...  k__Bacteria;p__Firmicutes;c__Bacilli;o__Lactob...\n",
      "k__Bacteria;p__Firmicutes;c__Bacilli;o__Lactoba...  k__Bacteria;p__Firmicutes;c__Bacilli;o__Lactob...\n",
      "k__Bacteria;p__Firmicutes;c__Bacilli;o__Lactoba...  k__Bacteria;p__Firmicutes;c__Bacilli;o__Lactob...\n",
      "k__Bacteria;p__Firmicutes;c__Bacilli;o__Lactoba...  k__Bacteria;p__Firmicutes;c__Bacilli;o__Lactob...\n",
      "k__Bacteria;p__Firmicutes;c__Bacilli;o__Lactoba...  k__Bacteria;p__Firmicutes;c__Bacilli;o__Lactob...\n",
      "k__Bacteria;p__Firmicutes;c__Bacilli;o__Lactoba...  k__Bacteria;p__Firmicutes;c__Bacilli;o__Lactob...\n",
      "k__Bacteria;p__Firmicutes;c__Bacilli;o__Lactoba...  k__Bacteria;p__Firmicutes;c__Bacilli;o__Lactob...\n",
      "k__Bacteria;p__Firmicutes;c__Bacilli;o__Lactoba...  k__Bacteria;p__Firmicutes;c__Bacilli;o__Lactob...\n",
      "k__Bacteria;p__Firmicutes;c__Clostridia;o__Clos...  k__Bacteria;p__Firmicutes;c__Clostridia;o__Clo...\n",
      "k__Bacteria;p__Firmicutes;c__Clostridia;o__Clos...  k__Bacteria;p__Firmicutes;c__Clostridia;o__Clo...\n",
      "k__Bacteria;p__Firmicutes;c__Clostridia;o__Clos...  k__Bacteria;p__Firmicutes;c__Clostridia;o__Clo...\n",
      "k__Bacteria;p__Firmicutes;c__Clostridia;o__Clos...  k__Bacteria;p__Firmicutes;c__Clostridia;o__Clo...\n",
      "k__Bacteria;p__Firmicutes;c__Clostridia;o__Clos...  k__Bacteria;p__Firmicutes;c__Clostridia;o__Clo...\n",
      "k__Bacteria;p__Firmicutes;c__Clostridia;o__Clos...  k__Bacteria;p__Firmicutes;c__Clostridia;o__Clo...\n",
      "k__Bacteria;p__Firmicutes;c__Clostridia;o__Clos...  k__Bacteria;p__Firmicutes;c__Clostridia;o__Clo...\n",
      "k__Bacteria;p__Firmicutes;c__Clostridia;o__Clos...  k__Bacteria;p__Firmicutes;c__Clostridia;o__Clo...\n",
      "k__Bacteria;p__Firmicutes;c__Clostridia;o__Clos...  k__Bacteria;p__Firmicutes;c__Clostridia;o__Clo...\n",
      "k__Bacteria;p__Firmicutes;c__Clostridia;o__Clos...  k__Bacteria;p__Firmicutes;c__Clostridia;o__Clo...\n",
      "k__Bacteria;p__Firmicutes;c__Clostridia;o__Clos...  k__Bacteria;p__Firmicutes;c__Clostridia;o__Clo...\n",
      "k__Bacteria;p__Firmicutes;c__Clostridia;o__Clos...  k__Bacteria;p__Firmicutes;c__Clostridia;o__Clo...\n",
      "k__Bacteria;p__Firmicutes;c__Clostridia;o__Clos...  k__Bacteria;p__Firmicutes;c__Clostridia;o__Clo...\n",
      "k__Bacteria;p__Firmicutes;c__Clostridia;o__Clos...  k__Bacteria;p__Firmicutes;c__Clostridia;o__Clo...\n",
      "k__Bacteria;p__Firmicutes;c__Clostridia;o__Clos...  k__Bacteria;p__Firmicutes;c__Clostridia;o__Clo...\n",
      "k__Bacteria;p__Firmicutes;c__Clostridia;o__Clos...  k__Bacteria;p__Firmicutes;c__Clostridia;o__Clo...\n",
      "k__Bacteria;p__Firmicutes;c__Clostridia;o__Clos...  k__Bacteria;p__Firmicutes;c__Clostridia;o__Clo...\n",
      "k__Bacteria;p__Firmicutes;c__Clostridia;o__Clos...  k__Bacteria;p__Firmicutes;c__Clostridia;o__Clo...\n",
      "k__Bacteria;p__Firmicutes;c__Clostridia;o__Clos...  k__Bacteria;p__Firmicutes;c__Clostridia;o__Clo...\n",
      "k__Bacteria;p__Firmicutes;c__Clostridia;o__Clos...  k__Bacteria;p__Firmicutes;c__Clostridia;o__Clo...\n",
      "k__Bacteria;p__Firmicutes;c__Clostridia;o__Clos...  k__Bacteria;p__Firmicutes;c__Clostridia;o__Clo...\n",
      "k__Bacteria;p__Firmicutes;c__Clostridia;o__Clos...  k__Bacteria;p__Firmicutes;c__Clostridia;o__Clo...\n",
      "k__Bacteria;p__Firmicutes;c__Clostridia;o__Clos...  k__Bacteria;p__Firmicutes;c__Clostridia;o__Clo...\n",
      "k__Bacteria;p__Firmicutes;c__Clostridia;o__Clos...  k__Bacteria;p__Firmicutes;c__Clostridia;o__Clo...\n",
      "k__Bacteria;p__Firmicutes;c__Clostridia;o__Clos...  k__Bacteria;p__Firmicutes;c__Clostridia;o__Clo...\n",
      "k__Bacteria;p__Firmicutes;c__Clostridia;o__Clos...  k__Bacteria;p__Firmicutes;c__Clostridia;o__Clo...\n",
      "k__Bacteria;p__Firmicutes;c__Clostridia;o__Clos...  k__Bacteria;p__Firmicutes;c__Clostridia;o__Clo...\n",
      "k__Bacteria;p__Firmicutes;c__Clostridia;o__Clos...  k__Bacteria;p__Firmicutes;c__Clostridia;o__Clo...\n",
      "k__Bacteria;p__Firmicutes;c__Clostridia;o__Clos...  k__Bacteria;p__Firmicutes;c__Clostridia;o__Clo...\n",
      "k__Bacteria;p__Firmicutes;c__Clostridia;o__Clos...  k__Bacteria;p__Firmicutes;c__Clostridia;o__Clo...\n",
      "k__Bacteria;p__Firmicutes;c__Clostridia;o__Clos...  k__Bacteria;p__Firmicutes;c__Clostridia;o__Clo...\n",
      "k__Bacteria;p__Firmicutes;c__Clostridia;o__Clos...  k__Bacteria;p__Firmicutes;c__Clostridia;o__Clo...\n",
      "k__Bacteria;p__Firmicutes;c__Clostridia;o__Clos...  k__Bacteria;p__Firmicutes;c__Clostridia;o__Clo...\n",
      "k__Bacteria;p__Firmicutes;c__Clostridia;o__Clos...  k__Bacteria;p__Firmicutes;c__Clostridia;o__Clo...\n",
      "k__Bacteria;p__Firmicutes;c__Clostridia;o__Clos...  k__Bacteria;p__Firmicutes;c__Clostridia;o__Clo...\n",
      "k__Bacteria;p__Firmicutes;c__Clostridia;o__Clos...  k__Bacteria;p__Firmicutes;c__Clostridia;o__Clo...\n",
      "k__Bacteria;p__Firmicutes;c__Clostridia;o__Clos...  k__Bacteria;p__Firmicutes;c__Clostridia;o__Clo...\n",
      "k__Bacteria;p__Firmicutes;c__Clostridia;o__Clos...  k__Bacteria;p__Firmicutes;c__Clostridia;o__Clo...\n",
      "k__Bacteria;p__Firmicutes;c__Clostridia;o__Clos...  k__Bacteria;p__Firmicutes;c__Clostridia;o__Clo...\n",
      "k__Bacteria;p__Firmicutes;c__Clostridia;o__Clos...  k__Bacteria;p__Firmicutes;c__Clostridia;o__Clo...\n",
      "k__Bacteria;p__Firmicutes;c__Clostridia;o__Clos...  k__Bacteria;p__Firmicutes;c__Clostridia;o__Clo...\n",
      "k__Bacteria;p__Firmicutes;c__Clostridia;o__Clos...  k__Bacteria;p__Firmicutes;c__Clostridia;o__Clo...\n",
      "k__Bacteria;p__Firmicutes;c__Clostridia;o__Clos...  k__Bacteria;p__Firmicutes;c__Clostridia;o__Clo...\n",
      "k__Bacteria;p__Firmicutes;c__Clostridia;o__Clos...  k__Bacteria;p__Firmicutes;c__Clostridia;o__Clo...\n",
      "k__Bacteria;p__Firmicutes;c__Clostridia;o__Clos...  k__Bacteria;p__Firmicutes;c__Clostridia;o__Clo...\n",
      "k__Bacteria;p__Firmicutes;c__Clostridia;o__Clos...  k__Bacteria;p__Firmicutes;c__Clostridia;o__Clo...\n",
      "k__Bacteria;p__Firmicutes;c__Clostridia;o__Clos...  k__Bacteria;p__Firmicutes;c__Clostridia;o__Clo...\n",
      "k__Bacteria;p__Firmicutes;c__Clostridia;o__Clos...  k__Bacteria;p__Firmicutes;c__Clostridia;o__Clo...\n",
      "k__Bacteria;p__Firmicutes;c__Clostridia;o__Clos...  k__Bacteria;p__Firmicutes;c__Clostridia;o__Clo...\n",
      "k__Bacteria;p__Firmicutes;c__Clostridia;o__Clos...  k__Bacteria;p__Firmicutes;c__Clostridia;o__Clo...\n",
      "k__Bacteria;p__Firmicutes;c__Clostridia;o__Clos...  k__Bacteria;p__Firmicutes;c__Clostridia;o__Clo...\n",
      "k__Bacteria;p__Firmicutes;c__Clostridia;o__MBA0...  k__Bacteria;p__Firmicutes;c__Clostridia;o__MBA...\n",
      "k__Bacteria;p__Firmicutes;c__Clostridia;o__OPB5...  k__Bacteria;p__Firmicutes;c__Clostridia;o__OPB...\n",
      "k__Bacteria;p__Firmicutes;c__Clostridia;o__Ther...  k__Bacteria;p__Firmicutes;c__Clostridia;o__The...\n",
      "k__Bacteria;p__Firmicutes;c__Clostridia;o__Ther...  k__Bacteria;p__Firmicutes;c__Clostridia;o__The...\n",
      "k__Bacteria;p__Firmicutes;c__Erysipelotrichi;o_...  k__Bacteria;p__Firmicutes;c__Erysipelotrichi;o...\n",
      "k__Bacteria;p__Firmicutes;c__Erysipelotrichi;o_...  k__Bacteria;p__Firmicutes;c__Erysipelotrichi;o...\n",
      "k__Bacteria;p__Firmicutes;c__Erysipelotrichi;o_...  k__Bacteria;p__Firmicutes;c__Erysipelotrichi;o...\n",
      "k__Bacteria;p__Firmicutes;c__Erysipelotrichi;o_...  k__Bacteria;p__Firmicutes;c__Erysipelotrichi;o...\n",
      "k__Bacteria;p__Firmicutes;c__Erysipelotrichi;o_...  k__Bacteria;p__Firmicutes;c__Erysipelotrichi;o...\n",
      "k__Bacteria;p__Firmicutes;c__Erysipelotrichi;o_...  k__Bacteria;p__Firmicutes;c__Erysipelotrichi;o...\n",
      "k__Bacteria;p__Firmicutes;c__Erysipelotrichi;o_...  k__Bacteria;p__Firmicutes;c__Erysipelotrichi;o...\n",
      "k__Bacteria;p__Firmicutes;c__Erysipelotrichi;o_...  k__Bacteria;p__Firmicutes;c__Erysipelotrichi;o...\n",
      "k__Bacteria;p__Fusobacteria;c__Fusobacteriia;o_...  k__Bacteria;p__Fusobacteria;c__Fusobacteriia;o...\n",
      "k__Bacteria;p__Fusobacteria;c__Fusobacteriia;o_...  k__Bacteria;p__Fusobacteria;c__Fusobacteriia;o...\n",
      "k__Bacteria;p__Fusobacteria;c__Fusobacteriia;o_...  k__Bacteria;p__Fusobacteria;c__Fusobacteriia;o...\n",
      "k__Bacteria;p__Fusobacteria;c__Fusobacteriia;o_...  k__Bacteria;p__Fusobacteria;c__Fusobacteriia;o...\n",
      "k__Bacteria;p__GN02;c__BD1-5;o__;f__;g__                     k__Bacteria;p__GN02;c__BD1-5;o__;f__;g__\n",
      "k__Bacteria;p__Gemmatimonadetes;c__Gemm-3;o__;f...  k__Bacteria;p__Gemmatimonadetes;c__Gemm-3;o__;...\n",
      "k__Bacteria;p__Gemmatimonadetes;c__Gemmatimonad...  k__Bacteria;p__Gemmatimonadetes;c__Gemmatimona...\n",
      "k__Bacteria;p__Gemmatimonadetes;c__Gemmatimonad...  k__Bacteria;p__Gemmatimonadetes;c__Gemmatimona...\n",
      "k__Bacteria;p__Gemmatimonadetes;c__Gemmatimonad...  k__Bacteria;p__Gemmatimonadetes;c__Gemmatimona...\n",
      "k__Bacteria;p__Gemmatimonadetes;c__Gemmatimonad...  k__Bacteria;p__Gemmatimonadetes;c__Gemmatimona...\n",
      "k__Bacteria;p__OD1;c__SM2F11;o__;f__;g__                     k__Bacteria;p__OD1;c__SM2F11;o__;f__;g__\n",
      "k__Bacteria;p__OP11;c__;o__;f__;g__                               k__Bacteria;p__OP11;c__;o__;f__;g__\n",
      "k__Bacteria;p__OP11;c__OP11-2;o__WCHB1-07;f__;g__   k__Bacteria;p__OP11;c__OP11-2;o__WCHB1-07;f__;g__\n",
      "k__Bacteria;p__Planctomycetes;c__Phycisphaerae;...  k__Bacteria;p__Planctomycetes;c__Phycisphaerae...\n",
      "k__Bacteria;p__Planctomycetes;c__Phycisphaerae;...  k__Bacteria;p__Planctomycetes;c__Phycisphaerae...\n",
      "k__Bacteria;p__Planctomycetes;c__Planctomycetia...  k__Bacteria;p__Planctomycetes;c__Planctomyceti...\n",
      "k__Bacteria;p__Planctomycetes;c__Planctomycetia...  k__Bacteria;p__Planctomycetes;c__Planctomyceti...\n",
      "k__Bacteria;p__Planctomycetes;c__Planctomycetia...  k__Bacteria;p__Planctomycetes;c__Planctomyceti...\n",
      "k__Bacteria;p__Planctomycetes;c__Planctomycetia...  k__Bacteria;p__Planctomycetes;c__Planctomyceti...\n",
      "k__Bacteria;p__Planctomycetes;c__Planctomycetia...  k__Bacteria;p__Planctomycetes;c__Planctomyceti...\n",
      "k__Bacteria;p__Planctomycetes;c__vadinHA49;o__P...  k__Bacteria;p__Planctomycetes;c__vadinHA49;o__...\n",
      "k__Bacteria;p__Proteobacteria;c__;o__;f__;g__           k__Bacteria;p__Proteobacteria;c__;o__;f__;g__\n",
      "k__Bacteria;p__Proteobacteria;c__Alphaproteobac...  k__Bacteria;p__Proteobacteria;c__Alphaproteoba...\n",
      "k__Bacteria;p__Proteobacteria;c__Alphaproteobac...  k__Bacteria;p__Proteobacteria;c__Alphaproteoba...\n",
      "k__Bacteria;p__Proteobacteria;c__Alphaproteobac...  k__Bacteria;p__Proteobacteria;c__Alphaproteoba...\n",
      "k__Bacteria;p__Proteobacteria;c__Alphaproteobac...  k__Bacteria;p__Proteobacteria;c__Alphaproteoba...\n",
      "k__Bacteria;p__Proteobacteria;c__Alphaproteobac...  k__Bacteria;p__Proteobacteria;c__Alphaproteoba...\n",
      "k__Bacteria;p__Proteobacteria;c__Alphaproteobac...  k__Bacteria;p__Proteobacteria;c__Alphaproteoba...\n",
      "k__Bacteria;p__Proteobacteria;c__Alphaproteobac...  k__Bacteria;p__Proteobacteria;c__Alphaproteoba...\n",
      "k__Bacteria;p__Proteobacteria;c__Alphaproteobac...  k__Bacteria;p__Proteobacteria;c__Alphaproteoba...\n",
      "k__Bacteria;p__Proteobacteria;c__Alphaproteobac...  k__Bacteria;p__Proteobacteria;c__Alphaproteoba...\n",
      "k__Bacteria;p__Proteobacteria;c__Alphaproteobac...  k__Bacteria;p__Proteobacteria;c__Alphaproteoba...\n",
      "k__Bacteria;p__Proteobacteria;c__Alphaproteobac...  k__Bacteria;p__Proteobacteria;c__Alphaproteoba...\n",
      "k__Bacteria;p__Proteobacteria;c__Alphaproteobac...  k__Bacteria;p__Proteobacteria;c__Alphaproteoba...\n",
      "k__Bacteria;p__Proteobacteria;c__Alphaproteobac...  k__Bacteria;p__Proteobacteria;c__Alphaproteoba...\n",
      "k__Bacteria;p__Proteobacteria;c__Alphaproteobac...  k__Bacteria;p__Proteobacteria;c__Alphaproteoba...\n",
      "k__Bacteria;p__Proteobacteria;c__Alphaproteobac...  k__Bacteria;p__Proteobacteria;c__Alphaproteoba...\n",
      "k__Bacteria;p__Proteobacteria;c__Alphaproteobac...  k__Bacteria;p__Proteobacteria;c__Alphaproteoba...\n",
      "k__Bacteria;p__Proteobacteria;c__Alphaproteobac...  k__Bacteria;p__Proteobacteria;c__Alphaproteoba...\n",
      "k__Bacteria;p__Proteobacteria;c__Alphaproteobac...  k__Bacteria;p__Proteobacteria;c__Alphaproteoba...\n",
      "k__Bacteria;p__Proteobacteria;c__Alphaproteobac...  k__Bacteria;p__Proteobacteria;c__Alphaproteoba...\n",
      "k__Bacteria;p__Proteobacteria;c__Alphaproteobac...  k__Bacteria;p__Proteobacteria;c__Alphaproteoba...\n",
      "k__Bacteria;p__Proteobacteria;c__Alphaproteobac...  k__Bacteria;p__Proteobacteria;c__Alphaproteoba...\n",
      "k__Bacteria;p__Proteobacteria;c__Alphaproteobac...  k__Bacteria;p__Proteobacteria;c__Alphaproteoba...\n",
      "k__Bacteria;p__Proteobacteria;c__Alphaproteobac...  k__Bacteria;p__Proteobacteria;c__Alphaproteoba...\n",
      "k__Bacteria;p__Proteobacteria;c__Alphaproteobac...  k__Bacteria;p__Proteobacteria;c__Alphaproteoba...\n",
      "k__Bacteria;p__Proteobacteria;c__Alphaproteobac...  k__Bacteria;p__Proteobacteria;c__Alphaproteoba...\n",
      "k__Bacteria;p__Proteobacteria;c__Alphaproteobac...  k__Bacteria;p__Proteobacteria;c__Alphaproteoba...\n",
      "k__Bacteria;p__Proteobacteria;c__Alphaproteobac...  k__Bacteria;p__Proteobacteria;c__Alphaproteoba...\n",
      "k__Bacteria;p__Proteobacteria;c__Alphaproteobac...  k__Bacteria;p__Proteobacteria;c__Alphaproteoba...\n",
      "k__Bacteria;p__Proteobacteria;c__Alphaproteobac...  k__Bacteria;p__Proteobacteria;c__Alphaproteoba...\n",
      "k__Bacteria;p__Proteobacteria;c__Alphaproteobac...  k__Bacteria;p__Proteobacteria;c__Alphaproteoba...\n",
      "k__Bacteria;p__Proteobacteria;c__Alphaproteobac...  k__Bacteria;p__Proteobacteria;c__Alphaproteoba...\n",
      "k__Bacteria;p__Proteobacteria;c__Alphaproteobac...  k__Bacteria;p__Proteobacteria;c__Alphaproteoba...\n",
      "k__Bacteria;p__Proteobacteria;c__Alphaproteobac...  k__Bacteria;p__Proteobacteria;c__Alphaproteoba...\n",
      "k__Bacteria;p__Proteobacteria;c__Alphaproteobac...  k__Bacteria;p__Proteobacteria;c__Alphaproteoba...\n",
      "k__Bacteria;p__Proteobacteria;c__Alphaproteobac...  k__Bacteria;p__Proteobacteria;c__Alphaproteoba...\n",
      "k__Bacteria;p__Proteobacteria;c__Alphaproteobac...  k__Bacteria;p__Proteobacteria;c__Alphaproteoba...\n",
      "k__Bacteria;p__Proteobacteria;c__Alphaproteobac...  k__Bacteria;p__Proteobacteria;c__Alphaproteoba...\n",
      "k__Bacteria;p__Proteobacteria;c__Alphaproteobac...  k__Bacteria;p__Proteobacteria;c__Alphaproteoba...\n",
      "k__Bacteria;p__Proteobacteria;c__Alphaproteobac...  k__Bacteria;p__Proteobacteria;c__Alphaproteoba...\n",
      "k__Bacteria;p__Proteobacteria;c__Alphaproteobac...  k__Bacteria;p__Proteobacteria;c__Alphaproteoba...\n",
      "k__Bacteria;p__Proteobacteria;c__Alphaproteobac...  k__Bacteria;p__Proteobacteria;c__Alphaproteoba...\n",
      "k__Bacteria;p__Proteobacteria;c__Alphaproteobac...  k__Bacteria;p__Proteobacteria;c__Alphaproteoba...\n",
      "k__Bacteria;p__Proteobacteria;c__Alphaproteobac...  k__Bacteria;p__Proteobacteria;c__Alphaproteoba...\n",
      "k__Bacteria;p__Proteobacteria;c__Alphaproteobac...  k__Bacteria;p__Proteobacteria;c__Alphaproteoba...\n",
      "k__Bacteria;p__Proteobacteria;c__Alphaproteobac...  k__Bacteria;p__Proteobacteria;c__Alphaproteoba...\n",
      "k__Bacteria;p__Proteobacteria;c__Alphaproteobac...  k__Bacteria;p__Proteobacteria;c__Alphaproteoba...\n",
      "k__Bacteria;p__Proteobacteria;c__Alphaproteobac...  k__Bacteria;p__Proteobacteria;c__Alphaproteoba...\n",
      "k__Bacteria;p__Proteobacteria;c__Alphaproteobac...  k__Bacteria;p__Proteobacteria;c__Alphaproteoba...\n",
      "k__Bacteria;p__Proteobacteria;c__Alphaproteobac...  k__Bacteria;p__Proteobacteria;c__Alphaproteoba...\n",
      "k__Bacteria;p__Proteobacteria;c__Alphaproteobac...  k__Bacteria;p__Proteobacteria;c__Alphaproteoba...\n",
      "k__Bacteria;p__Proteobacteria;c__Alphaproteobac...  k__Bacteria;p__Proteobacteria;c__Alphaproteoba...\n",
      "k__Bacteria;p__Proteobacteria;c__Alphaproteobac...  k__Bacteria;p__Proteobacteria;c__Alphaproteoba...\n",
      "k__Bacteria;p__Proteobacteria;c__Alphaproteobac...  k__Bacteria;p__Proteobacteria;c__Alphaproteoba...\n",
      "k__Bacteria;p__Proteobacteria;c__Alphaproteobac...  k__Bacteria;p__Proteobacteria;c__Alphaproteoba...\n",
      "k__Bacteria;p__Proteobacteria;c__Alphaproteobac...  k__Bacteria;p__Proteobacteria;c__Alphaproteoba...\n",
      "k__Bacteria;p__Proteobacteria;c__Alphaproteobac...  k__Bacteria;p__Proteobacteria;c__Alphaproteoba...\n",
      "k__Bacteria;p__Proteobacteria;c__Alphaproteobac...  k__Bacteria;p__Proteobacteria;c__Alphaproteoba...\n",
      "k__Bacteria;p__Proteobacteria;c__Alphaproteobac...  k__Bacteria;p__Proteobacteria;c__Alphaproteoba...\n",
      "k__Bacteria;p__Proteobacteria;c__Alphaproteobac...  k__Bacteria;p__Proteobacteria;c__Alphaproteoba...\n",
      "k__Bacteria;p__Proteobacteria;c__Alphaproteobac...  k__Bacteria;p__Proteobacteria;c__Alphaproteoba...\n",
      "k__Bacteria;p__Proteobacteria;c__Alphaproteobac...  k__Bacteria;p__Proteobacteria;c__Alphaproteoba...\n",
      "k__Bacteria;p__Proteobacteria;c__Alphaproteobac...  k__Bacteria;p__Proteobacteria;c__Alphaproteoba...\n",
      "k__Bacteria;p__Proteobacteria;c__Alphaproteobac...  k__Bacteria;p__Proteobacteria;c__Alphaproteoba...\n",
      "k__Bacteria;p__Proteobacteria;c__Alphaproteobac...  k__Bacteria;p__Proteobacteria;c__Alphaproteoba...\n",
      "k__Bacteria;p__Proteobacteria;c__Alphaproteobac...  k__Bacteria;p__Proteobacteria;c__Alphaproteoba...\n",
      "k__Bacteria;p__Proteobacteria;c__Alphaproteobac...  k__Bacteria;p__Proteobacteria;c__Alphaproteoba...\n",
      "k__Bacteria;p__Proteobacteria;c__Alphaproteobac...  k__Bacteria;p__Proteobacteria;c__Alphaproteoba...\n",
      "k__Bacteria;p__Proteobacteria;c__Alphaproteobac...  k__Bacteria;p__Proteobacteria;c__Alphaproteoba...\n",
      "k__Bacteria;p__Proteobacteria;c__Alphaproteobac...  k__Bacteria;p__Proteobacteria;c__Alphaproteoba...\n",
      "k__Bacteria;p__Proteobacteria;c__Alphaproteobac...  k__Bacteria;p__Proteobacteria;c__Alphaproteoba...\n",
      "k__Bacteria;p__Proteobacteria;c__Alphaproteobac...  k__Bacteria;p__Proteobacteria;c__Alphaproteoba...\n",
      "k__Bacteria;p__Proteobacteria;c__Alphaproteobac...  k__Bacteria;p__Proteobacteria;c__Alphaproteoba...\n",
      "k__Bacteria;p__Proteobacteria;c__Alphaproteobac...  k__Bacteria;p__Proteobacteria;c__Alphaproteoba...\n",
      "k__Bacteria;p__Proteobacteria;c__Alphaproteobac...  k__Bacteria;p__Proteobacteria;c__Alphaproteoba...\n",
      "k__Bacteria;p__Proteobacteria;c__Alphaproteobac...  k__Bacteria;p__Proteobacteria;c__Alphaproteoba...\n",
      "k__Bacteria;p__Proteobacteria;c__Alphaproteobac...  k__Bacteria;p__Proteobacteria;c__Alphaproteoba...\n",
      "k__Bacteria;p__Proteobacteria;c__Alphaproteobac...  k__Bacteria;p__Proteobacteria;c__Alphaproteoba...\n",
      "k__Bacteria;p__Proteobacteria;c__Alphaproteobac...  k__Bacteria;p__Proteobacteria;c__Alphaproteoba...\n",
      "k__Bacteria;p__Proteobacteria;c__Alphaproteobac...  k__Bacteria;p__Proteobacteria;c__Alphaproteoba...\n",
      "k__Bacteria;p__Proteobacteria;c__Betaproteobact...  k__Bacteria;p__Proteobacteria;c__Betaproteobac...\n",
      "k__Bacteria;p__Proteobacteria;c__Betaproteobact...  k__Bacteria;p__Proteobacteria;c__Betaproteobac...\n",
      "k__Bacteria;p__Proteobacteria;c__Betaproteobact...  k__Bacteria;p__Proteobacteria;c__Betaproteobac...\n",
      "k__Bacteria;p__Proteobacteria;c__Betaproteobact...  k__Bacteria;p__Proteobacteria;c__Betaproteobac...\n",
      "k__Bacteria;p__Proteobacteria;c__Betaproteobact...  k__Bacteria;p__Proteobacteria;c__Betaproteobac...\n",
      "k__Bacteria;p__Proteobacteria;c__Betaproteobact...  k__Bacteria;p__Proteobacteria;c__Betaproteobac...\n",
      "k__Bacteria;p__Proteobacteria;c__Betaproteobact...  k__Bacteria;p__Proteobacteria;c__Betaproteobac...\n",
      "k__Bacteria;p__Proteobacteria;c__Betaproteobact...  k__Bacteria;p__Proteobacteria;c__Betaproteobac...\n",
      "k__Bacteria;p__Proteobacteria;c__Betaproteobact...  k__Bacteria;p__Proteobacteria;c__Betaproteobac...\n",
      "k__Bacteria;p__Proteobacteria;c__Betaproteobact...  k__Bacteria;p__Proteobacteria;c__Betaproteobac...\n",
      "k__Bacteria;p__Proteobacteria;c__Betaproteobact...  k__Bacteria;p__Proteobacteria;c__Betaproteobac...\n",
      "k__Bacteria;p__Proteobacteria;c__Betaproteobact...  k__Bacteria;p__Proteobacteria;c__Betaproteobac...\n",
      "k__Bacteria;p__Proteobacteria;c__Betaproteobact...  k__Bacteria;p__Proteobacteria;c__Betaproteobac...\n",
      "k__Bacteria;p__Proteobacteria;c__Betaproteobact...  k__Bacteria;p__Proteobacteria;c__Betaproteobac...\n",
      "k__Bacteria;p__Proteobacteria;c__Betaproteobact...  k__Bacteria;p__Proteobacteria;c__Betaproteobac...\n",
      "k__Bacteria;p__Proteobacteria;c__Betaproteobact...  k__Bacteria;p__Proteobacteria;c__Betaproteobac...\n",
      "k__Bacteria;p__Proteobacteria;c__Betaproteobact...  k__Bacteria;p__Proteobacteria;c__Betaproteobac...\n",
      "k__Bacteria;p__Proteobacteria;c__Betaproteobact...  k__Bacteria;p__Proteobacteria;c__Betaproteobac...\n",
      "k__Bacteria;p__Proteobacteria;c__Betaproteobact...  k__Bacteria;p__Proteobacteria;c__Betaproteobac...\n",
      "k__Bacteria;p__Proteobacteria;c__Betaproteobact...  k__Bacteria;p__Proteobacteria;c__Betaproteobac...\n",
      "k__Bacteria;p__Proteobacteria;c__Betaproteobact...  k__Bacteria;p__Proteobacteria;c__Betaproteobac...\n",
      "k__Bacteria;p__Proteobacteria;c__Betaproteobact...  k__Bacteria;p__Proteobacteria;c__Betaproteobac...\n",
      "k__Bacteria;p__Proteobacteria;c__Betaproteobact...  k__Bacteria;p__Proteobacteria;c__Betaproteobac...\n",
      "k__Bacteria;p__Proteobacteria;c__Betaproteobact...  k__Bacteria;p__Proteobacteria;c__Betaproteobac...\n",
      "k__Bacteria;p__Proteobacteria;c__Betaproteobact...  k__Bacteria;p__Proteobacteria;c__Betaproteobac...\n",
      "k__Bacteria;p__Proteobacteria;c__Betaproteobact...  k__Bacteria;p__Proteobacteria;c__Betaproteobac...\n",
      "k__Bacteria;p__Proteobacteria;c__Betaproteobact...  k__Bacteria;p__Proteobacteria;c__Betaproteobac...\n",
      "k__Bacteria;p__Proteobacteria;c__Betaproteobact...  k__Bacteria;p__Proteobacteria;c__Betaproteobac...\n",
      "k__Bacteria;p__Proteobacteria;c__Betaproteobact...  k__Bacteria;p__Proteobacteria;c__Betaproteobac...\n",
      "k__Bacteria;p__Proteobacteria;c__Betaproteobact...  k__Bacteria;p__Proteobacteria;c__Betaproteobac...\n",
      "k__Bacteria;p__Proteobacteria;c__Betaproteobact...  k__Bacteria;p__Proteobacteria;c__Betaproteobac...\n",
      "k__Bacteria;p__Proteobacteria;c__Betaproteobact...  k__Bacteria;p__Proteobacteria;c__Betaproteobac...\n",
      "k__Bacteria;p__Proteobacteria;c__Betaproteobact...  k__Bacteria;p__Proteobacteria;c__Betaproteobac...\n",
      "k__Bacteria;p__Proteobacteria;c__Betaproteobact...  k__Bacteria;p__Proteobacteria;c__Betaproteobac...\n",
      "k__Bacteria;p__Proteobacteria;c__Betaproteobact...  k__Bacteria;p__Proteobacteria;c__Betaproteobac...\n",
      "k__Bacteria;p__Proteobacteria;c__Betaproteobact...  k__Bacteria;p__Proteobacteria;c__Betaproteobac...\n",
      "k__Bacteria;p__Proteobacteria;c__Betaproteobact...  k__Bacteria;p__Proteobacteria;c__Betaproteobac...\n",
      "k__Bacteria;p__Proteobacteria;c__Betaproteobact...  k__Bacteria;p__Proteobacteria;c__Betaproteobac...\n",
      "k__Bacteria;p__Proteobacteria;c__Betaproteobact...  k__Bacteria;p__Proteobacteria;c__Betaproteobac...\n",
      "k__Bacteria;p__Proteobacteria;c__Betaproteobact...  k__Bacteria;p__Proteobacteria;c__Betaproteobac...\n",
      "k__Bacteria;p__Proteobacteria;c__Betaproteobact...  k__Bacteria;p__Proteobacteria;c__Betaproteobac...\n",
      "k__Bacteria;p__Proteobacteria;c__Betaproteobact...  k__Bacteria;p__Proteobacteria;c__Betaproteobac...\n",
      "k__Bacteria;p__Proteobacteria;c__Betaproteobact...  k__Bacteria;p__Proteobacteria;c__Betaproteobac...\n",
      "k__Bacteria;p__Proteobacteria;c__Betaproteobact...  k__Bacteria;p__Proteobacteria;c__Betaproteobac...\n",
      "k__Bacteria;p__Proteobacteria;c__Betaproteobact...  k__Bacteria;p__Proteobacteria;c__Betaproteobac...\n",
      "k__Bacteria;p__Proteobacteria;c__Betaproteobact...  k__Bacteria;p__Proteobacteria;c__Betaproteobac...\n",
      "k__Bacteria;p__Proteobacteria;c__Betaproteobact...  k__Bacteria;p__Proteobacteria;c__Betaproteobac...\n",
      "k__Bacteria;p__Proteobacteria;c__Betaproteobact...  k__Bacteria;p__Proteobacteria;c__Betaproteobac...\n",
      "k__Bacteria;p__Proteobacteria;c__Betaproteobact...  k__Bacteria;p__Proteobacteria;c__Betaproteobac...\n",
      "k__Bacteria;p__Proteobacteria;c__Betaproteobact...  k__Bacteria;p__Proteobacteria;c__Betaproteobac...\n",
      "k__Bacteria;p__Proteobacteria;c__Betaproteobact...  k__Bacteria;p__Proteobacteria;c__Betaproteobac...\n",
      "k__Bacteria;p__Proteobacteria;c__Betaproteobact...  k__Bacteria;p__Proteobacteria;c__Betaproteobac...\n",
      "k__Bacteria;p__Proteobacteria;c__Betaproteobact...  k__Bacteria;p__Proteobacteria;c__Betaproteobac...\n",
      "k__Bacteria;p__Proteobacteria;c__Betaproteobact...  k__Bacteria;p__Proteobacteria;c__Betaproteobac...\n",
      "k__Bacteria;p__Proteobacteria;c__Betaproteobact...  k__Bacteria;p__Proteobacteria;c__Betaproteobac...\n",
      "k__Bacteria;p__Proteobacteria;c__Betaproteobact...  k__Bacteria;p__Proteobacteria;c__Betaproteobac...\n",
      "k__Bacteria;p__Proteobacteria;c__Betaproteobact...  k__Bacteria;p__Proteobacteria;c__Betaproteobac...\n",
      "k__Bacteria;p__Proteobacteria;c__Betaproteobact...  k__Bacteria;p__Proteobacteria;c__Betaproteobac...\n",
      "k__Bacteria;p__Proteobacteria;c__Betaproteobact...  k__Bacteria;p__Proteobacteria;c__Betaproteobac...\n",
      "k__Bacteria;p__Proteobacteria;c__Deltaproteobac...  k__Bacteria;p__Proteobacteria;c__Deltaproteoba...\n",
      "k__Bacteria;p__Proteobacteria;c__Deltaproteobac...  k__Bacteria;p__Proteobacteria;c__Deltaproteoba...\n",
      "k__Bacteria;p__Proteobacteria;c__Deltaproteobac...  k__Bacteria;p__Proteobacteria;c__Deltaproteoba...\n",
      "k__Bacteria;p__Proteobacteria;c__Deltaproteobac...  k__Bacteria;p__Proteobacteria;c__Deltaproteoba...\n",
      "k__Bacteria;p__Proteobacteria;c__Deltaproteobac...  k__Bacteria;p__Proteobacteria;c__Deltaproteoba...\n",
      "k__Bacteria;p__Proteobacteria;c__Deltaproteobac...  k__Bacteria;p__Proteobacteria;c__Deltaproteoba...\n",
      "k__Bacteria;p__Proteobacteria;c__Deltaproteobac...  k__Bacteria;p__Proteobacteria;c__Deltaproteoba...\n",
      "k__Bacteria;p__Proteobacteria;c__Deltaproteobac...  k__Bacteria;p__Proteobacteria;c__Deltaproteoba...\n",
      "k__Bacteria;p__Proteobacteria;c__Deltaproteobac...  k__Bacteria;p__Proteobacteria;c__Deltaproteoba...\n",
      "k__Bacteria;p__Proteobacteria;c__Deltaproteobac...  k__Bacteria;p__Proteobacteria;c__Deltaproteoba...\n",
      "k__Bacteria;p__Proteobacteria;c__Deltaproteobac...  k__Bacteria;p__Proteobacteria;c__Deltaproteoba...\n",
      "k__Bacteria;p__Proteobacteria;c__Deltaproteobac...  k__Bacteria;p__Proteobacteria;c__Deltaproteoba...\n",
      "k__Bacteria;p__Proteobacteria;c__Deltaproteobac...  k__Bacteria;p__Proteobacteria;c__Deltaproteoba...\n",
      "k__Bacteria;p__Proteobacteria;c__Deltaproteobac...  k__Bacteria;p__Proteobacteria;c__Deltaproteoba...\n",
      "k__Bacteria;p__Proteobacteria;c__Deltaproteobac...  k__Bacteria;p__Proteobacteria;c__Deltaproteoba...\n",
      "k__Bacteria;p__Proteobacteria;c__Deltaproteobac...  k__Bacteria;p__Proteobacteria;c__Deltaproteoba...\n",
      "k__Bacteria;p__Proteobacteria;c__Deltaproteobac...  k__Bacteria;p__Proteobacteria;c__Deltaproteoba...\n",
      "k__Bacteria;p__Proteobacteria;c__Deltaproteobac...  k__Bacteria;p__Proteobacteria;c__Deltaproteoba...\n",
      "k__Bacteria;p__Proteobacteria;c__Deltaproteobac...  k__Bacteria;p__Proteobacteria;c__Deltaproteoba...\n",
      "k__Bacteria;p__Proteobacteria;c__Deltaproteobac...  k__Bacteria;p__Proteobacteria;c__Deltaproteoba...\n",
      "k__Bacteria;p__Proteobacteria;c__Epsilonproteob...  k__Bacteria;p__Proteobacteria;c__Epsilonproteo...\n",
      "k__Bacteria;p__Proteobacteria;c__Epsilonproteob...  k__Bacteria;p__Proteobacteria;c__Epsilonproteo...\n",
      "k__Bacteria;p__Proteobacteria;c__Gammaproteobac...  k__Bacteria;p__Proteobacteria;c__Gammaproteoba...\n",
      "k__Bacteria;p__Proteobacteria;c__Gammaproteobac...  k__Bacteria;p__Proteobacteria;c__Gammaproteoba...\n",
      "k__Bacteria;p__Proteobacteria;c__Gammaproteobac...  k__Bacteria;p__Proteobacteria;c__Gammaproteoba...\n",
      "k__Bacteria;p__Proteobacteria;c__Gammaproteobac...  k__Bacteria;p__Proteobacteria;c__Gammaproteoba...\n",
      "k__Bacteria;p__Proteobacteria;c__Gammaproteobac...  k__Bacteria;p__Proteobacteria;c__Gammaproteoba...\n",
      "k__Bacteria;p__Proteobacteria;c__Gammaproteobac...  k__Bacteria;p__Proteobacteria;c__Gammaproteoba...\n",
      "k__Bacteria;p__Proteobacteria;c__Gammaproteobac...  k__Bacteria;p__Proteobacteria;c__Gammaproteoba...\n",
      "k__Bacteria;p__Proteobacteria;c__Gammaproteobac...  k__Bacteria;p__Proteobacteria;c__Gammaproteoba...\n",
      "k__Bacteria;p__Proteobacteria;c__Gammaproteobac...  k__Bacteria;p__Proteobacteria;c__Gammaproteoba...\n",
      "k__Bacteria;p__Proteobacteria;c__Gammaproteobac...  k__Bacteria;p__Proteobacteria;c__Gammaproteoba...\n",
      "k__Bacteria;p__Proteobacteria;c__Gammaproteobac...  k__Bacteria;p__Proteobacteria;c__Gammaproteoba...\n",
      "k__Bacteria;p__Proteobacteria;c__Gammaproteobac...  k__Bacteria;p__Proteobacteria;c__Gammaproteoba...\n",
      "k__Bacteria;p__Proteobacteria;c__Gammaproteobac...  k__Bacteria;p__Proteobacteria;c__Gammaproteoba...\n",
      "k__Bacteria;p__Proteobacteria;c__Gammaproteobac...  k__Bacteria;p__Proteobacteria;c__Gammaproteoba...\n",
      "k__Bacteria;p__Proteobacteria;c__Gammaproteobac...  k__Bacteria;p__Proteobacteria;c__Gammaproteoba...\n",
      "k__Bacteria;p__Proteobacteria;c__Gammaproteobac...  k__Bacteria;p__Proteobacteria;c__Gammaproteoba...\n",
      "k__Bacteria;p__Proteobacteria;c__Gammaproteobac...  k__Bacteria;p__Proteobacteria;c__Gammaproteoba...\n",
      "k__Bacteria;p__Proteobacteria;c__Gammaproteobac...  k__Bacteria;p__Proteobacteria;c__Gammaproteoba...\n",
      "k__Bacteria;p__Proteobacteria;c__Gammaproteobac...  k__Bacteria;p__Proteobacteria;c__Gammaproteoba...\n",
      "k__Bacteria;p__Proteobacteria;c__Gammaproteobac...  k__Bacteria;p__Proteobacteria;c__Gammaproteoba...\n",
      "k__Bacteria;p__Proteobacteria;c__Gammaproteobac...  k__Bacteria;p__Proteobacteria;c__Gammaproteoba...\n",
      "k__Bacteria;p__Proteobacteria;c__Gammaproteobac...  k__Bacteria;p__Proteobacteria;c__Gammaproteoba...\n",
      "k__Bacteria;p__Proteobacteria;c__Gammaproteobac...  k__Bacteria;p__Proteobacteria;c__Gammaproteoba...\n",
      "k__Bacteria;p__Proteobacteria;c__Gammaproteobac...  k__Bacteria;p__Proteobacteria;c__Gammaproteoba...\n",
      "k__Bacteria;p__Proteobacteria;c__Gammaproteobac...  k__Bacteria;p__Proteobacteria;c__Gammaproteoba...\n",
      "k__Bacteria;p__Proteobacteria;c__Gammaproteobac...  k__Bacteria;p__Proteobacteria;c__Gammaproteoba...\n",
      "k__Bacteria;p__Proteobacteria;c__Gammaproteobac...  k__Bacteria;p__Proteobacteria;c__Gammaproteoba...\n",
      "k__Bacteria;p__Proteobacteria;c__Gammaproteobac...  k__Bacteria;p__Proteobacteria;c__Gammaproteoba...\n",
      "k__Bacteria;p__Proteobacteria;c__Gammaproteobac...  k__Bacteria;p__Proteobacteria;c__Gammaproteoba...\n",
      "k__Bacteria;p__Proteobacteria;c__Gammaproteobac...  k__Bacteria;p__Proteobacteria;c__Gammaproteoba...\n",
      "k__Bacteria;p__Proteobacteria;c__Gammaproteobac...  k__Bacteria;p__Proteobacteria;c__Gammaproteoba...\n",
      "k__Bacteria;p__Proteobacteria;c__Gammaproteobac...  k__Bacteria;p__Proteobacteria;c__Gammaproteoba...\n",
      "k__Bacteria;p__Proteobacteria;c__Gammaproteobac...  k__Bacteria;p__Proteobacteria;c__Gammaproteoba...\n",
      "k__Bacteria;p__Proteobacteria;c__Gammaproteobac...  k__Bacteria;p__Proteobacteria;c__Gammaproteoba...\n",
      "k__Bacteria;p__Proteobacteria;c__Gammaproteobac...  k__Bacteria;p__Proteobacteria;c__Gammaproteoba...\n",
      "k__Bacteria;p__Proteobacteria;c__Gammaproteobac...  k__Bacteria;p__Proteobacteria;c__Gammaproteoba...\n",
      "k__Bacteria;p__Proteobacteria;c__Gammaproteobac...  k__Bacteria;p__Proteobacteria;c__Gammaproteoba...\n",
      "k__Bacteria;p__Proteobacteria;c__Gammaproteobac...  k__Bacteria;p__Proteobacteria;c__Gammaproteoba...\n",
      "k__Bacteria;p__Proteobacteria;c__Gammaproteobac...  k__Bacteria;p__Proteobacteria;c__Gammaproteoba...\n",
      "k__Bacteria;p__Proteobacteria;c__Gammaproteobac...  k__Bacteria;p__Proteobacteria;c__Gammaproteoba...\n",
      "k__Bacteria;p__Proteobacteria;c__Gammaproteobac...  k__Bacteria;p__Proteobacteria;c__Gammaproteoba...\n",
      "k__Bacteria;p__Proteobacteria;c__Gammaproteobac...  k__Bacteria;p__Proteobacteria;c__Gammaproteoba...\n",
      "k__Bacteria;p__Proteobacteria;c__Gammaproteobac...  k__Bacteria;p__Proteobacteria;c__Gammaproteoba...\n",
      "k__Bacteria;p__Proteobacteria;c__Gammaproteobac...  k__Bacteria;p__Proteobacteria;c__Gammaproteoba...\n",
      "k__Bacteria;p__Proteobacteria;c__Gammaproteobac...  k__Bacteria;p__Proteobacteria;c__Gammaproteoba...\n",
      "k__Bacteria;p__Proteobacteria;c__Gammaproteobac...  k__Bacteria;p__Proteobacteria;c__Gammaproteoba...\n",
      "k__Bacteria;p__Proteobacteria;c__Gammaproteobac...  k__Bacteria;p__Proteobacteria;c__Gammaproteoba...\n",
      "k__Bacteria;p__Proteobacteria;c__Gammaproteobac...  k__Bacteria;p__Proteobacteria;c__Gammaproteoba...\n",
      "k__Bacteria;p__Proteobacteria;c__Gammaproteobac...  k__Bacteria;p__Proteobacteria;c__Gammaproteoba...\n",
      "k__Bacteria;p__Proteobacteria;c__Gammaproteobac...  k__Bacteria;p__Proteobacteria;c__Gammaproteoba...\n",
      "k__Bacteria;p__Proteobacteria;c__Gammaproteobac...  k__Bacteria;p__Proteobacteria;c__Gammaproteoba...\n",
      "k__Bacteria;p__Proteobacteria;c__Gammaproteobac...  k__Bacteria;p__Proteobacteria;c__Gammaproteoba...\n",
      "k__Bacteria;p__Proteobacteria;c__Gammaproteobac...  k__Bacteria;p__Proteobacteria;c__Gammaproteoba...\n",
      "k__Bacteria;p__Proteobacteria;c__Gammaproteobac...  k__Bacteria;p__Proteobacteria;c__Gammaproteoba...\n",
      "k__Bacteria;p__Proteobacteria;c__Gammaproteobac...  k__Bacteria;p__Proteobacteria;c__Gammaproteoba...\n",
      "k__Bacteria;p__Proteobacteria;c__Gammaproteobac...  k__Bacteria;p__Proteobacteria;c__Gammaproteoba...\n",
      "k__Bacteria;p__Proteobacteria;c__Gammaproteobac...  k__Bacteria;p__Proteobacteria;c__Gammaproteoba...\n",
      "k__Bacteria;p__Proteobacteria;c__Gammaproteobac...  k__Bacteria;p__Proteobacteria;c__Gammaproteoba...\n",
      "k__Bacteria;p__Proteobacteria;c__Gammaproteobac...  k__Bacteria;p__Proteobacteria;c__Gammaproteoba...\n",
      "k__Bacteria;p__Proteobacteria;c__Gammaproteobac...  k__Bacteria;p__Proteobacteria;c__Gammaproteoba...\n",
      "k__Bacteria;p__Proteobacteria;c__Gammaproteobac...  k__Bacteria;p__Proteobacteria;c__Gammaproteoba...\n",
      "k__Bacteria;p__Proteobacteria;c__Gammaproteobac...  k__Bacteria;p__Proteobacteria;c__Gammaproteoba...\n",
      "k__Bacteria;p__Proteobacteria;c__Gammaproteobac...  k__Bacteria;p__Proteobacteria;c__Gammaproteoba...\n",
      "k__Bacteria;p__Proteobacteria;c__Gammaproteobac...  k__Bacteria;p__Proteobacteria;c__Gammaproteoba...\n",
      "k__Bacteria;p__Proteobacteria;c__Gammaproteobac...  k__Bacteria;p__Proteobacteria;c__Gammaproteoba...\n",
      "k__Bacteria;p__Proteobacteria;c__Gammaproteobac...  k__Bacteria;p__Proteobacteria;c__Gammaproteoba...\n",
      "k__Bacteria;p__Proteobacteria;c__Gammaproteobac...  k__Bacteria;p__Proteobacteria;c__Gammaproteoba...\n",
      "k__Bacteria;p__Proteobacteria;c__Gammaproteobac...  k__Bacteria;p__Proteobacteria;c__Gammaproteoba...\n",
      "k__Bacteria;p__Proteobacteria;c__Gammaproteobac...  k__Bacteria;p__Proteobacteria;c__Gammaproteoba...\n",
      "k__Bacteria;p__Proteobacteria;c__Gammaproteobac...  k__Bacteria;p__Proteobacteria;c__Gammaproteoba...\n",
      "k__Bacteria;p__Spirochaetes;c__Spirochaetes;o__...  k__Bacteria;p__Spirochaetes;c__Spirochaetes;o_...\n",
      "k__Bacteria;p__Spirochaetes;c__Spirochaetes;o__...  k__Bacteria;p__Spirochaetes;c__Spirochaetes;o_...\n",
      "k__Bacteria;p__Synergistetes;c__Synergistia;o__...  k__Bacteria;p__Synergistetes;c__Synergistia;o_...\n",
      "k__Bacteria;p__Synergistetes;c__Synergistia;o__...  k__Bacteria;p__Synergistetes;c__Synergistia;o_...\n",
      "k__Bacteria;p__TM6;c__SJA-4;o__;f__;g__                       k__Bacteria;p__TM6;c__SJA-4;o__;f__;g__\n",
      "k__Bacteria;p__TM7;c__;o__;f__;g__                                 k__Bacteria;p__TM7;c__;o__;f__;g__\n",
      "k__Bacteria;p__TM7;c__TM7-1;o__;f__;g__                       k__Bacteria;p__TM7;c__TM7-1;o__;f__;g__\n",
      "k__Bacteria;p__TM7;c__TM7-3;o__;f__;g__                       k__Bacteria;p__TM7;c__TM7-3;o__;f__;g__\n",
      "k__Bacteria;p__TM7;c__TM7-3;o__I025;f__;g__               k__Bacteria;p__TM7;c__TM7-3;o__I025;f__;g__\n",
      "k__Bacteria;p__Tenericutes;c__Mollicutes;o__Ach...  k__Bacteria;p__Tenericutes;c__Mollicutes;o__Ac...\n",
      "k__Bacteria;p__Tenericutes;c__Mollicutes;o__Ach...  k__Bacteria;p__Tenericutes;c__Mollicutes;o__Ac...\n",
      "k__Bacteria;p__Tenericutes;c__Mollicutes;o__Ana...  k__Bacteria;p__Tenericutes;c__Mollicutes;o__An...\n",
      "k__Bacteria;p__Tenericutes;c__Mollicutes;o__Ana...  k__Bacteria;p__Tenericutes;c__Mollicutes;o__An...\n",
      "k__Bacteria;p__Tenericutes;c__Mollicutes;o__Ent...  k__Bacteria;p__Tenericutes;c__Mollicutes;o__En...\n",
      "k__Bacteria;p__Tenericutes;c__Mollicutes;o__RF3...  k__Bacteria;p__Tenericutes;c__Mollicutes;o__RF...\n",
      "k__Bacteria;p__Verrucomicrobia;c__Opitutae;o__;...  k__Bacteria;p__Verrucomicrobia;c__Opitutae;o__...\n",
      "k__Bacteria;p__Verrucomicrobia;c__Opitutae;o__O...  k__Bacteria;p__Verrucomicrobia;c__Opitutae;o__...\n",
      "k__Bacteria;p__Verrucomicrobia;c__Opitutae;o__O...  k__Bacteria;p__Verrucomicrobia;c__Opitutae;o__...\n",
      "k__Bacteria;p__Verrucomicrobia;c__Opitutae;o__P...  k__Bacteria;p__Verrucomicrobia;c__Opitutae;o__...\n",
      "k__Bacteria;p__Verrucomicrobia;c__Opitutae;o__[...  k__Bacteria;p__Verrucomicrobia;c__Opitutae;o__...\n",
      "k__Bacteria;p__Verrucomicrobia;c__Verrucomicrob...  k__Bacteria;p__Verrucomicrobia;c__Verrucomicro...\n",
      "k__Bacteria;p__Verrucomicrobia;c__Verrucomicrob...  k__Bacteria;p__Verrucomicrobia;c__Verrucomicro...\n",
      "k__Bacteria;p__Verrucomicrobia;c__Verrucomicrob...  k__Bacteria;p__Verrucomicrobia;c__Verrucomicro...\n",
      "k__Bacteria;p__Verrucomicrobia;c__Verrucomicrob...  k__Bacteria;p__Verrucomicrobia;c__Verrucomicro...\n",
      "k__Bacteria;p__Verrucomicrobia;c__[Spartobacter...  k__Bacteria;p__Verrucomicrobia;c__[Spartobacte...\n",
      "k__Bacteria;p__Verrucomicrobia;c__[Spartobacter...  k__Bacteria;p__Verrucomicrobia;c__[Spartobacte...\n",
      "k__Bacteria;p__Verrucomicrobia;c__[Spartobacter...  k__Bacteria;p__Verrucomicrobia;c__[Spartobacte...\n",
      "k__Bacteria;p__Verrucomicrobia;c__[Spartobacter...  k__Bacteria;p__Verrucomicrobia;c__[Spartobacte...\n",
      "k__Bacteria;p__Verrucomicrobia;c__[Spartobacter...  k__Bacteria;p__Verrucomicrobia;c__[Spartobacte...\n",
      "k__Bacteria;p__Verrucomicrobia;c__[Spartobacter...  k__Bacteria;p__Verrucomicrobia;c__[Spartobacte...\n",
      "k__Bacteria;p__WPS-2;c__;o__;f__;g__                             k__Bacteria;p__WPS-2;c__;o__;f__;g__\n",
      "k__Bacteria;p__[Thermi];c__Deinococci;o__Deinoc...  k__Bacteria;p__[Thermi];c__Deinococci;o__Deino...\n",
      "k__Bacteria;p__[Thermi];c__Deinococci;o__Deinoc...  k__Bacteria;p__[Thermi];c__Deinococci;o__Deino...\n",
      "k__Bacteria;p__[Thermi];c__Deinococci;o__Therma...  k__Bacteria;p__[Thermi];c__Deinococci;o__Therm...\n",
      "k__Bacteria;p__[Thermi];c__Deinococci;o__Therma...  k__Bacteria;p__[Thermi];c__Deinococci;o__Therm...\n"
     ]
    }
   ],
   "source": [
    "print(exp_L6.feature_metadata)"
   ]
  },
  {
   "cell_type": "markdown",
   "metadata": {},
   "source": [
    "## Running the L6 model"
   ]
  },
  {
   "cell_type": "code",
   "execution_count": 49,
   "metadata": {},
   "outputs": [],
   "source": [
    "# groupKfold = 6, will leave out one body for each model\n",
    "gkf = GroupKFold(6)\n",
    "\n",
    "X = exp_L6.data\n",
    "y = exp_L6.sample_metadata['ADD_0']\n",
    "y = (y.astype(float))\n",
    "\n",
    "groups = exp_L6.sample_metadata['host_subject_id']\n",
    "\n",
    "# used to test the param grid for parameter tuning\n",
    "# use the output of this estimator below for input into new estimator (not commented out)\n",
    "param_grid = {\"max_depth\": [4, 8, 16, None],\n",
    "              \"max_features\": ['sqrt', 'log2', 0.1],\n",
    "              \"min_samples_split\": [0.001, 0.01, 0.1],\n",
    "              \"min_weight_fraction_leaf\": [0.0001, 0.001, 0.01],\n",
    "              \"bootstrap\": [True, False]}\n",
    "\n",
    "#param_grid = {\"max_depth\": [8],\n",
    "#          \"max_features\": [0.1],\n",
    "#          \"min_samples_split\": [0.001],\n",
    "#          \"min_weight_fraction_leaf\": [0.0001],\n",
    "#          \"bootstrap\": [False]}\n",
    "\n",
    "rf = RandomForestRegressor(n_estimators=1000, random_state=999, criterion='mae')\n",
    "gs = GridSearchCV(rf, param_grid=param_grid, cv=gkf.split(X, y, groups), scoring='neg_mean_absolute_error', n_jobs=1)"
   ]
  },
  {
   "cell_type": "code",
   "execution_count": 50,
   "metadata": {},
   "outputs": [
    {
     "data": {
      "text/plain": [
       "GridSearchCV(cv=<generator object _BaseKFold.split at 0x11cb0c0d0>,\n",
       "             error_score=nan,\n",
       "             estimator=RandomForestRegressor(bootstrap=True, ccp_alpha=0.0,\n",
       "                                             criterion='mae', max_depth=None,\n",
       "                                             max_features='auto',\n",
       "                                             max_leaf_nodes=None,\n",
       "                                             max_samples=None,\n",
       "                                             min_impurity_decrease=0.0,\n",
       "                                             min_impurity_split=None,\n",
       "                                             min_samples_leaf=1,\n",
       "                                             min_samples_split=2,\n",
       "                                             min_weight_fraction_leaf=0.0,\n",
       "                                             n_es...\n",
       "                                             oob_score=False, random_state=999,\n",
       "                                             verbose=0, warm_start=False),\n",
       "             iid='deprecated', n_jobs=1,\n",
       "             param_grid={'bootstrap': [True, False],\n",
       "                         'max_depth': [4, 8, 16, None],\n",
       "                         'max_features': ['sqrt', 'log2', 0.1],\n",
       "                         'min_samples_split': [0.001, 0.01, 0.1],\n",
       "                         'min_weight_fraction_leaf': [0.0001, 0.001, 0.01]},\n",
       "             pre_dispatch='2*n_jobs', refit=True, return_train_score=False,\n",
       "             scoring='neg_mean_absolute_error', verbose=0)"
      ]
     },
     "execution_count": 50,
     "metadata": {},
     "output_type": "execute_result"
    }
   ],
   "source": [
    "gs.fit(X, y)"
   ]
  },
  {
   "cell_type": "code",
   "execution_count": 51,
   "metadata": {},
   "outputs": [
    {
     "name": "stdout",
     "output_type": "stream",
     "text": [
      "{'bootstrap': False, 'max_depth': None, 'max_features': 'log2', 'min_samples_split': 0.001, 'min_weight_fraction_leaf': 0.0001}\n"
     ]
    }
   ],
   "source": [
    "# this line is used when run with the first param grid to determine what the best parameters are for tuning\n",
    "print(gs.best_params_)"
   ]
  },
  {
   "cell_type": "code",
   "execution_count": 52,
   "metadata": {},
   "outputs": [
    {
     "name": "stdout",
     "output_type": "stream",
     "text": [
      "The best mean absolute error is 822.37\n"
     ]
    }
   ],
   "source": [
    "print('The best mean absolute error is', round(-gs.best_score_,2))"
   ]
  },
  {
   "cell_type": "code",
   "execution_count": 53,
   "metadata": {},
   "outputs": [
    {
     "data": {
      "text/plain": [
       "['models/bone_L6_no_metadata.pkl']"
      ]
     },
     "execution_count": 53,
     "metadata": {},
     "output_type": "execute_result"
    }
   ],
   "source": [
    "joblib.dump(gs.best_estimator_, 'models/bone_L6_no_metadata.pkl')"
   ]
  },
  {
   "cell_type": "code",
   "execution_count": 54,
   "metadata": {},
   "outputs": [
    {
     "data": {
      "text/plain": [
       "RandomForestRegressor(bootstrap=False, ccp_alpha=0.0, criterion='mae',\n",
       "                      max_depth=None, max_features='log2', max_leaf_nodes=None,\n",
       "                      max_samples=None, min_impurity_decrease=0.0,\n",
       "                      min_impurity_split=None, min_samples_leaf=1,\n",
       "                      min_samples_split=0.001, min_weight_fraction_leaf=0.0001,\n",
       "                      n_estimators=1000, n_jobs=None, oob_score=False,\n",
       "                      random_state=999, verbose=0, warm_start=False)"
      ]
     },
     "execution_count": 54,
     "metadata": {},
     "output_type": "execute_result"
    }
   ],
   "source": [
    "bone_L6 = joblib.load('models/bone_L6_no_metadata.pkl')\n",
    "bone_L6"
   ]
  },
  {
   "cell_type": "markdown",
   "metadata": {},
   "source": [
    "## Determine important features of the L6 model"
   ]
  },
  {
   "cell_type": "code",
   "execution_count": 56,
   "metadata": {},
   "outputs": [
    {
     "name": "stdout",
     "output_type": "stream",
     "text": [
      "Feature:\t\t\t\tImportance:\n",
      "1. k__Bacteria;p__Proteobacteria;c__Alphaproteobacteria;o__Rhodospirillales;f__Acetobacteraceae;g__Roseococcus\t0.015528772689147236\n",
      "2. k__Bacteria;p__Proteobacteria;c__Alphaproteobacteria;o__Rhizobiales;f__Phyllobacteriaceae;g__Defluvibacter\t0.013393542140540362\n",
      "3. k__Bacteria;p__Proteobacteria;c__Alphaproteobacteria;o__Caulobacterales;f__Caulobacteraceae;g__\t0.013042076094020482\n",
      "4. k__Bacteria;p__Bacteroidetes;c__Sphingobacteriia;o__Sphingobacteriales;f__Sphingobacteriaceae;g__Sphingobacterium\t0.011874595943150117\n",
      "5. k__Bacteria;p__Firmicutes;c__Bacilli;o__Bacillales;f__Bacillaceae;g__Bacillus\t0.010704978441390038\n",
      "6. k__Bacteria;p__Proteobacteria;c__Alphaproteobacteria;o__Rhizobiales;f__Phyllobacteriaceae;g__\t0.010626957220948597\n",
      "7. k__Bacteria;p__Actinobacteria;c__Actinobacteria;o__Actinomycetales;f__Nocardioidaceae;g__Aeromicrobium\t0.010534233195531099\n",
      "8. k__Bacteria;p__Proteobacteria;c__Alphaproteobacteria;o__Sphingomonadales;f__Sphingomonadaceae;g__Sphingomonas\t0.009327675763364693\n",
      "9. k__Bacteria;p__Proteobacteria;c__Alphaproteobacteria;o__Rhizobiales;f__Hyphomicrobiaceae;g__Rhodoplanes\t0.009298245714366615\n",
      "10. k__Bacteria;p__Actinobacteria;c__Actinobacteria;o__Actinomycetales;f__Corynebacteriaceae;g__Corynebacterium\t0.009278432016753024\n",
      "11. k__Bacteria;p__Proteobacteria;c__Alphaproteobacteria;o__Caulobacterales;f__Caulobacteraceae;g__Phenylobacterium\t0.009228775822902937\n",
      "12. k__Bacteria;p__Firmicutes;c__Clostridia;o__Clostridiales;f__Peptostreptococcaceae;g__Peptostreptococcus\t0.009109873378891995\n",
      "13. k__Bacteria;p__Actinobacteria;c__Actinobacteria;o__Actinomycetales;f__Promicromonosporaceae;g__Cellulosimicrobium\t0.009055030334719077\n",
      "14. k__Bacteria;p__Proteobacteria;c__Gammaproteobacteria;o__Xanthomonadales;f__Xanthomonadaceae;g__Stenotrophomonas\t0.008733836727679845\n",
      "15. k__Bacteria;p__Proteobacteria;c__Alphaproteobacteria;o__Rhizobiales;f__Hyphomicrobiaceae;g__Devosia\t0.008694899390138403\n",
      "16. k__Bacteria;p__Proteobacteria;c__Gammaproteobacteria;o__Pseudomonadales;f__Pseudomonadaceae;g__Pseudomonas\t0.008688473448366506\n",
      "17. k__Bacteria;p__Firmicutes;c__Bacilli;o__Bacillales;f__Planococcaceae;g__Sporosarcina\t0.008633520231896842\n",
      "18. k__Bacteria;p__Firmicutes;c__Clostridia;o__Clostridiales;f__[Tissierellaceae];g__Gallicola\t0.008509920784198767\n",
      "19. k__Bacteria;p__Proteobacteria;c__Alphaproteobacteria;o__Sphingomonadales;f__Sphingomonadaceae;g__Sphingopyxis\t0.008329793266594243\n",
      "20. k__Bacteria;p__Proteobacteria;c__Alphaproteobacteria;o__Rhizobiales;f__;g__\t0.007871806546262874\n",
      "21. k__Bacteria;p__Proteobacteria;c__Alphaproteobacteria;o__Sphingomonadales;f__Sphingomonadaceae;g__\t0.00777674876107565\n",
      "22. k__Bacteria;p__Bacteroidetes;c__Flavobacteriia;o__Flavobacteriales;f__Flavobacteriaceae;g__\t0.007766860517253596\n",
      "23. k__Bacteria;p__Proteobacteria;c__Alphaproteobacteria;o__Rhizobiales;f__Bradyrhizobiaceae;g__\t0.0076663828992731605\n",
      "24. k__Bacteria;p__Bacteroidetes;c__[Saprospirae];o__[Saprospirales];f__Chitinophagaceae;g__Chitinophaga\t0.007539617641693962\n",
      "25. k__Bacteria;p__Proteobacteria;c__Alphaproteobacteria;o__Rhizobiales;f__Hyphomicrobiaceae;g__\t0.007437424877202939\n"
     ]
    }
   ],
   "source": [
    "importances = bone_L6.feature_importances_\n",
    "std = np.std([tree.feature_importances_ for tree in bone_L6.estimators_],\n",
    "             axis=0)\n",
    "indices = np.argsort(importances)[::-1]\n",
    "\n",
    "feature_metadata = exp_L6.feature_metadata\n",
    "np.savetxt(\"importances/bone_L6_no_metadata_features.csv\", feature_metadata, delimiter=\",\", fmt='%s')\n",
    "\n",
    "\n",
    "#print the important ids in order\n",
    "general_importances = []\n",
    "count = 0\n",
    "print(\"Feature:\\t\\t\\t\\tImportance:\")\n",
    "for i in indices:\n",
    "    general_importances += (exp_L6.feature_metadata.index.values[i], importances[indices[count]])\n",
    "    if count < 25:\n",
    "        print(str(count+1)+\". \"+str(exp_L6.feature_metadata.index.values[i])+\"\\t\"+str(importances[indices[count]]))\n",
    "    count += 1\n",
    "    \n",
    "general_importances_df = pd.DataFrame(np.array(general_importances).reshape(1104,1))\n",
    "\n",
    "np.savetxt(\"importances/bone_L6_no_features_importances.csv\", general_importances_df, delimiter=\",\", fmt='%s')"
   ]
  },
  {
   "cell_type": "markdown",
   "metadata": {},
   "source": [
    "## Import rarefied table collapsed at L7"
   ]
  },
  {
   "cell_type": "code",
   "execution_count": 57,
   "metadata": {},
   "outputs": [
    {
     "name": "stdout",
     "output_type": "stream",
     "text": [
      "2020-06-26 15:00:40 WARNING These have metadata but do not have data - dropped (51): {'11553.CSU.extraction.blank1', '11553.BLANKrib.11E', '11553.BLANKrib.10D', '11553.CSU.extraction.blank10', '11553.BLANKrib.10G', '11553.CSU.extraction.blank8', '11553.BLANKrib.10B', '11553.CSU.extraction.blank6', '11553.BLANKrib.9A', '11553.BLANKrib.11G', '11553.CSU.extraction.blank5', '11553.BLANKrib.12F', '11553.BLANKrib.12H', '11553.BLANKrib.9B', '11553.CSU.extraction.blank7', '11553.SHSU.STAFS2016.011.L09', '11553.BLANKrib.11H', '11553.BLANKrib.10F', '11553.CSU.extraction.blank15', '11553.BLANKrib.5B', '11553.CSU.extraction.blank3', '11553.BLANKrib.9D', '11553.BLANKrib.9H', '11553.BLANKrib.9C', '11553.BLANKrib.12A', '11553.STAFS.2016.064.L12', '11553.BLANKrib.11D', '11553.CSU.extraction.blank13', '11553.CSU.extraction.blank14', '11553.CSU.extraction.blank12', '11553.BLANKrib.10A', '11553.CSU.extraction.blank11', '11553.BLANKrib.11C', '11553.BLANKrib.12G', '11553.BLANKrib.12E', '11553.CSU.extraction.blank9', '11553.BLANKrib.10H', '11553.SHSU.STAFS2016.007.R11', '11553.CSU.extraction.blank4', '11553.BLANKrib.10E', '11553.BLANKrib.10C', '11553.BLANKrib.9G', '11553.BLANKrib.9E', '11553.BLANKrib.12B', '11553.BLANKrib.11B', '11553.BLANKrib.12D', '11553.BLANKrib.12C', '11553.BLANKrib.11A', '11553.BLANKrib.9F', '11553.CSU.extraction.blank2', '11553.BLANKrib.11F'}\n"
     ]
    }
   ],
   "source": [
    "exp_L7 = ca.read_amplicon('/Users/heatherdeel/Dropbox/PMI_3_analyses/bone/01_16S/01_qiime2_analysis/feature_tables/collapsed_tables/frag_ins_noChloMito_17098_L7_table.biom', '../02_metadata/maps/map3.txt', min_reads=0, normalize = None)\n"
   ]
  },
  {
   "cell_type": "code",
   "execution_count": 58,
   "metadata": {},
   "outputs": [
    {
     "name": "stdout",
     "output_type": "stream",
     "text": [
      "                                                                                          _feature_id\n",
      "k__Archaea;p__Crenarchaeota;c__Thaumarchaeota;o...  k__Archaea;p__Crenarchaeota;c__Thaumarchaeota;...\n",
      "k__Archaea;p__Euryarchaeota;c__Methanobacteria;...  k__Archaea;p__Euryarchaeota;c__Methanobacteria...\n",
      "k__Bacteria;__;__;__;__;__;__                                           k__Bacteria;__;__;__;__;__;__\n",
      "k__Bacteria;p__Acidobacteria;c__DA052;o__Ellin6...  k__Bacteria;p__Acidobacteria;c__DA052;o__Ellin...\n",
      "k__Bacteria;p__Acidobacteria;c__Solibacteres;o_...  k__Bacteria;p__Acidobacteria;c__Solibacteres;o...\n",
      "k__Bacteria;p__Acidobacteria;c__[Chloracidobact...  k__Bacteria;p__Acidobacteria;c__[Chloracidobac...\n",
      "k__Bacteria;p__Acidobacteria;c__[Chloracidobact...  k__Bacteria;p__Acidobacteria;c__[Chloracidobac...\n",
      "k__Bacteria;p__Actinobacteria;c__Acidimicrobiia...  k__Bacteria;p__Actinobacteria;c__Acidimicrobii...\n",
      "k__Bacteria;p__Actinobacteria;c__Acidimicrobiia...  k__Bacteria;p__Actinobacteria;c__Acidimicrobii...\n",
      "k__Bacteria;p__Actinobacteria;c__Acidimicrobiia...  k__Bacteria;p__Actinobacteria;c__Acidimicrobii...\n",
      "k__Bacteria;p__Actinobacteria;c__Acidimicrobiia...  k__Bacteria;p__Actinobacteria;c__Acidimicrobii...\n",
      "k__Bacteria;p__Actinobacteria;c__Acidimicrobiia...  k__Bacteria;p__Actinobacteria;c__Acidimicrobii...\n",
      "k__Bacteria;p__Actinobacteria;c__Actinobacteria...  k__Bacteria;p__Actinobacteria;c__Actinobacteri...\n",
      "k__Bacteria;p__Actinobacteria;c__Actinobacteria...  k__Bacteria;p__Actinobacteria;c__Actinobacteri...\n",
      "k__Bacteria;p__Actinobacteria;c__Actinobacteria...  k__Bacteria;p__Actinobacteria;c__Actinobacteri...\n",
      "k__Bacteria;p__Actinobacteria;c__Actinobacteria...  k__Bacteria;p__Actinobacteria;c__Actinobacteri...\n",
      "k__Bacteria;p__Actinobacteria;c__Actinobacteria...  k__Bacteria;p__Actinobacteria;c__Actinobacteri...\n",
      "k__Bacteria;p__Actinobacteria;c__Actinobacteria...  k__Bacteria;p__Actinobacteria;c__Actinobacteri...\n",
      "k__Bacteria;p__Actinobacteria;c__Actinobacteria...  k__Bacteria;p__Actinobacteria;c__Actinobacteri...\n",
      "k__Bacteria;p__Actinobacteria;c__Actinobacteria...  k__Bacteria;p__Actinobacteria;c__Actinobacteri...\n",
      "k__Bacteria;p__Actinobacteria;c__Actinobacteria...  k__Bacteria;p__Actinobacteria;c__Actinobacteri...\n",
      "k__Bacteria;p__Actinobacteria;c__Actinobacteria...  k__Bacteria;p__Actinobacteria;c__Actinobacteri...\n",
      "k__Bacteria;p__Actinobacteria;c__Actinobacteria...  k__Bacteria;p__Actinobacteria;c__Actinobacteri...\n",
      "k__Bacteria;p__Actinobacteria;c__Actinobacteria...  k__Bacteria;p__Actinobacteria;c__Actinobacteri...\n",
      "k__Bacteria;p__Actinobacteria;c__Actinobacteria...  k__Bacteria;p__Actinobacteria;c__Actinobacteri...\n",
      "k__Bacteria;p__Actinobacteria;c__Actinobacteria...  k__Bacteria;p__Actinobacteria;c__Actinobacteri...\n",
      "k__Bacteria;p__Actinobacteria;c__Actinobacteria...  k__Bacteria;p__Actinobacteria;c__Actinobacteri...\n",
      "k__Bacteria;p__Actinobacteria;c__Actinobacteria...  k__Bacteria;p__Actinobacteria;c__Actinobacteri...\n",
      "k__Bacteria;p__Actinobacteria;c__Actinobacteria...  k__Bacteria;p__Actinobacteria;c__Actinobacteri...\n",
      "k__Bacteria;p__Actinobacteria;c__Actinobacteria...  k__Bacteria;p__Actinobacteria;c__Actinobacteri...\n",
      "k__Bacteria;p__Actinobacteria;c__Actinobacteria...  k__Bacteria;p__Actinobacteria;c__Actinobacteri...\n",
      "k__Bacteria;p__Actinobacteria;c__Actinobacteria...  k__Bacteria;p__Actinobacteria;c__Actinobacteri...\n",
      "k__Bacteria;p__Actinobacteria;c__Actinobacteria...  k__Bacteria;p__Actinobacteria;c__Actinobacteri...\n",
      "k__Bacteria;p__Actinobacteria;c__Actinobacteria...  k__Bacteria;p__Actinobacteria;c__Actinobacteri...\n",
      "k__Bacteria;p__Actinobacteria;c__Actinobacteria...  k__Bacteria;p__Actinobacteria;c__Actinobacteri...\n",
      "k__Bacteria;p__Actinobacteria;c__Actinobacteria...  k__Bacteria;p__Actinobacteria;c__Actinobacteri...\n",
      "k__Bacteria;p__Actinobacteria;c__Actinobacteria...  k__Bacteria;p__Actinobacteria;c__Actinobacteri...\n",
      "k__Bacteria;p__Actinobacteria;c__Actinobacteria...  k__Bacteria;p__Actinobacteria;c__Actinobacteri...\n",
      "k__Bacteria;p__Actinobacteria;c__Actinobacteria...  k__Bacteria;p__Actinobacteria;c__Actinobacteri...\n",
      "k__Bacteria;p__Actinobacteria;c__Actinobacteria...  k__Bacteria;p__Actinobacteria;c__Actinobacteri...\n",
      "k__Bacteria;p__Actinobacteria;c__Actinobacteria...  k__Bacteria;p__Actinobacteria;c__Actinobacteri...\n",
      "k__Bacteria;p__Actinobacteria;c__Actinobacteria...  k__Bacteria;p__Actinobacteria;c__Actinobacteri...\n",
      "k__Bacteria;p__Actinobacteria;c__Actinobacteria...  k__Bacteria;p__Actinobacteria;c__Actinobacteri...\n",
      "k__Bacteria;p__Actinobacteria;c__Actinobacteria...  k__Bacteria;p__Actinobacteria;c__Actinobacteri...\n",
      "k__Bacteria;p__Actinobacteria;c__Actinobacteria...  k__Bacteria;p__Actinobacteria;c__Actinobacteri...\n",
      "k__Bacteria;p__Actinobacteria;c__Actinobacteria...  k__Bacteria;p__Actinobacteria;c__Actinobacteri...\n",
      "k__Bacteria;p__Actinobacteria;c__Actinobacteria...  k__Bacteria;p__Actinobacteria;c__Actinobacteri...\n",
      "k__Bacteria;p__Actinobacteria;c__Actinobacteria...  k__Bacteria;p__Actinobacteria;c__Actinobacteri...\n",
      "k__Bacteria;p__Actinobacteria;c__Actinobacteria...  k__Bacteria;p__Actinobacteria;c__Actinobacteri...\n",
      "k__Bacteria;p__Actinobacteria;c__Actinobacteria...  k__Bacteria;p__Actinobacteria;c__Actinobacteri...\n",
      "k__Bacteria;p__Actinobacteria;c__Actinobacteria...  k__Bacteria;p__Actinobacteria;c__Actinobacteri...\n",
      "k__Bacteria;p__Actinobacteria;c__Actinobacteria...  k__Bacteria;p__Actinobacteria;c__Actinobacteri...\n",
      "k__Bacteria;p__Actinobacteria;c__Actinobacteria...  k__Bacteria;p__Actinobacteria;c__Actinobacteri...\n",
      "k__Bacteria;p__Actinobacteria;c__Actinobacteria...  k__Bacteria;p__Actinobacteria;c__Actinobacteri...\n",
      "k__Bacteria;p__Actinobacteria;c__Actinobacteria...  k__Bacteria;p__Actinobacteria;c__Actinobacteri...\n",
      "k__Bacteria;p__Actinobacteria;c__Actinobacteria...  k__Bacteria;p__Actinobacteria;c__Actinobacteri...\n",
      "k__Bacteria;p__Actinobacteria;c__Actinobacteria...  k__Bacteria;p__Actinobacteria;c__Actinobacteri...\n",
      "k__Bacteria;p__Actinobacteria;c__Actinobacteria...  k__Bacteria;p__Actinobacteria;c__Actinobacteri...\n",
      "k__Bacteria;p__Actinobacteria;c__Actinobacteria...  k__Bacteria;p__Actinobacteria;c__Actinobacteri...\n",
      "k__Bacteria;p__Actinobacteria;c__Actinobacteria...  k__Bacteria;p__Actinobacteria;c__Actinobacteri...\n",
      "k__Bacteria;p__Actinobacteria;c__Actinobacteria...  k__Bacteria;p__Actinobacteria;c__Actinobacteri...\n",
      "k__Bacteria;p__Actinobacteria;c__Actinobacteria...  k__Bacteria;p__Actinobacteria;c__Actinobacteri...\n",
      "k__Bacteria;p__Actinobacteria;c__Actinobacteria...  k__Bacteria;p__Actinobacteria;c__Actinobacteri...\n",
      "k__Bacteria;p__Actinobacteria;c__Actinobacteria...  k__Bacteria;p__Actinobacteria;c__Actinobacteri...\n",
      "k__Bacteria;p__Actinobacteria;c__Actinobacteria...  k__Bacteria;p__Actinobacteria;c__Actinobacteri...\n",
      "k__Bacteria;p__Actinobacteria;c__Actinobacteria...  k__Bacteria;p__Actinobacteria;c__Actinobacteri...\n",
      "k__Bacteria;p__Actinobacteria;c__Actinobacteria...  k__Bacteria;p__Actinobacteria;c__Actinobacteri...\n",
      "k__Bacteria;p__Actinobacteria;c__Actinobacteria...  k__Bacteria;p__Actinobacteria;c__Actinobacteri...\n",
      "k__Bacteria;p__Actinobacteria;c__Actinobacteria...  k__Bacteria;p__Actinobacteria;c__Actinobacteri...\n",
      "k__Bacteria;p__Actinobacteria;c__Actinobacteria...  k__Bacteria;p__Actinobacteria;c__Actinobacteri...\n",
      "k__Bacteria;p__Actinobacteria;c__Actinobacteria...  k__Bacteria;p__Actinobacteria;c__Actinobacteri...\n",
      "k__Bacteria;p__Actinobacteria;c__Actinobacteria...  k__Bacteria;p__Actinobacteria;c__Actinobacteri...\n",
      "k__Bacteria;p__Actinobacteria;c__Actinobacteria...  k__Bacteria;p__Actinobacteria;c__Actinobacteri...\n",
      "k__Bacteria;p__Actinobacteria;c__Actinobacteria...  k__Bacteria;p__Actinobacteria;c__Actinobacteri...\n",
      "k__Bacteria;p__Actinobacteria;c__Actinobacteria...  k__Bacteria;p__Actinobacteria;c__Actinobacteri...\n",
      "k__Bacteria;p__Actinobacteria;c__Actinobacteria...  k__Bacteria;p__Actinobacteria;c__Actinobacteri...\n",
      "k__Bacteria;p__Actinobacteria;c__Actinobacteria...  k__Bacteria;p__Actinobacteria;c__Actinobacteri...\n",
      "k__Bacteria;p__Actinobacteria;c__Actinobacteria...  k__Bacteria;p__Actinobacteria;c__Actinobacteri...\n",
      "k__Bacteria;p__Actinobacteria;c__Actinobacteria...  k__Bacteria;p__Actinobacteria;c__Actinobacteri...\n",
      "k__Bacteria;p__Actinobacteria;c__Actinobacteria...  k__Bacteria;p__Actinobacteria;c__Actinobacteri...\n",
      "k__Bacteria;p__Actinobacteria;c__Actinobacteria...  k__Bacteria;p__Actinobacteria;c__Actinobacteri...\n",
      "k__Bacteria;p__Actinobacteria;c__Actinobacteria...  k__Bacteria;p__Actinobacteria;c__Actinobacteri...\n",
      "k__Bacteria;p__Actinobacteria;c__Actinobacteria...  k__Bacteria;p__Actinobacteria;c__Actinobacteri...\n",
      "k__Bacteria;p__Actinobacteria;c__Actinobacteria...  k__Bacteria;p__Actinobacteria;c__Actinobacteri...\n",
      "k__Bacteria;p__Actinobacteria;c__Actinobacteria...  k__Bacteria;p__Actinobacteria;c__Actinobacteri...\n",
      "k__Bacteria;p__Actinobacteria;c__Actinobacteria...  k__Bacteria;p__Actinobacteria;c__Actinobacteri...\n",
      "k__Bacteria;p__Actinobacteria;c__Actinobacteria...  k__Bacteria;p__Actinobacteria;c__Actinobacteri...\n",
      "k__Bacteria;p__Actinobacteria;c__Actinobacteria...  k__Bacteria;p__Actinobacteria;c__Actinobacteri...\n",
      "k__Bacteria;p__Actinobacteria;c__Actinobacteria...  k__Bacteria;p__Actinobacteria;c__Actinobacteri...\n",
      "k__Bacteria;p__Actinobacteria;c__Actinobacteria...  k__Bacteria;p__Actinobacteria;c__Actinobacteri...\n",
      "k__Bacteria;p__Actinobacteria;c__Actinobacteria...  k__Bacteria;p__Actinobacteria;c__Actinobacteri...\n",
      "k__Bacteria;p__Actinobacteria;c__Actinobacteria...  k__Bacteria;p__Actinobacteria;c__Actinobacteri...\n",
      "k__Bacteria;p__Actinobacteria;c__Actinobacteria...  k__Bacteria;p__Actinobacteria;c__Actinobacteri...\n",
      "k__Bacteria;p__Actinobacteria;c__Actinobacteria...  k__Bacteria;p__Actinobacteria;c__Actinobacteri...\n",
      "k__Bacteria;p__Actinobacteria;c__Actinobacteria...  k__Bacteria;p__Actinobacteria;c__Actinobacteri...\n",
      "k__Bacteria;p__Actinobacteria;c__Actinobacteria...  k__Bacteria;p__Actinobacteria;c__Actinobacteri...\n",
      "k__Bacteria;p__Actinobacteria;c__Actinobacteria...  k__Bacteria;p__Actinobacteria;c__Actinobacteri...\n",
      "k__Bacteria;p__Actinobacteria;c__Actinobacteria...  k__Bacteria;p__Actinobacteria;c__Actinobacteri...\n",
      "k__Bacteria;p__Actinobacteria;c__Actinobacteria...  k__Bacteria;p__Actinobacteria;c__Actinobacteri...\n",
      "k__Bacteria;p__Actinobacteria;c__Actinobacteria...  k__Bacteria;p__Actinobacteria;c__Actinobacteri...\n",
      "k__Bacteria;p__Actinobacteria;c__Coriobacteriia...  k__Bacteria;p__Actinobacteria;c__Coriobacterii...\n",
      "k__Bacteria;p__Actinobacteria;c__Coriobacteriia...  k__Bacteria;p__Actinobacteria;c__Coriobacterii...\n",
      "k__Bacteria;p__Actinobacteria;c__Coriobacteriia...  k__Bacteria;p__Actinobacteria;c__Coriobacterii...\n",
      "k__Bacteria;p__Actinobacteria;c__Rubrobacteria;...  k__Bacteria;p__Actinobacteria;c__Rubrobacteria...\n",
      "k__Bacteria;p__Actinobacteria;c__Thermoleophili...  k__Bacteria;p__Actinobacteria;c__Thermoleophil...\n",
      "k__Bacteria;p__Actinobacteria;c__Thermoleophili...  k__Bacteria;p__Actinobacteria;c__Thermoleophil...\n",
      "k__Bacteria;p__Actinobacteria;c__Thermoleophili...  k__Bacteria;p__Actinobacteria;c__Thermoleophil...\n",
      "k__Bacteria;p__Actinobacteria;c__Thermoleophili...  k__Bacteria;p__Actinobacteria;c__Thermoleophil...\n",
      "k__Bacteria;p__Actinobacteria;c__Thermoleophili...  k__Bacteria;p__Actinobacteria;c__Thermoleophil...\n",
      "k__Bacteria;p__Actinobacteria;c__Thermoleophili...  k__Bacteria;p__Actinobacteria;c__Thermoleophil...\n",
      "k__Bacteria;p__Actinobacteria;c__Thermoleophili...  k__Bacteria;p__Actinobacteria;c__Thermoleophil...\n",
      "k__Bacteria;p__Armatimonadetes;c__Armatimonadia...  k__Bacteria;p__Armatimonadetes;c__Armatimonadi...\n",
      "k__Bacteria;p__Armatimonadetes;c__SHA-37;o__;f_...  k__Bacteria;p__Armatimonadetes;c__SHA-37;o__;f...\n",
      "k__Bacteria;p__Armatimonadetes;c__SJA-176;o__GA...  k__Bacteria;p__Armatimonadetes;c__SJA-176;o__G...\n",
      "k__Bacteria;p__Armatimonadetes;c__[Fimbriimonad...  k__Bacteria;p__Armatimonadetes;c__[Fimbriimona...\n",
      "k__Bacteria;p__Armatimonadetes;c__[Fimbriimonad...  k__Bacteria;p__Armatimonadetes;c__[Fimbriimona...\n",
      "k__Bacteria;p__BRC1;c__PRR-11;o__;f__;g__;s__           k__Bacteria;p__BRC1;c__PRR-11;o__;f__;g__;s__\n",
      "k__Bacteria;p__Bacteroidetes;c__Bacteroidia;o__...  k__Bacteria;p__Bacteroidetes;c__Bacteroidia;o_...\n",
      "k__Bacteria;p__Bacteroidetes;c__Bacteroidia;o__...  k__Bacteria;p__Bacteroidetes;c__Bacteroidia;o_...\n",
      "k__Bacteria;p__Bacteroidetes;c__Bacteroidia;o__...  k__Bacteria;p__Bacteroidetes;c__Bacteroidia;o_...\n",
      "k__Bacteria;p__Bacteroidetes;c__Bacteroidia;o__...  k__Bacteria;p__Bacteroidetes;c__Bacteroidia;o_...\n",
      "k__Bacteria;p__Bacteroidetes;c__Bacteroidia;o__...  k__Bacteria;p__Bacteroidetes;c__Bacteroidia;o_...\n",
      "k__Bacteria;p__Bacteroidetes;c__Bacteroidia;o__...  k__Bacteria;p__Bacteroidetes;c__Bacteroidia;o_...\n",
      "k__Bacteria;p__Bacteroidetes;c__Bacteroidia;o__...  k__Bacteria;p__Bacteroidetes;c__Bacteroidia;o_...\n",
      "k__Bacteria;p__Bacteroidetes;c__Bacteroidia;o__...  k__Bacteria;p__Bacteroidetes;c__Bacteroidia;o_...\n",
      "k__Bacteria;p__Bacteroidetes;c__Bacteroidia;o__...  k__Bacteria;p__Bacteroidetes;c__Bacteroidia;o_...\n",
      "k__Bacteria;p__Bacteroidetes;c__Bacteroidia;o__...  k__Bacteria;p__Bacteroidetes;c__Bacteroidia;o_...\n",
      "k__Bacteria;p__Bacteroidetes;c__Bacteroidia;o__...  k__Bacteria;p__Bacteroidetes;c__Bacteroidia;o_...\n",
      "k__Bacteria;p__Bacteroidetes;c__Bacteroidia;o__...  k__Bacteria;p__Bacteroidetes;c__Bacteroidia;o_...\n",
      "k__Bacteria;p__Bacteroidetes;c__Bacteroidia;o__...  k__Bacteria;p__Bacteroidetes;c__Bacteroidia;o_...\n",
      "k__Bacteria;p__Bacteroidetes;c__Bacteroidia;o__...  k__Bacteria;p__Bacteroidetes;c__Bacteroidia;o_...\n",
      "k__Bacteria;p__Bacteroidetes;c__Bacteroidia;o__...  k__Bacteria;p__Bacteroidetes;c__Bacteroidia;o_...\n",
      "k__Bacteria;p__Bacteroidetes;c__Bacteroidia;o__...  k__Bacteria;p__Bacteroidetes;c__Bacteroidia;o_...\n",
      "k__Bacteria;p__Bacteroidetes;c__Bacteroidia;o__...  k__Bacteria;p__Bacteroidetes;c__Bacteroidia;o_...\n",
      "k__Bacteria;p__Bacteroidetes;c__Bacteroidia;o__...  k__Bacteria;p__Bacteroidetes;c__Bacteroidia;o_...\n",
      "k__Bacteria;p__Bacteroidetes;c__Bacteroidia;o__...  k__Bacteria;p__Bacteroidetes;c__Bacteroidia;o_...\n",
      "k__Bacteria;p__Bacteroidetes;c__Bacteroidia;o__...  k__Bacteria;p__Bacteroidetes;c__Bacteroidia;o_...\n",
      "k__Bacteria;p__Bacteroidetes;c__Bacteroidia;o__...  k__Bacteria;p__Bacteroidetes;c__Bacteroidia;o_...\n",
      "k__Bacteria;p__Bacteroidetes;c__Bacteroidia;o__...  k__Bacteria;p__Bacteroidetes;c__Bacteroidia;o_...\n",
      "k__Bacteria;p__Bacteroidetes;c__Bacteroidia;o__...  k__Bacteria;p__Bacteroidetes;c__Bacteroidia;o_...\n",
      "k__Bacteria;p__Bacteroidetes;c__Bacteroidia;o__...  k__Bacteria;p__Bacteroidetes;c__Bacteroidia;o_...\n",
      "k__Bacteria;p__Bacteroidetes;c__Bacteroidia;o__...  k__Bacteria;p__Bacteroidetes;c__Bacteroidia;o_...\n",
      "k__Bacteria;p__Bacteroidetes;c__Cytophagia;o__C...  k__Bacteria;p__Bacteroidetes;c__Cytophagia;o__...\n",
      "k__Bacteria;p__Bacteroidetes;c__Cytophagia;o__C...  k__Bacteria;p__Bacteroidetes;c__Cytophagia;o__...\n",
      "k__Bacteria;p__Bacteroidetes;c__Cytophagia;o__C...  k__Bacteria;p__Bacteroidetes;c__Cytophagia;o__...\n",
      "k__Bacteria;p__Bacteroidetes;c__Cytophagia;o__C...  k__Bacteria;p__Bacteroidetes;c__Cytophagia;o__...\n",
      "k__Bacteria;p__Bacteroidetes;c__Cytophagia;o__C...  k__Bacteria;p__Bacteroidetes;c__Cytophagia;o__...\n",
      "k__Bacteria;p__Bacteroidetes;c__Cytophagia;o__C...  k__Bacteria;p__Bacteroidetes;c__Cytophagia;o__...\n",
      "k__Bacteria;p__Bacteroidetes;c__Cytophagia;o__C...  k__Bacteria;p__Bacteroidetes;c__Cytophagia;o__...\n",
      "k__Bacteria;p__Bacteroidetes;c__Cytophagia;o__C...  k__Bacteria;p__Bacteroidetes;c__Cytophagia;o__...\n",
      "k__Bacteria;p__Bacteroidetes;c__Cytophagia;o__C...  k__Bacteria;p__Bacteroidetes;c__Cytophagia;o__...\n",
      "k__Bacteria;p__Bacteroidetes;c__Cytophagia;o__C...  k__Bacteria;p__Bacteroidetes;c__Cytophagia;o__...\n",
      "k__Bacteria;p__Bacteroidetes;c__Flavobacteriia;...  k__Bacteria;p__Bacteroidetes;c__Flavobacteriia...\n",
      "k__Bacteria;p__Bacteroidetes;c__Flavobacteriia;...  k__Bacteria;p__Bacteroidetes;c__Flavobacteriia...\n",
      "k__Bacteria;p__Bacteroidetes;c__Flavobacteriia;...  k__Bacteria;p__Bacteroidetes;c__Flavobacteriia...\n",
      "k__Bacteria;p__Bacteroidetes;c__Flavobacteriia;...  k__Bacteria;p__Bacteroidetes;c__Flavobacteriia...\n",
      "k__Bacteria;p__Bacteroidetes;c__Flavobacteriia;...  k__Bacteria;p__Bacteroidetes;c__Flavobacteriia...\n",
      "k__Bacteria;p__Bacteroidetes;c__Flavobacteriia;...  k__Bacteria;p__Bacteroidetes;c__Flavobacteriia...\n",
      "k__Bacteria;p__Bacteroidetes;c__Flavobacteriia;...  k__Bacteria;p__Bacteroidetes;c__Flavobacteriia...\n",
      "k__Bacteria;p__Bacteroidetes;c__Flavobacteriia;...  k__Bacteria;p__Bacteroidetes;c__Flavobacteriia...\n",
      "k__Bacteria;p__Bacteroidetes;c__Flavobacteriia;...  k__Bacteria;p__Bacteroidetes;c__Flavobacteriia...\n",
      "k__Bacteria;p__Bacteroidetes;c__Flavobacteriia;...  k__Bacteria;p__Bacteroidetes;c__Flavobacteriia...\n",
      "k__Bacteria;p__Bacteroidetes;c__Flavobacteriia;...  k__Bacteria;p__Bacteroidetes;c__Flavobacteriia...\n",
      "k__Bacteria;p__Bacteroidetes;c__Flavobacteriia;...  k__Bacteria;p__Bacteroidetes;c__Flavobacteriia...\n",
      "k__Bacteria;p__Bacteroidetes;c__Flavobacteriia;...  k__Bacteria;p__Bacteroidetes;c__Flavobacteriia...\n",
      "k__Bacteria;p__Bacteroidetes;c__Flavobacteriia;...  k__Bacteria;p__Bacteroidetes;c__Flavobacteriia...\n",
      "k__Bacteria;p__Bacteroidetes;c__Flavobacteriia;...  k__Bacteria;p__Bacteroidetes;c__Flavobacteriia...\n",
      "k__Bacteria;p__Bacteroidetes;c__Flavobacteriia;...  k__Bacteria;p__Bacteroidetes;c__Flavobacteriia...\n",
      "k__Bacteria;p__Bacteroidetes;c__Flavobacteriia;...  k__Bacteria;p__Bacteroidetes;c__Flavobacteriia...\n",
      "k__Bacteria;p__Bacteroidetes;c__Flavobacteriia;...  k__Bacteria;p__Bacteroidetes;c__Flavobacteriia...\n",
      "k__Bacteria;p__Bacteroidetes;c__Sphingobacterii...  k__Bacteria;p__Bacteroidetes;c__Sphingobacteri...\n",
      "k__Bacteria;p__Bacteroidetes;c__Sphingobacterii...  k__Bacteria;p__Bacteroidetes;c__Sphingobacteri...\n",
      "k__Bacteria;p__Bacteroidetes;c__Sphingobacterii...  k__Bacteria;p__Bacteroidetes;c__Sphingobacteri...\n",
      "k__Bacteria;p__Bacteroidetes;c__Sphingobacterii...  k__Bacteria;p__Bacteroidetes;c__Sphingobacteri...\n",
      "k__Bacteria;p__Bacteroidetes;c__Sphingobacterii...  k__Bacteria;p__Bacteroidetes;c__Sphingobacteri...\n",
      "k__Bacteria;p__Bacteroidetes;c__Sphingobacterii...  k__Bacteria;p__Bacteroidetes;c__Sphingobacteri...\n",
      "k__Bacteria;p__Bacteroidetes;c__Sphingobacterii...  k__Bacteria;p__Bacteroidetes;c__Sphingobacteri...\n",
      "k__Bacteria;p__Bacteroidetes;c__Sphingobacterii...  k__Bacteria;p__Bacteroidetes;c__Sphingobacteri...\n",
      "k__Bacteria;p__Bacteroidetes;c__Sphingobacterii...  k__Bacteria;p__Bacteroidetes;c__Sphingobacteri...\n",
      "k__Bacteria;p__Bacteroidetes;c__Sphingobacterii...  k__Bacteria;p__Bacteroidetes;c__Sphingobacteri...\n",
      "k__Bacteria;p__Bacteroidetes;c__[Saprospirae];o...  k__Bacteria;p__Bacteroidetes;c__[Saprospirae];...\n",
      "k__Bacteria;p__Bacteroidetes;c__[Saprospirae];o...  k__Bacteria;p__Bacteroidetes;c__[Saprospirae];...\n",
      "k__Bacteria;p__Bacteroidetes;c__[Saprospirae];o...  k__Bacteria;p__Bacteroidetes;c__[Saprospirae];...\n",
      "k__Bacteria;p__Bacteroidetes;c__[Saprospirae];o...  k__Bacteria;p__Bacteroidetes;c__[Saprospirae];...\n",
      "k__Bacteria;p__Bacteroidetes;c__[Saprospirae];o...  k__Bacteria;p__Bacteroidetes;c__[Saprospirae];...\n",
      "k__Bacteria;p__Bacteroidetes;c__[Saprospirae];o...  k__Bacteria;p__Bacteroidetes;c__[Saprospirae];...\n",
      "k__Bacteria;p__Bacteroidetes;c__[Saprospirae];o...  k__Bacteria;p__Bacteroidetes;c__[Saprospirae];...\n",
      "k__Bacteria;p__Bacteroidetes;c__[Saprospirae];o...  k__Bacteria;p__Bacteroidetes;c__[Saprospirae];...\n",
      "k__Bacteria;p__Bacteroidetes;c__[Saprospirae];o...  k__Bacteria;p__Bacteroidetes;c__[Saprospirae];...\n",
      "k__Bacteria;p__Bacteroidetes;c__[Saprospirae];o...  k__Bacteria;p__Bacteroidetes;c__[Saprospirae];...\n",
      "k__Bacteria;p__Bacteroidetes;c__[Saprospirae];o...  k__Bacteria;p__Bacteroidetes;c__[Saprospirae];...\n",
      "k__Bacteria;p__Chlorobi;c__OPB56;o__;f__;g__;s__     k__Bacteria;p__Chlorobi;c__OPB56;o__;f__;g__;s__\n",
      "k__Bacteria;p__Chloroflexi;c__Chloroflexi;o__AK...  k__Bacteria;p__Chloroflexi;c__Chloroflexi;o__A...\n",
      "k__Bacteria;p__Chloroflexi;c__Ellin6529;o__;f__...  k__Bacteria;p__Chloroflexi;c__Ellin6529;o__;f_...\n",
      "k__Bacteria;p__Chloroflexi;c__Thermomicrobia;o_...  k__Bacteria;p__Chloroflexi;c__Thermomicrobia;o...\n",
      "k__Bacteria;p__Chloroflexi;c__Thermomicrobia;o_...  k__Bacteria;p__Chloroflexi;c__Thermomicrobia;o...\n",
      "k__Bacteria;p__Cyanobacteria;c__4C0d-2;o__SM1D1...  k__Bacteria;p__Cyanobacteria;c__4C0d-2;o__SM1D...\n",
      "k__Bacteria;p__Cyanobacteria;c__4C0d-2;o__YS2;f...  k__Bacteria;p__Cyanobacteria;c__4C0d-2;o__YS2;...\n",
      "k__Bacteria;p__Cyanobacteria;c__ML635J-21;o__;f...  k__Bacteria;p__Cyanobacteria;c__ML635J-21;o__;...\n",
      "k__Bacteria;p__Cyanobacteria;c__Oscillatoriophy...  k__Bacteria;p__Cyanobacteria;c__Oscillatorioph...\n",
      "k__Bacteria;p__Deferribacteres;c__Deferribacter...  k__Bacteria;p__Deferribacteres;c__Deferribacte...\n",
      "k__Bacteria;p__Deferribacteres;c__Deferribacter...  k__Bacteria;p__Deferribacteres;c__Deferribacte...\n",
      "k__Bacteria;p__FBP;c__;o__;f__;g__;s__                         k__Bacteria;p__FBP;c__;o__;f__;g__;s__\n",
      "k__Bacteria;p__Firmicutes;c__AHT28;o__;f__;g__;s__  k__Bacteria;p__Firmicutes;c__AHT28;o__;f__;g__...\n",
      "k__Bacteria;p__Firmicutes;c__Bacilli;o__Bacilla...  k__Bacteria;p__Firmicutes;c__Bacilli;o__Bacill...\n",
      "k__Bacteria;p__Firmicutes;c__Bacilli;o__Bacilla...  k__Bacteria;p__Firmicutes;c__Bacilli;o__Bacill...\n",
      "k__Bacteria;p__Firmicutes;c__Bacilli;o__Bacilla...  k__Bacteria;p__Firmicutes;c__Bacilli;o__Bacill...\n",
      "k__Bacteria;p__Firmicutes;c__Bacilli;o__Bacilla...  k__Bacteria;p__Firmicutes;c__Bacilli;o__Bacill...\n",
      "k__Bacteria;p__Firmicutes;c__Bacilli;o__Bacilla...  k__Bacteria;p__Firmicutes;c__Bacilli;o__Bacill...\n",
      "k__Bacteria;p__Firmicutes;c__Bacilli;o__Bacilla...  k__Bacteria;p__Firmicutes;c__Bacilli;o__Bacill...\n",
      "k__Bacteria;p__Firmicutes;c__Bacilli;o__Bacilla...  k__Bacteria;p__Firmicutes;c__Bacilli;o__Bacill...\n",
      "k__Bacteria;p__Firmicutes;c__Bacilli;o__Bacilla...  k__Bacteria;p__Firmicutes;c__Bacilli;o__Bacill...\n",
      "k__Bacteria;p__Firmicutes;c__Bacilli;o__Bacilla...  k__Bacteria;p__Firmicutes;c__Bacilli;o__Bacill...\n",
      "k__Bacteria;p__Firmicutes;c__Bacilli;o__Bacilla...  k__Bacteria;p__Firmicutes;c__Bacilli;o__Bacill...\n",
      "k__Bacteria;p__Firmicutes;c__Bacilli;o__Bacilla...  k__Bacteria;p__Firmicutes;c__Bacilli;o__Bacill...\n",
      "k__Bacteria;p__Firmicutes;c__Bacilli;o__Bacilla...  k__Bacteria;p__Firmicutes;c__Bacilli;o__Bacill...\n",
      "k__Bacteria;p__Firmicutes;c__Bacilli;o__Bacilla...  k__Bacteria;p__Firmicutes;c__Bacilli;o__Bacill...\n",
      "k__Bacteria;p__Firmicutes;c__Bacilli;o__Bacilla...  k__Bacteria;p__Firmicutes;c__Bacilli;o__Bacill...\n",
      "k__Bacteria;p__Firmicutes;c__Bacilli;o__Bacilla...  k__Bacteria;p__Firmicutes;c__Bacilli;o__Bacill...\n",
      "k__Bacteria;p__Firmicutes;c__Bacilli;o__Bacilla...  k__Bacteria;p__Firmicutes;c__Bacilli;o__Bacill...\n",
      "k__Bacteria;p__Firmicutes;c__Bacilli;o__Bacilla...  k__Bacteria;p__Firmicutes;c__Bacilli;o__Bacill...\n",
      "k__Bacteria;p__Firmicutes;c__Bacilli;o__Bacilla...  k__Bacteria;p__Firmicutes;c__Bacilli;o__Bacill...\n",
      "k__Bacteria;p__Firmicutes;c__Bacilli;o__Bacilla...  k__Bacteria;p__Firmicutes;c__Bacilli;o__Bacill...\n",
      "k__Bacteria;p__Firmicutes;c__Bacilli;o__Bacilla...  k__Bacteria;p__Firmicutes;c__Bacilli;o__Bacill...\n",
      "k__Bacteria;p__Firmicutes;c__Bacilli;o__Bacilla...  k__Bacteria;p__Firmicutes;c__Bacilli;o__Bacill...\n",
      "k__Bacteria;p__Firmicutes;c__Bacilli;o__Bacilla...  k__Bacteria;p__Firmicutes;c__Bacilli;o__Bacill...\n",
      "k__Bacteria;p__Firmicutes;c__Bacilli;o__Bacilla...  k__Bacteria;p__Firmicutes;c__Bacilli;o__Bacill...\n",
      "k__Bacteria;p__Firmicutes;c__Bacilli;o__Bacilla...  k__Bacteria;p__Firmicutes;c__Bacilli;o__Bacill...\n",
      "k__Bacteria;p__Firmicutes;c__Bacilli;o__Bacilla...  k__Bacteria;p__Firmicutes;c__Bacilli;o__Bacill...\n",
      "k__Bacteria;p__Firmicutes;c__Bacilli;o__Bacilla...  k__Bacteria;p__Firmicutes;c__Bacilli;o__Bacill...\n",
      "k__Bacteria;p__Firmicutes;c__Bacilli;o__Bacilla...  k__Bacteria;p__Firmicutes;c__Bacilli;o__Bacill...\n",
      "k__Bacteria;p__Firmicutes;c__Bacilli;o__Bacilla...  k__Bacteria;p__Firmicutes;c__Bacilli;o__Bacill...\n",
      "k__Bacteria;p__Firmicutes;c__Bacilli;o__Bacilla...  k__Bacteria;p__Firmicutes;c__Bacilli;o__Bacill...\n",
      "k__Bacteria;p__Firmicutes;c__Bacilli;o__Bacilla...  k__Bacteria;p__Firmicutes;c__Bacilli;o__Bacill...\n",
      "k__Bacteria;p__Firmicutes;c__Bacilli;o__Bacilla...  k__Bacteria;p__Firmicutes;c__Bacilli;o__Bacill...\n",
      "k__Bacteria;p__Firmicutes;c__Bacilli;o__Bacilla...  k__Bacteria;p__Firmicutes;c__Bacilli;o__Bacill...\n",
      "k__Bacteria;p__Firmicutes;c__Bacilli;o__Bacilla...  k__Bacteria;p__Firmicutes;c__Bacilli;o__Bacill...\n",
      "k__Bacteria;p__Firmicutes;c__Bacilli;o__Gemella...  k__Bacteria;p__Firmicutes;c__Bacilli;o__Gemell...\n",
      "k__Bacteria;p__Firmicutes;c__Bacilli;o__Gemella...  k__Bacteria;p__Firmicutes;c__Bacilli;o__Gemell...\n",
      "k__Bacteria;p__Firmicutes;c__Bacilli;o__Gemella...  k__Bacteria;p__Firmicutes;c__Bacilli;o__Gemell...\n",
      "k__Bacteria;p__Firmicutes;c__Bacilli;o__Lactoba...  k__Bacteria;p__Firmicutes;c__Bacilli;o__Lactob...\n",
      "k__Bacteria;p__Firmicutes;c__Bacilli;o__Lactoba...  k__Bacteria;p__Firmicutes;c__Bacilli;o__Lactob...\n",
      "k__Bacteria;p__Firmicutes;c__Bacilli;o__Lactoba...  k__Bacteria;p__Firmicutes;c__Bacilli;o__Lactob...\n",
      "k__Bacteria;p__Firmicutes;c__Bacilli;o__Lactoba...  k__Bacteria;p__Firmicutes;c__Bacilli;o__Lactob...\n",
      "k__Bacteria;p__Firmicutes;c__Bacilli;o__Lactoba...  k__Bacteria;p__Firmicutes;c__Bacilli;o__Lactob...\n",
      "k__Bacteria;p__Firmicutes;c__Bacilli;o__Lactoba...  k__Bacteria;p__Firmicutes;c__Bacilli;o__Lactob...\n",
      "k__Bacteria;p__Firmicutes;c__Bacilli;o__Lactoba...  k__Bacteria;p__Firmicutes;c__Bacilli;o__Lactob...\n",
      "k__Bacteria;p__Firmicutes;c__Bacilli;o__Lactoba...  k__Bacteria;p__Firmicutes;c__Bacilli;o__Lactob...\n",
      "k__Bacteria;p__Firmicutes;c__Bacilli;o__Lactoba...  k__Bacteria;p__Firmicutes;c__Bacilli;o__Lactob...\n",
      "k__Bacteria;p__Firmicutes;c__Bacilli;o__Lactoba...  k__Bacteria;p__Firmicutes;c__Bacilli;o__Lactob...\n",
      "k__Bacteria;p__Firmicutes;c__Bacilli;o__Lactoba...  k__Bacteria;p__Firmicutes;c__Bacilli;o__Lactob...\n",
      "k__Bacteria;p__Firmicutes;c__Bacilli;o__Lactoba...  k__Bacteria;p__Firmicutes;c__Bacilli;o__Lactob...\n",
      "k__Bacteria;p__Firmicutes;c__Bacilli;o__Lactoba...  k__Bacteria;p__Firmicutes;c__Bacilli;o__Lactob...\n",
      "k__Bacteria;p__Firmicutes;c__Bacilli;o__Lactoba...  k__Bacteria;p__Firmicutes;c__Bacilli;o__Lactob...\n",
      "k__Bacteria;p__Firmicutes;c__Bacilli;o__Lactoba...  k__Bacteria;p__Firmicutes;c__Bacilli;o__Lactob...\n",
      "k__Bacteria;p__Firmicutes;c__Clostridia;o__Clos...  k__Bacteria;p__Firmicutes;c__Clostridia;o__Clo...\n",
      "k__Bacteria;p__Firmicutes;c__Clostridia;o__Clos...  k__Bacteria;p__Firmicutes;c__Clostridia;o__Clo...\n",
      "k__Bacteria;p__Firmicutes;c__Clostridia;o__Clos...  k__Bacteria;p__Firmicutes;c__Clostridia;o__Clo...\n",
      "k__Bacteria;p__Firmicutes;c__Clostridia;o__Clos...  k__Bacteria;p__Firmicutes;c__Clostridia;o__Clo...\n",
      "k__Bacteria;p__Firmicutes;c__Clostridia;o__Clos...  k__Bacteria;p__Firmicutes;c__Clostridia;o__Clo...\n",
      "k__Bacteria;p__Firmicutes;c__Clostridia;o__Clos...  k__Bacteria;p__Firmicutes;c__Clostridia;o__Clo...\n",
      "k__Bacteria;p__Firmicutes;c__Clostridia;o__Clos...  k__Bacteria;p__Firmicutes;c__Clostridia;o__Clo...\n",
      "k__Bacteria;p__Firmicutes;c__Clostridia;o__Clos...  k__Bacteria;p__Firmicutes;c__Clostridia;o__Clo...\n",
      "k__Bacteria;p__Firmicutes;c__Clostridia;o__Clos...  k__Bacteria;p__Firmicutes;c__Clostridia;o__Clo...\n",
      "k__Bacteria;p__Firmicutes;c__Clostridia;o__Clos...  k__Bacteria;p__Firmicutes;c__Clostridia;o__Clo...\n",
      "k__Bacteria;p__Firmicutes;c__Clostridia;o__Clos...  k__Bacteria;p__Firmicutes;c__Clostridia;o__Clo...\n",
      "k__Bacteria;p__Firmicutes;c__Clostridia;o__Clos...  k__Bacteria;p__Firmicutes;c__Clostridia;o__Clo...\n",
      "k__Bacteria;p__Firmicutes;c__Clostridia;o__Clos...  k__Bacteria;p__Firmicutes;c__Clostridia;o__Clo...\n",
      "k__Bacteria;p__Firmicutes;c__Clostridia;o__Clos...  k__Bacteria;p__Firmicutes;c__Clostridia;o__Clo...\n",
      "k__Bacteria;p__Firmicutes;c__Clostridia;o__Clos...  k__Bacteria;p__Firmicutes;c__Clostridia;o__Clo...\n",
      "k__Bacteria;p__Firmicutes;c__Clostridia;o__Clos...  k__Bacteria;p__Firmicutes;c__Clostridia;o__Clo...\n",
      "k__Bacteria;p__Firmicutes;c__Clostridia;o__Clos...  k__Bacteria;p__Firmicutes;c__Clostridia;o__Clo...\n",
      "k__Bacteria;p__Firmicutes;c__Clostridia;o__Clos...  k__Bacteria;p__Firmicutes;c__Clostridia;o__Clo...\n",
      "k__Bacteria;p__Firmicutes;c__Clostridia;o__Clos...  k__Bacteria;p__Firmicutes;c__Clostridia;o__Clo...\n",
      "k__Bacteria;p__Firmicutes;c__Clostridia;o__Clos...  k__Bacteria;p__Firmicutes;c__Clostridia;o__Clo...\n",
      "k__Bacteria;p__Firmicutes;c__Clostridia;o__Clos...  k__Bacteria;p__Firmicutes;c__Clostridia;o__Clo...\n",
      "k__Bacteria;p__Firmicutes;c__Clostridia;o__Clos...  k__Bacteria;p__Firmicutes;c__Clostridia;o__Clo...\n",
      "k__Bacteria;p__Firmicutes;c__Clostridia;o__Clos...  k__Bacteria;p__Firmicutes;c__Clostridia;o__Clo...\n",
      "k__Bacteria;p__Firmicutes;c__Clostridia;o__Clos...  k__Bacteria;p__Firmicutes;c__Clostridia;o__Clo...\n",
      "k__Bacteria;p__Firmicutes;c__Clostridia;o__Clos...  k__Bacteria;p__Firmicutes;c__Clostridia;o__Clo...\n",
      "k__Bacteria;p__Firmicutes;c__Clostridia;o__Clos...  k__Bacteria;p__Firmicutes;c__Clostridia;o__Clo...\n",
      "k__Bacteria;p__Firmicutes;c__Clostridia;o__Clos...  k__Bacteria;p__Firmicutes;c__Clostridia;o__Clo...\n",
      "k__Bacteria;p__Firmicutes;c__Clostridia;o__Clos...  k__Bacteria;p__Firmicutes;c__Clostridia;o__Clo...\n",
      "k__Bacteria;p__Firmicutes;c__Clostridia;o__Clos...  k__Bacteria;p__Firmicutes;c__Clostridia;o__Clo...\n",
      "k__Bacteria;p__Firmicutes;c__Clostridia;o__Clos...  k__Bacteria;p__Firmicutes;c__Clostridia;o__Clo...\n",
      "k__Bacteria;p__Firmicutes;c__Clostridia;o__Clos...  k__Bacteria;p__Firmicutes;c__Clostridia;o__Clo...\n",
      "k__Bacteria;p__Firmicutes;c__Clostridia;o__Clos...  k__Bacteria;p__Firmicutes;c__Clostridia;o__Clo...\n",
      "k__Bacteria;p__Firmicutes;c__Clostridia;o__Clos...  k__Bacteria;p__Firmicutes;c__Clostridia;o__Clo...\n",
      "k__Bacteria;p__Firmicutes;c__Clostridia;o__Clos...  k__Bacteria;p__Firmicutes;c__Clostridia;o__Clo...\n",
      "k__Bacteria;p__Firmicutes;c__Clostridia;o__Clos...  k__Bacteria;p__Firmicutes;c__Clostridia;o__Clo...\n",
      "k__Bacteria;p__Firmicutes;c__Clostridia;o__Clos...  k__Bacteria;p__Firmicutes;c__Clostridia;o__Clo...\n",
      "k__Bacteria;p__Firmicutes;c__Clostridia;o__Clos...  k__Bacteria;p__Firmicutes;c__Clostridia;o__Clo...\n",
      "k__Bacteria;p__Firmicutes;c__Clostridia;o__Clos...  k__Bacteria;p__Firmicutes;c__Clostridia;o__Clo...\n",
      "k__Bacteria;p__Firmicutes;c__Clostridia;o__Clos...  k__Bacteria;p__Firmicutes;c__Clostridia;o__Clo...\n",
      "k__Bacteria;p__Firmicutes;c__Clostridia;o__Clos...  k__Bacteria;p__Firmicutes;c__Clostridia;o__Clo...\n",
      "k__Bacteria;p__Firmicutes;c__Clostridia;o__Clos...  k__Bacteria;p__Firmicutes;c__Clostridia;o__Clo...\n",
      "k__Bacteria;p__Firmicutes;c__Clostridia;o__Clos...  k__Bacteria;p__Firmicutes;c__Clostridia;o__Clo...\n",
      "k__Bacteria;p__Firmicutes;c__Clostridia;o__Clos...  k__Bacteria;p__Firmicutes;c__Clostridia;o__Clo...\n",
      "k__Bacteria;p__Firmicutes;c__Clostridia;o__Clos...  k__Bacteria;p__Firmicutes;c__Clostridia;o__Clo...\n",
      "k__Bacteria;p__Firmicutes;c__Clostridia;o__Clos...  k__Bacteria;p__Firmicutes;c__Clostridia;o__Clo...\n",
      "k__Bacteria;p__Firmicutes;c__Clostridia;o__Clos...  k__Bacteria;p__Firmicutes;c__Clostridia;o__Clo...\n",
      "k__Bacteria;p__Firmicutes;c__Clostridia;o__Clos...  k__Bacteria;p__Firmicutes;c__Clostridia;o__Clo...\n",
      "k__Bacteria;p__Firmicutes;c__Clostridia;o__Clos...  k__Bacteria;p__Firmicutes;c__Clostridia;o__Clo...\n",
      "k__Bacteria;p__Firmicutes;c__Clostridia;o__Clos...  k__Bacteria;p__Firmicutes;c__Clostridia;o__Clo...\n",
      "k__Bacteria;p__Firmicutes;c__Clostridia;o__Clos...  k__Bacteria;p__Firmicutes;c__Clostridia;o__Clo...\n",
      "k__Bacteria;p__Firmicutes;c__Clostridia;o__Clos...  k__Bacteria;p__Firmicutes;c__Clostridia;o__Clo...\n",
      "k__Bacteria;p__Firmicutes;c__Clostridia;o__Clos...  k__Bacteria;p__Firmicutes;c__Clostridia;o__Clo...\n",
      "k__Bacteria;p__Firmicutes;c__Clostridia;o__Clos...  k__Bacteria;p__Firmicutes;c__Clostridia;o__Clo...\n",
      "k__Bacteria;p__Firmicutes;c__Clostridia;o__Clos...  k__Bacteria;p__Firmicutes;c__Clostridia;o__Clo...\n",
      "k__Bacteria;p__Firmicutes;c__Clostridia;o__Clos...  k__Bacteria;p__Firmicutes;c__Clostridia;o__Clo...\n",
      "k__Bacteria;p__Firmicutes;c__Clostridia;o__Clos...  k__Bacteria;p__Firmicutes;c__Clostridia;o__Clo...\n",
      "k__Bacteria;p__Firmicutes;c__Clostridia;o__Clos...  k__Bacteria;p__Firmicutes;c__Clostridia;o__Clo...\n",
      "k__Bacteria;p__Firmicutes;c__Clostridia;o__Clos...  k__Bacteria;p__Firmicutes;c__Clostridia;o__Clo...\n",
      "k__Bacteria;p__Firmicutes;c__Clostridia;o__Clos...  k__Bacteria;p__Firmicutes;c__Clostridia;o__Clo...\n",
      "k__Bacteria;p__Firmicutes;c__Clostridia;o__Clos...  k__Bacteria;p__Firmicutes;c__Clostridia;o__Clo...\n",
      "k__Bacteria;p__Firmicutes;c__Clostridia;o__Clos...  k__Bacteria;p__Firmicutes;c__Clostridia;o__Clo...\n",
      "k__Bacteria;p__Firmicutes;c__Clostridia;o__MBA0...  k__Bacteria;p__Firmicutes;c__Clostridia;o__MBA...\n",
      "k__Bacteria;p__Firmicutes;c__Clostridia;o__OPB5...  k__Bacteria;p__Firmicutes;c__Clostridia;o__OPB...\n",
      "k__Bacteria;p__Firmicutes;c__Clostridia;o__Ther...  k__Bacteria;p__Firmicutes;c__Clostridia;o__The...\n",
      "k__Bacteria;p__Firmicutes;c__Clostridia;o__Ther...  k__Bacteria;p__Firmicutes;c__Clostridia;o__The...\n",
      "k__Bacteria;p__Firmicutes;c__Erysipelotrichi;o_...  k__Bacteria;p__Firmicutes;c__Erysipelotrichi;o...\n",
      "k__Bacteria;p__Firmicutes;c__Erysipelotrichi;o_...  k__Bacteria;p__Firmicutes;c__Erysipelotrichi;o...\n",
      "k__Bacteria;p__Firmicutes;c__Erysipelotrichi;o_...  k__Bacteria;p__Firmicutes;c__Erysipelotrichi;o...\n",
      "k__Bacteria;p__Firmicutes;c__Erysipelotrichi;o_...  k__Bacteria;p__Firmicutes;c__Erysipelotrichi;o...\n",
      "k__Bacteria;p__Firmicutes;c__Erysipelotrichi;o_...  k__Bacteria;p__Firmicutes;c__Erysipelotrichi;o...\n",
      "k__Bacteria;p__Firmicutes;c__Erysipelotrichi;o_...  k__Bacteria;p__Firmicutes;c__Erysipelotrichi;o...\n",
      "k__Bacteria;p__Firmicutes;c__Erysipelotrichi;o_...  k__Bacteria;p__Firmicutes;c__Erysipelotrichi;o...\n",
      "k__Bacteria;p__Firmicutes;c__Erysipelotrichi;o_...  k__Bacteria;p__Firmicutes;c__Erysipelotrichi;o...\n",
      "k__Bacteria;p__Firmicutes;c__Erysipelotrichi;o_...  k__Bacteria;p__Firmicutes;c__Erysipelotrichi;o...\n",
      "k__Bacteria;p__Fusobacteria;c__Fusobacteriia;o_...  k__Bacteria;p__Fusobacteria;c__Fusobacteriia;o...\n",
      "k__Bacteria;p__Fusobacteria;c__Fusobacteriia;o_...  k__Bacteria;p__Fusobacteria;c__Fusobacteriia;o...\n",
      "k__Bacteria;p__Fusobacteria;c__Fusobacteriia;o_...  k__Bacteria;p__Fusobacteria;c__Fusobacteriia;o...\n",
      "k__Bacteria;p__Fusobacteria;c__Fusobacteriia;o_...  k__Bacteria;p__Fusobacteria;c__Fusobacteriia;o...\n",
      "k__Bacteria;p__GN02;c__BD1-5;o__;f__;g__;s__             k__Bacteria;p__GN02;c__BD1-5;o__;f__;g__;s__\n",
      "k__Bacteria;p__Gemmatimonadetes;c__Gemm-3;o__;f...  k__Bacteria;p__Gemmatimonadetes;c__Gemm-3;o__;...\n",
      "k__Bacteria;p__Gemmatimonadetes;c__Gemmatimonad...  k__Bacteria;p__Gemmatimonadetes;c__Gemmatimona...\n",
      "k__Bacteria;p__Gemmatimonadetes;c__Gemmatimonad...  k__Bacteria;p__Gemmatimonadetes;c__Gemmatimona...\n",
      "k__Bacteria;p__Gemmatimonadetes;c__Gemmatimonad...  k__Bacteria;p__Gemmatimonadetes;c__Gemmatimona...\n",
      "k__Bacteria;p__Gemmatimonadetes;c__Gemmatimonad...  k__Bacteria;p__Gemmatimonadetes;c__Gemmatimona...\n",
      "k__Bacteria;p__OD1;c__SM2F11;o__;f__;g__;s__             k__Bacteria;p__OD1;c__SM2F11;o__;f__;g__;s__\n",
      "k__Bacteria;p__OP11;c__;o__;f__;g__;s__                       k__Bacteria;p__OP11;c__;o__;f__;g__;s__\n",
      "k__Bacteria;p__OP11;c__OP11-2;o__WCHB1-07;f__;g...  k__Bacteria;p__OP11;c__OP11-2;o__WCHB1-07;f__;...\n",
      "k__Bacteria;p__Planctomycetes;c__Phycisphaerae;...  k__Bacteria;p__Planctomycetes;c__Phycisphaerae...\n",
      "k__Bacteria;p__Planctomycetes;c__Phycisphaerae;...  k__Bacteria;p__Planctomycetes;c__Phycisphaerae...\n",
      "k__Bacteria;p__Planctomycetes;c__Planctomycetia...  k__Bacteria;p__Planctomycetes;c__Planctomyceti...\n",
      "k__Bacteria;p__Planctomycetes;c__Planctomycetia...  k__Bacteria;p__Planctomycetes;c__Planctomyceti...\n",
      "k__Bacteria;p__Planctomycetes;c__Planctomycetia...  k__Bacteria;p__Planctomycetes;c__Planctomyceti...\n",
      "k__Bacteria;p__Planctomycetes;c__Planctomycetia...  k__Bacteria;p__Planctomycetes;c__Planctomyceti...\n",
      "k__Bacteria;p__Planctomycetes;c__Planctomycetia...  k__Bacteria;p__Planctomycetes;c__Planctomyceti...\n",
      "k__Bacteria;p__Planctomycetes;c__vadinHA49;o__P...  k__Bacteria;p__Planctomycetes;c__vadinHA49;o__...\n",
      "k__Bacteria;p__Proteobacteria;c__;o__;f__;g__;s__   k__Bacteria;p__Proteobacteria;c__;o__;f__;g__;s__\n",
      "k__Bacteria;p__Proteobacteria;c__Alphaproteobac...  k__Bacteria;p__Proteobacteria;c__Alphaproteoba...\n",
      "k__Bacteria;p__Proteobacteria;c__Alphaproteobac...  k__Bacteria;p__Proteobacteria;c__Alphaproteoba...\n",
      "k__Bacteria;p__Proteobacteria;c__Alphaproteobac...  k__Bacteria;p__Proteobacteria;c__Alphaproteoba...\n",
      "k__Bacteria;p__Proteobacteria;c__Alphaproteobac...  k__Bacteria;p__Proteobacteria;c__Alphaproteoba...\n",
      "k__Bacteria;p__Proteobacteria;c__Alphaproteobac...  k__Bacteria;p__Proteobacteria;c__Alphaproteoba...\n",
      "k__Bacteria;p__Proteobacteria;c__Alphaproteobac...  k__Bacteria;p__Proteobacteria;c__Alphaproteoba...\n",
      "k__Bacteria;p__Proteobacteria;c__Alphaproteobac...  k__Bacteria;p__Proteobacteria;c__Alphaproteoba...\n",
      "k__Bacteria;p__Proteobacteria;c__Alphaproteobac...  k__Bacteria;p__Proteobacteria;c__Alphaproteoba...\n",
      "k__Bacteria;p__Proteobacteria;c__Alphaproteobac...  k__Bacteria;p__Proteobacteria;c__Alphaproteoba...\n",
      "k__Bacteria;p__Proteobacteria;c__Alphaproteobac...  k__Bacteria;p__Proteobacteria;c__Alphaproteoba...\n",
      "k__Bacteria;p__Proteobacteria;c__Alphaproteobac...  k__Bacteria;p__Proteobacteria;c__Alphaproteoba...\n",
      "k__Bacteria;p__Proteobacteria;c__Alphaproteobac...  k__Bacteria;p__Proteobacteria;c__Alphaproteoba...\n",
      "k__Bacteria;p__Proteobacteria;c__Alphaproteobac...  k__Bacteria;p__Proteobacteria;c__Alphaproteoba...\n",
      "k__Bacteria;p__Proteobacteria;c__Alphaproteobac...  k__Bacteria;p__Proteobacteria;c__Alphaproteoba...\n",
      "k__Bacteria;p__Proteobacteria;c__Alphaproteobac...  k__Bacteria;p__Proteobacteria;c__Alphaproteoba...\n",
      "k__Bacteria;p__Proteobacteria;c__Alphaproteobac...  k__Bacteria;p__Proteobacteria;c__Alphaproteoba...\n",
      "k__Bacteria;p__Proteobacteria;c__Alphaproteobac...  k__Bacteria;p__Proteobacteria;c__Alphaproteoba...\n",
      "k__Bacteria;p__Proteobacteria;c__Alphaproteobac...  k__Bacteria;p__Proteobacteria;c__Alphaproteoba...\n",
      "k__Bacteria;p__Proteobacteria;c__Alphaproteobac...  k__Bacteria;p__Proteobacteria;c__Alphaproteoba...\n",
      "k__Bacteria;p__Proteobacteria;c__Alphaproteobac...  k__Bacteria;p__Proteobacteria;c__Alphaproteoba...\n",
      "k__Bacteria;p__Proteobacteria;c__Alphaproteobac...  k__Bacteria;p__Proteobacteria;c__Alphaproteoba...\n",
      "k__Bacteria;p__Proteobacteria;c__Alphaproteobac...  k__Bacteria;p__Proteobacteria;c__Alphaproteoba...\n",
      "k__Bacteria;p__Proteobacteria;c__Alphaproteobac...  k__Bacteria;p__Proteobacteria;c__Alphaproteoba...\n",
      "k__Bacteria;p__Proteobacteria;c__Alphaproteobac...  k__Bacteria;p__Proteobacteria;c__Alphaproteoba...\n",
      "k__Bacteria;p__Proteobacteria;c__Alphaproteobac...  k__Bacteria;p__Proteobacteria;c__Alphaproteoba...\n",
      "k__Bacteria;p__Proteobacteria;c__Alphaproteobac...  k__Bacteria;p__Proteobacteria;c__Alphaproteoba...\n",
      "k__Bacteria;p__Proteobacteria;c__Alphaproteobac...  k__Bacteria;p__Proteobacteria;c__Alphaproteoba...\n",
      "k__Bacteria;p__Proteobacteria;c__Alphaproteobac...  k__Bacteria;p__Proteobacteria;c__Alphaproteoba...\n",
      "k__Bacteria;p__Proteobacteria;c__Alphaproteobac...  k__Bacteria;p__Proteobacteria;c__Alphaproteoba...\n",
      "k__Bacteria;p__Proteobacteria;c__Alphaproteobac...  k__Bacteria;p__Proteobacteria;c__Alphaproteoba...\n",
      "k__Bacteria;p__Proteobacteria;c__Alphaproteobac...  k__Bacteria;p__Proteobacteria;c__Alphaproteoba...\n",
      "k__Bacteria;p__Proteobacteria;c__Alphaproteobac...  k__Bacteria;p__Proteobacteria;c__Alphaproteoba...\n",
      "k__Bacteria;p__Proteobacteria;c__Alphaproteobac...  k__Bacteria;p__Proteobacteria;c__Alphaproteoba...\n",
      "k__Bacteria;p__Proteobacteria;c__Alphaproteobac...  k__Bacteria;p__Proteobacteria;c__Alphaproteoba...\n",
      "k__Bacteria;p__Proteobacteria;c__Alphaproteobac...  k__Bacteria;p__Proteobacteria;c__Alphaproteoba...\n",
      "k__Bacteria;p__Proteobacteria;c__Alphaproteobac...  k__Bacteria;p__Proteobacteria;c__Alphaproteoba...\n",
      "k__Bacteria;p__Proteobacteria;c__Alphaproteobac...  k__Bacteria;p__Proteobacteria;c__Alphaproteoba...\n",
      "k__Bacteria;p__Proteobacteria;c__Alphaproteobac...  k__Bacteria;p__Proteobacteria;c__Alphaproteoba...\n",
      "k__Bacteria;p__Proteobacteria;c__Alphaproteobac...  k__Bacteria;p__Proteobacteria;c__Alphaproteoba...\n",
      "k__Bacteria;p__Proteobacteria;c__Alphaproteobac...  k__Bacteria;p__Proteobacteria;c__Alphaproteoba...\n",
      "k__Bacteria;p__Proteobacteria;c__Alphaproteobac...  k__Bacteria;p__Proteobacteria;c__Alphaproteoba...\n",
      "k__Bacteria;p__Proteobacteria;c__Alphaproteobac...  k__Bacteria;p__Proteobacteria;c__Alphaproteoba...\n",
      "k__Bacteria;p__Proteobacteria;c__Alphaproteobac...  k__Bacteria;p__Proteobacteria;c__Alphaproteoba...\n",
      "k__Bacteria;p__Proteobacteria;c__Alphaproteobac...  k__Bacteria;p__Proteobacteria;c__Alphaproteoba...\n",
      "k__Bacteria;p__Proteobacteria;c__Alphaproteobac...  k__Bacteria;p__Proteobacteria;c__Alphaproteoba...\n",
      "k__Bacteria;p__Proteobacteria;c__Alphaproteobac...  k__Bacteria;p__Proteobacteria;c__Alphaproteoba...\n",
      "k__Bacteria;p__Proteobacteria;c__Alphaproteobac...  k__Bacteria;p__Proteobacteria;c__Alphaproteoba...\n",
      "k__Bacteria;p__Proteobacteria;c__Alphaproteobac...  k__Bacteria;p__Proteobacteria;c__Alphaproteoba...\n",
      "k__Bacteria;p__Proteobacteria;c__Alphaproteobac...  k__Bacteria;p__Proteobacteria;c__Alphaproteoba...\n",
      "k__Bacteria;p__Proteobacteria;c__Alphaproteobac...  k__Bacteria;p__Proteobacteria;c__Alphaproteoba...\n",
      "k__Bacteria;p__Proteobacteria;c__Alphaproteobac...  k__Bacteria;p__Proteobacteria;c__Alphaproteoba...\n",
      "k__Bacteria;p__Proteobacteria;c__Alphaproteobac...  k__Bacteria;p__Proteobacteria;c__Alphaproteoba...\n",
      "k__Bacteria;p__Proteobacteria;c__Alphaproteobac...  k__Bacteria;p__Proteobacteria;c__Alphaproteoba...\n",
      "k__Bacteria;p__Proteobacteria;c__Alphaproteobac...  k__Bacteria;p__Proteobacteria;c__Alphaproteoba...\n",
      "k__Bacteria;p__Proteobacteria;c__Alphaproteobac...  k__Bacteria;p__Proteobacteria;c__Alphaproteoba...\n",
      "k__Bacteria;p__Proteobacteria;c__Alphaproteobac...  k__Bacteria;p__Proteobacteria;c__Alphaproteoba...\n",
      "k__Bacteria;p__Proteobacteria;c__Alphaproteobac...  k__Bacteria;p__Proteobacteria;c__Alphaproteoba...\n",
      "k__Bacteria;p__Proteobacteria;c__Alphaproteobac...  k__Bacteria;p__Proteobacteria;c__Alphaproteoba...\n",
      "k__Bacteria;p__Proteobacteria;c__Alphaproteobac...  k__Bacteria;p__Proteobacteria;c__Alphaproteoba...\n",
      "k__Bacteria;p__Proteobacteria;c__Alphaproteobac...  k__Bacteria;p__Proteobacteria;c__Alphaproteoba...\n",
      "k__Bacteria;p__Proteobacteria;c__Alphaproteobac...  k__Bacteria;p__Proteobacteria;c__Alphaproteoba...\n",
      "k__Bacteria;p__Proteobacteria;c__Alphaproteobac...  k__Bacteria;p__Proteobacteria;c__Alphaproteoba...\n",
      "k__Bacteria;p__Proteobacteria;c__Alphaproteobac...  k__Bacteria;p__Proteobacteria;c__Alphaproteoba...\n",
      "k__Bacteria;p__Proteobacteria;c__Alphaproteobac...  k__Bacteria;p__Proteobacteria;c__Alphaproteoba...\n",
      "k__Bacteria;p__Proteobacteria;c__Alphaproteobac...  k__Bacteria;p__Proteobacteria;c__Alphaproteoba...\n",
      "k__Bacteria;p__Proteobacteria;c__Alphaproteobac...  k__Bacteria;p__Proteobacteria;c__Alphaproteoba...\n",
      "k__Bacteria;p__Proteobacteria;c__Alphaproteobac...  k__Bacteria;p__Proteobacteria;c__Alphaproteoba...\n",
      "k__Bacteria;p__Proteobacteria;c__Alphaproteobac...  k__Bacteria;p__Proteobacteria;c__Alphaproteoba...\n",
      "k__Bacteria;p__Proteobacteria;c__Alphaproteobac...  k__Bacteria;p__Proteobacteria;c__Alphaproteoba...\n",
      "k__Bacteria;p__Proteobacteria;c__Alphaproteobac...  k__Bacteria;p__Proteobacteria;c__Alphaproteoba...\n",
      "k__Bacteria;p__Proteobacteria;c__Alphaproteobac...  k__Bacteria;p__Proteobacteria;c__Alphaproteoba...\n",
      "k__Bacteria;p__Proteobacteria;c__Alphaproteobac...  k__Bacteria;p__Proteobacteria;c__Alphaproteoba...\n",
      "k__Bacteria;p__Proteobacteria;c__Alphaproteobac...  k__Bacteria;p__Proteobacteria;c__Alphaproteoba...\n",
      "k__Bacteria;p__Proteobacteria;c__Alphaproteobac...  k__Bacteria;p__Proteobacteria;c__Alphaproteoba...\n",
      "k__Bacteria;p__Proteobacteria;c__Alphaproteobac...  k__Bacteria;p__Proteobacteria;c__Alphaproteoba...\n",
      "k__Bacteria;p__Proteobacteria;c__Alphaproteobac...  k__Bacteria;p__Proteobacteria;c__Alphaproteoba...\n",
      "k__Bacteria;p__Proteobacteria;c__Alphaproteobac...  k__Bacteria;p__Proteobacteria;c__Alphaproteoba...\n",
      "k__Bacteria;p__Proteobacteria;c__Alphaproteobac...  k__Bacteria;p__Proteobacteria;c__Alphaproteoba...\n",
      "k__Bacteria;p__Proteobacteria;c__Alphaproteobac...  k__Bacteria;p__Proteobacteria;c__Alphaproteoba...\n",
      "k__Bacteria;p__Proteobacteria;c__Alphaproteobac...  k__Bacteria;p__Proteobacteria;c__Alphaproteoba...\n",
      "k__Bacteria;p__Proteobacteria;c__Alphaproteobac...  k__Bacteria;p__Proteobacteria;c__Alphaproteoba...\n",
      "k__Bacteria;p__Proteobacteria;c__Alphaproteobac...  k__Bacteria;p__Proteobacteria;c__Alphaproteoba...\n",
      "k__Bacteria;p__Proteobacteria;c__Alphaproteobac...  k__Bacteria;p__Proteobacteria;c__Alphaproteoba...\n",
      "k__Bacteria;p__Proteobacteria;c__Alphaproteobac...  k__Bacteria;p__Proteobacteria;c__Alphaproteoba...\n",
      "k__Bacteria;p__Proteobacteria;c__Alphaproteobac...  k__Bacteria;p__Proteobacteria;c__Alphaproteoba...\n",
      "k__Bacteria;p__Proteobacteria;c__Alphaproteobac...  k__Bacteria;p__Proteobacteria;c__Alphaproteoba...\n",
      "k__Bacteria;p__Proteobacteria;c__Alphaproteobac...  k__Bacteria;p__Proteobacteria;c__Alphaproteoba...\n",
      "k__Bacteria;p__Proteobacteria;c__Alphaproteobac...  k__Bacteria;p__Proteobacteria;c__Alphaproteoba...\n",
      "k__Bacteria;p__Proteobacteria;c__Alphaproteobac...  k__Bacteria;p__Proteobacteria;c__Alphaproteoba...\n",
      "k__Bacteria;p__Proteobacteria;c__Alphaproteobac...  k__Bacteria;p__Proteobacteria;c__Alphaproteoba...\n",
      "k__Bacteria;p__Proteobacteria;c__Alphaproteobac...  k__Bacteria;p__Proteobacteria;c__Alphaproteoba...\n",
      "k__Bacteria;p__Proteobacteria;c__Alphaproteobac...  k__Bacteria;p__Proteobacteria;c__Alphaproteoba...\n",
      "k__Bacteria;p__Proteobacteria;c__Alphaproteobac...  k__Bacteria;p__Proteobacteria;c__Alphaproteoba...\n",
      "k__Bacteria;p__Proteobacteria;c__Alphaproteobac...  k__Bacteria;p__Proteobacteria;c__Alphaproteoba...\n",
      "k__Bacteria;p__Proteobacteria;c__Alphaproteobac...  k__Bacteria;p__Proteobacteria;c__Alphaproteoba...\n",
      "k__Bacteria;p__Proteobacteria;c__Alphaproteobac...  k__Bacteria;p__Proteobacteria;c__Alphaproteoba...\n",
      "k__Bacteria;p__Proteobacteria;c__Betaproteobact...  k__Bacteria;p__Proteobacteria;c__Betaproteobac...\n",
      "k__Bacteria;p__Proteobacteria;c__Betaproteobact...  k__Bacteria;p__Proteobacteria;c__Betaproteobac...\n",
      "k__Bacteria;p__Proteobacteria;c__Betaproteobact...  k__Bacteria;p__Proteobacteria;c__Betaproteobac...\n",
      "k__Bacteria;p__Proteobacteria;c__Betaproteobact...  k__Bacteria;p__Proteobacteria;c__Betaproteobac...\n",
      "k__Bacteria;p__Proteobacteria;c__Betaproteobact...  k__Bacteria;p__Proteobacteria;c__Betaproteobac...\n",
      "k__Bacteria;p__Proteobacteria;c__Betaproteobact...  k__Bacteria;p__Proteobacteria;c__Betaproteobac...\n",
      "k__Bacteria;p__Proteobacteria;c__Betaproteobact...  k__Bacteria;p__Proteobacteria;c__Betaproteobac...\n",
      "k__Bacteria;p__Proteobacteria;c__Betaproteobact...  k__Bacteria;p__Proteobacteria;c__Betaproteobac...\n",
      "k__Bacteria;p__Proteobacteria;c__Betaproteobact...  k__Bacteria;p__Proteobacteria;c__Betaproteobac...\n",
      "k__Bacteria;p__Proteobacteria;c__Betaproteobact...  k__Bacteria;p__Proteobacteria;c__Betaproteobac...\n",
      "k__Bacteria;p__Proteobacteria;c__Betaproteobact...  k__Bacteria;p__Proteobacteria;c__Betaproteobac...\n",
      "k__Bacteria;p__Proteobacteria;c__Betaproteobact...  k__Bacteria;p__Proteobacteria;c__Betaproteobac...\n",
      "k__Bacteria;p__Proteobacteria;c__Betaproteobact...  k__Bacteria;p__Proteobacteria;c__Betaproteobac...\n",
      "k__Bacteria;p__Proteobacteria;c__Betaproteobact...  k__Bacteria;p__Proteobacteria;c__Betaproteobac...\n",
      "k__Bacteria;p__Proteobacteria;c__Betaproteobact...  k__Bacteria;p__Proteobacteria;c__Betaproteobac...\n",
      "k__Bacteria;p__Proteobacteria;c__Betaproteobact...  k__Bacteria;p__Proteobacteria;c__Betaproteobac...\n",
      "k__Bacteria;p__Proteobacteria;c__Betaproteobact...  k__Bacteria;p__Proteobacteria;c__Betaproteobac...\n",
      "k__Bacteria;p__Proteobacteria;c__Betaproteobact...  k__Bacteria;p__Proteobacteria;c__Betaproteobac...\n",
      "k__Bacteria;p__Proteobacteria;c__Betaproteobact...  k__Bacteria;p__Proteobacteria;c__Betaproteobac...\n",
      "k__Bacteria;p__Proteobacteria;c__Betaproteobact...  k__Bacteria;p__Proteobacteria;c__Betaproteobac...\n",
      "k__Bacteria;p__Proteobacteria;c__Betaproteobact...  k__Bacteria;p__Proteobacteria;c__Betaproteobac...\n",
      "k__Bacteria;p__Proteobacteria;c__Betaproteobact...  k__Bacteria;p__Proteobacteria;c__Betaproteobac...\n",
      "k__Bacteria;p__Proteobacteria;c__Betaproteobact...  k__Bacteria;p__Proteobacteria;c__Betaproteobac...\n",
      "k__Bacteria;p__Proteobacteria;c__Betaproteobact...  k__Bacteria;p__Proteobacteria;c__Betaproteobac...\n",
      "k__Bacteria;p__Proteobacteria;c__Betaproteobact...  k__Bacteria;p__Proteobacteria;c__Betaproteobac...\n",
      "k__Bacteria;p__Proteobacteria;c__Betaproteobact...  k__Bacteria;p__Proteobacteria;c__Betaproteobac...\n",
      "k__Bacteria;p__Proteobacteria;c__Betaproteobact...  k__Bacteria;p__Proteobacteria;c__Betaproteobac...\n",
      "k__Bacteria;p__Proteobacteria;c__Betaproteobact...  k__Bacteria;p__Proteobacteria;c__Betaproteobac...\n",
      "k__Bacteria;p__Proteobacteria;c__Betaproteobact...  k__Bacteria;p__Proteobacteria;c__Betaproteobac...\n",
      "k__Bacteria;p__Proteobacteria;c__Betaproteobact...  k__Bacteria;p__Proteobacteria;c__Betaproteobac...\n",
      "k__Bacteria;p__Proteobacteria;c__Betaproteobact...  k__Bacteria;p__Proteobacteria;c__Betaproteobac...\n",
      "k__Bacteria;p__Proteobacteria;c__Betaproteobact...  k__Bacteria;p__Proteobacteria;c__Betaproteobac...\n",
      "k__Bacteria;p__Proteobacteria;c__Betaproteobact...  k__Bacteria;p__Proteobacteria;c__Betaproteobac...\n",
      "k__Bacteria;p__Proteobacteria;c__Betaproteobact...  k__Bacteria;p__Proteobacteria;c__Betaproteobac...\n",
      "k__Bacteria;p__Proteobacteria;c__Betaproteobact...  k__Bacteria;p__Proteobacteria;c__Betaproteobac...\n",
      "k__Bacteria;p__Proteobacteria;c__Betaproteobact...  k__Bacteria;p__Proteobacteria;c__Betaproteobac...\n",
      "k__Bacteria;p__Proteobacteria;c__Betaproteobact...  k__Bacteria;p__Proteobacteria;c__Betaproteobac...\n",
      "k__Bacteria;p__Proteobacteria;c__Betaproteobact...  k__Bacteria;p__Proteobacteria;c__Betaproteobac...\n",
      "k__Bacteria;p__Proteobacteria;c__Betaproteobact...  k__Bacteria;p__Proteobacteria;c__Betaproteobac...\n",
      "k__Bacteria;p__Proteobacteria;c__Betaproteobact...  k__Bacteria;p__Proteobacteria;c__Betaproteobac...\n",
      "k__Bacteria;p__Proteobacteria;c__Betaproteobact...  k__Bacteria;p__Proteobacteria;c__Betaproteobac...\n",
      "k__Bacteria;p__Proteobacteria;c__Betaproteobact...  k__Bacteria;p__Proteobacteria;c__Betaproteobac...\n",
      "k__Bacteria;p__Proteobacteria;c__Betaproteobact...  k__Bacteria;p__Proteobacteria;c__Betaproteobac...\n",
      "k__Bacteria;p__Proteobacteria;c__Betaproteobact...  k__Bacteria;p__Proteobacteria;c__Betaproteobac...\n",
      "k__Bacteria;p__Proteobacteria;c__Betaproteobact...  k__Bacteria;p__Proteobacteria;c__Betaproteobac...\n",
      "k__Bacteria;p__Proteobacteria;c__Betaproteobact...  k__Bacteria;p__Proteobacteria;c__Betaproteobac...\n",
      "k__Bacteria;p__Proteobacteria;c__Betaproteobact...  k__Bacteria;p__Proteobacteria;c__Betaproteobac...\n",
      "k__Bacteria;p__Proteobacteria;c__Betaproteobact...  k__Bacteria;p__Proteobacteria;c__Betaproteobac...\n",
      "k__Bacteria;p__Proteobacteria;c__Betaproteobact...  k__Bacteria;p__Proteobacteria;c__Betaproteobac...\n",
      "k__Bacteria;p__Proteobacteria;c__Betaproteobact...  k__Bacteria;p__Proteobacteria;c__Betaproteobac...\n",
      "k__Bacteria;p__Proteobacteria;c__Betaproteobact...  k__Bacteria;p__Proteobacteria;c__Betaproteobac...\n",
      "k__Bacteria;p__Proteobacteria;c__Betaproteobact...  k__Bacteria;p__Proteobacteria;c__Betaproteobac...\n",
      "k__Bacteria;p__Proteobacteria;c__Betaproteobact...  k__Bacteria;p__Proteobacteria;c__Betaproteobac...\n",
      "k__Bacteria;p__Proteobacteria;c__Betaproteobact...  k__Bacteria;p__Proteobacteria;c__Betaproteobac...\n",
      "k__Bacteria;p__Proteobacteria;c__Betaproteobact...  k__Bacteria;p__Proteobacteria;c__Betaproteobac...\n",
      "k__Bacteria;p__Proteobacteria;c__Betaproteobact...  k__Bacteria;p__Proteobacteria;c__Betaproteobac...\n",
      "k__Bacteria;p__Proteobacteria;c__Betaproteobact...  k__Bacteria;p__Proteobacteria;c__Betaproteobac...\n",
      "k__Bacteria;p__Proteobacteria;c__Betaproteobact...  k__Bacteria;p__Proteobacteria;c__Betaproteobac...\n",
      "k__Bacteria;p__Proteobacteria;c__Betaproteobact...  k__Bacteria;p__Proteobacteria;c__Betaproteobac...\n",
      "k__Bacteria;p__Proteobacteria;c__Betaproteobact...  k__Bacteria;p__Proteobacteria;c__Betaproteobac...\n",
      "k__Bacteria;p__Proteobacteria;c__Betaproteobact...  k__Bacteria;p__Proteobacteria;c__Betaproteobac...\n",
      "k__Bacteria;p__Proteobacteria;c__Betaproteobact...  k__Bacteria;p__Proteobacteria;c__Betaproteobac...\n",
      "k__Bacteria;p__Proteobacteria;c__Betaproteobact...  k__Bacteria;p__Proteobacteria;c__Betaproteobac...\n",
      "k__Bacteria;p__Proteobacteria;c__Betaproteobact...  k__Bacteria;p__Proteobacteria;c__Betaproteobac...\n",
      "k__Bacteria;p__Proteobacteria;c__Betaproteobact...  k__Bacteria;p__Proteobacteria;c__Betaproteobac...\n",
      "k__Bacteria;p__Proteobacteria;c__Betaproteobact...  k__Bacteria;p__Proteobacteria;c__Betaproteobac...\n",
      "k__Bacteria;p__Proteobacteria;c__Betaproteobact...  k__Bacteria;p__Proteobacteria;c__Betaproteobac...\n",
      "k__Bacteria;p__Proteobacteria;c__Deltaproteobac...  k__Bacteria;p__Proteobacteria;c__Deltaproteoba...\n",
      "k__Bacteria;p__Proteobacteria;c__Deltaproteobac...  k__Bacteria;p__Proteobacteria;c__Deltaproteoba...\n",
      "k__Bacteria;p__Proteobacteria;c__Deltaproteobac...  k__Bacteria;p__Proteobacteria;c__Deltaproteoba...\n",
      "k__Bacteria;p__Proteobacteria;c__Deltaproteobac...  k__Bacteria;p__Proteobacteria;c__Deltaproteoba...\n",
      "k__Bacteria;p__Proteobacteria;c__Deltaproteobac...  k__Bacteria;p__Proteobacteria;c__Deltaproteoba...\n",
      "k__Bacteria;p__Proteobacteria;c__Deltaproteobac...  k__Bacteria;p__Proteobacteria;c__Deltaproteoba...\n",
      "k__Bacteria;p__Proteobacteria;c__Deltaproteobac...  k__Bacteria;p__Proteobacteria;c__Deltaproteoba...\n",
      "k__Bacteria;p__Proteobacteria;c__Deltaproteobac...  k__Bacteria;p__Proteobacteria;c__Deltaproteoba...\n",
      "k__Bacteria;p__Proteobacteria;c__Deltaproteobac...  k__Bacteria;p__Proteobacteria;c__Deltaproteoba...\n",
      "k__Bacteria;p__Proteobacteria;c__Deltaproteobac...  k__Bacteria;p__Proteobacteria;c__Deltaproteoba...\n",
      "k__Bacteria;p__Proteobacteria;c__Deltaproteobac...  k__Bacteria;p__Proteobacteria;c__Deltaproteoba...\n",
      "k__Bacteria;p__Proteobacteria;c__Deltaproteobac...  k__Bacteria;p__Proteobacteria;c__Deltaproteoba...\n",
      "k__Bacteria;p__Proteobacteria;c__Deltaproteobac...  k__Bacteria;p__Proteobacteria;c__Deltaproteoba...\n",
      "k__Bacteria;p__Proteobacteria;c__Deltaproteobac...  k__Bacteria;p__Proteobacteria;c__Deltaproteoba...\n",
      "k__Bacteria;p__Proteobacteria;c__Deltaproteobac...  k__Bacteria;p__Proteobacteria;c__Deltaproteoba...\n",
      "k__Bacteria;p__Proteobacteria;c__Deltaproteobac...  k__Bacteria;p__Proteobacteria;c__Deltaproteoba...\n",
      "k__Bacteria;p__Proteobacteria;c__Deltaproteobac...  k__Bacteria;p__Proteobacteria;c__Deltaproteoba...\n",
      "k__Bacteria;p__Proteobacteria;c__Deltaproteobac...  k__Bacteria;p__Proteobacteria;c__Deltaproteoba...\n",
      "k__Bacteria;p__Proteobacteria;c__Deltaproteobac...  k__Bacteria;p__Proteobacteria;c__Deltaproteoba...\n",
      "k__Bacteria;p__Proteobacteria;c__Deltaproteobac...  k__Bacteria;p__Proteobacteria;c__Deltaproteoba...\n",
      "k__Bacteria;p__Proteobacteria;c__Deltaproteobac...  k__Bacteria;p__Proteobacteria;c__Deltaproteoba...\n",
      "k__Bacteria;p__Proteobacteria;c__Epsilonproteob...  k__Bacteria;p__Proteobacteria;c__Epsilonproteo...\n",
      "k__Bacteria;p__Proteobacteria;c__Epsilonproteob...  k__Bacteria;p__Proteobacteria;c__Epsilonproteo...\n",
      "k__Bacteria;p__Proteobacteria;c__Epsilonproteob...  k__Bacteria;p__Proteobacteria;c__Epsilonproteo...\n",
      "k__Bacteria;p__Proteobacteria;c__Gammaproteobac...  k__Bacteria;p__Proteobacteria;c__Gammaproteoba...\n",
      "k__Bacteria;p__Proteobacteria;c__Gammaproteobac...  k__Bacteria;p__Proteobacteria;c__Gammaproteoba...\n",
      "k__Bacteria;p__Proteobacteria;c__Gammaproteobac...  k__Bacteria;p__Proteobacteria;c__Gammaproteoba...\n",
      "k__Bacteria;p__Proteobacteria;c__Gammaproteobac...  k__Bacteria;p__Proteobacteria;c__Gammaproteoba...\n",
      "k__Bacteria;p__Proteobacteria;c__Gammaproteobac...  k__Bacteria;p__Proteobacteria;c__Gammaproteoba...\n",
      "k__Bacteria;p__Proteobacteria;c__Gammaproteobac...  k__Bacteria;p__Proteobacteria;c__Gammaproteoba...\n",
      "k__Bacteria;p__Proteobacteria;c__Gammaproteobac...  k__Bacteria;p__Proteobacteria;c__Gammaproteoba...\n",
      "k__Bacteria;p__Proteobacteria;c__Gammaproteobac...  k__Bacteria;p__Proteobacteria;c__Gammaproteoba...\n",
      "k__Bacteria;p__Proteobacteria;c__Gammaproteobac...  k__Bacteria;p__Proteobacteria;c__Gammaproteoba...\n",
      "k__Bacteria;p__Proteobacteria;c__Gammaproteobac...  k__Bacteria;p__Proteobacteria;c__Gammaproteoba...\n",
      "k__Bacteria;p__Proteobacteria;c__Gammaproteobac...  k__Bacteria;p__Proteobacteria;c__Gammaproteoba...\n",
      "k__Bacteria;p__Proteobacteria;c__Gammaproteobac...  k__Bacteria;p__Proteobacteria;c__Gammaproteoba...\n",
      "k__Bacteria;p__Proteobacteria;c__Gammaproteobac...  k__Bacteria;p__Proteobacteria;c__Gammaproteoba...\n",
      "k__Bacteria;p__Proteobacteria;c__Gammaproteobac...  k__Bacteria;p__Proteobacteria;c__Gammaproteoba...\n",
      "k__Bacteria;p__Proteobacteria;c__Gammaproteobac...  k__Bacteria;p__Proteobacteria;c__Gammaproteoba...\n",
      "k__Bacteria;p__Proteobacteria;c__Gammaproteobac...  k__Bacteria;p__Proteobacteria;c__Gammaproteoba...\n",
      "k__Bacteria;p__Proteobacteria;c__Gammaproteobac...  k__Bacteria;p__Proteobacteria;c__Gammaproteoba...\n",
      "k__Bacteria;p__Proteobacteria;c__Gammaproteobac...  k__Bacteria;p__Proteobacteria;c__Gammaproteoba...\n",
      "k__Bacteria;p__Proteobacteria;c__Gammaproteobac...  k__Bacteria;p__Proteobacteria;c__Gammaproteoba...\n",
      "k__Bacteria;p__Proteobacteria;c__Gammaproteobac...  k__Bacteria;p__Proteobacteria;c__Gammaproteoba...\n",
      "k__Bacteria;p__Proteobacteria;c__Gammaproteobac...  k__Bacteria;p__Proteobacteria;c__Gammaproteoba...\n",
      "k__Bacteria;p__Proteobacteria;c__Gammaproteobac...  k__Bacteria;p__Proteobacteria;c__Gammaproteoba...\n",
      "k__Bacteria;p__Proteobacteria;c__Gammaproteobac...  k__Bacteria;p__Proteobacteria;c__Gammaproteoba...\n",
      "k__Bacteria;p__Proteobacteria;c__Gammaproteobac...  k__Bacteria;p__Proteobacteria;c__Gammaproteoba...\n",
      "k__Bacteria;p__Proteobacteria;c__Gammaproteobac...  k__Bacteria;p__Proteobacteria;c__Gammaproteoba...\n",
      "k__Bacteria;p__Proteobacteria;c__Gammaproteobac...  k__Bacteria;p__Proteobacteria;c__Gammaproteoba...\n",
      "k__Bacteria;p__Proteobacteria;c__Gammaproteobac...  k__Bacteria;p__Proteobacteria;c__Gammaproteoba...\n",
      "k__Bacteria;p__Proteobacteria;c__Gammaproteobac...  k__Bacteria;p__Proteobacteria;c__Gammaproteoba...\n",
      "k__Bacteria;p__Proteobacteria;c__Gammaproteobac...  k__Bacteria;p__Proteobacteria;c__Gammaproteoba...\n",
      "k__Bacteria;p__Proteobacteria;c__Gammaproteobac...  k__Bacteria;p__Proteobacteria;c__Gammaproteoba...\n",
      "k__Bacteria;p__Proteobacteria;c__Gammaproteobac...  k__Bacteria;p__Proteobacteria;c__Gammaproteoba...\n",
      "k__Bacteria;p__Proteobacteria;c__Gammaproteobac...  k__Bacteria;p__Proteobacteria;c__Gammaproteoba...\n",
      "k__Bacteria;p__Proteobacteria;c__Gammaproteobac...  k__Bacteria;p__Proteobacteria;c__Gammaproteoba...\n",
      "k__Bacteria;p__Proteobacteria;c__Gammaproteobac...  k__Bacteria;p__Proteobacteria;c__Gammaproteoba...\n",
      "k__Bacteria;p__Proteobacteria;c__Gammaproteobac...  k__Bacteria;p__Proteobacteria;c__Gammaproteoba...\n",
      "k__Bacteria;p__Proteobacteria;c__Gammaproteobac...  k__Bacteria;p__Proteobacteria;c__Gammaproteoba...\n",
      "k__Bacteria;p__Proteobacteria;c__Gammaproteobac...  k__Bacteria;p__Proteobacteria;c__Gammaproteoba...\n",
      "k__Bacteria;p__Proteobacteria;c__Gammaproteobac...  k__Bacteria;p__Proteobacteria;c__Gammaproteoba...\n",
      "k__Bacteria;p__Proteobacteria;c__Gammaproteobac...  k__Bacteria;p__Proteobacteria;c__Gammaproteoba...\n",
      "k__Bacteria;p__Proteobacteria;c__Gammaproteobac...  k__Bacteria;p__Proteobacteria;c__Gammaproteoba...\n",
      "k__Bacteria;p__Proteobacteria;c__Gammaproteobac...  k__Bacteria;p__Proteobacteria;c__Gammaproteoba...\n",
      "k__Bacteria;p__Proteobacteria;c__Gammaproteobac...  k__Bacteria;p__Proteobacteria;c__Gammaproteoba...\n",
      "k__Bacteria;p__Proteobacteria;c__Gammaproteobac...  k__Bacteria;p__Proteobacteria;c__Gammaproteoba...\n",
      "k__Bacteria;p__Proteobacteria;c__Gammaproteobac...  k__Bacteria;p__Proteobacteria;c__Gammaproteoba...\n",
      "k__Bacteria;p__Proteobacteria;c__Gammaproteobac...  k__Bacteria;p__Proteobacteria;c__Gammaproteoba...\n",
      "k__Bacteria;p__Proteobacteria;c__Gammaproteobac...  k__Bacteria;p__Proteobacteria;c__Gammaproteoba...\n",
      "k__Bacteria;p__Proteobacteria;c__Gammaproteobac...  k__Bacteria;p__Proteobacteria;c__Gammaproteoba...\n",
      "k__Bacteria;p__Proteobacteria;c__Gammaproteobac...  k__Bacteria;p__Proteobacteria;c__Gammaproteoba...\n",
      "k__Bacteria;p__Proteobacteria;c__Gammaproteobac...  k__Bacteria;p__Proteobacteria;c__Gammaproteoba...\n",
      "k__Bacteria;p__Proteobacteria;c__Gammaproteobac...  k__Bacteria;p__Proteobacteria;c__Gammaproteoba...\n",
      "k__Bacteria;p__Proteobacteria;c__Gammaproteobac...  k__Bacteria;p__Proteobacteria;c__Gammaproteoba...\n",
      "k__Bacteria;p__Proteobacteria;c__Gammaproteobac...  k__Bacteria;p__Proteobacteria;c__Gammaproteoba...\n",
      "k__Bacteria;p__Proteobacteria;c__Gammaproteobac...  k__Bacteria;p__Proteobacteria;c__Gammaproteoba...\n",
      "k__Bacteria;p__Proteobacteria;c__Gammaproteobac...  k__Bacteria;p__Proteobacteria;c__Gammaproteoba...\n",
      "k__Bacteria;p__Proteobacteria;c__Gammaproteobac...  k__Bacteria;p__Proteobacteria;c__Gammaproteoba...\n",
      "k__Bacteria;p__Proteobacteria;c__Gammaproteobac...  k__Bacteria;p__Proteobacteria;c__Gammaproteoba...\n",
      "k__Bacteria;p__Proteobacteria;c__Gammaproteobac...  k__Bacteria;p__Proteobacteria;c__Gammaproteoba...\n",
      "k__Bacteria;p__Proteobacteria;c__Gammaproteobac...  k__Bacteria;p__Proteobacteria;c__Gammaproteoba...\n",
      "k__Bacteria;p__Proteobacteria;c__Gammaproteobac...  k__Bacteria;p__Proteobacteria;c__Gammaproteoba...\n",
      "k__Bacteria;p__Proteobacteria;c__Gammaproteobac...  k__Bacteria;p__Proteobacteria;c__Gammaproteoba...\n",
      "k__Bacteria;p__Proteobacteria;c__Gammaproteobac...  k__Bacteria;p__Proteobacteria;c__Gammaproteoba...\n",
      "k__Bacteria;p__Proteobacteria;c__Gammaproteobac...  k__Bacteria;p__Proteobacteria;c__Gammaproteoba...\n",
      "k__Bacteria;p__Proteobacteria;c__Gammaproteobac...  k__Bacteria;p__Proteobacteria;c__Gammaproteoba...\n",
      "k__Bacteria;p__Proteobacteria;c__Gammaproteobac...  k__Bacteria;p__Proteobacteria;c__Gammaproteoba...\n",
      "k__Bacteria;p__Proteobacteria;c__Gammaproteobac...  k__Bacteria;p__Proteobacteria;c__Gammaproteoba...\n",
      "k__Bacteria;p__Proteobacteria;c__Gammaproteobac...  k__Bacteria;p__Proteobacteria;c__Gammaproteoba...\n",
      "k__Bacteria;p__Proteobacteria;c__Gammaproteobac...  k__Bacteria;p__Proteobacteria;c__Gammaproteoba...\n",
      "k__Bacteria;p__Proteobacteria;c__Gammaproteobac...  k__Bacteria;p__Proteobacteria;c__Gammaproteoba...\n",
      "k__Bacteria;p__Proteobacteria;c__Gammaproteobac...  k__Bacteria;p__Proteobacteria;c__Gammaproteoba...\n",
      "k__Bacteria;p__Proteobacteria;c__Gammaproteobac...  k__Bacteria;p__Proteobacteria;c__Gammaproteoba...\n",
      "k__Bacteria;p__Proteobacteria;c__Gammaproteobac...  k__Bacteria;p__Proteobacteria;c__Gammaproteoba...\n",
      "k__Bacteria;p__Proteobacteria;c__Gammaproteobac...  k__Bacteria;p__Proteobacteria;c__Gammaproteoba...\n",
      "k__Bacteria;p__Proteobacteria;c__Gammaproteobac...  k__Bacteria;p__Proteobacteria;c__Gammaproteoba...\n",
      "k__Bacteria;p__Proteobacteria;c__Gammaproteobac...  k__Bacteria;p__Proteobacteria;c__Gammaproteoba...\n",
      "k__Bacteria;p__Proteobacteria;c__Gammaproteobac...  k__Bacteria;p__Proteobacteria;c__Gammaproteoba...\n",
      "k__Bacteria;p__Proteobacteria;c__Gammaproteobac...  k__Bacteria;p__Proteobacteria;c__Gammaproteoba...\n",
      "k__Bacteria;p__Proteobacteria;c__Gammaproteobac...  k__Bacteria;p__Proteobacteria;c__Gammaproteoba...\n",
      "k__Bacteria;p__Proteobacteria;c__Gammaproteobac...  k__Bacteria;p__Proteobacteria;c__Gammaproteoba...\n",
      "k__Bacteria;p__Proteobacteria;c__Gammaproteobac...  k__Bacteria;p__Proteobacteria;c__Gammaproteoba...\n",
      "k__Bacteria;p__Proteobacteria;c__Gammaproteobac...  k__Bacteria;p__Proteobacteria;c__Gammaproteoba...\n",
      "k__Bacteria;p__Proteobacteria;c__Gammaproteobac...  k__Bacteria;p__Proteobacteria;c__Gammaproteoba...\n",
      "k__Bacteria;p__Proteobacteria;c__Gammaproteobac...  k__Bacteria;p__Proteobacteria;c__Gammaproteoba...\n",
      "k__Bacteria;p__Proteobacteria;c__Gammaproteobac...  k__Bacteria;p__Proteobacteria;c__Gammaproteoba...\n",
      "k__Bacteria;p__Proteobacteria;c__Gammaproteobac...  k__Bacteria;p__Proteobacteria;c__Gammaproteoba...\n",
      "k__Bacteria;p__Proteobacteria;c__Gammaproteobac...  k__Bacteria;p__Proteobacteria;c__Gammaproteoba...\n",
      "k__Bacteria;p__Proteobacteria;c__Gammaproteobac...  k__Bacteria;p__Proteobacteria;c__Gammaproteoba...\n",
      "k__Bacteria;p__Proteobacteria;c__Gammaproteobac...  k__Bacteria;p__Proteobacteria;c__Gammaproteoba...\n",
      "k__Bacteria;p__Proteobacteria;c__Gammaproteobac...  k__Bacteria;p__Proteobacteria;c__Gammaproteoba...\n",
      "k__Bacteria;p__Proteobacteria;c__Gammaproteobac...  k__Bacteria;p__Proteobacteria;c__Gammaproteoba...\n",
      "k__Bacteria;p__Proteobacteria;c__Gammaproteobac...  k__Bacteria;p__Proteobacteria;c__Gammaproteoba...\n",
      "k__Bacteria;p__Proteobacteria;c__Gammaproteobac...  k__Bacteria;p__Proteobacteria;c__Gammaproteoba...\n",
      "k__Bacteria;p__Proteobacteria;c__Gammaproteobac...  k__Bacteria;p__Proteobacteria;c__Gammaproteoba...\n",
      "k__Bacteria;p__Proteobacteria;c__Gammaproteobac...  k__Bacteria;p__Proteobacteria;c__Gammaproteoba...\n",
      "k__Bacteria;p__Proteobacteria;c__Gammaproteobac...  k__Bacteria;p__Proteobacteria;c__Gammaproteoba...\n",
      "k__Bacteria;p__Spirochaetes;c__Spirochaetes;o__...  k__Bacteria;p__Spirochaetes;c__Spirochaetes;o_...\n",
      "k__Bacteria;p__Spirochaetes;c__Spirochaetes;o__...  k__Bacteria;p__Spirochaetes;c__Spirochaetes;o_...\n",
      "k__Bacteria;p__Synergistetes;c__Synergistia;o__...  k__Bacteria;p__Synergistetes;c__Synergistia;o_...\n",
      "k__Bacteria;p__Synergistetes;c__Synergistia;o__...  k__Bacteria;p__Synergistetes;c__Synergistia;o_...\n",
      "k__Bacteria;p__TM6;c__SJA-4;o__;f__;g__;s__               k__Bacteria;p__TM6;c__SJA-4;o__;f__;g__;s__\n",
      "k__Bacteria;p__TM7;c__;o__;f__;g__;s__                         k__Bacteria;p__TM7;c__;o__;f__;g__;s__\n",
      "k__Bacteria;p__TM7;c__TM7-1;o__;f__;g__;s__               k__Bacteria;p__TM7;c__TM7-1;o__;f__;g__;s__\n",
      "k__Bacteria;p__TM7;c__TM7-3;o__;f__;g__;s__               k__Bacteria;p__TM7;c__TM7-3;o__;f__;g__;s__\n",
      "k__Bacteria;p__TM7;c__TM7-3;o__I025;f__;g__;s__       k__Bacteria;p__TM7;c__TM7-3;o__I025;f__;g__;s__\n",
      "k__Bacteria;p__Tenericutes;c__Mollicutes;o__Ach...  k__Bacteria;p__Tenericutes;c__Mollicutes;o__Ac...\n",
      "k__Bacteria;p__Tenericutes;c__Mollicutes;o__Ach...  k__Bacteria;p__Tenericutes;c__Mollicutes;o__Ac...\n",
      "k__Bacteria;p__Tenericutes;c__Mollicutes;o__Ach...  k__Bacteria;p__Tenericutes;c__Mollicutes;o__Ac...\n",
      "k__Bacteria;p__Tenericutes;c__Mollicutes;o__Ana...  k__Bacteria;p__Tenericutes;c__Mollicutes;o__An...\n",
      "k__Bacteria;p__Tenericutes;c__Mollicutes;o__Ana...  k__Bacteria;p__Tenericutes;c__Mollicutes;o__An...\n",
      "k__Bacteria;p__Tenericutes;c__Mollicutes;o__Ent...  k__Bacteria;p__Tenericutes;c__Mollicutes;o__En...\n",
      "k__Bacteria;p__Tenericutes;c__Mollicutes;o__RF3...  k__Bacteria;p__Tenericutes;c__Mollicutes;o__RF...\n",
      "k__Bacteria;p__Verrucomicrobia;c__Opitutae;o__;...  k__Bacteria;p__Verrucomicrobia;c__Opitutae;o__...\n",
      "k__Bacteria;p__Verrucomicrobia;c__Opitutae;o__O...  k__Bacteria;p__Verrucomicrobia;c__Opitutae;o__...\n",
      "k__Bacteria;p__Verrucomicrobia;c__Opitutae;o__O...  k__Bacteria;p__Verrucomicrobia;c__Opitutae;o__...\n",
      "k__Bacteria;p__Verrucomicrobia;c__Opitutae;o__P...  k__Bacteria;p__Verrucomicrobia;c__Opitutae;o__...\n",
      "k__Bacteria;p__Verrucomicrobia;c__Opitutae;o__[...  k__Bacteria;p__Verrucomicrobia;c__Opitutae;o__...\n",
      "k__Bacteria;p__Verrucomicrobia;c__Verrucomicrob...  k__Bacteria;p__Verrucomicrobia;c__Verrucomicro...\n",
      "k__Bacteria;p__Verrucomicrobia;c__Verrucomicrob...  k__Bacteria;p__Verrucomicrobia;c__Verrucomicro...\n",
      "k__Bacteria;p__Verrucomicrobia;c__Verrucomicrob...  k__Bacteria;p__Verrucomicrobia;c__Verrucomicro...\n",
      "k__Bacteria;p__Verrucomicrobia;c__Verrucomicrob...  k__Bacteria;p__Verrucomicrobia;c__Verrucomicro...\n",
      "k__Bacteria;p__Verrucomicrobia;c__Verrucomicrob...  k__Bacteria;p__Verrucomicrobia;c__Verrucomicro...\n",
      "k__Bacteria;p__Verrucomicrobia;c__Verrucomicrob...  k__Bacteria;p__Verrucomicrobia;c__Verrucomicro...\n",
      "k__Bacteria;p__Verrucomicrobia;c__[Spartobacter...  k__Bacteria;p__Verrucomicrobia;c__[Spartobacte...\n",
      "k__Bacteria;p__Verrucomicrobia;c__[Spartobacter...  k__Bacteria;p__Verrucomicrobia;c__[Spartobacte...\n",
      "k__Bacteria;p__Verrucomicrobia;c__[Spartobacter...  k__Bacteria;p__Verrucomicrobia;c__[Spartobacte...\n",
      "k__Bacteria;p__Verrucomicrobia;c__[Spartobacter...  k__Bacteria;p__Verrucomicrobia;c__[Spartobacte...\n",
      "k__Bacteria;p__Verrucomicrobia;c__[Spartobacter...  k__Bacteria;p__Verrucomicrobia;c__[Spartobacte...\n",
      "k__Bacteria;p__Verrucomicrobia;c__[Spartobacter...  k__Bacteria;p__Verrucomicrobia;c__[Spartobacte...\n",
      "k__Bacteria;p__WPS-2;c__;o__;f__;g__;s__                     k__Bacteria;p__WPS-2;c__;o__;f__;g__;s__\n",
      "k__Bacteria;p__[Thermi];c__Deinococci;o__Deinoc...  k__Bacteria;p__[Thermi];c__Deinococci;o__Deino...\n",
      "k__Bacteria;p__[Thermi];c__Deinococci;o__Deinoc...  k__Bacteria;p__[Thermi];c__Deinococci;o__Deino...\n",
      "k__Bacteria;p__[Thermi];c__Deinococci;o__Deinoc...  k__Bacteria;p__[Thermi];c__Deinococci;o__Deino...\n",
      "k__Bacteria;p__[Thermi];c__Deinococci;o__Therma...  k__Bacteria;p__[Thermi];c__Deinococci;o__Therm...\n",
      "k__Bacteria;p__[Thermi];c__Deinococci;o__Therma...  k__Bacteria;p__[Thermi];c__Deinococci;o__Therm...\n"
     ]
    }
   ],
   "source": [
    "print(exp_L7.feature_metadata)"
   ]
  },
  {
   "cell_type": "markdown",
   "metadata": {},
   "source": [
    "## Running the L7 model"
   ]
  },
  {
   "cell_type": "code",
   "execution_count": 59,
   "metadata": {},
   "outputs": [],
   "source": [
    "# groupKfold = 6, will leave out one body for each model\n",
    "gkf = GroupKFold(6)\n",
    "\n",
    "X = exp_L7.data\n",
    "y = exp_L7.sample_metadata['ADD_0']\n",
    "y = (y.astype(float))\n",
    "\n",
    "groups = exp_L7.sample_metadata['host_subject_id']\n",
    "\n",
    "# used to test the param grid for parameter tuning\n",
    "# use the output of this estimator below for input into new estimator (not commented out)\n",
    "param_grid = {\"max_depth\": [4, 8, 16, None],\n",
    "              \"max_features\": ['sqrt', 'log2', 0.1],\n",
    "              \"min_samples_split\": [0.001, 0.01, 0.1],\n",
    "              \"min_weight_fraction_leaf\": [0.0001, 0.001, 0.01],\n",
    "              \"bootstrap\": [True, False]}\n",
    "\n",
    "#param_grid = {\"max_depth\": [8],\n",
    "#          \"max_features\": [0.1],\n",
    "#          \"min_samples_split\": [0.001],\n",
    "#          \"min_weight_fraction_leaf\": [0.0001],\n",
    "#          \"bootstrap\": [False]}\n",
    "\n",
    "rf = RandomForestRegressor(n_estimators=1000, random_state=999, criterion='mae')\n",
    "gs = GridSearchCV(rf, param_grid=param_grid, cv=gkf.split(X, y, groups), scoring='neg_mean_absolute_error', n_jobs=1)"
   ]
  },
  {
   "cell_type": "code",
   "execution_count": 60,
   "metadata": {},
   "outputs": [
    {
     "data": {
      "text/plain": [
       "GridSearchCV(cv=<generator object _BaseKFold.split at 0x11dca40d0>,\n",
       "             error_score=nan,\n",
       "             estimator=RandomForestRegressor(bootstrap=True, ccp_alpha=0.0,\n",
       "                                             criterion='mae', max_depth=None,\n",
       "                                             max_features='auto',\n",
       "                                             max_leaf_nodes=None,\n",
       "                                             max_samples=None,\n",
       "                                             min_impurity_decrease=0.0,\n",
       "                                             min_impurity_split=None,\n",
       "                                             min_samples_leaf=1,\n",
       "                                             min_samples_split=2,\n",
       "                                             min_weight_fraction_leaf=0.0,\n",
       "                                             n_es...\n",
       "                                             oob_score=False, random_state=999,\n",
       "                                             verbose=0, warm_start=False),\n",
       "             iid='deprecated', n_jobs=1,\n",
       "             param_grid={'bootstrap': [True, False],\n",
       "                         'max_depth': [4, 8, 16, None],\n",
       "                         'max_features': ['sqrt', 'log2', 0.1],\n",
       "                         'min_samples_split': [0.001, 0.01, 0.1],\n",
       "                         'min_weight_fraction_leaf': [0.0001, 0.001, 0.01]},\n",
       "             pre_dispatch='2*n_jobs', refit=True, return_train_score=False,\n",
       "             scoring='neg_mean_absolute_error', verbose=0)"
      ]
     },
     "execution_count": 60,
     "metadata": {},
     "output_type": "execute_result"
    }
   ],
   "source": [
    "gs.fit(X, y)"
   ]
  },
  {
   "cell_type": "code",
   "execution_count": 61,
   "metadata": {},
   "outputs": [
    {
     "name": "stdout",
     "output_type": "stream",
     "text": [
      "{'bootstrap': False, 'max_depth': 16, 'max_features': 'log2', 'min_samples_split': 0.1, 'min_weight_fraction_leaf': 0.0001}\n"
     ]
    }
   ],
   "source": [
    "# this line is used when run with the first param grid to determine what the best parameters are for tuning\n",
    "print(gs.best_params_)"
   ]
  },
  {
   "cell_type": "code",
   "execution_count": 62,
   "metadata": {},
   "outputs": [
    {
     "name": "stdout",
     "output_type": "stream",
     "text": [
      "The best mean absolute error is 822.28\n"
     ]
    }
   ],
   "source": [
    "print('The best mean absolute error is', round(-gs.best_score_,2))"
   ]
  },
  {
   "cell_type": "code",
   "execution_count": 63,
   "metadata": {},
   "outputs": [
    {
     "data": {
      "text/plain": [
       "['models/bone_L7_no_metadata.pkl']"
      ]
     },
     "execution_count": 63,
     "metadata": {},
     "output_type": "execute_result"
    }
   ],
   "source": [
    "joblib.dump(gs.best_estimator_, 'models/bone_L7_no_metadata.pkl')"
   ]
  },
  {
   "cell_type": "code",
   "execution_count": 64,
   "metadata": {},
   "outputs": [
    {
     "data": {
      "text/plain": [
       "RandomForestRegressor(bootstrap=False, ccp_alpha=0.0, criterion='mae',\n",
       "                      max_depth=16, max_features='log2', max_leaf_nodes=None,\n",
       "                      max_samples=None, min_impurity_decrease=0.0,\n",
       "                      min_impurity_split=None, min_samples_leaf=1,\n",
       "                      min_samples_split=0.1, min_weight_fraction_leaf=0.0001,\n",
       "                      n_estimators=1000, n_jobs=None, oob_score=False,\n",
       "                      random_state=999, verbose=0, warm_start=False)"
      ]
     },
     "execution_count": 64,
     "metadata": {},
     "output_type": "execute_result"
    }
   ],
   "source": [
    "bone_L7 = joblib.load('models/bone_L7_no_metadata.pkl')\n",
    "bone_L7"
   ]
  },
  {
   "cell_type": "markdown",
   "metadata": {},
   "source": [
    "## Determine important features of the L7 model"
   ]
  },
  {
   "cell_type": "code",
   "execution_count": 66,
   "metadata": {},
   "outputs": [
    {
     "name": "stdout",
     "output_type": "stream",
     "text": [
      "Feature:\t\t\t\tImportance:\n",
      "1. k__Bacteria;p__Proteobacteria;c__Alphaproteobacteria;o__Rhizobiales;f__Phyllobacteriaceae;g__;s__\t0.012460536736487698\n",
      "2. k__Bacteria;p__Actinobacteria;c__Actinobacteria;o__Actinomycetales;f__Corynebacteriaceae;g__Corynebacterium;s__\t0.01165024906309782\n",
      "3. k__Bacteria;p__Proteobacteria;c__Alphaproteobacteria;o__Caulobacterales;f__Caulobacteraceae;g__;s__\t0.011563001160071463\n",
      "4. k__Bacteria;p__Proteobacteria;c__Alphaproteobacteria;o__Rhizobiales;f__Rhizobiaceae;g__Shinella;s__\t0.011199123907971294\n",
      "5. k__Bacteria;p__Firmicutes;c__Bacilli;o__Bacillales;f__Planococcaceae;g__Sporosarcina;s__\t0.011058586882234728\n",
      "6. k__Bacteria;p__Proteobacteria;c__Alphaproteobacteria;o__Rhizobiales;f__;g__;s__\t0.01098606950938838\n",
      "7. k__Bacteria;p__Bacteroidetes;c__[Saprospirae];o__[Saprospirales];f__Chitinophagaceae;g__;s__\t0.01061631127773758\n",
      "8. k__Bacteria;p__Proteobacteria;c__Alphaproteobacteria;o__Sphingomonadales;f__Sphingomonadaceae;g__Sphingopyxis;s__\t0.010522683869193498\n",
      "9. k__Bacteria;p__Bacteroidetes;c__Sphingobacteriia;o__Sphingobacteriales;f__Sphingobacteriaceae;g__Sphingobacterium;s__\t0.010488174401740822\n",
      "10. k__Bacteria;p__Proteobacteria;c__Alphaproteobacteria;o__Rhizobiales;f__Hyphomicrobiaceae;g__Rhodoplanes;s__\t0.01043215696685502\n",
      "11. k__Bacteria;p__Proteobacteria;c__Alphaproteobacteria;o__Rhizobiales;f__Phyllobacteriaceae;g__Defluvibacter;s__\t0.00997478548826501\n",
      "12. k__Bacteria;p__Proteobacteria;c__Gammaproteobacteria;o__Pseudomonadales;f__Pseudomonadaceae;g__Pseudomonas;s__\t0.00971792199359348\n",
      "13. k__Bacteria;p__Proteobacteria;c__Alphaproteobacteria;o__Rhodospirillales;f__Acetobacteraceae;g__Roseococcus;s__\t0.009531815712221007\n",
      "14. k__Bacteria;p__Actinobacteria;c__Actinobacteria;o__Actinomycetales;f__Nocardioidaceae;g__Aeromicrobium;s__\t0.009176879863302049\n",
      "15. k__Bacteria;p__Firmicutes;c__Clostridia;o__Clostridiales;f__[Tissierellaceae];g__Gallicola;s__\t0.009091124989857584\n",
      "16. k__Bacteria;p__Firmicutes;c__Bacilli;o__Bacillales;f__Bacillaceae;g__Bacillus;s__\t0.009016135593546096\n",
      "17. k__Bacteria;p__Bacteroidetes;c__Sphingobacteriia;o__Sphingobacteriales;f__Sphingobacteriaceae;g__Sphingobacterium;s__mizutaii\t0.008707943751210916\n",
      "18. k__Bacteria;p__Proteobacteria;c__Alphaproteobacteria;o__Rhizobiales;f__Bradyrhizobiaceae;g__;s__\t0.008519681468353881\n",
      "19. k__Bacteria;p__Bacteroidetes;c__Sphingobacteriia;o__Sphingobacteriales;f__Sphingobacteriaceae;g__;s__\t0.008518063953640253\n",
      "20. k__Bacteria;p__Actinobacteria;c__Actinobacteria;o__Actinomycetales;f__Promicromonosporaceae;g__Cellulosimicrobium;s__\t0.008050392792136386\n",
      "21. k__Bacteria;p__Bacteroidetes;c__Bacteroidia;o__Bacteroidales;f__Bacteroidaceae;g__Bacteroides;s__coprosuis\t0.007963061708496448\n",
      "22. k__Bacteria;p__Actinobacteria;c__Actinobacteria;o__Actinomycetales;f__Dietziaceae;g__Dietzia;s__\t0.007827129502393731\n",
      "23. k__Bacteria;p__Proteobacteria;c__Alphaproteobacteria;o__Rhizobiales;f__Hyphomicrobiaceae;g__Devosia;s__\t0.007686825879183077\n",
      "24. k__Bacteria;p__Firmicutes;c__Clostridia;o__Clostridiales;f__[Tissierellaceae];g__Helcococcus;s__\t0.007601348358379769\n",
      "25. k__Bacteria;p__Proteobacteria;c__Gammaproteobacteria;o__Xanthomonadales;f__Xanthomonadaceae;g__;s__\t0.007420670231346915\n"
     ]
    }
   ],
   "source": [
    "importances = bone_L7.feature_importances_\n",
    "std = np.std([tree.feature_importances_ for tree in bone_L7.estimators_],\n",
    "             axis=0)\n",
    "indices = np.argsort(importances)[::-1]\n",
    "\n",
    "feature_metadata = exp_L7.feature_metadata\n",
    "np.savetxt(\"importances/bone_L7_no_metadata_features.csv\", feature_metadata, delimiter=\",\", fmt='%s')\n",
    "\n",
    "\n",
    "#print the important ids in order\n",
    "general_importances = []\n",
    "count = 0\n",
    "print(\"Feature:\\t\\t\\t\\tImportance:\")\n",
    "for i in indices:\n",
    "    general_importances += (exp_L7.feature_metadata.index.values[i], importances[indices[count]])\n",
    "    if count < 25:\n",
    "        print(str(count+1)+\". \"+str(exp_L7.feature_metadata.index.values[i])+\"\\t\"+str(importances[indices[count]]))\n",
    "    count += 1\n",
    "    \n",
    "general_importances_df = pd.DataFrame(np.array(general_importances).reshape(1342,1))\n",
    "\n",
    "np.savetxt(\"importances/bone_L7_no_features_importances.csv\", general_importances_df, delimiter=\",\", fmt='%s')"
   ]
  },
  {
   "cell_type": "markdown",
   "metadata": {},
   "source": [
    "## Import rarefied table at the ASV level"
   ]
  },
  {
   "cell_type": "code",
   "execution_count": 67,
   "metadata": {},
   "outputs": [
    {
     "name": "stdout",
     "output_type": "stream",
     "text": [
      "2020-06-26 15:37:47 WARNING These have metadata but do not have data - dropped (51): {'11553.CSU.extraction.blank1', '11553.BLANKrib.11E', '11553.BLANKrib.10D', '11553.CSU.extraction.blank10', '11553.BLANKrib.10G', '11553.CSU.extraction.blank8', '11553.BLANKrib.10B', '11553.CSU.extraction.blank6', '11553.BLANKrib.9A', '11553.BLANKrib.11G', '11553.CSU.extraction.blank5', '11553.BLANKrib.12F', '11553.BLANKrib.12H', '11553.BLANKrib.9B', '11553.CSU.extraction.blank7', '11553.SHSU.STAFS2016.011.L09', '11553.BLANKrib.11H', '11553.BLANKrib.10F', '11553.CSU.extraction.blank15', '11553.BLANKrib.5B', '11553.CSU.extraction.blank3', '11553.BLANKrib.9D', '11553.BLANKrib.9H', '11553.BLANKrib.9C', '11553.BLANKrib.12A', '11553.STAFS.2016.064.L12', '11553.BLANKrib.11D', '11553.CSU.extraction.blank13', '11553.CSU.extraction.blank14', '11553.CSU.extraction.blank12', '11553.BLANKrib.10A', '11553.CSU.extraction.blank11', '11553.BLANKrib.11C', '11553.BLANKrib.12G', '11553.BLANKrib.12E', '11553.CSU.extraction.blank9', '11553.BLANKrib.10H', '11553.SHSU.STAFS2016.007.R11', '11553.CSU.extraction.blank4', '11553.BLANKrib.10E', '11553.BLANKrib.10C', '11553.BLANKrib.9G', '11553.BLANKrib.9E', '11553.BLANKrib.12B', '11553.BLANKrib.11B', '11553.BLANKrib.12D', '11553.BLANKrib.12C', '11553.BLANKrib.11A', '11553.BLANKrib.9F', '11553.CSU.extraction.blank2', '11553.BLANKrib.11F'}\n"
     ]
    }
   ],
   "source": [
    "exp_ASV = ca.read_amplicon('../01_qiime2_analysis/feature_tables/exported-feature-tables/frag_ins_filtered_noChloMito_17098_table.biom', '../02_metadata/maps/map3.txt', min_reads=0, normalize = None)\n"
   ]
  },
  {
   "cell_type": "code",
   "execution_count": 68,
   "metadata": {},
   "outputs": [
    {
     "data": {
      "text/plain": [
       "STAFS2016.065    8\n",
       "STAFS2016.011    8\n",
       "STAFS2016.067    8\n",
       "STAFS2016.007    7\n",
       "STAFS2016.064    7\n",
       "STAFS2016.024    7\n",
       "Name: host_subject_id, dtype: int64"
      ]
     },
     "execution_count": 68,
     "metadata": {},
     "output_type": "execute_result"
    }
   ],
   "source": [
    "exp_ASV.sample_metadata['host_subject_id'].value_counts()"
   ]
  },
  {
   "cell_type": "code",
   "execution_count": 69,
   "metadata": {},
   "outputs": [
    {
     "data": {
      "text/plain": [
       "#SampleID\n",
       "11553.SHSU.STAFS2016.024.R09      708.0555556\n",
       "11553.STAFS.2016.065.L12          2268.055556\n",
       "11553.STAFS.2016.067.R12          2414.444444\n",
       "11553.SHSU.STAFS2016.007.L09      1911.111111\n",
       "11553.SHSU.STAFS2016.011.L08      1301.666667\n",
       "11553.STAFS.2016.065.R11          4756.388889\n",
       "11553.STAFS.2016.065.R09          3456.111111\n",
       "11553.SHSU.STAFS2016.024.L12      4285.833333\n",
       "11553.SHSU.STAFS2016.007.L11      2584.444444\n",
       "11553.SHSU.STAFS2016.011.L10      3777.222222\n",
       "11553.STAFS.2016.064.R10          3456.111111\n",
       "11553.SHSU.STAFS2016.024.R11      2584.444444\n",
       "11553.STAFS.2016.067.L11.june     5201.388889\n",
       "11553.SHSU.STAFS2016.007.R12      1301.666667\n",
       "11553.STAFS.2016.065.R10          2804.722222\n",
       "11553.STAFS.2016.064.R09          592.7777778\n",
       "11553.STAFS.2016.067.L10          3623.055556\n",
       "11553.SHSU.STAFS2016.011.R12      708.0555556\n",
       "11553.STAFS.2016.064.R11          1300.555556\n",
       "11553.SHSU.STAFS2016.011.L11      4285.833333\n",
       "11553.SHSU.STAFS2016.007.L10      4821.388889\n",
       "11553.STAFS.2016.065.R08          4013.333333\n",
       "11553.SHSU.STAFS2016.007.R10      708.0555556\n",
       "11553.STAFS.2016.064.R12          2035.277778\n",
       "11553.SHSU.STAFS2016.011.L12      3305.555556\n",
       "11553.SHSU.STAFS2016.024.L10      3305.555556\n",
       "11553.STAFS.2016.064.L11          2804.722222\n",
       "11553.STAFS.2016.064.L09          4013.333333\n",
       "11553.STAFS.2016.067.L11.march    3065.833333\n",
       "11553.STAFS.2016.067.R10                 1645\n",
       "11553.STAFS.2016.065.L10          1300.555556\n",
       "11553.SHSU.STAFS2016.011.R09      1911.111111\n",
       "11553.STAFS.2016.064.L10          4756.388889\n",
       "11553.STAFS.2016.067.R09          1877.777778\n",
       "11553.SHSU.STAFS2016.024.L11      4821.388889\n",
       "11553.SHSU.STAFS2016.007.L12      3305.555556\n",
       "11553.STAFS.2016.065.L09                877.5\n",
       "11553.SHSU.STAFS2016.024.R12      1911.111111\n",
       "11553.SHSU.STAFS2016.011.R10      2584.444444\n",
       "11553.STAFS.2016.067.L12          4366.111111\n",
       "11553.SHSU.STAFS2016.011.R08      1301.666667\n",
       "11553.SHSU.STAFS2016.007.R09      3777.222222\n",
       "11553.STAFS.2016.065.L11          2035.277778\n",
       "11553.SHSU.STAFS2016.024.L09      3777.222222\n",
       "11553.STAFS.2016.067.R11          1151.666667\n",
       "Name: ADD_0, dtype: object"
      ]
     },
     "execution_count": 69,
     "metadata": {},
     "output_type": "execute_result"
    }
   ],
   "source": [
    "exp_ASV.sample_metadata['ADD_0']"
   ]
  },
  {
   "cell_type": "markdown",
   "metadata": {},
   "source": [
    "## Running the ASV model"
   ]
  },
  {
   "cell_type": "code",
   "execution_count": 70,
   "metadata": {},
   "outputs": [],
   "source": [
    "# groupKfold = 6, will leave out one body for each model\n",
    "gkf = GroupKFold(6)\n",
    "\n",
    "X = exp_ASV.data\n",
    "y = exp_ASV.sample_metadata['ADD_0']\n",
    "y = (y.astype(float))\n",
    "\n",
    "groups = exp_ASV.sample_metadata['host_subject_id']\n",
    "\n",
    "# used to test the param grid for parameter tuning\n",
    "# use the output of this estimator below for input into new estimator (not commented out)\n",
    "param_grid = {\"max_depth\": [4, 8, 16, None],\n",
    "              \"max_features\": ['sqrt', 'log2', 0.1],\n",
    "              \"min_samples_split\": [0.001, 0.01, 0.1],\n",
    "              \"min_weight_fraction_leaf\": [0.0001, 0.001, 0.01],\n",
    "              \"bootstrap\": [True, False]}\n",
    "\n",
    "#param_grid = {\"max_depth\": [8],\n",
    "#          \"max_features\": [0.1],\n",
    "#          \"min_samples_split\": [0.001],\n",
    "#          \"min_weight_fraction_leaf\": [0.0001],\n",
    "#          \"bootstrap\": [False]}\n",
    "\n",
    "rf = RandomForestRegressor(n_estimators=1000, random_state=999, criterion='mae')\n",
    "gs = GridSearchCV(rf, param_grid=param_grid, cv=gkf.split(X, y, groups), scoring='neg_mean_absolute_error', n_jobs=1)"
   ]
  },
  {
   "cell_type": "code",
   "execution_count": 71,
   "metadata": {},
   "outputs": [
    {
     "data": {
      "text/plain": [
       "GridSearchCV(cv=<generator object _BaseKFold.split at 0x11dc708d0>,\n",
       "             error_score=nan,\n",
       "             estimator=RandomForestRegressor(bootstrap=True, ccp_alpha=0.0,\n",
       "                                             criterion='mae', max_depth=None,\n",
       "                                             max_features='auto',\n",
       "                                             max_leaf_nodes=None,\n",
       "                                             max_samples=None,\n",
       "                                             min_impurity_decrease=0.0,\n",
       "                                             min_impurity_split=None,\n",
       "                                             min_samples_leaf=1,\n",
       "                                             min_samples_split=2,\n",
       "                                             min_weight_fraction_leaf=0.0,\n",
       "                                             n_es...\n",
       "                                             oob_score=False, random_state=999,\n",
       "                                             verbose=0, warm_start=False),\n",
       "             iid='deprecated', n_jobs=1,\n",
       "             param_grid={'bootstrap': [True, False],\n",
       "                         'max_depth': [4, 8, 16, None],\n",
       "                         'max_features': ['sqrt', 'log2', 0.1],\n",
       "                         'min_samples_split': [0.001, 0.01, 0.1],\n",
       "                         'min_weight_fraction_leaf': [0.0001, 0.001, 0.01]},\n",
       "             pre_dispatch='2*n_jobs', refit=True, return_train_score=False,\n",
       "             scoring='neg_mean_absolute_error', verbose=0)"
      ]
     },
     "execution_count": 71,
     "metadata": {},
     "output_type": "execute_result"
    }
   ],
   "source": [
    "gs.fit(X, y)"
   ]
  },
  {
   "cell_type": "code",
   "execution_count": 72,
   "metadata": {},
   "outputs": [
    {
     "name": "stdout",
     "output_type": "stream",
     "text": [
      "{'bootstrap': False, 'max_depth': 8, 'max_features': 0.1, 'min_samples_split': 0.001, 'min_weight_fraction_leaf': 0.0001}\n"
     ]
    }
   ],
   "source": [
    "# this line is used when run with the first param grid to determine what the best parameters are for tuning\n",
    "print(gs.best_params_)"
   ]
  },
  {
   "cell_type": "code",
   "execution_count": 73,
   "metadata": {},
   "outputs": [
    {
     "name": "stdout",
     "output_type": "stream",
     "text": [
      "The best mean absolute error is 793.33\n"
     ]
    }
   ],
   "source": [
    "print('The best mean absolute error is', round(-gs.best_score_,2))"
   ]
  },
  {
   "cell_type": "code",
   "execution_count": 74,
   "metadata": {},
   "outputs": [
    {
     "data": {
      "text/plain": [
       "['models/bone_ASV_no_metadata.pkl']"
      ]
     },
     "execution_count": 74,
     "metadata": {},
     "output_type": "execute_result"
    }
   ],
   "source": [
    "joblib.dump(gs.best_estimator_, 'models/bone_ASV_no_metadata.pkl')"
   ]
  },
  {
   "cell_type": "code",
   "execution_count": 75,
   "metadata": {},
   "outputs": [
    {
     "data": {
      "text/plain": [
       "RandomForestRegressor(bootstrap=False, ccp_alpha=0.0, criterion='mae',\n",
       "                      max_depth=8, max_features=0.1, max_leaf_nodes=None,\n",
       "                      max_samples=None, min_impurity_decrease=0.0,\n",
       "                      min_impurity_split=None, min_samples_leaf=1,\n",
       "                      min_samples_split=0.001, min_weight_fraction_leaf=0.0001,\n",
       "                      n_estimators=1000, n_jobs=None, oob_score=False,\n",
       "                      random_state=999, verbose=0, warm_start=False)"
      ]
     },
     "execution_count": 75,
     "metadata": {},
     "output_type": "execute_result"
    }
   ],
   "source": [
    "bone_ASV = joblib.load('models/bone_ASV_no_metadata.pkl')\n",
    "bone_ASV"
   ]
  },
  {
   "cell_type": "markdown",
   "metadata": {},
   "source": [
    "## Determine important features of the ASV model"
   ]
  },
  {
   "cell_type": "code",
   "execution_count": 77,
   "metadata": {},
   "outputs": [
    {
     "name": "stdout",
     "output_type": "stream",
     "text": [
      "Feature:\t\t\t\tImportance:\n",
      "1. TACGAAGGGGGCTAGCGTTGTTCGGAATTACTGGGCGTAAAGCGCACGTAGGCGGATTGGTCAGTTAGGGGTGAAATCCCAGGGCTCAACCCTGGAACTGCCTTTAATACTGCCGGTCTAGAGTTCGAGAGAGGTGAGTGGAATTCCGAG\t0.039635896500106335\n",
      "2. TACGAAGGGGGCTAGCGTTGTTCGGAATTACTGGGCGTAAAGCGCACGTAGGCGGATCGATCAGTTAGGGGTGAAATCCCAGGGCTCAACCCTGGAACTGCCTCTAATACTGTCGATCTCGAGTTCGAGAGAGGTGAGTGGAATTCCGAG\t0.03457431648811695\n",
      "3. TACGTAGGGTGCGAGCGTTGTCCGGAATTACTGGGCGTAAAGAGCTCGTAGGTGGTTTGTCGCGTCGTCTGTGAAATTCCGGGGCTTAACTCCGGGCGTGCAGGCGATACGGGCAAACTGGAGTGCTGTAGGGGAGACTGGAATTCCTGG\t0.033536738848873725\n",
      "4. TACGAAGGGGGCTAGCGTTGTTCGGAATTACTGGGCGTAAAGCGCACGTAGGCGGATATTTAAGTCAGGGGTGAAATCCCGGGGCTCAACCCCGGAACTGCCTTTGATACTGGGTATCTGGAGTATGGAAGAGGTAAGTGGAATTCCGAG\t0.029621851722557612\n",
      "5. TACGAAGGGGGCTAGCGTTGTTCGGATTTACTGGGCGTAAAGCGCACGTAGGCGGATTGGTCAGTTAGGGGTGAAATCCCAGAGCTCAACTCTGGAACTGCCCTTAATACTGCCAGTCTAGAGTCCGGAAGAGGTGAGTGGAACTCCTAG\t0.02253507776194126\n",
      "6. TACGAAGGGGGCTAGCGTTGCTCGGAATCACTGGGCGTAAAGCGCACGTAGGCGGACTCTTAAGTCGGTGGTGAAATCCTGGAGCTCAACTCCAGAACTGCCTTCGATACTGGGAGTCTCGAGTTCGGGAGAGGTGAGTGGAACTGCGAG\t0.0222491157427416\n",
      "7. TACGTAGGGGGCGAGCGTTGTCCGGAATTATTGGGCGTAAAGGGTACGTAGGCGGTTTAGAAAGTCAGATGTTAAAGCGTGAGGCTCAACCTCATAAAGCATTTGAAACTTCTAGACTTGAGTAGTGGAGAGGAAAGTGGAATTCCTAGT\t0.02171338122030518\n",
      "8. TACGAAGGGGGCTAGCGTTGCTCGGAATTACTGGGCGTAAAGGGCGCGTAGGCGGATCGTTAAGTCAGAGGTGAAATCCCAGGGCTCAACCCTGGAACTGCCTTTGATACTGGCGATCTTGAGTATGAGAGAGGTATGTGGAACTCCGAG\t0.0161845647837663\n",
      "9. TACGTAGGGTGCAAGCGTTAATCGGAATTACTGGGCGTAAAGCGTGCGCAGGCGGTTTTGTAAGACAGTGGTGAAATCCCCGGGCTCAACCTGGGAACTGCCATTGTGACTGCAAGGCTAGAGTGCGGCAGAGGGGGATGGAATTCCGCG\t0.016105433951263563\n",
      "10. TACGAAGGGGGCTAGCGTTGTTCGGAATTACTGGGCGTAAAGCGCACGTAGGCGGATCGATCAGTTAGGGGTGAAATCCCGGGGCTCAACCCCGGAACTGCCTCTAATACTGTCGATCTCGAGTTCGAGAGAGGTGAGTGGAATTCCGAG\t0.015714149595150828\n",
      "11. TACGTAGGTGGCAAGCGTTGTCCGGAATTATTGGGCGTAAAGCGCACGCAGGCGGCCTTTTAAGTCTGATGTGAAATCCCACGGCTTAACCGTGGAAGGTCATTGGAAACTGGAAGGCTTGAGGATAGAAGAGGAAAGTGGAATTCCACG\t0.015202170183973868\n",
      "12. TACGAAGGGGGCTAGCGTTGCTCGGAATCACTGGGCGTAAAGGGCGCGTAGGCGGACTTTTAAGTCGGAGGTGAAAGCCCAGGGCTCAACCCTGGAATTGCCTTCGATACTGGGAGTCTTGAGTTCGGAAGAGGTTGGTGGAACTGCGAG\t0.015053275772603385\n",
      "13. TACGTAGGGTGCAAGCGTTAATCGGAATTACTGGGCGTAAAGCGTGCGCAGGCGGTTCGGAAAGAAGGATGTGAAATCCCAGGGCTCAACCTTGGAACTGCATTCTTAACTACCGGGCTAGAGTGTGTCAGAGGGAGGTGGAATTCCGCG\t0.014439660927926048\n",
      "14. TACGGAGGGTGCAAGCGTTAATCGGAATTACTGGGCGTAAAGGGCGCGTAGGTGGTATCTTAAGTTGGGTGTGAAATCCCCGGGCTCAACCTGGGAATTGCATCCAAAACTGGGGTGCTAGAGTGTGGTAGAGGGTAGCGGAATTTCTGG\t0.014362027084785553\n",
      "15. TACGTAGGTGGCAAGCGTTGTCCGGAATTATTGGGCGTAAAGCGCGCGCAGGCGGTCCTTTAAGTCTGATGTGAAAGCCCACGGCTCAACCGTGGAAGGTCATTGGAAACTGGAGGACTTGAGTATAAGAGAGGAAAGTGGAATTCCACG\t0.013046023701022908\n",
      "16. TACGTAGGGCGCAAGCGTTGTCCGGAATTATTGGGCGTAAAGAGCTCGTAGGCGGTTTGTCGCGTCTGGTGTGAAAACTCGAGGCTCAACCTCGAGCTTGCATCGGGTACGGGCAGACTAGAGTGCGGTAGGGGAGACTGGAATTCCTGG\t0.012435204848513135\n",
      "17. TACGTAGGTGGCAAGCGTTGTCCGGATTTATTGGGCGTAAAGCGAGCGCAGGCGGTTCCTTAAGTCTGATGTGAAAGCCCCCGGCTCAACCGGGGAAGGTCATTGGAAACTGGGGAACTTGAGTGCAGAAGAGGAGAGTGGAATTCCATG\t0.010848840128927492\n",
      "18. TACGGAGGGTGCAAGCGTTAATCGGAATTACTGGGCGTAAAGGGCGCGTAGGTGGTATCTTAAGTTGGGTGTGAAATCCCCGGGCTCAACCTGGGAATTGCATCCAAAACTGGGATGCTAGAGTGTGGTAGAGGGTAGCGGAATTTCTGG\t0.009325287148530583\n",
      "19. TACGTAGGTGGCAAGCGTTGTCCGGAATTATTGGGCGTAAAGCGCACGCAGGCGGCCTTCTAAGTCTGATGTGAAATCCCACGGCTTAACCGTGGAAGGTCATTGGAAACTGGAAGGCTTGAGGATAGAAGAGGAAAGTGGAATTCCACG\t0.008874137377040804\n",
      "20. TACGTAGGTGGCAAGCGTTGTCCGGAATTATTGGGCGTAAAGCGCGCGCAGGCGGATCAGTCAGTCTGTCTTAAAAGTTCGGGGCTTAACCCCGTGATGGGATGGAAACTGCTGATCTAGAGTATCGGAGAGGAAAGTGGAATTCCTAGT\t0.008144502367301217\n",
      "21. TACGGAGGATCCGAGCGTTATCCGGATTTATTGGGTTTAAAGGGTGCGTAGGCGGCACTTTAAGTCAGGGGTGAAAGACGGCAGCTCAACTGTCGCAGTGCCCTTGATACTGAAGTGCTTGAATGCGGTTGAAGACGGCGGAATGAGACA\t0.007338041797038869\n",
      "22. TACGGAGGATCCAAGCGTTATCCGGAATCATTGGGTTTAAAGGGTCCGTAGGCGGCCTTATAAGTCAGTGGTGAAAGTTTTTGGCTTAACCAAAAAATTGCCATTGATACTGTAGGGCTTGAATGTCTGTGAAGTAACTAGAATATGTAG\t0.007284723787017338\n",
      "23. TACGGAGGATCCGAGCGTTATCCGGAATTATTGGGTTTAAAGGGTTCGTAGGCGGTTTATTAAGTCAGTGGTGAAATTTCTTAGCTTAACTAAGACACGGCCATTGATACTGGTAGACTTGAATAGTATGGAAGTAACTAGAATATGTAG\t0.007098251124302891\n",
      "24. TACGTAGGTGGCAAGCGTTGTCCGGAATTATTGGGCGTAAAGCGCGCGCAGGCGGCCTTTTAAGTCTGATGTGAAAGCCCACGGCTTAACCGTGGAGGTGCATTGGAAACTGGAAGGCTTGAGGATATAAGAGGAAAGCGGAATTCCACG\t0.006666633161138048\n",
      "25. TACGAAGGGGGCTAGCGTTGTTCGGAATTACTGGGCGTAAAGCGCTCGTAGGCGGATATTTAAGTCGGGGGTGAAATCCCAGGGCTCAACCCTGGAACTGCCTTCGATACTGGGTATCTAGAGGTCGAGAGAGGTAAGTGGAATTCCGAG\t0.0060183060300856\n"
     ]
    }
   ],
   "source": [
    "importances = bone_ASV.feature_importances_\n",
    "std = np.std([tree.feature_importances_ for tree in bone_ASV.estimators_],\n",
    "             axis=0)\n",
    "indices = np.argsort(importances)[::-1]\n",
    "\n",
    "feature_metadata = exp_ASV.feature_metadata\n",
    "np.savetxt(\"importances/bone_ASV_no_metadata_features.csv\", feature_metadata, delimiter=\",\", fmt='%s')\n",
    "\n",
    "\n",
    "#print the important ids in order\n",
    "general_importances = []\n",
    "count = 0\n",
    "print(\"Feature:\\t\\t\\t\\tImportance:\")\n",
    "for i in indices:\n",
    "    general_importances += (exp_ASV.feature_metadata.index.values[i], importances[indices[count]])\n",
    "    if count < 25:\n",
    "        print(str(count+1)+\". \"+str(exp_ASV.feature_metadata.index.values[i])+\"\\t\"+str(importances[indices[count]]))\n",
    "    count += 1\n",
    "    \n",
    "general_importances_df = pd.DataFrame(np.array(general_importances).reshape(9442,1))\n",
    "\n",
    "np.savetxt(\"importances/bone_ASV_no_features_importances.csv\", general_importances_df, delimiter=\",\", fmt='%s')"
   ]
  },
  {
   "cell_type": "code",
   "execution_count": null,
   "metadata": {},
   "outputs": [],
   "source": []
  }
 ],
 "metadata": {
  "kernelspec": {
   "display_name": "Python 3",
   "language": "python",
   "name": "python3"
  },
  "language_info": {
   "codemirror_mode": {
    "name": "ipython",
    "version": 3
   },
   "file_extension": ".py",
   "mimetype": "text/x-python",
   "name": "python",
   "nbconvert_exporter": "python",
   "pygments_lexer": "ipython3",
   "version": "3.7.7"
  }
 },
 "nbformat": 4,
 "nbformat_minor": 4
}
