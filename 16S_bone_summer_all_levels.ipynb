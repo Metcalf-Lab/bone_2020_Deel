{
 "cells": [
  {
   "cell_type": "markdown",
   "metadata": {},
   "source": [
    "## Description"
   ]
  },
  {
   "cell_type": "markdown",
   "metadata": {},
   "source": [
    "Bone models of 16S rRNA data, summer season only, at all levels, using the ml_new environment, rarefied data and no normalization during import, n = 1000 estimators, k fold = 3 (for regular, non-nested cross-validation), and hyperparameter tuning. Incorporates no metadata features."
   ]
  },
  {
   "cell_type": "code",
   "execution_count": 1,
   "metadata": {},
   "outputs": [
    {
     "name": "stderr",
     "output_type": "stream",
     "text": [
      "/Users/heatherdeel/opt/miniconda3/envs/ml/lib/python3.7/site-packages/sklearn/externals/joblib/__init__.py:15: FutureWarning: sklearn.externals.joblib is deprecated in 0.21 and will be removed in 0.23. Please import this functionality directly from joblib, which can be installed with: pip install joblib. If this warning is raised when loading pickled models, you may need to re-serialize those models with scikit-learn 0.21+.\n",
      "  warnings.warn(msg, category=FutureWarning)\n"
     ]
    }
   ],
   "source": [
    "from sklearn.ensemble import RandomForestRegressor\n",
    "from sklearn import preprocessing, svm, metrics\n",
    "from sklearn.ensemble import RandomForestClassifier, ExtraTreesClassifier\n",
    "from sklearn.model_selection import StratifiedKFold, KFold, GridSearchCV, GroupKFold, cross_val_score, train_test_split\n",
    "from sklearn.pipeline import Pipeline\n",
    "from sklearn.svm import LinearSVC, SVR\n",
    "from sklearn.metrics import r2_score, mean_squared_error, mean_absolute_error, mean_absolute_error, roc_auc_score, precision_score, make_scorer\n",
    "from sklearn.linear_model import LassoCV, Lasso, LassoLarsIC, ElasticNet, LassoLarsCV\n",
    "from sklearn.externals import joblib\n",
    "from scipy.stats import randint as sp_randint\n",
    "from matplotlib import pyplot as plt\n",
    "from sklearn.feature_selection import RFECV\n",
    "from sklearn.gaussian_process import GaussianProcessClassifier\n",
    "from sklearn.gaussian_process.kernels import RBF\n",
    "from sklearn.neighbors import KNeighborsClassifier, RadiusNeighborsClassifier"
   ]
  },
  {
   "cell_type": "code",
   "execution_count": 2,
   "metadata": {},
   "outputs": [
    {
     "name": "stderr",
     "output_type": "stream",
     "text": [
      "/Users/heatherdeel/opt/miniconda3/envs/ml/lib/python3.7/site-packages/skbio/util/_testing.py:15: FutureWarning: pandas.util.testing is deprecated. Use the functions in the public API at pandas.testing instead.\n",
      "  import pandas.util.testing as pdt\n"
     ]
    }
   ],
   "source": [
    "import pandas as pd\n",
    "import numpy as np\n",
    "import matplotlib\n",
    "import seaborn as sns\n",
    "%matplotlib inline\n",
    "import biom\n",
    "import calour as ca\n",
    "from scipy import stats\n",
    "import scipy\n",
    "import pickle\n",
    "import time\n",
    "import math\n",
    "import inspect\n",
    "pd.set_option('display.max_rows', 10000)"
   ]
  },
  {
   "cell_type": "markdown",
   "metadata": {},
   "source": [
    "## Import rarefied ASV table"
   ]
  },
  {
   "cell_type": "code",
   "execution_count": 3,
   "metadata": {},
   "outputs": [
    {
     "name": "stdout",
     "output_type": "stream",
     "text": [
      "2020-06-29 11:06:35 WARNING These have metadata but do not have data - dropped (51): {'11553.BLANKrib.10C', '11553.CSU.extraction.blank9', '11553.CSU.extraction.blank1', '11553.BLANKrib.12D', '11553.BLANKrib.12B', '11553.CSU.extraction.blank13', '11553.CSU.extraction.blank5', '11553.BLANKrib.12A', '11553.STAFS.2016.064.L12', '11553.SHSU.STAFS2016.011.L09', '11553.BLANKrib.10D', '11553.BLANKrib.10A', '11553.BLANKrib.10G', '11553.SHSU.STAFS2016.007.R11', '11553.BLANKrib.11G', '11553.BLANKrib.9A', '11553.CSU.extraction.blank14', '11553.BLANKrib.9C', '11553.BLANKrib.11H', '11553.BLANKrib.12F', '11553.BLANKrib.5B', '11553.BLANKrib.9H', '11553.CSU.extraction.blank6', '11553.CSU.extraction.blank10', '11553.BLANKrib.10B', '11553.BLANKrib.9F', '11553.BLANKrib.9B', '11553.CSU.extraction.blank3', '11553.BLANKrib.9E', '11553.BLANKrib.10F', '11553.BLANKrib.10H', '11553.BLANKrib.10E', '11553.BLANKrib.11E', '11553.CSU.extraction.blank15', '11553.BLANKrib.9G', '11553.CSU.extraction.blank4', '11553.CSU.extraction.blank11', '11553.CSU.extraction.blank8', '11553.BLANKrib.9D', '11553.BLANKrib.12E', '11553.BLANKrib.12C', '11553.BLANKrib.11C', '11553.CSU.extraction.blank2', '11553.BLANKrib.12G', '11553.BLANKrib.11D', '11553.BLANKrib.11B', '11553.BLANKrib.11F', '11553.CSU.extraction.blank12', '11553.BLANKrib.11A', '11553.BLANKrib.12H', '11553.CSU.extraction.blank7'}\n"
     ]
    }
   ],
   "source": [
    "exp_ASV = ca.read_amplicon('/Users/heatherdeel/Dropbox/PMI_3_analyses/bone/01_16S/01_qiime2_analysis/feature_tables/exported-feature-tables/frag_ins_filtered_noChloMito_17098_table.biom', '../02_metadata/maps/map3.txt', min_reads=0, normalize = None)\n"
   ]
  },
  {
   "cell_type": "code",
   "execution_count": 4,
   "metadata": {},
   "outputs": [
    {
     "data": {
      "text/plain": [
       "STAFS2016.067    8\n",
       "STAFS2016.011    8\n",
       "STAFS2016.065    8\n",
       "STAFS2016.064    7\n",
       "STAFS2016.024    7\n",
       "STAFS2016.007    7\n",
       "Name: host_subject_id, dtype: int64"
      ]
     },
     "execution_count": 4,
     "metadata": {},
     "output_type": "execute_result"
    }
   ],
   "source": [
    "exp_ASV.sample_metadata['host_subject_id'].value_counts()"
   ]
  },
  {
   "cell_type": "code",
   "execution_count": 5,
   "metadata": {},
   "outputs": [
    {
     "data": {
      "text/plain": [
       "#SampleID\n",
       "11553.SHSU.STAFS2016.024.R09      708.0555556\n",
       "11553.STAFS.2016.065.L12          2268.055556\n",
       "11553.STAFS.2016.067.R12          2414.444444\n",
       "11553.SHSU.STAFS2016.007.L09      1911.111111\n",
       "11553.SHSU.STAFS2016.011.L08      1301.666667\n",
       "11553.STAFS.2016.065.R11          4756.388889\n",
       "11553.STAFS.2016.065.R09          3456.111111\n",
       "11553.SHSU.STAFS2016.024.L12      4285.833333\n",
       "11553.SHSU.STAFS2016.007.L11      2584.444444\n",
       "11553.SHSU.STAFS2016.011.L10      3777.222222\n",
       "11553.STAFS.2016.064.R10          3456.111111\n",
       "11553.SHSU.STAFS2016.024.R11      2584.444444\n",
       "11553.STAFS.2016.067.L11.june     5201.388889\n",
       "11553.SHSU.STAFS2016.007.R12      1301.666667\n",
       "11553.STAFS.2016.065.R10          2804.722222\n",
       "11553.STAFS.2016.064.R09          592.7777778\n",
       "11553.STAFS.2016.067.L10          3623.055556\n",
       "11553.SHSU.STAFS2016.011.R12      708.0555556\n",
       "11553.STAFS.2016.064.R11          1300.555556\n",
       "11553.SHSU.STAFS2016.011.L11      4285.833333\n",
       "11553.SHSU.STAFS2016.007.L10      4821.388889\n",
       "11553.STAFS.2016.065.R08          4013.333333\n",
       "11553.SHSU.STAFS2016.007.R10      708.0555556\n",
       "11553.STAFS.2016.064.R12          2035.277778\n",
       "11553.SHSU.STAFS2016.011.L12      3305.555556\n",
       "11553.SHSU.STAFS2016.024.L10      3305.555556\n",
       "11553.STAFS.2016.064.L11          2804.722222\n",
       "11553.STAFS.2016.064.L09          4013.333333\n",
       "11553.STAFS.2016.067.L11.march    3065.833333\n",
       "11553.STAFS.2016.067.R10                 1645\n",
       "11553.STAFS.2016.065.L10          1300.555556\n",
       "11553.SHSU.STAFS2016.011.R09      1911.111111\n",
       "11553.STAFS.2016.064.L10          4756.388889\n",
       "11553.STAFS.2016.067.R09          1877.777778\n",
       "11553.SHSU.STAFS2016.024.L11      4821.388889\n",
       "11553.SHSU.STAFS2016.007.L12      3305.555556\n",
       "11553.STAFS.2016.065.L09                877.5\n",
       "11553.SHSU.STAFS2016.024.R12      1911.111111\n",
       "11553.SHSU.STAFS2016.011.R10      2584.444444\n",
       "11553.STAFS.2016.067.L12          4366.111111\n",
       "11553.SHSU.STAFS2016.011.R08      1301.666667\n",
       "11553.SHSU.STAFS2016.007.R09      3777.222222\n",
       "11553.STAFS.2016.065.L11          2035.277778\n",
       "11553.SHSU.STAFS2016.024.L09      3777.222222\n",
       "11553.STAFS.2016.067.R11          1151.666667\n",
       "Name: ADD_0, dtype: object"
      ]
     },
     "execution_count": 5,
     "metadata": {},
     "output_type": "execute_result"
    }
   ],
   "source": [
    "exp_ASV.sample_metadata['ADD_0']"
   ]
  },
  {
   "cell_type": "markdown",
   "metadata": {},
   "source": [
    "## Filter to only summer data"
   ]
  },
  {
   "cell_type": "code",
   "execution_count": 6,
   "metadata": {},
   "outputs": [
    {
     "data": {
      "text/plain": [
       "STAFS2016.065    8\n",
       "STAFS2016.067    8\n",
       "STAFS2016.064    7\n",
       "Name: host_subject_id, dtype: int64"
      ]
     },
     "execution_count": 6,
     "metadata": {},
     "output_type": "execute_result"
    }
   ],
   "source": [
    "Summer_ASV = exp_ASV.filter_samples('season', 'summer')\n",
    "Summer_ASV.sample_metadata.host_subject_id.value_counts()"
   ]
  },
  {
   "cell_type": "markdown",
   "metadata": {},
   "source": [
    "## Summer ASV modeling"
   ]
  },
  {
   "cell_type": "code",
   "execution_count": 7,
   "metadata": {},
   "outputs": [],
   "source": [
    "# groupKfold = 3, will leave out one body for each summer model\n",
    "gkf = GroupKFold(3)\n",
    "\n",
    "X = Summer_ASV.data\n",
    "y = Summer_ASV.sample_metadata['ADD_0']\n",
    "y = (y.astype(float))\n",
    "\n",
    "groups = Summer_ASV.sample_metadata['host_subject_id']\n",
    "\n",
    "# used to test the param grid for parameter tuning\n",
    "# use the output of this estimator below for input into new estimator (not commented out)\n",
    "param_grid = {\"max_depth\": [4, 8, 16, None],\n",
    "              \"max_features\": ['sqrt', 'log2', 0.1],\n",
    "              \"min_samples_split\": [0.001, 0.01, 0.1],\n",
    "              \"min_weight_fraction_leaf\": [0.0001, 0.001, 0.01],\n",
    "              \"bootstrap\": [True, False]}\n",
    "\n",
    "#param_grid = {\"max_depth\": [8],\n",
    "#          \"max_features\": [0.1],\n",
    "#          \"min_samples_split\": [0.001],\n",
    "#          \"min_weight_fraction_leaf\": [0.0001],\n",
    "#          \"bootstrap\": [False]}\n",
    "\n",
    "rf = RandomForestRegressor(n_estimators=1000, random_state=999, criterion='mae')\n",
    "gs = GridSearchCV(rf, param_grid=param_grid, cv=gkf.split(X, y, groups), scoring='neg_mean_absolute_error', n_jobs=1)"
   ]
  },
  {
   "cell_type": "code",
   "execution_count": 8,
   "metadata": {},
   "outputs": [
    {
     "data": {
      "text/plain": [
       "GridSearchCV(cv=<generator object _BaseKFold.split at 0x11961a150>,\n",
       "             error_score=nan,\n",
       "             estimator=RandomForestRegressor(bootstrap=True, ccp_alpha=0.0,\n",
       "                                             criterion='mae', max_depth=None,\n",
       "                                             max_features='auto',\n",
       "                                             max_leaf_nodes=None,\n",
       "                                             max_samples=None,\n",
       "                                             min_impurity_decrease=0.0,\n",
       "                                             min_impurity_split=None,\n",
       "                                             min_samples_leaf=1,\n",
       "                                             min_samples_split=2,\n",
       "                                             min_weight_fraction_leaf=0.0,\n",
       "                                             n_es...\n",
       "                                             oob_score=False, random_state=999,\n",
       "                                             verbose=0, warm_start=False),\n",
       "             iid='deprecated', n_jobs=1,\n",
       "             param_grid={'bootstrap': [True, False],\n",
       "                         'max_depth': [4, 8, 16, None],\n",
       "                         'max_features': ['sqrt', 'log2', 0.1],\n",
       "                         'min_samples_split': [0.001, 0.01, 0.1],\n",
       "                         'min_weight_fraction_leaf': [0.0001, 0.001, 0.01]},\n",
       "             pre_dispatch='2*n_jobs', refit=True, return_train_score=False,\n",
       "             scoring='neg_mean_absolute_error', verbose=0)"
      ]
     },
     "execution_count": 8,
     "metadata": {},
     "output_type": "execute_result"
    }
   ],
   "source": [
    "gs.fit(X, y)"
   ]
  },
  {
   "cell_type": "code",
   "execution_count": 9,
   "metadata": {},
   "outputs": [
    {
     "name": "stdout",
     "output_type": "stream",
     "text": [
      "{'bootstrap': False, 'max_depth': 16, 'max_features': 'sqrt', 'min_samples_split': 0.001, 'min_weight_fraction_leaf': 0.0001}\n"
     ]
    }
   ],
   "source": [
    "# this line is used when run with the first param grid to determine what the best parameters are for tuning\n",
    "print(gs.best_params_)"
   ]
  },
  {
   "cell_type": "code",
   "execution_count": 10,
   "metadata": {},
   "outputs": [
    {
     "name": "stdout",
     "output_type": "stream",
     "text": [
      "The best mean absolute error is 723.98\n"
     ]
    }
   ],
   "source": [
    "print('The best mean absolute error is', round(-gs.best_score_,2))"
   ]
  },
  {
   "cell_type": "code",
   "execution_count": 11,
   "metadata": {},
   "outputs": [
    {
     "data": {
      "text/plain": [
       "['models/bone_summer_ASV_no_metadata.pkl']"
      ]
     },
     "execution_count": 11,
     "metadata": {},
     "output_type": "execute_result"
    }
   ],
   "source": [
    "joblib.dump(gs.best_estimator_, 'models/bone_summer_ASV_no_metadata.pkl')"
   ]
  },
  {
   "cell_type": "code",
   "execution_count": 12,
   "metadata": {},
   "outputs": [
    {
     "data": {
      "text/plain": [
       "RandomForestRegressor(bootstrap=False, ccp_alpha=0.0, criterion='mae',\n",
       "                      max_depth=16, max_features='sqrt', max_leaf_nodes=None,\n",
       "                      max_samples=None, min_impurity_decrease=0.0,\n",
       "                      min_impurity_split=None, min_samples_leaf=1,\n",
       "                      min_samples_split=0.001, min_weight_fraction_leaf=0.0001,\n",
       "                      n_estimators=1000, n_jobs=None, oob_score=False,\n",
       "                      random_state=999, verbose=0, warm_start=False)"
      ]
     },
     "execution_count": 12,
     "metadata": {},
     "output_type": "execute_result"
    }
   ],
   "source": [
    "bone_summer_ASV = joblib.load('models/bone_summer_ASV_no_metadata.pkl')\n",
    "bone_summer_ASV"
   ]
  },
  {
   "cell_type": "markdown",
   "metadata": {},
   "source": [
    "## Determine important features of summer ASV model"
   ]
  },
  {
   "cell_type": "code",
   "execution_count": 14,
   "metadata": {},
   "outputs": [
    {
     "name": "stdout",
     "output_type": "stream",
     "text": [
      "Feature:\t\t\t\tImportance:\n",
      "1. TACGAAGGGGGCTAGCGTTGTTCGGAATTACTGGGCGTAAAGCGCACGTAGGCGGATCGATCAGTTAGGGGTGAAATCCCGGGGCTCAACCCCGGAACTGCCTCTAATACTGTCGATCTCGAGTTCGAGAGAGGTGAGTGGAATTCCGAG\t0.013563481045241806\n",
      "2. TACGAGGGGAGCTAGCGTTATTCGGAATTACTGGGCGTAAAGCGCGCGTAGGCGGTTTTTCAAGTCAGGGGTGAAAGCCCGGAGCTCAACTCCGGAATAGCCTTTGAAACTGGAGGACTTGAATCTTGGAGAGGTCAGTGGAATTCCGAG\t0.011904687665606381\n",
      "3. TACGTAGGGTGCAAGCGTTAATCGGAATTACTGGGCGTAAAGCGTGCGCAGGCGGTTCGGAAAGAAGGATGTGAAATCCCAGGGCTCAACCTTGGAACTGCATTCTTAACTACCGGGCTAGAGTGTGTCAGAGGGAGGTGGAATTCCGCG\t0.011473593164739615\n",
      "4. TACGAAGGGGGCTAGCGTTGTTCGGATTTACTGGGCGTAAAGCGCACGTAGGCGGATTGGTCAGTTAGGGGTGAAATCCCAGAGCTCAACTCTGGAACTGCCCTTAATACTGCCAGTCTAGAGTCCGGAAGAGGTGAGTGGAACTCCTAG\t0.010738739987822222\n",
      "5. TACGAAGGGGGCTAGCGTTGTTCGGAATTACTGGGCGTAAAGCGCACGTAGGCGGATCGGTCAGTTAGGGGTGAAATCCCAGGGCTCAACCCTGGAACTGCCTTTAATACTGCTGGTCTAGAGTTCGAGAGAGGTGAGTGGAATTCCGAG\t0.010263000532674274\n",
      "6. TACGGAGGGGACTAGCGTTGTTCGGAATTACTGGGCGTAAAGCGCACGTAGGCGGATCAGAAAGTTGGGGGTGAAATCCCGGGGCTCAACCCCGGAACTGCCTTCAAAACTATTGGTCTGGAGTTCGAGAGAGGTGAGTGGAATTCCGAG\t0.010121206619809645\n",
      "7. TACGGAGGGTGCAAGCGTTAATCGGAATTACTGGGCGTAAAGGGCGCGTAGGTGGTATCTTAAGTTGGGTGTGAAATCCCCGGGCTCAACCTGGGAATTGCATCCAAAACTGGGGTGCTAGAGTGTGGTAGAGGGTAGCGGAATTTCTGG\t0.009655258942489085\n",
      "8. TACGTAGGGAGCGAGCGTTGTCCGGAATCATTGGGCGTAAAGCGCGCGTAGGCGGCCCGATCAGTCTGTTGTGAAAGTCCAAGGCTCAACCTTGGAAGGCCAATGGAAACTATCGGGCTAGAATTCGGAAGAGGCAAGTGGAATTCCTGG\t0.009372845702525676\n",
      "9. TACGAAGGGGGCTAGCGTTGCTCGGAATGACTGGGCGTAAAGGGCGCGTAGGCGGCACACATAGTCAGGCGTGAAATTCCTGGGCTTAACCTGGGGGCTGCGCTTGATACATGTGAGCTAGAGGATGGAAGAGGCTCGTGGAATTCCAAG\t0.009313998931798819\n",
      "10. TACGAACTGCGCGAACGTTATTCGGAATCACTGGGCTTACAGGGTGCGTAGGCGGCTTTTCAGGTCCGATGTGAAATCCCACAGCTCAACTGTGGAATGGCATTGGAAACCGAAAGGCTTGAGTGAGCTAGAGATGTACGGAACTTCCGG\t0.008680416443532585\n",
      "11. TACGTAGGGTGCGAGCGTTGTCCGGAATTACTGGGCGTAAAGAGTTCGTAGGCGGTTTGTCGCGTCGTTTGTGAAATCCCGCAGCTTAACTGTGGGCGTGCAGGCGATACGGGCAGACTTGAGTGCTGTAGGGGAGACTGGAATTCCTGG\t0.008664661724585344\n",
      "12. TACGAAGGGGGCTAGCGTTGTTCGGATTTACTGGGCGTAAAGCGCACGTAGGCGGACTTTTAAGTCAGGGGTGAAATCCCGGGGCTCAACCCCGGAACTGCCTTTGATACTGGAAGTCTTGAGTATGGAAGAGGTAAGTGGAATTGCGAG\t0.008449834489398766\n",
      "13. TACGTAGGGTGCGAGCGTTGTCCGGAATTACTGGGCGTAAAGAGCTCGTAGGTGGTTTGTCGCGTCGTCTGTGAAATTCCGGGGCTTAACTCCGGGCGTGCAGGCGATACGGGCAAACTGGAGTGCTGTAGGGGAGACTGGAATTCCTGG\t0.008374180458338302\n",
      "14. TACGAAGGGGGCTAGCGTTGTTCGGAATTACTGGGCGTAAAGCGCACGTAGGCGGATTGGTCAGTTAGGGGTGAAATCCCAGGGCTCAACCCTGGAACTGCCTTTAATACTGCCGGTCTAGAGTTCGAGAGAGGTGAGTGGAATTCCGAG\t0.007690678055526387\n",
      "15. TACGGAGGATCCGAGCGTTATCCGGATTTATTGGGTTTAAAGGGTGCGTAGGCGGCACTTTAAGTCAGGGGTGAAAGACGGCAGCTCAACTGTCGCAGTGCCCTTGATACTGAAGTGCTTGAATGCGGTTGAAGACGGCGGAATGAGACA\t0.007648852107919712\n",
      "16. GACGAACCGCGCGAACGTTATTCGGAATCACTGGGCTTAAAGCGCGTGTAGGCGGATCGGAGCGTCGATGCCTGAAAGCCCCCGGCTCAACCGGGGAATGGGGCCCGAAACGACCGGTCTCGAGGGACGCAGGGGGATCTGGAACTTCCG\t0.007638227441972643\n",
      "17. TACGTAGGTGGCAAGCGTTGTCCGGAATTATTGGGCGTAAAGCGCGCGCAGGCGGCCTTTTAAGTCTGATGTGAAAGCCCACGGCTTAACCGTGGAGGTGCATTGGAAACTGGAAGGCTTGAGGATATAAGAGGAAAGCGGAATTCCACG\t0.007555728776848471\n",
      "18. TACGTAGGTGGCAAGCGTTGTCCGGAATTATTGGGCGTAAAGCGCGCGCAGGCGGTCCTTTAAGTCTGATGTGAAAGCCCACGGCTCAACCGTGGAAGGTCATTGGAAACTGGAGGACTTGAGTATAAGAGAGGAAAGTGGAATTCCACG\t0.00729356113194022\n",
      "19. TACGAAGGGGGCTAGCGTTGTTCGGAATTACTGGGCGTAAAGCGCACGTAGGCGGATCGATCAGTTAGGGGTGAAATCCCAGGGCTCAACCCTGGAACTGCCTCTAATACTGTCGATCTCGAGTTCGAGAGAGGTGAGTGGAATTCCGAG\t0.007229610250114071\n",
      "20. TACGGAGGATCCGAGCGTTATCCGGAATCATTGGGTTTAAAGGGTCCGTAGGTGGACGATTAAGTCGGAGGTGAAATCCTGCAGCTCAACTGTAGAATTGCCTTTGATACTGGTTGTCTTGAATCATTGTGAAGTGGTTAGAATATGTGG\t0.007170507207369254\n",
      "21. TACGGAGGATCCGAGCGTTATCCGGATTTATTGGGTTTAAAGGGTGCGTAGGCGGGCCTGAAAGTCAGCTGTGAAAGTTAATAGCTCAACTATTAAATTGCAGTTGAAACTGTGGGTCTTGAGTGTACATGAGGTAAGCGGAATTTGTGG\t0.007013059262599534\n",
      "22. TACGAAGGGGGCTAGCGTTGCTCGGAATTACTGGGCGTAAAGGGCGCGTAGGCGGATCGTTAAGTCAGGGGTGAAATCCCGGGGCTCAACCTCGGAACTGCCCTTGATACTGGCGATCTTGAGTATGAGAGAGGTATGTGGAACTCCGAG\t0.006806833956146187\n",
      "23. TACGTAGGGTGCAAGCGTTGTCCGGAATTACTGGGCGTAAAGAGTTCGTAGGCGGTTTGTCGCGTCGTTTGTGAAAACCAGCAGCTCAACTGCTGGCTTGCAGGCGATACGGGCAGACTTGAGTACTGCAGGGGAGACTGGAATTCCTGG\t0.006691735185059007\n",
      "24. TACGTATGGGGCAAGCGTTGTCCGGAATTATTGGGCGTAAAGGGTACGTAGGCGGTTTATCAAGTCTATATTAAAAGGCAATGGCTTAACCATTGTATGGTATAGAAACTGGTAAACTTGAGTAGATGAGGGGAAAGTGGAATTCCTAGT\t0.006691735184213305\n",
      "25. TACGGAGGGTGCAAGCGTTAATCGGAATTACTGGGCGTAAAGGGCGCGTAGGTGGTATCTTAAGTTGGGTGTGAAATCCCCGGGCTCAACCTGGGAATTGCATCCAAAACTGGGATGCTAGAGTGTGGTAGAGGGTAGCGGAATTTCTGG\t0.006686470901329688\n"
     ]
    }
   ],
   "source": [
    "importances = bone_summer_ASV.feature_importances_\n",
    "std = np.std([tree.feature_importances_ for tree in bone_summer_ASV.estimators_],\n",
    "             axis=0)\n",
    "indices = np.argsort(importances)[::-1]\n",
    "\n",
    "feature_metadata = Summer_ASV.feature_metadata\n",
    "np.savetxt(\"importances/bone_summer_ASV_no_metadata_features.csv\", feature_metadata, delimiter=\",\", fmt='%s')\n",
    "\n",
    "\n",
    "#print the important ids in order\n",
    "general_importances = []\n",
    "count = 0\n",
    "print(\"Feature:\\t\\t\\t\\tImportance:\")\n",
    "for i in indices:\n",
    "    general_importances += (Summer_ASV.feature_metadata.index.values[i], importances[indices[count]])\n",
    "    if count < 25:\n",
    "        print(str(count+1)+\". \"+str(Summer_ASV.feature_metadata.index.values[i])+\"\\t\"+str(importances[indices[count]]))\n",
    "    count += 1\n",
    "    \n",
    "general_importances_df = pd.DataFrame(np.array(general_importances).reshape(9442,1))\n",
    "\n",
    "np.savetxt(\"importances/bone_summer_ASV_no_features_importances.csv\", general_importances_df, delimiter=\",\", fmt='%s')"
   ]
  },
  {
   "cell_type": "markdown",
   "metadata": {},
   "source": [
    "## Import rarefied table collapsed at level 7"
   ]
  },
  {
   "cell_type": "code",
   "execution_count": 15,
   "metadata": {},
   "outputs": [
    {
     "name": "stdout",
     "output_type": "stream",
     "text": [
      "2020-06-29 11:23:53 WARNING These have metadata but do not have data - dropped (51): {'11553.BLANKrib.10C', '11553.CSU.extraction.blank9', '11553.CSU.extraction.blank1', '11553.BLANKrib.12D', '11553.BLANKrib.12B', '11553.CSU.extraction.blank13', '11553.CSU.extraction.blank5', '11553.BLANKrib.12A', '11553.STAFS.2016.064.L12', '11553.SHSU.STAFS2016.011.L09', '11553.BLANKrib.10D', '11553.BLANKrib.10A', '11553.BLANKrib.10G', '11553.SHSU.STAFS2016.007.R11', '11553.BLANKrib.11G', '11553.BLANKrib.9A', '11553.CSU.extraction.blank14', '11553.BLANKrib.9C', '11553.BLANKrib.11H', '11553.BLANKrib.12F', '11553.BLANKrib.5B', '11553.BLANKrib.9H', '11553.CSU.extraction.blank6', '11553.CSU.extraction.blank10', '11553.BLANKrib.10B', '11553.BLANKrib.9F', '11553.BLANKrib.9B', '11553.CSU.extraction.blank3', '11553.BLANKrib.9E', '11553.BLANKrib.10F', '11553.BLANKrib.10H', '11553.BLANKrib.10E', '11553.BLANKrib.11E', '11553.CSU.extraction.blank15', '11553.BLANKrib.9G', '11553.CSU.extraction.blank4', '11553.CSU.extraction.blank11', '11553.CSU.extraction.blank8', '11553.BLANKrib.9D', '11553.BLANKrib.12E', '11553.BLANKrib.12C', '11553.BLANKrib.11C', '11553.CSU.extraction.blank2', '11553.BLANKrib.12G', '11553.BLANKrib.11D', '11553.BLANKrib.11B', '11553.BLANKrib.11F', '11553.CSU.extraction.blank12', '11553.BLANKrib.11A', '11553.BLANKrib.12H', '11553.CSU.extraction.blank7'}\n"
     ]
    }
   ],
   "source": [
    "exp_L7 = ca.read_amplicon('/Users/heatherdeel/Dropbox/PMI_3_analyses/bone/01_16S/01_qiime2_analysis/feature_tables/collapsed_tables/frag_ins_noChloMito_17098_L7_table.biom', '../02_metadata/maps/map3.txt', min_reads=0, normalize = None)\n"
   ]
  },
  {
   "cell_type": "code",
   "execution_count": 16,
   "metadata": {},
   "outputs": [
    {
     "data": {
      "text/plain": [
       "STAFS2016.065    8\n",
       "STAFS2016.067    8\n",
       "STAFS2016.064    7\n",
       "Name: host_subject_id, dtype: int64"
      ]
     },
     "execution_count": 16,
     "metadata": {},
     "output_type": "execute_result"
    }
   ],
   "source": [
    "# filter to summer\n",
    "Summer_L7 = exp_L7.filter_samples('season', 'summer')\n",
    "Summer_L7.sample_metadata.host_subject_id.value_counts()"
   ]
  },
  {
   "cell_type": "code",
   "execution_count": 17,
   "metadata": {},
   "outputs": [
    {
     "name": "stdout",
     "output_type": "stream",
     "text": [
      "                                                                                          _feature_id\n",
      "k__Archaea;p__Crenarchaeota;c__Thaumarchaeota;o...  k__Archaea;p__Crenarchaeota;c__Thaumarchaeota;...\n",
      "k__Archaea;p__Euryarchaeota;c__Methanobacteria;...  k__Archaea;p__Euryarchaeota;c__Methanobacteria...\n",
      "k__Bacteria;__;__;__;__;__;__                                           k__Bacteria;__;__;__;__;__;__\n",
      "k__Bacteria;p__Acidobacteria;c__DA052;o__Ellin6...  k__Bacteria;p__Acidobacteria;c__DA052;o__Ellin...\n",
      "k__Bacteria;p__Acidobacteria;c__Solibacteres;o_...  k__Bacteria;p__Acidobacteria;c__Solibacteres;o...\n",
      "k__Bacteria;p__Acidobacteria;c__[Chloracidobact...  k__Bacteria;p__Acidobacteria;c__[Chloracidobac...\n",
      "k__Bacteria;p__Acidobacteria;c__[Chloracidobact...  k__Bacteria;p__Acidobacteria;c__[Chloracidobac...\n",
      "k__Bacteria;p__Actinobacteria;c__Acidimicrobiia...  k__Bacteria;p__Actinobacteria;c__Acidimicrobii...\n",
      "k__Bacteria;p__Actinobacteria;c__Acidimicrobiia...  k__Bacteria;p__Actinobacteria;c__Acidimicrobii...\n",
      "k__Bacteria;p__Actinobacteria;c__Acidimicrobiia...  k__Bacteria;p__Actinobacteria;c__Acidimicrobii...\n",
      "k__Bacteria;p__Actinobacteria;c__Acidimicrobiia...  k__Bacteria;p__Actinobacteria;c__Acidimicrobii...\n",
      "k__Bacteria;p__Actinobacteria;c__Acidimicrobiia...  k__Bacteria;p__Actinobacteria;c__Acidimicrobii...\n",
      "k__Bacteria;p__Actinobacteria;c__Actinobacteria...  k__Bacteria;p__Actinobacteria;c__Actinobacteri...\n",
      "k__Bacteria;p__Actinobacteria;c__Actinobacteria...  k__Bacteria;p__Actinobacteria;c__Actinobacteri...\n",
      "k__Bacteria;p__Actinobacteria;c__Actinobacteria...  k__Bacteria;p__Actinobacteria;c__Actinobacteri...\n",
      "k__Bacteria;p__Actinobacteria;c__Actinobacteria...  k__Bacteria;p__Actinobacteria;c__Actinobacteri...\n",
      "k__Bacteria;p__Actinobacteria;c__Actinobacteria...  k__Bacteria;p__Actinobacteria;c__Actinobacteri...\n",
      "k__Bacteria;p__Actinobacteria;c__Actinobacteria...  k__Bacteria;p__Actinobacteria;c__Actinobacteri...\n",
      "k__Bacteria;p__Actinobacteria;c__Actinobacteria...  k__Bacteria;p__Actinobacteria;c__Actinobacteri...\n",
      "k__Bacteria;p__Actinobacteria;c__Actinobacteria...  k__Bacteria;p__Actinobacteria;c__Actinobacteri...\n",
      "k__Bacteria;p__Actinobacteria;c__Actinobacteria...  k__Bacteria;p__Actinobacteria;c__Actinobacteri...\n",
      "k__Bacteria;p__Actinobacteria;c__Actinobacteria...  k__Bacteria;p__Actinobacteria;c__Actinobacteri...\n",
      "k__Bacteria;p__Actinobacteria;c__Actinobacteria...  k__Bacteria;p__Actinobacteria;c__Actinobacteri...\n",
      "k__Bacteria;p__Actinobacteria;c__Actinobacteria...  k__Bacteria;p__Actinobacteria;c__Actinobacteri...\n",
      "k__Bacteria;p__Actinobacteria;c__Actinobacteria...  k__Bacteria;p__Actinobacteria;c__Actinobacteri...\n",
      "k__Bacteria;p__Actinobacteria;c__Actinobacteria...  k__Bacteria;p__Actinobacteria;c__Actinobacteri...\n",
      "k__Bacteria;p__Actinobacteria;c__Actinobacteria...  k__Bacteria;p__Actinobacteria;c__Actinobacteri...\n",
      "k__Bacteria;p__Actinobacteria;c__Actinobacteria...  k__Bacteria;p__Actinobacteria;c__Actinobacteri...\n",
      "k__Bacteria;p__Actinobacteria;c__Actinobacteria...  k__Bacteria;p__Actinobacteria;c__Actinobacteri...\n",
      "k__Bacteria;p__Actinobacteria;c__Actinobacteria...  k__Bacteria;p__Actinobacteria;c__Actinobacteri...\n",
      "k__Bacteria;p__Actinobacteria;c__Actinobacteria...  k__Bacteria;p__Actinobacteria;c__Actinobacteri...\n",
      "k__Bacteria;p__Actinobacteria;c__Actinobacteria...  k__Bacteria;p__Actinobacteria;c__Actinobacteri...\n",
      "k__Bacteria;p__Actinobacteria;c__Actinobacteria...  k__Bacteria;p__Actinobacteria;c__Actinobacteri...\n",
      "k__Bacteria;p__Actinobacteria;c__Actinobacteria...  k__Bacteria;p__Actinobacteria;c__Actinobacteri...\n",
      "k__Bacteria;p__Actinobacteria;c__Actinobacteria...  k__Bacteria;p__Actinobacteria;c__Actinobacteri...\n",
      "k__Bacteria;p__Actinobacteria;c__Actinobacteria...  k__Bacteria;p__Actinobacteria;c__Actinobacteri...\n",
      "k__Bacteria;p__Actinobacteria;c__Actinobacteria...  k__Bacteria;p__Actinobacteria;c__Actinobacteri...\n",
      "k__Bacteria;p__Actinobacteria;c__Actinobacteria...  k__Bacteria;p__Actinobacteria;c__Actinobacteri...\n",
      "k__Bacteria;p__Actinobacteria;c__Actinobacteria...  k__Bacteria;p__Actinobacteria;c__Actinobacteri...\n",
      "k__Bacteria;p__Actinobacteria;c__Actinobacteria...  k__Bacteria;p__Actinobacteria;c__Actinobacteri...\n",
      "k__Bacteria;p__Actinobacteria;c__Actinobacteria...  k__Bacteria;p__Actinobacteria;c__Actinobacteri...\n",
      "k__Bacteria;p__Actinobacteria;c__Actinobacteria...  k__Bacteria;p__Actinobacteria;c__Actinobacteri...\n",
      "k__Bacteria;p__Actinobacteria;c__Actinobacteria...  k__Bacteria;p__Actinobacteria;c__Actinobacteri...\n",
      "k__Bacteria;p__Actinobacteria;c__Actinobacteria...  k__Bacteria;p__Actinobacteria;c__Actinobacteri...\n",
      "k__Bacteria;p__Actinobacteria;c__Actinobacteria...  k__Bacteria;p__Actinobacteria;c__Actinobacteri...\n",
      "k__Bacteria;p__Actinobacteria;c__Actinobacteria...  k__Bacteria;p__Actinobacteria;c__Actinobacteri...\n",
      "k__Bacteria;p__Actinobacteria;c__Actinobacteria...  k__Bacteria;p__Actinobacteria;c__Actinobacteri...\n",
      "k__Bacteria;p__Actinobacteria;c__Actinobacteria...  k__Bacteria;p__Actinobacteria;c__Actinobacteri...\n",
      "k__Bacteria;p__Actinobacteria;c__Actinobacteria...  k__Bacteria;p__Actinobacteria;c__Actinobacteri...\n",
      "k__Bacteria;p__Actinobacteria;c__Actinobacteria...  k__Bacteria;p__Actinobacteria;c__Actinobacteri...\n",
      "k__Bacteria;p__Actinobacteria;c__Actinobacteria...  k__Bacteria;p__Actinobacteria;c__Actinobacteri...\n",
      "k__Bacteria;p__Actinobacteria;c__Actinobacteria...  k__Bacteria;p__Actinobacteria;c__Actinobacteri...\n",
      "k__Bacteria;p__Actinobacteria;c__Actinobacteria...  k__Bacteria;p__Actinobacteria;c__Actinobacteri...\n",
      "k__Bacteria;p__Actinobacteria;c__Actinobacteria...  k__Bacteria;p__Actinobacteria;c__Actinobacteri...\n",
      "k__Bacteria;p__Actinobacteria;c__Actinobacteria...  k__Bacteria;p__Actinobacteria;c__Actinobacteri...\n",
      "k__Bacteria;p__Actinobacteria;c__Actinobacteria...  k__Bacteria;p__Actinobacteria;c__Actinobacteri...\n",
      "k__Bacteria;p__Actinobacteria;c__Actinobacteria...  k__Bacteria;p__Actinobacteria;c__Actinobacteri...\n",
      "k__Bacteria;p__Actinobacteria;c__Actinobacteria...  k__Bacteria;p__Actinobacteria;c__Actinobacteri...\n",
      "k__Bacteria;p__Actinobacteria;c__Actinobacteria...  k__Bacteria;p__Actinobacteria;c__Actinobacteri...\n",
      "k__Bacteria;p__Actinobacteria;c__Actinobacteria...  k__Bacteria;p__Actinobacteria;c__Actinobacteri...\n",
      "k__Bacteria;p__Actinobacteria;c__Actinobacteria...  k__Bacteria;p__Actinobacteria;c__Actinobacteri...\n",
      "k__Bacteria;p__Actinobacteria;c__Actinobacteria...  k__Bacteria;p__Actinobacteria;c__Actinobacteri...\n",
      "k__Bacteria;p__Actinobacteria;c__Actinobacteria...  k__Bacteria;p__Actinobacteria;c__Actinobacteri...\n",
      "k__Bacteria;p__Actinobacteria;c__Actinobacteria...  k__Bacteria;p__Actinobacteria;c__Actinobacteri...\n",
      "k__Bacteria;p__Actinobacteria;c__Actinobacteria...  k__Bacteria;p__Actinobacteria;c__Actinobacteri...\n",
      "k__Bacteria;p__Actinobacteria;c__Actinobacteria...  k__Bacteria;p__Actinobacteria;c__Actinobacteri...\n",
      "k__Bacteria;p__Actinobacteria;c__Actinobacteria...  k__Bacteria;p__Actinobacteria;c__Actinobacteri...\n",
      "k__Bacteria;p__Actinobacteria;c__Actinobacteria...  k__Bacteria;p__Actinobacteria;c__Actinobacteri...\n",
      "k__Bacteria;p__Actinobacteria;c__Actinobacteria...  k__Bacteria;p__Actinobacteria;c__Actinobacteri...\n",
      "k__Bacteria;p__Actinobacteria;c__Actinobacteria...  k__Bacteria;p__Actinobacteria;c__Actinobacteri...\n",
      "k__Bacteria;p__Actinobacteria;c__Actinobacteria...  k__Bacteria;p__Actinobacteria;c__Actinobacteri...\n",
      "k__Bacteria;p__Actinobacteria;c__Actinobacteria...  k__Bacteria;p__Actinobacteria;c__Actinobacteri...\n",
      "k__Bacteria;p__Actinobacteria;c__Actinobacteria...  k__Bacteria;p__Actinobacteria;c__Actinobacteri...\n",
      "k__Bacteria;p__Actinobacteria;c__Actinobacteria...  k__Bacteria;p__Actinobacteria;c__Actinobacteri...\n",
      "k__Bacteria;p__Actinobacteria;c__Actinobacteria...  k__Bacteria;p__Actinobacteria;c__Actinobacteri...\n",
      "k__Bacteria;p__Actinobacteria;c__Actinobacteria...  k__Bacteria;p__Actinobacteria;c__Actinobacteri...\n",
      "k__Bacteria;p__Actinobacteria;c__Actinobacteria...  k__Bacteria;p__Actinobacteria;c__Actinobacteri...\n",
      "k__Bacteria;p__Actinobacteria;c__Actinobacteria...  k__Bacteria;p__Actinobacteria;c__Actinobacteri...\n",
      "k__Bacteria;p__Actinobacteria;c__Actinobacteria...  k__Bacteria;p__Actinobacteria;c__Actinobacteri...\n",
      "k__Bacteria;p__Actinobacteria;c__Actinobacteria...  k__Bacteria;p__Actinobacteria;c__Actinobacteri...\n",
      "k__Bacteria;p__Actinobacteria;c__Actinobacteria...  k__Bacteria;p__Actinobacteria;c__Actinobacteri...\n",
      "k__Bacteria;p__Actinobacteria;c__Actinobacteria...  k__Bacteria;p__Actinobacteria;c__Actinobacteri...\n",
      "k__Bacteria;p__Actinobacteria;c__Actinobacteria...  k__Bacteria;p__Actinobacteria;c__Actinobacteri...\n",
      "k__Bacteria;p__Actinobacteria;c__Actinobacteria...  k__Bacteria;p__Actinobacteria;c__Actinobacteri...\n",
      "k__Bacteria;p__Actinobacteria;c__Actinobacteria...  k__Bacteria;p__Actinobacteria;c__Actinobacteri...\n",
      "k__Bacteria;p__Actinobacteria;c__Actinobacteria...  k__Bacteria;p__Actinobacteria;c__Actinobacteri...\n",
      "k__Bacteria;p__Actinobacteria;c__Actinobacteria...  k__Bacteria;p__Actinobacteria;c__Actinobacteri...\n",
      "k__Bacteria;p__Actinobacteria;c__Actinobacteria...  k__Bacteria;p__Actinobacteria;c__Actinobacteri...\n",
      "k__Bacteria;p__Actinobacteria;c__Actinobacteria...  k__Bacteria;p__Actinobacteria;c__Actinobacteri...\n",
      "k__Bacteria;p__Actinobacteria;c__Actinobacteria...  k__Bacteria;p__Actinobacteria;c__Actinobacteri...\n",
      "k__Bacteria;p__Actinobacteria;c__Actinobacteria...  k__Bacteria;p__Actinobacteria;c__Actinobacteri...\n",
      "k__Bacteria;p__Actinobacteria;c__Actinobacteria...  k__Bacteria;p__Actinobacteria;c__Actinobacteri...\n",
      "k__Bacteria;p__Actinobacteria;c__Actinobacteria...  k__Bacteria;p__Actinobacteria;c__Actinobacteri...\n",
      "k__Bacteria;p__Actinobacteria;c__Actinobacteria...  k__Bacteria;p__Actinobacteria;c__Actinobacteri...\n",
      "k__Bacteria;p__Actinobacteria;c__Actinobacteria...  k__Bacteria;p__Actinobacteria;c__Actinobacteri...\n",
      "k__Bacteria;p__Actinobacteria;c__Actinobacteria...  k__Bacteria;p__Actinobacteria;c__Actinobacteri...\n",
      "k__Bacteria;p__Actinobacteria;c__Actinobacteria...  k__Bacteria;p__Actinobacteria;c__Actinobacteri...\n",
      "k__Bacteria;p__Actinobacteria;c__Actinobacteria...  k__Bacteria;p__Actinobacteria;c__Actinobacteri...\n",
      "k__Bacteria;p__Actinobacteria;c__Actinobacteria...  k__Bacteria;p__Actinobacteria;c__Actinobacteri...\n",
      "k__Bacteria;p__Actinobacteria;c__Actinobacteria...  k__Bacteria;p__Actinobacteria;c__Actinobacteri...\n",
      "k__Bacteria;p__Actinobacteria;c__Coriobacteriia...  k__Bacteria;p__Actinobacteria;c__Coriobacterii...\n",
      "k__Bacteria;p__Actinobacteria;c__Coriobacteriia...  k__Bacteria;p__Actinobacteria;c__Coriobacterii...\n",
      "k__Bacteria;p__Actinobacteria;c__Coriobacteriia...  k__Bacteria;p__Actinobacteria;c__Coriobacterii...\n",
      "k__Bacteria;p__Actinobacteria;c__Rubrobacteria;...  k__Bacteria;p__Actinobacteria;c__Rubrobacteria...\n",
      "k__Bacteria;p__Actinobacteria;c__Thermoleophili...  k__Bacteria;p__Actinobacteria;c__Thermoleophil...\n",
      "k__Bacteria;p__Actinobacteria;c__Thermoleophili...  k__Bacteria;p__Actinobacteria;c__Thermoleophil...\n",
      "k__Bacteria;p__Actinobacteria;c__Thermoleophili...  k__Bacteria;p__Actinobacteria;c__Thermoleophil...\n",
      "k__Bacteria;p__Actinobacteria;c__Thermoleophili...  k__Bacteria;p__Actinobacteria;c__Thermoleophil...\n",
      "k__Bacteria;p__Actinobacteria;c__Thermoleophili...  k__Bacteria;p__Actinobacteria;c__Thermoleophil...\n",
      "k__Bacteria;p__Actinobacteria;c__Thermoleophili...  k__Bacteria;p__Actinobacteria;c__Thermoleophil...\n",
      "k__Bacteria;p__Actinobacteria;c__Thermoleophili...  k__Bacteria;p__Actinobacteria;c__Thermoleophil...\n",
      "k__Bacteria;p__Armatimonadetes;c__Armatimonadia...  k__Bacteria;p__Armatimonadetes;c__Armatimonadi...\n",
      "k__Bacteria;p__Armatimonadetes;c__SHA-37;o__;f_...  k__Bacteria;p__Armatimonadetes;c__SHA-37;o__;f...\n",
      "k__Bacteria;p__Armatimonadetes;c__SJA-176;o__GA...  k__Bacteria;p__Armatimonadetes;c__SJA-176;o__G...\n",
      "k__Bacteria;p__Armatimonadetes;c__[Fimbriimonad...  k__Bacteria;p__Armatimonadetes;c__[Fimbriimona...\n",
      "k__Bacteria;p__Armatimonadetes;c__[Fimbriimonad...  k__Bacteria;p__Armatimonadetes;c__[Fimbriimona...\n",
      "k__Bacteria;p__BRC1;c__PRR-11;o__;f__;g__;s__           k__Bacteria;p__BRC1;c__PRR-11;o__;f__;g__;s__\n",
      "k__Bacteria;p__Bacteroidetes;c__Bacteroidia;o__...  k__Bacteria;p__Bacteroidetes;c__Bacteroidia;o_...\n",
      "k__Bacteria;p__Bacteroidetes;c__Bacteroidia;o__...  k__Bacteria;p__Bacteroidetes;c__Bacteroidia;o_...\n",
      "k__Bacteria;p__Bacteroidetes;c__Bacteroidia;o__...  k__Bacteria;p__Bacteroidetes;c__Bacteroidia;o_...\n",
      "k__Bacteria;p__Bacteroidetes;c__Bacteroidia;o__...  k__Bacteria;p__Bacteroidetes;c__Bacteroidia;o_...\n",
      "k__Bacteria;p__Bacteroidetes;c__Bacteroidia;o__...  k__Bacteria;p__Bacteroidetes;c__Bacteroidia;o_...\n",
      "k__Bacteria;p__Bacteroidetes;c__Bacteroidia;o__...  k__Bacteria;p__Bacteroidetes;c__Bacteroidia;o_...\n",
      "k__Bacteria;p__Bacteroidetes;c__Bacteroidia;o__...  k__Bacteria;p__Bacteroidetes;c__Bacteroidia;o_...\n",
      "k__Bacteria;p__Bacteroidetes;c__Bacteroidia;o__...  k__Bacteria;p__Bacteroidetes;c__Bacteroidia;o_...\n",
      "k__Bacteria;p__Bacteroidetes;c__Bacteroidia;o__...  k__Bacteria;p__Bacteroidetes;c__Bacteroidia;o_...\n",
      "k__Bacteria;p__Bacteroidetes;c__Bacteroidia;o__...  k__Bacteria;p__Bacteroidetes;c__Bacteroidia;o_...\n",
      "k__Bacteria;p__Bacteroidetes;c__Bacteroidia;o__...  k__Bacteria;p__Bacteroidetes;c__Bacteroidia;o_...\n",
      "k__Bacteria;p__Bacteroidetes;c__Bacteroidia;o__...  k__Bacteria;p__Bacteroidetes;c__Bacteroidia;o_...\n",
      "k__Bacteria;p__Bacteroidetes;c__Bacteroidia;o__...  k__Bacteria;p__Bacteroidetes;c__Bacteroidia;o_...\n",
      "k__Bacteria;p__Bacteroidetes;c__Bacteroidia;o__...  k__Bacteria;p__Bacteroidetes;c__Bacteroidia;o_...\n",
      "k__Bacteria;p__Bacteroidetes;c__Bacteroidia;o__...  k__Bacteria;p__Bacteroidetes;c__Bacteroidia;o_...\n",
      "k__Bacteria;p__Bacteroidetes;c__Bacteroidia;o__...  k__Bacteria;p__Bacteroidetes;c__Bacteroidia;o_...\n",
      "k__Bacteria;p__Bacteroidetes;c__Bacteroidia;o__...  k__Bacteria;p__Bacteroidetes;c__Bacteroidia;o_...\n",
      "k__Bacteria;p__Bacteroidetes;c__Bacteroidia;o__...  k__Bacteria;p__Bacteroidetes;c__Bacteroidia;o_...\n",
      "k__Bacteria;p__Bacteroidetes;c__Bacteroidia;o__...  k__Bacteria;p__Bacteroidetes;c__Bacteroidia;o_...\n",
      "k__Bacteria;p__Bacteroidetes;c__Bacteroidia;o__...  k__Bacteria;p__Bacteroidetes;c__Bacteroidia;o_...\n",
      "k__Bacteria;p__Bacteroidetes;c__Bacteroidia;o__...  k__Bacteria;p__Bacteroidetes;c__Bacteroidia;o_...\n",
      "k__Bacteria;p__Bacteroidetes;c__Bacteroidia;o__...  k__Bacteria;p__Bacteroidetes;c__Bacteroidia;o_...\n",
      "k__Bacteria;p__Bacteroidetes;c__Bacteroidia;o__...  k__Bacteria;p__Bacteroidetes;c__Bacteroidia;o_...\n",
      "k__Bacteria;p__Bacteroidetes;c__Bacteroidia;o__...  k__Bacteria;p__Bacteroidetes;c__Bacteroidia;o_...\n",
      "k__Bacteria;p__Bacteroidetes;c__Bacteroidia;o__...  k__Bacteria;p__Bacteroidetes;c__Bacteroidia;o_...\n",
      "k__Bacteria;p__Bacteroidetes;c__Cytophagia;o__C...  k__Bacteria;p__Bacteroidetes;c__Cytophagia;o__...\n",
      "k__Bacteria;p__Bacteroidetes;c__Cytophagia;o__C...  k__Bacteria;p__Bacteroidetes;c__Cytophagia;o__...\n",
      "k__Bacteria;p__Bacteroidetes;c__Cytophagia;o__C...  k__Bacteria;p__Bacteroidetes;c__Cytophagia;o__...\n",
      "k__Bacteria;p__Bacteroidetes;c__Cytophagia;o__C...  k__Bacteria;p__Bacteroidetes;c__Cytophagia;o__...\n",
      "k__Bacteria;p__Bacteroidetes;c__Cytophagia;o__C...  k__Bacteria;p__Bacteroidetes;c__Cytophagia;o__...\n",
      "k__Bacteria;p__Bacteroidetes;c__Cytophagia;o__C...  k__Bacteria;p__Bacteroidetes;c__Cytophagia;o__...\n",
      "k__Bacteria;p__Bacteroidetes;c__Cytophagia;o__C...  k__Bacteria;p__Bacteroidetes;c__Cytophagia;o__...\n",
      "k__Bacteria;p__Bacteroidetes;c__Cytophagia;o__C...  k__Bacteria;p__Bacteroidetes;c__Cytophagia;o__...\n",
      "k__Bacteria;p__Bacteroidetes;c__Cytophagia;o__C...  k__Bacteria;p__Bacteroidetes;c__Cytophagia;o__...\n",
      "k__Bacteria;p__Bacteroidetes;c__Cytophagia;o__C...  k__Bacteria;p__Bacteroidetes;c__Cytophagia;o__...\n",
      "k__Bacteria;p__Bacteroidetes;c__Flavobacteriia;...  k__Bacteria;p__Bacteroidetes;c__Flavobacteriia...\n",
      "k__Bacteria;p__Bacteroidetes;c__Flavobacteriia;...  k__Bacteria;p__Bacteroidetes;c__Flavobacteriia...\n",
      "k__Bacteria;p__Bacteroidetes;c__Flavobacteriia;...  k__Bacteria;p__Bacteroidetes;c__Flavobacteriia...\n",
      "k__Bacteria;p__Bacteroidetes;c__Flavobacteriia;...  k__Bacteria;p__Bacteroidetes;c__Flavobacteriia...\n",
      "k__Bacteria;p__Bacteroidetes;c__Flavobacteriia;...  k__Bacteria;p__Bacteroidetes;c__Flavobacteriia...\n",
      "k__Bacteria;p__Bacteroidetes;c__Flavobacteriia;...  k__Bacteria;p__Bacteroidetes;c__Flavobacteriia...\n",
      "k__Bacteria;p__Bacteroidetes;c__Flavobacteriia;...  k__Bacteria;p__Bacteroidetes;c__Flavobacteriia...\n",
      "k__Bacteria;p__Bacteroidetes;c__Flavobacteriia;...  k__Bacteria;p__Bacteroidetes;c__Flavobacteriia...\n",
      "k__Bacteria;p__Bacteroidetes;c__Flavobacteriia;...  k__Bacteria;p__Bacteroidetes;c__Flavobacteriia...\n",
      "k__Bacteria;p__Bacteroidetes;c__Flavobacteriia;...  k__Bacteria;p__Bacteroidetes;c__Flavobacteriia...\n",
      "k__Bacteria;p__Bacteroidetes;c__Flavobacteriia;...  k__Bacteria;p__Bacteroidetes;c__Flavobacteriia...\n",
      "k__Bacteria;p__Bacteroidetes;c__Flavobacteriia;...  k__Bacteria;p__Bacteroidetes;c__Flavobacteriia...\n",
      "k__Bacteria;p__Bacteroidetes;c__Flavobacteriia;...  k__Bacteria;p__Bacteroidetes;c__Flavobacteriia...\n",
      "k__Bacteria;p__Bacteroidetes;c__Flavobacteriia;...  k__Bacteria;p__Bacteroidetes;c__Flavobacteriia...\n",
      "k__Bacteria;p__Bacteroidetes;c__Flavobacteriia;...  k__Bacteria;p__Bacteroidetes;c__Flavobacteriia...\n",
      "k__Bacteria;p__Bacteroidetes;c__Flavobacteriia;...  k__Bacteria;p__Bacteroidetes;c__Flavobacteriia...\n",
      "k__Bacteria;p__Bacteroidetes;c__Flavobacteriia;...  k__Bacteria;p__Bacteroidetes;c__Flavobacteriia...\n",
      "k__Bacteria;p__Bacteroidetes;c__Flavobacteriia;...  k__Bacteria;p__Bacteroidetes;c__Flavobacteriia...\n",
      "k__Bacteria;p__Bacteroidetes;c__Sphingobacterii...  k__Bacteria;p__Bacteroidetes;c__Sphingobacteri...\n",
      "k__Bacteria;p__Bacteroidetes;c__Sphingobacterii...  k__Bacteria;p__Bacteroidetes;c__Sphingobacteri...\n",
      "k__Bacteria;p__Bacteroidetes;c__Sphingobacterii...  k__Bacteria;p__Bacteroidetes;c__Sphingobacteri...\n",
      "k__Bacteria;p__Bacteroidetes;c__Sphingobacterii...  k__Bacteria;p__Bacteroidetes;c__Sphingobacteri...\n",
      "k__Bacteria;p__Bacteroidetes;c__Sphingobacterii...  k__Bacteria;p__Bacteroidetes;c__Sphingobacteri...\n",
      "k__Bacteria;p__Bacteroidetes;c__Sphingobacterii...  k__Bacteria;p__Bacteroidetes;c__Sphingobacteri...\n",
      "k__Bacteria;p__Bacteroidetes;c__Sphingobacterii...  k__Bacteria;p__Bacteroidetes;c__Sphingobacteri...\n",
      "k__Bacteria;p__Bacteroidetes;c__Sphingobacterii...  k__Bacteria;p__Bacteroidetes;c__Sphingobacteri...\n",
      "k__Bacteria;p__Bacteroidetes;c__Sphingobacterii...  k__Bacteria;p__Bacteroidetes;c__Sphingobacteri...\n",
      "k__Bacteria;p__Bacteroidetes;c__Sphingobacterii...  k__Bacteria;p__Bacteroidetes;c__Sphingobacteri...\n",
      "k__Bacteria;p__Bacteroidetes;c__[Saprospirae];o...  k__Bacteria;p__Bacteroidetes;c__[Saprospirae];...\n",
      "k__Bacteria;p__Bacteroidetes;c__[Saprospirae];o...  k__Bacteria;p__Bacteroidetes;c__[Saprospirae];...\n",
      "k__Bacteria;p__Bacteroidetes;c__[Saprospirae];o...  k__Bacteria;p__Bacteroidetes;c__[Saprospirae];...\n",
      "k__Bacteria;p__Bacteroidetes;c__[Saprospirae];o...  k__Bacteria;p__Bacteroidetes;c__[Saprospirae];...\n",
      "k__Bacteria;p__Bacteroidetes;c__[Saprospirae];o...  k__Bacteria;p__Bacteroidetes;c__[Saprospirae];...\n",
      "k__Bacteria;p__Bacteroidetes;c__[Saprospirae];o...  k__Bacteria;p__Bacteroidetes;c__[Saprospirae];...\n",
      "k__Bacteria;p__Bacteroidetes;c__[Saprospirae];o...  k__Bacteria;p__Bacteroidetes;c__[Saprospirae];...\n",
      "k__Bacteria;p__Bacteroidetes;c__[Saprospirae];o...  k__Bacteria;p__Bacteroidetes;c__[Saprospirae];...\n",
      "k__Bacteria;p__Bacteroidetes;c__[Saprospirae];o...  k__Bacteria;p__Bacteroidetes;c__[Saprospirae];...\n",
      "k__Bacteria;p__Bacteroidetes;c__[Saprospirae];o...  k__Bacteria;p__Bacteroidetes;c__[Saprospirae];...\n",
      "k__Bacteria;p__Bacteroidetes;c__[Saprospirae];o...  k__Bacteria;p__Bacteroidetes;c__[Saprospirae];...\n",
      "k__Bacteria;p__Chlorobi;c__OPB56;o__;f__;g__;s__     k__Bacteria;p__Chlorobi;c__OPB56;o__;f__;g__;s__\n",
      "k__Bacteria;p__Chloroflexi;c__Chloroflexi;o__AK...  k__Bacteria;p__Chloroflexi;c__Chloroflexi;o__A...\n",
      "k__Bacteria;p__Chloroflexi;c__Ellin6529;o__;f__...  k__Bacteria;p__Chloroflexi;c__Ellin6529;o__;f_...\n",
      "k__Bacteria;p__Chloroflexi;c__Thermomicrobia;o_...  k__Bacteria;p__Chloroflexi;c__Thermomicrobia;o...\n",
      "k__Bacteria;p__Chloroflexi;c__Thermomicrobia;o_...  k__Bacteria;p__Chloroflexi;c__Thermomicrobia;o...\n",
      "k__Bacteria;p__Cyanobacteria;c__4C0d-2;o__SM1D1...  k__Bacteria;p__Cyanobacteria;c__4C0d-2;o__SM1D...\n",
      "k__Bacteria;p__Cyanobacteria;c__4C0d-2;o__YS2;f...  k__Bacteria;p__Cyanobacteria;c__4C0d-2;o__YS2;...\n",
      "k__Bacteria;p__Cyanobacteria;c__ML635J-21;o__;f...  k__Bacteria;p__Cyanobacteria;c__ML635J-21;o__;...\n",
      "k__Bacteria;p__Cyanobacteria;c__Oscillatoriophy...  k__Bacteria;p__Cyanobacteria;c__Oscillatorioph...\n",
      "k__Bacteria;p__Deferribacteres;c__Deferribacter...  k__Bacteria;p__Deferribacteres;c__Deferribacte...\n",
      "k__Bacteria;p__Deferribacteres;c__Deferribacter...  k__Bacteria;p__Deferribacteres;c__Deferribacte...\n",
      "k__Bacteria;p__FBP;c__;o__;f__;g__;s__                         k__Bacteria;p__FBP;c__;o__;f__;g__;s__\n",
      "k__Bacteria;p__Firmicutes;c__AHT28;o__;f__;g__;s__  k__Bacteria;p__Firmicutes;c__AHT28;o__;f__;g__...\n",
      "k__Bacteria;p__Firmicutes;c__Bacilli;o__Bacilla...  k__Bacteria;p__Firmicutes;c__Bacilli;o__Bacill...\n",
      "k__Bacteria;p__Firmicutes;c__Bacilli;o__Bacilla...  k__Bacteria;p__Firmicutes;c__Bacilli;o__Bacill...\n",
      "k__Bacteria;p__Firmicutes;c__Bacilli;o__Bacilla...  k__Bacteria;p__Firmicutes;c__Bacilli;o__Bacill...\n",
      "k__Bacteria;p__Firmicutes;c__Bacilli;o__Bacilla...  k__Bacteria;p__Firmicutes;c__Bacilli;o__Bacill...\n",
      "k__Bacteria;p__Firmicutes;c__Bacilli;o__Bacilla...  k__Bacteria;p__Firmicutes;c__Bacilli;o__Bacill...\n",
      "k__Bacteria;p__Firmicutes;c__Bacilli;o__Bacilla...  k__Bacteria;p__Firmicutes;c__Bacilli;o__Bacill...\n",
      "k__Bacteria;p__Firmicutes;c__Bacilli;o__Bacilla...  k__Bacteria;p__Firmicutes;c__Bacilli;o__Bacill...\n",
      "k__Bacteria;p__Firmicutes;c__Bacilli;o__Bacilla...  k__Bacteria;p__Firmicutes;c__Bacilli;o__Bacill...\n",
      "k__Bacteria;p__Firmicutes;c__Bacilli;o__Bacilla...  k__Bacteria;p__Firmicutes;c__Bacilli;o__Bacill...\n",
      "k__Bacteria;p__Firmicutes;c__Bacilli;o__Bacilla...  k__Bacteria;p__Firmicutes;c__Bacilli;o__Bacill...\n",
      "k__Bacteria;p__Firmicutes;c__Bacilli;o__Bacilla...  k__Bacteria;p__Firmicutes;c__Bacilli;o__Bacill...\n",
      "k__Bacteria;p__Firmicutes;c__Bacilli;o__Bacilla...  k__Bacteria;p__Firmicutes;c__Bacilli;o__Bacill...\n",
      "k__Bacteria;p__Firmicutes;c__Bacilli;o__Bacilla...  k__Bacteria;p__Firmicutes;c__Bacilli;o__Bacill...\n",
      "k__Bacteria;p__Firmicutes;c__Bacilli;o__Bacilla...  k__Bacteria;p__Firmicutes;c__Bacilli;o__Bacill...\n",
      "k__Bacteria;p__Firmicutes;c__Bacilli;o__Bacilla...  k__Bacteria;p__Firmicutes;c__Bacilli;o__Bacill...\n",
      "k__Bacteria;p__Firmicutes;c__Bacilli;o__Bacilla...  k__Bacteria;p__Firmicutes;c__Bacilli;o__Bacill...\n",
      "k__Bacteria;p__Firmicutes;c__Bacilli;o__Bacilla...  k__Bacteria;p__Firmicutes;c__Bacilli;o__Bacill...\n",
      "k__Bacteria;p__Firmicutes;c__Bacilli;o__Bacilla...  k__Bacteria;p__Firmicutes;c__Bacilli;o__Bacill...\n",
      "k__Bacteria;p__Firmicutes;c__Bacilli;o__Bacilla...  k__Bacteria;p__Firmicutes;c__Bacilli;o__Bacill...\n",
      "k__Bacteria;p__Firmicutes;c__Bacilli;o__Bacilla...  k__Bacteria;p__Firmicutes;c__Bacilli;o__Bacill...\n",
      "k__Bacteria;p__Firmicutes;c__Bacilli;o__Bacilla...  k__Bacteria;p__Firmicutes;c__Bacilli;o__Bacill...\n",
      "k__Bacteria;p__Firmicutes;c__Bacilli;o__Bacilla...  k__Bacteria;p__Firmicutes;c__Bacilli;o__Bacill...\n",
      "k__Bacteria;p__Firmicutes;c__Bacilli;o__Bacilla...  k__Bacteria;p__Firmicutes;c__Bacilli;o__Bacill...\n",
      "k__Bacteria;p__Firmicutes;c__Bacilli;o__Bacilla...  k__Bacteria;p__Firmicutes;c__Bacilli;o__Bacill...\n",
      "k__Bacteria;p__Firmicutes;c__Bacilli;o__Bacilla...  k__Bacteria;p__Firmicutes;c__Bacilli;o__Bacill...\n",
      "k__Bacteria;p__Firmicutes;c__Bacilli;o__Bacilla...  k__Bacteria;p__Firmicutes;c__Bacilli;o__Bacill...\n",
      "k__Bacteria;p__Firmicutes;c__Bacilli;o__Bacilla...  k__Bacteria;p__Firmicutes;c__Bacilli;o__Bacill...\n",
      "k__Bacteria;p__Firmicutes;c__Bacilli;o__Bacilla...  k__Bacteria;p__Firmicutes;c__Bacilli;o__Bacill...\n",
      "k__Bacteria;p__Firmicutes;c__Bacilli;o__Bacilla...  k__Bacteria;p__Firmicutes;c__Bacilli;o__Bacill...\n",
      "k__Bacteria;p__Firmicutes;c__Bacilli;o__Bacilla...  k__Bacteria;p__Firmicutes;c__Bacilli;o__Bacill...\n",
      "k__Bacteria;p__Firmicutes;c__Bacilli;o__Bacilla...  k__Bacteria;p__Firmicutes;c__Bacilli;o__Bacill...\n",
      "k__Bacteria;p__Firmicutes;c__Bacilli;o__Bacilla...  k__Bacteria;p__Firmicutes;c__Bacilli;o__Bacill...\n",
      "k__Bacteria;p__Firmicutes;c__Bacilli;o__Bacilla...  k__Bacteria;p__Firmicutes;c__Bacilli;o__Bacill...\n",
      "k__Bacteria;p__Firmicutes;c__Bacilli;o__Gemella...  k__Bacteria;p__Firmicutes;c__Bacilli;o__Gemell...\n",
      "k__Bacteria;p__Firmicutes;c__Bacilli;o__Gemella...  k__Bacteria;p__Firmicutes;c__Bacilli;o__Gemell...\n",
      "k__Bacteria;p__Firmicutes;c__Bacilli;o__Gemella...  k__Bacteria;p__Firmicutes;c__Bacilli;o__Gemell...\n",
      "k__Bacteria;p__Firmicutes;c__Bacilli;o__Lactoba...  k__Bacteria;p__Firmicutes;c__Bacilli;o__Lactob...\n",
      "k__Bacteria;p__Firmicutes;c__Bacilli;o__Lactoba...  k__Bacteria;p__Firmicutes;c__Bacilli;o__Lactob...\n",
      "k__Bacteria;p__Firmicutes;c__Bacilli;o__Lactoba...  k__Bacteria;p__Firmicutes;c__Bacilli;o__Lactob...\n",
      "k__Bacteria;p__Firmicutes;c__Bacilli;o__Lactoba...  k__Bacteria;p__Firmicutes;c__Bacilli;o__Lactob...\n",
      "k__Bacteria;p__Firmicutes;c__Bacilli;o__Lactoba...  k__Bacteria;p__Firmicutes;c__Bacilli;o__Lactob...\n",
      "k__Bacteria;p__Firmicutes;c__Bacilli;o__Lactoba...  k__Bacteria;p__Firmicutes;c__Bacilli;o__Lactob...\n",
      "k__Bacteria;p__Firmicutes;c__Bacilli;o__Lactoba...  k__Bacteria;p__Firmicutes;c__Bacilli;o__Lactob...\n",
      "k__Bacteria;p__Firmicutes;c__Bacilli;o__Lactoba...  k__Bacteria;p__Firmicutes;c__Bacilli;o__Lactob...\n",
      "k__Bacteria;p__Firmicutes;c__Bacilli;o__Lactoba...  k__Bacteria;p__Firmicutes;c__Bacilli;o__Lactob...\n",
      "k__Bacteria;p__Firmicutes;c__Bacilli;o__Lactoba...  k__Bacteria;p__Firmicutes;c__Bacilli;o__Lactob...\n",
      "k__Bacteria;p__Firmicutes;c__Bacilli;o__Lactoba...  k__Bacteria;p__Firmicutes;c__Bacilli;o__Lactob...\n",
      "k__Bacteria;p__Firmicutes;c__Bacilli;o__Lactoba...  k__Bacteria;p__Firmicutes;c__Bacilli;o__Lactob...\n",
      "k__Bacteria;p__Firmicutes;c__Bacilli;o__Lactoba...  k__Bacteria;p__Firmicutes;c__Bacilli;o__Lactob...\n",
      "k__Bacteria;p__Firmicutes;c__Bacilli;o__Lactoba...  k__Bacteria;p__Firmicutes;c__Bacilli;o__Lactob...\n",
      "k__Bacteria;p__Firmicutes;c__Bacilli;o__Lactoba...  k__Bacteria;p__Firmicutes;c__Bacilli;o__Lactob...\n",
      "k__Bacteria;p__Firmicutes;c__Clostridia;o__Clos...  k__Bacteria;p__Firmicutes;c__Clostridia;o__Clo...\n",
      "k__Bacteria;p__Firmicutes;c__Clostridia;o__Clos...  k__Bacteria;p__Firmicutes;c__Clostridia;o__Clo...\n",
      "k__Bacteria;p__Firmicutes;c__Clostridia;o__Clos...  k__Bacteria;p__Firmicutes;c__Clostridia;o__Clo...\n",
      "k__Bacteria;p__Firmicutes;c__Clostridia;o__Clos...  k__Bacteria;p__Firmicutes;c__Clostridia;o__Clo...\n",
      "k__Bacteria;p__Firmicutes;c__Clostridia;o__Clos...  k__Bacteria;p__Firmicutes;c__Clostridia;o__Clo...\n",
      "k__Bacteria;p__Firmicutes;c__Clostridia;o__Clos...  k__Bacteria;p__Firmicutes;c__Clostridia;o__Clo...\n",
      "k__Bacteria;p__Firmicutes;c__Clostridia;o__Clos...  k__Bacteria;p__Firmicutes;c__Clostridia;o__Clo...\n",
      "k__Bacteria;p__Firmicutes;c__Clostridia;o__Clos...  k__Bacteria;p__Firmicutes;c__Clostridia;o__Clo...\n",
      "k__Bacteria;p__Firmicutes;c__Clostridia;o__Clos...  k__Bacteria;p__Firmicutes;c__Clostridia;o__Clo...\n",
      "k__Bacteria;p__Firmicutes;c__Clostridia;o__Clos...  k__Bacteria;p__Firmicutes;c__Clostridia;o__Clo...\n",
      "k__Bacteria;p__Firmicutes;c__Clostridia;o__Clos...  k__Bacteria;p__Firmicutes;c__Clostridia;o__Clo...\n",
      "k__Bacteria;p__Firmicutes;c__Clostridia;o__Clos...  k__Bacteria;p__Firmicutes;c__Clostridia;o__Clo...\n",
      "k__Bacteria;p__Firmicutes;c__Clostridia;o__Clos...  k__Bacteria;p__Firmicutes;c__Clostridia;o__Clo...\n",
      "k__Bacteria;p__Firmicutes;c__Clostridia;o__Clos...  k__Bacteria;p__Firmicutes;c__Clostridia;o__Clo...\n",
      "k__Bacteria;p__Firmicutes;c__Clostridia;o__Clos...  k__Bacteria;p__Firmicutes;c__Clostridia;o__Clo...\n",
      "k__Bacteria;p__Firmicutes;c__Clostridia;o__Clos...  k__Bacteria;p__Firmicutes;c__Clostridia;o__Clo...\n",
      "k__Bacteria;p__Firmicutes;c__Clostridia;o__Clos...  k__Bacteria;p__Firmicutes;c__Clostridia;o__Clo...\n",
      "k__Bacteria;p__Firmicutes;c__Clostridia;o__Clos...  k__Bacteria;p__Firmicutes;c__Clostridia;o__Clo...\n",
      "k__Bacteria;p__Firmicutes;c__Clostridia;o__Clos...  k__Bacteria;p__Firmicutes;c__Clostridia;o__Clo...\n",
      "k__Bacteria;p__Firmicutes;c__Clostridia;o__Clos...  k__Bacteria;p__Firmicutes;c__Clostridia;o__Clo...\n",
      "k__Bacteria;p__Firmicutes;c__Clostridia;o__Clos...  k__Bacteria;p__Firmicutes;c__Clostridia;o__Clo...\n",
      "k__Bacteria;p__Firmicutes;c__Clostridia;o__Clos...  k__Bacteria;p__Firmicutes;c__Clostridia;o__Clo...\n",
      "k__Bacteria;p__Firmicutes;c__Clostridia;o__Clos...  k__Bacteria;p__Firmicutes;c__Clostridia;o__Clo...\n",
      "k__Bacteria;p__Firmicutes;c__Clostridia;o__Clos...  k__Bacteria;p__Firmicutes;c__Clostridia;o__Clo...\n",
      "k__Bacteria;p__Firmicutes;c__Clostridia;o__Clos...  k__Bacteria;p__Firmicutes;c__Clostridia;o__Clo...\n",
      "k__Bacteria;p__Firmicutes;c__Clostridia;o__Clos...  k__Bacteria;p__Firmicutes;c__Clostridia;o__Clo...\n",
      "k__Bacteria;p__Firmicutes;c__Clostridia;o__Clos...  k__Bacteria;p__Firmicutes;c__Clostridia;o__Clo...\n",
      "k__Bacteria;p__Firmicutes;c__Clostridia;o__Clos...  k__Bacteria;p__Firmicutes;c__Clostridia;o__Clo...\n",
      "k__Bacteria;p__Firmicutes;c__Clostridia;o__Clos...  k__Bacteria;p__Firmicutes;c__Clostridia;o__Clo...\n",
      "k__Bacteria;p__Firmicutes;c__Clostridia;o__Clos...  k__Bacteria;p__Firmicutes;c__Clostridia;o__Clo...\n",
      "k__Bacteria;p__Firmicutes;c__Clostridia;o__Clos...  k__Bacteria;p__Firmicutes;c__Clostridia;o__Clo...\n",
      "k__Bacteria;p__Firmicutes;c__Clostridia;o__Clos...  k__Bacteria;p__Firmicutes;c__Clostridia;o__Clo...\n",
      "k__Bacteria;p__Firmicutes;c__Clostridia;o__Clos...  k__Bacteria;p__Firmicutes;c__Clostridia;o__Clo...\n",
      "k__Bacteria;p__Firmicutes;c__Clostridia;o__Clos...  k__Bacteria;p__Firmicutes;c__Clostridia;o__Clo...\n",
      "k__Bacteria;p__Firmicutes;c__Clostridia;o__Clos...  k__Bacteria;p__Firmicutes;c__Clostridia;o__Clo...\n",
      "k__Bacteria;p__Firmicutes;c__Clostridia;o__Clos...  k__Bacteria;p__Firmicutes;c__Clostridia;o__Clo...\n",
      "k__Bacteria;p__Firmicutes;c__Clostridia;o__Clos...  k__Bacteria;p__Firmicutes;c__Clostridia;o__Clo...\n",
      "k__Bacteria;p__Firmicutes;c__Clostridia;o__Clos...  k__Bacteria;p__Firmicutes;c__Clostridia;o__Clo...\n",
      "k__Bacteria;p__Firmicutes;c__Clostridia;o__Clos...  k__Bacteria;p__Firmicutes;c__Clostridia;o__Clo...\n",
      "k__Bacteria;p__Firmicutes;c__Clostridia;o__Clos...  k__Bacteria;p__Firmicutes;c__Clostridia;o__Clo...\n",
      "k__Bacteria;p__Firmicutes;c__Clostridia;o__Clos...  k__Bacteria;p__Firmicutes;c__Clostridia;o__Clo...\n",
      "k__Bacteria;p__Firmicutes;c__Clostridia;o__Clos...  k__Bacteria;p__Firmicutes;c__Clostridia;o__Clo...\n",
      "k__Bacteria;p__Firmicutes;c__Clostridia;o__Clos...  k__Bacteria;p__Firmicutes;c__Clostridia;o__Clo...\n",
      "k__Bacteria;p__Firmicutes;c__Clostridia;o__Clos...  k__Bacteria;p__Firmicutes;c__Clostridia;o__Clo...\n",
      "k__Bacteria;p__Firmicutes;c__Clostridia;o__Clos...  k__Bacteria;p__Firmicutes;c__Clostridia;o__Clo...\n",
      "k__Bacteria;p__Firmicutes;c__Clostridia;o__Clos...  k__Bacteria;p__Firmicutes;c__Clostridia;o__Clo...\n",
      "k__Bacteria;p__Firmicutes;c__Clostridia;o__Clos...  k__Bacteria;p__Firmicutes;c__Clostridia;o__Clo...\n",
      "k__Bacteria;p__Firmicutes;c__Clostridia;o__Clos...  k__Bacteria;p__Firmicutes;c__Clostridia;o__Clo...\n",
      "k__Bacteria;p__Firmicutes;c__Clostridia;o__Clos...  k__Bacteria;p__Firmicutes;c__Clostridia;o__Clo...\n",
      "k__Bacteria;p__Firmicutes;c__Clostridia;o__Clos...  k__Bacteria;p__Firmicutes;c__Clostridia;o__Clo...\n",
      "k__Bacteria;p__Firmicutes;c__Clostridia;o__Clos...  k__Bacteria;p__Firmicutes;c__Clostridia;o__Clo...\n",
      "k__Bacteria;p__Firmicutes;c__Clostridia;o__Clos...  k__Bacteria;p__Firmicutes;c__Clostridia;o__Clo...\n",
      "k__Bacteria;p__Firmicutes;c__Clostridia;o__Clos...  k__Bacteria;p__Firmicutes;c__Clostridia;o__Clo...\n",
      "k__Bacteria;p__Firmicutes;c__Clostridia;o__Clos...  k__Bacteria;p__Firmicutes;c__Clostridia;o__Clo...\n",
      "k__Bacteria;p__Firmicutes;c__Clostridia;o__Clos...  k__Bacteria;p__Firmicutes;c__Clostridia;o__Clo...\n",
      "k__Bacteria;p__Firmicutes;c__Clostridia;o__Clos...  k__Bacteria;p__Firmicutes;c__Clostridia;o__Clo...\n",
      "k__Bacteria;p__Firmicutes;c__Clostridia;o__Clos...  k__Bacteria;p__Firmicutes;c__Clostridia;o__Clo...\n",
      "k__Bacteria;p__Firmicutes;c__Clostridia;o__Clos...  k__Bacteria;p__Firmicutes;c__Clostridia;o__Clo...\n",
      "k__Bacteria;p__Firmicutes;c__Clostridia;o__Clos...  k__Bacteria;p__Firmicutes;c__Clostridia;o__Clo...\n",
      "k__Bacteria;p__Firmicutes;c__Clostridia;o__Clos...  k__Bacteria;p__Firmicutes;c__Clostridia;o__Clo...\n",
      "k__Bacteria;p__Firmicutes;c__Clostridia;o__Clos...  k__Bacteria;p__Firmicutes;c__Clostridia;o__Clo...\n",
      "k__Bacteria;p__Firmicutes;c__Clostridia;o__MBA0...  k__Bacteria;p__Firmicutes;c__Clostridia;o__MBA...\n",
      "k__Bacteria;p__Firmicutes;c__Clostridia;o__OPB5...  k__Bacteria;p__Firmicutes;c__Clostridia;o__OPB...\n",
      "k__Bacteria;p__Firmicutes;c__Clostridia;o__Ther...  k__Bacteria;p__Firmicutes;c__Clostridia;o__The...\n",
      "k__Bacteria;p__Firmicutes;c__Clostridia;o__Ther...  k__Bacteria;p__Firmicutes;c__Clostridia;o__The...\n",
      "k__Bacteria;p__Firmicutes;c__Erysipelotrichi;o_...  k__Bacteria;p__Firmicutes;c__Erysipelotrichi;o...\n",
      "k__Bacteria;p__Firmicutes;c__Erysipelotrichi;o_...  k__Bacteria;p__Firmicutes;c__Erysipelotrichi;o...\n",
      "k__Bacteria;p__Firmicutes;c__Erysipelotrichi;o_...  k__Bacteria;p__Firmicutes;c__Erysipelotrichi;o...\n",
      "k__Bacteria;p__Firmicutes;c__Erysipelotrichi;o_...  k__Bacteria;p__Firmicutes;c__Erysipelotrichi;o...\n",
      "k__Bacteria;p__Firmicutes;c__Erysipelotrichi;o_...  k__Bacteria;p__Firmicutes;c__Erysipelotrichi;o...\n",
      "k__Bacteria;p__Firmicutes;c__Erysipelotrichi;o_...  k__Bacteria;p__Firmicutes;c__Erysipelotrichi;o...\n",
      "k__Bacteria;p__Firmicutes;c__Erysipelotrichi;o_...  k__Bacteria;p__Firmicutes;c__Erysipelotrichi;o...\n",
      "k__Bacteria;p__Firmicutes;c__Erysipelotrichi;o_...  k__Bacteria;p__Firmicutes;c__Erysipelotrichi;o...\n",
      "k__Bacteria;p__Firmicutes;c__Erysipelotrichi;o_...  k__Bacteria;p__Firmicutes;c__Erysipelotrichi;o...\n",
      "k__Bacteria;p__Fusobacteria;c__Fusobacteriia;o_...  k__Bacteria;p__Fusobacteria;c__Fusobacteriia;o...\n",
      "k__Bacteria;p__Fusobacteria;c__Fusobacteriia;o_...  k__Bacteria;p__Fusobacteria;c__Fusobacteriia;o...\n",
      "k__Bacteria;p__Fusobacteria;c__Fusobacteriia;o_...  k__Bacteria;p__Fusobacteria;c__Fusobacteriia;o...\n",
      "k__Bacteria;p__Fusobacteria;c__Fusobacteriia;o_...  k__Bacteria;p__Fusobacteria;c__Fusobacteriia;o...\n",
      "k__Bacteria;p__GN02;c__BD1-5;o__;f__;g__;s__             k__Bacteria;p__GN02;c__BD1-5;o__;f__;g__;s__\n",
      "k__Bacteria;p__Gemmatimonadetes;c__Gemm-3;o__;f...  k__Bacteria;p__Gemmatimonadetes;c__Gemm-3;o__;...\n",
      "k__Bacteria;p__Gemmatimonadetes;c__Gemmatimonad...  k__Bacteria;p__Gemmatimonadetes;c__Gemmatimona...\n",
      "k__Bacteria;p__Gemmatimonadetes;c__Gemmatimonad...  k__Bacteria;p__Gemmatimonadetes;c__Gemmatimona...\n",
      "k__Bacteria;p__Gemmatimonadetes;c__Gemmatimonad...  k__Bacteria;p__Gemmatimonadetes;c__Gemmatimona...\n",
      "k__Bacteria;p__Gemmatimonadetes;c__Gemmatimonad...  k__Bacteria;p__Gemmatimonadetes;c__Gemmatimona...\n",
      "k__Bacteria;p__OD1;c__SM2F11;o__;f__;g__;s__             k__Bacteria;p__OD1;c__SM2F11;o__;f__;g__;s__\n",
      "k__Bacteria;p__OP11;c__;o__;f__;g__;s__                       k__Bacteria;p__OP11;c__;o__;f__;g__;s__\n",
      "k__Bacteria;p__OP11;c__OP11-2;o__WCHB1-07;f__;g...  k__Bacteria;p__OP11;c__OP11-2;o__WCHB1-07;f__;...\n",
      "k__Bacteria;p__Planctomycetes;c__Phycisphaerae;...  k__Bacteria;p__Planctomycetes;c__Phycisphaerae...\n",
      "k__Bacteria;p__Planctomycetes;c__Phycisphaerae;...  k__Bacteria;p__Planctomycetes;c__Phycisphaerae...\n",
      "k__Bacteria;p__Planctomycetes;c__Planctomycetia...  k__Bacteria;p__Planctomycetes;c__Planctomyceti...\n",
      "k__Bacteria;p__Planctomycetes;c__Planctomycetia...  k__Bacteria;p__Planctomycetes;c__Planctomyceti...\n",
      "k__Bacteria;p__Planctomycetes;c__Planctomycetia...  k__Bacteria;p__Planctomycetes;c__Planctomyceti...\n",
      "k__Bacteria;p__Planctomycetes;c__Planctomycetia...  k__Bacteria;p__Planctomycetes;c__Planctomyceti...\n",
      "k__Bacteria;p__Planctomycetes;c__Planctomycetia...  k__Bacteria;p__Planctomycetes;c__Planctomyceti...\n",
      "k__Bacteria;p__Planctomycetes;c__vadinHA49;o__P...  k__Bacteria;p__Planctomycetes;c__vadinHA49;o__...\n",
      "k__Bacteria;p__Proteobacteria;c__;o__;f__;g__;s__   k__Bacteria;p__Proteobacteria;c__;o__;f__;g__;s__\n",
      "k__Bacteria;p__Proteobacteria;c__Alphaproteobac...  k__Bacteria;p__Proteobacteria;c__Alphaproteoba...\n",
      "k__Bacteria;p__Proteobacteria;c__Alphaproteobac...  k__Bacteria;p__Proteobacteria;c__Alphaproteoba...\n",
      "k__Bacteria;p__Proteobacteria;c__Alphaproteobac...  k__Bacteria;p__Proteobacteria;c__Alphaproteoba...\n",
      "k__Bacteria;p__Proteobacteria;c__Alphaproteobac...  k__Bacteria;p__Proteobacteria;c__Alphaproteoba...\n",
      "k__Bacteria;p__Proteobacteria;c__Alphaproteobac...  k__Bacteria;p__Proteobacteria;c__Alphaproteoba...\n",
      "k__Bacteria;p__Proteobacteria;c__Alphaproteobac...  k__Bacteria;p__Proteobacteria;c__Alphaproteoba...\n",
      "k__Bacteria;p__Proteobacteria;c__Alphaproteobac...  k__Bacteria;p__Proteobacteria;c__Alphaproteoba...\n",
      "k__Bacteria;p__Proteobacteria;c__Alphaproteobac...  k__Bacteria;p__Proteobacteria;c__Alphaproteoba...\n",
      "k__Bacteria;p__Proteobacteria;c__Alphaproteobac...  k__Bacteria;p__Proteobacteria;c__Alphaproteoba...\n",
      "k__Bacteria;p__Proteobacteria;c__Alphaproteobac...  k__Bacteria;p__Proteobacteria;c__Alphaproteoba...\n",
      "k__Bacteria;p__Proteobacteria;c__Alphaproteobac...  k__Bacteria;p__Proteobacteria;c__Alphaproteoba...\n",
      "k__Bacteria;p__Proteobacteria;c__Alphaproteobac...  k__Bacteria;p__Proteobacteria;c__Alphaproteoba...\n",
      "k__Bacteria;p__Proteobacteria;c__Alphaproteobac...  k__Bacteria;p__Proteobacteria;c__Alphaproteoba...\n",
      "k__Bacteria;p__Proteobacteria;c__Alphaproteobac...  k__Bacteria;p__Proteobacteria;c__Alphaproteoba...\n",
      "k__Bacteria;p__Proteobacteria;c__Alphaproteobac...  k__Bacteria;p__Proteobacteria;c__Alphaproteoba...\n",
      "k__Bacteria;p__Proteobacteria;c__Alphaproteobac...  k__Bacteria;p__Proteobacteria;c__Alphaproteoba...\n",
      "k__Bacteria;p__Proteobacteria;c__Alphaproteobac...  k__Bacteria;p__Proteobacteria;c__Alphaproteoba...\n",
      "k__Bacteria;p__Proteobacteria;c__Alphaproteobac...  k__Bacteria;p__Proteobacteria;c__Alphaproteoba...\n",
      "k__Bacteria;p__Proteobacteria;c__Alphaproteobac...  k__Bacteria;p__Proteobacteria;c__Alphaproteoba...\n",
      "k__Bacteria;p__Proteobacteria;c__Alphaproteobac...  k__Bacteria;p__Proteobacteria;c__Alphaproteoba...\n",
      "k__Bacteria;p__Proteobacteria;c__Alphaproteobac...  k__Bacteria;p__Proteobacteria;c__Alphaproteoba...\n",
      "k__Bacteria;p__Proteobacteria;c__Alphaproteobac...  k__Bacteria;p__Proteobacteria;c__Alphaproteoba...\n",
      "k__Bacteria;p__Proteobacteria;c__Alphaproteobac...  k__Bacteria;p__Proteobacteria;c__Alphaproteoba...\n",
      "k__Bacteria;p__Proteobacteria;c__Alphaproteobac...  k__Bacteria;p__Proteobacteria;c__Alphaproteoba...\n",
      "k__Bacteria;p__Proteobacteria;c__Alphaproteobac...  k__Bacteria;p__Proteobacteria;c__Alphaproteoba...\n",
      "k__Bacteria;p__Proteobacteria;c__Alphaproteobac...  k__Bacteria;p__Proteobacteria;c__Alphaproteoba...\n",
      "k__Bacteria;p__Proteobacteria;c__Alphaproteobac...  k__Bacteria;p__Proteobacteria;c__Alphaproteoba...\n",
      "k__Bacteria;p__Proteobacteria;c__Alphaproteobac...  k__Bacteria;p__Proteobacteria;c__Alphaproteoba...\n",
      "k__Bacteria;p__Proteobacteria;c__Alphaproteobac...  k__Bacteria;p__Proteobacteria;c__Alphaproteoba...\n",
      "k__Bacteria;p__Proteobacteria;c__Alphaproteobac...  k__Bacteria;p__Proteobacteria;c__Alphaproteoba...\n",
      "k__Bacteria;p__Proteobacteria;c__Alphaproteobac...  k__Bacteria;p__Proteobacteria;c__Alphaproteoba...\n",
      "k__Bacteria;p__Proteobacteria;c__Alphaproteobac...  k__Bacteria;p__Proteobacteria;c__Alphaproteoba...\n",
      "k__Bacteria;p__Proteobacteria;c__Alphaproteobac...  k__Bacteria;p__Proteobacteria;c__Alphaproteoba...\n",
      "k__Bacteria;p__Proteobacteria;c__Alphaproteobac...  k__Bacteria;p__Proteobacteria;c__Alphaproteoba...\n",
      "k__Bacteria;p__Proteobacteria;c__Alphaproteobac...  k__Bacteria;p__Proteobacteria;c__Alphaproteoba...\n",
      "k__Bacteria;p__Proteobacteria;c__Alphaproteobac...  k__Bacteria;p__Proteobacteria;c__Alphaproteoba...\n",
      "k__Bacteria;p__Proteobacteria;c__Alphaproteobac...  k__Bacteria;p__Proteobacteria;c__Alphaproteoba...\n",
      "k__Bacteria;p__Proteobacteria;c__Alphaproteobac...  k__Bacteria;p__Proteobacteria;c__Alphaproteoba...\n",
      "k__Bacteria;p__Proteobacteria;c__Alphaproteobac...  k__Bacteria;p__Proteobacteria;c__Alphaproteoba...\n",
      "k__Bacteria;p__Proteobacteria;c__Alphaproteobac...  k__Bacteria;p__Proteobacteria;c__Alphaproteoba...\n",
      "k__Bacteria;p__Proteobacteria;c__Alphaproteobac...  k__Bacteria;p__Proteobacteria;c__Alphaproteoba...\n",
      "k__Bacteria;p__Proteobacteria;c__Alphaproteobac...  k__Bacteria;p__Proteobacteria;c__Alphaproteoba...\n",
      "k__Bacteria;p__Proteobacteria;c__Alphaproteobac...  k__Bacteria;p__Proteobacteria;c__Alphaproteoba...\n",
      "k__Bacteria;p__Proteobacteria;c__Alphaproteobac...  k__Bacteria;p__Proteobacteria;c__Alphaproteoba...\n",
      "k__Bacteria;p__Proteobacteria;c__Alphaproteobac...  k__Bacteria;p__Proteobacteria;c__Alphaproteoba...\n",
      "k__Bacteria;p__Proteobacteria;c__Alphaproteobac...  k__Bacteria;p__Proteobacteria;c__Alphaproteoba...\n",
      "k__Bacteria;p__Proteobacteria;c__Alphaproteobac...  k__Bacteria;p__Proteobacteria;c__Alphaproteoba...\n",
      "k__Bacteria;p__Proteobacteria;c__Alphaproteobac...  k__Bacteria;p__Proteobacteria;c__Alphaproteoba...\n",
      "k__Bacteria;p__Proteobacteria;c__Alphaproteobac...  k__Bacteria;p__Proteobacteria;c__Alphaproteoba...\n",
      "k__Bacteria;p__Proteobacteria;c__Alphaproteobac...  k__Bacteria;p__Proteobacteria;c__Alphaproteoba...\n",
      "k__Bacteria;p__Proteobacteria;c__Alphaproteobac...  k__Bacteria;p__Proteobacteria;c__Alphaproteoba...\n",
      "k__Bacteria;p__Proteobacteria;c__Alphaproteobac...  k__Bacteria;p__Proteobacteria;c__Alphaproteoba...\n",
      "k__Bacteria;p__Proteobacteria;c__Alphaproteobac...  k__Bacteria;p__Proteobacteria;c__Alphaproteoba...\n",
      "k__Bacteria;p__Proteobacteria;c__Alphaproteobac...  k__Bacteria;p__Proteobacteria;c__Alphaproteoba...\n",
      "k__Bacteria;p__Proteobacteria;c__Alphaproteobac...  k__Bacteria;p__Proteobacteria;c__Alphaproteoba...\n",
      "k__Bacteria;p__Proteobacteria;c__Alphaproteobac...  k__Bacteria;p__Proteobacteria;c__Alphaproteoba...\n",
      "k__Bacteria;p__Proteobacteria;c__Alphaproteobac...  k__Bacteria;p__Proteobacteria;c__Alphaproteoba...\n",
      "k__Bacteria;p__Proteobacteria;c__Alphaproteobac...  k__Bacteria;p__Proteobacteria;c__Alphaproteoba...\n",
      "k__Bacteria;p__Proteobacteria;c__Alphaproteobac...  k__Bacteria;p__Proteobacteria;c__Alphaproteoba...\n",
      "k__Bacteria;p__Proteobacteria;c__Alphaproteobac...  k__Bacteria;p__Proteobacteria;c__Alphaproteoba...\n",
      "k__Bacteria;p__Proteobacteria;c__Alphaproteobac...  k__Bacteria;p__Proteobacteria;c__Alphaproteoba...\n",
      "k__Bacteria;p__Proteobacteria;c__Alphaproteobac...  k__Bacteria;p__Proteobacteria;c__Alphaproteoba...\n",
      "k__Bacteria;p__Proteobacteria;c__Alphaproteobac...  k__Bacteria;p__Proteobacteria;c__Alphaproteoba...\n",
      "k__Bacteria;p__Proteobacteria;c__Alphaproteobac...  k__Bacteria;p__Proteobacteria;c__Alphaproteoba...\n",
      "k__Bacteria;p__Proteobacteria;c__Alphaproteobac...  k__Bacteria;p__Proteobacteria;c__Alphaproteoba...\n",
      "k__Bacteria;p__Proteobacteria;c__Alphaproteobac...  k__Bacteria;p__Proteobacteria;c__Alphaproteoba...\n",
      "k__Bacteria;p__Proteobacteria;c__Alphaproteobac...  k__Bacteria;p__Proteobacteria;c__Alphaproteoba...\n",
      "k__Bacteria;p__Proteobacteria;c__Alphaproteobac...  k__Bacteria;p__Proteobacteria;c__Alphaproteoba...\n",
      "k__Bacteria;p__Proteobacteria;c__Alphaproteobac...  k__Bacteria;p__Proteobacteria;c__Alphaproteoba...\n",
      "k__Bacteria;p__Proteobacteria;c__Alphaproteobac...  k__Bacteria;p__Proteobacteria;c__Alphaproteoba...\n",
      "k__Bacteria;p__Proteobacteria;c__Alphaproteobac...  k__Bacteria;p__Proteobacteria;c__Alphaproteoba...\n",
      "k__Bacteria;p__Proteobacteria;c__Alphaproteobac...  k__Bacteria;p__Proteobacteria;c__Alphaproteoba...\n",
      "k__Bacteria;p__Proteobacteria;c__Alphaproteobac...  k__Bacteria;p__Proteobacteria;c__Alphaproteoba...\n",
      "k__Bacteria;p__Proteobacteria;c__Alphaproteobac...  k__Bacteria;p__Proteobacteria;c__Alphaproteoba...\n",
      "k__Bacteria;p__Proteobacteria;c__Alphaproteobac...  k__Bacteria;p__Proteobacteria;c__Alphaproteoba...\n",
      "k__Bacteria;p__Proteobacteria;c__Alphaproteobac...  k__Bacteria;p__Proteobacteria;c__Alphaproteoba...\n",
      "k__Bacteria;p__Proteobacteria;c__Alphaproteobac...  k__Bacteria;p__Proteobacteria;c__Alphaproteoba...\n",
      "k__Bacteria;p__Proteobacteria;c__Alphaproteobac...  k__Bacteria;p__Proteobacteria;c__Alphaproteoba...\n",
      "k__Bacteria;p__Proteobacteria;c__Alphaproteobac...  k__Bacteria;p__Proteobacteria;c__Alphaproteoba...\n",
      "k__Bacteria;p__Proteobacteria;c__Alphaproteobac...  k__Bacteria;p__Proteobacteria;c__Alphaproteoba...\n",
      "k__Bacteria;p__Proteobacteria;c__Alphaproteobac...  k__Bacteria;p__Proteobacteria;c__Alphaproteoba...\n",
      "k__Bacteria;p__Proteobacteria;c__Alphaproteobac...  k__Bacteria;p__Proteobacteria;c__Alphaproteoba...\n",
      "k__Bacteria;p__Proteobacteria;c__Alphaproteobac...  k__Bacteria;p__Proteobacteria;c__Alphaproteoba...\n",
      "k__Bacteria;p__Proteobacteria;c__Alphaproteobac...  k__Bacteria;p__Proteobacteria;c__Alphaproteoba...\n",
      "k__Bacteria;p__Proteobacteria;c__Alphaproteobac...  k__Bacteria;p__Proteobacteria;c__Alphaproteoba...\n",
      "k__Bacteria;p__Proteobacteria;c__Alphaproteobac...  k__Bacteria;p__Proteobacteria;c__Alphaproteoba...\n",
      "k__Bacteria;p__Proteobacteria;c__Alphaproteobac...  k__Bacteria;p__Proteobacteria;c__Alphaproteoba...\n",
      "k__Bacteria;p__Proteobacteria;c__Alphaproteobac...  k__Bacteria;p__Proteobacteria;c__Alphaproteoba...\n",
      "k__Bacteria;p__Proteobacteria;c__Alphaproteobac...  k__Bacteria;p__Proteobacteria;c__Alphaproteoba...\n",
      "k__Bacteria;p__Proteobacteria;c__Alphaproteobac...  k__Bacteria;p__Proteobacteria;c__Alphaproteoba...\n",
      "k__Bacteria;p__Proteobacteria;c__Alphaproteobac...  k__Bacteria;p__Proteobacteria;c__Alphaproteoba...\n",
      "k__Bacteria;p__Proteobacteria;c__Alphaproteobac...  k__Bacteria;p__Proteobacteria;c__Alphaproteoba...\n",
      "k__Bacteria;p__Proteobacteria;c__Alphaproteobac...  k__Bacteria;p__Proteobacteria;c__Alphaproteoba...\n",
      "k__Bacteria;p__Proteobacteria;c__Alphaproteobac...  k__Bacteria;p__Proteobacteria;c__Alphaproteoba...\n",
      "k__Bacteria;p__Proteobacteria;c__Alphaproteobac...  k__Bacteria;p__Proteobacteria;c__Alphaproteoba...\n",
      "k__Bacteria;p__Proteobacteria;c__Alphaproteobac...  k__Bacteria;p__Proteobacteria;c__Alphaproteoba...\n",
      "k__Bacteria;p__Proteobacteria;c__Betaproteobact...  k__Bacteria;p__Proteobacteria;c__Betaproteobac...\n",
      "k__Bacteria;p__Proteobacteria;c__Betaproteobact...  k__Bacteria;p__Proteobacteria;c__Betaproteobac...\n",
      "k__Bacteria;p__Proteobacteria;c__Betaproteobact...  k__Bacteria;p__Proteobacteria;c__Betaproteobac...\n",
      "k__Bacteria;p__Proteobacteria;c__Betaproteobact...  k__Bacteria;p__Proteobacteria;c__Betaproteobac...\n",
      "k__Bacteria;p__Proteobacteria;c__Betaproteobact...  k__Bacteria;p__Proteobacteria;c__Betaproteobac...\n",
      "k__Bacteria;p__Proteobacteria;c__Betaproteobact...  k__Bacteria;p__Proteobacteria;c__Betaproteobac...\n",
      "k__Bacteria;p__Proteobacteria;c__Betaproteobact...  k__Bacteria;p__Proteobacteria;c__Betaproteobac...\n",
      "k__Bacteria;p__Proteobacteria;c__Betaproteobact...  k__Bacteria;p__Proteobacteria;c__Betaproteobac...\n",
      "k__Bacteria;p__Proteobacteria;c__Betaproteobact...  k__Bacteria;p__Proteobacteria;c__Betaproteobac...\n",
      "k__Bacteria;p__Proteobacteria;c__Betaproteobact...  k__Bacteria;p__Proteobacteria;c__Betaproteobac...\n",
      "k__Bacteria;p__Proteobacteria;c__Betaproteobact...  k__Bacteria;p__Proteobacteria;c__Betaproteobac...\n",
      "k__Bacteria;p__Proteobacteria;c__Betaproteobact...  k__Bacteria;p__Proteobacteria;c__Betaproteobac...\n",
      "k__Bacteria;p__Proteobacteria;c__Betaproteobact...  k__Bacteria;p__Proteobacteria;c__Betaproteobac...\n",
      "k__Bacteria;p__Proteobacteria;c__Betaproteobact...  k__Bacteria;p__Proteobacteria;c__Betaproteobac...\n",
      "k__Bacteria;p__Proteobacteria;c__Betaproteobact...  k__Bacteria;p__Proteobacteria;c__Betaproteobac...\n",
      "k__Bacteria;p__Proteobacteria;c__Betaproteobact...  k__Bacteria;p__Proteobacteria;c__Betaproteobac...\n",
      "k__Bacteria;p__Proteobacteria;c__Betaproteobact...  k__Bacteria;p__Proteobacteria;c__Betaproteobac...\n",
      "k__Bacteria;p__Proteobacteria;c__Betaproteobact...  k__Bacteria;p__Proteobacteria;c__Betaproteobac...\n",
      "k__Bacteria;p__Proteobacteria;c__Betaproteobact...  k__Bacteria;p__Proteobacteria;c__Betaproteobac...\n",
      "k__Bacteria;p__Proteobacteria;c__Betaproteobact...  k__Bacteria;p__Proteobacteria;c__Betaproteobac...\n",
      "k__Bacteria;p__Proteobacteria;c__Betaproteobact...  k__Bacteria;p__Proteobacteria;c__Betaproteobac...\n",
      "k__Bacteria;p__Proteobacteria;c__Betaproteobact...  k__Bacteria;p__Proteobacteria;c__Betaproteobac...\n",
      "k__Bacteria;p__Proteobacteria;c__Betaproteobact...  k__Bacteria;p__Proteobacteria;c__Betaproteobac...\n",
      "k__Bacteria;p__Proteobacteria;c__Betaproteobact...  k__Bacteria;p__Proteobacteria;c__Betaproteobac...\n",
      "k__Bacteria;p__Proteobacteria;c__Betaproteobact...  k__Bacteria;p__Proteobacteria;c__Betaproteobac...\n",
      "k__Bacteria;p__Proteobacteria;c__Betaproteobact...  k__Bacteria;p__Proteobacteria;c__Betaproteobac...\n",
      "k__Bacteria;p__Proteobacteria;c__Betaproteobact...  k__Bacteria;p__Proteobacteria;c__Betaproteobac...\n",
      "k__Bacteria;p__Proteobacteria;c__Betaproteobact...  k__Bacteria;p__Proteobacteria;c__Betaproteobac...\n",
      "k__Bacteria;p__Proteobacteria;c__Betaproteobact...  k__Bacteria;p__Proteobacteria;c__Betaproteobac...\n",
      "k__Bacteria;p__Proteobacteria;c__Betaproteobact...  k__Bacteria;p__Proteobacteria;c__Betaproteobac...\n",
      "k__Bacteria;p__Proteobacteria;c__Betaproteobact...  k__Bacteria;p__Proteobacteria;c__Betaproteobac...\n",
      "k__Bacteria;p__Proteobacteria;c__Betaproteobact...  k__Bacteria;p__Proteobacteria;c__Betaproteobac...\n",
      "k__Bacteria;p__Proteobacteria;c__Betaproteobact...  k__Bacteria;p__Proteobacteria;c__Betaproteobac...\n",
      "k__Bacteria;p__Proteobacteria;c__Betaproteobact...  k__Bacteria;p__Proteobacteria;c__Betaproteobac...\n",
      "k__Bacteria;p__Proteobacteria;c__Betaproteobact...  k__Bacteria;p__Proteobacteria;c__Betaproteobac...\n",
      "k__Bacteria;p__Proteobacteria;c__Betaproteobact...  k__Bacteria;p__Proteobacteria;c__Betaproteobac...\n",
      "k__Bacteria;p__Proteobacteria;c__Betaproteobact...  k__Bacteria;p__Proteobacteria;c__Betaproteobac...\n",
      "k__Bacteria;p__Proteobacteria;c__Betaproteobact...  k__Bacteria;p__Proteobacteria;c__Betaproteobac...\n",
      "k__Bacteria;p__Proteobacteria;c__Betaproteobact...  k__Bacteria;p__Proteobacteria;c__Betaproteobac...\n",
      "k__Bacteria;p__Proteobacteria;c__Betaproteobact...  k__Bacteria;p__Proteobacteria;c__Betaproteobac...\n",
      "k__Bacteria;p__Proteobacteria;c__Betaproteobact...  k__Bacteria;p__Proteobacteria;c__Betaproteobac...\n",
      "k__Bacteria;p__Proteobacteria;c__Betaproteobact...  k__Bacteria;p__Proteobacteria;c__Betaproteobac...\n",
      "k__Bacteria;p__Proteobacteria;c__Betaproteobact...  k__Bacteria;p__Proteobacteria;c__Betaproteobac...\n",
      "k__Bacteria;p__Proteobacteria;c__Betaproteobact...  k__Bacteria;p__Proteobacteria;c__Betaproteobac...\n",
      "k__Bacteria;p__Proteobacteria;c__Betaproteobact...  k__Bacteria;p__Proteobacteria;c__Betaproteobac...\n",
      "k__Bacteria;p__Proteobacteria;c__Betaproteobact...  k__Bacteria;p__Proteobacteria;c__Betaproteobac...\n",
      "k__Bacteria;p__Proteobacteria;c__Betaproteobact...  k__Bacteria;p__Proteobacteria;c__Betaproteobac...\n",
      "k__Bacteria;p__Proteobacteria;c__Betaproteobact...  k__Bacteria;p__Proteobacteria;c__Betaproteobac...\n",
      "k__Bacteria;p__Proteobacteria;c__Betaproteobact...  k__Bacteria;p__Proteobacteria;c__Betaproteobac...\n",
      "k__Bacteria;p__Proteobacteria;c__Betaproteobact...  k__Bacteria;p__Proteobacteria;c__Betaproteobac...\n",
      "k__Bacteria;p__Proteobacteria;c__Betaproteobact...  k__Bacteria;p__Proteobacteria;c__Betaproteobac...\n",
      "k__Bacteria;p__Proteobacteria;c__Betaproteobact...  k__Bacteria;p__Proteobacteria;c__Betaproteobac...\n",
      "k__Bacteria;p__Proteobacteria;c__Betaproteobact...  k__Bacteria;p__Proteobacteria;c__Betaproteobac...\n",
      "k__Bacteria;p__Proteobacteria;c__Betaproteobact...  k__Bacteria;p__Proteobacteria;c__Betaproteobac...\n",
      "k__Bacteria;p__Proteobacteria;c__Betaproteobact...  k__Bacteria;p__Proteobacteria;c__Betaproteobac...\n",
      "k__Bacteria;p__Proteobacteria;c__Betaproteobact...  k__Bacteria;p__Proteobacteria;c__Betaproteobac...\n",
      "k__Bacteria;p__Proteobacteria;c__Betaproteobact...  k__Bacteria;p__Proteobacteria;c__Betaproteobac...\n",
      "k__Bacteria;p__Proteobacteria;c__Betaproteobact...  k__Bacteria;p__Proteobacteria;c__Betaproteobac...\n",
      "k__Bacteria;p__Proteobacteria;c__Betaproteobact...  k__Bacteria;p__Proteobacteria;c__Betaproteobac...\n",
      "k__Bacteria;p__Proteobacteria;c__Betaproteobact...  k__Bacteria;p__Proteobacteria;c__Betaproteobac...\n",
      "k__Bacteria;p__Proteobacteria;c__Betaproteobact...  k__Bacteria;p__Proteobacteria;c__Betaproteobac...\n",
      "k__Bacteria;p__Proteobacteria;c__Betaproteobact...  k__Bacteria;p__Proteobacteria;c__Betaproteobac...\n",
      "k__Bacteria;p__Proteobacteria;c__Betaproteobact...  k__Bacteria;p__Proteobacteria;c__Betaproteobac...\n",
      "k__Bacteria;p__Proteobacteria;c__Betaproteobact...  k__Bacteria;p__Proteobacteria;c__Betaproteobac...\n",
      "k__Bacteria;p__Proteobacteria;c__Betaproteobact...  k__Bacteria;p__Proteobacteria;c__Betaproteobac...\n",
      "k__Bacteria;p__Proteobacteria;c__Betaproteobact...  k__Bacteria;p__Proteobacteria;c__Betaproteobac...\n",
      "k__Bacteria;p__Proteobacteria;c__Betaproteobact...  k__Bacteria;p__Proteobacteria;c__Betaproteobac...\n",
      "k__Bacteria;p__Proteobacteria;c__Deltaproteobac...  k__Bacteria;p__Proteobacteria;c__Deltaproteoba...\n",
      "k__Bacteria;p__Proteobacteria;c__Deltaproteobac...  k__Bacteria;p__Proteobacteria;c__Deltaproteoba...\n",
      "k__Bacteria;p__Proteobacteria;c__Deltaproteobac...  k__Bacteria;p__Proteobacteria;c__Deltaproteoba...\n",
      "k__Bacteria;p__Proteobacteria;c__Deltaproteobac...  k__Bacteria;p__Proteobacteria;c__Deltaproteoba...\n",
      "k__Bacteria;p__Proteobacteria;c__Deltaproteobac...  k__Bacteria;p__Proteobacteria;c__Deltaproteoba...\n",
      "k__Bacteria;p__Proteobacteria;c__Deltaproteobac...  k__Bacteria;p__Proteobacteria;c__Deltaproteoba...\n",
      "k__Bacteria;p__Proteobacteria;c__Deltaproteobac...  k__Bacteria;p__Proteobacteria;c__Deltaproteoba...\n",
      "k__Bacteria;p__Proteobacteria;c__Deltaproteobac...  k__Bacteria;p__Proteobacteria;c__Deltaproteoba...\n",
      "k__Bacteria;p__Proteobacteria;c__Deltaproteobac...  k__Bacteria;p__Proteobacteria;c__Deltaproteoba...\n",
      "k__Bacteria;p__Proteobacteria;c__Deltaproteobac...  k__Bacteria;p__Proteobacteria;c__Deltaproteoba...\n",
      "k__Bacteria;p__Proteobacteria;c__Deltaproteobac...  k__Bacteria;p__Proteobacteria;c__Deltaproteoba...\n",
      "k__Bacteria;p__Proteobacteria;c__Deltaproteobac...  k__Bacteria;p__Proteobacteria;c__Deltaproteoba...\n",
      "k__Bacteria;p__Proteobacteria;c__Deltaproteobac...  k__Bacteria;p__Proteobacteria;c__Deltaproteoba...\n",
      "k__Bacteria;p__Proteobacteria;c__Deltaproteobac...  k__Bacteria;p__Proteobacteria;c__Deltaproteoba...\n",
      "k__Bacteria;p__Proteobacteria;c__Deltaproteobac...  k__Bacteria;p__Proteobacteria;c__Deltaproteoba...\n",
      "k__Bacteria;p__Proteobacteria;c__Deltaproteobac...  k__Bacteria;p__Proteobacteria;c__Deltaproteoba...\n",
      "k__Bacteria;p__Proteobacteria;c__Deltaproteobac...  k__Bacteria;p__Proteobacteria;c__Deltaproteoba...\n",
      "k__Bacteria;p__Proteobacteria;c__Deltaproteobac...  k__Bacteria;p__Proteobacteria;c__Deltaproteoba...\n",
      "k__Bacteria;p__Proteobacteria;c__Deltaproteobac...  k__Bacteria;p__Proteobacteria;c__Deltaproteoba...\n",
      "k__Bacteria;p__Proteobacteria;c__Deltaproteobac...  k__Bacteria;p__Proteobacteria;c__Deltaproteoba...\n",
      "k__Bacteria;p__Proteobacteria;c__Deltaproteobac...  k__Bacteria;p__Proteobacteria;c__Deltaproteoba...\n",
      "k__Bacteria;p__Proteobacteria;c__Epsilonproteob...  k__Bacteria;p__Proteobacteria;c__Epsilonproteo...\n",
      "k__Bacteria;p__Proteobacteria;c__Epsilonproteob...  k__Bacteria;p__Proteobacteria;c__Epsilonproteo...\n",
      "k__Bacteria;p__Proteobacteria;c__Epsilonproteob...  k__Bacteria;p__Proteobacteria;c__Epsilonproteo...\n",
      "k__Bacteria;p__Proteobacteria;c__Gammaproteobac...  k__Bacteria;p__Proteobacteria;c__Gammaproteoba...\n",
      "k__Bacteria;p__Proteobacteria;c__Gammaproteobac...  k__Bacteria;p__Proteobacteria;c__Gammaproteoba...\n",
      "k__Bacteria;p__Proteobacteria;c__Gammaproteobac...  k__Bacteria;p__Proteobacteria;c__Gammaproteoba...\n",
      "k__Bacteria;p__Proteobacteria;c__Gammaproteobac...  k__Bacteria;p__Proteobacteria;c__Gammaproteoba...\n",
      "k__Bacteria;p__Proteobacteria;c__Gammaproteobac...  k__Bacteria;p__Proteobacteria;c__Gammaproteoba...\n",
      "k__Bacteria;p__Proteobacteria;c__Gammaproteobac...  k__Bacteria;p__Proteobacteria;c__Gammaproteoba...\n",
      "k__Bacteria;p__Proteobacteria;c__Gammaproteobac...  k__Bacteria;p__Proteobacteria;c__Gammaproteoba...\n",
      "k__Bacteria;p__Proteobacteria;c__Gammaproteobac...  k__Bacteria;p__Proteobacteria;c__Gammaproteoba...\n",
      "k__Bacteria;p__Proteobacteria;c__Gammaproteobac...  k__Bacteria;p__Proteobacteria;c__Gammaproteoba...\n",
      "k__Bacteria;p__Proteobacteria;c__Gammaproteobac...  k__Bacteria;p__Proteobacteria;c__Gammaproteoba...\n",
      "k__Bacteria;p__Proteobacteria;c__Gammaproteobac...  k__Bacteria;p__Proteobacteria;c__Gammaproteoba...\n",
      "k__Bacteria;p__Proteobacteria;c__Gammaproteobac...  k__Bacteria;p__Proteobacteria;c__Gammaproteoba...\n",
      "k__Bacteria;p__Proteobacteria;c__Gammaproteobac...  k__Bacteria;p__Proteobacteria;c__Gammaproteoba...\n",
      "k__Bacteria;p__Proteobacteria;c__Gammaproteobac...  k__Bacteria;p__Proteobacteria;c__Gammaproteoba...\n",
      "k__Bacteria;p__Proteobacteria;c__Gammaproteobac...  k__Bacteria;p__Proteobacteria;c__Gammaproteoba...\n",
      "k__Bacteria;p__Proteobacteria;c__Gammaproteobac...  k__Bacteria;p__Proteobacteria;c__Gammaproteoba...\n",
      "k__Bacteria;p__Proteobacteria;c__Gammaproteobac...  k__Bacteria;p__Proteobacteria;c__Gammaproteoba...\n",
      "k__Bacteria;p__Proteobacteria;c__Gammaproteobac...  k__Bacteria;p__Proteobacteria;c__Gammaproteoba...\n",
      "k__Bacteria;p__Proteobacteria;c__Gammaproteobac...  k__Bacteria;p__Proteobacteria;c__Gammaproteoba...\n",
      "k__Bacteria;p__Proteobacteria;c__Gammaproteobac...  k__Bacteria;p__Proteobacteria;c__Gammaproteoba...\n",
      "k__Bacteria;p__Proteobacteria;c__Gammaproteobac...  k__Bacteria;p__Proteobacteria;c__Gammaproteoba...\n",
      "k__Bacteria;p__Proteobacteria;c__Gammaproteobac...  k__Bacteria;p__Proteobacteria;c__Gammaproteoba...\n",
      "k__Bacteria;p__Proteobacteria;c__Gammaproteobac...  k__Bacteria;p__Proteobacteria;c__Gammaproteoba...\n",
      "k__Bacteria;p__Proteobacteria;c__Gammaproteobac...  k__Bacteria;p__Proteobacteria;c__Gammaproteoba...\n",
      "k__Bacteria;p__Proteobacteria;c__Gammaproteobac...  k__Bacteria;p__Proteobacteria;c__Gammaproteoba...\n",
      "k__Bacteria;p__Proteobacteria;c__Gammaproteobac...  k__Bacteria;p__Proteobacteria;c__Gammaproteoba...\n",
      "k__Bacteria;p__Proteobacteria;c__Gammaproteobac...  k__Bacteria;p__Proteobacteria;c__Gammaproteoba...\n",
      "k__Bacteria;p__Proteobacteria;c__Gammaproteobac...  k__Bacteria;p__Proteobacteria;c__Gammaproteoba...\n",
      "k__Bacteria;p__Proteobacteria;c__Gammaproteobac...  k__Bacteria;p__Proteobacteria;c__Gammaproteoba...\n",
      "k__Bacteria;p__Proteobacteria;c__Gammaproteobac...  k__Bacteria;p__Proteobacteria;c__Gammaproteoba...\n",
      "k__Bacteria;p__Proteobacteria;c__Gammaproteobac...  k__Bacteria;p__Proteobacteria;c__Gammaproteoba...\n",
      "k__Bacteria;p__Proteobacteria;c__Gammaproteobac...  k__Bacteria;p__Proteobacteria;c__Gammaproteoba...\n",
      "k__Bacteria;p__Proteobacteria;c__Gammaproteobac...  k__Bacteria;p__Proteobacteria;c__Gammaproteoba...\n",
      "k__Bacteria;p__Proteobacteria;c__Gammaproteobac...  k__Bacteria;p__Proteobacteria;c__Gammaproteoba...\n",
      "k__Bacteria;p__Proteobacteria;c__Gammaproteobac...  k__Bacteria;p__Proteobacteria;c__Gammaproteoba...\n",
      "k__Bacteria;p__Proteobacteria;c__Gammaproteobac...  k__Bacteria;p__Proteobacteria;c__Gammaproteoba...\n",
      "k__Bacteria;p__Proteobacteria;c__Gammaproteobac...  k__Bacteria;p__Proteobacteria;c__Gammaproteoba...\n",
      "k__Bacteria;p__Proteobacteria;c__Gammaproteobac...  k__Bacteria;p__Proteobacteria;c__Gammaproteoba...\n",
      "k__Bacteria;p__Proteobacteria;c__Gammaproteobac...  k__Bacteria;p__Proteobacteria;c__Gammaproteoba...\n",
      "k__Bacteria;p__Proteobacteria;c__Gammaproteobac...  k__Bacteria;p__Proteobacteria;c__Gammaproteoba...\n",
      "k__Bacteria;p__Proteobacteria;c__Gammaproteobac...  k__Bacteria;p__Proteobacteria;c__Gammaproteoba...\n",
      "k__Bacteria;p__Proteobacteria;c__Gammaproteobac...  k__Bacteria;p__Proteobacteria;c__Gammaproteoba...\n",
      "k__Bacteria;p__Proteobacteria;c__Gammaproteobac...  k__Bacteria;p__Proteobacteria;c__Gammaproteoba...\n",
      "k__Bacteria;p__Proteobacteria;c__Gammaproteobac...  k__Bacteria;p__Proteobacteria;c__Gammaproteoba...\n",
      "k__Bacteria;p__Proteobacteria;c__Gammaproteobac...  k__Bacteria;p__Proteobacteria;c__Gammaproteoba...\n",
      "k__Bacteria;p__Proteobacteria;c__Gammaproteobac...  k__Bacteria;p__Proteobacteria;c__Gammaproteoba...\n",
      "k__Bacteria;p__Proteobacteria;c__Gammaproteobac...  k__Bacteria;p__Proteobacteria;c__Gammaproteoba...\n",
      "k__Bacteria;p__Proteobacteria;c__Gammaproteobac...  k__Bacteria;p__Proteobacteria;c__Gammaproteoba...\n",
      "k__Bacteria;p__Proteobacteria;c__Gammaproteobac...  k__Bacteria;p__Proteobacteria;c__Gammaproteoba...\n",
      "k__Bacteria;p__Proteobacteria;c__Gammaproteobac...  k__Bacteria;p__Proteobacteria;c__Gammaproteoba...\n",
      "k__Bacteria;p__Proteobacteria;c__Gammaproteobac...  k__Bacteria;p__Proteobacteria;c__Gammaproteoba...\n",
      "k__Bacteria;p__Proteobacteria;c__Gammaproteobac...  k__Bacteria;p__Proteobacteria;c__Gammaproteoba...\n",
      "k__Bacteria;p__Proteobacteria;c__Gammaproteobac...  k__Bacteria;p__Proteobacteria;c__Gammaproteoba...\n",
      "k__Bacteria;p__Proteobacteria;c__Gammaproteobac...  k__Bacteria;p__Proteobacteria;c__Gammaproteoba...\n",
      "k__Bacteria;p__Proteobacteria;c__Gammaproteobac...  k__Bacteria;p__Proteobacteria;c__Gammaproteoba...\n",
      "k__Bacteria;p__Proteobacteria;c__Gammaproteobac...  k__Bacteria;p__Proteobacteria;c__Gammaproteoba...\n",
      "k__Bacteria;p__Proteobacteria;c__Gammaproteobac...  k__Bacteria;p__Proteobacteria;c__Gammaproteoba...\n",
      "k__Bacteria;p__Proteobacteria;c__Gammaproteobac...  k__Bacteria;p__Proteobacteria;c__Gammaproteoba...\n",
      "k__Bacteria;p__Proteobacteria;c__Gammaproteobac...  k__Bacteria;p__Proteobacteria;c__Gammaproteoba...\n",
      "k__Bacteria;p__Proteobacteria;c__Gammaproteobac...  k__Bacteria;p__Proteobacteria;c__Gammaproteoba...\n",
      "k__Bacteria;p__Proteobacteria;c__Gammaproteobac...  k__Bacteria;p__Proteobacteria;c__Gammaproteoba...\n",
      "k__Bacteria;p__Proteobacteria;c__Gammaproteobac...  k__Bacteria;p__Proteobacteria;c__Gammaproteoba...\n",
      "k__Bacteria;p__Proteobacteria;c__Gammaproteobac...  k__Bacteria;p__Proteobacteria;c__Gammaproteoba...\n",
      "k__Bacteria;p__Proteobacteria;c__Gammaproteobac...  k__Bacteria;p__Proteobacteria;c__Gammaproteoba...\n",
      "k__Bacteria;p__Proteobacteria;c__Gammaproteobac...  k__Bacteria;p__Proteobacteria;c__Gammaproteoba...\n",
      "k__Bacteria;p__Proteobacteria;c__Gammaproteobac...  k__Bacteria;p__Proteobacteria;c__Gammaproteoba...\n",
      "k__Bacteria;p__Proteobacteria;c__Gammaproteobac...  k__Bacteria;p__Proteobacteria;c__Gammaproteoba...\n",
      "k__Bacteria;p__Proteobacteria;c__Gammaproteobac...  k__Bacteria;p__Proteobacteria;c__Gammaproteoba...\n",
      "k__Bacteria;p__Proteobacteria;c__Gammaproteobac...  k__Bacteria;p__Proteobacteria;c__Gammaproteoba...\n",
      "k__Bacteria;p__Proteobacteria;c__Gammaproteobac...  k__Bacteria;p__Proteobacteria;c__Gammaproteoba...\n",
      "k__Bacteria;p__Proteobacteria;c__Gammaproteobac...  k__Bacteria;p__Proteobacteria;c__Gammaproteoba...\n",
      "k__Bacteria;p__Proteobacteria;c__Gammaproteobac...  k__Bacteria;p__Proteobacteria;c__Gammaproteoba...\n",
      "k__Bacteria;p__Proteobacteria;c__Gammaproteobac...  k__Bacteria;p__Proteobacteria;c__Gammaproteoba...\n",
      "k__Bacteria;p__Proteobacteria;c__Gammaproteobac...  k__Bacteria;p__Proteobacteria;c__Gammaproteoba...\n",
      "k__Bacteria;p__Proteobacteria;c__Gammaproteobac...  k__Bacteria;p__Proteobacteria;c__Gammaproteoba...\n",
      "k__Bacteria;p__Proteobacteria;c__Gammaproteobac...  k__Bacteria;p__Proteobacteria;c__Gammaproteoba...\n",
      "k__Bacteria;p__Proteobacteria;c__Gammaproteobac...  k__Bacteria;p__Proteobacteria;c__Gammaproteoba...\n",
      "k__Bacteria;p__Proteobacteria;c__Gammaproteobac...  k__Bacteria;p__Proteobacteria;c__Gammaproteoba...\n",
      "k__Bacteria;p__Proteobacteria;c__Gammaproteobac...  k__Bacteria;p__Proteobacteria;c__Gammaproteoba...\n",
      "k__Bacteria;p__Proteobacteria;c__Gammaproteobac...  k__Bacteria;p__Proteobacteria;c__Gammaproteoba...\n",
      "k__Bacteria;p__Proteobacteria;c__Gammaproteobac...  k__Bacteria;p__Proteobacteria;c__Gammaproteoba...\n",
      "k__Bacteria;p__Proteobacteria;c__Gammaproteobac...  k__Bacteria;p__Proteobacteria;c__Gammaproteoba...\n",
      "k__Bacteria;p__Proteobacteria;c__Gammaproteobac...  k__Bacteria;p__Proteobacteria;c__Gammaproteoba...\n",
      "k__Bacteria;p__Proteobacteria;c__Gammaproteobac...  k__Bacteria;p__Proteobacteria;c__Gammaproteoba...\n",
      "k__Bacteria;p__Proteobacteria;c__Gammaproteobac...  k__Bacteria;p__Proteobacteria;c__Gammaproteoba...\n",
      "k__Bacteria;p__Proteobacteria;c__Gammaproteobac...  k__Bacteria;p__Proteobacteria;c__Gammaproteoba...\n",
      "k__Bacteria;p__Proteobacteria;c__Gammaproteobac...  k__Bacteria;p__Proteobacteria;c__Gammaproteoba...\n",
      "k__Bacteria;p__Proteobacteria;c__Gammaproteobac...  k__Bacteria;p__Proteobacteria;c__Gammaproteoba...\n",
      "k__Bacteria;p__Proteobacteria;c__Gammaproteobac...  k__Bacteria;p__Proteobacteria;c__Gammaproteoba...\n",
      "k__Bacteria;p__Proteobacteria;c__Gammaproteobac...  k__Bacteria;p__Proteobacteria;c__Gammaproteoba...\n",
      "k__Bacteria;p__Proteobacteria;c__Gammaproteobac...  k__Bacteria;p__Proteobacteria;c__Gammaproteoba...\n",
      "k__Bacteria;p__Proteobacteria;c__Gammaproteobac...  k__Bacteria;p__Proteobacteria;c__Gammaproteoba...\n",
      "k__Bacteria;p__Proteobacteria;c__Gammaproteobac...  k__Bacteria;p__Proteobacteria;c__Gammaproteoba...\n",
      "k__Bacteria;p__Proteobacteria;c__Gammaproteobac...  k__Bacteria;p__Proteobacteria;c__Gammaproteoba...\n",
      "k__Bacteria;p__Spirochaetes;c__Spirochaetes;o__...  k__Bacteria;p__Spirochaetes;c__Spirochaetes;o_...\n",
      "k__Bacteria;p__Spirochaetes;c__Spirochaetes;o__...  k__Bacteria;p__Spirochaetes;c__Spirochaetes;o_...\n",
      "k__Bacteria;p__Synergistetes;c__Synergistia;o__...  k__Bacteria;p__Synergistetes;c__Synergistia;o_...\n",
      "k__Bacteria;p__Synergistetes;c__Synergistia;o__...  k__Bacteria;p__Synergistetes;c__Synergistia;o_...\n",
      "k__Bacteria;p__TM6;c__SJA-4;o__;f__;g__;s__               k__Bacteria;p__TM6;c__SJA-4;o__;f__;g__;s__\n",
      "k__Bacteria;p__TM7;c__;o__;f__;g__;s__                         k__Bacteria;p__TM7;c__;o__;f__;g__;s__\n",
      "k__Bacteria;p__TM7;c__TM7-1;o__;f__;g__;s__               k__Bacteria;p__TM7;c__TM7-1;o__;f__;g__;s__\n",
      "k__Bacteria;p__TM7;c__TM7-3;o__;f__;g__;s__               k__Bacteria;p__TM7;c__TM7-3;o__;f__;g__;s__\n",
      "k__Bacteria;p__TM7;c__TM7-3;o__I025;f__;g__;s__       k__Bacteria;p__TM7;c__TM7-3;o__I025;f__;g__;s__\n",
      "k__Bacteria;p__Tenericutes;c__Mollicutes;o__Ach...  k__Bacteria;p__Tenericutes;c__Mollicutes;o__Ac...\n",
      "k__Bacteria;p__Tenericutes;c__Mollicutes;o__Ach...  k__Bacteria;p__Tenericutes;c__Mollicutes;o__Ac...\n",
      "k__Bacteria;p__Tenericutes;c__Mollicutes;o__Ach...  k__Bacteria;p__Tenericutes;c__Mollicutes;o__Ac...\n",
      "k__Bacteria;p__Tenericutes;c__Mollicutes;o__Ana...  k__Bacteria;p__Tenericutes;c__Mollicutes;o__An...\n",
      "k__Bacteria;p__Tenericutes;c__Mollicutes;o__Ana...  k__Bacteria;p__Tenericutes;c__Mollicutes;o__An...\n",
      "k__Bacteria;p__Tenericutes;c__Mollicutes;o__Ent...  k__Bacteria;p__Tenericutes;c__Mollicutes;o__En...\n",
      "k__Bacteria;p__Tenericutes;c__Mollicutes;o__RF3...  k__Bacteria;p__Tenericutes;c__Mollicutes;o__RF...\n",
      "k__Bacteria;p__Verrucomicrobia;c__Opitutae;o__;...  k__Bacteria;p__Verrucomicrobia;c__Opitutae;o__...\n",
      "k__Bacteria;p__Verrucomicrobia;c__Opitutae;o__O...  k__Bacteria;p__Verrucomicrobia;c__Opitutae;o__...\n",
      "k__Bacteria;p__Verrucomicrobia;c__Opitutae;o__O...  k__Bacteria;p__Verrucomicrobia;c__Opitutae;o__...\n",
      "k__Bacteria;p__Verrucomicrobia;c__Opitutae;o__P...  k__Bacteria;p__Verrucomicrobia;c__Opitutae;o__...\n",
      "k__Bacteria;p__Verrucomicrobia;c__Opitutae;o__[...  k__Bacteria;p__Verrucomicrobia;c__Opitutae;o__...\n",
      "k__Bacteria;p__Verrucomicrobia;c__Verrucomicrob...  k__Bacteria;p__Verrucomicrobia;c__Verrucomicro...\n",
      "k__Bacteria;p__Verrucomicrobia;c__Verrucomicrob...  k__Bacteria;p__Verrucomicrobia;c__Verrucomicro...\n",
      "k__Bacteria;p__Verrucomicrobia;c__Verrucomicrob...  k__Bacteria;p__Verrucomicrobia;c__Verrucomicro...\n",
      "k__Bacteria;p__Verrucomicrobia;c__Verrucomicrob...  k__Bacteria;p__Verrucomicrobia;c__Verrucomicro...\n",
      "k__Bacteria;p__Verrucomicrobia;c__Verrucomicrob...  k__Bacteria;p__Verrucomicrobia;c__Verrucomicro...\n",
      "k__Bacteria;p__Verrucomicrobia;c__Verrucomicrob...  k__Bacteria;p__Verrucomicrobia;c__Verrucomicro...\n",
      "k__Bacteria;p__Verrucomicrobia;c__[Spartobacter...  k__Bacteria;p__Verrucomicrobia;c__[Spartobacte...\n",
      "k__Bacteria;p__Verrucomicrobia;c__[Spartobacter...  k__Bacteria;p__Verrucomicrobia;c__[Spartobacte...\n",
      "k__Bacteria;p__Verrucomicrobia;c__[Spartobacter...  k__Bacteria;p__Verrucomicrobia;c__[Spartobacte...\n",
      "k__Bacteria;p__Verrucomicrobia;c__[Spartobacter...  k__Bacteria;p__Verrucomicrobia;c__[Spartobacte...\n",
      "k__Bacteria;p__Verrucomicrobia;c__[Spartobacter...  k__Bacteria;p__Verrucomicrobia;c__[Spartobacte...\n",
      "k__Bacteria;p__Verrucomicrobia;c__[Spartobacter...  k__Bacteria;p__Verrucomicrobia;c__[Spartobacte...\n",
      "k__Bacteria;p__WPS-2;c__;o__;f__;g__;s__                     k__Bacteria;p__WPS-2;c__;o__;f__;g__;s__\n",
      "k__Bacteria;p__[Thermi];c__Deinococci;o__Deinoc...  k__Bacteria;p__[Thermi];c__Deinococci;o__Deino...\n",
      "k__Bacteria;p__[Thermi];c__Deinococci;o__Deinoc...  k__Bacteria;p__[Thermi];c__Deinococci;o__Deino...\n",
      "k__Bacteria;p__[Thermi];c__Deinococci;o__Deinoc...  k__Bacteria;p__[Thermi];c__Deinococci;o__Deino...\n",
      "k__Bacteria;p__[Thermi];c__Deinococci;o__Therma...  k__Bacteria;p__[Thermi];c__Deinococci;o__Therm...\n",
      "k__Bacteria;p__[Thermi];c__Deinococci;o__Therma...  k__Bacteria;p__[Thermi];c__Deinococci;o__Therm...\n"
     ]
    }
   ],
   "source": [
    "print(Summer_L7.feature_metadata)"
   ]
  },
  {
   "cell_type": "markdown",
   "metadata": {},
   "source": [
    "## Summer L7 modeling"
   ]
  },
  {
   "cell_type": "code",
   "execution_count": 18,
   "metadata": {},
   "outputs": [],
   "source": [
    "# groupKfold = 3, will leave out one body for each spring model\n",
    "gkf = GroupKFold(3)\n",
    "\n",
    "X = Summer_L7.data\n",
    "y = Summer_L7.sample_metadata['ADD_0']\n",
    "y = (y.astype(float))\n",
    "\n",
    "groups = Summer_L7.sample_metadata['host_subject_id']\n",
    "\n",
    "# used to test the param grid for parameter tuning\n",
    "# use the output of this estimator below for input into new estimator (not commented out)\n",
    "param_grid = {\"max_depth\": [4, 8, 16, None],\n",
    "              \"max_features\": ['sqrt', 'log2', 0.1],\n",
    "              \"min_samples_split\": [0.001, 0.01, 0.1],\n",
    "              \"min_weight_fraction_leaf\": [0.0001, 0.001, 0.01],\n",
    "              \"bootstrap\": [True, False]}\n",
    "\n",
    "#param_grid = {\"max_depth\": [8],\n",
    "#          \"max_features\": [0.1],\n",
    "#          \"min_samples_split\": [0.001],\n",
    "#          \"min_weight_fraction_leaf\": [0.0001],\n",
    "#          \"bootstrap\": [False]}\n",
    "\n",
    "rf = RandomForestRegressor(n_estimators=1000, random_state=999, criterion='mae')\n",
    "gs = GridSearchCV(rf, param_grid=param_grid, cv=gkf.split(X, y, groups), scoring='neg_mean_absolute_error', n_jobs=1)"
   ]
  },
  {
   "cell_type": "code",
   "execution_count": 19,
   "metadata": {},
   "outputs": [
    {
     "data": {
      "text/plain": [
       "GridSearchCV(cv=<generator object _BaseKFold.split at 0x119223250>,\n",
       "             error_score=nan,\n",
       "             estimator=RandomForestRegressor(bootstrap=True, ccp_alpha=0.0,\n",
       "                                             criterion='mae', max_depth=None,\n",
       "                                             max_features='auto',\n",
       "                                             max_leaf_nodes=None,\n",
       "                                             max_samples=None,\n",
       "                                             min_impurity_decrease=0.0,\n",
       "                                             min_impurity_split=None,\n",
       "                                             min_samples_leaf=1,\n",
       "                                             min_samples_split=2,\n",
       "                                             min_weight_fraction_leaf=0.0,\n",
       "                                             n_es...\n",
       "                                             oob_score=False, random_state=999,\n",
       "                                             verbose=0, warm_start=False),\n",
       "             iid='deprecated', n_jobs=1,\n",
       "             param_grid={'bootstrap': [True, False],\n",
       "                         'max_depth': [4, 8, 16, None],\n",
       "                         'max_features': ['sqrt', 'log2', 0.1],\n",
       "                         'min_samples_split': [0.001, 0.01, 0.1],\n",
       "                         'min_weight_fraction_leaf': [0.0001, 0.001, 0.01]},\n",
       "             pre_dispatch='2*n_jobs', refit=True, return_train_score=False,\n",
       "             scoring='neg_mean_absolute_error', verbose=0)"
      ]
     },
     "execution_count": 19,
     "metadata": {},
     "output_type": "execute_result"
    }
   ],
   "source": [
    "gs.fit(X, y)"
   ]
  },
  {
   "cell_type": "code",
   "execution_count": 20,
   "metadata": {},
   "outputs": [
    {
     "name": "stdout",
     "output_type": "stream",
     "text": [
      "{'bootstrap': False, 'max_depth': 4, 'max_features': 'log2', 'min_samples_split': 0.001, 'min_weight_fraction_leaf': 0.0001}\n"
     ]
    }
   ],
   "source": [
    "# this line is used when run with the first param grid to determine what the best parameters are for tuning\n",
    "print(gs.best_params_)"
   ]
  },
  {
   "cell_type": "code",
   "execution_count": 21,
   "metadata": {},
   "outputs": [
    {
     "name": "stdout",
     "output_type": "stream",
     "text": [
      "The best mean absolute error is 729.09\n"
     ]
    }
   ],
   "source": [
    "print('The best mean absolute error is', round(-gs.best_score_,2))"
   ]
  },
  {
   "cell_type": "code",
   "execution_count": 22,
   "metadata": {},
   "outputs": [
    {
     "data": {
      "text/plain": [
       "['models/bone_summer_L7_no_metadata.pkl']"
      ]
     },
     "execution_count": 22,
     "metadata": {},
     "output_type": "execute_result"
    }
   ],
   "source": [
    "joblib.dump(gs.best_estimator_, 'models/bone_summer_L7_no_metadata.pkl')"
   ]
  },
  {
   "cell_type": "code",
   "execution_count": 23,
   "metadata": {},
   "outputs": [
    {
     "data": {
      "text/plain": [
       "RandomForestRegressor(bootstrap=False, ccp_alpha=0.0, criterion='mae',\n",
       "                      max_depth=4, max_features='log2', max_leaf_nodes=None,\n",
       "                      max_samples=None, min_impurity_decrease=0.0,\n",
       "                      min_impurity_split=None, min_samples_leaf=1,\n",
       "                      min_samples_split=0.001, min_weight_fraction_leaf=0.0001,\n",
       "                      n_estimators=1000, n_jobs=None, oob_score=False,\n",
       "                      random_state=999, verbose=0, warm_start=False)"
      ]
     },
     "execution_count": 23,
     "metadata": {},
     "output_type": "execute_result"
    }
   ],
   "source": [
    "bone_summer_L7 = joblib.load('models/bone_summer_L7_no_metadata.pkl')\n",
    "bone_summer_L7"
   ]
  },
  {
   "cell_type": "markdown",
   "metadata": {},
   "source": [
    "## Determine important features of summer L7 model"
   ]
  },
  {
   "cell_type": "code",
   "execution_count": 25,
   "metadata": {},
   "outputs": [
    {
     "name": "stdout",
     "output_type": "stream",
     "text": [
      "Feature:\t\t\t\tImportance:\n",
      "1. k__Bacteria;p__Proteobacteria;c__Alphaproteobacteria;o__Rhizobiales;f__Phyllobacteriaceae;g__;s__\t0.016246890224742155\n",
      "2. k__Bacteria;p__Proteobacteria;c__Alphaproteobacteria;o__Sphingomonadales;f__Sphingomonadaceae;g__Sphingopyxis;s__\t0.015747700123308072\n",
      "3. k__Bacteria;p__Actinobacteria;c__Actinobacteria;o__Actinomycetales;f__Nocardiaceae;g__Rhodococcus;s__\t0.014979012629035037\n",
      "4. k__Bacteria;p__Actinobacteria;c__Actinobacteria;o__Actinomycetales;f__Nocardioidaceae;g__Aeromicrobium;s__\t0.01320175832081318\n",
      "5. k__Bacteria;p__Proteobacteria;c__Alphaproteobacteria;o__Sphingomonadales;f__Sphingomonadaceae;g__Sphingomonas;s__\t0.012685685526947493\n",
      "6. k__Bacteria;p__Proteobacteria;c__Alphaproteobacteria;o__Rhizobiales;f__Phyllobacteriaceae;g__Pseudaminobacter;s__\t0.012563688258466972\n",
      "7. k__Bacteria;p__Verrucomicrobia;c__[Spartobacteria];o__[Chthoniobacterales];f__[Chthoniobacteraceae];g__heteroC45_4W;s__\t0.011646423546858391\n",
      "8. k__Bacteria;p__Actinobacteria;c__Thermoleophilia;o__Solirubrobacterales;f__;g__;s__\t0.011564414454342208\n",
      "9. k__Bacteria;p__Bacteroidetes;c__[Saprospirae];o__[Saprospirales];f__Chitinophagaceae;g__;s__\t0.01125829103896046\n",
      "10. k__Bacteria;p__Proteobacteria;c__Alphaproteobacteria;o__Rhodobacterales;f__Rhodobacteraceae;g__;s__\t0.011019587880694752\n",
      "11. k__Bacteria;p__Proteobacteria;c__Alphaproteobacteria;o__Caulobacterales;f__Caulobacteraceae;g__;s__\t0.011007427973701377\n",
      "12. k__Bacteria;p__Actinobacteria;c__Acidimicrobiia;o__Acidimicrobiales;f__;g__;s__\t0.010509692934556178\n",
      "13. k__Bacteria;p__Proteobacteria;c__Alphaproteobacteria;o__Rhodospirillales;f__Acetobacteraceae;g__Roseococcus;s__\t0.010472407487023414\n",
      "14. k__Bacteria;p__Proteobacteria;c__Alphaproteobacteria;o__Rhizobiales;f__Hyphomicrobiaceae;g__Devosia;s__\t0.01041579938310671\n",
      "15. k__Bacteria;p__Chloroflexi;c__Thermomicrobia;o__JG30-KF-CM45;f__;g__;s__\t0.010270666485450587\n",
      "16. k__Bacteria;p__Bacteroidetes;c__Cytophagia;o__Cytophagales;f__Cytophagaceae;g__Dyadobacter;s__\t0.010197198123215012\n",
      "17. k__Bacteria;p__Bacteroidetes;c__Sphingobacteriia;o__Sphingobacteriales;f__Sphingobacteriaceae;g__Sphingobacterium;s__\t0.009771681170304565\n",
      "18. k__Bacteria;p__Proteobacteria;c__Alphaproteobacteria;o__Rhizobiales;f__Rhizobiaceae;g__Shinella;s__\t0.009533061255007637\n",
      "19. k__Bacteria;p__Actinobacteria;c__Thermoleophilia;o__Solirubrobacterales;f__Patulibacteraceae;g__Patulibacter;s__\t0.009440840381949324\n",
      "20. k__Bacteria;p__Proteobacteria;c__Alphaproteobacteria;o__Rhizobiales;f__Beijerinckiaceae;g__;s__\t0.009434690490317395\n",
      "21. k__Bacteria;p__Proteobacteria;c__Alphaproteobacteria;o__Rhizobiales;f__Brucellaceae;g__Pseudochrobactrum;s__\t0.009245849039384397\n",
      "22. k__Bacteria;p__Proteobacteria;c__Alphaproteobacteria;o__Rhizobiales;f__;g__;s__\t0.009028385506885044\n",
      "23. k__Bacteria;p__Firmicutes;c__Clostridia;o__Clostridiales;f__[Tissierellaceae];g__Helcococcus;s__\t0.008465951177646687\n",
      "24. k__Bacteria;p__Proteobacteria;c__Alphaproteobacteria;o__Rhizobiales;f__Bradyrhizobiaceae;g__;s__\t0.00825084947971583\n",
      "25. k__Bacteria;p__Bacteroidetes;c__Flavobacteriia;o__Flavobacteriales;f__Flavobacteriaceae;g__Gelidibacter;s__\t0.007959577674441005\n"
     ]
    }
   ],
   "source": [
    "importances = bone_summer_L7.feature_importances_\n",
    "std = np.std([tree.feature_importances_ for tree in bone_summer_L7.estimators_],\n",
    "             axis=0)\n",
    "indices = np.argsort(importances)[::-1]\n",
    "\n",
    "feature_metadata = Summer_L7.feature_metadata\n",
    "np.savetxt(\"importances/bone_summer_L7_no_metadata_features.csv\", feature_metadata, delimiter=\",\", fmt='%s')\n",
    "\n",
    "\n",
    "#print the important ids in order\n",
    "general_importances = []\n",
    "count = 0\n",
    "print(\"Feature:\\t\\t\\t\\tImportance:\")\n",
    "for i in indices:\n",
    "    general_importances += (Summer_L7.feature_metadata.index.values[i], importances[indices[count]])\n",
    "    if count < 25:\n",
    "        print(str(count+1)+\". \"+str(Summer_L7.feature_metadata.index.values[i])+\"\\t\"+str(importances[indices[count]]))\n",
    "    count += 1\n",
    "    \n",
    "general_importances_df = pd.DataFrame(np.array(general_importances).reshape(1342,1))\n",
    "\n",
    "np.savetxt(\"importances/bone_summer_L7_no_features_importances.csv\", general_importances_df, delimiter=\",\", fmt='%s')"
   ]
  },
  {
   "cell_type": "markdown",
   "metadata": {},
   "source": [
    "## Import rarefied table collapsed at level 6"
   ]
  },
  {
   "cell_type": "code",
   "execution_count": 26,
   "metadata": {},
   "outputs": [
    {
     "name": "stdout",
     "output_type": "stream",
     "text": [
      "2020-06-29 11:44:45 WARNING These have metadata but do not have data - dropped (51): {'11553.BLANKrib.10C', '11553.CSU.extraction.blank9', '11553.CSU.extraction.blank1', '11553.BLANKrib.12D', '11553.BLANKrib.12B', '11553.CSU.extraction.blank13', '11553.CSU.extraction.blank5', '11553.BLANKrib.12A', '11553.STAFS.2016.064.L12', '11553.SHSU.STAFS2016.011.L09', '11553.BLANKrib.10D', '11553.BLANKrib.10A', '11553.BLANKrib.10G', '11553.SHSU.STAFS2016.007.R11', '11553.BLANKrib.11G', '11553.BLANKrib.9A', '11553.CSU.extraction.blank14', '11553.BLANKrib.9C', '11553.BLANKrib.11H', '11553.BLANKrib.12F', '11553.BLANKrib.5B', '11553.BLANKrib.9H', '11553.CSU.extraction.blank6', '11553.CSU.extraction.blank10', '11553.BLANKrib.10B', '11553.BLANKrib.9F', '11553.BLANKrib.9B', '11553.CSU.extraction.blank3', '11553.BLANKrib.9E', '11553.BLANKrib.10F', '11553.BLANKrib.10H', '11553.BLANKrib.10E', '11553.BLANKrib.11E', '11553.CSU.extraction.blank15', '11553.BLANKrib.9G', '11553.CSU.extraction.blank4', '11553.CSU.extraction.blank11', '11553.CSU.extraction.blank8', '11553.BLANKrib.9D', '11553.BLANKrib.12E', '11553.BLANKrib.12C', '11553.BLANKrib.11C', '11553.CSU.extraction.blank2', '11553.BLANKrib.12G', '11553.BLANKrib.11D', '11553.BLANKrib.11B', '11553.BLANKrib.11F', '11553.CSU.extraction.blank12', '11553.BLANKrib.11A', '11553.BLANKrib.12H', '11553.CSU.extraction.blank7'}\n"
     ]
    }
   ],
   "source": [
    "exp_L6 = ca.read_amplicon('/Users/heatherdeel/Dropbox/PMI_3_analyses/bone/01_16S/01_qiime2_analysis/feature_tables/collapsed_tables/frag_ins_noChloMito_17098_L6_table.biom', '../02_metadata/maps/map3.txt', min_reads=0, normalize = None)\n"
   ]
  },
  {
   "cell_type": "code",
   "execution_count": 27,
   "metadata": {},
   "outputs": [
    {
     "data": {
      "text/plain": [
       "STAFS2016.065    8\n",
       "STAFS2016.067    8\n",
       "STAFS2016.064    7\n",
       "Name: host_subject_id, dtype: int64"
      ]
     },
     "execution_count": 27,
     "metadata": {},
     "output_type": "execute_result"
    }
   ],
   "source": [
    "# filter to summer\n",
    "Summer_L6 = exp_L6.filter_samples('season', 'summer')\n",
    "Summer_L6.sample_metadata.host_subject_id.value_counts()"
   ]
  },
  {
   "cell_type": "code",
   "execution_count": 28,
   "metadata": {},
   "outputs": [
    {
     "name": "stdout",
     "output_type": "stream",
     "text": [
      "                                                                                          _feature_id\n",
      "k__Archaea;p__Crenarchaeota;c__Thaumarchaeota;o...  k__Archaea;p__Crenarchaeota;c__Thaumarchaeota;...\n",
      "k__Archaea;p__Euryarchaeota;c__Methanobacteria;...  k__Archaea;p__Euryarchaeota;c__Methanobacteria...\n",
      "k__Bacteria;__;__;__;__;__                                                 k__Bacteria;__;__;__;__;__\n",
      "k__Bacteria;p__Acidobacteria;c__DA052;o__Ellin6...  k__Bacteria;p__Acidobacteria;c__DA052;o__Ellin...\n",
      "k__Bacteria;p__Acidobacteria;c__Solibacteres;o_...  k__Bacteria;p__Acidobacteria;c__Solibacteres;o...\n",
      "k__Bacteria;p__Acidobacteria;c__[Chloracidobact...  k__Bacteria;p__Acidobacteria;c__[Chloracidobac...\n",
      "k__Bacteria;p__Acidobacteria;c__[Chloracidobact...  k__Bacteria;p__Acidobacteria;c__[Chloracidobac...\n",
      "k__Bacteria;p__Actinobacteria;c__Acidimicrobiia...  k__Bacteria;p__Actinobacteria;c__Acidimicrobii...\n",
      "k__Bacteria;p__Actinobacteria;c__Acidimicrobiia...  k__Bacteria;p__Actinobacteria;c__Acidimicrobii...\n",
      "k__Bacteria;p__Actinobacteria;c__Acidimicrobiia...  k__Bacteria;p__Actinobacteria;c__Acidimicrobii...\n",
      "k__Bacteria;p__Actinobacteria;c__Acidimicrobiia...  k__Bacteria;p__Actinobacteria;c__Acidimicrobii...\n",
      "k__Bacteria;p__Actinobacteria;c__Acidimicrobiia...  k__Bacteria;p__Actinobacteria;c__Acidimicrobii...\n",
      "k__Bacteria;p__Actinobacteria;c__Actinobacteria...  k__Bacteria;p__Actinobacteria;c__Actinobacteri...\n",
      "k__Bacteria;p__Actinobacteria;c__Actinobacteria...  k__Bacteria;p__Actinobacteria;c__Actinobacteri...\n",
      "k__Bacteria;p__Actinobacteria;c__Actinobacteria...  k__Bacteria;p__Actinobacteria;c__Actinobacteri...\n",
      "k__Bacteria;p__Actinobacteria;c__Actinobacteria...  k__Bacteria;p__Actinobacteria;c__Actinobacteri...\n",
      "k__Bacteria;p__Actinobacteria;c__Actinobacteria...  k__Bacteria;p__Actinobacteria;c__Actinobacteri...\n",
      "k__Bacteria;p__Actinobacteria;c__Actinobacteria...  k__Bacteria;p__Actinobacteria;c__Actinobacteri...\n",
      "k__Bacteria;p__Actinobacteria;c__Actinobacteria...  k__Bacteria;p__Actinobacteria;c__Actinobacteri...\n",
      "k__Bacteria;p__Actinobacteria;c__Actinobacteria...  k__Bacteria;p__Actinobacteria;c__Actinobacteri...\n",
      "k__Bacteria;p__Actinobacteria;c__Actinobacteria...  k__Bacteria;p__Actinobacteria;c__Actinobacteri...\n",
      "k__Bacteria;p__Actinobacteria;c__Actinobacteria...  k__Bacteria;p__Actinobacteria;c__Actinobacteri...\n",
      "k__Bacteria;p__Actinobacteria;c__Actinobacteria...  k__Bacteria;p__Actinobacteria;c__Actinobacteri...\n",
      "k__Bacteria;p__Actinobacteria;c__Actinobacteria...  k__Bacteria;p__Actinobacteria;c__Actinobacteri...\n",
      "k__Bacteria;p__Actinobacteria;c__Actinobacteria...  k__Bacteria;p__Actinobacteria;c__Actinobacteri...\n",
      "k__Bacteria;p__Actinobacteria;c__Actinobacteria...  k__Bacteria;p__Actinobacteria;c__Actinobacteri...\n",
      "k__Bacteria;p__Actinobacteria;c__Actinobacteria...  k__Bacteria;p__Actinobacteria;c__Actinobacteri...\n",
      "k__Bacteria;p__Actinobacteria;c__Actinobacteria...  k__Bacteria;p__Actinobacteria;c__Actinobacteri...\n",
      "k__Bacteria;p__Actinobacteria;c__Actinobacteria...  k__Bacteria;p__Actinobacteria;c__Actinobacteri...\n",
      "k__Bacteria;p__Actinobacteria;c__Actinobacteria...  k__Bacteria;p__Actinobacteria;c__Actinobacteri...\n",
      "k__Bacteria;p__Actinobacteria;c__Actinobacteria...  k__Bacteria;p__Actinobacteria;c__Actinobacteri...\n",
      "k__Bacteria;p__Actinobacteria;c__Actinobacteria...  k__Bacteria;p__Actinobacteria;c__Actinobacteri...\n",
      "k__Bacteria;p__Actinobacteria;c__Actinobacteria...  k__Bacteria;p__Actinobacteria;c__Actinobacteri...\n",
      "k__Bacteria;p__Actinobacteria;c__Actinobacteria...  k__Bacteria;p__Actinobacteria;c__Actinobacteri...\n",
      "k__Bacteria;p__Actinobacteria;c__Actinobacteria...  k__Bacteria;p__Actinobacteria;c__Actinobacteri...\n",
      "k__Bacteria;p__Actinobacteria;c__Actinobacteria...  k__Bacteria;p__Actinobacteria;c__Actinobacteri...\n",
      "k__Bacteria;p__Actinobacteria;c__Actinobacteria...  k__Bacteria;p__Actinobacteria;c__Actinobacteri...\n",
      "k__Bacteria;p__Actinobacteria;c__Actinobacteria...  k__Bacteria;p__Actinobacteria;c__Actinobacteri...\n",
      "k__Bacteria;p__Actinobacteria;c__Actinobacteria...  k__Bacteria;p__Actinobacteria;c__Actinobacteri...\n",
      "k__Bacteria;p__Actinobacteria;c__Actinobacteria...  k__Bacteria;p__Actinobacteria;c__Actinobacteri...\n",
      "k__Bacteria;p__Actinobacteria;c__Actinobacteria...  k__Bacteria;p__Actinobacteria;c__Actinobacteri...\n",
      "k__Bacteria;p__Actinobacteria;c__Actinobacteria...  k__Bacteria;p__Actinobacteria;c__Actinobacteri...\n",
      "k__Bacteria;p__Actinobacteria;c__Actinobacteria...  k__Bacteria;p__Actinobacteria;c__Actinobacteri...\n",
      "k__Bacteria;p__Actinobacteria;c__Actinobacteria...  k__Bacteria;p__Actinobacteria;c__Actinobacteri...\n",
      "k__Bacteria;p__Actinobacteria;c__Actinobacteria...  k__Bacteria;p__Actinobacteria;c__Actinobacteri...\n",
      "k__Bacteria;p__Actinobacteria;c__Actinobacteria...  k__Bacteria;p__Actinobacteria;c__Actinobacteri...\n",
      "k__Bacteria;p__Actinobacteria;c__Actinobacteria...  k__Bacteria;p__Actinobacteria;c__Actinobacteri...\n",
      "k__Bacteria;p__Actinobacteria;c__Actinobacteria...  k__Bacteria;p__Actinobacteria;c__Actinobacteri...\n",
      "k__Bacteria;p__Actinobacteria;c__Actinobacteria...  k__Bacteria;p__Actinobacteria;c__Actinobacteri...\n",
      "k__Bacteria;p__Actinobacteria;c__Actinobacteria...  k__Bacteria;p__Actinobacteria;c__Actinobacteri...\n",
      "k__Bacteria;p__Actinobacteria;c__Actinobacteria...  k__Bacteria;p__Actinobacteria;c__Actinobacteri...\n",
      "k__Bacteria;p__Actinobacteria;c__Actinobacteria...  k__Bacteria;p__Actinobacteria;c__Actinobacteri...\n",
      "k__Bacteria;p__Actinobacteria;c__Actinobacteria...  k__Bacteria;p__Actinobacteria;c__Actinobacteri...\n",
      "k__Bacteria;p__Actinobacteria;c__Actinobacteria...  k__Bacteria;p__Actinobacteria;c__Actinobacteri...\n",
      "k__Bacteria;p__Actinobacteria;c__Actinobacteria...  k__Bacteria;p__Actinobacteria;c__Actinobacteri...\n",
      "k__Bacteria;p__Actinobacteria;c__Actinobacteria...  k__Bacteria;p__Actinobacteria;c__Actinobacteri...\n",
      "k__Bacteria;p__Actinobacteria;c__Actinobacteria...  k__Bacteria;p__Actinobacteria;c__Actinobacteri...\n",
      "k__Bacteria;p__Actinobacteria;c__Actinobacteria...  k__Bacteria;p__Actinobacteria;c__Actinobacteri...\n",
      "k__Bacteria;p__Actinobacteria;c__Actinobacteria...  k__Bacteria;p__Actinobacteria;c__Actinobacteri...\n",
      "k__Bacteria;p__Actinobacteria;c__Actinobacteria...  k__Bacteria;p__Actinobacteria;c__Actinobacteri...\n",
      "k__Bacteria;p__Actinobacteria;c__Actinobacteria...  k__Bacteria;p__Actinobacteria;c__Actinobacteri...\n",
      "k__Bacteria;p__Actinobacteria;c__Actinobacteria...  k__Bacteria;p__Actinobacteria;c__Actinobacteri...\n",
      "k__Bacteria;p__Actinobacteria;c__Actinobacteria...  k__Bacteria;p__Actinobacteria;c__Actinobacteri...\n",
      "k__Bacteria;p__Actinobacteria;c__Actinobacteria...  k__Bacteria;p__Actinobacteria;c__Actinobacteri...\n",
      "k__Bacteria;p__Actinobacteria;c__Actinobacteria...  k__Bacteria;p__Actinobacteria;c__Actinobacteri...\n",
      "k__Bacteria;p__Actinobacteria;c__Actinobacteria...  k__Bacteria;p__Actinobacteria;c__Actinobacteri...\n",
      "k__Bacteria;p__Actinobacteria;c__Actinobacteria...  k__Bacteria;p__Actinobacteria;c__Actinobacteri...\n",
      "k__Bacteria;p__Actinobacteria;c__Actinobacteria...  k__Bacteria;p__Actinobacteria;c__Actinobacteri...\n",
      "k__Bacteria;p__Actinobacteria;c__Actinobacteria...  k__Bacteria;p__Actinobacteria;c__Actinobacteri...\n",
      "k__Bacteria;p__Actinobacteria;c__Actinobacteria...  k__Bacteria;p__Actinobacteria;c__Actinobacteri...\n",
      "k__Bacteria;p__Actinobacteria;c__Actinobacteria...  k__Bacteria;p__Actinobacteria;c__Actinobacteri...\n",
      "k__Bacteria;p__Actinobacteria;c__Actinobacteria...  k__Bacteria;p__Actinobacteria;c__Actinobacteri...\n",
      "k__Bacteria;p__Actinobacteria;c__Actinobacteria...  k__Bacteria;p__Actinobacteria;c__Actinobacteri...\n",
      "k__Bacteria;p__Actinobacteria;c__Actinobacteria...  k__Bacteria;p__Actinobacteria;c__Actinobacteri...\n",
      "k__Bacteria;p__Actinobacteria;c__Actinobacteria...  k__Bacteria;p__Actinobacteria;c__Actinobacteri...\n",
      "k__Bacteria;p__Actinobacteria;c__Actinobacteria...  k__Bacteria;p__Actinobacteria;c__Actinobacteri...\n",
      "k__Bacteria;p__Actinobacteria;c__Actinobacteria...  k__Bacteria;p__Actinobacteria;c__Actinobacteri...\n",
      "k__Bacteria;p__Actinobacteria;c__Actinobacteria...  k__Bacteria;p__Actinobacteria;c__Actinobacteri...\n",
      "k__Bacteria;p__Actinobacteria;c__Actinobacteria...  k__Bacteria;p__Actinobacteria;c__Actinobacteri...\n",
      "k__Bacteria;p__Actinobacteria;c__Actinobacteria...  k__Bacteria;p__Actinobacteria;c__Actinobacteri...\n",
      "k__Bacteria;p__Actinobacteria;c__Actinobacteria...  k__Bacteria;p__Actinobacteria;c__Actinobacteri...\n",
      "k__Bacteria;p__Actinobacteria;c__Actinobacteria...  k__Bacteria;p__Actinobacteria;c__Actinobacteri...\n",
      "k__Bacteria;p__Actinobacteria;c__Actinobacteria...  k__Bacteria;p__Actinobacteria;c__Actinobacteri...\n",
      "k__Bacteria;p__Actinobacteria;c__Actinobacteria...  k__Bacteria;p__Actinobacteria;c__Actinobacteri...\n",
      "k__Bacteria;p__Actinobacteria;c__Actinobacteria...  k__Bacteria;p__Actinobacteria;c__Actinobacteri...\n",
      "k__Bacteria;p__Actinobacteria;c__Actinobacteria...  k__Bacteria;p__Actinobacteria;c__Actinobacteri...\n",
      "k__Bacteria;p__Actinobacteria;c__Coriobacteriia...  k__Bacteria;p__Actinobacteria;c__Coriobacterii...\n",
      "k__Bacteria;p__Actinobacteria;c__Coriobacteriia...  k__Bacteria;p__Actinobacteria;c__Coriobacterii...\n",
      "k__Bacteria;p__Actinobacteria;c__Coriobacteriia...  k__Bacteria;p__Actinobacteria;c__Coriobacterii...\n",
      "k__Bacteria;p__Actinobacteria;c__Rubrobacteria;...  k__Bacteria;p__Actinobacteria;c__Rubrobacteria...\n",
      "k__Bacteria;p__Actinobacteria;c__Thermoleophili...  k__Bacteria;p__Actinobacteria;c__Thermoleophil...\n",
      "k__Bacteria;p__Actinobacteria;c__Thermoleophili...  k__Bacteria;p__Actinobacteria;c__Thermoleophil...\n",
      "k__Bacteria;p__Actinobacteria;c__Thermoleophili...  k__Bacteria;p__Actinobacteria;c__Thermoleophil...\n",
      "k__Bacteria;p__Actinobacteria;c__Thermoleophili...  k__Bacteria;p__Actinobacteria;c__Thermoleophil...\n",
      "k__Bacteria;p__Actinobacteria;c__Thermoleophili...  k__Bacteria;p__Actinobacteria;c__Thermoleophil...\n",
      "k__Bacteria;p__Actinobacteria;c__Thermoleophili...  k__Bacteria;p__Actinobacteria;c__Thermoleophil...\n",
      "k__Bacteria;p__Actinobacteria;c__Thermoleophili...  k__Bacteria;p__Actinobacteria;c__Thermoleophil...\n",
      "k__Bacteria;p__Armatimonadetes;c__Armatimonadia...  k__Bacteria;p__Armatimonadetes;c__Armatimonadi...\n",
      "k__Bacteria;p__Armatimonadetes;c__SHA-37;o__;f_...  k__Bacteria;p__Armatimonadetes;c__SHA-37;o__;f...\n",
      "k__Bacteria;p__Armatimonadetes;c__SJA-176;o__GA...  k__Bacteria;p__Armatimonadetes;c__SJA-176;o__G...\n",
      "k__Bacteria;p__Armatimonadetes;c__[Fimbriimonad...  k__Bacteria;p__Armatimonadetes;c__[Fimbriimona...\n",
      "k__Bacteria;p__Armatimonadetes;c__[Fimbriimonad...  k__Bacteria;p__Armatimonadetes;c__[Fimbriimona...\n",
      "k__Bacteria;p__BRC1;c__PRR-11;o__;f__;g__                   k__Bacteria;p__BRC1;c__PRR-11;o__;f__;g__\n",
      "k__Bacteria;p__Bacteroidetes;c__Bacteroidia;o__...  k__Bacteria;p__Bacteroidetes;c__Bacteroidia;o_...\n",
      "k__Bacteria;p__Bacteroidetes;c__Bacteroidia;o__...  k__Bacteria;p__Bacteroidetes;c__Bacteroidia;o_...\n",
      "k__Bacteria;p__Bacteroidetes;c__Bacteroidia;o__...  k__Bacteria;p__Bacteroidetes;c__Bacteroidia;o_...\n",
      "k__Bacteria;p__Bacteroidetes;c__Bacteroidia;o__...  k__Bacteria;p__Bacteroidetes;c__Bacteroidia;o_...\n",
      "k__Bacteria;p__Bacteroidetes;c__Bacteroidia;o__...  k__Bacteria;p__Bacteroidetes;c__Bacteroidia;o_...\n",
      "k__Bacteria;p__Bacteroidetes;c__Bacteroidia;o__...  k__Bacteria;p__Bacteroidetes;c__Bacteroidia;o_...\n",
      "k__Bacteria;p__Bacteroidetes;c__Bacteroidia;o__...  k__Bacteria;p__Bacteroidetes;c__Bacteroidia;o_...\n",
      "k__Bacteria;p__Bacteroidetes;c__Bacteroidia;o__...  k__Bacteria;p__Bacteroidetes;c__Bacteroidia;o_...\n",
      "k__Bacteria;p__Bacteroidetes;c__Bacteroidia;o__...  k__Bacteria;p__Bacteroidetes;c__Bacteroidia;o_...\n",
      "k__Bacteria;p__Bacteroidetes;c__Bacteroidia;o__...  k__Bacteria;p__Bacteroidetes;c__Bacteroidia;o_...\n",
      "k__Bacteria;p__Bacteroidetes;c__Bacteroidia;o__...  k__Bacteria;p__Bacteroidetes;c__Bacteroidia;o_...\n",
      "k__Bacteria;p__Bacteroidetes;c__Bacteroidia;o__...  k__Bacteria;p__Bacteroidetes;c__Bacteroidia;o_...\n",
      "k__Bacteria;p__Bacteroidetes;c__Bacteroidia;o__...  k__Bacteria;p__Bacteroidetes;c__Bacteroidia;o_...\n",
      "k__Bacteria;p__Bacteroidetes;c__Bacteroidia;o__...  k__Bacteria;p__Bacteroidetes;c__Bacteroidia;o_...\n",
      "k__Bacteria;p__Bacteroidetes;c__Bacteroidia;o__...  k__Bacteria;p__Bacteroidetes;c__Bacteroidia;o_...\n",
      "k__Bacteria;p__Bacteroidetes;c__Cytophagia;o__C...  k__Bacteria;p__Bacteroidetes;c__Cytophagia;o__...\n",
      "k__Bacteria;p__Bacteroidetes;c__Cytophagia;o__C...  k__Bacteria;p__Bacteroidetes;c__Cytophagia;o__...\n",
      "k__Bacteria;p__Bacteroidetes;c__Cytophagia;o__C...  k__Bacteria;p__Bacteroidetes;c__Cytophagia;o__...\n",
      "k__Bacteria;p__Bacteroidetes;c__Cytophagia;o__C...  k__Bacteria;p__Bacteroidetes;c__Cytophagia;o__...\n",
      "k__Bacteria;p__Bacteroidetes;c__Cytophagia;o__C...  k__Bacteria;p__Bacteroidetes;c__Cytophagia;o__...\n",
      "k__Bacteria;p__Bacteroidetes;c__Cytophagia;o__C...  k__Bacteria;p__Bacteroidetes;c__Cytophagia;o__...\n",
      "k__Bacteria;p__Bacteroidetes;c__Cytophagia;o__C...  k__Bacteria;p__Bacteroidetes;c__Cytophagia;o__...\n",
      "k__Bacteria;p__Bacteroidetes;c__Cytophagia;o__C...  k__Bacteria;p__Bacteroidetes;c__Cytophagia;o__...\n",
      "k__Bacteria;p__Bacteroidetes;c__Cytophagia;o__C...  k__Bacteria;p__Bacteroidetes;c__Cytophagia;o__...\n",
      "k__Bacteria;p__Bacteroidetes;c__Cytophagia;o__C...  k__Bacteria;p__Bacteroidetes;c__Cytophagia;o__...\n",
      "k__Bacteria;p__Bacteroidetes;c__Flavobacteriia;...  k__Bacteria;p__Bacteroidetes;c__Flavobacteriia...\n",
      "k__Bacteria;p__Bacteroidetes;c__Flavobacteriia;...  k__Bacteria;p__Bacteroidetes;c__Flavobacteriia...\n",
      "k__Bacteria;p__Bacteroidetes;c__Flavobacteriia;...  k__Bacteria;p__Bacteroidetes;c__Flavobacteriia...\n",
      "k__Bacteria;p__Bacteroidetes;c__Flavobacteriia;...  k__Bacteria;p__Bacteroidetes;c__Flavobacteriia...\n",
      "k__Bacteria;p__Bacteroidetes;c__Flavobacteriia;...  k__Bacteria;p__Bacteroidetes;c__Flavobacteriia...\n",
      "k__Bacteria;p__Bacteroidetes;c__Flavobacteriia;...  k__Bacteria;p__Bacteroidetes;c__Flavobacteriia...\n",
      "k__Bacteria;p__Bacteroidetes;c__Flavobacteriia;...  k__Bacteria;p__Bacteroidetes;c__Flavobacteriia...\n",
      "k__Bacteria;p__Bacteroidetes;c__Flavobacteriia;...  k__Bacteria;p__Bacteroidetes;c__Flavobacteriia...\n",
      "k__Bacteria;p__Bacteroidetes;c__Flavobacteriia;...  k__Bacteria;p__Bacteroidetes;c__Flavobacteriia...\n",
      "k__Bacteria;p__Bacteroidetes;c__Flavobacteriia;...  k__Bacteria;p__Bacteroidetes;c__Flavobacteriia...\n",
      "k__Bacteria;p__Bacteroidetes;c__Flavobacteriia;...  k__Bacteria;p__Bacteroidetes;c__Flavobacteriia...\n",
      "k__Bacteria;p__Bacteroidetes;c__Flavobacteriia;...  k__Bacteria;p__Bacteroidetes;c__Flavobacteriia...\n",
      "k__Bacteria;p__Bacteroidetes;c__Flavobacteriia;...  k__Bacteria;p__Bacteroidetes;c__Flavobacteriia...\n",
      "k__Bacteria;p__Bacteroidetes;c__Flavobacteriia;...  k__Bacteria;p__Bacteroidetes;c__Flavobacteriia...\n",
      "k__Bacteria;p__Bacteroidetes;c__Sphingobacterii...  k__Bacteria;p__Bacteroidetes;c__Sphingobacteri...\n",
      "k__Bacteria;p__Bacteroidetes;c__Sphingobacterii...  k__Bacteria;p__Bacteroidetes;c__Sphingobacteri...\n",
      "k__Bacteria;p__Bacteroidetes;c__Sphingobacterii...  k__Bacteria;p__Bacteroidetes;c__Sphingobacteri...\n",
      "k__Bacteria;p__Bacteroidetes;c__Sphingobacterii...  k__Bacteria;p__Bacteroidetes;c__Sphingobacteri...\n",
      "k__Bacteria;p__Bacteroidetes;c__Sphingobacterii...  k__Bacteria;p__Bacteroidetes;c__Sphingobacteri...\n",
      "k__Bacteria;p__Bacteroidetes;c__[Saprospirae];o...  k__Bacteria;p__Bacteroidetes;c__[Saprospirae];...\n",
      "k__Bacteria;p__Bacteroidetes;c__[Saprospirae];o...  k__Bacteria;p__Bacteroidetes;c__[Saprospirae];...\n",
      "k__Bacteria;p__Bacteroidetes;c__[Saprospirae];o...  k__Bacteria;p__Bacteroidetes;c__[Saprospirae];...\n",
      "k__Bacteria;p__Bacteroidetes;c__[Saprospirae];o...  k__Bacteria;p__Bacteroidetes;c__[Saprospirae];...\n",
      "k__Bacteria;p__Bacteroidetes;c__[Saprospirae];o...  k__Bacteria;p__Bacteroidetes;c__[Saprospirae];...\n",
      "k__Bacteria;p__Bacteroidetes;c__[Saprospirae];o...  k__Bacteria;p__Bacteroidetes;c__[Saprospirae];...\n",
      "k__Bacteria;p__Bacteroidetes;c__[Saprospirae];o...  k__Bacteria;p__Bacteroidetes;c__[Saprospirae];...\n",
      "k__Bacteria;p__Bacteroidetes;c__[Saprospirae];o...  k__Bacteria;p__Bacteroidetes;c__[Saprospirae];...\n",
      "k__Bacteria;p__Bacteroidetes;c__[Saprospirae];o...  k__Bacteria;p__Bacteroidetes;c__[Saprospirae];...\n",
      "k__Bacteria;p__Chlorobi;c__OPB56;o__;f__;g__             k__Bacteria;p__Chlorobi;c__OPB56;o__;f__;g__\n",
      "k__Bacteria;p__Chloroflexi;c__Chloroflexi;o__AK...  k__Bacteria;p__Chloroflexi;c__Chloroflexi;o__A...\n",
      "k__Bacteria;p__Chloroflexi;c__Ellin6529;o__;f__...  k__Bacteria;p__Chloroflexi;c__Ellin6529;o__;f_...\n",
      "k__Bacteria;p__Chloroflexi;c__Thermomicrobia;o_...  k__Bacteria;p__Chloroflexi;c__Thermomicrobia;o...\n",
      "k__Bacteria;p__Chloroflexi;c__Thermomicrobia;o_...  k__Bacteria;p__Chloroflexi;c__Thermomicrobia;o...\n",
      "k__Bacteria;p__Cyanobacteria;c__4C0d-2;o__SM1D1...  k__Bacteria;p__Cyanobacteria;c__4C0d-2;o__SM1D...\n",
      "k__Bacteria;p__Cyanobacteria;c__4C0d-2;o__YS2;f...  k__Bacteria;p__Cyanobacteria;c__4C0d-2;o__YS2;...\n",
      "k__Bacteria;p__Cyanobacteria;c__ML635J-21;o__;f...  k__Bacteria;p__Cyanobacteria;c__ML635J-21;o__;...\n",
      "k__Bacteria;p__Cyanobacteria;c__Oscillatoriophy...  k__Bacteria;p__Cyanobacteria;c__Oscillatorioph...\n",
      "k__Bacteria;p__Deferribacteres;c__Deferribacter...  k__Bacteria;p__Deferribacteres;c__Deferribacte...\n",
      "k__Bacteria;p__Deferribacteres;c__Deferribacter...  k__Bacteria;p__Deferribacteres;c__Deferribacte...\n",
      "k__Bacteria;p__FBP;c__;o__;f__;g__                                 k__Bacteria;p__FBP;c__;o__;f__;g__\n",
      "k__Bacteria;p__Firmicutes;c__AHT28;o__;f__;g__         k__Bacteria;p__Firmicutes;c__AHT28;o__;f__;g__\n",
      "k__Bacteria;p__Firmicutes;c__Bacilli;o__Bacilla...  k__Bacteria;p__Firmicutes;c__Bacilli;o__Bacill...\n",
      "k__Bacteria;p__Firmicutes;c__Bacilli;o__Bacilla...  k__Bacteria;p__Firmicutes;c__Bacilli;o__Bacill...\n",
      "k__Bacteria;p__Firmicutes;c__Bacilli;o__Bacilla...  k__Bacteria;p__Firmicutes;c__Bacilli;o__Bacill...\n",
      "k__Bacteria;p__Firmicutes;c__Bacilli;o__Bacilla...  k__Bacteria;p__Firmicutes;c__Bacilli;o__Bacill...\n",
      "k__Bacteria;p__Firmicutes;c__Bacilli;o__Bacilla...  k__Bacteria;p__Firmicutes;c__Bacilli;o__Bacill...\n",
      "k__Bacteria;p__Firmicutes;c__Bacilli;o__Bacilla...  k__Bacteria;p__Firmicutes;c__Bacilli;o__Bacill...\n",
      "k__Bacteria;p__Firmicutes;c__Bacilli;o__Bacilla...  k__Bacteria;p__Firmicutes;c__Bacilli;o__Bacill...\n",
      "k__Bacteria;p__Firmicutes;c__Bacilli;o__Bacilla...  k__Bacteria;p__Firmicutes;c__Bacilli;o__Bacill...\n",
      "k__Bacteria;p__Firmicutes;c__Bacilli;o__Bacilla...  k__Bacteria;p__Firmicutes;c__Bacilli;o__Bacill...\n",
      "k__Bacteria;p__Firmicutes;c__Bacilli;o__Bacilla...  k__Bacteria;p__Firmicutes;c__Bacilli;o__Bacill...\n",
      "k__Bacteria;p__Firmicutes;c__Bacilli;o__Bacilla...  k__Bacteria;p__Firmicutes;c__Bacilli;o__Bacill...\n",
      "k__Bacteria;p__Firmicutes;c__Bacilli;o__Bacilla...  k__Bacteria;p__Firmicutes;c__Bacilli;o__Bacill...\n",
      "k__Bacteria;p__Firmicutes;c__Bacilli;o__Bacilla...  k__Bacteria;p__Firmicutes;c__Bacilli;o__Bacill...\n",
      "k__Bacteria;p__Firmicutes;c__Bacilli;o__Bacilla...  k__Bacteria;p__Firmicutes;c__Bacilli;o__Bacill...\n",
      "k__Bacteria;p__Firmicutes;c__Bacilli;o__Bacilla...  k__Bacteria;p__Firmicutes;c__Bacilli;o__Bacill...\n",
      "k__Bacteria;p__Firmicutes;c__Bacilli;o__Bacilla...  k__Bacteria;p__Firmicutes;c__Bacilli;o__Bacill...\n",
      "k__Bacteria;p__Firmicutes;c__Bacilli;o__Bacilla...  k__Bacteria;p__Firmicutes;c__Bacilli;o__Bacill...\n",
      "k__Bacteria;p__Firmicutes;c__Bacilli;o__Bacilla...  k__Bacteria;p__Firmicutes;c__Bacilli;o__Bacill...\n",
      "k__Bacteria;p__Firmicutes;c__Bacilli;o__Bacilla...  k__Bacteria;p__Firmicutes;c__Bacilli;o__Bacill...\n",
      "k__Bacteria;p__Firmicutes;c__Bacilli;o__Bacilla...  k__Bacteria;p__Firmicutes;c__Bacilli;o__Bacill...\n",
      "k__Bacteria;p__Firmicutes;c__Bacilli;o__Bacilla...  k__Bacteria;p__Firmicutes;c__Bacilli;o__Bacill...\n",
      "k__Bacteria;p__Firmicutes;c__Bacilli;o__Bacilla...  k__Bacteria;p__Firmicutes;c__Bacilli;o__Bacill...\n",
      "k__Bacteria;p__Firmicutes;c__Bacilli;o__Gemella...  k__Bacteria;p__Firmicutes;c__Bacilli;o__Gemell...\n",
      "k__Bacteria;p__Firmicutes;c__Bacilli;o__Gemella...  k__Bacteria;p__Firmicutes;c__Bacilli;o__Gemell...\n",
      "k__Bacteria;p__Firmicutes;c__Bacilli;o__Gemella...  k__Bacteria;p__Firmicutes;c__Bacilli;o__Gemell...\n",
      "k__Bacteria;p__Firmicutes;c__Bacilli;o__Lactoba...  k__Bacteria;p__Firmicutes;c__Bacilli;o__Lactob...\n",
      "k__Bacteria;p__Firmicutes;c__Bacilli;o__Lactoba...  k__Bacteria;p__Firmicutes;c__Bacilli;o__Lactob...\n",
      "k__Bacteria;p__Firmicutes;c__Bacilli;o__Lactoba...  k__Bacteria;p__Firmicutes;c__Bacilli;o__Lactob...\n",
      "k__Bacteria;p__Firmicutes;c__Bacilli;o__Lactoba...  k__Bacteria;p__Firmicutes;c__Bacilli;o__Lactob...\n",
      "k__Bacteria;p__Firmicutes;c__Bacilli;o__Lactoba...  k__Bacteria;p__Firmicutes;c__Bacilli;o__Lactob...\n",
      "k__Bacteria;p__Firmicutes;c__Bacilli;o__Lactoba...  k__Bacteria;p__Firmicutes;c__Bacilli;o__Lactob...\n",
      "k__Bacteria;p__Firmicutes;c__Bacilli;o__Lactoba...  k__Bacteria;p__Firmicutes;c__Bacilli;o__Lactob...\n",
      "k__Bacteria;p__Firmicutes;c__Bacilli;o__Lactoba...  k__Bacteria;p__Firmicutes;c__Bacilli;o__Lactob...\n",
      "k__Bacteria;p__Firmicutes;c__Clostridia;o__Clos...  k__Bacteria;p__Firmicutes;c__Clostridia;o__Clo...\n",
      "k__Bacteria;p__Firmicutes;c__Clostridia;o__Clos...  k__Bacteria;p__Firmicutes;c__Clostridia;o__Clo...\n",
      "k__Bacteria;p__Firmicutes;c__Clostridia;o__Clos...  k__Bacteria;p__Firmicutes;c__Clostridia;o__Clo...\n",
      "k__Bacteria;p__Firmicutes;c__Clostridia;o__Clos...  k__Bacteria;p__Firmicutes;c__Clostridia;o__Clo...\n",
      "k__Bacteria;p__Firmicutes;c__Clostridia;o__Clos...  k__Bacteria;p__Firmicutes;c__Clostridia;o__Clo...\n",
      "k__Bacteria;p__Firmicutes;c__Clostridia;o__Clos...  k__Bacteria;p__Firmicutes;c__Clostridia;o__Clo...\n",
      "k__Bacteria;p__Firmicutes;c__Clostridia;o__Clos...  k__Bacteria;p__Firmicutes;c__Clostridia;o__Clo...\n",
      "k__Bacteria;p__Firmicutes;c__Clostridia;o__Clos...  k__Bacteria;p__Firmicutes;c__Clostridia;o__Clo...\n",
      "k__Bacteria;p__Firmicutes;c__Clostridia;o__Clos...  k__Bacteria;p__Firmicutes;c__Clostridia;o__Clo...\n",
      "k__Bacteria;p__Firmicutes;c__Clostridia;o__Clos...  k__Bacteria;p__Firmicutes;c__Clostridia;o__Clo...\n",
      "k__Bacteria;p__Firmicutes;c__Clostridia;o__Clos...  k__Bacteria;p__Firmicutes;c__Clostridia;o__Clo...\n",
      "k__Bacteria;p__Firmicutes;c__Clostridia;o__Clos...  k__Bacteria;p__Firmicutes;c__Clostridia;o__Clo...\n",
      "k__Bacteria;p__Firmicutes;c__Clostridia;o__Clos...  k__Bacteria;p__Firmicutes;c__Clostridia;o__Clo...\n",
      "k__Bacteria;p__Firmicutes;c__Clostridia;o__Clos...  k__Bacteria;p__Firmicutes;c__Clostridia;o__Clo...\n",
      "k__Bacteria;p__Firmicutes;c__Clostridia;o__Clos...  k__Bacteria;p__Firmicutes;c__Clostridia;o__Clo...\n",
      "k__Bacteria;p__Firmicutes;c__Clostridia;o__Clos...  k__Bacteria;p__Firmicutes;c__Clostridia;o__Clo...\n",
      "k__Bacteria;p__Firmicutes;c__Clostridia;o__Clos...  k__Bacteria;p__Firmicutes;c__Clostridia;o__Clo...\n",
      "k__Bacteria;p__Firmicutes;c__Clostridia;o__Clos...  k__Bacteria;p__Firmicutes;c__Clostridia;o__Clo...\n",
      "k__Bacteria;p__Firmicutes;c__Clostridia;o__Clos...  k__Bacteria;p__Firmicutes;c__Clostridia;o__Clo...\n",
      "k__Bacteria;p__Firmicutes;c__Clostridia;o__Clos...  k__Bacteria;p__Firmicutes;c__Clostridia;o__Clo...\n",
      "k__Bacteria;p__Firmicutes;c__Clostridia;o__Clos...  k__Bacteria;p__Firmicutes;c__Clostridia;o__Clo...\n",
      "k__Bacteria;p__Firmicutes;c__Clostridia;o__Clos...  k__Bacteria;p__Firmicutes;c__Clostridia;o__Clo...\n",
      "k__Bacteria;p__Firmicutes;c__Clostridia;o__Clos...  k__Bacteria;p__Firmicutes;c__Clostridia;o__Clo...\n",
      "k__Bacteria;p__Firmicutes;c__Clostridia;o__Clos...  k__Bacteria;p__Firmicutes;c__Clostridia;o__Clo...\n",
      "k__Bacteria;p__Firmicutes;c__Clostridia;o__Clos...  k__Bacteria;p__Firmicutes;c__Clostridia;o__Clo...\n",
      "k__Bacteria;p__Firmicutes;c__Clostridia;o__Clos...  k__Bacteria;p__Firmicutes;c__Clostridia;o__Clo...\n",
      "k__Bacteria;p__Firmicutes;c__Clostridia;o__Clos...  k__Bacteria;p__Firmicutes;c__Clostridia;o__Clo...\n",
      "k__Bacteria;p__Firmicutes;c__Clostridia;o__Clos...  k__Bacteria;p__Firmicutes;c__Clostridia;o__Clo...\n",
      "k__Bacteria;p__Firmicutes;c__Clostridia;o__Clos...  k__Bacteria;p__Firmicutes;c__Clostridia;o__Clo...\n",
      "k__Bacteria;p__Firmicutes;c__Clostridia;o__Clos...  k__Bacteria;p__Firmicutes;c__Clostridia;o__Clo...\n",
      "k__Bacteria;p__Firmicutes;c__Clostridia;o__Clos...  k__Bacteria;p__Firmicutes;c__Clostridia;o__Clo...\n",
      "k__Bacteria;p__Firmicutes;c__Clostridia;o__Clos...  k__Bacteria;p__Firmicutes;c__Clostridia;o__Clo...\n",
      "k__Bacteria;p__Firmicutes;c__Clostridia;o__Clos...  k__Bacteria;p__Firmicutes;c__Clostridia;o__Clo...\n",
      "k__Bacteria;p__Firmicutes;c__Clostridia;o__Clos...  k__Bacteria;p__Firmicutes;c__Clostridia;o__Clo...\n",
      "k__Bacteria;p__Firmicutes;c__Clostridia;o__Clos...  k__Bacteria;p__Firmicutes;c__Clostridia;o__Clo...\n",
      "k__Bacteria;p__Firmicutes;c__Clostridia;o__Clos...  k__Bacteria;p__Firmicutes;c__Clostridia;o__Clo...\n",
      "k__Bacteria;p__Firmicutes;c__Clostridia;o__Clos...  k__Bacteria;p__Firmicutes;c__Clostridia;o__Clo...\n",
      "k__Bacteria;p__Firmicutes;c__Clostridia;o__Clos...  k__Bacteria;p__Firmicutes;c__Clostridia;o__Clo...\n",
      "k__Bacteria;p__Firmicutes;c__Clostridia;o__Clos...  k__Bacteria;p__Firmicutes;c__Clostridia;o__Clo...\n",
      "k__Bacteria;p__Firmicutes;c__Clostridia;o__Clos...  k__Bacteria;p__Firmicutes;c__Clostridia;o__Clo...\n",
      "k__Bacteria;p__Firmicutes;c__Clostridia;o__Clos...  k__Bacteria;p__Firmicutes;c__Clostridia;o__Clo...\n",
      "k__Bacteria;p__Firmicutes;c__Clostridia;o__Clos...  k__Bacteria;p__Firmicutes;c__Clostridia;o__Clo...\n",
      "k__Bacteria;p__Firmicutes;c__Clostridia;o__Clos...  k__Bacteria;p__Firmicutes;c__Clostridia;o__Clo...\n",
      "k__Bacteria;p__Firmicutes;c__Clostridia;o__Clos...  k__Bacteria;p__Firmicutes;c__Clostridia;o__Clo...\n",
      "k__Bacteria;p__Firmicutes;c__Clostridia;o__Clos...  k__Bacteria;p__Firmicutes;c__Clostridia;o__Clo...\n",
      "k__Bacteria;p__Firmicutes;c__Clostridia;o__Clos...  k__Bacteria;p__Firmicutes;c__Clostridia;o__Clo...\n",
      "k__Bacteria;p__Firmicutes;c__Clostridia;o__Clos...  k__Bacteria;p__Firmicutes;c__Clostridia;o__Clo...\n",
      "k__Bacteria;p__Firmicutes;c__Clostridia;o__Clos...  k__Bacteria;p__Firmicutes;c__Clostridia;o__Clo...\n",
      "k__Bacteria;p__Firmicutes;c__Clostridia;o__Clos...  k__Bacteria;p__Firmicutes;c__Clostridia;o__Clo...\n",
      "k__Bacteria;p__Firmicutes;c__Clostridia;o__Clos...  k__Bacteria;p__Firmicutes;c__Clostridia;o__Clo...\n",
      "k__Bacteria;p__Firmicutes;c__Clostridia;o__Clos...  k__Bacteria;p__Firmicutes;c__Clostridia;o__Clo...\n",
      "k__Bacteria;p__Firmicutes;c__Clostridia;o__MBA0...  k__Bacteria;p__Firmicutes;c__Clostridia;o__MBA...\n",
      "k__Bacteria;p__Firmicutes;c__Clostridia;o__OPB5...  k__Bacteria;p__Firmicutes;c__Clostridia;o__OPB...\n",
      "k__Bacteria;p__Firmicutes;c__Clostridia;o__Ther...  k__Bacteria;p__Firmicutes;c__Clostridia;o__The...\n",
      "k__Bacteria;p__Firmicutes;c__Clostridia;o__Ther...  k__Bacteria;p__Firmicutes;c__Clostridia;o__The...\n",
      "k__Bacteria;p__Firmicutes;c__Erysipelotrichi;o_...  k__Bacteria;p__Firmicutes;c__Erysipelotrichi;o...\n",
      "k__Bacteria;p__Firmicutes;c__Erysipelotrichi;o_...  k__Bacteria;p__Firmicutes;c__Erysipelotrichi;o...\n",
      "k__Bacteria;p__Firmicutes;c__Erysipelotrichi;o_...  k__Bacteria;p__Firmicutes;c__Erysipelotrichi;o...\n",
      "k__Bacteria;p__Firmicutes;c__Erysipelotrichi;o_...  k__Bacteria;p__Firmicutes;c__Erysipelotrichi;o...\n",
      "k__Bacteria;p__Firmicutes;c__Erysipelotrichi;o_...  k__Bacteria;p__Firmicutes;c__Erysipelotrichi;o...\n",
      "k__Bacteria;p__Firmicutes;c__Erysipelotrichi;o_...  k__Bacteria;p__Firmicutes;c__Erysipelotrichi;o...\n",
      "k__Bacteria;p__Firmicutes;c__Erysipelotrichi;o_...  k__Bacteria;p__Firmicutes;c__Erysipelotrichi;o...\n",
      "k__Bacteria;p__Firmicutes;c__Erysipelotrichi;o_...  k__Bacteria;p__Firmicutes;c__Erysipelotrichi;o...\n",
      "k__Bacteria;p__Fusobacteria;c__Fusobacteriia;o_...  k__Bacteria;p__Fusobacteria;c__Fusobacteriia;o...\n",
      "k__Bacteria;p__Fusobacteria;c__Fusobacteriia;o_...  k__Bacteria;p__Fusobacteria;c__Fusobacteriia;o...\n",
      "k__Bacteria;p__Fusobacteria;c__Fusobacteriia;o_...  k__Bacteria;p__Fusobacteria;c__Fusobacteriia;o...\n",
      "k__Bacteria;p__Fusobacteria;c__Fusobacteriia;o_...  k__Bacteria;p__Fusobacteria;c__Fusobacteriia;o...\n",
      "k__Bacteria;p__GN02;c__BD1-5;o__;f__;g__                     k__Bacteria;p__GN02;c__BD1-5;o__;f__;g__\n",
      "k__Bacteria;p__Gemmatimonadetes;c__Gemm-3;o__;f...  k__Bacteria;p__Gemmatimonadetes;c__Gemm-3;o__;...\n",
      "k__Bacteria;p__Gemmatimonadetes;c__Gemmatimonad...  k__Bacteria;p__Gemmatimonadetes;c__Gemmatimona...\n",
      "k__Bacteria;p__Gemmatimonadetes;c__Gemmatimonad...  k__Bacteria;p__Gemmatimonadetes;c__Gemmatimona...\n",
      "k__Bacteria;p__Gemmatimonadetes;c__Gemmatimonad...  k__Bacteria;p__Gemmatimonadetes;c__Gemmatimona...\n",
      "k__Bacteria;p__Gemmatimonadetes;c__Gemmatimonad...  k__Bacteria;p__Gemmatimonadetes;c__Gemmatimona...\n",
      "k__Bacteria;p__OD1;c__SM2F11;o__;f__;g__                     k__Bacteria;p__OD1;c__SM2F11;o__;f__;g__\n",
      "k__Bacteria;p__OP11;c__;o__;f__;g__                               k__Bacteria;p__OP11;c__;o__;f__;g__\n",
      "k__Bacteria;p__OP11;c__OP11-2;o__WCHB1-07;f__;g__   k__Bacteria;p__OP11;c__OP11-2;o__WCHB1-07;f__;g__\n",
      "k__Bacteria;p__Planctomycetes;c__Phycisphaerae;...  k__Bacteria;p__Planctomycetes;c__Phycisphaerae...\n",
      "k__Bacteria;p__Planctomycetes;c__Phycisphaerae;...  k__Bacteria;p__Planctomycetes;c__Phycisphaerae...\n",
      "k__Bacteria;p__Planctomycetes;c__Planctomycetia...  k__Bacteria;p__Planctomycetes;c__Planctomyceti...\n",
      "k__Bacteria;p__Planctomycetes;c__Planctomycetia...  k__Bacteria;p__Planctomycetes;c__Planctomyceti...\n",
      "k__Bacteria;p__Planctomycetes;c__Planctomycetia...  k__Bacteria;p__Planctomycetes;c__Planctomyceti...\n",
      "k__Bacteria;p__Planctomycetes;c__Planctomycetia...  k__Bacteria;p__Planctomycetes;c__Planctomyceti...\n",
      "k__Bacteria;p__Planctomycetes;c__Planctomycetia...  k__Bacteria;p__Planctomycetes;c__Planctomyceti...\n",
      "k__Bacteria;p__Planctomycetes;c__vadinHA49;o__P...  k__Bacteria;p__Planctomycetes;c__vadinHA49;o__...\n",
      "k__Bacteria;p__Proteobacteria;c__;o__;f__;g__           k__Bacteria;p__Proteobacteria;c__;o__;f__;g__\n",
      "k__Bacteria;p__Proteobacteria;c__Alphaproteobac...  k__Bacteria;p__Proteobacteria;c__Alphaproteoba...\n",
      "k__Bacteria;p__Proteobacteria;c__Alphaproteobac...  k__Bacteria;p__Proteobacteria;c__Alphaproteoba...\n",
      "k__Bacteria;p__Proteobacteria;c__Alphaproteobac...  k__Bacteria;p__Proteobacteria;c__Alphaproteoba...\n",
      "k__Bacteria;p__Proteobacteria;c__Alphaproteobac...  k__Bacteria;p__Proteobacteria;c__Alphaproteoba...\n",
      "k__Bacteria;p__Proteobacteria;c__Alphaproteobac...  k__Bacteria;p__Proteobacteria;c__Alphaproteoba...\n",
      "k__Bacteria;p__Proteobacteria;c__Alphaproteobac...  k__Bacteria;p__Proteobacteria;c__Alphaproteoba...\n",
      "k__Bacteria;p__Proteobacteria;c__Alphaproteobac...  k__Bacteria;p__Proteobacteria;c__Alphaproteoba...\n",
      "k__Bacteria;p__Proteobacteria;c__Alphaproteobac...  k__Bacteria;p__Proteobacteria;c__Alphaproteoba...\n",
      "k__Bacteria;p__Proteobacteria;c__Alphaproteobac...  k__Bacteria;p__Proteobacteria;c__Alphaproteoba...\n",
      "k__Bacteria;p__Proteobacteria;c__Alphaproteobac...  k__Bacteria;p__Proteobacteria;c__Alphaproteoba...\n",
      "k__Bacteria;p__Proteobacteria;c__Alphaproteobac...  k__Bacteria;p__Proteobacteria;c__Alphaproteoba...\n",
      "k__Bacteria;p__Proteobacteria;c__Alphaproteobac...  k__Bacteria;p__Proteobacteria;c__Alphaproteoba...\n",
      "k__Bacteria;p__Proteobacteria;c__Alphaproteobac...  k__Bacteria;p__Proteobacteria;c__Alphaproteoba...\n",
      "k__Bacteria;p__Proteobacteria;c__Alphaproteobac...  k__Bacteria;p__Proteobacteria;c__Alphaproteoba...\n",
      "k__Bacteria;p__Proteobacteria;c__Alphaproteobac...  k__Bacteria;p__Proteobacteria;c__Alphaproteoba...\n",
      "k__Bacteria;p__Proteobacteria;c__Alphaproteobac...  k__Bacteria;p__Proteobacteria;c__Alphaproteoba...\n",
      "k__Bacteria;p__Proteobacteria;c__Alphaproteobac...  k__Bacteria;p__Proteobacteria;c__Alphaproteoba...\n",
      "k__Bacteria;p__Proteobacteria;c__Alphaproteobac...  k__Bacteria;p__Proteobacteria;c__Alphaproteoba...\n",
      "k__Bacteria;p__Proteobacteria;c__Alphaproteobac...  k__Bacteria;p__Proteobacteria;c__Alphaproteoba...\n",
      "k__Bacteria;p__Proteobacteria;c__Alphaproteobac...  k__Bacteria;p__Proteobacteria;c__Alphaproteoba...\n",
      "k__Bacteria;p__Proteobacteria;c__Alphaproteobac...  k__Bacteria;p__Proteobacteria;c__Alphaproteoba...\n",
      "k__Bacteria;p__Proteobacteria;c__Alphaproteobac...  k__Bacteria;p__Proteobacteria;c__Alphaproteoba...\n",
      "k__Bacteria;p__Proteobacteria;c__Alphaproteobac...  k__Bacteria;p__Proteobacteria;c__Alphaproteoba...\n",
      "k__Bacteria;p__Proteobacteria;c__Alphaproteobac...  k__Bacteria;p__Proteobacteria;c__Alphaproteoba...\n",
      "k__Bacteria;p__Proteobacteria;c__Alphaproteobac...  k__Bacteria;p__Proteobacteria;c__Alphaproteoba...\n",
      "k__Bacteria;p__Proteobacteria;c__Alphaproteobac...  k__Bacteria;p__Proteobacteria;c__Alphaproteoba...\n",
      "k__Bacteria;p__Proteobacteria;c__Alphaproteobac...  k__Bacteria;p__Proteobacteria;c__Alphaproteoba...\n",
      "k__Bacteria;p__Proteobacteria;c__Alphaproteobac...  k__Bacteria;p__Proteobacteria;c__Alphaproteoba...\n",
      "k__Bacteria;p__Proteobacteria;c__Alphaproteobac...  k__Bacteria;p__Proteobacteria;c__Alphaproteoba...\n",
      "k__Bacteria;p__Proteobacteria;c__Alphaproteobac...  k__Bacteria;p__Proteobacteria;c__Alphaproteoba...\n",
      "k__Bacteria;p__Proteobacteria;c__Alphaproteobac...  k__Bacteria;p__Proteobacteria;c__Alphaproteoba...\n",
      "k__Bacteria;p__Proteobacteria;c__Alphaproteobac...  k__Bacteria;p__Proteobacteria;c__Alphaproteoba...\n",
      "k__Bacteria;p__Proteobacteria;c__Alphaproteobac...  k__Bacteria;p__Proteobacteria;c__Alphaproteoba...\n",
      "k__Bacteria;p__Proteobacteria;c__Alphaproteobac...  k__Bacteria;p__Proteobacteria;c__Alphaproteoba...\n",
      "k__Bacteria;p__Proteobacteria;c__Alphaproteobac...  k__Bacteria;p__Proteobacteria;c__Alphaproteoba...\n",
      "k__Bacteria;p__Proteobacteria;c__Alphaproteobac...  k__Bacteria;p__Proteobacteria;c__Alphaproteoba...\n",
      "k__Bacteria;p__Proteobacteria;c__Alphaproteobac...  k__Bacteria;p__Proteobacteria;c__Alphaproteoba...\n",
      "k__Bacteria;p__Proteobacteria;c__Alphaproteobac...  k__Bacteria;p__Proteobacteria;c__Alphaproteoba...\n",
      "k__Bacteria;p__Proteobacteria;c__Alphaproteobac...  k__Bacteria;p__Proteobacteria;c__Alphaproteoba...\n",
      "k__Bacteria;p__Proteobacteria;c__Alphaproteobac...  k__Bacteria;p__Proteobacteria;c__Alphaproteoba...\n",
      "k__Bacteria;p__Proteobacteria;c__Alphaproteobac...  k__Bacteria;p__Proteobacteria;c__Alphaproteoba...\n",
      "k__Bacteria;p__Proteobacteria;c__Alphaproteobac...  k__Bacteria;p__Proteobacteria;c__Alphaproteoba...\n",
      "k__Bacteria;p__Proteobacteria;c__Alphaproteobac...  k__Bacteria;p__Proteobacteria;c__Alphaproteoba...\n",
      "k__Bacteria;p__Proteobacteria;c__Alphaproteobac...  k__Bacteria;p__Proteobacteria;c__Alphaproteoba...\n",
      "k__Bacteria;p__Proteobacteria;c__Alphaproteobac...  k__Bacteria;p__Proteobacteria;c__Alphaproteoba...\n",
      "k__Bacteria;p__Proteobacteria;c__Alphaproteobac...  k__Bacteria;p__Proteobacteria;c__Alphaproteoba...\n",
      "k__Bacteria;p__Proteobacteria;c__Alphaproteobac...  k__Bacteria;p__Proteobacteria;c__Alphaproteoba...\n",
      "k__Bacteria;p__Proteobacteria;c__Alphaproteobac...  k__Bacteria;p__Proteobacteria;c__Alphaproteoba...\n",
      "k__Bacteria;p__Proteobacteria;c__Alphaproteobac...  k__Bacteria;p__Proteobacteria;c__Alphaproteoba...\n",
      "k__Bacteria;p__Proteobacteria;c__Alphaproteobac...  k__Bacteria;p__Proteobacteria;c__Alphaproteoba...\n",
      "k__Bacteria;p__Proteobacteria;c__Alphaproteobac...  k__Bacteria;p__Proteobacteria;c__Alphaproteoba...\n",
      "k__Bacteria;p__Proteobacteria;c__Alphaproteobac...  k__Bacteria;p__Proteobacteria;c__Alphaproteoba...\n",
      "k__Bacteria;p__Proteobacteria;c__Alphaproteobac...  k__Bacteria;p__Proteobacteria;c__Alphaproteoba...\n",
      "k__Bacteria;p__Proteobacteria;c__Alphaproteobac...  k__Bacteria;p__Proteobacteria;c__Alphaproteoba...\n",
      "k__Bacteria;p__Proteobacteria;c__Alphaproteobac...  k__Bacteria;p__Proteobacteria;c__Alphaproteoba...\n",
      "k__Bacteria;p__Proteobacteria;c__Alphaproteobac...  k__Bacteria;p__Proteobacteria;c__Alphaproteoba...\n",
      "k__Bacteria;p__Proteobacteria;c__Alphaproteobac...  k__Bacteria;p__Proteobacteria;c__Alphaproteoba...\n",
      "k__Bacteria;p__Proteobacteria;c__Alphaproteobac...  k__Bacteria;p__Proteobacteria;c__Alphaproteoba...\n",
      "k__Bacteria;p__Proteobacteria;c__Alphaproteobac...  k__Bacteria;p__Proteobacteria;c__Alphaproteoba...\n",
      "k__Bacteria;p__Proteobacteria;c__Alphaproteobac...  k__Bacteria;p__Proteobacteria;c__Alphaproteoba...\n",
      "k__Bacteria;p__Proteobacteria;c__Alphaproteobac...  k__Bacteria;p__Proteobacteria;c__Alphaproteoba...\n",
      "k__Bacteria;p__Proteobacteria;c__Alphaproteobac...  k__Bacteria;p__Proteobacteria;c__Alphaproteoba...\n",
      "k__Bacteria;p__Proteobacteria;c__Alphaproteobac...  k__Bacteria;p__Proteobacteria;c__Alphaproteoba...\n",
      "k__Bacteria;p__Proteobacteria;c__Alphaproteobac...  k__Bacteria;p__Proteobacteria;c__Alphaproteoba...\n",
      "k__Bacteria;p__Proteobacteria;c__Alphaproteobac...  k__Bacteria;p__Proteobacteria;c__Alphaproteoba...\n",
      "k__Bacteria;p__Proteobacteria;c__Alphaproteobac...  k__Bacteria;p__Proteobacteria;c__Alphaproteoba...\n",
      "k__Bacteria;p__Proteobacteria;c__Alphaproteobac...  k__Bacteria;p__Proteobacteria;c__Alphaproteoba...\n",
      "k__Bacteria;p__Proteobacteria;c__Alphaproteobac...  k__Bacteria;p__Proteobacteria;c__Alphaproteoba...\n",
      "k__Bacteria;p__Proteobacteria;c__Alphaproteobac...  k__Bacteria;p__Proteobacteria;c__Alphaproteoba...\n",
      "k__Bacteria;p__Proteobacteria;c__Alphaproteobac...  k__Bacteria;p__Proteobacteria;c__Alphaproteoba...\n",
      "k__Bacteria;p__Proteobacteria;c__Alphaproteobac...  k__Bacteria;p__Proteobacteria;c__Alphaproteoba...\n",
      "k__Bacteria;p__Proteobacteria;c__Alphaproteobac...  k__Bacteria;p__Proteobacteria;c__Alphaproteoba...\n",
      "k__Bacteria;p__Proteobacteria;c__Alphaproteobac...  k__Bacteria;p__Proteobacteria;c__Alphaproteoba...\n",
      "k__Bacteria;p__Proteobacteria;c__Alphaproteobac...  k__Bacteria;p__Proteobacteria;c__Alphaproteoba...\n",
      "k__Bacteria;p__Proteobacteria;c__Alphaproteobac...  k__Bacteria;p__Proteobacteria;c__Alphaproteoba...\n",
      "k__Bacteria;p__Proteobacteria;c__Alphaproteobac...  k__Bacteria;p__Proteobacteria;c__Alphaproteoba...\n",
      "k__Bacteria;p__Proteobacteria;c__Alphaproteobac...  k__Bacteria;p__Proteobacteria;c__Alphaproteoba...\n",
      "k__Bacteria;p__Proteobacteria;c__Alphaproteobac...  k__Bacteria;p__Proteobacteria;c__Alphaproteoba...\n",
      "k__Bacteria;p__Proteobacteria;c__Alphaproteobac...  k__Bacteria;p__Proteobacteria;c__Alphaproteoba...\n",
      "k__Bacteria;p__Proteobacteria;c__Betaproteobact...  k__Bacteria;p__Proteobacteria;c__Betaproteobac...\n",
      "k__Bacteria;p__Proteobacteria;c__Betaproteobact...  k__Bacteria;p__Proteobacteria;c__Betaproteobac...\n",
      "k__Bacteria;p__Proteobacteria;c__Betaproteobact...  k__Bacteria;p__Proteobacteria;c__Betaproteobac...\n",
      "k__Bacteria;p__Proteobacteria;c__Betaproteobact...  k__Bacteria;p__Proteobacteria;c__Betaproteobac...\n",
      "k__Bacteria;p__Proteobacteria;c__Betaproteobact...  k__Bacteria;p__Proteobacteria;c__Betaproteobac...\n",
      "k__Bacteria;p__Proteobacteria;c__Betaproteobact...  k__Bacteria;p__Proteobacteria;c__Betaproteobac...\n",
      "k__Bacteria;p__Proteobacteria;c__Betaproteobact...  k__Bacteria;p__Proteobacteria;c__Betaproteobac...\n",
      "k__Bacteria;p__Proteobacteria;c__Betaproteobact...  k__Bacteria;p__Proteobacteria;c__Betaproteobac...\n",
      "k__Bacteria;p__Proteobacteria;c__Betaproteobact...  k__Bacteria;p__Proteobacteria;c__Betaproteobac...\n",
      "k__Bacteria;p__Proteobacteria;c__Betaproteobact...  k__Bacteria;p__Proteobacteria;c__Betaproteobac...\n",
      "k__Bacteria;p__Proteobacteria;c__Betaproteobact...  k__Bacteria;p__Proteobacteria;c__Betaproteobac...\n",
      "k__Bacteria;p__Proteobacteria;c__Betaproteobact...  k__Bacteria;p__Proteobacteria;c__Betaproteobac...\n",
      "k__Bacteria;p__Proteobacteria;c__Betaproteobact...  k__Bacteria;p__Proteobacteria;c__Betaproteobac...\n",
      "k__Bacteria;p__Proteobacteria;c__Betaproteobact...  k__Bacteria;p__Proteobacteria;c__Betaproteobac...\n",
      "k__Bacteria;p__Proteobacteria;c__Betaproteobact...  k__Bacteria;p__Proteobacteria;c__Betaproteobac...\n",
      "k__Bacteria;p__Proteobacteria;c__Betaproteobact...  k__Bacteria;p__Proteobacteria;c__Betaproteobac...\n",
      "k__Bacteria;p__Proteobacteria;c__Betaproteobact...  k__Bacteria;p__Proteobacteria;c__Betaproteobac...\n",
      "k__Bacteria;p__Proteobacteria;c__Betaproteobact...  k__Bacteria;p__Proteobacteria;c__Betaproteobac...\n",
      "k__Bacteria;p__Proteobacteria;c__Betaproteobact...  k__Bacteria;p__Proteobacteria;c__Betaproteobac...\n",
      "k__Bacteria;p__Proteobacteria;c__Betaproteobact...  k__Bacteria;p__Proteobacteria;c__Betaproteobac...\n",
      "k__Bacteria;p__Proteobacteria;c__Betaproteobact...  k__Bacteria;p__Proteobacteria;c__Betaproteobac...\n",
      "k__Bacteria;p__Proteobacteria;c__Betaproteobact...  k__Bacteria;p__Proteobacteria;c__Betaproteobac...\n",
      "k__Bacteria;p__Proteobacteria;c__Betaproteobact...  k__Bacteria;p__Proteobacteria;c__Betaproteobac...\n",
      "k__Bacteria;p__Proteobacteria;c__Betaproteobact...  k__Bacteria;p__Proteobacteria;c__Betaproteobac...\n",
      "k__Bacteria;p__Proteobacteria;c__Betaproteobact...  k__Bacteria;p__Proteobacteria;c__Betaproteobac...\n",
      "k__Bacteria;p__Proteobacteria;c__Betaproteobact...  k__Bacteria;p__Proteobacteria;c__Betaproteobac...\n",
      "k__Bacteria;p__Proteobacteria;c__Betaproteobact...  k__Bacteria;p__Proteobacteria;c__Betaproteobac...\n",
      "k__Bacteria;p__Proteobacteria;c__Betaproteobact...  k__Bacteria;p__Proteobacteria;c__Betaproteobac...\n",
      "k__Bacteria;p__Proteobacteria;c__Betaproteobact...  k__Bacteria;p__Proteobacteria;c__Betaproteobac...\n",
      "k__Bacteria;p__Proteobacteria;c__Betaproteobact...  k__Bacteria;p__Proteobacteria;c__Betaproteobac...\n",
      "k__Bacteria;p__Proteobacteria;c__Betaproteobact...  k__Bacteria;p__Proteobacteria;c__Betaproteobac...\n",
      "k__Bacteria;p__Proteobacteria;c__Betaproteobact...  k__Bacteria;p__Proteobacteria;c__Betaproteobac...\n",
      "k__Bacteria;p__Proteobacteria;c__Betaproteobact...  k__Bacteria;p__Proteobacteria;c__Betaproteobac...\n",
      "k__Bacteria;p__Proteobacteria;c__Betaproteobact...  k__Bacteria;p__Proteobacteria;c__Betaproteobac...\n",
      "k__Bacteria;p__Proteobacteria;c__Betaproteobact...  k__Bacteria;p__Proteobacteria;c__Betaproteobac...\n",
      "k__Bacteria;p__Proteobacteria;c__Betaproteobact...  k__Bacteria;p__Proteobacteria;c__Betaproteobac...\n",
      "k__Bacteria;p__Proteobacteria;c__Betaproteobact...  k__Bacteria;p__Proteobacteria;c__Betaproteobac...\n",
      "k__Bacteria;p__Proteobacteria;c__Betaproteobact...  k__Bacteria;p__Proteobacteria;c__Betaproteobac...\n",
      "k__Bacteria;p__Proteobacteria;c__Betaproteobact...  k__Bacteria;p__Proteobacteria;c__Betaproteobac...\n",
      "k__Bacteria;p__Proteobacteria;c__Betaproteobact...  k__Bacteria;p__Proteobacteria;c__Betaproteobac...\n",
      "k__Bacteria;p__Proteobacteria;c__Betaproteobact...  k__Bacteria;p__Proteobacteria;c__Betaproteobac...\n",
      "k__Bacteria;p__Proteobacteria;c__Betaproteobact...  k__Bacteria;p__Proteobacteria;c__Betaproteobac...\n",
      "k__Bacteria;p__Proteobacteria;c__Betaproteobact...  k__Bacteria;p__Proteobacteria;c__Betaproteobac...\n",
      "k__Bacteria;p__Proteobacteria;c__Betaproteobact...  k__Bacteria;p__Proteobacteria;c__Betaproteobac...\n",
      "k__Bacteria;p__Proteobacteria;c__Betaproteobact...  k__Bacteria;p__Proteobacteria;c__Betaproteobac...\n",
      "k__Bacteria;p__Proteobacteria;c__Betaproteobact...  k__Bacteria;p__Proteobacteria;c__Betaproteobac...\n",
      "k__Bacteria;p__Proteobacteria;c__Betaproteobact...  k__Bacteria;p__Proteobacteria;c__Betaproteobac...\n",
      "k__Bacteria;p__Proteobacteria;c__Betaproteobact...  k__Bacteria;p__Proteobacteria;c__Betaproteobac...\n",
      "k__Bacteria;p__Proteobacteria;c__Betaproteobact...  k__Bacteria;p__Proteobacteria;c__Betaproteobac...\n",
      "k__Bacteria;p__Proteobacteria;c__Betaproteobact...  k__Bacteria;p__Proteobacteria;c__Betaproteobac...\n",
      "k__Bacteria;p__Proteobacteria;c__Betaproteobact...  k__Bacteria;p__Proteobacteria;c__Betaproteobac...\n",
      "k__Bacteria;p__Proteobacteria;c__Betaproteobact...  k__Bacteria;p__Proteobacteria;c__Betaproteobac...\n",
      "k__Bacteria;p__Proteobacteria;c__Betaproteobact...  k__Bacteria;p__Proteobacteria;c__Betaproteobac...\n",
      "k__Bacteria;p__Proteobacteria;c__Betaproteobact...  k__Bacteria;p__Proteobacteria;c__Betaproteobac...\n",
      "k__Bacteria;p__Proteobacteria;c__Betaproteobact...  k__Bacteria;p__Proteobacteria;c__Betaproteobac...\n",
      "k__Bacteria;p__Proteobacteria;c__Betaproteobact...  k__Bacteria;p__Proteobacteria;c__Betaproteobac...\n",
      "k__Bacteria;p__Proteobacteria;c__Betaproteobact...  k__Bacteria;p__Proteobacteria;c__Betaproteobac...\n",
      "k__Bacteria;p__Proteobacteria;c__Betaproteobact...  k__Bacteria;p__Proteobacteria;c__Betaproteobac...\n",
      "k__Bacteria;p__Proteobacteria;c__Betaproteobact...  k__Bacteria;p__Proteobacteria;c__Betaproteobac...\n",
      "k__Bacteria;p__Proteobacteria;c__Deltaproteobac...  k__Bacteria;p__Proteobacteria;c__Deltaproteoba...\n",
      "k__Bacteria;p__Proteobacteria;c__Deltaproteobac...  k__Bacteria;p__Proteobacteria;c__Deltaproteoba...\n",
      "k__Bacteria;p__Proteobacteria;c__Deltaproteobac...  k__Bacteria;p__Proteobacteria;c__Deltaproteoba...\n",
      "k__Bacteria;p__Proteobacteria;c__Deltaproteobac...  k__Bacteria;p__Proteobacteria;c__Deltaproteoba...\n",
      "k__Bacteria;p__Proteobacteria;c__Deltaproteobac...  k__Bacteria;p__Proteobacteria;c__Deltaproteoba...\n",
      "k__Bacteria;p__Proteobacteria;c__Deltaproteobac...  k__Bacteria;p__Proteobacteria;c__Deltaproteoba...\n",
      "k__Bacteria;p__Proteobacteria;c__Deltaproteobac...  k__Bacteria;p__Proteobacteria;c__Deltaproteoba...\n",
      "k__Bacteria;p__Proteobacteria;c__Deltaproteobac...  k__Bacteria;p__Proteobacteria;c__Deltaproteoba...\n",
      "k__Bacteria;p__Proteobacteria;c__Deltaproteobac...  k__Bacteria;p__Proteobacteria;c__Deltaproteoba...\n",
      "k__Bacteria;p__Proteobacteria;c__Deltaproteobac...  k__Bacteria;p__Proteobacteria;c__Deltaproteoba...\n",
      "k__Bacteria;p__Proteobacteria;c__Deltaproteobac...  k__Bacteria;p__Proteobacteria;c__Deltaproteoba...\n",
      "k__Bacteria;p__Proteobacteria;c__Deltaproteobac...  k__Bacteria;p__Proteobacteria;c__Deltaproteoba...\n",
      "k__Bacteria;p__Proteobacteria;c__Deltaproteobac...  k__Bacteria;p__Proteobacteria;c__Deltaproteoba...\n",
      "k__Bacteria;p__Proteobacteria;c__Deltaproteobac...  k__Bacteria;p__Proteobacteria;c__Deltaproteoba...\n",
      "k__Bacteria;p__Proteobacteria;c__Deltaproteobac...  k__Bacteria;p__Proteobacteria;c__Deltaproteoba...\n",
      "k__Bacteria;p__Proteobacteria;c__Deltaproteobac...  k__Bacteria;p__Proteobacteria;c__Deltaproteoba...\n",
      "k__Bacteria;p__Proteobacteria;c__Deltaproteobac...  k__Bacteria;p__Proteobacteria;c__Deltaproteoba...\n",
      "k__Bacteria;p__Proteobacteria;c__Deltaproteobac...  k__Bacteria;p__Proteobacteria;c__Deltaproteoba...\n",
      "k__Bacteria;p__Proteobacteria;c__Deltaproteobac...  k__Bacteria;p__Proteobacteria;c__Deltaproteoba...\n",
      "k__Bacteria;p__Proteobacteria;c__Deltaproteobac...  k__Bacteria;p__Proteobacteria;c__Deltaproteoba...\n",
      "k__Bacteria;p__Proteobacteria;c__Epsilonproteob...  k__Bacteria;p__Proteobacteria;c__Epsilonproteo...\n",
      "k__Bacteria;p__Proteobacteria;c__Epsilonproteob...  k__Bacteria;p__Proteobacteria;c__Epsilonproteo...\n",
      "k__Bacteria;p__Proteobacteria;c__Gammaproteobac...  k__Bacteria;p__Proteobacteria;c__Gammaproteoba...\n",
      "k__Bacteria;p__Proteobacteria;c__Gammaproteobac...  k__Bacteria;p__Proteobacteria;c__Gammaproteoba...\n",
      "k__Bacteria;p__Proteobacteria;c__Gammaproteobac...  k__Bacteria;p__Proteobacteria;c__Gammaproteoba...\n",
      "k__Bacteria;p__Proteobacteria;c__Gammaproteobac...  k__Bacteria;p__Proteobacteria;c__Gammaproteoba...\n",
      "k__Bacteria;p__Proteobacteria;c__Gammaproteobac...  k__Bacteria;p__Proteobacteria;c__Gammaproteoba...\n",
      "k__Bacteria;p__Proteobacteria;c__Gammaproteobac...  k__Bacteria;p__Proteobacteria;c__Gammaproteoba...\n",
      "k__Bacteria;p__Proteobacteria;c__Gammaproteobac...  k__Bacteria;p__Proteobacteria;c__Gammaproteoba...\n",
      "k__Bacteria;p__Proteobacteria;c__Gammaproteobac...  k__Bacteria;p__Proteobacteria;c__Gammaproteoba...\n",
      "k__Bacteria;p__Proteobacteria;c__Gammaproteobac...  k__Bacteria;p__Proteobacteria;c__Gammaproteoba...\n",
      "k__Bacteria;p__Proteobacteria;c__Gammaproteobac...  k__Bacteria;p__Proteobacteria;c__Gammaproteoba...\n",
      "k__Bacteria;p__Proteobacteria;c__Gammaproteobac...  k__Bacteria;p__Proteobacteria;c__Gammaproteoba...\n",
      "k__Bacteria;p__Proteobacteria;c__Gammaproteobac...  k__Bacteria;p__Proteobacteria;c__Gammaproteoba...\n",
      "k__Bacteria;p__Proteobacteria;c__Gammaproteobac...  k__Bacteria;p__Proteobacteria;c__Gammaproteoba...\n",
      "k__Bacteria;p__Proteobacteria;c__Gammaproteobac...  k__Bacteria;p__Proteobacteria;c__Gammaproteoba...\n",
      "k__Bacteria;p__Proteobacteria;c__Gammaproteobac...  k__Bacteria;p__Proteobacteria;c__Gammaproteoba...\n",
      "k__Bacteria;p__Proteobacteria;c__Gammaproteobac...  k__Bacteria;p__Proteobacteria;c__Gammaproteoba...\n",
      "k__Bacteria;p__Proteobacteria;c__Gammaproteobac...  k__Bacteria;p__Proteobacteria;c__Gammaproteoba...\n",
      "k__Bacteria;p__Proteobacteria;c__Gammaproteobac...  k__Bacteria;p__Proteobacteria;c__Gammaproteoba...\n",
      "k__Bacteria;p__Proteobacteria;c__Gammaproteobac...  k__Bacteria;p__Proteobacteria;c__Gammaproteoba...\n",
      "k__Bacteria;p__Proteobacteria;c__Gammaproteobac...  k__Bacteria;p__Proteobacteria;c__Gammaproteoba...\n",
      "k__Bacteria;p__Proteobacteria;c__Gammaproteobac...  k__Bacteria;p__Proteobacteria;c__Gammaproteoba...\n",
      "k__Bacteria;p__Proteobacteria;c__Gammaproteobac...  k__Bacteria;p__Proteobacteria;c__Gammaproteoba...\n",
      "k__Bacteria;p__Proteobacteria;c__Gammaproteobac...  k__Bacteria;p__Proteobacteria;c__Gammaproteoba...\n",
      "k__Bacteria;p__Proteobacteria;c__Gammaproteobac...  k__Bacteria;p__Proteobacteria;c__Gammaproteoba...\n",
      "k__Bacteria;p__Proteobacteria;c__Gammaproteobac...  k__Bacteria;p__Proteobacteria;c__Gammaproteoba...\n",
      "k__Bacteria;p__Proteobacteria;c__Gammaproteobac...  k__Bacteria;p__Proteobacteria;c__Gammaproteoba...\n",
      "k__Bacteria;p__Proteobacteria;c__Gammaproteobac...  k__Bacteria;p__Proteobacteria;c__Gammaproteoba...\n",
      "k__Bacteria;p__Proteobacteria;c__Gammaproteobac...  k__Bacteria;p__Proteobacteria;c__Gammaproteoba...\n",
      "k__Bacteria;p__Proteobacteria;c__Gammaproteobac...  k__Bacteria;p__Proteobacteria;c__Gammaproteoba...\n",
      "k__Bacteria;p__Proteobacteria;c__Gammaproteobac...  k__Bacteria;p__Proteobacteria;c__Gammaproteoba...\n",
      "k__Bacteria;p__Proteobacteria;c__Gammaproteobac...  k__Bacteria;p__Proteobacteria;c__Gammaproteoba...\n",
      "k__Bacteria;p__Proteobacteria;c__Gammaproteobac...  k__Bacteria;p__Proteobacteria;c__Gammaproteoba...\n",
      "k__Bacteria;p__Proteobacteria;c__Gammaproteobac...  k__Bacteria;p__Proteobacteria;c__Gammaproteoba...\n",
      "k__Bacteria;p__Proteobacteria;c__Gammaproteobac...  k__Bacteria;p__Proteobacteria;c__Gammaproteoba...\n",
      "k__Bacteria;p__Proteobacteria;c__Gammaproteobac...  k__Bacteria;p__Proteobacteria;c__Gammaproteoba...\n",
      "k__Bacteria;p__Proteobacteria;c__Gammaproteobac...  k__Bacteria;p__Proteobacteria;c__Gammaproteoba...\n",
      "k__Bacteria;p__Proteobacteria;c__Gammaproteobac...  k__Bacteria;p__Proteobacteria;c__Gammaproteoba...\n",
      "k__Bacteria;p__Proteobacteria;c__Gammaproteobac...  k__Bacteria;p__Proteobacteria;c__Gammaproteoba...\n",
      "k__Bacteria;p__Proteobacteria;c__Gammaproteobac...  k__Bacteria;p__Proteobacteria;c__Gammaproteoba...\n",
      "k__Bacteria;p__Proteobacteria;c__Gammaproteobac...  k__Bacteria;p__Proteobacteria;c__Gammaproteoba...\n",
      "k__Bacteria;p__Proteobacteria;c__Gammaproteobac...  k__Bacteria;p__Proteobacteria;c__Gammaproteoba...\n",
      "k__Bacteria;p__Proteobacteria;c__Gammaproteobac...  k__Bacteria;p__Proteobacteria;c__Gammaproteoba...\n",
      "k__Bacteria;p__Proteobacteria;c__Gammaproteobac...  k__Bacteria;p__Proteobacteria;c__Gammaproteoba...\n",
      "k__Bacteria;p__Proteobacteria;c__Gammaproteobac...  k__Bacteria;p__Proteobacteria;c__Gammaproteoba...\n",
      "k__Bacteria;p__Proteobacteria;c__Gammaproteobac...  k__Bacteria;p__Proteobacteria;c__Gammaproteoba...\n",
      "k__Bacteria;p__Proteobacteria;c__Gammaproteobac...  k__Bacteria;p__Proteobacteria;c__Gammaproteoba...\n",
      "k__Bacteria;p__Proteobacteria;c__Gammaproteobac...  k__Bacteria;p__Proteobacteria;c__Gammaproteoba...\n",
      "k__Bacteria;p__Proteobacteria;c__Gammaproteobac...  k__Bacteria;p__Proteobacteria;c__Gammaproteoba...\n",
      "k__Bacteria;p__Proteobacteria;c__Gammaproteobac...  k__Bacteria;p__Proteobacteria;c__Gammaproteoba...\n",
      "k__Bacteria;p__Proteobacteria;c__Gammaproteobac...  k__Bacteria;p__Proteobacteria;c__Gammaproteoba...\n",
      "k__Bacteria;p__Proteobacteria;c__Gammaproteobac...  k__Bacteria;p__Proteobacteria;c__Gammaproteoba...\n",
      "k__Bacteria;p__Proteobacteria;c__Gammaproteobac...  k__Bacteria;p__Proteobacteria;c__Gammaproteoba...\n",
      "k__Bacteria;p__Proteobacteria;c__Gammaproteobac...  k__Bacteria;p__Proteobacteria;c__Gammaproteoba...\n",
      "k__Bacteria;p__Proteobacteria;c__Gammaproteobac...  k__Bacteria;p__Proteobacteria;c__Gammaproteoba...\n",
      "k__Bacteria;p__Proteobacteria;c__Gammaproteobac...  k__Bacteria;p__Proteobacteria;c__Gammaproteoba...\n",
      "k__Bacteria;p__Proteobacteria;c__Gammaproteobac...  k__Bacteria;p__Proteobacteria;c__Gammaproteoba...\n",
      "k__Bacteria;p__Proteobacteria;c__Gammaproteobac...  k__Bacteria;p__Proteobacteria;c__Gammaproteoba...\n",
      "k__Bacteria;p__Proteobacteria;c__Gammaproteobac...  k__Bacteria;p__Proteobacteria;c__Gammaproteoba...\n",
      "k__Bacteria;p__Proteobacteria;c__Gammaproteobac...  k__Bacteria;p__Proteobacteria;c__Gammaproteoba...\n",
      "k__Bacteria;p__Proteobacteria;c__Gammaproteobac...  k__Bacteria;p__Proteobacteria;c__Gammaproteoba...\n",
      "k__Bacteria;p__Proteobacteria;c__Gammaproteobac...  k__Bacteria;p__Proteobacteria;c__Gammaproteoba...\n",
      "k__Bacteria;p__Proteobacteria;c__Gammaproteobac...  k__Bacteria;p__Proteobacteria;c__Gammaproteoba...\n",
      "k__Bacteria;p__Proteobacteria;c__Gammaproteobac...  k__Bacteria;p__Proteobacteria;c__Gammaproteoba...\n",
      "k__Bacteria;p__Proteobacteria;c__Gammaproteobac...  k__Bacteria;p__Proteobacteria;c__Gammaproteoba...\n",
      "k__Bacteria;p__Proteobacteria;c__Gammaproteobac...  k__Bacteria;p__Proteobacteria;c__Gammaproteoba...\n",
      "k__Bacteria;p__Proteobacteria;c__Gammaproteobac...  k__Bacteria;p__Proteobacteria;c__Gammaproteoba...\n",
      "k__Bacteria;p__Proteobacteria;c__Gammaproteobac...  k__Bacteria;p__Proteobacteria;c__Gammaproteoba...\n",
      "k__Bacteria;p__Proteobacteria;c__Gammaproteobac...  k__Bacteria;p__Proteobacteria;c__Gammaproteoba...\n",
      "k__Bacteria;p__Proteobacteria;c__Gammaproteobac...  k__Bacteria;p__Proteobacteria;c__Gammaproteoba...\n",
      "k__Bacteria;p__Proteobacteria;c__Gammaproteobac...  k__Bacteria;p__Proteobacteria;c__Gammaproteoba...\n",
      "k__Bacteria;p__Spirochaetes;c__Spirochaetes;o__...  k__Bacteria;p__Spirochaetes;c__Spirochaetes;o_...\n",
      "k__Bacteria;p__Spirochaetes;c__Spirochaetes;o__...  k__Bacteria;p__Spirochaetes;c__Spirochaetes;o_...\n",
      "k__Bacteria;p__Synergistetes;c__Synergistia;o__...  k__Bacteria;p__Synergistetes;c__Synergistia;o_...\n",
      "k__Bacteria;p__Synergistetes;c__Synergistia;o__...  k__Bacteria;p__Synergistetes;c__Synergistia;o_...\n",
      "k__Bacteria;p__TM6;c__SJA-4;o__;f__;g__                       k__Bacteria;p__TM6;c__SJA-4;o__;f__;g__\n",
      "k__Bacteria;p__TM7;c__;o__;f__;g__                                 k__Bacteria;p__TM7;c__;o__;f__;g__\n",
      "k__Bacteria;p__TM7;c__TM7-1;o__;f__;g__                       k__Bacteria;p__TM7;c__TM7-1;o__;f__;g__\n",
      "k__Bacteria;p__TM7;c__TM7-3;o__;f__;g__                       k__Bacteria;p__TM7;c__TM7-3;o__;f__;g__\n",
      "k__Bacteria;p__TM7;c__TM7-3;o__I025;f__;g__               k__Bacteria;p__TM7;c__TM7-3;o__I025;f__;g__\n",
      "k__Bacteria;p__Tenericutes;c__Mollicutes;o__Ach...  k__Bacteria;p__Tenericutes;c__Mollicutes;o__Ac...\n",
      "k__Bacteria;p__Tenericutes;c__Mollicutes;o__Ach...  k__Bacteria;p__Tenericutes;c__Mollicutes;o__Ac...\n",
      "k__Bacteria;p__Tenericutes;c__Mollicutes;o__Ana...  k__Bacteria;p__Tenericutes;c__Mollicutes;o__An...\n",
      "k__Bacteria;p__Tenericutes;c__Mollicutes;o__Ana...  k__Bacteria;p__Tenericutes;c__Mollicutes;o__An...\n",
      "k__Bacteria;p__Tenericutes;c__Mollicutes;o__Ent...  k__Bacteria;p__Tenericutes;c__Mollicutes;o__En...\n",
      "k__Bacteria;p__Tenericutes;c__Mollicutes;o__RF3...  k__Bacteria;p__Tenericutes;c__Mollicutes;o__RF...\n",
      "k__Bacteria;p__Verrucomicrobia;c__Opitutae;o__;...  k__Bacteria;p__Verrucomicrobia;c__Opitutae;o__...\n",
      "k__Bacteria;p__Verrucomicrobia;c__Opitutae;o__O...  k__Bacteria;p__Verrucomicrobia;c__Opitutae;o__...\n",
      "k__Bacteria;p__Verrucomicrobia;c__Opitutae;o__O...  k__Bacteria;p__Verrucomicrobia;c__Opitutae;o__...\n",
      "k__Bacteria;p__Verrucomicrobia;c__Opitutae;o__P...  k__Bacteria;p__Verrucomicrobia;c__Opitutae;o__...\n",
      "k__Bacteria;p__Verrucomicrobia;c__Opitutae;o__[...  k__Bacteria;p__Verrucomicrobia;c__Opitutae;o__...\n",
      "k__Bacteria;p__Verrucomicrobia;c__Verrucomicrob...  k__Bacteria;p__Verrucomicrobia;c__Verrucomicro...\n",
      "k__Bacteria;p__Verrucomicrobia;c__Verrucomicrob...  k__Bacteria;p__Verrucomicrobia;c__Verrucomicro...\n",
      "k__Bacteria;p__Verrucomicrobia;c__Verrucomicrob...  k__Bacteria;p__Verrucomicrobia;c__Verrucomicro...\n",
      "k__Bacteria;p__Verrucomicrobia;c__Verrucomicrob...  k__Bacteria;p__Verrucomicrobia;c__Verrucomicro...\n",
      "k__Bacteria;p__Verrucomicrobia;c__[Spartobacter...  k__Bacteria;p__Verrucomicrobia;c__[Spartobacte...\n",
      "k__Bacteria;p__Verrucomicrobia;c__[Spartobacter...  k__Bacteria;p__Verrucomicrobia;c__[Spartobacte...\n",
      "k__Bacteria;p__Verrucomicrobia;c__[Spartobacter...  k__Bacteria;p__Verrucomicrobia;c__[Spartobacte...\n",
      "k__Bacteria;p__Verrucomicrobia;c__[Spartobacter...  k__Bacteria;p__Verrucomicrobia;c__[Spartobacte...\n",
      "k__Bacteria;p__Verrucomicrobia;c__[Spartobacter...  k__Bacteria;p__Verrucomicrobia;c__[Spartobacte...\n",
      "k__Bacteria;p__Verrucomicrobia;c__[Spartobacter...  k__Bacteria;p__Verrucomicrobia;c__[Spartobacte...\n",
      "k__Bacteria;p__WPS-2;c__;o__;f__;g__                             k__Bacteria;p__WPS-2;c__;o__;f__;g__\n",
      "k__Bacteria;p__[Thermi];c__Deinococci;o__Deinoc...  k__Bacteria;p__[Thermi];c__Deinococci;o__Deino...\n",
      "k__Bacteria;p__[Thermi];c__Deinococci;o__Deinoc...  k__Bacteria;p__[Thermi];c__Deinococci;o__Deino...\n",
      "k__Bacteria;p__[Thermi];c__Deinococci;o__Therma...  k__Bacteria;p__[Thermi];c__Deinococci;o__Therm...\n",
      "k__Bacteria;p__[Thermi];c__Deinococci;o__Therma...  k__Bacteria;p__[Thermi];c__Deinococci;o__Therm...\n"
     ]
    }
   ],
   "source": [
    "print(Summer_L6.feature_metadata)"
   ]
  },
  {
   "cell_type": "markdown",
   "metadata": {},
   "source": [
    "## Summer L6 modeling"
   ]
  },
  {
   "cell_type": "code",
   "execution_count": 29,
   "metadata": {},
   "outputs": [],
   "source": [
    "# groupKfold = 3, will leave out one body for each spring model\n",
    "gkf = GroupKFold(3)\n",
    "\n",
    "X = Summer_L6.data\n",
    "y = Summer_L6.sample_metadata['ADD_0']\n",
    "y = (y.astype(float))\n",
    "\n",
    "groups = Summer_L6.sample_metadata['host_subject_id']\n",
    "\n",
    "# used to test the param grid for parameter tuning\n",
    "# use the output of this estimator below for input into new estimator (not commented out)\n",
    "param_grid = {\"max_depth\": [4, 8, 16, None],\n",
    "              \"max_features\": ['sqrt', 'log2', 0.1],\n",
    "              \"min_samples_split\": [0.001, 0.01, 0.1],\n",
    "              \"min_weight_fraction_leaf\": [0.0001, 0.001, 0.01],\n",
    "              \"bootstrap\": [True, False]}\n",
    "\n",
    "#param_grid = {\"max_depth\": [8],\n",
    "#          \"max_features\": [0.1],\n",
    "#          \"min_samples_split\": [0.001],\n",
    "#          \"min_weight_fraction_leaf\": [0.0001],\n",
    "#          \"bootstrap\": [False]}\n",
    "\n",
    "rf = RandomForestRegressor(n_estimators=1000, random_state=999, criterion='mae')\n",
    "gs = GridSearchCV(rf, param_grid=param_grid, cv=gkf.split(X, y, groups), scoring='neg_mean_absolute_error', n_jobs=1)"
   ]
  },
  {
   "cell_type": "code",
   "execution_count": 30,
   "metadata": {},
   "outputs": [
    {
     "data": {
      "text/plain": [
       "GridSearchCV(cv=<generator object _BaseKFold.split at 0x1191828d0>,\n",
       "             error_score=nan,\n",
       "             estimator=RandomForestRegressor(bootstrap=True, ccp_alpha=0.0,\n",
       "                                             criterion='mae', max_depth=None,\n",
       "                                             max_features='auto',\n",
       "                                             max_leaf_nodes=None,\n",
       "                                             max_samples=None,\n",
       "                                             min_impurity_decrease=0.0,\n",
       "                                             min_impurity_split=None,\n",
       "                                             min_samples_leaf=1,\n",
       "                                             min_samples_split=2,\n",
       "                                             min_weight_fraction_leaf=0.0,\n",
       "                                             n_es...\n",
       "                                             oob_score=False, random_state=999,\n",
       "                                             verbose=0, warm_start=False),\n",
       "             iid='deprecated', n_jobs=1,\n",
       "             param_grid={'bootstrap': [True, False],\n",
       "                         'max_depth': [4, 8, 16, None],\n",
       "                         'max_features': ['sqrt', 'log2', 0.1],\n",
       "                         'min_samples_split': [0.001, 0.01, 0.1],\n",
       "                         'min_weight_fraction_leaf': [0.0001, 0.001, 0.01]},\n",
       "             pre_dispatch='2*n_jobs', refit=True, return_train_score=False,\n",
       "             scoring='neg_mean_absolute_error', verbose=0)"
      ]
     },
     "execution_count": 30,
     "metadata": {},
     "output_type": "execute_result"
    }
   ],
   "source": [
    "gs.fit(X, y)"
   ]
  },
  {
   "cell_type": "code",
   "execution_count": 31,
   "metadata": {},
   "outputs": [
    {
     "name": "stdout",
     "output_type": "stream",
     "text": [
      "{'bootstrap': False, 'max_depth': 8, 'max_features': 'log2', 'min_samples_split': 0.001, 'min_weight_fraction_leaf': 0.0001}\n"
     ]
    }
   ],
   "source": [
    "# this line is used when run with the first param grid to determine what the best parameters are for tuning\n",
    "print(gs.best_params_)"
   ]
  },
  {
   "cell_type": "code",
   "execution_count": 32,
   "metadata": {},
   "outputs": [
    {
     "name": "stdout",
     "output_type": "stream",
     "text": [
      "The best mean absolute error is 746.9\n"
     ]
    }
   ],
   "source": [
    "print('The best mean absolute error is', round(-gs.best_score_,2))"
   ]
  },
  {
   "cell_type": "code",
   "execution_count": 33,
   "metadata": {},
   "outputs": [
    {
     "data": {
      "text/plain": [
       "['models/bone_summer_L6_no_metadata.pkl']"
      ]
     },
     "execution_count": 33,
     "metadata": {},
     "output_type": "execute_result"
    }
   ],
   "source": [
    "joblib.dump(gs.best_estimator_, 'models/bone_summer_L6_no_metadata.pkl')"
   ]
  },
  {
   "cell_type": "code",
   "execution_count": 34,
   "metadata": {},
   "outputs": [
    {
     "data": {
      "text/plain": [
       "RandomForestRegressor(bootstrap=False, ccp_alpha=0.0, criterion='mae',\n",
       "                      max_depth=8, max_features='log2', max_leaf_nodes=None,\n",
       "                      max_samples=None, min_impurity_decrease=0.0,\n",
       "                      min_impurity_split=None, min_samples_leaf=1,\n",
       "                      min_samples_split=0.001, min_weight_fraction_leaf=0.0001,\n",
       "                      n_estimators=1000, n_jobs=None, oob_score=False,\n",
       "                      random_state=999, verbose=0, warm_start=False)"
      ]
     },
     "execution_count": 34,
     "metadata": {},
     "output_type": "execute_result"
    }
   ],
   "source": [
    "bone_summer_L6 = joblib.load('models/bone_summer_L6_no_metadata.pkl')\n",
    "bone_summer_L6"
   ]
  },
  {
   "cell_type": "markdown",
   "metadata": {},
   "source": [
    "## Determine important features of summer L6 model"
   ]
  },
  {
   "cell_type": "code",
   "execution_count": 36,
   "metadata": {},
   "outputs": [
    {
     "name": "stdout",
     "output_type": "stream",
     "text": [
      "Feature:\t\t\t\tImportance:\n",
      "1. k__Bacteria;p__Proteobacteria;c__Alphaproteobacteria;o__Sphingomonadales;f__Sphingomonadaceae;g__Sphingopyxis\t0.015543256801390555\n",
      "2. k__Bacteria;p__Proteobacteria;c__Alphaproteobacteria;o__Rhodospirillales;f__Acetobacteraceae;g__Roseococcus\t0.014459423040839732\n",
      "3. k__Bacteria;p__Proteobacteria;c__Alphaproteobacteria;o__Rhizobiales;f__Hyphomicrobiaceae;g__Devosia\t0.014338026511348944\n",
      "4. k__Bacteria;p__Actinobacteria;c__Actinobacteria;o__Actinomycetales;f__Nocardiaceae;g__Rhodococcus\t0.01431141340706443\n",
      "5. k__Bacteria;p__Verrucomicrobia;c__[Spartobacteria];o__[Chthoniobacterales];f__[Chthoniobacteraceae];g__heteroC45_4W\t0.013042476480571035\n",
      "6. k__Bacteria;p__Proteobacteria;c__Alphaproteobacteria;o__Rhizobiales;f__Phyllobacteriaceae;g__\t0.012928112667276654\n",
      "7. k__Bacteria;p__Actinobacteria;c__Thermoleophilia;o__Solirubrobacterales;f__;g__\t0.01272176938404155\n",
      "8. k__Bacteria;p__Proteobacteria;c__Alphaproteobacteria;o__Rhizobiales;f__Phyllobacteriaceae;g__Defluvibacter\t0.012657228442170695\n",
      "9. k__Bacteria;p__Actinobacteria;c__Actinobacteria;o__Actinomycetales;f__Nocardioidaceae;g__Aeromicrobium\t0.010847332069375125\n",
      "10. k__Bacteria;p__Proteobacteria;c__Alphaproteobacteria;o__Caulobacterales;f__Caulobacteraceae;g__\t0.01084095834273149\n",
      "11. k__Bacteria;p__Proteobacteria;c__Alphaproteobacteria;o__Sphingomonadales;f__Sphingomonadaceae;g__Sphingomonas\t0.010626186508363882\n",
      "12. k__Bacteria;p__Firmicutes;c__Clostridia;o__Clostridiales;f__[Tissierellaceae];g__Helcococcus\t0.01061887707213534\n",
      "13. k__Bacteria;p__Actinobacteria;c__Acidimicrobiia;o__Acidimicrobiales;f__;g__\t0.010517256712216266\n",
      "14. k__Bacteria;p__Actinobacteria;c__Actinobacteria;o__Actinomycetales;f__Intrasporangiaceae;g__Phycicoccus\t0.01016375405381325\n",
      "15. k__Bacteria;p__Bacteroidetes;c__[Saprospirae];o__[Saprospirales];f__Chitinophagaceae;g__Chitinophaga\t0.009966042972742175\n",
      "16. k__Bacteria;p__Proteobacteria;c__Alphaproteobacteria;o__Rhizobiales;f__Phyllobacteriaceae;g__Pseudaminobacter\t0.009867148557374172\n",
      "17. k__Bacteria;p__Proteobacteria;c__Alphaproteobacteria;o__Rhizobiales;f__Methylocystaceae;g__\t0.009853812484335844\n",
      "18. k__Bacteria;p__Planctomycetes;c__Planctomycetia;o__Planctomycetales;f__Planctomycetaceae;g__Planctomyces\t0.009156585032964458\n",
      "19. k__Bacteria;p__Actinobacteria;c__Actinobacteria;o__Actinomycetales;f__Ruaniaceae;g__\t0.009005454437548023\n",
      "20. k__Bacteria;p__Actinobacteria;c__Actinobacteria;o__Actinomycetales;f__Microbacteriaceae;g__\t0.00899717388754027\n",
      "21. k__Bacteria;p__Proteobacteria;c__Alphaproteobacteria;o__Rhodobacterales;f__Rhodobacteraceae;g__\t0.008530498581296743\n",
      "22. k__Bacteria;p__Proteobacteria;c__Gammaproteobacteria;o__Xanthomonadales;f__Xanthomonadaceae;g__\t0.008268105079301561\n",
      "23. k__Bacteria;p__Proteobacteria;c__Alphaproteobacteria;o__Rhizobiales;f__;g__\t0.008242010361848465\n",
      "24. k__Bacteria;p__Proteobacteria;c__Alphaproteobacteria;o__Rhizobiales;f__Brucellaceae;g__Pseudochrobactrum\t0.008090899936377922\n",
      "25. k__Bacteria;p__Proteobacteria;c__Betaproteobacteria;o__Burkholderiales;f__Alcaligenaceae;g__\t0.007846220253146756\n"
     ]
    }
   ],
   "source": [
    "importances = bone_summer_L6.feature_importances_\n",
    "std = np.std([tree.feature_importances_ for tree in bone_summer_L6.estimators_],\n",
    "             axis=0)\n",
    "indices = np.argsort(importances)[::-1]\n",
    "\n",
    "feature_metadata = Summer_L6.feature_metadata\n",
    "np.savetxt(\"importances/bone_summer_L6_no_metadata_features.csv\", feature_metadata, delimiter=\",\", fmt='%s')\n",
    "\n",
    "\n",
    "#print the important ids in order\n",
    "general_importances = []\n",
    "count = 0\n",
    "print(\"Feature:\\t\\t\\t\\tImportance:\")\n",
    "for i in indices:\n",
    "    general_importances += (Summer_L6.feature_metadata.index.values[i], importances[indices[count]])\n",
    "    if count < 25:\n",
    "        print(str(count+1)+\". \"+str(Summer_L6.feature_metadata.index.values[i])+\"\\t\"+str(importances[indices[count]]))\n",
    "    count += 1\n",
    "    \n",
    "general_importances_df = pd.DataFrame(np.array(general_importances).reshape(1104,1))\n",
    "\n",
    "np.savetxt(\"importances/bone_summer_L6_no_features_importances.csv\", general_importances_df, delimiter=\",\", fmt='%s')"
   ]
  },
  {
   "cell_type": "markdown",
   "metadata": {},
   "source": [
    "## Import rarefied table collapsed at level 5"
   ]
  },
  {
   "cell_type": "code",
   "execution_count": 3,
   "metadata": {},
   "outputs": [
    {
     "name": "stdout",
     "output_type": "stream",
     "text": [
      "2021-06-01 13:28:41 WARNING These have metadata but do not have data - dropped (51): {'11553.CSU.extraction.blank11', '11553.BLANKrib.10H', '11553.SHSU.STAFS2016.011.L09', '11553.BLANKrib.9D', '11553.BLANKrib.12B', '11553.BLANKrib.9F', '11553.CSU.extraction.blank12', '11553.CSU.extraction.blank13', '11553.BLANKrib.12H', '11553.BLANKrib.10F', '11553.CSU.extraction.blank1', '11553.CSU.extraction.blank14', '11553.CSU.extraction.blank10', '11553.CSU.extraction.blank4', '11553.BLANKrib.11F', '11553.BLANKrib.12D', '11553.BLANKrib.10D', '11553.BLANKrib.11B', '11553.BLANKrib.12F', '11553.BLANKrib.9C', '11553.CSU.extraction.blank8', '11553.CSU.extraction.blank5', '11553.BLANKrib.12G', '11553.BLANKrib.9A', '11553.BLANKrib.11G', '11553.BLANKrib.10A', '11553.BLANKrib.11C', '11553.BLANKrib.9E', '11553.CSU.extraction.blank6', '11553.BLANKrib.9B', '11553.BLANKrib.10G', '11553.CSU.extraction.blank2', '11553.BLANKrib.10B', '11553.BLANKrib.11H', '11553.BLANKrib.12A', '11553.BLANKrib.10E', '11553.CSU.extraction.blank9', '11553.CSU.extraction.blank15', '11553.BLANKrib.10C', '11553.BLANKrib.12C', '11553.STAFS.2016.064.L12', '11553.BLANKrib.11D', '11553.SHSU.STAFS2016.007.R11', '11553.CSU.extraction.blank3', '11553.BLANKrib.11A', '11553.BLANKrib.12E', '11553.BLANKrib.11E', '11553.BLANKrib.9H', '11553.BLANKrib.5B', '11553.BLANKrib.9G', '11553.CSU.extraction.blank7'}\n"
     ]
    }
   ],
   "source": [
    "exp_L5 = ca.read_amplicon('/Users/heatherdeel/Dropbox/PMI_3_analyses/bone/01_16S/01_qiime2_analysis/feature_tables/collapsed_tables/frag_ins_noChloMito_17098_L5_table.biom', '../02_metadata/maps/map3.txt', min_reads=0, normalize = None)\n"
   ]
  },
  {
   "cell_type": "code",
   "execution_count": 4,
   "metadata": {},
   "outputs": [
    {
     "data": {
      "text/plain": [
       "STAFS2016.067    8\n",
       "STAFS2016.065    8\n",
       "STAFS2016.064    7\n",
       "Name: host_subject_id, dtype: int64"
      ]
     },
     "execution_count": 4,
     "metadata": {},
     "output_type": "execute_result"
    }
   ],
   "source": [
    "# filter to summer\n",
    "Summer_L5 = exp_L5.filter_samples('season', 'summer')\n",
    "Summer_L5.sample_metadata.host_subject_id.value_counts()"
   ]
  },
  {
   "cell_type": "code",
   "execution_count": 5,
   "metadata": {},
   "outputs": [
    {
     "name": "stdout",
     "output_type": "stream",
     "text": [
      "                                                                                          _feature_id\n",
      "k__Archaea;p__Crenarchaeota;c__Thaumarchaeota;o...  k__Archaea;p__Crenarchaeota;c__Thaumarchaeota;...\n",
      "k__Archaea;p__Euryarchaeota;c__Methanobacteria;...  k__Archaea;p__Euryarchaeota;c__Methanobacteria...\n",
      "k__Bacteria;__;__;__;__                                                       k__Bacteria;__;__;__;__\n",
      "k__Bacteria;p__Acidobacteria;c__DA052;o__Ellin6...  k__Bacteria;p__Acidobacteria;c__DA052;o__Ellin...\n",
      "k__Bacteria;p__Acidobacteria;c__Solibacteres;o_...  k__Bacteria;p__Acidobacteria;c__Solibacteres;o...\n",
      "k__Bacteria;p__Acidobacteria;c__[Chloracidobact...  k__Bacteria;p__Acidobacteria;c__[Chloracidobac...\n",
      "k__Bacteria;p__Acidobacteria;c__[Chloracidobact...  k__Bacteria;p__Acidobacteria;c__[Chloracidobac...\n",
      "k__Bacteria;p__Actinobacteria;c__Acidimicrobiia...  k__Bacteria;p__Actinobacteria;c__Acidimicrobii...\n",
      "k__Bacteria;p__Actinobacteria;c__Acidimicrobiia...  k__Bacteria;p__Actinobacteria;c__Acidimicrobii...\n",
      "k__Bacteria;p__Actinobacteria;c__Acidimicrobiia...  k__Bacteria;p__Actinobacteria;c__Acidimicrobii...\n",
      "k__Bacteria;p__Actinobacteria;c__Acidimicrobiia...  k__Bacteria;p__Actinobacteria;c__Acidimicrobii...\n",
      "k__Bacteria;p__Actinobacteria;c__Acidimicrobiia...  k__Bacteria;p__Actinobacteria;c__Acidimicrobii...\n",
      "k__Bacteria;p__Actinobacteria;c__Actinobacteria...  k__Bacteria;p__Actinobacteria;c__Actinobacteri...\n",
      "k__Bacteria;p__Actinobacteria;c__Actinobacteria...  k__Bacteria;p__Actinobacteria;c__Actinobacteri...\n",
      "k__Bacteria;p__Actinobacteria;c__Actinobacteria...  k__Bacteria;p__Actinobacteria;c__Actinobacteri...\n",
      "k__Bacteria;p__Actinobacteria;c__Actinobacteria...  k__Bacteria;p__Actinobacteria;c__Actinobacteri...\n",
      "k__Bacteria;p__Actinobacteria;c__Actinobacteria...  k__Bacteria;p__Actinobacteria;c__Actinobacteri...\n",
      "k__Bacteria;p__Actinobacteria;c__Actinobacteria...  k__Bacteria;p__Actinobacteria;c__Actinobacteri...\n",
      "k__Bacteria;p__Actinobacteria;c__Actinobacteria...  k__Bacteria;p__Actinobacteria;c__Actinobacteri...\n",
      "k__Bacteria;p__Actinobacteria;c__Actinobacteria...  k__Bacteria;p__Actinobacteria;c__Actinobacteri...\n",
      "k__Bacteria;p__Actinobacteria;c__Actinobacteria...  k__Bacteria;p__Actinobacteria;c__Actinobacteri...\n",
      "k__Bacteria;p__Actinobacteria;c__Actinobacteria...  k__Bacteria;p__Actinobacteria;c__Actinobacteri...\n",
      "k__Bacteria;p__Actinobacteria;c__Actinobacteria...  k__Bacteria;p__Actinobacteria;c__Actinobacteri...\n",
      "k__Bacteria;p__Actinobacteria;c__Actinobacteria...  k__Bacteria;p__Actinobacteria;c__Actinobacteri...\n",
      "k__Bacteria;p__Actinobacteria;c__Actinobacteria...  k__Bacteria;p__Actinobacteria;c__Actinobacteri...\n",
      "k__Bacteria;p__Actinobacteria;c__Actinobacteria...  k__Bacteria;p__Actinobacteria;c__Actinobacteri...\n",
      "k__Bacteria;p__Actinobacteria;c__Actinobacteria...  k__Bacteria;p__Actinobacteria;c__Actinobacteri...\n",
      "k__Bacteria;p__Actinobacteria;c__Actinobacteria...  k__Bacteria;p__Actinobacteria;c__Actinobacteri...\n",
      "k__Bacteria;p__Actinobacteria;c__Actinobacteria...  k__Bacteria;p__Actinobacteria;c__Actinobacteri...\n",
      "k__Bacteria;p__Actinobacteria;c__Actinobacteria...  k__Bacteria;p__Actinobacteria;c__Actinobacteri...\n",
      "k__Bacteria;p__Actinobacteria;c__Actinobacteria...  k__Bacteria;p__Actinobacteria;c__Actinobacteri...\n",
      "k__Bacteria;p__Actinobacteria;c__Actinobacteria...  k__Bacteria;p__Actinobacteria;c__Actinobacteri...\n",
      "k__Bacteria;p__Actinobacteria;c__Actinobacteria...  k__Bacteria;p__Actinobacteria;c__Actinobacteri...\n",
      "k__Bacteria;p__Actinobacteria;c__Actinobacteria...  k__Bacteria;p__Actinobacteria;c__Actinobacteri...\n",
      "k__Bacteria;p__Actinobacteria;c__Actinobacteria...  k__Bacteria;p__Actinobacteria;c__Actinobacteri...\n",
      "k__Bacteria;p__Actinobacteria;c__Actinobacteria...  k__Bacteria;p__Actinobacteria;c__Actinobacteri...\n",
      "k__Bacteria;p__Actinobacteria;c__Actinobacteria...  k__Bacteria;p__Actinobacteria;c__Actinobacteri...\n",
      "k__Bacteria;p__Actinobacteria;c__Actinobacteria...  k__Bacteria;p__Actinobacteria;c__Actinobacteri...\n",
      "k__Bacteria;p__Actinobacteria;c__Actinobacteria...  k__Bacteria;p__Actinobacteria;c__Actinobacteri...\n",
      "k__Bacteria;p__Actinobacteria;c__Actinobacteria...  k__Bacteria;p__Actinobacteria;c__Actinobacteri...\n",
      "k__Bacteria;p__Actinobacteria;c__Actinobacteria...  k__Bacteria;p__Actinobacteria;c__Actinobacteri...\n",
      "k__Bacteria;p__Actinobacteria;c__Actinobacteria...  k__Bacteria;p__Actinobacteria;c__Actinobacteri...\n",
      "k__Bacteria;p__Actinobacteria;c__Actinobacteria...  k__Bacteria;p__Actinobacteria;c__Actinobacteri...\n",
      "k__Bacteria;p__Actinobacteria;c__Actinobacteria...  k__Bacteria;p__Actinobacteria;c__Actinobacteri...\n",
      "k__Bacteria;p__Actinobacteria;c__Actinobacteria...  k__Bacteria;p__Actinobacteria;c__Actinobacteri...\n",
      "k__Bacteria;p__Actinobacteria;c__Actinobacteria...  k__Bacteria;p__Actinobacteria;c__Actinobacteri...\n",
      "k__Bacteria;p__Actinobacteria;c__Actinobacteria...  k__Bacteria;p__Actinobacteria;c__Actinobacteri...\n",
      "k__Bacteria;p__Actinobacteria;c__Coriobacteriia...  k__Bacteria;p__Actinobacteria;c__Coriobacterii...\n",
      "k__Bacteria;p__Actinobacteria;c__Rubrobacteria;...  k__Bacteria;p__Actinobacteria;c__Rubrobacteria...\n",
      "k__Bacteria;p__Actinobacteria;c__Thermoleophili...  k__Bacteria;p__Actinobacteria;c__Thermoleophil...\n",
      "k__Bacteria;p__Actinobacteria;c__Thermoleophili...  k__Bacteria;p__Actinobacteria;c__Thermoleophil...\n",
      "k__Bacteria;p__Actinobacteria;c__Thermoleophili...  k__Bacteria;p__Actinobacteria;c__Thermoleophil...\n",
      "k__Bacteria;p__Actinobacteria;c__Thermoleophili...  k__Bacteria;p__Actinobacteria;c__Thermoleophil...\n",
      "k__Bacteria;p__Actinobacteria;c__Thermoleophili...  k__Bacteria;p__Actinobacteria;c__Thermoleophil...\n",
      "k__Bacteria;p__Armatimonadetes;c__Armatimonadia...  k__Bacteria;p__Armatimonadetes;c__Armatimonadi...\n",
      "k__Bacteria;p__Armatimonadetes;c__SHA-37;o__;f__     k__Bacteria;p__Armatimonadetes;c__SHA-37;o__;f__\n",
      "k__Bacteria;p__Armatimonadetes;c__SJA-176;o__GA...  k__Bacteria;p__Armatimonadetes;c__SJA-176;o__G...\n",
      "k__Bacteria;p__Armatimonadetes;c__[Fimbriimonad...  k__Bacteria;p__Armatimonadetes;c__[Fimbriimona...\n",
      "k__Bacteria;p__BRC1;c__PRR-11;o__;f__                           k__Bacteria;p__BRC1;c__PRR-11;o__;f__\n",
      "k__Bacteria;p__Bacteroidetes;c__Bacteroidia;o__...  k__Bacteria;p__Bacteroidetes;c__Bacteroidia;o_...\n",
      "k__Bacteria;p__Bacteroidetes;c__Bacteroidia;o__...  k__Bacteria;p__Bacteroidetes;c__Bacteroidia;o_...\n",
      "k__Bacteria;p__Bacteroidetes;c__Bacteroidia;o__...  k__Bacteria;p__Bacteroidetes;c__Bacteroidia;o_...\n",
      "k__Bacteria;p__Bacteroidetes;c__Bacteroidia;o__...  k__Bacteria;p__Bacteroidetes;c__Bacteroidia;o_...\n",
      "k__Bacteria;p__Bacteroidetes;c__Bacteroidia;o__...  k__Bacteria;p__Bacteroidetes;c__Bacteroidia;o_...\n",
      "k__Bacteria;p__Bacteroidetes;c__Bacteroidia;o__...  k__Bacteria;p__Bacteroidetes;c__Bacteroidia;o_...\n",
      "k__Bacteria;p__Bacteroidetes;c__Bacteroidia;o__...  k__Bacteria;p__Bacteroidetes;c__Bacteroidia;o_...\n",
      "k__Bacteria;p__Bacteroidetes;c__Bacteroidia;o__...  k__Bacteria;p__Bacteroidetes;c__Bacteroidia;o_...\n",
      "k__Bacteria;p__Bacteroidetes;c__Bacteroidia;o__...  k__Bacteria;p__Bacteroidetes;c__Bacteroidia;o_...\n",
      "k__Bacteria;p__Bacteroidetes;c__Cytophagia;o__C...  k__Bacteria;p__Bacteroidetes;c__Cytophagia;o__...\n",
      "k__Bacteria;p__Bacteroidetes;c__Cytophagia;o__C...  k__Bacteria;p__Bacteroidetes;c__Cytophagia;o__...\n",
      "k__Bacteria;p__Bacteroidetes;c__Cytophagia;o__C...  k__Bacteria;p__Bacteroidetes;c__Cytophagia;o__...\n",
      "k__Bacteria;p__Bacteroidetes;c__Flavobacteriia;...  k__Bacteria;p__Bacteroidetes;c__Flavobacteriia...\n",
      "k__Bacteria;p__Bacteroidetes;c__Flavobacteriia;...  k__Bacteria;p__Bacteroidetes;c__Flavobacteriia...\n",
      "k__Bacteria;p__Bacteroidetes;c__Flavobacteriia;...  k__Bacteria;p__Bacteroidetes;c__Flavobacteriia...\n",
      "k__Bacteria;p__Bacteroidetes;c__Sphingobacterii...  k__Bacteria;p__Bacteroidetes;c__Sphingobacteri...\n",
      "k__Bacteria;p__Bacteroidetes;c__[Saprospirae];o...  k__Bacteria;p__Bacteroidetes;c__[Saprospirae];...\n",
      "k__Bacteria;p__Bacteroidetes;c__[Saprospirae];o...  k__Bacteria;p__Bacteroidetes;c__[Saprospirae];...\n",
      "k__Bacteria;p__Bacteroidetes;c__[Saprospirae];o...  k__Bacteria;p__Bacteroidetes;c__[Saprospirae];...\n",
      "k__Bacteria;p__Chlorobi;c__OPB56;o__;f__                     k__Bacteria;p__Chlorobi;c__OPB56;o__;f__\n",
      "k__Bacteria;p__Chloroflexi;c__Chloroflexi;o__AK...  k__Bacteria;p__Chloroflexi;c__Chloroflexi;o__A...\n",
      "k__Bacteria;p__Chloroflexi;c__Ellin6529;o__;f__       k__Bacteria;p__Chloroflexi;c__Ellin6529;o__;f__\n",
      "k__Bacteria;p__Chloroflexi;c__Thermomicrobia;o_...  k__Bacteria;p__Chloroflexi;c__Thermomicrobia;o...\n",
      "k__Bacteria;p__Chloroflexi;c__Thermomicrobia;o_...  k__Bacteria;p__Chloroflexi;c__Thermomicrobia;o...\n",
      "k__Bacteria;p__Cyanobacteria;c__4C0d-2;o__SM1D1...  k__Bacteria;p__Cyanobacteria;c__4C0d-2;o__SM1D...\n",
      "k__Bacteria;p__Cyanobacteria;c__4C0d-2;o__YS2;f__   k__Bacteria;p__Cyanobacteria;c__4C0d-2;o__YS2;f__\n",
      "k__Bacteria;p__Cyanobacteria;c__ML635J-21;o__;f__   k__Bacteria;p__Cyanobacteria;c__ML635J-21;o__;f__\n",
      "k__Bacteria;p__Cyanobacteria;c__Oscillatoriophy...  k__Bacteria;p__Cyanobacteria;c__Oscillatorioph...\n",
      "k__Bacteria;p__Deferribacteres;c__Deferribacter...  k__Bacteria;p__Deferribacteres;c__Deferribacte...\n",
      "k__Bacteria;p__FBP;c__;o__;f__                                         k__Bacteria;p__FBP;c__;o__;f__\n",
      "k__Bacteria;p__Firmicutes;c__AHT28;o__;f__                 k__Bacteria;p__Firmicutes;c__AHT28;o__;f__\n",
      "k__Bacteria;p__Firmicutes;c__Bacilli;o__Bacilla...  k__Bacteria;p__Firmicutes;c__Bacilli;o__Bacill...\n",
      "k__Bacteria;p__Firmicutes;c__Bacilli;o__Bacilla...  k__Bacteria;p__Firmicutes;c__Bacilli;o__Bacill...\n",
      "k__Bacteria;p__Firmicutes;c__Bacilli;o__Bacilla...  k__Bacteria;p__Firmicutes;c__Bacilli;o__Bacill...\n",
      "k__Bacteria;p__Firmicutes;c__Bacilli;o__Bacilla...  k__Bacteria;p__Firmicutes;c__Bacilli;o__Bacill...\n",
      "k__Bacteria;p__Firmicutes;c__Bacilli;o__Bacilla...  k__Bacteria;p__Firmicutes;c__Bacilli;o__Bacill...\n",
      "k__Bacteria;p__Firmicutes;c__Bacilli;o__Bacilla...  k__Bacteria;p__Firmicutes;c__Bacilli;o__Bacill...\n",
      "k__Bacteria;p__Firmicutes;c__Bacilli;o__Bacilla...  k__Bacteria;p__Firmicutes;c__Bacilli;o__Bacill...\n",
      "k__Bacteria;p__Firmicutes;c__Bacilli;o__Bacilla...  k__Bacteria;p__Firmicutes;c__Bacilli;o__Bacill...\n",
      "k__Bacteria;p__Firmicutes;c__Bacilli;o__Gemella...  k__Bacteria;p__Firmicutes;c__Bacilli;o__Gemell...\n",
      "k__Bacteria;p__Firmicutes;c__Bacilli;o__Gemella...  k__Bacteria;p__Firmicutes;c__Bacilli;o__Gemell...\n",
      "k__Bacteria;p__Firmicutes;c__Bacilli;o__Lactoba...  k__Bacteria;p__Firmicutes;c__Bacilli;o__Lactob...\n",
      "k__Bacteria;p__Firmicutes;c__Bacilli;o__Lactoba...  k__Bacteria;p__Firmicutes;c__Bacilli;o__Lactob...\n",
      "k__Bacteria;p__Firmicutes;c__Bacilli;o__Lactoba...  k__Bacteria;p__Firmicutes;c__Bacilli;o__Lactob...\n",
      "k__Bacteria;p__Firmicutes;c__Bacilli;o__Lactoba...  k__Bacteria;p__Firmicutes;c__Bacilli;o__Lactob...\n",
      "k__Bacteria;p__Firmicutes;c__Bacilli;o__Lactoba...  k__Bacteria;p__Firmicutes;c__Bacilli;o__Lactob...\n",
      "k__Bacteria;p__Firmicutes;c__Bacilli;o__Lactoba...  k__Bacteria;p__Firmicutes;c__Bacilli;o__Lactob...\n",
      "k__Bacteria;p__Firmicutes;c__Clostridia;o__Clos...  k__Bacteria;p__Firmicutes;c__Clostridia;o__Clo...\n",
      "k__Bacteria;p__Firmicutes;c__Clostridia;o__Clos...  k__Bacteria;p__Firmicutes;c__Clostridia;o__Clo...\n",
      "k__Bacteria;p__Firmicutes;c__Clostridia;o__Clos...  k__Bacteria;p__Firmicutes;c__Clostridia;o__Clo...\n",
      "k__Bacteria;p__Firmicutes;c__Clostridia;o__Clos...  k__Bacteria;p__Firmicutes;c__Clostridia;o__Clo...\n",
      "k__Bacteria;p__Firmicutes;c__Clostridia;o__Clos...  k__Bacteria;p__Firmicutes;c__Clostridia;o__Clo...\n",
      "k__Bacteria;p__Firmicutes;c__Clostridia;o__Clos...  k__Bacteria;p__Firmicutes;c__Clostridia;o__Clo...\n",
      "k__Bacteria;p__Firmicutes;c__Clostridia;o__Clos...  k__Bacteria;p__Firmicutes;c__Clostridia;o__Clo...\n",
      "k__Bacteria;p__Firmicutes;c__Clostridia;o__Clos...  k__Bacteria;p__Firmicutes;c__Clostridia;o__Clo...\n",
      "k__Bacteria;p__Firmicutes;c__Clostridia;o__Clos...  k__Bacteria;p__Firmicutes;c__Clostridia;o__Clo...\n",
      "k__Bacteria;p__Firmicutes;c__Clostridia;o__Clos...  k__Bacteria;p__Firmicutes;c__Clostridia;o__Clo...\n",
      "k__Bacteria;p__Firmicutes;c__Clostridia;o__Clos...  k__Bacteria;p__Firmicutes;c__Clostridia;o__Clo...\n",
      "k__Bacteria;p__Firmicutes;c__Clostridia;o__Clos...  k__Bacteria;p__Firmicutes;c__Clostridia;o__Clo...\n",
      "k__Bacteria;p__Firmicutes;c__Clostridia;o__Clos...  k__Bacteria;p__Firmicutes;c__Clostridia;o__Clo...\n",
      "k__Bacteria;p__Firmicutes;c__Clostridia;o__MBA0...  k__Bacteria;p__Firmicutes;c__Clostridia;o__MBA...\n",
      "k__Bacteria;p__Firmicutes;c__Clostridia;o__OPB5...  k__Bacteria;p__Firmicutes;c__Clostridia;o__OPB...\n",
      "k__Bacteria;p__Firmicutes;c__Clostridia;o__Ther...  k__Bacteria;p__Firmicutes;c__Clostridia;o__The...\n",
      "k__Bacteria;p__Firmicutes;c__Clostridia;o__Ther...  k__Bacteria;p__Firmicutes;c__Clostridia;o__The...\n",
      "k__Bacteria;p__Firmicutes;c__Erysipelotrichi;o_...  k__Bacteria;p__Firmicutes;c__Erysipelotrichi;o...\n",
      "k__Bacteria;p__Fusobacteria;c__Fusobacteriia;o_...  k__Bacteria;p__Fusobacteria;c__Fusobacteriia;o...\n",
      "k__Bacteria;p__Fusobacteria;c__Fusobacteriia;o_...  k__Bacteria;p__Fusobacteria;c__Fusobacteriia;o...\n",
      "k__Bacteria;p__GN02;c__BD1-5;o__;f__                             k__Bacteria;p__GN02;c__BD1-5;o__;f__\n",
      "k__Bacteria;p__Gemmatimonadetes;c__Gemm-3;o__;f__   k__Bacteria;p__Gemmatimonadetes;c__Gemm-3;o__;f__\n",
      "k__Bacteria;p__Gemmatimonadetes;c__Gemmatimonad...  k__Bacteria;p__Gemmatimonadetes;c__Gemmatimona...\n",
      "k__Bacteria;p__Gemmatimonadetes;c__Gemmatimonad...  k__Bacteria;p__Gemmatimonadetes;c__Gemmatimona...\n",
      "k__Bacteria;p__Gemmatimonadetes;c__Gemmatimonad...  k__Bacteria;p__Gemmatimonadetes;c__Gemmatimona...\n",
      "k__Bacteria;p__Gemmatimonadetes;c__Gemmatimonad...  k__Bacteria;p__Gemmatimonadetes;c__Gemmatimona...\n",
      "k__Bacteria;p__OD1;c__SM2F11;o__;f__                             k__Bacteria;p__OD1;c__SM2F11;o__;f__\n",
      "k__Bacteria;p__OP11;c__;o__;f__                                       k__Bacteria;p__OP11;c__;o__;f__\n",
      "k__Bacteria;p__OP11;c__OP11-2;o__WCHB1-07;f__           k__Bacteria;p__OP11;c__OP11-2;o__WCHB1-07;f__\n",
      "k__Bacteria;p__Planctomycetes;c__Phycisphaerae;...  k__Bacteria;p__Planctomycetes;c__Phycisphaerae...\n",
      "k__Bacteria;p__Planctomycetes;c__Phycisphaerae;...  k__Bacteria;p__Planctomycetes;c__Phycisphaerae...\n",
      "k__Bacteria;p__Planctomycetes;c__Planctomycetia...  k__Bacteria;p__Planctomycetes;c__Planctomyceti...\n",
      "k__Bacteria;p__Planctomycetes;c__Planctomycetia...  k__Bacteria;p__Planctomycetes;c__Planctomyceti...\n",
      "k__Bacteria;p__Planctomycetes;c__Planctomycetia...  k__Bacteria;p__Planctomycetes;c__Planctomyceti...\n",
      "k__Bacteria;p__Planctomycetes;c__Planctomycetia...  k__Bacteria;p__Planctomycetes;c__Planctomyceti...\n",
      "k__Bacteria;p__Planctomycetes;c__vadinHA49;o__P...  k__Bacteria;p__Planctomycetes;c__vadinHA49;o__...\n",
      "k__Bacteria;p__Proteobacteria;c__;o__;f__                   k__Bacteria;p__Proteobacteria;c__;o__;f__\n",
      "k__Bacteria;p__Proteobacteria;c__Alphaproteobac...  k__Bacteria;p__Proteobacteria;c__Alphaproteoba...\n",
      "k__Bacteria;p__Proteobacteria;c__Alphaproteobac...  k__Bacteria;p__Proteobacteria;c__Alphaproteoba...\n",
      "k__Bacteria;p__Proteobacteria;c__Alphaproteobac...  k__Bacteria;p__Proteobacteria;c__Alphaproteoba...\n",
      "k__Bacteria;p__Proteobacteria;c__Alphaproteobac...  k__Bacteria;p__Proteobacteria;c__Alphaproteoba...\n",
      "k__Bacteria;p__Proteobacteria;c__Alphaproteobac...  k__Bacteria;p__Proteobacteria;c__Alphaproteoba...\n",
      "k__Bacteria;p__Proteobacteria;c__Alphaproteobac...  k__Bacteria;p__Proteobacteria;c__Alphaproteoba...\n",
      "k__Bacteria;p__Proteobacteria;c__Alphaproteobac...  k__Bacteria;p__Proteobacteria;c__Alphaproteoba...\n",
      "k__Bacteria;p__Proteobacteria;c__Alphaproteobac...  k__Bacteria;p__Proteobacteria;c__Alphaproteoba...\n",
      "k__Bacteria;p__Proteobacteria;c__Alphaproteobac...  k__Bacteria;p__Proteobacteria;c__Alphaproteoba...\n",
      "k__Bacteria;p__Proteobacteria;c__Alphaproteobac...  k__Bacteria;p__Proteobacteria;c__Alphaproteoba...\n",
      "k__Bacteria;p__Proteobacteria;c__Alphaproteobac...  k__Bacteria;p__Proteobacteria;c__Alphaproteoba...\n",
      "k__Bacteria;p__Proteobacteria;c__Alphaproteobac...  k__Bacteria;p__Proteobacteria;c__Alphaproteoba...\n",
      "k__Bacteria;p__Proteobacteria;c__Alphaproteobac...  k__Bacteria;p__Proteobacteria;c__Alphaproteoba...\n",
      "k__Bacteria;p__Proteobacteria;c__Alphaproteobac...  k__Bacteria;p__Proteobacteria;c__Alphaproteoba...\n",
      "k__Bacteria;p__Proteobacteria;c__Alphaproteobac...  k__Bacteria;p__Proteobacteria;c__Alphaproteoba...\n",
      "k__Bacteria;p__Proteobacteria;c__Alphaproteobac...  k__Bacteria;p__Proteobacteria;c__Alphaproteoba...\n",
      "k__Bacteria;p__Proteobacteria;c__Alphaproteobac...  k__Bacteria;p__Proteobacteria;c__Alphaproteoba...\n",
      "k__Bacteria;p__Proteobacteria;c__Alphaproteobac...  k__Bacteria;p__Proteobacteria;c__Alphaproteoba...\n",
      "k__Bacteria;p__Proteobacteria;c__Alphaproteobac...  k__Bacteria;p__Proteobacteria;c__Alphaproteoba...\n",
      "k__Bacteria;p__Proteobacteria;c__Alphaproteobac...  k__Bacteria;p__Proteobacteria;c__Alphaproteoba...\n",
      "k__Bacteria;p__Proteobacteria;c__Alphaproteobac...  k__Bacteria;p__Proteobacteria;c__Alphaproteoba...\n",
      "k__Bacteria;p__Proteobacteria;c__Alphaproteobac...  k__Bacteria;p__Proteobacteria;c__Alphaproteoba...\n",
      "k__Bacteria;p__Proteobacteria;c__Alphaproteobac...  k__Bacteria;p__Proteobacteria;c__Alphaproteoba...\n",
      "k__Bacteria;p__Proteobacteria;c__Alphaproteobac...  k__Bacteria;p__Proteobacteria;c__Alphaproteoba...\n",
      "k__Bacteria;p__Proteobacteria;c__Alphaproteobac...  k__Bacteria;p__Proteobacteria;c__Alphaproteoba...\n",
      "k__Bacteria;p__Proteobacteria;c__Alphaproteobac...  k__Bacteria;p__Proteobacteria;c__Alphaproteoba...\n",
      "k__Bacteria;p__Proteobacteria;c__Alphaproteobac...  k__Bacteria;p__Proteobacteria;c__Alphaproteoba...\n",
      "k__Bacteria;p__Proteobacteria;c__Alphaproteobac...  k__Bacteria;p__Proteobacteria;c__Alphaproteoba...\n",
      "k__Bacteria;p__Proteobacteria;c__Alphaproteobac...  k__Bacteria;p__Proteobacteria;c__Alphaproteoba...\n",
      "k__Bacteria;p__Proteobacteria;c__Betaproteobact...  k__Bacteria;p__Proteobacteria;c__Betaproteobac...\n",
      "k__Bacteria;p__Proteobacteria;c__Betaproteobact...  k__Bacteria;p__Proteobacteria;c__Betaproteobac...\n",
      "k__Bacteria;p__Proteobacteria;c__Betaproteobact...  k__Bacteria;p__Proteobacteria;c__Betaproteobac...\n",
      "k__Bacteria;p__Proteobacteria;c__Betaproteobact...  k__Bacteria;p__Proteobacteria;c__Betaproteobac...\n",
      "k__Bacteria;p__Proteobacteria;c__Betaproteobact...  k__Bacteria;p__Proteobacteria;c__Betaproteobac...\n",
      "k__Bacteria;p__Proteobacteria;c__Betaproteobact...  k__Bacteria;p__Proteobacteria;c__Betaproteobac...\n",
      "k__Bacteria;p__Proteobacteria;c__Betaproteobact...  k__Bacteria;p__Proteobacteria;c__Betaproteobac...\n",
      "k__Bacteria;p__Proteobacteria;c__Betaproteobact...  k__Bacteria;p__Proteobacteria;c__Betaproteobac...\n",
      "k__Bacteria;p__Proteobacteria;c__Betaproteobact...  k__Bacteria;p__Proteobacteria;c__Betaproteobac...\n",
      "k__Bacteria;p__Proteobacteria;c__Betaproteobact...  k__Bacteria;p__Proteobacteria;c__Betaproteobac...\n",
      "k__Bacteria;p__Proteobacteria;c__Betaproteobact...  k__Bacteria;p__Proteobacteria;c__Betaproteobac...\n",
      "k__Bacteria;p__Proteobacteria;c__Betaproteobact...  k__Bacteria;p__Proteobacteria;c__Betaproteobac...\n",
      "k__Bacteria;p__Proteobacteria;c__Betaproteobact...  k__Bacteria;p__Proteobacteria;c__Betaproteobac...\n",
      "k__Bacteria;p__Proteobacteria;c__Betaproteobact...  k__Bacteria;p__Proteobacteria;c__Betaproteobac...\n",
      "k__Bacteria;p__Proteobacteria;c__Betaproteobact...  k__Bacteria;p__Proteobacteria;c__Betaproteobac...\n",
      "k__Bacteria;p__Proteobacteria;c__Deltaproteobac...  k__Bacteria;p__Proteobacteria;c__Deltaproteoba...\n",
      "k__Bacteria;p__Proteobacteria;c__Deltaproteobac...  k__Bacteria;p__Proteobacteria;c__Deltaproteoba...\n",
      "k__Bacteria;p__Proteobacteria;c__Deltaproteobac...  k__Bacteria;p__Proteobacteria;c__Deltaproteoba...\n",
      "k__Bacteria;p__Proteobacteria;c__Deltaproteobac...  k__Bacteria;p__Proteobacteria;c__Deltaproteoba...\n",
      "k__Bacteria;p__Proteobacteria;c__Deltaproteobac...  k__Bacteria;p__Proteobacteria;c__Deltaproteoba...\n",
      "k__Bacteria;p__Proteobacteria;c__Deltaproteobac...  k__Bacteria;p__Proteobacteria;c__Deltaproteoba...\n",
      "k__Bacteria;p__Proteobacteria;c__Deltaproteobac...  k__Bacteria;p__Proteobacteria;c__Deltaproteoba...\n",
      "k__Bacteria;p__Proteobacteria;c__Deltaproteobac...  k__Bacteria;p__Proteobacteria;c__Deltaproteoba...\n",
      "k__Bacteria;p__Proteobacteria;c__Deltaproteobac...  k__Bacteria;p__Proteobacteria;c__Deltaproteoba...\n",
      "k__Bacteria;p__Proteobacteria;c__Deltaproteobac...  k__Bacteria;p__Proteobacteria;c__Deltaproteoba...\n",
      "k__Bacteria;p__Proteobacteria;c__Deltaproteobac...  k__Bacteria;p__Proteobacteria;c__Deltaproteoba...\n",
      "k__Bacteria;p__Proteobacteria;c__Deltaproteobac...  k__Bacteria;p__Proteobacteria;c__Deltaproteoba...\n",
      "k__Bacteria;p__Proteobacteria;c__Deltaproteobac...  k__Bacteria;p__Proteobacteria;c__Deltaproteoba...\n",
      "k__Bacteria;p__Proteobacteria;c__Deltaproteobac...  k__Bacteria;p__Proteobacteria;c__Deltaproteoba...\n",
      "k__Bacteria;p__Proteobacteria;c__Deltaproteobac...  k__Bacteria;p__Proteobacteria;c__Deltaproteoba...\n",
      "k__Bacteria;p__Proteobacteria;c__Deltaproteobac...  k__Bacteria;p__Proteobacteria;c__Deltaproteoba...\n",
      "k__Bacteria;p__Proteobacteria;c__Deltaproteobac...  k__Bacteria;p__Proteobacteria;c__Deltaproteoba...\n",
      "k__Bacteria;p__Proteobacteria;c__Deltaproteobac...  k__Bacteria;p__Proteobacteria;c__Deltaproteoba...\n",
      "k__Bacteria;p__Proteobacteria;c__Epsilonproteob...  k__Bacteria;p__Proteobacteria;c__Epsilonproteo...\n",
      "k__Bacteria;p__Proteobacteria;c__Gammaproteobac...  k__Bacteria;p__Proteobacteria;c__Gammaproteoba...\n",
      "k__Bacteria;p__Proteobacteria;c__Gammaproteobac...  k__Bacteria;p__Proteobacteria;c__Gammaproteoba...\n",
      "k__Bacteria;p__Proteobacteria;c__Gammaproteobac...  k__Bacteria;p__Proteobacteria;c__Gammaproteoba...\n",
      "k__Bacteria;p__Proteobacteria;c__Gammaproteobac...  k__Bacteria;p__Proteobacteria;c__Gammaproteoba...\n",
      "k__Bacteria;p__Proteobacteria;c__Gammaproteobac...  k__Bacteria;p__Proteobacteria;c__Gammaproteoba...\n",
      "k__Bacteria;p__Proteobacteria;c__Gammaproteobac...  k__Bacteria;p__Proteobacteria;c__Gammaproteoba...\n",
      "k__Bacteria;p__Proteobacteria;c__Gammaproteobac...  k__Bacteria;p__Proteobacteria;c__Gammaproteoba...\n",
      "k__Bacteria;p__Proteobacteria;c__Gammaproteobac...  k__Bacteria;p__Proteobacteria;c__Gammaproteoba...\n",
      "k__Bacteria;p__Proteobacteria;c__Gammaproteobac...  k__Bacteria;p__Proteobacteria;c__Gammaproteoba...\n",
      "k__Bacteria;p__Proteobacteria;c__Gammaproteobac...  k__Bacteria;p__Proteobacteria;c__Gammaproteoba...\n",
      "k__Bacteria;p__Proteobacteria;c__Gammaproteobac...  k__Bacteria;p__Proteobacteria;c__Gammaproteoba...\n",
      "k__Bacteria;p__Proteobacteria;c__Gammaproteobac...  k__Bacteria;p__Proteobacteria;c__Gammaproteoba...\n",
      "k__Bacteria;p__Proteobacteria;c__Gammaproteobac...  k__Bacteria;p__Proteobacteria;c__Gammaproteoba...\n",
      "k__Bacteria;p__Proteobacteria;c__Gammaproteobac...  k__Bacteria;p__Proteobacteria;c__Gammaproteoba...\n",
      "k__Bacteria;p__Proteobacteria;c__Gammaproteobac...  k__Bacteria;p__Proteobacteria;c__Gammaproteoba...\n",
      "k__Bacteria;p__Proteobacteria;c__Gammaproteobac...  k__Bacteria;p__Proteobacteria;c__Gammaproteoba...\n",
      "k__Bacteria;p__Proteobacteria;c__Gammaproteobac...  k__Bacteria;p__Proteobacteria;c__Gammaproteoba...\n",
      "k__Bacteria;p__Proteobacteria;c__Gammaproteobac...  k__Bacteria;p__Proteobacteria;c__Gammaproteoba...\n",
      "k__Bacteria;p__Proteobacteria;c__Gammaproteobac...  k__Bacteria;p__Proteobacteria;c__Gammaproteoba...\n",
      "k__Bacteria;p__Proteobacteria;c__Gammaproteobac...  k__Bacteria;p__Proteobacteria;c__Gammaproteoba...\n",
      "k__Bacteria;p__Proteobacteria;c__Gammaproteobac...  k__Bacteria;p__Proteobacteria;c__Gammaproteoba...\n",
      "k__Bacteria;p__Proteobacteria;c__Gammaproteobac...  k__Bacteria;p__Proteobacteria;c__Gammaproteoba...\n",
      "k__Bacteria;p__Proteobacteria;c__Gammaproteobac...  k__Bacteria;p__Proteobacteria;c__Gammaproteoba...\n",
      "k__Bacteria;p__Proteobacteria;c__Gammaproteobac...  k__Bacteria;p__Proteobacteria;c__Gammaproteoba...\n",
      "k__Bacteria;p__Proteobacteria;c__Gammaproteobac...  k__Bacteria;p__Proteobacteria;c__Gammaproteoba...\n",
      "k__Bacteria;p__Proteobacteria;c__Gammaproteobac...  k__Bacteria;p__Proteobacteria;c__Gammaproteoba...\n",
      "k__Bacteria;p__Proteobacteria;c__Gammaproteobac...  k__Bacteria;p__Proteobacteria;c__Gammaproteoba...\n",
      "k__Bacteria;p__Proteobacteria;c__Gammaproteobac...  k__Bacteria;p__Proteobacteria;c__Gammaproteoba...\n",
      "k__Bacteria;p__Proteobacteria;c__Gammaproteobac...  k__Bacteria;p__Proteobacteria;c__Gammaproteoba...\n",
      "k__Bacteria;p__Spirochaetes;c__Spirochaetes;o__...  k__Bacteria;p__Spirochaetes;c__Spirochaetes;o_...\n",
      "k__Bacteria;p__Spirochaetes;c__Spirochaetes;o__...  k__Bacteria;p__Spirochaetes;c__Spirochaetes;o_...\n",
      "k__Bacteria;p__Synergistetes;c__Synergistia;o__...  k__Bacteria;p__Synergistetes;c__Synergistia;o_...\n",
      "k__Bacteria;p__Synergistetes;c__Synergistia;o__...  k__Bacteria;p__Synergistetes;c__Synergistia;o_...\n",
      "k__Bacteria;p__TM6;c__SJA-4;o__;f__                               k__Bacteria;p__TM6;c__SJA-4;o__;f__\n",
      "k__Bacteria;p__TM7;c__;o__;f__                                         k__Bacteria;p__TM7;c__;o__;f__\n",
      "k__Bacteria;p__TM7;c__TM7-1;o__;f__                               k__Bacteria;p__TM7;c__TM7-1;o__;f__\n",
      "k__Bacteria;p__TM7;c__TM7-3;o__;f__                               k__Bacteria;p__TM7;c__TM7-3;o__;f__\n",
      "k__Bacteria;p__TM7;c__TM7-3;o__I025;f__                       k__Bacteria;p__TM7;c__TM7-3;o__I025;f__\n",
      "k__Bacteria;p__Tenericutes;c__Mollicutes;o__Ach...  k__Bacteria;p__Tenericutes;c__Mollicutes;o__Ac...\n",
      "k__Bacteria;p__Tenericutes;c__Mollicutes;o__Ana...  k__Bacteria;p__Tenericutes;c__Mollicutes;o__An...\n",
      "k__Bacteria;p__Tenericutes;c__Mollicutes;o__Ent...  k__Bacteria;p__Tenericutes;c__Mollicutes;o__En...\n",
      "k__Bacteria;p__Tenericutes;c__Mollicutes;o__RF3...  k__Bacteria;p__Tenericutes;c__Mollicutes;o__RF...\n",
      "k__Bacteria;p__Verrucomicrobia;c__Opitutae;o__;f__  k__Bacteria;p__Verrucomicrobia;c__Opitutae;o__...\n",
      "k__Bacteria;p__Verrucomicrobia;c__Opitutae;o__O...  k__Bacteria;p__Verrucomicrobia;c__Opitutae;o__...\n",
      "k__Bacteria;p__Verrucomicrobia;c__Opitutae;o__P...  k__Bacteria;p__Verrucomicrobia;c__Opitutae;o__...\n",
      "k__Bacteria;p__Verrucomicrobia;c__Opitutae;o__[...  k__Bacteria;p__Verrucomicrobia;c__Opitutae;o__...\n",
      "k__Bacteria;p__Verrucomicrobia;c__Verrucomicrob...  k__Bacteria;p__Verrucomicrobia;c__Verrucomicro...\n",
      "k__Bacteria;p__Verrucomicrobia;c__[Spartobacter...  k__Bacteria;p__Verrucomicrobia;c__[Spartobacte...\n",
      "k__Bacteria;p__WPS-2;c__;o__;f__                                     k__Bacteria;p__WPS-2;c__;o__;f__\n",
      "k__Bacteria;p__[Thermi];c__Deinococci;o__Deinoc...  k__Bacteria;p__[Thermi];c__Deinococci;o__Deino...\n",
      "k__Bacteria;p__[Thermi];c__Deinococci;o__Deinoc...  k__Bacteria;p__[Thermi];c__Deinococci;o__Deino...\n",
      "k__Bacteria;p__[Thermi];c__Deinococci;o__Therma...  k__Bacteria;p__[Thermi];c__Deinococci;o__Therm...\n"
     ]
    }
   ],
   "source": [
    "print(Summer_L5.feature_metadata)"
   ]
  },
  {
   "cell_type": "markdown",
   "metadata": {},
   "source": [
    "## Summer L5 modeling"
   ]
  },
  {
   "cell_type": "code",
   "execution_count": 6,
   "metadata": {},
   "outputs": [],
   "source": [
    "# groupKfold = 3, will leave out one body for each spring model\n",
    "gkf = GroupKFold(3)\n",
    "\n",
    "X = Summer_L5.data\n",
    "y = Summer_L5.sample_metadata['ADD_0']\n",
    "y = (y.astype(float))\n",
    "\n",
    "groups = Summer_L5.sample_metadata['host_subject_id']\n",
    "\n",
    "# used to test the param grid for parameter tuning\n",
    "# use the output of this estimator below for input into new estimator (not commented out)\n",
    "#param_grid = {\"max_depth\": [4, 8, 16, None],\n",
    "#              \"max_features\": ['sqrt', 'log2', 0.1],\n",
    "#              \"min_samples_split\": [0.001, 0.01, 0.1],\n",
    "#              \"min_weight_fraction_leaf\": [0.0001, 0.001, 0.01],\n",
    "#              \"bootstrap\": [True, False]}\n",
    "\n",
    "param_grid = {\"max_depth\": [8],\n",
    "          \"max_features\": ['sqrt'],\n",
    "          \"min_samples_split\": [0.001],\n",
    "          \"min_weight_fraction_leaf\": [0.0001],\n",
    "          \"bootstrap\": [False]}\n",
    "\n",
    "rf = RandomForestRegressor(n_estimators=1000, random_state=999, criterion='mae')\n",
    "gs = GridSearchCV(rf, param_grid=param_grid, cv=gkf.split(X, y, groups), scoring='neg_mean_absolute_error', n_jobs=1)"
   ]
  },
  {
   "cell_type": "code",
   "execution_count": 7,
   "metadata": {},
   "outputs": [
    {
     "data": {
      "text/plain": [
       "GridSearchCV(cv=<generator object _BaseKFold.split at 0x7fde45a616d0>,\n",
       "             error_score=nan,\n",
       "             estimator=RandomForestRegressor(bootstrap=True, ccp_alpha=0.0,\n",
       "                                             criterion='mae', max_depth=None,\n",
       "                                             max_features='auto',\n",
       "                                             max_leaf_nodes=None,\n",
       "                                             max_samples=None,\n",
       "                                             min_impurity_decrease=0.0,\n",
       "                                             min_impurity_split=None,\n",
       "                                             min_samples_leaf=1,\n",
       "                                             min_samples_split=2,\n",
       "                                             min_weight_fraction_leaf=0.0,\n",
       "                                             n...tors=1000, n_jobs=None,\n",
       "                                             oob_score=False, random_state=999,\n",
       "                                             verbose=0, warm_start=False),\n",
       "             iid='deprecated', n_jobs=1,\n",
       "             param_grid={'bootstrap': [False], 'max_depth': [8],\n",
       "                         'max_features': ['sqrt'], 'min_samples_split': [0.001],\n",
       "                         'min_weight_fraction_leaf': [0.0001]},\n",
       "             pre_dispatch='2*n_jobs', refit=True, return_train_score=False,\n",
       "             scoring='neg_mean_absolute_error', verbose=0)"
      ]
     },
     "execution_count": 7,
     "metadata": {},
     "output_type": "execute_result"
    }
   ],
   "source": [
    "gs.fit(X, y)"
   ]
  },
  {
   "cell_type": "code",
   "execution_count": 8,
   "metadata": {},
   "outputs": [
    {
     "name": "stdout",
     "output_type": "stream",
     "text": [
      "{'bootstrap': False, 'max_depth': 8, 'max_features': 'sqrt', 'min_samples_split': 0.001, 'min_weight_fraction_leaf': 0.0001}\n"
     ]
    }
   ],
   "source": [
    "# this line is used when run with the first param grid to determine what the best parameters are for tuning\n",
    "print(gs.best_params_)"
   ]
  },
  {
   "cell_type": "code",
   "execution_count": 9,
   "metadata": {},
   "outputs": [
    {
     "name": "stdout",
     "output_type": "stream",
     "text": [
      "The best mean absolute error is 788.1\n"
     ]
    }
   ],
   "source": [
    "print('The best mean absolute error is', round(-gs.best_score_,2))"
   ]
  },
  {
   "cell_type": "code",
   "execution_count": 10,
   "metadata": {},
   "outputs": [
    {
     "data": {
      "text/plain": [
       "['models/bone_summer_L5_no_metadata.pkl']"
      ]
     },
     "execution_count": 10,
     "metadata": {},
     "output_type": "execute_result"
    }
   ],
   "source": [
    "joblib.dump(gs.best_estimator_, 'models/bone_summer_L5_no_metadata.pkl')"
   ]
  },
  {
   "cell_type": "code",
   "execution_count": 11,
   "metadata": {},
   "outputs": [
    {
     "data": {
      "text/plain": [
       "RandomForestRegressor(bootstrap=False, ccp_alpha=0.0, criterion='mae',\n",
       "                      max_depth=8, max_features='sqrt', max_leaf_nodes=None,\n",
       "                      max_samples=None, min_impurity_decrease=0.0,\n",
       "                      min_impurity_split=None, min_samples_leaf=1,\n",
       "                      min_samples_split=0.001, min_weight_fraction_leaf=0.0001,\n",
       "                      n_estimators=1000, n_jobs=None, oob_score=False,\n",
       "                      random_state=999, verbose=0, warm_start=False)"
      ]
     },
     "execution_count": 11,
     "metadata": {},
     "output_type": "execute_result"
    }
   ],
   "source": [
    "bone_summer_L5 = joblib.load('models/bone_summer_L5_no_metadata.pkl')\n",
    "bone_summer_L5"
   ]
  },
  {
   "cell_type": "markdown",
   "metadata": {},
   "source": [
    "## Determine important features of summer L5 model"
   ]
  },
  {
   "cell_type": "code",
   "execution_count": 47,
   "metadata": {},
   "outputs": [
    {
     "name": "stdout",
     "output_type": "stream",
     "text": [
      "Feature:\t\t\t\tImportance:\n",
      "1. k__Bacteria;p__Actinobacteria;c__Actinobacteria;o__Actinomycetales;f__Nocardiaceae\t0.03308882868389938\n",
      "2. k__Bacteria;p__Proteobacteria;c__Alphaproteobacteria;o__Rhizobiales;f__Phyllobacteriaceae\t0.029684497761835335\n",
      "3. k__Bacteria;p__Actinobacteria;c__Thermoleophilia;o__Solirubrobacterales;f__\t0.029392396552183554\n",
      "4. k__Bacteria;p__Proteobacteria;c__Alphaproteobacteria;o__Rhodobacterales;f__Rhodobacteraceae\t0.024450871538491997\n",
      "5. k__Bacteria;p__Proteobacteria;c__Alphaproteobacteria;o__Rhizobiales;f__Hyphomicrobiaceae\t0.02337507586005258\n",
      "6. k__Bacteria;p__Proteobacteria;c__Betaproteobacteria;o__Burkholderiales;f__Comamonadaceae\t0.022743085007181182\n",
      "7. k__Bacteria;p__Proteobacteria;c__Alphaproteobacteria;o__Rhizobiales;f__\t0.022306965171448378\n",
      "8. k__Bacteria;p__Proteobacteria;c__Alphaproteobacteria;o__Sphingomonadales;f__Sphingomonadaceae\t0.021901253752666012\n",
      "9. k__Bacteria;p__Actinobacteria;c__Acidimicrobiia;o__Acidimicrobiales;f__\t0.02170786925522077\n",
      "10. k__Bacteria;p__Proteobacteria;c__Alphaproteobacteria;o__Rhizobiales;f__Bradyrhizobiaceae\t0.020313865979537042\n",
      "11. k__Bacteria;p__Bacteroidetes;c__[Saprospirae];o__[Saprospirales];f__Chitinophagaceae\t0.018040617250014934\n",
      "12. k__Bacteria;p__Proteobacteria;c__Alphaproteobacteria;o__Caulobacterales;f__Caulobacteraceae\t0.01793584463718679\n",
      "13. k__Bacteria;p__Verrucomicrobia;c__[Spartobacteria];o__[Chthoniobacterales];f__[Chthoniobacteraceae]\t0.01702032416375851\n",
      "14. k__Bacteria;p__Planctomycetes;c__Planctomycetia;o__Planctomycetales;f__Planctomycetaceae\t0.016211784047795302\n",
      "15. k__Bacteria;p__Actinobacteria;c__Thermoleophilia;o__Solirubrobacterales;f__Patulibacteraceae\t0.01560309753512461\n",
      "16. k__Bacteria;p__Proteobacteria;c__Alphaproteobacteria;o__Rhizobiales;f__Methylocystaceae\t0.015518690472438196\n",
      "17. k__Bacteria;p__Actinobacteria;c__Actinobacteria;o__Actinomycetales;f__Gordoniaceae\t0.014518503852848249\n",
      "18. k__Bacteria;p__Bacteroidetes;c__Flavobacteriia;o__Flavobacteriales;f__[Weeksellaceae]\t0.013857119892856441\n",
      "19. k__Bacteria;p__Actinobacteria;c__Actinobacteria;o__Actinomycetales;f__Ruaniaceae\t0.0130472897324764\n",
      "20. k__Bacteria;p__Actinobacteria;c__Actinobacteria;o__Actinomycetales;f__Microbacteriaceae\t0.012922550195700091\n",
      "21. k__Bacteria;p__Proteobacteria;c__Alphaproteobacteria;o__Rhizobiales;f__Brucellaceae\t0.01237156087995239\n",
      "22. k__Bacteria;p__Actinobacteria;c__Actinobacteria;o__Actinomycetales;f__Intrasporangiaceae\t0.012102356972457038\n",
      "23. k__Bacteria;p__Actinobacteria;c__Thermoleophilia;o__Solirubrobacterales;f__Conexibacteraceae\t0.011481374365388044\n",
      "24. k__Bacteria;p__Actinobacteria;c__Actinobacteria;o__Actinomycetales;f__Nocardioidaceae\t0.011158772538254372\n",
      "25. k__Bacteria;p__Gemmatimonadetes;c__Gemmatimonadetes;o__N1423WL;f__\t0.010520238595865716\n"
     ]
    }
   ],
   "source": [
    "importances = bone_summer_L5.feature_importances_\n",
    "std = np.std([tree.feature_importances_ for tree in bone_summer_L5.estimators_],\n",
    "             axis=0)\n",
    "indices = np.argsort(importances)[::-1]\n",
    "\n",
    "feature_metadata = Summer_L5.feature_metadata\n",
    "np.savetxt(\"importances/bone_summer_L5_no_metadata_features.csv\", feature_metadata, delimiter=\",\", fmt='%s')\n",
    "\n",
    "\n",
    "#print the important ids in order\n",
    "general_importances = []\n",
    "count = 0\n",
    "print(\"Feature:\\t\\t\\t\\tImportance:\")\n",
    "for i in indices:\n",
    "    general_importances += (Summer_L5.feature_metadata.index.values[i], importances[indices[count]])\n",
    "    if count < 25:\n",
    "        print(str(count+1)+\". \"+str(Summer_L5.feature_metadata.index.values[i])+\"\\t\"+str(importances[indices[count]]))\n",
    "    count += 1\n",
    "    \n",
    "general_importances_df = pd.DataFrame(np.array(general_importances).reshape(516,1))\n",
    "\n",
    "np.savetxt(\"importances/bone_summer_L5_no_features_importances.csv\", general_importances_df, delimiter=\",\", fmt='%s')"
   ]
  },
  {
   "cell_type": "markdown",
   "metadata": {},
   "source": [
    "## Import rarefied table collapsed at level 4"
   ]
  },
  {
   "cell_type": "code",
   "execution_count": 12,
   "metadata": {},
   "outputs": [
    {
     "name": "stdout",
     "output_type": "stream",
     "text": [
      "2021-06-01 13:30:17 WARNING These have metadata but do not have data - dropped (51): {'11553.CSU.extraction.blank11', '11553.BLANKrib.10H', '11553.SHSU.STAFS2016.011.L09', '11553.BLANKrib.9D', '11553.BLANKrib.12B', '11553.BLANKrib.9F', '11553.CSU.extraction.blank12', '11553.CSU.extraction.blank13', '11553.BLANKrib.12H', '11553.BLANKrib.10F', '11553.CSU.extraction.blank1', '11553.CSU.extraction.blank14', '11553.CSU.extraction.blank10', '11553.CSU.extraction.blank4', '11553.BLANKrib.11F', '11553.BLANKrib.12D', '11553.BLANKrib.10D', '11553.BLANKrib.11B', '11553.BLANKrib.12F', '11553.BLANKrib.9C', '11553.CSU.extraction.blank8', '11553.CSU.extraction.blank5', '11553.BLANKrib.12G', '11553.BLANKrib.9A', '11553.BLANKrib.11G', '11553.BLANKrib.10A', '11553.BLANKrib.11C', '11553.BLANKrib.9E', '11553.CSU.extraction.blank6', '11553.BLANKrib.9B', '11553.BLANKrib.10G', '11553.CSU.extraction.blank2', '11553.BLANKrib.10B', '11553.BLANKrib.11H', '11553.BLANKrib.12A', '11553.BLANKrib.10E', '11553.CSU.extraction.blank9', '11553.CSU.extraction.blank15', '11553.BLANKrib.10C', '11553.BLANKrib.12C', '11553.STAFS.2016.064.L12', '11553.BLANKrib.11D', '11553.SHSU.STAFS2016.007.R11', '11553.CSU.extraction.blank3', '11553.BLANKrib.11A', '11553.BLANKrib.12E', '11553.BLANKrib.11E', '11553.BLANKrib.9H', '11553.BLANKrib.5B', '11553.BLANKrib.9G', '11553.CSU.extraction.blank7'}\n"
     ]
    }
   ],
   "source": [
    "exp_L4 = ca.read_amplicon('/Users/heatherdeel/Dropbox/PMI_3_analyses/bone/01_16S/01_qiime2_analysis/feature_tables/collapsed_tables/frag_ins_noChloMito_17098_L4_table.biom', '../02_metadata/maps/map3.txt', min_reads=0, normalize = None)\n"
   ]
  },
  {
   "cell_type": "code",
   "execution_count": 13,
   "metadata": {},
   "outputs": [
    {
     "data": {
      "text/plain": [
       "STAFS2016.067    8\n",
       "STAFS2016.065    8\n",
       "STAFS2016.064    7\n",
       "Name: host_subject_id, dtype: int64"
      ]
     },
     "execution_count": 13,
     "metadata": {},
     "output_type": "execute_result"
    }
   ],
   "source": [
    "# filter to summer\n",
    "Summer_L4 = exp_L4.filter_samples('season', 'summer')\n",
    "Summer_L4.sample_metadata.host_subject_id.value_counts()"
   ]
  },
  {
   "cell_type": "code",
   "execution_count": 14,
   "metadata": {},
   "outputs": [
    {
     "name": "stdout",
     "output_type": "stream",
     "text": [
      "                                                                                          _feature_id\n",
      "k__Archaea;p__Crenarchaeota;c__Thaumarchaeota;o...  k__Archaea;p__Crenarchaeota;c__Thaumarchaeota;...\n",
      "k__Archaea;p__Euryarchaeota;c__Methanobacteria;...  k__Archaea;p__Euryarchaeota;c__Methanobacteria...\n",
      "k__Bacteria;__;__;__                                                             k__Bacteria;__;__;__\n",
      "k__Bacteria;p__Acidobacteria;c__DA052;o__Ellin6513  k__Bacteria;p__Acidobacteria;c__DA052;o__Ellin...\n",
      "k__Bacteria;p__Acidobacteria;c__Solibacteres;o_...  k__Bacteria;p__Acidobacteria;c__Solibacteres;o...\n",
      "k__Bacteria;p__Acidobacteria;c__[Chloracidobact...  k__Bacteria;p__Acidobacteria;c__[Chloracidobac...\n",
      "k__Bacteria;p__Actinobacteria;c__Acidimicrobiia...  k__Bacteria;p__Actinobacteria;c__Acidimicrobii...\n",
      "k__Bacteria;p__Actinobacteria;c__Actinobacteria...  k__Bacteria;p__Actinobacteria;c__Actinobacteri...\n",
      "k__Bacteria;p__Actinobacteria;c__Coriobacteriia...  k__Bacteria;p__Actinobacteria;c__Coriobacterii...\n",
      "k__Bacteria;p__Actinobacteria;c__Rubrobacteria;...  k__Bacteria;p__Actinobacteria;c__Rubrobacteria...\n",
      "k__Bacteria;p__Actinobacteria;c__Thermoleophili...  k__Bacteria;p__Actinobacteria;c__Thermoleophil...\n",
      "k__Bacteria;p__Actinobacteria;c__Thermoleophili...  k__Bacteria;p__Actinobacteria;c__Thermoleophil...\n",
      "k__Bacteria;p__Armatimonadetes;c__Armatimonadia...  k__Bacteria;p__Armatimonadetes;c__Armatimonadi...\n",
      "k__Bacteria;p__Armatimonadetes;c__SHA-37;o__             k__Bacteria;p__Armatimonadetes;c__SHA-37;o__\n",
      "k__Bacteria;p__Armatimonadetes;c__SJA-176;o__GA...  k__Bacteria;p__Armatimonadetes;c__SJA-176;o__G...\n",
      "k__Bacteria;p__Armatimonadetes;c__[Fimbriimonad...  k__Bacteria;p__Armatimonadetes;c__[Fimbriimona...\n",
      "k__Bacteria;p__BRC1;c__PRR-11;o__                                   k__Bacteria;p__BRC1;c__PRR-11;o__\n",
      "k__Bacteria;p__Bacteroidetes;c__Bacteroidia;o__...  k__Bacteria;p__Bacteroidetes;c__Bacteroidia;o_...\n",
      "k__Bacteria;p__Bacteroidetes;c__Cytophagia;o__C...  k__Bacteria;p__Bacteroidetes;c__Cytophagia;o__...\n",
      "k__Bacteria;p__Bacteroidetes;c__Flavobacteriia;...  k__Bacteria;p__Bacteroidetes;c__Flavobacteriia...\n",
      "k__Bacteria;p__Bacteroidetes;c__Sphingobacterii...  k__Bacteria;p__Bacteroidetes;c__Sphingobacteri...\n",
      "k__Bacteria;p__Bacteroidetes;c__[Saprospirae];o...  k__Bacteria;p__Bacteroidetes;c__[Saprospirae];...\n",
      "k__Bacteria;p__Chlorobi;c__OPB56;o__                             k__Bacteria;p__Chlorobi;c__OPB56;o__\n",
      "k__Bacteria;p__Chloroflexi;c__Chloroflexi;o__AK...  k__Bacteria;p__Chloroflexi;c__Chloroflexi;o__A...\n",
      "k__Bacteria;p__Chloroflexi;c__Ellin6529;o__               k__Bacteria;p__Chloroflexi;c__Ellin6529;o__\n",
      "k__Bacteria;p__Chloroflexi;c__Thermomicrobia;o__     k__Bacteria;p__Chloroflexi;c__Thermomicrobia;o__\n",
      "k__Bacteria;p__Chloroflexi;c__Thermomicrobia;o_...  k__Bacteria;p__Chloroflexi;c__Thermomicrobia;o...\n",
      "k__Bacteria;p__Cyanobacteria;c__4C0d-2;o__SM1D11     k__Bacteria;p__Cyanobacteria;c__4C0d-2;o__SM1D11\n",
      "k__Bacteria;p__Cyanobacteria;c__4C0d-2;o__YS2           k__Bacteria;p__Cyanobacteria;c__4C0d-2;o__YS2\n",
      "k__Bacteria;p__Cyanobacteria;c__ML635J-21;o__           k__Bacteria;p__Cyanobacteria;c__ML635J-21;o__\n",
      "k__Bacteria;p__Cyanobacteria;c__Oscillatoriophy...  k__Bacteria;p__Cyanobacteria;c__Oscillatorioph...\n",
      "k__Bacteria;p__Deferribacteres;c__Deferribacter...  k__Bacteria;p__Deferribacteres;c__Deferribacte...\n",
      "k__Bacteria;p__FBP;c__;o__                                                 k__Bacteria;p__FBP;c__;o__\n",
      "k__Bacteria;p__Firmicutes;c__AHT28;o__                         k__Bacteria;p__Firmicutes;c__AHT28;o__\n",
      "k__Bacteria;p__Firmicutes;c__Bacilli;o__Bacillales  k__Bacteria;p__Firmicutes;c__Bacilli;o__Bacill...\n",
      "k__Bacteria;p__Firmicutes;c__Bacilli;o__Gemellales  k__Bacteria;p__Firmicutes;c__Bacilli;o__Gemell...\n",
      "k__Bacteria;p__Firmicutes;c__Bacilli;o__Lactoba...  k__Bacteria;p__Firmicutes;c__Bacilli;o__Lactob...\n",
      "k__Bacteria;p__Firmicutes;c__Clostridia;o__Clos...  k__Bacteria;p__Firmicutes;c__Clostridia;o__Clo...\n",
      "k__Bacteria;p__Firmicutes;c__Clostridia;o__MBA08     k__Bacteria;p__Firmicutes;c__Clostridia;o__MBA08\n",
      "k__Bacteria;p__Firmicutes;c__Clostridia;o__OPB54     k__Bacteria;p__Firmicutes;c__Clostridia;o__OPB54\n",
      "k__Bacteria;p__Firmicutes;c__Clostridia;o__Ther...  k__Bacteria;p__Firmicutes;c__Clostridia;o__The...\n",
      "k__Bacteria;p__Firmicutes;c__Erysipelotrichi;o_...  k__Bacteria;p__Firmicutes;c__Erysipelotrichi;o...\n",
      "k__Bacteria;p__Fusobacteria;c__Fusobacteriia;o_...  k__Bacteria;p__Fusobacteria;c__Fusobacteriia;o...\n",
      "k__Bacteria;p__GN02;c__BD1-5;o__                                     k__Bacteria;p__GN02;c__BD1-5;o__\n",
      "k__Bacteria;p__Gemmatimonadetes;c__Gemm-3;o__           k__Bacteria;p__Gemmatimonadetes;c__Gemm-3;o__\n",
      "k__Bacteria;p__Gemmatimonadetes;c__Gemmatimonad...  k__Bacteria;p__Gemmatimonadetes;c__Gemmatimona...\n",
      "k__Bacteria;p__Gemmatimonadetes;c__Gemmatimonad...  k__Bacteria;p__Gemmatimonadetes;c__Gemmatimona...\n",
      "k__Bacteria;p__Gemmatimonadetes;c__Gemmatimonad...  k__Bacteria;p__Gemmatimonadetes;c__Gemmatimona...\n",
      "k__Bacteria;p__Gemmatimonadetes;c__Gemmatimonad...  k__Bacteria;p__Gemmatimonadetes;c__Gemmatimona...\n",
      "k__Bacteria;p__OD1;c__SM2F11;o__                                     k__Bacteria;p__OD1;c__SM2F11;o__\n",
      "k__Bacteria;p__OP11;c__;o__                                               k__Bacteria;p__OP11;c__;o__\n",
      "k__Bacteria;p__OP11;c__OP11-2;o__WCHB1-07                   k__Bacteria;p__OP11;c__OP11-2;o__WCHB1-07\n",
      "k__Bacteria;p__Planctomycetes;c__Phycisphaerae;...  k__Bacteria;p__Planctomycetes;c__Phycisphaerae...\n",
      "k__Bacteria;p__Planctomycetes;c__Phycisphaerae;...  k__Bacteria;p__Planctomycetes;c__Phycisphaerae...\n",
      "k__Bacteria;p__Planctomycetes;c__Planctomycetia...  k__Bacteria;p__Planctomycetes;c__Planctomyceti...\n",
      "k__Bacteria;p__Planctomycetes;c__Planctomycetia...  k__Bacteria;p__Planctomycetes;c__Planctomyceti...\n",
      "k__Bacteria;p__Planctomycetes;c__Planctomycetia...  k__Bacteria;p__Planctomycetes;c__Planctomyceti...\n",
      "k__Bacteria;p__Planctomycetes;c__vadinHA49;o__P...  k__Bacteria;p__Planctomycetes;c__vadinHA49;o__...\n",
      "k__Bacteria;p__Proteobacteria;c__;o__                           k__Bacteria;p__Proteobacteria;c__;o__\n",
      "k__Bacteria;p__Proteobacteria;c__Alphaproteobac...  k__Bacteria;p__Proteobacteria;c__Alphaproteoba...\n",
      "k__Bacteria;p__Proteobacteria;c__Alphaproteobac...  k__Bacteria;p__Proteobacteria;c__Alphaproteoba...\n",
      "k__Bacteria;p__Proteobacteria;c__Alphaproteobac...  k__Bacteria;p__Proteobacteria;c__Alphaproteoba...\n",
      "k__Bacteria;p__Proteobacteria;c__Alphaproteobac...  k__Bacteria;p__Proteobacteria;c__Alphaproteoba...\n",
      "k__Bacteria;p__Proteobacteria;c__Alphaproteobac...  k__Bacteria;p__Proteobacteria;c__Alphaproteoba...\n",
      "k__Bacteria;p__Proteobacteria;c__Alphaproteobac...  k__Bacteria;p__Proteobacteria;c__Alphaproteoba...\n",
      "k__Bacteria;p__Proteobacteria;c__Alphaproteobac...  k__Bacteria;p__Proteobacteria;c__Alphaproteoba...\n",
      "k__Bacteria;p__Proteobacteria;c__Alphaproteobac...  k__Bacteria;p__Proteobacteria;c__Alphaproteoba...\n",
      "k__Bacteria;p__Proteobacteria;c__Alphaproteobac...  k__Bacteria;p__Proteobacteria;c__Alphaproteoba...\n",
      "k__Bacteria;p__Proteobacteria;c__Alphaproteobac...  k__Bacteria;p__Proteobacteria;c__Alphaproteoba...\n",
      "k__Bacteria;p__Proteobacteria;c__Alphaproteobac...  k__Bacteria;p__Proteobacteria;c__Alphaproteoba...\n",
      "k__Bacteria;p__Proteobacteria;c__Betaproteobact...  k__Bacteria;p__Proteobacteria;c__Betaproteobac...\n",
      "k__Bacteria;p__Proteobacteria;c__Betaproteobact...  k__Bacteria;p__Proteobacteria;c__Betaproteobac...\n",
      "k__Bacteria;p__Proteobacteria;c__Betaproteobact...  k__Bacteria;p__Proteobacteria;c__Betaproteobac...\n",
      "k__Bacteria;p__Proteobacteria;c__Betaproteobact...  k__Bacteria;p__Proteobacteria;c__Betaproteobac...\n",
      "k__Bacteria;p__Proteobacteria;c__Betaproteobact...  k__Bacteria;p__Proteobacteria;c__Betaproteobac...\n",
      "k__Bacteria;p__Proteobacteria;c__Betaproteobact...  k__Bacteria;p__Proteobacteria;c__Betaproteobac...\n",
      "k__Bacteria;p__Proteobacteria;c__Betaproteobact...  k__Bacteria;p__Proteobacteria;c__Betaproteobac...\n",
      "k__Bacteria;p__Proteobacteria;c__Betaproteobact...  k__Bacteria;p__Proteobacteria;c__Betaproteobac...\n",
      "k__Bacteria;p__Proteobacteria;c__Betaproteobact...  k__Bacteria;p__Proteobacteria;c__Betaproteobac...\n",
      "k__Bacteria;p__Proteobacteria;c__Betaproteobact...  k__Bacteria;p__Proteobacteria;c__Betaproteobac...\n",
      "k__Bacteria;p__Proteobacteria;c__Betaproteobact...  k__Bacteria;p__Proteobacteria;c__Betaproteobac...\n",
      "k__Bacteria;p__Proteobacteria;c__Betaproteobact...  k__Bacteria;p__Proteobacteria;c__Betaproteobac...\n",
      "k__Bacteria;p__Proteobacteria;c__Deltaproteobac...  k__Bacteria;p__Proteobacteria;c__Deltaproteoba...\n",
      "k__Bacteria;p__Proteobacteria;c__Deltaproteobac...  k__Bacteria;p__Proteobacteria;c__Deltaproteoba...\n",
      "k__Bacteria;p__Proteobacteria;c__Deltaproteobac...  k__Bacteria;p__Proteobacteria;c__Deltaproteoba...\n",
      "k__Bacteria;p__Proteobacteria;c__Deltaproteobac...  k__Bacteria;p__Proteobacteria;c__Deltaproteoba...\n",
      "k__Bacteria;p__Proteobacteria;c__Deltaproteobac...  k__Bacteria;p__Proteobacteria;c__Deltaproteoba...\n",
      "k__Bacteria;p__Proteobacteria;c__Deltaproteobac...  k__Bacteria;p__Proteobacteria;c__Deltaproteoba...\n",
      "k__Bacteria;p__Proteobacteria;c__Deltaproteobac...  k__Bacteria;p__Proteobacteria;c__Deltaproteoba...\n",
      "k__Bacteria;p__Proteobacteria;c__Deltaproteobac...  k__Bacteria;p__Proteobacteria;c__Deltaproteoba...\n",
      "k__Bacteria;p__Proteobacteria;c__Deltaproteobac...  k__Bacteria;p__Proteobacteria;c__Deltaproteoba...\n",
      "k__Bacteria;p__Proteobacteria;c__Deltaproteobac...  k__Bacteria;p__Proteobacteria;c__Deltaproteoba...\n",
      "k__Bacteria;p__Proteobacteria;c__Epsilonproteob...  k__Bacteria;p__Proteobacteria;c__Epsilonproteo...\n",
      "k__Bacteria;p__Proteobacteria;c__Gammaproteobac...  k__Bacteria;p__Proteobacteria;c__Gammaproteoba...\n",
      "k__Bacteria;p__Proteobacteria;c__Gammaproteobac...  k__Bacteria;p__Proteobacteria;c__Gammaproteoba...\n",
      "k__Bacteria;p__Proteobacteria;c__Gammaproteobac...  k__Bacteria;p__Proteobacteria;c__Gammaproteoba...\n",
      "k__Bacteria;p__Proteobacteria;c__Gammaproteobac...  k__Bacteria;p__Proteobacteria;c__Gammaproteoba...\n",
      "k__Bacteria;p__Proteobacteria;c__Gammaproteobac...  k__Bacteria;p__Proteobacteria;c__Gammaproteoba...\n",
      "k__Bacteria;p__Proteobacteria;c__Gammaproteobac...  k__Bacteria;p__Proteobacteria;c__Gammaproteoba...\n",
      "k__Bacteria;p__Proteobacteria;c__Gammaproteobac...  k__Bacteria;p__Proteobacteria;c__Gammaproteoba...\n",
      "k__Bacteria;p__Proteobacteria;c__Gammaproteobac...  k__Bacteria;p__Proteobacteria;c__Gammaproteoba...\n",
      "k__Bacteria;p__Proteobacteria;c__Gammaproteobac...  k__Bacteria;p__Proteobacteria;c__Gammaproteoba...\n",
      "k__Bacteria;p__Proteobacteria;c__Gammaproteobac...  k__Bacteria;p__Proteobacteria;c__Gammaproteoba...\n",
      "k__Bacteria;p__Proteobacteria;c__Gammaproteobac...  k__Bacteria;p__Proteobacteria;c__Gammaproteoba...\n",
      "k__Bacteria;p__Proteobacteria;c__Gammaproteobac...  k__Bacteria;p__Proteobacteria;c__Gammaproteoba...\n",
      "k__Bacteria;p__Proteobacteria;c__Gammaproteobac...  k__Bacteria;p__Proteobacteria;c__Gammaproteoba...\n",
      "k__Bacteria;p__Proteobacteria;c__Gammaproteobac...  k__Bacteria;p__Proteobacteria;c__Gammaproteoba...\n",
      "k__Bacteria;p__Proteobacteria;c__Gammaproteobac...  k__Bacteria;p__Proteobacteria;c__Gammaproteoba...\n",
      "k__Bacteria;p__Spirochaetes;c__Spirochaetes;o__...  k__Bacteria;p__Spirochaetes;c__Spirochaetes;o_...\n",
      "k__Bacteria;p__Spirochaetes;c__Spirochaetes;o__...  k__Bacteria;p__Spirochaetes;c__Spirochaetes;o_...\n",
      "k__Bacteria;p__Synergistetes;c__Synergistia;o__...  k__Bacteria;p__Synergistetes;c__Synergistia;o_...\n",
      "k__Bacteria;p__TM6;c__SJA-4;o__                                       k__Bacteria;p__TM6;c__SJA-4;o__\n",
      "k__Bacteria;p__TM7;c__;o__                                                 k__Bacteria;p__TM7;c__;o__\n",
      "k__Bacteria;p__TM7;c__TM7-1;o__                                       k__Bacteria;p__TM7;c__TM7-1;o__\n",
      "k__Bacteria;p__TM7;c__TM7-3;o__                                       k__Bacteria;p__TM7;c__TM7-3;o__\n",
      "k__Bacteria;p__TM7;c__TM7-3;o__I025                               k__Bacteria;p__TM7;c__TM7-3;o__I025\n",
      "k__Bacteria;p__Tenericutes;c__Mollicutes;o__Ach...  k__Bacteria;p__Tenericutes;c__Mollicutes;o__Ac...\n",
      "k__Bacteria;p__Tenericutes;c__Mollicutes;o__Ana...  k__Bacteria;p__Tenericutes;c__Mollicutes;o__An...\n",
      "k__Bacteria;p__Tenericutes;c__Mollicutes;o__Ent...  k__Bacteria;p__Tenericutes;c__Mollicutes;o__En...\n",
      "k__Bacteria;p__Tenericutes;c__Mollicutes;o__RF39     k__Bacteria;p__Tenericutes;c__Mollicutes;o__RF39\n",
      "k__Bacteria;p__Verrucomicrobia;c__Opitutae;o__         k__Bacteria;p__Verrucomicrobia;c__Opitutae;o__\n",
      "k__Bacteria;p__Verrucomicrobia;c__Opitutae;o__O...  k__Bacteria;p__Verrucomicrobia;c__Opitutae;o__...\n",
      "k__Bacteria;p__Verrucomicrobia;c__Opitutae;o__P...  k__Bacteria;p__Verrucomicrobia;c__Opitutae;o__...\n",
      "k__Bacteria;p__Verrucomicrobia;c__Opitutae;o__[...  k__Bacteria;p__Verrucomicrobia;c__Opitutae;o__...\n",
      "k__Bacteria;p__Verrucomicrobia;c__Verrucomicrob...  k__Bacteria;p__Verrucomicrobia;c__Verrucomicro...\n",
      "k__Bacteria;p__Verrucomicrobia;c__[Spartobacter...  k__Bacteria;p__Verrucomicrobia;c__[Spartobacte...\n",
      "k__Bacteria;p__WPS-2;c__;o__                                             k__Bacteria;p__WPS-2;c__;o__\n",
      "k__Bacteria;p__[Thermi];c__Deinococci;o__Deinoc...  k__Bacteria;p__[Thermi];c__Deinococci;o__Deino...\n",
      "k__Bacteria;p__[Thermi];c__Deinococci;o__Thermales  k__Bacteria;p__[Thermi];c__Deinococci;o__Therm...\n"
     ]
    }
   ],
   "source": [
    "print(Summer_L4.feature_metadata)"
   ]
  },
  {
   "cell_type": "markdown",
   "metadata": {},
   "source": [
    "## Summer L4 modeling"
   ]
  },
  {
   "cell_type": "code",
   "execution_count": 15,
   "metadata": {},
   "outputs": [],
   "source": [
    "# groupKfold = 3, will leave out one body for each spring model\n",
    "gkf = GroupKFold(3)\n",
    "\n",
    "X = Summer_L4.data\n",
    "y = Summer_L4.sample_metadata['ADD_0']\n",
    "y = (y.astype(float))\n",
    "\n",
    "groups = Summer_L4.sample_metadata['host_subject_id']\n",
    "\n",
    "# used to test the param grid for parameter tuning\n",
    "# use the output of this estimator below for input into new estimator (not commented out)\n",
    "#param_grid = {\"max_depth\": [4, 8, 16, None],\n",
    "#              \"max_features\": ['sqrt', 'log2', 0.1],\n",
    "#              \"min_samples_split\": [0.001, 0.01, 0.1],\n",
    "#              \"min_weight_fraction_leaf\": [0.0001, 0.001, 0.01],\n",
    "#              \"bootstrap\": [True, False]}\n",
    "\n",
    "param_grid = {\"max_depth\": [8],\n",
    "          \"max_features\": [0.1],\n",
    "          \"min_samples_split\": [0.001],\n",
    "          \"min_weight_fraction_leaf\": [0.0001],\n",
    "          \"bootstrap\": [False]}\n",
    "\n",
    "rf = RandomForestRegressor(n_estimators=1000, random_state=999, criterion='mae')\n",
    "gs = GridSearchCV(rf, param_grid=param_grid, cv=gkf.split(X, y, groups), scoring='neg_mean_absolute_error', n_jobs=1)"
   ]
  },
  {
   "cell_type": "code",
   "execution_count": 16,
   "metadata": {},
   "outputs": [
    {
     "data": {
      "text/plain": [
       "GridSearchCV(cv=<generator object _BaseKFold.split at 0x7fde460e2350>,\n",
       "             error_score=nan,\n",
       "             estimator=RandomForestRegressor(bootstrap=True, ccp_alpha=0.0,\n",
       "                                             criterion='mae', max_depth=None,\n",
       "                                             max_features='auto',\n",
       "                                             max_leaf_nodes=None,\n",
       "                                             max_samples=None,\n",
       "                                             min_impurity_decrease=0.0,\n",
       "                                             min_impurity_split=None,\n",
       "                                             min_samples_leaf=1,\n",
       "                                             min_samples_split=2,\n",
       "                                             min_weight_fraction_leaf=0.0,\n",
       "                                             n...imators=1000, n_jobs=None,\n",
       "                                             oob_score=False, random_state=999,\n",
       "                                             verbose=0, warm_start=False),\n",
       "             iid='deprecated', n_jobs=1,\n",
       "             param_grid={'bootstrap': [False], 'max_depth': [8],\n",
       "                         'max_features': [0.1], 'min_samples_split': [0.001],\n",
       "                         'min_weight_fraction_leaf': [0.0001]},\n",
       "             pre_dispatch='2*n_jobs', refit=True, return_train_score=False,\n",
       "             scoring='neg_mean_absolute_error', verbose=0)"
      ]
     },
     "execution_count": 16,
     "metadata": {},
     "output_type": "execute_result"
    }
   ],
   "source": [
    "gs.fit(X, y)"
   ]
  },
  {
   "cell_type": "code",
   "execution_count": 17,
   "metadata": {},
   "outputs": [
    {
     "name": "stdout",
     "output_type": "stream",
     "text": [
      "{'bootstrap': False, 'max_depth': 8, 'max_features': 0.1, 'min_samples_split': 0.001, 'min_weight_fraction_leaf': 0.0001}\n"
     ]
    }
   ],
   "source": [
    "# this line is used when run with the first param grid to determine what the best parameters are for tuning\n",
    "print(gs.best_params_)"
   ]
  },
  {
   "cell_type": "code",
   "execution_count": 18,
   "metadata": {},
   "outputs": [
    {
     "name": "stdout",
     "output_type": "stream",
     "text": [
      "The best mean absolute error is 834.82\n"
     ]
    }
   ],
   "source": [
    "print('The best mean absolute error is', round(-gs.best_score_,2))"
   ]
  },
  {
   "cell_type": "code",
   "execution_count": 19,
   "metadata": {},
   "outputs": [
    {
     "data": {
      "text/plain": [
       "['models/bone_summer_L4_no_metadata.pkl']"
      ]
     },
     "execution_count": 19,
     "metadata": {},
     "output_type": "execute_result"
    }
   ],
   "source": [
    "joblib.dump(gs.best_estimator_, 'models/bone_summer_L4_no_metadata.pkl')"
   ]
  },
  {
   "cell_type": "code",
   "execution_count": 20,
   "metadata": {},
   "outputs": [
    {
     "data": {
      "text/plain": [
       "RandomForestRegressor(bootstrap=False, ccp_alpha=0.0, criterion='mae',\n",
       "                      max_depth=8, max_features=0.1, max_leaf_nodes=None,\n",
       "                      max_samples=None, min_impurity_decrease=0.0,\n",
       "                      min_impurity_split=None, min_samples_leaf=1,\n",
       "                      min_samples_split=0.001, min_weight_fraction_leaf=0.0001,\n",
       "                      n_estimators=1000, n_jobs=None, oob_score=False,\n",
       "                      random_state=999, verbose=0, warm_start=False)"
      ]
     },
     "execution_count": 20,
     "metadata": {},
     "output_type": "execute_result"
    }
   ],
   "source": [
    "bone_summer_L4 = joblib.load('models/bone_summer_L4_no_metadata.pkl')\n",
    "bone_summer_L4"
   ]
  },
  {
   "cell_type": "markdown",
   "metadata": {},
   "source": [
    "## Determine important features of summer L4 model"
   ]
  },
  {
   "cell_type": "code",
   "execution_count": 58,
   "metadata": {},
   "outputs": [
    {
     "name": "stdout",
     "output_type": "stream",
     "text": [
      "Feature:\t\t\t\tImportance:\n",
      "1. k__Bacteria;p__Actinobacteria;c__Thermoleophilia;o__Solirubrobacterales\t0.05077120829664414\n",
      "2. k__Bacteria;p__Proteobacteria;c__Alphaproteobacteria;o__Rhizobiales\t0.049376261097152534\n",
      "3. k__Bacteria;p__Proteobacteria;c__Alphaproteobacteria;o__Rhodobacterales\t0.041984544754360024\n",
      "4. k__Bacteria;p__Actinobacteria;c__Acidimicrobiia;o__Acidimicrobiales\t0.03845661144479225\n",
      "5. k__Bacteria;p__Proteobacteria;c__Alphaproteobacteria;o__Sphingomonadales\t0.037337651554120194\n",
      "6. k__Bacteria;p__Proteobacteria;c__Alphaproteobacteria;o__Caulobacterales\t0.03564867194786332\n",
      "7. k__Bacteria;p__Bacteroidetes;c__Flavobacteriia;o__Flavobacteriales\t0.035319211631802946\n",
      "8. k__Bacteria;p__Verrucomicrobia;c__[Spartobacteria];o__[Chthoniobacterales]\t0.03423314959719621\n",
      "9. k__Bacteria;p__Planctomycetes;c__Planctomycetia;o__Planctomycetales\t0.03184929459571207\n",
      "10. k__Bacteria;p__Bacteroidetes;c__[Saprospirae];o__[Saprospirales]\t0.028218089629226555\n",
      "11. k__Bacteria;p__Proteobacteria;c__Alphaproteobacteria;o__Rhodospirillales\t0.024138446437522946\n",
      "12. k__Bacteria;p__Fusobacteria;c__Fusobacteriia;o__Fusobacteriales\t0.023145432474118436\n",
      "13. k__Bacteria;p__Chloroflexi;c__Thermomicrobia;o__JG30-KF-CM45\t0.022988717431856934\n",
      "14. k__Bacteria;p__Proteobacteria;c__Betaproteobacteria;o__Burkholderiales\t0.02278217943166583\n",
      "15. k__Bacteria;p__Bacteroidetes;c__Sphingobacteriia;o__Sphingobacteriales\t0.021402131045540757\n",
      "16. k__Bacteria;p__Actinobacteria;c__Thermoleophilia;o__Gaiellales\t0.020014518848642516\n",
      "17. k__Bacteria;p__Planctomycetes;c__Planctomycetia;o__Gemmatales\t0.018888659055679075\n",
      "18. k__Bacteria;p__Proteobacteria;c__Deltaproteobacteria;o__Bdellovibrionales\t0.018725693995516532\n",
      "19. k__Bacteria;p__Acidobacteria;c__Solibacteres;o__Solibacterales\t0.01830281574619424\n",
      "20. k__Bacteria;p__Proteobacteria;c__Alphaproteobacteria;o__Ellin329\t0.017597231681035948\n",
      "21. k__Bacteria;p__Gemmatimonadetes;c__Gemmatimonadetes;o__N1423WL\t0.017589919085109144\n",
      "22. k__Bacteria;p__Firmicutes;c__Bacilli;o__Lactobacillales\t0.01672949869940473\n",
      "23. k__Bacteria;p__Proteobacteria;c__Gammaproteobacteria;o__Chromatiales\t0.016413413790870402\n",
      "24. k__Bacteria;p__Firmicutes;c__Bacilli;o__Gemellales\t0.016403207733957263\n",
      "25. k__Bacteria;p__Firmicutes;c__Clostridia;o__Clostridiales\t0.015819114241489036\n"
     ]
    }
   ],
   "source": [
    "importances = bone_summer_L4.feature_importances_\n",
    "std = np.std([tree.feature_importances_ for tree in bone_summer_L4.estimators_],\n",
    "             axis=0)\n",
    "indices = np.argsort(importances)[::-1]\n",
    "\n",
    "feature_metadata = Summer_L4.feature_metadata\n",
    "np.savetxt(\"importances/bone_summer_L4_no_metadata_features.csv\", feature_metadata, delimiter=\",\", fmt='%s')\n",
    "\n",
    "\n",
    "#print the important ids in order\n",
    "general_importances = []\n",
    "count = 0\n",
    "print(\"Feature:\\t\\t\\t\\tImportance:\")\n",
    "for i in indices:\n",
    "    general_importances += (Summer_L4.feature_metadata.index.values[i], importances[indices[count]])\n",
    "    if count < 25:\n",
    "        print(str(count+1)+\". \"+str(Summer_L4.feature_metadata.index.values[i])+\"\\t\"+str(importances[indices[count]]))\n",
    "    count += 1\n",
    "    \n",
    "general_importances_df = pd.DataFrame(np.array(general_importances).reshape(258,1))\n",
    "\n",
    "np.savetxt(\"importances/bone_summer_L4_no_features_importances.csv\", general_importances_df, delimiter=\",\", fmt='%s')"
   ]
  },
  {
   "cell_type": "markdown",
   "metadata": {},
   "source": [
    "## Import rarefied table collapsed at level 3"
   ]
  },
  {
   "cell_type": "code",
   "execution_count": 21,
   "metadata": {},
   "outputs": [
    {
     "name": "stdout",
     "output_type": "stream",
     "text": [
      "2021-06-01 13:31:43 WARNING These have metadata but do not have data - dropped (51): {'11553.CSU.extraction.blank11', '11553.BLANKrib.10H', '11553.SHSU.STAFS2016.011.L09', '11553.BLANKrib.9D', '11553.BLANKrib.12B', '11553.BLANKrib.9F', '11553.CSU.extraction.blank12', '11553.CSU.extraction.blank13', '11553.BLANKrib.12H', '11553.BLANKrib.10F', '11553.CSU.extraction.blank1', '11553.CSU.extraction.blank14', '11553.CSU.extraction.blank10', '11553.CSU.extraction.blank4', '11553.BLANKrib.11F', '11553.BLANKrib.12D', '11553.BLANKrib.10D', '11553.BLANKrib.11B', '11553.BLANKrib.12F', '11553.BLANKrib.9C', '11553.CSU.extraction.blank8', '11553.CSU.extraction.blank5', '11553.BLANKrib.12G', '11553.BLANKrib.9A', '11553.BLANKrib.11G', '11553.BLANKrib.10A', '11553.BLANKrib.11C', '11553.BLANKrib.9E', '11553.CSU.extraction.blank6', '11553.BLANKrib.9B', '11553.BLANKrib.10G', '11553.CSU.extraction.blank2', '11553.BLANKrib.10B', '11553.BLANKrib.11H', '11553.BLANKrib.12A', '11553.BLANKrib.10E', '11553.CSU.extraction.blank9', '11553.CSU.extraction.blank15', '11553.BLANKrib.10C', '11553.BLANKrib.12C', '11553.STAFS.2016.064.L12', '11553.BLANKrib.11D', '11553.SHSU.STAFS2016.007.R11', '11553.CSU.extraction.blank3', '11553.BLANKrib.11A', '11553.BLANKrib.12E', '11553.BLANKrib.11E', '11553.BLANKrib.9H', '11553.BLANKrib.5B', '11553.BLANKrib.9G', '11553.CSU.extraction.blank7'}\n"
     ]
    }
   ],
   "source": [
    "exp_L3 = ca.read_amplicon('/Users/heatherdeel/Dropbox/PMI_3_analyses/bone/01_16S/01_qiime2_analysis/feature_tables/collapsed_tables/frag_ins_noChloMito_17098_L3_table.biom', '/Users/heatherdeel/Dropbox/PMI_3_analyses/bone/01_16S/02_metadata/maps/map3.txt', min_reads=0, normalize = None)\n"
   ]
  },
  {
   "cell_type": "code",
   "execution_count": 22,
   "metadata": {},
   "outputs": [
    {
     "data": {
      "text/plain": [
       "STAFS2016.067    8\n",
       "STAFS2016.065    8\n",
       "STAFS2016.064    7\n",
       "Name: host_subject_id, dtype: int64"
      ]
     },
     "execution_count": 22,
     "metadata": {},
     "output_type": "execute_result"
    }
   ],
   "source": [
    "# filter to summer\n",
    "Summer_L3 = exp_L3.filter_samples('season', 'summer')\n",
    "Summer_L3.sample_metadata.host_subject_id.value_counts()"
   ]
  },
  {
   "cell_type": "code",
   "execution_count": 23,
   "metadata": {},
   "outputs": [
    {
     "name": "stdout",
     "output_type": "stream",
     "text": [
      "                                                                                          _feature_id\n",
      "k__Archaea;p__Crenarchaeota;c__Thaumarchaeota           k__Archaea;p__Crenarchaeota;c__Thaumarchaeota\n",
      "k__Archaea;p__Euryarchaeota;c__Methanobacteria         k__Archaea;p__Euryarchaeota;c__Methanobacteria\n",
      "k__Bacteria;__;__                                                                   k__Bacteria;__;__\n",
      "k__Bacteria;p__Acidobacteria;c__DA052                           k__Bacteria;p__Acidobacteria;c__DA052\n",
      "k__Bacteria;p__Acidobacteria;c__Solibacteres             k__Bacteria;p__Acidobacteria;c__Solibacteres\n",
      "k__Bacteria;p__Acidobacteria;c__[Chloracidobact...  k__Bacteria;p__Acidobacteria;c__[Chloracidobac...\n",
      "k__Bacteria;p__Actinobacteria;c__Acidimicrobiia       k__Bacteria;p__Actinobacteria;c__Acidimicrobiia\n",
      "k__Bacteria;p__Actinobacteria;c__Actinobacteria       k__Bacteria;p__Actinobacteria;c__Actinobacteria\n",
      "k__Bacteria;p__Actinobacteria;c__Coriobacteriia       k__Bacteria;p__Actinobacteria;c__Coriobacteriia\n",
      "k__Bacteria;p__Actinobacteria;c__Rubrobacteria         k__Bacteria;p__Actinobacteria;c__Rubrobacteria\n",
      "k__Bacteria;p__Actinobacteria;c__Thermoleophilia     k__Bacteria;p__Actinobacteria;c__Thermoleophilia\n",
      "k__Bacteria;p__Armatimonadetes;c__Armatimonadia       k__Bacteria;p__Armatimonadetes;c__Armatimonadia\n",
      "k__Bacteria;p__Armatimonadetes;c__SHA-37                     k__Bacteria;p__Armatimonadetes;c__SHA-37\n",
      "k__Bacteria;p__Armatimonadetes;c__SJA-176                   k__Bacteria;p__Armatimonadetes;c__SJA-176\n",
      "k__Bacteria;p__Armatimonadetes;c__[Fimbriimonadia]  k__Bacteria;p__Armatimonadetes;c__[Fimbriimona...\n",
      "k__Bacteria;p__BRC1;c__PRR-11                                           k__Bacteria;p__BRC1;c__PRR-11\n",
      "k__Bacteria;p__Bacteroidetes;c__Bacteroidia               k__Bacteria;p__Bacteroidetes;c__Bacteroidia\n",
      "k__Bacteria;p__Bacteroidetes;c__Cytophagia                 k__Bacteria;p__Bacteroidetes;c__Cytophagia\n",
      "k__Bacteria;p__Bacteroidetes;c__Flavobacteriia         k__Bacteria;p__Bacteroidetes;c__Flavobacteriia\n",
      "k__Bacteria;p__Bacteroidetes;c__Sphingobacteriia     k__Bacteria;p__Bacteroidetes;c__Sphingobacteriia\n",
      "k__Bacteria;p__Bacteroidetes;c__[Saprospirae]           k__Bacteria;p__Bacteroidetes;c__[Saprospirae]\n",
      "k__Bacteria;p__Chlorobi;c__OPB56                                     k__Bacteria;p__Chlorobi;c__OPB56\n",
      "k__Bacteria;p__Chloroflexi;c__Chloroflexi                   k__Bacteria;p__Chloroflexi;c__Chloroflexi\n",
      "k__Bacteria;p__Chloroflexi;c__Ellin6529                       k__Bacteria;p__Chloroflexi;c__Ellin6529\n",
      "k__Bacteria;p__Chloroflexi;c__Thermomicrobia             k__Bacteria;p__Chloroflexi;c__Thermomicrobia\n",
      "k__Bacteria;p__Cyanobacteria;c__4C0d-2                         k__Bacteria;p__Cyanobacteria;c__4C0d-2\n",
      "k__Bacteria;p__Cyanobacteria;c__ML635J-21                   k__Bacteria;p__Cyanobacteria;c__ML635J-21\n",
      "k__Bacteria;p__Cyanobacteria;c__Oscillatoriophy...  k__Bacteria;p__Cyanobacteria;c__Oscillatorioph...\n",
      "k__Bacteria;p__Deferribacteres;c__Deferribacteres   k__Bacteria;p__Deferribacteres;c__Deferribacteres\n",
      "k__Bacteria;p__FBP;c__                                                         k__Bacteria;p__FBP;c__\n",
      "k__Bacteria;p__Firmicutes;c__AHT28                                 k__Bacteria;p__Firmicutes;c__AHT28\n",
      "k__Bacteria;p__Firmicutes;c__Bacilli                             k__Bacteria;p__Firmicutes;c__Bacilli\n",
      "k__Bacteria;p__Firmicutes;c__Clostridia                       k__Bacteria;p__Firmicutes;c__Clostridia\n",
      "k__Bacteria;p__Firmicutes;c__Erysipelotrichi             k__Bacteria;p__Firmicutes;c__Erysipelotrichi\n",
      "k__Bacteria;p__Fusobacteria;c__Fusobacteriia             k__Bacteria;p__Fusobacteria;c__Fusobacteriia\n",
      "k__Bacteria;p__GN02;c__BD1-5                                             k__Bacteria;p__GN02;c__BD1-5\n",
      "k__Bacteria;p__Gemmatimonadetes;c__Gemm-3                   k__Bacteria;p__Gemmatimonadetes;c__Gemm-3\n",
      "k__Bacteria;p__Gemmatimonadetes;c__Gemmatimonad...  k__Bacteria;p__Gemmatimonadetes;c__Gemmatimona...\n",
      "k__Bacteria;p__OD1;c__SM2F11                                             k__Bacteria;p__OD1;c__SM2F11\n",
      "k__Bacteria;p__OP11;c__                                                       k__Bacteria;p__OP11;c__\n",
      "k__Bacteria;p__OP11;c__OP11-2                                           k__Bacteria;p__OP11;c__OP11-2\n",
      "k__Bacteria;p__Planctomycetes;c__Phycisphaerae         k__Bacteria;p__Planctomycetes;c__Phycisphaerae\n",
      "k__Bacteria;p__Planctomycetes;c__Planctomycetia       k__Bacteria;p__Planctomycetes;c__Planctomycetia\n",
      "k__Bacteria;p__Planctomycetes;c__vadinHA49                 k__Bacteria;p__Planctomycetes;c__vadinHA49\n",
      "k__Bacteria;p__Proteobacteria;c__                                   k__Bacteria;p__Proteobacteria;c__\n",
      "k__Bacteria;p__Proteobacteria;c__Alphaproteobac...  k__Bacteria;p__Proteobacteria;c__Alphaproteoba...\n",
      "k__Bacteria;p__Proteobacteria;c__Betaproteobact...  k__Bacteria;p__Proteobacteria;c__Betaproteobac...\n",
      "k__Bacteria;p__Proteobacteria;c__Deltaproteobac...  k__Bacteria;p__Proteobacteria;c__Deltaproteoba...\n",
      "k__Bacteria;p__Proteobacteria;c__Epsilonproteob...  k__Bacteria;p__Proteobacteria;c__Epsilonproteo...\n",
      "k__Bacteria;p__Proteobacteria;c__Gammaproteobac...  k__Bacteria;p__Proteobacteria;c__Gammaproteoba...\n",
      "k__Bacteria;p__Spirochaetes;c__Spirochaetes               k__Bacteria;p__Spirochaetes;c__Spirochaetes\n",
      "k__Bacteria;p__Synergistetes;c__Synergistia               k__Bacteria;p__Synergistetes;c__Synergistia\n",
      "k__Bacteria;p__TM6;c__SJA-4                                               k__Bacteria;p__TM6;c__SJA-4\n",
      "k__Bacteria;p__TM7;c__                                                         k__Bacteria;p__TM7;c__\n",
      "k__Bacteria;p__TM7;c__TM7-1                                               k__Bacteria;p__TM7;c__TM7-1\n",
      "k__Bacteria;p__TM7;c__TM7-3                                               k__Bacteria;p__TM7;c__TM7-3\n",
      "k__Bacteria;p__Tenericutes;c__Mollicutes                     k__Bacteria;p__Tenericutes;c__Mollicutes\n",
      "k__Bacteria;p__Verrucomicrobia;c__Opitutae                 k__Bacteria;p__Verrucomicrobia;c__Opitutae\n",
      "k__Bacteria;p__Verrucomicrobia;c__Verrucomicrobiae  k__Bacteria;p__Verrucomicrobia;c__Verrucomicro...\n",
      "k__Bacteria;p__Verrucomicrobia;c__[Spartobacteria]  k__Bacteria;p__Verrucomicrobia;c__[Spartobacte...\n",
      "k__Bacteria;p__WPS-2;c__                                                     k__Bacteria;p__WPS-2;c__\n",
      "k__Bacteria;p__[Thermi];c__Deinococci                           k__Bacteria;p__[Thermi];c__Deinococci\n"
     ]
    }
   ],
   "source": [
    "print(Summer_L3.feature_metadata)"
   ]
  },
  {
   "cell_type": "markdown",
   "metadata": {},
   "source": [
    "## Summer L3 modeling"
   ]
  },
  {
   "cell_type": "code",
   "execution_count": 24,
   "metadata": {},
   "outputs": [],
   "source": [
    "# groupKfold = 3, will leave out one body for each spring model\n",
    "gkf = GroupKFold(3)\n",
    "\n",
    "X = Summer_L3.data\n",
    "y = Summer_L3.sample_metadata['ADD_0']\n",
    "y = (y.astype(float))\n",
    "\n",
    "groups = Summer_L3.sample_metadata['host_subject_id']\n",
    "\n",
    "# used to test the param grid for parameter tuning\n",
    "# use the output of this estimator below for input into new estimator (not commented out)\n",
    "#param_grid = {\"max_depth\": [4, 8, 16, None],\n",
    "#              \"max_features\": ['sqrt', 'log2', 0.1],\n",
    "#              \"min_samples_split\": [0.001, 0.01, 0.1],\n",
    "#              \"min_weight_fraction_leaf\": [0.0001, 0.001, 0.01],\n",
    "#              \"bootstrap\": [True, False]}\n",
    "\n",
    "param_grid = {\"max_depth\": [8],\n",
    "          \"max_features\": [0.1],\n",
    "          \"min_samples_split\": [0.001],\n",
    "          \"min_weight_fraction_leaf\": [0.0001],\n",
    "          \"bootstrap\": [False]}\n",
    "\n",
    "rf = RandomForestRegressor(n_estimators=1000, random_state=999, criterion='mae')\n",
    "gs = GridSearchCV(rf, param_grid=param_grid, cv=gkf.split(X, y, groups), scoring='neg_mean_absolute_error', n_jobs=1)"
   ]
  },
  {
   "cell_type": "code",
   "execution_count": 25,
   "metadata": {},
   "outputs": [
    {
     "data": {
      "text/plain": [
       "GridSearchCV(cv=<generator object _BaseKFold.split at 0x7fde460e2850>,\n",
       "             error_score=nan,\n",
       "             estimator=RandomForestRegressor(bootstrap=True, ccp_alpha=0.0,\n",
       "                                             criterion='mae', max_depth=None,\n",
       "                                             max_features='auto',\n",
       "                                             max_leaf_nodes=None,\n",
       "                                             max_samples=None,\n",
       "                                             min_impurity_decrease=0.0,\n",
       "                                             min_impurity_split=None,\n",
       "                                             min_samples_leaf=1,\n",
       "                                             min_samples_split=2,\n",
       "                                             min_weight_fraction_leaf=0.0,\n",
       "                                             n...imators=1000, n_jobs=None,\n",
       "                                             oob_score=False, random_state=999,\n",
       "                                             verbose=0, warm_start=False),\n",
       "             iid='deprecated', n_jobs=1,\n",
       "             param_grid={'bootstrap': [False], 'max_depth': [8],\n",
       "                         'max_features': [0.1], 'min_samples_split': [0.001],\n",
       "                         'min_weight_fraction_leaf': [0.0001]},\n",
       "             pre_dispatch='2*n_jobs', refit=True, return_train_score=False,\n",
       "             scoring='neg_mean_absolute_error', verbose=0)"
      ]
     },
     "execution_count": 25,
     "metadata": {},
     "output_type": "execute_result"
    }
   ],
   "source": [
    "gs.fit(X, y)"
   ]
  },
  {
   "cell_type": "code",
   "execution_count": 26,
   "metadata": {},
   "outputs": [
    {
     "name": "stdout",
     "output_type": "stream",
     "text": [
      "{'bootstrap': False, 'max_depth': 8, 'max_features': 0.1, 'min_samples_split': 0.001, 'min_weight_fraction_leaf': 0.0001}\n"
     ]
    }
   ],
   "source": [
    "# this line is used when run with the first param grid to determine what the best parameters are for tuning\n",
    "print(gs.best_params_)"
   ]
  },
  {
   "cell_type": "code",
   "execution_count": 27,
   "metadata": {},
   "outputs": [
    {
     "name": "stdout",
     "output_type": "stream",
     "text": [
      "The best mean absolute error is 853.38\n"
     ]
    }
   ],
   "source": [
    "print('The best mean absolute error is', round(-gs.best_score_,2))"
   ]
  },
  {
   "cell_type": "code",
   "execution_count": 28,
   "metadata": {},
   "outputs": [
    {
     "data": {
      "text/plain": [
       "['models/bone_summer_L3_no_metadata.pkl']"
      ]
     },
     "execution_count": 28,
     "metadata": {},
     "output_type": "execute_result"
    }
   ],
   "source": [
    "joblib.dump(gs.best_estimator_, 'models/bone_summer_L3_no_metadata.pkl')"
   ]
  },
  {
   "cell_type": "code",
   "execution_count": 29,
   "metadata": {},
   "outputs": [
    {
     "data": {
      "text/plain": [
       "RandomForestRegressor(bootstrap=False, ccp_alpha=0.0, criterion='mae',\n",
       "                      max_depth=8, max_features=0.1, max_leaf_nodes=None,\n",
       "                      max_samples=None, min_impurity_decrease=0.0,\n",
       "                      min_impurity_split=None, min_samples_leaf=1,\n",
       "                      min_samples_split=0.001, min_weight_fraction_leaf=0.0001,\n",
       "                      n_estimators=1000, n_jobs=None, oob_score=False,\n",
       "                      random_state=999, verbose=0, warm_start=False)"
      ]
     },
     "execution_count": 29,
     "metadata": {},
     "output_type": "execute_result"
    }
   ],
   "source": [
    "bone_summer_L3 = joblib.load('models/bone_summer_L3_no_metadata.pkl')\n",
    "bone_summer_L3"
   ]
  },
  {
   "cell_type": "markdown",
   "metadata": {},
   "source": [
    "## Determine important features of summer L3 model"
   ]
  },
  {
   "cell_type": "code",
   "execution_count": 69,
   "metadata": {},
   "outputs": [
    {
     "name": "stdout",
     "output_type": "stream",
     "text": [
      "Feature:\t\t\t\tImportance:\n",
      "1. k__Bacteria;p__Proteobacteria;c__Alphaproteobacteria\t0.07929831389694235\n",
      "2. k__Bacteria;p__Actinobacteria;c__Thermoleophilia\t0.06651285742817459\n",
      "3. k__Bacteria;p__Verrucomicrobia;c__[Spartobacteria]\t0.05466499984212487\n",
      "4. k__Bacteria;p__Bacteroidetes;c__Flavobacteriia\t0.05242951547689456\n",
      "5. k__Bacteria;p__Actinobacteria;c__Acidimicrobiia\t0.05185902601489251\n",
      "6. k__Bacteria;p__Planctomycetes;c__Planctomycetia\t0.05034574657113114\n",
      "7. k__Bacteria;p__Bacteroidetes;c__Sphingobacteriia\t0.04949065850050336\n",
      "8. k__Bacteria;p__Bacteroidetes;c__[Saprospirae]\t0.044200862363166185\n",
      "9. k__Bacteria;p__Proteobacteria;c__Deltaproteobacteria\t0.03703220952472006\n",
      "10. k__Bacteria;p__Proteobacteria;c__Betaproteobacteria\t0.03549949983034941\n",
      "11. k__Bacteria;p__Chloroflexi;c__Thermomicrobia\t0.03142125767802066\n",
      "12. k__Bacteria;p__Fusobacteria;c__Fusobacteriia\t0.03138290061676391\n",
      "13. k__Bacteria;p__Firmicutes;c__Clostridia\t0.0299922066244084\n",
      "14. k__Bacteria;p__Firmicutes;c__Bacilli\t0.02823518689041685\n",
      "15. k__Bacteria;p__Acidobacteria;c__Solibacteres\t0.028033851287008398\n",
      "16. k__Bacteria;p__Gemmatimonadetes;c__Gemmatimonadetes\t0.027318102808171405\n",
      "17. k__Bacteria;p__Bacteroidetes;c__Bacteroidia\t0.02723947219279096\n",
      "18. k__Bacteria;p__Actinobacteria;c__Actinobacteria\t0.026304951456106448\n",
      "19. k__Bacteria;p__Proteobacteria;c__Gammaproteobacteria\t0.02610555373976486\n",
      "20. k__Bacteria;p__Bacteroidetes;c__Cytophagia\t0.024090008996082928\n",
      "21. k__Bacteria;p__Verrucomicrobia;c__Verrucomicrobiae\t0.020787214287887483\n",
      "22. k__Bacteria;p__Firmicutes;c__Erysipelotrichi\t0.020170682816580195\n",
      "23. k__Bacteria;p__FBP;c__\t0.01889294850556679\n",
      "24. k__Bacteria;p__BRC1;c__PRR-11\t0.01877136546187658\n",
      "25. k__Bacteria;p__[Thermi];c__Deinococci\t0.018382789551787744\n"
     ]
    }
   ],
   "source": [
    "importances = bone_summer_L3.feature_importances_\n",
    "std = np.std([tree.feature_importances_ for tree in bone_summer_L3.estimators_],\n",
    "             axis=0)\n",
    "indices = np.argsort(importances)[::-1]\n",
    "\n",
    "feature_metadata = Summer_L3.feature_metadata\n",
    "np.savetxt(\"importances/bone_summer_L3_no_metadata_features.csv\", feature_metadata, delimiter=\",\", fmt='%s')\n",
    "\n",
    "\n",
    "#print the important ids in order\n",
    "general_importances = []\n",
    "count = 0\n",
    "print(\"Feature:\\t\\t\\t\\tImportance:\")\n",
    "for i in indices:\n",
    "    general_importances += (Summer_L3.feature_metadata.index.values[i], importances[indices[count]])\n",
    "    if count < 25:\n",
    "        print(str(count+1)+\". \"+str(Summer_L3.feature_metadata.index.values[i])+\"\\t\"+str(importances[indices[count]]))\n",
    "    count += 1\n",
    "    \n",
    "general_importances_df = pd.DataFrame(np.array(general_importances).reshape(124,1))\n",
    "\n",
    "np.savetxt(\"importances/bone_summer_L3_no_features_importances.csv\", general_importances_df, delimiter=\",\", fmt='%s')"
   ]
  },
  {
   "cell_type": "markdown",
   "metadata": {},
   "source": [
    "## Import rarefied table collapsed at level 2"
   ]
  },
  {
   "cell_type": "code",
   "execution_count": 30,
   "metadata": {},
   "outputs": [
    {
     "name": "stdout",
     "output_type": "stream",
     "text": [
      "2021-06-01 13:33:06 WARNING These have metadata but do not have data - dropped (51): {'11553.CSU.extraction.blank11', '11553.BLANKrib.10H', '11553.SHSU.STAFS2016.011.L09', '11553.BLANKrib.9D', '11553.BLANKrib.12B', '11553.BLANKrib.9F', '11553.CSU.extraction.blank12', '11553.CSU.extraction.blank13', '11553.BLANKrib.12H', '11553.BLANKrib.10F', '11553.CSU.extraction.blank1', '11553.CSU.extraction.blank14', '11553.CSU.extraction.blank10', '11553.CSU.extraction.blank4', '11553.BLANKrib.11F', '11553.BLANKrib.12D', '11553.BLANKrib.10D', '11553.BLANKrib.11B', '11553.BLANKrib.12F', '11553.BLANKrib.9C', '11553.CSU.extraction.blank8', '11553.CSU.extraction.blank5', '11553.BLANKrib.12G', '11553.BLANKrib.9A', '11553.BLANKrib.11G', '11553.BLANKrib.10A', '11553.BLANKrib.11C', '11553.BLANKrib.9E', '11553.CSU.extraction.blank6', '11553.BLANKrib.9B', '11553.BLANKrib.10G', '11553.CSU.extraction.blank2', '11553.BLANKrib.10B', '11553.BLANKrib.11H', '11553.BLANKrib.12A', '11553.BLANKrib.10E', '11553.CSU.extraction.blank9', '11553.CSU.extraction.blank15', '11553.BLANKrib.10C', '11553.BLANKrib.12C', '11553.STAFS.2016.064.L12', '11553.BLANKrib.11D', '11553.SHSU.STAFS2016.007.R11', '11553.CSU.extraction.blank3', '11553.BLANKrib.11A', '11553.BLANKrib.12E', '11553.BLANKrib.11E', '11553.BLANKrib.9H', '11553.BLANKrib.5B', '11553.BLANKrib.9G', '11553.CSU.extraction.blank7'}\n"
     ]
    }
   ],
   "source": [
    "exp_L2 = ca.read_amplicon('/Users/heatherdeel/Dropbox/PMI_3_analyses/bone/01_16S/01_qiime2_analysis/feature_tables/collapsed_tables/frag_ins_noChloMito_17098_L2_table.biom', '../02_metadata/maps/map3.txt', min_reads=0, normalize = None)\n"
   ]
  },
  {
   "cell_type": "code",
   "execution_count": 31,
   "metadata": {},
   "outputs": [
    {
     "data": {
      "text/plain": [
       "STAFS2016.067    8\n",
       "STAFS2016.065    8\n",
       "STAFS2016.064    7\n",
       "Name: host_subject_id, dtype: int64"
      ]
     },
     "execution_count": 31,
     "metadata": {},
     "output_type": "execute_result"
    }
   ],
   "source": [
    "# filter to summer\n",
    "Summer_L2 = exp_L2.filter_samples('season', 'summer')\n",
    "Summer_L2.sample_metadata.host_subject_id.value_counts()"
   ]
  },
  {
   "cell_type": "code",
   "execution_count": 32,
   "metadata": {},
   "outputs": [
    {
     "name": "stdout",
     "output_type": "stream",
     "text": [
      "                                                     _feature_id\n",
      "k__Archaea;p__Crenarchaeota          k__Archaea;p__Crenarchaeota\n",
      "k__Archaea;p__Euryarchaeota          k__Archaea;p__Euryarchaeota\n",
      "k__Bacteria;__                                    k__Bacteria;__\n",
      "k__Bacteria;p__Acidobacteria        k__Bacteria;p__Acidobacteria\n",
      "k__Bacteria;p__Actinobacteria      k__Bacteria;p__Actinobacteria\n",
      "k__Bacteria;p__Armatimonadetes    k__Bacteria;p__Armatimonadetes\n",
      "k__Bacteria;p__BRC1                          k__Bacteria;p__BRC1\n",
      "k__Bacteria;p__Bacteroidetes        k__Bacteria;p__Bacteroidetes\n",
      "k__Bacteria;p__Chlorobi                  k__Bacteria;p__Chlorobi\n",
      "k__Bacteria;p__Chloroflexi            k__Bacteria;p__Chloroflexi\n",
      "k__Bacteria;p__Cyanobacteria        k__Bacteria;p__Cyanobacteria\n",
      "k__Bacteria;p__Deferribacteres    k__Bacteria;p__Deferribacteres\n",
      "k__Bacteria;p__FBP                            k__Bacteria;p__FBP\n",
      "k__Bacteria;p__Firmicutes              k__Bacteria;p__Firmicutes\n",
      "k__Bacteria;p__Fusobacteria          k__Bacteria;p__Fusobacteria\n",
      "k__Bacteria;p__GN02                          k__Bacteria;p__GN02\n",
      "k__Bacteria;p__Gemmatimonadetes  k__Bacteria;p__Gemmatimonadetes\n",
      "k__Bacteria;p__OD1                            k__Bacteria;p__OD1\n",
      "k__Bacteria;p__OP11                          k__Bacteria;p__OP11\n",
      "k__Bacteria;p__Planctomycetes      k__Bacteria;p__Planctomycetes\n",
      "k__Bacteria;p__Proteobacteria      k__Bacteria;p__Proteobacteria\n",
      "k__Bacteria;p__Spirochaetes          k__Bacteria;p__Spirochaetes\n",
      "k__Bacteria;p__Synergistetes        k__Bacteria;p__Synergistetes\n",
      "k__Bacteria;p__TM6                            k__Bacteria;p__TM6\n",
      "k__Bacteria;p__TM7                            k__Bacteria;p__TM7\n",
      "k__Bacteria;p__Tenericutes            k__Bacteria;p__Tenericutes\n",
      "k__Bacteria;p__Verrucomicrobia    k__Bacteria;p__Verrucomicrobia\n",
      "k__Bacteria;p__WPS-2                        k__Bacteria;p__WPS-2\n",
      "k__Bacteria;p__[Thermi]                  k__Bacteria;p__[Thermi]\n"
     ]
    }
   ],
   "source": [
    "print(Summer_L2.feature_metadata)"
   ]
  },
  {
   "cell_type": "markdown",
   "metadata": {},
   "source": [
    "## Summer L2 modeling"
   ]
  },
  {
   "cell_type": "code",
   "execution_count": 33,
   "metadata": {},
   "outputs": [],
   "source": [
    "# groupKfold = 3, will leave out one body for each spring model\n",
    "gkf = GroupKFold(3)\n",
    "\n",
    "X = Summer_L2.data\n",
    "y = Summer_L2.sample_metadata['ADD_0']\n",
    "y = (y.astype(float))\n",
    "\n",
    "groups = Summer_L2.sample_metadata['host_subject_id']\n",
    "\n",
    "# used to test the param grid for parameter tuning\n",
    "# use the output of this estimator below for input into new estimator (not commented out)\n",
    "#param_grid = {\"max_depth\": [4, 8, 16, None],\n",
    "#              \"max_features\": ['sqrt', 'log2', 0.1],\n",
    "#              \"min_samples_split\": [0.001, 0.01, 0.1],\n",
    "#              \"min_weight_fraction_leaf\": [0.0001, 0.001, 0.01],\n",
    "#              \"bootstrap\": [True, False]}\n",
    "\n",
    "param_grid = {\"max_depth\": [16],\n",
    "          \"max_features\": ['log2'],\n",
    "          \"min_samples_split\": [0.001],\n",
    "          \"min_weight_fraction_leaf\": [0.0001],\n",
    "          \"bootstrap\": [False]}\n",
    "\n",
    "rf = RandomForestRegressor(n_estimators=1000, random_state=999, criterion='mae')\n",
    "gs = GridSearchCV(rf, param_grid=param_grid, cv=gkf.split(X, y, groups), scoring='neg_mean_absolute_error', n_jobs=1)"
   ]
  },
  {
   "cell_type": "code",
   "execution_count": 34,
   "metadata": {},
   "outputs": [
    {
     "data": {
      "text/plain": [
       "GridSearchCV(cv=<generator object _BaseKFold.split at 0x7fde460033d0>,\n",
       "             error_score=nan,\n",
       "             estimator=RandomForestRegressor(bootstrap=True, ccp_alpha=0.0,\n",
       "                                             criterion='mae', max_depth=None,\n",
       "                                             max_features='auto',\n",
       "                                             max_leaf_nodes=None,\n",
       "                                             max_samples=None,\n",
       "                                             min_impurity_decrease=0.0,\n",
       "                                             min_impurity_split=None,\n",
       "                                             min_samples_leaf=1,\n",
       "                                             min_samples_split=2,\n",
       "                                             min_weight_fraction_leaf=0.0,\n",
       "                                             n...ors=1000, n_jobs=None,\n",
       "                                             oob_score=False, random_state=999,\n",
       "                                             verbose=0, warm_start=False),\n",
       "             iid='deprecated', n_jobs=1,\n",
       "             param_grid={'bootstrap': [False], 'max_depth': [16],\n",
       "                         'max_features': ['log2'], 'min_samples_split': [0.001],\n",
       "                         'min_weight_fraction_leaf': [0.0001]},\n",
       "             pre_dispatch='2*n_jobs', refit=True, return_train_score=False,\n",
       "             scoring='neg_mean_absolute_error', verbose=0)"
      ]
     },
     "execution_count": 34,
     "metadata": {},
     "output_type": "execute_result"
    }
   ],
   "source": [
    "gs.fit(X, y)"
   ]
  },
  {
   "cell_type": "code",
   "execution_count": 35,
   "metadata": {},
   "outputs": [
    {
     "name": "stdout",
     "output_type": "stream",
     "text": [
      "{'bootstrap': False, 'max_depth': 16, 'max_features': 'log2', 'min_samples_split': 0.001, 'min_weight_fraction_leaf': 0.0001}\n"
     ]
    }
   ],
   "source": [
    "# this line is used when run with the first param grid to determine what the best parameters are for tuning\n",
    "print(gs.best_params_)"
   ]
  },
  {
   "cell_type": "code",
   "execution_count": 36,
   "metadata": {},
   "outputs": [
    {
     "name": "stdout",
     "output_type": "stream",
     "text": [
      "The best mean absolute error is 778.17\n"
     ]
    }
   ],
   "source": [
    "print('The best mean absolute error is', round(-gs.best_score_,2))"
   ]
  },
  {
   "cell_type": "code",
   "execution_count": 77,
   "metadata": {},
   "outputs": [
    {
     "data": {
      "text/plain": [
       "['models/bone_summer_L2_no_metadata.pkl']"
      ]
     },
     "execution_count": 77,
     "metadata": {},
     "output_type": "execute_result"
    }
   ],
   "source": [
    "joblib.dump(gs.best_estimator_, 'models/bone_summer_L2_no_metadata.pkl')"
   ]
  },
  {
   "cell_type": "code",
   "execution_count": 78,
   "metadata": {},
   "outputs": [
    {
     "data": {
      "text/plain": [
       "RandomForestRegressor(bootstrap=True, ccp_alpha=0.0, criterion='mae',\n",
       "                      max_depth=16, max_features='log2', max_leaf_nodes=None,\n",
       "                      max_samples=None, min_impurity_decrease=0.0,\n",
       "                      min_impurity_split=None, min_samples_leaf=1,\n",
       "                      min_samples_split=0.001, min_weight_fraction_leaf=0.0001,\n",
       "                      n_estimators=1000, n_jobs=None, oob_score=False,\n",
       "                      random_state=999, verbose=0, warm_start=False)"
      ]
     },
     "execution_count": 78,
     "metadata": {},
     "output_type": "execute_result"
    }
   ],
   "source": [
    "bone_summer_L2 = joblib.load('models/bone_summer_L2_no_metadata.pkl')\n",
    "bone_summer_L2"
   ]
  },
  {
   "cell_type": "markdown",
   "metadata": {},
   "source": [
    "## Determine important features of summer L2 model"
   ]
  },
  {
   "cell_type": "code",
   "execution_count": 79,
   "metadata": {},
   "outputs": [
    {
     "name": "stdout",
     "output_type": "stream",
     "text": [
      "Feature:\t\t\t\tImportance:\n",
      "1. k__Bacteria;p__Verrucomicrobia\t0.11302707395665576\n",
      "2. k__Bacteria;p__Bacteroidetes\t0.11087063889610961\n",
      "3. k__Bacteria;p__Planctomycetes\t0.09218155827219474\n",
      "4. k__Bacteria;p__Chloroflexi\t0.07972517911974596\n",
      "5. k__Bacteria;p__Proteobacteria\t0.073166346704778\n",
      "6. k__Bacteria;p__Firmicutes\t0.06769671381101959\n",
      "7. k__Bacteria;p__Fusobacteria\t0.06009915672337473\n",
      "8. k__Bacteria;p__Actinobacteria\t0.05922858771220375\n",
      "9. k__Bacteria;p__Gemmatimonadetes\t0.048902943795039115\n",
      "10. k__Bacteria;p__FBP\t0.03940457445530486\n",
      "11. k__Bacteria;p__BRC1\t0.036401595000867225\n",
      "12. k__Bacteria;p__[Thermi]\t0.036196602508893366\n",
      "13. k__Bacteria;p__Acidobacteria\t0.035618782115436586\n",
      "14. k__Bacteria;p__TM7\t0.03505468807333406\n",
      "15. k__Bacteria;p__Tenericutes\t0.022797329658920753\n",
      "16. k__Bacteria;p__Armatimonadetes\t0.021541747266305263\n",
      "17. k__Bacteria;p__Chlorobi\t0.016164648530056273\n",
      "18. k__Bacteria;p__Cyanobacteria\t0.014061163094108611\n",
      "19. k__Bacteria;p__Synergistetes\t0.010716159870423021\n",
      "20. k__Archaea;p__Euryarchaeota\t0.007142634272742406\n",
      "21. k__Bacteria;p__OP11\t0.007118737743824079\n",
      "22. k__Bacteria;__\t0.0038396641501849097\n",
      "23. k__Bacteria;p__WPS-2\t0.0032108397290977796\n",
      "24. k__Bacteria;p__TM6\t0.0031627551610972386\n",
      "25. k__Archaea;p__Crenarchaeota\t0.00266987937828247\n"
     ]
    }
   ],
   "source": [
    "importances = bone_summer_L2.feature_importances_\n",
    "std = np.std([tree.feature_importances_ for tree in bone_summer_L2.estimators_],\n",
    "             axis=0)\n",
    "indices = np.argsort(importances)[::-1]\n",
    "\n",
    "feature_metadata = Summer_L2.feature_metadata\n",
    "np.savetxt(\"importances/bone_summer_L2_no_metadata_features.csv\", feature_metadata, delimiter=\",\", fmt='%s')\n",
    "\n",
    "\n",
    "#print the important ids in order\n",
    "general_importances = []\n",
    "count = 0\n",
    "print(\"Feature:\\t\\t\\t\\tImportance:\")\n",
    "for i in indices:\n",
    "    general_importances += (Summer_L2.feature_metadata.index.values[i], importances[indices[count]])\n",
    "    if count < 25:\n",
    "        print(str(count+1)+\". \"+str(Summer_L2.feature_metadata.index.values[i])+\"\\t\"+str(importances[indices[count]]))\n",
    "    count += 1\n",
    "    \n",
    "general_importances_df = pd.DataFrame(np.array(general_importances).reshape(58,1))\n",
    "\n",
    "np.savetxt(\"importances/bone_summer_L2_no_features_importances.csv\", general_importances_df, delimiter=\",\", fmt='%s')"
   ]
  },
  {
   "cell_type": "code",
   "execution_count": null,
   "metadata": {},
   "outputs": [],
   "source": []
  }
 ],
 "metadata": {
  "kernelspec": {
   "display_name": "Python 3",
   "language": "python",
   "name": "python3"
  },
  "language_info": {
   "codemirror_mode": {
    "name": "ipython",
    "version": 3
   },
   "file_extension": ".py",
   "mimetype": "text/x-python",
   "name": "python",
   "nbconvert_exporter": "python",
   "pygments_lexer": "ipython3",
   "version": "3.7.7"
  }
 },
 "nbformat": 4,
 "nbformat_minor": 2
}
